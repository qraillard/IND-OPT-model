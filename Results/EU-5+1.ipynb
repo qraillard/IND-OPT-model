{
 "cells": [
  {
   "cell_type": "code",
   "execution_count": 239,
   "id": "8f5ddcc1",
   "metadata": {},
   "outputs": [],
   "source": [
    "import pandas as pd\n",
    "import numpy as np\n",
    "import pickle\n",
    "import matplotlib.pyplot as plt\n",
    "import seaborn as sns\n",
    "import plotly.express as px\n",
    "import plotly.graph_objects as go\n",
    "from plotly.subplots import make_subplots"
   ]
  },
  {
   "cell_type": "code",
   "execution_count": 240,
   "id": "ef2faca8",
   "metadata": {},
   "outputs": [],
   "source": [
    "scen={}\n",
    "scen_name={'':\"Reference\",'_zero_fossil_2050':\"Fossil phase-out\",'_high_elec_price':\"High electricity price\"}\n",
    "\n",
    "\n",
    "primary_resource_conversion={\"Hydrogen\":33.3,\"Gas\":13.1,\"Coal\":8.06,\"Oil\":10.89,\"Biomass\":7.89,\"Electricity\":1,\"MeOH\":5.54,\"Waste\":4.72,\"Olefins\":5.78,\"Ammonia\":5.17,\"Naphtha\":12.47}\n",
    "primary_resource_color={\"Hydrogen\":\"cyan\",\"Gas\":\"purple\",\"Coal\":\"black\",\"Oil\":\"grey\",\"Biomass\":\"brown\",\"Electricity\":\"yellow\",\"MeOH\":\"red\",\"Waste\":\"green\",\"Olefins\":\"darkcyan\",\"Ammonia\":\"darksalmon\",\"Naphtha\":\"wheat\"}\n",
    "sector_color={\"Steel\":\"grey\",\"Chemistry\":\"pink\",\"Cement\":\"green\"}\n",
    "captured_emissions_sector_color={\"Steel\":\"black\",\"Chemistry\":\"purple\",\"Cement\":\"brown\"}\n",
    "\n",
    "\n",
    "for scenario in ['_high_elec_price','','_zero_fossil_2050']:\n",
    "    res={}\n",
    "    keys=[]\n",
    "    for sector in [\"Steel\",\"Chemistry\",\"Cement\"]:\n",
    "        with open('Result files/'+sector+'_results'+scenario+'.pickle', 'rb') as f:\n",
    "            res[sector]=pickle.load(f)\n",
    "            for key in res[sector].keys():\n",
    "                if key not in keys:\n",
    "                    keys.append(key)\n",
    "        f.close()\n",
    "\n",
    "    V={}\n",
    "    for key in keys:\n",
    "        if key=='tech_tech_type_combinations_parameters':\n",
    "            t_tt_c={}\n",
    "            for sector in [\"Steel\",\"Chemistry\",\"Cement\"]:\n",
    "                for tech in res[sector][key].keys():\n",
    "                    if tech not in t_tt_c.keys():\n",
    "                        t_tt_c[tech]=res[sector][key][tech]\n",
    "                    else:\n",
    "                        t_tt_c[tech]+=res[sector][key][tech]\n",
    "                        t_tt_c[tech]=list(set(t_tt_c[tech]))\n",
    "            V[key]=t_tt_c\n",
    "        elif key[:2]==\"V_\":\n",
    "            V[key]=res[\"Steel\"][key].reset_index()\n",
    "            for sector in [\"Chemistry\",\"Cement\"]:\n",
    "                V[key]=pd.concat([V[key],res[sector][key].reset_index()],ignore_index=True)\n",
    "        else:\n",
    "            pass\n",
    "\n",
    "    \n",
    "    resource_inflow=V[\"V_resource_inflow\"].rename(columns={\"level_0\":\"Resource\",\"level_1\":\"Sector\",\"level_2\":\"Country\",\"level_3\":\"Year\",0:\"Flow\"}).sort_values(by=\"Year\").groupby(by=[\"Resource\",\"Sector\",\"Country\",\"Year\"]).sum().reset_index()\n",
    "    u=resource_inflow.loc[resource_inflow.Resource.isin([\"Electricity\",\"Electricity_50%_LF\",\"Electricity_25%_LF\"])].drop(\"Resource\",axis=1).groupby(by=[\"Sector\",\"Country\",\"Year\"]).sum().reset_index()\n",
    "    u[\"Resource\"]=\"Electricity\"\n",
    "    resource_inflow.loc[~resource_inflow.Resource.isin([\"Electricity\",\"Electricity_50%_LF\",\"Electricity_25%_LF\"])]\n",
    "    resource_inflow=pd.concat([resource_inflow,u],ignore_index=True)\n",
    "\n",
    "    resource_outflow=V[\"V_resource_outflow\"].rename(columns={\"level_0\":\"Resource\",\"level_1\":\"Sector\",\"level_2\":\"Country\",\"level_3\":\"Year\",0:\"Flow\"}).sort_values(by=\"Year\").groupby(by=[\"Resource\",\"Sector\",\"Country\",\"Year\"]).sum().reset_index()\n",
    "    u=resource_outflow.loc[resource_outflow.Resource.isin([\"Electricity\",\"Electricity_50%_LF\",\"Electricity_25%_LF\"])].drop(\"Resource\",axis=1).groupby(by=[\"Sector\",\"Country\",\"Year\"]).sum().reset_index()\n",
    "    u[\"Resource\"]=\"Electricity\"\n",
    "    resource_outflow.loc[~resource_outflow.Resource.isin([\"Electricity\",\"Electricity_50%_LF\",\"Electricity_25%_LF\"])]\n",
    "    resource_outflow=pd.concat([resource_outflow,u],ignore_index=True)\n",
    "\n",
    "    resource_flow=V[\"V_resource_flow\"].rename(columns={\"level_0\":\"Resource\",\"level_1\":\"Sector\",\"level_2\":\"Country\",\"level_3\":\"Year\",0:\"Flow\"}).sort_values(by=\"Year\").groupby(by=[\"Resource\",\"Sector\",\"Country\",\"Year\"]).sum().reset_index()\n",
    "    u=resource_flow.loc[resource_flow.Resource.isin([\"Electricity\",\"Electricity_50%_LF\",\"Electricity_25%_LF\"])].drop(\"Resource\",axis=1).groupby(by=[\"Sector\",\"Country\",\"Year\"]).sum().reset_index()\n",
    "    u[\"Resource\"]=\"Electricity\"\n",
    "    resource_flow.loc[~resource_flow.Resource.isin([\"Electricity\",\"Electricity_50%_LF\",\"Electricity_25%_LF\"])]\n",
    "    resource_flow=pd.concat([resource_flow,u],ignore_index=True)\n",
    "\n",
    "    resource_tech_inflow=V[\"V_resource_tech_type_inflow\"].rename(columns={\"level_0\":\"Technology\",\"level_1\":\"Tech_type\",\"level_3\":\"Resource\",\"level_2\":\"Sector\",\"level_4\":\"Country\",\"level_5\":\"Year\",0:\"Flow\"}).sort_values(by=\"Year\").groupby(by=[\"Technology\",\"Tech_type\",\"Resource\",\"Sector\",\"Country\",\"Year\"]).sum().reset_index()\n",
    "    u=resource_tech_inflow.loc[resource_tech_inflow.Resource.isin([\"Electricity\",\"Electricity_50%_LF\",\"Electricity_25%_LF\"])].drop(\"Resource\",axis=1).groupby(by=[\"Technology\",\"Tech_type\",\"Sector\",\"Country\",\"Year\"]).sum().reset_index()\n",
    "    u[\"Resource\"]=\"Electricity\"\n",
    "    resource_tech_inflow.loc[~resource_tech_inflow.Resource.isin([\"Electricity\",\"Electricity_50%_LF\",\"Electricity_25%_LF\"])]\n",
    "    resource_tech_inflow=pd.concat([resource_tech_inflow,u],ignore_index=True)\n",
    "\n",
    "    resource_tech_outflow=V[\"V_resource_tech_type_outflow\"].rename(columns={\"level_0\":\"Technology\",\"level_1\":\"Tech_type\",\"level_3\":\"Resource\",\"level_2\":\"Sector\",\"level_4\":\"Country\",\"level_5\":\"Year\",0:\"Flow\"}).sort_values(by=\"Year\").groupby(by=[\"Technology\",\"Tech_type\",\"Resource\",\"Sector\",\"Country\",\"Year\"]).sum().reset_index()\n",
    "    u=resource_tech_outflow.loc[resource_tech_outflow.Resource.isin([\"Electricity\",\"Electricity_50%_LF\",\"Electricity_25%_LF\"])].drop(\"Resource\",axis=1).groupby(by=[\"Technology\",\"Tech_type\",\"Sector\",\"Country\",\"Year\"]).sum().reset_index()\n",
    "    u[\"Resource\"]=\"Electricity\"\n",
    "    resource_tech_outflow.loc[~resource_tech_outflow.Resource.isin([\"Electricity\",\"Electricity_50%_LF\",\"Electricity_25%_LF\"])]\n",
    "    resource_tech_outflow=pd.concat([resource_tech_outflow,u],ignore_index=True)\n",
    "\n",
    "    tech_usage_flow=resource_tech_outflow.copy()\n",
    "\n",
    "\n",
    "\n",
    "\n",
    "    for resource in primary_resource_conversion.keys():\n",
    "        resource_inflow.loc[resource_inflow.Resource==resource,\"Flow\"]=primary_resource_conversion[resource]*resource_inflow.loc[resource_inflow.Resource==resource,\"Flow\"]*1e-6\n",
    "        resource_outflow.loc[resource_outflow.Resource==resource,\"Flow\"]=primary_resource_conversion[resource]*resource_outflow.loc[resource_outflow.Resource==resource,\"Flow\"]*-1e-6\n",
    "        resource_flow.loc[resource_flow.Resource==resource,\"Flow\"]=primary_resource_conversion[resource]*resource_flow.loc[resource_flow.Resource==resource,\"Flow\"]*1e-6\n",
    "        resource_tech_inflow.loc[resource_tech_inflow.Resource==resource,\"Flow\"]=primary_resource_conversion[resource]*resource_tech_inflow.loc[resource_tech_inflow.Resource==resource,\"Flow\"]*1e-6\n",
    "        resource_tech_outflow.loc[resource_tech_outflow.Resource==resource,\"Flow\"]=primary_resource_conversion[resource]*resource_tech_outflow.loc[resource_tech_outflow.Resource==resource,\"Flow\"]*-1e-6\n",
    "\n",
    "    emissions=V[\"V_emissions\"].rename(columns={\"level_0\":\"Sector\",\"level_1\":\"Country\",\"level_2\":\"Year\",0:\"Emissions\"}).sort_values(by=\"Year\")\n",
    "    captured_emissions=V[\"V_captured_emissions\"].rename(columns={\"level_0\":\"Technology\",\"level_1\":\"Sector\",\"level_2\":\"Country\",\"level_3\":\"Year\",0:\"Captured_emissions\"}).sort_values(by=\"Year\")\n",
    "\n",
    "\n",
    "    tech_usage_coef=V[\"V_technology_use_coef\"].rename(columns={\"level_0\":\"Technology\",\"level_1\":\"Tech_type\",\"level_2\":\"Sector\",\"level_3\":\"Country\",\"level_4\":\"Year\",0:\"Coef\"}).sort_values(by=\"Year\")\n",
    "    tech_usage_capacity_coef=V[\"V_technology_use_coef_capacity\"].rename(columns={\"level_0\":\"Technology\",\"level_1\":\"Sector\",\"level_2\":\"Country\",\"level_3\":\"Year\",0:\"Coef\"}).sort_values(by=\"Year\")\n",
    "\n",
    "    tech_capacity=V[\"V_resource_tech_type_capacity\"].rename(columns={\"level_0\":\"Technology\",\"level_1\":\"Tech_type\",\"level_3\":\"Resource\",\"level_2\":\"Sector\",\"level_4\":\"Country\",\"level_5\":\"Year\",0:\"Flow_capa\"}).sort_values(by=\"Year\")\n",
    "    added_capa_coef=V[\"V_added_capacity\"].rename(columns={\"level_0\":\"Technology\",\"level_1\":\"Sector\",\"level_2\":\"Country\",\"level_3\":\"Year\",0:\"Coef_capa\"}).sort_values(by=\"Year\")\n",
    "    remove_capa_coef=V[\"V_removed_capacity\"].rename(columns={\"level_0\":\"Technology\",\"level_1\":\"Sector\",\"level_2\":\"Country\",\"level_3\":\"Year\",0:\"Coef_capa\"}).sort_values(by=\"Year\")\n",
    "    \n",
    "    \n",
    "    df_dict={\"resource_inflow\":resource_inflow,\"resource_outflow\":resource_outflow,\"resource_flow\":resource_flow,\n",
    "             \"resource_tech_inflow\":resource_tech_inflow,\"resource_tech_outflow\":resource_tech_outflow,\"tech_usage_flow\":tech_usage_flow,\n",
    "            \"emissions\":emissions,\"captured_emissions\":captured_emissions}\n",
    "    \n",
    "    scen[scen_name[scenario]]=df_dict\n",
    "    \n",
    "    del V\n",
    "    del res\n",
    "    del emissions\n",
    "    del captured_emissions\n",
    "    del resource_inflow\n",
    "    del resource_outflow\n",
    "    del resource_flow\n",
    "    del resource_tech_inflow\n",
    "    del resource_tech_outflow\n",
    "    del tech_usage_coef\n",
    "    del tech_usage_capacity_coef\n",
    "    del tech_capacity\n",
    "    del added_capa_coef\n",
    "    del remove_capa_coef\n",
    "    del df_dict\n"
   ]
  },
  {
   "cell_type": "code",
   "execution_count": 241,
   "id": "41aed7a4",
   "metadata": {},
   "outputs": [
    {
     "data": {
      "application/vnd.plotly.v1+json": {
       "config": {
        "plotlyServerURL": "https://plot.ly"
       },
       "data": [
        {
         "line": {
          "color": "grey",
          "width": 0
         },
         "mode": "lines",
         "name": "Emissions",
         "showlegend": true,
         "stackgroup": "one",
         "type": "scatter",
         "x": [
          2015,
          2016,
          2017,
          2018,
          2019,
          2020,
          2021,
          2022,
          2023,
          2024,
          2025,
          2026,
          2027,
          2028,
          2029,
          2030,
          2031,
          2032,
          2033,
          2034,
          2035,
          2036,
          2037,
          2038,
          2039,
          2040,
          2041,
          2042,
          2043,
          2044,
          2045,
          2046,
          2047,
          2048,
          2049,
          2050
         ],
         "xaxis": "x",
         "y": [
          324.75407891332577,
          322.48335332935187,
          321.1945694813247,
          319.8532195088431,
          318.4497488572386,
          316.97221433317566,
          314.25275275109834,
          311.42150736808986,
          308.45941833617616,
          305.3410725247249,
          295.8010969896532,
          292.2087637302458,
          286.2748426288115,
          282.6333138324733,
          278.6308076327995,
          259.4985028077586,
          246.9701149293597,
          218.0251555985145,
          213.73832985582357,
          208.1265766450837,
          182.948381950866,
          169.48366491911,
          152.4214675503248,
          139.13930902918926,
          112.54097165025503,
          84.66208885940883,
          67.78815996864066,
          60.93823982297601,
          52.74160063147111,
          46.393123508701414,
          40.649667751752155,
          33.587264881040426,
          28.02137961000305,
          24.41591346350378,
          20.765453137436516,
          15.988269838514165
         ],
         "yaxis": "y"
        },
        {
         "line": {
          "color": "black",
          "width": 0
         },
         "mode": "lines",
         "name": "Captured emissions",
         "showlegend": true,
         "stackgroup": "one",
         "type": "scatter",
         "x": [
          2015,
          2016,
          2017,
          2018,
          2019,
          2020,
          2021,
          2022,
          2023,
          2024,
          2025,
          2026,
          2027,
          2028,
          2029,
          2030,
          2031,
          2032,
          2033,
          2034,
          2035,
          2036,
          2037,
          2038,
          2039,
          2040,
          2041,
          2042,
          2043,
          2044,
          2045,
          2046,
          2047,
          2048,
          2049,
          2050
         ],
         "xaxis": "x",
         "y": [
          0,
          0,
          0,
          0,
          0,
          0,
          0,
          0,
          0,
          0,
          0,
          0,
          0,
          0,
          0,
          10.954708487497069,
          20.674262451323937,
          46.24395163166035,
          46.24395163166035,
          47.58021104931788,
          53.899658959216524,
          53.89965895921652,
          53.89965895921652,
          53.905873179314035,
          53.43617790672934,
          76.89228224194106,
          84.161961805986,
          84.81264598213221,
          84.03960199874969,
          84.13277121230558,
          83.07203104475325,
          83.13715716557797,
          82.25187399833115,
          80.67943713318603,
          77.66871125338945,
          70.19508404435824
         ],
         "yaxis": "y"
        },
        {
         "line": {
          "color": "grey",
          "width": 0
         },
         "mode": "lines",
         "name": "Emissions",
         "showlegend": false,
         "stackgroup": "one",
         "type": "scatter",
         "x": [
          2015,
          2016,
          2017,
          2018,
          2019,
          2020,
          2021,
          2022,
          2023,
          2024,
          2025,
          2026,
          2027,
          2028,
          2029,
          2030,
          2031,
          2032,
          2033,
          2034,
          2035,
          2036,
          2037,
          2038,
          2039,
          2040,
          2041,
          2042,
          2043,
          2044,
          2045,
          2046,
          2047,
          2048,
          2049,
          2050
         ],
         "xaxis": "x2",
         "y": [
          324.5612327865702,
          322.48335332935187,
          321.1945694813247,
          319.8532195088431,
          318.4497488572386,
          316.97221433317566,
          314.25275275109834,
          311.42150736808986,
          308.45941833617616,
          305.3410725247249,
          295.8010969896532,
          292.2087637302458,
          285.9843263238381,
          281.4243171532765,
          274.63268214621735,
          228.4361159927161,
          220.494131490293,
          215.83897973853362,
          209.13692933244758,
          199.02109187387384,
          178.19987167281096,
          161.91611415854445,
          138.64119177720247,
          122.16989523330432,
          99.64976604699389,
          72.62513968023079,
          54.6507353864384,
          46.01058939445235,
          39.58382593563127,
          35.80719385570085,
          29.976805381737268,
          22.366764027489836,
          16.70973240800445,
          12.900473127966638,
          9.505709481565965,
          -0.16186935704462835
         ],
         "yaxis": "y2"
        },
        {
         "line": {
          "color": "black",
          "width": 0
         },
         "mode": "lines",
         "name": "Captured emissions",
         "showlegend": false,
         "stackgroup": "one",
         "type": "scatter",
         "x": [
          2015,
          2016,
          2017,
          2018,
          2019,
          2020,
          2021,
          2022,
          2023,
          2024,
          2025,
          2026,
          2027,
          2028,
          2029,
          2030,
          2031,
          2032,
          2033,
          2034,
          2035,
          2036,
          2037,
          2038,
          2039,
          2040,
          2041,
          2042,
          2043,
          2044,
          2045,
          2046,
          2047,
          2048,
          2049,
          2050
         ],
         "xaxis": "x2",
         "y": [
          0,
          0,
          0,
          0,
          0,
          0,
          0,
          0,
          0,
          0,
          0,
          0,
          0,
          0,
          0,
          20.600324499293347,
          25.28862291345199,
          25.292015285656287,
          28.392037218084635,
          32.74186943292409,
          32.95792093092437,
          32.95792093092437,
          32.95792093092437,
          32.95792093092437,
          32.5999335719788,
          56.0647139935514,
          62.73247355759633,
          63.110896620795245,
          62.131041317103815,
          61.01010914955147,
          60.6516626014595,
          59.28639562193855,
          58.11224702722058,
          54.47955395523402,
          50.14890835957437,
          41.27676123820541
         ],
         "yaxis": "y2"
        },
        {
         "line": {
          "color": "grey",
          "width": 0
         },
         "mode": "lines",
         "name": "Emissions",
         "showlegend": false,
         "stackgroup": "one",
         "type": "scatter",
         "x": [
          2015,
          2016,
          2017,
          2018,
          2019,
          2020,
          2021,
          2022,
          2023,
          2024,
          2025,
          2026,
          2027,
          2028,
          2029,
          2030,
          2031,
          2032,
          2033,
          2034,
          2035,
          2036,
          2037,
          2038,
          2039,
          2040,
          2041,
          2042,
          2043,
          2044,
          2045,
          2046,
          2047,
          2048,
          2049,
          2050
         ],
         "xaxis": "x3",
         "y": [
          325.79783000258436,
          322.48395524296205,
          321.1957184279795,
          319.85436845549793,
          318.4508978038934,
          316.97336327983044,
          314.2539016977531,
          311.42265631474464,
          308.4605672828309,
          305.3422214713797,
          295.80224593630794,
          292.20991267690056,
          285.807311528828,
          281.24404416786115,
          274.2969572790794,
          236.34852979228964,
          220.64304037607437,
          215.96290555233762,
          209.41911845522012,
          199.48742025531004,
          178.3409111261641,
          162.01144411534628,
          139.1700725973665,
          122.36426543643088,
          99.77523025116513,
          71.04115546730414,
          53.253103071163636,
          44.15745599583264,
          37.404047758107744,
          32.42260182203876,
          27.510738809490043,
          20.440579052791332,
          15.30250777402874,
          11.83544202274349,
          8.152891193389667,
          -0.6113458146235535
         ],
         "yaxis": "y3"
        },
        {
         "line": {
          "color": "black",
          "width": 0
         },
         "mode": "lines",
         "name": "Captured emissions",
         "showlegend": false,
         "stackgroup": "one",
         "type": "scatter",
         "x": [
          2015,
          2016,
          2017,
          2018,
          2019,
          2020,
          2021,
          2022,
          2023,
          2024,
          2025,
          2026,
          2027,
          2028,
          2029,
          2030,
          2031,
          2032,
          2033,
          2034,
          2035,
          2036,
          2037,
          2038,
          2039,
          2040,
          2041,
          2042,
          2043,
          2044,
          2045,
          2046,
          2047,
          2048,
          2049,
          2050
         ],
         "xaxis": "x3",
         "y": [
          0,
          0,
          0,
          0,
          0,
          0,
          0,
          0,
          0,
          0,
          0,
          0,
          0,
          0,
          0,
          11.776802352623447,
          23.997879845300467,
          24.00127221750477,
          26.909465622318365,
          30.69030835232553,
          31.657931444066314,
          31.657931444066314,
          31.657931444066314,
          31.657931444066318,
          31.303314946026628,
          54.01317467860501,
          60.0588100251454,
          60.16181553717752,
          59.11381624113646,
          58.715067259120865,
          56.78291415450704,
          54.429233424133265,
          51.57502547102112,
          47.12966636177909,
          42.037075881230756,
          35.91370588438946
         ],
         "yaxis": "y3"
        }
       ],
       "layout": {
        "annotations": [
         {
          "font": {
           "size": 24
          },
          "showarrow": false,
          "text": "High electricity price",
          "x": 0.14444444444444446,
          "xanchor": "center",
          "xref": "paper",
          "y": 1,
          "yanchor": "bottom",
          "yref": "paper"
         },
         {
          "font": {
           "size": 24
          },
          "showarrow": false,
          "text": "Reference",
          "x": 0.5,
          "xanchor": "center",
          "xref": "paper",
          "y": 1,
          "yanchor": "bottom",
          "yref": "paper"
         },
         {
          "font": {
           "size": 24
          },
          "showarrow": false,
          "text": "Fossil phase-out",
          "x": 0.8555555555555556,
          "xanchor": "center",
          "xref": "paper",
          "y": 1,
          "yanchor": "bottom",
          "yref": "paper"
         }
        ],
        "font": {
         "family": "Times New Roman",
         "size": 24
        },
        "legend": {
         "orientation": "h",
         "x": 0.75,
         "xanchor": "right",
         "y": 1.1,
         "yanchor": "bottom"
        },
        "template": {
         "data": {
          "bar": [
           {
            "error_x": {
             "color": "#2a3f5f"
            },
            "error_y": {
             "color": "#2a3f5f"
            },
            "marker": {
             "line": {
              "color": "#E5ECF6",
              "width": 0.5
             },
             "pattern": {
              "fillmode": "overlay",
              "size": 10,
              "solidity": 0.2
             }
            },
            "type": "bar"
           }
          ],
          "barpolar": [
           {
            "marker": {
             "line": {
              "color": "#E5ECF6",
              "width": 0.5
             },
             "pattern": {
              "fillmode": "overlay",
              "size": 10,
              "solidity": 0.2
             }
            },
            "type": "barpolar"
           }
          ],
          "carpet": [
           {
            "aaxis": {
             "endlinecolor": "#2a3f5f",
             "gridcolor": "white",
             "linecolor": "white",
             "minorgridcolor": "white",
             "startlinecolor": "#2a3f5f"
            },
            "baxis": {
             "endlinecolor": "#2a3f5f",
             "gridcolor": "white",
             "linecolor": "white",
             "minorgridcolor": "white",
             "startlinecolor": "#2a3f5f"
            },
            "type": "carpet"
           }
          ],
          "choropleth": [
           {
            "colorbar": {
             "outlinewidth": 0,
             "ticks": ""
            },
            "type": "choropleth"
           }
          ],
          "contour": [
           {
            "colorbar": {
             "outlinewidth": 0,
             "ticks": ""
            },
            "colorscale": [
             [
              0,
              "#0d0887"
             ],
             [
              0.1111111111111111,
              "#46039f"
             ],
             [
              0.2222222222222222,
              "#7201a8"
             ],
             [
              0.3333333333333333,
              "#9c179e"
             ],
             [
              0.4444444444444444,
              "#bd3786"
             ],
             [
              0.5555555555555556,
              "#d8576b"
             ],
             [
              0.6666666666666666,
              "#ed7953"
             ],
             [
              0.7777777777777778,
              "#fb9f3a"
             ],
             [
              0.8888888888888888,
              "#fdca26"
             ],
             [
              1,
              "#f0f921"
             ]
            ],
            "type": "contour"
           }
          ],
          "contourcarpet": [
           {
            "colorbar": {
             "outlinewidth": 0,
             "ticks": ""
            },
            "type": "contourcarpet"
           }
          ],
          "heatmap": [
           {
            "colorbar": {
             "outlinewidth": 0,
             "ticks": ""
            },
            "colorscale": [
             [
              0,
              "#0d0887"
             ],
             [
              0.1111111111111111,
              "#46039f"
             ],
             [
              0.2222222222222222,
              "#7201a8"
             ],
             [
              0.3333333333333333,
              "#9c179e"
             ],
             [
              0.4444444444444444,
              "#bd3786"
             ],
             [
              0.5555555555555556,
              "#d8576b"
             ],
             [
              0.6666666666666666,
              "#ed7953"
             ],
             [
              0.7777777777777778,
              "#fb9f3a"
             ],
             [
              0.8888888888888888,
              "#fdca26"
             ],
             [
              1,
              "#f0f921"
             ]
            ],
            "type": "heatmap"
           }
          ],
          "heatmapgl": [
           {
            "colorbar": {
             "outlinewidth": 0,
             "ticks": ""
            },
            "colorscale": [
             [
              0,
              "#0d0887"
             ],
             [
              0.1111111111111111,
              "#46039f"
             ],
             [
              0.2222222222222222,
              "#7201a8"
             ],
             [
              0.3333333333333333,
              "#9c179e"
             ],
             [
              0.4444444444444444,
              "#bd3786"
             ],
             [
              0.5555555555555556,
              "#d8576b"
             ],
             [
              0.6666666666666666,
              "#ed7953"
             ],
             [
              0.7777777777777778,
              "#fb9f3a"
             ],
             [
              0.8888888888888888,
              "#fdca26"
             ],
             [
              1,
              "#f0f921"
             ]
            ],
            "type": "heatmapgl"
           }
          ],
          "histogram": [
           {
            "marker": {
             "pattern": {
              "fillmode": "overlay",
              "size": 10,
              "solidity": 0.2
             }
            },
            "type": "histogram"
           }
          ],
          "histogram2d": [
           {
            "colorbar": {
             "outlinewidth": 0,
             "ticks": ""
            },
            "colorscale": [
             [
              0,
              "#0d0887"
             ],
             [
              0.1111111111111111,
              "#46039f"
             ],
             [
              0.2222222222222222,
              "#7201a8"
             ],
             [
              0.3333333333333333,
              "#9c179e"
             ],
             [
              0.4444444444444444,
              "#bd3786"
             ],
             [
              0.5555555555555556,
              "#d8576b"
             ],
             [
              0.6666666666666666,
              "#ed7953"
             ],
             [
              0.7777777777777778,
              "#fb9f3a"
             ],
             [
              0.8888888888888888,
              "#fdca26"
             ],
             [
              1,
              "#f0f921"
             ]
            ],
            "type": "histogram2d"
           }
          ],
          "histogram2dcontour": [
           {
            "colorbar": {
             "outlinewidth": 0,
             "ticks": ""
            },
            "colorscale": [
             [
              0,
              "#0d0887"
             ],
             [
              0.1111111111111111,
              "#46039f"
             ],
             [
              0.2222222222222222,
              "#7201a8"
             ],
             [
              0.3333333333333333,
              "#9c179e"
             ],
             [
              0.4444444444444444,
              "#bd3786"
             ],
             [
              0.5555555555555556,
              "#d8576b"
             ],
             [
              0.6666666666666666,
              "#ed7953"
             ],
             [
              0.7777777777777778,
              "#fb9f3a"
             ],
             [
              0.8888888888888888,
              "#fdca26"
             ],
             [
              1,
              "#f0f921"
             ]
            ],
            "type": "histogram2dcontour"
           }
          ],
          "mesh3d": [
           {
            "colorbar": {
             "outlinewidth": 0,
             "ticks": ""
            },
            "type": "mesh3d"
           }
          ],
          "parcoords": [
           {
            "line": {
             "colorbar": {
              "outlinewidth": 0,
              "ticks": ""
             }
            },
            "type": "parcoords"
           }
          ],
          "pie": [
           {
            "automargin": true,
            "type": "pie"
           }
          ],
          "scatter": [
           {
            "marker": {
             "colorbar": {
              "outlinewidth": 0,
              "ticks": ""
             }
            },
            "type": "scatter"
           }
          ],
          "scatter3d": [
           {
            "line": {
             "colorbar": {
              "outlinewidth": 0,
              "ticks": ""
             }
            },
            "marker": {
             "colorbar": {
              "outlinewidth": 0,
              "ticks": ""
             }
            },
            "type": "scatter3d"
           }
          ],
          "scattercarpet": [
           {
            "marker": {
             "colorbar": {
              "outlinewidth": 0,
              "ticks": ""
             }
            },
            "type": "scattercarpet"
           }
          ],
          "scattergeo": [
           {
            "marker": {
             "colorbar": {
              "outlinewidth": 0,
              "ticks": ""
             }
            },
            "type": "scattergeo"
           }
          ],
          "scattergl": [
           {
            "marker": {
             "colorbar": {
              "outlinewidth": 0,
              "ticks": ""
             }
            },
            "type": "scattergl"
           }
          ],
          "scattermapbox": [
           {
            "marker": {
             "colorbar": {
              "outlinewidth": 0,
              "ticks": ""
             }
            },
            "type": "scattermapbox"
           }
          ],
          "scatterpolar": [
           {
            "marker": {
             "colorbar": {
              "outlinewidth": 0,
              "ticks": ""
             }
            },
            "type": "scatterpolar"
           }
          ],
          "scatterpolargl": [
           {
            "marker": {
             "colorbar": {
              "outlinewidth": 0,
              "ticks": ""
             }
            },
            "type": "scatterpolargl"
           }
          ],
          "scatterternary": [
           {
            "marker": {
             "colorbar": {
              "outlinewidth": 0,
              "ticks": ""
             }
            },
            "type": "scatterternary"
           }
          ],
          "surface": [
           {
            "colorbar": {
             "outlinewidth": 0,
             "ticks": ""
            },
            "colorscale": [
             [
              0,
              "#0d0887"
             ],
             [
              0.1111111111111111,
              "#46039f"
             ],
             [
              0.2222222222222222,
              "#7201a8"
             ],
             [
              0.3333333333333333,
              "#9c179e"
             ],
             [
              0.4444444444444444,
              "#bd3786"
             ],
             [
              0.5555555555555556,
              "#d8576b"
             ],
             [
              0.6666666666666666,
              "#ed7953"
             ],
             [
              0.7777777777777778,
              "#fb9f3a"
             ],
             [
              0.8888888888888888,
              "#fdca26"
             ],
             [
              1,
              "#f0f921"
             ]
            ],
            "type": "surface"
           }
          ],
          "table": [
           {
            "cells": {
             "fill": {
              "color": "#EBF0F8"
             },
             "line": {
              "color": "white"
             }
            },
            "header": {
             "fill": {
              "color": "#C8D4E3"
             },
             "line": {
              "color": "white"
             }
            },
            "type": "table"
           }
          ]
         },
         "layout": {
          "annotationdefaults": {
           "arrowcolor": "#2a3f5f",
           "arrowhead": 0,
           "arrowwidth": 1
          },
          "autotypenumbers": "strict",
          "coloraxis": {
           "colorbar": {
            "outlinewidth": 0,
            "ticks": ""
           }
          },
          "colorscale": {
           "diverging": [
            [
             0,
             "#8e0152"
            ],
            [
             0.1,
             "#c51b7d"
            ],
            [
             0.2,
             "#de77ae"
            ],
            [
             0.3,
             "#f1b6da"
            ],
            [
             0.4,
             "#fde0ef"
            ],
            [
             0.5,
             "#f7f7f7"
            ],
            [
             0.6,
             "#e6f5d0"
            ],
            [
             0.7,
             "#b8e186"
            ],
            [
             0.8,
             "#7fbc41"
            ],
            [
             0.9,
             "#4d9221"
            ],
            [
             1,
             "#276419"
            ]
           ],
           "sequential": [
            [
             0,
             "#0d0887"
            ],
            [
             0.1111111111111111,
             "#46039f"
            ],
            [
             0.2222222222222222,
             "#7201a8"
            ],
            [
             0.3333333333333333,
             "#9c179e"
            ],
            [
             0.4444444444444444,
             "#bd3786"
            ],
            [
             0.5555555555555556,
             "#d8576b"
            ],
            [
             0.6666666666666666,
             "#ed7953"
            ],
            [
             0.7777777777777778,
             "#fb9f3a"
            ],
            [
             0.8888888888888888,
             "#fdca26"
            ],
            [
             1,
             "#f0f921"
            ]
           ],
           "sequentialminus": [
            [
             0,
             "#0d0887"
            ],
            [
             0.1111111111111111,
             "#46039f"
            ],
            [
             0.2222222222222222,
             "#7201a8"
            ],
            [
             0.3333333333333333,
             "#9c179e"
            ],
            [
             0.4444444444444444,
             "#bd3786"
            ],
            [
             0.5555555555555556,
             "#d8576b"
            ],
            [
             0.6666666666666666,
             "#ed7953"
            ],
            [
             0.7777777777777778,
             "#fb9f3a"
            ],
            [
             0.8888888888888888,
             "#fdca26"
            ],
            [
             1,
             "#f0f921"
            ]
           ]
          },
          "colorway": [
           "#636efa",
           "#EF553B",
           "#00cc96",
           "#ab63fa",
           "#FFA15A",
           "#19d3f3",
           "#FF6692",
           "#B6E880",
           "#FF97FF",
           "#FECB52"
          ],
          "font": {
           "color": "#2a3f5f"
          },
          "geo": {
           "bgcolor": "white",
           "lakecolor": "white",
           "landcolor": "#E5ECF6",
           "showlakes": true,
           "showland": true,
           "subunitcolor": "white"
          },
          "hoverlabel": {
           "align": "left"
          },
          "hovermode": "closest",
          "mapbox": {
           "style": "light"
          },
          "paper_bgcolor": "white",
          "plot_bgcolor": "#E5ECF6",
          "polar": {
           "angularaxis": {
            "gridcolor": "white",
            "linecolor": "white",
            "ticks": ""
           },
           "bgcolor": "#E5ECF6",
           "radialaxis": {
            "gridcolor": "white",
            "linecolor": "white",
            "ticks": ""
           }
          },
          "scene": {
           "xaxis": {
            "backgroundcolor": "#E5ECF6",
            "gridcolor": "white",
            "gridwidth": 2,
            "linecolor": "white",
            "showbackground": true,
            "ticks": "",
            "zerolinecolor": "white"
           },
           "yaxis": {
            "backgroundcolor": "#E5ECF6",
            "gridcolor": "white",
            "gridwidth": 2,
            "linecolor": "white",
            "showbackground": true,
            "ticks": "",
            "zerolinecolor": "white"
           },
           "zaxis": {
            "backgroundcolor": "#E5ECF6",
            "gridcolor": "white",
            "gridwidth": 2,
            "linecolor": "white",
            "showbackground": true,
            "ticks": "",
            "zerolinecolor": "white"
           }
          },
          "shapedefaults": {
           "line": {
            "color": "#2a3f5f"
           }
          },
          "ternary": {
           "aaxis": {
            "gridcolor": "white",
            "linecolor": "white",
            "ticks": ""
           },
           "baxis": {
            "gridcolor": "white",
            "linecolor": "white",
            "ticks": ""
           },
           "bgcolor": "#E5ECF6",
           "caxis": {
            "gridcolor": "white",
            "linecolor": "white",
            "ticks": ""
           }
          },
          "title": {
           "x": 0.05
          },
          "xaxis": {
           "automargin": true,
           "gridcolor": "white",
           "linecolor": "white",
           "ticks": "",
           "title": {
            "standoff": 15
           },
           "zerolinecolor": "white",
           "zerolinewidth": 2
          },
          "yaxis": {
           "automargin": true,
           "gridcolor": "white",
           "linecolor": "white",
           "ticks": "",
           "title": {
            "standoff": 15
           },
           "zerolinecolor": "white",
           "zerolinewidth": 2
          }
         }
        },
        "xaxis": {
         "anchor": "y",
         "domain": [
          0,
          0.2888888888888889
         ],
         "title": {
          "text": "Year"
         }
        },
        "xaxis2": {
         "anchor": "y2",
         "domain": [
          0.35555555555555557,
          0.6444444444444445
         ],
         "title": {
          "text": "Year"
         }
        },
        "xaxis3": {
         "anchor": "y3",
         "domain": [
          0.7111111111111111,
          1
         ],
         "title": {
          "text": "Year"
         }
        },
        "yaxis": {
         "anchor": "x",
         "domain": [
          0,
          1
         ],
         "range": [
          0,
          350
         ],
         "title": {
          "text": "Emissions (MtCO2)"
         }
        },
        "yaxis2": {
         "anchor": "x2",
         "domain": [
          0,
          1
         ],
         "matches": "y",
         "range": [
          0,
          350
         ],
         "showticklabels": false
        },
        "yaxis3": {
         "anchor": "x3",
         "domain": [
          0,
          1
         ],
         "matches": "y",
         "range": [
          0,
          350
         ],
         "showticklabels": false
        }
       }
      },
      "text/html": [
       "<div>                            <div id=\"a1da7479-2dec-470a-8dc0-bdea312d8890\" class=\"plotly-graph-div\" style=\"height:525px; width:100%;\"></div>            <script type=\"text/javascript\">                require([\"plotly\"], function(Plotly) {                    window.PLOTLYENV=window.PLOTLYENV || {};                                    if (document.getElementById(\"a1da7479-2dec-470a-8dc0-bdea312d8890\")) {                    Plotly.newPlot(                        \"a1da7479-2dec-470a-8dc0-bdea312d8890\",                        [{\"line\":{\"color\":\"grey\",\"width\":0},\"mode\":\"lines\",\"name\":\"Emissions\",\"showlegend\":true,\"stackgroup\":\"one\",\"type\":\"scatter\",\"x\":[2015,2016,2017,2018,2019,2020,2021,2022,2023,2024,2025,2026,2027,2028,2029,2030,2031,2032,2033,2034,2035,2036,2037,2038,2039,2040,2041,2042,2043,2044,2045,2046,2047,2048,2049,2050],\"xaxis\":\"x\",\"y\":[324.75407891332577,322.48335332935187,321.1945694813247,319.8532195088431,318.4497488572386,316.97221433317566,314.25275275109834,311.42150736808986,308.45941833617616,305.3410725247249,295.8010969896532,292.2087637302458,286.2748426288115,282.6333138324733,278.6308076327995,259.4985028077586,246.9701149293597,218.0251555985145,213.73832985582357,208.1265766450837,182.948381950866,169.48366491911,152.4214675503248,139.13930902918926,112.54097165025503,84.66208885940883,67.78815996864066,60.93823982297601,52.74160063147111,46.393123508701414,40.649667751752155,33.587264881040426,28.02137961000305,24.41591346350378,20.765453137436516,15.988269838514165],\"yaxis\":\"y\"},{\"line\":{\"color\":\"black\",\"width\":0},\"mode\":\"lines\",\"name\":\"Captured emissions\",\"showlegend\":true,\"stackgroup\":\"one\",\"type\":\"scatter\",\"x\":[2015,2016,2017,2018,2019,2020,2021,2022,2023,2024,2025,2026,2027,2028,2029,2030,2031,2032,2033,2034,2035,2036,2037,2038,2039,2040,2041,2042,2043,2044,2045,2046,2047,2048,2049,2050],\"xaxis\":\"x\",\"y\":[0.0,0.0,0.0,0.0,0.0,0.0,0.0,0.0,0.0,0.0,0.0,0.0,0.0,0.0,0.0,10.954708487497069,20.674262451323937,46.24395163166035,46.24395163166035,47.58021104931788,53.899658959216524,53.89965895921652,53.89965895921652,53.905873179314035,53.43617790672934,76.89228224194106,84.161961805986,84.81264598213221,84.03960199874969,84.13277121230558,83.07203104475325,83.13715716557797,82.25187399833115,80.67943713318603,77.66871125338945,70.19508404435824],\"yaxis\":\"y\"},{\"line\":{\"color\":\"grey\",\"width\":0},\"mode\":\"lines\",\"name\":\"Emissions\",\"showlegend\":false,\"stackgroup\":\"one\",\"type\":\"scatter\",\"x\":[2015,2016,2017,2018,2019,2020,2021,2022,2023,2024,2025,2026,2027,2028,2029,2030,2031,2032,2033,2034,2035,2036,2037,2038,2039,2040,2041,2042,2043,2044,2045,2046,2047,2048,2049,2050],\"xaxis\":\"x2\",\"y\":[324.5612327865702,322.48335332935187,321.1945694813247,319.8532195088431,318.4497488572386,316.97221433317566,314.25275275109834,311.42150736808986,308.45941833617616,305.3410725247249,295.8010969896532,292.2087637302458,285.9843263238381,281.4243171532765,274.63268214621735,228.4361159927161,220.494131490293,215.83897973853362,209.13692933244758,199.02109187387384,178.19987167281096,161.91611415854445,138.64119177720247,122.16989523330432,99.64976604699389,72.62513968023079,54.6507353864384,46.01058939445235,39.58382593563127,35.80719385570085,29.976805381737268,22.366764027489836,16.70973240800445,12.900473127966638,9.505709481565965,-0.16186935704462835],\"yaxis\":\"y2\"},{\"line\":{\"color\":\"black\",\"width\":0},\"mode\":\"lines\",\"name\":\"Captured emissions\",\"showlegend\":false,\"stackgroup\":\"one\",\"type\":\"scatter\",\"x\":[2015,2016,2017,2018,2019,2020,2021,2022,2023,2024,2025,2026,2027,2028,2029,2030,2031,2032,2033,2034,2035,2036,2037,2038,2039,2040,2041,2042,2043,2044,2045,2046,2047,2048,2049,2050],\"xaxis\":\"x2\",\"y\":[0.0,0.0,0.0,0.0,0.0,0.0,0.0,0.0,0.0,0.0,0.0,0.0,0.0,0.0,0.0,20.600324499293347,25.28862291345199,25.292015285656287,28.392037218084635,32.74186943292409,32.95792093092437,32.95792093092437,32.95792093092437,32.95792093092437,32.5999335719788,56.0647139935514,62.73247355759633,63.110896620795245,62.131041317103815,61.01010914955147,60.6516626014595,59.28639562193855,58.11224702722058,54.47955395523402,50.14890835957437,41.27676123820541],\"yaxis\":\"y2\"},{\"line\":{\"color\":\"grey\",\"width\":0},\"mode\":\"lines\",\"name\":\"Emissions\",\"showlegend\":false,\"stackgroup\":\"one\",\"type\":\"scatter\",\"x\":[2015,2016,2017,2018,2019,2020,2021,2022,2023,2024,2025,2026,2027,2028,2029,2030,2031,2032,2033,2034,2035,2036,2037,2038,2039,2040,2041,2042,2043,2044,2045,2046,2047,2048,2049,2050],\"xaxis\":\"x3\",\"y\":[325.79783000258436,322.48395524296205,321.1957184279795,319.85436845549793,318.4508978038934,316.97336327983044,314.2539016977531,311.42265631474464,308.4605672828309,305.3422214713797,295.80224593630794,292.20991267690056,285.807311528828,281.24404416786115,274.2969572790794,236.34852979228964,220.64304037607437,215.96290555233762,209.41911845522012,199.48742025531004,178.3409111261641,162.01144411534628,139.1700725973665,122.36426543643088,99.77523025116513,71.04115546730414,53.253103071163636,44.15745599583264,37.404047758107744,32.42260182203876,27.510738809490043,20.440579052791332,15.30250777402874,11.83544202274349,8.152891193389667,-0.6113458146235535],\"yaxis\":\"y3\"},{\"line\":{\"color\":\"black\",\"width\":0},\"mode\":\"lines\",\"name\":\"Captured emissions\",\"showlegend\":false,\"stackgroup\":\"one\",\"type\":\"scatter\",\"x\":[2015,2016,2017,2018,2019,2020,2021,2022,2023,2024,2025,2026,2027,2028,2029,2030,2031,2032,2033,2034,2035,2036,2037,2038,2039,2040,2041,2042,2043,2044,2045,2046,2047,2048,2049,2050],\"xaxis\":\"x3\",\"y\":[0.0,0.0,0.0,0.0,0.0,0.0,0.0,0.0,0.0,0.0,0.0,0.0,0.0,0.0,0.0,11.776802352623447,23.997879845300467,24.00127221750477,26.909465622318365,30.69030835232553,31.657931444066314,31.657931444066314,31.657931444066314,31.657931444066318,31.303314946026628,54.01317467860501,60.0588100251454,60.16181553717752,59.11381624113646,58.715067259120865,56.78291415450704,54.429233424133265,51.57502547102112,47.12966636177909,42.037075881230756,35.91370588438946],\"yaxis\":\"y3\"}],                        {\"annotations\":[{\"font\":{\"size\":24},\"showarrow\":false,\"text\":\"High electricity price\",\"x\":0.14444444444444446,\"xanchor\":\"center\",\"xref\":\"paper\",\"y\":1.0,\"yanchor\":\"bottom\",\"yref\":\"paper\"},{\"font\":{\"size\":24},\"showarrow\":false,\"text\":\"Reference\",\"x\":0.5,\"xanchor\":\"center\",\"xref\":\"paper\",\"y\":1.0,\"yanchor\":\"bottom\",\"yref\":\"paper\"},{\"font\":{\"size\":24},\"showarrow\":false,\"text\":\"Fossil phase-out\",\"x\":0.8555555555555556,\"xanchor\":\"center\",\"xref\":\"paper\",\"y\":1.0,\"yanchor\":\"bottom\",\"yref\":\"paper\"}],\"font\":{\"family\":\"Times New Roman\",\"size\":24},\"legend\":{\"orientation\":\"h\",\"x\":0.75,\"xanchor\":\"right\",\"y\":1.1,\"yanchor\":\"bottom\"},\"template\":{\"data\":{\"bar\":[{\"error_x\":{\"color\":\"#2a3f5f\"},\"error_y\":{\"color\":\"#2a3f5f\"},\"marker\":{\"line\":{\"color\":\"#E5ECF6\",\"width\":0.5},\"pattern\":{\"fillmode\":\"overlay\",\"size\":10,\"solidity\":0.2}},\"type\":\"bar\"}],\"barpolar\":[{\"marker\":{\"line\":{\"color\":\"#E5ECF6\",\"width\":0.5},\"pattern\":{\"fillmode\":\"overlay\",\"size\":10,\"solidity\":0.2}},\"type\":\"barpolar\"}],\"carpet\":[{\"aaxis\":{\"endlinecolor\":\"#2a3f5f\",\"gridcolor\":\"white\",\"linecolor\":\"white\",\"minorgridcolor\":\"white\",\"startlinecolor\":\"#2a3f5f\"},\"baxis\":{\"endlinecolor\":\"#2a3f5f\",\"gridcolor\":\"white\",\"linecolor\":\"white\",\"minorgridcolor\":\"white\",\"startlinecolor\":\"#2a3f5f\"},\"type\":\"carpet\"}],\"choropleth\":[{\"colorbar\":{\"outlinewidth\":0,\"ticks\":\"\"},\"type\":\"choropleth\"}],\"contour\":[{\"colorbar\":{\"outlinewidth\":0,\"ticks\":\"\"},\"colorscale\":[[0.0,\"#0d0887\"],[0.1111111111111111,\"#46039f\"],[0.2222222222222222,\"#7201a8\"],[0.3333333333333333,\"#9c179e\"],[0.4444444444444444,\"#bd3786\"],[0.5555555555555556,\"#d8576b\"],[0.6666666666666666,\"#ed7953\"],[0.7777777777777778,\"#fb9f3a\"],[0.8888888888888888,\"#fdca26\"],[1.0,\"#f0f921\"]],\"type\":\"contour\"}],\"contourcarpet\":[{\"colorbar\":{\"outlinewidth\":0,\"ticks\":\"\"},\"type\":\"contourcarpet\"}],\"heatmap\":[{\"colorbar\":{\"outlinewidth\":0,\"ticks\":\"\"},\"colorscale\":[[0.0,\"#0d0887\"],[0.1111111111111111,\"#46039f\"],[0.2222222222222222,\"#7201a8\"],[0.3333333333333333,\"#9c179e\"],[0.4444444444444444,\"#bd3786\"],[0.5555555555555556,\"#d8576b\"],[0.6666666666666666,\"#ed7953\"],[0.7777777777777778,\"#fb9f3a\"],[0.8888888888888888,\"#fdca26\"],[1.0,\"#f0f921\"]],\"type\":\"heatmap\"}],\"heatmapgl\":[{\"colorbar\":{\"outlinewidth\":0,\"ticks\":\"\"},\"colorscale\":[[0.0,\"#0d0887\"],[0.1111111111111111,\"#46039f\"],[0.2222222222222222,\"#7201a8\"],[0.3333333333333333,\"#9c179e\"],[0.4444444444444444,\"#bd3786\"],[0.5555555555555556,\"#d8576b\"],[0.6666666666666666,\"#ed7953\"],[0.7777777777777778,\"#fb9f3a\"],[0.8888888888888888,\"#fdca26\"],[1.0,\"#f0f921\"]],\"type\":\"heatmapgl\"}],\"histogram\":[{\"marker\":{\"pattern\":{\"fillmode\":\"overlay\",\"size\":10,\"solidity\":0.2}},\"type\":\"histogram\"}],\"histogram2d\":[{\"colorbar\":{\"outlinewidth\":0,\"ticks\":\"\"},\"colorscale\":[[0.0,\"#0d0887\"],[0.1111111111111111,\"#46039f\"],[0.2222222222222222,\"#7201a8\"],[0.3333333333333333,\"#9c179e\"],[0.4444444444444444,\"#bd3786\"],[0.5555555555555556,\"#d8576b\"],[0.6666666666666666,\"#ed7953\"],[0.7777777777777778,\"#fb9f3a\"],[0.8888888888888888,\"#fdca26\"],[1.0,\"#f0f921\"]],\"type\":\"histogram2d\"}],\"histogram2dcontour\":[{\"colorbar\":{\"outlinewidth\":0,\"ticks\":\"\"},\"colorscale\":[[0.0,\"#0d0887\"],[0.1111111111111111,\"#46039f\"],[0.2222222222222222,\"#7201a8\"],[0.3333333333333333,\"#9c179e\"],[0.4444444444444444,\"#bd3786\"],[0.5555555555555556,\"#d8576b\"],[0.6666666666666666,\"#ed7953\"],[0.7777777777777778,\"#fb9f3a\"],[0.8888888888888888,\"#fdca26\"],[1.0,\"#f0f921\"]],\"type\":\"histogram2dcontour\"}],\"mesh3d\":[{\"colorbar\":{\"outlinewidth\":0,\"ticks\":\"\"},\"type\":\"mesh3d\"}],\"parcoords\":[{\"line\":{\"colorbar\":{\"outlinewidth\":0,\"ticks\":\"\"}},\"type\":\"parcoords\"}],\"pie\":[{\"automargin\":true,\"type\":\"pie\"}],\"scatter\":[{\"marker\":{\"colorbar\":{\"outlinewidth\":0,\"ticks\":\"\"}},\"type\":\"scatter\"}],\"scatter3d\":[{\"line\":{\"colorbar\":{\"outlinewidth\":0,\"ticks\":\"\"}},\"marker\":{\"colorbar\":{\"outlinewidth\":0,\"ticks\":\"\"}},\"type\":\"scatter3d\"}],\"scattercarpet\":[{\"marker\":{\"colorbar\":{\"outlinewidth\":0,\"ticks\":\"\"}},\"type\":\"scattercarpet\"}],\"scattergeo\":[{\"marker\":{\"colorbar\":{\"outlinewidth\":0,\"ticks\":\"\"}},\"type\":\"scattergeo\"}],\"scattergl\":[{\"marker\":{\"colorbar\":{\"outlinewidth\":0,\"ticks\":\"\"}},\"type\":\"scattergl\"}],\"scattermapbox\":[{\"marker\":{\"colorbar\":{\"outlinewidth\":0,\"ticks\":\"\"}},\"type\":\"scattermapbox\"}],\"scatterpolar\":[{\"marker\":{\"colorbar\":{\"outlinewidth\":0,\"ticks\":\"\"}},\"type\":\"scatterpolar\"}],\"scatterpolargl\":[{\"marker\":{\"colorbar\":{\"outlinewidth\":0,\"ticks\":\"\"}},\"type\":\"scatterpolargl\"}],\"scatterternary\":[{\"marker\":{\"colorbar\":{\"outlinewidth\":0,\"ticks\":\"\"}},\"type\":\"scatterternary\"}],\"surface\":[{\"colorbar\":{\"outlinewidth\":0,\"ticks\":\"\"},\"colorscale\":[[0.0,\"#0d0887\"],[0.1111111111111111,\"#46039f\"],[0.2222222222222222,\"#7201a8\"],[0.3333333333333333,\"#9c179e\"],[0.4444444444444444,\"#bd3786\"],[0.5555555555555556,\"#d8576b\"],[0.6666666666666666,\"#ed7953\"],[0.7777777777777778,\"#fb9f3a\"],[0.8888888888888888,\"#fdca26\"],[1.0,\"#f0f921\"]],\"type\":\"surface\"}],\"table\":[{\"cells\":{\"fill\":{\"color\":\"#EBF0F8\"},\"line\":{\"color\":\"white\"}},\"header\":{\"fill\":{\"color\":\"#C8D4E3\"},\"line\":{\"color\":\"white\"}},\"type\":\"table\"}]},\"layout\":{\"annotationdefaults\":{\"arrowcolor\":\"#2a3f5f\",\"arrowhead\":0,\"arrowwidth\":1},\"autotypenumbers\":\"strict\",\"coloraxis\":{\"colorbar\":{\"outlinewidth\":0,\"ticks\":\"\"}},\"colorscale\":{\"diverging\":[[0,\"#8e0152\"],[0.1,\"#c51b7d\"],[0.2,\"#de77ae\"],[0.3,\"#f1b6da\"],[0.4,\"#fde0ef\"],[0.5,\"#f7f7f7\"],[0.6,\"#e6f5d0\"],[0.7,\"#b8e186\"],[0.8,\"#7fbc41\"],[0.9,\"#4d9221\"],[1,\"#276419\"]],\"sequential\":[[0.0,\"#0d0887\"],[0.1111111111111111,\"#46039f\"],[0.2222222222222222,\"#7201a8\"],[0.3333333333333333,\"#9c179e\"],[0.4444444444444444,\"#bd3786\"],[0.5555555555555556,\"#d8576b\"],[0.6666666666666666,\"#ed7953\"],[0.7777777777777778,\"#fb9f3a\"],[0.8888888888888888,\"#fdca26\"],[1.0,\"#f0f921\"]],\"sequentialminus\":[[0.0,\"#0d0887\"],[0.1111111111111111,\"#46039f\"],[0.2222222222222222,\"#7201a8\"],[0.3333333333333333,\"#9c179e\"],[0.4444444444444444,\"#bd3786\"],[0.5555555555555556,\"#d8576b\"],[0.6666666666666666,\"#ed7953\"],[0.7777777777777778,\"#fb9f3a\"],[0.8888888888888888,\"#fdca26\"],[1.0,\"#f0f921\"]]},\"colorway\":[\"#636efa\",\"#EF553B\",\"#00cc96\",\"#ab63fa\",\"#FFA15A\",\"#19d3f3\",\"#FF6692\",\"#B6E880\",\"#FF97FF\",\"#FECB52\"],\"font\":{\"color\":\"#2a3f5f\"},\"geo\":{\"bgcolor\":\"white\",\"lakecolor\":\"white\",\"landcolor\":\"#E5ECF6\",\"showlakes\":true,\"showland\":true,\"subunitcolor\":\"white\"},\"hoverlabel\":{\"align\":\"left\"},\"hovermode\":\"closest\",\"mapbox\":{\"style\":\"light\"},\"paper_bgcolor\":\"white\",\"plot_bgcolor\":\"#E5ECF6\",\"polar\":{\"angularaxis\":{\"gridcolor\":\"white\",\"linecolor\":\"white\",\"ticks\":\"\"},\"bgcolor\":\"#E5ECF6\",\"radialaxis\":{\"gridcolor\":\"white\",\"linecolor\":\"white\",\"ticks\":\"\"}},\"scene\":{\"xaxis\":{\"backgroundcolor\":\"#E5ECF6\",\"gridcolor\":\"white\",\"gridwidth\":2,\"linecolor\":\"white\",\"showbackground\":true,\"ticks\":\"\",\"zerolinecolor\":\"white\"},\"yaxis\":{\"backgroundcolor\":\"#E5ECF6\",\"gridcolor\":\"white\",\"gridwidth\":2,\"linecolor\":\"white\",\"showbackground\":true,\"ticks\":\"\",\"zerolinecolor\":\"white\"},\"zaxis\":{\"backgroundcolor\":\"#E5ECF6\",\"gridcolor\":\"white\",\"gridwidth\":2,\"linecolor\":\"white\",\"showbackground\":true,\"ticks\":\"\",\"zerolinecolor\":\"white\"}},\"shapedefaults\":{\"line\":{\"color\":\"#2a3f5f\"}},\"ternary\":{\"aaxis\":{\"gridcolor\":\"white\",\"linecolor\":\"white\",\"ticks\":\"\"},\"baxis\":{\"gridcolor\":\"white\",\"linecolor\":\"white\",\"ticks\":\"\"},\"bgcolor\":\"#E5ECF6\",\"caxis\":{\"gridcolor\":\"white\",\"linecolor\":\"white\",\"ticks\":\"\"}},\"title\":{\"x\":0.05},\"xaxis\":{\"automargin\":true,\"gridcolor\":\"white\",\"linecolor\":\"white\",\"ticks\":\"\",\"title\":{\"standoff\":15},\"zerolinecolor\":\"white\",\"zerolinewidth\":2},\"yaxis\":{\"automargin\":true,\"gridcolor\":\"white\",\"linecolor\":\"white\",\"ticks\":\"\",\"title\":{\"standoff\":15},\"zerolinecolor\":\"white\",\"zerolinewidth\":2}}},\"xaxis\":{\"anchor\":\"y\",\"domain\":[0.0,0.2888888888888889],\"title\":{\"text\":\"Year\"}},\"xaxis2\":{\"anchor\":\"y2\",\"domain\":[0.35555555555555557,0.6444444444444445],\"title\":{\"text\":\"Year\"}},\"xaxis3\":{\"anchor\":\"y3\",\"domain\":[0.7111111111111111,1.0],\"title\":{\"text\":\"Year\"}},\"yaxis\":{\"anchor\":\"x\",\"domain\":[0.0,1.0],\"range\":[0,350],\"title\":{\"text\":\"Emissions (MtCO2)\"}},\"yaxis2\":{\"anchor\":\"x2\",\"domain\":[0.0,1.0],\"matches\":\"y\",\"range\":[0,350],\"showticklabels\":false},\"yaxis3\":{\"anchor\":\"x3\",\"domain\":[0.0,1.0],\"matches\":\"y\",\"range\":[0,350],\"showticklabels\":false}},                        {\"responsive\": true}                    ).then(function(){\n",
       "                            \n",
       "var gd = document.getElementById('a1da7479-2dec-470a-8dc0-bdea312d8890');\n",
       "var x = new MutationObserver(function (mutations, observer) {{\n",
       "        var display = window.getComputedStyle(gd).display;\n",
       "        if (!display || display === 'none') {{\n",
       "            console.log([gd, 'removed!']);\n",
       "            Plotly.purge(gd);\n",
       "            observer.disconnect();\n",
       "        }}\n",
       "}});\n",
       "\n",
       "// Listen for the removal of the full notebook cells\n",
       "var notebookContainer = gd.closest('#notebook-container');\n",
       "if (notebookContainer) {{\n",
       "    x.observe(notebookContainer, {childList: true});\n",
       "}}\n",
       "\n",
       "// Listen for the clearing of the current output cell\n",
       "var outputEl = gd.closest('.output');\n",
       "if (outputEl) {{\n",
       "    x.observe(outputEl, {childList: true});\n",
       "}}\n",
       "\n",
       "                        })                };                });            </script>        </div>"
      ]
     },
     "metadata": {},
     "output_type": "display_data"
    }
   ],
   "source": [
    "fig =make_subplots(rows=1, cols=3,subplot_titles=list(scen.keys()),shared_yaxes=True)\n",
    "for i in range(len(scen.keys())):\n",
    "    emissions_agg=scen[list(scen.keys())[i]]['emissions'].drop([\"Sector\",\"Country\"],axis=1).groupby(by=[\"Year\"]).sum().reset_index()\n",
    "    captured_emissions_agg=scen[list(scen.keys())[i]]['captured_emissions'].drop([\"Technology\",\"Sector\",\"Country\"],axis=1).groupby(by=\"Year\").sum().reset_index()\n",
    "    showlegend=[True,False,False]\n",
    "    fig.add_trace(go.Scatter(\n",
    "        name=\"Emissions\",\n",
    "        x=emissions_agg.Year, y=emissions_agg.Emissions*1e-6,\n",
    "        mode='lines',\n",
    "        line=dict(width=0, color='grey'),\n",
    "        stackgroup='one',showlegend=showlegend[i]\n",
    "    ),row=1, col=i+1)\n",
    "    fig.add_trace(go.Scatter(\n",
    "        name=\"Captured emissions\",\n",
    "        x=captured_emissions_agg.Year, y=captured_emissions_agg.Captured_emissions*1e-6,\n",
    "        mode='lines',\n",
    "        line=dict(width=0, color='black'),\n",
    "        stackgroup='one',showlegend=showlegend[i]\n",
    "    ),row=1, col=i+1)\n",
    "\n",
    "    fig.update_xaxes(title_text=\"Year\", row=1, col=i+1)\n",
    "\n",
    "fig.update_layout(#title='CO2 emissions in EU-5+1',title_x=0.5,\n",
    "                   yaxis_title='Emissions (MtCO2)')\n",
    "fig.update_yaxes(range=[0,350])\n",
    "fig.update_layout(\n",
    "    font=dict(\n",
    "        family=\"Times New Roman\",size=24)\n",
    "    )\n",
    "fig.update_layout(legend=dict(\n",
    "    orientation=\"h\",\n",
    "    yanchor=\"bottom\",\n",
    "    y=1.1,\n",
    "    xanchor=\"right\",\n",
    "    x=0.75\n",
    "))\n",
    "fig.update_annotations(font_size=24)\n",
    "\n",
    "fig.show()"
   ]
  },
  {
   "cell_type": "code",
   "execution_count": 242,
   "id": "526da04d",
   "metadata": {},
   "outputs": [
    {
     "data": {
      "application/vnd.plotly.v1+json": {
       "config": {
        "plotlyServerURL": "https://plot.ly"
       },
       "data": [
        {
         "fillcolor": "cyan",
         "line": {
          "color": "cyan",
          "width": 0
         },
         "mode": "lines",
         "name": "Hydrogen",
         "showlegend": true,
         "stackgroup": "one",
         "type": "scatter",
         "x": [
          2015,
          2016,
          2017,
          2018,
          2019,
          2020,
          2021,
          2022,
          2023,
          2024,
          2025,
          2026,
          2027,
          2028,
          2029,
          2030,
          2031,
          2032,
          2033,
          2034,
          2035,
          2036,
          2037,
          2038,
          2039,
          2040,
          2041,
          2042,
          2043,
          2044,
          2045,
          2046,
          2047,
          2048,
          2049,
          2050
         ],
         "xaxis": "x",
         "y": [
          34.13396519999999,
          33.77432519999999,
          33.414685199999994,
          33.055045199999995,
          32.69540519999999,
          32.3357652,
          31.516585199999994,
          30.697405200000002,
          29.8782252,
          29.0590452,
          28.239865199999997,
          27.420685199999998,
          26.6015052,
          25.7823252,
          24.963145199999996,
          29.072023529297443,
          26.156090926960992,
          24.886213529297446,
          24.067033529297447,
          23.247853529297444,
          46.8217674441223,
          70.32690518213256,
          88.26667671011971,
          104.22852407357762,
          119.78678937712452,
          136.72458117165013,
          150.07905488106434,
          156.07111770305963,
          162.17879525574494,
          160.8657929023752,
          148.35203275824952,
          136.70118166085484,
          125.13679902595322,
          115.84833442274389,
          110.46983040843,
          113.35034975659056
         ],
         "yaxis": "y"
        },
        {
         "fillcolor": "cyan",
         "line": {
          "color": "cyan",
          "width": 0
         },
         "mode": "lines",
         "name": "Hydrogen",
         "showlegend": false,
         "stackgroup": "two",
         "type": "scatter",
         "x": [
          2015,
          2016,
          2017,
          2018,
          2019,
          2020,
          2021,
          2022,
          2023,
          2024,
          2025,
          2026,
          2027,
          2028,
          2029,
          2030,
          2031,
          2032,
          2033,
          2034,
          2035,
          2036,
          2037,
          2038,
          2039,
          2040,
          2041,
          2042,
          2043,
          2044,
          2045,
          2046,
          2047,
          2048,
          2049,
          2050
         ],
         "xaxis": "x",
         "y": [
          -40.88304276758816,
          -39.81835892823685,
          -39.57859892823685,
          -39.33883892823685,
          -39.09907892823685,
          -38.859318928236846,
          -38.41332522501104,
          -37.96733152178523,
          -37.52133781855943,
          -37.07534411533363,
          -32.145526637110045,
          -29.84698279305622,
          -29.085419649283345,
          -28.323856505510456,
          -27.56229336173758,
          -31.747666660121183,
          -28.46594499465701,
          -27.78743153386575,
          -27.08103897073803,
          -26.362768965009355,
          -42.68190291394777,
          -54.55240233077146,
          -51.241934125680686,
          -52.435327900131064,
          -51.35391051475648,
          -51.336329740383654,
          -52.63526787996639,
          -54.401165572314184,
          -64.29853757467697,
          -78.7329369114603,
          -84.6149018275598,
          -94.05170527358865,
          -107.93707637395234,
          -106.7245172911859,
          -109.42191879731487,
          -113.35202338703151
         ],
         "yaxis": "y"
        },
        {
         "fillcolor": "purple",
         "line": {
          "color": "purple",
          "width": 0
         },
         "mode": "lines",
         "name": "Gas",
         "showlegend": true,
         "stackgroup": "one",
         "type": "scatter",
         "x": [
          2015,
          2016,
          2017,
          2018,
          2019,
          2020,
          2021,
          2022,
          2023,
          2024,
          2025,
          2026,
          2027,
          2028,
          2029,
          2030,
          2031,
          2032,
          2033,
          2034,
          2035,
          2036,
          2037,
          2038,
          2039,
          2040,
          2041,
          2042,
          2043,
          2044,
          2045,
          2046,
          2047,
          2048,
          2049,
          2050
         ],
         "xaxis": "x",
         "y": [
          49.0524657507141,
          49.0524657507141,
          48.7666761507141,
          48.480886550714104,
          48.1950969507141,
          47.9093073507141,
          47.47105511639151,
          47.03280288206893,
          46.59455064774635,
          46.15629841342377,
          44.18096081951215,
          40.428486166181756,
          44.98821893653055,
          43.94115170687935,
          42.89408447722815,
          47.316415143487205,
          47.80582576105085,
          46.824520869464166,
          45.843215977877485,
          44.84075943987431,
          63.19553461576525,
          76.75862475274,
          82.11431223491995,
          85.37227057325913,
          89.19236091449214,
          92.70196074120496,
          91.32377592714892,
          94.69725193768036,
          97.28006837880581,
          99.9130167469292,
          102.31241224721232,
          104.07130707239165,
          104.62480816636848,
          104.84108089773382,
          103.7877040417584,
          105.80476575957616
         ],
         "yaxis": "y"
        },
        {
         "fillcolor": "purple",
         "line": {
          "color": "purple",
          "width": 0
         },
         "mode": "lines",
         "name": "Gas",
         "showlegend": false,
         "stackgroup": "two",
         "type": "scatter",
         "x": [
          2015,
          2016,
          2017,
          2018,
          2019,
          2020,
          2021,
          2022,
          2023,
          2024,
          2025,
          2026,
          2027,
          2028,
          2029,
          2030,
          2031,
          2032,
          2033,
          2034,
          2035,
          2036,
          2037,
          2038,
          2039,
          2040,
          2041,
          2042,
          2043,
          2044,
          2045,
          2046,
          2047,
          2048,
          2049,
          2050
         ],
         "xaxis": "x",
         "y": [
          -10.058771612903225,
          -10.058771612903225,
          -10.058771612903225,
          -10.058771612903225,
          -10.058771612903225,
          -10.058771612903225,
          -9.924654658064515,
          -9.790537703225805,
          -9.656420748387095,
          -9.522303793548389,
          -19.831077678151125,
          -21.17204009995983,
          -26.76403210560006,
          -28.104903811240295,
          -29.445775516880524,
          -29.266337657199543,
          -34.01548966283978,
          -34.79386136848001,
          -35.572233074120234,
          -36.35248606613619,
          -56.122191260341424,
          -69.83678303745127,
          -73.91493270962482,
          -76.43931513928982,
          -79.91170447908948,
          -82.88066585074853,
          -85.75680096135083,
          -88.93135007857826,
          -91.79064932323459,
          -94.70008049488888,
          -97.43204243756058,
          -100.15595400768615,
          -101.81736664660922,
          -101.38550490194517,
          -101.37772436101622,
          -104.40900604847697
         ],
         "yaxis": "y"
        },
        {
         "fillcolor": "black",
         "line": {
          "color": "black",
          "width": 0
         },
         "mode": "lines",
         "name": "Coal",
         "showlegend": true,
         "stackgroup": "one",
         "type": "scatter",
         "x": [
          2015,
          2016,
          2017,
          2018,
          2019,
          2020,
          2021,
          2022,
          2023,
          2024,
          2025,
          2026,
          2027,
          2028,
          2029,
          2030,
          2031,
          2032,
          2033,
          2034,
          2035,
          2036,
          2037,
          2038,
          2039,
          2040,
          2041,
          2042,
          2043,
          2044,
          2045,
          2046,
          2047,
          2048,
          2049,
          2050
         ],
         "xaxis": "x",
         "y": [
          400.0732957214581,
          400.45278162539626,
          400.7991192435614,
          401.10706517033185,
          401.3698444013438,
          401.5789881811425,
          401.5794104695188,
          401.4995907717133,
          401.3260140095586,
          401.0406600788317,
          386.75831600867446,
          386.4126229233603,
          372.90076272631745,
          371.2915020137342,
          368.7640224147553,
          344.4326983284878,
          343.6224244243769,
          340.30682011600396,
          335.4982547107089,
          330.6896893054139,
          313.43977426517904,
          297.00511055174553,
          269.6448904694849,
          261.994142886584,
          159.47173694145155,
          168.98000878087626,
          168.63264527231146,
          167.6069995107584,
          165.73162427385577,
          163.3663237339352,
          160.65277785749913,
          157.7290865120693,
          154.82107269317376,
          150.6467624528456,
          142.09927098342308,
          115.3473017197223
         ],
         "yaxis": "y"
        },
        {
         "fillcolor": "black",
         "line": {
          "color": "black",
          "width": 0
         },
         "mode": "lines",
         "name": "Coal",
         "showlegend": false,
         "stackgroup": "two",
         "type": "scatter",
         "x": [
          2015,
          2016,
          2017,
          2018,
          2019,
          2020,
          2021,
          2022,
          2023,
          2024,
          2025,
          2026,
          2027,
          2028,
          2029,
          2030,
          2031,
          2032,
          2033,
          2034,
          2035,
          2036,
          2037,
          2038,
          2039,
          2040,
          2041,
          2042,
          2043,
          2044,
          2045,
          2046,
          2047,
          2048,
          2049,
          2050
         ],
         "xaxis": "x",
         "y": [
          0,
          0,
          0,
          0,
          0,
          0,
          0,
          0,
          0,
          0,
          0,
          0,
          0,
          0,
          0,
          0,
          0,
          0,
          0,
          0,
          0,
          0,
          0,
          0,
          0,
          0,
          0,
          0,
          0,
          0,
          0,
          0,
          0,
          0,
          0,
          0
         ],
         "yaxis": "y"
        },
        {
         "fillcolor": "grey",
         "line": {
          "color": "grey",
          "width": 0
         },
         "mode": "lines",
         "name": "Oil",
         "showlegend": true,
         "stackgroup": "one",
         "type": "scatter",
         "x": [
          2015,
          2016,
          2017,
          2018,
          2019,
          2020,
          2021,
          2022,
          2023,
          2024,
          2025,
          2026,
          2027,
          2028,
          2029,
          2030,
          2031,
          2032,
          2033,
          2034,
          2035,
          2036,
          2037,
          2038,
          2039,
          2040,
          2041,
          2042,
          2043,
          2044,
          2045,
          2046,
          2047,
          2048,
          2049,
          2050
         ],
         "xaxis": "x",
         "y": [
          692.7148503638709,
          692.7148503638709,
          692.7148503638709,
          692.7148503638709,
          692.7148503638709,
          692.7148503638709,
          683.4786523590193,
          674.2424543541676,
          665.0062563493162,
          655.7700583444646,
          646.5338603396129,
          637.2976623347613,
          628.0614643299097,
          618.825266325058,
          609.5890683202065,
          600.3528703153548,
          591.1166723105032,
          581.8804743056517,
          572.6442763007999,
          563.4080782959484,
          400.26757423643824,
          245.18852827379555,
          188.12689740261936,
          150.77594062543227,
          126.5353443291742,
          102.29474803291615,
          78.11816526490153,
          68.91028667375988,
          66.21013317332863,
          63.50997967289736,
          57.75206917350026,
          50.037970860821126,
          45.06931420606479,
          43.023193947115146,
          41.01314422377814,
          38.86726282364467
         ],
         "yaxis": "y"
        },
        {
         "fillcolor": "grey",
         "line": {
          "color": "grey",
          "width": 0
         },
         "mode": "lines",
         "name": "Oil",
         "showlegend": false,
         "stackgroup": "two",
         "type": "scatter",
         "x": [
          2015,
          2016,
          2017,
          2018,
          2019,
          2020,
          2021,
          2022,
          2023,
          2024,
          2025,
          2026,
          2027,
          2028,
          2029,
          2030,
          2031,
          2032,
          2033,
          2034,
          2035,
          2036,
          2037,
          2038,
          2039,
          2040,
          2041,
          2042,
          2043,
          2044,
          2045,
          2046,
          2047,
          2048,
          2049,
          2050
         ],
         "xaxis": "x",
         "y": [
          0,
          0,
          0,
          0,
          0,
          0,
          0,
          0,
          0,
          0,
          0,
          0,
          0,
          0,
          0,
          0,
          0,
          0,
          0,
          0,
          0,
          0,
          0,
          0,
          0,
          0,
          0,
          0,
          0,
          0,
          0,
          0,
          0,
          0,
          0,
          0
         ],
         "yaxis": "y"
        },
        {
         "fillcolor": "brown",
         "line": {
          "color": "brown",
          "width": 0
         },
         "mode": "lines",
         "name": "Biomass",
         "showlegend": true,
         "stackgroup": "one",
         "type": "scatter",
         "x": [
          2015,
          2016,
          2017,
          2018,
          2019,
          2020,
          2021,
          2022,
          2023,
          2024,
          2025,
          2026,
          2027,
          2028,
          2029,
          2030,
          2031,
          2032,
          2033,
          2034,
          2035,
          2036,
          2037,
          2038,
          2039,
          2040,
          2041,
          2042,
          2043,
          2044,
          2045,
          2046,
          2047,
          2048,
          2049,
          2050
         ],
         "xaxis": "x",
         "y": [
          0,
          0,
          0,
          0,
          0,
          0,
          0,
          0,
          0,
          0,
          4.177326658640649,
          5.173927565766517,
          5.967101277017183,
          7.5286713369289675,
          10.18261985663695,
          11.00758644305838,
          11.390989179479806,
          11.774391915901235,
          12.157794652322663,
          12.54940427742637,
          161.3126806951856,
          351.09669862391905,
          367.09387631218584,
          358.9103835478407,
          460.5333266129398,
          407.97585708286385,
          392.06036011116515,
          389.19582484295546,
          354.07745993166236,
          342.2203055128641,
          330.2192271693042,
          321.4164365824944,
          312.3248606817641,
          298.2664078834233,
          285.00426142659177,
          264.1577081070794
         ],
         "yaxis": "y"
        },
        {
         "fillcolor": "brown",
         "line": {
          "color": "brown",
          "width": 0
         },
         "mode": "lines",
         "name": "Biomass",
         "showlegend": false,
         "stackgroup": "two",
         "type": "scatter",
         "x": [
          2015,
          2016,
          2017,
          2018,
          2019,
          2020,
          2021,
          2022,
          2023,
          2024,
          2025,
          2026,
          2027,
          2028,
          2029,
          2030,
          2031,
          2032,
          2033,
          2034,
          2035,
          2036,
          2037,
          2038,
          2039,
          2040,
          2041,
          2042,
          2043,
          2044,
          2045,
          2046,
          2047,
          2048,
          2049,
          2050
         ],
         "xaxis": "x",
         "y": [
          0,
          0,
          0,
          0,
          0,
          0,
          0,
          0,
          0,
          0,
          0,
          0,
          0,
          0,
          0,
          0,
          0,
          0,
          0,
          0,
          0,
          0,
          0,
          0,
          0,
          0,
          0,
          0,
          0,
          0,
          0,
          0,
          0,
          0,
          0,
          0
         ],
         "yaxis": "y"
        },
        {
         "fillcolor": "yellow",
         "line": {
          "color": "yellow",
          "width": 0
         },
         "mode": "lines",
         "name": "Electricity",
         "showlegend": true,
         "stackgroup": "one",
         "type": "scatter",
         "x": [
          2015,
          2016,
          2017,
          2018,
          2019,
          2020,
          2021,
          2022,
          2023,
          2024,
          2025,
          2026,
          2027,
          2028,
          2029,
          2030,
          2031,
          2032,
          2033,
          2034,
          2035,
          2036,
          2037,
          2038,
          2039,
          2040,
          2041,
          2042,
          2043,
          2044,
          2045,
          2046,
          2047,
          2048,
          2049,
          2050
         ],
         "xaxis": "x",
         "y": [
          151.76273091863644,
          148.25542082580645,
          148.13719442580646,
          148.01896802580646,
          147.90074162580646,
          147.78251522580643,
          147.31046752946236,
          146.83841983311828,
          146.3663721367742,
          145.8943244404301,
          150.4610119935437,
          150.10145449405738,
          153.80107027376357,
          153.35268605346974,
          152.90430183317594,
          174.01827066669577,
          165.48308044881162,
          170.3889239214853,
          171.0093634511915,
          172.6579215134142,
          197.11401281725279,
          199.11447225256552,
          203.56986060719444,
          211.32710563605877,
          216.80365080029034,
          238.5341507144927,
          244.1142656703849,
          244.7546926640497,
          259.24080233414276,
          276.02065889883016,
          270.039925460855,
          273.4749015216679,
          282.3824839149882,
          272.3528200921522,
          271.94003505352674,
          282.19972635794386
         ],
         "yaxis": "y"
        },
        {
         "fillcolor": "yellow",
         "line": {
          "color": "yellow",
          "width": 0
         },
         "mode": "lines",
         "name": "Electricity",
         "showlegend": false,
         "stackgroup": "two",
         "type": "scatter",
         "x": [
          2015,
          2016,
          2017,
          2018,
          2019,
          2020,
          2021,
          2022,
          2023,
          2024,
          2025,
          2026,
          2027,
          2028,
          2029,
          2030,
          2031,
          2032,
          2033,
          2034,
          2035,
          2036,
          2037,
          2038,
          2039,
          2040,
          2041,
          2042,
          2043,
          2044,
          2045,
          2046,
          2047,
          2048,
          2049,
          2050
         ],
         "xaxis": "x",
         "y": [
          0,
          0,
          0,
          0,
          0,
          0,
          0,
          0,
          0,
          0,
          0,
          0,
          0,
          0,
          0,
          0,
          0,
          0,
          0,
          0,
          0,
          0,
          0,
          0,
          0,
          0,
          0,
          0,
          0,
          0,
          0,
          0,
          0,
          0,
          0,
          0
         ],
         "yaxis": "y"
        },
        {
         "fillcolor": "red",
         "line": {
          "color": "red",
          "width": 0
         },
         "mode": "lines",
         "name": "MeOH",
         "showlegend": true,
         "stackgroup": "one",
         "type": "scatter",
         "x": [
          2015,
          2016,
          2017,
          2018,
          2019,
          2020,
          2021,
          2022,
          2023,
          2024,
          2025,
          2026,
          2027,
          2028,
          2029,
          2030,
          2031,
          2032,
          2033,
          2034,
          2035,
          2036,
          2037,
          2038,
          2039,
          2040,
          2041,
          2042,
          2043,
          2044,
          2045,
          2046,
          2047,
          2048,
          2049,
          2050
         ],
         "xaxis": "x",
         "y": [
          0,
          0,
          0,
          0,
          0,
          0,
          0,
          0,
          0,
          0,
          0.09824336767895878,
          0.1393978000765462,
          0.14805506046550151,
          0.15671232085445688,
          0.16536958124341228,
          0.17402684163236762,
          0.182684102021323,
          0.19134136241027835,
          0.19999862279923372,
          0.208916125342896,
          41.63391082371151,
          66.94783907686457,
          93.88954365887768,
          112.33607816919502,
          123.31326930200248,
          134.37645495396401,
          145.4078953204588,
          146.1840163711629,
          151.99933741359285,
          151.38616244591657,
          152.33710973910823,
          153.5647167709143,
          153.25280141144032,
          152.51943830432873,
          150.61026262781104,
          148.29950146854463
         ],
         "yaxis": "y"
        },
        {
         "fillcolor": "red",
         "line": {
          "color": "red",
          "width": 0
         },
         "mode": "lines",
         "name": "MeOH",
         "showlegend": false,
         "stackgroup": "two",
         "type": "scatter",
         "x": [
          2015,
          2016,
          2017,
          2018,
          2019,
          2020,
          2021,
          2022,
          2023,
          2024,
          2025,
          2026,
          2027,
          2028,
          2029,
          2030,
          2031,
          2032,
          2033,
          2034,
          2035,
          2036,
          2037,
          2038,
          2039,
          2040,
          2041,
          2042,
          2043,
          2044,
          2045,
          2046,
          2047,
          2048,
          2049,
          2050
         ],
         "xaxis": "x",
         "y": [
          -7.8723399999999994,
          -7.8723399999999994,
          -7.8723399999999994,
          -7.8723399999999994,
          -7.8723399999999994,
          -7.8723399999999994,
          -7.8723399999999994,
          -7.8723399999999994,
          -7.8723399999999994,
          -7.8723399999999994,
          -7.8723399999999994,
          -7.8723399999999994,
          -7.8723399999999994,
          -7.8723399999999994,
          -7.8723399999999994,
          -7.8723399999999994,
          -7.8723399999999994,
          -7.8723399999999994,
          -7.8723399999999994,
          -7.8723399999999994,
          -33.39950886932966,
          -53.29654383928535,
          -73.5259172393195,
          -90.69838849681975,
          -107.02144584119185,
          -124.59417812131973,
          -136.09233110967486,
          -143.88977157761622,
          -151.23544990842004,
          -151.39170244591656,
          -152.50153212579292,
          -153.72913915759898,
          -153.417223798125,
          -152.68386069101342,
          -150.69830907499934,
          -148.30504146854463
         ],
         "yaxis": "y"
        },
        {
         "fillcolor": "green",
         "line": {
          "color": "green",
          "width": 0
         },
         "mode": "lines",
         "name": "Waste",
         "showlegend": true,
         "stackgroup": "one",
         "type": "scatter",
         "x": [
          2015,
          2016,
          2017,
          2018,
          2019,
          2020,
          2021,
          2022,
          2023,
          2024,
          2025,
          2026,
          2027,
          2028,
          2029,
          2030,
          2031,
          2032,
          2033,
          2034,
          2035,
          2036,
          2037,
          2038,
          2039,
          2040,
          2041,
          2042,
          2043,
          2044,
          2045,
          2046,
          2047,
          2048,
          2049,
          2050
         ],
         "xaxis": "x",
         "y": [
          37.510386080695,
          37.89043151719906,
          38.23727979247738,
          38.54567976977458,
          38.80884645532931,
          39.01829860693984,
          38.55468901287267,
          38.010719119917034,
          37.37285392261373,
          36.62304674701722,
          31.60508514975767,
          31.700981371317333,
          31.775168984311595,
          31.775168984311595,
          31.24544127627791,
          30.661411655725907,
          30.361952669513403,
          30.06570559744883,
          29.773786210438864,
          29.481866823428906,
          26.973207141550628,
          21.086908225680066,
          15.198388124373805,
          9.197058792445759,
          1.5434581124826752,
          26.211188048009596,
          27.61852895631673,
          27.32912276904095,
          27.03971658176517,
          26.75031039448939,
          26.46090420721361,
          25.790914695286176,
          25.73971933011526,
          25.407254355835576,
          25.203180235546174,
          23.822494180063234
         ],
         "yaxis": "y"
        },
        {
         "fillcolor": "green",
         "line": {
          "color": "green",
          "width": 0
         },
         "mode": "lines",
         "name": "Waste",
         "showlegend": false,
         "stackgroup": "two",
         "type": "scatter",
         "x": [
          2015,
          2016,
          2017,
          2018,
          2019,
          2020,
          2021,
          2022,
          2023,
          2024,
          2025,
          2026,
          2027,
          2028,
          2029,
          2030,
          2031,
          2032,
          2033,
          2034,
          2035,
          2036,
          2037,
          2038,
          2039,
          2040,
          2041,
          2042,
          2043,
          2044,
          2045,
          2046,
          2047,
          2048,
          2049,
          2050
         ],
         "xaxis": "x",
         "y": [
          0,
          0,
          0,
          0,
          0,
          0,
          0,
          0,
          0,
          0,
          0,
          0,
          0,
          0,
          0,
          0,
          0,
          0,
          0,
          0,
          0,
          0,
          0,
          0,
          0,
          0,
          0,
          0,
          0,
          0,
          0,
          0,
          0,
          0,
          0,
          0
         ],
         "yaxis": "y"
        },
        {
         "fillcolor": "cyan",
         "line": {
          "color": "cyan",
          "width": 0
         },
         "mode": "lines",
         "name": "Hydrogen",
         "showlegend": false,
         "stackgroup": "one",
         "type": "scatter",
         "x": [
          2015,
          2016,
          2017,
          2018,
          2019,
          2020,
          2021,
          2022,
          2023,
          2024,
          2025,
          2026,
          2027,
          2028,
          2029,
          2030,
          2031,
          2032,
          2033,
          2034,
          2035,
          2036,
          2037,
          2038,
          2039,
          2040,
          2041,
          2042,
          2043,
          2044,
          2045,
          2046,
          2047,
          2048,
          2049,
          2050
         ],
         "xaxis": "x2",
         "y": [
          34.13396519999999,
          33.77432519999999,
          33.414685199999994,
          33.055045199999995,
          32.69540519999999,
          32.3357652,
          31.516585199999994,
          30.697405200000002,
          29.8782252,
          29.0590452,
          28.239865199999997,
          27.420685199999998,
          26.6015052,
          25.7823252,
          24.963145199999996,
          58.23590631091376,
          56.28735681091376,
          55.17946581091376,
          53.222424810913765,
          51.421021746557315,
          73.5506977926449,
          99.99806229448822,
          128.6704547926488,
          146.82382399246853,
          161.6569388822458,
          175.87820290482895,
          192.73144268798717,
          201.00407146259445,
          204.78128672789143,
          202.95738641526992,
          189.6781324909942,
          176.5466840917262,
          164.9358406114776,
          157.8671388830595,
          153.40001246214254,
          164.6315603124308
         ],
         "yaxis": "y2"
        },
        {
         "fillcolor": "cyan",
         "line": {
          "color": "cyan",
          "width": 0
         },
         "mode": "lines",
         "name": "Hydrogen",
         "showlegend": false,
         "stackgroup": "two",
         "type": "scatter",
         "x": [
          2015,
          2016,
          2017,
          2018,
          2019,
          2020,
          2021,
          2022,
          2023,
          2024,
          2025,
          2026,
          2027,
          2028,
          2029,
          2030,
          2031,
          2032,
          2033,
          2034,
          2035,
          2036,
          2037,
          2038,
          2039,
          2040,
          2041,
          2042,
          2043,
          2044,
          2045,
          2046,
          2047,
          2048,
          2049,
          2050
         ],
         "xaxis": "x2",
         "y": [
          -40.681100125419576,
          -39.81835892823685,
          -39.57859892823685,
          -39.33883892823685,
          -39.09907892823685,
          -38.859318928236846,
          -38.41332522501104,
          -37.96733152178523,
          -37.52133781855943,
          -37.07534411533363,
          -32.14552663711005,
          -29.84698279305622,
          -29.085419649283345,
          -28.323856505510456,
          -27.56229336173758,
          -60.503957441737505,
          -56.400964878609784,
          -56.54372231548207,
          -55.83732975235435,
          -54.54774303315919,
          -73.37710811522555,
          -93.82361962273775,
          -111.65270317802344,
          -127.61338912573619,
          -137.76168047294343,
          -139.8947885254642,
          -148.6660597042973,
          -159.6007463451978,
          -163.59373115101744,
          -167.28202029358812,
          -162.8243768490523,
          -157.93105591928244,
          -155.08784737986448,
          -153.12123336261664,
          -153.40001246214254,
          -164.63323394287173
         ],
         "yaxis": "y2"
        },
        {
         "fillcolor": "purple",
         "line": {
          "color": "purple",
          "width": 0
         },
         "mode": "lines",
         "name": "Gas",
         "showlegend": false,
         "stackgroup": "one",
         "type": "scatter",
         "x": [
          2015,
          2016,
          2017,
          2018,
          2019,
          2020,
          2021,
          2022,
          2023,
          2024,
          2025,
          2026,
          2027,
          2028,
          2029,
          2030,
          2031,
          2032,
          2033,
          2034,
          2035,
          2036,
          2037,
          2038,
          2039,
          2040,
          2041,
          2042,
          2043,
          2044,
          2045,
          2046,
          2047,
          2048,
          2049,
          2050
         ],
         "xaxis": "x2",
         "y": [
          49.0524657507141,
          49.0524657507141,
          48.7666761507141,
          48.480886550714104,
          48.1950969507141,
          47.9093073507141,
          47.47105511639151,
          47.03280288206893,
          46.59455064774635,
          46.156298413423784,
          44.18096081951215,
          40.42848616618175,
          45.89132213613581,
          48.34850490648461,
          56.93793707342306,
          84.71414783295873,
          83.43848594137206,
          82.45718104978539,
          81.4758761581987,
          86.09607498157786,
          101.15137066166268,
          119.1389156354505,
          127.8818753323234,
          132.82314381027874,
          136.3267320074014,
          139.03652965763283,
          136.84313750996023,
          139.66590419966312,
          142.0385145579236,
          144.56668959469164,
          147.2326949017434,
          148.94621826540035,
          150.3753680138661,
          151.1257339083605,
          151.23262793380695,
          151.63373292263026
         ],
         "yaxis": "y2"
        },
        {
         "fillcolor": "purple",
         "line": {
          "color": "purple",
          "width": 0
         },
         "mode": "lines",
         "name": "Gas",
         "showlegend": false,
         "stackgroup": "two",
         "type": "scatter",
         "x": [
          2015,
          2016,
          2017,
          2018,
          2019,
          2020,
          2021,
          2022,
          2023,
          2024,
          2025,
          2026,
          2027,
          2028,
          2029,
          2030,
          2031,
          2032,
          2033,
          2034,
          2035,
          2036,
          2037,
          2038,
          2039,
          2040,
          2041,
          2042,
          2043,
          2044,
          2045,
          2046,
          2047,
          2048,
          2049,
          2050
         ],
         "xaxis": "x2",
         "y": [
          -10.058771612903225,
          -10.058771612903225,
          -10.058771612903225,
          -10.058771612903225,
          -10.058771612903225,
          -10.058771612903225,
          -9.924654658064515,
          -9.790537703225805,
          -9.656420748387095,
          -9.522303793548389,
          -19.83107767815112,
          -21.172040099959823,
          -29.02281500520532,
          -33.86793671084555,
          -44.845307813075436,
          -49.940866922520755,
          -58.73319862816098,
          -62.19907033380122,
          -65.66494203944144,
          -75.42752788187548,
          -93.80184114643521,
          -112.21707392016178,
          -119.39362192839987,
          -124.01330370621365,
          -126.97625344828255,
          -130.01656264346025,
          -132.94525204073386,
          -136.00478027538298,
          -138.6141521785897,
          -141.37908876030397,
          -144.16255069608852,
          -146.03174950212048,
          -147.81842156923383,
          -149.3194071827558,
          -150.65233062406475,
          -150.23797321153108
         ],
         "yaxis": "y2"
        },
        {
         "fillcolor": "black",
         "line": {
          "color": "black",
          "width": 0
         },
         "mode": "lines",
         "name": "Coal",
         "showlegend": false,
         "stackgroup": "one",
         "type": "scatter",
         "x": [
          2015,
          2016,
          2017,
          2018,
          2019,
          2020,
          2021,
          2022,
          2023,
          2024,
          2025,
          2026,
          2027,
          2028,
          2029,
          2030,
          2031,
          2032,
          2033,
          2034,
          2035,
          2036,
          2037,
          2038,
          2039,
          2040,
          2041,
          2042,
          2043,
          2044,
          2045,
          2046,
          2047,
          2048,
          2049,
          2050
         ],
         "xaxis": "x2",
         "y": [
          400.0732957214581,
          400.45278162539626,
          400.7991192435614,
          401.10706517033185,
          401.3698444013438,
          401.5789881811425,
          401.5794104695188,
          401.4995907717133,
          401.3260140095586,
          401.0406600788317,
          386.75831600867446,
          386.4126229233603,
          371.08321679916725,
          362.42145608658404,
          340.4999800562864,
          241.26534212647448,
          240.79358822236358,
          236.94184909297675,
          235.91141609827469,
          221.6934706587239,
          202.61688342885432,
          189.81529448755828,
          167.74442010439338,
          159.95062934771087,
          93.28889212897764,
          102.43718316530894,
          100.37879371477602,
          99.33519757117055,
          96.86984686046067,
          94.00778778357092,
          89.33385786710625,
          86.06595596933606,
          83.39818380922732,
          73.79855495572157,
          62.274385679117984,
          37.72761755377762
         ],
         "yaxis": "y2"
        },
        {
         "fillcolor": "black",
         "line": {
          "color": "black",
          "width": 0
         },
         "mode": "lines",
         "name": "Coal",
         "showlegend": false,
         "stackgroup": "two",
         "type": "scatter",
         "x": [
          2015,
          2016,
          2017,
          2018,
          2019,
          2020,
          2021,
          2022,
          2023,
          2024,
          2025,
          2026,
          2027,
          2028,
          2029,
          2030,
          2031,
          2032,
          2033,
          2034,
          2035,
          2036,
          2037,
          2038,
          2039,
          2040,
          2041,
          2042,
          2043,
          2044,
          2045,
          2046,
          2047,
          2048,
          2049,
          2050
         ],
         "xaxis": "x2",
         "y": [
          0,
          0,
          0,
          0,
          0,
          0,
          0,
          0,
          0,
          0,
          0,
          0,
          0,
          0,
          0,
          0,
          0,
          0,
          0,
          0,
          0,
          0,
          0,
          0,
          0,
          0,
          0,
          0,
          0,
          0,
          0,
          0,
          0,
          0,
          0,
          0
         ],
         "yaxis": "y2"
        },
        {
         "fillcolor": "grey",
         "line": {
          "color": "grey",
          "width": 0
         },
         "mode": "lines",
         "name": "Oil",
         "showlegend": false,
         "stackgroup": "one",
         "type": "scatter",
         "x": [
          2015,
          2016,
          2017,
          2018,
          2019,
          2020,
          2021,
          2022,
          2023,
          2024,
          2025,
          2026,
          2027,
          2028,
          2029,
          2030,
          2031,
          2032,
          2033,
          2034,
          2035,
          2036,
          2037,
          2038,
          2039,
          2040,
          2041,
          2042,
          2043,
          2044,
          2045,
          2046,
          2047,
          2048,
          2049,
          2050
         ],
         "xaxis": "x2",
         "y": [
          692.7148503638709,
          692.7148503638709,
          692.7148503638709,
          692.7148503638709,
          692.7148503638709,
          692.7148503638709,
          683.4786523590193,
          674.2424543541676,
          665.0062563493162,
          655.7700583444646,
          646.5338603396129,
          637.2976623347613,
          628.0614643299097,
          618.825266325058,
          609.5890683202065,
          600.3528703153548,
          591.1166723105032,
          581.8804743056517,
          572.6442763007999,
          563.4080782959484,
          398.5552286475102,
          242.87705186948148,
          186.80781251005143,
          145.9792169234708,
          121.32501790560812,
          98.9520134824726,
          72.84382531309198,
          61.754194625420666,
          58.171186778710975,
          54.588178932001284,
          51.00517108529162,
          48.16891853037794,
          45.33266597546424,
          43.023193947115146,
          41.01314422377815,
          38.86726282364468
         ],
         "yaxis": "y2"
        },
        {
         "fillcolor": "grey",
         "line": {
          "color": "grey",
          "width": 0
         },
         "mode": "lines",
         "name": "Oil",
         "showlegend": false,
         "stackgroup": "two",
         "type": "scatter",
         "x": [
          2015,
          2016,
          2017,
          2018,
          2019,
          2020,
          2021,
          2022,
          2023,
          2024,
          2025,
          2026,
          2027,
          2028,
          2029,
          2030,
          2031,
          2032,
          2033,
          2034,
          2035,
          2036,
          2037,
          2038,
          2039,
          2040,
          2041,
          2042,
          2043,
          2044,
          2045,
          2046,
          2047,
          2048,
          2049,
          2050
         ],
         "xaxis": "x2",
         "y": [
          0,
          0,
          0,
          0,
          0,
          0,
          0,
          0,
          0,
          0,
          0,
          0,
          0,
          0,
          0,
          0,
          0,
          0,
          0,
          0,
          0,
          0,
          0,
          0,
          0,
          0,
          0,
          0,
          0,
          0,
          0,
          0,
          0,
          0,
          0,
          0
         ],
         "yaxis": "y2"
        },
        {
         "fillcolor": "brown",
         "line": {
          "color": "brown",
          "width": 0
         },
         "mode": "lines",
         "name": "Biomass",
         "showlegend": false,
         "stackgroup": "one",
         "type": "scatter",
         "x": [
          2015,
          2016,
          2017,
          2018,
          2019,
          2020,
          2021,
          2022,
          2023,
          2024,
          2025,
          2026,
          2027,
          2028,
          2029,
          2030,
          2031,
          2032,
          2033,
          2034,
          2035,
          2036,
          2037,
          2038,
          2039,
          2040,
          2041,
          2042,
          2043,
          2044,
          2045,
          2046,
          2047,
          2048,
          2049,
          2050
         ],
         "xaxis": "x2",
         "y": [
          0,
          0,
          0,
          0,
          0,
          0,
          0,
          0,
          0,
          0,
          4.177326658640649,
          5.1739275657665145,
          5.967101277017183,
          7.5286713369289675,
          10.18261985663695,
          11.00758644305838,
          11.390989179479806,
          11.774391915901235,
          12.157794652322663,
          12.541246856059775,
          159.15339482216083,
          336.2778327558557,
          322.94044992013266,
          318.0562864329782,
          382.8315906433575,
          337.13410821012565,
          329.6817310539158,
          320.61734595183276,
          288.93482522133644,
          276.9175422763037,
          265.1938714306975,
          253.53406586422307,
          241.47393773943097,
          222.8859629821589,
          205.22047711890718,
          146.9914333767427
         ],
         "yaxis": "y2"
        },
        {
         "fillcolor": "brown",
         "line": {
          "color": "brown",
          "width": 0
         },
         "mode": "lines",
         "name": "Biomass",
         "showlegend": false,
         "stackgroup": "two",
         "type": "scatter",
         "x": [
          2015,
          2016,
          2017,
          2018,
          2019,
          2020,
          2021,
          2022,
          2023,
          2024,
          2025,
          2026,
          2027,
          2028,
          2029,
          2030,
          2031,
          2032,
          2033,
          2034,
          2035,
          2036,
          2037,
          2038,
          2039,
          2040,
          2041,
          2042,
          2043,
          2044,
          2045,
          2046,
          2047,
          2048,
          2049,
          2050
         ],
         "xaxis": "x2",
         "y": [
          0,
          0,
          0,
          0,
          0,
          0,
          0,
          0,
          0,
          0,
          0,
          0,
          0,
          0,
          0,
          0,
          0,
          0,
          0,
          0,
          0,
          0,
          0,
          0,
          0,
          0,
          0,
          0,
          0,
          0,
          0,
          0,
          0,
          0,
          0,
          0
         ],
         "yaxis": "y2"
        },
        {
         "fillcolor": "yellow",
         "line": {
          "color": "yellow",
          "width": 0
         },
         "mode": "lines",
         "name": "Electricity",
         "showlegend": false,
         "stackgroup": "one",
         "type": "scatter",
         "x": [
          2015,
          2016,
          2017,
          2018,
          2019,
          2020,
          2021,
          2022,
          2023,
          2024,
          2025,
          2026,
          2027,
          2028,
          2029,
          2030,
          2031,
          2032,
          2033,
          2034,
          2035,
          2036,
          2037,
          2038,
          2039,
          2040,
          2041,
          2042,
          2043,
          2044,
          2045,
          2046,
          2047,
          2048,
          2049,
          2050
         ],
         "xaxis": "x2",
         "y": [
          151.11991049611783,
          148.25542082580645,
          148.13719442580646,
          148.01896802580646,
          147.90074162580646,
          147.78251522580643,
          147.31046752946236,
          146.83841983311828,
          146.3663721367742,
          145.8943244404301,
          150.4610119935437,
          150.10145449405738,
          154.46920041430053,
          156.6133161940067,
          163.29416781181195,
          213.811663295207,
          202.9138942284484,
          204.5256722750397,
          206.1370306162115,
          213.5596562171588,
          244.1896924715595,
          264.892070886674,
          298.75891753118634,
          328.6104218428565,
          348.8046730684639,
          372.41806077770826,
          393.3710062771481,
          409.60733744914324,
          415.1985707947745,
          416.056297498689,
          397.30195923850147,
          398.0305070813637,
          390.79628128779393,
          381.69568198961673,
          379.22596210102336,
          410.7600652746893
         ],
         "yaxis": "y2"
        },
        {
         "fillcolor": "yellow",
         "line": {
          "color": "yellow",
          "width": 0
         },
         "mode": "lines",
         "name": "Electricity",
         "showlegend": false,
         "stackgroup": "two",
         "type": "scatter",
         "x": [
          2015,
          2016,
          2017,
          2018,
          2019,
          2020,
          2021,
          2022,
          2023,
          2024,
          2025,
          2026,
          2027,
          2028,
          2029,
          2030,
          2031,
          2032,
          2033,
          2034,
          2035,
          2036,
          2037,
          2038,
          2039,
          2040,
          2041,
          2042,
          2043,
          2044,
          2045,
          2046,
          2047,
          2048,
          2049,
          2050
         ],
         "xaxis": "x2",
         "y": [
          0,
          0,
          0,
          0,
          0,
          0,
          0,
          0,
          0,
          0,
          0,
          0,
          0,
          0,
          0,
          0,
          0,
          0,
          0,
          0,
          0,
          0,
          0,
          0,
          0,
          0,
          0,
          0,
          0,
          0,
          0,
          0,
          0,
          0,
          0,
          0
         ],
         "yaxis": "y2"
        },
        {
         "fillcolor": "red",
         "line": {
          "color": "red",
          "width": 0
         },
         "mode": "lines",
         "name": "MeOH",
         "showlegend": false,
         "stackgroup": "one",
         "type": "scatter",
         "x": [
          2015,
          2016,
          2017,
          2018,
          2019,
          2020,
          2021,
          2022,
          2023,
          2024,
          2025,
          2026,
          2027,
          2028,
          2029,
          2030,
          2031,
          2032,
          2033,
          2034,
          2035,
          2036,
          2037,
          2038,
          2039,
          2040,
          2041,
          2042,
          2043,
          2044,
          2045,
          2046,
          2047,
          2048,
          2049,
          2050
         ],
         "xaxis": "x2",
         "y": [
          0,
          0,
          0,
          0,
          0,
          0,
          0,
          0,
          0,
          0,
          0.09824336767895878,
          0.13939780007654612,
          0.14805506046550154,
          0.15671232085445688,
          0.1653695812434123,
          0.17402684163236765,
          0.182684102021323,
          0.19134136241027835,
          0.19999862279923375,
          0.2086574518071042,
          41.46343453582003,
          68.83582272868217,
          99.77268016560737,
          119.07712767877139,
          130.34690946793296,
          138.958150182908,
          148.18350578373332,
          151.5425343667765,
          156.70946534173913,
          156.52534175891097,
          155.6528693170058,
          154.77925058852492,
          154.11889826903493,
          152.64349150478938,
          150.2536411030784,
          155.3425137178462
         ],
         "yaxis": "y2"
        },
        {
         "fillcolor": "red",
         "line": {
          "color": "red",
          "width": 0
         },
         "mode": "lines",
         "name": "MeOH",
         "showlegend": false,
         "stackgroup": "two",
         "type": "scatter",
         "x": [
          2015,
          2016,
          2017,
          2018,
          2019,
          2020,
          2021,
          2022,
          2023,
          2024,
          2025,
          2026,
          2027,
          2028,
          2029,
          2030,
          2031,
          2032,
          2033,
          2034,
          2035,
          2036,
          2037,
          2038,
          2039,
          2040,
          2041,
          2042,
          2043,
          2044,
          2045,
          2046,
          2047,
          2048,
          2049,
          2050
         ],
         "xaxis": "x2",
         "y": [
          -7.8723399999999994,
          -7.8723399999999994,
          -7.8723399999999994,
          -7.8723399999999994,
          -7.8723399999999994,
          -7.8723399999999994,
          -7.8723399999999994,
          -7.8723399999999994,
          -7.8723399999999994,
          -7.8723399999999994,
          -7.8723399999999994,
          -7.8723399999999994,
          -7.8723399999999994,
          -7.8723399999999994,
          -7.8723399999999994,
          -7.8723399999999994,
          -7.8723399999999994,
          -7.8723399999999994,
          -7.8723399999999994,
          -7.8723399999999994,
          -31.895126632807084,
          -55.581296797559155,
          -78.75080024229408,
          -97.12433417077771,
          -113.53358496220162,
          -128.21067684561643,
          -141.63794157294933,
          -151.5480743667765,
          -156.71500534173913,
          -156.53088175891097,
          -155.6584093170058,
          -154.7847905885249,
          -154.12443826903493,
          -152.64903150478938,
          -150.2591811030784,
          -155.3480537178462
         ],
         "yaxis": "y2"
        },
        {
         "fillcolor": "green",
         "line": {
          "color": "green",
          "width": 0
         },
         "mode": "lines",
         "name": "Waste",
         "showlegend": false,
         "stackgroup": "one",
         "type": "scatter",
         "x": [
          2015,
          2016,
          2017,
          2018,
          2019,
          2020,
          2021,
          2022,
          2023,
          2024,
          2025,
          2026,
          2027,
          2028,
          2029,
          2030,
          2031,
          2032,
          2033,
          2034,
          2035,
          2036,
          2037,
          2038,
          2039,
          2040,
          2041,
          2042,
          2043,
          2044,
          2045,
          2046,
          2047,
          2048,
          2049,
          2050
         ],
         "xaxis": "x2",
         "y": [
          37.510386080695,
          37.89043151719906,
          38.23727979247738,
          38.54567976977458,
          38.80884645532931,
          39.01829860693984,
          38.55468901287267,
          38.010719119917034,
          37.37285392261373,
          36.62304674701722,
          31.60508514975767,
          31.700981371317333,
          31.775168984311595,
          31.775168984311595,
          31.24544127627791,
          30.661411655725907,
          30.361952669513403,
          30.06771614694379,
          29.773786210438868,
          29.481866823428902,
          26.973207141550635,
          21.60365191228651,
          15.717853152432015,
          9.719245161955666,
          2.304185509869449,
          26.21319859750456,
          27.620539505811696,
          27.33113331853592,
          27.04172713126013,
          26.75232094398435,
          26.462914756708575,
          25.989757635632696,
          25.741918699493226,
          25.411083019229476,
          25.207008898940078,
          23.826405515504064
         ],
         "yaxis": "y2"
        },
        {
         "fillcolor": "green",
         "line": {
          "color": "green",
          "width": 0
         },
         "mode": "lines",
         "name": "Waste",
         "showlegend": false,
         "stackgroup": "two",
         "type": "scatter",
         "x": [
          2015,
          2016,
          2017,
          2018,
          2019,
          2020,
          2021,
          2022,
          2023,
          2024,
          2025,
          2026,
          2027,
          2028,
          2029,
          2030,
          2031,
          2032,
          2033,
          2034,
          2035,
          2036,
          2037,
          2038,
          2039,
          2040,
          2041,
          2042,
          2043,
          2044,
          2045,
          2046,
          2047,
          2048,
          2049,
          2050
         ],
         "xaxis": "x2",
         "y": [
          0,
          0,
          0,
          0,
          0,
          0,
          0,
          0,
          0,
          0,
          0,
          0,
          0,
          0,
          0,
          0,
          0,
          0,
          0,
          0,
          0,
          0,
          0,
          0,
          0,
          0,
          0,
          0,
          0,
          0,
          0,
          0,
          0,
          0,
          0,
          0
         ],
         "yaxis": "y2"
        },
        {
         "fillcolor": "cyan",
         "line": {
          "color": "cyan",
          "width": 0
         },
         "mode": "lines",
         "name": "Hydrogen",
         "showlegend": false,
         "stackgroup": "one",
         "type": "scatter",
         "x": [
          2015,
          2016,
          2017,
          2018,
          2019,
          2020,
          2021,
          2022,
          2023,
          2024,
          2025,
          2026,
          2027,
          2028,
          2029,
          2030,
          2031,
          2032,
          2033,
          2034,
          2035,
          2036,
          2037,
          2038,
          2039,
          2040,
          2041,
          2042,
          2043,
          2044,
          2045,
          2046,
          2047,
          2048,
          2049,
          2050
         ],
         "xaxis": "x3",
         "y": [
          34.13396519999999,
          33.77432519999999,
          33.414685199999994,
          33.055045199999995,
          32.69540519999999,
          32.3357652,
          31.516585199999994,
          30.697405200000002,
          29.8782252,
          29.0590452,
          28.239865199999997,
          27.420685199999998,
          26.6015052,
          25.7823252,
          24.963145199999996,
          58.58656578422475,
          57.78462201809251,
          56.676731018092525,
          54.71969001809252,
          52.762649018092524,
          73.9089490978789,
          100.9776343512369,
          128.71327345508675,
          146.50135155315155,
          161.8165288290085,
          177.3884211577785,
          193.13449608659863,
          201.36498264322094,
          204.67546331367285,
          203.38121694133633,
          191.25234743370495,
          180.1997638340866,
          170.53239409145638,
          165.28610130912224,
          166.48064340410002,
          177.2121850561632
         ],
         "yaxis": "y3"
        },
        {
         "fillcolor": "cyan",
         "line": {
          "color": "cyan",
          "width": 0
         },
         "mode": "lines",
         "name": "Hydrogen",
         "showlegend": false,
         "stackgroup": "two",
         "type": "scatter",
         "x": [
          2015,
          2016,
          2017,
          2018,
          2019,
          2020,
          2021,
          2022,
          2023,
          2024,
          2025,
          2026,
          2027,
          2028,
          2029,
          2030,
          2031,
          2032,
          2033,
          2034,
          2035,
          2036,
          2037,
          2038,
          2039,
          2040,
          2041,
          2042,
          2043,
          2044,
          2045,
          2046,
          2047,
          2048,
          2049,
          2050
         ],
         "xaxis": "x3",
         "y": [
          -46.938475896994795,
          -39.81835892823685,
          -39.57859892823685,
          -39.33883892823685,
          -39.09907892823685,
          -38.859318928236846,
          -38.41332522501104,
          -37.96733152178523,
          -37.52133781855943,
          -37.07534411533363,
          -32.14552663711005,
          -29.84698279305622,
          -29.085419649283345,
          -28.323856505510456,
          -27.56229336173758,
          -60.24102380268493,
          -56.13803123955721,
          -56.280788676429495,
          -55.57439611330177,
          -54.969829958463066,
          -72.01996941866965,
          -95.71998856796714,
          -112.38400460049601,
          -130.33518031746175,
          -140.62231423522468,
          -143.05255929952068,
          -150.1437703745389,
          -161.47267270331824,
          -165.4425844382835,
          -168.10066042168626,
          -163.7318748773901,
          -161.58413566164285,
          -160.68440085984324,
          -160.54019578867937,
          -166.48064340410002,
          -177.21385868660414
         ],
         "yaxis": "y3"
        },
        {
         "fillcolor": "purple",
         "line": {
          "color": "purple",
          "width": 0
         },
         "mode": "lines",
         "name": "Gas",
         "showlegend": false,
         "stackgroup": "one",
         "type": "scatter",
         "x": [
          2015,
          2016,
          2017,
          2018,
          2019,
          2020,
          2021,
          2022,
          2023,
          2024,
          2025,
          2026,
          2027,
          2028,
          2029,
          2030,
          2031,
          2032,
          2033,
          2034,
          2035,
          2036,
          2037,
          2038,
          2039,
          2040,
          2041,
          2042,
          2043,
          2044,
          2045,
          2046,
          2047,
          2048,
          2049,
          2050
         ],
         "xaxis": "x3",
         "y": [
          57.53951688707774,
          49.0524657507141,
          48.7666761507141,
          48.480886550714104,
          48.1950969507141,
          47.9093073507141,
          47.47105511639151,
          47.03280288206893,
          46.59455064774635,
          46.15629841342377,
          44.18096081951216,
          40.428486166181756,
          46.5866993108268,
          49.0438820811756,
          58.117644048929435,
          86.29344868831075,
          83.12507378116445,
          82.14376888957776,
          81.16246399799108,
          86.00441192903492,
          97.32725440154002,
          119.67245884115889,
          126.56161011440562,
          131.9322170279827,
          134.55735267086246,
          140.18017787321932,
          141.0830002877383,
          144.26835054727218,
          146.99154242557688,
          152.29296734473093,
          159.12296286617325,
          167.4380389081972,
          175.9648849253726,
          184.93360061281632,
          193.10503995891864,
          201.1587671474718
         ],
         "yaxis": "y3"
        },
        {
         "fillcolor": "purple",
         "line": {
          "color": "purple",
          "width": 0
         },
         "mode": "lines",
         "name": "Gas",
         "showlegend": false,
         "stackgroup": "two",
         "type": "scatter",
         "x": [
          2015,
          2016,
          2017,
          2018,
          2019,
          2020,
          2021,
          2022,
          2023,
          2024,
          2025,
          2026,
          2027,
          2028,
          2029,
          2030,
          2031,
          2032,
          2033,
          2034,
          2035,
          2036,
          2037,
          2038,
          2039,
          2040,
          2041,
          2042,
          2043,
          2044,
          2045,
          2046,
          2047,
          2048,
          2049,
          2050
         ],
         "xaxis": "x3",
         "y": [
          -10.058771612903225,
          -10.058771612903225,
          -10.058771612903225,
          -10.058771612903225,
          -10.058771612903225,
          -10.058771612903225,
          -9.924654658064515,
          -9.790537703225805,
          -9.656420748387095,
          -9.522303793548389,
          -19.83107767815113,
          -21.17204009995983,
          -29.71819217989631,
          -34.563313885536544,
          -46.02501478858181,
          -49.940866922520755,
          -58.733198628160984,
          -62.19907033380122,
          -65.66494203944144,
          -76.07230988187547,
          -93.28266478402955,
          -113.56129317506374,
          -120.78724717344937,
          -126.49754451418686,
          -129.46092673321627,
          -135.7808912389955,
          -141.45463750239142,
          -144.88448433807494,
          -147.8521727925293,
          -153.398094287833,
          -160.3532814692115,
          -168.7930881144772,
          -177.6465116111669,
          -186.42399671528793,
          -194.7258917848436,
          -201.1587671474718
         ],
         "yaxis": "y3"
        },
        {
         "fillcolor": "black",
         "line": {
          "color": "black",
          "width": 0
         },
         "mode": "lines",
         "name": "Coal",
         "showlegend": false,
         "stackgroup": "one",
         "type": "scatter",
         "x": [
          2015,
          2016,
          2017,
          2018,
          2019,
          2020,
          2021,
          2022,
          2023,
          2024,
          2025,
          2026,
          2027,
          2028,
          2029,
          2030,
          2031,
          2032,
          2033,
          2034,
          2035,
          2036,
          2037,
          2038,
          2039,
          2040,
          2041,
          2042,
          2043,
          2044,
          2045,
          2046,
          2047,
          2048,
          2049,
          2050
         ],
         "xaxis": "x3",
         "y": [
          400.0732957214581,
          400.4542543082844,
          400.80193033480344,
          401.1098762615739,
          401.3726554925858,
          401.5817992723845,
          401.58222156076084,
          401.5024018629553,
          401.32882510080066,
          401.04347117007376,
          386.76112709991645,
          386.41543401460234,
          369.68654225881676,
          361.02478154623356,
          338.128564581285,
          236.29402008522956,
          235.82226618111866,
          231.96733240154796,
          230.93776038278583,
          215.93872942101464,
          200.46191991047652,
          186.46217904044764,
          162.5003667816288,
          154.70177528570764,
          89.52066881092249,
          91.64084559509018,
          86.85575656346015,
          84.10439107892991,
          80.66783639043369,
          75.50391440441345,
          69.20267351584067,
          59.614065667796,
          48.26860802679549,
          34.28485221391922,
          18.544657937030145,
          0
         ],
         "yaxis": "y3"
        },
        {
         "fillcolor": "black",
         "line": {
          "color": "black",
          "width": 0
         },
         "mode": "lines",
         "name": "Coal",
         "showlegend": false,
         "stackgroup": "two",
         "type": "scatter",
         "x": [
          2015,
          2016,
          2017,
          2018,
          2019,
          2020,
          2021,
          2022,
          2023,
          2024,
          2025,
          2026,
          2027,
          2028,
          2029,
          2030,
          2031,
          2032,
          2033,
          2034,
          2035,
          2036,
          2037,
          2038,
          2039,
          2040,
          2041,
          2042,
          2043,
          2044,
          2045,
          2046,
          2047,
          2048,
          2049,
          2050
         ],
         "xaxis": "x3",
         "y": [
          0,
          0,
          0,
          0,
          0,
          0,
          0,
          0,
          0,
          0,
          0,
          0,
          0,
          0,
          0,
          0,
          0,
          0,
          0,
          0,
          0,
          0,
          0,
          0,
          0,
          0,
          0,
          0,
          0,
          0,
          0,
          0,
          0,
          0,
          0,
          0
         ],
         "yaxis": "y3"
        },
        {
         "fillcolor": "grey",
         "line": {
          "color": "grey",
          "width": 0
         },
         "mode": "lines",
         "name": "Oil",
         "showlegend": false,
         "stackgroup": "one",
         "type": "scatter",
         "x": [
          2015,
          2016,
          2017,
          2018,
          2019,
          2020,
          2021,
          2022,
          2023,
          2024,
          2025,
          2026,
          2027,
          2028,
          2029,
          2030,
          2031,
          2032,
          2033,
          2034,
          2035,
          2036,
          2037,
          2038,
          2039,
          2040,
          2041,
          2042,
          2043,
          2044,
          2045,
          2046,
          2047,
          2048,
          2049,
          2050
         ],
         "xaxis": "x3",
         "y": [
          692.7148503638709,
          692.7148503638709,
          692.7148503638709,
          692.7148503638709,
          692.7148503638709,
          692.7148503638709,
          683.4786523590193,
          674.2424543541676,
          665.0062563493162,
          655.7700583444646,
          646.5338603396129,
          637.2976623347613,
          628.0614643299097,
          618.825266325058,
          609.5890683202065,
          600.3528703153548,
          591.1166723105032,
          581.8804743056517,
          572.6442763007999,
          563.4080782959484,
          398.5552286475102,
          243.55750508112982,
          190.14944638775552,
          149.32085080117488,
          124.66665178331222,
          102.29364736017669,
          76.23476815725186,
          65.23519870269988,
          61.70149982244598,
          58.16780094219209,
          52.4124310473274,
          47.687289411088244,
          39.21024600240679,
          28.664062773677394,
          14.332031386838684,
          0
         ],
         "yaxis": "y3"
        },
        {
         "fillcolor": "grey",
         "line": {
          "color": "grey",
          "width": 0
         },
         "mode": "lines",
         "name": "Oil",
         "showlegend": false,
         "stackgroup": "two",
         "type": "scatter",
         "x": [
          2015,
          2016,
          2017,
          2018,
          2019,
          2020,
          2021,
          2022,
          2023,
          2024,
          2025,
          2026,
          2027,
          2028,
          2029,
          2030,
          2031,
          2032,
          2033,
          2034,
          2035,
          2036,
          2037,
          2038,
          2039,
          2040,
          2041,
          2042,
          2043,
          2044,
          2045,
          2046,
          2047,
          2048,
          2049,
          2050
         ],
         "xaxis": "x3",
         "y": [
          0,
          0,
          0,
          0,
          0,
          0,
          0,
          0,
          0,
          0,
          0,
          0,
          0,
          0,
          0,
          0,
          0,
          0,
          0,
          0,
          0,
          0,
          0,
          0,
          0,
          0,
          0,
          0,
          0,
          0,
          0,
          0,
          0,
          0,
          0,
          0
         ],
         "yaxis": "y3"
        },
        {
         "fillcolor": "brown",
         "line": {
          "color": "brown",
          "width": 0
         },
         "mode": "lines",
         "name": "Biomass",
         "showlegend": false,
         "stackgroup": "one",
         "type": "scatter",
         "x": [
          2015,
          2016,
          2017,
          2018,
          2019,
          2020,
          2021,
          2022,
          2023,
          2024,
          2025,
          2026,
          2027,
          2028,
          2029,
          2030,
          2031,
          2032,
          2033,
          2034,
          2035,
          2036,
          2037,
          2038,
          2039,
          2040,
          2041,
          2042,
          2043,
          2044,
          2045,
          2046,
          2047,
          2048,
          2049,
          2050
         ],
         "xaxis": "x3",
         "y": [
          0,
          0,
          0,
          0,
          0,
          0,
          0,
          0,
          0,
          0,
          4.177326658640649,
          5.173927565766516,
          5.967101277017183,
          7.5286713369289675,
          10.18261985663695,
          11.00758644305838,
          11.390989179479806,
          11.774391915901235,
          12.157794652322663,
          12.975074031543004,
          160.98753244996465,
          336.34824818061924,
          321.9416347314326,
          316.95689690860456,
          380.0461034195346,
          350.7004714991137,
          346.04535826992185,
          341.54301167359455,
          315.2990422986348,
          302.78859994599463,
          289.24476190064684,
          267.0873580319236,
          241.47768812654078,
          213.80574836272197,
          187.56000438854943,
          130.16664378830558
         ],
         "yaxis": "y3"
        },
        {
         "fillcolor": "brown",
         "line": {
          "color": "brown",
          "width": 0
         },
         "mode": "lines",
         "name": "Biomass",
         "showlegend": false,
         "stackgroup": "two",
         "type": "scatter",
         "x": [
          2015,
          2016,
          2017,
          2018,
          2019,
          2020,
          2021,
          2022,
          2023,
          2024,
          2025,
          2026,
          2027,
          2028,
          2029,
          2030,
          2031,
          2032,
          2033,
          2034,
          2035,
          2036,
          2037,
          2038,
          2039,
          2040,
          2041,
          2042,
          2043,
          2044,
          2045,
          2046,
          2047,
          2048,
          2049,
          2050
         ],
         "xaxis": "x3",
         "y": [
          0,
          0,
          0,
          0,
          0,
          0,
          0,
          0,
          0,
          0,
          0,
          0,
          0,
          0,
          0,
          0,
          0,
          0,
          0,
          0,
          0,
          0,
          0,
          0,
          0,
          0,
          0,
          0,
          0,
          0,
          0,
          0,
          0,
          0,
          0,
          0
         ],
         "yaxis": "y3"
        },
        {
         "fillcolor": "yellow",
         "line": {
          "color": "yellow",
          "width": 0
         },
         "mode": "lines",
         "name": "Electricity",
         "showlegend": false,
         "stackgroup": "one",
         "type": "scatter",
         "x": [
          2015,
          2016,
          2017,
          2018,
          2019,
          2020,
          2021,
          2022,
          2023,
          2024,
          2025,
          2026,
          2027,
          2028,
          2029,
          2030,
          2031,
          2032,
          2033,
          2034,
          2035,
          2036,
          2037,
          2038,
          2039,
          2040,
          2041,
          2042,
          2043,
          2044,
          2045,
          2046,
          2047,
          2048,
          2049,
          2050
         ],
         "xaxis": "x3",
         "y": [
          148.37364722580645,
          148.25542082580645,
          148.13719442580646,
          148.01896802580646,
          147.90074162580646,
          147.78251522580643,
          147.31046752946236,
          146.83841983311828,
          146.3663721367742,
          145.8943244404301,
          150.4610119935437,
          150.10145449405738,
          154.9836515309122,
          157.12776731061837,
          164.1669338342134,
          213.98662447520334,
          204.50050061055944,
          206.1122786571507,
          207.58570936899497,
          216.03289007298778,
          246.28947457987937,
          270.531606301062,
          307.25694948259127,
          339.1779797172665,
          360.6402910269293,
          385.0103589255157,
          403.5715047956232,
          420.373020704424,
          425.42407980312544,
          425.7720277397795,
          408.2257982469112,
          410.1149913676335,
          404.43014372795045,
          404.00322586563385,
          425.21601249129884,
          465.405624231569
         ],
         "yaxis": "y3"
        },
        {
         "fillcolor": "yellow",
         "line": {
          "color": "yellow",
          "width": 0
         },
         "mode": "lines",
         "name": "Electricity",
         "showlegend": false,
         "stackgroup": "two",
         "type": "scatter",
         "x": [
          2015,
          2016,
          2017,
          2018,
          2019,
          2020,
          2021,
          2022,
          2023,
          2024,
          2025,
          2026,
          2027,
          2028,
          2029,
          2030,
          2031,
          2032,
          2033,
          2034,
          2035,
          2036,
          2037,
          2038,
          2039,
          2040,
          2041,
          2042,
          2043,
          2044,
          2045,
          2046,
          2047,
          2048,
          2049,
          2050
         ],
         "xaxis": "x3",
         "y": [
          0,
          0,
          0,
          0,
          0,
          0,
          0,
          0,
          0,
          0,
          0,
          0,
          0,
          0,
          0,
          0,
          0,
          0,
          0,
          0,
          0,
          0,
          0,
          0,
          0,
          0,
          0,
          0,
          0,
          0,
          0,
          0,
          0,
          0,
          0,
          0
         ],
         "yaxis": "y3"
        },
        {
         "fillcolor": "red",
         "line": {
          "color": "red",
          "width": 0
         },
         "mode": "lines",
         "name": "MeOH",
         "showlegend": false,
         "stackgroup": "one",
         "type": "scatter",
         "x": [
          2015,
          2016,
          2017,
          2018,
          2019,
          2020,
          2021,
          2022,
          2023,
          2024,
          2025,
          2026,
          2027,
          2028,
          2029,
          2030,
          2031,
          2032,
          2033,
          2034,
          2035,
          2036,
          2037,
          2038,
          2039,
          2040,
          2041,
          2042,
          2043,
          2044,
          2045,
          2046,
          2047,
          2048,
          2049,
          2050
         ],
         "xaxis": "x3",
         "y": [
          0,
          0,
          0,
          0,
          0,
          0,
          0,
          0,
          0,
          0,
          0.09824336767895878,
          0.13939780007654615,
          0.1480550604655015,
          0.15671232085445688,
          0.16536958124341228,
          0.17402684163236765,
          0.182684102021323,
          0.19134136241027835,
          0.19999862279923372,
          0.2224142021773071,
          41.517307952045144,
          68.87635750731036,
          98.07479000687741,
          117.40977494213348,
          128.66469419391998,
          137.29059851837243,
          146.49134781817878,
          149.80543378790924,
          154.94775846185297,
          154.73902857800584,
          154.9506144387008,
          155.01959452474097,
          157.1741257387996,
          159.80902608034933,
          163.5681260979065,
          174.73816602133604
         ],
         "yaxis": "y3"
        },
        {
         "fillcolor": "red",
         "line": {
          "color": "red",
          "width": 0
         },
         "mode": "lines",
         "name": "MeOH",
         "showlegend": false,
         "stackgroup": "two",
         "type": "scatter",
         "x": [
          2015,
          2016,
          2017,
          2018,
          2019,
          2020,
          2021,
          2022,
          2023,
          2024,
          2025,
          2026,
          2027,
          2028,
          2029,
          2030,
          2031,
          2032,
          2033,
          2034,
          2035,
          2036,
          2037,
          2038,
          2039,
          2040,
          2041,
          2042,
          2043,
          2044,
          2045,
          2046,
          2047,
          2048,
          2049,
          2050
         ],
         "xaxis": "x3",
         "y": [
          -7.8723399999999994,
          -7.8723399999999994,
          -7.8723399999999994,
          -7.8723399999999994,
          -7.8723399999999994,
          -7.8723399999999994,
          -7.8723399999999994,
          -7.8723399999999994,
          -7.8723399999999994,
          -7.8723399999999994,
          -7.8723399999999994,
          -7.8723399999999994,
          -7.8723399999999994,
          -7.8723399999999994,
          -7.8723399999999994,
          -7.8723399999999994,
          -7.8723399999999994,
          -7.8723399999999994,
          -7.8723399999999994,
          -7.8723399999999994,
          -31.949000049032215,
          -56.38057474444085,
          -78.72046174809971,
          -95.29606611550147,
          -111.69045436955031,
          -126.54312518108084,
          -139.9457836073948,
          -149.81097378790923,
          -154.95329846185297,
          -154.74456857800584,
          -154.9561544387008,
          -153.29019479946078,
          -150.2748326940687,
          -149.5417092835354,
          -152.76808035894902,
          -164.79112307976752
         ],
         "yaxis": "y3"
        },
        {
         "fillcolor": "green",
         "line": {
          "color": "green",
          "width": 0
         },
         "mode": "lines",
         "name": "Waste",
         "showlegend": false,
         "stackgroup": "one",
         "type": "scatter",
         "x": [
          2015,
          2016,
          2017,
          2018,
          2019,
          2020,
          2021,
          2022,
          2023,
          2024,
          2025,
          2026,
          2027,
          2028,
          2029,
          2030,
          2031,
          2032,
          2033,
          2034,
          2035,
          2036,
          2037,
          2038,
          2039,
          2040,
          2041,
          2042,
          2043,
          2044,
          2045,
          2046,
          2047,
          2048,
          2049,
          2050
         ],
         "xaxis": "x3",
         "y": [
          37.510386080695,
          37.8919063714829,
          38.24009502852975,
          38.54849500582696,
          38.81166169138167,
          39.021113842992214,
          38.55750424892505,
          38.013534355969405,
          37.375669158666106,
          36.6258619830696,
          31.60790038581004,
          31.703796607369707,
          31.77798422036397,
          31.77798422036397,
          31.24825651233028,
          30.664226891778277,
          30.364767905565778,
          30.067332022463894,
          29.774264331363906,
          29.481866823428906,
          26.957160217864676,
          21.556581187241026,
          15.671065252639062,
          9.66284162679621,
          2.2733937422649726,
          13.66010426721737,
          11.505153389015895,
          7.97980244138615,
          4.447390352256897,
          2.129627344117393,
          0.5253117887464784,
          0.12460753223636922,
          0,
          0,
          0,
          0
         ],
         "yaxis": "y3"
        },
        {
         "fillcolor": "green",
         "line": {
          "color": "green",
          "width": 0
         },
         "mode": "lines",
         "name": "Waste",
         "showlegend": false,
         "stackgroup": "two",
         "type": "scatter",
         "x": [
          2015,
          2016,
          2017,
          2018,
          2019,
          2020,
          2021,
          2022,
          2023,
          2024,
          2025,
          2026,
          2027,
          2028,
          2029,
          2030,
          2031,
          2032,
          2033,
          2034,
          2035,
          2036,
          2037,
          2038,
          2039,
          2040,
          2041,
          2042,
          2043,
          2044,
          2045,
          2046,
          2047,
          2048,
          2049,
          2050
         ],
         "xaxis": "x3",
         "y": [
          0,
          0,
          0,
          0,
          0,
          0,
          0,
          0,
          0,
          0,
          0,
          0,
          0,
          0,
          0,
          0,
          0,
          0,
          0,
          0,
          0,
          0,
          0,
          0,
          0,
          0,
          0,
          0,
          0,
          0,
          0,
          0,
          0,
          0,
          0,
          0
         ],
         "yaxis": "y3"
        }
       ],
       "layout": {
        "annotations": [
         {
          "font": {
           "size": 24
          },
          "showarrow": false,
          "text": "High electricity price",
          "x": 0.14444444444444446,
          "xanchor": "center",
          "xref": "paper",
          "y": 1,
          "yanchor": "bottom",
          "yref": "paper"
         },
         {
          "font": {
           "size": 24
          },
          "showarrow": false,
          "text": "Reference",
          "x": 0.5,
          "xanchor": "center",
          "xref": "paper",
          "y": 1,
          "yanchor": "bottom",
          "yref": "paper"
         },
         {
          "font": {
           "size": 24
          },
          "showarrow": false,
          "text": "Fossil phase-out",
          "x": 0.8555555555555556,
          "xanchor": "center",
          "xref": "paper",
          "y": 1,
          "yanchor": "bottom",
          "yref": "paper"
         }
        ],
        "font": {
         "family": "Times New Roman",
         "size": 24
        },
        "legend": {
         "font": {
          "size": 20
         },
         "orientation": "h",
         "x": 1,
         "xanchor": "right",
         "y": 1.1,
         "yanchor": "bottom"
        },
        "template": {
         "data": {
          "bar": [
           {
            "error_x": {
             "color": "#2a3f5f"
            },
            "error_y": {
             "color": "#2a3f5f"
            },
            "marker": {
             "line": {
              "color": "#E5ECF6",
              "width": 0.5
             },
             "pattern": {
              "fillmode": "overlay",
              "size": 10,
              "solidity": 0.2
             }
            },
            "type": "bar"
           }
          ],
          "barpolar": [
           {
            "marker": {
             "line": {
              "color": "#E5ECF6",
              "width": 0.5
             },
             "pattern": {
              "fillmode": "overlay",
              "size": 10,
              "solidity": 0.2
             }
            },
            "type": "barpolar"
           }
          ],
          "carpet": [
           {
            "aaxis": {
             "endlinecolor": "#2a3f5f",
             "gridcolor": "white",
             "linecolor": "white",
             "minorgridcolor": "white",
             "startlinecolor": "#2a3f5f"
            },
            "baxis": {
             "endlinecolor": "#2a3f5f",
             "gridcolor": "white",
             "linecolor": "white",
             "minorgridcolor": "white",
             "startlinecolor": "#2a3f5f"
            },
            "type": "carpet"
           }
          ],
          "choropleth": [
           {
            "colorbar": {
             "outlinewidth": 0,
             "ticks": ""
            },
            "type": "choropleth"
           }
          ],
          "contour": [
           {
            "colorbar": {
             "outlinewidth": 0,
             "ticks": ""
            },
            "colorscale": [
             [
              0,
              "#0d0887"
             ],
             [
              0.1111111111111111,
              "#46039f"
             ],
             [
              0.2222222222222222,
              "#7201a8"
             ],
             [
              0.3333333333333333,
              "#9c179e"
             ],
             [
              0.4444444444444444,
              "#bd3786"
             ],
             [
              0.5555555555555556,
              "#d8576b"
             ],
             [
              0.6666666666666666,
              "#ed7953"
             ],
             [
              0.7777777777777778,
              "#fb9f3a"
             ],
             [
              0.8888888888888888,
              "#fdca26"
             ],
             [
              1,
              "#f0f921"
             ]
            ],
            "type": "contour"
           }
          ],
          "contourcarpet": [
           {
            "colorbar": {
             "outlinewidth": 0,
             "ticks": ""
            },
            "type": "contourcarpet"
           }
          ],
          "heatmap": [
           {
            "colorbar": {
             "outlinewidth": 0,
             "ticks": ""
            },
            "colorscale": [
             [
              0,
              "#0d0887"
             ],
             [
              0.1111111111111111,
              "#46039f"
             ],
             [
              0.2222222222222222,
              "#7201a8"
             ],
             [
              0.3333333333333333,
              "#9c179e"
             ],
             [
              0.4444444444444444,
              "#bd3786"
             ],
             [
              0.5555555555555556,
              "#d8576b"
             ],
             [
              0.6666666666666666,
              "#ed7953"
             ],
             [
              0.7777777777777778,
              "#fb9f3a"
             ],
             [
              0.8888888888888888,
              "#fdca26"
             ],
             [
              1,
              "#f0f921"
             ]
            ],
            "type": "heatmap"
           }
          ],
          "heatmapgl": [
           {
            "colorbar": {
             "outlinewidth": 0,
             "ticks": ""
            },
            "colorscale": [
             [
              0,
              "#0d0887"
             ],
             [
              0.1111111111111111,
              "#46039f"
             ],
             [
              0.2222222222222222,
              "#7201a8"
             ],
             [
              0.3333333333333333,
              "#9c179e"
             ],
             [
              0.4444444444444444,
              "#bd3786"
             ],
             [
              0.5555555555555556,
              "#d8576b"
             ],
             [
              0.6666666666666666,
              "#ed7953"
             ],
             [
              0.7777777777777778,
              "#fb9f3a"
             ],
             [
              0.8888888888888888,
              "#fdca26"
             ],
             [
              1,
              "#f0f921"
             ]
            ],
            "type": "heatmapgl"
           }
          ],
          "histogram": [
           {
            "marker": {
             "pattern": {
              "fillmode": "overlay",
              "size": 10,
              "solidity": 0.2
             }
            },
            "type": "histogram"
           }
          ],
          "histogram2d": [
           {
            "colorbar": {
             "outlinewidth": 0,
             "ticks": ""
            },
            "colorscale": [
             [
              0,
              "#0d0887"
             ],
             [
              0.1111111111111111,
              "#46039f"
             ],
             [
              0.2222222222222222,
              "#7201a8"
             ],
             [
              0.3333333333333333,
              "#9c179e"
             ],
             [
              0.4444444444444444,
              "#bd3786"
             ],
             [
              0.5555555555555556,
              "#d8576b"
             ],
             [
              0.6666666666666666,
              "#ed7953"
             ],
             [
              0.7777777777777778,
              "#fb9f3a"
             ],
             [
              0.8888888888888888,
              "#fdca26"
             ],
             [
              1,
              "#f0f921"
             ]
            ],
            "type": "histogram2d"
           }
          ],
          "histogram2dcontour": [
           {
            "colorbar": {
             "outlinewidth": 0,
             "ticks": ""
            },
            "colorscale": [
             [
              0,
              "#0d0887"
             ],
             [
              0.1111111111111111,
              "#46039f"
             ],
             [
              0.2222222222222222,
              "#7201a8"
             ],
             [
              0.3333333333333333,
              "#9c179e"
             ],
             [
              0.4444444444444444,
              "#bd3786"
             ],
             [
              0.5555555555555556,
              "#d8576b"
             ],
             [
              0.6666666666666666,
              "#ed7953"
             ],
             [
              0.7777777777777778,
              "#fb9f3a"
             ],
             [
              0.8888888888888888,
              "#fdca26"
             ],
             [
              1,
              "#f0f921"
             ]
            ],
            "type": "histogram2dcontour"
           }
          ],
          "mesh3d": [
           {
            "colorbar": {
             "outlinewidth": 0,
             "ticks": ""
            },
            "type": "mesh3d"
           }
          ],
          "parcoords": [
           {
            "line": {
             "colorbar": {
              "outlinewidth": 0,
              "ticks": ""
             }
            },
            "type": "parcoords"
           }
          ],
          "pie": [
           {
            "automargin": true,
            "type": "pie"
           }
          ],
          "scatter": [
           {
            "marker": {
             "colorbar": {
              "outlinewidth": 0,
              "ticks": ""
             }
            },
            "type": "scatter"
           }
          ],
          "scatter3d": [
           {
            "line": {
             "colorbar": {
              "outlinewidth": 0,
              "ticks": ""
             }
            },
            "marker": {
             "colorbar": {
              "outlinewidth": 0,
              "ticks": ""
             }
            },
            "type": "scatter3d"
           }
          ],
          "scattercarpet": [
           {
            "marker": {
             "colorbar": {
              "outlinewidth": 0,
              "ticks": ""
             }
            },
            "type": "scattercarpet"
           }
          ],
          "scattergeo": [
           {
            "marker": {
             "colorbar": {
              "outlinewidth": 0,
              "ticks": ""
             }
            },
            "type": "scattergeo"
           }
          ],
          "scattergl": [
           {
            "marker": {
             "colorbar": {
              "outlinewidth": 0,
              "ticks": ""
             }
            },
            "type": "scattergl"
           }
          ],
          "scattermapbox": [
           {
            "marker": {
             "colorbar": {
              "outlinewidth": 0,
              "ticks": ""
             }
            },
            "type": "scattermapbox"
           }
          ],
          "scatterpolar": [
           {
            "marker": {
             "colorbar": {
              "outlinewidth": 0,
              "ticks": ""
             }
            },
            "type": "scatterpolar"
           }
          ],
          "scatterpolargl": [
           {
            "marker": {
             "colorbar": {
              "outlinewidth": 0,
              "ticks": ""
             }
            },
            "type": "scatterpolargl"
           }
          ],
          "scatterternary": [
           {
            "marker": {
             "colorbar": {
              "outlinewidth": 0,
              "ticks": ""
             }
            },
            "type": "scatterternary"
           }
          ],
          "surface": [
           {
            "colorbar": {
             "outlinewidth": 0,
             "ticks": ""
            },
            "colorscale": [
             [
              0,
              "#0d0887"
             ],
             [
              0.1111111111111111,
              "#46039f"
             ],
             [
              0.2222222222222222,
              "#7201a8"
             ],
             [
              0.3333333333333333,
              "#9c179e"
             ],
             [
              0.4444444444444444,
              "#bd3786"
             ],
             [
              0.5555555555555556,
              "#d8576b"
             ],
             [
              0.6666666666666666,
              "#ed7953"
             ],
             [
              0.7777777777777778,
              "#fb9f3a"
             ],
             [
              0.8888888888888888,
              "#fdca26"
             ],
             [
              1,
              "#f0f921"
             ]
            ],
            "type": "surface"
           }
          ],
          "table": [
           {
            "cells": {
             "fill": {
              "color": "#EBF0F8"
             },
             "line": {
              "color": "white"
             }
            },
            "header": {
             "fill": {
              "color": "#C8D4E3"
             },
             "line": {
              "color": "white"
             }
            },
            "type": "table"
           }
          ]
         },
         "layout": {
          "annotationdefaults": {
           "arrowcolor": "#2a3f5f",
           "arrowhead": 0,
           "arrowwidth": 1
          },
          "autotypenumbers": "strict",
          "coloraxis": {
           "colorbar": {
            "outlinewidth": 0,
            "ticks": ""
           }
          },
          "colorscale": {
           "diverging": [
            [
             0,
             "#8e0152"
            ],
            [
             0.1,
             "#c51b7d"
            ],
            [
             0.2,
             "#de77ae"
            ],
            [
             0.3,
             "#f1b6da"
            ],
            [
             0.4,
             "#fde0ef"
            ],
            [
             0.5,
             "#f7f7f7"
            ],
            [
             0.6,
             "#e6f5d0"
            ],
            [
             0.7,
             "#b8e186"
            ],
            [
             0.8,
             "#7fbc41"
            ],
            [
             0.9,
             "#4d9221"
            ],
            [
             1,
             "#276419"
            ]
           ],
           "sequential": [
            [
             0,
             "#0d0887"
            ],
            [
             0.1111111111111111,
             "#46039f"
            ],
            [
             0.2222222222222222,
             "#7201a8"
            ],
            [
             0.3333333333333333,
             "#9c179e"
            ],
            [
             0.4444444444444444,
             "#bd3786"
            ],
            [
             0.5555555555555556,
             "#d8576b"
            ],
            [
             0.6666666666666666,
             "#ed7953"
            ],
            [
             0.7777777777777778,
             "#fb9f3a"
            ],
            [
             0.8888888888888888,
             "#fdca26"
            ],
            [
             1,
             "#f0f921"
            ]
           ],
           "sequentialminus": [
            [
             0,
             "#0d0887"
            ],
            [
             0.1111111111111111,
             "#46039f"
            ],
            [
             0.2222222222222222,
             "#7201a8"
            ],
            [
             0.3333333333333333,
             "#9c179e"
            ],
            [
             0.4444444444444444,
             "#bd3786"
            ],
            [
             0.5555555555555556,
             "#d8576b"
            ],
            [
             0.6666666666666666,
             "#ed7953"
            ],
            [
             0.7777777777777778,
             "#fb9f3a"
            ],
            [
             0.8888888888888888,
             "#fdca26"
            ],
            [
             1,
             "#f0f921"
            ]
           ]
          },
          "colorway": [
           "#636efa",
           "#EF553B",
           "#00cc96",
           "#ab63fa",
           "#FFA15A",
           "#19d3f3",
           "#FF6692",
           "#B6E880",
           "#FF97FF",
           "#FECB52"
          ],
          "font": {
           "color": "#2a3f5f"
          },
          "geo": {
           "bgcolor": "white",
           "lakecolor": "white",
           "landcolor": "#E5ECF6",
           "showlakes": true,
           "showland": true,
           "subunitcolor": "white"
          },
          "hoverlabel": {
           "align": "left"
          },
          "hovermode": "closest",
          "mapbox": {
           "style": "light"
          },
          "paper_bgcolor": "white",
          "plot_bgcolor": "#E5ECF6",
          "polar": {
           "angularaxis": {
            "gridcolor": "white",
            "linecolor": "white",
            "ticks": ""
           },
           "bgcolor": "#E5ECF6",
           "radialaxis": {
            "gridcolor": "white",
            "linecolor": "white",
            "ticks": ""
           }
          },
          "scene": {
           "xaxis": {
            "backgroundcolor": "#E5ECF6",
            "gridcolor": "white",
            "gridwidth": 2,
            "linecolor": "white",
            "showbackground": true,
            "ticks": "",
            "zerolinecolor": "white"
           },
           "yaxis": {
            "backgroundcolor": "#E5ECF6",
            "gridcolor": "white",
            "gridwidth": 2,
            "linecolor": "white",
            "showbackground": true,
            "ticks": "",
            "zerolinecolor": "white"
           },
           "zaxis": {
            "backgroundcolor": "#E5ECF6",
            "gridcolor": "white",
            "gridwidth": 2,
            "linecolor": "white",
            "showbackground": true,
            "ticks": "",
            "zerolinecolor": "white"
           }
          },
          "shapedefaults": {
           "line": {
            "color": "#2a3f5f"
           }
          },
          "ternary": {
           "aaxis": {
            "gridcolor": "white",
            "linecolor": "white",
            "ticks": ""
           },
           "baxis": {
            "gridcolor": "white",
            "linecolor": "white",
            "ticks": ""
           },
           "bgcolor": "#E5ECF6",
           "caxis": {
            "gridcolor": "white",
            "linecolor": "white",
            "ticks": ""
           }
          },
          "title": {
           "x": 0.05
          },
          "xaxis": {
           "automargin": true,
           "gridcolor": "white",
           "linecolor": "white",
           "ticks": "",
           "title": {
            "standoff": 15
           },
           "zerolinecolor": "white",
           "zerolinewidth": 2
          },
          "yaxis": {
           "automargin": true,
           "gridcolor": "white",
           "linecolor": "white",
           "ticks": "",
           "title": {
            "standoff": 15
           },
           "zerolinecolor": "white",
           "zerolinewidth": 2
          }
         }
        },
        "xaxis": {
         "anchor": "y",
         "domain": [
          0,
          0.2888888888888889
         ],
         "title": {
          "text": "Year"
         }
        },
        "xaxis2": {
         "anchor": "y2",
         "domain": [
          0.35555555555555557,
          0.6444444444444445
         ],
         "title": {
          "text": "Year"
         }
        },
        "xaxis3": {
         "anchor": "y3",
         "domain": [
          0.7111111111111111,
          1
         ],
         "title": {
          "text": "Year"
         }
        },
        "yaxis": {
         "anchor": "x",
         "domain": [
          0,
          1
         ],
         "title": {
          "text": "Energy flows (TWh)"
         }
        },
        "yaxis2": {
         "anchor": "x2",
         "domain": [
          0,
          1
         ],
         "matches": "y",
         "showticklabels": false
        },
        "yaxis3": {
         "anchor": "x3",
         "domain": [
          0,
          1
         ],
         "matches": "y",
         "showticklabels": false
        }
       }
      },
      "text/html": [
       "<div>                            <div id=\"ee6159b9-4f8c-4420-8ceb-5b97d58a6ea3\" class=\"plotly-graph-div\" style=\"height:525px; width:100%;\"></div>            <script type=\"text/javascript\">                require([\"plotly\"], function(Plotly) {                    window.PLOTLYENV=window.PLOTLYENV || {};                                    if (document.getElementById(\"ee6159b9-4f8c-4420-8ceb-5b97d58a6ea3\")) {                    Plotly.newPlot(                        \"ee6159b9-4f8c-4420-8ceb-5b97d58a6ea3\",                        [{\"fillcolor\":\"cyan\",\"line\":{\"color\":\"cyan\",\"width\":0},\"mode\":\"lines\",\"name\":\"Hydrogen\",\"showlegend\":true,\"stackgroup\":\"one\",\"type\":\"scatter\",\"x\":[2015,2016,2017,2018,2019,2020,2021,2022,2023,2024,2025,2026,2027,2028,2029,2030,2031,2032,2033,2034,2035,2036,2037,2038,2039,2040,2041,2042,2043,2044,2045,2046,2047,2048,2049,2050],\"xaxis\":\"x\",\"y\":[34.13396519999999,33.77432519999999,33.414685199999994,33.055045199999995,32.69540519999999,32.3357652,31.516585199999994,30.697405200000002,29.8782252,29.0590452,28.239865199999997,27.420685199999998,26.6015052,25.7823252,24.963145199999996,29.072023529297443,26.156090926960992,24.886213529297446,24.067033529297447,23.247853529297444,46.8217674441223,70.32690518213256,88.26667671011971,104.22852407357762,119.78678937712452,136.72458117165013,150.07905488106434,156.07111770305963,162.17879525574494,160.8657929023752,148.35203275824952,136.70118166085484,125.13679902595322,115.84833442274389,110.46983040843,113.35034975659056],\"yaxis\":\"y\"},{\"fillcolor\":\"cyan\",\"line\":{\"color\":\"cyan\",\"width\":0},\"mode\":\"lines\",\"name\":\"Hydrogen\",\"showlegend\":false,\"stackgroup\":\"two\",\"type\":\"scatter\",\"x\":[2015,2016,2017,2018,2019,2020,2021,2022,2023,2024,2025,2026,2027,2028,2029,2030,2031,2032,2033,2034,2035,2036,2037,2038,2039,2040,2041,2042,2043,2044,2045,2046,2047,2048,2049,2050],\"xaxis\":\"x\",\"y\":[-40.88304276758816,-39.81835892823685,-39.57859892823685,-39.33883892823685,-39.09907892823685,-38.859318928236846,-38.41332522501104,-37.96733152178523,-37.52133781855943,-37.07534411533363,-32.145526637110045,-29.84698279305622,-29.085419649283345,-28.323856505510456,-27.56229336173758,-31.747666660121183,-28.46594499465701,-27.78743153386575,-27.08103897073803,-26.362768965009355,-42.68190291394777,-54.55240233077146,-51.241934125680686,-52.435327900131064,-51.35391051475648,-51.336329740383654,-52.63526787996639,-54.401165572314184,-64.29853757467697,-78.7329369114603,-84.6149018275598,-94.05170527358865,-107.93707637395234,-106.7245172911859,-109.42191879731487,-113.35202338703151],\"yaxis\":\"y\"},{\"fillcolor\":\"purple\",\"line\":{\"color\":\"purple\",\"width\":0},\"mode\":\"lines\",\"name\":\"Gas\",\"showlegend\":true,\"stackgroup\":\"one\",\"type\":\"scatter\",\"x\":[2015,2016,2017,2018,2019,2020,2021,2022,2023,2024,2025,2026,2027,2028,2029,2030,2031,2032,2033,2034,2035,2036,2037,2038,2039,2040,2041,2042,2043,2044,2045,2046,2047,2048,2049,2050],\"xaxis\":\"x\",\"y\":[49.0524657507141,49.0524657507141,48.7666761507141,48.480886550714104,48.1950969507141,47.9093073507141,47.47105511639151,47.03280288206893,46.59455064774635,46.15629841342377,44.18096081951215,40.428486166181756,44.98821893653055,43.94115170687935,42.89408447722815,47.316415143487205,47.80582576105085,46.824520869464166,45.843215977877485,44.84075943987431,63.19553461576525,76.75862475274,82.11431223491995,85.37227057325913,89.19236091449214,92.70196074120496,91.32377592714892,94.69725193768036,97.28006837880581,99.9130167469292,102.31241224721232,104.07130707239165,104.62480816636848,104.84108089773382,103.7877040417584,105.80476575957616],\"yaxis\":\"y\"},{\"fillcolor\":\"purple\",\"line\":{\"color\":\"purple\",\"width\":0},\"mode\":\"lines\",\"name\":\"Gas\",\"showlegend\":false,\"stackgroup\":\"two\",\"type\":\"scatter\",\"x\":[2015,2016,2017,2018,2019,2020,2021,2022,2023,2024,2025,2026,2027,2028,2029,2030,2031,2032,2033,2034,2035,2036,2037,2038,2039,2040,2041,2042,2043,2044,2045,2046,2047,2048,2049,2050],\"xaxis\":\"x\",\"y\":[-10.058771612903225,-10.058771612903225,-10.058771612903225,-10.058771612903225,-10.058771612903225,-10.058771612903225,-9.924654658064515,-9.790537703225805,-9.656420748387095,-9.522303793548389,-19.831077678151125,-21.17204009995983,-26.76403210560006,-28.104903811240295,-29.445775516880524,-29.266337657199543,-34.01548966283978,-34.79386136848001,-35.572233074120234,-36.35248606613619,-56.122191260341424,-69.83678303745127,-73.91493270962482,-76.43931513928982,-79.91170447908948,-82.88066585074853,-85.75680096135083,-88.93135007857826,-91.79064932323459,-94.70008049488888,-97.43204243756058,-100.15595400768615,-101.81736664660922,-101.38550490194517,-101.37772436101622,-104.40900604847697],\"yaxis\":\"y\"},{\"fillcolor\":\"black\",\"line\":{\"color\":\"black\",\"width\":0},\"mode\":\"lines\",\"name\":\"Coal\",\"showlegend\":true,\"stackgroup\":\"one\",\"type\":\"scatter\",\"x\":[2015,2016,2017,2018,2019,2020,2021,2022,2023,2024,2025,2026,2027,2028,2029,2030,2031,2032,2033,2034,2035,2036,2037,2038,2039,2040,2041,2042,2043,2044,2045,2046,2047,2048,2049,2050],\"xaxis\":\"x\",\"y\":[400.0732957214581,400.45278162539626,400.7991192435614,401.10706517033185,401.3698444013438,401.5789881811425,401.5794104695188,401.4995907717133,401.3260140095586,401.0406600788317,386.75831600867446,386.4126229233603,372.90076272631745,371.2915020137342,368.7640224147553,344.4326983284878,343.6224244243769,340.30682011600396,335.4982547107089,330.6896893054139,313.43977426517904,297.00511055174553,269.6448904694849,261.994142886584,159.47173694145155,168.98000878087626,168.63264527231146,167.6069995107584,165.73162427385577,163.3663237339352,160.65277785749913,157.7290865120693,154.82107269317376,150.6467624528456,142.09927098342308,115.3473017197223],\"yaxis\":\"y\"},{\"fillcolor\":\"black\",\"line\":{\"color\":\"black\",\"width\":0},\"mode\":\"lines\",\"name\":\"Coal\",\"showlegend\":false,\"stackgroup\":\"two\",\"type\":\"scatter\",\"x\":[2015,2016,2017,2018,2019,2020,2021,2022,2023,2024,2025,2026,2027,2028,2029,2030,2031,2032,2033,2034,2035,2036,2037,2038,2039,2040,2041,2042,2043,2044,2045,2046,2047,2048,2049,2050],\"xaxis\":\"x\",\"y\":[0.0,0.0,0.0,0.0,0.0,0.0,0.0,0.0,0.0,0.0,0.0,0.0,0.0,0.0,0.0,0.0,0.0,0.0,0.0,0.0,0.0,0.0,0.0,0.0,0.0,0.0,0.0,0.0,0.0,0.0,0.0,0.0,0.0,0.0,0.0,0.0],\"yaxis\":\"y\"},{\"fillcolor\":\"grey\",\"line\":{\"color\":\"grey\",\"width\":0},\"mode\":\"lines\",\"name\":\"Oil\",\"showlegend\":true,\"stackgroup\":\"one\",\"type\":\"scatter\",\"x\":[2015,2016,2017,2018,2019,2020,2021,2022,2023,2024,2025,2026,2027,2028,2029,2030,2031,2032,2033,2034,2035,2036,2037,2038,2039,2040,2041,2042,2043,2044,2045,2046,2047,2048,2049,2050],\"xaxis\":\"x\",\"y\":[692.7148503638709,692.7148503638709,692.7148503638709,692.7148503638709,692.7148503638709,692.7148503638709,683.4786523590193,674.2424543541676,665.0062563493162,655.7700583444646,646.5338603396129,637.2976623347613,628.0614643299097,618.825266325058,609.5890683202065,600.3528703153548,591.1166723105032,581.8804743056517,572.6442763007999,563.4080782959484,400.26757423643824,245.18852827379555,188.12689740261936,150.77594062543227,126.5353443291742,102.29474803291615,78.11816526490153,68.91028667375988,66.21013317332863,63.50997967289736,57.75206917350026,50.037970860821126,45.06931420606479,43.023193947115146,41.01314422377814,38.86726282364467],\"yaxis\":\"y\"},{\"fillcolor\":\"grey\",\"line\":{\"color\":\"grey\",\"width\":0},\"mode\":\"lines\",\"name\":\"Oil\",\"showlegend\":false,\"stackgroup\":\"two\",\"type\":\"scatter\",\"x\":[2015,2016,2017,2018,2019,2020,2021,2022,2023,2024,2025,2026,2027,2028,2029,2030,2031,2032,2033,2034,2035,2036,2037,2038,2039,2040,2041,2042,2043,2044,2045,2046,2047,2048,2049,2050],\"xaxis\":\"x\",\"y\":[0.0,0.0,0.0,0.0,0.0,0.0,0.0,0.0,0.0,0.0,0.0,0.0,0.0,0.0,0.0,0.0,0.0,0.0,0.0,0.0,0.0,0.0,0.0,0.0,0.0,0.0,0.0,0.0,0.0,0.0,0.0,0.0,0.0,0.0,0.0,0.0],\"yaxis\":\"y\"},{\"fillcolor\":\"brown\",\"line\":{\"color\":\"brown\",\"width\":0},\"mode\":\"lines\",\"name\":\"Biomass\",\"showlegend\":true,\"stackgroup\":\"one\",\"type\":\"scatter\",\"x\":[2015,2016,2017,2018,2019,2020,2021,2022,2023,2024,2025,2026,2027,2028,2029,2030,2031,2032,2033,2034,2035,2036,2037,2038,2039,2040,2041,2042,2043,2044,2045,2046,2047,2048,2049,2050],\"xaxis\":\"x\",\"y\":[0.0,0.0,0.0,0.0,0.0,0.0,0.0,0.0,0.0,0.0,4.177326658640649,5.173927565766517,5.967101277017183,7.5286713369289675,10.18261985663695,11.00758644305838,11.390989179479806,11.774391915901235,12.157794652322663,12.54940427742637,161.3126806951856,351.09669862391905,367.09387631218584,358.9103835478407,460.5333266129398,407.97585708286385,392.06036011116515,389.19582484295546,354.07745993166236,342.2203055128641,330.2192271693042,321.4164365824944,312.3248606817641,298.2664078834233,285.00426142659177,264.1577081070794],\"yaxis\":\"y\"},{\"fillcolor\":\"brown\",\"line\":{\"color\":\"brown\",\"width\":0},\"mode\":\"lines\",\"name\":\"Biomass\",\"showlegend\":false,\"stackgroup\":\"two\",\"type\":\"scatter\",\"x\":[2015,2016,2017,2018,2019,2020,2021,2022,2023,2024,2025,2026,2027,2028,2029,2030,2031,2032,2033,2034,2035,2036,2037,2038,2039,2040,2041,2042,2043,2044,2045,2046,2047,2048,2049,2050],\"xaxis\":\"x\",\"y\":[0.0,0.0,0.0,0.0,0.0,0.0,0.0,0.0,0.0,0.0,0.0,0.0,0.0,0.0,0.0,0.0,0.0,0.0,0.0,0.0,0.0,0.0,0.0,0.0,0.0,0.0,0.0,0.0,0.0,0.0,0.0,0.0,0.0,0.0,0.0,0.0],\"yaxis\":\"y\"},{\"fillcolor\":\"yellow\",\"line\":{\"color\":\"yellow\",\"width\":0},\"mode\":\"lines\",\"name\":\"Electricity\",\"showlegend\":true,\"stackgroup\":\"one\",\"type\":\"scatter\",\"x\":[2015,2016,2017,2018,2019,2020,2021,2022,2023,2024,2025,2026,2027,2028,2029,2030,2031,2032,2033,2034,2035,2036,2037,2038,2039,2040,2041,2042,2043,2044,2045,2046,2047,2048,2049,2050],\"xaxis\":\"x\",\"y\":[151.76273091863644,148.25542082580645,148.13719442580646,148.01896802580646,147.90074162580646,147.78251522580643,147.31046752946236,146.83841983311828,146.3663721367742,145.8943244404301,150.4610119935437,150.10145449405738,153.80107027376357,153.35268605346974,152.90430183317594,174.01827066669577,165.48308044881162,170.3889239214853,171.0093634511915,172.6579215134142,197.11401281725279,199.11447225256552,203.56986060719444,211.32710563605877,216.80365080029034,238.5341507144927,244.1142656703849,244.7546926640497,259.24080233414276,276.02065889883016,270.039925460855,273.4749015216679,282.3824839149882,272.3528200921522,271.94003505352674,282.19972635794386],\"yaxis\":\"y\"},{\"fillcolor\":\"yellow\",\"line\":{\"color\":\"yellow\",\"width\":0},\"mode\":\"lines\",\"name\":\"Electricity\",\"showlegend\":false,\"stackgroup\":\"two\",\"type\":\"scatter\",\"x\":[2015,2016,2017,2018,2019,2020,2021,2022,2023,2024,2025,2026,2027,2028,2029,2030,2031,2032,2033,2034,2035,2036,2037,2038,2039,2040,2041,2042,2043,2044,2045,2046,2047,2048,2049,2050],\"xaxis\":\"x\",\"y\":[0.0,0.0,0.0,0.0,0.0,0.0,0.0,0.0,0.0,0.0,0.0,0.0,0.0,0.0,0.0,0.0,0.0,0.0,0.0,0.0,0.0,0.0,0.0,0.0,0.0,0.0,0.0,0.0,0.0,0.0,0.0,0.0,0.0,0.0,0.0,0.0],\"yaxis\":\"y\"},{\"fillcolor\":\"red\",\"line\":{\"color\":\"red\",\"width\":0},\"mode\":\"lines\",\"name\":\"MeOH\",\"showlegend\":true,\"stackgroup\":\"one\",\"type\":\"scatter\",\"x\":[2015,2016,2017,2018,2019,2020,2021,2022,2023,2024,2025,2026,2027,2028,2029,2030,2031,2032,2033,2034,2035,2036,2037,2038,2039,2040,2041,2042,2043,2044,2045,2046,2047,2048,2049,2050],\"xaxis\":\"x\",\"y\":[0.0,0.0,0.0,0.0,0.0,0.0,0.0,0.0,0.0,0.0,0.09824336767895878,0.1393978000765462,0.14805506046550151,0.15671232085445688,0.16536958124341228,0.17402684163236762,0.182684102021323,0.19134136241027835,0.19999862279923372,0.208916125342896,41.63391082371151,66.94783907686457,93.88954365887768,112.33607816919502,123.31326930200248,134.37645495396401,145.4078953204588,146.1840163711629,151.99933741359285,151.38616244591657,152.33710973910823,153.5647167709143,153.25280141144032,152.51943830432873,150.61026262781104,148.29950146854463],\"yaxis\":\"y\"},{\"fillcolor\":\"red\",\"line\":{\"color\":\"red\",\"width\":0},\"mode\":\"lines\",\"name\":\"MeOH\",\"showlegend\":false,\"stackgroup\":\"two\",\"type\":\"scatter\",\"x\":[2015,2016,2017,2018,2019,2020,2021,2022,2023,2024,2025,2026,2027,2028,2029,2030,2031,2032,2033,2034,2035,2036,2037,2038,2039,2040,2041,2042,2043,2044,2045,2046,2047,2048,2049,2050],\"xaxis\":\"x\",\"y\":[-7.8723399999999994,-7.8723399999999994,-7.8723399999999994,-7.8723399999999994,-7.8723399999999994,-7.8723399999999994,-7.8723399999999994,-7.8723399999999994,-7.8723399999999994,-7.8723399999999994,-7.8723399999999994,-7.8723399999999994,-7.8723399999999994,-7.8723399999999994,-7.8723399999999994,-7.8723399999999994,-7.8723399999999994,-7.8723399999999994,-7.8723399999999994,-7.8723399999999994,-33.39950886932966,-53.29654383928535,-73.5259172393195,-90.69838849681975,-107.02144584119185,-124.59417812131973,-136.09233110967486,-143.88977157761622,-151.23544990842004,-151.39170244591656,-152.50153212579292,-153.72913915759898,-153.417223798125,-152.68386069101342,-150.69830907499934,-148.30504146854463],\"yaxis\":\"y\"},{\"fillcolor\":\"green\",\"line\":{\"color\":\"green\",\"width\":0},\"mode\":\"lines\",\"name\":\"Waste\",\"showlegend\":true,\"stackgroup\":\"one\",\"type\":\"scatter\",\"x\":[2015,2016,2017,2018,2019,2020,2021,2022,2023,2024,2025,2026,2027,2028,2029,2030,2031,2032,2033,2034,2035,2036,2037,2038,2039,2040,2041,2042,2043,2044,2045,2046,2047,2048,2049,2050],\"xaxis\":\"x\",\"y\":[37.510386080695,37.89043151719906,38.23727979247738,38.54567976977458,38.80884645532931,39.01829860693984,38.55468901287267,38.010719119917034,37.37285392261373,36.62304674701722,31.60508514975767,31.700981371317333,31.775168984311595,31.775168984311595,31.24544127627791,30.661411655725907,30.361952669513403,30.06570559744883,29.773786210438864,29.481866823428906,26.973207141550628,21.086908225680066,15.198388124373805,9.197058792445759,1.5434581124826752,26.211188048009596,27.61852895631673,27.32912276904095,27.03971658176517,26.75031039448939,26.46090420721361,25.790914695286176,25.73971933011526,25.407254355835576,25.203180235546174,23.822494180063234],\"yaxis\":\"y\"},{\"fillcolor\":\"green\",\"line\":{\"color\":\"green\",\"width\":0},\"mode\":\"lines\",\"name\":\"Waste\",\"showlegend\":false,\"stackgroup\":\"two\",\"type\":\"scatter\",\"x\":[2015,2016,2017,2018,2019,2020,2021,2022,2023,2024,2025,2026,2027,2028,2029,2030,2031,2032,2033,2034,2035,2036,2037,2038,2039,2040,2041,2042,2043,2044,2045,2046,2047,2048,2049,2050],\"xaxis\":\"x\",\"y\":[0.0,0.0,0.0,0.0,0.0,0.0,0.0,0.0,0.0,0.0,0.0,0.0,0.0,0.0,0.0,0.0,0.0,0.0,0.0,0.0,0.0,0.0,0.0,0.0,0.0,0.0,0.0,0.0,0.0,0.0,0.0,0.0,0.0,0.0,0.0,0.0],\"yaxis\":\"y\"},{\"fillcolor\":\"cyan\",\"line\":{\"color\":\"cyan\",\"width\":0},\"mode\":\"lines\",\"name\":\"Hydrogen\",\"showlegend\":false,\"stackgroup\":\"one\",\"type\":\"scatter\",\"x\":[2015,2016,2017,2018,2019,2020,2021,2022,2023,2024,2025,2026,2027,2028,2029,2030,2031,2032,2033,2034,2035,2036,2037,2038,2039,2040,2041,2042,2043,2044,2045,2046,2047,2048,2049,2050],\"xaxis\":\"x2\",\"y\":[34.13396519999999,33.77432519999999,33.414685199999994,33.055045199999995,32.69540519999999,32.3357652,31.516585199999994,30.697405200000002,29.8782252,29.0590452,28.239865199999997,27.420685199999998,26.6015052,25.7823252,24.963145199999996,58.23590631091376,56.28735681091376,55.17946581091376,53.222424810913765,51.421021746557315,73.5506977926449,99.99806229448822,128.6704547926488,146.82382399246853,161.6569388822458,175.87820290482895,192.73144268798717,201.00407146259445,204.78128672789143,202.95738641526992,189.6781324909942,176.5466840917262,164.9358406114776,157.8671388830595,153.40001246214254,164.6315603124308],\"yaxis\":\"y2\"},{\"fillcolor\":\"cyan\",\"line\":{\"color\":\"cyan\",\"width\":0},\"mode\":\"lines\",\"name\":\"Hydrogen\",\"showlegend\":false,\"stackgroup\":\"two\",\"type\":\"scatter\",\"x\":[2015,2016,2017,2018,2019,2020,2021,2022,2023,2024,2025,2026,2027,2028,2029,2030,2031,2032,2033,2034,2035,2036,2037,2038,2039,2040,2041,2042,2043,2044,2045,2046,2047,2048,2049,2050],\"xaxis\":\"x2\",\"y\":[-40.681100125419576,-39.81835892823685,-39.57859892823685,-39.33883892823685,-39.09907892823685,-38.859318928236846,-38.41332522501104,-37.96733152178523,-37.52133781855943,-37.07534411533363,-32.14552663711005,-29.84698279305622,-29.085419649283345,-28.323856505510456,-27.56229336173758,-60.503957441737505,-56.400964878609784,-56.54372231548207,-55.83732975235435,-54.54774303315919,-73.37710811522555,-93.82361962273775,-111.65270317802344,-127.61338912573619,-137.76168047294343,-139.8947885254642,-148.6660597042973,-159.6007463451978,-163.59373115101744,-167.28202029358812,-162.8243768490523,-157.93105591928244,-155.08784737986448,-153.12123336261664,-153.40001246214254,-164.63323394287173],\"yaxis\":\"y2\"},{\"fillcolor\":\"purple\",\"line\":{\"color\":\"purple\",\"width\":0},\"mode\":\"lines\",\"name\":\"Gas\",\"showlegend\":false,\"stackgroup\":\"one\",\"type\":\"scatter\",\"x\":[2015,2016,2017,2018,2019,2020,2021,2022,2023,2024,2025,2026,2027,2028,2029,2030,2031,2032,2033,2034,2035,2036,2037,2038,2039,2040,2041,2042,2043,2044,2045,2046,2047,2048,2049,2050],\"xaxis\":\"x2\",\"y\":[49.0524657507141,49.0524657507141,48.7666761507141,48.480886550714104,48.1950969507141,47.9093073507141,47.47105511639151,47.03280288206893,46.59455064774635,46.156298413423784,44.18096081951215,40.42848616618175,45.89132213613581,48.34850490648461,56.93793707342306,84.71414783295873,83.43848594137206,82.45718104978539,81.4758761581987,86.09607498157786,101.15137066166268,119.1389156354505,127.8818753323234,132.82314381027874,136.3267320074014,139.03652965763283,136.84313750996023,139.66590419966312,142.0385145579236,144.56668959469164,147.2326949017434,148.94621826540035,150.3753680138661,151.1257339083605,151.23262793380695,151.63373292263026],\"yaxis\":\"y2\"},{\"fillcolor\":\"purple\",\"line\":{\"color\":\"purple\",\"width\":0},\"mode\":\"lines\",\"name\":\"Gas\",\"showlegend\":false,\"stackgroup\":\"two\",\"type\":\"scatter\",\"x\":[2015,2016,2017,2018,2019,2020,2021,2022,2023,2024,2025,2026,2027,2028,2029,2030,2031,2032,2033,2034,2035,2036,2037,2038,2039,2040,2041,2042,2043,2044,2045,2046,2047,2048,2049,2050],\"xaxis\":\"x2\",\"y\":[-10.058771612903225,-10.058771612903225,-10.058771612903225,-10.058771612903225,-10.058771612903225,-10.058771612903225,-9.924654658064515,-9.790537703225805,-9.656420748387095,-9.522303793548389,-19.83107767815112,-21.172040099959823,-29.02281500520532,-33.86793671084555,-44.845307813075436,-49.940866922520755,-58.73319862816098,-62.19907033380122,-65.66494203944144,-75.42752788187548,-93.80184114643521,-112.21707392016178,-119.39362192839987,-124.01330370621365,-126.97625344828255,-130.01656264346025,-132.94525204073386,-136.00478027538298,-138.6141521785897,-141.37908876030397,-144.16255069608852,-146.03174950212048,-147.81842156923383,-149.3194071827558,-150.65233062406475,-150.23797321153108],\"yaxis\":\"y2\"},{\"fillcolor\":\"black\",\"line\":{\"color\":\"black\",\"width\":0},\"mode\":\"lines\",\"name\":\"Coal\",\"showlegend\":false,\"stackgroup\":\"one\",\"type\":\"scatter\",\"x\":[2015,2016,2017,2018,2019,2020,2021,2022,2023,2024,2025,2026,2027,2028,2029,2030,2031,2032,2033,2034,2035,2036,2037,2038,2039,2040,2041,2042,2043,2044,2045,2046,2047,2048,2049,2050],\"xaxis\":\"x2\",\"y\":[400.0732957214581,400.45278162539626,400.7991192435614,401.10706517033185,401.3698444013438,401.5789881811425,401.5794104695188,401.4995907717133,401.3260140095586,401.0406600788317,386.75831600867446,386.4126229233603,371.08321679916725,362.42145608658404,340.4999800562864,241.26534212647448,240.79358822236358,236.94184909297675,235.91141609827469,221.6934706587239,202.61688342885432,189.81529448755828,167.74442010439338,159.95062934771087,93.28889212897764,102.43718316530894,100.37879371477602,99.33519757117055,96.86984686046067,94.00778778357092,89.33385786710625,86.06595596933606,83.39818380922732,73.79855495572157,62.274385679117984,37.72761755377762],\"yaxis\":\"y2\"},{\"fillcolor\":\"black\",\"line\":{\"color\":\"black\",\"width\":0},\"mode\":\"lines\",\"name\":\"Coal\",\"showlegend\":false,\"stackgroup\":\"two\",\"type\":\"scatter\",\"x\":[2015,2016,2017,2018,2019,2020,2021,2022,2023,2024,2025,2026,2027,2028,2029,2030,2031,2032,2033,2034,2035,2036,2037,2038,2039,2040,2041,2042,2043,2044,2045,2046,2047,2048,2049,2050],\"xaxis\":\"x2\",\"y\":[0.0,0.0,0.0,0.0,0.0,0.0,0.0,0.0,0.0,0.0,0.0,0.0,0.0,0.0,0.0,0.0,0.0,0.0,0.0,0.0,0.0,0.0,0.0,0.0,0.0,0.0,0.0,0.0,0.0,0.0,0.0,0.0,0.0,0.0,0.0,0.0],\"yaxis\":\"y2\"},{\"fillcolor\":\"grey\",\"line\":{\"color\":\"grey\",\"width\":0},\"mode\":\"lines\",\"name\":\"Oil\",\"showlegend\":false,\"stackgroup\":\"one\",\"type\":\"scatter\",\"x\":[2015,2016,2017,2018,2019,2020,2021,2022,2023,2024,2025,2026,2027,2028,2029,2030,2031,2032,2033,2034,2035,2036,2037,2038,2039,2040,2041,2042,2043,2044,2045,2046,2047,2048,2049,2050],\"xaxis\":\"x2\",\"y\":[692.7148503638709,692.7148503638709,692.7148503638709,692.7148503638709,692.7148503638709,692.7148503638709,683.4786523590193,674.2424543541676,665.0062563493162,655.7700583444646,646.5338603396129,637.2976623347613,628.0614643299097,618.825266325058,609.5890683202065,600.3528703153548,591.1166723105032,581.8804743056517,572.6442763007999,563.4080782959484,398.5552286475102,242.87705186948148,186.80781251005143,145.9792169234708,121.32501790560812,98.9520134824726,72.84382531309198,61.754194625420666,58.171186778710975,54.588178932001284,51.00517108529162,48.16891853037794,45.33266597546424,43.023193947115146,41.01314422377815,38.86726282364468],\"yaxis\":\"y2\"},{\"fillcolor\":\"grey\",\"line\":{\"color\":\"grey\",\"width\":0},\"mode\":\"lines\",\"name\":\"Oil\",\"showlegend\":false,\"stackgroup\":\"two\",\"type\":\"scatter\",\"x\":[2015,2016,2017,2018,2019,2020,2021,2022,2023,2024,2025,2026,2027,2028,2029,2030,2031,2032,2033,2034,2035,2036,2037,2038,2039,2040,2041,2042,2043,2044,2045,2046,2047,2048,2049,2050],\"xaxis\":\"x2\",\"y\":[0.0,0.0,0.0,0.0,0.0,0.0,0.0,0.0,0.0,0.0,0.0,0.0,0.0,0.0,0.0,0.0,0.0,0.0,0.0,0.0,0.0,0.0,0.0,0.0,0.0,0.0,0.0,0.0,0.0,0.0,0.0,0.0,0.0,0.0,0.0,0.0],\"yaxis\":\"y2\"},{\"fillcolor\":\"brown\",\"line\":{\"color\":\"brown\",\"width\":0},\"mode\":\"lines\",\"name\":\"Biomass\",\"showlegend\":false,\"stackgroup\":\"one\",\"type\":\"scatter\",\"x\":[2015,2016,2017,2018,2019,2020,2021,2022,2023,2024,2025,2026,2027,2028,2029,2030,2031,2032,2033,2034,2035,2036,2037,2038,2039,2040,2041,2042,2043,2044,2045,2046,2047,2048,2049,2050],\"xaxis\":\"x2\",\"y\":[0.0,0.0,0.0,0.0,0.0,0.0,0.0,0.0,0.0,0.0,4.177326658640649,5.1739275657665145,5.967101277017183,7.5286713369289675,10.18261985663695,11.00758644305838,11.390989179479806,11.774391915901235,12.157794652322663,12.541246856059775,159.15339482216083,336.2778327558557,322.94044992013266,318.0562864329782,382.8315906433575,337.13410821012565,329.6817310539158,320.61734595183276,288.93482522133644,276.9175422763037,265.1938714306975,253.53406586422307,241.47393773943097,222.8859629821589,205.22047711890718,146.9914333767427],\"yaxis\":\"y2\"},{\"fillcolor\":\"brown\",\"line\":{\"color\":\"brown\",\"width\":0},\"mode\":\"lines\",\"name\":\"Biomass\",\"showlegend\":false,\"stackgroup\":\"two\",\"type\":\"scatter\",\"x\":[2015,2016,2017,2018,2019,2020,2021,2022,2023,2024,2025,2026,2027,2028,2029,2030,2031,2032,2033,2034,2035,2036,2037,2038,2039,2040,2041,2042,2043,2044,2045,2046,2047,2048,2049,2050],\"xaxis\":\"x2\",\"y\":[0.0,0.0,0.0,0.0,0.0,0.0,0.0,0.0,0.0,0.0,0.0,0.0,0.0,0.0,0.0,0.0,0.0,0.0,0.0,0.0,0.0,0.0,0.0,0.0,0.0,0.0,0.0,0.0,0.0,0.0,0.0,0.0,0.0,0.0,0.0,0.0],\"yaxis\":\"y2\"},{\"fillcolor\":\"yellow\",\"line\":{\"color\":\"yellow\",\"width\":0},\"mode\":\"lines\",\"name\":\"Electricity\",\"showlegend\":false,\"stackgroup\":\"one\",\"type\":\"scatter\",\"x\":[2015,2016,2017,2018,2019,2020,2021,2022,2023,2024,2025,2026,2027,2028,2029,2030,2031,2032,2033,2034,2035,2036,2037,2038,2039,2040,2041,2042,2043,2044,2045,2046,2047,2048,2049,2050],\"xaxis\":\"x2\",\"y\":[151.11991049611783,148.25542082580645,148.13719442580646,148.01896802580646,147.90074162580646,147.78251522580643,147.31046752946236,146.83841983311828,146.3663721367742,145.8943244404301,150.4610119935437,150.10145449405738,154.46920041430053,156.6133161940067,163.29416781181195,213.811663295207,202.9138942284484,204.5256722750397,206.1370306162115,213.5596562171588,244.1896924715595,264.892070886674,298.75891753118634,328.6104218428565,348.8046730684639,372.41806077770826,393.3710062771481,409.60733744914324,415.1985707947745,416.056297498689,397.30195923850147,398.0305070813637,390.79628128779393,381.69568198961673,379.22596210102336,410.7600652746893],\"yaxis\":\"y2\"},{\"fillcolor\":\"yellow\",\"line\":{\"color\":\"yellow\",\"width\":0},\"mode\":\"lines\",\"name\":\"Electricity\",\"showlegend\":false,\"stackgroup\":\"two\",\"type\":\"scatter\",\"x\":[2015,2016,2017,2018,2019,2020,2021,2022,2023,2024,2025,2026,2027,2028,2029,2030,2031,2032,2033,2034,2035,2036,2037,2038,2039,2040,2041,2042,2043,2044,2045,2046,2047,2048,2049,2050],\"xaxis\":\"x2\",\"y\":[0.0,0.0,0.0,0.0,0.0,0.0,0.0,0.0,0.0,0.0,0.0,0.0,0.0,0.0,0.0,0.0,0.0,0.0,0.0,0.0,0.0,0.0,0.0,0.0,0.0,0.0,0.0,0.0,0.0,0.0,0.0,0.0,0.0,0.0,0.0,0.0],\"yaxis\":\"y2\"},{\"fillcolor\":\"red\",\"line\":{\"color\":\"red\",\"width\":0},\"mode\":\"lines\",\"name\":\"MeOH\",\"showlegend\":false,\"stackgroup\":\"one\",\"type\":\"scatter\",\"x\":[2015,2016,2017,2018,2019,2020,2021,2022,2023,2024,2025,2026,2027,2028,2029,2030,2031,2032,2033,2034,2035,2036,2037,2038,2039,2040,2041,2042,2043,2044,2045,2046,2047,2048,2049,2050],\"xaxis\":\"x2\",\"y\":[0.0,0.0,0.0,0.0,0.0,0.0,0.0,0.0,0.0,0.0,0.09824336767895878,0.13939780007654612,0.14805506046550154,0.15671232085445688,0.1653695812434123,0.17402684163236765,0.182684102021323,0.19134136241027835,0.19999862279923375,0.2086574518071042,41.46343453582003,68.83582272868217,99.77268016560737,119.07712767877139,130.34690946793296,138.958150182908,148.18350578373332,151.5425343667765,156.70946534173913,156.52534175891097,155.6528693170058,154.77925058852492,154.11889826903493,152.64349150478938,150.2536411030784,155.3425137178462],\"yaxis\":\"y2\"},{\"fillcolor\":\"red\",\"line\":{\"color\":\"red\",\"width\":0},\"mode\":\"lines\",\"name\":\"MeOH\",\"showlegend\":false,\"stackgroup\":\"two\",\"type\":\"scatter\",\"x\":[2015,2016,2017,2018,2019,2020,2021,2022,2023,2024,2025,2026,2027,2028,2029,2030,2031,2032,2033,2034,2035,2036,2037,2038,2039,2040,2041,2042,2043,2044,2045,2046,2047,2048,2049,2050],\"xaxis\":\"x2\",\"y\":[-7.8723399999999994,-7.8723399999999994,-7.8723399999999994,-7.8723399999999994,-7.8723399999999994,-7.8723399999999994,-7.8723399999999994,-7.8723399999999994,-7.8723399999999994,-7.8723399999999994,-7.8723399999999994,-7.8723399999999994,-7.8723399999999994,-7.8723399999999994,-7.8723399999999994,-7.8723399999999994,-7.8723399999999994,-7.8723399999999994,-7.8723399999999994,-7.8723399999999994,-31.895126632807084,-55.581296797559155,-78.75080024229408,-97.12433417077771,-113.53358496220162,-128.21067684561643,-141.63794157294933,-151.5480743667765,-156.71500534173913,-156.53088175891097,-155.6584093170058,-154.7847905885249,-154.12443826903493,-152.64903150478938,-150.2591811030784,-155.3480537178462],\"yaxis\":\"y2\"},{\"fillcolor\":\"green\",\"line\":{\"color\":\"green\",\"width\":0},\"mode\":\"lines\",\"name\":\"Waste\",\"showlegend\":false,\"stackgroup\":\"one\",\"type\":\"scatter\",\"x\":[2015,2016,2017,2018,2019,2020,2021,2022,2023,2024,2025,2026,2027,2028,2029,2030,2031,2032,2033,2034,2035,2036,2037,2038,2039,2040,2041,2042,2043,2044,2045,2046,2047,2048,2049,2050],\"xaxis\":\"x2\",\"y\":[37.510386080695,37.89043151719906,38.23727979247738,38.54567976977458,38.80884645532931,39.01829860693984,38.55468901287267,38.010719119917034,37.37285392261373,36.62304674701722,31.60508514975767,31.700981371317333,31.775168984311595,31.775168984311595,31.24544127627791,30.661411655725907,30.361952669513403,30.06771614694379,29.773786210438868,29.481866823428902,26.973207141550635,21.60365191228651,15.717853152432015,9.719245161955666,2.304185509869449,26.21319859750456,27.620539505811696,27.33113331853592,27.04172713126013,26.75232094398435,26.462914756708575,25.989757635632696,25.741918699493226,25.411083019229476,25.207008898940078,23.826405515504064],\"yaxis\":\"y2\"},{\"fillcolor\":\"green\",\"line\":{\"color\":\"green\",\"width\":0},\"mode\":\"lines\",\"name\":\"Waste\",\"showlegend\":false,\"stackgroup\":\"two\",\"type\":\"scatter\",\"x\":[2015,2016,2017,2018,2019,2020,2021,2022,2023,2024,2025,2026,2027,2028,2029,2030,2031,2032,2033,2034,2035,2036,2037,2038,2039,2040,2041,2042,2043,2044,2045,2046,2047,2048,2049,2050],\"xaxis\":\"x2\",\"y\":[0.0,0.0,0.0,0.0,0.0,0.0,0.0,0.0,0.0,0.0,0.0,0.0,0.0,0.0,0.0,0.0,0.0,0.0,0.0,0.0,0.0,0.0,0.0,0.0,0.0,0.0,0.0,0.0,0.0,0.0,0.0,0.0,0.0,0.0,0.0,0.0],\"yaxis\":\"y2\"},{\"fillcolor\":\"cyan\",\"line\":{\"color\":\"cyan\",\"width\":0},\"mode\":\"lines\",\"name\":\"Hydrogen\",\"showlegend\":false,\"stackgroup\":\"one\",\"type\":\"scatter\",\"x\":[2015,2016,2017,2018,2019,2020,2021,2022,2023,2024,2025,2026,2027,2028,2029,2030,2031,2032,2033,2034,2035,2036,2037,2038,2039,2040,2041,2042,2043,2044,2045,2046,2047,2048,2049,2050],\"xaxis\":\"x3\",\"y\":[34.13396519999999,33.77432519999999,33.414685199999994,33.055045199999995,32.69540519999999,32.3357652,31.516585199999994,30.697405200000002,29.8782252,29.0590452,28.239865199999997,27.420685199999998,26.6015052,25.7823252,24.963145199999996,58.58656578422475,57.78462201809251,56.676731018092525,54.71969001809252,52.762649018092524,73.9089490978789,100.9776343512369,128.71327345508675,146.50135155315155,161.8165288290085,177.3884211577785,193.13449608659863,201.36498264322094,204.67546331367285,203.38121694133633,191.25234743370495,180.1997638340866,170.53239409145638,165.28610130912224,166.48064340410002,177.2121850561632],\"yaxis\":\"y3\"},{\"fillcolor\":\"cyan\",\"line\":{\"color\":\"cyan\",\"width\":0},\"mode\":\"lines\",\"name\":\"Hydrogen\",\"showlegend\":false,\"stackgroup\":\"two\",\"type\":\"scatter\",\"x\":[2015,2016,2017,2018,2019,2020,2021,2022,2023,2024,2025,2026,2027,2028,2029,2030,2031,2032,2033,2034,2035,2036,2037,2038,2039,2040,2041,2042,2043,2044,2045,2046,2047,2048,2049,2050],\"xaxis\":\"x3\",\"y\":[-46.938475896994795,-39.81835892823685,-39.57859892823685,-39.33883892823685,-39.09907892823685,-38.859318928236846,-38.41332522501104,-37.96733152178523,-37.52133781855943,-37.07534411533363,-32.14552663711005,-29.84698279305622,-29.085419649283345,-28.323856505510456,-27.56229336173758,-60.24102380268493,-56.13803123955721,-56.280788676429495,-55.57439611330177,-54.969829958463066,-72.01996941866965,-95.71998856796714,-112.38400460049601,-130.33518031746175,-140.62231423522468,-143.05255929952068,-150.1437703745389,-161.47267270331824,-165.4425844382835,-168.10066042168626,-163.7318748773901,-161.58413566164285,-160.68440085984324,-160.54019578867937,-166.48064340410002,-177.21385868660414],\"yaxis\":\"y3\"},{\"fillcolor\":\"purple\",\"line\":{\"color\":\"purple\",\"width\":0},\"mode\":\"lines\",\"name\":\"Gas\",\"showlegend\":false,\"stackgroup\":\"one\",\"type\":\"scatter\",\"x\":[2015,2016,2017,2018,2019,2020,2021,2022,2023,2024,2025,2026,2027,2028,2029,2030,2031,2032,2033,2034,2035,2036,2037,2038,2039,2040,2041,2042,2043,2044,2045,2046,2047,2048,2049,2050],\"xaxis\":\"x3\",\"y\":[57.53951688707774,49.0524657507141,48.7666761507141,48.480886550714104,48.1950969507141,47.9093073507141,47.47105511639151,47.03280288206893,46.59455064774635,46.15629841342377,44.18096081951216,40.428486166181756,46.5866993108268,49.0438820811756,58.117644048929435,86.29344868831075,83.12507378116445,82.14376888957776,81.16246399799108,86.00441192903492,97.32725440154002,119.67245884115889,126.56161011440562,131.9322170279827,134.55735267086246,140.18017787321932,141.0830002877383,144.26835054727218,146.99154242557688,152.29296734473093,159.12296286617325,167.4380389081972,175.9648849253726,184.93360061281632,193.10503995891864,201.1587671474718],\"yaxis\":\"y3\"},{\"fillcolor\":\"purple\",\"line\":{\"color\":\"purple\",\"width\":0},\"mode\":\"lines\",\"name\":\"Gas\",\"showlegend\":false,\"stackgroup\":\"two\",\"type\":\"scatter\",\"x\":[2015,2016,2017,2018,2019,2020,2021,2022,2023,2024,2025,2026,2027,2028,2029,2030,2031,2032,2033,2034,2035,2036,2037,2038,2039,2040,2041,2042,2043,2044,2045,2046,2047,2048,2049,2050],\"xaxis\":\"x3\",\"y\":[-10.058771612903225,-10.058771612903225,-10.058771612903225,-10.058771612903225,-10.058771612903225,-10.058771612903225,-9.924654658064515,-9.790537703225805,-9.656420748387095,-9.522303793548389,-19.83107767815113,-21.17204009995983,-29.71819217989631,-34.563313885536544,-46.02501478858181,-49.940866922520755,-58.733198628160984,-62.19907033380122,-65.66494203944144,-76.07230988187547,-93.28266478402955,-113.56129317506374,-120.78724717344937,-126.49754451418686,-129.46092673321627,-135.7808912389955,-141.45463750239142,-144.88448433807494,-147.8521727925293,-153.398094287833,-160.3532814692115,-168.7930881144772,-177.6465116111669,-186.42399671528793,-194.7258917848436,-201.1587671474718],\"yaxis\":\"y3\"},{\"fillcolor\":\"black\",\"line\":{\"color\":\"black\",\"width\":0},\"mode\":\"lines\",\"name\":\"Coal\",\"showlegend\":false,\"stackgroup\":\"one\",\"type\":\"scatter\",\"x\":[2015,2016,2017,2018,2019,2020,2021,2022,2023,2024,2025,2026,2027,2028,2029,2030,2031,2032,2033,2034,2035,2036,2037,2038,2039,2040,2041,2042,2043,2044,2045,2046,2047,2048,2049,2050],\"xaxis\":\"x3\",\"y\":[400.0732957214581,400.4542543082844,400.80193033480344,401.1098762615739,401.3726554925858,401.5817992723845,401.58222156076084,401.5024018629553,401.32882510080066,401.04347117007376,386.76112709991645,386.41543401460234,369.68654225881676,361.02478154623356,338.128564581285,236.29402008522956,235.82226618111866,231.96733240154796,230.93776038278583,215.93872942101464,200.46191991047652,186.46217904044764,162.5003667816288,154.70177528570764,89.52066881092249,91.64084559509018,86.85575656346015,84.10439107892991,80.66783639043369,75.50391440441345,69.20267351584067,59.614065667796,48.26860802679549,34.28485221391922,18.544657937030145,0.0],\"yaxis\":\"y3\"},{\"fillcolor\":\"black\",\"line\":{\"color\":\"black\",\"width\":0},\"mode\":\"lines\",\"name\":\"Coal\",\"showlegend\":false,\"stackgroup\":\"two\",\"type\":\"scatter\",\"x\":[2015,2016,2017,2018,2019,2020,2021,2022,2023,2024,2025,2026,2027,2028,2029,2030,2031,2032,2033,2034,2035,2036,2037,2038,2039,2040,2041,2042,2043,2044,2045,2046,2047,2048,2049,2050],\"xaxis\":\"x3\",\"y\":[0.0,0.0,0.0,0.0,0.0,0.0,0.0,0.0,0.0,0.0,0.0,0.0,0.0,0.0,0.0,0.0,0.0,0.0,0.0,0.0,0.0,0.0,0.0,0.0,0.0,0.0,0.0,0.0,0.0,0.0,0.0,0.0,0.0,0.0,0.0,0.0],\"yaxis\":\"y3\"},{\"fillcolor\":\"grey\",\"line\":{\"color\":\"grey\",\"width\":0},\"mode\":\"lines\",\"name\":\"Oil\",\"showlegend\":false,\"stackgroup\":\"one\",\"type\":\"scatter\",\"x\":[2015,2016,2017,2018,2019,2020,2021,2022,2023,2024,2025,2026,2027,2028,2029,2030,2031,2032,2033,2034,2035,2036,2037,2038,2039,2040,2041,2042,2043,2044,2045,2046,2047,2048,2049,2050],\"xaxis\":\"x3\",\"y\":[692.7148503638709,692.7148503638709,692.7148503638709,692.7148503638709,692.7148503638709,692.7148503638709,683.4786523590193,674.2424543541676,665.0062563493162,655.7700583444646,646.5338603396129,637.2976623347613,628.0614643299097,618.825266325058,609.5890683202065,600.3528703153548,591.1166723105032,581.8804743056517,572.6442763007999,563.4080782959484,398.5552286475102,243.55750508112982,190.14944638775552,149.32085080117488,124.66665178331222,102.29364736017669,76.23476815725186,65.23519870269988,61.70149982244598,58.16780094219209,52.4124310473274,47.687289411088244,39.21024600240679,28.664062773677394,14.332031386838684,0.0],\"yaxis\":\"y3\"},{\"fillcolor\":\"grey\",\"line\":{\"color\":\"grey\",\"width\":0},\"mode\":\"lines\",\"name\":\"Oil\",\"showlegend\":false,\"stackgroup\":\"two\",\"type\":\"scatter\",\"x\":[2015,2016,2017,2018,2019,2020,2021,2022,2023,2024,2025,2026,2027,2028,2029,2030,2031,2032,2033,2034,2035,2036,2037,2038,2039,2040,2041,2042,2043,2044,2045,2046,2047,2048,2049,2050],\"xaxis\":\"x3\",\"y\":[0.0,0.0,0.0,0.0,0.0,0.0,0.0,0.0,0.0,0.0,0.0,0.0,0.0,0.0,0.0,0.0,0.0,0.0,0.0,0.0,0.0,0.0,0.0,0.0,0.0,0.0,0.0,0.0,0.0,0.0,0.0,0.0,0.0,0.0,0.0,0.0],\"yaxis\":\"y3\"},{\"fillcolor\":\"brown\",\"line\":{\"color\":\"brown\",\"width\":0},\"mode\":\"lines\",\"name\":\"Biomass\",\"showlegend\":false,\"stackgroup\":\"one\",\"type\":\"scatter\",\"x\":[2015,2016,2017,2018,2019,2020,2021,2022,2023,2024,2025,2026,2027,2028,2029,2030,2031,2032,2033,2034,2035,2036,2037,2038,2039,2040,2041,2042,2043,2044,2045,2046,2047,2048,2049,2050],\"xaxis\":\"x3\",\"y\":[0.0,0.0,0.0,0.0,0.0,0.0,0.0,0.0,0.0,0.0,4.177326658640649,5.173927565766516,5.967101277017183,7.5286713369289675,10.18261985663695,11.00758644305838,11.390989179479806,11.774391915901235,12.157794652322663,12.975074031543004,160.98753244996465,336.34824818061924,321.9416347314326,316.95689690860456,380.0461034195346,350.7004714991137,346.04535826992185,341.54301167359455,315.2990422986348,302.78859994599463,289.24476190064684,267.0873580319236,241.47768812654078,213.80574836272197,187.56000438854943,130.16664378830558],\"yaxis\":\"y3\"},{\"fillcolor\":\"brown\",\"line\":{\"color\":\"brown\",\"width\":0},\"mode\":\"lines\",\"name\":\"Biomass\",\"showlegend\":false,\"stackgroup\":\"two\",\"type\":\"scatter\",\"x\":[2015,2016,2017,2018,2019,2020,2021,2022,2023,2024,2025,2026,2027,2028,2029,2030,2031,2032,2033,2034,2035,2036,2037,2038,2039,2040,2041,2042,2043,2044,2045,2046,2047,2048,2049,2050],\"xaxis\":\"x3\",\"y\":[0.0,0.0,0.0,0.0,0.0,0.0,0.0,0.0,0.0,0.0,0.0,0.0,0.0,0.0,0.0,0.0,0.0,0.0,0.0,0.0,0.0,0.0,0.0,0.0,0.0,0.0,0.0,0.0,0.0,0.0,0.0,0.0,0.0,0.0,0.0,0.0],\"yaxis\":\"y3\"},{\"fillcolor\":\"yellow\",\"line\":{\"color\":\"yellow\",\"width\":0},\"mode\":\"lines\",\"name\":\"Electricity\",\"showlegend\":false,\"stackgroup\":\"one\",\"type\":\"scatter\",\"x\":[2015,2016,2017,2018,2019,2020,2021,2022,2023,2024,2025,2026,2027,2028,2029,2030,2031,2032,2033,2034,2035,2036,2037,2038,2039,2040,2041,2042,2043,2044,2045,2046,2047,2048,2049,2050],\"xaxis\":\"x3\",\"y\":[148.37364722580645,148.25542082580645,148.13719442580646,148.01896802580646,147.90074162580646,147.78251522580643,147.31046752946236,146.83841983311828,146.3663721367742,145.8943244404301,150.4610119935437,150.10145449405738,154.9836515309122,157.12776731061837,164.1669338342134,213.98662447520334,204.50050061055944,206.1122786571507,207.58570936899497,216.03289007298778,246.28947457987937,270.531606301062,307.25694948259127,339.1779797172665,360.6402910269293,385.0103589255157,403.5715047956232,420.373020704424,425.42407980312544,425.7720277397795,408.2257982469112,410.1149913676335,404.43014372795045,404.00322586563385,425.21601249129884,465.405624231569],\"yaxis\":\"y3\"},{\"fillcolor\":\"yellow\",\"line\":{\"color\":\"yellow\",\"width\":0},\"mode\":\"lines\",\"name\":\"Electricity\",\"showlegend\":false,\"stackgroup\":\"two\",\"type\":\"scatter\",\"x\":[2015,2016,2017,2018,2019,2020,2021,2022,2023,2024,2025,2026,2027,2028,2029,2030,2031,2032,2033,2034,2035,2036,2037,2038,2039,2040,2041,2042,2043,2044,2045,2046,2047,2048,2049,2050],\"xaxis\":\"x3\",\"y\":[0.0,0.0,0.0,0.0,0.0,0.0,0.0,0.0,0.0,0.0,0.0,0.0,0.0,0.0,0.0,0.0,0.0,0.0,0.0,0.0,0.0,0.0,0.0,0.0,0.0,0.0,0.0,0.0,0.0,0.0,0.0,0.0,0.0,0.0,0.0,0.0],\"yaxis\":\"y3\"},{\"fillcolor\":\"red\",\"line\":{\"color\":\"red\",\"width\":0},\"mode\":\"lines\",\"name\":\"MeOH\",\"showlegend\":false,\"stackgroup\":\"one\",\"type\":\"scatter\",\"x\":[2015,2016,2017,2018,2019,2020,2021,2022,2023,2024,2025,2026,2027,2028,2029,2030,2031,2032,2033,2034,2035,2036,2037,2038,2039,2040,2041,2042,2043,2044,2045,2046,2047,2048,2049,2050],\"xaxis\":\"x3\",\"y\":[0.0,0.0,0.0,0.0,0.0,0.0,0.0,0.0,0.0,0.0,0.09824336767895878,0.13939780007654615,0.1480550604655015,0.15671232085445688,0.16536958124341228,0.17402684163236765,0.182684102021323,0.19134136241027835,0.19999862279923372,0.2224142021773071,41.517307952045144,68.87635750731036,98.07479000687741,117.40977494213348,128.66469419391998,137.29059851837243,146.49134781817878,149.80543378790924,154.94775846185297,154.73902857800584,154.9506144387008,155.01959452474097,157.1741257387996,159.80902608034933,163.5681260979065,174.73816602133604],\"yaxis\":\"y3\"},{\"fillcolor\":\"red\",\"line\":{\"color\":\"red\",\"width\":0},\"mode\":\"lines\",\"name\":\"MeOH\",\"showlegend\":false,\"stackgroup\":\"two\",\"type\":\"scatter\",\"x\":[2015,2016,2017,2018,2019,2020,2021,2022,2023,2024,2025,2026,2027,2028,2029,2030,2031,2032,2033,2034,2035,2036,2037,2038,2039,2040,2041,2042,2043,2044,2045,2046,2047,2048,2049,2050],\"xaxis\":\"x3\",\"y\":[-7.8723399999999994,-7.8723399999999994,-7.8723399999999994,-7.8723399999999994,-7.8723399999999994,-7.8723399999999994,-7.8723399999999994,-7.8723399999999994,-7.8723399999999994,-7.8723399999999994,-7.8723399999999994,-7.8723399999999994,-7.8723399999999994,-7.8723399999999994,-7.8723399999999994,-7.8723399999999994,-7.8723399999999994,-7.8723399999999994,-7.8723399999999994,-7.8723399999999994,-31.949000049032215,-56.38057474444085,-78.72046174809971,-95.29606611550147,-111.69045436955031,-126.54312518108084,-139.9457836073948,-149.81097378790923,-154.95329846185297,-154.74456857800584,-154.9561544387008,-153.29019479946078,-150.2748326940687,-149.5417092835354,-152.76808035894902,-164.79112307976752],\"yaxis\":\"y3\"},{\"fillcolor\":\"green\",\"line\":{\"color\":\"green\",\"width\":0},\"mode\":\"lines\",\"name\":\"Waste\",\"showlegend\":false,\"stackgroup\":\"one\",\"type\":\"scatter\",\"x\":[2015,2016,2017,2018,2019,2020,2021,2022,2023,2024,2025,2026,2027,2028,2029,2030,2031,2032,2033,2034,2035,2036,2037,2038,2039,2040,2041,2042,2043,2044,2045,2046,2047,2048,2049,2050],\"xaxis\":\"x3\",\"y\":[37.510386080695,37.8919063714829,38.24009502852975,38.54849500582696,38.81166169138167,39.021113842992214,38.55750424892505,38.013534355969405,37.375669158666106,36.6258619830696,31.60790038581004,31.703796607369707,31.77798422036397,31.77798422036397,31.24825651233028,30.664226891778277,30.364767905565778,30.067332022463894,29.774264331363906,29.481866823428906,26.957160217864676,21.556581187241026,15.671065252639062,9.66284162679621,2.2733937422649726,13.66010426721737,11.505153389015895,7.97980244138615,4.447390352256897,2.129627344117393,0.5253117887464784,0.12460753223636922,0.0,0.0,0.0,0.0],\"yaxis\":\"y3\"},{\"fillcolor\":\"green\",\"line\":{\"color\":\"green\",\"width\":0},\"mode\":\"lines\",\"name\":\"Waste\",\"showlegend\":false,\"stackgroup\":\"two\",\"type\":\"scatter\",\"x\":[2015,2016,2017,2018,2019,2020,2021,2022,2023,2024,2025,2026,2027,2028,2029,2030,2031,2032,2033,2034,2035,2036,2037,2038,2039,2040,2041,2042,2043,2044,2045,2046,2047,2048,2049,2050],\"xaxis\":\"x3\",\"y\":[0.0,0.0,0.0,0.0,0.0,0.0,0.0,0.0,0.0,0.0,0.0,0.0,0.0,0.0,0.0,0.0,0.0,0.0,0.0,0.0,0.0,0.0,0.0,0.0,0.0,0.0,0.0,0.0,0.0,0.0,0.0,0.0,0.0,0.0,0.0,0.0],\"yaxis\":\"y3\"}],                        {\"annotations\":[{\"font\":{\"size\":24},\"showarrow\":false,\"text\":\"High electricity price\",\"x\":0.14444444444444446,\"xanchor\":\"center\",\"xref\":\"paper\",\"y\":1.0,\"yanchor\":\"bottom\",\"yref\":\"paper\"},{\"font\":{\"size\":24},\"showarrow\":false,\"text\":\"Reference\",\"x\":0.5,\"xanchor\":\"center\",\"xref\":\"paper\",\"y\":1.0,\"yanchor\":\"bottom\",\"yref\":\"paper\"},{\"font\":{\"size\":24},\"showarrow\":false,\"text\":\"Fossil phase-out\",\"x\":0.8555555555555556,\"xanchor\":\"center\",\"xref\":\"paper\",\"y\":1.0,\"yanchor\":\"bottom\",\"yref\":\"paper\"}],\"font\":{\"family\":\"Times New Roman\",\"size\":24},\"legend\":{\"font\":{\"size\":20},\"orientation\":\"h\",\"x\":1,\"xanchor\":\"right\",\"y\":1.1,\"yanchor\":\"bottom\"},\"template\":{\"data\":{\"bar\":[{\"error_x\":{\"color\":\"#2a3f5f\"},\"error_y\":{\"color\":\"#2a3f5f\"},\"marker\":{\"line\":{\"color\":\"#E5ECF6\",\"width\":0.5},\"pattern\":{\"fillmode\":\"overlay\",\"size\":10,\"solidity\":0.2}},\"type\":\"bar\"}],\"barpolar\":[{\"marker\":{\"line\":{\"color\":\"#E5ECF6\",\"width\":0.5},\"pattern\":{\"fillmode\":\"overlay\",\"size\":10,\"solidity\":0.2}},\"type\":\"barpolar\"}],\"carpet\":[{\"aaxis\":{\"endlinecolor\":\"#2a3f5f\",\"gridcolor\":\"white\",\"linecolor\":\"white\",\"minorgridcolor\":\"white\",\"startlinecolor\":\"#2a3f5f\"},\"baxis\":{\"endlinecolor\":\"#2a3f5f\",\"gridcolor\":\"white\",\"linecolor\":\"white\",\"minorgridcolor\":\"white\",\"startlinecolor\":\"#2a3f5f\"},\"type\":\"carpet\"}],\"choropleth\":[{\"colorbar\":{\"outlinewidth\":0,\"ticks\":\"\"},\"type\":\"choropleth\"}],\"contour\":[{\"colorbar\":{\"outlinewidth\":0,\"ticks\":\"\"},\"colorscale\":[[0.0,\"#0d0887\"],[0.1111111111111111,\"#46039f\"],[0.2222222222222222,\"#7201a8\"],[0.3333333333333333,\"#9c179e\"],[0.4444444444444444,\"#bd3786\"],[0.5555555555555556,\"#d8576b\"],[0.6666666666666666,\"#ed7953\"],[0.7777777777777778,\"#fb9f3a\"],[0.8888888888888888,\"#fdca26\"],[1.0,\"#f0f921\"]],\"type\":\"contour\"}],\"contourcarpet\":[{\"colorbar\":{\"outlinewidth\":0,\"ticks\":\"\"},\"type\":\"contourcarpet\"}],\"heatmap\":[{\"colorbar\":{\"outlinewidth\":0,\"ticks\":\"\"},\"colorscale\":[[0.0,\"#0d0887\"],[0.1111111111111111,\"#46039f\"],[0.2222222222222222,\"#7201a8\"],[0.3333333333333333,\"#9c179e\"],[0.4444444444444444,\"#bd3786\"],[0.5555555555555556,\"#d8576b\"],[0.6666666666666666,\"#ed7953\"],[0.7777777777777778,\"#fb9f3a\"],[0.8888888888888888,\"#fdca26\"],[1.0,\"#f0f921\"]],\"type\":\"heatmap\"}],\"heatmapgl\":[{\"colorbar\":{\"outlinewidth\":0,\"ticks\":\"\"},\"colorscale\":[[0.0,\"#0d0887\"],[0.1111111111111111,\"#46039f\"],[0.2222222222222222,\"#7201a8\"],[0.3333333333333333,\"#9c179e\"],[0.4444444444444444,\"#bd3786\"],[0.5555555555555556,\"#d8576b\"],[0.6666666666666666,\"#ed7953\"],[0.7777777777777778,\"#fb9f3a\"],[0.8888888888888888,\"#fdca26\"],[1.0,\"#f0f921\"]],\"type\":\"heatmapgl\"}],\"histogram\":[{\"marker\":{\"pattern\":{\"fillmode\":\"overlay\",\"size\":10,\"solidity\":0.2}},\"type\":\"histogram\"}],\"histogram2d\":[{\"colorbar\":{\"outlinewidth\":0,\"ticks\":\"\"},\"colorscale\":[[0.0,\"#0d0887\"],[0.1111111111111111,\"#46039f\"],[0.2222222222222222,\"#7201a8\"],[0.3333333333333333,\"#9c179e\"],[0.4444444444444444,\"#bd3786\"],[0.5555555555555556,\"#d8576b\"],[0.6666666666666666,\"#ed7953\"],[0.7777777777777778,\"#fb9f3a\"],[0.8888888888888888,\"#fdca26\"],[1.0,\"#f0f921\"]],\"type\":\"histogram2d\"}],\"histogram2dcontour\":[{\"colorbar\":{\"outlinewidth\":0,\"ticks\":\"\"},\"colorscale\":[[0.0,\"#0d0887\"],[0.1111111111111111,\"#46039f\"],[0.2222222222222222,\"#7201a8\"],[0.3333333333333333,\"#9c179e\"],[0.4444444444444444,\"#bd3786\"],[0.5555555555555556,\"#d8576b\"],[0.6666666666666666,\"#ed7953\"],[0.7777777777777778,\"#fb9f3a\"],[0.8888888888888888,\"#fdca26\"],[1.0,\"#f0f921\"]],\"type\":\"histogram2dcontour\"}],\"mesh3d\":[{\"colorbar\":{\"outlinewidth\":0,\"ticks\":\"\"},\"type\":\"mesh3d\"}],\"parcoords\":[{\"line\":{\"colorbar\":{\"outlinewidth\":0,\"ticks\":\"\"}},\"type\":\"parcoords\"}],\"pie\":[{\"automargin\":true,\"type\":\"pie\"}],\"scatter\":[{\"marker\":{\"colorbar\":{\"outlinewidth\":0,\"ticks\":\"\"}},\"type\":\"scatter\"}],\"scatter3d\":[{\"line\":{\"colorbar\":{\"outlinewidth\":0,\"ticks\":\"\"}},\"marker\":{\"colorbar\":{\"outlinewidth\":0,\"ticks\":\"\"}},\"type\":\"scatter3d\"}],\"scattercarpet\":[{\"marker\":{\"colorbar\":{\"outlinewidth\":0,\"ticks\":\"\"}},\"type\":\"scattercarpet\"}],\"scattergeo\":[{\"marker\":{\"colorbar\":{\"outlinewidth\":0,\"ticks\":\"\"}},\"type\":\"scattergeo\"}],\"scattergl\":[{\"marker\":{\"colorbar\":{\"outlinewidth\":0,\"ticks\":\"\"}},\"type\":\"scattergl\"}],\"scattermapbox\":[{\"marker\":{\"colorbar\":{\"outlinewidth\":0,\"ticks\":\"\"}},\"type\":\"scattermapbox\"}],\"scatterpolar\":[{\"marker\":{\"colorbar\":{\"outlinewidth\":0,\"ticks\":\"\"}},\"type\":\"scatterpolar\"}],\"scatterpolargl\":[{\"marker\":{\"colorbar\":{\"outlinewidth\":0,\"ticks\":\"\"}},\"type\":\"scatterpolargl\"}],\"scatterternary\":[{\"marker\":{\"colorbar\":{\"outlinewidth\":0,\"ticks\":\"\"}},\"type\":\"scatterternary\"}],\"surface\":[{\"colorbar\":{\"outlinewidth\":0,\"ticks\":\"\"},\"colorscale\":[[0.0,\"#0d0887\"],[0.1111111111111111,\"#46039f\"],[0.2222222222222222,\"#7201a8\"],[0.3333333333333333,\"#9c179e\"],[0.4444444444444444,\"#bd3786\"],[0.5555555555555556,\"#d8576b\"],[0.6666666666666666,\"#ed7953\"],[0.7777777777777778,\"#fb9f3a\"],[0.8888888888888888,\"#fdca26\"],[1.0,\"#f0f921\"]],\"type\":\"surface\"}],\"table\":[{\"cells\":{\"fill\":{\"color\":\"#EBF0F8\"},\"line\":{\"color\":\"white\"}},\"header\":{\"fill\":{\"color\":\"#C8D4E3\"},\"line\":{\"color\":\"white\"}},\"type\":\"table\"}]},\"layout\":{\"annotationdefaults\":{\"arrowcolor\":\"#2a3f5f\",\"arrowhead\":0,\"arrowwidth\":1},\"autotypenumbers\":\"strict\",\"coloraxis\":{\"colorbar\":{\"outlinewidth\":0,\"ticks\":\"\"}},\"colorscale\":{\"diverging\":[[0,\"#8e0152\"],[0.1,\"#c51b7d\"],[0.2,\"#de77ae\"],[0.3,\"#f1b6da\"],[0.4,\"#fde0ef\"],[0.5,\"#f7f7f7\"],[0.6,\"#e6f5d0\"],[0.7,\"#b8e186\"],[0.8,\"#7fbc41\"],[0.9,\"#4d9221\"],[1,\"#276419\"]],\"sequential\":[[0.0,\"#0d0887\"],[0.1111111111111111,\"#46039f\"],[0.2222222222222222,\"#7201a8\"],[0.3333333333333333,\"#9c179e\"],[0.4444444444444444,\"#bd3786\"],[0.5555555555555556,\"#d8576b\"],[0.6666666666666666,\"#ed7953\"],[0.7777777777777778,\"#fb9f3a\"],[0.8888888888888888,\"#fdca26\"],[1.0,\"#f0f921\"]],\"sequentialminus\":[[0.0,\"#0d0887\"],[0.1111111111111111,\"#46039f\"],[0.2222222222222222,\"#7201a8\"],[0.3333333333333333,\"#9c179e\"],[0.4444444444444444,\"#bd3786\"],[0.5555555555555556,\"#d8576b\"],[0.6666666666666666,\"#ed7953\"],[0.7777777777777778,\"#fb9f3a\"],[0.8888888888888888,\"#fdca26\"],[1.0,\"#f0f921\"]]},\"colorway\":[\"#636efa\",\"#EF553B\",\"#00cc96\",\"#ab63fa\",\"#FFA15A\",\"#19d3f3\",\"#FF6692\",\"#B6E880\",\"#FF97FF\",\"#FECB52\"],\"font\":{\"color\":\"#2a3f5f\"},\"geo\":{\"bgcolor\":\"white\",\"lakecolor\":\"white\",\"landcolor\":\"#E5ECF6\",\"showlakes\":true,\"showland\":true,\"subunitcolor\":\"white\"},\"hoverlabel\":{\"align\":\"left\"},\"hovermode\":\"closest\",\"mapbox\":{\"style\":\"light\"},\"paper_bgcolor\":\"white\",\"plot_bgcolor\":\"#E5ECF6\",\"polar\":{\"angularaxis\":{\"gridcolor\":\"white\",\"linecolor\":\"white\",\"ticks\":\"\"},\"bgcolor\":\"#E5ECF6\",\"radialaxis\":{\"gridcolor\":\"white\",\"linecolor\":\"white\",\"ticks\":\"\"}},\"scene\":{\"xaxis\":{\"backgroundcolor\":\"#E5ECF6\",\"gridcolor\":\"white\",\"gridwidth\":2,\"linecolor\":\"white\",\"showbackground\":true,\"ticks\":\"\",\"zerolinecolor\":\"white\"},\"yaxis\":{\"backgroundcolor\":\"#E5ECF6\",\"gridcolor\":\"white\",\"gridwidth\":2,\"linecolor\":\"white\",\"showbackground\":true,\"ticks\":\"\",\"zerolinecolor\":\"white\"},\"zaxis\":{\"backgroundcolor\":\"#E5ECF6\",\"gridcolor\":\"white\",\"gridwidth\":2,\"linecolor\":\"white\",\"showbackground\":true,\"ticks\":\"\",\"zerolinecolor\":\"white\"}},\"shapedefaults\":{\"line\":{\"color\":\"#2a3f5f\"}},\"ternary\":{\"aaxis\":{\"gridcolor\":\"white\",\"linecolor\":\"white\",\"ticks\":\"\"},\"baxis\":{\"gridcolor\":\"white\",\"linecolor\":\"white\",\"ticks\":\"\"},\"bgcolor\":\"#E5ECF6\",\"caxis\":{\"gridcolor\":\"white\",\"linecolor\":\"white\",\"ticks\":\"\"}},\"title\":{\"x\":0.05},\"xaxis\":{\"automargin\":true,\"gridcolor\":\"white\",\"linecolor\":\"white\",\"ticks\":\"\",\"title\":{\"standoff\":15},\"zerolinecolor\":\"white\",\"zerolinewidth\":2},\"yaxis\":{\"automargin\":true,\"gridcolor\":\"white\",\"linecolor\":\"white\",\"ticks\":\"\",\"title\":{\"standoff\":15},\"zerolinecolor\":\"white\",\"zerolinewidth\":2}}},\"xaxis\":{\"anchor\":\"y\",\"domain\":[0.0,0.2888888888888889],\"title\":{\"text\":\"Year\"}},\"xaxis2\":{\"anchor\":\"y2\",\"domain\":[0.35555555555555557,0.6444444444444445],\"title\":{\"text\":\"Year\"}},\"xaxis3\":{\"anchor\":\"y3\",\"domain\":[0.7111111111111111,1.0],\"title\":{\"text\":\"Year\"}},\"yaxis\":{\"anchor\":\"x\",\"domain\":[0.0,1.0],\"title\":{\"text\":\"Energy flows (TWh)\"}},\"yaxis2\":{\"anchor\":\"x2\",\"domain\":[0.0,1.0],\"matches\":\"y\",\"showticklabels\":false},\"yaxis3\":{\"anchor\":\"x3\",\"domain\":[0.0,1.0],\"matches\":\"y\",\"showticklabels\":false}},                        {\"responsive\": true}                    ).then(function(){\n",
       "                            \n",
       "var gd = document.getElementById('ee6159b9-4f8c-4420-8ceb-5b97d58a6ea3');\n",
       "var x = new MutationObserver(function (mutations, observer) {{\n",
       "        var display = window.getComputedStyle(gd).display;\n",
       "        if (!display || display === 'none') {{\n",
       "            console.log([gd, 'removed!']);\n",
       "            Plotly.purge(gd);\n",
       "            observer.disconnect();\n",
       "        }}\n",
       "}});\n",
       "\n",
       "// Listen for the removal of the full notebook cells\n",
       "var notebookContainer = gd.closest('#notebook-container');\n",
       "if (notebookContainer) {{\n",
       "    x.observe(notebookContainer, {childList: true});\n",
       "}}\n",
       "\n",
       "// Listen for the clearing of the current output cell\n",
       "var outputEl = gd.closest('.output');\n",
       "if (outputEl) {{\n",
       "    x.observe(outputEl, {childList: true});\n",
       "}}\n",
       "\n",
       "                        })                };                });            </script>        </div>"
      ]
     },
     "metadata": {},
     "output_type": "display_data"
    }
   ],
   "source": [
    "fig =make_subplots(rows=1, cols=3,subplot_titles=list(scen.keys()),shared_yaxes=True)\n",
    "for i in range(len(scen.keys())):\n",
    "    showlegend=[True,False,False]\n",
    "    \n",
    "    resource_inflow=scen[list(scen.keys())[i]]['resource_inflow']\n",
    "    resource_outflow=scen[list(scen.keys())[i]]['resource_outflow']\n",
    "    \n",
    "    energy_input=resource_inflow[(resource_inflow.Resource.isin(primary_resource_conversion.keys()))]\n",
    "    energy_output=resource_outflow[(resource_outflow.Resource.isin(primary_resource_conversion.keys()))]\n",
    "    energy_input=energy_input.drop([\"Sector\",\"Country\"],axis=1).groupby(by=[\"Resource\",\"Year\"]).sum().reset_index()\n",
    "    energy_output=energy_output.drop([\"Sector\",\"Country\"],axis=1).groupby(by=[\"Resource\",\"Year\"]).sum().reset_index()\n",
    "    df_merged=pd.concat([energy_input,energy_output],ignore_index=True)\n",
    "\n",
    "\n",
    "    for resource in primary_resource_conversion.keys():\n",
    "        if resource not in [\"Olefins\",\"Ammonia\",\"Naphtha\",\"CO\"]:\n",
    "            fig.add_trace(go.Scatter(x=energy_input[energy_input.Resource==resource].Year,y=energy_input[energy_input.Resource==resource].Flow,name=resource,\n",
    "                             line=dict(width=0,color=primary_resource_color[resource]),\n",
    "                                 fillcolor=primary_resource_color[resource],mode='lines',stackgroup='one',showlegend=showlegend[i])\n",
    "                         ,row=1, col=i+1)\n",
    "            fig.add_trace(go.Scatter(x=energy_output[energy_output.Resource==resource].Year,y=energy_output[energy_output.Resource==resource].Flow,name=resource,\n",
    "                             line=dict(width=0,color=primary_resource_color[resource]),\n",
    "                                 fillcolor=primary_resource_color[resource],mode='lines',stackgroup='two',showlegend=False)\n",
    "                          ,row=1, col=i+1)\n",
    "\n",
    "    fig.update_xaxes(title_text=\"Year\", row=1, col=i+1)\n",
    "    \n",
    "fig.update_layout(#title='Energy flows in EU-5+1', title_x=0.5,\n",
    "                   yaxis_title='Energy flows (TWh)')\n",
    "# fig.update_yaxes(range=[-600,1500])\n",
    "fig.update_layout(\n",
    "    font=dict(\n",
    "        family=\"Times New Roman\",size=24)\n",
    "    )\n",
    "fig.update_annotations(font_size=24)\n",
    "fig.update_layout(legend=dict(\n",
    "    orientation=\"h\",\n",
    "    yanchor=\"bottom\",\n",
    "    y=1.1,\n",
    "    xanchor=\"right\",\n",
    "    x=1,font = dict(size=20)\n",
    "))\n",
    "\n",
    "\n",
    "fig.show()"
   ]
  },
  {
   "cell_type": "code",
   "execution_count": 243,
   "id": "a59d1fc5",
   "metadata": {},
   "outputs": [
    {
     "data": {
      "application/vnd.plotly.v1+json": {
       "config": {
        "plotlyServerURL": "https://plot.ly"
       },
       "data": [
        {
         "fillcolor": "cyan",
         "hoverinfo": "x+y",
         "line": {
          "color": "cyan",
          "width": 0
         },
         "mode": "lines",
         "name": "Hydrogen",
         "showlegend": true,
         "stackgroup": "one",
         "type": "scatter",
         "x": [
          2035,
          2036,
          2037,
          2038,
          2039,
          2040,
          2041,
          2042,
          2043,
          2044,
          2045,
          2046,
          2047,
          2048,
          2049
         ],
         "xaxis": "x",
         "y": [
          4.139864530174527,
          15.77450285136111,
          37.02474258443903,
          51.79319617344655,
          68.43287886236804,
          85.38825143126645,
          97.44378700109793,
          101.66995213074546,
          97.880257681068,
          82.13285599091489,
          63.73713093068972,
          42.649476387266205,
          17.199722652000883,
          9.123817131557995,
          1.0479116111151279
         ],
         "yaxis": "y"
        },
        {
         "fillcolor": "purple",
         "hoverinfo": "x+y",
         "line": {
          "color": "purple",
          "width": 0
         },
         "mode": "lines",
         "name": "Gas",
         "showlegend": true,
         "stackgroup": "one",
         "type": "scatter",
         "x": [
          2015,
          2016,
          2017,
          2018,
          2019,
          2020,
          2021,
          2022,
          2023,
          2024,
          2025,
          2026,
          2027,
          2028,
          2029,
          2030,
          2031,
          2032,
          2033,
          2034,
          2035,
          2036,
          2037,
          2038,
          2039,
          2040,
          2041,
          2042,
          2043,
          2044,
          2045,
          2046,
          2047,
          2048,
          2049,
          2050
         ],
         "xaxis": "x",
         "y": [
          38.99369413781087,
          38.99369413781087,
          38.70790453781087,
          38.422114937810875,
          38.136325337810874,
          37.85053573781087,
          37.546400458327,
          37.242265178843134,
          36.938129899359254,
          36.63399461987539,
          24.349883141361026,
          19.256446066221923,
          18.224186830930492,
          15.836247895639058,
          13.448308960347626,
          18.050077486287663,
          13.790336098211075,
          12.03065950098416,
          10.27098290375725,
          8.488273373738124,
          7.073343355423821,
          6.921841715288732,
          8.199379525295132,
          8.932955433969294,
          9.28065643540266,
          9.821294890456421,
          5.566974965798082,
          5.765901859102097,
          5.489419055571217,
          5.212936252040333,
          4.880369809651734,
          3.9153530647054984,
          2.8074415197592626,
          3.455575995788647,
          2.409979680742182,
          1.3957597110991753
         ],
         "yaxis": "y"
        },
        {
         "fillcolor": "black",
         "hoverinfo": "x+y",
         "line": {
          "color": "black",
          "width": 0
         },
         "mode": "lines",
         "name": "Coal",
         "showlegend": true,
         "stackgroup": "one",
         "type": "scatter",
         "x": [
          2015,
          2016,
          2017,
          2018,
          2019,
          2020,
          2021,
          2022,
          2023,
          2024,
          2025,
          2026,
          2027,
          2028,
          2029,
          2030,
          2031,
          2032,
          2033,
          2034,
          2035,
          2036,
          2037,
          2038,
          2039,
          2040,
          2041,
          2042,
          2043,
          2044,
          2045,
          2046,
          2047,
          2048,
          2049,
          2050
         ],
         "xaxis": "x",
         "y": [
          400.0732957214581,
          400.45278162539626,
          400.7991192435614,
          401.10706517033185,
          401.3698444013438,
          401.5789881811425,
          401.5794104695188,
          401.4995907717133,
          401.3260140095586,
          401.0406600788317,
          386.75831600867446,
          386.4126229233603,
          372.90076272631745,
          371.2915020137342,
          368.7640224147553,
          344.4326983284878,
          343.6224244243769,
          340.30682011600396,
          335.4982547107089,
          330.6896893054139,
          313.43977426517904,
          297.00511055174553,
          269.6448904694849,
          261.994142886584,
          159.47173694145155,
          168.98000878087626,
          168.63264527231146,
          167.6069995107584,
          165.73162427385577,
          163.3663237339352,
          160.65277785749913,
          157.7290865120693,
          154.82107269317376,
          150.6467624528456,
          142.09927098342308,
          115.3473017197223
         ],
         "yaxis": "y"
        },
        {
         "fillcolor": "grey",
         "hoverinfo": "x+y",
         "line": {
          "color": "grey",
          "width": 0
         },
         "mode": "lines",
         "name": "Oil",
         "showlegend": true,
         "stackgroup": "one",
         "type": "scatter",
         "x": [
          2015,
          2016,
          2017,
          2018,
          2019,
          2020,
          2021,
          2022,
          2023,
          2024,
          2025,
          2026,
          2027,
          2028,
          2029,
          2030,
          2031,
          2032,
          2033,
          2034,
          2035,
          2036,
          2037,
          2038,
          2039,
          2040,
          2041,
          2042,
          2043,
          2044,
          2045,
          2046,
          2047,
          2048,
          2049,
          2050
         ],
         "xaxis": "x",
         "y": [
          692.7148503638709,
          692.7148503638709,
          692.7148503638709,
          692.7148503638709,
          692.7148503638709,
          692.7148503638709,
          683.4786523590193,
          674.2424543541676,
          665.0062563493162,
          655.7700583444646,
          646.5338603396129,
          637.2976623347613,
          628.0614643299097,
          618.825266325058,
          609.5890683202065,
          600.3528703153548,
          591.1166723105032,
          581.8804743056517,
          572.6442763007999,
          563.4080782959484,
          400.26757423643824,
          245.18852827379555,
          188.12689740261936,
          150.77594062543227,
          126.5353443291742,
          102.29474803291615,
          78.11816526490153,
          68.91028667375988,
          66.21013317332863,
          63.50997967289736,
          57.75206917350026,
          50.037970860821126,
          45.06931420606479,
          43.023193947115146,
          41.01314422377814,
          38.86726282364467
         ],
         "yaxis": "y"
        },
        {
         "fillcolor": "red",
         "hoverinfo": "x+y",
         "line": {
          "color": "red",
          "width": 0
         },
         "mode": "lines",
         "name": "MeOH",
         "showlegend": true,
         "stackgroup": "one",
         "type": "scatter",
         "x": [
          2035,
          2036,
          2037,
          2038,
          2039,
          2040,
          2041,
          2042,
          2043
         ],
         "xaxis": "x",
         "y": [
          8.234401954381848,
          13.651295237579218,
          20.3636264195582,
          21.637689672375284,
          16.291823460810622,
          9.782276832644282,
          9.315564210783972,
          2.2942447935466683,
          0.7638875051728122
         ],
         "yaxis": "y"
        },
        {
         "fillcolor": "cyan",
         "hoverinfo": "x+y",
         "line": {
          "color": "cyan",
          "width": 0
         },
         "mode": "lines",
         "name": "Hydrogen",
         "showlegend": false,
         "stackgroup": "one",
         "type": "scatter",
         "x": [
          2035,
          2036,
          2037,
          2038,
          2039,
          2040,
          2041,
          2042,
          2043,
          2044,
          2045,
          2046,
          2047,
          2048
         ],
         "xaxis": "x2",
         "y": [
          0.17358967741935302,
          6.174442671750458,
          17.017751614625357,
          19.21043486673234,
          23.895258409302375,
          35.983414379364746,
          44.065382983689865,
          41.40332511739665,
          41.18755557687399,
          35.67536612168179,
          26.8537556419419,
          18.615628172443753,
          9.847993231613136,
          4.745905520442876
         ],
         "yaxis": "y2"
        },
        {
         "fillcolor": "purple",
         "hoverinfo": "x+y",
         "line": {
          "color": "purple",
          "width": 0
         },
         "mode": "lines",
         "name": "Gas",
         "showlegend": false,
         "stackgroup": "one",
         "type": "scatter",
         "x": [
          2015,
          2016,
          2017,
          2018,
          2019,
          2020,
          2021,
          2022,
          2023,
          2024,
          2025,
          2026,
          2027,
          2028,
          2029,
          2030,
          2031,
          2032,
          2033,
          2034,
          2035,
          2036,
          2037,
          2038,
          2039,
          2040,
          2041,
          2042,
          2043,
          2044,
          2045,
          2046,
          2047,
          2048,
          2049,
          2050
         ],
         "xaxis": "x2",
         "y": [
          38.99369413781087,
          38.99369413781087,
          38.70790453781087,
          38.422114937810875,
          38.136325337810874,
          37.85053573781087,
          37.546400458327,
          37.242265178843134,
          36.938129899359254,
          36.63399461987539,
          24.349883141361026,
          19.256446066221923,
          16.868507130930492,
          14.480568195639059,
          12.092629260347625,
          34.77328091043798,
          24.705287313211088,
          20.258110715984174,
          15.810934118757263,
          10.66854709970238,
          7.349529515227464,
          6.921841715288732,
          8.488253403923537,
          8.809840104065074,
          9.35047855911884,
          9.0199670141726,
          3.897885469226366,
          3.6611239242801283,
          3.4243623793338926,
          3.1876008343876574,
          3.070144205654892,
          2.914468763279856,
          2.5569464446322874,
          1.8063267256046847,
          0.5802973097421815,
          1.3957597110991753
         ],
         "yaxis": "y2"
        },
        {
         "fillcolor": "black",
         "hoverinfo": "x+y",
         "line": {
          "color": "black",
          "width": 0
         },
         "mode": "lines",
         "name": "Coal",
         "showlegend": false,
         "stackgroup": "one",
         "type": "scatter",
         "x": [
          2015,
          2016,
          2017,
          2018,
          2019,
          2020,
          2021,
          2022,
          2023,
          2024,
          2025,
          2026,
          2027,
          2028,
          2029,
          2030,
          2031,
          2032,
          2033,
          2034,
          2035,
          2036,
          2037,
          2038,
          2039,
          2040,
          2041,
          2042,
          2043,
          2044,
          2045,
          2046,
          2047,
          2048,
          2049,
          2050
         ],
         "xaxis": "x2",
         "y": [
          400.0732957214581,
          400.45278162539626,
          400.7991192435614,
          401.10706517033185,
          401.3698444013438,
          401.5789881811425,
          401.5794104695188,
          401.4995907717133,
          401.3260140095586,
          401.0406600788317,
          386.75831600867446,
          386.4126229233603,
          371.08321679916725,
          362.42145608658404,
          340.4999800562864,
          241.26534212647448,
          240.79358822236358,
          236.94184909297675,
          235.91141609827469,
          221.6934706587239,
          202.61688342885432,
          189.81529448755828,
          167.74442010439338,
          159.95062934771087,
          93.28889212897764,
          102.43718316530894,
          100.37879371477602,
          99.33519757117055,
          96.86984686046067,
          94.00778778357092,
          89.33385786710625,
          86.06595596933606,
          83.39818380922732,
          73.79855495572157,
          62.274385679117984,
          37.72761755377762
         ],
         "yaxis": "y2"
        },
        {
         "fillcolor": "grey",
         "hoverinfo": "x+y",
         "line": {
          "color": "grey",
          "width": 0
         },
         "mode": "lines",
         "name": "Oil",
         "showlegend": false,
         "stackgroup": "one",
         "type": "scatter",
         "x": [
          2015,
          2016,
          2017,
          2018,
          2019,
          2020,
          2021,
          2022,
          2023,
          2024,
          2025,
          2026,
          2027,
          2028,
          2029,
          2030,
          2031,
          2032,
          2033,
          2034,
          2035,
          2036,
          2037,
          2038,
          2039,
          2040,
          2041,
          2042,
          2043,
          2044,
          2045,
          2046,
          2047,
          2048,
          2049,
          2050
         ],
         "xaxis": "x2",
         "y": [
          692.7148503638709,
          692.7148503638709,
          692.7148503638709,
          692.7148503638709,
          692.7148503638709,
          692.7148503638709,
          683.4786523590193,
          674.2424543541676,
          665.0062563493162,
          655.7700583444646,
          646.5338603396129,
          637.2976623347613,
          628.0614643299097,
          618.825266325058,
          609.5890683202065,
          600.3528703153548,
          591.1166723105032,
          581.8804743056517,
          572.6442763007999,
          563.4080782959484,
          398.5552286475102,
          242.87705186948148,
          186.80781251005143,
          145.9792169234708,
          121.32501790560812,
          98.9520134824726,
          72.84382531309198,
          61.754194625420666,
          58.171186778710975,
          54.588178932001284,
          51.00517108529162,
          48.16891853037794,
          45.33266597546424,
          43.023193947115146,
          41.01314422377815,
          38.86726282364468
         ],
         "yaxis": "y2"
        },
        {
         "fillcolor": "red",
         "hoverinfo": "x+y",
         "line": {
          "color": "red",
          "width": 0
         },
         "mode": "lines",
         "name": "MeOH",
         "showlegend": false,
         "stackgroup": "one",
         "type": "scatter",
         "x": [
          2035,
          2036,
          2037,
          2038,
          2039,
          2040,
          2041
         ],
         "xaxis": "x2",
         "y": [
          9.568307903012943,
          13.254525931123018,
          21.021879923313293,
          21.95279350799367,
          16.81332450573133,
          10.747473337291597,
          6.545564210783971
         ],
         "yaxis": "y2"
        },
        {
         "fillcolor": "cyan",
         "hoverinfo": "x+y",
         "line": {
          "color": "cyan",
          "width": 0
         },
         "mode": "lines",
         "name": "Hydrogen",
         "showlegend": false,
         "stackgroup": "one",
         "type": "scatter",
         "x": [
          2031,
          2032,
          2035,
          2036,
          2037,
          2038,
          2039,
          2040,
          2041,
          2042,
          2043,
          2044,
          2045,
          2046,
          2047,
          2048
         ],
         "xaxis": "x3",
         "y": [
          1.646590778535305,
          0.3959423416630287,
          1.8889796792092617,
          5.257645783269779,
          16.32926885459075,
          16.16617123568979,
          21.19421459378382,
          34.33586185825784,
          42.99072571205975,
          39.8923099399027,
          39.232878875389375,
          35.2805565196501,
          27.520472556314868,
          18.615628172443753,
          9.847993231613136,
          4.745905520442883
         ],
         "yaxis": "y3"
        },
        {
         "fillcolor": "purple",
         "hoverinfo": "x+y",
         "line": {
          "color": "purple",
          "width": 0
         },
         "mode": "lines",
         "name": "Gas",
         "showlegend": false,
         "stackgroup": "one",
         "type": "scatter",
         "x": [
          2015,
          2016,
          2017,
          2018,
          2019,
          2020,
          2021,
          2022,
          2023,
          2024,
          2025,
          2026,
          2027,
          2028,
          2029,
          2030,
          2031,
          2032,
          2033,
          2034,
          2035,
          2036,
          2037,
          2038,
          2039,
          2040
         ],
         "xaxis": "x3",
         "y": [
          47.48074527417451,
          38.99369413781087,
          38.70790453781087,
          38.422114937810875,
          38.136325337810874,
          37.85053573781087,
          37.546400458327,
          37.242265178843134,
          36.938129899359254,
          36.63399461987539,
          24.349883141361026,
          19.256446066221923,
          16.868507130930492,
          14.480568195639059,
          12.092629260347625,
          36.35258176578999,
          24.39187515300346,
          19.944698555776547,
          15.49752195854964,
          9.932102047159436,
          4.0445896175104705,
          6.111165666095154,
          5.774362940956253,
          5.434672513795846,
          5.096425937646193,
          4.39928663422381
         ],
         "yaxis": "y3"
        },
        {
         "fillcolor": "black",
         "hoverinfo": "x+y",
         "line": {
          "color": "black",
          "width": 0
         },
         "mode": "lines",
         "name": "Coal",
         "showlegend": false,
         "stackgroup": "one",
         "type": "scatter",
         "x": [
          2015,
          2016,
          2017,
          2018,
          2019,
          2020,
          2021,
          2022,
          2023,
          2024,
          2025,
          2026,
          2027,
          2028,
          2029,
          2030,
          2031,
          2032,
          2033,
          2034,
          2035,
          2036,
          2037,
          2038,
          2039,
          2040,
          2041,
          2042,
          2043,
          2044,
          2045,
          2046,
          2047,
          2048,
          2049
         ],
         "xaxis": "x3",
         "y": [
          400.0732957214581,
          400.4542543082844,
          400.80193033480344,
          401.1098762615739,
          401.3726554925858,
          401.5817992723845,
          401.58222156076084,
          401.5024018629553,
          401.32882510080066,
          401.04347117007376,
          386.76112709991645,
          386.41543401460234,
          369.68654225881676,
          361.02478154623356,
          338.128564581285,
          236.29402008522956,
          235.82226618111866,
          231.96733240154796,
          230.93776038278583,
          215.93872942101464,
          200.46191991047652,
          186.46217904044764,
          162.5003667816288,
          154.70177528570764,
          89.52066881092249,
          91.64084559509018,
          86.85575656346015,
          84.10439107892991,
          80.66783639043369,
          75.50391440441345,
          69.20267351584067,
          59.614065667796,
          48.26860802679549,
          34.28485221391922,
          18.544657937030145
         ],
         "yaxis": "y3"
        },
        {
         "fillcolor": "grey",
         "hoverinfo": "x+y",
         "line": {
          "color": "grey",
          "width": 0
         },
         "mode": "lines",
         "name": "Oil",
         "showlegend": false,
         "stackgroup": "one",
         "type": "scatter",
         "x": [
          2015,
          2016,
          2017,
          2018,
          2019,
          2020,
          2021,
          2022,
          2023,
          2024,
          2025,
          2026,
          2027,
          2028,
          2029,
          2030,
          2031,
          2032,
          2033,
          2034,
          2035,
          2036,
          2037,
          2038,
          2039,
          2040,
          2041,
          2042,
          2043,
          2044,
          2045,
          2046,
          2047,
          2048,
          2049
         ],
         "xaxis": "x3",
         "y": [
          692.7148503638709,
          692.7148503638709,
          692.7148503638709,
          692.7148503638709,
          692.7148503638709,
          692.7148503638709,
          683.4786523590193,
          674.2424543541676,
          665.0062563493162,
          655.7700583444646,
          646.5338603396129,
          637.2976623347613,
          628.0614643299097,
          618.825266325058,
          609.5890683202065,
          600.3528703153548,
          591.1166723105032,
          581.8804743056517,
          572.6442763007999,
          563.4080782959484,
          398.5552286475102,
          243.55750508112982,
          190.14944638775552,
          149.32085080117488,
          124.66665178331222,
          102.29364736017669,
          76.23476815725186,
          65.23519870269988,
          61.70149982244598,
          58.16780094219209,
          52.4124310473274,
          47.687289411088244,
          39.21024600240679,
          28.664062773677394,
          14.332031386838684
         ],
         "yaxis": "y3"
        },
        {
         "fillcolor": "red",
         "hoverinfo": "x+y",
         "line": {
          "color": "red",
          "width": 0
         },
         "mode": "lines",
         "name": "MeOH",
         "showlegend": false,
         "stackgroup": "one",
         "type": "scatter",
         "x": [
          2035,
          2036,
          2037,
          2038,
          2039,
          2040,
          2041,
          2046,
          2047,
          2048,
          2049,
          2050
         ],
         "xaxis": "x3",
         "y": [
          9.568307903012926,
          12.495782762869508,
          19.354328258777695,
          22.113708826632003,
          16.974239824369672,
          10.747473337291597,
          6.545564210783992,
          1.7293997252801767,
          6.899293044730928,
          10.267316796813907,
          10.800045738957449,
          9.947042941568549
         ],
         "yaxis": "y3"
        }
       ],
       "layout": {
        "annotations": [
         {
          "font": {
           "size": 24
          },
          "showarrow": false,
          "text": "High electricity price",
          "x": 0.14444444444444446,
          "xanchor": "center",
          "xref": "paper",
          "y": 1,
          "yanchor": "bottom",
          "yref": "paper"
         },
         {
          "font": {
           "size": 24
          },
          "showarrow": false,
          "text": "Reference",
          "x": 0.5,
          "xanchor": "center",
          "xref": "paper",
          "y": 1,
          "yanchor": "bottom",
          "yref": "paper"
         },
         {
          "font": {
           "size": 24
          },
          "showarrow": false,
          "text": "Fossil phase-out",
          "x": 0.8555555555555556,
          "xanchor": "center",
          "xref": "paper",
          "y": 1,
          "yanchor": "bottom",
          "yref": "paper"
         }
        ],
        "font": {
         "family": "Times New Roman",
         "size": 24
        },
        "legend": {
         "font": {
          "size": 20
         },
         "orientation": "h",
         "x": 0.75,
         "xanchor": "right",
         "y": 1.1,
         "yanchor": "bottom"
        },
        "template": {
         "data": {
          "bar": [
           {
            "error_x": {
             "color": "#2a3f5f"
            },
            "error_y": {
             "color": "#2a3f5f"
            },
            "marker": {
             "line": {
              "color": "#E5ECF6",
              "width": 0.5
             },
             "pattern": {
              "fillmode": "overlay",
              "size": 10,
              "solidity": 0.2
             }
            },
            "type": "bar"
           }
          ],
          "barpolar": [
           {
            "marker": {
             "line": {
              "color": "#E5ECF6",
              "width": 0.5
             },
             "pattern": {
              "fillmode": "overlay",
              "size": 10,
              "solidity": 0.2
             }
            },
            "type": "barpolar"
           }
          ],
          "carpet": [
           {
            "aaxis": {
             "endlinecolor": "#2a3f5f",
             "gridcolor": "white",
             "linecolor": "white",
             "minorgridcolor": "white",
             "startlinecolor": "#2a3f5f"
            },
            "baxis": {
             "endlinecolor": "#2a3f5f",
             "gridcolor": "white",
             "linecolor": "white",
             "minorgridcolor": "white",
             "startlinecolor": "#2a3f5f"
            },
            "type": "carpet"
           }
          ],
          "choropleth": [
           {
            "colorbar": {
             "outlinewidth": 0,
             "ticks": ""
            },
            "type": "choropleth"
           }
          ],
          "contour": [
           {
            "colorbar": {
             "outlinewidth": 0,
             "ticks": ""
            },
            "colorscale": [
             [
              0,
              "#0d0887"
             ],
             [
              0.1111111111111111,
              "#46039f"
             ],
             [
              0.2222222222222222,
              "#7201a8"
             ],
             [
              0.3333333333333333,
              "#9c179e"
             ],
             [
              0.4444444444444444,
              "#bd3786"
             ],
             [
              0.5555555555555556,
              "#d8576b"
             ],
             [
              0.6666666666666666,
              "#ed7953"
             ],
             [
              0.7777777777777778,
              "#fb9f3a"
             ],
             [
              0.8888888888888888,
              "#fdca26"
             ],
             [
              1,
              "#f0f921"
             ]
            ],
            "type": "contour"
           }
          ],
          "contourcarpet": [
           {
            "colorbar": {
             "outlinewidth": 0,
             "ticks": ""
            },
            "type": "contourcarpet"
           }
          ],
          "heatmap": [
           {
            "colorbar": {
             "outlinewidth": 0,
             "ticks": ""
            },
            "colorscale": [
             [
              0,
              "#0d0887"
             ],
             [
              0.1111111111111111,
              "#46039f"
             ],
             [
              0.2222222222222222,
              "#7201a8"
             ],
             [
              0.3333333333333333,
              "#9c179e"
             ],
             [
              0.4444444444444444,
              "#bd3786"
             ],
             [
              0.5555555555555556,
              "#d8576b"
             ],
             [
              0.6666666666666666,
              "#ed7953"
             ],
             [
              0.7777777777777778,
              "#fb9f3a"
             ],
             [
              0.8888888888888888,
              "#fdca26"
             ],
             [
              1,
              "#f0f921"
             ]
            ],
            "type": "heatmap"
           }
          ],
          "heatmapgl": [
           {
            "colorbar": {
             "outlinewidth": 0,
             "ticks": ""
            },
            "colorscale": [
             [
              0,
              "#0d0887"
             ],
             [
              0.1111111111111111,
              "#46039f"
             ],
             [
              0.2222222222222222,
              "#7201a8"
             ],
             [
              0.3333333333333333,
              "#9c179e"
             ],
             [
              0.4444444444444444,
              "#bd3786"
             ],
             [
              0.5555555555555556,
              "#d8576b"
             ],
             [
              0.6666666666666666,
              "#ed7953"
             ],
             [
              0.7777777777777778,
              "#fb9f3a"
             ],
             [
              0.8888888888888888,
              "#fdca26"
             ],
             [
              1,
              "#f0f921"
             ]
            ],
            "type": "heatmapgl"
           }
          ],
          "histogram": [
           {
            "marker": {
             "pattern": {
              "fillmode": "overlay",
              "size": 10,
              "solidity": 0.2
             }
            },
            "type": "histogram"
           }
          ],
          "histogram2d": [
           {
            "colorbar": {
             "outlinewidth": 0,
             "ticks": ""
            },
            "colorscale": [
             [
              0,
              "#0d0887"
             ],
             [
              0.1111111111111111,
              "#46039f"
             ],
             [
              0.2222222222222222,
              "#7201a8"
             ],
             [
              0.3333333333333333,
              "#9c179e"
             ],
             [
              0.4444444444444444,
              "#bd3786"
             ],
             [
              0.5555555555555556,
              "#d8576b"
             ],
             [
              0.6666666666666666,
              "#ed7953"
             ],
             [
              0.7777777777777778,
              "#fb9f3a"
             ],
             [
              0.8888888888888888,
              "#fdca26"
             ],
             [
              1,
              "#f0f921"
             ]
            ],
            "type": "histogram2d"
           }
          ],
          "histogram2dcontour": [
           {
            "colorbar": {
             "outlinewidth": 0,
             "ticks": ""
            },
            "colorscale": [
             [
              0,
              "#0d0887"
             ],
             [
              0.1111111111111111,
              "#46039f"
             ],
             [
              0.2222222222222222,
              "#7201a8"
             ],
             [
              0.3333333333333333,
              "#9c179e"
             ],
             [
              0.4444444444444444,
              "#bd3786"
             ],
             [
              0.5555555555555556,
              "#d8576b"
             ],
             [
              0.6666666666666666,
              "#ed7953"
             ],
             [
              0.7777777777777778,
              "#fb9f3a"
             ],
             [
              0.8888888888888888,
              "#fdca26"
             ],
             [
              1,
              "#f0f921"
             ]
            ],
            "type": "histogram2dcontour"
           }
          ],
          "mesh3d": [
           {
            "colorbar": {
             "outlinewidth": 0,
             "ticks": ""
            },
            "type": "mesh3d"
           }
          ],
          "parcoords": [
           {
            "line": {
             "colorbar": {
              "outlinewidth": 0,
              "ticks": ""
             }
            },
            "type": "parcoords"
           }
          ],
          "pie": [
           {
            "automargin": true,
            "type": "pie"
           }
          ],
          "scatter": [
           {
            "marker": {
             "colorbar": {
              "outlinewidth": 0,
              "ticks": ""
             }
            },
            "type": "scatter"
           }
          ],
          "scatter3d": [
           {
            "line": {
             "colorbar": {
              "outlinewidth": 0,
              "ticks": ""
             }
            },
            "marker": {
             "colorbar": {
              "outlinewidth": 0,
              "ticks": ""
             }
            },
            "type": "scatter3d"
           }
          ],
          "scattercarpet": [
           {
            "marker": {
             "colorbar": {
              "outlinewidth": 0,
              "ticks": ""
             }
            },
            "type": "scattercarpet"
           }
          ],
          "scattergeo": [
           {
            "marker": {
             "colorbar": {
              "outlinewidth": 0,
              "ticks": ""
             }
            },
            "type": "scattergeo"
           }
          ],
          "scattergl": [
           {
            "marker": {
             "colorbar": {
              "outlinewidth": 0,
              "ticks": ""
             }
            },
            "type": "scattergl"
           }
          ],
          "scattermapbox": [
           {
            "marker": {
             "colorbar": {
              "outlinewidth": 0,
              "ticks": ""
             }
            },
            "type": "scattermapbox"
           }
          ],
          "scatterpolar": [
           {
            "marker": {
             "colorbar": {
              "outlinewidth": 0,
              "ticks": ""
             }
            },
            "type": "scatterpolar"
           }
          ],
          "scatterpolargl": [
           {
            "marker": {
             "colorbar": {
              "outlinewidth": 0,
              "ticks": ""
             }
            },
            "type": "scatterpolargl"
           }
          ],
          "scatterternary": [
           {
            "marker": {
             "colorbar": {
              "outlinewidth": 0,
              "ticks": ""
             }
            },
            "type": "scatterternary"
           }
          ],
          "surface": [
           {
            "colorbar": {
             "outlinewidth": 0,
             "ticks": ""
            },
            "colorscale": [
             [
              0,
              "#0d0887"
             ],
             [
              0.1111111111111111,
              "#46039f"
             ],
             [
              0.2222222222222222,
              "#7201a8"
             ],
             [
              0.3333333333333333,
              "#9c179e"
             ],
             [
              0.4444444444444444,
              "#bd3786"
             ],
             [
              0.5555555555555556,
              "#d8576b"
             ],
             [
              0.6666666666666666,
              "#ed7953"
             ],
             [
              0.7777777777777778,
              "#fb9f3a"
             ],
             [
              0.8888888888888888,
              "#fdca26"
             ],
             [
              1,
              "#f0f921"
             ]
            ],
            "type": "surface"
           }
          ],
          "table": [
           {
            "cells": {
             "fill": {
              "color": "#EBF0F8"
             },
             "line": {
              "color": "white"
             }
            },
            "header": {
             "fill": {
              "color": "#C8D4E3"
             },
             "line": {
              "color": "white"
             }
            },
            "type": "table"
           }
          ]
         },
         "layout": {
          "annotationdefaults": {
           "arrowcolor": "#2a3f5f",
           "arrowhead": 0,
           "arrowwidth": 1
          },
          "autotypenumbers": "strict",
          "coloraxis": {
           "colorbar": {
            "outlinewidth": 0,
            "ticks": ""
           }
          },
          "colorscale": {
           "diverging": [
            [
             0,
             "#8e0152"
            ],
            [
             0.1,
             "#c51b7d"
            ],
            [
             0.2,
             "#de77ae"
            ],
            [
             0.3,
             "#f1b6da"
            ],
            [
             0.4,
             "#fde0ef"
            ],
            [
             0.5,
             "#f7f7f7"
            ],
            [
             0.6,
             "#e6f5d0"
            ],
            [
             0.7,
             "#b8e186"
            ],
            [
             0.8,
             "#7fbc41"
            ],
            [
             0.9,
             "#4d9221"
            ],
            [
             1,
             "#276419"
            ]
           ],
           "sequential": [
            [
             0,
             "#0d0887"
            ],
            [
             0.1111111111111111,
             "#46039f"
            ],
            [
             0.2222222222222222,
             "#7201a8"
            ],
            [
             0.3333333333333333,
             "#9c179e"
            ],
            [
             0.4444444444444444,
             "#bd3786"
            ],
            [
             0.5555555555555556,
             "#d8576b"
            ],
            [
             0.6666666666666666,
             "#ed7953"
            ],
            [
             0.7777777777777778,
             "#fb9f3a"
            ],
            [
             0.8888888888888888,
             "#fdca26"
            ],
            [
             1,
             "#f0f921"
            ]
           ],
           "sequentialminus": [
            [
             0,
             "#0d0887"
            ],
            [
             0.1111111111111111,
             "#46039f"
            ],
            [
             0.2222222222222222,
             "#7201a8"
            ],
            [
             0.3333333333333333,
             "#9c179e"
            ],
            [
             0.4444444444444444,
             "#bd3786"
            ],
            [
             0.5555555555555556,
             "#d8576b"
            ],
            [
             0.6666666666666666,
             "#ed7953"
            ],
            [
             0.7777777777777778,
             "#fb9f3a"
            ],
            [
             0.8888888888888888,
             "#fdca26"
            ],
            [
             1,
             "#f0f921"
            ]
           ]
          },
          "colorway": [
           "#636efa",
           "#EF553B",
           "#00cc96",
           "#ab63fa",
           "#FFA15A",
           "#19d3f3",
           "#FF6692",
           "#B6E880",
           "#FF97FF",
           "#FECB52"
          ],
          "font": {
           "color": "#2a3f5f"
          },
          "geo": {
           "bgcolor": "white",
           "lakecolor": "white",
           "landcolor": "#E5ECF6",
           "showlakes": true,
           "showland": true,
           "subunitcolor": "white"
          },
          "hoverlabel": {
           "align": "left"
          },
          "hovermode": "closest",
          "mapbox": {
           "style": "light"
          },
          "paper_bgcolor": "white",
          "plot_bgcolor": "#E5ECF6",
          "polar": {
           "angularaxis": {
            "gridcolor": "white",
            "linecolor": "white",
            "ticks": ""
           },
           "bgcolor": "#E5ECF6",
           "radialaxis": {
            "gridcolor": "white",
            "linecolor": "white",
            "ticks": ""
           }
          },
          "scene": {
           "xaxis": {
            "backgroundcolor": "#E5ECF6",
            "gridcolor": "white",
            "gridwidth": 2,
            "linecolor": "white",
            "showbackground": true,
            "ticks": "",
            "zerolinecolor": "white"
           },
           "yaxis": {
            "backgroundcolor": "#E5ECF6",
            "gridcolor": "white",
            "gridwidth": 2,
            "linecolor": "white",
            "showbackground": true,
            "ticks": "",
            "zerolinecolor": "white"
           },
           "zaxis": {
            "backgroundcolor": "#E5ECF6",
            "gridcolor": "white",
            "gridwidth": 2,
            "linecolor": "white",
            "showbackground": true,
            "ticks": "",
            "zerolinecolor": "white"
           }
          },
          "shapedefaults": {
           "line": {
            "color": "#2a3f5f"
           }
          },
          "ternary": {
           "aaxis": {
            "gridcolor": "white",
            "linecolor": "white",
            "ticks": ""
           },
           "baxis": {
            "gridcolor": "white",
            "linecolor": "white",
            "ticks": ""
           },
           "bgcolor": "#E5ECF6",
           "caxis": {
            "gridcolor": "white",
            "linecolor": "white",
            "ticks": ""
           }
          },
          "title": {
           "x": 0.05
          },
          "xaxis": {
           "automargin": true,
           "gridcolor": "white",
           "linecolor": "white",
           "ticks": "",
           "title": {
            "standoff": 15
           },
           "zerolinecolor": "white",
           "zerolinewidth": 2
          },
          "yaxis": {
           "automargin": true,
           "gridcolor": "white",
           "linecolor": "white",
           "ticks": "",
           "title": {
            "standoff": 15
           },
           "zerolinecolor": "white",
           "zerolinewidth": 2
          }
         }
        },
        "xaxis": {
         "anchor": "y",
         "domain": [
          0,
          0.2888888888888889
         ],
         "title": {
          "text": "Year"
         }
        },
        "xaxis2": {
         "anchor": "y2",
         "domain": [
          0.35555555555555557,
          0.6444444444444445
         ],
         "title": {
          "text": "Year"
         }
        },
        "xaxis3": {
         "anchor": "y3",
         "domain": [
          0.7111111111111111,
          1
         ],
         "title": {
          "text": "Year"
         }
        },
        "yaxis": {
         "anchor": "x",
         "domain": [
          0,
          1
         ],
         "title": {
          "text": "Energy imports (TWh)"
         }
        },
        "yaxis2": {
         "anchor": "x2",
         "domain": [
          0,
          1
         ],
         "matches": "y",
         "showticklabels": false
        },
        "yaxis3": {
         "anchor": "x3",
         "domain": [
          0,
          1
         ],
         "matches": "y",
         "showticklabels": false
        }
       }
      },
      "text/html": [
       "<div>                            <div id=\"eedfdf75-e140-4082-83d4-fa091acb68f3\" class=\"plotly-graph-div\" style=\"height:525px; width:100%;\"></div>            <script type=\"text/javascript\">                require([\"plotly\"], function(Plotly) {                    window.PLOTLYENV=window.PLOTLYENV || {};                                    if (document.getElementById(\"eedfdf75-e140-4082-83d4-fa091acb68f3\")) {                    Plotly.newPlot(                        \"eedfdf75-e140-4082-83d4-fa091acb68f3\",                        [{\"fillcolor\":\"cyan\",\"hoverinfo\":\"x+y\",\"line\":{\"color\":\"cyan\",\"width\":0},\"mode\":\"lines\",\"name\":\"Hydrogen\",\"showlegend\":true,\"stackgroup\":\"one\",\"type\":\"scatter\",\"x\":[2035,2036,2037,2038,2039,2040,2041,2042,2043,2044,2045,2046,2047,2048,2049],\"xaxis\":\"x\",\"y\":[4.139864530174527,15.77450285136111,37.02474258443903,51.79319617344655,68.43287886236804,85.38825143126645,97.44378700109793,101.66995213074546,97.880257681068,82.13285599091489,63.73713093068972,42.649476387266205,17.199722652000883,9.123817131557995,1.0479116111151279],\"yaxis\":\"y\"},{\"fillcolor\":\"purple\",\"hoverinfo\":\"x+y\",\"line\":{\"color\":\"purple\",\"width\":0},\"mode\":\"lines\",\"name\":\"Gas\",\"showlegend\":true,\"stackgroup\":\"one\",\"type\":\"scatter\",\"x\":[2015,2016,2017,2018,2019,2020,2021,2022,2023,2024,2025,2026,2027,2028,2029,2030,2031,2032,2033,2034,2035,2036,2037,2038,2039,2040,2041,2042,2043,2044,2045,2046,2047,2048,2049,2050],\"xaxis\":\"x\",\"y\":[38.99369413781087,38.99369413781087,38.70790453781087,38.422114937810875,38.136325337810874,37.85053573781087,37.546400458327,37.242265178843134,36.938129899359254,36.63399461987539,24.349883141361026,19.256446066221923,18.224186830930492,15.836247895639058,13.448308960347626,18.050077486287663,13.790336098211075,12.03065950098416,10.27098290375725,8.488273373738124,7.073343355423821,6.921841715288732,8.199379525295132,8.932955433969294,9.28065643540266,9.821294890456421,5.566974965798082,5.765901859102097,5.489419055571217,5.212936252040333,4.880369809651734,3.9153530647054984,2.8074415197592626,3.455575995788647,2.409979680742182,1.3957597110991753],\"yaxis\":\"y\"},{\"fillcolor\":\"black\",\"hoverinfo\":\"x+y\",\"line\":{\"color\":\"black\",\"width\":0},\"mode\":\"lines\",\"name\":\"Coal\",\"showlegend\":true,\"stackgroup\":\"one\",\"type\":\"scatter\",\"x\":[2015,2016,2017,2018,2019,2020,2021,2022,2023,2024,2025,2026,2027,2028,2029,2030,2031,2032,2033,2034,2035,2036,2037,2038,2039,2040,2041,2042,2043,2044,2045,2046,2047,2048,2049,2050],\"xaxis\":\"x\",\"y\":[400.0732957214581,400.45278162539626,400.7991192435614,401.10706517033185,401.3698444013438,401.5789881811425,401.5794104695188,401.4995907717133,401.3260140095586,401.0406600788317,386.75831600867446,386.4126229233603,372.90076272631745,371.2915020137342,368.7640224147553,344.4326983284878,343.6224244243769,340.30682011600396,335.4982547107089,330.6896893054139,313.43977426517904,297.00511055174553,269.6448904694849,261.994142886584,159.47173694145155,168.98000878087626,168.63264527231146,167.6069995107584,165.73162427385577,163.3663237339352,160.65277785749913,157.7290865120693,154.82107269317376,150.6467624528456,142.09927098342308,115.3473017197223],\"yaxis\":\"y\"},{\"fillcolor\":\"grey\",\"hoverinfo\":\"x+y\",\"line\":{\"color\":\"grey\",\"width\":0},\"mode\":\"lines\",\"name\":\"Oil\",\"showlegend\":true,\"stackgroup\":\"one\",\"type\":\"scatter\",\"x\":[2015,2016,2017,2018,2019,2020,2021,2022,2023,2024,2025,2026,2027,2028,2029,2030,2031,2032,2033,2034,2035,2036,2037,2038,2039,2040,2041,2042,2043,2044,2045,2046,2047,2048,2049,2050],\"xaxis\":\"x\",\"y\":[692.7148503638709,692.7148503638709,692.7148503638709,692.7148503638709,692.7148503638709,692.7148503638709,683.4786523590193,674.2424543541676,665.0062563493162,655.7700583444646,646.5338603396129,637.2976623347613,628.0614643299097,618.825266325058,609.5890683202065,600.3528703153548,591.1166723105032,581.8804743056517,572.6442763007999,563.4080782959484,400.26757423643824,245.18852827379555,188.12689740261936,150.77594062543227,126.5353443291742,102.29474803291615,78.11816526490153,68.91028667375988,66.21013317332863,63.50997967289736,57.75206917350026,50.037970860821126,45.06931420606479,43.023193947115146,41.01314422377814,38.86726282364467],\"yaxis\":\"y\"},{\"fillcolor\":\"red\",\"hoverinfo\":\"x+y\",\"line\":{\"color\":\"red\",\"width\":0},\"mode\":\"lines\",\"name\":\"MeOH\",\"showlegend\":true,\"stackgroup\":\"one\",\"type\":\"scatter\",\"x\":[2035,2036,2037,2038,2039,2040,2041,2042,2043],\"xaxis\":\"x\",\"y\":[8.234401954381848,13.651295237579218,20.3636264195582,21.637689672375284,16.291823460810622,9.782276832644282,9.315564210783972,2.2942447935466683,0.7638875051728122],\"yaxis\":\"y\"},{\"fillcolor\":\"cyan\",\"hoverinfo\":\"x+y\",\"line\":{\"color\":\"cyan\",\"width\":0},\"mode\":\"lines\",\"name\":\"Hydrogen\",\"showlegend\":false,\"stackgroup\":\"one\",\"type\":\"scatter\",\"x\":[2035,2036,2037,2038,2039,2040,2041,2042,2043,2044,2045,2046,2047,2048],\"xaxis\":\"x2\",\"y\":[0.17358967741935302,6.174442671750458,17.017751614625357,19.21043486673234,23.895258409302375,35.983414379364746,44.065382983689865,41.40332511739665,41.18755557687399,35.67536612168179,26.8537556419419,18.615628172443753,9.847993231613136,4.745905520442876],\"yaxis\":\"y2\"},{\"fillcolor\":\"purple\",\"hoverinfo\":\"x+y\",\"line\":{\"color\":\"purple\",\"width\":0},\"mode\":\"lines\",\"name\":\"Gas\",\"showlegend\":false,\"stackgroup\":\"one\",\"type\":\"scatter\",\"x\":[2015,2016,2017,2018,2019,2020,2021,2022,2023,2024,2025,2026,2027,2028,2029,2030,2031,2032,2033,2034,2035,2036,2037,2038,2039,2040,2041,2042,2043,2044,2045,2046,2047,2048,2049,2050],\"xaxis\":\"x2\",\"y\":[38.99369413781087,38.99369413781087,38.70790453781087,38.422114937810875,38.136325337810874,37.85053573781087,37.546400458327,37.242265178843134,36.938129899359254,36.63399461987539,24.349883141361026,19.256446066221923,16.868507130930492,14.480568195639059,12.092629260347625,34.77328091043798,24.705287313211088,20.258110715984174,15.810934118757263,10.66854709970238,7.349529515227464,6.921841715288732,8.488253403923537,8.809840104065074,9.35047855911884,9.0199670141726,3.897885469226366,3.6611239242801283,3.4243623793338926,3.1876008343876574,3.070144205654892,2.914468763279856,2.5569464446322874,1.8063267256046847,0.5802973097421815,1.3957597110991753],\"yaxis\":\"y2\"},{\"fillcolor\":\"black\",\"hoverinfo\":\"x+y\",\"line\":{\"color\":\"black\",\"width\":0},\"mode\":\"lines\",\"name\":\"Coal\",\"showlegend\":false,\"stackgroup\":\"one\",\"type\":\"scatter\",\"x\":[2015,2016,2017,2018,2019,2020,2021,2022,2023,2024,2025,2026,2027,2028,2029,2030,2031,2032,2033,2034,2035,2036,2037,2038,2039,2040,2041,2042,2043,2044,2045,2046,2047,2048,2049,2050],\"xaxis\":\"x2\",\"y\":[400.0732957214581,400.45278162539626,400.7991192435614,401.10706517033185,401.3698444013438,401.5789881811425,401.5794104695188,401.4995907717133,401.3260140095586,401.0406600788317,386.75831600867446,386.4126229233603,371.08321679916725,362.42145608658404,340.4999800562864,241.26534212647448,240.79358822236358,236.94184909297675,235.91141609827469,221.6934706587239,202.61688342885432,189.81529448755828,167.74442010439338,159.95062934771087,93.28889212897764,102.43718316530894,100.37879371477602,99.33519757117055,96.86984686046067,94.00778778357092,89.33385786710625,86.06595596933606,83.39818380922732,73.79855495572157,62.274385679117984,37.72761755377762],\"yaxis\":\"y2\"},{\"fillcolor\":\"grey\",\"hoverinfo\":\"x+y\",\"line\":{\"color\":\"grey\",\"width\":0},\"mode\":\"lines\",\"name\":\"Oil\",\"showlegend\":false,\"stackgroup\":\"one\",\"type\":\"scatter\",\"x\":[2015,2016,2017,2018,2019,2020,2021,2022,2023,2024,2025,2026,2027,2028,2029,2030,2031,2032,2033,2034,2035,2036,2037,2038,2039,2040,2041,2042,2043,2044,2045,2046,2047,2048,2049,2050],\"xaxis\":\"x2\",\"y\":[692.7148503638709,692.7148503638709,692.7148503638709,692.7148503638709,692.7148503638709,692.7148503638709,683.4786523590193,674.2424543541676,665.0062563493162,655.7700583444646,646.5338603396129,637.2976623347613,628.0614643299097,618.825266325058,609.5890683202065,600.3528703153548,591.1166723105032,581.8804743056517,572.6442763007999,563.4080782959484,398.5552286475102,242.87705186948148,186.80781251005143,145.9792169234708,121.32501790560812,98.9520134824726,72.84382531309198,61.754194625420666,58.171186778710975,54.588178932001284,51.00517108529162,48.16891853037794,45.33266597546424,43.023193947115146,41.01314422377815,38.86726282364468],\"yaxis\":\"y2\"},{\"fillcolor\":\"red\",\"hoverinfo\":\"x+y\",\"line\":{\"color\":\"red\",\"width\":0},\"mode\":\"lines\",\"name\":\"MeOH\",\"showlegend\":false,\"stackgroup\":\"one\",\"type\":\"scatter\",\"x\":[2035,2036,2037,2038,2039,2040,2041],\"xaxis\":\"x2\",\"y\":[9.568307903012943,13.254525931123018,21.021879923313293,21.95279350799367,16.81332450573133,10.747473337291597,6.545564210783971],\"yaxis\":\"y2\"},{\"fillcolor\":\"cyan\",\"hoverinfo\":\"x+y\",\"line\":{\"color\":\"cyan\",\"width\":0},\"mode\":\"lines\",\"name\":\"Hydrogen\",\"showlegend\":false,\"stackgroup\":\"one\",\"type\":\"scatter\",\"x\":[2031,2032,2035,2036,2037,2038,2039,2040,2041,2042,2043,2044,2045,2046,2047,2048],\"xaxis\":\"x3\",\"y\":[1.646590778535305,0.3959423416630287,1.8889796792092617,5.257645783269779,16.32926885459075,16.16617123568979,21.19421459378382,34.33586185825784,42.99072571205975,39.8923099399027,39.232878875389375,35.2805565196501,27.520472556314868,18.615628172443753,9.847993231613136,4.745905520442883],\"yaxis\":\"y3\"},{\"fillcolor\":\"purple\",\"hoverinfo\":\"x+y\",\"line\":{\"color\":\"purple\",\"width\":0},\"mode\":\"lines\",\"name\":\"Gas\",\"showlegend\":false,\"stackgroup\":\"one\",\"type\":\"scatter\",\"x\":[2015,2016,2017,2018,2019,2020,2021,2022,2023,2024,2025,2026,2027,2028,2029,2030,2031,2032,2033,2034,2035,2036,2037,2038,2039,2040],\"xaxis\":\"x3\",\"y\":[47.48074527417451,38.99369413781087,38.70790453781087,38.422114937810875,38.136325337810874,37.85053573781087,37.546400458327,37.242265178843134,36.938129899359254,36.63399461987539,24.349883141361026,19.256446066221923,16.868507130930492,14.480568195639059,12.092629260347625,36.35258176578999,24.39187515300346,19.944698555776547,15.49752195854964,9.932102047159436,4.0445896175104705,6.111165666095154,5.774362940956253,5.434672513795846,5.096425937646193,4.39928663422381],\"yaxis\":\"y3\"},{\"fillcolor\":\"black\",\"hoverinfo\":\"x+y\",\"line\":{\"color\":\"black\",\"width\":0},\"mode\":\"lines\",\"name\":\"Coal\",\"showlegend\":false,\"stackgroup\":\"one\",\"type\":\"scatter\",\"x\":[2015,2016,2017,2018,2019,2020,2021,2022,2023,2024,2025,2026,2027,2028,2029,2030,2031,2032,2033,2034,2035,2036,2037,2038,2039,2040,2041,2042,2043,2044,2045,2046,2047,2048,2049],\"xaxis\":\"x3\",\"y\":[400.0732957214581,400.4542543082844,400.80193033480344,401.1098762615739,401.3726554925858,401.5817992723845,401.58222156076084,401.5024018629553,401.32882510080066,401.04347117007376,386.76112709991645,386.41543401460234,369.68654225881676,361.02478154623356,338.128564581285,236.29402008522956,235.82226618111866,231.96733240154796,230.93776038278583,215.93872942101464,200.46191991047652,186.46217904044764,162.5003667816288,154.70177528570764,89.52066881092249,91.64084559509018,86.85575656346015,84.10439107892991,80.66783639043369,75.50391440441345,69.20267351584067,59.614065667796,48.26860802679549,34.28485221391922,18.544657937030145],\"yaxis\":\"y3\"},{\"fillcolor\":\"grey\",\"hoverinfo\":\"x+y\",\"line\":{\"color\":\"grey\",\"width\":0},\"mode\":\"lines\",\"name\":\"Oil\",\"showlegend\":false,\"stackgroup\":\"one\",\"type\":\"scatter\",\"x\":[2015,2016,2017,2018,2019,2020,2021,2022,2023,2024,2025,2026,2027,2028,2029,2030,2031,2032,2033,2034,2035,2036,2037,2038,2039,2040,2041,2042,2043,2044,2045,2046,2047,2048,2049],\"xaxis\":\"x3\",\"y\":[692.7148503638709,692.7148503638709,692.7148503638709,692.7148503638709,692.7148503638709,692.7148503638709,683.4786523590193,674.2424543541676,665.0062563493162,655.7700583444646,646.5338603396129,637.2976623347613,628.0614643299097,618.825266325058,609.5890683202065,600.3528703153548,591.1166723105032,581.8804743056517,572.6442763007999,563.4080782959484,398.5552286475102,243.55750508112982,190.14944638775552,149.32085080117488,124.66665178331222,102.29364736017669,76.23476815725186,65.23519870269988,61.70149982244598,58.16780094219209,52.4124310473274,47.687289411088244,39.21024600240679,28.664062773677394,14.332031386838684],\"yaxis\":\"y3\"},{\"fillcolor\":\"red\",\"hoverinfo\":\"x+y\",\"line\":{\"color\":\"red\",\"width\":0},\"mode\":\"lines\",\"name\":\"MeOH\",\"showlegend\":false,\"stackgroup\":\"one\",\"type\":\"scatter\",\"x\":[2035,2036,2037,2038,2039,2040,2041,2046,2047,2048,2049,2050],\"xaxis\":\"x3\",\"y\":[9.568307903012926,12.495782762869508,19.354328258777695,22.113708826632003,16.974239824369672,10.747473337291597,6.545564210783992,1.7293997252801767,6.899293044730928,10.267316796813907,10.800045738957449,9.947042941568549],\"yaxis\":\"y3\"}],                        {\"annotations\":[{\"font\":{\"size\":24},\"showarrow\":false,\"text\":\"High electricity price\",\"x\":0.14444444444444446,\"xanchor\":\"center\",\"xref\":\"paper\",\"y\":1.0,\"yanchor\":\"bottom\",\"yref\":\"paper\"},{\"font\":{\"size\":24},\"showarrow\":false,\"text\":\"Reference\",\"x\":0.5,\"xanchor\":\"center\",\"xref\":\"paper\",\"y\":1.0,\"yanchor\":\"bottom\",\"yref\":\"paper\"},{\"font\":{\"size\":24},\"showarrow\":false,\"text\":\"Fossil phase-out\",\"x\":0.8555555555555556,\"xanchor\":\"center\",\"xref\":\"paper\",\"y\":1.0,\"yanchor\":\"bottom\",\"yref\":\"paper\"}],\"font\":{\"family\":\"Times New Roman\",\"size\":24},\"legend\":{\"font\":{\"size\":20},\"orientation\":\"h\",\"x\":0.75,\"xanchor\":\"right\",\"y\":1.1,\"yanchor\":\"bottom\"},\"template\":{\"data\":{\"bar\":[{\"error_x\":{\"color\":\"#2a3f5f\"},\"error_y\":{\"color\":\"#2a3f5f\"},\"marker\":{\"line\":{\"color\":\"#E5ECF6\",\"width\":0.5},\"pattern\":{\"fillmode\":\"overlay\",\"size\":10,\"solidity\":0.2}},\"type\":\"bar\"}],\"barpolar\":[{\"marker\":{\"line\":{\"color\":\"#E5ECF6\",\"width\":0.5},\"pattern\":{\"fillmode\":\"overlay\",\"size\":10,\"solidity\":0.2}},\"type\":\"barpolar\"}],\"carpet\":[{\"aaxis\":{\"endlinecolor\":\"#2a3f5f\",\"gridcolor\":\"white\",\"linecolor\":\"white\",\"minorgridcolor\":\"white\",\"startlinecolor\":\"#2a3f5f\"},\"baxis\":{\"endlinecolor\":\"#2a3f5f\",\"gridcolor\":\"white\",\"linecolor\":\"white\",\"minorgridcolor\":\"white\",\"startlinecolor\":\"#2a3f5f\"},\"type\":\"carpet\"}],\"choropleth\":[{\"colorbar\":{\"outlinewidth\":0,\"ticks\":\"\"},\"type\":\"choropleth\"}],\"contour\":[{\"colorbar\":{\"outlinewidth\":0,\"ticks\":\"\"},\"colorscale\":[[0.0,\"#0d0887\"],[0.1111111111111111,\"#46039f\"],[0.2222222222222222,\"#7201a8\"],[0.3333333333333333,\"#9c179e\"],[0.4444444444444444,\"#bd3786\"],[0.5555555555555556,\"#d8576b\"],[0.6666666666666666,\"#ed7953\"],[0.7777777777777778,\"#fb9f3a\"],[0.8888888888888888,\"#fdca26\"],[1.0,\"#f0f921\"]],\"type\":\"contour\"}],\"contourcarpet\":[{\"colorbar\":{\"outlinewidth\":0,\"ticks\":\"\"},\"type\":\"contourcarpet\"}],\"heatmap\":[{\"colorbar\":{\"outlinewidth\":0,\"ticks\":\"\"},\"colorscale\":[[0.0,\"#0d0887\"],[0.1111111111111111,\"#46039f\"],[0.2222222222222222,\"#7201a8\"],[0.3333333333333333,\"#9c179e\"],[0.4444444444444444,\"#bd3786\"],[0.5555555555555556,\"#d8576b\"],[0.6666666666666666,\"#ed7953\"],[0.7777777777777778,\"#fb9f3a\"],[0.8888888888888888,\"#fdca26\"],[1.0,\"#f0f921\"]],\"type\":\"heatmap\"}],\"heatmapgl\":[{\"colorbar\":{\"outlinewidth\":0,\"ticks\":\"\"},\"colorscale\":[[0.0,\"#0d0887\"],[0.1111111111111111,\"#46039f\"],[0.2222222222222222,\"#7201a8\"],[0.3333333333333333,\"#9c179e\"],[0.4444444444444444,\"#bd3786\"],[0.5555555555555556,\"#d8576b\"],[0.6666666666666666,\"#ed7953\"],[0.7777777777777778,\"#fb9f3a\"],[0.8888888888888888,\"#fdca26\"],[1.0,\"#f0f921\"]],\"type\":\"heatmapgl\"}],\"histogram\":[{\"marker\":{\"pattern\":{\"fillmode\":\"overlay\",\"size\":10,\"solidity\":0.2}},\"type\":\"histogram\"}],\"histogram2d\":[{\"colorbar\":{\"outlinewidth\":0,\"ticks\":\"\"},\"colorscale\":[[0.0,\"#0d0887\"],[0.1111111111111111,\"#46039f\"],[0.2222222222222222,\"#7201a8\"],[0.3333333333333333,\"#9c179e\"],[0.4444444444444444,\"#bd3786\"],[0.5555555555555556,\"#d8576b\"],[0.6666666666666666,\"#ed7953\"],[0.7777777777777778,\"#fb9f3a\"],[0.8888888888888888,\"#fdca26\"],[1.0,\"#f0f921\"]],\"type\":\"histogram2d\"}],\"histogram2dcontour\":[{\"colorbar\":{\"outlinewidth\":0,\"ticks\":\"\"},\"colorscale\":[[0.0,\"#0d0887\"],[0.1111111111111111,\"#46039f\"],[0.2222222222222222,\"#7201a8\"],[0.3333333333333333,\"#9c179e\"],[0.4444444444444444,\"#bd3786\"],[0.5555555555555556,\"#d8576b\"],[0.6666666666666666,\"#ed7953\"],[0.7777777777777778,\"#fb9f3a\"],[0.8888888888888888,\"#fdca26\"],[1.0,\"#f0f921\"]],\"type\":\"histogram2dcontour\"}],\"mesh3d\":[{\"colorbar\":{\"outlinewidth\":0,\"ticks\":\"\"},\"type\":\"mesh3d\"}],\"parcoords\":[{\"line\":{\"colorbar\":{\"outlinewidth\":0,\"ticks\":\"\"}},\"type\":\"parcoords\"}],\"pie\":[{\"automargin\":true,\"type\":\"pie\"}],\"scatter\":[{\"marker\":{\"colorbar\":{\"outlinewidth\":0,\"ticks\":\"\"}},\"type\":\"scatter\"}],\"scatter3d\":[{\"line\":{\"colorbar\":{\"outlinewidth\":0,\"ticks\":\"\"}},\"marker\":{\"colorbar\":{\"outlinewidth\":0,\"ticks\":\"\"}},\"type\":\"scatter3d\"}],\"scattercarpet\":[{\"marker\":{\"colorbar\":{\"outlinewidth\":0,\"ticks\":\"\"}},\"type\":\"scattercarpet\"}],\"scattergeo\":[{\"marker\":{\"colorbar\":{\"outlinewidth\":0,\"ticks\":\"\"}},\"type\":\"scattergeo\"}],\"scattergl\":[{\"marker\":{\"colorbar\":{\"outlinewidth\":0,\"ticks\":\"\"}},\"type\":\"scattergl\"}],\"scattermapbox\":[{\"marker\":{\"colorbar\":{\"outlinewidth\":0,\"ticks\":\"\"}},\"type\":\"scattermapbox\"}],\"scatterpolar\":[{\"marker\":{\"colorbar\":{\"outlinewidth\":0,\"ticks\":\"\"}},\"type\":\"scatterpolar\"}],\"scatterpolargl\":[{\"marker\":{\"colorbar\":{\"outlinewidth\":0,\"ticks\":\"\"}},\"type\":\"scatterpolargl\"}],\"scatterternary\":[{\"marker\":{\"colorbar\":{\"outlinewidth\":0,\"ticks\":\"\"}},\"type\":\"scatterternary\"}],\"surface\":[{\"colorbar\":{\"outlinewidth\":0,\"ticks\":\"\"},\"colorscale\":[[0.0,\"#0d0887\"],[0.1111111111111111,\"#46039f\"],[0.2222222222222222,\"#7201a8\"],[0.3333333333333333,\"#9c179e\"],[0.4444444444444444,\"#bd3786\"],[0.5555555555555556,\"#d8576b\"],[0.6666666666666666,\"#ed7953\"],[0.7777777777777778,\"#fb9f3a\"],[0.8888888888888888,\"#fdca26\"],[1.0,\"#f0f921\"]],\"type\":\"surface\"}],\"table\":[{\"cells\":{\"fill\":{\"color\":\"#EBF0F8\"},\"line\":{\"color\":\"white\"}},\"header\":{\"fill\":{\"color\":\"#C8D4E3\"},\"line\":{\"color\":\"white\"}},\"type\":\"table\"}]},\"layout\":{\"annotationdefaults\":{\"arrowcolor\":\"#2a3f5f\",\"arrowhead\":0,\"arrowwidth\":1},\"autotypenumbers\":\"strict\",\"coloraxis\":{\"colorbar\":{\"outlinewidth\":0,\"ticks\":\"\"}},\"colorscale\":{\"diverging\":[[0,\"#8e0152\"],[0.1,\"#c51b7d\"],[0.2,\"#de77ae\"],[0.3,\"#f1b6da\"],[0.4,\"#fde0ef\"],[0.5,\"#f7f7f7\"],[0.6,\"#e6f5d0\"],[0.7,\"#b8e186\"],[0.8,\"#7fbc41\"],[0.9,\"#4d9221\"],[1,\"#276419\"]],\"sequential\":[[0.0,\"#0d0887\"],[0.1111111111111111,\"#46039f\"],[0.2222222222222222,\"#7201a8\"],[0.3333333333333333,\"#9c179e\"],[0.4444444444444444,\"#bd3786\"],[0.5555555555555556,\"#d8576b\"],[0.6666666666666666,\"#ed7953\"],[0.7777777777777778,\"#fb9f3a\"],[0.8888888888888888,\"#fdca26\"],[1.0,\"#f0f921\"]],\"sequentialminus\":[[0.0,\"#0d0887\"],[0.1111111111111111,\"#46039f\"],[0.2222222222222222,\"#7201a8\"],[0.3333333333333333,\"#9c179e\"],[0.4444444444444444,\"#bd3786\"],[0.5555555555555556,\"#d8576b\"],[0.6666666666666666,\"#ed7953\"],[0.7777777777777778,\"#fb9f3a\"],[0.8888888888888888,\"#fdca26\"],[1.0,\"#f0f921\"]]},\"colorway\":[\"#636efa\",\"#EF553B\",\"#00cc96\",\"#ab63fa\",\"#FFA15A\",\"#19d3f3\",\"#FF6692\",\"#B6E880\",\"#FF97FF\",\"#FECB52\"],\"font\":{\"color\":\"#2a3f5f\"},\"geo\":{\"bgcolor\":\"white\",\"lakecolor\":\"white\",\"landcolor\":\"#E5ECF6\",\"showlakes\":true,\"showland\":true,\"subunitcolor\":\"white\"},\"hoverlabel\":{\"align\":\"left\"},\"hovermode\":\"closest\",\"mapbox\":{\"style\":\"light\"},\"paper_bgcolor\":\"white\",\"plot_bgcolor\":\"#E5ECF6\",\"polar\":{\"angularaxis\":{\"gridcolor\":\"white\",\"linecolor\":\"white\",\"ticks\":\"\"},\"bgcolor\":\"#E5ECF6\",\"radialaxis\":{\"gridcolor\":\"white\",\"linecolor\":\"white\",\"ticks\":\"\"}},\"scene\":{\"xaxis\":{\"backgroundcolor\":\"#E5ECF6\",\"gridcolor\":\"white\",\"gridwidth\":2,\"linecolor\":\"white\",\"showbackground\":true,\"ticks\":\"\",\"zerolinecolor\":\"white\"},\"yaxis\":{\"backgroundcolor\":\"#E5ECF6\",\"gridcolor\":\"white\",\"gridwidth\":2,\"linecolor\":\"white\",\"showbackground\":true,\"ticks\":\"\",\"zerolinecolor\":\"white\"},\"zaxis\":{\"backgroundcolor\":\"#E5ECF6\",\"gridcolor\":\"white\",\"gridwidth\":2,\"linecolor\":\"white\",\"showbackground\":true,\"ticks\":\"\",\"zerolinecolor\":\"white\"}},\"shapedefaults\":{\"line\":{\"color\":\"#2a3f5f\"}},\"ternary\":{\"aaxis\":{\"gridcolor\":\"white\",\"linecolor\":\"white\",\"ticks\":\"\"},\"baxis\":{\"gridcolor\":\"white\",\"linecolor\":\"white\",\"ticks\":\"\"},\"bgcolor\":\"#E5ECF6\",\"caxis\":{\"gridcolor\":\"white\",\"linecolor\":\"white\",\"ticks\":\"\"}},\"title\":{\"x\":0.05},\"xaxis\":{\"automargin\":true,\"gridcolor\":\"white\",\"linecolor\":\"white\",\"ticks\":\"\",\"title\":{\"standoff\":15},\"zerolinecolor\":\"white\",\"zerolinewidth\":2},\"yaxis\":{\"automargin\":true,\"gridcolor\":\"white\",\"linecolor\":\"white\",\"ticks\":\"\",\"title\":{\"standoff\":15},\"zerolinecolor\":\"white\",\"zerolinewidth\":2}}},\"xaxis\":{\"anchor\":\"y\",\"domain\":[0.0,0.2888888888888889],\"title\":{\"text\":\"Year\"}},\"xaxis2\":{\"anchor\":\"y2\",\"domain\":[0.35555555555555557,0.6444444444444445],\"title\":{\"text\":\"Year\"}},\"xaxis3\":{\"anchor\":\"y3\",\"domain\":[0.7111111111111111,1.0],\"title\":{\"text\":\"Year\"}},\"yaxis\":{\"anchor\":\"x\",\"domain\":[0.0,1.0],\"title\":{\"text\":\"Energy imports (TWh)\"}},\"yaxis2\":{\"anchor\":\"x2\",\"domain\":[0.0,1.0],\"matches\":\"y\",\"showticklabels\":false},\"yaxis3\":{\"anchor\":\"x3\",\"domain\":[0.0,1.0],\"matches\":\"y\",\"showticklabels\":false}},                        {\"responsive\": true}                    ).then(function(){\n",
       "                            \n",
       "var gd = document.getElementById('eedfdf75-e140-4082-83d4-fa091acb68f3');\n",
       "var x = new MutationObserver(function (mutations, observer) {{\n",
       "        var display = window.getComputedStyle(gd).display;\n",
       "        if (!display || display === 'none') {{\n",
       "            console.log([gd, 'removed!']);\n",
       "            Plotly.purge(gd);\n",
       "            observer.disconnect();\n",
       "        }}\n",
       "}});\n",
       "\n",
       "// Listen for the removal of the full notebook cells\n",
       "var notebookContainer = gd.closest('#notebook-container');\n",
       "if (notebookContainer) {{\n",
       "    x.observe(notebookContainer, {childList: true});\n",
       "}}\n",
       "\n",
       "// Listen for the clearing of the current output cell\n",
       "var outputEl = gd.closest('.output');\n",
       "if (outputEl) {{\n",
       "    x.observe(outputEl, {childList: true});\n",
       "}}\n",
       "\n",
       "                        })                };                });            </script>        </div>"
      ]
     },
     "metadata": {},
     "output_type": "display_data"
    }
   ],
   "source": [
    "fig =make_subplots(rows=1, cols=3,subplot_titles=list(scen.keys()),shared_yaxes=True)\n",
    "for i in range(len(scen.keys())):\n",
    "    showlegend=[True,False,False]\n",
    "    resource_flow=scen[list(scen.keys())[i]]['resource_flow']\n",
    "    r_flow=resource_flow.drop([\"Sector\",\"Country\"],axis=1).groupby(by=[\"Resource\",\"Year\"]).sum().reset_index()\n",
    "    for resource in primary_resource_conversion.keys():\n",
    "        if resource not in [\"Olefins\",\"Ammonia\",\"Naphtha\",\"CO\",\"Electricity\",\"Biomass\",\"Waste\"]:\n",
    "            fig.add_trace(go.Scatter(x=r_flow[(r_flow.Resource==resource) & (r_flow.Flow>0)].Year,y=r_flow[(r_flow.Resource==resource) & (r_flow.Flow>0)].Flow,name=resource,\n",
    "                                 line=dict(width=0,color=primary_resource_color[resource]),\n",
    "                                 fillcolor=primary_resource_color[resource],hoverinfo=\"x+y\",mode='lines',stackgroup='one',showlegend=showlegend[i]),row=1, col=i+1)\n",
    "    \n",
    "    fig.update_xaxes(title_text=\"Year\", row=1, col=i+1)\n",
    "    \n",
    "fig.update_layout(#title='Energy imports in EU-5+1', title_x=0.5,\n",
    "                   yaxis_title='Energy imports (TWh)')\n",
    "fig.update_layout(\n",
    "    font=dict(\n",
    "        family=\"Times New Roman\",size=24)\n",
    "    )\n",
    "fig.update_annotations(font_size=24)\n",
    "fig.update_layout(legend=dict(\n",
    "    orientation=\"h\",\n",
    "    yanchor=\"bottom\",\n",
    "    y=1.1,\n",
    "    xanchor=\"right\",\n",
    "    x=0.75,font = dict(size=20)\n",
    "))"
   ]
  },
  {
   "cell_type": "code",
   "execution_count": 244,
   "id": "7a60a101",
   "metadata": {},
   "outputs": [
    {
     "data": {
      "application/vnd.plotly.v1+json": {
       "config": {
        "plotlyServerURL": "https://plot.ly"
       },
       "data": [
        {
         "fillcolor": "green",
         "hoverinfo": "x+y",
         "line": {
          "color": "green",
          "width": 0
         },
         "mode": "lines",
         "name": "Electrolyser",
         "showlegend": true,
         "stackgroup": "one",
         "type": "scatter",
         "x": [
          2015,
          2016,
          2017,
          2018,
          2019,
          2020,
          2021,
          2022,
          2023,
          2024,
          2025,
          2026,
          2027,
          2028,
          2029,
          2030,
          2031,
          2032,
          2033,
          2034,
          2035,
          2036,
          2037,
          2038,
          2039,
          2040,
          2041,
          2042,
          2043,
          2044,
          2045,
          2046,
          2047,
          2048,
          2049,
          2050
         ],
         "xaxis": "x",
         "y": [
          0.03197248766820743,
          0,
          0,
          0,
          0,
          0,
          0,
          0,
          0,
          0,
          0,
          0,
          0,
          0,
          0,
          0.102,
          0.02466278971962618,
          0.02550000000000003,
          0.0255,
          0.0255,
          0.23624751969093655,
          0.2176385592503896,
          0.19079418253650235,
          0.26449322913436524,
          0.25537375984546823,
          0.3053737598454682,
          0.35537375984546826,
          0.40537375984546825,
          0.7186241656760813,
          1.1365754929350091,
          1.1150013103985068,
          1.195355133196073,
          1.4642973813074962,
          1.3192363265151432,
          1.341554192157082,
          1.3673767679640674
         ],
         "yaxis": "y"
        },
        {
         "fillcolor": "black",
         "hoverinfo": "x+y",
         "line": {
          "color": "black",
          "width": 0
         },
         "mode": "lines",
         "name": "SMR",
         "showlegend": true,
         "stackgroup": "one",
         "type": "scatter",
         "x": [
          2015,
          2016,
          2017,
          2018,
          2019,
          2020,
          2021,
          2022,
          2023,
          2024,
          2025,
          2026,
          2027,
          2028,
          2029,
          2030,
          2031,
          2032,
          2033,
          2034,
          2035,
          2036,
          2037,
          2038,
          2039,
          2040,
          2041,
          2042,
          2043,
          2044,
          2045,
          2046,
          2047,
          2048,
          2049,
          2050
         ],
         "xaxis": "x",
         "y": [
          0.7646755466195316,
          0.7646755466195316,
          0.7574755466195316,
          0.7502755466195317,
          0.7430755466195317,
          0.7358755466195317,
          0.7282299552216822,
          0.7205843638238327,
          0.7129387724259832,
          0.7052931810281338,
          0.5376647129179555,
          0.4637747024364731,
          0.44442014786146694,
          0.42506559328646065,
          0.4057110387114544,
          0.43291313405105747,
          0.41521535366959944,
          0.3975175732881418,
          0.379819792906684,
          0.36169822525555645,
          0.6890815419966707,
          1.139827036840167,
          1.1317233428377471,
          1.122612779976036,
          1.1186936558762963,
          1.0877093448531774,
          1.0962205493066708,
          1.1059659623596825,
          1.1029333766159364,
          1.1234304656137262,
          1.2246814965162507,
          1.3409936295107134,
          1.401529125360072,
          1.4368691555966029,
          1.4375837078961182,
          1.4973123919343534
         ],
         "yaxis": "y"
        },
        {
         "fillcolor": "firebrick",
         "hoverinfo": "x+y",
         "line": {
          "color": "firebrick",
          "width": 0
         },
         "mode": "lines",
         "name": "Gasification",
         "showlegend": true,
         "stackgroup": "one",
         "type": "scatter",
         "x": [
          2015,
          2016,
          2017,
          2018,
          2019,
          2020,
          2021,
          2022,
          2023,
          2024,
          2025,
          2026,
          2027,
          2028,
          2029,
          2030,
          2031,
          2032,
          2033,
          2034,
          2035,
          2036,
          2037,
          2038,
          2039,
          2040,
          2041,
          2042,
          2043,
          2044,
          2045,
          2046,
          2047,
          2048,
          2049,
          2050
         ],
         "xaxis": "x",
         "y": [
          0,
          0,
          0,
          0,
          0,
          0,
          0,
          0,
          0,
          0,
          0.02533351409978308,
          0.03594579682221408,
          0.03817820022318244,
          0.040410603624150825,
          0.04264300702511921,
          0.04487541042608757,
          0.04710781382705596,
          0.049340217228024334,
          0.05157262062899271,
          0.053872131341644154,
          0.06316589358932873,
          0.024999999999999984,
          0,
          0,
          0,
          -5.048709793414475e-35,
          -5.872774021198672e-60,
          -1.7936620347794864e-49,
          -3.404434290109383e-58,
          -2.2838565637994834e-59,
          -2.936387010599336e-60,
          -1.866029362115156e-31,
          5.882328425788474e-60,
          -5.872774021198672e-60,
          8.917444283815772e-61,
          1.8923382957195721e-59
         ],
         "yaxis": "y"
        },
        {
         "fillcolor": "turquoise",
         "hoverinfo": "x+y",
         "line": {
          "color": "turquoise",
          "width": 0
         },
         "mode": "lines",
         "name": "Pyrolysis",
         "showlegend": true,
         "stackgroup": "one",
         "type": "scatter",
         "x": [
          2015,
          2016,
          2017,
          2018,
          2019,
          2020,
          2021,
          2022,
          2023,
          2024,
          2025,
          2026,
          2027,
          2028,
          2029,
          2030,
          2031,
          2032,
          2033,
          2034,
          2035,
          2036,
          2037,
          2038,
          2039,
          2040,
          2041,
          2042,
          2043,
          2044,
          2045,
          2046,
          2047,
          2048,
          2049,
          2050
         ],
         "xaxis": "x",
         "y": [
          0,
          0,
          0,
          0,
          0,
          0,
          0,
          0,
          0,
          0,
          0,
          0,
          0,
          0,
          0,
          0,
          0,
          0,
          0,
          0,
          0,
          0,
          0,
          0,
          0,
          -2.628653314917282e-17,
          -1.3972120797089697e-17,
          2.2581618980171836e-18,
          -6.890721518206441e-58,
          8.143579976062158e-58,
          -6.462348535570528e-33,
          2.968590706586836e-18,
          2.9685907065868266e-18,
          1.4825135321095918e-18,
          -2.7605073753267845e-60,
          -5.3058352252067836e-18
         ],
         "yaxis": "y"
        },
        {
         "fillcolor": "beige",
         "hoverinfo": "x+y",
         "line": {
          "color": "beige",
          "width": 0
         },
         "mode": "lines",
         "name": "Naphta cracking",
         "showlegend": true,
         "stackgroup": "one",
         "type": "scatter",
         "x": [
          2015,
          2016,
          2017,
          2018,
          2019,
          2020,
          2021,
          2022,
          2023,
          2024,
          2025,
          2026,
          2027,
          2028,
          2029,
          2030,
          2031,
          2032,
          2033,
          2034,
          2035,
          2036,
          2037,
          2038,
          2039,
          2040,
          2041,
          2042,
          2043,
          2044,
          2045,
          2046,
          2047,
          2048,
          2049,
          2050
         ],
         "xaxis": "x",
         "y": [
          0.43107096774193543,
          0.43107096774193543,
          0.43107096774193543,
          0.43107096774193543,
          0.43107096774193543,
          0.43107096774193543,
          0.4253233548387097,
          0.41957574193548386,
          0.413828129032258,
          0.40808051612903223,
          0.4023329032258064,
          0.39658529032258066,
          0.3908376774193548,
          0.38509006451612904,
          0.37934245161290325,
          0.3735948387096774,
          0.3678472258064516,
          0.3620996129032258,
          0.356352,
          0.35060438709677416,
          0.2932438709677419,
          0.2557446841127905,
          0.2162792952167622,
          0.18752846236500623,
          0.16809205919584766,
          0.14854841903659954,
          0.12904436592192672,
          0.12232891360008033,
          0.10932947196254605,
          0.10434650125487742,
          0.09741303689903802,
          0.09013457197874619,
          0.08477592414726823,
          0.079942830599729,
          0.07657600027562433,
          0.07371200811162036
         ],
         "yaxis": "y"
        },
        {
         "fillcolor": "green",
         "hoverinfo": "x+y",
         "line": {
          "color": "green",
          "width": 0
         },
         "mode": "lines",
         "name": "Electrolyser",
         "showlegend": false,
         "stackgroup": "one",
         "type": "scatter",
         "x": [
          2015,
          2016,
          2017,
          2018,
          2019,
          2020,
          2021,
          2022,
          2023,
          2024,
          2025,
          2026,
          2027,
          2028,
          2029,
          2030,
          2031,
          2032,
          2033,
          2034,
          2035,
          2036,
          2037,
          2038,
          2039,
          2040,
          2041,
          2042,
          2043,
          2044,
          2045,
          2046,
          2047,
          2048,
          2049,
          2050
         ],
         "xaxis": "x2",
         "y": [
          0.025908144059541272,
          0,
          0,
          0,
          0,
          0,
          0,
          0,
          0,
          0,
          0,
          0,
          0,
          0,
          0,
          0.102,
          0,
          0.025499999999999995,
          0.0255,
          0.0255,
          0.4255,
          0.661105752400523,
          1.0440451018796852,
          1.5079788653205453,
          1.8395617268096847,
          1.9395617268096845,
          2.1960569603658677,
          2.5091536468123405,
          2.610172141435996,
          2.6874113305030534,
          2.4211568279992326,
          2.321984729512888,
          2.211403019601356,
          2.040468910760812,
          1.9525624735413452,
          2.268926098023331
         ],
         "yaxis": "y2"
        },
        {
         "fillcolor": "black",
         "hoverinfo": "x+y",
         "line": {
          "color": "black",
          "width": 0
         },
         "mode": "lines",
         "name": "SMR",
         "showlegend": false,
         "stackgroup": "one",
         "type": "scatter",
         "x": [
          2015,
          2016,
          2017,
          2018,
          2019,
          2020,
          2021,
          2022,
          2023,
          2024,
          2025,
          2026,
          2027,
          2028,
          2029,
          2030,
          2031,
          2032,
          2033,
          2034,
          2035,
          2036,
          2037,
          2038,
          2039,
          2040,
          2041,
          2042,
          2043,
          2044,
          2045,
          2046,
          2047,
          2048,
          2049,
          2050
         ],
         "xaxis": "x2",
         "y": [
          0.7646755466195316,
          0.7646755466195316,
          0.7574755466195316,
          0.7502755466195317,
          0.7430755466195317,
          0.7358755466195317,
          0.7282299552216822,
          0.7205843638238327,
          0.7129387724259832,
          0.7052931810281338,
          0.5376647129179556,
          0.4637747024364731,
          0.44442014786146694,
          0.42506559328646065,
          0.4057110387114544,
          1.2964654097752715,
          1.2787676293938135,
          1.2610698490123557,
          1.2433720686308978,
          1.2081605457376705,
          1.4655668429759217,
          1.8110443077881235,
          1.8515431742721304,
          1.8357261868926336,
          1.8213348240653118,
          1.8018781357351956,
          1.8008196046136664,
          1.826032075995452,
          1.8571101236532674,
          1.896150696923188,
          1.8663968296134459,
          1.350868291972178,
          1.1016309150838524,
          1.1387561005043723,
          1.1794162858606612,
          1.1767166333311212
         ],
         "yaxis": "y2"
        },
        {
         "fillcolor": "firebrick",
         "hoverinfo": "x+y",
         "line": {
          "color": "firebrick",
          "width": 0
         },
         "mode": "lines",
         "name": "Gasification",
         "showlegend": false,
         "stackgroup": "one",
         "type": "scatter",
         "x": [
          2015,
          2016,
          2017,
          2018,
          2019,
          2020,
          2021,
          2022,
          2023,
          2024,
          2025,
          2026,
          2027,
          2028,
          2029,
          2030,
          2031,
          2032,
          2033,
          2034,
          2035,
          2036,
          2037,
          2038,
          2039,
          2040,
          2041,
          2042,
          2043,
          2044,
          2045,
          2046,
          2047,
          2048,
          2049,
          2050
         ],
         "xaxis": "x2",
         "y": [
          0,
          0,
          0,
          0,
          0,
          0,
          0,
          0,
          0,
          0,
          0.02533351409978308,
          0.03594579682221407,
          0.03817820022318244,
          0.040410603624150825,
          0.042643007025119216,
          0.04487541042608758,
          0.04710781382705596,
          0.049340217228024334,
          0.05157262062899271,
          0.05380542852168752,
          0.019206046273320024,
          0,
          0,
          0,
          0,
          0,
          0,
          0,
          0,
          0,
          0,
          0,
          0,
          0,
          0,
          0
         ],
         "yaxis": "y2"
        },
        {
         "fillcolor": "turquoise",
         "hoverinfo": "x+y",
         "line": {
          "color": "turquoise",
          "width": 0
         },
         "mode": "lines",
         "name": "Pyrolysis",
         "showlegend": false,
         "stackgroup": "one",
         "type": "scatter",
         "x": [
          2015,
          2016,
          2017,
          2018,
          2019,
          2020,
          2021,
          2022,
          2023,
          2024,
          2025,
          2026,
          2027,
          2028,
          2029,
          2030,
          2031,
          2032,
          2033,
          2034,
          2035,
          2036,
          2037,
          2038,
          2039,
          2040,
          2041,
          2042,
          2043,
          2044,
          2045,
          2046,
          2047,
          2048,
          2049,
          2050
         ],
         "xaxis": "x2",
         "y": [
          0,
          0,
          0,
          0,
          0,
          0,
          0,
          0,
          0,
          0,
          0,
          0,
          0,
          0,
          0,
          0,
          0,
          0,
          0,
          0,
          0,
          0.09210662487730968,
          0.24840285405875195,
          0.30940662487730985,
          0.316769890051688,
          0.31676989005168793,
          0.34198655160777786,
          0.34198655160777797,
          0.34198655160777786,
          0.3419865516077779,
          0.4052332600748909,
          0.7836417167345103,
          0.9700558316620038,
          0.966455831662004,
          0.9628558316620038,
          0.9628558316620038
         ],
         "yaxis": "y2"
        },
        {
         "fillcolor": "beige",
         "hoverinfo": "x+y",
         "line": {
          "color": "beige",
          "width": 0
         },
         "mode": "lines",
         "name": "Naphta cracking",
         "showlegend": false,
         "stackgroup": "one",
         "type": "scatter",
         "x": [
          2015,
          2016,
          2017,
          2018,
          2019,
          2020,
          2021,
          2022,
          2023,
          2024,
          2025,
          2026,
          2027,
          2028,
          2029,
          2030,
          2031,
          2032,
          2033,
          2034,
          2035,
          2036,
          2037,
          2038,
          2039,
          2040,
          2041,
          2042,
          2043,
          2044,
          2045,
          2046,
          2047,
          2048,
          2049,
          2050
         ],
         "xaxis": "x2",
         "y": [
          0.43107096774193543,
          0.43107096774193543,
          0.43107096774193543,
          0.43107096774193543,
          0.43107096774193543,
          0.43107096774193543,
          0.4253233548387097,
          0.41957574193548386,
          0.413828129032258,
          0.40808051612903223,
          0.4023329032258064,
          0.39658529032258066,
          0.3908376774193548,
          0.38509006451612904,
          0.37934245161290325,
          0.3735948387096774,
          0.3678472258064516,
          0.3620996129032258,
          0.356352,
          0.35060438709677416,
          0.2932438709677419,
          0.2532694297309736,
          0.20894289915950612,
          0.17912223058927695,
          0.15932096066320892,
          0.1428349478678235,
          0.12558312077897404,
          0.11564293114592539,
          0.1034558424926712,
          0.09793551386652517,
          0.09320909354391271,
          0.08855469854434307,
          0.0836920861762127,
          0.07960445447601817,
          0.07683703573359227,
          0.06474554324168232
         ],
         "yaxis": "y2"
        },
        {
         "fillcolor": "green",
         "hoverinfo": "x+y",
         "line": {
          "color": "green",
          "width": 0
         },
         "mode": "lines",
         "name": "Electrolyser",
         "showlegend": false,
         "stackgroup": "one",
         "type": "scatter",
         "x": [
          2015,
          2016,
          2017,
          2018,
          2019,
          2020,
          2021,
          2022,
          2023,
          2024,
          2025,
          2026,
          2027,
          2028,
          2029,
          2030,
          2031,
          2032,
          2033,
          2034,
          2035,
          2036,
          2037,
          2038,
          2039,
          2040,
          2041,
          2042,
          2043,
          2044,
          2045,
          2046,
          2047,
          2048,
          2049,
          2050
         ],
         "xaxis": "x3",
         "y": [
          0,
          0,
          0,
          0,
          0,
          -7.275957614183426e-18,
          0,
          0,
          0,
          0,
          0,
          0,
          0,
          0,
          0,
          0.10200000000000001,
          -2.461211877949286e-17,
          0.02550000000000004,
          0.0255,
          0.047414582377721545,
          0.4662691647554431,
          0.7171907782003475,
          1.1001301276795097,
          1.565819911443677,
          1.8974027729328162,
          1.9974027729328163,
          2.2034150665396957,
          2.5280785445583054,
          2.6283734695918315,
          2.6919017706980055,
          2.4359549594971206,
          2.3599007049984904,
          2.25508617872407,
          2.080212425956605,
          2.135812311762778,
          2.423050490410533
         ],
         "yaxis": "y3"
        },
        {
         "fillcolor": "black",
         "hoverinfo": "x+y",
         "line": {
          "color": "black",
          "width": 0
         },
         "mode": "lines",
         "name": "SMR",
         "showlegend": false,
         "stackgroup": "one",
         "type": "scatter",
         "x": [
          2015,
          2016,
          2017,
          2018,
          2019,
          2020,
          2021,
          2022,
          2023,
          2024,
          2025,
          2026,
          2027,
          2028,
          2029,
          2030,
          2031,
          2032,
          2033,
          2034,
          2035,
          2036,
          2037,
          2038,
          2039,
          2040,
          2041,
          2042,
          2043,
          2044,
          2045,
          2046,
          2047,
          2048,
          2049,
          2050
         ],
         "xaxis": "x3",
         "y": [
          0.9784928730086591,
          0.7646755466195316,
          0.7574755466195316,
          0.7502755466195317,
          0.7430755466195317,
          0.7358755466195317,
          0.7282299552216822,
          0.7205843638238327,
          0.7129387724259832,
          0.7052931810281338,
          0.5376647129179556,
          0.4637747024364731,
          0.44442014786146694,
          0.42506559328646065,
          0.4057110387114544,
          1.2885695046986176,
          1.2708717243171597,
          1.2531739439357017,
          1.235476163554244,
          1.1953738636351647,
          1.3662356699854825,
          1.793561427460578,
          1.834157096533054,
          1.8235998810448042,
          1.8001459002258517,
          1.7896305311145415,
          1.7885719999930123,
          1.8139999443555406,
          1.8450779920133558,
          1.8668614365575265,
          1.8196136859931957,
          1.4724383635336373,
          1.379306597206368,
          1.4802240621086038,
          1.5476570752333194,
          1.536535587223921
         ],
         "yaxis": "y3"
        },
        {
         "fillcolor": "firebrick",
         "hoverinfo": "x+y",
         "line": {
          "color": "firebrick",
          "width": 0
         },
         "mode": "lines",
         "name": "Gasification",
         "showlegend": false,
         "stackgroup": "one",
         "type": "scatter",
         "x": [
          2015,
          2016,
          2017,
          2018,
          2019,
          2020,
          2021,
          2022,
          2023,
          2024,
          2025,
          2026,
          2027,
          2028,
          2029,
          2030,
          2031,
          2032,
          2033,
          2034,
          2035,
          2036,
          2037,
          2038,
          2039,
          2040,
          2041,
          2042,
          2043,
          2044,
          2045,
          2046,
          2047,
          2048,
          2049,
          2050
         ],
         "xaxis": "x3",
         "y": [
          0,
          0,
          0,
          0,
          0,
          0,
          0,
          0,
          0,
          0,
          0.02533351409978308,
          0.03594579682221407,
          0.03817820022318244,
          0.040410603624150825,
          0.04264300702511921,
          0.04487541042608758,
          0.04710781382705596,
          0.049340217228024334,
          0.05157262062899271,
          0.05735281128862999,
          0.03701313869582662,
          0.01045249577828506,
          0,
          0,
          0,
          -2.596844319745664e-32,
          -7.177834914798377e-60,
          4.441672419931745e-34,
          -4.33661324593652e-61,
          7.748799055748247e-61,
          -2.235139052896271e-61,
          1.6925008463871173e-60,
          7.544883291123294e-61,
          6.117472938748616e-61,
          8.156630584998155e-62,
          3.4723642110834806e-61
         ],
         "yaxis": "y3"
        },
        {
         "fillcolor": "turquoise",
         "hoverinfo": "x+y",
         "line": {
          "color": "turquoise",
          "width": 0
         },
         "mode": "lines",
         "name": "Pyrolysis",
         "showlegend": false,
         "stackgroup": "one",
         "type": "scatter",
         "x": [
          2015,
          2016,
          2017,
          2018,
          2019,
          2020,
          2021,
          2022,
          2023,
          2024,
          2025,
          2026,
          2027,
          2028,
          2029,
          2030,
          2031,
          2032,
          2033,
          2034,
          2035,
          2036,
          2037,
          2038,
          2039,
          2040,
          2041,
          2042,
          2043,
          2044,
          2045,
          2046,
          2047,
          2048,
          2049,
          2050
         ],
         "xaxis": "x3",
         "y": [
          0,
          0,
          0,
          0,
          0,
          0,
          0,
          0,
          0,
          0,
          0,
          0,
          0,
          0,
          0,
          0,
          0,
          0,
          0,
          0,
          0,
          0.10000000000000003,
          0.22954760462065374,
          0.34334813158311034,
          0.36392492741287974,
          0.36392492741287985,
          0.38914158896896983,
          0.3891415889689697,
          0.3891415889689697,
          0.38914158896896983,
          0.4635947385061467,
          0.7341574780409075,
          0.820571592968401,
          0.8169715929684012,
          0.813371592968401,
          0.813371592968401
         ],
         "yaxis": "y3"
        },
        {
         "fillcolor": "beige",
         "hoverinfo": "x+y",
         "line": {
          "color": "beige",
          "width": 0
         },
         "mode": "lines",
         "name": "Naphta cracking",
         "showlegend": false,
         "stackgroup": "one",
         "type": "scatter",
         "x": [
          2015,
          2016,
          2017,
          2018,
          2019,
          2020,
          2021,
          2022,
          2023,
          2024,
          2025,
          2026,
          2027,
          2028,
          2029,
          2030,
          2031,
          2032,
          2033,
          2034,
          2035,
          2036,
          2037,
          2038,
          2039,
          2040,
          2041,
          2042,
          2043,
          2044,
          2045,
          2046,
          2047,
          2048,
          2049,
          2050
         ],
         "xaxis": "x3",
         "y": [
          0.43107096774193543,
          0.43107096774193543,
          0.43107096774193543,
          0.43107096774193543,
          0.43107096774193543,
          0.43107096774193543,
          0.4253233548387097,
          0.41957574193548386,
          0.413828129032258,
          0.40808051612903223,
          0.4023329032258064,
          0.39658529032258066,
          0.3908376774193548,
          0.38509006451612904,
          0.37934245161290325,
          0.3735948387096774,
          0.3678472258064516,
          0.3620996129032258,
          0.356352,
          0.35060438709677416,
          0.2932438709677419,
          0.2532694297309736,
          0.21106020421471122,
          0.18120145483116437,
          0.16141871880456896,
          0.1449144201770204,
          0.12769327766765887,
          0.1178091324270415,
          0.10565272835327523,
          0.10016308430661713,
          0.0940848202781968,
          0.0882549845560608,
          0.07988215269301668,
          0.07066888081592439,
          0.06023359042704259,
          0.04055875326588233
         ],
         "yaxis": "y3"
        }
       ],
       "layout": {
        "annotations": [
         {
          "font": {
           "size": 24
          },
          "showarrow": false,
          "text": "High electricity price",
          "x": 0.14444444444444446,
          "xanchor": "center",
          "xref": "paper",
          "y": 1,
          "yanchor": "bottom",
          "yref": "paper"
         },
         {
          "font": {
           "size": 24
          },
          "showarrow": false,
          "text": "Reference",
          "x": 0.5,
          "xanchor": "center",
          "xref": "paper",
          "y": 1,
          "yanchor": "bottom",
          "yref": "paper"
         },
         {
          "font": {
           "size": 24
          },
          "showarrow": false,
          "text": "Fossil phase-out",
          "x": 0.8555555555555556,
          "xanchor": "center",
          "xref": "paper",
          "y": 1,
          "yanchor": "bottom",
          "yref": "paper"
         }
        ],
        "font": {
         "family": "Times New Roman",
         "size": 24
        },
        "legend": {
         "font": {
          "size": 20
         },
         "orientation": "h",
         "x": 0.9,
         "xanchor": "right",
         "y": 1.1,
         "yanchor": "bottom"
        },
        "template": {
         "data": {
          "bar": [
           {
            "error_x": {
             "color": "#2a3f5f"
            },
            "error_y": {
             "color": "#2a3f5f"
            },
            "marker": {
             "line": {
              "color": "#E5ECF6",
              "width": 0.5
             },
             "pattern": {
              "fillmode": "overlay",
              "size": 10,
              "solidity": 0.2
             }
            },
            "type": "bar"
           }
          ],
          "barpolar": [
           {
            "marker": {
             "line": {
              "color": "#E5ECF6",
              "width": 0.5
             },
             "pattern": {
              "fillmode": "overlay",
              "size": 10,
              "solidity": 0.2
             }
            },
            "type": "barpolar"
           }
          ],
          "carpet": [
           {
            "aaxis": {
             "endlinecolor": "#2a3f5f",
             "gridcolor": "white",
             "linecolor": "white",
             "minorgridcolor": "white",
             "startlinecolor": "#2a3f5f"
            },
            "baxis": {
             "endlinecolor": "#2a3f5f",
             "gridcolor": "white",
             "linecolor": "white",
             "minorgridcolor": "white",
             "startlinecolor": "#2a3f5f"
            },
            "type": "carpet"
           }
          ],
          "choropleth": [
           {
            "colorbar": {
             "outlinewidth": 0,
             "ticks": ""
            },
            "type": "choropleth"
           }
          ],
          "contour": [
           {
            "colorbar": {
             "outlinewidth": 0,
             "ticks": ""
            },
            "colorscale": [
             [
              0,
              "#0d0887"
             ],
             [
              0.1111111111111111,
              "#46039f"
             ],
             [
              0.2222222222222222,
              "#7201a8"
             ],
             [
              0.3333333333333333,
              "#9c179e"
             ],
             [
              0.4444444444444444,
              "#bd3786"
             ],
             [
              0.5555555555555556,
              "#d8576b"
             ],
             [
              0.6666666666666666,
              "#ed7953"
             ],
             [
              0.7777777777777778,
              "#fb9f3a"
             ],
             [
              0.8888888888888888,
              "#fdca26"
             ],
             [
              1,
              "#f0f921"
             ]
            ],
            "type": "contour"
           }
          ],
          "contourcarpet": [
           {
            "colorbar": {
             "outlinewidth": 0,
             "ticks": ""
            },
            "type": "contourcarpet"
           }
          ],
          "heatmap": [
           {
            "colorbar": {
             "outlinewidth": 0,
             "ticks": ""
            },
            "colorscale": [
             [
              0,
              "#0d0887"
             ],
             [
              0.1111111111111111,
              "#46039f"
             ],
             [
              0.2222222222222222,
              "#7201a8"
             ],
             [
              0.3333333333333333,
              "#9c179e"
             ],
             [
              0.4444444444444444,
              "#bd3786"
             ],
             [
              0.5555555555555556,
              "#d8576b"
             ],
             [
              0.6666666666666666,
              "#ed7953"
             ],
             [
              0.7777777777777778,
              "#fb9f3a"
             ],
             [
              0.8888888888888888,
              "#fdca26"
             ],
             [
              1,
              "#f0f921"
             ]
            ],
            "type": "heatmap"
           }
          ],
          "heatmapgl": [
           {
            "colorbar": {
             "outlinewidth": 0,
             "ticks": ""
            },
            "colorscale": [
             [
              0,
              "#0d0887"
             ],
             [
              0.1111111111111111,
              "#46039f"
             ],
             [
              0.2222222222222222,
              "#7201a8"
             ],
             [
              0.3333333333333333,
              "#9c179e"
             ],
             [
              0.4444444444444444,
              "#bd3786"
             ],
             [
              0.5555555555555556,
              "#d8576b"
             ],
             [
              0.6666666666666666,
              "#ed7953"
             ],
             [
              0.7777777777777778,
              "#fb9f3a"
             ],
             [
              0.8888888888888888,
              "#fdca26"
             ],
             [
              1,
              "#f0f921"
             ]
            ],
            "type": "heatmapgl"
           }
          ],
          "histogram": [
           {
            "marker": {
             "pattern": {
              "fillmode": "overlay",
              "size": 10,
              "solidity": 0.2
             }
            },
            "type": "histogram"
           }
          ],
          "histogram2d": [
           {
            "colorbar": {
             "outlinewidth": 0,
             "ticks": ""
            },
            "colorscale": [
             [
              0,
              "#0d0887"
             ],
             [
              0.1111111111111111,
              "#46039f"
             ],
             [
              0.2222222222222222,
              "#7201a8"
             ],
             [
              0.3333333333333333,
              "#9c179e"
             ],
             [
              0.4444444444444444,
              "#bd3786"
             ],
             [
              0.5555555555555556,
              "#d8576b"
             ],
             [
              0.6666666666666666,
              "#ed7953"
             ],
             [
              0.7777777777777778,
              "#fb9f3a"
             ],
             [
              0.8888888888888888,
              "#fdca26"
             ],
             [
              1,
              "#f0f921"
             ]
            ],
            "type": "histogram2d"
           }
          ],
          "histogram2dcontour": [
           {
            "colorbar": {
             "outlinewidth": 0,
             "ticks": ""
            },
            "colorscale": [
             [
              0,
              "#0d0887"
             ],
             [
              0.1111111111111111,
              "#46039f"
             ],
             [
              0.2222222222222222,
              "#7201a8"
             ],
             [
              0.3333333333333333,
              "#9c179e"
             ],
             [
              0.4444444444444444,
              "#bd3786"
             ],
             [
              0.5555555555555556,
              "#d8576b"
             ],
             [
              0.6666666666666666,
              "#ed7953"
             ],
             [
              0.7777777777777778,
              "#fb9f3a"
             ],
             [
              0.8888888888888888,
              "#fdca26"
             ],
             [
              1,
              "#f0f921"
             ]
            ],
            "type": "histogram2dcontour"
           }
          ],
          "mesh3d": [
           {
            "colorbar": {
             "outlinewidth": 0,
             "ticks": ""
            },
            "type": "mesh3d"
           }
          ],
          "parcoords": [
           {
            "line": {
             "colorbar": {
              "outlinewidth": 0,
              "ticks": ""
             }
            },
            "type": "parcoords"
           }
          ],
          "pie": [
           {
            "automargin": true,
            "type": "pie"
           }
          ],
          "scatter": [
           {
            "marker": {
             "colorbar": {
              "outlinewidth": 0,
              "ticks": ""
             }
            },
            "type": "scatter"
           }
          ],
          "scatter3d": [
           {
            "line": {
             "colorbar": {
              "outlinewidth": 0,
              "ticks": ""
             }
            },
            "marker": {
             "colorbar": {
              "outlinewidth": 0,
              "ticks": ""
             }
            },
            "type": "scatter3d"
           }
          ],
          "scattercarpet": [
           {
            "marker": {
             "colorbar": {
              "outlinewidth": 0,
              "ticks": ""
             }
            },
            "type": "scattercarpet"
           }
          ],
          "scattergeo": [
           {
            "marker": {
             "colorbar": {
              "outlinewidth": 0,
              "ticks": ""
             }
            },
            "type": "scattergeo"
           }
          ],
          "scattergl": [
           {
            "marker": {
             "colorbar": {
              "outlinewidth": 0,
              "ticks": ""
             }
            },
            "type": "scattergl"
           }
          ],
          "scattermapbox": [
           {
            "marker": {
             "colorbar": {
              "outlinewidth": 0,
              "ticks": ""
             }
            },
            "type": "scattermapbox"
           }
          ],
          "scatterpolar": [
           {
            "marker": {
             "colorbar": {
              "outlinewidth": 0,
              "ticks": ""
             }
            },
            "type": "scatterpolar"
           }
          ],
          "scatterpolargl": [
           {
            "marker": {
             "colorbar": {
              "outlinewidth": 0,
              "ticks": ""
             }
            },
            "type": "scatterpolargl"
           }
          ],
          "scatterternary": [
           {
            "marker": {
             "colorbar": {
              "outlinewidth": 0,
              "ticks": ""
             }
            },
            "type": "scatterternary"
           }
          ],
          "surface": [
           {
            "colorbar": {
             "outlinewidth": 0,
             "ticks": ""
            },
            "colorscale": [
             [
              0,
              "#0d0887"
             ],
             [
              0.1111111111111111,
              "#46039f"
             ],
             [
              0.2222222222222222,
              "#7201a8"
             ],
             [
              0.3333333333333333,
              "#9c179e"
             ],
             [
              0.4444444444444444,
              "#bd3786"
             ],
             [
              0.5555555555555556,
              "#d8576b"
             ],
             [
              0.6666666666666666,
              "#ed7953"
             ],
             [
              0.7777777777777778,
              "#fb9f3a"
             ],
             [
              0.8888888888888888,
              "#fdca26"
             ],
             [
              1,
              "#f0f921"
             ]
            ],
            "type": "surface"
           }
          ],
          "table": [
           {
            "cells": {
             "fill": {
              "color": "#EBF0F8"
             },
             "line": {
              "color": "white"
             }
            },
            "header": {
             "fill": {
              "color": "#C8D4E3"
             },
             "line": {
              "color": "white"
             }
            },
            "type": "table"
           }
          ]
         },
         "layout": {
          "annotationdefaults": {
           "arrowcolor": "#2a3f5f",
           "arrowhead": 0,
           "arrowwidth": 1
          },
          "autotypenumbers": "strict",
          "coloraxis": {
           "colorbar": {
            "outlinewidth": 0,
            "ticks": ""
           }
          },
          "colorscale": {
           "diverging": [
            [
             0,
             "#8e0152"
            ],
            [
             0.1,
             "#c51b7d"
            ],
            [
             0.2,
             "#de77ae"
            ],
            [
             0.3,
             "#f1b6da"
            ],
            [
             0.4,
             "#fde0ef"
            ],
            [
             0.5,
             "#f7f7f7"
            ],
            [
             0.6,
             "#e6f5d0"
            ],
            [
             0.7,
             "#b8e186"
            ],
            [
             0.8,
             "#7fbc41"
            ],
            [
             0.9,
             "#4d9221"
            ],
            [
             1,
             "#276419"
            ]
           ],
           "sequential": [
            [
             0,
             "#0d0887"
            ],
            [
             0.1111111111111111,
             "#46039f"
            ],
            [
             0.2222222222222222,
             "#7201a8"
            ],
            [
             0.3333333333333333,
             "#9c179e"
            ],
            [
             0.4444444444444444,
             "#bd3786"
            ],
            [
             0.5555555555555556,
             "#d8576b"
            ],
            [
             0.6666666666666666,
             "#ed7953"
            ],
            [
             0.7777777777777778,
             "#fb9f3a"
            ],
            [
             0.8888888888888888,
             "#fdca26"
            ],
            [
             1,
             "#f0f921"
            ]
           ],
           "sequentialminus": [
            [
             0,
             "#0d0887"
            ],
            [
             0.1111111111111111,
             "#46039f"
            ],
            [
             0.2222222222222222,
             "#7201a8"
            ],
            [
             0.3333333333333333,
             "#9c179e"
            ],
            [
             0.4444444444444444,
             "#bd3786"
            ],
            [
             0.5555555555555556,
             "#d8576b"
            ],
            [
             0.6666666666666666,
             "#ed7953"
            ],
            [
             0.7777777777777778,
             "#fb9f3a"
            ],
            [
             0.8888888888888888,
             "#fdca26"
            ],
            [
             1,
             "#f0f921"
            ]
           ]
          },
          "colorway": [
           "#636efa",
           "#EF553B",
           "#00cc96",
           "#ab63fa",
           "#FFA15A",
           "#19d3f3",
           "#FF6692",
           "#B6E880",
           "#FF97FF",
           "#FECB52"
          ],
          "font": {
           "color": "#2a3f5f"
          },
          "geo": {
           "bgcolor": "white",
           "lakecolor": "white",
           "landcolor": "#E5ECF6",
           "showlakes": true,
           "showland": true,
           "subunitcolor": "white"
          },
          "hoverlabel": {
           "align": "left"
          },
          "hovermode": "closest",
          "mapbox": {
           "style": "light"
          },
          "paper_bgcolor": "white",
          "plot_bgcolor": "#E5ECF6",
          "polar": {
           "angularaxis": {
            "gridcolor": "white",
            "linecolor": "white",
            "ticks": ""
           },
           "bgcolor": "#E5ECF6",
           "radialaxis": {
            "gridcolor": "white",
            "linecolor": "white",
            "ticks": ""
           }
          },
          "scene": {
           "xaxis": {
            "backgroundcolor": "#E5ECF6",
            "gridcolor": "white",
            "gridwidth": 2,
            "linecolor": "white",
            "showbackground": true,
            "ticks": "",
            "zerolinecolor": "white"
           },
           "yaxis": {
            "backgroundcolor": "#E5ECF6",
            "gridcolor": "white",
            "gridwidth": 2,
            "linecolor": "white",
            "showbackground": true,
            "ticks": "",
            "zerolinecolor": "white"
           },
           "zaxis": {
            "backgroundcolor": "#E5ECF6",
            "gridcolor": "white",
            "gridwidth": 2,
            "linecolor": "white",
            "showbackground": true,
            "ticks": "",
            "zerolinecolor": "white"
           }
          },
          "shapedefaults": {
           "line": {
            "color": "#2a3f5f"
           }
          },
          "ternary": {
           "aaxis": {
            "gridcolor": "white",
            "linecolor": "white",
            "ticks": ""
           },
           "baxis": {
            "gridcolor": "white",
            "linecolor": "white",
            "ticks": ""
           },
           "bgcolor": "#E5ECF6",
           "caxis": {
            "gridcolor": "white",
            "linecolor": "white",
            "ticks": ""
           }
          },
          "title": {
           "x": 0.05
          },
          "xaxis": {
           "automargin": true,
           "gridcolor": "white",
           "linecolor": "white",
           "ticks": "",
           "title": {
            "standoff": 15
           },
           "zerolinecolor": "white",
           "zerolinewidth": 2
          },
          "yaxis": {
           "automargin": true,
           "gridcolor": "white",
           "linecolor": "white",
           "ticks": "",
           "title": {
            "standoff": 15
           },
           "zerolinecolor": "white",
           "zerolinewidth": 2
          }
         }
        },
        "xaxis": {
         "anchor": "y",
         "domain": [
          0,
          0.2888888888888889
         ],
         "title": {
          "text": "Year"
         }
        },
        "xaxis2": {
         "anchor": "y2",
         "domain": [
          0.35555555555555557,
          0.6444444444444445
         ],
         "title": {
          "text": "Year"
         }
        },
        "xaxis3": {
         "anchor": "y3",
         "domain": [
          0.7111111111111111,
          1
         ],
         "title": {
          "text": "Year"
         }
        },
        "yaxis": {
         "anchor": "x",
         "domain": [
          0,
          1
         ],
         "range": [
          0,
          5.1
         ],
         "title": {
          "text": "Production (Mt of H2)"
         }
        },
        "yaxis2": {
         "anchor": "x2",
         "domain": [
          0,
          1
         ],
         "matches": "y",
         "range": [
          0,
          5.1
         ],
         "showticklabels": false
        },
        "yaxis3": {
         "anchor": "x3",
         "domain": [
          0,
          1
         ],
         "matches": "y",
         "range": [
          0,
          5.1
         ],
         "showticklabels": false
        }
       }
      },
      "text/html": [
       "<div>                            <div id=\"9729429d-7d4f-4ce7-b734-5107300b6c7b\" class=\"plotly-graph-div\" style=\"height:525px; width:100%;\"></div>            <script type=\"text/javascript\">                require([\"plotly\"], function(Plotly) {                    window.PLOTLYENV=window.PLOTLYENV || {};                                    if (document.getElementById(\"9729429d-7d4f-4ce7-b734-5107300b6c7b\")) {                    Plotly.newPlot(                        \"9729429d-7d4f-4ce7-b734-5107300b6c7b\",                        [{\"fillcolor\":\"green\",\"hoverinfo\":\"x+y\",\"line\":{\"color\":\"green\",\"width\":0},\"mode\":\"lines\",\"name\":\"Electrolyser\",\"showlegend\":true,\"stackgroup\":\"one\",\"type\":\"scatter\",\"x\":[2015,2016,2017,2018,2019,2020,2021,2022,2023,2024,2025,2026,2027,2028,2029,2030,2031,2032,2033,2034,2035,2036,2037,2038,2039,2040,2041,2042,2043,2044,2045,2046,2047,2048,2049,2050],\"xaxis\":\"x\",\"y\":[0.03197248766820743,0.0,0.0,0.0,0.0,0.0,0.0,0.0,0.0,0.0,0.0,0.0,0.0,0.0,0.0,0.102,0.02466278971962618,0.02550000000000003,0.0255,0.0255,0.23624751969093655,0.2176385592503896,0.19079418253650235,0.26449322913436524,0.25537375984546823,0.3053737598454682,0.35537375984546826,0.40537375984546825,0.7186241656760813,1.1365754929350091,1.1150013103985068,1.195355133196073,1.4642973813074962,1.3192363265151432,1.341554192157082,1.3673767679640674],\"yaxis\":\"y\"},{\"fillcolor\":\"black\",\"hoverinfo\":\"x+y\",\"line\":{\"color\":\"black\",\"width\":0},\"mode\":\"lines\",\"name\":\"SMR\",\"showlegend\":true,\"stackgroup\":\"one\",\"type\":\"scatter\",\"x\":[2015,2016,2017,2018,2019,2020,2021,2022,2023,2024,2025,2026,2027,2028,2029,2030,2031,2032,2033,2034,2035,2036,2037,2038,2039,2040,2041,2042,2043,2044,2045,2046,2047,2048,2049,2050],\"xaxis\":\"x\",\"y\":[0.7646755466195316,0.7646755466195316,0.7574755466195316,0.7502755466195317,0.7430755466195317,0.7358755466195317,0.7282299552216822,0.7205843638238327,0.7129387724259832,0.7052931810281338,0.5376647129179555,0.4637747024364731,0.44442014786146694,0.42506559328646065,0.4057110387114544,0.43291313405105747,0.41521535366959944,0.3975175732881418,0.379819792906684,0.36169822525555645,0.6890815419966707,1.139827036840167,1.1317233428377471,1.122612779976036,1.1186936558762963,1.0877093448531774,1.0962205493066708,1.1059659623596825,1.1029333766159364,1.1234304656137262,1.2246814965162507,1.3409936295107134,1.401529125360072,1.4368691555966029,1.4375837078961182,1.4973123919343534],\"yaxis\":\"y\"},{\"fillcolor\":\"firebrick\",\"hoverinfo\":\"x+y\",\"line\":{\"color\":\"firebrick\",\"width\":0},\"mode\":\"lines\",\"name\":\"Gasification\",\"showlegend\":true,\"stackgroup\":\"one\",\"type\":\"scatter\",\"x\":[2015,2016,2017,2018,2019,2020,2021,2022,2023,2024,2025,2026,2027,2028,2029,2030,2031,2032,2033,2034,2035,2036,2037,2038,2039,2040,2041,2042,2043,2044,2045,2046,2047,2048,2049,2050],\"xaxis\":\"x\",\"y\":[0.0,0.0,0.0,0.0,0.0,0.0,0.0,0.0,0.0,0.0,0.02533351409978308,0.03594579682221408,0.03817820022318244,0.040410603624150825,0.04264300702511921,0.04487541042608757,0.04710781382705596,0.049340217228024334,0.05157262062899271,0.053872131341644154,0.06316589358932873,0.024999999999999984,0.0,0.0,0.0,-5.048709793414475e-35,-5.872774021198672e-60,-1.7936620347794864e-49,-3.404434290109383e-58,-2.2838565637994834e-59,-2.936387010599336e-60,-1.866029362115156e-31,5.882328425788474e-60,-5.872774021198672e-60,8.917444283815772e-61,1.8923382957195721e-59],\"yaxis\":\"y\"},{\"fillcolor\":\"turquoise\",\"hoverinfo\":\"x+y\",\"line\":{\"color\":\"turquoise\",\"width\":0},\"mode\":\"lines\",\"name\":\"Pyrolysis\",\"showlegend\":true,\"stackgroup\":\"one\",\"type\":\"scatter\",\"x\":[2015,2016,2017,2018,2019,2020,2021,2022,2023,2024,2025,2026,2027,2028,2029,2030,2031,2032,2033,2034,2035,2036,2037,2038,2039,2040,2041,2042,2043,2044,2045,2046,2047,2048,2049,2050],\"xaxis\":\"x\",\"y\":[0.0,0.0,0.0,0.0,0.0,0.0,0.0,0.0,0.0,0.0,0.0,0.0,0.0,0.0,0.0,0.0,0.0,0.0,0.0,0.0,0.0,0.0,0.0,0.0,0.0,-2.628653314917282e-17,-1.3972120797089697e-17,2.2581618980171836e-18,-6.890721518206441e-58,8.143579976062158e-58,-6.462348535570528e-33,2.968590706586836e-18,2.9685907065868266e-18,1.4825135321095918e-18,-2.7605073753267845e-60,-5.3058352252067836e-18],\"yaxis\":\"y\"},{\"fillcolor\":\"beige\",\"hoverinfo\":\"x+y\",\"line\":{\"color\":\"beige\",\"width\":0},\"mode\":\"lines\",\"name\":\"Naphta cracking\",\"showlegend\":true,\"stackgroup\":\"one\",\"type\":\"scatter\",\"x\":[2015,2016,2017,2018,2019,2020,2021,2022,2023,2024,2025,2026,2027,2028,2029,2030,2031,2032,2033,2034,2035,2036,2037,2038,2039,2040,2041,2042,2043,2044,2045,2046,2047,2048,2049,2050],\"xaxis\":\"x\",\"y\":[0.43107096774193543,0.43107096774193543,0.43107096774193543,0.43107096774193543,0.43107096774193543,0.43107096774193543,0.4253233548387097,0.41957574193548386,0.413828129032258,0.40808051612903223,0.4023329032258064,0.39658529032258066,0.3908376774193548,0.38509006451612904,0.37934245161290325,0.3735948387096774,0.3678472258064516,0.3620996129032258,0.356352,0.35060438709677416,0.2932438709677419,0.2557446841127905,0.2162792952167622,0.18752846236500623,0.16809205919584766,0.14854841903659954,0.12904436592192672,0.12232891360008033,0.10932947196254605,0.10434650125487742,0.09741303689903802,0.09013457197874619,0.08477592414726823,0.079942830599729,0.07657600027562433,0.07371200811162036],\"yaxis\":\"y\"},{\"fillcolor\":\"green\",\"hoverinfo\":\"x+y\",\"line\":{\"color\":\"green\",\"width\":0},\"mode\":\"lines\",\"name\":\"Electrolyser\",\"showlegend\":false,\"stackgroup\":\"one\",\"type\":\"scatter\",\"x\":[2015,2016,2017,2018,2019,2020,2021,2022,2023,2024,2025,2026,2027,2028,2029,2030,2031,2032,2033,2034,2035,2036,2037,2038,2039,2040,2041,2042,2043,2044,2045,2046,2047,2048,2049,2050],\"xaxis\":\"x2\",\"y\":[0.025908144059541272,0.0,0.0,0.0,0.0,0.0,0.0,0.0,0.0,0.0,0.0,0.0,0.0,0.0,0.0,0.102,0.0,0.025499999999999995,0.0255,0.0255,0.4255,0.661105752400523,1.0440451018796852,1.5079788653205453,1.8395617268096847,1.9395617268096845,2.1960569603658677,2.5091536468123405,2.610172141435996,2.6874113305030534,2.4211568279992326,2.321984729512888,2.211403019601356,2.040468910760812,1.9525624735413452,2.268926098023331],\"yaxis\":\"y2\"},{\"fillcolor\":\"black\",\"hoverinfo\":\"x+y\",\"line\":{\"color\":\"black\",\"width\":0},\"mode\":\"lines\",\"name\":\"SMR\",\"showlegend\":false,\"stackgroup\":\"one\",\"type\":\"scatter\",\"x\":[2015,2016,2017,2018,2019,2020,2021,2022,2023,2024,2025,2026,2027,2028,2029,2030,2031,2032,2033,2034,2035,2036,2037,2038,2039,2040,2041,2042,2043,2044,2045,2046,2047,2048,2049,2050],\"xaxis\":\"x2\",\"y\":[0.7646755466195316,0.7646755466195316,0.7574755466195316,0.7502755466195317,0.7430755466195317,0.7358755466195317,0.7282299552216822,0.7205843638238327,0.7129387724259832,0.7052931810281338,0.5376647129179556,0.4637747024364731,0.44442014786146694,0.42506559328646065,0.4057110387114544,1.2964654097752715,1.2787676293938135,1.2610698490123557,1.2433720686308978,1.2081605457376705,1.4655668429759217,1.8110443077881235,1.8515431742721304,1.8357261868926336,1.8213348240653118,1.8018781357351956,1.8008196046136664,1.826032075995452,1.8571101236532674,1.896150696923188,1.8663968296134459,1.350868291972178,1.1016309150838524,1.1387561005043723,1.1794162858606612,1.1767166333311212],\"yaxis\":\"y2\"},{\"fillcolor\":\"firebrick\",\"hoverinfo\":\"x+y\",\"line\":{\"color\":\"firebrick\",\"width\":0},\"mode\":\"lines\",\"name\":\"Gasification\",\"showlegend\":false,\"stackgroup\":\"one\",\"type\":\"scatter\",\"x\":[2015,2016,2017,2018,2019,2020,2021,2022,2023,2024,2025,2026,2027,2028,2029,2030,2031,2032,2033,2034,2035,2036,2037,2038,2039,2040,2041,2042,2043,2044,2045,2046,2047,2048,2049,2050],\"xaxis\":\"x2\",\"y\":[0.0,0.0,0.0,0.0,0.0,0.0,0.0,0.0,0.0,0.0,0.02533351409978308,0.03594579682221407,0.03817820022318244,0.040410603624150825,0.042643007025119216,0.04487541042608758,0.04710781382705596,0.049340217228024334,0.05157262062899271,0.05380542852168752,0.019206046273320024,0.0,0.0,0.0,0.0,0.0,0.0,0.0,0.0,0.0,0.0,0.0,0.0,0.0,0.0,0.0],\"yaxis\":\"y2\"},{\"fillcolor\":\"turquoise\",\"hoverinfo\":\"x+y\",\"line\":{\"color\":\"turquoise\",\"width\":0},\"mode\":\"lines\",\"name\":\"Pyrolysis\",\"showlegend\":false,\"stackgroup\":\"one\",\"type\":\"scatter\",\"x\":[2015,2016,2017,2018,2019,2020,2021,2022,2023,2024,2025,2026,2027,2028,2029,2030,2031,2032,2033,2034,2035,2036,2037,2038,2039,2040,2041,2042,2043,2044,2045,2046,2047,2048,2049,2050],\"xaxis\":\"x2\",\"y\":[0.0,0.0,0.0,0.0,0.0,0.0,0.0,0.0,0.0,0.0,0.0,0.0,0.0,0.0,0.0,0.0,0.0,0.0,0.0,0.0,0.0,0.09210662487730968,0.24840285405875195,0.30940662487730985,0.316769890051688,0.31676989005168793,0.34198655160777786,0.34198655160777797,0.34198655160777786,0.3419865516077779,0.4052332600748909,0.7836417167345103,0.9700558316620038,0.966455831662004,0.9628558316620038,0.9628558316620038],\"yaxis\":\"y2\"},{\"fillcolor\":\"beige\",\"hoverinfo\":\"x+y\",\"line\":{\"color\":\"beige\",\"width\":0},\"mode\":\"lines\",\"name\":\"Naphta cracking\",\"showlegend\":false,\"stackgroup\":\"one\",\"type\":\"scatter\",\"x\":[2015,2016,2017,2018,2019,2020,2021,2022,2023,2024,2025,2026,2027,2028,2029,2030,2031,2032,2033,2034,2035,2036,2037,2038,2039,2040,2041,2042,2043,2044,2045,2046,2047,2048,2049,2050],\"xaxis\":\"x2\",\"y\":[0.43107096774193543,0.43107096774193543,0.43107096774193543,0.43107096774193543,0.43107096774193543,0.43107096774193543,0.4253233548387097,0.41957574193548386,0.413828129032258,0.40808051612903223,0.4023329032258064,0.39658529032258066,0.3908376774193548,0.38509006451612904,0.37934245161290325,0.3735948387096774,0.3678472258064516,0.3620996129032258,0.356352,0.35060438709677416,0.2932438709677419,0.2532694297309736,0.20894289915950612,0.17912223058927695,0.15932096066320892,0.1428349478678235,0.12558312077897404,0.11564293114592539,0.1034558424926712,0.09793551386652517,0.09320909354391271,0.08855469854434307,0.0836920861762127,0.07960445447601817,0.07683703573359227,0.06474554324168232],\"yaxis\":\"y2\"},{\"fillcolor\":\"green\",\"hoverinfo\":\"x+y\",\"line\":{\"color\":\"green\",\"width\":0},\"mode\":\"lines\",\"name\":\"Electrolyser\",\"showlegend\":false,\"stackgroup\":\"one\",\"type\":\"scatter\",\"x\":[2015,2016,2017,2018,2019,2020,2021,2022,2023,2024,2025,2026,2027,2028,2029,2030,2031,2032,2033,2034,2035,2036,2037,2038,2039,2040,2041,2042,2043,2044,2045,2046,2047,2048,2049,2050],\"xaxis\":\"x3\",\"y\":[0.0,0.0,0.0,0.0,0.0,-7.275957614183426e-18,0.0,0.0,0.0,0.0,0.0,0.0,0.0,0.0,0.0,0.10200000000000001,-2.461211877949286e-17,0.02550000000000004,0.0255,0.047414582377721545,0.4662691647554431,0.7171907782003475,1.1001301276795097,1.565819911443677,1.8974027729328162,1.9974027729328163,2.2034150665396957,2.5280785445583054,2.6283734695918315,2.6919017706980055,2.4359549594971206,2.3599007049984904,2.25508617872407,2.080212425956605,2.135812311762778,2.423050490410533],\"yaxis\":\"y3\"},{\"fillcolor\":\"black\",\"hoverinfo\":\"x+y\",\"line\":{\"color\":\"black\",\"width\":0},\"mode\":\"lines\",\"name\":\"SMR\",\"showlegend\":false,\"stackgroup\":\"one\",\"type\":\"scatter\",\"x\":[2015,2016,2017,2018,2019,2020,2021,2022,2023,2024,2025,2026,2027,2028,2029,2030,2031,2032,2033,2034,2035,2036,2037,2038,2039,2040,2041,2042,2043,2044,2045,2046,2047,2048,2049,2050],\"xaxis\":\"x3\",\"y\":[0.9784928730086591,0.7646755466195316,0.7574755466195316,0.7502755466195317,0.7430755466195317,0.7358755466195317,0.7282299552216822,0.7205843638238327,0.7129387724259832,0.7052931810281338,0.5376647129179556,0.4637747024364731,0.44442014786146694,0.42506559328646065,0.4057110387114544,1.2885695046986176,1.2708717243171597,1.2531739439357017,1.235476163554244,1.1953738636351647,1.3662356699854825,1.793561427460578,1.834157096533054,1.8235998810448042,1.8001459002258517,1.7896305311145415,1.7885719999930123,1.8139999443555406,1.8450779920133558,1.8668614365575265,1.8196136859931957,1.4724383635336373,1.379306597206368,1.4802240621086038,1.5476570752333194,1.536535587223921],\"yaxis\":\"y3\"},{\"fillcolor\":\"firebrick\",\"hoverinfo\":\"x+y\",\"line\":{\"color\":\"firebrick\",\"width\":0},\"mode\":\"lines\",\"name\":\"Gasification\",\"showlegend\":false,\"stackgroup\":\"one\",\"type\":\"scatter\",\"x\":[2015,2016,2017,2018,2019,2020,2021,2022,2023,2024,2025,2026,2027,2028,2029,2030,2031,2032,2033,2034,2035,2036,2037,2038,2039,2040,2041,2042,2043,2044,2045,2046,2047,2048,2049,2050],\"xaxis\":\"x3\",\"y\":[0.0,0.0,0.0,0.0,0.0,0.0,0.0,0.0,0.0,0.0,0.02533351409978308,0.03594579682221407,0.03817820022318244,0.040410603624150825,0.04264300702511921,0.04487541042608758,0.04710781382705596,0.049340217228024334,0.05157262062899271,0.05735281128862999,0.03701313869582662,0.01045249577828506,0.0,0.0,0.0,-2.596844319745664e-32,-7.177834914798377e-60,4.441672419931745e-34,-4.33661324593652e-61,7.748799055748247e-61,-2.235139052896271e-61,1.6925008463871173e-60,7.544883291123294e-61,6.117472938748616e-61,8.156630584998155e-62,3.4723642110834806e-61],\"yaxis\":\"y3\"},{\"fillcolor\":\"turquoise\",\"hoverinfo\":\"x+y\",\"line\":{\"color\":\"turquoise\",\"width\":0},\"mode\":\"lines\",\"name\":\"Pyrolysis\",\"showlegend\":false,\"stackgroup\":\"one\",\"type\":\"scatter\",\"x\":[2015,2016,2017,2018,2019,2020,2021,2022,2023,2024,2025,2026,2027,2028,2029,2030,2031,2032,2033,2034,2035,2036,2037,2038,2039,2040,2041,2042,2043,2044,2045,2046,2047,2048,2049,2050],\"xaxis\":\"x3\",\"y\":[0.0,0.0,0.0,0.0,0.0,0.0,0.0,0.0,0.0,0.0,0.0,0.0,0.0,0.0,0.0,0.0,0.0,0.0,0.0,0.0,0.0,0.10000000000000003,0.22954760462065374,0.34334813158311034,0.36392492741287974,0.36392492741287985,0.38914158896896983,0.3891415889689697,0.3891415889689697,0.38914158896896983,0.4635947385061467,0.7341574780409075,0.820571592968401,0.8169715929684012,0.813371592968401,0.813371592968401],\"yaxis\":\"y3\"},{\"fillcolor\":\"beige\",\"hoverinfo\":\"x+y\",\"line\":{\"color\":\"beige\",\"width\":0},\"mode\":\"lines\",\"name\":\"Naphta cracking\",\"showlegend\":false,\"stackgroup\":\"one\",\"type\":\"scatter\",\"x\":[2015,2016,2017,2018,2019,2020,2021,2022,2023,2024,2025,2026,2027,2028,2029,2030,2031,2032,2033,2034,2035,2036,2037,2038,2039,2040,2041,2042,2043,2044,2045,2046,2047,2048,2049,2050],\"xaxis\":\"x3\",\"y\":[0.43107096774193543,0.43107096774193543,0.43107096774193543,0.43107096774193543,0.43107096774193543,0.43107096774193543,0.4253233548387097,0.41957574193548386,0.413828129032258,0.40808051612903223,0.4023329032258064,0.39658529032258066,0.3908376774193548,0.38509006451612904,0.37934245161290325,0.3735948387096774,0.3678472258064516,0.3620996129032258,0.356352,0.35060438709677416,0.2932438709677419,0.2532694297309736,0.21106020421471122,0.18120145483116437,0.16141871880456896,0.1449144201770204,0.12769327766765887,0.1178091324270415,0.10565272835327523,0.10016308430661713,0.0940848202781968,0.0882549845560608,0.07988215269301668,0.07066888081592439,0.06023359042704259,0.04055875326588233],\"yaxis\":\"y3\"}],                        {\"annotations\":[{\"font\":{\"size\":24},\"showarrow\":false,\"text\":\"High electricity price\",\"x\":0.14444444444444446,\"xanchor\":\"center\",\"xref\":\"paper\",\"y\":1.0,\"yanchor\":\"bottom\",\"yref\":\"paper\"},{\"font\":{\"size\":24},\"showarrow\":false,\"text\":\"Reference\",\"x\":0.5,\"xanchor\":\"center\",\"xref\":\"paper\",\"y\":1.0,\"yanchor\":\"bottom\",\"yref\":\"paper\"},{\"font\":{\"size\":24},\"showarrow\":false,\"text\":\"Fossil phase-out\",\"x\":0.8555555555555556,\"xanchor\":\"center\",\"xref\":\"paper\",\"y\":1.0,\"yanchor\":\"bottom\",\"yref\":\"paper\"}],\"font\":{\"family\":\"Times New Roman\",\"size\":24},\"legend\":{\"font\":{\"size\":20},\"orientation\":\"h\",\"x\":0.9,\"xanchor\":\"right\",\"y\":1.1,\"yanchor\":\"bottom\"},\"template\":{\"data\":{\"bar\":[{\"error_x\":{\"color\":\"#2a3f5f\"},\"error_y\":{\"color\":\"#2a3f5f\"},\"marker\":{\"line\":{\"color\":\"#E5ECF6\",\"width\":0.5},\"pattern\":{\"fillmode\":\"overlay\",\"size\":10,\"solidity\":0.2}},\"type\":\"bar\"}],\"barpolar\":[{\"marker\":{\"line\":{\"color\":\"#E5ECF6\",\"width\":0.5},\"pattern\":{\"fillmode\":\"overlay\",\"size\":10,\"solidity\":0.2}},\"type\":\"barpolar\"}],\"carpet\":[{\"aaxis\":{\"endlinecolor\":\"#2a3f5f\",\"gridcolor\":\"white\",\"linecolor\":\"white\",\"minorgridcolor\":\"white\",\"startlinecolor\":\"#2a3f5f\"},\"baxis\":{\"endlinecolor\":\"#2a3f5f\",\"gridcolor\":\"white\",\"linecolor\":\"white\",\"minorgridcolor\":\"white\",\"startlinecolor\":\"#2a3f5f\"},\"type\":\"carpet\"}],\"choropleth\":[{\"colorbar\":{\"outlinewidth\":0,\"ticks\":\"\"},\"type\":\"choropleth\"}],\"contour\":[{\"colorbar\":{\"outlinewidth\":0,\"ticks\":\"\"},\"colorscale\":[[0.0,\"#0d0887\"],[0.1111111111111111,\"#46039f\"],[0.2222222222222222,\"#7201a8\"],[0.3333333333333333,\"#9c179e\"],[0.4444444444444444,\"#bd3786\"],[0.5555555555555556,\"#d8576b\"],[0.6666666666666666,\"#ed7953\"],[0.7777777777777778,\"#fb9f3a\"],[0.8888888888888888,\"#fdca26\"],[1.0,\"#f0f921\"]],\"type\":\"contour\"}],\"contourcarpet\":[{\"colorbar\":{\"outlinewidth\":0,\"ticks\":\"\"},\"type\":\"contourcarpet\"}],\"heatmap\":[{\"colorbar\":{\"outlinewidth\":0,\"ticks\":\"\"},\"colorscale\":[[0.0,\"#0d0887\"],[0.1111111111111111,\"#46039f\"],[0.2222222222222222,\"#7201a8\"],[0.3333333333333333,\"#9c179e\"],[0.4444444444444444,\"#bd3786\"],[0.5555555555555556,\"#d8576b\"],[0.6666666666666666,\"#ed7953\"],[0.7777777777777778,\"#fb9f3a\"],[0.8888888888888888,\"#fdca26\"],[1.0,\"#f0f921\"]],\"type\":\"heatmap\"}],\"heatmapgl\":[{\"colorbar\":{\"outlinewidth\":0,\"ticks\":\"\"},\"colorscale\":[[0.0,\"#0d0887\"],[0.1111111111111111,\"#46039f\"],[0.2222222222222222,\"#7201a8\"],[0.3333333333333333,\"#9c179e\"],[0.4444444444444444,\"#bd3786\"],[0.5555555555555556,\"#d8576b\"],[0.6666666666666666,\"#ed7953\"],[0.7777777777777778,\"#fb9f3a\"],[0.8888888888888888,\"#fdca26\"],[1.0,\"#f0f921\"]],\"type\":\"heatmapgl\"}],\"histogram\":[{\"marker\":{\"pattern\":{\"fillmode\":\"overlay\",\"size\":10,\"solidity\":0.2}},\"type\":\"histogram\"}],\"histogram2d\":[{\"colorbar\":{\"outlinewidth\":0,\"ticks\":\"\"},\"colorscale\":[[0.0,\"#0d0887\"],[0.1111111111111111,\"#46039f\"],[0.2222222222222222,\"#7201a8\"],[0.3333333333333333,\"#9c179e\"],[0.4444444444444444,\"#bd3786\"],[0.5555555555555556,\"#d8576b\"],[0.6666666666666666,\"#ed7953\"],[0.7777777777777778,\"#fb9f3a\"],[0.8888888888888888,\"#fdca26\"],[1.0,\"#f0f921\"]],\"type\":\"histogram2d\"}],\"histogram2dcontour\":[{\"colorbar\":{\"outlinewidth\":0,\"ticks\":\"\"},\"colorscale\":[[0.0,\"#0d0887\"],[0.1111111111111111,\"#46039f\"],[0.2222222222222222,\"#7201a8\"],[0.3333333333333333,\"#9c179e\"],[0.4444444444444444,\"#bd3786\"],[0.5555555555555556,\"#d8576b\"],[0.6666666666666666,\"#ed7953\"],[0.7777777777777778,\"#fb9f3a\"],[0.8888888888888888,\"#fdca26\"],[1.0,\"#f0f921\"]],\"type\":\"histogram2dcontour\"}],\"mesh3d\":[{\"colorbar\":{\"outlinewidth\":0,\"ticks\":\"\"},\"type\":\"mesh3d\"}],\"parcoords\":[{\"line\":{\"colorbar\":{\"outlinewidth\":0,\"ticks\":\"\"}},\"type\":\"parcoords\"}],\"pie\":[{\"automargin\":true,\"type\":\"pie\"}],\"scatter\":[{\"marker\":{\"colorbar\":{\"outlinewidth\":0,\"ticks\":\"\"}},\"type\":\"scatter\"}],\"scatter3d\":[{\"line\":{\"colorbar\":{\"outlinewidth\":0,\"ticks\":\"\"}},\"marker\":{\"colorbar\":{\"outlinewidth\":0,\"ticks\":\"\"}},\"type\":\"scatter3d\"}],\"scattercarpet\":[{\"marker\":{\"colorbar\":{\"outlinewidth\":0,\"ticks\":\"\"}},\"type\":\"scattercarpet\"}],\"scattergeo\":[{\"marker\":{\"colorbar\":{\"outlinewidth\":0,\"ticks\":\"\"}},\"type\":\"scattergeo\"}],\"scattergl\":[{\"marker\":{\"colorbar\":{\"outlinewidth\":0,\"ticks\":\"\"}},\"type\":\"scattergl\"}],\"scattermapbox\":[{\"marker\":{\"colorbar\":{\"outlinewidth\":0,\"ticks\":\"\"}},\"type\":\"scattermapbox\"}],\"scatterpolar\":[{\"marker\":{\"colorbar\":{\"outlinewidth\":0,\"ticks\":\"\"}},\"type\":\"scatterpolar\"}],\"scatterpolargl\":[{\"marker\":{\"colorbar\":{\"outlinewidth\":0,\"ticks\":\"\"}},\"type\":\"scatterpolargl\"}],\"scatterternary\":[{\"marker\":{\"colorbar\":{\"outlinewidth\":0,\"ticks\":\"\"}},\"type\":\"scatterternary\"}],\"surface\":[{\"colorbar\":{\"outlinewidth\":0,\"ticks\":\"\"},\"colorscale\":[[0.0,\"#0d0887\"],[0.1111111111111111,\"#46039f\"],[0.2222222222222222,\"#7201a8\"],[0.3333333333333333,\"#9c179e\"],[0.4444444444444444,\"#bd3786\"],[0.5555555555555556,\"#d8576b\"],[0.6666666666666666,\"#ed7953\"],[0.7777777777777778,\"#fb9f3a\"],[0.8888888888888888,\"#fdca26\"],[1.0,\"#f0f921\"]],\"type\":\"surface\"}],\"table\":[{\"cells\":{\"fill\":{\"color\":\"#EBF0F8\"},\"line\":{\"color\":\"white\"}},\"header\":{\"fill\":{\"color\":\"#C8D4E3\"},\"line\":{\"color\":\"white\"}},\"type\":\"table\"}]},\"layout\":{\"annotationdefaults\":{\"arrowcolor\":\"#2a3f5f\",\"arrowhead\":0,\"arrowwidth\":1},\"autotypenumbers\":\"strict\",\"coloraxis\":{\"colorbar\":{\"outlinewidth\":0,\"ticks\":\"\"}},\"colorscale\":{\"diverging\":[[0,\"#8e0152\"],[0.1,\"#c51b7d\"],[0.2,\"#de77ae\"],[0.3,\"#f1b6da\"],[0.4,\"#fde0ef\"],[0.5,\"#f7f7f7\"],[0.6,\"#e6f5d0\"],[0.7,\"#b8e186\"],[0.8,\"#7fbc41\"],[0.9,\"#4d9221\"],[1,\"#276419\"]],\"sequential\":[[0.0,\"#0d0887\"],[0.1111111111111111,\"#46039f\"],[0.2222222222222222,\"#7201a8\"],[0.3333333333333333,\"#9c179e\"],[0.4444444444444444,\"#bd3786\"],[0.5555555555555556,\"#d8576b\"],[0.6666666666666666,\"#ed7953\"],[0.7777777777777778,\"#fb9f3a\"],[0.8888888888888888,\"#fdca26\"],[1.0,\"#f0f921\"]],\"sequentialminus\":[[0.0,\"#0d0887\"],[0.1111111111111111,\"#46039f\"],[0.2222222222222222,\"#7201a8\"],[0.3333333333333333,\"#9c179e\"],[0.4444444444444444,\"#bd3786\"],[0.5555555555555556,\"#d8576b\"],[0.6666666666666666,\"#ed7953\"],[0.7777777777777778,\"#fb9f3a\"],[0.8888888888888888,\"#fdca26\"],[1.0,\"#f0f921\"]]},\"colorway\":[\"#636efa\",\"#EF553B\",\"#00cc96\",\"#ab63fa\",\"#FFA15A\",\"#19d3f3\",\"#FF6692\",\"#B6E880\",\"#FF97FF\",\"#FECB52\"],\"font\":{\"color\":\"#2a3f5f\"},\"geo\":{\"bgcolor\":\"white\",\"lakecolor\":\"white\",\"landcolor\":\"#E5ECF6\",\"showlakes\":true,\"showland\":true,\"subunitcolor\":\"white\"},\"hoverlabel\":{\"align\":\"left\"},\"hovermode\":\"closest\",\"mapbox\":{\"style\":\"light\"},\"paper_bgcolor\":\"white\",\"plot_bgcolor\":\"#E5ECF6\",\"polar\":{\"angularaxis\":{\"gridcolor\":\"white\",\"linecolor\":\"white\",\"ticks\":\"\"},\"bgcolor\":\"#E5ECF6\",\"radialaxis\":{\"gridcolor\":\"white\",\"linecolor\":\"white\",\"ticks\":\"\"}},\"scene\":{\"xaxis\":{\"backgroundcolor\":\"#E5ECF6\",\"gridcolor\":\"white\",\"gridwidth\":2,\"linecolor\":\"white\",\"showbackground\":true,\"ticks\":\"\",\"zerolinecolor\":\"white\"},\"yaxis\":{\"backgroundcolor\":\"#E5ECF6\",\"gridcolor\":\"white\",\"gridwidth\":2,\"linecolor\":\"white\",\"showbackground\":true,\"ticks\":\"\",\"zerolinecolor\":\"white\"},\"zaxis\":{\"backgroundcolor\":\"#E5ECF6\",\"gridcolor\":\"white\",\"gridwidth\":2,\"linecolor\":\"white\",\"showbackground\":true,\"ticks\":\"\",\"zerolinecolor\":\"white\"}},\"shapedefaults\":{\"line\":{\"color\":\"#2a3f5f\"}},\"ternary\":{\"aaxis\":{\"gridcolor\":\"white\",\"linecolor\":\"white\",\"ticks\":\"\"},\"baxis\":{\"gridcolor\":\"white\",\"linecolor\":\"white\",\"ticks\":\"\"},\"bgcolor\":\"#E5ECF6\",\"caxis\":{\"gridcolor\":\"white\",\"linecolor\":\"white\",\"ticks\":\"\"}},\"title\":{\"x\":0.05},\"xaxis\":{\"automargin\":true,\"gridcolor\":\"white\",\"linecolor\":\"white\",\"ticks\":\"\",\"title\":{\"standoff\":15},\"zerolinecolor\":\"white\",\"zerolinewidth\":2},\"yaxis\":{\"automargin\":true,\"gridcolor\":\"white\",\"linecolor\":\"white\",\"ticks\":\"\",\"title\":{\"standoff\":15},\"zerolinecolor\":\"white\",\"zerolinewidth\":2}}},\"xaxis\":{\"anchor\":\"y\",\"domain\":[0.0,0.2888888888888889],\"title\":{\"text\":\"Year\"}},\"xaxis2\":{\"anchor\":\"y2\",\"domain\":[0.35555555555555557,0.6444444444444445],\"title\":{\"text\":\"Year\"}},\"xaxis3\":{\"anchor\":\"y3\",\"domain\":[0.7111111111111111,1.0],\"title\":{\"text\":\"Year\"}},\"yaxis\":{\"anchor\":\"x\",\"domain\":[0.0,1.0],\"range\":[0,5.1],\"title\":{\"text\":\"Production (Mt of H2)\"}},\"yaxis2\":{\"anchor\":\"x2\",\"domain\":[0.0,1.0],\"matches\":\"y\",\"range\":[0,5.1],\"showticklabels\":false},\"yaxis3\":{\"anchor\":\"x3\",\"domain\":[0.0,1.0],\"matches\":\"y\",\"range\":[0,5.1],\"showticklabels\":false}},                        {\"responsive\": true}                    ).then(function(){\n",
       "                            \n",
       "var gd = document.getElementById('9729429d-7d4f-4ce7-b734-5107300b6c7b');\n",
       "var x = new MutationObserver(function (mutations, observer) {{\n",
       "        var display = window.getComputedStyle(gd).display;\n",
       "        if (!display || display === 'none') {{\n",
       "            console.log([gd, 'removed!']);\n",
       "            Plotly.purge(gd);\n",
       "            observer.disconnect();\n",
       "        }}\n",
       "}});\n",
       "\n",
       "// Listen for the removal of the full notebook cells\n",
       "var notebookContainer = gd.closest('#notebook-container');\n",
       "if (notebookContainer) {{\n",
       "    x.observe(notebookContainer, {childList: true});\n",
       "}}\n",
       "\n",
       "// Listen for the clearing of the current output cell\n",
       "var outputEl = gd.closest('.output');\n",
       "if (outputEl) {{\n",
       "    x.observe(outputEl, {childList: true});\n",
       "}}\n",
       "\n",
       "                        })                };                });            </script>        </div>"
      ]
     },
     "metadata": {},
     "output_type": "display_data"
    }
   ],
   "source": [
    "\n",
    "hydrogen_techs=[\"Electrolyser\",\"SMR\",\"SMR_noWGR\",\"SMR_eboiler_noWGR\",\n",
    "                       \"eSMR\",\"eSMR_noWGR\",\"eSMR_eboiler_noWGR\",\n",
    "                \"Gasification\",\"Gasification_noWGR\",\"Pyrolysis\",\"Naphta_cracking\",\"Naphta_cracking_electrified\"]\n",
    "hydrogen_techs_colors={\"Electrolyser\":\"green\",\"SMR\":\"black\",\"SMR_noWGR\":\"black\",\"SMR_eboiler_noWGR\":\"grey\",\n",
    "                       \"eSMR\":\"yellow\",\"eSMR_noWGR\":\"orange\",\"eSMR_eboiler_noWGR\":\"orange\",\n",
    "                \"Gasification\":\"firebrick\",\"Gasification_noWGR\":\"firebrick\",\"Pyrolysis\":\"turquoise\",\n",
    "                       \"Naphta_cracking\":\"beige\",\"Naphta_cracking_electrified\":\"beige\"}\n",
    "\n",
    "tech_name={\"Electrolyser\":\"Electrolyser\",\"SMR\":\"SMR\",\"SMR_noWGR\":\"SMR\",\"SMR_eboiler_noWGR\":\"SMR\",\n",
    "                       \"eSMR\":\"SMR\",\"eSMR_noWGR\":\"SMR\",\"eSMR_eboiler_noWGR\":\"SMR\",\n",
    "                \"Gasification\":\"Gasification\",\"Gasification_noWGR\":\"Gasification\",\"Pyrolysis\":\"Pyrolysis\",\n",
    "           \"Naphta_cracking\":\"Naphta cracking\",\"Naphta_cracking_electrified\":\"Naphta cracking\"}\n",
    "tech_name_list={\"Electrolyser\":[\"Electrolyser\"],\"SMR\":[\"SMR\",\"SMR_noWGR\",\"SMR_eboiler_noWGR\",\n",
    "                       \"eSMR\",\"eSMR_noWGR\",\"eSMR_eboiler_noWGR\"],\n",
    "                \"Gasification\":[\"Gasification\",\"Gasification_noWGR\"],\"Pyrolysis\":[\"Pyrolysis\"],\n",
    "           \"Naphta cracking\":[\"Naphta_cracking\",\"Naphta_cracking_electrified\"]}\n",
    "hydrogen_techs_name_colors={\"Electrolyser\":\"green\",\"SMR\":\"black\",\n",
    "                \"Gasification\":\"firebrick\",\"Pyrolysis\":\"turquoise\",\n",
    "                       \"Naphta cracking\":\"beige\"}\n",
    "\n",
    "fig =make_subplots(rows=1, cols=3,subplot_titles=list(scen.keys()),shared_yaxes=True)\n",
    "for i in range(len(scen.keys())):\n",
    "    showlegend=[True,False,False]\n",
    "    tech_usage_flow=scen[list(scen.keys())[i]]['tech_usage_flow']\n",
    "    tech_usage=tech_usage_flow[(tech_usage_flow.Resource.isin([\"Hydrogen\"]))]\n",
    "\n",
    "    hydrogen_tech_usage=tech_usage[tech_usage.Technology.isin(hydrogen_techs)]\n",
    "    for tech in tech_name_list.keys():\n",
    "        u=hydrogen_tech_usage[hydrogen_tech_usage.Technology.isin(tech_name_list[tech])]\n",
    "        u=u[[\"Year\",\"Flow\"]].groupby(by=[\"Year\"]).sum().reset_index()\n",
    "        fig.add_trace(go.Scatter(x=u.Year,y=u.Flow*1e-6,name=tech,line=dict(width=0,color=hydrogen_techs_name_colors[tech]),\n",
    "                                 fillcolor=hydrogen_techs_name_colors[tech],hoverinfo=\"x+y\",mode='lines',stackgroup='one',showlegend=showlegend[i]),row=1, col=i+1)\n",
    "\n",
    "    fig.update_xaxes(title_text=\"Year\", row=1, col=i+1)\n",
    "\n",
    "fig.update_layout(#title='Hydrogen production per technology in EU-5+1',  title_x=0.5,\n",
    "                   yaxis_title='Production (Mt of H2)')\n",
    "fig.update_layout(\n",
    "    font=dict(\n",
    "        family=\"Times New Roman\",size=24)\n",
    "    )\n",
    "fig.update_annotations(font_size=24)\n",
    "fig.update_layout(legend=dict(\n",
    "    orientation=\"h\",\n",
    "    yanchor=\"bottom\",\n",
    "    y=1.1,\n",
    "    xanchor=\"right\",\n",
    "    x=0.9,font = dict(size=20)\n",
    "))\n",
    "fig.update_yaxes(range=[0,5.1])\n",
    "fig.show()\n"
   ]
  },
  {
   "cell_type": "code",
   "execution_count": 245,
   "id": "33ba8cdf",
   "metadata": {
    "scrolled": false
   },
   "outputs": [
    {
     "data": {
      "application/vnd.plotly.v1+json": {
       "config": {
        "plotlyServerURL": "https://plot.ly"
       },
       "data": [
        {
         "fillcolor": "Black",
         "hoverinfo": "x+y",
         "line": {
          "color": "Black",
          "width": 0
         },
         "mode": "lines",
         "name": "BF-BOF",
         "showlegend": true,
         "stackgroup": "one",
         "type": "scatter",
         "x": [
          2015,
          2016,
          2017,
          2018,
          2019,
          2020,
          2021,
          2022,
          2023,
          2024,
          2025,
          2026,
          2027,
          2028,
          2029,
          2030,
          2031,
          2032,
          2033,
          2034,
          2035,
          2036,
          2037,
          2038,
          2039,
          2040,
          2041,
          2042,
          2043,
          2044,
          2045,
          2046,
          2047,
          2048,
          2049,
          2050
         ],
         "xaxis": "x",
         "y": [
          63.099999999999994,
          63.099999999999994,
          63.099999999999994,
          63.099999999999994,
          63.099999999999994,
          63.099999999999994,
          63.099999999999994,
          63.099999999999994,
          63.099999999999994,
          63.099999999999994,
          60.8,
          60.8,
          58.8,
          58.8,
          58.8,
          54.60644301401552,
          54.53144301401551,
          54.01182451178596,
          53.226824511785956,
          52.44182451178596,
          48.24433542613024,
          45.05933542613023,
          37.39433542613023,
          36.66933542613023,
          3.3360950264938083,
          3.221095026493808,
          3.1060950264938083,
          2.991095026493808,
          2.8760950264938083,
          2.817648877205108,
          2.7026488772051076,
          2.587648877205108,
          2.4160950264938084,
          2.301095026493808,
          2.186095026493808,
          0
         ],
         "yaxis": "y"
        },
        {
         "fillcolor": "brown",
         "hoverinfo": "x+y",
         "line": {
          "color": "brown",
          "width": 0
         },
         "mode": "lines",
         "name": "BF-BOF w/ Biomass",
         "showlegend": true,
         "stackgroup": "one",
         "type": "scatter",
         "x": [
          2015,
          2016,
          2017,
          2018,
          2019,
          2020,
          2021,
          2022,
          2023,
          2024,
          2025,
          2026,
          2027,
          2028,
          2029,
          2030,
          2031,
          2032,
          2033,
          2034,
          2035,
          2036,
          2037,
          2038,
          2039,
          2040,
          2041,
          2042,
          2043,
          2044,
          2045,
          2046,
          2047,
          2048,
          2049,
          2050
         ],
         "xaxis": "x",
         "y": [
          0,
          0,
          0,
          0,
          0,
          0,
          0,
          0,
          0,
          0,
          0,
          0,
          0,
          0,
          0,
          0,
          0,
          0,
          0,
          0,
          3.3289049735061917,
          5.728904973506191,
          12.608904973506188,
          12.54890497350619,
          44.205347987521705,
          43.5353479875217,
          43.525347987521705,
          43.525347987521705,
          43.20212648051395,
          42.59212648051394,
          41.98212648051394,
          41.37212648051394,
          40.76212648051394,
          39.698923866134855,
          37.60574014438445,
          32.11667777528239
         ],
         "yaxis": "y"
        },
        {
         "fillcolor": "turquoise",
         "hoverinfo": "x+y",
         "line": {
          "color": "turquoise",
          "width": 0
         },
         "mode": "lines",
         "name": "DRI-EAF-H2",
         "showlegend": true,
         "stackgroup": "one",
         "type": "scatter",
         "x": [
          2015,
          2016,
          2017,
          2018,
          2019,
          2020,
          2021,
          2022,
          2023,
          2024,
          2025,
          2026,
          2027,
          2028,
          2029,
          2030,
          2031,
          2032,
          2033,
          2034,
          2035,
          2036,
          2037,
          2038,
          2039,
          2040,
          2041,
          2042,
          2043,
          2044,
          2045,
          2046,
          2047,
          2048,
          2049,
          2050
         ],
         "xaxis": "x",
         "y": [
          0,
          0,
          0,
          0,
          0,
          0,
          0,
          0,
          0,
          0,
          0,
          0,
          0,
          0,
          0,
          2.9017596003635693,
          1.6671410981340136,
          1.4017596003635704,
          1.4017596003635704,
          1.4017596003635704,
          1.7025330996068881,
          4.7057649042116845,
          4.7057649042116845,
          5.177071816185584,
          6.068869201806498,
          6.068869201806498,
          7.696192882792655,
          7.026192882792655,
          6.679414389800413,
          6.575536858102955,
          6.515536858102957,
          6.455536858102955,
          6.452090708814255,
          6.845293323193341,
          8.26847704494375,
          15.15863444053962
         ],
         "yaxis": "y"
        },
        {
         "fillcolor": "purple",
         "hoverinfo": "x+y",
         "line": {
          "color": "purple",
          "width": 0
         },
         "mode": "lines",
         "name": "DRI-EAF-CH4",
         "showlegend": true,
         "stackgroup": "one",
         "type": "scatter",
         "x": [
          2015,
          2016,
          2017,
          2018,
          2019,
          2020,
          2021,
          2022,
          2023,
          2024,
          2025,
          2026,
          2027,
          2028,
          2029,
          2030,
          2031,
          2032,
          2033,
          2034,
          2035,
          2036,
          2037,
          2038,
          2039,
          2040,
          2041,
          2042,
          2043,
          2044,
          2045,
          2046,
          2047,
          2048,
          2049,
          2050
         ],
         "xaxis": "x",
         "y": [
          0,
          0,
          0,
          0,
          0,
          0,
          0,
          0,
          0,
          0,
          2.3,
          2.3,
          4.3,
          4.3,
          4.300000000000003,
          5.591797385620914,
          6.116415887850469,
          6.116415887850467,
          6.116415887850467,
          6.116415887850467,
          5.899226500756683,
          2.895994696151885,
          2.895994696151885,
          2.424687784177986,
          2.4246877841779866,
          2.4246877841779866,
          0.13736410319182868,
          0.1373641031918284,
          0.13736410319182862,
          0.12468778417798632,
          0.12468778417798632,
          0.1246877841779864,
          0.12468778417798647,
          0.12468778417798669,
          0.1246877841779864,
          0.12468778417798643
         ],
         "yaxis": "y"
        },
        {
         "fillcolor": "orange",
         "hoverinfo": "x+y",
         "line": {
          "color": "orange",
          "width": 0
         },
         "mode": "lines",
         "name": "Electrowinning",
         "showlegend": true,
         "stackgroup": "one",
         "type": "scatter",
         "x": [
          2015,
          2016,
          2017,
          2018,
          2019,
          2020,
          2021,
          2022,
          2023,
          2024,
          2025,
          2026,
          2027,
          2028,
          2029,
          2030,
          2031,
          2032,
          2033,
          2034,
          2035,
          2036,
          2037,
          2038,
          2039,
          2040,
          2041,
          2042,
          2043,
          2044,
          2045,
          2046,
          2047,
          2048,
          2049,
          2050
         ],
         "xaxis": "x",
         "y": [
          0,
          0,
          0,
          0,
          0,
          0,
          0,
          0,
          0,
          0,
          0,
          0,
          0,
          0,
          0,
          0,
          0,
          0,
          0,
          0,
          0,
          0,
          0,
          0,
          0,
          0,
          0,
          0,
          0,
          0,
          0,
          0,
          0,
          0,
          0,
          0
         ],
         "yaxis": "y"
        },
        {
         "fillcolor": "yellow",
         "hoverinfo": "x+y",
         "line": {
          "color": "yellow",
          "width": 0
         },
         "mode": "lines",
         "name": "EAF",
         "showlegend": true,
         "stackgroup": "one",
         "type": "scatter",
         "x": [
          2015,
          2016,
          2017,
          2018,
          2019,
          2020,
          2021,
          2022,
          2023,
          2024,
          2025,
          2026,
          2027,
          2028,
          2029,
          2030,
          2031,
          2032,
          2033,
          2034,
          2035,
          2036,
          2037,
          2038,
          2039,
          2040,
          2041,
          2042,
          2043,
          2044,
          2045,
          2046,
          2047,
          2048,
          2049,
          2050
         ],
         "xaxis": "x",
         "y": [
          49.4,
          49.4,
          49.4,
          49.4,
          49.4,
          49.4,
          49.4,
          49.4,
          49.4,
          49.4,
          49.4,
          49.4,
          49.4,
          49.4,
          49.4,
          49.4,
          50.184999999999995,
          50.97,
          51.754999999999995,
          52.54,
          53.324999999999996,
          54.11,
          54.894999999999996,
          55.68,
          56.464999999999996,
          57.25,
          58.035,
          58.82,
          59.605,
          60.39,
          61.175,
          61.959999999999994,
          62.745,
          63.529999999999994,
          64.315,
          65.1
         ],
         "yaxis": "y"
        },
        {
         "fillcolor": "Black",
         "hoverinfo": "x+y",
         "line": {
          "color": "Black",
          "width": 0
         },
         "mode": "lines",
         "name": "BF-BOF",
         "showlegend": false,
         "stackgroup": "one",
         "type": "scatter",
         "x": [
          2015,
          2016,
          2017,
          2018,
          2019,
          2020,
          2021,
          2022,
          2023,
          2024,
          2025,
          2026,
          2027,
          2028,
          2029,
          2030,
          2031,
          2032,
          2033,
          2034,
          2035,
          2036,
          2037,
          2038,
          2039,
          2040,
          2041,
          2042,
          2043,
          2044,
          2045,
          2046,
          2047,
          2048,
          2049,
          2050
         ],
         "xaxis": "x2",
         "y": [
          63.099999999999994,
          63.099999999999994,
          63.099999999999994,
          63.099999999999994,
          63.099999999999994,
          63.099999999999994,
          63.099999999999994,
          63.099999999999994,
          63.099999999999994,
          63.099999999999994,
          60.800000000000004,
          60.8,
          58.47785431989539,
          57.22785431989539,
          53.790421418208275,
          36.320842836416546,
          36.30584283641656,
          35.69084283641655,
          35.57584283641655,
          33.12310443970337,
          28.6047472562703,
          27.100681418613345,
          22.811100796653527,
          22.086100796653525,
          0.6899999999999996,
          0.5749999999999996,
          0.45999999999999963,
          0.34499999999999964,
          0.22999999999999962,
          0.11499999999999963,
          0,
          0,
          0,
          0,
          0,
          0
         ],
         "yaxis": "y2"
        },
        {
         "fillcolor": "brown",
         "hoverinfo": "x+y",
         "line": {
          "color": "brown",
          "width": 0
         },
         "mode": "lines",
         "name": "BF-BOF w/ Biomass",
         "showlegend": false,
         "stackgroup": "one",
         "type": "scatter",
         "x": [
          2015,
          2016,
          2017,
          2018,
          2019,
          2020,
          2021,
          2022,
          2023,
          2024,
          2025,
          2026,
          2027,
          2028,
          2029,
          2030,
          2031,
          2032,
          2033,
          2034,
          2035,
          2036,
          2037,
          2038,
          2039,
          2040,
          2041,
          2042,
          2043,
          2044,
          2045,
          2046,
          2047,
          2048,
          2049,
          2050
         ],
         "xaxis": "x2",
         "y": [
          0,
          0,
          0,
          0,
          0,
          0,
          0,
          0,
          0,
          0,
          0,
          0,
          0,
          0,
          0,
          0,
          0,
          0,
          0,
          0,
          3.3289049735061917,
          3.3289049735061917,
          5.368647013269214,
          5.308647013269215,
          25.919747809922743,
          25.24974780992274,
          24.639747809922742,
          24.639747809922742,
          24.110374667838325,
          23.440374667838327,
          22.128095036652603,
          21.114747809922743,
          20.274393490027354,
          16.989393490027354,
          12.998779543419117,
          4.600354319895392
         ],
         "yaxis": "y2"
        },
        {
         "fillcolor": "turquoise",
         "hoverinfo": "x+y",
         "line": {
          "color": "turquoise",
          "width": 0
         },
         "mode": "lines",
         "name": "DRI-EAF-H2",
         "showlegend": false,
         "stackgroup": "one",
         "type": "scatter",
         "x": [
          2015,
          2016,
          2017,
          2018,
          2019,
          2020,
          2021,
          2022,
          2023,
          2024,
          2025,
          2026,
          2027,
          2028,
          2029,
          2030,
          2031,
          2032,
          2033,
          2034,
          2035,
          2036,
          2037,
          2038,
          2039,
          2040,
          2041,
          2042,
          2043,
          2044,
          2045,
          2046,
          2047,
          2048,
          2049,
          2050
         ],
         "xaxis": "x2",
         "y": [
          0,
          0,
          0,
          0,
          0,
          0,
          0,
          0,
          0,
          0,
          0,
          0,
          0,
          0,
          0,
          20.074157163583454,
          19.409157163583448,
          19.239157163583453,
          18.56915716358345,
          17.990800533802823,
          18.3952527437297,
          21.357468327149924,
          25.929099821085927,
          26.96250338505478,
          27.125252190077255,
          27.12525219007725,
          29.365252190077253,
          28.695252190077255,
          28.55462533216167,
          28.55462533216167,
          29.196904963347396,
          29.425252190077252,
          29.480606509972645,
          31.980606509972645,
          35.186220456580884,
          41.799645680104604
         ],
         "yaxis": "y2"
        },
        {
         "fillcolor": "purple",
         "hoverinfo": "x+y",
         "line": {
          "color": "purple",
          "width": 0
         },
         "mode": "lines",
         "name": "DRI-EAF-CH4",
         "showlegend": false,
         "stackgroup": "one",
         "type": "scatter",
         "x": [
          2015,
          2016,
          2017,
          2018,
          2019,
          2020,
          2021,
          2022,
          2023,
          2024,
          2025,
          2026,
          2027,
          2028,
          2029,
          2030,
          2031,
          2032,
          2033,
          2034,
          2035,
          2036,
          2037,
          2038,
          2039,
          2040,
          2041,
          2042,
          2043,
          2044,
          2045,
          2046,
          2047,
          2048,
          2049,
          2050
         ],
         "xaxis": "x2",
         "y": [
          0,
          0,
          0,
          0,
          0,
          0,
          0,
          0,
          0,
          0,
          2.2999999999999923,
          2.3,
          4.622145680104605,
          5.872145680104605,
          9.30957858179172,
          6.704999999999992,
          6.6,
          6.6,
          6.6,
          8.84609502649381,
          8.846095026493806,
          6.60294528073054,
          3.4961523689913263,
          2.4627488050224726,
          2.299999999999998,
          2.3,
          -9.313225746154785e-16,
          -9.458744898438453e-16,
          -5.529727786779403e-16,
          -1.1059455573558806e-15,
          1.2369127944111824e-16,
          0,
          0,
          0,
          0,
          0
         ],
         "yaxis": "y2"
        },
        {
         "fillcolor": "orange",
         "hoverinfo": "x+y",
         "line": {
          "color": "orange",
          "width": 0
         },
         "mode": "lines",
         "name": "Electrowinning",
         "showlegend": false,
         "stackgroup": "one",
         "type": "scatter",
         "x": [
          2015,
          2016,
          2017,
          2018,
          2019,
          2020,
          2021,
          2022,
          2023,
          2024,
          2025,
          2026,
          2027,
          2028,
          2029,
          2030,
          2031,
          2032,
          2033,
          2034,
          2035,
          2036,
          2037,
          2038,
          2039,
          2040,
          2041,
          2042,
          2043,
          2044,
          2045,
          2046,
          2047,
          2048,
          2049,
          2050
         ],
         "xaxis": "x2",
         "y": [
          0,
          0,
          0,
          0,
          0,
          0,
          0,
          0,
          0,
          0,
          0,
          0,
          0,
          0,
          0,
          0,
          0,
          0,
          0,
          0,
          0,
          0,
          0,
          -5.43996830966985e-16,
          -5.43996830966985e-16,
          0,
          0,
          0,
          0,
          0,
          0,
          0,
          0,
          0,
          0,
          1
         ],
         "yaxis": "y2"
        },
        {
         "fillcolor": "yellow",
         "hoverinfo": "x+y",
         "line": {
          "color": "yellow",
          "width": 0
         },
         "mode": "lines",
         "name": "EAF",
         "showlegend": false,
         "stackgroup": "one",
         "type": "scatter",
         "x": [
          2015,
          2016,
          2017,
          2018,
          2019,
          2020,
          2021,
          2022,
          2023,
          2024,
          2025,
          2026,
          2027,
          2028,
          2029,
          2030,
          2031,
          2032,
          2033,
          2034,
          2035,
          2036,
          2037,
          2038,
          2039,
          2040,
          2041,
          2042,
          2043,
          2044,
          2045,
          2046,
          2047,
          2048,
          2049,
          2050
         ],
         "xaxis": "x2",
         "y": [
          49.4,
          49.4,
          49.4,
          49.4,
          49.4,
          49.4,
          49.4,
          49.4,
          49.4,
          49.4,
          49.4,
          49.4,
          49.4,
          49.4,
          49.4,
          49.4,
          50.184999999999995,
          50.97,
          51.754999999999995,
          52.54,
          53.324999999999996,
          54.11,
          54.894999999999996,
          55.68,
          56.464999999999996,
          57.25,
          58.035,
          58.82,
          59.605,
          60.39,
          61.175,
          61.959999999999994,
          62.745,
          63.529999999999994,
          64.315,
          65.1
         ],
         "yaxis": "y2"
        },
        {
         "fillcolor": "Black",
         "hoverinfo": "x+y",
         "line": {
          "color": "Black",
          "width": 0
         },
         "mode": "lines",
         "name": "BF-BOF",
         "showlegend": false,
         "stackgroup": "one",
         "type": "scatter",
         "x": [
          2015,
          2016,
          2017,
          2018,
          2019,
          2020,
          2021,
          2022,
          2023,
          2024,
          2025,
          2026,
          2027,
          2028,
          2029,
          2030,
          2031,
          2032,
          2033,
          2034,
          2035,
          2036,
          2037,
          2038,
          2039,
          2040,
          2041,
          2042,
          2043,
          2044,
          2045,
          2046,
          2047,
          2048,
          2049,
          2050
         ],
         "xaxis": "x3",
         "y": [
          63.099999999999994,
          63.099999999999994,
          63.099999999999994,
          63.099999999999994,
          63.099999999999994,
          63.099999999999994,
          63.099999999999994,
          63.099999999999994,
          63.099999999999994,
          63.099999999999994,
          60.8,
          60.8,
          58.22980652982227,
          56.97980652982227,
          53.36960848551712,
          35.43921697103425,
          35.42421697103425,
          34.809216971034246,
          34.69421697103425,
          32.10312194454043,
          28.224216971034245,
          26.509382995270254,
          22.060773354614312,
          21.335773354614314,
          0.45999999999999963,
          0.3449999999999994,
          0.22999999999999934,
          0.11500000000000005,
          0,
          0,
          0,
          0,
          0,
          0,
          0,
          0
         ],
         "yaxis": "y3"
        },
        {
         "fillcolor": "brown",
         "hoverinfo": "x+y",
         "line": {
          "color": "brown",
          "width": 0
         },
         "mode": "lines",
         "name": "BF-BOF w/ Biomass",
         "showlegend": false,
         "stackgroup": "one",
         "type": "scatter",
         "x": [
          2015,
          2016,
          2017,
          2018,
          2019,
          2020,
          2021,
          2022,
          2023,
          2024,
          2025,
          2026,
          2027,
          2028,
          2029,
          2030,
          2031,
          2032,
          2033,
          2034,
          2035,
          2036,
          2037,
          2038,
          2039,
          2040,
          2041,
          2042,
          2043,
          2044,
          2045,
          2046,
          2047,
          2048,
          2049,
          2050
         ],
         "xaxis": "x3",
         "y": [
          0,
          0,
          0,
          0,
          0,
          0,
          0,
          0,
          0,
          0,
          0,
          0,
          0,
          0,
          0,
          0,
          0,
          0,
          0,
          0,
          3.3289049735061917,
          3.3289049735061917,
          5.00734858992613,
          4.94734858992613,
          25.03812194454044,
          24.36812194454044,
          23.69812194454044,
          23.69812194454044,
          23.429987408115025,
          22.31952841315574,
          20.813420367883523,
          18.1385088848959,
          14.8535088848959,
          10.640270578056374,
          5.817204353214835,
          0
         ],
         "yaxis": "y3"
        },
        {
         "fillcolor": "turquoise",
         "hoverinfo": "x+y",
         "line": {
          "color": "turquoise",
          "width": 0
         },
         "mode": "lines",
         "name": "DRI-EAF-H2",
         "showlegend": false,
         "stackgroup": "one",
         "type": "scatter",
         "x": [
          2015,
          2016,
          2017,
          2018,
          2019,
          2020,
          2021,
          2022,
          2023,
          2024,
          2025,
          2026,
          2027,
          2028,
          2029,
          2030,
          2031,
          2032,
          2033,
          2034,
          2035,
          2036,
          2037,
          2038,
          2039,
          2040,
          2041,
          2042,
          2043,
          2044,
          2045,
          2046,
          2047,
          2048,
          2049,
          2050
         ],
         "xaxis": "x3",
         "y": [
          0,
          0,
          0,
          0,
          0,
          0,
          0,
          0,
          0,
          0,
          0,
          0,
          0,
          0,
          0,
          20.280633918756852,
          20.29078302896575,
          20.12078302896575,
          19.45078302896575,
          18.780783028965747,
          18.54578302896575,
          21.470324065759357,
          25.97106340279752,
          27.782073175670725,
          28.23687805545955,
          28.236878055459552,
          30.536878055459553,
          29.866878055459555,
          29.465012591884975,
          29.790471586844255,
          30.511579632116472,
          32.4014911151041,
          34.9014911151041,
          38.064729421943625,
          41.83779564678516,
          46.065784313725494
         ],
         "yaxis": "y3"
        },
        {
         "fillcolor": "purple",
         "hoverinfo": "x+y",
         "line": {
          "color": "purple",
          "width": 0
         },
         "mode": "lines",
         "name": "DRI-EAF-CH4",
         "showlegend": false,
         "stackgroup": "one",
         "type": "scatter",
         "x": [
          2015,
          2016,
          2017,
          2018,
          2019,
          2020,
          2021,
          2022,
          2023,
          2024,
          2025,
          2026,
          2027,
          2028,
          2029,
          2030,
          2031,
          2032,
          2033,
          2034,
          2035,
          2036,
          2037,
          2038,
          2039,
          2040,
          2041,
          2042,
          2043,
          2044,
          2045,
          2046,
          2047,
          2048,
          2049,
          2050
         ],
         "xaxis": "x3",
         "y": [
          0,
          0,
          0,
          0,
          0,
          0,
          0,
          0,
          0,
          0,
          2.3,
          2.3,
          4.870193470177728,
          6.120193470177728,
          9.730391514482879,
          7.380149110208893,
          6.6,
          6.6,
          6.6,
          9.076095026493809,
          9.076095026493809,
          7.081387965464192,
          4.565814652662033,
          2.75480487978883,
          2.3,
          2.2999999999999994,
          0,
          4.729372449219226e-16,
          -3.05590219795704e-16,
          -7.566995918750762e-16,
          8.36735125631094e-17,
          0,
          9.313225746154785e-16,
          0,
          2.9331204132176934e-16,
          0
         ],
         "yaxis": "y3"
        },
        {
         "fillcolor": "orange",
         "hoverinfo": "x+y",
         "line": {
          "color": "orange",
          "width": 0
         },
         "mode": "lines",
         "name": "Electrowinning",
         "showlegend": false,
         "stackgroup": "one",
         "type": "scatter",
         "x": [
          2015,
          2016,
          2017,
          2018,
          2019,
          2020,
          2021,
          2022,
          2023,
          2024,
          2025,
          2026,
          2027,
          2028,
          2029,
          2030,
          2031,
          2032,
          2033,
          2034,
          2035,
          2036,
          2037,
          2038,
          2039,
          2040,
          2041,
          2042,
          2043,
          2044,
          2045,
          2046,
          2047,
          2048,
          2049,
          2050
         ],
         "xaxis": "x3",
         "y": [
          0,
          0,
          0,
          0,
          0,
          0,
          0,
          0,
          0,
          0,
          0,
          0,
          0,
          0,
          0,
          0,
          0,
          0,
          0,
          0,
          0,
          0,
          0,
          1.170700765750536e-15,
          9.014803805953606e-16,
          0,
          -1.5535022408507965e-16,
          0,
          0,
          0,
          0,
          0,
          0,
          0.2649999999999995,
          0.5300000000000005,
          1.3342156862745065
         ],
         "yaxis": "y3"
        },
        {
         "fillcolor": "yellow",
         "hoverinfo": "x+y",
         "line": {
          "color": "yellow",
          "width": 0
         },
         "mode": "lines",
         "name": "EAF",
         "showlegend": false,
         "stackgroup": "one",
         "type": "scatter",
         "x": [
          2015,
          2016,
          2017,
          2018,
          2019,
          2020,
          2021,
          2022,
          2023,
          2024,
          2025,
          2026,
          2027,
          2028,
          2029,
          2030,
          2031,
          2032,
          2033,
          2034,
          2035,
          2036,
          2037,
          2038,
          2039,
          2040,
          2041,
          2042,
          2043,
          2044,
          2045,
          2046,
          2047,
          2048,
          2049,
          2050
         ],
         "xaxis": "x3",
         "y": [
          49.4,
          49.4,
          49.4,
          49.4,
          49.4,
          49.4,
          49.4,
          49.4,
          49.4,
          49.4,
          49.4,
          49.4,
          49.4,
          49.4,
          49.4,
          49.4,
          50.184999999999995,
          50.97,
          51.754999999999995,
          52.54,
          53.324999999999996,
          54.11,
          54.894999999999996,
          55.68,
          56.464999999999996,
          57.25,
          58.035,
          58.82,
          59.605,
          60.39,
          61.175,
          61.959999999999994,
          62.745,
          63.529999999999994,
          64.315,
          65.1
         ],
         "yaxis": "y3"
        }
       ],
       "layout": {
        "annotations": [
         {
          "font": {
           "size": 24
          },
          "showarrow": false,
          "text": "High electricity price",
          "x": 0.14444444444444446,
          "xanchor": "center",
          "xref": "paper",
          "y": 1,
          "yanchor": "bottom",
          "yref": "paper"
         },
         {
          "font": {
           "size": 24
          },
          "showarrow": false,
          "text": "Reference",
          "x": 0.5,
          "xanchor": "center",
          "xref": "paper",
          "y": 1,
          "yanchor": "bottom",
          "yref": "paper"
         },
         {
          "font": {
           "size": 24
          },
          "showarrow": false,
          "text": "Fossil phase-out",
          "x": 0.8555555555555556,
          "xanchor": "center",
          "xref": "paper",
          "y": 1,
          "yanchor": "bottom",
          "yref": "paper"
         }
        ],
        "font": {
         "family": "Times New Roman",
         "size": 24
        },
        "legend": {
         "font": {
          "size": 18
         },
         "orientation": "h",
         "x": 1.01,
         "xanchor": "right",
         "y": 1.1,
         "yanchor": "bottom"
        },
        "template": {
         "data": {
          "bar": [
           {
            "error_x": {
             "color": "#2a3f5f"
            },
            "error_y": {
             "color": "#2a3f5f"
            },
            "marker": {
             "line": {
              "color": "#E5ECF6",
              "width": 0.5
             },
             "pattern": {
              "fillmode": "overlay",
              "size": 10,
              "solidity": 0.2
             }
            },
            "type": "bar"
           }
          ],
          "barpolar": [
           {
            "marker": {
             "line": {
              "color": "#E5ECF6",
              "width": 0.5
             },
             "pattern": {
              "fillmode": "overlay",
              "size": 10,
              "solidity": 0.2
             }
            },
            "type": "barpolar"
           }
          ],
          "carpet": [
           {
            "aaxis": {
             "endlinecolor": "#2a3f5f",
             "gridcolor": "white",
             "linecolor": "white",
             "minorgridcolor": "white",
             "startlinecolor": "#2a3f5f"
            },
            "baxis": {
             "endlinecolor": "#2a3f5f",
             "gridcolor": "white",
             "linecolor": "white",
             "minorgridcolor": "white",
             "startlinecolor": "#2a3f5f"
            },
            "type": "carpet"
           }
          ],
          "choropleth": [
           {
            "colorbar": {
             "outlinewidth": 0,
             "ticks": ""
            },
            "type": "choropleth"
           }
          ],
          "contour": [
           {
            "colorbar": {
             "outlinewidth": 0,
             "ticks": ""
            },
            "colorscale": [
             [
              0,
              "#0d0887"
             ],
             [
              0.1111111111111111,
              "#46039f"
             ],
             [
              0.2222222222222222,
              "#7201a8"
             ],
             [
              0.3333333333333333,
              "#9c179e"
             ],
             [
              0.4444444444444444,
              "#bd3786"
             ],
             [
              0.5555555555555556,
              "#d8576b"
             ],
             [
              0.6666666666666666,
              "#ed7953"
             ],
             [
              0.7777777777777778,
              "#fb9f3a"
             ],
             [
              0.8888888888888888,
              "#fdca26"
             ],
             [
              1,
              "#f0f921"
             ]
            ],
            "type": "contour"
           }
          ],
          "contourcarpet": [
           {
            "colorbar": {
             "outlinewidth": 0,
             "ticks": ""
            },
            "type": "contourcarpet"
           }
          ],
          "heatmap": [
           {
            "colorbar": {
             "outlinewidth": 0,
             "ticks": ""
            },
            "colorscale": [
             [
              0,
              "#0d0887"
             ],
             [
              0.1111111111111111,
              "#46039f"
             ],
             [
              0.2222222222222222,
              "#7201a8"
             ],
             [
              0.3333333333333333,
              "#9c179e"
             ],
             [
              0.4444444444444444,
              "#bd3786"
             ],
             [
              0.5555555555555556,
              "#d8576b"
             ],
             [
              0.6666666666666666,
              "#ed7953"
             ],
             [
              0.7777777777777778,
              "#fb9f3a"
             ],
             [
              0.8888888888888888,
              "#fdca26"
             ],
             [
              1,
              "#f0f921"
             ]
            ],
            "type": "heatmap"
           }
          ],
          "heatmapgl": [
           {
            "colorbar": {
             "outlinewidth": 0,
             "ticks": ""
            },
            "colorscale": [
             [
              0,
              "#0d0887"
             ],
             [
              0.1111111111111111,
              "#46039f"
             ],
             [
              0.2222222222222222,
              "#7201a8"
             ],
             [
              0.3333333333333333,
              "#9c179e"
             ],
             [
              0.4444444444444444,
              "#bd3786"
             ],
             [
              0.5555555555555556,
              "#d8576b"
             ],
             [
              0.6666666666666666,
              "#ed7953"
             ],
             [
              0.7777777777777778,
              "#fb9f3a"
             ],
             [
              0.8888888888888888,
              "#fdca26"
             ],
             [
              1,
              "#f0f921"
             ]
            ],
            "type": "heatmapgl"
           }
          ],
          "histogram": [
           {
            "marker": {
             "pattern": {
              "fillmode": "overlay",
              "size": 10,
              "solidity": 0.2
             }
            },
            "type": "histogram"
           }
          ],
          "histogram2d": [
           {
            "colorbar": {
             "outlinewidth": 0,
             "ticks": ""
            },
            "colorscale": [
             [
              0,
              "#0d0887"
             ],
             [
              0.1111111111111111,
              "#46039f"
             ],
             [
              0.2222222222222222,
              "#7201a8"
             ],
             [
              0.3333333333333333,
              "#9c179e"
             ],
             [
              0.4444444444444444,
              "#bd3786"
             ],
             [
              0.5555555555555556,
              "#d8576b"
             ],
             [
              0.6666666666666666,
              "#ed7953"
             ],
             [
              0.7777777777777778,
              "#fb9f3a"
             ],
             [
              0.8888888888888888,
              "#fdca26"
             ],
             [
              1,
              "#f0f921"
             ]
            ],
            "type": "histogram2d"
           }
          ],
          "histogram2dcontour": [
           {
            "colorbar": {
             "outlinewidth": 0,
             "ticks": ""
            },
            "colorscale": [
             [
              0,
              "#0d0887"
             ],
             [
              0.1111111111111111,
              "#46039f"
             ],
             [
              0.2222222222222222,
              "#7201a8"
             ],
             [
              0.3333333333333333,
              "#9c179e"
             ],
             [
              0.4444444444444444,
              "#bd3786"
             ],
             [
              0.5555555555555556,
              "#d8576b"
             ],
             [
              0.6666666666666666,
              "#ed7953"
             ],
             [
              0.7777777777777778,
              "#fb9f3a"
             ],
             [
              0.8888888888888888,
              "#fdca26"
             ],
             [
              1,
              "#f0f921"
             ]
            ],
            "type": "histogram2dcontour"
           }
          ],
          "mesh3d": [
           {
            "colorbar": {
             "outlinewidth": 0,
             "ticks": ""
            },
            "type": "mesh3d"
           }
          ],
          "parcoords": [
           {
            "line": {
             "colorbar": {
              "outlinewidth": 0,
              "ticks": ""
             }
            },
            "type": "parcoords"
           }
          ],
          "pie": [
           {
            "automargin": true,
            "type": "pie"
           }
          ],
          "scatter": [
           {
            "marker": {
             "colorbar": {
              "outlinewidth": 0,
              "ticks": ""
             }
            },
            "type": "scatter"
           }
          ],
          "scatter3d": [
           {
            "line": {
             "colorbar": {
              "outlinewidth": 0,
              "ticks": ""
             }
            },
            "marker": {
             "colorbar": {
              "outlinewidth": 0,
              "ticks": ""
             }
            },
            "type": "scatter3d"
           }
          ],
          "scattercarpet": [
           {
            "marker": {
             "colorbar": {
              "outlinewidth": 0,
              "ticks": ""
             }
            },
            "type": "scattercarpet"
           }
          ],
          "scattergeo": [
           {
            "marker": {
             "colorbar": {
              "outlinewidth": 0,
              "ticks": ""
             }
            },
            "type": "scattergeo"
           }
          ],
          "scattergl": [
           {
            "marker": {
             "colorbar": {
              "outlinewidth": 0,
              "ticks": ""
             }
            },
            "type": "scattergl"
           }
          ],
          "scattermapbox": [
           {
            "marker": {
             "colorbar": {
              "outlinewidth": 0,
              "ticks": ""
             }
            },
            "type": "scattermapbox"
           }
          ],
          "scatterpolar": [
           {
            "marker": {
             "colorbar": {
              "outlinewidth": 0,
              "ticks": ""
             }
            },
            "type": "scatterpolar"
           }
          ],
          "scatterpolargl": [
           {
            "marker": {
             "colorbar": {
              "outlinewidth": 0,
              "ticks": ""
             }
            },
            "type": "scatterpolargl"
           }
          ],
          "scatterternary": [
           {
            "marker": {
             "colorbar": {
              "outlinewidth": 0,
              "ticks": ""
             }
            },
            "type": "scatterternary"
           }
          ],
          "surface": [
           {
            "colorbar": {
             "outlinewidth": 0,
             "ticks": ""
            },
            "colorscale": [
             [
              0,
              "#0d0887"
             ],
             [
              0.1111111111111111,
              "#46039f"
             ],
             [
              0.2222222222222222,
              "#7201a8"
             ],
             [
              0.3333333333333333,
              "#9c179e"
             ],
             [
              0.4444444444444444,
              "#bd3786"
             ],
             [
              0.5555555555555556,
              "#d8576b"
             ],
             [
              0.6666666666666666,
              "#ed7953"
             ],
             [
              0.7777777777777778,
              "#fb9f3a"
             ],
             [
              0.8888888888888888,
              "#fdca26"
             ],
             [
              1,
              "#f0f921"
             ]
            ],
            "type": "surface"
           }
          ],
          "table": [
           {
            "cells": {
             "fill": {
              "color": "#EBF0F8"
             },
             "line": {
              "color": "white"
             }
            },
            "header": {
             "fill": {
              "color": "#C8D4E3"
             },
             "line": {
              "color": "white"
             }
            },
            "type": "table"
           }
          ]
         },
         "layout": {
          "annotationdefaults": {
           "arrowcolor": "#2a3f5f",
           "arrowhead": 0,
           "arrowwidth": 1
          },
          "autotypenumbers": "strict",
          "coloraxis": {
           "colorbar": {
            "outlinewidth": 0,
            "ticks": ""
           }
          },
          "colorscale": {
           "diverging": [
            [
             0,
             "#8e0152"
            ],
            [
             0.1,
             "#c51b7d"
            ],
            [
             0.2,
             "#de77ae"
            ],
            [
             0.3,
             "#f1b6da"
            ],
            [
             0.4,
             "#fde0ef"
            ],
            [
             0.5,
             "#f7f7f7"
            ],
            [
             0.6,
             "#e6f5d0"
            ],
            [
             0.7,
             "#b8e186"
            ],
            [
             0.8,
             "#7fbc41"
            ],
            [
             0.9,
             "#4d9221"
            ],
            [
             1,
             "#276419"
            ]
           ],
           "sequential": [
            [
             0,
             "#0d0887"
            ],
            [
             0.1111111111111111,
             "#46039f"
            ],
            [
             0.2222222222222222,
             "#7201a8"
            ],
            [
             0.3333333333333333,
             "#9c179e"
            ],
            [
             0.4444444444444444,
             "#bd3786"
            ],
            [
             0.5555555555555556,
             "#d8576b"
            ],
            [
             0.6666666666666666,
             "#ed7953"
            ],
            [
             0.7777777777777778,
             "#fb9f3a"
            ],
            [
             0.8888888888888888,
             "#fdca26"
            ],
            [
             1,
             "#f0f921"
            ]
           ],
           "sequentialminus": [
            [
             0,
             "#0d0887"
            ],
            [
             0.1111111111111111,
             "#46039f"
            ],
            [
             0.2222222222222222,
             "#7201a8"
            ],
            [
             0.3333333333333333,
             "#9c179e"
            ],
            [
             0.4444444444444444,
             "#bd3786"
            ],
            [
             0.5555555555555556,
             "#d8576b"
            ],
            [
             0.6666666666666666,
             "#ed7953"
            ],
            [
             0.7777777777777778,
             "#fb9f3a"
            ],
            [
             0.8888888888888888,
             "#fdca26"
            ],
            [
             1,
             "#f0f921"
            ]
           ]
          },
          "colorway": [
           "#636efa",
           "#EF553B",
           "#00cc96",
           "#ab63fa",
           "#FFA15A",
           "#19d3f3",
           "#FF6692",
           "#B6E880",
           "#FF97FF",
           "#FECB52"
          ],
          "font": {
           "color": "#2a3f5f"
          },
          "geo": {
           "bgcolor": "white",
           "lakecolor": "white",
           "landcolor": "#E5ECF6",
           "showlakes": true,
           "showland": true,
           "subunitcolor": "white"
          },
          "hoverlabel": {
           "align": "left"
          },
          "hovermode": "closest",
          "mapbox": {
           "style": "light"
          },
          "paper_bgcolor": "white",
          "plot_bgcolor": "#E5ECF6",
          "polar": {
           "angularaxis": {
            "gridcolor": "white",
            "linecolor": "white",
            "ticks": ""
           },
           "bgcolor": "#E5ECF6",
           "radialaxis": {
            "gridcolor": "white",
            "linecolor": "white",
            "ticks": ""
           }
          },
          "scene": {
           "xaxis": {
            "backgroundcolor": "#E5ECF6",
            "gridcolor": "white",
            "gridwidth": 2,
            "linecolor": "white",
            "showbackground": true,
            "ticks": "",
            "zerolinecolor": "white"
           },
           "yaxis": {
            "backgroundcolor": "#E5ECF6",
            "gridcolor": "white",
            "gridwidth": 2,
            "linecolor": "white",
            "showbackground": true,
            "ticks": "",
            "zerolinecolor": "white"
           },
           "zaxis": {
            "backgroundcolor": "#E5ECF6",
            "gridcolor": "white",
            "gridwidth": 2,
            "linecolor": "white",
            "showbackground": true,
            "ticks": "",
            "zerolinecolor": "white"
           }
          },
          "shapedefaults": {
           "line": {
            "color": "#2a3f5f"
           }
          },
          "ternary": {
           "aaxis": {
            "gridcolor": "white",
            "linecolor": "white",
            "ticks": ""
           },
           "baxis": {
            "gridcolor": "white",
            "linecolor": "white",
            "ticks": ""
           },
           "bgcolor": "#E5ECF6",
           "caxis": {
            "gridcolor": "white",
            "linecolor": "white",
            "ticks": ""
           }
          },
          "title": {
           "x": 0.05
          },
          "xaxis": {
           "automargin": true,
           "gridcolor": "white",
           "linecolor": "white",
           "ticks": "",
           "title": {
            "standoff": 15
           },
           "zerolinecolor": "white",
           "zerolinewidth": 2
          },
          "yaxis": {
           "automargin": true,
           "gridcolor": "white",
           "linecolor": "white",
           "ticks": "",
           "title": {
            "standoff": 15
           },
           "zerolinecolor": "white",
           "zerolinewidth": 2
          }
         }
        },
        "xaxis": {
         "anchor": "y",
         "domain": [
          0,
          0.2888888888888889
         ],
         "title": {
          "text": "Year"
         }
        },
        "xaxis2": {
         "anchor": "y2",
         "domain": [
          0.35555555555555557,
          0.6444444444444445
         ],
         "title": {
          "text": "Year"
         }
        },
        "xaxis3": {
         "anchor": "y3",
         "domain": [
          0.7111111111111111,
          1
         ],
         "title": {
          "text": "Year"
         }
        },
        "yaxis": {
         "anchor": "x",
         "domain": [
          0,
          1
         ],
         "title": {
          "text": "Production (Mt of steel)"
         }
        },
        "yaxis2": {
         "anchor": "x2",
         "domain": [
          0,
          1
         ],
         "matches": "y",
         "showticklabels": false
        },
        "yaxis3": {
         "anchor": "x3",
         "domain": [
          0,
          1
         ],
         "matches": "y",
         "showticklabels": false
        }
       }
      },
      "text/html": [
       "<div>                            <div id=\"7b1ad498-3207-4006-882d-e713d29544c0\" class=\"plotly-graph-div\" style=\"height:525px; width:100%;\"></div>            <script type=\"text/javascript\">                require([\"plotly\"], function(Plotly) {                    window.PLOTLYENV=window.PLOTLYENV || {};                                    if (document.getElementById(\"7b1ad498-3207-4006-882d-e713d29544c0\")) {                    Plotly.newPlot(                        \"7b1ad498-3207-4006-882d-e713d29544c0\",                        [{\"fillcolor\":\"Black\",\"hoverinfo\":\"x+y\",\"line\":{\"color\":\"Black\",\"width\":0},\"mode\":\"lines\",\"name\":\"BF-BOF\",\"showlegend\":true,\"stackgroup\":\"one\",\"type\":\"scatter\",\"x\":[2015,2016,2017,2018,2019,2020,2021,2022,2023,2024,2025,2026,2027,2028,2029,2030,2031,2032,2033,2034,2035,2036,2037,2038,2039,2040,2041,2042,2043,2044,2045,2046,2047,2048,2049,2050],\"xaxis\":\"x\",\"y\":[63.099999999999994,63.099999999999994,63.099999999999994,63.099999999999994,63.099999999999994,63.099999999999994,63.099999999999994,63.099999999999994,63.099999999999994,63.099999999999994,60.8,60.8,58.8,58.8,58.8,54.60644301401552,54.53144301401551,54.01182451178596,53.226824511785956,52.44182451178596,48.24433542613024,45.05933542613023,37.39433542613023,36.66933542613023,3.3360950264938083,3.221095026493808,3.1060950264938083,2.991095026493808,2.8760950264938083,2.817648877205108,2.7026488772051076,2.587648877205108,2.4160950264938084,2.301095026493808,2.186095026493808,0.0],\"yaxis\":\"y\"},{\"fillcolor\":\"brown\",\"hoverinfo\":\"x+y\",\"line\":{\"color\":\"brown\",\"width\":0},\"mode\":\"lines\",\"name\":\"BF-BOF w/ Biomass\",\"showlegend\":true,\"stackgroup\":\"one\",\"type\":\"scatter\",\"x\":[2015,2016,2017,2018,2019,2020,2021,2022,2023,2024,2025,2026,2027,2028,2029,2030,2031,2032,2033,2034,2035,2036,2037,2038,2039,2040,2041,2042,2043,2044,2045,2046,2047,2048,2049,2050],\"xaxis\":\"x\",\"y\":[0.0,0.0,0.0,0.0,0.0,0.0,0.0,0.0,0.0,0.0,0.0,0.0,0.0,0.0,0.0,0.0,0.0,0.0,0.0,0.0,3.3289049735061917,5.728904973506191,12.608904973506188,12.54890497350619,44.205347987521705,43.5353479875217,43.525347987521705,43.525347987521705,43.20212648051395,42.59212648051394,41.98212648051394,41.37212648051394,40.76212648051394,39.698923866134855,37.60574014438445,32.11667777528239],\"yaxis\":\"y\"},{\"fillcolor\":\"turquoise\",\"hoverinfo\":\"x+y\",\"line\":{\"color\":\"turquoise\",\"width\":0},\"mode\":\"lines\",\"name\":\"DRI-EAF-H2\",\"showlegend\":true,\"stackgroup\":\"one\",\"type\":\"scatter\",\"x\":[2015,2016,2017,2018,2019,2020,2021,2022,2023,2024,2025,2026,2027,2028,2029,2030,2031,2032,2033,2034,2035,2036,2037,2038,2039,2040,2041,2042,2043,2044,2045,2046,2047,2048,2049,2050],\"xaxis\":\"x\",\"y\":[0.0,0.0,0.0,0.0,0.0,0.0,0.0,0.0,0.0,0.0,0.0,0.0,0.0,0.0,0.0,2.9017596003635693,1.6671410981340136,1.4017596003635704,1.4017596003635704,1.4017596003635704,1.7025330996068881,4.7057649042116845,4.7057649042116845,5.177071816185584,6.068869201806498,6.068869201806498,7.696192882792655,7.026192882792655,6.679414389800413,6.575536858102955,6.515536858102957,6.455536858102955,6.452090708814255,6.845293323193341,8.26847704494375,15.15863444053962],\"yaxis\":\"y\"},{\"fillcolor\":\"purple\",\"hoverinfo\":\"x+y\",\"line\":{\"color\":\"purple\",\"width\":0},\"mode\":\"lines\",\"name\":\"DRI-EAF-CH4\",\"showlegend\":true,\"stackgroup\":\"one\",\"type\":\"scatter\",\"x\":[2015,2016,2017,2018,2019,2020,2021,2022,2023,2024,2025,2026,2027,2028,2029,2030,2031,2032,2033,2034,2035,2036,2037,2038,2039,2040,2041,2042,2043,2044,2045,2046,2047,2048,2049,2050],\"xaxis\":\"x\",\"y\":[0.0,0.0,0.0,0.0,0.0,0.0,0.0,0.0,0.0,0.0,2.3,2.3,4.3,4.3,4.300000000000003,5.591797385620914,6.116415887850469,6.116415887850467,6.116415887850467,6.116415887850467,5.899226500756683,2.895994696151885,2.895994696151885,2.424687784177986,2.4246877841779866,2.4246877841779866,0.13736410319182868,0.1373641031918284,0.13736410319182862,0.12468778417798632,0.12468778417798632,0.1246877841779864,0.12468778417798647,0.12468778417798669,0.1246877841779864,0.12468778417798643],\"yaxis\":\"y\"},{\"fillcolor\":\"orange\",\"hoverinfo\":\"x+y\",\"line\":{\"color\":\"orange\",\"width\":0},\"mode\":\"lines\",\"name\":\"Electrowinning\",\"showlegend\":true,\"stackgroup\":\"one\",\"type\":\"scatter\",\"x\":[2015,2016,2017,2018,2019,2020,2021,2022,2023,2024,2025,2026,2027,2028,2029,2030,2031,2032,2033,2034,2035,2036,2037,2038,2039,2040,2041,2042,2043,2044,2045,2046,2047,2048,2049,2050],\"xaxis\":\"x\",\"y\":[0.0,0.0,0.0,0.0,0.0,0.0,0.0,0.0,0.0,0.0,0.0,0.0,0.0,0.0,0.0,0.0,0.0,0.0,0.0,0.0,0.0,0.0,0.0,0.0,0.0,0.0,0.0,0.0,0.0,0.0,0.0,0.0,0.0,0.0,0.0,0.0],\"yaxis\":\"y\"},{\"fillcolor\":\"yellow\",\"hoverinfo\":\"x+y\",\"line\":{\"color\":\"yellow\",\"width\":0},\"mode\":\"lines\",\"name\":\"EAF\",\"showlegend\":true,\"stackgroup\":\"one\",\"type\":\"scatter\",\"x\":[2015,2016,2017,2018,2019,2020,2021,2022,2023,2024,2025,2026,2027,2028,2029,2030,2031,2032,2033,2034,2035,2036,2037,2038,2039,2040,2041,2042,2043,2044,2045,2046,2047,2048,2049,2050],\"xaxis\":\"x\",\"y\":[49.4,49.4,49.4,49.4,49.4,49.4,49.4,49.4,49.4,49.4,49.4,49.4,49.4,49.4,49.4,49.4,50.184999999999995,50.97,51.754999999999995,52.54,53.324999999999996,54.11,54.894999999999996,55.68,56.464999999999996,57.25,58.035,58.82,59.605,60.39,61.175,61.959999999999994,62.745,63.529999999999994,64.315,65.1],\"yaxis\":\"y\"},{\"fillcolor\":\"Black\",\"hoverinfo\":\"x+y\",\"line\":{\"color\":\"Black\",\"width\":0},\"mode\":\"lines\",\"name\":\"BF-BOF\",\"showlegend\":false,\"stackgroup\":\"one\",\"type\":\"scatter\",\"x\":[2015,2016,2017,2018,2019,2020,2021,2022,2023,2024,2025,2026,2027,2028,2029,2030,2031,2032,2033,2034,2035,2036,2037,2038,2039,2040,2041,2042,2043,2044,2045,2046,2047,2048,2049,2050],\"xaxis\":\"x2\",\"y\":[63.099999999999994,63.099999999999994,63.099999999999994,63.099999999999994,63.099999999999994,63.099999999999994,63.099999999999994,63.099999999999994,63.099999999999994,63.099999999999994,60.800000000000004,60.8,58.47785431989539,57.22785431989539,53.790421418208275,36.320842836416546,36.30584283641656,35.69084283641655,35.57584283641655,33.12310443970337,28.6047472562703,27.100681418613345,22.811100796653527,22.086100796653525,0.6899999999999996,0.5749999999999996,0.45999999999999963,0.34499999999999964,0.22999999999999962,0.11499999999999963,0.0,0.0,0.0,0.0,0.0,0.0],\"yaxis\":\"y2\"},{\"fillcolor\":\"brown\",\"hoverinfo\":\"x+y\",\"line\":{\"color\":\"brown\",\"width\":0},\"mode\":\"lines\",\"name\":\"BF-BOF w/ Biomass\",\"showlegend\":false,\"stackgroup\":\"one\",\"type\":\"scatter\",\"x\":[2015,2016,2017,2018,2019,2020,2021,2022,2023,2024,2025,2026,2027,2028,2029,2030,2031,2032,2033,2034,2035,2036,2037,2038,2039,2040,2041,2042,2043,2044,2045,2046,2047,2048,2049,2050],\"xaxis\":\"x2\",\"y\":[0.0,0.0,0.0,0.0,0.0,0.0,0.0,0.0,0.0,0.0,0.0,0.0,0.0,0.0,0.0,0.0,0.0,0.0,0.0,0.0,3.3289049735061917,3.3289049735061917,5.368647013269214,5.308647013269215,25.919747809922743,25.24974780992274,24.639747809922742,24.639747809922742,24.110374667838325,23.440374667838327,22.128095036652603,21.114747809922743,20.274393490027354,16.989393490027354,12.998779543419117,4.600354319895392],\"yaxis\":\"y2\"},{\"fillcolor\":\"turquoise\",\"hoverinfo\":\"x+y\",\"line\":{\"color\":\"turquoise\",\"width\":0},\"mode\":\"lines\",\"name\":\"DRI-EAF-H2\",\"showlegend\":false,\"stackgroup\":\"one\",\"type\":\"scatter\",\"x\":[2015,2016,2017,2018,2019,2020,2021,2022,2023,2024,2025,2026,2027,2028,2029,2030,2031,2032,2033,2034,2035,2036,2037,2038,2039,2040,2041,2042,2043,2044,2045,2046,2047,2048,2049,2050],\"xaxis\":\"x2\",\"y\":[0.0,0.0,0.0,0.0,0.0,0.0,0.0,0.0,0.0,0.0,0.0,0.0,0.0,0.0,0.0,20.074157163583454,19.409157163583448,19.239157163583453,18.56915716358345,17.990800533802823,18.3952527437297,21.357468327149924,25.929099821085927,26.96250338505478,27.125252190077255,27.12525219007725,29.365252190077253,28.695252190077255,28.55462533216167,28.55462533216167,29.196904963347396,29.425252190077252,29.480606509972645,31.980606509972645,35.186220456580884,41.799645680104604],\"yaxis\":\"y2\"},{\"fillcolor\":\"purple\",\"hoverinfo\":\"x+y\",\"line\":{\"color\":\"purple\",\"width\":0},\"mode\":\"lines\",\"name\":\"DRI-EAF-CH4\",\"showlegend\":false,\"stackgroup\":\"one\",\"type\":\"scatter\",\"x\":[2015,2016,2017,2018,2019,2020,2021,2022,2023,2024,2025,2026,2027,2028,2029,2030,2031,2032,2033,2034,2035,2036,2037,2038,2039,2040,2041,2042,2043,2044,2045,2046,2047,2048,2049,2050],\"xaxis\":\"x2\",\"y\":[0.0,0.0,0.0,0.0,0.0,0.0,0.0,0.0,0.0,0.0,2.2999999999999923,2.3,4.622145680104605,5.872145680104605,9.30957858179172,6.704999999999992,6.6,6.6,6.6,8.84609502649381,8.846095026493806,6.60294528073054,3.4961523689913263,2.4627488050224726,2.299999999999998,2.3,-9.313225746154785e-16,-9.458744898438453e-16,-5.529727786779403e-16,-1.1059455573558806e-15,1.2369127944111824e-16,0.0,0.0,0.0,0.0,0.0],\"yaxis\":\"y2\"},{\"fillcolor\":\"orange\",\"hoverinfo\":\"x+y\",\"line\":{\"color\":\"orange\",\"width\":0},\"mode\":\"lines\",\"name\":\"Electrowinning\",\"showlegend\":false,\"stackgroup\":\"one\",\"type\":\"scatter\",\"x\":[2015,2016,2017,2018,2019,2020,2021,2022,2023,2024,2025,2026,2027,2028,2029,2030,2031,2032,2033,2034,2035,2036,2037,2038,2039,2040,2041,2042,2043,2044,2045,2046,2047,2048,2049,2050],\"xaxis\":\"x2\",\"y\":[0.0,0.0,0.0,0.0,0.0,0.0,0.0,0.0,0.0,0.0,0.0,0.0,0.0,0.0,0.0,0.0,0.0,0.0,0.0,0.0,0.0,0.0,0.0,-5.43996830966985e-16,-5.43996830966985e-16,0.0,0.0,0.0,0.0,0.0,0.0,0.0,0.0,0.0,0.0,1.0],\"yaxis\":\"y2\"},{\"fillcolor\":\"yellow\",\"hoverinfo\":\"x+y\",\"line\":{\"color\":\"yellow\",\"width\":0},\"mode\":\"lines\",\"name\":\"EAF\",\"showlegend\":false,\"stackgroup\":\"one\",\"type\":\"scatter\",\"x\":[2015,2016,2017,2018,2019,2020,2021,2022,2023,2024,2025,2026,2027,2028,2029,2030,2031,2032,2033,2034,2035,2036,2037,2038,2039,2040,2041,2042,2043,2044,2045,2046,2047,2048,2049,2050],\"xaxis\":\"x2\",\"y\":[49.4,49.4,49.4,49.4,49.4,49.4,49.4,49.4,49.4,49.4,49.4,49.4,49.4,49.4,49.4,49.4,50.184999999999995,50.97,51.754999999999995,52.54,53.324999999999996,54.11,54.894999999999996,55.68,56.464999999999996,57.25,58.035,58.82,59.605,60.39,61.175,61.959999999999994,62.745,63.529999999999994,64.315,65.1],\"yaxis\":\"y2\"},{\"fillcolor\":\"Black\",\"hoverinfo\":\"x+y\",\"line\":{\"color\":\"Black\",\"width\":0},\"mode\":\"lines\",\"name\":\"BF-BOF\",\"showlegend\":false,\"stackgroup\":\"one\",\"type\":\"scatter\",\"x\":[2015,2016,2017,2018,2019,2020,2021,2022,2023,2024,2025,2026,2027,2028,2029,2030,2031,2032,2033,2034,2035,2036,2037,2038,2039,2040,2041,2042,2043,2044,2045,2046,2047,2048,2049,2050],\"xaxis\":\"x3\",\"y\":[63.099999999999994,63.099999999999994,63.099999999999994,63.099999999999994,63.099999999999994,63.099999999999994,63.099999999999994,63.099999999999994,63.099999999999994,63.099999999999994,60.8,60.8,58.22980652982227,56.97980652982227,53.36960848551712,35.43921697103425,35.42421697103425,34.809216971034246,34.69421697103425,32.10312194454043,28.224216971034245,26.509382995270254,22.060773354614312,21.335773354614314,0.45999999999999963,0.3449999999999994,0.22999999999999934,0.11500000000000005,0.0,0.0,0.0,0.0,0.0,0.0,0.0,0.0],\"yaxis\":\"y3\"},{\"fillcolor\":\"brown\",\"hoverinfo\":\"x+y\",\"line\":{\"color\":\"brown\",\"width\":0},\"mode\":\"lines\",\"name\":\"BF-BOF w/ Biomass\",\"showlegend\":false,\"stackgroup\":\"one\",\"type\":\"scatter\",\"x\":[2015,2016,2017,2018,2019,2020,2021,2022,2023,2024,2025,2026,2027,2028,2029,2030,2031,2032,2033,2034,2035,2036,2037,2038,2039,2040,2041,2042,2043,2044,2045,2046,2047,2048,2049,2050],\"xaxis\":\"x3\",\"y\":[0.0,0.0,0.0,0.0,0.0,0.0,0.0,0.0,0.0,0.0,0.0,0.0,0.0,0.0,0.0,0.0,0.0,0.0,0.0,0.0,3.3289049735061917,3.3289049735061917,5.00734858992613,4.94734858992613,25.03812194454044,24.36812194454044,23.69812194454044,23.69812194454044,23.429987408115025,22.31952841315574,20.813420367883523,18.1385088848959,14.8535088848959,10.640270578056374,5.817204353214835,0.0],\"yaxis\":\"y3\"},{\"fillcolor\":\"turquoise\",\"hoverinfo\":\"x+y\",\"line\":{\"color\":\"turquoise\",\"width\":0},\"mode\":\"lines\",\"name\":\"DRI-EAF-H2\",\"showlegend\":false,\"stackgroup\":\"one\",\"type\":\"scatter\",\"x\":[2015,2016,2017,2018,2019,2020,2021,2022,2023,2024,2025,2026,2027,2028,2029,2030,2031,2032,2033,2034,2035,2036,2037,2038,2039,2040,2041,2042,2043,2044,2045,2046,2047,2048,2049,2050],\"xaxis\":\"x3\",\"y\":[0.0,0.0,0.0,0.0,0.0,0.0,0.0,0.0,0.0,0.0,0.0,0.0,0.0,0.0,0.0,20.280633918756852,20.29078302896575,20.12078302896575,19.45078302896575,18.780783028965747,18.54578302896575,21.470324065759357,25.97106340279752,27.782073175670725,28.23687805545955,28.236878055459552,30.536878055459553,29.866878055459555,29.465012591884975,29.790471586844255,30.511579632116472,32.4014911151041,34.9014911151041,38.064729421943625,41.83779564678516,46.065784313725494],\"yaxis\":\"y3\"},{\"fillcolor\":\"purple\",\"hoverinfo\":\"x+y\",\"line\":{\"color\":\"purple\",\"width\":0},\"mode\":\"lines\",\"name\":\"DRI-EAF-CH4\",\"showlegend\":false,\"stackgroup\":\"one\",\"type\":\"scatter\",\"x\":[2015,2016,2017,2018,2019,2020,2021,2022,2023,2024,2025,2026,2027,2028,2029,2030,2031,2032,2033,2034,2035,2036,2037,2038,2039,2040,2041,2042,2043,2044,2045,2046,2047,2048,2049,2050],\"xaxis\":\"x3\",\"y\":[0.0,0.0,0.0,0.0,0.0,0.0,0.0,0.0,0.0,0.0,2.3,2.3,4.870193470177728,6.120193470177728,9.730391514482879,7.380149110208893,6.6,6.6,6.6,9.076095026493809,9.076095026493809,7.081387965464192,4.565814652662033,2.75480487978883,2.3,2.2999999999999994,0.0,4.729372449219226e-16,-3.05590219795704e-16,-7.566995918750762e-16,8.36735125631094e-17,0.0,9.313225746154785e-16,0.0,2.9331204132176934e-16,0.0],\"yaxis\":\"y3\"},{\"fillcolor\":\"orange\",\"hoverinfo\":\"x+y\",\"line\":{\"color\":\"orange\",\"width\":0},\"mode\":\"lines\",\"name\":\"Electrowinning\",\"showlegend\":false,\"stackgroup\":\"one\",\"type\":\"scatter\",\"x\":[2015,2016,2017,2018,2019,2020,2021,2022,2023,2024,2025,2026,2027,2028,2029,2030,2031,2032,2033,2034,2035,2036,2037,2038,2039,2040,2041,2042,2043,2044,2045,2046,2047,2048,2049,2050],\"xaxis\":\"x3\",\"y\":[0.0,0.0,0.0,0.0,0.0,0.0,0.0,0.0,0.0,0.0,0.0,0.0,0.0,0.0,0.0,0.0,0.0,0.0,0.0,0.0,0.0,0.0,0.0,1.170700765750536e-15,9.014803805953606e-16,0.0,-1.5535022408507965e-16,0.0,0.0,0.0,0.0,0.0,0.0,0.2649999999999995,0.5300000000000005,1.3342156862745065],\"yaxis\":\"y3\"},{\"fillcolor\":\"yellow\",\"hoverinfo\":\"x+y\",\"line\":{\"color\":\"yellow\",\"width\":0},\"mode\":\"lines\",\"name\":\"EAF\",\"showlegend\":false,\"stackgroup\":\"one\",\"type\":\"scatter\",\"x\":[2015,2016,2017,2018,2019,2020,2021,2022,2023,2024,2025,2026,2027,2028,2029,2030,2031,2032,2033,2034,2035,2036,2037,2038,2039,2040,2041,2042,2043,2044,2045,2046,2047,2048,2049,2050],\"xaxis\":\"x3\",\"y\":[49.4,49.4,49.4,49.4,49.4,49.4,49.4,49.4,49.4,49.4,49.4,49.4,49.4,49.4,49.4,49.4,50.184999999999995,50.97,51.754999999999995,52.54,53.324999999999996,54.11,54.894999999999996,55.68,56.464999999999996,57.25,58.035,58.82,59.605,60.39,61.175,61.959999999999994,62.745,63.529999999999994,64.315,65.1],\"yaxis\":\"y3\"}],                        {\"annotations\":[{\"font\":{\"size\":24},\"showarrow\":false,\"text\":\"High electricity price\",\"x\":0.14444444444444446,\"xanchor\":\"center\",\"xref\":\"paper\",\"y\":1.0,\"yanchor\":\"bottom\",\"yref\":\"paper\"},{\"font\":{\"size\":24},\"showarrow\":false,\"text\":\"Reference\",\"x\":0.5,\"xanchor\":\"center\",\"xref\":\"paper\",\"y\":1.0,\"yanchor\":\"bottom\",\"yref\":\"paper\"},{\"font\":{\"size\":24},\"showarrow\":false,\"text\":\"Fossil phase-out\",\"x\":0.8555555555555556,\"xanchor\":\"center\",\"xref\":\"paper\",\"y\":1.0,\"yanchor\":\"bottom\",\"yref\":\"paper\"}],\"font\":{\"family\":\"Times New Roman\",\"size\":24},\"legend\":{\"font\":{\"size\":18},\"orientation\":\"h\",\"x\":1.01,\"xanchor\":\"right\",\"y\":1.1,\"yanchor\":\"bottom\"},\"template\":{\"data\":{\"bar\":[{\"error_x\":{\"color\":\"#2a3f5f\"},\"error_y\":{\"color\":\"#2a3f5f\"},\"marker\":{\"line\":{\"color\":\"#E5ECF6\",\"width\":0.5},\"pattern\":{\"fillmode\":\"overlay\",\"size\":10,\"solidity\":0.2}},\"type\":\"bar\"}],\"barpolar\":[{\"marker\":{\"line\":{\"color\":\"#E5ECF6\",\"width\":0.5},\"pattern\":{\"fillmode\":\"overlay\",\"size\":10,\"solidity\":0.2}},\"type\":\"barpolar\"}],\"carpet\":[{\"aaxis\":{\"endlinecolor\":\"#2a3f5f\",\"gridcolor\":\"white\",\"linecolor\":\"white\",\"minorgridcolor\":\"white\",\"startlinecolor\":\"#2a3f5f\"},\"baxis\":{\"endlinecolor\":\"#2a3f5f\",\"gridcolor\":\"white\",\"linecolor\":\"white\",\"minorgridcolor\":\"white\",\"startlinecolor\":\"#2a3f5f\"},\"type\":\"carpet\"}],\"choropleth\":[{\"colorbar\":{\"outlinewidth\":0,\"ticks\":\"\"},\"type\":\"choropleth\"}],\"contour\":[{\"colorbar\":{\"outlinewidth\":0,\"ticks\":\"\"},\"colorscale\":[[0.0,\"#0d0887\"],[0.1111111111111111,\"#46039f\"],[0.2222222222222222,\"#7201a8\"],[0.3333333333333333,\"#9c179e\"],[0.4444444444444444,\"#bd3786\"],[0.5555555555555556,\"#d8576b\"],[0.6666666666666666,\"#ed7953\"],[0.7777777777777778,\"#fb9f3a\"],[0.8888888888888888,\"#fdca26\"],[1.0,\"#f0f921\"]],\"type\":\"contour\"}],\"contourcarpet\":[{\"colorbar\":{\"outlinewidth\":0,\"ticks\":\"\"},\"type\":\"contourcarpet\"}],\"heatmap\":[{\"colorbar\":{\"outlinewidth\":0,\"ticks\":\"\"},\"colorscale\":[[0.0,\"#0d0887\"],[0.1111111111111111,\"#46039f\"],[0.2222222222222222,\"#7201a8\"],[0.3333333333333333,\"#9c179e\"],[0.4444444444444444,\"#bd3786\"],[0.5555555555555556,\"#d8576b\"],[0.6666666666666666,\"#ed7953\"],[0.7777777777777778,\"#fb9f3a\"],[0.8888888888888888,\"#fdca26\"],[1.0,\"#f0f921\"]],\"type\":\"heatmap\"}],\"heatmapgl\":[{\"colorbar\":{\"outlinewidth\":0,\"ticks\":\"\"},\"colorscale\":[[0.0,\"#0d0887\"],[0.1111111111111111,\"#46039f\"],[0.2222222222222222,\"#7201a8\"],[0.3333333333333333,\"#9c179e\"],[0.4444444444444444,\"#bd3786\"],[0.5555555555555556,\"#d8576b\"],[0.6666666666666666,\"#ed7953\"],[0.7777777777777778,\"#fb9f3a\"],[0.8888888888888888,\"#fdca26\"],[1.0,\"#f0f921\"]],\"type\":\"heatmapgl\"}],\"histogram\":[{\"marker\":{\"pattern\":{\"fillmode\":\"overlay\",\"size\":10,\"solidity\":0.2}},\"type\":\"histogram\"}],\"histogram2d\":[{\"colorbar\":{\"outlinewidth\":0,\"ticks\":\"\"},\"colorscale\":[[0.0,\"#0d0887\"],[0.1111111111111111,\"#46039f\"],[0.2222222222222222,\"#7201a8\"],[0.3333333333333333,\"#9c179e\"],[0.4444444444444444,\"#bd3786\"],[0.5555555555555556,\"#d8576b\"],[0.6666666666666666,\"#ed7953\"],[0.7777777777777778,\"#fb9f3a\"],[0.8888888888888888,\"#fdca26\"],[1.0,\"#f0f921\"]],\"type\":\"histogram2d\"}],\"histogram2dcontour\":[{\"colorbar\":{\"outlinewidth\":0,\"ticks\":\"\"},\"colorscale\":[[0.0,\"#0d0887\"],[0.1111111111111111,\"#46039f\"],[0.2222222222222222,\"#7201a8\"],[0.3333333333333333,\"#9c179e\"],[0.4444444444444444,\"#bd3786\"],[0.5555555555555556,\"#d8576b\"],[0.6666666666666666,\"#ed7953\"],[0.7777777777777778,\"#fb9f3a\"],[0.8888888888888888,\"#fdca26\"],[1.0,\"#f0f921\"]],\"type\":\"histogram2dcontour\"}],\"mesh3d\":[{\"colorbar\":{\"outlinewidth\":0,\"ticks\":\"\"},\"type\":\"mesh3d\"}],\"parcoords\":[{\"line\":{\"colorbar\":{\"outlinewidth\":0,\"ticks\":\"\"}},\"type\":\"parcoords\"}],\"pie\":[{\"automargin\":true,\"type\":\"pie\"}],\"scatter\":[{\"marker\":{\"colorbar\":{\"outlinewidth\":0,\"ticks\":\"\"}},\"type\":\"scatter\"}],\"scatter3d\":[{\"line\":{\"colorbar\":{\"outlinewidth\":0,\"ticks\":\"\"}},\"marker\":{\"colorbar\":{\"outlinewidth\":0,\"ticks\":\"\"}},\"type\":\"scatter3d\"}],\"scattercarpet\":[{\"marker\":{\"colorbar\":{\"outlinewidth\":0,\"ticks\":\"\"}},\"type\":\"scattercarpet\"}],\"scattergeo\":[{\"marker\":{\"colorbar\":{\"outlinewidth\":0,\"ticks\":\"\"}},\"type\":\"scattergeo\"}],\"scattergl\":[{\"marker\":{\"colorbar\":{\"outlinewidth\":0,\"ticks\":\"\"}},\"type\":\"scattergl\"}],\"scattermapbox\":[{\"marker\":{\"colorbar\":{\"outlinewidth\":0,\"ticks\":\"\"}},\"type\":\"scattermapbox\"}],\"scatterpolar\":[{\"marker\":{\"colorbar\":{\"outlinewidth\":0,\"ticks\":\"\"}},\"type\":\"scatterpolar\"}],\"scatterpolargl\":[{\"marker\":{\"colorbar\":{\"outlinewidth\":0,\"ticks\":\"\"}},\"type\":\"scatterpolargl\"}],\"scatterternary\":[{\"marker\":{\"colorbar\":{\"outlinewidth\":0,\"ticks\":\"\"}},\"type\":\"scatterternary\"}],\"surface\":[{\"colorbar\":{\"outlinewidth\":0,\"ticks\":\"\"},\"colorscale\":[[0.0,\"#0d0887\"],[0.1111111111111111,\"#46039f\"],[0.2222222222222222,\"#7201a8\"],[0.3333333333333333,\"#9c179e\"],[0.4444444444444444,\"#bd3786\"],[0.5555555555555556,\"#d8576b\"],[0.6666666666666666,\"#ed7953\"],[0.7777777777777778,\"#fb9f3a\"],[0.8888888888888888,\"#fdca26\"],[1.0,\"#f0f921\"]],\"type\":\"surface\"}],\"table\":[{\"cells\":{\"fill\":{\"color\":\"#EBF0F8\"},\"line\":{\"color\":\"white\"}},\"header\":{\"fill\":{\"color\":\"#C8D4E3\"},\"line\":{\"color\":\"white\"}},\"type\":\"table\"}]},\"layout\":{\"annotationdefaults\":{\"arrowcolor\":\"#2a3f5f\",\"arrowhead\":0,\"arrowwidth\":1},\"autotypenumbers\":\"strict\",\"coloraxis\":{\"colorbar\":{\"outlinewidth\":0,\"ticks\":\"\"}},\"colorscale\":{\"diverging\":[[0,\"#8e0152\"],[0.1,\"#c51b7d\"],[0.2,\"#de77ae\"],[0.3,\"#f1b6da\"],[0.4,\"#fde0ef\"],[0.5,\"#f7f7f7\"],[0.6,\"#e6f5d0\"],[0.7,\"#b8e186\"],[0.8,\"#7fbc41\"],[0.9,\"#4d9221\"],[1,\"#276419\"]],\"sequential\":[[0.0,\"#0d0887\"],[0.1111111111111111,\"#46039f\"],[0.2222222222222222,\"#7201a8\"],[0.3333333333333333,\"#9c179e\"],[0.4444444444444444,\"#bd3786\"],[0.5555555555555556,\"#d8576b\"],[0.6666666666666666,\"#ed7953\"],[0.7777777777777778,\"#fb9f3a\"],[0.8888888888888888,\"#fdca26\"],[1.0,\"#f0f921\"]],\"sequentialminus\":[[0.0,\"#0d0887\"],[0.1111111111111111,\"#46039f\"],[0.2222222222222222,\"#7201a8\"],[0.3333333333333333,\"#9c179e\"],[0.4444444444444444,\"#bd3786\"],[0.5555555555555556,\"#d8576b\"],[0.6666666666666666,\"#ed7953\"],[0.7777777777777778,\"#fb9f3a\"],[0.8888888888888888,\"#fdca26\"],[1.0,\"#f0f921\"]]},\"colorway\":[\"#636efa\",\"#EF553B\",\"#00cc96\",\"#ab63fa\",\"#FFA15A\",\"#19d3f3\",\"#FF6692\",\"#B6E880\",\"#FF97FF\",\"#FECB52\"],\"font\":{\"color\":\"#2a3f5f\"},\"geo\":{\"bgcolor\":\"white\",\"lakecolor\":\"white\",\"landcolor\":\"#E5ECF6\",\"showlakes\":true,\"showland\":true,\"subunitcolor\":\"white\"},\"hoverlabel\":{\"align\":\"left\"},\"hovermode\":\"closest\",\"mapbox\":{\"style\":\"light\"},\"paper_bgcolor\":\"white\",\"plot_bgcolor\":\"#E5ECF6\",\"polar\":{\"angularaxis\":{\"gridcolor\":\"white\",\"linecolor\":\"white\",\"ticks\":\"\"},\"bgcolor\":\"#E5ECF6\",\"radialaxis\":{\"gridcolor\":\"white\",\"linecolor\":\"white\",\"ticks\":\"\"}},\"scene\":{\"xaxis\":{\"backgroundcolor\":\"#E5ECF6\",\"gridcolor\":\"white\",\"gridwidth\":2,\"linecolor\":\"white\",\"showbackground\":true,\"ticks\":\"\",\"zerolinecolor\":\"white\"},\"yaxis\":{\"backgroundcolor\":\"#E5ECF6\",\"gridcolor\":\"white\",\"gridwidth\":2,\"linecolor\":\"white\",\"showbackground\":true,\"ticks\":\"\",\"zerolinecolor\":\"white\"},\"zaxis\":{\"backgroundcolor\":\"#E5ECF6\",\"gridcolor\":\"white\",\"gridwidth\":2,\"linecolor\":\"white\",\"showbackground\":true,\"ticks\":\"\",\"zerolinecolor\":\"white\"}},\"shapedefaults\":{\"line\":{\"color\":\"#2a3f5f\"}},\"ternary\":{\"aaxis\":{\"gridcolor\":\"white\",\"linecolor\":\"white\",\"ticks\":\"\"},\"baxis\":{\"gridcolor\":\"white\",\"linecolor\":\"white\",\"ticks\":\"\"},\"bgcolor\":\"#E5ECF6\",\"caxis\":{\"gridcolor\":\"white\",\"linecolor\":\"white\",\"ticks\":\"\"}},\"title\":{\"x\":0.05},\"xaxis\":{\"automargin\":true,\"gridcolor\":\"white\",\"linecolor\":\"white\",\"ticks\":\"\",\"title\":{\"standoff\":15},\"zerolinecolor\":\"white\",\"zerolinewidth\":2},\"yaxis\":{\"automargin\":true,\"gridcolor\":\"white\",\"linecolor\":\"white\",\"ticks\":\"\",\"title\":{\"standoff\":15},\"zerolinecolor\":\"white\",\"zerolinewidth\":2}}},\"xaxis\":{\"anchor\":\"y\",\"domain\":[0.0,0.2888888888888889],\"title\":{\"text\":\"Year\"}},\"xaxis2\":{\"anchor\":\"y2\",\"domain\":[0.35555555555555557,0.6444444444444445],\"title\":{\"text\":\"Year\"}},\"xaxis3\":{\"anchor\":\"y3\",\"domain\":[0.7111111111111111,1.0],\"title\":{\"text\":\"Year\"}},\"yaxis\":{\"anchor\":\"x\",\"domain\":[0.0,1.0],\"title\":{\"text\":\"Production (Mt of steel)\"}},\"yaxis2\":{\"anchor\":\"x2\",\"domain\":[0.0,1.0],\"matches\":\"y\",\"showticklabels\":false},\"yaxis3\":{\"anchor\":\"x3\",\"domain\":[0.0,1.0],\"matches\":\"y\",\"showticklabels\":false}},                        {\"responsive\": true}                    ).then(function(){\n",
       "                            \n",
       "var gd = document.getElementById('7b1ad498-3207-4006-882d-e713d29544c0');\n",
       "var x = new MutationObserver(function (mutations, observer) {{\n",
       "        var display = window.getComputedStyle(gd).display;\n",
       "        if (!display || display === 'none') {{\n",
       "            console.log([gd, 'removed!']);\n",
       "            Plotly.purge(gd);\n",
       "            observer.disconnect();\n",
       "        }}\n",
       "}});\n",
       "\n",
       "// Listen for the removal of the full notebook cells\n",
       "var notebookContainer = gd.closest('#notebook-container');\n",
       "if (notebookContainer) {{\n",
       "    x.observe(notebookContainer, {childList: true});\n",
       "}}\n",
       "\n",
       "// Listen for the clearing of the current output cell\n",
       "var outputEl = gd.closest('.output');\n",
       "if (outputEl) {{\n",
       "    x.observe(outputEl, {childList: true});\n",
       "}}\n",
       "\n",
       "                        })                };                });            </script>        </div>"
      ]
     },
     "metadata": {},
     "output_type": "display_data"
    }
   ],
   "source": [
    "tech_list=['BF-BOF',\"DRI-EAF\",\"Electrowinning\",\"EAF\"]\n",
    "steel_techs={\"BF-BOF\":[['BF-BOF'],['Coal','H2']],\n",
    "             \"BF-BOF w/ Biomass\":[['BF-BOF'],['Bio-min','Bio-medium','Bio-max']],             \n",
    "             \"DRI-EAF-H2\":[[\"DRI-EAF\"],[\"H2\"]],\"DRI-EAF-CH4\":[[\"DRI-EAF\"],[\"CH4\"]],\n",
    "             \"Electrowinning\":[[\"Electrowinning\"],[0]],\"EAF\":[[\"EAF\"],[0]]}\n",
    "steel_techs_colors={\"BF-BOF\":\"Black\",\"BF-BOF w/ Biomass\":\"brown\",\n",
    "                    \"DRI-EAF-H2\":\"turquoise\",\"DRI-EAF-CH4\":'purple',\n",
    "                    \"Electrowinning\":\"orange\",\"EAF\":\"yellow\"}\n",
    "\n",
    "\n",
    "fig =make_subplots(rows=1, cols=3,subplot_titles=list(scen.keys()),shared_yaxes=True)\n",
    "for i in range(len(scen.keys())):\n",
    "    showlegend=[True,False,False]\n",
    "    tech_usage_flow=scen[list(scen.keys())[i]]['tech_usage_flow']\n",
    "    tech_usage=tech_usage_flow[tech_usage_flow.Resource.isin([\"Steel_primary\",\"Steel_secondary\"])]\n",
    "    steel_tech_usage=tech_usage[tech_usage.Technology.isin(tech_list)]\n",
    "    for tech in steel_techs.keys():\n",
    "            t_list=steel_techs[tech][0]\n",
    "            tt_list=steel_techs[tech][1]\n",
    "            u=steel_tech_usage[(steel_tech_usage.Technology.isin(t_list))&(steel_tech_usage.Tech_type.isin(tt_list))]\n",
    "            u=u[[\"Year\",\"Flow\"]].groupby(by='Year').sum().reset_index()\n",
    "\n",
    "            fig.add_trace(go.Scatter(x=u.Year,y=u.Flow*1e-6,name=tech,line=dict(width=0,color=steel_techs_colors[tech]), \n",
    "                                 fillcolor=steel_techs_colors[tech],\n",
    "                                 hoverinfo=\"x+y\",mode='lines',stackgroup='one',showlegend=showlegend[i]),row=1, col=i+1)\n",
    "\n",
    "    fig.update_xaxes(title_text=\"Year\", row=1, col=i+1)\n",
    "    \n",
    "fig.update_layout(#title='Steel production per technology in EU-5+1',title_x=0.5,\n",
    "                   yaxis_title='Production (Mt of steel)')\n",
    "fig.update_layout(\n",
    "    font=dict(\n",
    "        family=\"Times New Roman\",size=24)\n",
    "    )\n",
    "fig.update_annotations(font_size=24)\n",
    "fig.update_layout(legend=dict(\n",
    "    orientation=\"h\",\n",
    "    yanchor=\"bottom\",\n",
    "    y=1.1,\n",
    "    xanchor=\"right\",\n",
    "    x=1.01,font = dict(size=18)\n",
    "))\n",
    "fig.show()"
   ]
  },
  {
   "cell_type": "code",
   "execution_count": 246,
   "id": "a49b871d",
   "metadata": {},
   "outputs": [
    {
     "data": {
      "application/vnd.plotly.v1+json": {
       "config": {
        "plotlyServerURL": "https://plot.ly"
       },
       "data": [
        {
         "fillcolor": "blue",
         "line": {
          "color": "blue",
          "width": 0
         },
         "mode": "lines",
         "name": "France",
         "showlegend": true,
         "stackgroup": "one",
         "type": "scatter",
         "x": [
          2015,
          2016,
          2017,
          2018,
          2019,
          2020,
          2021,
          2022,
          2023,
          2024,
          2025,
          2026,
          2027,
          2028,
          2029,
          2030,
          2031,
          2032,
          2033,
          2034,
          2035,
          2036,
          2037,
          2038,
          2039,
          2040,
          2041,
          2042,
          2043,
          2044,
          2045,
          2046,
          2047,
          2048,
          2049,
          2050
         ],
         "xaxis": "x",
         "y": [
          19.571297032258066,
          19.492479432258065,
          19.413661832258065,
          19.334844232258064,
          19.256026632258067,
          19.177209032258066,
          19.09507424516129,
          19.012939458064515,
          18.930804670967742,
          18.84866988387097,
          18.766535096774195,
          18.68443032296352,
          22.750291248254445,
          22.668152173545373,
          22.586013098836297,
          34.08559988910806,
          25.064677688670482,
          25.207942426110943,
          25.273123351401868,
          26.3657157593178,
          32.229376445288715,
          32.873721714423894,
          35.167974088729416,
          42.07844025284948,
          40.79222810745008,
          43.906545709770086,
          42.96632720831575,
          41.33681049682616,
          49.87904318403988,
          52.850981090378426,
          47.9408281252558,
          47.5064268119547,
          43.45396684854018,
          36.72613645690448,
          33.871911953348274,
          38.72717338412918
         ],
         "yaxis": "y"
        },
        {
         "fillcolor": "black",
         "line": {
          "color": "black",
          "width": 0
         },
         "mode": "lines",
         "name": "Germany",
         "showlegend": true,
         "stackgroup": "one",
         "type": "scatter",
         "x": [
          2015,
          2016,
          2017,
          2018,
          2019,
          2020,
          2021,
          2022,
          2023,
          2024,
          2025,
          2026,
          2027,
          2028,
          2029,
          2030,
          2031,
          2032,
          2033,
          2034,
          2035,
          2036,
          2037,
          2038,
          2039,
          2040,
          2041,
          2042,
          2043,
          2044,
          2045,
          2046,
          2047,
          2048,
          2049,
          2050
         ],
         "xaxis": "x",
         "y": [
          52.84859530573321,
          49.420102812903224,
          49.38069401290322,
          49.34128521290322,
          49.30187641290322,
          49.26246761290322,
          49.01549625806451,
          48.7685249032258,
          48.5215535483871,
          48.27458219354838,
          48.29261083870968,
          48.158099667442634,
          47.93479607626649,
          47.711492485090346,
          47.48818889391421,
          50.635383407214206,
          50.12120731603806,
          53.99845508117008,
          54.386468989993936,
          54.77448289881779,
          63.08287561570606,
          63.56701795766192,
          63.21267177661655,
          65.31425157853415,
          68.90246915822952,
          78.14760002366664,
          85.74873088910375,
          89.85365163990755,
          93.82109705609551,
          95.23885548846359,
          95.25865018412055,
          97.78824434801959,
          115.43201564167418,
          118.07994940482124,
          121.49244677581146,
          118.0569871200831
         ],
         "yaxis": "y"
        },
        {
         "fillcolor": "green",
         "line": {
          "color": "green",
          "width": 0
         },
         "mode": "lines",
         "name": "Italy",
         "showlegend": true,
         "stackgroup": "one",
         "type": "scatter",
         "x": [
          2015,
          2016,
          2017,
          2018,
          2019,
          2020,
          2021,
          2022,
          2023,
          2024,
          2025,
          2026,
          2027,
          2028,
          2029,
          2030,
          2031,
          2032,
          2033,
          2034,
          2035,
          2036,
          2037,
          2038,
          2039,
          2040,
          2041,
          2042,
          2043,
          2044,
          2045,
          2046,
          2047,
          2048,
          2049,
          2050
         ],
         "xaxis": "x",
         "y": [
          36.16953380645162,
          36.16953380645161,
          36.16953380645161,
          36.16953380645161,
          36.16953380645161,
          36.16953380645161,
          36.15442047569893,
          36.13930714494624,
          36.124193814193546,
          36.109080483440856,
          36.09396715268817,
          36.07885382193548,
          36.0637404911828,
          36.04862716043011,
          36.03351382967742,
          36.202714224414926,
          36.17578839366224,
          36.86694883741936,
          36.84002300666667,
          36.813097175913974,
          38.21038028274882,
          38.18288771143099,
          38.2170036777895,
          38.05319685223634,
          38.029972813474245,
          41.069240483577794,
          42.43606387889148,
          42.36171459031622,
          42.27767727989276,
          42.197303458094254,
          42.10698442526181,
          42.140729940549996,
          42.05994846254735,
          41.97902711216072,
          41.89810576177409,
          45.916204019230605
         ],
         "yaxis": "y"
        },
        {
         "fillcolor": "yellow",
         "line": {
          "color": "yellow",
          "width": 0
         },
         "mode": "lines",
         "name": "Belgium",
         "showlegend": true,
         "stackgroup": "one",
         "type": "scatter",
         "x": [
          2015,
          2016,
          2017,
          2018,
          2019,
          2020,
          2021,
          2022,
          2023,
          2024,
          2025,
          2026,
          2027,
          2028,
          2029,
          2030,
          2031,
          2032,
          2033,
          2034,
          2035,
          2036,
          2037,
          2038,
          2039,
          2040,
          2041,
          2042,
          2043,
          2044,
          2045,
          2046,
          2047,
          2048,
          2049,
          2050
         ],
         "xaxis": "x",
         "y": [
          9.548770322580644,
          9.548770322580644,
          9.548770322580644,
          9.548770322580644,
          9.548770322580644,
          9.548770322580644,
          9.512841651612902,
          9.47691298064516,
          9.440984309677418,
          9.405055638709676,
          9.372662217199636,
          9.336733546231894,
          9.300804875264152,
          9.26487620429641,
          9.228947533328668,
          14.354258862360926,
          14.401553941393184,
          14.448849020425442,
          14.4961440994577,
          14.543439178489958,
          17.40071576449688,
          18.424154990795053,
          20.208783199036116,
          20.276798278068373,
          22.814813357100633,
          23.42551276882941,
          20.58946469674025,
          19.536665393185316,
          21.59087458812291,
          32.44433295095229,
          35.81232936783327,
          36.95940483978963,
          32.37531257733125,
          26.391538533425873,
          24.736017977897138,
          24.582191908914336
         ],
         "yaxis": "y"
        },
        {
         "fillcolor": "orange",
         "line": {
          "color": "orange",
          "width": 0
         },
         "mode": "lines",
         "name": "Spain",
         "showlegend": true,
         "stackgroup": "one",
         "type": "scatter",
         "x": [
          2015,
          2016,
          2017,
          2018,
          2019,
          2020,
          2021,
          2022,
          2023,
          2024,
          2025,
          2026,
          2027,
          2028,
          2029,
          2030,
          2031,
          2032,
          2033,
          2034,
          2035,
          2036,
          2037,
          2038,
          2039,
          2040,
          2041,
          2042,
          2043,
          2044,
          2045,
          2046,
          2047,
          2048,
          2049,
          2050
         ],
         "xaxis": "x",
         "y": [
          24.288206451612904,
          24.288206451612904,
          24.288206451612904,
          24.288206451612904,
          24.288206451612904,
          24.288206451612904,
          24.23571569892473,
          24.18322494623656,
          24.130734193548385,
          24.078243440860213,
          28.79595268817204,
          28.74346193548387,
          28.6909711827957,
          28.638480430107524,
          28.585989677419352,
          28.57109892473118,
          28.92377067204301,
          28.862842419354838,
          28.801914166666666,
          28.741692963870037,
          33.79010746339395,
          33.63672893263528,
          34.125663219404636,
          32.75885032875223,
          32.84784531841749,
          36.0004918591645,
          36.208766966155814,
          35.683736350943086,
          35.55213823992911,
          37.015352856922824,
          32.50011214267116,
          32.460308765863175,
          32.294201407710894,
          32.26187744596196,
          32.12383665961441,
          32.85682690594615
         ],
         "yaxis": "y"
        },
        {
         "fillcolor": "red",
         "line": {
          "color": "red",
          "width": 0
         },
         "mode": "lines",
         "name": "Great Britain",
         "showlegend": true,
         "stackgroup": "one",
         "type": "scatter",
         "x": [
          2015,
          2016,
          2017,
          2018,
          2019,
          2020,
          2021,
          2022,
          2023,
          2024,
          2025,
          2026,
          2027,
          2028,
          2029,
          2030,
          2031,
          2032,
          2033,
          2034,
          2035,
          2036,
          2037,
          2038,
          2039,
          2040,
          2041,
          2042,
          2043,
          2044,
          2045,
          2046,
          2047,
          2048,
          2049,
          2050
         ],
         "xaxis": "x",
         "y": [
          9.336328,
          9.336328,
          9.336328,
          9.336328,
          9.336328,
          9.336328,
          9.2969192,
          9.2575104,
          9.2181016,
          9.1786928,
          9.139284,
          9.0998752,
          9.0604664,
          9.0210576,
          8.9816488,
          10.169215358866463,
          10.796082437004646,
          11.003886137004647,
          11.211689837004647,
          11.419493537004646,
          12.400557245618302,
          12.4299609456183,
          12.6377646456183,
          12.8455683456183,
          13.416322045618301,
          15.984759869484272,
          16.16491203117782,
          15.982114192871368,
          16.119971986062595,
          16.273833054018816,
          16.421021215712365,
          16.619786815490805,
          16.767038977184352,
          16.914291138877903,
          17.817715925081345,
          22.060343019640523
         ],
         "yaxis": "y"
        },
        {
         "fillcolor": "blue",
         "line": {
          "color": "blue",
          "width": 0
         },
         "mode": "lines",
         "name": "France",
         "showlegend": false,
         "stackgroup": "one",
         "type": "scatter",
         "x": [
          2015,
          2016,
          2017,
          2018,
          2019,
          2020,
          2021,
          2022,
          2023,
          2024,
          2025,
          2026,
          2027,
          2028,
          2029,
          2030,
          2031,
          2032,
          2033,
          2034,
          2035,
          2036,
          2037,
          2038,
          2039,
          2040,
          2041,
          2042,
          2043,
          2044,
          2045,
          2046,
          2047,
          2048,
          2049,
          2050
         ],
         "xaxis": "x2",
         "y": [
          19.571297032258066,
          19.492479432258065,
          19.413661832258065,
          19.334844232258064,
          19.256026632258067,
          19.177209032258066,
          19.09507424516129,
          19.012939458064515,
          18.930804670967742,
          18.84866988387097,
          18.766535096774195,
          18.68443032296352,
          22.750291248254445,
          22.668152173545373,
          22.586013098836297,
          34.270222409146385,
          23.327320568308277,
          25.771918727470172,
          26.79828363874579,
          31.551224427883255,
          38.926262016643605,
          43.48889188520031,
          55.29021565849026,
          65.17259170253087,
          71.64776159421938,
          74.58232698144069,
          79.44850076529765,
          80.67585884233662,
          80.41810041764381,
          80.12992998047145,
          72.15261414032125,
          64.2914377326476,
          56.53386088653614,
          48.87988360198688,
          45.80089277928577,
          53.95576470048453
         ],
         "yaxis": "y2"
        },
        {
         "fillcolor": "black",
         "line": {
          "color": "black",
          "width": 0
         },
         "mode": "lines",
         "name": "Germany",
         "showlegend": false,
         "stackgroup": "one",
         "type": "scatter",
         "x": [
          2015,
          2016,
          2017,
          2018,
          2019,
          2020,
          2021,
          2022,
          2023,
          2024,
          2025,
          2026,
          2027,
          2028,
          2029,
          2030,
          2031,
          2032,
          2033,
          2034,
          2035,
          2036,
          2037,
          2038,
          2039,
          2040,
          2041,
          2042,
          2043,
          2044,
          2045,
          2046,
          2047,
          2048,
          2049,
          2050
         ],
         "xaxis": "x2",
         "y": [
          52.205774883214595,
          49.420102812903224,
          49.38069401290322,
          49.34128521290322,
          49.30187641290322,
          49.26246761290322,
          49.01549625806451,
          48.7685249032258,
          48.5215535483871,
          48.27458219354838,
          48.29261083870966,
          48.158099667442634,
          48.60292621680344,
          50.97212262562729,
          53.341319034451146,
          66.5005721959523,
          66.8512627169165,
          66.33708662574035,
          65.82291053456422,
          67.45872038036134,
          75.65027802286755,
          80.99945965026518,
          84.78362449597782,
          91.80676545830211,
          98.74990642062642,
          110.30659844647025,
          121.78329047231408,
          128.82918911535637,
          135.44849900470538,
          138.5722728508025,
          141.22273391243448,
          147.1718242128164,
          155.06461187731168,
          162.44808504264236,
          168.9086608427786,
          188.9427653711648
         ],
         "yaxis": "y2"
        },
        {
         "fillcolor": "green",
         "line": {
          "color": "green",
          "width": 0
         },
         "mode": "lines",
         "name": "Italy",
         "showlegend": false,
         "stackgroup": "one",
         "type": "scatter",
         "x": [
          2015,
          2016,
          2017,
          2018,
          2019,
          2020,
          2021,
          2022,
          2023,
          2024,
          2025,
          2026,
          2027,
          2028,
          2029,
          2030,
          2031,
          2032,
          2033,
          2034,
          2035,
          2036,
          2037,
          2038,
          2039,
          2040,
          2041,
          2042,
          2043,
          2044,
          2045,
          2046,
          2047,
          2048,
          2049,
          2050
         ],
         "xaxis": "x2",
         "y": [
          36.16953380645162,
          36.16953380645161,
          36.16953380645161,
          36.16953380645161,
          36.16953380645161,
          36.16953380645161,
          36.15442047569893,
          36.13930714494624,
          36.124193814193546,
          36.109080483440856,
          36.09396715268817,
          36.07885382193548,
          36.0637404911828,
          36.04862716043011,
          38.211481334443164,
          45.59688701193167,
          45.569961181178975,
          45.543035350426294,
          45.516109519673606,
          46.598834926709756,
          48.165660963323326,
          48.1381683920055,
          48.194404807390185,
          48.16315679736994,
          48.1512848310461,
          50.546287220886605,
          51.91311061620029,
          51.84018092005904,
          51.696289112371055,
          51.55082336725535,
          50.892089898057804,
          56.21848131192295,
          58.80665624466439,
          58.69200615303865,
          58.99695416434309,
          59.297827438036364
         ],
         "yaxis": "y2"
        },
        {
         "fillcolor": "yellow",
         "line": {
          "color": "yellow",
          "width": 0
         },
         "mode": "lines",
         "name": "Belgium",
         "showlegend": false,
         "stackgroup": "one",
         "type": "scatter",
         "x": [
          2015,
          2016,
          2017,
          2018,
          2019,
          2020,
          2021,
          2022,
          2023,
          2024,
          2025,
          2026,
          2027,
          2028,
          2029,
          2030,
          2031,
          2032,
          2033,
          2034,
          2035,
          2036,
          2037,
          2038,
          2039,
          2040,
          2041,
          2042,
          2043,
          2044,
          2045,
          2046,
          2047,
          2048,
          2049,
          2050
         ],
         "xaxis": "x2",
         "y": [
          9.548770322580644,
          9.548770322580644,
          9.548770322580644,
          9.548770322580644,
          9.548770322580644,
          9.548770322580644,
          9.512841651612902,
          9.47691298064516,
          9.440984309677418,
          9.405055638709676,
          9.372662217199636,
          9.336733546231894,
          9.300804875264152,
          9.26487620429641,
          9.31190753332867,
          14.787129026423425,
          14.710437981715764,
          14.633746937008103,
          14.878298384671414,
          14.811055648562899,
          21.641158126316434,
          29.582298990795056,
          36.31163263814258,
          42.40473983482562,
          47.25913891385788,
          48.49068338483954,
          51.63899446059869,
          60.13395681384203,
          59.78850096172211,
          59.532566959064546,
          52.978208933382945,
          46.50126362589094,
          39.34234197805515,
          32.968722525832675,
          28.386102509846573,
          27.336913764720116
         ],
         "yaxis": "y2"
        },
        {
         "fillcolor": "orange",
         "line": {
          "color": "orange",
          "width": 0
         },
         "mode": "lines",
         "name": "Spain",
         "showlegend": false,
         "stackgroup": "one",
         "type": "scatter",
         "x": [
          2015,
          2016,
          2017,
          2018,
          2019,
          2020,
          2021,
          2022,
          2023,
          2024,
          2025,
          2026,
          2027,
          2028,
          2029,
          2030,
          2031,
          2032,
          2033,
          2034,
          2035,
          2036,
          2037,
          2038,
          2039,
          2040,
          2041,
          2042,
          2043,
          2044,
          2045,
          2046,
          2047,
          2048,
          2049,
          2050
         ],
         "xaxis": "x2",
         "y": [
          24.288206451612904,
          24.288206451612904,
          24.288206451612904,
          24.288206451612904,
          24.288206451612904,
          24.288206451612904,
          24.23571569892473,
          24.18322494623656,
          24.130734193548385,
          24.078243440860213,
          28.79595268817204,
          28.74346193548387,
          28.6909711827957,
          28.638480430107524,
          28.585989677419352,
          33.543568534106186,
          33.48368768817204,
          33.4238068422379,
          34.09410452874387,
          34.055699521999145,
          40.31948444163796,
          43.01225070372509,
          53.00318363041509,
          59.67950804905755,
          61.20041883609591,
          64.127564447587,
          64.04235750455965,
          63.766197137677885,
          63.49003677079611,
          61.76630765186551,
          53.94192537175665,
          52.196554389600145,
          47.22930457598364,
          44.87700927115073,
          44.02815174008132,
          43.908427718416974
         ],
         "yaxis": "y2"
        },
        {
         "fillcolor": "red",
         "line": {
          "color": "red",
          "width": 0
         },
         "mode": "lines",
         "name": "Great Britain",
         "showlegend": false,
         "stackgroup": "one",
         "type": "scatter",
         "x": [
          2015,
          2016,
          2017,
          2018,
          2019,
          2020,
          2021,
          2022,
          2023,
          2024,
          2025,
          2026,
          2027,
          2028,
          2029,
          2030,
          2031,
          2032,
          2033,
          2034,
          2035,
          2036,
          2037,
          2038,
          2039,
          2040,
          2041,
          2042,
          2043,
          2044,
          2045,
          2046,
          2047,
          2048,
          2049,
          2050
         ],
         "xaxis": "x2",
         "y": [
          9.336328,
          9.336328,
          9.336328,
          9.336328,
          9.336328,
          9.336328,
          9.2969192,
          9.2575104,
          9.2181016,
          9.1786928,
          9.139284,
          9.0998752,
          9.0604664,
          9.0210576,
          11.257457133333334,
          19.113284117647062,
          18.971224092156863,
          18.816077792156864,
          19.02732400981259,
          19.084121311642363,
          19.48684890077052,
          19.67100126468271,
          21.175856300770516,
          21.383660000770515,
          21.796162472618235,
          24.364600296484205,
          24.544752458177754,
          24.3619546198713,
          24.35714452753606,
          24.50439668922961,
          26.114386982548343,
          31.650945808485623,
          33.819505725242905,
          33.82997539496544,
          33.10520006468797,
          37.31836628186651
         ],
         "yaxis": "y2"
        },
        {
         "fillcolor": "blue",
         "line": {
          "color": "blue",
          "width": 0
         },
         "mode": "lines",
         "name": "France",
         "showlegend": false,
         "stackgroup": "one",
         "type": "scatter",
         "x": [
          2015,
          2016,
          2017,
          2018,
          2019,
          2020,
          2021,
          2022,
          2023,
          2024,
          2025,
          2026,
          2027,
          2028,
          2029,
          2030,
          2031,
          2032,
          2033,
          2034,
          2035,
          2036,
          2037,
          2038,
          2039,
          2040,
          2041,
          2042,
          2043,
          2044,
          2045,
          2046,
          2047,
          2048,
          2049,
          2050
         ],
         "xaxis": "x3",
         "y": [
          19.571297032258066,
          19.492479432258065,
          19.413661832258065,
          19.334844232258064,
          19.256026632258067,
          19.177209032258066,
          19.09507424516129,
          19.012939458064515,
          18.930804670967742,
          18.84866988387097,
          18.766535096774195,
          18.68443032296352,
          22.750291248254445,
          22.668152173545373,
          22.586013098836297,
          33.950953607460555,
          23.262460568308278,
          25.707058727470173,
          26.73767077482088,
          31.967756479725256,
          39.34291898425253,
          43.53195660735225,
          55.33796834960559,
          65.69613682426656,
          72.17529227678912,
          75.1138432248445,
          79.97877791801459,
          81.6412373473436,
          81.38406176685601,
          80.42889606788454,
          72.33973648739693,
          64.59229719238311,
          56.835303190476864,
          55.27741423932489,
          64.1302908652731,
          73.59228583154811
         ],
         "yaxis": "y3"
        },
        {
         "fillcolor": "black",
         "line": {
          "color": "black",
          "width": 0
         },
         "mode": "lines",
         "name": "Germany",
         "showlegend": false,
         "stackgroup": "one",
         "type": "scatter",
         "x": [
          2015,
          2016,
          2017,
          2018,
          2019,
          2020,
          2021,
          2022,
          2023,
          2024,
          2025,
          2026,
          2027,
          2028,
          2029,
          2030,
          2031,
          2032,
          2033,
          2034,
          2035,
          2036,
          2037,
          2038,
          2039,
          2040,
          2041,
          2042,
          2043,
          2044,
          2045,
          2046,
          2047,
          2048,
          2049,
          2050
         ],
         "xaxis": "x3",
         "y": [
          49.45951161290322,
          49.420102812903224,
          49.38069401290322,
          49.34128521290322,
          49.30187641290322,
          49.26246761290322,
          49.01549625806451,
          48.7685249032258,
          48.5215535483871,
          48.27458219354838,
          48.29261083870968,
          48.158099667442634,
          49.1173773334151,
          51.48657374223895,
          53.85577015106282,
          66.38824781703528,
          67.78689898107231,
          67.27272288989617,
          66.75854679872003,
          68.63433085427602,
          76.94069791315997,
          83.53860681783158,
          88.20251267458953,
          95.20590214546672,
          102.49662776856377,
          114.03356830296049,
          125.49050883735721,
          132.51149782792197,
          138.66406150708116,
          142.2221426732104,
          144.8163757777366,
          152.5594216218155,
          165.63778223716474,
          174.25454635528718,
          181.87633310821516,
          198.6328725109617
         ],
         "yaxis": "y3"
        },
        {
         "fillcolor": "green",
         "line": {
          "color": "green",
          "width": 0
         },
         "mode": "lines",
         "name": "Italy",
         "showlegend": false,
         "stackgroup": "one",
         "type": "scatter",
         "x": [
          2015,
          2016,
          2017,
          2018,
          2019,
          2020,
          2021,
          2022,
          2023,
          2024,
          2025,
          2026,
          2027,
          2028,
          2029,
          2030,
          2031,
          2032,
          2033,
          2034,
          2035,
          2036,
          2037,
          2038,
          2039,
          2040,
          2041,
          2042,
          2043,
          2044,
          2045,
          2046,
          2047,
          2048,
          2049,
          2050
         ],
         "xaxis": "x3",
         "y": [
          36.16953380645161,
          36.16953380645161,
          36.16953380645161,
          36.16953380645161,
          36.16953380645161,
          36.16953380645161,
          36.15442047569893,
          36.13930714494624,
          36.124193814193546,
          36.109080483440856,
          36.09396715268817,
          36.07885382193548,
          36.0637404911828,
          36.04862716043011,
          38.211481334443164,
          45.59688701193167,
          45.56996118117898,
          45.543035350426294,
          45.516109519673606,
          46.60221048070246,
          48.16913296171582,
          48.141640390397995,
          48.196245758017234,
          48.175489159335044,
          47.50163118560295,
          50.549759219279096,
          51.91254878929992,
          51.839619093158674,
          51.69572728547069,
          51.55026154035498,
          50.783717475534466,
          56.15127761099934,
          58.80665624466439,
          58.69200615303865,
          58.99695416434309,
          59.297827438036364
         ],
         "yaxis": "y3"
        },
        {
         "fillcolor": "yellow",
         "line": {
          "color": "yellow",
          "width": 0
         },
         "mode": "lines",
         "name": "Belgium",
         "showlegend": false,
         "stackgroup": "one",
         "type": "scatter",
         "x": [
          2015,
          2016,
          2017,
          2018,
          2019,
          2020,
          2021,
          2022,
          2023,
          2024,
          2025,
          2026,
          2027,
          2028,
          2029,
          2030,
          2031,
          2032,
          2033,
          2034,
          2035,
          2036,
          2037,
          2038,
          2039,
          2040,
          2041,
          2042,
          2043,
          2044,
          2045,
          2046,
          2047,
          2048,
          2049,
          2050
         ],
         "xaxis": "x3",
         "y": [
          9.548770322580644,
          9.548770322580644,
          9.548770322580644,
          9.548770322580644,
          9.548770322580644,
          9.548770322580644,
          9.512841651612902,
          9.47691298064516,
          9.440984309677418,
          9.405055638709676,
          9.372662217199636,
          9.336733546231894,
          9.300804875264152,
          9.26487620429641,
          9.645093998335444,
          15.416893956436983,
          15.380566808140822,
          15.30387576343316,
          15.548226771670208,
          15.63826214028445,
          22.34269472276074,
          32.635760743056615,
          42.034147876401676,
          48.646153474334305,
          55.0790284232233,
          56.43146282512647,
          57.21717483011997,
          65.86713022035643,
          65.4933647788214,
          64.96033995067042,
          59.91399416456961,
          52.97459904698493,
          42.07979007981819,
          37.04920635225151,
          42.33563516078101,
          52.731556915666985
         ],
         "yaxis": "y3"
        },
        {
         "fillcolor": "orange",
         "line": {
          "color": "orange",
          "width": 0
         },
         "mode": "lines",
         "name": "Spain",
         "showlegend": false,
         "stackgroup": "one",
         "type": "scatter",
         "x": [
          2015,
          2016,
          2017,
          2018,
          2019,
          2020,
          2021,
          2022,
          2023,
          2024,
          2025,
          2026,
          2027,
          2028,
          2029,
          2030,
          2031,
          2032,
          2033,
          2034,
          2035,
          2036,
          2037,
          2038,
          2039,
          2040,
          2041,
          2042,
          2043,
          2044,
          2045,
          2046,
          2047,
          2048,
          2049,
          2050
         ],
         "xaxis": "x3",
         "y": [
          24.288206451612904,
          24.288206451612904,
          24.288206451612904,
          24.288206451612904,
          24.288206451612904,
          24.2882064516129,
          24.23571569892473,
          24.18322494623656,
          24.130734193548385,
          24.078243440860213,
          28.79595268817204,
          28.74346193548387,
          28.6909711827957,
          28.638480430107524,
          28.585989677419352,
          33.543568534106186,
          33.48368768817204,
          33.4238068422379,
          34.097499335476826,
          34.05919417598895,
          40.32307894288462,
          43.01584520497175,
          52.26316636887183,
          60.02358595875839,
          61.54449674579674,
          64.47164235728782,
          64.38225926312073,
          64.10609889623896,
          63.8299385293572,
          62.1062094104266,
          54.20553432471969,
          52.109808060276364,
          47.148309846061004,
          44.79777529622642,
          43.95067852015533,
          43.832715253489305
         ],
         "yaxis": "y3"
        },
        {
         "fillcolor": "red",
         "line": {
          "color": "red",
          "width": 0
         },
         "mode": "lines",
         "name": "Great Britain",
         "showlegend": false,
         "stackgroup": "one",
         "type": "scatter",
         "x": [
          2015,
          2016,
          2017,
          2018,
          2019,
          2020,
          2021,
          2022,
          2023,
          2024,
          2025,
          2026,
          2027,
          2028,
          2029,
          2030,
          2031,
          2032,
          2033,
          2034,
          2035,
          2036,
          2037,
          2038,
          2039,
          2040,
          2041,
          2042,
          2043,
          2044,
          2045,
          2046,
          2047,
          2048,
          2049,
          2050
         ],
         "xaxis": "x3",
         "y": [
          9.336328,
          9.336328,
          9.336328,
          9.336328,
          9.336328,
          9.336328,
          9.2969192,
          9.2575104,
          9.2181016,
          9.1786928,
          9.139284,
          9.0998752,
          9.0604664,
          9.0210576,
          11.28258557411634,
          19.090073548232684,
          19.016925383687003,
          18.861779083687004,
          18.92765616863342,
          19.131135942010633,
          19.170951055105597,
          19.667796537451768,
          21.222908455105596,
          21.430712155105592,
          21.843214626953312,
          24.41008299601725,
          24.590235157710794,
          24.407437319404345,
          24.35692593553896,
          24.50417809723251,
          26.16644001695394,
          31.72758783517422,
          33.92230212976526,
          33.93227746950517,
          33.92612067253112,
          37.31836628186651
         ],
         "yaxis": "y3"
        }
       ],
       "layout": {
        "annotations": [
         {
          "font": {
           "size": 24
          },
          "showarrow": false,
          "text": "High electricity price",
          "x": 0.14444444444444446,
          "xanchor": "center",
          "xref": "paper",
          "y": 1,
          "yanchor": "bottom",
          "yref": "paper"
         },
         {
          "font": {
           "size": 24
          },
          "showarrow": false,
          "text": "Reference",
          "x": 0.5,
          "xanchor": "center",
          "xref": "paper",
          "y": 1,
          "yanchor": "bottom",
          "yref": "paper"
         },
         {
          "font": {
           "size": 24
          },
          "showarrow": false,
          "text": "Fossil phase-out",
          "x": 0.8555555555555556,
          "xanchor": "center",
          "xref": "paper",
          "y": 1,
          "yanchor": "bottom",
          "yref": "paper"
         }
        ],
        "font": {
         "family": "Times New Roman",
         "size": 24
        },
        "legend": {
         "font": {
          "size": 20
         },
         "orientation": "h",
         "x": 0.9,
         "xanchor": "right",
         "y": 1.1,
         "yanchor": "bottom"
        },
        "template": {
         "data": {
          "bar": [
           {
            "error_x": {
             "color": "#2a3f5f"
            },
            "error_y": {
             "color": "#2a3f5f"
            },
            "marker": {
             "line": {
              "color": "#E5ECF6",
              "width": 0.5
             },
             "pattern": {
              "fillmode": "overlay",
              "size": 10,
              "solidity": 0.2
             }
            },
            "type": "bar"
           }
          ],
          "barpolar": [
           {
            "marker": {
             "line": {
              "color": "#E5ECF6",
              "width": 0.5
             },
             "pattern": {
              "fillmode": "overlay",
              "size": 10,
              "solidity": 0.2
             }
            },
            "type": "barpolar"
           }
          ],
          "carpet": [
           {
            "aaxis": {
             "endlinecolor": "#2a3f5f",
             "gridcolor": "white",
             "linecolor": "white",
             "minorgridcolor": "white",
             "startlinecolor": "#2a3f5f"
            },
            "baxis": {
             "endlinecolor": "#2a3f5f",
             "gridcolor": "white",
             "linecolor": "white",
             "minorgridcolor": "white",
             "startlinecolor": "#2a3f5f"
            },
            "type": "carpet"
           }
          ],
          "choropleth": [
           {
            "colorbar": {
             "outlinewidth": 0,
             "ticks": ""
            },
            "type": "choropleth"
           }
          ],
          "contour": [
           {
            "colorbar": {
             "outlinewidth": 0,
             "ticks": ""
            },
            "colorscale": [
             [
              0,
              "#0d0887"
             ],
             [
              0.1111111111111111,
              "#46039f"
             ],
             [
              0.2222222222222222,
              "#7201a8"
             ],
             [
              0.3333333333333333,
              "#9c179e"
             ],
             [
              0.4444444444444444,
              "#bd3786"
             ],
             [
              0.5555555555555556,
              "#d8576b"
             ],
             [
              0.6666666666666666,
              "#ed7953"
             ],
             [
              0.7777777777777778,
              "#fb9f3a"
             ],
             [
              0.8888888888888888,
              "#fdca26"
             ],
             [
              1,
              "#f0f921"
             ]
            ],
            "type": "contour"
           }
          ],
          "contourcarpet": [
           {
            "colorbar": {
             "outlinewidth": 0,
             "ticks": ""
            },
            "type": "contourcarpet"
           }
          ],
          "heatmap": [
           {
            "colorbar": {
             "outlinewidth": 0,
             "ticks": ""
            },
            "colorscale": [
             [
              0,
              "#0d0887"
             ],
             [
              0.1111111111111111,
              "#46039f"
             ],
             [
              0.2222222222222222,
              "#7201a8"
             ],
             [
              0.3333333333333333,
              "#9c179e"
             ],
             [
              0.4444444444444444,
              "#bd3786"
             ],
             [
              0.5555555555555556,
              "#d8576b"
             ],
             [
              0.6666666666666666,
              "#ed7953"
             ],
             [
              0.7777777777777778,
              "#fb9f3a"
             ],
             [
              0.8888888888888888,
              "#fdca26"
             ],
             [
              1,
              "#f0f921"
             ]
            ],
            "type": "heatmap"
           }
          ],
          "heatmapgl": [
           {
            "colorbar": {
             "outlinewidth": 0,
             "ticks": ""
            },
            "colorscale": [
             [
              0,
              "#0d0887"
             ],
             [
              0.1111111111111111,
              "#46039f"
             ],
             [
              0.2222222222222222,
              "#7201a8"
             ],
             [
              0.3333333333333333,
              "#9c179e"
             ],
             [
              0.4444444444444444,
              "#bd3786"
             ],
             [
              0.5555555555555556,
              "#d8576b"
             ],
             [
              0.6666666666666666,
              "#ed7953"
             ],
             [
              0.7777777777777778,
              "#fb9f3a"
             ],
             [
              0.8888888888888888,
              "#fdca26"
             ],
             [
              1,
              "#f0f921"
             ]
            ],
            "type": "heatmapgl"
           }
          ],
          "histogram": [
           {
            "marker": {
             "pattern": {
              "fillmode": "overlay",
              "size": 10,
              "solidity": 0.2
             }
            },
            "type": "histogram"
           }
          ],
          "histogram2d": [
           {
            "colorbar": {
             "outlinewidth": 0,
             "ticks": ""
            },
            "colorscale": [
             [
              0,
              "#0d0887"
             ],
             [
              0.1111111111111111,
              "#46039f"
             ],
             [
              0.2222222222222222,
              "#7201a8"
             ],
             [
              0.3333333333333333,
              "#9c179e"
             ],
             [
              0.4444444444444444,
              "#bd3786"
             ],
             [
              0.5555555555555556,
              "#d8576b"
             ],
             [
              0.6666666666666666,
              "#ed7953"
             ],
             [
              0.7777777777777778,
              "#fb9f3a"
             ],
             [
              0.8888888888888888,
              "#fdca26"
             ],
             [
              1,
              "#f0f921"
             ]
            ],
            "type": "histogram2d"
           }
          ],
          "histogram2dcontour": [
           {
            "colorbar": {
             "outlinewidth": 0,
             "ticks": ""
            },
            "colorscale": [
             [
              0,
              "#0d0887"
             ],
             [
              0.1111111111111111,
              "#46039f"
             ],
             [
              0.2222222222222222,
              "#7201a8"
             ],
             [
              0.3333333333333333,
              "#9c179e"
             ],
             [
              0.4444444444444444,
              "#bd3786"
             ],
             [
              0.5555555555555556,
              "#d8576b"
             ],
             [
              0.6666666666666666,
              "#ed7953"
             ],
             [
              0.7777777777777778,
              "#fb9f3a"
             ],
             [
              0.8888888888888888,
              "#fdca26"
             ],
             [
              1,
              "#f0f921"
             ]
            ],
            "type": "histogram2dcontour"
           }
          ],
          "mesh3d": [
           {
            "colorbar": {
             "outlinewidth": 0,
             "ticks": ""
            },
            "type": "mesh3d"
           }
          ],
          "parcoords": [
           {
            "line": {
             "colorbar": {
              "outlinewidth": 0,
              "ticks": ""
             }
            },
            "type": "parcoords"
           }
          ],
          "pie": [
           {
            "automargin": true,
            "type": "pie"
           }
          ],
          "scatter": [
           {
            "marker": {
             "colorbar": {
              "outlinewidth": 0,
              "ticks": ""
             }
            },
            "type": "scatter"
           }
          ],
          "scatter3d": [
           {
            "line": {
             "colorbar": {
              "outlinewidth": 0,
              "ticks": ""
             }
            },
            "marker": {
             "colorbar": {
              "outlinewidth": 0,
              "ticks": ""
             }
            },
            "type": "scatter3d"
           }
          ],
          "scattercarpet": [
           {
            "marker": {
             "colorbar": {
              "outlinewidth": 0,
              "ticks": ""
             }
            },
            "type": "scattercarpet"
           }
          ],
          "scattergeo": [
           {
            "marker": {
             "colorbar": {
              "outlinewidth": 0,
              "ticks": ""
             }
            },
            "type": "scattergeo"
           }
          ],
          "scattergl": [
           {
            "marker": {
             "colorbar": {
              "outlinewidth": 0,
              "ticks": ""
             }
            },
            "type": "scattergl"
           }
          ],
          "scattermapbox": [
           {
            "marker": {
             "colorbar": {
              "outlinewidth": 0,
              "ticks": ""
             }
            },
            "type": "scattermapbox"
           }
          ],
          "scatterpolar": [
           {
            "marker": {
             "colorbar": {
              "outlinewidth": 0,
              "ticks": ""
             }
            },
            "type": "scatterpolar"
           }
          ],
          "scatterpolargl": [
           {
            "marker": {
             "colorbar": {
              "outlinewidth": 0,
              "ticks": ""
             }
            },
            "type": "scatterpolargl"
           }
          ],
          "scatterternary": [
           {
            "marker": {
             "colorbar": {
              "outlinewidth": 0,
              "ticks": ""
             }
            },
            "type": "scatterternary"
           }
          ],
          "surface": [
           {
            "colorbar": {
             "outlinewidth": 0,
             "ticks": ""
            },
            "colorscale": [
             [
              0,
              "#0d0887"
             ],
             [
              0.1111111111111111,
              "#46039f"
             ],
             [
              0.2222222222222222,
              "#7201a8"
             ],
             [
              0.3333333333333333,
              "#9c179e"
             ],
             [
              0.4444444444444444,
              "#bd3786"
             ],
             [
              0.5555555555555556,
              "#d8576b"
             ],
             [
              0.6666666666666666,
              "#ed7953"
             ],
             [
              0.7777777777777778,
              "#fb9f3a"
             ],
             [
              0.8888888888888888,
              "#fdca26"
             ],
             [
              1,
              "#f0f921"
             ]
            ],
            "type": "surface"
           }
          ],
          "table": [
           {
            "cells": {
             "fill": {
              "color": "#EBF0F8"
             },
             "line": {
              "color": "white"
             }
            },
            "header": {
             "fill": {
              "color": "#C8D4E3"
             },
             "line": {
              "color": "white"
             }
            },
            "type": "table"
           }
          ]
         },
         "layout": {
          "annotationdefaults": {
           "arrowcolor": "#2a3f5f",
           "arrowhead": 0,
           "arrowwidth": 1
          },
          "autotypenumbers": "strict",
          "coloraxis": {
           "colorbar": {
            "outlinewidth": 0,
            "ticks": ""
           }
          },
          "colorscale": {
           "diverging": [
            [
             0,
             "#8e0152"
            ],
            [
             0.1,
             "#c51b7d"
            ],
            [
             0.2,
             "#de77ae"
            ],
            [
             0.3,
             "#f1b6da"
            ],
            [
             0.4,
             "#fde0ef"
            ],
            [
             0.5,
             "#f7f7f7"
            ],
            [
             0.6,
             "#e6f5d0"
            ],
            [
             0.7,
             "#b8e186"
            ],
            [
             0.8,
             "#7fbc41"
            ],
            [
             0.9,
             "#4d9221"
            ],
            [
             1,
             "#276419"
            ]
           ],
           "sequential": [
            [
             0,
             "#0d0887"
            ],
            [
             0.1111111111111111,
             "#46039f"
            ],
            [
             0.2222222222222222,
             "#7201a8"
            ],
            [
             0.3333333333333333,
             "#9c179e"
            ],
            [
             0.4444444444444444,
             "#bd3786"
            ],
            [
             0.5555555555555556,
             "#d8576b"
            ],
            [
             0.6666666666666666,
             "#ed7953"
            ],
            [
             0.7777777777777778,
             "#fb9f3a"
            ],
            [
             0.8888888888888888,
             "#fdca26"
            ],
            [
             1,
             "#f0f921"
            ]
           ],
           "sequentialminus": [
            [
             0,
             "#0d0887"
            ],
            [
             0.1111111111111111,
             "#46039f"
            ],
            [
             0.2222222222222222,
             "#7201a8"
            ],
            [
             0.3333333333333333,
             "#9c179e"
            ],
            [
             0.4444444444444444,
             "#bd3786"
            ],
            [
             0.5555555555555556,
             "#d8576b"
            ],
            [
             0.6666666666666666,
             "#ed7953"
            ],
            [
             0.7777777777777778,
             "#fb9f3a"
            ],
            [
             0.8888888888888888,
             "#fdca26"
            ],
            [
             1,
             "#f0f921"
            ]
           ]
          },
          "colorway": [
           "#636efa",
           "#EF553B",
           "#00cc96",
           "#ab63fa",
           "#FFA15A",
           "#19d3f3",
           "#FF6692",
           "#B6E880",
           "#FF97FF",
           "#FECB52"
          ],
          "font": {
           "color": "#2a3f5f"
          },
          "geo": {
           "bgcolor": "white",
           "lakecolor": "white",
           "landcolor": "#E5ECF6",
           "showlakes": true,
           "showland": true,
           "subunitcolor": "white"
          },
          "hoverlabel": {
           "align": "left"
          },
          "hovermode": "closest",
          "mapbox": {
           "style": "light"
          },
          "paper_bgcolor": "white",
          "plot_bgcolor": "#E5ECF6",
          "polar": {
           "angularaxis": {
            "gridcolor": "white",
            "linecolor": "white",
            "ticks": ""
           },
           "bgcolor": "#E5ECF6",
           "radialaxis": {
            "gridcolor": "white",
            "linecolor": "white",
            "ticks": ""
           }
          },
          "scene": {
           "xaxis": {
            "backgroundcolor": "#E5ECF6",
            "gridcolor": "white",
            "gridwidth": 2,
            "linecolor": "white",
            "showbackground": true,
            "ticks": "",
            "zerolinecolor": "white"
           },
           "yaxis": {
            "backgroundcolor": "#E5ECF6",
            "gridcolor": "white",
            "gridwidth": 2,
            "linecolor": "white",
            "showbackground": true,
            "ticks": "",
            "zerolinecolor": "white"
           },
           "zaxis": {
            "backgroundcolor": "#E5ECF6",
            "gridcolor": "white",
            "gridwidth": 2,
            "linecolor": "white",
            "showbackground": true,
            "ticks": "",
            "zerolinecolor": "white"
           }
          },
          "shapedefaults": {
           "line": {
            "color": "#2a3f5f"
           }
          },
          "ternary": {
           "aaxis": {
            "gridcolor": "white",
            "linecolor": "white",
            "ticks": ""
           },
           "baxis": {
            "gridcolor": "white",
            "linecolor": "white",
            "ticks": ""
           },
           "bgcolor": "#E5ECF6",
           "caxis": {
            "gridcolor": "white",
            "linecolor": "white",
            "ticks": ""
           }
          },
          "title": {
           "x": 0.05
          },
          "xaxis": {
           "automargin": true,
           "gridcolor": "white",
           "linecolor": "white",
           "ticks": "",
           "title": {
            "standoff": 15
           },
           "zerolinecolor": "white",
           "zerolinewidth": 2
          },
          "yaxis": {
           "automargin": true,
           "gridcolor": "white",
           "linecolor": "white",
           "ticks": "",
           "title": {
            "standoff": 15
           },
           "zerolinecolor": "white",
           "zerolinewidth": 2
          }
         }
        },
        "xaxis": {
         "anchor": "y",
         "domain": [
          0,
          0.2888888888888889
         ],
         "title": {
          "text": "Year"
         }
        },
        "xaxis2": {
         "anchor": "y2",
         "domain": [
          0.35555555555555557,
          0.6444444444444445
         ],
         "title": {
          "text": "Year"
         }
        },
        "xaxis3": {
         "anchor": "y3",
         "domain": [
          0.7111111111111111,
          1
         ],
         "title": {
          "text": "Year"
         }
        },
        "yaxis": {
         "anchor": "x",
         "domain": [
          0,
          1
         ],
         "range": [
          0,
          450
         ],
         "title": {
          "text": "Electricity consumption (TWh)"
         }
        },
        "yaxis2": {
         "anchor": "x2",
         "domain": [
          0,
          1
         ],
         "matches": "y",
         "range": [
          0,
          450
         ],
         "showticklabels": false
        },
        "yaxis3": {
         "anchor": "x3",
         "domain": [
          0,
          1
         ],
         "matches": "y",
         "range": [
          0,
          450
         ],
         "showticklabels": false
        }
       }
      },
      "text/html": [
       "<div>                            <div id=\"945609ae-8191-4371-a652-21fccbac4877\" class=\"plotly-graph-div\" style=\"height:525px; width:100%;\"></div>            <script type=\"text/javascript\">                require([\"plotly\"], function(Plotly) {                    window.PLOTLYENV=window.PLOTLYENV || {};                                    if (document.getElementById(\"945609ae-8191-4371-a652-21fccbac4877\")) {                    Plotly.newPlot(                        \"945609ae-8191-4371-a652-21fccbac4877\",                        [{\"fillcolor\":\"blue\",\"line\":{\"color\":\"blue\",\"width\":0},\"mode\":\"lines\",\"name\":\"France\",\"showlegend\":true,\"stackgroup\":\"one\",\"type\":\"scatter\",\"x\":[2015,2016,2017,2018,2019,2020,2021,2022,2023,2024,2025,2026,2027,2028,2029,2030,2031,2032,2033,2034,2035,2036,2037,2038,2039,2040,2041,2042,2043,2044,2045,2046,2047,2048,2049,2050],\"xaxis\":\"x\",\"y\":[19.571297032258066,19.492479432258065,19.413661832258065,19.334844232258064,19.256026632258067,19.177209032258066,19.09507424516129,19.012939458064515,18.930804670967742,18.84866988387097,18.766535096774195,18.68443032296352,22.750291248254445,22.668152173545373,22.586013098836297,34.08559988910806,25.064677688670482,25.207942426110943,25.273123351401868,26.3657157593178,32.229376445288715,32.873721714423894,35.167974088729416,42.07844025284948,40.79222810745008,43.906545709770086,42.96632720831575,41.33681049682616,49.87904318403988,52.850981090378426,47.9408281252558,47.5064268119547,43.45396684854018,36.72613645690448,33.871911953348274,38.72717338412918],\"yaxis\":\"y\"},{\"fillcolor\":\"black\",\"line\":{\"color\":\"black\",\"width\":0},\"mode\":\"lines\",\"name\":\"Germany\",\"showlegend\":true,\"stackgroup\":\"one\",\"type\":\"scatter\",\"x\":[2015,2016,2017,2018,2019,2020,2021,2022,2023,2024,2025,2026,2027,2028,2029,2030,2031,2032,2033,2034,2035,2036,2037,2038,2039,2040,2041,2042,2043,2044,2045,2046,2047,2048,2049,2050],\"xaxis\":\"x\",\"y\":[52.84859530573321,49.420102812903224,49.38069401290322,49.34128521290322,49.30187641290322,49.26246761290322,49.01549625806451,48.7685249032258,48.5215535483871,48.27458219354838,48.29261083870968,48.158099667442634,47.93479607626649,47.711492485090346,47.48818889391421,50.635383407214206,50.12120731603806,53.99845508117008,54.386468989993936,54.77448289881779,63.08287561570606,63.56701795766192,63.21267177661655,65.31425157853415,68.90246915822952,78.14760002366664,85.74873088910375,89.85365163990755,93.82109705609551,95.23885548846359,95.25865018412055,97.78824434801959,115.43201564167418,118.07994940482124,121.49244677581146,118.0569871200831],\"yaxis\":\"y\"},{\"fillcolor\":\"green\",\"line\":{\"color\":\"green\",\"width\":0},\"mode\":\"lines\",\"name\":\"Italy\",\"showlegend\":true,\"stackgroup\":\"one\",\"type\":\"scatter\",\"x\":[2015,2016,2017,2018,2019,2020,2021,2022,2023,2024,2025,2026,2027,2028,2029,2030,2031,2032,2033,2034,2035,2036,2037,2038,2039,2040,2041,2042,2043,2044,2045,2046,2047,2048,2049,2050],\"xaxis\":\"x\",\"y\":[36.16953380645162,36.16953380645161,36.16953380645161,36.16953380645161,36.16953380645161,36.16953380645161,36.15442047569893,36.13930714494624,36.124193814193546,36.109080483440856,36.09396715268817,36.07885382193548,36.0637404911828,36.04862716043011,36.03351382967742,36.202714224414926,36.17578839366224,36.86694883741936,36.84002300666667,36.813097175913974,38.21038028274882,38.18288771143099,38.2170036777895,38.05319685223634,38.029972813474245,41.069240483577794,42.43606387889148,42.36171459031622,42.27767727989276,42.197303458094254,42.10698442526181,42.140729940549996,42.05994846254735,41.97902711216072,41.89810576177409,45.916204019230605],\"yaxis\":\"y\"},{\"fillcolor\":\"yellow\",\"line\":{\"color\":\"yellow\",\"width\":0},\"mode\":\"lines\",\"name\":\"Belgium\",\"showlegend\":true,\"stackgroup\":\"one\",\"type\":\"scatter\",\"x\":[2015,2016,2017,2018,2019,2020,2021,2022,2023,2024,2025,2026,2027,2028,2029,2030,2031,2032,2033,2034,2035,2036,2037,2038,2039,2040,2041,2042,2043,2044,2045,2046,2047,2048,2049,2050],\"xaxis\":\"x\",\"y\":[9.548770322580644,9.548770322580644,9.548770322580644,9.548770322580644,9.548770322580644,9.548770322580644,9.512841651612902,9.47691298064516,9.440984309677418,9.405055638709676,9.372662217199636,9.336733546231894,9.300804875264152,9.26487620429641,9.228947533328668,14.354258862360926,14.401553941393184,14.448849020425442,14.4961440994577,14.543439178489958,17.40071576449688,18.424154990795053,20.208783199036116,20.276798278068373,22.814813357100633,23.42551276882941,20.58946469674025,19.536665393185316,21.59087458812291,32.44433295095229,35.81232936783327,36.95940483978963,32.37531257733125,26.391538533425873,24.736017977897138,24.582191908914336],\"yaxis\":\"y\"},{\"fillcolor\":\"orange\",\"line\":{\"color\":\"orange\",\"width\":0},\"mode\":\"lines\",\"name\":\"Spain\",\"showlegend\":true,\"stackgroup\":\"one\",\"type\":\"scatter\",\"x\":[2015,2016,2017,2018,2019,2020,2021,2022,2023,2024,2025,2026,2027,2028,2029,2030,2031,2032,2033,2034,2035,2036,2037,2038,2039,2040,2041,2042,2043,2044,2045,2046,2047,2048,2049,2050],\"xaxis\":\"x\",\"y\":[24.288206451612904,24.288206451612904,24.288206451612904,24.288206451612904,24.288206451612904,24.288206451612904,24.23571569892473,24.18322494623656,24.130734193548385,24.078243440860213,28.79595268817204,28.74346193548387,28.6909711827957,28.638480430107524,28.585989677419352,28.57109892473118,28.92377067204301,28.862842419354838,28.801914166666666,28.741692963870037,33.79010746339395,33.63672893263528,34.125663219404636,32.75885032875223,32.84784531841749,36.0004918591645,36.208766966155814,35.683736350943086,35.55213823992911,37.015352856922824,32.50011214267116,32.460308765863175,32.294201407710894,32.26187744596196,32.12383665961441,32.85682690594615],\"yaxis\":\"y\"},{\"fillcolor\":\"red\",\"line\":{\"color\":\"red\",\"width\":0},\"mode\":\"lines\",\"name\":\"Great Britain\",\"showlegend\":true,\"stackgroup\":\"one\",\"type\":\"scatter\",\"x\":[2015,2016,2017,2018,2019,2020,2021,2022,2023,2024,2025,2026,2027,2028,2029,2030,2031,2032,2033,2034,2035,2036,2037,2038,2039,2040,2041,2042,2043,2044,2045,2046,2047,2048,2049,2050],\"xaxis\":\"x\",\"y\":[9.336328,9.336328,9.336328,9.336328,9.336328,9.336328,9.2969192,9.2575104,9.2181016,9.1786928,9.139284,9.0998752,9.0604664,9.0210576,8.9816488,10.169215358866463,10.796082437004646,11.003886137004647,11.211689837004647,11.419493537004646,12.400557245618302,12.4299609456183,12.6377646456183,12.8455683456183,13.416322045618301,15.984759869484272,16.16491203117782,15.982114192871368,16.119971986062595,16.273833054018816,16.421021215712365,16.619786815490805,16.767038977184352,16.914291138877903,17.817715925081345,22.060343019640523],\"yaxis\":\"y\"},{\"fillcolor\":\"blue\",\"line\":{\"color\":\"blue\",\"width\":0},\"mode\":\"lines\",\"name\":\"France\",\"showlegend\":false,\"stackgroup\":\"one\",\"type\":\"scatter\",\"x\":[2015,2016,2017,2018,2019,2020,2021,2022,2023,2024,2025,2026,2027,2028,2029,2030,2031,2032,2033,2034,2035,2036,2037,2038,2039,2040,2041,2042,2043,2044,2045,2046,2047,2048,2049,2050],\"xaxis\":\"x2\",\"y\":[19.571297032258066,19.492479432258065,19.413661832258065,19.334844232258064,19.256026632258067,19.177209032258066,19.09507424516129,19.012939458064515,18.930804670967742,18.84866988387097,18.766535096774195,18.68443032296352,22.750291248254445,22.668152173545373,22.586013098836297,34.270222409146385,23.327320568308277,25.771918727470172,26.79828363874579,31.551224427883255,38.926262016643605,43.48889188520031,55.29021565849026,65.17259170253087,71.64776159421938,74.58232698144069,79.44850076529765,80.67585884233662,80.41810041764381,80.12992998047145,72.15261414032125,64.2914377326476,56.53386088653614,48.87988360198688,45.80089277928577,53.95576470048453],\"yaxis\":\"y2\"},{\"fillcolor\":\"black\",\"line\":{\"color\":\"black\",\"width\":0},\"mode\":\"lines\",\"name\":\"Germany\",\"showlegend\":false,\"stackgroup\":\"one\",\"type\":\"scatter\",\"x\":[2015,2016,2017,2018,2019,2020,2021,2022,2023,2024,2025,2026,2027,2028,2029,2030,2031,2032,2033,2034,2035,2036,2037,2038,2039,2040,2041,2042,2043,2044,2045,2046,2047,2048,2049,2050],\"xaxis\":\"x2\",\"y\":[52.205774883214595,49.420102812903224,49.38069401290322,49.34128521290322,49.30187641290322,49.26246761290322,49.01549625806451,48.7685249032258,48.5215535483871,48.27458219354838,48.29261083870966,48.158099667442634,48.60292621680344,50.97212262562729,53.341319034451146,66.5005721959523,66.8512627169165,66.33708662574035,65.82291053456422,67.45872038036134,75.65027802286755,80.99945965026518,84.78362449597782,91.80676545830211,98.74990642062642,110.30659844647025,121.78329047231408,128.82918911535637,135.44849900470538,138.5722728508025,141.22273391243448,147.1718242128164,155.06461187731168,162.44808504264236,168.9086608427786,188.9427653711648],\"yaxis\":\"y2\"},{\"fillcolor\":\"green\",\"line\":{\"color\":\"green\",\"width\":0},\"mode\":\"lines\",\"name\":\"Italy\",\"showlegend\":false,\"stackgroup\":\"one\",\"type\":\"scatter\",\"x\":[2015,2016,2017,2018,2019,2020,2021,2022,2023,2024,2025,2026,2027,2028,2029,2030,2031,2032,2033,2034,2035,2036,2037,2038,2039,2040,2041,2042,2043,2044,2045,2046,2047,2048,2049,2050],\"xaxis\":\"x2\",\"y\":[36.16953380645162,36.16953380645161,36.16953380645161,36.16953380645161,36.16953380645161,36.16953380645161,36.15442047569893,36.13930714494624,36.124193814193546,36.109080483440856,36.09396715268817,36.07885382193548,36.0637404911828,36.04862716043011,38.211481334443164,45.59688701193167,45.569961181178975,45.543035350426294,45.516109519673606,46.598834926709756,48.165660963323326,48.1381683920055,48.194404807390185,48.16315679736994,48.1512848310461,50.546287220886605,51.91311061620029,51.84018092005904,51.696289112371055,51.55082336725535,50.892089898057804,56.21848131192295,58.80665624466439,58.69200615303865,58.99695416434309,59.297827438036364],\"yaxis\":\"y2\"},{\"fillcolor\":\"yellow\",\"line\":{\"color\":\"yellow\",\"width\":0},\"mode\":\"lines\",\"name\":\"Belgium\",\"showlegend\":false,\"stackgroup\":\"one\",\"type\":\"scatter\",\"x\":[2015,2016,2017,2018,2019,2020,2021,2022,2023,2024,2025,2026,2027,2028,2029,2030,2031,2032,2033,2034,2035,2036,2037,2038,2039,2040,2041,2042,2043,2044,2045,2046,2047,2048,2049,2050],\"xaxis\":\"x2\",\"y\":[9.548770322580644,9.548770322580644,9.548770322580644,9.548770322580644,9.548770322580644,9.548770322580644,9.512841651612902,9.47691298064516,9.440984309677418,9.405055638709676,9.372662217199636,9.336733546231894,9.300804875264152,9.26487620429641,9.31190753332867,14.787129026423425,14.710437981715764,14.633746937008103,14.878298384671414,14.811055648562899,21.641158126316434,29.582298990795056,36.31163263814258,42.40473983482562,47.25913891385788,48.49068338483954,51.63899446059869,60.13395681384203,59.78850096172211,59.532566959064546,52.978208933382945,46.50126362589094,39.34234197805515,32.968722525832675,28.386102509846573,27.336913764720116],\"yaxis\":\"y2\"},{\"fillcolor\":\"orange\",\"line\":{\"color\":\"orange\",\"width\":0},\"mode\":\"lines\",\"name\":\"Spain\",\"showlegend\":false,\"stackgroup\":\"one\",\"type\":\"scatter\",\"x\":[2015,2016,2017,2018,2019,2020,2021,2022,2023,2024,2025,2026,2027,2028,2029,2030,2031,2032,2033,2034,2035,2036,2037,2038,2039,2040,2041,2042,2043,2044,2045,2046,2047,2048,2049,2050],\"xaxis\":\"x2\",\"y\":[24.288206451612904,24.288206451612904,24.288206451612904,24.288206451612904,24.288206451612904,24.288206451612904,24.23571569892473,24.18322494623656,24.130734193548385,24.078243440860213,28.79595268817204,28.74346193548387,28.6909711827957,28.638480430107524,28.585989677419352,33.543568534106186,33.48368768817204,33.4238068422379,34.09410452874387,34.055699521999145,40.31948444163796,43.01225070372509,53.00318363041509,59.67950804905755,61.20041883609591,64.127564447587,64.04235750455965,63.766197137677885,63.49003677079611,61.76630765186551,53.94192537175665,52.196554389600145,47.22930457598364,44.87700927115073,44.02815174008132,43.908427718416974],\"yaxis\":\"y2\"},{\"fillcolor\":\"red\",\"line\":{\"color\":\"red\",\"width\":0},\"mode\":\"lines\",\"name\":\"Great Britain\",\"showlegend\":false,\"stackgroup\":\"one\",\"type\":\"scatter\",\"x\":[2015,2016,2017,2018,2019,2020,2021,2022,2023,2024,2025,2026,2027,2028,2029,2030,2031,2032,2033,2034,2035,2036,2037,2038,2039,2040,2041,2042,2043,2044,2045,2046,2047,2048,2049,2050],\"xaxis\":\"x2\",\"y\":[9.336328,9.336328,9.336328,9.336328,9.336328,9.336328,9.2969192,9.2575104,9.2181016,9.1786928,9.139284,9.0998752,9.0604664,9.0210576,11.257457133333334,19.113284117647062,18.971224092156863,18.816077792156864,19.02732400981259,19.084121311642363,19.48684890077052,19.67100126468271,21.175856300770516,21.383660000770515,21.796162472618235,24.364600296484205,24.544752458177754,24.3619546198713,24.35714452753606,24.50439668922961,26.114386982548343,31.650945808485623,33.819505725242905,33.82997539496544,33.10520006468797,37.31836628186651],\"yaxis\":\"y2\"},{\"fillcolor\":\"blue\",\"line\":{\"color\":\"blue\",\"width\":0},\"mode\":\"lines\",\"name\":\"France\",\"showlegend\":false,\"stackgroup\":\"one\",\"type\":\"scatter\",\"x\":[2015,2016,2017,2018,2019,2020,2021,2022,2023,2024,2025,2026,2027,2028,2029,2030,2031,2032,2033,2034,2035,2036,2037,2038,2039,2040,2041,2042,2043,2044,2045,2046,2047,2048,2049,2050],\"xaxis\":\"x3\",\"y\":[19.571297032258066,19.492479432258065,19.413661832258065,19.334844232258064,19.256026632258067,19.177209032258066,19.09507424516129,19.012939458064515,18.930804670967742,18.84866988387097,18.766535096774195,18.68443032296352,22.750291248254445,22.668152173545373,22.586013098836297,33.950953607460555,23.262460568308278,25.707058727470173,26.73767077482088,31.967756479725256,39.34291898425253,43.53195660735225,55.33796834960559,65.69613682426656,72.17529227678912,75.1138432248445,79.97877791801459,81.6412373473436,81.38406176685601,80.42889606788454,72.33973648739693,64.59229719238311,56.835303190476864,55.27741423932489,64.1302908652731,73.59228583154811],\"yaxis\":\"y3\"},{\"fillcolor\":\"black\",\"line\":{\"color\":\"black\",\"width\":0},\"mode\":\"lines\",\"name\":\"Germany\",\"showlegend\":false,\"stackgroup\":\"one\",\"type\":\"scatter\",\"x\":[2015,2016,2017,2018,2019,2020,2021,2022,2023,2024,2025,2026,2027,2028,2029,2030,2031,2032,2033,2034,2035,2036,2037,2038,2039,2040,2041,2042,2043,2044,2045,2046,2047,2048,2049,2050],\"xaxis\":\"x3\",\"y\":[49.45951161290322,49.420102812903224,49.38069401290322,49.34128521290322,49.30187641290322,49.26246761290322,49.01549625806451,48.7685249032258,48.5215535483871,48.27458219354838,48.29261083870968,48.158099667442634,49.1173773334151,51.48657374223895,53.85577015106282,66.38824781703528,67.78689898107231,67.27272288989617,66.75854679872003,68.63433085427602,76.94069791315997,83.53860681783158,88.20251267458953,95.20590214546672,102.49662776856377,114.03356830296049,125.49050883735721,132.51149782792197,138.66406150708116,142.2221426732104,144.8163757777366,152.5594216218155,165.63778223716474,174.25454635528718,181.87633310821516,198.6328725109617],\"yaxis\":\"y3\"},{\"fillcolor\":\"green\",\"line\":{\"color\":\"green\",\"width\":0},\"mode\":\"lines\",\"name\":\"Italy\",\"showlegend\":false,\"stackgroup\":\"one\",\"type\":\"scatter\",\"x\":[2015,2016,2017,2018,2019,2020,2021,2022,2023,2024,2025,2026,2027,2028,2029,2030,2031,2032,2033,2034,2035,2036,2037,2038,2039,2040,2041,2042,2043,2044,2045,2046,2047,2048,2049,2050],\"xaxis\":\"x3\",\"y\":[36.16953380645161,36.16953380645161,36.16953380645161,36.16953380645161,36.16953380645161,36.16953380645161,36.15442047569893,36.13930714494624,36.124193814193546,36.109080483440856,36.09396715268817,36.07885382193548,36.0637404911828,36.04862716043011,38.211481334443164,45.59688701193167,45.56996118117898,45.543035350426294,45.516109519673606,46.60221048070246,48.16913296171582,48.141640390397995,48.196245758017234,48.175489159335044,47.50163118560295,50.549759219279096,51.91254878929992,51.839619093158674,51.69572728547069,51.55026154035498,50.783717475534466,56.15127761099934,58.80665624466439,58.69200615303865,58.99695416434309,59.297827438036364],\"yaxis\":\"y3\"},{\"fillcolor\":\"yellow\",\"line\":{\"color\":\"yellow\",\"width\":0},\"mode\":\"lines\",\"name\":\"Belgium\",\"showlegend\":false,\"stackgroup\":\"one\",\"type\":\"scatter\",\"x\":[2015,2016,2017,2018,2019,2020,2021,2022,2023,2024,2025,2026,2027,2028,2029,2030,2031,2032,2033,2034,2035,2036,2037,2038,2039,2040,2041,2042,2043,2044,2045,2046,2047,2048,2049,2050],\"xaxis\":\"x3\",\"y\":[9.548770322580644,9.548770322580644,9.548770322580644,9.548770322580644,9.548770322580644,9.548770322580644,9.512841651612902,9.47691298064516,9.440984309677418,9.405055638709676,9.372662217199636,9.336733546231894,9.300804875264152,9.26487620429641,9.645093998335444,15.416893956436983,15.380566808140822,15.30387576343316,15.548226771670208,15.63826214028445,22.34269472276074,32.635760743056615,42.034147876401676,48.646153474334305,55.0790284232233,56.43146282512647,57.21717483011997,65.86713022035643,65.4933647788214,64.96033995067042,59.91399416456961,52.97459904698493,42.07979007981819,37.04920635225151,42.33563516078101,52.731556915666985],\"yaxis\":\"y3\"},{\"fillcolor\":\"orange\",\"line\":{\"color\":\"orange\",\"width\":0},\"mode\":\"lines\",\"name\":\"Spain\",\"showlegend\":false,\"stackgroup\":\"one\",\"type\":\"scatter\",\"x\":[2015,2016,2017,2018,2019,2020,2021,2022,2023,2024,2025,2026,2027,2028,2029,2030,2031,2032,2033,2034,2035,2036,2037,2038,2039,2040,2041,2042,2043,2044,2045,2046,2047,2048,2049,2050],\"xaxis\":\"x3\",\"y\":[24.288206451612904,24.288206451612904,24.288206451612904,24.288206451612904,24.288206451612904,24.2882064516129,24.23571569892473,24.18322494623656,24.130734193548385,24.078243440860213,28.79595268817204,28.74346193548387,28.6909711827957,28.638480430107524,28.585989677419352,33.543568534106186,33.48368768817204,33.4238068422379,34.097499335476826,34.05919417598895,40.32307894288462,43.01584520497175,52.26316636887183,60.02358595875839,61.54449674579674,64.47164235728782,64.38225926312073,64.10609889623896,63.8299385293572,62.1062094104266,54.20553432471969,52.109808060276364,47.148309846061004,44.79777529622642,43.95067852015533,43.832715253489305],\"yaxis\":\"y3\"},{\"fillcolor\":\"red\",\"line\":{\"color\":\"red\",\"width\":0},\"mode\":\"lines\",\"name\":\"Great Britain\",\"showlegend\":false,\"stackgroup\":\"one\",\"type\":\"scatter\",\"x\":[2015,2016,2017,2018,2019,2020,2021,2022,2023,2024,2025,2026,2027,2028,2029,2030,2031,2032,2033,2034,2035,2036,2037,2038,2039,2040,2041,2042,2043,2044,2045,2046,2047,2048,2049,2050],\"xaxis\":\"x3\",\"y\":[9.336328,9.336328,9.336328,9.336328,9.336328,9.336328,9.2969192,9.2575104,9.2181016,9.1786928,9.139284,9.0998752,9.0604664,9.0210576,11.28258557411634,19.090073548232684,19.016925383687003,18.861779083687004,18.92765616863342,19.131135942010633,19.170951055105597,19.667796537451768,21.222908455105596,21.430712155105592,21.843214626953312,24.41008299601725,24.590235157710794,24.407437319404345,24.35692593553896,24.50417809723251,26.16644001695394,31.72758783517422,33.92230212976526,33.93227746950517,33.92612067253112,37.31836628186651],\"yaxis\":\"y3\"}],                        {\"annotations\":[{\"font\":{\"size\":24},\"showarrow\":false,\"text\":\"High electricity price\",\"x\":0.14444444444444446,\"xanchor\":\"center\",\"xref\":\"paper\",\"y\":1.0,\"yanchor\":\"bottom\",\"yref\":\"paper\"},{\"font\":{\"size\":24},\"showarrow\":false,\"text\":\"Reference\",\"x\":0.5,\"xanchor\":\"center\",\"xref\":\"paper\",\"y\":1.0,\"yanchor\":\"bottom\",\"yref\":\"paper\"},{\"font\":{\"size\":24},\"showarrow\":false,\"text\":\"Fossil phase-out\",\"x\":0.8555555555555556,\"xanchor\":\"center\",\"xref\":\"paper\",\"y\":1.0,\"yanchor\":\"bottom\",\"yref\":\"paper\"}],\"font\":{\"family\":\"Times New Roman\",\"size\":24},\"legend\":{\"font\":{\"size\":20},\"orientation\":\"h\",\"x\":0.9,\"xanchor\":\"right\",\"y\":1.1,\"yanchor\":\"bottom\"},\"template\":{\"data\":{\"bar\":[{\"error_x\":{\"color\":\"#2a3f5f\"},\"error_y\":{\"color\":\"#2a3f5f\"},\"marker\":{\"line\":{\"color\":\"#E5ECF6\",\"width\":0.5},\"pattern\":{\"fillmode\":\"overlay\",\"size\":10,\"solidity\":0.2}},\"type\":\"bar\"}],\"barpolar\":[{\"marker\":{\"line\":{\"color\":\"#E5ECF6\",\"width\":0.5},\"pattern\":{\"fillmode\":\"overlay\",\"size\":10,\"solidity\":0.2}},\"type\":\"barpolar\"}],\"carpet\":[{\"aaxis\":{\"endlinecolor\":\"#2a3f5f\",\"gridcolor\":\"white\",\"linecolor\":\"white\",\"minorgridcolor\":\"white\",\"startlinecolor\":\"#2a3f5f\"},\"baxis\":{\"endlinecolor\":\"#2a3f5f\",\"gridcolor\":\"white\",\"linecolor\":\"white\",\"minorgridcolor\":\"white\",\"startlinecolor\":\"#2a3f5f\"},\"type\":\"carpet\"}],\"choropleth\":[{\"colorbar\":{\"outlinewidth\":0,\"ticks\":\"\"},\"type\":\"choropleth\"}],\"contour\":[{\"colorbar\":{\"outlinewidth\":0,\"ticks\":\"\"},\"colorscale\":[[0.0,\"#0d0887\"],[0.1111111111111111,\"#46039f\"],[0.2222222222222222,\"#7201a8\"],[0.3333333333333333,\"#9c179e\"],[0.4444444444444444,\"#bd3786\"],[0.5555555555555556,\"#d8576b\"],[0.6666666666666666,\"#ed7953\"],[0.7777777777777778,\"#fb9f3a\"],[0.8888888888888888,\"#fdca26\"],[1.0,\"#f0f921\"]],\"type\":\"contour\"}],\"contourcarpet\":[{\"colorbar\":{\"outlinewidth\":0,\"ticks\":\"\"},\"type\":\"contourcarpet\"}],\"heatmap\":[{\"colorbar\":{\"outlinewidth\":0,\"ticks\":\"\"},\"colorscale\":[[0.0,\"#0d0887\"],[0.1111111111111111,\"#46039f\"],[0.2222222222222222,\"#7201a8\"],[0.3333333333333333,\"#9c179e\"],[0.4444444444444444,\"#bd3786\"],[0.5555555555555556,\"#d8576b\"],[0.6666666666666666,\"#ed7953\"],[0.7777777777777778,\"#fb9f3a\"],[0.8888888888888888,\"#fdca26\"],[1.0,\"#f0f921\"]],\"type\":\"heatmap\"}],\"heatmapgl\":[{\"colorbar\":{\"outlinewidth\":0,\"ticks\":\"\"},\"colorscale\":[[0.0,\"#0d0887\"],[0.1111111111111111,\"#46039f\"],[0.2222222222222222,\"#7201a8\"],[0.3333333333333333,\"#9c179e\"],[0.4444444444444444,\"#bd3786\"],[0.5555555555555556,\"#d8576b\"],[0.6666666666666666,\"#ed7953\"],[0.7777777777777778,\"#fb9f3a\"],[0.8888888888888888,\"#fdca26\"],[1.0,\"#f0f921\"]],\"type\":\"heatmapgl\"}],\"histogram\":[{\"marker\":{\"pattern\":{\"fillmode\":\"overlay\",\"size\":10,\"solidity\":0.2}},\"type\":\"histogram\"}],\"histogram2d\":[{\"colorbar\":{\"outlinewidth\":0,\"ticks\":\"\"},\"colorscale\":[[0.0,\"#0d0887\"],[0.1111111111111111,\"#46039f\"],[0.2222222222222222,\"#7201a8\"],[0.3333333333333333,\"#9c179e\"],[0.4444444444444444,\"#bd3786\"],[0.5555555555555556,\"#d8576b\"],[0.6666666666666666,\"#ed7953\"],[0.7777777777777778,\"#fb9f3a\"],[0.8888888888888888,\"#fdca26\"],[1.0,\"#f0f921\"]],\"type\":\"histogram2d\"}],\"histogram2dcontour\":[{\"colorbar\":{\"outlinewidth\":0,\"ticks\":\"\"},\"colorscale\":[[0.0,\"#0d0887\"],[0.1111111111111111,\"#46039f\"],[0.2222222222222222,\"#7201a8\"],[0.3333333333333333,\"#9c179e\"],[0.4444444444444444,\"#bd3786\"],[0.5555555555555556,\"#d8576b\"],[0.6666666666666666,\"#ed7953\"],[0.7777777777777778,\"#fb9f3a\"],[0.8888888888888888,\"#fdca26\"],[1.0,\"#f0f921\"]],\"type\":\"histogram2dcontour\"}],\"mesh3d\":[{\"colorbar\":{\"outlinewidth\":0,\"ticks\":\"\"},\"type\":\"mesh3d\"}],\"parcoords\":[{\"line\":{\"colorbar\":{\"outlinewidth\":0,\"ticks\":\"\"}},\"type\":\"parcoords\"}],\"pie\":[{\"automargin\":true,\"type\":\"pie\"}],\"scatter\":[{\"marker\":{\"colorbar\":{\"outlinewidth\":0,\"ticks\":\"\"}},\"type\":\"scatter\"}],\"scatter3d\":[{\"line\":{\"colorbar\":{\"outlinewidth\":0,\"ticks\":\"\"}},\"marker\":{\"colorbar\":{\"outlinewidth\":0,\"ticks\":\"\"}},\"type\":\"scatter3d\"}],\"scattercarpet\":[{\"marker\":{\"colorbar\":{\"outlinewidth\":0,\"ticks\":\"\"}},\"type\":\"scattercarpet\"}],\"scattergeo\":[{\"marker\":{\"colorbar\":{\"outlinewidth\":0,\"ticks\":\"\"}},\"type\":\"scattergeo\"}],\"scattergl\":[{\"marker\":{\"colorbar\":{\"outlinewidth\":0,\"ticks\":\"\"}},\"type\":\"scattergl\"}],\"scattermapbox\":[{\"marker\":{\"colorbar\":{\"outlinewidth\":0,\"ticks\":\"\"}},\"type\":\"scattermapbox\"}],\"scatterpolar\":[{\"marker\":{\"colorbar\":{\"outlinewidth\":0,\"ticks\":\"\"}},\"type\":\"scatterpolar\"}],\"scatterpolargl\":[{\"marker\":{\"colorbar\":{\"outlinewidth\":0,\"ticks\":\"\"}},\"type\":\"scatterpolargl\"}],\"scatterternary\":[{\"marker\":{\"colorbar\":{\"outlinewidth\":0,\"ticks\":\"\"}},\"type\":\"scatterternary\"}],\"surface\":[{\"colorbar\":{\"outlinewidth\":0,\"ticks\":\"\"},\"colorscale\":[[0.0,\"#0d0887\"],[0.1111111111111111,\"#46039f\"],[0.2222222222222222,\"#7201a8\"],[0.3333333333333333,\"#9c179e\"],[0.4444444444444444,\"#bd3786\"],[0.5555555555555556,\"#d8576b\"],[0.6666666666666666,\"#ed7953\"],[0.7777777777777778,\"#fb9f3a\"],[0.8888888888888888,\"#fdca26\"],[1.0,\"#f0f921\"]],\"type\":\"surface\"}],\"table\":[{\"cells\":{\"fill\":{\"color\":\"#EBF0F8\"},\"line\":{\"color\":\"white\"}},\"header\":{\"fill\":{\"color\":\"#C8D4E3\"},\"line\":{\"color\":\"white\"}},\"type\":\"table\"}]},\"layout\":{\"annotationdefaults\":{\"arrowcolor\":\"#2a3f5f\",\"arrowhead\":0,\"arrowwidth\":1},\"autotypenumbers\":\"strict\",\"coloraxis\":{\"colorbar\":{\"outlinewidth\":0,\"ticks\":\"\"}},\"colorscale\":{\"diverging\":[[0,\"#8e0152\"],[0.1,\"#c51b7d\"],[0.2,\"#de77ae\"],[0.3,\"#f1b6da\"],[0.4,\"#fde0ef\"],[0.5,\"#f7f7f7\"],[0.6,\"#e6f5d0\"],[0.7,\"#b8e186\"],[0.8,\"#7fbc41\"],[0.9,\"#4d9221\"],[1,\"#276419\"]],\"sequential\":[[0.0,\"#0d0887\"],[0.1111111111111111,\"#46039f\"],[0.2222222222222222,\"#7201a8\"],[0.3333333333333333,\"#9c179e\"],[0.4444444444444444,\"#bd3786\"],[0.5555555555555556,\"#d8576b\"],[0.6666666666666666,\"#ed7953\"],[0.7777777777777778,\"#fb9f3a\"],[0.8888888888888888,\"#fdca26\"],[1.0,\"#f0f921\"]],\"sequentialminus\":[[0.0,\"#0d0887\"],[0.1111111111111111,\"#46039f\"],[0.2222222222222222,\"#7201a8\"],[0.3333333333333333,\"#9c179e\"],[0.4444444444444444,\"#bd3786\"],[0.5555555555555556,\"#d8576b\"],[0.6666666666666666,\"#ed7953\"],[0.7777777777777778,\"#fb9f3a\"],[0.8888888888888888,\"#fdca26\"],[1.0,\"#f0f921\"]]},\"colorway\":[\"#636efa\",\"#EF553B\",\"#00cc96\",\"#ab63fa\",\"#FFA15A\",\"#19d3f3\",\"#FF6692\",\"#B6E880\",\"#FF97FF\",\"#FECB52\"],\"font\":{\"color\":\"#2a3f5f\"},\"geo\":{\"bgcolor\":\"white\",\"lakecolor\":\"white\",\"landcolor\":\"#E5ECF6\",\"showlakes\":true,\"showland\":true,\"subunitcolor\":\"white\"},\"hoverlabel\":{\"align\":\"left\"},\"hovermode\":\"closest\",\"mapbox\":{\"style\":\"light\"},\"paper_bgcolor\":\"white\",\"plot_bgcolor\":\"#E5ECF6\",\"polar\":{\"angularaxis\":{\"gridcolor\":\"white\",\"linecolor\":\"white\",\"ticks\":\"\"},\"bgcolor\":\"#E5ECF6\",\"radialaxis\":{\"gridcolor\":\"white\",\"linecolor\":\"white\",\"ticks\":\"\"}},\"scene\":{\"xaxis\":{\"backgroundcolor\":\"#E5ECF6\",\"gridcolor\":\"white\",\"gridwidth\":2,\"linecolor\":\"white\",\"showbackground\":true,\"ticks\":\"\",\"zerolinecolor\":\"white\"},\"yaxis\":{\"backgroundcolor\":\"#E5ECF6\",\"gridcolor\":\"white\",\"gridwidth\":2,\"linecolor\":\"white\",\"showbackground\":true,\"ticks\":\"\",\"zerolinecolor\":\"white\"},\"zaxis\":{\"backgroundcolor\":\"#E5ECF6\",\"gridcolor\":\"white\",\"gridwidth\":2,\"linecolor\":\"white\",\"showbackground\":true,\"ticks\":\"\",\"zerolinecolor\":\"white\"}},\"shapedefaults\":{\"line\":{\"color\":\"#2a3f5f\"}},\"ternary\":{\"aaxis\":{\"gridcolor\":\"white\",\"linecolor\":\"white\",\"ticks\":\"\"},\"baxis\":{\"gridcolor\":\"white\",\"linecolor\":\"white\",\"ticks\":\"\"},\"bgcolor\":\"#E5ECF6\",\"caxis\":{\"gridcolor\":\"white\",\"linecolor\":\"white\",\"ticks\":\"\"}},\"title\":{\"x\":0.05},\"xaxis\":{\"automargin\":true,\"gridcolor\":\"white\",\"linecolor\":\"white\",\"ticks\":\"\",\"title\":{\"standoff\":15},\"zerolinecolor\":\"white\",\"zerolinewidth\":2},\"yaxis\":{\"automargin\":true,\"gridcolor\":\"white\",\"linecolor\":\"white\",\"ticks\":\"\",\"title\":{\"standoff\":15},\"zerolinecolor\":\"white\",\"zerolinewidth\":2}}},\"xaxis\":{\"anchor\":\"y\",\"domain\":[0.0,0.2888888888888889],\"title\":{\"text\":\"Year\"}},\"xaxis2\":{\"anchor\":\"y2\",\"domain\":[0.35555555555555557,0.6444444444444445],\"title\":{\"text\":\"Year\"}},\"xaxis3\":{\"anchor\":\"y3\",\"domain\":[0.7111111111111111,1.0],\"title\":{\"text\":\"Year\"}},\"yaxis\":{\"anchor\":\"x\",\"domain\":[0.0,1.0],\"range\":[0,450],\"title\":{\"text\":\"Electricity consumption (TWh)\"}},\"yaxis2\":{\"anchor\":\"x2\",\"domain\":[0.0,1.0],\"matches\":\"y\",\"range\":[0,450],\"showticklabels\":false},\"yaxis3\":{\"anchor\":\"x3\",\"domain\":[0.0,1.0],\"matches\":\"y\",\"range\":[0,450],\"showticklabels\":false}},                        {\"responsive\": true}                    ).then(function(){\n",
       "                            \n",
       "var gd = document.getElementById('945609ae-8191-4371-a652-21fccbac4877');\n",
       "var x = new MutationObserver(function (mutations, observer) {{\n",
       "        var display = window.getComputedStyle(gd).display;\n",
       "        if (!display || display === 'none') {{\n",
       "            console.log([gd, 'removed!']);\n",
       "            Plotly.purge(gd);\n",
       "            observer.disconnect();\n",
       "        }}\n",
       "}});\n",
       "\n",
       "// Listen for the removal of the full notebook cells\n",
       "var notebookContainer = gd.closest('#notebook-container');\n",
       "if (notebookContainer) {{\n",
       "    x.observe(notebookContainer, {childList: true});\n",
       "}}\n",
       "\n",
       "// Listen for the clearing of the current output cell\n",
       "var outputEl = gd.closest('.output');\n",
       "if (outputEl) {{\n",
       "    x.observe(outputEl, {childList: true});\n",
       "}}\n",
       "\n",
       "                        })                };                });            </script>        </div>"
      ]
     },
     "metadata": {},
     "output_type": "display_data"
    }
   ],
   "source": [
    "fig =make_subplots(rows=1, cols=3,subplot_titles=list(scen.keys()),shared_yaxes=True)\n",
    "for i in range(len(scen.keys())):\n",
    "    showlegend=[True,False,False]\n",
    "    resource_inflow=scen[list(scen.keys())[i]]['resource_tech_inflow']\n",
    "    energy_input=resource_inflow[(resource_inflow.Resource.isin(primary_resource_conversion.keys()))]\n",
    "    energy_input=energy_input.drop([\"Sector\"],axis=1).groupby(by=[\"Resource\",\"Country\",\"Year\"]).sum().reset_index()\n",
    "    country_colors={\"France\":\"blue\",\"Germany\":\"black\",\"Italy\":\"green\",\"Belgium\":\"yellow\",\"Spain\":\"orange\",\"Great Britain\":\"red\"}\n",
    "\n",
    "    for country in [\"France\",\"Germany\",\"Italy\",\"Belgium\",\"Spain\",\"Great Britain\"]:\n",
    "        resource=\"Electricity\"\n",
    "        fig.add_trace(go.Scatter(x=energy_input[(energy_input.Resource==resource) & (energy_input.Country==country)].Year,\n",
    "                                 y=energy_input[(energy_input.Resource==resource) & (energy_input.Country==country)].Flow,\n",
    "                                 name=country,\n",
    "                                 line=dict(width=0,color=country_colors[country]),\n",
    "                                     fillcolor=country_colors[country],mode='lines',stackgroup='one',showlegend=showlegend[i]),row=1, col=i+1)\n",
    "        fig.update_xaxes(title_text=\"Year\", row=1, col=i+1)\n",
    "        \n",
    "fig.update_layout(#title='Electricity consumption per country',title_x=0.5,\n",
    "                   yaxis_title='Electricity consumption (TWh)')\n",
    "fig.update_layout(\n",
    "    font=dict(\n",
    "        family=\"Times New Roman\",size=24)\n",
    "    )\n",
    "fig.update_annotations(font_size=24)\n",
    "fig.update_layout(legend=dict(\n",
    "    orientation=\"h\",\n",
    "    yanchor=\"bottom\",\n",
    "    y=1.1,\n",
    "    xanchor=\"right\",\n",
    "    x=0.9,font = dict(size=20)\n",
    "))\n",
    "fig.update_yaxes(range=[0,450])\n",
    "fig.show()"
   ]
  },
  {
   "cell_type": "code",
   "execution_count": 247,
   "id": "820e29f9",
   "metadata": {
    "scrolled": false
   },
   "outputs": [
    {
     "data": {
      "application/vnd.plotly.v1+json": {
       "config": {
        "plotlyServerURL": "https://plot.ly"
       },
       "data": [
        {
         "line": {
          "color": "black",
          "width": 3
         },
         "mode": "lines",
         "name": "High electricity price",
         "type": "scatter",
         "x": [
          2015,
          2016,
          2017,
          2018,
          2019,
          2020,
          2021,
          2022,
          2023,
          2024,
          2025,
          2026,
          2027,
          2028,
          2029,
          2030,
          2031,
          2032,
          2033,
          2034,
          2035,
          2036,
          2037,
          2038,
          2039,
          2040,
          2041,
          2042,
          2043,
          2044,
          2045,
          2046,
          2047,
          2048,
          2049,
          2050
         ],
         "y": [
          148.37364722580645,
          148.25542082580645,
          148.13719442580646,
          148.01896802580646,
          147.90074162580643,
          147.78251522580643,
          147.31046752946236,
          146.83841983311828,
          146.3663721367742,
          145.8943244404301,
          150.4610119935437,
          150.1014544940574,
          153.80107027376357,
          153.35268605346977,
          152.90430183317596,
          163.20627066669576,
          164.18581770955927,
          169.0578239214853,
          169.6884634511915,
          171.3472215134142,
          185.06538931301498,
          188.10196115449574,
          193.99199264386212,
          198.15534282516748,
          204.18818706392415,
          223.57083648206475,
          226.84310094189513,
          225.21567743949814,
          224.89056721482606,
          222.14698053371075,
          217.63486387212515,
          217.7713523147309,
          214.73194489858187,
          211.9317963377586,
          211.0334747295952,
          220.66777179956085
         ]
        },
        {
         "line": {
          "color": "red",
          "width": 3
         },
         "mode": "lines",
         "name": "Reference",
         "type": "scatter",
         "x": [
          2015,
          2016,
          2017,
          2018,
          2019,
          2020,
          2021,
          2022,
          2023,
          2024,
          2025,
          2026,
          2027,
          2028,
          2029,
          2030,
          2031,
          2032,
          2033,
          2034,
          2035,
          2036,
          2037,
          2038,
          2039,
          2040,
          2041,
          2042,
          2043,
          2044,
          2045,
          2046,
          2047,
          2048,
          2049,
          2050
         ],
         "y": [
          148.37364722580645,
          148.25542082580645,
          148.13719442580646,
          148.01896802580646,
          147.90074162580643,
          147.78251522580643,
          147.31046752946236,
          146.83841983311828,
          146.3663721367742,
          145.8943244404301,
          150.4610119935437,
          150.1014544940574,
          154.46920041430053,
          156.6133161940067,
          163.29416781181197,
          202.99966329520703,
          202.9138942284484,
          203.1945722750397,
          204.8161306162115,
          212.24895621715876,
          222.48919247155942,
          231.44011981520737,
          246.34785341682624,
          253.51307434989346,
          257.9303237640655,
          277.3795361640337,
          286.6426380033669,
          288.6661316727885,
          290.43234243413394,
          288.6730004328442,
          283.5075883225375,
          289.8260186860631,
          288.62946178221125,
          288.2422058767716,
          290.57962580224626,
          308.6583908636394
         ]
        },
        {
         "line": {
          "color": "green",
          "width": 3
         },
         "mode": "lines",
         "name": "Fossil phase-out",
         "type": "scatter",
         "x": [
          2015,
          2016,
          2017,
          2018,
          2019,
          2020,
          2021,
          2022,
          2023,
          2024,
          2025,
          2026,
          2027,
          2028,
          2029,
          2030,
          2031,
          2032,
          2033,
          2034,
          2035,
          2036,
          2037,
          2038,
          2039,
          2040,
          2041,
          2042,
          2043,
          2044,
          2045,
          2046,
          2047,
          2048,
          2049,
          2050
         ],
         "y": [
          148.37364722580645,
          148.25542082580645,
          148.13719442580646,
          148.01896802580646,
          147.90074162580643,
          147.78251522580643,
          147.31046752946236,
          146.83841983311828,
          146.3663721367742,
          145.8943244404301,
          150.4610119935437,
          150.1014544940574,
          154.9836515309122,
          157.12776731061837,
          164.1669338342134,
          203.17462447520336,
          204.50050061055944,
          204.78117865715072,
          206.26480936899497,
          213.59578053877289,
          222.50974717735167,
          234.24175292412437,
          252.03041707308006,
          261.2001481273715,
          266.9085940440481,
          287.1376230518076,
          296.485532561794,
          298.51963485671365,
          299.78782795663585,
          298.175883808694,
          293.7359151505466,
          300.1436185147038,
          300.24516227089845,
          308.72949675682133,
          328.2501335372687,
          356.368352163095
         ]
        }
       ],
       "layout": {
        "font": {
         "family": "Times New Roman",
         "size": 24
        },
        "template": {
         "data": {
          "bar": [
           {
            "error_x": {
             "color": "#2a3f5f"
            },
            "error_y": {
             "color": "#2a3f5f"
            },
            "marker": {
             "line": {
              "color": "#E5ECF6",
              "width": 0.5
             },
             "pattern": {
              "fillmode": "overlay",
              "size": 10,
              "solidity": 0.2
             }
            },
            "type": "bar"
           }
          ],
          "barpolar": [
           {
            "marker": {
             "line": {
              "color": "#E5ECF6",
              "width": 0.5
             },
             "pattern": {
              "fillmode": "overlay",
              "size": 10,
              "solidity": 0.2
             }
            },
            "type": "barpolar"
           }
          ],
          "carpet": [
           {
            "aaxis": {
             "endlinecolor": "#2a3f5f",
             "gridcolor": "white",
             "linecolor": "white",
             "minorgridcolor": "white",
             "startlinecolor": "#2a3f5f"
            },
            "baxis": {
             "endlinecolor": "#2a3f5f",
             "gridcolor": "white",
             "linecolor": "white",
             "minorgridcolor": "white",
             "startlinecolor": "#2a3f5f"
            },
            "type": "carpet"
           }
          ],
          "choropleth": [
           {
            "colorbar": {
             "outlinewidth": 0,
             "ticks": ""
            },
            "type": "choropleth"
           }
          ],
          "contour": [
           {
            "colorbar": {
             "outlinewidth": 0,
             "ticks": ""
            },
            "colorscale": [
             [
              0,
              "#0d0887"
             ],
             [
              0.1111111111111111,
              "#46039f"
             ],
             [
              0.2222222222222222,
              "#7201a8"
             ],
             [
              0.3333333333333333,
              "#9c179e"
             ],
             [
              0.4444444444444444,
              "#bd3786"
             ],
             [
              0.5555555555555556,
              "#d8576b"
             ],
             [
              0.6666666666666666,
              "#ed7953"
             ],
             [
              0.7777777777777778,
              "#fb9f3a"
             ],
             [
              0.8888888888888888,
              "#fdca26"
             ],
             [
              1,
              "#f0f921"
             ]
            ],
            "type": "contour"
           }
          ],
          "contourcarpet": [
           {
            "colorbar": {
             "outlinewidth": 0,
             "ticks": ""
            },
            "type": "contourcarpet"
           }
          ],
          "heatmap": [
           {
            "colorbar": {
             "outlinewidth": 0,
             "ticks": ""
            },
            "colorscale": [
             [
              0,
              "#0d0887"
             ],
             [
              0.1111111111111111,
              "#46039f"
             ],
             [
              0.2222222222222222,
              "#7201a8"
             ],
             [
              0.3333333333333333,
              "#9c179e"
             ],
             [
              0.4444444444444444,
              "#bd3786"
             ],
             [
              0.5555555555555556,
              "#d8576b"
             ],
             [
              0.6666666666666666,
              "#ed7953"
             ],
             [
              0.7777777777777778,
              "#fb9f3a"
             ],
             [
              0.8888888888888888,
              "#fdca26"
             ],
             [
              1,
              "#f0f921"
             ]
            ],
            "type": "heatmap"
           }
          ],
          "heatmapgl": [
           {
            "colorbar": {
             "outlinewidth": 0,
             "ticks": ""
            },
            "colorscale": [
             [
              0,
              "#0d0887"
             ],
             [
              0.1111111111111111,
              "#46039f"
             ],
             [
              0.2222222222222222,
              "#7201a8"
             ],
             [
              0.3333333333333333,
              "#9c179e"
             ],
             [
              0.4444444444444444,
              "#bd3786"
             ],
             [
              0.5555555555555556,
              "#d8576b"
             ],
             [
              0.6666666666666666,
              "#ed7953"
             ],
             [
              0.7777777777777778,
              "#fb9f3a"
             ],
             [
              0.8888888888888888,
              "#fdca26"
             ],
             [
              1,
              "#f0f921"
             ]
            ],
            "type": "heatmapgl"
           }
          ],
          "histogram": [
           {
            "marker": {
             "pattern": {
              "fillmode": "overlay",
              "size": 10,
              "solidity": 0.2
             }
            },
            "type": "histogram"
           }
          ],
          "histogram2d": [
           {
            "colorbar": {
             "outlinewidth": 0,
             "ticks": ""
            },
            "colorscale": [
             [
              0,
              "#0d0887"
             ],
             [
              0.1111111111111111,
              "#46039f"
             ],
             [
              0.2222222222222222,
              "#7201a8"
             ],
             [
              0.3333333333333333,
              "#9c179e"
             ],
             [
              0.4444444444444444,
              "#bd3786"
             ],
             [
              0.5555555555555556,
              "#d8576b"
             ],
             [
              0.6666666666666666,
              "#ed7953"
             ],
             [
              0.7777777777777778,
              "#fb9f3a"
             ],
             [
              0.8888888888888888,
              "#fdca26"
             ],
             [
              1,
              "#f0f921"
             ]
            ],
            "type": "histogram2d"
           }
          ],
          "histogram2dcontour": [
           {
            "colorbar": {
             "outlinewidth": 0,
             "ticks": ""
            },
            "colorscale": [
             [
              0,
              "#0d0887"
             ],
             [
              0.1111111111111111,
              "#46039f"
             ],
             [
              0.2222222222222222,
              "#7201a8"
             ],
             [
              0.3333333333333333,
              "#9c179e"
             ],
             [
              0.4444444444444444,
              "#bd3786"
             ],
             [
              0.5555555555555556,
              "#d8576b"
             ],
             [
              0.6666666666666666,
              "#ed7953"
             ],
             [
              0.7777777777777778,
              "#fb9f3a"
             ],
             [
              0.8888888888888888,
              "#fdca26"
             ],
             [
              1,
              "#f0f921"
             ]
            ],
            "type": "histogram2dcontour"
           }
          ],
          "mesh3d": [
           {
            "colorbar": {
             "outlinewidth": 0,
             "ticks": ""
            },
            "type": "mesh3d"
           }
          ],
          "parcoords": [
           {
            "line": {
             "colorbar": {
              "outlinewidth": 0,
              "ticks": ""
             }
            },
            "type": "parcoords"
           }
          ],
          "pie": [
           {
            "automargin": true,
            "type": "pie"
           }
          ],
          "scatter": [
           {
            "marker": {
             "colorbar": {
              "outlinewidth": 0,
              "ticks": ""
             }
            },
            "type": "scatter"
           }
          ],
          "scatter3d": [
           {
            "line": {
             "colorbar": {
              "outlinewidth": 0,
              "ticks": ""
             }
            },
            "marker": {
             "colorbar": {
              "outlinewidth": 0,
              "ticks": ""
             }
            },
            "type": "scatter3d"
           }
          ],
          "scattercarpet": [
           {
            "marker": {
             "colorbar": {
              "outlinewidth": 0,
              "ticks": ""
             }
            },
            "type": "scattercarpet"
           }
          ],
          "scattergeo": [
           {
            "marker": {
             "colorbar": {
              "outlinewidth": 0,
              "ticks": ""
             }
            },
            "type": "scattergeo"
           }
          ],
          "scattergl": [
           {
            "marker": {
             "colorbar": {
              "outlinewidth": 0,
              "ticks": ""
             }
            },
            "type": "scattergl"
           }
          ],
          "scattermapbox": [
           {
            "marker": {
             "colorbar": {
              "outlinewidth": 0,
              "ticks": ""
             }
            },
            "type": "scattermapbox"
           }
          ],
          "scatterpolar": [
           {
            "marker": {
             "colorbar": {
              "outlinewidth": 0,
              "ticks": ""
             }
            },
            "type": "scatterpolar"
           }
          ],
          "scatterpolargl": [
           {
            "marker": {
             "colorbar": {
              "outlinewidth": 0,
              "ticks": ""
             }
            },
            "type": "scatterpolargl"
           }
          ],
          "scatterternary": [
           {
            "marker": {
             "colorbar": {
              "outlinewidth": 0,
              "ticks": ""
             }
            },
            "type": "scatterternary"
           }
          ],
          "surface": [
           {
            "colorbar": {
             "outlinewidth": 0,
             "ticks": ""
            },
            "colorscale": [
             [
              0,
              "#0d0887"
             ],
             [
              0.1111111111111111,
              "#46039f"
             ],
             [
              0.2222222222222222,
              "#7201a8"
             ],
             [
              0.3333333333333333,
              "#9c179e"
             ],
             [
              0.4444444444444444,
              "#bd3786"
             ],
             [
              0.5555555555555556,
              "#d8576b"
             ],
             [
              0.6666666666666666,
              "#ed7953"
             ],
             [
              0.7777777777777778,
              "#fb9f3a"
             ],
             [
              0.8888888888888888,
              "#fdca26"
             ],
             [
              1,
              "#f0f921"
             ]
            ],
            "type": "surface"
           }
          ],
          "table": [
           {
            "cells": {
             "fill": {
              "color": "#EBF0F8"
             },
             "line": {
              "color": "white"
             }
            },
            "header": {
             "fill": {
              "color": "#C8D4E3"
             },
             "line": {
              "color": "white"
             }
            },
            "type": "table"
           }
          ]
         },
         "layout": {
          "annotationdefaults": {
           "arrowcolor": "#2a3f5f",
           "arrowhead": 0,
           "arrowwidth": 1
          },
          "autotypenumbers": "strict",
          "coloraxis": {
           "colorbar": {
            "outlinewidth": 0,
            "ticks": ""
           }
          },
          "colorscale": {
           "diverging": [
            [
             0,
             "#8e0152"
            ],
            [
             0.1,
             "#c51b7d"
            ],
            [
             0.2,
             "#de77ae"
            ],
            [
             0.3,
             "#f1b6da"
            ],
            [
             0.4,
             "#fde0ef"
            ],
            [
             0.5,
             "#f7f7f7"
            ],
            [
             0.6,
             "#e6f5d0"
            ],
            [
             0.7,
             "#b8e186"
            ],
            [
             0.8,
             "#7fbc41"
            ],
            [
             0.9,
             "#4d9221"
            ],
            [
             1,
             "#276419"
            ]
           ],
           "sequential": [
            [
             0,
             "#0d0887"
            ],
            [
             0.1111111111111111,
             "#46039f"
            ],
            [
             0.2222222222222222,
             "#7201a8"
            ],
            [
             0.3333333333333333,
             "#9c179e"
            ],
            [
             0.4444444444444444,
             "#bd3786"
            ],
            [
             0.5555555555555556,
             "#d8576b"
            ],
            [
             0.6666666666666666,
             "#ed7953"
            ],
            [
             0.7777777777777778,
             "#fb9f3a"
            ],
            [
             0.8888888888888888,
             "#fdca26"
            ],
            [
             1,
             "#f0f921"
            ]
           ],
           "sequentialminus": [
            [
             0,
             "#0d0887"
            ],
            [
             0.1111111111111111,
             "#46039f"
            ],
            [
             0.2222222222222222,
             "#7201a8"
            ],
            [
             0.3333333333333333,
             "#9c179e"
            ],
            [
             0.4444444444444444,
             "#bd3786"
            ],
            [
             0.5555555555555556,
             "#d8576b"
            ],
            [
             0.6666666666666666,
             "#ed7953"
            ],
            [
             0.7777777777777778,
             "#fb9f3a"
            ],
            [
             0.8888888888888888,
             "#fdca26"
            ],
            [
             1,
             "#f0f921"
            ]
           ]
          },
          "colorway": [
           "#636efa",
           "#EF553B",
           "#00cc96",
           "#ab63fa",
           "#FFA15A",
           "#19d3f3",
           "#FF6692",
           "#B6E880",
           "#FF97FF",
           "#FECB52"
          ],
          "font": {
           "color": "#2a3f5f"
          },
          "geo": {
           "bgcolor": "white",
           "lakecolor": "white",
           "landcolor": "#E5ECF6",
           "showlakes": true,
           "showland": true,
           "subunitcolor": "white"
          },
          "hoverlabel": {
           "align": "left"
          },
          "hovermode": "closest",
          "mapbox": {
           "style": "light"
          },
          "paper_bgcolor": "white",
          "plot_bgcolor": "#E5ECF6",
          "polar": {
           "angularaxis": {
            "gridcolor": "white",
            "linecolor": "white",
            "ticks": ""
           },
           "bgcolor": "#E5ECF6",
           "radialaxis": {
            "gridcolor": "white",
            "linecolor": "white",
            "ticks": ""
           }
          },
          "scene": {
           "xaxis": {
            "backgroundcolor": "#E5ECF6",
            "gridcolor": "white",
            "gridwidth": 2,
            "linecolor": "white",
            "showbackground": true,
            "ticks": "",
            "zerolinecolor": "white"
           },
           "yaxis": {
            "backgroundcolor": "#E5ECF6",
            "gridcolor": "white",
            "gridwidth": 2,
            "linecolor": "white",
            "showbackground": true,
            "ticks": "",
            "zerolinecolor": "white"
           },
           "zaxis": {
            "backgroundcolor": "#E5ECF6",
            "gridcolor": "white",
            "gridwidth": 2,
            "linecolor": "white",
            "showbackground": true,
            "ticks": "",
            "zerolinecolor": "white"
           }
          },
          "shapedefaults": {
           "line": {
            "color": "#2a3f5f"
           }
          },
          "ternary": {
           "aaxis": {
            "gridcolor": "white",
            "linecolor": "white",
            "ticks": ""
           },
           "baxis": {
            "gridcolor": "white",
            "linecolor": "white",
            "ticks": ""
           },
           "bgcolor": "#E5ECF6",
           "caxis": {
            "gridcolor": "white",
            "linecolor": "white",
            "ticks": ""
           }
          },
          "title": {
           "x": 0.05
          },
          "xaxis": {
           "automargin": true,
           "gridcolor": "white",
           "linecolor": "white",
           "ticks": "",
           "title": {
            "standoff": 15
           },
           "zerolinecolor": "white",
           "zerolinewidth": 2
          },
          "yaxis": {
           "automargin": true,
           "gridcolor": "white",
           "linecolor": "white",
           "ticks": "",
           "title": {
            "standoff": 15
           },
           "zerolinecolor": "white",
           "zerolinewidth": 2
          }
         }
        },
        "xaxis": {
         "title": {
          "text": "Year"
         }
        },
        "yaxis": {
         "range": [
          0,
          400
         ],
         "title": {
          "text": "Electricity consumption (TWh)"
         }
        }
       }
      },
      "text/html": [
       "<div>                            <div id=\"b4034c5f-da6c-4590-96c9-1cb35938c6da\" class=\"plotly-graph-div\" style=\"height:525px; width:100%;\"></div>            <script type=\"text/javascript\">                require([\"plotly\"], function(Plotly) {                    window.PLOTLYENV=window.PLOTLYENV || {};                                    if (document.getElementById(\"b4034c5f-da6c-4590-96c9-1cb35938c6da\")) {                    Plotly.newPlot(                        \"b4034c5f-da6c-4590-96c9-1cb35938c6da\",                        [{\"line\":{\"color\":\"black\",\"width\":3},\"mode\":\"lines\",\"name\":\"High electricity price\",\"type\":\"scatter\",\"x\":[2015,2016,2017,2018,2019,2020,2021,2022,2023,2024,2025,2026,2027,2028,2029,2030,2031,2032,2033,2034,2035,2036,2037,2038,2039,2040,2041,2042,2043,2044,2045,2046,2047,2048,2049,2050],\"y\":[148.37364722580645,148.25542082580645,148.13719442580646,148.01896802580646,147.90074162580643,147.78251522580643,147.31046752946236,146.83841983311828,146.3663721367742,145.8943244404301,150.4610119935437,150.1014544940574,153.80107027376357,153.35268605346977,152.90430183317596,163.20627066669576,164.18581770955927,169.0578239214853,169.6884634511915,171.3472215134142,185.06538931301498,188.10196115449574,193.99199264386212,198.15534282516748,204.18818706392415,223.57083648206475,226.84310094189513,225.21567743949814,224.89056721482606,222.14698053371075,217.63486387212515,217.7713523147309,214.73194489858187,211.9317963377586,211.0334747295952,220.66777179956085]},{\"line\":{\"color\":\"red\",\"width\":3},\"mode\":\"lines\",\"name\":\"Reference\",\"type\":\"scatter\",\"x\":[2015,2016,2017,2018,2019,2020,2021,2022,2023,2024,2025,2026,2027,2028,2029,2030,2031,2032,2033,2034,2035,2036,2037,2038,2039,2040,2041,2042,2043,2044,2045,2046,2047,2048,2049,2050],\"y\":[148.37364722580645,148.25542082580645,148.13719442580646,148.01896802580646,147.90074162580643,147.78251522580643,147.31046752946236,146.83841983311828,146.3663721367742,145.8943244404301,150.4610119935437,150.1014544940574,154.46920041430053,156.6133161940067,163.29416781181197,202.99966329520703,202.9138942284484,203.1945722750397,204.8161306162115,212.24895621715876,222.48919247155942,231.44011981520737,246.34785341682624,253.51307434989346,257.9303237640655,277.3795361640337,286.6426380033669,288.6661316727885,290.43234243413394,288.6730004328442,283.5075883225375,289.8260186860631,288.62946178221125,288.2422058767716,290.57962580224626,308.6583908636394]},{\"line\":{\"color\":\"green\",\"width\":3},\"mode\":\"lines\",\"name\":\"Fossil phase-out\",\"type\":\"scatter\",\"x\":[2015,2016,2017,2018,2019,2020,2021,2022,2023,2024,2025,2026,2027,2028,2029,2030,2031,2032,2033,2034,2035,2036,2037,2038,2039,2040,2041,2042,2043,2044,2045,2046,2047,2048,2049,2050],\"y\":[148.37364722580645,148.25542082580645,148.13719442580646,148.01896802580646,147.90074162580643,147.78251522580643,147.31046752946236,146.83841983311828,146.3663721367742,145.8943244404301,150.4610119935437,150.1014544940574,154.9836515309122,157.12776731061837,164.1669338342134,203.17462447520336,204.50050061055944,204.78117865715072,206.26480936899497,213.59578053877289,222.50974717735167,234.24175292412437,252.03041707308006,261.2001481273715,266.9085940440481,287.1376230518076,296.485532561794,298.51963485671365,299.78782795663585,298.175883808694,293.7359151505466,300.1436185147038,300.24516227089845,308.72949675682133,328.2501335372687,356.368352163095]}],                        {\"font\":{\"family\":\"Times New Roman\",\"size\":24},\"template\":{\"data\":{\"bar\":[{\"error_x\":{\"color\":\"#2a3f5f\"},\"error_y\":{\"color\":\"#2a3f5f\"},\"marker\":{\"line\":{\"color\":\"#E5ECF6\",\"width\":0.5},\"pattern\":{\"fillmode\":\"overlay\",\"size\":10,\"solidity\":0.2}},\"type\":\"bar\"}],\"barpolar\":[{\"marker\":{\"line\":{\"color\":\"#E5ECF6\",\"width\":0.5},\"pattern\":{\"fillmode\":\"overlay\",\"size\":10,\"solidity\":0.2}},\"type\":\"barpolar\"}],\"carpet\":[{\"aaxis\":{\"endlinecolor\":\"#2a3f5f\",\"gridcolor\":\"white\",\"linecolor\":\"white\",\"minorgridcolor\":\"white\",\"startlinecolor\":\"#2a3f5f\"},\"baxis\":{\"endlinecolor\":\"#2a3f5f\",\"gridcolor\":\"white\",\"linecolor\":\"white\",\"minorgridcolor\":\"white\",\"startlinecolor\":\"#2a3f5f\"},\"type\":\"carpet\"}],\"choropleth\":[{\"colorbar\":{\"outlinewidth\":0,\"ticks\":\"\"},\"type\":\"choropleth\"}],\"contour\":[{\"colorbar\":{\"outlinewidth\":0,\"ticks\":\"\"},\"colorscale\":[[0.0,\"#0d0887\"],[0.1111111111111111,\"#46039f\"],[0.2222222222222222,\"#7201a8\"],[0.3333333333333333,\"#9c179e\"],[0.4444444444444444,\"#bd3786\"],[0.5555555555555556,\"#d8576b\"],[0.6666666666666666,\"#ed7953\"],[0.7777777777777778,\"#fb9f3a\"],[0.8888888888888888,\"#fdca26\"],[1.0,\"#f0f921\"]],\"type\":\"contour\"}],\"contourcarpet\":[{\"colorbar\":{\"outlinewidth\":0,\"ticks\":\"\"},\"type\":\"contourcarpet\"}],\"heatmap\":[{\"colorbar\":{\"outlinewidth\":0,\"ticks\":\"\"},\"colorscale\":[[0.0,\"#0d0887\"],[0.1111111111111111,\"#46039f\"],[0.2222222222222222,\"#7201a8\"],[0.3333333333333333,\"#9c179e\"],[0.4444444444444444,\"#bd3786\"],[0.5555555555555556,\"#d8576b\"],[0.6666666666666666,\"#ed7953\"],[0.7777777777777778,\"#fb9f3a\"],[0.8888888888888888,\"#fdca26\"],[1.0,\"#f0f921\"]],\"type\":\"heatmap\"}],\"heatmapgl\":[{\"colorbar\":{\"outlinewidth\":0,\"ticks\":\"\"},\"colorscale\":[[0.0,\"#0d0887\"],[0.1111111111111111,\"#46039f\"],[0.2222222222222222,\"#7201a8\"],[0.3333333333333333,\"#9c179e\"],[0.4444444444444444,\"#bd3786\"],[0.5555555555555556,\"#d8576b\"],[0.6666666666666666,\"#ed7953\"],[0.7777777777777778,\"#fb9f3a\"],[0.8888888888888888,\"#fdca26\"],[1.0,\"#f0f921\"]],\"type\":\"heatmapgl\"}],\"histogram\":[{\"marker\":{\"pattern\":{\"fillmode\":\"overlay\",\"size\":10,\"solidity\":0.2}},\"type\":\"histogram\"}],\"histogram2d\":[{\"colorbar\":{\"outlinewidth\":0,\"ticks\":\"\"},\"colorscale\":[[0.0,\"#0d0887\"],[0.1111111111111111,\"#46039f\"],[0.2222222222222222,\"#7201a8\"],[0.3333333333333333,\"#9c179e\"],[0.4444444444444444,\"#bd3786\"],[0.5555555555555556,\"#d8576b\"],[0.6666666666666666,\"#ed7953\"],[0.7777777777777778,\"#fb9f3a\"],[0.8888888888888888,\"#fdca26\"],[1.0,\"#f0f921\"]],\"type\":\"histogram2d\"}],\"histogram2dcontour\":[{\"colorbar\":{\"outlinewidth\":0,\"ticks\":\"\"},\"colorscale\":[[0.0,\"#0d0887\"],[0.1111111111111111,\"#46039f\"],[0.2222222222222222,\"#7201a8\"],[0.3333333333333333,\"#9c179e\"],[0.4444444444444444,\"#bd3786\"],[0.5555555555555556,\"#d8576b\"],[0.6666666666666666,\"#ed7953\"],[0.7777777777777778,\"#fb9f3a\"],[0.8888888888888888,\"#fdca26\"],[1.0,\"#f0f921\"]],\"type\":\"histogram2dcontour\"}],\"mesh3d\":[{\"colorbar\":{\"outlinewidth\":0,\"ticks\":\"\"},\"type\":\"mesh3d\"}],\"parcoords\":[{\"line\":{\"colorbar\":{\"outlinewidth\":0,\"ticks\":\"\"}},\"type\":\"parcoords\"}],\"pie\":[{\"automargin\":true,\"type\":\"pie\"}],\"scatter\":[{\"marker\":{\"colorbar\":{\"outlinewidth\":0,\"ticks\":\"\"}},\"type\":\"scatter\"}],\"scatter3d\":[{\"line\":{\"colorbar\":{\"outlinewidth\":0,\"ticks\":\"\"}},\"marker\":{\"colorbar\":{\"outlinewidth\":0,\"ticks\":\"\"}},\"type\":\"scatter3d\"}],\"scattercarpet\":[{\"marker\":{\"colorbar\":{\"outlinewidth\":0,\"ticks\":\"\"}},\"type\":\"scattercarpet\"}],\"scattergeo\":[{\"marker\":{\"colorbar\":{\"outlinewidth\":0,\"ticks\":\"\"}},\"type\":\"scattergeo\"}],\"scattergl\":[{\"marker\":{\"colorbar\":{\"outlinewidth\":0,\"ticks\":\"\"}},\"type\":\"scattergl\"}],\"scattermapbox\":[{\"marker\":{\"colorbar\":{\"outlinewidth\":0,\"ticks\":\"\"}},\"type\":\"scattermapbox\"}],\"scatterpolar\":[{\"marker\":{\"colorbar\":{\"outlinewidth\":0,\"ticks\":\"\"}},\"type\":\"scatterpolar\"}],\"scatterpolargl\":[{\"marker\":{\"colorbar\":{\"outlinewidth\":0,\"ticks\":\"\"}},\"type\":\"scatterpolargl\"}],\"scatterternary\":[{\"marker\":{\"colorbar\":{\"outlinewidth\":0,\"ticks\":\"\"}},\"type\":\"scatterternary\"}],\"surface\":[{\"colorbar\":{\"outlinewidth\":0,\"ticks\":\"\"},\"colorscale\":[[0.0,\"#0d0887\"],[0.1111111111111111,\"#46039f\"],[0.2222222222222222,\"#7201a8\"],[0.3333333333333333,\"#9c179e\"],[0.4444444444444444,\"#bd3786\"],[0.5555555555555556,\"#d8576b\"],[0.6666666666666666,\"#ed7953\"],[0.7777777777777778,\"#fb9f3a\"],[0.8888888888888888,\"#fdca26\"],[1.0,\"#f0f921\"]],\"type\":\"surface\"}],\"table\":[{\"cells\":{\"fill\":{\"color\":\"#EBF0F8\"},\"line\":{\"color\":\"white\"}},\"header\":{\"fill\":{\"color\":\"#C8D4E3\"},\"line\":{\"color\":\"white\"}},\"type\":\"table\"}]},\"layout\":{\"annotationdefaults\":{\"arrowcolor\":\"#2a3f5f\",\"arrowhead\":0,\"arrowwidth\":1},\"autotypenumbers\":\"strict\",\"coloraxis\":{\"colorbar\":{\"outlinewidth\":0,\"ticks\":\"\"}},\"colorscale\":{\"diverging\":[[0,\"#8e0152\"],[0.1,\"#c51b7d\"],[0.2,\"#de77ae\"],[0.3,\"#f1b6da\"],[0.4,\"#fde0ef\"],[0.5,\"#f7f7f7\"],[0.6,\"#e6f5d0\"],[0.7,\"#b8e186\"],[0.8,\"#7fbc41\"],[0.9,\"#4d9221\"],[1,\"#276419\"]],\"sequential\":[[0.0,\"#0d0887\"],[0.1111111111111111,\"#46039f\"],[0.2222222222222222,\"#7201a8\"],[0.3333333333333333,\"#9c179e\"],[0.4444444444444444,\"#bd3786\"],[0.5555555555555556,\"#d8576b\"],[0.6666666666666666,\"#ed7953\"],[0.7777777777777778,\"#fb9f3a\"],[0.8888888888888888,\"#fdca26\"],[1.0,\"#f0f921\"]],\"sequentialminus\":[[0.0,\"#0d0887\"],[0.1111111111111111,\"#46039f\"],[0.2222222222222222,\"#7201a8\"],[0.3333333333333333,\"#9c179e\"],[0.4444444444444444,\"#bd3786\"],[0.5555555555555556,\"#d8576b\"],[0.6666666666666666,\"#ed7953\"],[0.7777777777777778,\"#fb9f3a\"],[0.8888888888888888,\"#fdca26\"],[1.0,\"#f0f921\"]]},\"colorway\":[\"#636efa\",\"#EF553B\",\"#00cc96\",\"#ab63fa\",\"#FFA15A\",\"#19d3f3\",\"#FF6692\",\"#B6E880\",\"#FF97FF\",\"#FECB52\"],\"font\":{\"color\":\"#2a3f5f\"},\"geo\":{\"bgcolor\":\"white\",\"lakecolor\":\"white\",\"landcolor\":\"#E5ECF6\",\"showlakes\":true,\"showland\":true,\"subunitcolor\":\"white\"},\"hoverlabel\":{\"align\":\"left\"},\"hovermode\":\"closest\",\"mapbox\":{\"style\":\"light\"},\"paper_bgcolor\":\"white\",\"plot_bgcolor\":\"#E5ECF6\",\"polar\":{\"angularaxis\":{\"gridcolor\":\"white\",\"linecolor\":\"white\",\"ticks\":\"\"},\"bgcolor\":\"#E5ECF6\",\"radialaxis\":{\"gridcolor\":\"white\",\"linecolor\":\"white\",\"ticks\":\"\"}},\"scene\":{\"xaxis\":{\"backgroundcolor\":\"#E5ECF6\",\"gridcolor\":\"white\",\"gridwidth\":2,\"linecolor\":\"white\",\"showbackground\":true,\"ticks\":\"\",\"zerolinecolor\":\"white\"},\"yaxis\":{\"backgroundcolor\":\"#E5ECF6\",\"gridcolor\":\"white\",\"gridwidth\":2,\"linecolor\":\"white\",\"showbackground\":true,\"ticks\":\"\",\"zerolinecolor\":\"white\"},\"zaxis\":{\"backgroundcolor\":\"#E5ECF6\",\"gridcolor\":\"white\",\"gridwidth\":2,\"linecolor\":\"white\",\"showbackground\":true,\"ticks\":\"\",\"zerolinecolor\":\"white\"}},\"shapedefaults\":{\"line\":{\"color\":\"#2a3f5f\"}},\"ternary\":{\"aaxis\":{\"gridcolor\":\"white\",\"linecolor\":\"white\",\"ticks\":\"\"},\"baxis\":{\"gridcolor\":\"white\",\"linecolor\":\"white\",\"ticks\":\"\"},\"bgcolor\":\"#E5ECF6\",\"caxis\":{\"gridcolor\":\"white\",\"linecolor\":\"white\",\"ticks\":\"\"}},\"title\":{\"x\":0.05},\"xaxis\":{\"automargin\":true,\"gridcolor\":\"white\",\"linecolor\":\"white\",\"ticks\":\"\",\"title\":{\"standoff\":15},\"zerolinecolor\":\"white\",\"zerolinewidth\":2},\"yaxis\":{\"automargin\":true,\"gridcolor\":\"white\",\"linecolor\":\"white\",\"ticks\":\"\",\"title\":{\"standoff\":15},\"zerolinecolor\":\"white\",\"zerolinewidth\":2}}},\"xaxis\":{\"title\":{\"text\":\"Year\"}},\"yaxis\":{\"range\":[0,400],\"title\":{\"text\":\"Electricity consumption (TWh)\"}}},                        {\"responsive\": true}                    ).then(function(){\n",
       "                            \n",
       "var gd = document.getElementById('b4034c5f-da6c-4590-96c9-1cb35938c6da');\n",
       "var x = new MutationObserver(function (mutations, observer) {{\n",
       "        var display = window.getComputedStyle(gd).display;\n",
       "        if (!display || display === 'none') {{\n",
       "            console.log([gd, 'removed!']);\n",
       "            Plotly.purge(gd);\n",
       "            observer.disconnect();\n",
       "        }}\n",
       "}});\n",
       "\n",
       "// Listen for the removal of the full notebook cells\n",
       "var notebookContainer = gd.closest('#notebook-container');\n",
       "if (notebookContainer) {{\n",
       "    x.observe(notebookContainer, {childList: true});\n",
       "}}\n",
       "\n",
       "// Listen for the clearing of the current output cell\n",
       "var outputEl = gd.closest('.output');\n",
       "if (outputEl) {{\n",
       "    x.observe(outputEl, {childList: true});\n",
       "}}\n",
       "\n",
       "                        })                };                });            </script>        </div>"
      ]
     },
     "metadata": {},
     "output_type": "display_data"
    }
   ],
   "source": [
    "fig =go.Figure()\n",
    "color={\"Reference\":\"red\",\"Fossil phase-out\":\"green\",\"High electricity price\":\"black\"}\n",
    "for i in range(len(scen.keys())):\n",
    "    resource_inflow=scen[list(scen.keys())[i]]['resource_tech_inflow']\n",
    "    energy_input=resource_inflow[(resource_inflow.Resource.isin(primary_resource_conversion.keys()))]\n",
    "    energy_input=energy_input[energy_input.Technology!=\"Electrolyser\"]\n",
    "    energy_input=energy_input.drop([\"Sector\",\"Country\"],axis=1).groupby(by=[\"Resource\",\"Year\"]).sum().reset_index()\n",
    "    \n",
    "    \n",
    "    resource=\"Electricity\"\n",
    "    name=list(scen.keys())[i]\n",
    "    fig.add_trace(go.Scatter(x=energy_input[(energy_input.Resource==resource)].Year,\n",
    "                             y=energy_input[(energy_input.Resource==resource)].Flow,\n",
    "                             name=name,line=dict(width=3,color=color[name]),\n",
    "                                     mode='lines'))\n",
    "\n",
    "        \n",
    "fig.update_layout(#title='Electricity consumption per country',title_x=0.5,\n",
    "                    xaxis_title=\"Year\",\n",
    "                   yaxis_title='Electricity consumption (TWh)')\n",
    "fig.update_layout(\n",
    "    font=dict(\n",
    "        family=\"Times New Roman\",size=24)\n",
    "    )\n",
    "fig.update_annotations(font_size=24)\n",
    "\n",
    "\n",
    "\n",
    "# fig.update_layout(legend=dict(\n",
    "#     orientation=\"h\",\n",
    "#     yanchor=\"bottom\",\n",
    "#     y=1.1,\n",
    "#     xanchor=\"right\",\n",
    "#     x=0.9,font = dict(size=20)\n",
    "# ))\n",
    "fig.update_yaxes(range=[0,400])\n",
    "fig.show()"
   ]
  },
  {
   "cell_type": "code",
   "execution_count": 248,
   "id": "241ce819",
   "metadata": {},
   "outputs": [
    {
     "data": {
      "application/vnd.plotly.v1+json": {
       "config": {
        "plotlyServerURL": "https://plot.ly"
       },
       "data": [
        {
         "line": {
          "color": "blue",
          "width": 2
         },
         "marker": {
          "symbol": "square"
         },
         "mode": "lines+markers",
         "name": "France",
         "showlegend": true,
         "type": "scatter",
         "x": [
          2015,
          2016,
          2017,
          2018,
          2019,
          2020,
          2021,
          2022,
          2023,
          2024,
          2025,
          2026,
          2027,
          2028,
          2029,
          2030,
          2031,
          2032,
          2033,
          2034,
          2035,
          2036,
          2037,
          2038,
          2039,
          2040,
          2041,
          2042,
          2043,
          2044,
          2045,
          2046,
          2047,
          2048,
          2049,
          2050
         ],
         "y": [
          19.571297032258066,
          19.492479432258065,
          19.413661832258065,
          19.334844232258064,
          19.256026632258067,
          19.177209032258066,
          19.09507424516129,
          19.012939458064515,
          18.930804670967742,
          18.84866988387097,
          18.766535096774195,
          18.68443032296352,
          22.750291248254445,
          22.668152173545373,
          22.586013098836297,
          23.27359988910806,
          23.767414949418146,
          23.876842426110944,
          23.952223351401866,
          25.0550157593178,
          27.49969057782122,
          28.841996373774574,
          30.67412337212416,
          32.48004111167534,
          34.191426324578565,
          37.359191714614134,
          36.47242100087536,
          34.89635207710133,
          33.2986631533273,
          31.669349009713642,
          30.098174107795135,
          29.81562516911073,
          29.950234505241287,
          29.93282576272349,
          29.92503509903529,
          33.844219210943464
         ]
        },
        {
         "line": {
          "color": "black",
          "width": 2
         },
         "marker": {
          "symbol": "square"
         },
         "mode": "lines+markers",
         "name": "Germany",
         "showlegend": true,
         "type": "scatter",
         "x": [
          2015,
          2016,
          2017,
          2018,
          2019,
          2020,
          2021,
          2022,
          2023,
          2024,
          2025,
          2026,
          2027,
          2028,
          2029,
          2030,
          2031,
          2032,
          2033,
          2034,
          2035,
          2036,
          2037,
          2038,
          2039,
          2040,
          2041,
          2042,
          2043,
          2044,
          2045,
          2046,
          2047,
          2048,
          2049,
          2050
         ],
         "y": [
          49.45951161290322,
          49.420102812903224,
          49.38069401290322,
          49.34128521290322,
          49.30187641290322,
          49.26246761290322,
          49.01549625806451,
          48.7685249032258,
          48.5215535483871,
          48.27458219354838,
          48.29261083870968,
          48.158099667442634,
          47.93479607626649,
          47.711492485090346,
          47.48818889391421,
          50.635383407214206,
          50.12120731603806,
          53.99845508117008,
          54.386468989993936,
          54.77448289881779,
          58.77507522595377,
          59.293004237633184,
          61.09255825146396,
          63.21103138824333,
          66.81614230280047,
          73.62816650309937,
          78.83619070339826,
          80.58800478906383,
          82.24234354011355,
          81.38699530734341,
          81.15865018412056,
          81.47824434801959,
          78.47201564167418,
          75.80135873815458,
          72.77310144247812,
          72.62242342247114
         ]
        },
        {
         "line": {
          "color": "green",
          "width": 2
         },
         "marker": {
          "symbol": "square"
         },
         "mode": "lines+markers",
         "name": "Italy",
         "showlegend": true,
         "type": "scatter",
         "x": [
          2015,
          2016,
          2017,
          2018,
          2019,
          2020,
          2021,
          2022,
          2023,
          2024,
          2025,
          2026,
          2027,
          2028,
          2029,
          2030,
          2031,
          2032,
          2033,
          2034,
          2035,
          2036,
          2037,
          2038,
          2039,
          2040,
          2041,
          2042,
          2043,
          2044,
          2045,
          2046,
          2047,
          2048,
          2049,
          2050
         ],
         "y": [
          36.16953380645162,
          36.16953380645161,
          36.16953380645161,
          36.16953380645161,
          36.16953380645161,
          36.16953380645161,
          36.15442047569893,
          36.13930714494624,
          36.124193814193546,
          36.109080483440856,
          36.09396715268817,
          36.07885382193548,
          36.0637404911828,
          36.04862716043011,
          36.03351382967742,
          36.202714224414926,
          36.17578839366224,
          36.86694883741936,
          36.84002300666667,
          36.813097175913974,
          38.21038028274882,
          38.18288771143099,
          38.2170036777895,
          38.05319685223634,
          38.029972813474245,
          41.069240483577794,
          42.43606387889148,
          42.36171459031622,
          42.27767727989276,
          42.197303458094254,
          42.10698442526181,
          42.140729940549996,
          42.05994846254735,
          41.97902711216072,
          41.89810576177409,
          43.666204019230605
         ]
        },
        {
         "line": {
          "color": "yellow",
          "width": 2
         },
         "marker": {
          "symbol": "square"
         },
         "mode": "lines+markers",
         "name": "Belgium",
         "showlegend": true,
         "type": "scatter",
         "x": [
          2015,
          2016,
          2017,
          2018,
          2019,
          2020,
          2021,
          2022,
          2023,
          2024,
          2025,
          2026,
          2027,
          2028,
          2029,
          2030,
          2031,
          2032,
          2033,
          2034,
          2035,
          2036,
          2037,
          2038,
          2039,
          2040,
          2041,
          2042,
          2043,
          2044,
          2045,
          2046,
          2047,
          2048,
          2049,
          2050
         ],
         "y": [
          9.548770322580644,
          9.548770322580644,
          9.548770322580644,
          9.548770322580644,
          9.548770322580644,
          9.548770322580644,
          9.512841651612902,
          9.47691298064516,
          9.440984309677418,
          9.405055638709676,
          9.372662217199636,
          9.336733546231894,
          9.300804875264152,
          9.26487620429641,
          9.228947533328668,
          14.354258862360926,
          14.401553941393184,
          14.448849020425442,
          14.4961440994577,
          14.543439178489958,
          17.40071576449688,
          18.424154990795053,
          20.208783199036116,
          20.276798278068373,
          20.344813357100634,
          20.97551276882941,
          18.15946469674025,
          17.12666539318532,
          16.810874588122914,
          16.518375302321818,
          15.464587986279854,
          15.370347582946673,
          15.244863116616028,
          15.098285411039338,
          16.912408097619508,
          18.739811862746173
         ]
        },
        {
         "line": {
          "color": "orange",
          "width": 2
         },
         "marker": {
          "symbol": "square"
         },
         "mode": "lines+markers",
         "name": "Spain",
         "showlegend": true,
         "type": "scatter",
         "x": [
          2015,
          2016,
          2017,
          2018,
          2019,
          2020,
          2021,
          2022,
          2023,
          2024,
          2025,
          2026,
          2027,
          2028,
          2029,
          2030,
          2031,
          2032,
          2033,
          2034,
          2035,
          2036,
          2037,
          2038,
          2039,
          2040,
          2041,
          2042,
          2043,
          2044,
          2045,
          2046,
          2047,
          2048,
          2049,
          2050
         ],
         "y": [
          24.288206451612904,
          24.288206451612904,
          24.288206451612904,
          24.288206451612904,
          24.288206451612904,
          24.288206451612904,
          24.23571569892473,
          24.18322494623656,
          24.130734193548385,
          24.078243440860213,
          28.79595268817204,
          28.74346193548387,
          28.6909711827957,
          28.638480430107524,
          28.585989677419352,
          28.57109892473118,
          28.92377067204301,
          28.862842419354838,
          28.801914166666666,
          28.741692963870037,
          30.778970216375967,
          30.929956895243624,
          31.161759497830072,
          31.288706849325802,
          31.38951022035192,
          34.55396514245978,
          34.774048630811954,
          34.26082639696008,
          34.14103666730695,
          34.101124402218815,
          32.385445952955415,
          32.3466184586131,
          32.23784419531869,
          32.206008174802584,
          32.12383665961441,
          32.39782690594615
         ]
        },
        {
         "line": {
          "color": "red",
          "width": 2
         },
         "marker": {
          "symbol": "square"
         },
         "mode": "lines+markers",
         "name": "Great Britain",
         "showlegend": true,
         "type": "scatter",
         "x": [
          2015,
          2016,
          2017,
          2018,
          2019,
          2020,
          2021,
          2022,
          2023,
          2024,
          2025,
          2026,
          2027,
          2028,
          2029,
          2030,
          2031,
          2032,
          2033,
          2034,
          2035,
          2036,
          2037,
          2038,
          2039,
          2040,
          2041,
          2042,
          2043,
          2044,
          2045,
          2046,
          2047,
          2048,
          2049,
          2050
         ],
         "y": [
          9.336328,
          9.336328,
          9.336328,
          9.336328,
          9.336328,
          9.336328,
          9.2969192,
          9.2575104,
          9.2181016,
          9.1786928,
          9.139284,
          9.0998752,
          9.0604664,
          9.0210576,
          8.9816488,
          10.169215358866463,
          10.796082437004646,
          11.003886137004647,
          11.211689837004647,
          11.419493537004646,
          12.400557245618302,
          12.4299609456183,
          12.6377646456183,
          12.8455683456183,
          13.416322045618301,
          15.984759869484272,
          16.16491203117782,
          15.982114192871368,
          16.119971986062595,
          16.273833054018816,
          16.421021215712365,
          16.619786815490805,
          16.767038977184352,
          16.914291138877903,
          17.40098766907377,
          19.397286378223328
         ]
        },
        {
         "line": {
          "color": "blue",
          "width": 2
         },
         "marker": {
          "symbol": "circle"
         },
         "mode": "lines+markers",
         "name": "France",
         "showlegend": false,
         "type": "scatter",
         "x": [
          2015,
          2016,
          2017,
          2018,
          2019,
          2020,
          2021,
          2022,
          2023,
          2024,
          2025,
          2026,
          2027,
          2028,
          2029,
          2030,
          2031,
          2032,
          2033,
          2034,
          2035,
          2036,
          2037,
          2038,
          2039,
          2040,
          2041,
          2042,
          2043,
          2044,
          2045,
          2046,
          2047,
          2048,
          2049,
          2050
         ],
         "y": [
          19.571297032258066,
          19.492479432258065,
          19.413661832258065,
          19.334844232258064,
          19.256026632258067,
          19.177209032258066,
          19.09507424516129,
          19.012939458064515,
          18.930804670967742,
          18.84866988387097,
          18.766535096774195,
          18.68443032296352,
          22.750291248254445,
          22.668152173545373,
          22.586013098836297,
          23.458222409146387,
          23.327320568308277,
          24.44081872747017,
          25.47738363874579,
          30.240524427883255,
          32.525762016643604,
          36.593115765331106,
          41.02684276368069,
          42.85896976203028,
          44.57336553275895,
          47.72715679902043,
          47.95255646191757,
          47.983821044273185,
          47.99736583782157,
          47.98049861889037,
          44.97448599698137,
          43.37928726854696,
          41.78408854011255,
          40.18888981167814,
          41.106640307796546,
          45.38806281996347
         ]
        },
        {
         "line": {
          "color": "black",
          "width": 2
         },
         "marker": {
          "symbol": "circle"
         },
         "mode": "lines+markers",
         "name": "Germany",
         "showlegend": false,
         "type": "scatter",
         "x": [
          2015,
          2016,
          2017,
          2018,
          2019,
          2020,
          2021,
          2022,
          2023,
          2024,
          2025,
          2026,
          2027,
          2028,
          2029,
          2030,
          2031,
          2032,
          2033,
          2034,
          2035,
          2036,
          2037,
          2038,
          2039,
          2040,
          2041,
          2042,
          2043,
          2044,
          2045,
          2046,
          2047,
          2048,
          2049,
          2050
         ],
         "y": [
          49.45951161290322,
          49.420102812903224,
          49.38069401290322,
          49.34128521290322,
          49.30187641290322,
          49.26246761290322,
          49.01549625806451,
          48.7685249032258,
          48.5215535483871,
          48.27458219354838,
          48.29261083870966,
          48.158099667442634,
          48.60292621680344,
          50.97212262562729,
          53.341319034451146,
          66.5005721959523,
          66.8512627169165,
          66.33708662574035,
          65.82291053456422,
          67.45872038036134,
          70.55027802286756,
          71.46993958169948,
          75.32943660186719,
          77.44790973864654,
          79.56638287542592,
          86.37840707572481,
          93.1904312760237,
          95.65166209352107,
          97.76630415732517,
          96.46541017787732,
          97.17676145299826,
          100.22748594628415,
          101.18072424759606,
          103.19122457855201,
          104.38082754431346,
          114.74595923832491
         ]
        },
        {
         "line": {
          "color": "green",
          "width": 2
         },
         "marker": {
          "symbol": "circle"
         },
         "mode": "lines+markers",
         "name": "Italy",
         "showlegend": false,
         "type": "scatter",
         "x": [
          2015,
          2016,
          2017,
          2018,
          2019,
          2020,
          2021,
          2022,
          2023,
          2024,
          2025,
          2026,
          2027,
          2028,
          2029,
          2030,
          2031,
          2032,
          2033,
          2034,
          2035,
          2036,
          2037,
          2038,
          2039,
          2040,
          2041,
          2042,
          2043,
          2044,
          2045,
          2046,
          2047,
          2048,
          2049,
          2050
         ],
         "y": [
          36.16953380645162,
          36.16953380645161,
          36.16953380645161,
          36.16953380645161,
          36.16953380645161,
          36.16953380645161,
          36.15442047569893,
          36.13930714494624,
          36.124193814193546,
          36.109080483440856,
          36.09396715268817,
          36.07885382193548,
          36.0637404911828,
          36.04862716043011,
          38.211481334443164,
          45.59688701193167,
          45.569961181178975,
          45.543035350426294,
          45.516109519673606,
          46.598834926709756,
          48.165660963323326,
          48.1381683920055,
          48.194404807390185,
          48.16315679736994,
          48.1512848310461,
          50.546287220886605,
          51.91311061620029,
          51.84018092005904,
          51.696289112371055,
          51.55082336725535,
          50.892089898057804,
          53.60395985977774,
          54.9109866315465,
          54.83006528115987,
          54.93750067426978,
          55.04493606737968
         ]
        },
        {
         "line": {
          "color": "yellow",
          "width": 2
         },
         "marker": {
          "symbol": "circle"
         },
         "mode": "lines+markers",
         "name": "Belgium",
         "showlegend": false,
         "type": "scatter",
         "x": [
          2015,
          2016,
          2017,
          2018,
          2019,
          2020,
          2021,
          2022,
          2023,
          2024,
          2025,
          2026,
          2027,
          2028,
          2029,
          2030,
          2031,
          2032,
          2033,
          2034,
          2035,
          2036,
          2037,
          2038,
          2039,
          2040,
          2041,
          2042,
          2043,
          2044,
          2045,
          2046,
          2047,
          2048,
          2049,
          2050
         ],
         "y": [
          9.548770322580644,
          9.548770322580644,
          9.548770322580644,
          9.548770322580644,
          9.548770322580644,
          9.548770322580644,
          9.512841651612902,
          9.47691298064516,
          9.440984309677418,
          9.405055638709676,
          9.372662217199636,
          9.336733546231894,
          9.300804875264152,
          9.26487620429641,
          9.31190753332867,
          14.787129026423425,
          14.710437981715764,
          14.633746937008103,
          14.878298384671414,
          14.811055648562899,
          16.541158126316436,
          18.842954990795054,
          20.637184638142575,
          21.875187834825624,
          21.954482913857884,
          23.390923384839542,
          23.998462109768194,
          23.90497764343755,
          23.811493177106907,
          23.831168710776264,
          22.278088307443085,
          20.816765797274815,
          19.015963287106544,
          18.265537083037326,
          18.77905937746064,
          20.209663534744163
         ]
        },
        {
         "line": {
          "color": "orange",
          "width": 2
         },
         "marker": {
          "symbol": "circle"
         },
         "mode": "lines+markers",
         "name": "Spain",
         "showlegend": false,
         "type": "scatter",
         "x": [
          2015,
          2016,
          2017,
          2018,
          2019,
          2020,
          2021,
          2022,
          2023,
          2024,
          2025,
          2026,
          2027,
          2028,
          2029,
          2030,
          2031,
          2032,
          2033,
          2034,
          2035,
          2036,
          2037,
          2038,
          2039,
          2040,
          2041,
          2042,
          2043,
          2044,
          2045,
          2046,
          2047,
          2048,
          2049,
          2050
         ],
         "y": [
          24.288206451612904,
          24.288206451612904,
          24.288206451612904,
          24.288206451612904,
          24.288206451612904,
          24.288206451612904,
          24.23571569892473,
          24.18322494623656,
          24.130734193548385,
          24.078243440860213,
          28.79595268817204,
          28.74346193548387,
          28.6909711827957,
          28.638480430107524,
          28.585989677419352,
          33.543568534106186,
          33.48368768817204,
          33.4238068422379,
          34.09410452874387,
          34.055699521999145,
          35.21948444163796,
          36.72493982069352,
          39.98412830497509,
          41.78419021625055,
          41.88864513835841,
          44.97216138707814,
          45.043325081279434,
          44.92353535162631,
          44.80374562197319,
          44.3407028688153,
          42.68451326293231,
          43.36961824836118,
          42.157331173258946,
          42.13894905806002,
          42.03093567242805,
          41.92880826809986
         ]
        },
        {
         "line": {
          "color": "red",
          "width": 2
         },
         "marker": {
          "symbol": "circle"
         },
         "mode": "lines+markers",
         "name": "Great Britain",
         "showlegend": false,
         "type": "scatter",
         "x": [
          2015,
          2016,
          2017,
          2018,
          2019,
          2020,
          2021,
          2022,
          2023,
          2024,
          2025,
          2026,
          2027,
          2028,
          2029,
          2030,
          2031,
          2032,
          2033,
          2034,
          2035,
          2036,
          2037,
          2038,
          2039,
          2040,
          2041,
          2042,
          2043,
          2044,
          2045,
          2046,
          2047,
          2048,
          2049,
          2050
         ],
         "y": [
          9.336328,
          9.336328,
          9.336328,
          9.336328,
          9.336328,
          9.336328,
          9.2969192,
          9.2575104,
          9.2181016,
          9.1786928,
          9.139284,
          9.0998752,
          9.0604664,
          9.0210576,
          11.257457133333334,
          19.113284117647062,
          18.971224092156863,
          18.816077792156864,
          19.02732400981259,
          19.084121311642363,
          19.48684890077052,
          19.67100126468271,
          21.175856300770516,
          21.383660000770515,
          21.796162472618235,
          24.364600296484205,
          24.544752458177754,
          24.3619546198713,
          24.35714452753606,
          24.50439668922961,
          25.501649404124688,
          28.428901565818236,
          29.58036790259068,
          29.627540064284226,
          29.344662225977775,
          31.340960935127328
         ]
        },
        {
         "line": {
          "color": "blue",
          "width": 2
         },
         "marker": {
          "symbol": "diamond"
         },
         "mode": "lines+markers",
         "name": "France",
         "showlegend": false,
         "type": "scatter",
         "x": [
          2015,
          2016,
          2017,
          2018,
          2019,
          2020,
          2021,
          2022,
          2023,
          2024,
          2025,
          2026,
          2027,
          2028,
          2029,
          2030,
          2031,
          2032,
          2033,
          2034,
          2035,
          2036,
          2037,
          2038,
          2039,
          2040,
          2041,
          2042,
          2043,
          2044,
          2045,
          2046,
          2047,
          2048,
          2049,
          2050
         ],
         "y": [
          19.571297032258066,
          19.492479432258065,
          19.413661832258065,
          19.334844232258064,
          19.256026632258067,
          19.177209032258066,
          19.09507424516129,
          19.012939458064515,
          18.930804670967742,
          18.84866988387097,
          18.766535096774195,
          18.68443032296352,
          22.750291248254445,
          22.668152173545373,
          22.586013098836297,
          23.138953607460557,
          23.262460568308278,
          24.375958727470174,
          25.41677077482088,
          30.657056479725256,
          32.94241898425253,
          37.229208561350816,
          41.6629355597004,
          43.878717207606286,
          45.59311297833496,
          48.74690424459644,
          48.96707925597263,
          49.019432276007244,
          49.032977069555635,
          48.34853174462014,
          45.23009253816852,
          43.748048078188745,
          42.152849349754334,
          46.39570731614186,
          56.73866820984555,
          65.91855263402994
         ]
        },
        {
         "line": {
          "color": "black",
          "width": 2
         },
         "marker": {
          "symbol": "diamond"
         },
         "mode": "lines+markers",
         "name": "Germany",
         "showlegend": false,
         "type": "scatter",
         "x": [
          2015,
          2016,
          2017,
          2018,
          2019,
          2020,
          2021,
          2022,
          2023,
          2024,
          2025,
          2026,
          2027,
          2028,
          2029,
          2030,
          2031,
          2032,
          2033,
          2034,
          2035,
          2036,
          2037,
          2038,
          2039,
          2040,
          2041,
          2042,
          2043,
          2044,
          2045,
          2046,
          2047,
          2048,
          2049,
          2050
         ],
         "y": [
          49.45951161290322,
          49.420102812903224,
          49.38069401290322,
          49.34128521290322,
          49.30187641290322,
          49.26246761290322,
          49.01549625806451,
          48.7685249032258,
          48.5215535483871,
          48.27458219354838,
          48.29261083870968,
          48.158099667442634,
          49.1173773334151,
          51.48657374223895,
          53.85577015106282,
          66.38824781703528,
          67.78689898107231,
          67.27272288989617,
          66.75854679872003,
          67.66520532006113,
          69.91753051063236,
          71.51052308120616,
          76.26951260386629,
          78.38798574064565,
          80.8737950296449,
          87.68581922994377,
          94.49784343024268,
          96.95391608670961,
          98.62156343177097,
          98.2541270628257,
          98.86939827376862,
          102.57204282671306,
          105.5689796548958,
          108.86631998585175,
          111.27068295161321,
          119.64929856719327
         ]
        },
        {
         "line": {
          "color": "green",
          "width": 2
         },
         "marker": {
          "symbol": "diamond"
         },
         "mode": "lines+markers",
         "name": "Italy",
         "showlegend": false,
         "type": "scatter",
         "x": [
          2015,
          2016,
          2017,
          2018,
          2019,
          2020,
          2021,
          2022,
          2023,
          2024,
          2025,
          2026,
          2027,
          2028,
          2029,
          2030,
          2031,
          2032,
          2033,
          2034,
          2035,
          2036,
          2037,
          2038,
          2039,
          2040,
          2041,
          2042,
          2043,
          2044,
          2045,
          2046,
          2047,
          2048,
          2049,
          2050
         ],
         "y": [
          36.16953380645161,
          36.16953380645161,
          36.16953380645161,
          36.16953380645161,
          36.16953380645161,
          36.16953380645161,
          36.15442047569893,
          36.13930714494624,
          36.124193814193546,
          36.109080483440856,
          36.09396715268817,
          36.07885382193548,
          36.0637404911828,
          36.04862716043011,
          38.211481334443164,
          45.59688701193167,
          45.56996118117898,
          45.543035350426294,
          45.516109519673606,
          46.60221048070246,
          48.16913296171582,
          48.141640390397995,
          48.196245758017234,
          48.175489159335044,
          47.50163118560295,
          50.549759219279096,
          51.91254878929992,
          51.839619093158674,
          51.69572728547069,
          51.55026154035498,
          50.783717475534466,
          53.53675615885412,
          54.9109866315465,
          54.830065281159875,
          54.93750067426978,
          55.04493606737968
         ]
        },
        {
         "line": {
          "color": "yellow",
          "width": 2
         },
         "marker": {
          "symbol": "diamond"
         },
         "mode": "lines+markers",
         "name": "Belgium",
         "showlegend": false,
         "type": "scatter",
         "x": [
          2015,
          2016,
          2017,
          2018,
          2019,
          2020,
          2021,
          2022,
          2023,
          2024,
          2025,
          2026,
          2027,
          2028,
          2029,
          2030,
          2031,
          2032,
          2033,
          2034,
          2035,
          2036,
          2037,
          2038,
          2039,
          2040,
          2041,
          2042,
          2043,
          2044,
          2045,
          2046,
          2047,
          2048,
          2049,
          2050
         ],
         "y": [
          9.548770322580644,
          9.548770322580644,
          9.548770322580644,
          9.548770322580644,
          9.548770322580644,
          9.548770322580644,
          9.512841651612902,
          9.47691298064516,
          9.440984309677418,
          9.405055638709676,
          9.372662217199636,
          9.336733546231894,
          9.300804875264152,
          9.26487620429641,
          9.645093998335444,
          15.416893956436983,
          15.380566808140822,
          15.30387576343316,
          15.548226771670208,
          15.480978140284451,
          17.086634722760742,
          20.96405003177745,
          25.434703652958717,
          27.198975738727544,
          28.864117175452733,
          30.428818065192097,
          31.134599088727455,
          31.035792971246394,
          30.936986853765337,
          30.838180736284276,
          30.408965981606762,
          28.350817425074432,
          25.706573794938926,
          26.702841287410358,
          33.43680172290808,
          42.363423218881834
         ]
        },
        {
         "line": {
          "color": "orange",
          "width": 2
         },
         "marker": {
          "symbol": "diamond"
         },
         "mode": "lines+markers",
         "name": "Spain",
         "showlegend": false,
         "type": "scatter",
         "x": [
          2015,
          2016,
          2017,
          2018,
          2019,
          2020,
          2021,
          2022,
          2023,
          2024,
          2025,
          2026,
          2027,
          2028,
          2029,
          2030,
          2031,
          2032,
          2033,
          2034,
          2035,
          2036,
          2037,
          2038,
          2039,
          2040,
          2041,
          2042,
          2043,
          2044,
          2045,
          2046,
          2047,
          2048,
          2049,
          2050
         ],
         "y": [
          24.288206451612904,
          24.288206451612904,
          24.288206451612904,
          24.288206451612904,
          24.288206451612904,
          24.288206451612904,
          24.23571569892473,
          24.18322494623656,
          24.130734193548385,
          24.078243440860213,
          28.79595268817204,
          28.74346193548387,
          28.6909711827957,
          28.638480430107524,
          28.585989677419352,
          33.543568534106186,
          33.48368768817204,
          33.4238068422379,
          34.097499335476826,
          34.05919417598895,
          35.22307894288462,
          36.72853432194018,
          39.24411104343182,
          42.12826812595138,
          42.23272304805924,
          45.31623929677897,
          45.38322683984052,
          45.2634371101874,
          45.143647380534276,
          44.68060462737638,
          42.94812221589536,
          43.487999876341455,
          42.279703645642044,
          42.26132153044313,
          42.153308144811156,
          42.05118074048296
         ]
        },
        {
         "line": {
          "color": "red",
          "width": 2
         },
         "marker": {
          "symbol": "diamond"
         },
         "mode": "lines+markers",
         "name": "Great Britain",
         "showlegend": false,
         "type": "scatter",
         "x": [
          2015,
          2016,
          2017,
          2018,
          2019,
          2020,
          2021,
          2022,
          2023,
          2024,
          2025,
          2026,
          2027,
          2028,
          2029,
          2030,
          2031,
          2032,
          2033,
          2034,
          2035,
          2036,
          2037,
          2038,
          2039,
          2040,
          2041,
          2042,
          2043,
          2044,
          2045,
          2046,
          2047,
          2048,
          2049,
          2050
         ],
         "y": [
          9.336328,
          9.336328,
          9.336328,
          9.336328,
          9.336328,
          9.336328,
          9.2969192,
          9.2575104,
          9.2181016,
          9.1786928,
          9.139284,
          9.0998752,
          9.0604664,
          9.0210576,
          11.28258557411634,
          19.090073548232684,
          19.016925383687003,
          18.861779083687004,
          18.92765616863342,
          19.131135942010633,
          19.170951055105597,
          19.667796537451768,
          21.222908455105596,
          21.430712155105592,
          21.843214626953312,
          24.41008299601725,
          24.590235157710794,
          24.407437319404345,
          24.35692593553896,
          24.50417809723251,
          25.49561866557284,
          28.447954149532,
          29.626069194120817,
          29.673241355814366,
          29.713171833820915,
          31.340960935127328
         ]
        },
        {
         "marker": {
          "color": "grey",
          "symbol": "circle"
         },
         "mode": "markers",
         "name": "Reference",
         "type": "scatter",
         "x": [
          null
         ],
         "y": [
          null
         ]
        },
        {
         "marker": {
          "color": "grey",
          "symbol": "diamond"
         },
         "mode": "markers",
         "name": "Fossil phase-out",
         "type": "scatter",
         "x": [
          null
         ],
         "y": [
          null
         ]
        },
        {
         "marker": {
          "color": "grey",
          "symbol": "square"
         },
         "mode": "markers",
         "name": "High electricity price",
         "type": "scatter",
         "x": [
          null
         ],
         "y": [
          null
         ]
        }
       ],
       "layout": {
        "font": {
         "family": "Times New Roman",
         "size": 24
        },
        "template": {
         "data": {
          "bar": [
           {
            "error_x": {
             "color": "#2a3f5f"
            },
            "error_y": {
             "color": "#2a3f5f"
            },
            "marker": {
             "line": {
              "color": "#E5ECF6",
              "width": 0.5
             },
             "pattern": {
              "fillmode": "overlay",
              "size": 10,
              "solidity": 0.2
             }
            },
            "type": "bar"
           }
          ],
          "barpolar": [
           {
            "marker": {
             "line": {
              "color": "#E5ECF6",
              "width": 0.5
             },
             "pattern": {
              "fillmode": "overlay",
              "size": 10,
              "solidity": 0.2
             }
            },
            "type": "barpolar"
           }
          ],
          "carpet": [
           {
            "aaxis": {
             "endlinecolor": "#2a3f5f",
             "gridcolor": "white",
             "linecolor": "white",
             "minorgridcolor": "white",
             "startlinecolor": "#2a3f5f"
            },
            "baxis": {
             "endlinecolor": "#2a3f5f",
             "gridcolor": "white",
             "linecolor": "white",
             "minorgridcolor": "white",
             "startlinecolor": "#2a3f5f"
            },
            "type": "carpet"
           }
          ],
          "choropleth": [
           {
            "colorbar": {
             "outlinewidth": 0,
             "ticks": ""
            },
            "type": "choropleth"
           }
          ],
          "contour": [
           {
            "colorbar": {
             "outlinewidth": 0,
             "ticks": ""
            },
            "colorscale": [
             [
              0,
              "#0d0887"
             ],
             [
              0.1111111111111111,
              "#46039f"
             ],
             [
              0.2222222222222222,
              "#7201a8"
             ],
             [
              0.3333333333333333,
              "#9c179e"
             ],
             [
              0.4444444444444444,
              "#bd3786"
             ],
             [
              0.5555555555555556,
              "#d8576b"
             ],
             [
              0.6666666666666666,
              "#ed7953"
             ],
             [
              0.7777777777777778,
              "#fb9f3a"
             ],
             [
              0.8888888888888888,
              "#fdca26"
             ],
             [
              1,
              "#f0f921"
             ]
            ],
            "type": "contour"
           }
          ],
          "contourcarpet": [
           {
            "colorbar": {
             "outlinewidth": 0,
             "ticks": ""
            },
            "type": "contourcarpet"
           }
          ],
          "heatmap": [
           {
            "colorbar": {
             "outlinewidth": 0,
             "ticks": ""
            },
            "colorscale": [
             [
              0,
              "#0d0887"
             ],
             [
              0.1111111111111111,
              "#46039f"
             ],
             [
              0.2222222222222222,
              "#7201a8"
             ],
             [
              0.3333333333333333,
              "#9c179e"
             ],
             [
              0.4444444444444444,
              "#bd3786"
             ],
             [
              0.5555555555555556,
              "#d8576b"
             ],
             [
              0.6666666666666666,
              "#ed7953"
             ],
             [
              0.7777777777777778,
              "#fb9f3a"
             ],
             [
              0.8888888888888888,
              "#fdca26"
             ],
             [
              1,
              "#f0f921"
             ]
            ],
            "type": "heatmap"
           }
          ],
          "heatmapgl": [
           {
            "colorbar": {
             "outlinewidth": 0,
             "ticks": ""
            },
            "colorscale": [
             [
              0,
              "#0d0887"
             ],
             [
              0.1111111111111111,
              "#46039f"
             ],
             [
              0.2222222222222222,
              "#7201a8"
             ],
             [
              0.3333333333333333,
              "#9c179e"
             ],
             [
              0.4444444444444444,
              "#bd3786"
             ],
             [
              0.5555555555555556,
              "#d8576b"
             ],
             [
              0.6666666666666666,
              "#ed7953"
             ],
             [
              0.7777777777777778,
              "#fb9f3a"
             ],
             [
              0.8888888888888888,
              "#fdca26"
             ],
             [
              1,
              "#f0f921"
             ]
            ],
            "type": "heatmapgl"
           }
          ],
          "histogram": [
           {
            "marker": {
             "pattern": {
              "fillmode": "overlay",
              "size": 10,
              "solidity": 0.2
             }
            },
            "type": "histogram"
           }
          ],
          "histogram2d": [
           {
            "colorbar": {
             "outlinewidth": 0,
             "ticks": ""
            },
            "colorscale": [
             [
              0,
              "#0d0887"
             ],
             [
              0.1111111111111111,
              "#46039f"
             ],
             [
              0.2222222222222222,
              "#7201a8"
             ],
             [
              0.3333333333333333,
              "#9c179e"
             ],
             [
              0.4444444444444444,
              "#bd3786"
             ],
             [
              0.5555555555555556,
              "#d8576b"
             ],
             [
              0.6666666666666666,
              "#ed7953"
             ],
             [
              0.7777777777777778,
              "#fb9f3a"
             ],
             [
              0.8888888888888888,
              "#fdca26"
             ],
             [
              1,
              "#f0f921"
             ]
            ],
            "type": "histogram2d"
           }
          ],
          "histogram2dcontour": [
           {
            "colorbar": {
             "outlinewidth": 0,
             "ticks": ""
            },
            "colorscale": [
             [
              0,
              "#0d0887"
             ],
             [
              0.1111111111111111,
              "#46039f"
             ],
             [
              0.2222222222222222,
              "#7201a8"
             ],
             [
              0.3333333333333333,
              "#9c179e"
             ],
             [
              0.4444444444444444,
              "#bd3786"
             ],
             [
              0.5555555555555556,
              "#d8576b"
             ],
             [
              0.6666666666666666,
              "#ed7953"
             ],
             [
              0.7777777777777778,
              "#fb9f3a"
             ],
             [
              0.8888888888888888,
              "#fdca26"
             ],
             [
              1,
              "#f0f921"
             ]
            ],
            "type": "histogram2dcontour"
           }
          ],
          "mesh3d": [
           {
            "colorbar": {
             "outlinewidth": 0,
             "ticks": ""
            },
            "type": "mesh3d"
           }
          ],
          "parcoords": [
           {
            "line": {
             "colorbar": {
              "outlinewidth": 0,
              "ticks": ""
             }
            },
            "type": "parcoords"
           }
          ],
          "pie": [
           {
            "automargin": true,
            "type": "pie"
           }
          ],
          "scatter": [
           {
            "marker": {
             "colorbar": {
              "outlinewidth": 0,
              "ticks": ""
             }
            },
            "type": "scatter"
           }
          ],
          "scatter3d": [
           {
            "line": {
             "colorbar": {
              "outlinewidth": 0,
              "ticks": ""
             }
            },
            "marker": {
             "colorbar": {
              "outlinewidth": 0,
              "ticks": ""
             }
            },
            "type": "scatter3d"
           }
          ],
          "scattercarpet": [
           {
            "marker": {
             "colorbar": {
              "outlinewidth": 0,
              "ticks": ""
             }
            },
            "type": "scattercarpet"
           }
          ],
          "scattergeo": [
           {
            "marker": {
             "colorbar": {
              "outlinewidth": 0,
              "ticks": ""
             }
            },
            "type": "scattergeo"
           }
          ],
          "scattergl": [
           {
            "marker": {
             "colorbar": {
              "outlinewidth": 0,
              "ticks": ""
             }
            },
            "type": "scattergl"
           }
          ],
          "scattermapbox": [
           {
            "marker": {
             "colorbar": {
              "outlinewidth": 0,
              "ticks": ""
             }
            },
            "type": "scattermapbox"
           }
          ],
          "scatterpolar": [
           {
            "marker": {
             "colorbar": {
              "outlinewidth": 0,
              "ticks": ""
             }
            },
            "type": "scatterpolar"
           }
          ],
          "scatterpolargl": [
           {
            "marker": {
             "colorbar": {
              "outlinewidth": 0,
              "ticks": ""
             }
            },
            "type": "scatterpolargl"
           }
          ],
          "scatterternary": [
           {
            "marker": {
             "colorbar": {
              "outlinewidth": 0,
              "ticks": ""
             }
            },
            "type": "scatterternary"
           }
          ],
          "surface": [
           {
            "colorbar": {
             "outlinewidth": 0,
             "ticks": ""
            },
            "colorscale": [
             [
              0,
              "#0d0887"
             ],
             [
              0.1111111111111111,
              "#46039f"
             ],
             [
              0.2222222222222222,
              "#7201a8"
             ],
             [
              0.3333333333333333,
              "#9c179e"
             ],
             [
              0.4444444444444444,
              "#bd3786"
             ],
             [
              0.5555555555555556,
              "#d8576b"
             ],
             [
              0.6666666666666666,
              "#ed7953"
             ],
             [
              0.7777777777777778,
              "#fb9f3a"
             ],
             [
              0.8888888888888888,
              "#fdca26"
             ],
             [
              1,
              "#f0f921"
             ]
            ],
            "type": "surface"
           }
          ],
          "table": [
           {
            "cells": {
             "fill": {
              "color": "#EBF0F8"
             },
             "line": {
              "color": "white"
             }
            },
            "header": {
             "fill": {
              "color": "#C8D4E3"
             },
             "line": {
              "color": "white"
             }
            },
            "type": "table"
           }
          ]
         },
         "layout": {
          "annotationdefaults": {
           "arrowcolor": "#2a3f5f",
           "arrowhead": 0,
           "arrowwidth": 1
          },
          "autotypenumbers": "strict",
          "coloraxis": {
           "colorbar": {
            "outlinewidth": 0,
            "ticks": ""
           }
          },
          "colorscale": {
           "diverging": [
            [
             0,
             "#8e0152"
            ],
            [
             0.1,
             "#c51b7d"
            ],
            [
             0.2,
             "#de77ae"
            ],
            [
             0.3,
             "#f1b6da"
            ],
            [
             0.4,
             "#fde0ef"
            ],
            [
             0.5,
             "#f7f7f7"
            ],
            [
             0.6,
             "#e6f5d0"
            ],
            [
             0.7,
             "#b8e186"
            ],
            [
             0.8,
             "#7fbc41"
            ],
            [
             0.9,
             "#4d9221"
            ],
            [
             1,
             "#276419"
            ]
           ],
           "sequential": [
            [
             0,
             "#0d0887"
            ],
            [
             0.1111111111111111,
             "#46039f"
            ],
            [
             0.2222222222222222,
             "#7201a8"
            ],
            [
             0.3333333333333333,
             "#9c179e"
            ],
            [
             0.4444444444444444,
             "#bd3786"
            ],
            [
             0.5555555555555556,
             "#d8576b"
            ],
            [
             0.6666666666666666,
             "#ed7953"
            ],
            [
             0.7777777777777778,
             "#fb9f3a"
            ],
            [
             0.8888888888888888,
             "#fdca26"
            ],
            [
             1,
             "#f0f921"
            ]
           ],
           "sequentialminus": [
            [
             0,
             "#0d0887"
            ],
            [
             0.1111111111111111,
             "#46039f"
            ],
            [
             0.2222222222222222,
             "#7201a8"
            ],
            [
             0.3333333333333333,
             "#9c179e"
            ],
            [
             0.4444444444444444,
             "#bd3786"
            ],
            [
             0.5555555555555556,
             "#d8576b"
            ],
            [
             0.6666666666666666,
             "#ed7953"
            ],
            [
             0.7777777777777778,
             "#fb9f3a"
            ],
            [
             0.8888888888888888,
             "#fdca26"
            ],
            [
             1,
             "#f0f921"
            ]
           ]
          },
          "colorway": [
           "#636efa",
           "#EF553B",
           "#00cc96",
           "#ab63fa",
           "#FFA15A",
           "#19d3f3",
           "#FF6692",
           "#B6E880",
           "#FF97FF",
           "#FECB52"
          ],
          "font": {
           "color": "#2a3f5f"
          },
          "geo": {
           "bgcolor": "white",
           "lakecolor": "white",
           "landcolor": "#E5ECF6",
           "showlakes": true,
           "showland": true,
           "subunitcolor": "white"
          },
          "hoverlabel": {
           "align": "left"
          },
          "hovermode": "closest",
          "mapbox": {
           "style": "light"
          },
          "paper_bgcolor": "white",
          "plot_bgcolor": "#E5ECF6",
          "polar": {
           "angularaxis": {
            "gridcolor": "white",
            "linecolor": "white",
            "ticks": ""
           },
           "bgcolor": "#E5ECF6",
           "radialaxis": {
            "gridcolor": "white",
            "linecolor": "white",
            "ticks": ""
           }
          },
          "scene": {
           "xaxis": {
            "backgroundcolor": "#E5ECF6",
            "gridcolor": "white",
            "gridwidth": 2,
            "linecolor": "white",
            "showbackground": true,
            "ticks": "",
            "zerolinecolor": "white"
           },
           "yaxis": {
            "backgroundcolor": "#E5ECF6",
            "gridcolor": "white",
            "gridwidth": 2,
            "linecolor": "white",
            "showbackground": true,
            "ticks": "",
            "zerolinecolor": "white"
           },
           "zaxis": {
            "backgroundcolor": "#E5ECF6",
            "gridcolor": "white",
            "gridwidth": 2,
            "linecolor": "white",
            "showbackground": true,
            "ticks": "",
            "zerolinecolor": "white"
           }
          },
          "shapedefaults": {
           "line": {
            "color": "#2a3f5f"
           }
          },
          "ternary": {
           "aaxis": {
            "gridcolor": "white",
            "linecolor": "white",
            "ticks": ""
           },
           "baxis": {
            "gridcolor": "white",
            "linecolor": "white",
            "ticks": ""
           },
           "bgcolor": "#E5ECF6",
           "caxis": {
            "gridcolor": "white",
            "linecolor": "white",
            "ticks": ""
           }
          },
          "title": {
           "x": 0.05
          },
          "xaxis": {
           "automargin": true,
           "gridcolor": "white",
           "linecolor": "white",
           "ticks": "",
           "title": {
            "standoff": 15
           },
           "zerolinecolor": "white",
           "zerolinewidth": 2
          },
          "yaxis": {
           "automargin": true,
           "gridcolor": "white",
           "linecolor": "white",
           "ticks": "",
           "title": {
            "standoff": 15
           },
           "zerolinecolor": "white",
           "zerolinewidth": 2
          }
         }
        },
        "xaxis": {
         "title": {
          "text": "Year"
         }
        },
        "yaxis": {
         "title": {
          "text": "Electricity consumption (TWh)"
         }
        }
       }
      },
      "text/html": [
       "<div>                            <div id=\"904da4d9-a227-4fc8-b5d2-1f1375456750\" class=\"plotly-graph-div\" style=\"height:525px; width:100%;\"></div>            <script type=\"text/javascript\">                require([\"plotly\"], function(Plotly) {                    window.PLOTLYENV=window.PLOTLYENV || {};                                    if (document.getElementById(\"904da4d9-a227-4fc8-b5d2-1f1375456750\")) {                    Plotly.newPlot(                        \"904da4d9-a227-4fc8-b5d2-1f1375456750\",                        [{\"line\":{\"color\":\"blue\",\"width\":2},\"marker\":{\"symbol\":\"square\"},\"mode\":\"lines+markers\",\"name\":\"France\",\"showlegend\":true,\"type\":\"scatter\",\"x\":[2015,2016,2017,2018,2019,2020,2021,2022,2023,2024,2025,2026,2027,2028,2029,2030,2031,2032,2033,2034,2035,2036,2037,2038,2039,2040,2041,2042,2043,2044,2045,2046,2047,2048,2049,2050],\"y\":[19.571297032258066,19.492479432258065,19.413661832258065,19.334844232258064,19.256026632258067,19.177209032258066,19.09507424516129,19.012939458064515,18.930804670967742,18.84866988387097,18.766535096774195,18.68443032296352,22.750291248254445,22.668152173545373,22.586013098836297,23.27359988910806,23.767414949418146,23.876842426110944,23.952223351401866,25.0550157593178,27.49969057782122,28.841996373774574,30.67412337212416,32.48004111167534,34.191426324578565,37.359191714614134,36.47242100087536,34.89635207710133,33.2986631533273,31.669349009713642,30.098174107795135,29.81562516911073,29.950234505241287,29.93282576272349,29.92503509903529,33.844219210943464]},{\"line\":{\"color\":\"black\",\"width\":2},\"marker\":{\"symbol\":\"square\"},\"mode\":\"lines+markers\",\"name\":\"Germany\",\"showlegend\":true,\"type\":\"scatter\",\"x\":[2015,2016,2017,2018,2019,2020,2021,2022,2023,2024,2025,2026,2027,2028,2029,2030,2031,2032,2033,2034,2035,2036,2037,2038,2039,2040,2041,2042,2043,2044,2045,2046,2047,2048,2049,2050],\"y\":[49.45951161290322,49.420102812903224,49.38069401290322,49.34128521290322,49.30187641290322,49.26246761290322,49.01549625806451,48.7685249032258,48.5215535483871,48.27458219354838,48.29261083870968,48.158099667442634,47.93479607626649,47.711492485090346,47.48818889391421,50.635383407214206,50.12120731603806,53.99845508117008,54.386468989993936,54.77448289881779,58.77507522595377,59.293004237633184,61.09255825146396,63.21103138824333,66.81614230280047,73.62816650309937,78.83619070339826,80.58800478906383,82.24234354011355,81.38699530734341,81.15865018412056,81.47824434801959,78.47201564167418,75.80135873815458,72.77310144247812,72.62242342247114]},{\"line\":{\"color\":\"green\",\"width\":2},\"marker\":{\"symbol\":\"square\"},\"mode\":\"lines+markers\",\"name\":\"Italy\",\"showlegend\":true,\"type\":\"scatter\",\"x\":[2015,2016,2017,2018,2019,2020,2021,2022,2023,2024,2025,2026,2027,2028,2029,2030,2031,2032,2033,2034,2035,2036,2037,2038,2039,2040,2041,2042,2043,2044,2045,2046,2047,2048,2049,2050],\"y\":[36.16953380645162,36.16953380645161,36.16953380645161,36.16953380645161,36.16953380645161,36.16953380645161,36.15442047569893,36.13930714494624,36.124193814193546,36.109080483440856,36.09396715268817,36.07885382193548,36.0637404911828,36.04862716043011,36.03351382967742,36.202714224414926,36.17578839366224,36.86694883741936,36.84002300666667,36.813097175913974,38.21038028274882,38.18288771143099,38.2170036777895,38.05319685223634,38.029972813474245,41.069240483577794,42.43606387889148,42.36171459031622,42.27767727989276,42.197303458094254,42.10698442526181,42.140729940549996,42.05994846254735,41.97902711216072,41.89810576177409,43.666204019230605]},{\"line\":{\"color\":\"yellow\",\"width\":2},\"marker\":{\"symbol\":\"square\"},\"mode\":\"lines+markers\",\"name\":\"Belgium\",\"showlegend\":true,\"type\":\"scatter\",\"x\":[2015,2016,2017,2018,2019,2020,2021,2022,2023,2024,2025,2026,2027,2028,2029,2030,2031,2032,2033,2034,2035,2036,2037,2038,2039,2040,2041,2042,2043,2044,2045,2046,2047,2048,2049,2050],\"y\":[9.548770322580644,9.548770322580644,9.548770322580644,9.548770322580644,9.548770322580644,9.548770322580644,9.512841651612902,9.47691298064516,9.440984309677418,9.405055638709676,9.372662217199636,9.336733546231894,9.300804875264152,9.26487620429641,9.228947533328668,14.354258862360926,14.401553941393184,14.448849020425442,14.4961440994577,14.543439178489958,17.40071576449688,18.424154990795053,20.208783199036116,20.276798278068373,20.344813357100634,20.97551276882941,18.15946469674025,17.12666539318532,16.810874588122914,16.518375302321818,15.464587986279854,15.370347582946673,15.244863116616028,15.098285411039338,16.912408097619508,18.739811862746173]},{\"line\":{\"color\":\"orange\",\"width\":2},\"marker\":{\"symbol\":\"square\"},\"mode\":\"lines+markers\",\"name\":\"Spain\",\"showlegend\":true,\"type\":\"scatter\",\"x\":[2015,2016,2017,2018,2019,2020,2021,2022,2023,2024,2025,2026,2027,2028,2029,2030,2031,2032,2033,2034,2035,2036,2037,2038,2039,2040,2041,2042,2043,2044,2045,2046,2047,2048,2049,2050],\"y\":[24.288206451612904,24.288206451612904,24.288206451612904,24.288206451612904,24.288206451612904,24.288206451612904,24.23571569892473,24.18322494623656,24.130734193548385,24.078243440860213,28.79595268817204,28.74346193548387,28.6909711827957,28.638480430107524,28.585989677419352,28.57109892473118,28.92377067204301,28.862842419354838,28.801914166666666,28.741692963870037,30.778970216375967,30.929956895243624,31.161759497830072,31.288706849325802,31.38951022035192,34.55396514245978,34.774048630811954,34.26082639696008,34.14103666730695,34.101124402218815,32.385445952955415,32.3466184586131,32.23784419531869,32.206008174802584,32.12383665961441,32.39782690594615]},{\"line\":{\"color\":\"red\",\"width\":2},\"marker\":{\"symbol\":\"square\"},\"mode\":\"lines+markers\",\"name\":\"Great Britain\",\"showlegend\":true,\"type\":\"scatter\",\"x\":[2015,2016,2017,2018,2019,2020,2021,2022,2023,2024,2025,2026,2027,2028,2029,2030,2031,2032,2033,2034,2035,2036,2037,2038,2039,2040,2041,2042,2043,2044,2045,2046,2047,2048,2049,2050],\"y\":[9.336328,9.336328,9.336328,9.336328,9.336328,9.336328,9.2969192,9.2575104,9.2181016,9.1786928,9.139284,9.0998752,9.0604664,9.0210576,8.9816488,10.169215358866463,10.796082437004646,11.003886137004647,11.211689837004647,11.419493537004646,12.400557245618302,12.4299609456183,12.6377646456183,12.8455683456183,13.416322045618301,15.984759869484272,16.16491203117782,15.982114192871368,16.119971986062595,16.273833054018816,16.421021215712365,16.619786815490805,16.767038977184352,16.914291138877903,17.40098766907377,19.397286378223328]},{\"line\":{\"color\":\"blue\",\"width\":2},\"marker\":{\"symbol\":\"circle\"},\"mode\":\"lines+markers\",\"name\":\"France\",\"showlegend\":false,\"type\":\"scatter\",\"x\":[2015,2016,2017,2018,2019,2020,2021,2022,2023,2024,2025,2026,2027,2028,2029,2030,2031,2032,2033,2034,2035,2036,2037,2038,2039,2040,2041,2042,2043,2044,2045,2046,2047,2048,2049,2050],\"y\":[19.571297032258066,19.492479432258065,19.413661832258065,19.334844232258064,19.256026632258067,19.177209032258066,19.09507424516129,19.012939458064515,18.930804670967742,18.84866988387097,18.766535096774195,18.68443032296352,22.750291248254445,22.668152173545373,22.586013098836297,23.458222409146387,23.327320568308277,24.44081872747017,25.47738363874579,30.240524427883255,32.525762016643604,36.593115765331106,41.02684276368069,42.85896976203028,44.57336553275895,47.72715679902043,47.95255646191757,47.983821044273185,47.99736583782157,47.98049861889037,44.97448599698137,43.37928726854696,41.78408854011255,40.18888981167814,41.106640307796546,45.38806281996347]},{\"line\":{\"color\":\"black\",\"width\":2},\"marker\":{\"symbol\":\"circle\"},\"mode\":\"lines+markers\",\"name\":\"Germany\",\"showlegend\":false,\"type\":\"scatter\",\"x\":[2015,2016,2017,2018,2019,2020,2021,2022,2023,2024,2025,2026,2027,2028,2029,2030,2031,2032,2033,2034,2035,2036,2037,2038,2039,2040,2041,2042,2043,2044,2045,2046,2047,2048,2049,2050],\"y\":[49.45951161290322,49.420102812903224,49.38069401290322,49.34128521290322,49.30187641290322,49.26246761290322,49.01549625806451,48.7685249032258,48.5215535483871,48.27458219354838,48.29261083870966,48.158099667442634,48.60292621680344,50.97212262562729,53.341319034451146,66.5005721959523,66.8512627169165,66.33708662574035,65.82291053456422,67.45872038036134,70.55027802286756,71.46993958169948,75.32943660186719,77.44790973864654,79.56638287542592,86.37840707572481,93.1904312760237,95.65166209352107,97.76630415732517,96.46541017787732,97.17676145299826,100.22748594628415,101.18072424759606,103.19122457855201,104.38082754431346,114.74595923832491]},{\"line\":{\"color\":\"green\",\"width\":2},\"marker\":{\"symbol\":\"circle\"},\"mode\":\"lines+markers\",\"name\":\"Italy\",\"showlegend\":false,\"type\":\"scatter\",\"x\":[2015,2016,2017,2018,2019,2020,2021,2022,2023,2024,2025,2026,2027,2028,2029,2030,2031,2032,2033,2034,2035,2036,2037,2038,2039,2040,2041,2042,2043,2044,2045,2046,2047,2048,2049,2050],\"y\":[36.16953380645162,36.16953380645161,36.16953380645161,36.16953380645161,36.16953380645161,36.16953380645161,36.15442047569893,36.13930714494624,36.124193814193546,36.109080483440856,36.09396715268817,36.07885382193548,36.0637404911828,36.04862716043011,38.211481334443164,45.59688701193167,45.569961181178975,45.543035350426294,45.516109519673606,46.598834926709756,48.165660963323326,48.1381683920055,48.194404807390185,48.16315679736994,48.1512848310461,50.546287220886605,51.91311061620029,51.84018092005904,51.696289112371055,51.55082336725535,50.892089898057804,53.60395985977774,54.9109866315465,54.83006528115987,54.93750067426978,55.04493606737968]},{\"line\":{\"color\":\"yellow\",\"width\":2},\"marker\":{\"symbol\":\"circle\"},\"mode\":\"lines+markers\",\"name\":\"Belgium\",\"showlegend\":false,\"type\":\"scatter\",\"x\":[2015,2016,2017,2018,2019,2020,2021,2022,2023,2024,2025,2026,2027,2028,2029,2030,2031,2032,2033,2034,2035,2036,2037,2038,2039,2040,2041,2042,2043,2044,2045,2046,2047,2048,2049,2050],\"y\":[9.548770322580644,9.548770322580644,9.548770322580644,9.548770322580644,9.548770322580644,9.548770322580644,9.512841651612902,9.47691298064516,9.440984309677418,9.405055638709676,9.372662217199636,9.336733546231894,9.300804875264152,9.26487620429641,9.31190753332867,14.787129026423425,14.710437981715764,14.633746937008103,14.878298384671414,14.811055648562899,16.541158126316436,18.842954990795054,20.637184638142575,21.875187834825624,21.954482913857884,23.390923384839542,23.998462109768194,23.90497764343755,23.811493177106907,23.831168710776264,22.278088307443085,20.816765797274815,19.015963287106544,18.265537083037326,18.77905937746064,20.209663534744163]},{\"line\":{\"color\":\"orange\",\"width\":2},\"marker\":{\"symbol\":\"circle\"},\"mode\":\"lines+markers\",\"name\":\"Spain\",\"showlegend\":false,\"type\":\"scatter\",\"x\":[2015,2016,2017,2018,2019,2020,2021,2022,2023,2024,2025,2026,2027,2028,2029,2030,2031,2032,2033,2034,2035,2036,2037,2038,2039,2040,2041,2042,2043,2044,2045,2046,2047,2048,2049,2050],\"y\":[24.288206451612904,24.288206451612904,24.288206451612904,24.288206451612904,24.288206451612904,24.288206451612904,24.23571569892473,24.18322494623656,24.130734193548385,24.078243440860213,28.79595268817204,28.74346193548387,28.6909711827957,28.638480430107524,28.585989677419352,33.543568534106186,33.48368768817204,33.4238068422379,34.09410452874387,34.055699521999145,35.21948444163796,36.72493982069352,39.98412830497509,41.78419021625055,41.88864513835841,44.97216138707814,45.043325081279434,44.92353535162631,44.80374562197319,44.3407028688153,42.68451326293231,43.36961824836118,42.157331173258946,42.13894905806002,42.03093567242805,41.92880826809986]},{\"line\":{\"color\":\"red\",\"width\":2},\"marker\":{\"symbol\":\"circle\"},\"mode\":\"lines+markers\",\"name\":\"Great Britain\",\"showlegend\":false,\"type\":\"scatter\",\"x\":[2015,2016,2017,2018,2019,2020,2021,2022,2023,2024,2025,2026,2027,2028,2029,2030,2031,2032,2033,2034,2035,2036,2037,2038,2039,2040,2041,2042,2043,2044,2045,2046,2047,2048,2049,2050],\"y\":[9.336328,9.336328,9.336328,9.336328,9.336328,9.336328,9.2969192,9.2575104,9.2181016,9.1786928,9.139284,9.0998752,9.0604664,9.0210576,11.257457133333334,19.113284117647062,18.971224092156863,18.816077792156864,19.02732400981259,19.084121311642363,19.48684890077052,19.67100126468271,21.175856300770516,21.383660000770515,21.796162472618235,24.364600296484205,24.544752458177754,24.3619546198713,24.35714452753606,24.50439668922961,25.501649404124688,28.428901565818236,29.58036790259068,29.627540064284226,29.344662225977775,31.340960935127328]},{\"line\":{\"color\":\"blue\",\"width\":2},\"marker\":{\"symbol\":\"diamond\"},\"mode\":\"lines+markers\",\"name\":\"France\",\"showlegend\":false,\"type\":\"scatter\",\"x\":[2015,2016,2017,2018,2019,2020,2021,2022,2023,2024,2025,2026,2027,2028,2029,2030,2031,2032,2033,2034,2035,2036,2037,2038,2039,2040,2041,2042,2043,2044,2045,2046,2047,2048,2049,2050],\"y\":[19.571297032258066,19.492479432258065,19.413661832258065,19.334844232258064,19.256026632258067,19.177209032258066,19.09507424516129,19.012939458064515,18.930804670967742,18.84866988387097,18.766535096774195,18.68443032296352,22.750291248254445,22.668152173545373,22.586013098836297,23.138953607460557,23.262460568308278,24.375958727470174,25.41677077482088,30.657056479725256,32.94241898425253,37.229208561350816,41.6629355597004,43.878717207606286,45.59311297833496,48.74690424459644,48.96707925597263,49.019432276007244,49.032977069555635,48.34853174462014,45.23009253816852,43.748048078188745,42.152849349754334,46.39570731614186,56.73866820984555,65.91855263402994]},{\"line\":{\"color\":\"black\",\"width\":2},\"marker\":{\"symbol\":\"diamond\"},\"mode\":\"lines+markers\",\"name\":\"Germany\",\"showlegend\":false,\"type\":\"scatter\",\"x\":[2015,2016,2017,2018,2019,2020,2021,2022,2023,2024,2025,2026,2027,2028,2029,2030,2031,2032,2033,2034,2035,2036,2037,2038,2039,2040,2041,2042,2043,2044,2045,2046,2047,2048,2049,2050],\"y\":[49.45951161290322,49.420102812903224,49.38069401290322,49.34128521290322,49.30187641290322,49.26246761290322,49.01549625806451,48.7685249032258,48.5215535483871,48.27458219354838,48.29261083870968,48.158099667442634,49.1173773334151,51.48657374223895,53.85577015106282,66.38824781703528,67.78689898107231,67.27272288989617,66.75854679872003,67.66520532006113,69.91753051063236,71.51052308120616,76.26951260386629,78.38798574064565,80.8737950296449,87.68581922994377,94.49784343024268,96.95391608670961,98.62156343177097,98.2541270628257,98.86939827376862,102.57204282671306,105.5689796548958,108.86631998585175,111.27068295161321,119.64929856719327]},{\"line\":{\"color\":\"green\",\"width\":2},\"marker\":{\"symbol\":\"diamond\"},\"mode\":\"lines+markers\",\"name\":\"Italy\",\"showlegend\":false,\"type\":\"scatter\",\"x\":[2015,2016,2017,2018,2019,2020,2021,2022,2023,2024,2025,2026,2027,2028,2029,2030,2031,2032,2033,2034,2035,2036,2037,2038,2039,2040,2041,2042,2043,2044,2045,2046,2047,2048,2049,2050],\"y\":[36.16953380645161,36.16953380645161,36.16953380645161,36.16953380645161,36.16953380645161,36.16953380645161,36.15442047569893,36.13930714494624,36.124193814193546,36.109080483440856,36.09396715268817,36.07885382193548,36.0637404911828,36.04862716043011,38.211481334443164,45.59688701193167,45.56996118117898,45.543035350426294,45.516109519673606,46.60221048070246,48.16913296171582,48.141640390397995,48.196245758017234,48.175489159335044,47.50163118560295,50.549759219279096,51.91254878929992,51.839619093158674,51.69572728547069,51.55026154035498,50.783717475534466,53.53675615885412,54.9109866315465,54.830065281159875,54.93750067426978,55.04493606737968]},{\"line\":{\"color\":\"yellow\",\"width\":2},\"marker\":{\"symbol\":\"diamond\"},\"mode\":\"lines+markers\",\"name\":\"Belgium\",\"showlegend\":false,\"type\":\"scatter\",\"x\":[2015,2016,2017,2018,2019,2020,2021,2022,2023,2024,2025,2026,2027,2028,2029,2030,2031,2032,2033,2034,2035,2036,2037,2038,2039,2040,2041,2042,2043,2044,2045,2046,2047,2048,2049,2050],\"y\":[9.548770322580644,9.548770322580644,9.548770322580644,9.548770322580644,9.548770322580644,9.548770322580644,9.512841651612902,9.47691298064516,9.440984309677418,9.405055638709676,9.372662217199636,9.336733546231894,9.300804875264152,9.26487620429641,9.645093998335444,15.416893956436983,15.380566808140822,15.30387576343316,15.548226771670208,15.480978140284451,17.086634722760742,20.96405003177745,25.434703652958717,27.198975738727544,28.864117175452733,30.428818065192097,31.134599088727455,31.035792971246394,30.936986853765337,30.838180736284276,30.408965981606762,28.350817425074432,25.706573794938926,26.702841287410358,33.43680172290808,42.363423218881834]},{\"line\":{\"color\":\"orange\",\"width\":2},\"marker\":{\"symbol\":\"diamond\"},\"mode\":\"lines+markers\",\"name\":\"Spain\",\"showlegend\":false,\"type\":\"scatter\",\"x\":[2015,2016,2017,2018,2019,2020,2021,2022,2023,2024,2025,2026,2027,2028,2029,2030,2031,2032,2033,2034,2035,2036,2037,2038,2039,2040,2041,2042,2043,2044,2045,2046,2047,2048,2049,2050],\"y\":[24.288206451612904,24.288206451612904,24.288206451612904,24.288206451612904,24.288206451612904,24.288206451612904,24.23571569892473,24.18322494623656,24.130734193548385,24.078243440860213,28.79595268817204,28.74346193548387,28.6909711827957,28.638480430107524,28.585989677419352,33.543568534106186,33.48368768817204,33.4238068422379,34.097499335476826,34.05919417598895,35.22307894288462,36.72853432194018,39.24411104343182,42.12826812595138,42.23272304805924,45.31623929677897,45.38322683984052,45.2634371101874,45.143647380534276,44.68060462737638,42.94812221589536,43.487999876341455,42.279703645642044,42.26132153044313,42.153308144811156,42.05118074048296]},{\"line\":{\"color\":\"red\",\"width\":2},\"marker\":{\"symbol\":\"diamond\"},\"mode\":\"lines+markers\",\"name\":\"Great Britain\",\"showlegend\":false,\"type\":\"scatter\",\"x\":[2015,2016,2017,2018,2019,2020,2021,2022,2023,2024,2025,2026,2027,2028,2029,2030,2031,2032,2033,2034,2035,2036,2037,2038,2039,2040,2041,2042,2043,2044,2045,2046,2047,2048,2049,2050],\"y\":[9.336328,9.336328,9.336328,9.336328,9.336328,9.336328,9.2969192,9.2575104,9.2181016,9.1786928,9.139284,9.0998752,9.0604664,9.0210576,11.28258557411634,19.090073548232684,19.016925383687003,18.861779083687004,18.92765616863342,19.131135942010633,19.170951055105597,19.667796537451768,21.222908455105596,21.430712155105592,21.843214626953312,24.41008299601725,24.590235157710794,24.407437319404345,24.35692593553896,24.50417809723251,25.49561866557284,28.447954149532,29.626069194120817,29.673241355814366,29.713171833820915,31.340960935127328]},{\"marker\":{\"color\":\"grey\",\"symbol\":\"circle\"},\"mode\":\"markers\",\"name\":\"Reference\",\"type\":\"scatter\",\"x\":[null],\"y\":[null]},{\"marker\":{\"color\":\"grey\",\"symbol\":\"diamond\"},\"mode\":\"markers\",\"name\":\"Fossil phase-out\",\"type\":\"scatter\",\"x\":[null],\"y\":[null]},{\"marker\":{\"color\":\"grey\",\"symbol\":\"square\"},\"mode\":\"markers\",\"name\":\"High electricity price\",\"type\":\"scatter\",\"x\":[null],\"y\":[null]}],                        {\"font\":{\"family\":\"Times New Roman\",\"size\":24},\"template\":{\"data\":{\"bar\":[{\"error_x\":{\"color\":\"#2a3f5f\"},\"error_y\":{\"color\":\"#2a3f5f\"},\"marker\":{\"line\":{\"color\":\"#E5ECF6\",\"width\":0.5},\"pattern\":{\"fillmode\":\"overlay\",\"size\":10,\"solidity\":0.2}},\"type\":\"bar\"}],\"barpolar\":[{\"marker\":{\"line\":{\"color\":\"#E5ECF6\",\"width\":0.5},\"pattern\":{\"fillmode\":\"overlay\",\"size\":10,\"solidity\":0.2}},\"type\":\"barpolar\"}],\"carpet\":[{\"aaxis\":{\"endlinecolor\":\"#2a3f5f\",\"gridcolor\":\"white\",\"linecolor\":\"white\",\"minorgridcolor\":\"white\",\"startlinecolor\":\"#2a3f5f\"},\"baxis\":{\"endlinecolor\":\"#2a3f5f\",\"gridcolor\":\"white\",\"linecolor\":\"white\",\"minorgridcolor\":\"white\",\"startlinecolor\":\"#2a3f5f\"},\"type\":\"carpet\"}],\"choropleth\":[{\"colorbar\":{\"outlinewidth\":0,\"ticks\":\"\"},\"type\":\"choropleth\"}],\"contour\":[{\"colorbar\":{\"outlinewidth\":0,\"ticks\":\"\"},\"colorscale\":[[0.0,\"#0d0887\"],[0.1111111111111111,\"#46039f\"],[0.2222222222222222,\"#7201a8\"],[0.3333333333333333,\"#9c179e\"],[0.4444444444444444,\"#bd3786\"],[0.5555555555555556,\"#d8576b\"],[0.6666666666666666,\"#ed7953\"],[0.7777777777777778,\"#fb9f3a\"],[0.8888888888888888,\"#fdca26\"],[1.0,\"#f0f921\"]],\"type\":\"contour\"}],\"contourcarpet\":[{\"colorbar\":{\"outlinewidth\":0,\"ticks\":\"\"},\"type\":\"contourcarpet\"}],\"heatmap\":[{\"colorbar\":{\"outlinewidth\":0,\"ticks\":\"\"},\"colorscale\":[[0.0,\"#0d0887\"],[0.1111111111111111,\"#46039f\"],[0.2222222222222222,\"#7201a8\"],[0.3333333333333333,\"#9c179e\"],[0.4444444444444444,\"#bd3786\"],[0.5555555555555556,\"#d8576b\"],[0.6666666666666666,\"#ed7953\"],[0.7777777777777778,\"#fb9f3a\"],[0.8888888888888888,\"#fdca26\"],[1.0,\"#f0f921\"]],\"type\":\"heatmap\"}],\"heatmapgl\":[{\"colorbar\":{\"outlinewidth\":0,\"ticks\":\"\"},\"colorscale\":[[0.0,\"#0d0887\"],[0.1111111111111111,\"#46039f\"],[0.2222222222222222,\"#7201a8\"],[0.3333333333333333,\"#9c179e\"],[0.4444444444444444,\"#bd3786\"],[0.5555555555555556,\"#d8576b\"],[0.6666666666666666,\"#ed7953\"],[0.7777777777777778,\"#fb9f3a\"],[0.8888888888888888,\"#fdca26\"],[1.0,\"#f0f921\"]],\"type\":\"heatmapgl\"}],\"histogram\":[{\"marker\":{\"pattern\":{\"fillmode\":\"overlay\",\"size\":10,\"solidity\":0.2}},\"type\":\"histogram\"}],\"histogram2d\":[{\"colorbar\":{\"outlinewidth\":0,\"ticks\":\"\"},\"colorscale\":[[0.0,\"#0d0887\"],[0.1111111111111111,\"#46039f\"],[0.2222222222222222,\"#7201a8\"],[0.3333333333333333,\"#9c179e\"],[0.4444444444444444,\"#bd3786\"],[0.5555555555555556,\"#d8576b\"],[0.6666666666666666,\"#ed7953\"],[0.7777777777777778,\"#fb9f3a\"],[0.8888888888888888,\"#fdca26\"],[1.0,\"#f0f921\"]],\"type\":\"histogram2d\"}],\"histogram2dcontour\":[{\"colorbar\":{\"outlinewidth\":0,\"ticks\":\"\"},\"colorscale\":[[0.0,\"#0d0887\"],[0.1111111111111111,\"#46039f\"],[0.2222222222222222,\"#7201a8\"],[0.3333333333333333,\"#9c179e\"],[0.4444444444444444,\"#bd3786\"],[0.5555555555555556,\"#d8576b\"],[0.6666666666666666,\"#ed7953\"],[0.7777777777777778,\"#fb9f3a\"],[0.8888888888888888,\"#fdca26\"],[1.0,\"#f0f921\"]],\"type\":\"histogram2dcontour\"}],\"mesh3d\":[{\"colorbar\":{\"outlinewidth\":0,\"ticks\":\"\"},\"type\":\"mesh3d\"}],\"parcoords\":[{\"line\":{\"colorbar\":{\"outlinewidth\":0,\"ticks\":\"\"}},\"type\":\"parcoords\"}],\"pie\":[{\"automargin\":true,\"type\":\"pie\"}],\"scatter\":[{\"marker\":{\"colorbar\":{\"outlinewidth\":0,\"ticks\":\"\"}},\"type\":\"scatter\"}],\"scatter3d\":[{\"line\":{\"colorbar\":{\"outlinewidth\":0,\"ticks\":\"\"}},\"marker\":{\"colorbar\":{\"outlinewidth\":0,\"ticks\":\"\"}},\"type\":\"scatter3d\"}],\"scattercarpet\":[{\"marker\":{\"colorbar\":{\"outlinewidth\":0,\"ticks\":\"\"}},\"type\":\"scattercarpet\"}],\"scattergeo\":[{\"marker\":{\"colorbar\":{\"outlinewidth\":0,\"ticks\":\"\"}},\"type\":\"scattergeo\"}],\"scattergl\":[{\"marker\":{\"colorbar\":{\"outlinewidth\":0,\"ticks\":\"\"}},\"type\":\"scattergl\"}],\"scattermapbox\":[{\"marker\":{\"colorbar\":{\"outlinewidth\":0,\"ticks\":\"\"}},\"type\":\"scattermapbox\"}],\"scatterpolar\":[{\"marker\":{\"colorbar\":{\"outlinewidth\":0,\"ticks\":\"\"}},\"type\":\"scatterpolar\"}],\"scatterpolargl\":[{\"marker\":{\"colorbar\":{\"outlinewidth\":0,\"ticks\":\"\"}},\"type\":\"scatterpolargl\"}],\"scatterternary\":[{\"marker\":{\"colorbar\":{\"outlinewidth\":0,\"ticks\":\"\"}},\"type\":\"scatterternary\"}],\"surface\":[{\"colorbar\":{\"outlinewidth\":0,\"ticks\":\"\"},\"colorscale\":[[0.0,\"#0d0887\"],[0.1111111111111111,\"#46039f\"],[0.2222222222222222,\"#7201a8\"],[0.3333333333333333,\"#9c179e\"],[0.4444444444444444,\"#bd3786\"],[0.5555555555555556,\"#d8576b\"],[0.6666666666666666,\"#ed7953\"],[0.7777777777777778,\"#fb9f3a\"],[0.8888888888888888,\"#fdca26\"],[1.0,\"#f0f921\"]],\"type\":\"surface\"}],\"table\":[{\"cells\":{\"fill\":{\"color\":\"#EBF0F8\"},\"line\":{\"color\":\"white\"}},\"header\":{\"fill\":{\"color\":\"#C8D4E3\"},\"line\":{\"color\":\"white\"}},\"type\":\"table\"}]},\"layout\":{\"annotationdefaults\":{\"arrowcolor\":\"#2a3f5f\",\"arrowhead\":0,\"arrowwidth\":1},\"autotypenumbers\":\"strict\",\"coloraxis\":{\"colorbar\":{\"outlinewidth\":0,\"ticks\":\"\"}},\"colorscale\":{\"diverging\":[[0,\"#8e0152\"],[0.1,\"#c51b7d\"],[0.2,\"#de77ae\"],[0.3,\"#f1b6da\"],[0.4,\"#fde0ef\"],[0.5,\"#f7f7f7\"],[0.6,\"#e6f5d0\"],[0.7,\"#b8e186\"],[0.8,\"#7fbc41\"],[0.9,\"#4d9221\"],[1,\"#276419\"]],\"sequential\":[[0.0,\"#0d0887\"],[0.1111111111111111,\"#46039f\"],[0.2222222222222222,\"#7201a8\"],[0.3333333333333333,\"#9c179e\"],[0.4444444444444444,\"#bd3786\"],[0.5555555555555556,\"#d8576b\"],[0.6666666666666666,\"#ed7953\"],[0.7777777777777778,\"#fb9f3a\"],[0.8888888888888888,\"#fdca26\"],[1.0,\"#f0f921\"]],\"sequentialminus\":[[0.0,\"#0d0887\"],[0.1111111111111111,\"#46039f\"],[0.2222222222222222,\"#7201a8\"],[0.3333333333333333,\"#9c179e\"],[0.4444444444444444,\"#bd3786\"],[0.5555555555555556,\"#d8576b\"],[0.6666666666666666,\"#ed7953\"],[0.7777777777777778,\"#fb9f3a\"],[0.8888888888888888,\"#fdca26\"],[1.0,\"#f0f921\"]]},\"colorway\":[\"#636efa\",\"#EF553B\",\"#00cc96\",\"#ab63fa\",\"#FFA15A\",\"#19d3f3\",\"#FF6692\",\"#B6E880\",\"#FF97FF\",\"#FECB52\"],\"font\":{\"color\":\"#2a3f5f\"},\"geo\":{\"bgcolor\":\"white\",\"lakecolor\":\"white\",\"landcolor\":\"#E5ECF6\",\"showlakes\":true,\"showland\":true,\"subunitcolor\":\"white\"},\"hoverlabel\":{\"align\":\"left\"},\"hovermode\":\"closest\",\"mapbox\":{\"style\":\"light\"},\"paper_bgcolor\":\"white\",\"plot_bgcolor\":\"#E5ECF6\",\"polar\":{\"angularaxis\":{\"gridcolor\":\"white\",\"linecolor\":\"white\",\"ticks\":\"\"},\"bgcolor\":\"#E5ECF6\",\"radialaxis\":{\"gridcolor\":\"white\",\"linecolor\":\"white\",\"ticks\":\"\"}},\"scene\":{\"xaxis\":{\"backgroundcolor\":\"#E5ECF6\",\"gridcolor\":\"white\",\"gridwidth\":2,\"linecolor\":\"white\",\"showbackground\":true,\"ticks\":\"\",\"zerolinecolor\":\"white\"},\"yaxis\":{\"backgroundcolor\":\"#E5ECF6\",\"gridcolor\":\"white\",\"gridwidth\":2,\"linecolor\":\"white\",\"showbackground\":true,\"ticks\":\"\",\"zerolinecolor\":\"white\"},\"zaxis\":{\"backgroundcolor\":\"#E5ECF6\",\"gridcolor\":\"white\",\"gridwidth\":2,\"linecolor\":\"white\",\"showbackground\":true,\"ticks\":\"\",\"zerolinecolor\":\"white\"}},\"shapedefaults\":{\"line\":{\"color\":\"#2a3f5f\"}},\"ternary\":{\"aaxis\":{\"gridcolor\":\"white\",\"linecolor\":\"white\",\"ticks\":\"\"},\"baxis\":{\"gridcolor\":\"white\",\"linecolor\":\"white\",\"ticks\":\"\"},\"bgcolor\":\"#E5ECF6\",\"caxis\":{\"gridcolor\":\"white\",\"linecolor\":\"white\",\"ticks\":\"\"}},\"title\":{\"x\":0.05},\"xaxis\":{\"automargin\":true,\"gridcolor\":\"white\",\"linecolor\":\"white\",\"ticks\":\"\",\"title\":{\"standoff\":15},\"zerolinecolor\":\"white\",\"zerolinewidth\":2},\"yaxis\":{\"automargin\":true,\"gridcolor\":\"white\",\"linecolor\":\"white\",\"ticks\":\"\",\"title\":{\"standoff\":15},\"zerolinecolor\":\"white\",\"zerolinewidth\":2}}},\"xaxis\":{\"title\":{\"text\":\"Year\"}},\"yaxis\":{\"title\":{\"text\":\"Electricity consumption (TWh)\"}}},                        {\"responsive\": true}                    ).then(function(){\n",
       "                            \n",
       "var gd = document.getElementById('904da4d9-a227-4fc8-b5d2-1f1375456750');\n",
       "var x = new MutationObserver(function (mutations, observer) {{\n",
       "        var display = window.getComputedStyle(gd).display;\n",
       "        if (!display || display === 'none') {{\n",
       "            console.log([gd, 'removed!']);\n",
       "            Plotly.purge(gd);\n",
       "            observer.disconnect();\n",
       "        }}\n",
       "}});\n",
       "\n",
       "// Listen for the removal of the full notebook cells\n",
       "var notebookContainer = gd.closest('#notebook-container');\n",
       "if (notebookContainer) {{\n",
       "    x.observe(notebookContainer, {childList: true});\n",
       "}}\n",
       "\n",
       "// Listen for the clearing of the current output cell\n",
       "var outputEl = gd.closest('.output');\n",
       "if (outputEl) {{\n",
       "    x.observe(outputEl, {childList: true});\n",
       "}}\n",
       "\n",
       "                        })                };                });            </script>        </div>"
      ]
     },
     "metadata": {},
     "output_type": "display_data"
    }
   ],
   "source": [
    "country_colors={\"France\":\"blue\",\"Germany\":\"black\",\"Italy\":\"green\",\"Belgium\":\"yellow\",\"Spain\":\"orange\",\"Great Britain\":\"red\"}\n",
    "\n",
    "fig =go.Figure()\n",
    "for i in range(len(scen.keys())):\n",
    "    name=list(scen.keys())[i]\n",
    "    resource_inflow=scen[list(scen.keys())[i]]['resource_tech_inflow']\n",
    "\n",
    "    showlegend=[True,False,False]\n",
    "    symbol={\"Reference\":\"circle\",\"Fossil phase-out\":\"diamond\",\"High electricity price\":\"square\"}\n",
    "    for country in country_colors.keys():\n",
    "        energy_input=resource_inflow[(resource_inflow.Resource.isin(primary_resource_conversion.keys()))]\n",
    "        energy_input=energy_input[(energy_input.Technology!=\"Electrolyser\") & (energy_input.Country==country)]\n",
    "        energy_input=energy_input.drop([\"Sector\",\"Country\"],axis=1).groupby(by=[\"Resource\",\"Year\"]).sum().reset_index()\n",
    "\n",
    "\n",
    "        resource=\"Electricity\"\n",
    "        name=list(scen.keys())[i]\n",
    "        fig.add_trace(go.Scatter(x=energy_input[(energy_input.Resource==resource)].Year,\n",
    "                                 y=energy_input[(energy_input.Resource==resource)].Flow,\n",
    "                                 name=country,line=dict(width=2,color=country_colors[country]),\n",
    "                                         mode='lines+markers',marker=dict(symbol=symbol[name]),showlegend=showlegend[i]))\n",
    "\n",
    "        \n",
    "fig.update_layout(#title='Electricity consumption per country',title_x=0.5,\n",
    "                    xaxis_title=\"Year\",\n",
    "                   yaxis_title='Electricity consumption (TWh)')\n",
    "fig.update_layout(\n",
    "    font=dict(\n",
    "        family=\"Times New Roman\",size=24)\n",
    "    )\n",
    "fig.update_annotations(font_size=24)\n",
    "\n",
    "fig.add_trace(go.Scatter(x=[None],y=[None], mode='markers',\n",
    "                         marker=dict(symbol='circle', color='grey'),\n",
    "                         name='Reference',\n",
    "                         ))    \n",
    "fig.add_trace(go.Scatter(x=[None],y=[None], mode='markers',\n",
    "                         marker=dict(symbol='diamond', color='grey'),\n",
    "                         name='Fossil phase-out',\n",
    "                         ))\n",
    "fig.add_trace(go.Scatter(x=[None],y=[None], mode='markers',\n",
    "                         marker=dict(symbol='square', color='grey'),\n",
    "                         name='High electricity price',\n",
    "                         ))\n",
    "fig.show()"
   ]
  },
  {
   "cell_type": "code",
   "execution_count": 249,
   "id": "6bab51dc",
   "metadata": {},
   "outputs": [
    {
     "data": {
      "application/vnd.plotly.v1+json": {
       "config": {
        "plotlyServerURL": "https://plot.ly"
       },
       "data": [
        {
         "fillcolor": "black",
         "hoverinfo": "x+y",
         "line": {
          "color": "black",
          "width": 0
         },
         "mode": "lines",
         "name": "Naphta cracking",
         "showlegend": true,
         "stackgroup": "one",
         "type": "scatter",
         "x": [
          2015,
          2016,
          2017,
          2018,
          2019,
          2020,
          2021,
          2022,
          2023,
          2024,
          2025,
          2026,
          2027,
          2028,
          2029,
          2030,
          2031,
          2032,
          2033,
          2034,
          2035,
          2036,
          2037,
          2038,
          2039,
          2040,
          2041,
          2042,
          2043,
          2044,
          2045,
          2046,
          2047,
          2048,
          2049,
          2050
         ],
         "xaxis": "x",
         "y": [
          20.88,
          20.88,
          20.88,
          20.88,
          20.88,
          20.88,
          20.601599999999998,
          20.3232,
          20.0448,
          19.7664,
          19.488,
          19.2096,
          18.9312,
          18.6528,
          18.374399999999998,
          18.096,
          17.8176,
          17.539199999999997,
          17.2608,
          16.9824,
          14.203999999999999,
          12.38763313671329,
          10.47602836206192,
          9.083409895804987,
          8.14195911729887,
          7.19531404708529,
          6.250586474343326,
          5.925306752503891,
          5.295646298185824,
          5.054283654533125,
          4.718443974797154,
          4.365893330220519,
          4.106333825883304,
          3.872230857174373,
          3.7091500133505537,
          3.570425392906611
         ],
         "yaxis": "y"
        },
        {
         "fillcolor": "yellow",
         "hoverinfo": "x+y",
         "line": {
          "color": "yellow",
          "width": 0
         },
         "mode": "lines",
         "name": "Methanol to Olefins (MTO)",
         "showlegend": true,
         "stackgroup": "one",
         "type": "scatter",
         "x": [
          2015,
          2016,
          2017,
          2018,
          2019,
          2020,
          2021,
          2022,
          2023,
          2024,
          2025,
          2026,
          2027,
          2028,
          2029,
          2030,
          2031,
          2032,
          2033,
          2034,
          2035,
          2036,
          2037,
          2038,
          2039,
          2040,
          2041,
          2042,
          2043,
          2044,
          2045,
          2046,
          2047,
          2048,
          2049,
          2050
         ],
         "xaxis": "x",
         "y": [
          0,
          0,
          0,
          0,
          0,
          0,
          0,
          0,
          0,
          0,
          0,
          0,
          0,
          0,
          0,
          0,
          0,
          0,
          0,
          0,
          2.5,
          4.0379668632867105,
          5.671171637938081,
          6.78539010419501,
          7.448440882701129,
          8.11668595291471,
          8.783013525656674,
          8.82989324749611,
          9.181153701814175,
          9.144116345466873,
          9.201556025202846,
          9.27570666977948,
          9.256866174116695,
          9.212569142825625,
          9.097249986649446,
          8.957674027093258
         ],
         "yaxis": "y"
        },
        {
         "fillcolor": "purple",
         "hoverinfo": "x+y",
         "line": {
          "color": "purple",
          "width": 0
         },
         "mode": "lines",
         "name": "Oxidative Coupling of Methane (OCM)",
         "showlegend": true,
         "stackgroup": "one",
         "type": "scatter",
         "x": [
          2015,
          2016,
          2017,
          2018,
          2019,
          2020,
          2021,
          2022,
          2023,
          2024,
          2025,
          2026,
          2027,
          2028,
          2029,
          2030,
          2031,
          2032,
          2033,
          2034,
          2035,
          2036,
          2037,
          2038,
          2039,
          2040,
          2041,
          2042,
          2043,
          2044,
          2045,
          2046,
          2047,
          2048,
          2049,
          2050
         ],
         "xaxis": "x",
         "y": [
          0,
          0,
          0,
          0,
          0,
          0,
          0,
          0,
          0,
          0,
          0,
          0,
          0,
          0,
          0,
          0,
          0,
          0,
          0,
          0,
          0,
          0,
          0,
          0,
          0,
          0,
          0,
          0,
          0,
          0,
          0,
          0,
          0,
          0,
          0,
          0
         ],
         "yaxis": "y"
        },
        {
         "fillcolor": "black",
         "hoverinfo": "x+y",
         "line": {
          "color": "black",
          "width": 0
         },
         "mode": "lines",
         "name": "Naphta cracking",
         "showlegend": false,
         "stackgroup": "one",
         "type": "scatter",
         "x": [
          2015,
          2016,
          2017,
          2018,
          2019,
          2020,
          2021,
          2022,
          2023,
          2024,
          2025,
          2026,
          2027,
          2028,
          2029,
          2030,
          2031,
          2032,
          2033,
          2034,
          2035,
          2036,
          2037,
          2038,
          2039,
          2040,
          2041,
          2042,
          2043,
          2044,
          2045,
          2046,
          2047,
          2048,
          2049,
          2050
         ],
         "xaxis": "x2",
         "y": [
          20.88,
          20.88,
          20.88,
          20.88,
          20.88,
          20.88,
          20.601599999999998,
          20.3232,
          20.0448,
          19.7664,
          19.488,
          19.2096,
          18.9312,
          18.6528,
          18.374399999999998,
          18.096,
          17.8176,
          17.539199999999997,
          17.2608,
          16.9824,
          14.203999999999999,
          12.267738002594035,
          10.120671678038578,
          8.676233044168102,
          7.717109032124181,
          6.9185677873477,
          6.082932412731556,
          5.601454477380762,
          5.011142370738761,
          4.743751452909813,
          4.514815468533273,
          4.289368210741618,
          4.053835424160303,
          3.8558407636821306,
          3.7217939183458753,
          3.136112250768987
         ],
         "yaxis": "y2"
        },
        {
         "fillcolor": "yellow",
         "hoverinfo": "x+y",
         "line": {
          "color": "yellow",
          "width": 0
         },
         "mode": "lines",
         "name": "Methanol to Olefins (MTO)",
         "showlegend": false,
         "stackgroup": "one",
         "type": "scatter",
         "x": [
          2015,
          2016,
          2017,
          2018,
          2019,
          2020,
          2021,
          2022,
          2023,
          2024,
          2025,
          2026,
          2027,
          2028,
          2029,
          2030,
          2031,
          2032,
          2033,
          2034,
          2035,
          2036,
          2037,
          2038,
          2039,
          2040,
          2041,
          2042,
          2043,
          2044,
          2045,
          2046,
          2047,
          2048,
          2049,
          2050
         ],
         "xaxis": "x2",
         "y": [
          0,
          0,
          0,
          0,
          0,
          0,
          0,
          0,
          0,
          0,
          0,
          0,
          0,
          0,
          0,
          0,
          0,
          0,
          0,
          0,
          2.5,
          4.157861997405966,
          6.026528321961421,
          7.192566955831898,
          7.873290967875819,
          8.3934322126523,
          8.950667587268443,
          9.153561614535095,
          9.465657629261239,
          9.45453608792534,
          9.401836492479527,
          9.349067658355326,
          9.309180667755555,
          9.220062277466944,
          9.0757091228032,
          9.383090210379958
         ],
         "yaxis": "y2"
        },
        {
         "fillcolor": "purple",
         "hoverinfo": "x+y",
         "line": {
          "color": "purple",
          "width": 0
         },
         "mode": "lines",
         "name": "Oxidative Coupling of Methane (OCM)",
         "showlegend": false,
         "stackgroup": "one",
         "type": "scatter",
         "x": [
          2015,
          2016,
          2017,
          2018,
          2019,
          2020,
          2021,
          2022,
          2023,
          2024,
          2025,
          2026,
          2027,
          2028,
          2029,
          2030,
          2031,
          2032,
          2033,
          2034,
          2035,
          2036,
          2037,
          2038,
          2039,
          2040,
          2041,
          2042,
          2043,
          2044,
          2045,
          2046,
          2047,
          2048,
          2049,
          2050
         ],
         "xaxis": "x2",
         "y": [
          0,
          0,
          0,
          0,
          0,
          0,
          0,
          0,
          0,
          0,
          0,
          0,
          0,
          0,
          0,
          0,
          0,
          0,
          0,
          0,
          0,
          0,
          0,
          0,
          0,
          0,
          0,
          0.0001839080841431475,
          0,
          0.00011245916484490502,
          0.0033480389872009154,
          0.003164130903057768,
          0.0001839080841431475,
          0.008896958850923488,
          0.008896958850923488,
          0.008896958850923488
         ],
         "yaxis": "y2"
        },
        {
         "fillcolor": "black",
         "hoverinfo": "x+y",
         "line": {
          "color": "black",
          "width": 0
         },
         "mode": "lines",
         "name": "Naphta cracking",
         "showlegend": false,
         "stackgroup": "one",
         "type": "scatter",
         "x": [
          2015,
          2016,
          2017,
          2018,
          2019,
          2020,
          2021,
          2022,
          2023,
          2024,
          2025,
          2026,
          2027,
          2028,
          2029,
          2030,
          2031,
          2032,
          2033,
          2034,
          2035,
          2036,
          2037,
          2038,
          2039,
          2040,
          2041,
          2042,
          2043,
          2044,
          2045,
          2046,
          2047,
          2048,
          2049,
          2050
         ],
         "xaxis": "x3",
         "y": [
          20.88,
          20.88,
          20.88,
          20.88,
          20.88,
          20.88,
          20.601599999999998,
          20.3232,
          20.0448,
          19.7664,
          19.488,
          19.2096,
          18.9312,
          18.6528,
          18.374399999999998,
          18.096,
          17.8176,
          17.539199999999997,
          17.2608,
          16.9824,
          14.203999999999999,
          12.267738002594035,
          10.223228641650074,
          8.776945468384524,
          7.8187191920963075,
          7.019292227324425,
          6.185143137027226,
          5.706379851934823,
          5.117554029611769,
          4.851649396101767,
          4.557233482225158,
          4.2748508144341955,
          3.8692917710679953,
          3.423023914521338,
          2.9175645363098752,
          1.9645646113161757
         ],
         "yaxis": "y3"
        },
        {
         "fillcolor": "yellow",
         "hoverinfo": "x+y",
         "line": {
          "color": "yellow",
          "width": 0
         },
         "mode": "lines",
         "name": "Methanol to Olefins (MTO)",
         "showlegend": false,
         "stackgroup": "one",
         "type": "scatter",
         "x": [
          2015,
          2016,
          2017,
          2018,
          2019,
          2020,
          2021,
          2022,
          2023,
          2024,
          2025,
          2026,
          2027,
          2028,
          2029,
          2030,
          2031,
          2032,
          2033,
          2034,
          2035,
          2036,
          2037,
          2038,
          2039,
          2040,
          2041,
          2042,
          2043,
          2044,
          2045,
          2046,
          2047,
          2048,
          2049,
          2050
         ],
         "xaxis": "x3",
         "y": [
          0,
          0,
          0,
          0,
          0,
          0,
          0,
          0,
          0,
          0,
          0,
          0,
          0,
          0,
          0,
          0,
          0,
          0,
          0,
          0,
          2.5,
          4.157861997405966,
          5.923971358349926,
          7.091854531615475,
          7.771680807903691,
          8.292707772675575,
          8.848456862972773,
          9.048636239981034,
          9.35924597038823,
          9.346638144733388,
          9.359418478787642,
          9.363585054662748,
          9.49372432084786,
          9.652879126627738,
          9.8799385048392,
          10.554637849832769
         ],
         "yaxis": "y3"
        },
        {
         "fillcolor": "purple",
         "hoverinfo": "x+y",
         "line": {
          "color": "purple",
          "width": 0
         },
         "mode": "lines",
         "name": "Oxidative Coupling of Methane (OCM)",
         "showlegend": false,
         "stackgroup": "one",
         "type": "scatter",
         "x": [
          2015,
          2016,
          2017,
          2018,
          2019,
          2020,
          2021,
          2022,
          2023,
          2024,
          2025,
          2026,
          2027,
          2028,
          2029,
          2030,
          2031,
          2032,
          2033,
          2034,
          2035,
          2036,
          2037,
          2038,
          2039,
          2040,
          2041,
          2042,
          2043,
          2044,
          2045,
          2046,
          2047,
          2048,
          2049,
          2050
         ],
         "xaxis": "x3",
         "y": [
          0,
          0,
          0,
          0,
          0,
          0,
          0,
          0,
          0,
          0,
          0,
          0,
          0,
          0,
          0,
          0,
          0,
          0,
          0,
          0,
          0,
          0,
          0,
          0,
          0,
          0,
          0,
          0.00018390808414315,
          0,
          0.00011245916484491275,
          0.0033480389872009124,
          0.0031641309030577625,
          0.00018390808414315,
          0.008896958850923505,
          0.008896958850923505,
          0.008896958850923505
         ],
         "yaxis": "y3"
        }
       ],
       "layout": {
        "annotations": [
         {
          "font": {
           "size": 24
          },
          "showarrow": false,
          "text": "High electricity price",
          "x": 0.14444444444444446,
          "xanchor": "center",
          "xref": "paper",
          "y": 1,
          "yanchor": "bottom",
          "yref": "paper"
         },
         {
          "font": {
           "size": 24
          },
          "showarrow": false,
          "text": "Reference",
          "x": 0.5,
          "xanchor": "center",
          "xref": "paper",
          "y": 1,
          "yanchor": "bottom",
          "yref": "paper"
         },
         {
          "font": {
           "size": 24
          },
          "showarrow": false,
          "text": "Fossil phase-out",
          "x": 0.8555555555555556,
          "xanchor": "center",
          "xref": "paper",
          "y": 1,
          "yanchor": "bottom",
          "yref": "paper"
         }
        ],
        "font": {
         "family": "Times New Roman",
         "size": 24
        },
        "legend": {
         "font": {
          "size": 20
         },
         "orientation": "h",
         "x": 1,
         "xanchor": "right",
         "y": 1.1,
         "yanchor": "bottom"
        },
        "template": {
         "data": {
          "bar": [
           {
            "error_x": {
             "color": "#2a3f5f"
            },
            "error_y": {
             "color": "#2a3f5f"
            },
            "marker": {
             "line": {
              "color": "#E5ECF6",
              "width": 0.5
             },
             "pattern": {
              "fillmode": "overlay",
              "size": 10,
              "solidity": 0.2
             }
            },
            "type": "bar"
           }
          ],
          "barpolar": [
           {
            "marker": {
             "line": {
              "color": "#E5ECF6",
              "width": 0.5
             },
             "pattern": {
              "fillmode": "overlay",
              "size": 10,
              "solidity": 0.2
             }
            },
            "type": "barpolar"
           }
          ],
          "carpet": [
           {
            "aaxis": {
             "endlinecolor": "#2a3f5f",
             "gridcolor": "white",
             "linecolor": "white",
             "minorgridcolor": "white",
             "startlinecolor": "#2a3f5f"
            },
            "baxis": {
             "endlinecolor": "#2a3f5f",
             "gridcolor": "white",
             "linecolor": "white",
             "minorgridcolor": "white",
             "startlinecolor": "#2a3f5f"
            },
            "type": "carpet"
           }
          ],
          "choropleth": [
           {
            "colorbar": {
             "outlinewidth": 0,
             "ticks": ""
            },
            "type": "choropleth"
           }
          ],
          "contour": [
           {
            "colorbar": {
             "outlinewidth": 0,
             "ticks": ""
            },
            "colorscale": [
             [
              0,
              "#0d0887"
             ],
             [
              0.1111111111111111,
              "#46039f"
             ],
             [
              0.2222222222222222,
              "#7201a8"
             ],
             [
              0.3333333333333333,
              "#9c179e"
             ],
             [
              0.4444444444444444,
              "#bd3786"
             ],
             [
              0.5555555555555556,
              "#d8576b"
             ],
             [
              0.6666666666666666,
              "#ed7953"
             ],
             [
              0.7777777777777778,
              "#fb9f3a"
             ],
             [
              0.8888888888888888,
              "#fdca26"
             ],
             [
              1,
              "#f0f921"
             ]
            ],
            "type": "contour"
           }
          ],
          "contourcarpet": [
           {
            "colorbar": {
             "outlinewidth": 0,
             "ticks": ""
            },
            "type": "contourcarpet"
           }
          ],
          "heatmap": [
           {
            "colorbar": {
             "outlinewidth": 0,
             "ticks": ""
            },
            "colorscale": [
             [
              0,
              "#0d0887"
             ],
             [
              0.1111111111111111,
              "#46039f"
             ],
             [
              0.2222222222222222,
              "#7201a8"
             ],
             [
              0.3333333333333333,
              "#9c179e"
             ],
             [
              0.4444444444444444,
              "#bd3786"
             ],
             [
              0.5555555555555556,
              "#d8576b"
             ],
             [
              0.6666666666666666,
              "#ed7953"
             ],
             [
              0.7777777777777778,
              "#fb9f3a"
             ],
             [
              0.8888888888888888,
              "#fdca26"
             ],
             [
              1,
              "#f0f921"
             ]
            ],
            "type": "heatmap"
           }
          ],
          "heatmapgl": [
           {
            "colorbar": {
             "outlinewidth": 0,
             "ticks": ""
            },
            "colorscale": [
             [
              0,
              "#0d0887"
             ],
             [
              0.1111111111111111,
              "#46039f"
             ],
             [
              0.2222222222222222,
              "#7201a8"
             ],
             [
              0.3333333333333333,
              "#9c179e"
             ],
             [
              0.4444444444444444,
              "#bd3786"
             ],
             [
              0.5555555555555556,
              "#d8576b"
             ],
             [
              0.6666666666666666,
              "#ed7953"
             ],
             [
              0.7777777777777778,
              "#fb9f3a"
             ],
             [
              0.8888888888888888,
              "#fdca26"
             ],
             [
              1,
              "#f0f921"
             ]
            ],
            "type": "heatmapgl"
           }
          ],
          "histogram": [
           {
            "marker": {
             "pattern": {
              "fillmode": "overlay",
              "size": 10,
              "solidity": 0.2
             }
            },
            "type": "histogram"
           }
          ],
          "histogram2d": [
           {
            "colorbar": {
             "outlinewidth": 0,
             "ticks": ""
            },
            "colorscale": [
             [
              0,
              "#0d0887"
             ],
             [
              0.1111111111111111,
              "#46039f"
             ],
             [
              0.2222222222222222,
              "#7201a8"
             ],
             [
              0.3333333333333333,
              "#9c179e"
             ],
             [
              0.4444444444444444,
              "#bd3786"
             ],
             [
              0.5555555555555556,
              "#d8576b"
             ],
             [
              0.6666666666666666,
              "#ed7953"
             ],
             [
              0.7777777777777778,
              "#fb9f3a"
             ],
             [
              0.8888888888888888,
              "#fdca26"
             ],
             [
              1,
              "#f0f921"
             ]
            ],
            "type": "histogram2d"
           }
          ],
          "histogram2dcontour": [
           {
            "colorbar": {
             "outlinewidth": 0,
             "ticks": ""
            },
            "colorscale": [
             [
              0,
              "#0d0887"
             ],
             [
              0.1111111111111111,
              "#46039f"
             ],
             [
              0.2222222222222222,
              "#7201a8"
             ],
             [
              0.3333333333333333,
              "#9c179e"
             ],
             [
              0.4444444444444444,
              "#bd3786"
             ],
             [
              0.5555555555555556,
              "#d8576b"
             ],
             [
              0.6666666666666666,
              "#ed7953"
             ],
             [
              0.7777777777777778,
              "#fb9f3a"
             ],
             [
              0.8888888888888888,
              "#fdca26"
             ],
             [
              1,
              "#f0f921"
             ]
            ],
            "type": "histogram2dcontour"
           }
          ],
          "mesh3d": [
           {
            "colorbar": {
             "outlinewidth": 0,
             "ticks": ""
            },
            "type": "mesh3d"
           }
          ],
          "parcoords": [
           {
            "line": {
             "colorbar": {
              "outlinewidth": 0,
              "ticks": ""
             }
            },
            "type": "parcoords"
           }
          ],
          "pie": [
           {
            "automargin": true,
            "type": "pie"
           }
          ],
          "scatter": [
           {
            "marker": {
             "colorbar": {
              "outlinewidth": 0,
              "ticks": ""
             }
            },
            "type": "scatter"
           }
          ],
          "scatter3d": [
           {
            "line": {
             "colorbar": {
              "outlinewidth": 0,
              "ticks": ""
             }
            },
            "marker": {
             "colorbar": {
              "outlinewidth": 0,
              "ticks": ""
             }
            },
            "type": "scatter3d"
           }
          ],
          "scattercarpet": [
           {
            "marker": {
             "colorbar": {
              "outlinewidth": 0,
              "ticks": ""
             }
            },
            "type": "scattercarpet"
           }
          ],
          "scattergeo": [
           {
            "marker": {
             "colorbar": {
              "outlinewidth": 0,
              "ticks": ""
             }
            },
            "type": "scattergeo"
           }
          ],
          "scattergl": [
           {
            "marker": {
             "colorbar": {
              "outlinewidth": 0,
              "ticks": ""
             }
            },
            "type": "scattergl"
           }
          ],
          "scattermapbox": [
           {
            "marker": {
             "colorbar": {
              "outlinewidth": 0,
              "ticks": ""
             }
            },
            "type": "scattermapbox"
           }
          ],
          "scatterpolar": [
           {
            "marker": {
             "colorbar": {
              "outlinewidth": 0,
              "ticks": ""
             }
            },
            "type": "scatterpolar"
           }
          ],
          "scatterpolargl": [
           {
            "marker": {
             "colorbar": {
              "outlinewidth": 0,
              "ticks": ""
             }
            },
            "type": "scatterpolargl"
           }
          ],
          "scatterternary": [
           {
            "marker": {
             "colorbar": {
              "outlinewidth": 0,
              "ticks": ""
             }
            },
            "type": "scatterternary"
           }
          ],
          "surface": [
           {
            "colorbar": {
             "outlinewidth": 0,
             "ticks": ""
            },
            "colorscale": [
             [
              0,
              "#0d0887"
             ],
             [
              0.1111111111111111,
              "#46039f"
             ],
             [
              0.2222222222222222,
              "#7201a8"
             ],
             [
              0.3333333333333333,
              "#9c179e"
             ],
             [
              0.4444444444444444,
              "#bd3786"
             ],
             [
              0.5555555555555556,
              "#d8576b"
             ],
             [
              0.6666666666666666,
              "#ed7953"
             ],
             [
              0.7777777777777778,
              "#fb9f3a"
             ],
             [
              0.8888888888888888,
              "#fdca26"
             ],
             [
              1,
              "#f0f921"
             ]
            ],
            "type": "surface"
           }
          ],
          "table": [
           {
            "cells": {
             "fill": {
              "color": "#EBF0F8"
             },
             "line": {
              "color": "white"
             }
            },
            "header": {
             "fill": {
              "color": "#C8D4E3"
             },
             "line": {
              "color": "white"
             }
            },
            "type": "table"
           }
          ]
         },
         "layout": {
          "annotationdefaults": {
           "arrowcolor": "#2a3f5f",
           "arrowhead": 0,
           "arrowwidth": 1
          },
          "autotypenumbers": "strict",
          "coloraxis": {
           "colorbar": {
            "outlinewidth": 0,
            "ticks": ""
           }
          },
          "colorscale": {
           "diverging": [
            [
             0,
             "#8e0152"
            ],
            [
             0.1,
             "#c51b7d"
            ],
            [
             0.2,
             "#de77ae"
            ],
            [
             0.3,
             "#f1b6da"
            ],
            [
             0.4,
             "#fde0ef"
            ],
            [
             0.5,
             "#f7f7f7"
            ],
            [
             0.6,
             "#e6f5d0"
            ],
            [
             0.7,
             "#b8e186"
            ],
            [
             0.8,
             "#7fbc41"
            ],
            [
             0.9,
             "#4d9221"
            ],
            [
             1,
             "#276419"
            ]
           ],
           "sequential": [
            [
             0,
             "#0d0887"
            ],
            [
             0.1111111111111111,
             "#46039f"
            ],
            [
             0.2222222222222222,
             "#7201a8"
            ],
            [
             0.3333333333333333,
             "#9c179e"
            ],
            [
             0.4444444444444444,
             "#bd3786"
            ],
            [
             0.5555555555555556,
             "#d8576b"
            ],
            [
             0.6666666666666666,
             "#ed7953"
            ],
            [
             0.7777777777777778,
             "#fb9f3a"
            ],
            [
             0.8888888888888888,
             "#fdca26"
            ],
            [
             1,
             "#f0f921"
            ]
           ],
           "sequentialminus": [
            [
             0,
             "#0d0887"
            ],
            [
             0.1111111111111111,
             "#46039f"
            ],
            [
             0.2222222222222222,
             "#7201a8"
            ],
            [
             0.3333333333333333,
             "#9c179e"
            ],
            [
             0.4444444444444444,
             "#bd3786"
            ],
            [
             0.5555555555555556,
             "#d8576b"
            ],
            [
             0.6666666666666666,
             "#ed7953"
            ],
            [
             0.7777777777777778,
             "#fb9f3a"
            ],
            [
             0.8888888888888888,
             "#fdca26"
            ],
            [
             1,
             "#f0f921"
            ]
           ]
          },
          "colorway": [
           "#636efa",
           "#EF553B",
           "#00cc96",
           "#ab63fa",
           "#FFA15A",
           "#19d3f3",
           "#FF6692",
           "#B6E880",
           "#FF97FF",
           "#FECB52"
          ],
          "font": {
           "color": "#2a3f5f"
          },
          "geo": {
           "bgcolor": "white",
           "lakecolor": "white",
           "landcolor": "#E5ECF6",
           "showlakes": true,
           "showland": true,
           "subunitcolor": "white"
          },
          "hoverlabel": {
           "align": "left"
          },
          "hovermode": "closest",
          "mapbox": {
           "style": "light"
          },
          "paper_bgcolor": "white",
          "plot_bgcolor": "#E5ECF6",
          "polar": {
           "angularaxis": {
            "gridcolor": "white",
            "linecolor": "white",
            "ticks": ""
           },
           "bgcolor": "#E5ECF6",
           "radialaxis": {
            "gridcolor": "white",
            "linecolor": "white",
            "ticks": ""
           }
          },
          "scene": {
           "xaxis": {
            "backgroundcolor": "#E5ECF6",
            "gridcolor": "white",
            "gridwidth": 2,
            "linecolor": "white",
            "showbackground": true,
            "ticks": "",
            "zerolinecolor": "white"
           },
           "yaxis": {
            "backgroundcolor": "#E5ECF6",
            "gridcolor": "white",
            "gridwidth": 2,
            "linecolor": "white",
            "showbackground": true,
            "ticks": "",
            "zerolinecolor": "white"
           },
           "zaxis": {
            "backgroundcolor": "#E5ECF6",
            "gridcolor": "white",
            "gridwidth": 2,
            "linecolor": "white",
            "showbackground": true,
            "ticks": "",
            "zerolinecolor": "white"
           }
          },
          "shapedefaults": {
           "line": {
            "color": "#2a3f5f"
           }
          },
          "ternary": {
           "aaxis": {
            "gridcolor": "white",
            "linecolor": "white",
            "ticks": ""
           },
           "baxis": {
            "gridcolor": "white",
            "linecolor": "white",
            "ticks": ""
           },
           "bgcolor": "#E5ECF6",
           "caxis": {
            "gridcolor": "white",
            "linecolor": "white",
            "ticks": ""
           }
          },
          "title": {
           "x": 0.05
          },
          "xaxis": {
           "automargin": true,
           "gridcolor": "white",
           "linecolor": "white",
           "ticks": "",
           "title": {
            "standoff": 15
           },
           "zerolinecolor": "white",
           "zerolinewidth": 2
          },
          "yaxis": {
           "automargin": true,
           "gridcolor": "white",
           "linecolor": "white",
           "ticks": "",
           "title": {
            "standoff": 15
           },
           "zerolinecolor": "white",
           "zerolinewidth": 2
          }
         }
        },
        "xaxis": {
         "anchor": "y",
         "domain": [
          0,
          0.2888888888888889
         ],
         "title": {
          "text": "Year"
         }
        },
        "xaxis2": {
         "anchor": "y2",
         "domain": [
          0.35555555555555557,
          0.6444444444444445
         ],
         "title": {
          "text": "Year"
         }
        },
        "xaxis3": {
         "anchor": "y3",
         "domain": [
          0.7111111111111111,
          1
         ],
         "title": {
          "text": "Year"
         }
        },
        "yaxis": {
         "anchor": "x",
         "domain": [
          0,
          1
         ],
         "title": {
          "text": "Production (Mt of olefins)"
         }
        },
        "yaxis2": {
         "anchor": "x2",
         "domain": [
          0,
          1
         ],
         "matches": "y",
         "showticklabels": false
        },
        "yaxis3": {
         "anchor": "x3",
         "domain": [
          0,
          1
         ],
         "matches": "y",
         "showticklabels": false
        }
       }
      },
      "text/html": [
       "<div>                            <div id=\"1334940b-329e-423d-9c49-11083abe5951\" class=\"plotly-graph-div\" style=\"height:525px; width:100%;\"></div>            <script type=\"text/javascript\">                require([\"plotly\"], function(Plotly) {                    window.PLOTLYENV=window.PLOTLYENV || {};                                    if (document.getElementById(\"1334940b-329e-423d-9c49-11083abe5951\")) {                    Plotly.newPlot(                        \"1334940b-329e-423d-9c49-11083abe5951\",                        [{\"fillcolor\":\"black\",\"hoverinfo\":\"x+y\",\"line\":{\"color\":\"black\",\"width\":0},\"mode\":\"lines\",\"name\":\"Naphta cracking\",\"showlegend\":true,\"stackgroup\":\"one\",\"type\":\"scatter\",\"x\":[2015,2016,2017,2018,2019,2020,2021,2022,2023,2024,2025,2026,2027,2028,2029,2030,2031,2032,2033,2034,2035,2036,2037,2038,2039,2040,2041,2042,2043,2044,2045,2046,2047,2048,2049,2050],\"xaxis\":\"x\",\"y\":[20.88,20.88,20.88,20.88,20.88,20.88,20.601599999999998,20.3232,20.0448,19.7664,19.488,19.2096,18.9312,18.6528,18.374399999999998,18.096,17.8176,17.539199999999997,17.2608,16.9824,14.203999999999999,12.38763313671329,10.47602836206192,9.083409895804987,8.14195911729887,7.19531404708529,6.250586474343326,5.925306752503891,5.295646298185824,5.054283654533125,4.718443974797154,4.365893330220519,4.106333825883304,3.872230857174373,3.7091500133505537,3.570425392906611],\"yaxis\":\"y\"},{\"fillcolor\":\"yellow\",\"hoverinfo\":\"x+y\",\"line\":{\"color\":\"yellow\",\"width\":0},\"mode\":\"lines\",\"name\":\"Methanol to Olefins (MTO)\",\"showlegend\":true,\"stackgroup\":\"one\",\"type\":\"scatter\",\"x\":[2015,2016,2017,2018,2019,2020,2021,2022,2023,2024,2025,2026,2027,2028,2029,2030,2031,2032,2033,2034,2035,2036,2037,2038,2039,2040,2041,2042,2043,2044,2045,2046,2047,2048,2049,2050],\"xaxis\":\"x\",\"y\":[0.0,0.0,0.0,0.0,0.0,0.0,0.0,0.0,0.0,0.0,0.0,0.0,0.0,0.0,0.0,0.0,0.0,0.0,0.0,0.0,2.5,4.0379668632867105,5.671171637938081,6.78539010419501,7.448440882701129,8.11668595291471,8.783013525656674,8.82989324749611,9.181153701814175,9.144116345466873,9.201556025202846,9.27570666977948,9.256866174116695,9.212569142825625,9.097249986649446,8.957674027093258],\"yaxis\":\"y\"},{\"fillcolor\":\"purple\",\"hoverinfo\":\"x+y\",\"line\":{\"color\":\"purple\",\"width\":0},\"mode\":\"lines\",\"name\":\"Oxidative Coupling of Methane (OCM)\",\"showlegend\":true,\"stackgroup\":\"one\",\"type\":\"scatter\",\"x\":[2015,2016,2017,2018,2019,2020,2021,2022,2023,2024,2025,2026,2027,2028,2029,2030,2031,2032,2033,2034,2035,2036,2037,2038,2039,2040,2041,2042,2043,2044,2045,2046,2047,2048,2049,2050],\"xaxis\":\"x\",\"y\":[0.0,0.0,0.0,0.0,0.0,0.0,0.0,0.0,0.0,0.0,0.0,0.0,0.0,0.0,0.0,0.0,0.0,0.0,0.0,0.0,0.0,0.0,0.0,0.0,0.0,0.0,0.0,0.0,0.0,0.0,0.0,0.0,0.0,0.0,0.0,0.0],\"yaxis\":\"y\"},{\"fillcolor\":\"black\",\"hoverinfo\":\"x+y\",\"line\":{\"color\":\"black\",\"width\":0},\"mode\":\"lines\",\"name\":\"Naphta cracking\",\"showlegend\":false,\"stackgroup\":\"one\",\"type\":\"scatter\",\"x\":[2015,2016,2017,2018,2019,2020,2021,2022,2023,2024,2025,2026,2027,2028,2029,2030,2031,2032,2033,2034,2035,2036,2037,2038,2039,2040,2041,2042,2043,2044,2045,2046,2047,2048,2049,2050],\"xaxis\":\"x2\",\"y\":[20.88,20.88,20.88,20.88,20.88,20.88,20.601599999999998,20.3232,20.0448,19.7664,19.488,19.2096,18.9312,18.6528,18.374399999999998,18.096,17.8176,17.539199999999997,17.2608,16.9824,14.203999999999999,12.267738002594035,10.120671678038578,8.676233044168102,7.717109032124181,6.9185677873477,6.082932412731556,5.601454477380762,5.011142370738761,4.743751452909813,4.514815468533273,4.289368210741618,4.053835424160303,3.8558407636821306,3.7217939183458753,3.136112250768987],\"yaxis\":\"y2\"},{\"fillcolor\":\"yellow\",\"hoverinfo\":\"x+y\",\"line\":{\"color\":\"yellow\",\"width\":0},\"mode\":\"lines\",\"name\":\"Methanol to Olefins (MTO)\",\"showlegend\":false,\"stackgroup\":\"one\",\"type\":\"scatter\",\"x\":[2015,2016,2017,2018,2019,2020,2021,2022,2023,2024,2025,2026,2027,2028,2029,2030,2031,2032,2033,2034,2035,2036,2037,2038,2039,2040,2041,2042,2043,2044,2045,2046,2047,2048,2049,2050],\"xaxis\":\"x2\",\"y\":[0.0,0.0,0.0,0.0,0.0,0.0,0.0,0.0,0.0,0.0,0.0,0.0,0.0,0.0,0.0,0.0,0.0,0.0,0.0,0.0,2.5,4.157861997405966,6.026528321961421,7.192566955831898,7.873290967875819,8.3934322126523,8.950667587268443,9.153561614535095,9.465657629261239,9.45453608792534,9.401836492479527,9.349067658355326,9.309180667755555,9.220062277466944,9.0757091228032,9.383090210379958],\"yaxis\":\"y2\"},{\"fillcolor\":\"purple\",\"hoverinfo\":\"x+y\",\"line\":{\"color\":\"purple\",\"width\":0},\"mode\":\"lines\",\"name\":\"Oxidative Coupling of Methane (OCM)\",\"showlegend\":false,\"stackgroup\":\"one\",\"type\":\"scatter\",\"x\":[2015,2016,2017,2018,2019,2020,2021,2022,2023,2024,2025,2026,2027,2028,2029,2030,2031,2032,2033,2034,2035,2036,2037,2038,2039,2040,2041,2042,2043,2044,2045,2046,2047,2048,2049,2050],\"xaxis\":\"x2\",\"y\":[0.0,0.0,0.0,0.0,0.0,0.0,0.0,0.0,0.0,0.0,0.0,0.0,0.0,0.0,0.0,0.0,0.0,0.0,0.0,0.0,0.0,0.0,0.0,0.0,0.0,0.0,0.0,0.0001839080841431475,0.0,0.00011245916484490502,0.0033480389872009154,0.003164130903057768,0.0001839080841431475,0.008896958850923488,0.008896958850923488,0.008896958850923488],\"yaxis\":\"y2\"},{\"fillcolor\":\"black\",\"hoverinfo\":\"x+y\",\"line\":{\"color\":\"black\",\"width\":0},\"mode\":\"lines\",\"name\":\"Naphta cracking\",\"showlegend\":false,\"stackgroup\":\"one\",\"type\":\"scatter\",\"x\":[2015,2016,2017,2018,2019,2020,2021,2022,2023,2024,2025,2026,2027,2028,2029,2030,2031,2032,2033,2034,2035,2036,2037,2038,2039,2040,2041,2042,2043,2044,2045,2046,2047,2048,2049,2050],\"xaxis\":\"x3\",\"y\":[20.88,20.88,20.88,20.88,20.88,20.88,20.601599999999998,20.3232,20.0448,19.7664,19.488,19.2096,18.9312,18.6528,18.374399999999998,18.096,17.8176,17.539199999999997,17.2608,16.9824,14.203999999999999,12.267738002594035,10.223228641650074,8.776945468384524,7.8187191920963075,7.019292227324425,6.185143137027226,5.706379851934823,5.117554029611769,4.851649396101767,4.557233482225158,4.2748508144341955,3.8692917710679953,3.423023914521338,2.9175645363098752,1.9645646113161757],\"yaxis\":\"y3\"},{\"fillcolor\":\"yellow\",\"hoverinfo\":\"x+y\",\"line\":{\"color\":\"yellow\",\"width\":0},\"mode\":\"lines\",\"name\":\"Methanol to Olefins (MTO)\",\"showlegend\":false,\"stackgroup\":\"one\",\"type\":\"scatter\",\"x\":[2015,2016,2017,2018,2019,2020,2021,2022,2023,2024,2025,2026,2027,2028,2029,2030,2031,2032,2033,2034,2035,2036,2037,2038,2039,2040,2041,2042,2043,2044,2045,2046,2047,2048,2049,2050],\"xaxis\":\"x3\",\"y\":[0.0,0.0,0.0,0.0,0.0,0.0,0.0,0.0,0.0,0.0,0.0,0.0,0.0,0.0,0.0,0.0,0.0,0.0,0.0,0.0,2.5,4.157861997405966,5.923971358349926,7.091854531615475,7.771680807903691,8.292707772675575,8.848456862972773,9.048636239981034,9.35924597038823,9.346638144733388,9.359418478787642,9.363585054662748,9.49372432084786,9.652879126627738,9.8799385048392,10.554637849832769],\"yaxis\":\"y3\"},{\"fillcolor\":\"purple\",\"hoverinfo\":\"x+y\",\"line\":{\"color\":\"purple\",\"width\":0},\"mode\":\"lines\",\"name\":\"Oxidative Coupling of Methane (OCM)\",\"showlegend\":false,\"stackgroup\":\"one\",\"type\":\"scatter\",\"x\":[2015,2016,2017,2018,2019,2020,2021,2022,2023,2024,2025,2026,2027,2028,2029,2030,2031,2032,2033,2034,2035,2036,2037,2038,2039,2040,2041,2042,2043,2044,2045,2046,2047,2048,2049,2050],\"xaxis\":\"x3\",\"y\":[0.0,0.0,0.0,0.0,0.0,0.0,0.0,0.0,0.0,0.0,0.0,0.0,0.0,0.0,0.0,0.0,0.0,0.0,0.0,0.0,0.0,0.0,0.0,0.0,0.0,0.0,0.0,0.00018390808414315,0.0,0.00011245916484491275,0.0033480389872009124,0.0031641309030577625,0.00018390808414315,0.008896958850923505,0.008896958850923505,0.008896958850923505],\"yaxis\":\"y3\"}],                        {\"annotations\":[{\"font\":{\"size\":24},\"showarrow\":false,\"text\":\"High electricity price\",\"x\":0.14444444444444446,\"xanchor\":\"center\",\"xref\":\"paper\",\"y\":1.0,\"yanchor\":\"bottom\",\"yref\":\"paper\"},{\"font\":{\"size\":24},\"showarrow\":false,\"text\":\"Reference\",\"x\":0.5,\"xanchor\":\"center\",\"xref\":\"paper\",\"y\":1.0,\"yanchor\":\"bottom\",\"yref\":\"paper\"},{\"font\":{\"size\":24},\"showarrow\":false,\"text\":\"Fossil phase-out\",\"x\":0.8555555555555556,\"xanchor\":\"center\",\"xref\":\"paper\",\"y\":1.0,\"yanchor\":\"bottom\",\"yref\":\"paper\"}],\"font\":{\"family\":\"Times New Roman\",\"size\":24},\"legend\":{\"font\":{\"size\":20},\"orientation\":\"h\",\"x\":1,\"xanchor\":\"right\",\"y\":1.1,\"yanchor\":\"bottom\"},\"template\":{\"data\":{\"bar\":[{\"error_x\":{\"color\":\"#2a3f5f\"},\"error_y\":{\"color\":\"#2a3f5f\"},\"marker\":{\"line\":{\"color\":\"#E5ECF6\",\"width\":0.5},\"pattern\":{\"fillmode\":\"overlay\",\"size\":10,\"solidity\":0.2}},\"type\":\"bar\"}],\"barpolar\":[{\"marker\":{\"line\":{\"color\":\"#E5ECF6\",\"width\":0.5},\"pattern\":{\"fillmode\":\"overlay\",\"size\":10,\"solidity\":0.2}},\"type\":\"barpolar\"}],\"carpet\":[{\"aaxis\":{\"endlinecolor\":\"#2a3f5f\",\"gridcolor\":\"white\",\"linecolor\":\"white\",\"minorgridcolor\":\"white\",\"startlinecolor\":\"#2a3f5f\"},\"baxis\":{\"endlinecolor\":\"#2a3f5f\",\"gridcolor\":\"white\",\"linecolor\":\"white\",\"minorgridcolor\":\"white\",\"startlinecolor\":\"#2a3f5f\"},\"type\":\"carpet\"}],\"choropleth\":[{\"colorbar\":{\"outlinewidth\":0,\"ticks\":\"\"},\"type\":\"choropleth\"}],\"contour\":[{\"colorbar\":{\"outlinewidth\":0,\"ticks\":\"\"},\"colorscale\":[[0.0,\"#0d0887\"],[0.1111111111111111,\"#46039f\"],[0.2222222222222222,\"#7201a8\"],[0.3333333333333333,\"#9c179e\"],[0.4444444444444444,\"#bd3786\"],[0.5555555555555556,\"#d8576b\"],[0.6666666666666666,\"#ed7953\"],[0.7777777777777778,\"#fb9f3a\"],[0.8888888888888888,\"#fdca26\"],[1.0,\"#f0f921\"]],\"type\":\"contour\"}],\"contourcarpet\":[{\"colorbar\":{\"outlinewidth\":0,\"ticks\":\"\"},\"type\":\"contourcarpet\"}],\"heatmap\":[{\"colorbar\":{\"outlinewidth\":0,\"ticks\":\"\"},\"colorscale\":[[0.0,\"#0d0887\"],[0.1111111111111111,\"#46039f\"],[0.2222222222222222,\"#7201a8\"],[0.3333333333333333,\"#9c179e\"],[0.4444444444444444,\"#bd3786\"],[0.5555555555555556,\"#d8576b\"],[0.6666666666666666,\"#ed7953\"],[0.7777777777777778,\"#fb9f3a\"],[0.8888888888888888,\"#fdca26\"],[1.0,\"#f0f921\"]],\"type\":\"heatmap\"}],\"heatmapgl\":[{\"colorbar\":{\"outlinewidth\":0,\"ticks\":\"\"},\"colorscale\":[[0.0,\"#0d0887\"],[0.1111111111111111,\"#46039f\"],[0.2222222222222222,\"#7201a8\"],[0.3333333333333333,\"#9c179e\"],[0.4444444444444444,\"#bd3786\"],[0.5555555555555556,\"#d8576b\"],[0.6666666666666666,\"#ed7953\"],[0.7777777777777778,\"#fb9f3a\"],[0.8888888888888888,\"#fdca26\"],[1.0,\"#f0f921\"]],\"type\":\"heatmapgl\"}],\"histogram\":[{\"marker\":{\"pattern\":{\"fillmode\":\"overlay\",\"size\":10,\"solidity\":0.2}},\"type\":\"histogram\"}],\"histogram2d\":[{\"colorbar\":{\"outlinewidth\":0,\"ticks\":\"\"},\"colorscale\":[[0.0,\"#0d0887\"],[0.1111111111111111,\"#46039f\"],[0.2222222222222222,\"#7201a8\"],[0.3333333333333333,\"#9c179e\"],[0.4444444444444444,\"#bd3786\"],[0.5555555555555556,\"#d8576b\"],[0.6666666666666666,\"#ed7953\"],[0.7777777777777778,\"#fb9f3a\"],[0.8888888888888888,\"#fdca26\"],[1.0,\"#f0f921\"]],\"type\":\"histogram2d\"}],\"histogram2dcontour\":[{\"colorbar\":{\"outlinewidth\":0,\"ticks\":\"\"},\"colorscale\":[[0.0,\"#0d0887\"],[0.1111111111111111,\"#46039f\"],[0.2222222222222222,\"#7201a8\"],[0.3333333333333333,\"#9c179e\"],[0.4444444444444444,\"#bd3786\"],[0.5555555555555556,\"#d8576b\"],[0.6666666666666666,\"#ed7953\"],[0.7777777777777778,\"#fb9f3a\"],[0.8888888888888888,\"#fdca26\"],[1.0,\"#f0f921\"]],\"type\":\"histogram2dcontour\"}],\"mesh3d\":[{\"colorbar\":{\"outlinewidth\":0,\"ticks\":\"\"},\"type\":\"mesh3d\"}],\"parcoords\":[{\"line\":{\"colorbar\":{\"outlinewidth\":0,\"ticks\":\"\"}},\"type\":\"parcoords\"}],\"pie\":[{\"automargin\":true,\"type\":\"pie\"}],\"scatter\":[{\"marker\":{\"colorbar\":{\"outlinewidth\":0,\"ticks\":\"\"}},\"type\":\"scatter\"}],\"scatter3d\":[{\"line\":{\"colorbar\":{\"outlinewidth\":0,\"ticks\":\"\"}},\"marker\":{\"colorbar\":{\"outlinewidth\":0,\"ticks\":\"\"}},\"type\":\"scatter3d\"}],\"scattercarpet\":[{\"marker\":{\"colorbar\":{\"outlinewidth\":0,\"ticks\":\"\"}},\"type\":\"scattercarpet\"}],\"scattergeo\":[{\"marker\":{\"colorbar\":{\"outlinewidth\":0,\"ticks\":\"\"}},\"type\":\"scattergeo\"}],\"scattergl\":[{\"marker\":{\"colorbar\":{\"outlinewidth\":0,\"ticks\":\"\"}},\"type\":\"scattergl\"}],\"scattermapbox\":[{\"marker\":{\"colorbar\":{\"outlinewidth\":0,\"ticks\":\"\"}},\"type\":\"scattermapbox\"}],\"scatterpolar\":[{\"marker\":{\"colorbar\":{\"outlinewidth\":0,\"ticks\":\"\"}},\"type\":\"scatterpolar\"}],\"scatterpolargl\":[{\"marker\":{\"colorbar\":{\"outlinewidth\":0,\"ticks\":\"\"}},\"type\":\"scatterpolargl\"}],\"scatterternary\":[{\"marker\":{\"colorbar\":{\"outlinewidth\":0,\"ticks\":\"\"}},\"type\":\"scatterternary\"}],\"surface\":[{\"colorbar\":{\"outlinewidth\":0,\"ticks\":\"\"},\"colorscale\":[[0.0,\"#0d0887\"],[0.1111111111111111,\"#46039f\"],[0.2222222222222222,\"#7201a8\"],[0.3333333333333333,\"#9c179e\"],[0.4444444444444444,\"#bd3786\"],[0.5555555555555556,\"#d8576b\"],[0.6666666666666666,\"#ed7953\"],[0.7777777777777778,\"#fb9f3a\"],[0.8888888888888888,\"#fdca26\"],[1.0,\"#f0f921\"]],\"type\":\"surface\"}],\"table\":[{\"cells\":{\"fill\":{\"color\":\"#EBF0F8\"},\"line\":{\"color\":\"white\"}},\"header\":{\"fill\":{\"color\":\"#C8D4E3\"},\"line\":{\"color\":\"white\"}},\"type\":\"table\"}]},\"layout\":{\"annotationdefaults\":{\"arrowcolor\":\"#2a3f5f\",\"arrowhead\":0,\"arrowwidth\":1},\"autotypenumbers\":\"strict\",\"coloraxis\":{\"colorbar\":{\"outlinewidth\":0,\"ticks\":\"\"}},\"colorscale\":{\"diverging\":[[0,\"#8e0152\"],[0.1,\"#c51b7d\"],[0.2,\"#de77ae\"],[0.3,\"#f1b6da\"],[0.4,\"#fde0ef\"],[0.5,\"#f7f7f7\"],[0.6,\"#e6f5d0\"],[0.7,\"#b8e186\"],[0.8,\"#7fbc41\"],[0.9,\"#4d9221\"],[1,\"#276419\"]],\"sequential\":[[0.0,\"#0d0887\"],[0.1111111111111111,\"#46039f\"],[0.2222222222222222,\"#7201a8\"],[0.3333333333333333,\"#9c179e\"],[0.4444444444444444,\"#bd3786\"],[0.5555555555555556,\"#d8576b\"],[0.6666666666666666,\"#ed7953\"],[0.7777777777777778,\"#fb9f3a\"],[0.8888888888888888,\"#fdca26\"],[1.0,\"#f0f921\"]],\"sequentialminus\":[[0.0,\"#0d0887\"],[0.1111111111111111,\"#46039f\"],[0.2222222222222222,\"#7201a8\"],[0.3333333333333333,\"#9c179e\"],[0.4444444444444444,\"#bd3786\"],[0.5555555555555556,\"#d8576b\"],[0.6666666666666666,\"#ed7953\"],[0.7777777777777778,\"#fb9f3a\"],[0.8888888888888888,\"#fdca26\"],[1.0,\"#f0f921\"]]},\"colorway\":[\"#636efa\",\"#EF553B\",\"#00cc96\",\"#ab63fa\",\"#FFA15A\",\"#19d3f3\",\"#FF6692\",\"#B6E880\",\"#FF97FF\",\"#FECB52\"],\"font\":{\"color\":\"#2a3f5f\"},\"geo\":{\"bgcolor\":\"white\",\"lakecolor\":\"white\",\"landcolor\":\"#E5ECF6\",\"showlakes\":true,\"showland\":true,\"subunitcolor\":\"white\"},\"hoverlabel\":{\"align\":\"left\"},\"hovermode\":\"closest\",\"mapbox\":{\"style\":\"light\"},\"paper_bgcolor\":\"white\",\"plot_bgcolor\":\"#E5ECF6\",\"polar\":{\"angularaxis\":{\"gridcolor\":\"white\",\"linecolor\":\"white\",\"ticks\":\"\"},\"bgcolor\":\"#E5ECF6\",\"radialaxis\":{\"gridcolor\":\"white\",\"linecolor\":\"white\",\"ticks\":\"\"}},\"scene\":{\"xaxis\":{\"backgroundcolor\":\"#E5ECF6\",\"gridcolor\":\"white\",\"gridwidth\":2,\"linecolor\":\"white\",\"showbackground\":true,\"ticks\":\"\",\"zerolinecolor\":\"white\"},\"yaxis\":{\"backgroundcolor\":\"#E5ECF6\",\"gridcolor\":\"white\",\"gridwidth\":2,\"linecolor\":\"white\",\"showbackground\":true,\"ticks\":\"\",\"zerolinecolor\":\"white\"},\"zaxis\":{\"backgroundcolor\":\"#E5ECF6\",\"gridcolor\":\"white\",\"gridwidth\":2,\"linecolor\":\"white\",\"showbackground\":true,\"ticks\":\"\",\"zerolinecolor\":\"white\"}},\"shapedefaults\":{\"line\":{\"color\":\"#2a3f5f\"}},\"ternary\":{\"aaxis\":{\"gridcolor\":\"white\",\"linecolor\":\"white\",\"ticks\":\"\"},\"baxis\":{\"gridcolor\":\"white\",\"linecolor\":\"white\",\"ticks\":\"\"},\"bgcolor\":\"#E5ECF6\",\"caxis\":{\"gridcolor\":\"white\",\"linecolor\":\"white\",\"ticks\":\"\"}},\"title\":{\"x\":0.05},\"xaxis\":{\"automargin\":true,\"gridcolor\":\"white\",\"linecolor\":\"white\",\"ticks\":\"\",\"title\":{\"standoff\":15},\"zerolinecolor\":\"white\",\"zerolinewidth\":2},\"yaxis\":{\"automargin\":true,\"gridcolor\":\"white\",\"linecolor\":\"white\",\"ticks\":\"\",\"title\":{\"standoff\":15},\"zerolinecolor\":\"white\",\"zerolinewidth\":2}}},\"xaxis\":{\"anchor\":\"y\",\"domain\":[0.0,0.2888888888888889],\"title\":{\"text\":\"Year\"}},\"xaxis2\":{\"anchor\":\"y2\",\"domain\":[0.35555555555555557,0.6444444444444445],\"title\":{\"text\":\"Year\"}},\"xaxis3\":{\"anchor\":\"y3\",\"domain\":[0.7111111111111111,1.0],\"title\":{\"text\":\"Year\"}},\"yaxis\":{\"anchor\":\"x\",\"domain\":[0.0,1.0],\"title\":{\"text\":\"Production (Mt of olefins)\"}},\"yaxis2\":{\"anchor\":\"x2\",\"domain\":[0.0,1.0],\"matches\":\"y\",\"showticklabels\":false},\"yaxis3\":{\"anchor\":\"x3\",\"domain\":[0.0,1.0],\"matches\":\"y\",\"showticklabels\":false}},                        {\"responsive\": true}                    ).then(function(){\n",
       "                            \n",
       "var gd = document.getElementById('1334940b-329e-423d-9c49-11083abe5951');\n",
       "var x = new MutationObserver(function (mutations, observer) {{\n",
       "        var display = window.getComputedStyle(gd).display;\n",
       "        if (!display || display === 'none') {{\n",
       "            console.log([gd, 'removed!']);\n",
       "            Plotly.purge(gd);\n",
       "            observer.disconnect();\n",
       "        }}\n",
       "}});\n",
       "\n",
       "// Listen for the removal of the full notebook cells\n",
       "var notebookContainer = gd.closest('#notebook-container');\n",
       "if (notebookContainer) {{\n",
       "    x.observe(notebookContainer, {childList: true});\n",
       "}}\n",
       "\n",
       "// Listen for the clearing of the current output cell\n",
       "var outputEl = gd.closest('.output');\n",
       "if (outputEl) {{\n",
       "    x.observe(outputEl, {childList: true});\n",
       "}}\n",
       "\n",
       "                        })                };                });            </script>        </div>"
      ]
     },
     "metadata": {},
     "output_type": "display_data"
    }
   ],
   "source": [
    "olefins_techs=[\"Naphta_cracking\",\"Naphta_cracking_electrified\",\"MethanolToOlefins\", \"OxidativeCouplingOfMethane\"]\n",
    "olefins_techs_colors={\"Naphta_cracking\":\"black\",\"Naphta_cracking_electrified\":\"grey\",\"MethanolToOlefins\":\"yellow\", \"OxidativeCouplingOfMethane\":\"purple\"}\n",
    "olefins_tech_name={\"Naphta cracking\":[\"Naphta_cracking\",\"Naphta_cracking_electrified\"],\n",
    "                        \"Methanol to Olefins (MTO)\":[\"MethanolToOlefins\"],\n",
    "                        \"Oxidative Coupling of Methane (OCM)\":[\"OxidativeCouplingOfMethane\"]}\n",
    "olefins_techs_name_colors={\"Naphta cracking\":\"black\",\"Methanol to Olefins (MTO)\":\"yellow\", \"Oxidative Coupling of Methane (OCM)\":\"purple\"}\n",
    "\n",
    "\n",
    "\n",
    "fig =make_subplots(rows=1, cols=3,subplot_titles=list(scen.keys()),shared_yaxes=True)\n",
    "for i in range(len(scen.keys())):\n",
    "    showlegend=[True,False,False]\n",
    "    tech_usage_flow=scen[list(scen.keys())[i]]['tech_usage_flow']\n",
    "    tech_usage=tech_usage_flow[(tech_usage_flow.Resource.isin([\"Olefins\"]))]\n",
    "    olefins_tech_usage=tech_usage[tech_usage.Technology.isin(olefins_techs)]\n",
    "    for tech in olefins_tech_name.keys():\n",
    "        u=olefins_tech_usage[olefins_tech_usage.Technology.isin(olefins_tech_name[tech])]\n",
    "        u=u[[\"Year\",\"Flow\"]].groupby(by=[\"Year\"]).sum().reset_index()\n",
    "        fig.add_trace(go.Scatter(x=u.Year,y=u.Flow*1e-6,name=tech,line=dict(width=0,color=olefins_techs_name_colors[tech]),\n",
    "                                 fillcolor=olefins_techs_name_colors[tech],hoverinfo=\"x+y\",mode='lines',stackgroup='one',showlegend=showlegend[i]),row=1, col=i+1)\n",
    "        fig.update_xaxes(title_text=\"Year\", row=1, col=i+1)\n",
    "\n",
    "fig.update_layout(#title='Olefins production per technology in EU-5+1',title_x=0.5,\n",
    "                   yaxis_title='Production (Mt of olefins)')\n",
    "fig.update_layout(\n",
    "    font=dict(\n",
    "        family=\"Times New Roman\",size=24)\n",
    "    )\n",
    "fig.update_annotations(font_size=24)\n",
    "fig.update_layout(legend=dict(\n",
    "    orientation=\"h\",\n",
    "    yanchor=\"bottom\",\n",
    "    y=1.1,\n",
    "    xanchor=\"right\",\n",
    "    x=1,font = dict(size=20)\n",
    "))\n",
    "fig.show()"
   ]
  },
  {
   "cell_type": "code",
   "execution_count": 250,
   "id": "d1a7916d",
   "metadata": {},
   "outputs": [
    {
     "data": {
      "application/vnd.plotly.v1+json": {
       "config": {
        "plotlyServerURL": "https://plot.ly"
       },
       "data": [
        {
         "fillcolor": "black",
         "hoverinfo": "x+y",
         "line": {
          "color": "black",
          "width": 0
         },
         "mode": "lines",
         "name": "Oil refining",
         "showlegend": true,
         "stackgroup": "one",
         "type": "scatter",
         "x": [
          2015,
          2016,
          2017,
          2018,
          2019,
          2020,
          2021,
          2022,
          2023,
          2024,
          2025,
          2026,
          2027,
          2028,
          2029,
          2030,
          2031,
          2032,
          2033,
          2034,
          2035,
          2036,
          2037,
          2038,
          2039,
          2040,
          2041,
          2042,
          2043,
          2044,
          2045,
          2046,
          2047,
          2048,
          2049,
          2050
         ],
         "xaxis": "x",
         "y": [
          48.22606451612903,
          48.22606451612903,
          48.22606451612903,
          48.22606451612903,
          48.22606451612903,
          48.22606451612903,
          47.58305032258064,
          46.94003612903225,
          46.29702193548387,
          45.65400774193548,
          45.01099354838709,
          44.3679793548387,
          43.724965161290314,
          43.08195096774193,
          42.43893677419354,
          41.795922580645154,
          41.15290838709677,
          40.509894193548384,
          39.866879999999995,
          39.223865806451606,
          27.86619898317646,
          17.06976222169281,
          13.097192714422421,
          10.496859185655735,
          8.809254884580465,
          7.121650583505197,
          5.438502835572036,
          4.7974602092160055,
          4.6094784201048755,
          4.421496630993744,
          4.0206370809549945,
          3.4835898345799383,
          3.1376772902409438,
          2.99522859354557,
          2.855291088831533,
          2.7058971285426234
         ],
         "yaxis": "y"
        },
        {
         "fillcolor": "green",
         "hoverinfo": "x+y",
         "line": {
          "color": "green",
          "width": 0
         },
         "mode": "lines",
         "name": "Bionaphtha",
         "showlegend": true,
         "stackgroup": "one",
         "type": "scatter",
         "x": [
          2015,
          2016,
          2017,
          2018,
          2019,
          2020,
          2021,
          2022,
          2023,
          2024,
          2025,
          2026,
          2027,
          2028,
          2029,
          2030,
          2031,
          2032,
          2033,
          2034,
          2035,
          2036,
          2037,
          2038,
          2039,
          2040,
          2041,
          2042,
          2043,
          2044,
          2045,
          2046,
          2047,
          2048,
          2049,
          2050
         ],
         "xaxis": "x",
         "y": [
          0,
          0,
          0,
          0,
          0,
          0,
          0,
          0,
          0,
          0,
          0,
          0,
          0,
          0,
          0,
          0,
          0,
          0,
          0,
          0,
          4.940459081339663,
          11.541674313425627,
          11.099053437952845,
          10.482887541429337,
          9.996044237954992,
          9.497203796214375,
          8.998335601943516,
          8.88808699979298,
          7.621756255704963,
          7.252268196895667,
          6.877446422124882,
          6.6002154055422935,
          6.346629223734689,
          5.94837557979911,
          5.711648942003938,
          5.540633778944905
         ],
         "yaxis": "y"
        },
        {
         "fillcolor": "black",
         "hoverinfo": "x+y",
         "line": {
          "color": "black",
          "width": 0
         },
         "mode": "lines",
         "name": "Oil refining",
         "showlegend": false,
         "stackgroup": "one",
         "type": "scatter",
         "x": [
          2015,
          2016,
          2017,
          2018,
          2019,
          2020,
          2021,
          2022,
          2023,
          2024,
          2025,
          2026,
          2027,
          2028,
          2029,
          2030,
          2031,
          2032,
          2033,
          2034,
          2035,
          2036,
          2037,
          2038,
          2039,
          2040,
          2041,
          2042,
          2043,
          2044,
          2045,
          2046,
          2047,
          2048,
          2049,
          2050
         ],
         "xaxis": "x2",
         "y": [
          48.22606451612903,
          48.22606451612903,
          48.22606451612903,
          48.22606451612903,
          48.22606451612903,
          48.22606451612903,
          47.58305032258064,
          46.94003612903225,
          46.29702193548387,
          45.65400774193548,
          45.01099354838709,
          44.3679793548387,
          43.724965161290314,
          43.08195096774193,
          42.43893677419354,
          41.795922580645154,
          41.15290838709677,
          40.509894193548384,
          39.866879999999995,
          39.223865806451606,
          27.746987320827703,
          16.908839714916166,
          13.005359439738305,
          10.162916428985618,
          8.446517550277612,
          6.8889329912588275,
          5.071308948127075,
          4.299260760156577,
          4.049815598866254,
          3.8003704375759306,
          3.550925276285609,
          3.3534684170520377,
          3.156011557818465,
          2.99522859354557,
          2.855291088831533,
          2.705897128542624
         ],
         "yaxis": "y2"
        },
        {
         "fillcolor": "green",
         "hoverinfo": "x+y",
         "line": {
          "color": "green",
          "width": 0
         },
         "mode": "lines",
         "name": "Bionaphtha",
         "showlegend": false,
         "stackgroup": "one",
         "type": "scatter",
         "x": [
          2015,
          2016,
          2017,
          2018,
          2019,
          2020,
          2021,
          2022,
          2023,
          2024,
          2025,
          2026,
          2027,
          2028,
          2029,
          2030,
          2031,
          2032,
          2033,
          2034,
          2035,
          2036,
          2037,
          2038,
          2039,
          2040,
          2041,
          2042,
          2043,
          2044,
          2045,
          2046,
          2047,
          2048,
          2049,
          2050
         ],
         "xaxis": "x2",
         "y": [
          0,
          0,
          0,
          0,
          0,
          0,
          0,
          0,
          0,
          0,
          0,
          0,
          0,
          0,
          0,
          0,
          0,
          0,
          0,
          0,
          5.059670743688425,
          11.425677736236505,
          10.370127403731443,
          9.876383118189741,
          9.377514923918882,
          9.090726801453926,
          8.978302689020646,
          8.638292161793826,
          7.524306780001336,
          7.156165176241573,
          6.876842063939625,
          6.553588482596343,
          6.2070405831453295,
          5.910519750958963,
          5.740852283864101,
          4.537510521620585
         ],
         "yaxis": "y2"
        },
        {
         "fillcolor": "black",
         "hoverinfo": "x+y",
         "line": {
          "color": "black",
          "width": 0
         },
         "mode": "lines",
         "name": "Oil refining",
         "showlegend": false,
         "stackgroup": "one",
         "type": "scatter",
         "x": [
          2015,
          2016,
          2017,
          2018,
          2019,
          2020,
          2021,
          2022,
          2023,
          2024,
          2025,
          2026,
          2027,
          2028,
          2029,
          2030,
          2031,
          2032,
          2033,
          2034,
          2035,
          2036,
          2037,
          2038,
          2039,
          2040,
          2041,
          2042,
          2043,
          2044,
          2045,
          2046,
          2047,
          2048,
          2049,
          2050
         ],
         "xaxis": "x3",
         "y": [
          48.22606451612903,
          48.22606451612903,
          48.22606451612903,
          48.22606451612903,
          48.22606451612903,
          48.22606451612903,
          47.58305032258064,
          46.94003612903225,
          46.29702193548387,
          45.65400774193548,
          45.01099354838709,
          44.3679793548387,
          43.724965161290314,
          43.08195096774193,
          42.43893677419354,
          41.795922580645154,
          41.15290838709677,
          40.509894193548384,
          39.866879999999995,
          39.223865806451606,
          27.746987320827703,
          16.95621213730313,
          13.238000404329705,
          10.39555739357702,
          8.679158514869016,
          7.12157395585023,
          5.3073827500486885,
          4.541604528481441,
          4.29559220452133,
          4.049579880561217,
          3.648897204683641,
          3.31993791461296,
          2.729775249385912,
          1.9955612903225788,
          0.9977806451612885,
          0
         ],
         "yaxis": "y3"
        },
        {
         "fillcolor": "green",
         "hoverinfo": "x+y",
         "line": {
          "color": "green",
          "width": 0
         },
         "mode": "lines",
         "name": "Bionaphtha",
         "showlegend": false,
         "stackgroup": "one",
         "type": "scatter",
         "x": [
          2015,
          2016,
          2017,
          2018,
          2019,
          2020,
          2021,
          2022,
          2023,
          2024,
          2025,
          2026,
          2027,
          2028,
          2029,
          2030,
          2031,
          2032,
          2033,
          2034,
          2035,
          2036,
          2037,
          2038,
          2039,
          2040,
          2041,
          2042,
          2043,
          2044,
          2045,
          2046,
          2047,
          2048,
          2049,
          2050
         ],
         "xaxis": "x3",
         "y": [
          0,
          0,
          0,
          0,
          0,
          0,
          0,
          0,
          0,
          0,
          0,
          0,
          0,
          0,
          0,
          0,
          0,
          0,
          0,
          0,
          5.059670743688423,
          11.37830531384954,
          10.37435994219111,
          9.876355365659496,
          9.379560651392133,
          9.090726801453926,
          8.978302689020646,
          8.638292161793826,
          7.524306780001337,
          7.156165176241573,
          6.876842063939626,
          6.553588482596342,
          6.2070405831453295,
          5.910519750958962,
          5.740852283864101,
          4.537510521620586
         ],
         "yaxis": "y3"
        }
       ],
       "layout": {
        "annotations": [
         {
          "font": {
           "size": 24
          },
          "showarrow": false,
          "text": "High electricity price",
          "x": 0.14444444444444446,
          "xanchor": "center",
          "xref": "paper",
          "y": 1,
          "yanchor": "bottom",
          "yref": "paper"
         },
         {
          "font": {
           "size": 24
          },
          "showarrow": false,
          "text": "Reference",
          "x": 0.5,
          "xanchor": "center",
          "xref": "paper",
          "y": 1,
          "yanchor": "bottom",
          "yref": "paper"
         },
         {
          "font": {
           "size": 24
          },
          "showarrow": false,
          "text": "Fossil phase-out",
          "x": 0.8555555555555556,
          "xanchor": "center",
          "xref": "paper",
          "y": 1,
          "yanchor": "bottom",
          "yref": "paper"
         }
        ],
        "font": {
         "family": "Times New Roman",
         "size": 24
        },
        "legend": {
         "font": {
          "size": 20
         },
         "orientation": "h",
         "x": 0.65,
         "xanchor": "right",
         "y": 1.1,
         "yanchor": "bottom"
        },
        "template": {
         "data": {
          "bar": [
           {
            "error_x": {
             "color": "#2a3f5f"
            },
            "error_y": {
             "color": "#2a3f5f"
            },
            "marker": {
             "line": {
              "color": "#E5ECF6",
              "width": 0.5
             },
             "pattern": {
              "fillmode": "overlay",
              "size": 10,
              "solidity": 0.2
             }
            },
            "type": "bar"
           }
          ],
          "barpolar": [
           {
            "marker": {
             "line": {
              "color": "#E5ECF6",
              "width": 0.5
             },
             "pattern": {
              "fillmode": "overlay",
              "size": 10,
              "solidity": 0.2
             }
            },
            "type": "barpolar"
           }
          ],
          "carpet": [
           {
            "aaxis": {
             "endlinecolor": "#2a3f5f",
             "gridcolor": "white",
             "linecolor": "white",
             "minorgridcolor": "white",
             "startlinecolor": "#2a3f5f"
            },
            "baxis": {
             "endlinecolor": "#2a3f5f",
             "gridcolor": "white",
             "linecolor": "white",
             "minorgridcolor": "white",
             "startlinecolor": "#2a3f5f"
            },
            "type": "carpet"
           }
          ],
          "choropleth": [
           {
            "colorbar": {
             "outlinewidth": 0,
             "ticks": ""
            },
            "type": "choropleth"
           }
          ],
          "contour": [
           {
            "colorbar": {
             "outlinewidth": 0,
             "ticks": ""
            },
            "colorscale": [
             [
              0,
              "#0d0887"
             ],
             [
              0.1111111111111111,
              "#46039f"
             ],
             [
              0.2222222222222222,
              "#7201a8"
             ],
             [
              0.3333333333333333,
              "#9c179e"
             ],
             [
              0.4444444444444444,
              "#bd3786"
             ],
             [
              0.5555555555555556,
              "#d8576b"
             ],
             [
              0.6666666666666666,
              "#ed7953"
             ],
             [
              0.7777777777777778,
              "#fb9f3a"
             ],
             [
              0.8888888888888888,
              "#fdca26"
             ],
             [
              1,
              "#f0f921"
             ]
            ],
            "type": "contour"
           }
          ],
          "contourcarpet": [
           {
            "colorbar": {
             "outlinewidth": 0,
             "ticks": ""
            },
            "type": "contourcarpet"
           }
          ],
          "heatmap": [
           {
            "colorbar": {
             "outlinewidth": 0,
             "ticks": ""
            },
            "colorscale": [
             [
              0,
              "#0d0887"
             ],
             [
              0.1111111111111111,
              "#46039f"
             ],
             [
              0.2222222222222222,
              "#7201a8"
             ],
             [
              0.3333333333333333,
              "#9c179e"
             ],
             [
              0.4444444444444444,
              "#bd3786"
             ],
             [
              0.5555555555555556,
              "#d8576b"
             ],
             [
              0.6666666666666666,
              "#ed7953"
             ],
             [
              0.7777777777777778,
              "#fb9f3a"
             ],
             [
              0.8888888888888888,
              "#fdca26"
             ],
             [
              1,
              "#f0f921"
             ]
            ],
            "type": "heatmap"
           }
          ],
          "heatmapgl": [
           {
            "colorbar": {
             "outlinewidth": 0,
             "ticks": ""
            },
            "colorscale": [
             [
              0,
              "#0d0887"
             ],
             [
              0.1111111111111111,
              "#46039f"
             ],
             [
              0.2222222222222222,
              "#7201a8"
             ],
             [
              0.3333333333333333,
              "#9c179e"
             ],
             [
              0.4444444444444444,
              "#bd3786"
             ],
             [
              0.5555555555555556,
              "#d8576b"
             ],
             [
              0.6666666666666666,
              "#ed7953"
             ],
             [
              0.7777777777777778,
              "#fb9f3a"
             ],
             [
              0.8888888888888888,
              "#fdca26"
             ],
             [
              1,
              "#f0f921"
             ]
            ],
            "type": "heatmapgl"
           }
          ],
          "histogram": [
           {
            "marker": {
             "pattern": {
              "fillmode": "overlay",
              "size": 10,
              "solidity": 0.2
             }
            },
            "type": "histogram"
           }
          ],
          "histogram2d": [
           {
            "colorbar": {
             "outlinewidth": 0,
             "ticks": ""
            },
            "colorscale": [
             [
              0,
              "#0d0887"
             ],
             [
              0.1111111111111111,
              "#46039f"
             ],
             [
              0.2222222222222222,
              "#7201a8"
             ],
             [
              0.3333333333333333,
              "#9c179e"
             ],
             [
              0.4444444444444444,
              "#bd3786"
             ],
             [
              0.5555555555555556,
              "#d8576b"
             ],
             [
              0.6666666666666666,
              "#ed7953"
             ],
             [
              0.7777777777777778,
              "#fb9f3a"
             ],
             [
              0.8888888888888888,
              "#fdca26"
             ],
             [
              1,
              "#f0f921"
             ]
            ],
            "type": "histogram2d"
           }
          ],
          "histogram2dcontour": [
           {
            "colorbar": {
             "outlinewidth": 0,
             "ticks": ""
            },
            "colorscale": [
             [
              0,
              "#0d0887"
             ],
             [
              0.1111111111111111,
              "#46039f"
             ],
             [
              0.2222222222222222,
              "#7201a8"
             ],
             [
              0.3333333333333333,
              "#9c179e"
             ],
             [
              0.4444444444444444,
              "#bd3786"
             ],
             [
              0.5555555555555556,
              "#d8576b"
             ],
             [
              0.6666666666666666,
              "#ed7953"
             ],
             [
              0.7777777777777778,
              "#fb9f3a"
             ],
             [
              0.8888888888888888,
              "#fdca26"
             ],
             [
              1,
              "#f0f921"
             ]
            ],
            "type": "histogram2dcontour"
           }
          ],
          "mesh3d": [
           {
            "colorbar": {
             "outlinewidth": 0,
             "ticks": ""
            },
            "type": "mesh3d"
           }
          ],
          "parcoords": [
           {
            "line": {
             "colorbar": {
              "outlinewidth": 0,
              "ticks": ""
             }
            },
            "type": "parcoords"
           }
          ],
          "pie": [
           {
            "automargin": true,
            "type": "pie"
           }
          ],
          "scatter": [
           {
            "marker": {
             "colorbar": {
              "outlinewidth": 0,
              "ticks": ""
             }
            },
            "type": "scatter"
           }
          ],
          "scatter3d": [
           {
            "line": {
             "colorbar": {
              "outlinewidth": 0,
              "ticks": ""
             }
            },
            "marker": {
             "colorbar": {
              "outlinewidth": 0,
              "ticks": ""
             }
            },
            "type": "scatter3d"
           }
          ],
          "scattercarpet": [
           {
            "marker": {
             "colorbar": {
              "outlinewidth": 0,
              "ticks": ""
             }
            },
            "type": "scattercarpet"
           }
          ],
          "scattergeo": [
           {
            "marker": {
             "colorbar": {
              "outlinewidth": 0,
              "ticks": ""
             }
            },
            "type": "scattergeo"
           }
          ],
          "scattergl": [
           {
            "marker": {
             "colorbar": {
              "outlinewidth": 0,
              "ticks": ""
             }
            },
            "type": "scattergl"
           }
          ],
          "scattermapbox": [
           {
            "marker": {
             "colorbar": {
              "outlinewidth": 0,
              "ticks": ""
             }
            },
            "type": "scattermapbox"
           }
          ],
          "scatterpolar": [
           {
            "marker": {
             "colorbar": {
              "outlinewidth": 0,
              "ticks": ""
             }
            },
            "type": "scatterpolar"
           }
          ],
          "scatterpolargl": [
           {
            "marker": {
             "colorbar": {
              "outlinewidth": 0,
              "ticks": ""
             }
            },
            "type": "scatterpolargl"
           }
          ],
          "scatterternary": [
           {
            "marker": {
             "colorbar": {
              "outlinewidth": 0,
              "ticks": ""
             }
            },
            "type": "scatterternary"
           }
          ],
          "surface": [
           {
            "colorbar": {
             "outlinewidth": 0,
             "ticks": ""
            },
            "colorscale": [
             [
              0,
              "#0d0887"
             ],
             [
              0.1111111111111111,
              "#46039f"
             ],
             [
              0.2222222222222222,
              "#7201a8"
             ],
             [
              0.3333333333333333,
              "#9c179e"
             ],
             [
              0.4444444444444444,
              "#bd3786"
             ],
             [
              0.5555555555555556,
              "#d8576b"
             ],
             [
              0.6666666666666666,
              "#ed7953"
             ],
             [
              0.7777777777777778,
              "#fb9f3a"
             ],
             [
              0.8888888888888888,
              "#fdca26"
             ],
             [
              1,
              "#f0f921"
             ]
            ],
            "type": "surface"
           }
          ],
          "table": [
           {
            "cells": {
             "fill": {
              "color": "#EBF0F8"
             },
             "line": {
              "color": "white"
             }
            },
            "header": {
             "fill": {
              "color": "#C8D4E3"
             },
             "line": {
              "color": "white"
             }
            },
            "type": "table"
           }
          ]
         },
         "layout": {
          "annotationdefaults": {
           "arrowcolor": "#2a3f5f",
           "arrowhead": 0,
           "arrowwidth": 1
          },
          "autotypenumbers": "strict",
          "coloraxis": {
           "colorbar": {
            "outlinewidth": 0,
            "ticks": ""
           }
          },
          "colorscale": {
           "diverging": [
            [
             0,
             "#8e0152"
            ],
            [
             0.1,
             "#c51b7d"
            ],
            [
             0.2,
             "#de77ae"
            ],
            [
             0.3,
             "#f1b6da"
            ],
            [
             0.4,
             "#fde0ef"
            ],
            [
             0.5,
             "#f7f7f7"
            ],
            [
             0.6,
             "#e6f5d0"
            ],
            [
             0.7,
             "#b8e186"
            ],
            [
             0.8,
             "#7fbc41"
            ],
            [
             0.9,
             "#4d9221"
            ],
            [
             1,
             "#276419"
            ]
           ],
           "sequential": [
            [
             0,
             "#0d0887"
            ],
            [
             0.1111111111111111,
             "#46039f"
            ],
            [
             0.2222222222222222,
             "#7201a8"
            ],
            [
             0.3333333333333333,
             "#9c179e"
            ],
            [
             0.4444444444444444,
             "#bd3786"
            ],
            [
             0.5555555555555556,
             "#d8576b"
            ],
            [
             0.6666666666666666,
             "#ed7953"
            ],
            [
             0.7777777777777778,
             "#fb9f3a"
            ],
            [
             0.8888888888888888,
             "#fdca26"
            ],
            [
             1,
             "#f0f921"
            ]
           ],
           "sequentialminus": [
            [
             0,
             "#0d0887"
            ],
            [
             0.1111111111111111,
             "#46039f"
            ],
            [
             0.2222222222222222,
             "#7201a8"
            ],
            [
             0.3333333333333333,
             "#9c179e"
            ],
            [
             0.4444444444444444,
             "#bd3786"
            ],
            [
             0.5555555555555556,
             "#d8576b"
            ],
            [
             0.6666666666666666,
             "#ed7953"
            ],
            [
             0.7777777777777778,
             "#fb9f3a"
            ],
            [
             0.8888888888888888,
             "#fdca26"
            ],
            [
             1,
             "#f0f921"
            ]
           ]
          },
          "colorway": [
           "#636efa",
           "#EF553B",
           "#00cc96",
           "#ab63fa",
           "#FFA15A",
           "#19d3f3",
           "#FF6692",
           "#B6E880",
           "#FF97FF",
           "#FECB52"
          ],
          "font": {
           "color": "#2a3f5f"
          },
          "geo": {
           "bgcolor": "white",
           "lakecolor": "white",
           "landcolor": "#E5ECF6",
           "showlakes": true,
           "showland": true,
           "subunitcolor": "white"
          },
          "hoverlabel": {
           "align": "left"
          },
          "hovermode": "closest",
          "mapbox": {
           "style": "light"
          },
          "paper_bgcolor": "white",
          "plot_bgcolor": "#E5ECF6",
          "polar": {
           "angularaxis": {
            "gridcolor": "white",
            "linecolor": "white",
            "ticks": ""
           },
           "bgcolor": "#E5ECF6",
           "radialaxis": {
            "gridcolor": "white",
            "linecolor": "white",
            "ticks": ""
           }
          },
          "scene": {
           "xaxis": {
            "backgroundcolor": "#E5ECF6",
            "gridcolor": "white",
            "gridwidth": 2,
            "linecolor": "white",
            "showbackground": true,
            "ticks": "",
            "zerolinecolor": "white"
           },
           "yaxis": {
            "backgroundcolor": "#E5ECF6",
            "gridcolor": "white",
            "gridwidth": 2,
            "linecolor": "white",
            "showbackground": true,
            "ticks": "",
            "zerolinecolor": "white"
           },
           "zaxis": {
            "backgroundcolor": "#E5ECF6",
            "gridcolor": "white",
            "gridwidth": 2,
            "linecolor": "white",
            "showbackground": true,
            "ticks": "",
            "zerolinecolor": "white"
           }
          },
          "shapedefaults": {
           "line": {
            "color": "#2a3f5f"
           }
          },
          "ternary": {
           "aaxis": {
            "gridcolor": "white",
            "linecolor": "white",
            "ticks": ""
           },
           "baxis": {
            "gridcolor": "white",
            "linecolor": "white",
            "ticks": ""
           },
           "bgcolor": "#E5ECF6",
           "caxis": {
            "gridcolor": "white",
            "linecolor": "white",
            "ticks": ""
           }
          },
          "title": {
           "x": 0.05
          },
          "xaxis": {
           "automargin": true,
           "gridcolor": "white",
           "linecolor": "white",
           "ticks": "",
           "title": {
            "standoff": 15
           },
           "zerolinecolor": "white",
           "zerolinewidth": 2
          },
          "yaxis": {
           "automargin": true,
           "gridcolor": "white",
           "linecolor": "white",
           "ticks": "",
           "title": {
            "standoff": 15
           },
           "zerolinecolor": "white",
           "zerolinewidth": 2
          }
         }
        },
        "xaxis": {
         "anchor": "y",
         "domain": [
          0,
          0.2888888888888889
         ],
         "title": {
          "text": "Year"
         }
        },
        "xaxis2": {
         "anchor": "y2",
         "domain": [
          0.35555555555555557,
          0.6444444444444445
         ],
         "title": {
          "text": "Year"
         }
        },
        "xaxis3": {
         "anchor": "y3",
         "domain": [
          0.7111111111111111,
          1
         ],
         "title": {
          "text": "Year"
         }
        },
        "yaxis": {
         "anchor": "x",
         "domain": [
          0,
          1
         ],
         "title": {
          "text": "Production (Mt of naphtha)"
         }
        },
        "yaxis2": {
         "anchor": "x2",
         "domain": [
          0,
          1
         ],
         "matches": "y",
         "showticklabels": false
        },
        "yaxis3": {
         "anchor": "x3",
         "domain": [
          0,
          1
         ],
         "matches": "y",
         "showticklabels": false
        }
       }
      },
      "text/html": [
       "<div>                            <div id=\"e0526560-cd3d-45aa-8ec7-2468c1a2f22a\" class=\"plotly-graph-div\" style=\"height:525px; width:100%;\"></div>            <script type=\"text/javascript\">                require([\"plotly\"], function(Plotly) {                    window.PLOTLYENV=window.PLOTLYENV || {};                                    if (document.getElementById(\"e0526560-cd3d-45aa-8ec7-2468c1a2f22a\")) {                    Plotly.newPlot(                        \"e0526560-cd3d-45aa-8ec7-2468c1a2f22a\",                        [{\"fillcolor\":\"black\",\"hoverinfo\":\"x+y\",\"line\":{\"color\":\"black\",\"width\":0},\"mode\":\"lines\",\"name\":\"Oil refining\",\"showlegend\":true,\"stackgroup\":\"one\",\"type\":\"scatter\",\"x\":[2015,2016,2017,2018,2019,2020,2021,2022,2023,2024,2025,2026,2027,2028,2029,2030,2031,2032,2033,2034,2035,2036,2037,2038,2039,2040,2041,2042,2043,2044,2045,2046,2047,2048,2049,2050],\"xaxis\":\"x\",\"y\":[48.22606451612903,48.22606451612903,48.22606451612903,48.22606451612903,48.22606451612903,48.22606451612903,47.58305032258064,46.94003612903225,46.29702193548387,45.65400774193548,45.01099354838709,44.3679793548387,43.724965161290314,43.08195096774193,42.43893677419354,41.795922580645154,41.15290838709677,40.509894193548384,39.866879999999995,39.223865806451606,27.86619898317646,17.06976222169281,13.097192714422421,10.496859185655735,8.809254884580465,7.121650583505197,5.438502835572036,4.7974602092160055,4.6094784201048755,4.421496630993744,4.0206370809549945,3.4835898345799383,3.1376772902409438,2.99522859354557,2.855291088831533,2.7058971285426234],\"yaxis\":\"y\"},{\"fillcolor\":\"green\",\"hoverinfo\":\"x+y\",\"line\":{\"color\":\"green\",\"width\":0},\"mode\":\"lines\",\"name\":\"Bionaphtha\",\"showlegend\":true,\"stackgroup\":\"one\",\"type\":\"scatter\",\"x\":[2015,2016,2017,2018,2019,2020,2021,2022,2023,2024,2025,2026,2027,2028,2029,2030,2031,2032,2033,2034,2035,2036,2037,2038,2039,2040,2041,2042,2043,2044,2045,2046,2047,2048,2049,2050],\"xaxis\":\"x\",\"y\":[0.0,0.0,0.0,0.0,0.0,0.0,0.0,0.0,0.0,0.0,0.0,0.0,0.0,0.0,0.0,0.0,0.0,0.0,0.0,0.0,4.940459081339663,11.541674313425627,11.099053437952845,10.482887541429337,9.996044237954992,9.497203796214375,8.998335601943516,8.88808699979298,7.621756255704963,7.252268196895667,6.877446422124882,6.6002154055422935,6.346629223734689,5.94837557979911,5.711648942003938,5.540633778944905],\"yaxis\":\"y\"},{\"fillcolor\":\"black\",\"hoverinfo\":\"x+y\",\"line\":{\"color\":\"black\",\"width\":0},\"mode\":\"lines\",\"name\":\"Oil refining\",\"showlegend\":false,\"stackgroup\":\"one\",\"type\":\"scatter\",\"x\":[2015,2016,2017,2018,2019,2020,2021,2022,2023,2024,2025,2026,2027,2028,2029,2030,2031,2032,2033,2034,2035,2036,2037,2038,2039,2040,2041,2042,2043,2044,2045,2046,2047,2048,2049,2050],\"xaxis\":\"x2\",\"y\":[48.22606451612903,48.22606451612903,48.22606451612903,48.22606451612903,48.22606451612903,48.22606451612903,47.58305032258064,46.94003612903225,46.29702193548387,45.65400774193548,45.01099354838709,44.3679793548387,43.724965161290314,43.08195096774193,42.43893677419354,41.795922580645154,41.15290838709677,40.509894193548384,39.866879999999995,39.223865806451606,27.746987320827703,16.908839714916166,13.005359439738305,10.162916428985618,8.446517550277612,6.8889329912588275,5.071308948127075,4.299260760156577,4.049815598866254,3.8003704375759306,3.550925276285609,3.3534684170520377,3.156011557818465,2.99522859354557,2.855291088831533,2.705897128542624],\"yaxis\":\"y2\"},{\"fillcolor\":\"green\",\"hoverinfo\":\"x+y\",\"line\":{\"color\":\"green\",\"width\":0},\"mode\":\"lines\",\"name\":\"Bionaphtha\",\"showlegend\":false,\"stackgroup\":\"one\",\"type\":\"scatter\",\"x\":[2015,2016,2017,2018,2019,2020,2021,2022,2023,2024,2025,2026,2027,2028,2029,2030,2031,2032,2033,2034,2035,2036,2037,2038,2039,2040,2041,2042,2043,2044,2045,2046,2047,2048,2049,2050],\"xaxis\":\"x2\",\"y\":[0.0,0.0,0.0,0.0,0.0,0.0,0.0,0.0,0.0,0.0,0.0,0.0,0.0,0.0,0.0,0.0,0.0,0.0,0.0,0.0,5.059670743688425,11.425677736236505,10.370127403731443,9.876383118189741,9.377514923918882,9.090726801453926,8.978302689020646,8.638292161793826,7.524306780001336,7.156165176241573,6.876842063939625,6.553588482596343,6.2070405831453295,5.910519750958963,5.740852283864101,4.537510521620585],\"yaxis\":\"y2\"},{\"fillcolor\":\"black\",\"hoverinfo\":\"x+y\",\"line\":{\"color\":\"black\",\"width\":0},\"mode\":\"lines\",\"name\":\"Oil refining\",\"showlegend\":false,\"stackgroup\":\"one\",\"type\":\"scatter\",\"x\":[2015,2016,2017,2018,2019,2020,2021,2022,2023,2024,2025,2026,2027,2028,2029,2030,2031,2032,2033,2034,2035,2036,2037,2038,2039,2040,2041,2042,2043,2044,2045,2046,2047,2048,2049,2050],\"xaxis\":\"x3\",\"y\":[48.22606451612903,48.22606451612903,48.22606451612903,48.22606451612903,48.22606451612903,48.22606451612903,47.58305032258064,46.94003612903225,46.29702193548387,45.65400774193548,45.01099354838709,44.3679793548387,43.724965161290314,43.08195096774193,42.43893677419354,41.795922580645154,41.15290838709677,40.509894193548384,39.866879999999995,39.223865806451606,27.746987320827703,16.95621213730313,13.238000404329705,10.39555739357702,8.679158514869016,7.12157395585023,5.3073827500486885,4.541604528481441,4.29559220452133,4.049579880561217,3.648897204683641,3.31993791461296,2.729775249385912,1.9955612903225788,0.9977806451612885,0.0],\"yaxis\":\"y3\"},{\"fillcolor\":\"green\",\"hoverinfo\":\"x+y\",\"line\":{\"color\":\"green\",\"width\":0},\"mode\":\"lines\",\"name\":\"Bionaphtha\",\"showlegend\":false,\"stackgroup\":\"one\",\"type\":\"scatter\",\"x\":[2015,2016,2017,2018,2019,2020,2021,2022,2023,2024,2025,2026,2027,2028,2029,2030,2031,2032,2033,2034,2035,2036,2037,2038,2039,2040,2041,2042,2043,2044,2045,2046,2047,2048,2049,2050],\"xaxis\":\"x3\",\"y\":[0.0,0.0,0.0,0.0,0.0,0.0,0.0,0.0,0.0,0.0,0.0,0.0,0.0,0.0,0.0,0.0,0.0,0.0,0.0,0.0,5.059670743688423,11.37830531384954,10.37435994219111,9.876355365659496,9.379560651392133,9.090726801453926,8.978302689020646,8.638292161793826,7.524306780001337,7.156165176241573,6.876842063939626,6.553588482596342,6.2070405831453295,5.910519750958962,5.740852283864101,4.537510521620586],\"yaxis\":\"y3\"}],                        {\"annotations\":[{\"font\":{\"size\":24},\"showarrow\":false,\"text\":\"High electricity price\",\"x\":0.14444444444444446,\"xanchor\":\"center\",\"xref\":\"paper\",\"y\":1.0,\"yanchor\":\"bottom\",\"yref\":\"paper\"},{\"font\":{\"size\":24},\"showarrow\":false,\"text\":\"Reference\",\"x\":0.5,\"xanchor\":\"center\",\"xref\":\"paper\",\"y\":1.0,\"yanchor\":\"bottom\",\"yref\":\"paper\"},{\"font\":{\"size\":24},\"showarrow\":false,\"text\":\"Fossil phase-out\",\"x\":0.8555555555555556,\"xanchor\":\"center\",\"xref\":\"paper\",\"y\":1.0,\"yanchor\":\"bottom\",\"yref\":\"paper\"}],\"font\":{\"family\":\"Times New Roman\",\"size\":24},\"legend\":{\"font\":{\"size\":20},\"orientation\":\"h\",\"x\":0.65,\"xanchor\":\"right\",\"y\":1.1,\"yanchor\":\"bottom\"},\"template\":{\"data\":{\"bar\":[{\"error_x\":{\"color\":\"#2a3f5f\"},\"error_y\":{\"color\":\"#2a3f5f\"},\"marker\":{\"line\":{\"color\":\"#E5ECF6\",\"width\":0.5},\"pattern\":{\"fillmode\":\"overlay\",\"size\":10,\"solidity\":0.2}},\"type\":\"bar\"}],\"barpolar\":[{\"marker\":{\"line\":{\"color\":\"#E5ECF6\",\"width\":0.5},\"pattern\":{\"fillmode\":\"overlay\",\"size\":10,\"solidity\":0.2}},\"type\":\"barpolar\"}],\"carpet\":[{\"aaxis\":{\"endlinecolor\":\"#2a3f5f\",\"gridcolor\":\"white\",\"linecolor\":\"white\",\"minorgridcolor\":\"white\",\"startlinecolor\":\"#2a3f5f\"},\"baxis\":{\"endlinecolor\":\"#2a3f5f\",\"gridcolor\":\"white\",\"linecolor\":\"white\",\"minorgridcolor\":\"white\",\"startlinecolor\":\"#2a3f5f\"},\"type\":\"carpet\"}],\"choropleth\":[{\"colorbar\":{\"outlinewidth\":0,\"ticks\":\"\"},\"type\":\"choropleth\"}],\"contour\":[{\"colorbar\":{\"outlinewidth\":0,\"ticks\":\"\"},\"colorscale\":[[0.0,\"#0d0887\"],[0.1111111111111111,\"#46039f\"],[0.2222222222222222,\"#7201a8\"],[0.3333333333333333,\"#9c179e\"],[0.4444444444444444,\"#bd3786\"],[0.5555555555555556,\"#d8576b\"],[0.6666666666666666,\"#ed7953\"],[0.7777777777777778,\"#fb9f3a\"],[0.8888888888888888,\"#fdca26\"],[1.0,\"#f0f921\"]],\"type\":\"contour\"}],\"contourcarpet\":[{\"colorbar\":{\"outlinewidth\":0,\"ticks\":\"\"},\"type\":\"contourcarpet\"}],\"heatmap\":[{\"colorbar\":{\"outlinewidth\":0,\"ticks\":\"\"},\"colorscale\":[[0.0,\"#0d0887\"],[0.1111111111111111,\"#46039f\"],[0.2222222222222222,\"#7201a8\"],[0.3333333333333333,\"#9c179e\"],[0.4444444444444444,\"#bd3786\"],[0.5555555555555556,\"#d8576b\"],[0.6666666666666666,\"#ed7953\"],[0.7777777777777778,\"#fb9f3a\"],[0.8888888888888888,\"#fdca26\"],[1.0,\"#f0f921\"]],\"type\":\"heatmap\"}],\"heatmapgl\":[{\"colorbar\":{\"outlinewidth\":0,\"ticks\":\"\"},\"colorscale\":[[0.0,\"#0d0887\"],[0.1111111111111111,\"#46039f\"],[0.2222222222222222,\"#7201a8\"],[0.3333333333333333,\"#9c179e\"],[0.4444444444444444,\"#bd3786\"],[0.5555555555555556,\"#d8576b\"],[0.6666666666666666,\"#ed7953\"],[0.7777777777777778,\"#fb9f3a\"],[0.8888888888888888,\"#fdca26\"],[1.0,\"#f0f921\"]],\"type\":\"heatmapgl\"}],\"histogram\":[{\"marker\":{\"pattern\":{\"fillmode\":\"overlay\",\"size\":10,\"solidity\":0.2}},\"type\":\"histogram\"}],\"histogram2d\":[{\"colorbar\":{\"outlinewidth\":0,\"ticks\":\"\"},\"colorscale\":[[0.0,\"#0d0887\"],[0.1111111111111111,\"#46039f\"],[0.2222222222222222,\"#7201a8\"],[0.3333333333333333,\"#9c179e\"],[0.4444444444444444,\"#bd3786\"],[0.5555555555555556,\"#d8576b\"],[0.6666666666666666,\"#ed7953\"],[0.7777777777777778,\"#fb9f3a\"],[0.8888888888888888,\"#fdca26\"],[1.0,\"#f0f921\"]],\"type\":\"histogram2d\"}],\"histogram2dcontour\":[{\"colorbar\":{\"outlinewidth\":0,\"ticks\":\"\"},\"colorscale\":[[0.0,\"#0d0887\"],[0.1111111111111111,\"#46039f\"],[0.2222222222222222,\"#7201a8\"],[0.3333333333333333,\"#9c179e\"],[0.4444444444444444,\"#bd3786\"],[0.5555555555555556,\"#d8576b\"],[0.6666666666666666,\"#ed7953\"],[0.7777777777777778,\"#fb9f3a\"],[0.8888888888888888,\"#fdca26\"],[1.0,\"#f0f921\"]],\"type\":\"histogram2dcontour\"}],\"mesh3d\":[{\"colorbar\":{\"outlinewidth\":0,\"ticks\":\"\"},\"type\":\"mesh3d\"}],\"parcoords\":[{\"line\":{\"colorbar\":{\"outlinewidth\":0,\"ticks\":\"\"}},\"type\":\"parcoords\"}],\"pie\":[{\"automargin\":true,\"type\":\"pie\"}],\"scatter\":[{\"marker\":{\"colorbar\":{\"outlinewidth\":0,\"ticks\":\"\"}},\"type\":\"scatter\"}],\"scatter3d\":[{\"line\":{\"colorbar\":{\"outlinewidth\":0,\"ticks\":\"\"}},\"marker\":{\"colorbar\":{\"outlinewidth\":0,\"ticks\":\"\"}},\"type\":\"scatter3d\"}],\"scattercarpet\":[{\"marker\":{\"colorbar\":{\"outlinewidth\":0,\"ticks\":\"\"}},\"type\":\"scattercarpet\"}],\"scattergeo\":[{\"marker\":{\"colorbar\":{\"outlinewidth\":0,\"ticks\":\"\"}},\"type\":\"scattergeo\"}],\"scattergl\":[{\"marker\":{\"colorbar\":{\"outlinewidth\":0,\"ticks\":\"\"}},\"type\":\"scattergl\"}],\"scattermapbox\":[{\"marker\":{\"colorbar\":{\"outlinewidth\":0,\"ticks\":\"\"}},\"type\":\"scattermapbox\"}],\"scatterpolar\":[{\"marker\":{\"colorbar\":{\"outlinewidth\":0,\"ticks\":\"\"}},\"type\":\"scatterpolar\"}],\"scatterpolargl\":[{\"marker\":{\"colorbar\":{\"outlinewidth\":0,\"ticks\":\"\"}},\"type\":\"scatterpolargl\"}],\"scatterternary\":[{\"marker\":{\"colorbar\":{\"outlinewidth\":0,\"ticks\":\"\"}},\"type\":\"scatterternary\"}],\"surface\":[{\"colorbar\":{\"outlinewidth\":0,\"ticks\":\"\"},\"colorscale\":[[0.0,\"#0d0887\"],[0.1111111111111111,\"#46039f\"],[0.2222222222222222,\"#7201a8\"],[0.3333333333333333,\"#9c179e\"],[0.4444444444444444,\"#bd3786\"],[0.5555555555555556,\"#d8576b\"],[0.6666666666666666,\"#ed7953\"],[0.7777777777777778,\"#fb9f3a\"],[0.8888888888888888,\"#fdca26\"],[1.0,\"#f0f921\"]],\"type\":\"surface\"}],\"table\":[{\"cells\":{\"fill\":{\"color\":\"#EBF0F8\"},\"line\":{\"color\":\"white\"}},\"header\":{\"fill\":{\"color\":\"#C8D4E3\"},\"line\":{\"color\":\"white\"}},\"type\":\"table\"}]},\"layout\":{\"annotationdefaults\":{\"arrowcolor\":\"#2a3f5f\",\"arrowhead\":0,\"arrowwidth\":1},\"autotypenumbers\":\"strict\",\"coloraxis\":{\"colorbar\":{\"outlinewidth\":0,\"ticks\":\"\"}},\"colorscale\":{\"diverging\":[[0,\"#8e0152\"],[0.1,\"#c51b7d\"],[0.2,\"#de77ae\"],[0.3,\"#f1b6da\"],[0.4,\"#fde0ef\"],[0.5,\"#f7f7f7\"],[0.6,\"#e6f5d0\"],[0.7,\"#b8e186\"],[0.8,\"#7fbc41\"],[0.9,\"#4d9221\"],[1,\"#276419\"]],\"sequential\":[[0.0,\"#0d0887\"],[0.1111111111111111,\"#46039f\"],[0.2222222222222222,\"#7201a8\"],[0.3333333333333333,\"#9c179e\"],[0.4444444444444444,\"#bd3786\"],[0.5555555555555556,\"#d8576b\"],[0.6666666666666666,\"#ed7953\"],[0.7777777777777778,\"#fb9f3a\"],[0.8888888888888888,\"#fdca26\"],[1.0,\"#f0f921\"]],\"sequentialminus\":[[0.0,\"#0d0887\"],[0.1111111111111111,\"#46039f\"],[0.2222222222222222,\"#7201a8\"],[0.3333333333333333,\"#9c179e\"],[0.4444444444444444,\"#bd3786\"],[0.5555555555555556,\"#d8576b\"],[0.6666666666666666,\"#ed7953\"],[0.7777777777777778,\"#fb9f3a\"],[0.8888888888888888,\"#fdca26\"],[1.0,\"#f0f921\"]]},\"colorway\":[\"#636efa\",\"#EF553B\",\"#00cc96\",\"#ab63fa\",\"#FFA15A\",\"#19d3f3\",\"#FF6692\",\"#B6E880\",\"#FF97FF\",\"#FECB52\"],\"font\":{\"color\":\"#2a3f5f\"},\"geo\":{\"bgcolor\":\"white\",\"lakecolor\":\"white\",\"landcolor\":\"#E5ECF6\",\"showlakes\":true,\"showland\":true,\"subunitcolor\":\"white\"},\"hoverlabel\":{\"align\":\"left\"},\"hovermode\":\"closest\",\"mapbox\":{\"style\":\"light\"},\"paper_bgcolor\":\"white\",\"plot_bgcolor\":\"#E5ECF6\",\"polar\":{\"angularaxis\":{\"gridcolor\":\"white\",\"linecolor\":\"white\",\"ticks\":\"\"},\"bgcolor\":\"#E5ECF6\",\"radialaxis\":{\"gridcolor\":\"white\",\"linecolor\":\"white\",\"ticks\":\"\"}},\"scene\":{\"xaxis\":{\"backgroundcolor\":\"#E5ECF6\",\"gridcolor\":\"white\",\"gridwidth\":2,\"linecolor\":\"white\",\"showbackground\":true,\"ticks\":\"\",\"zerolinecolor\":\"white\"},\"yaxis\":{\"backgroundcolor\":\"#E5ECF6\",\"gridcolor\":\"white\",\"gridwidth\":2,\"linecolor\":\"white\",\"showbackground\":true,\"ticks\":\"\",\"zerolinecolor\":\"white\"},\"zaxis\":{\"backgroundcolor\":\"#E5ECF6\",\"gridcolor\":\"white\",\"gridwidth\":2,\"linecolor\":\"white\",\"showbackground\":true,\"ticks\":\"\",\"zerolinecolor\":\"white\"}},\"shapedefaults\":{\"line\":{\"color\":\"#2a3f5f\"}},\"ternary\":{\"aaxis\":{\"gridcolor\":\"white\",\"linecolor\":\"white\",\"ticks\":\"\"},\"baxis\":{\"gridcolor\":\"white\",\"linecolor\":\"white\",\"ticks\":\"\"},\"bgcolor\":\"#E5ECF6\",\"caxis\":{\"gridcolor\":\"white\",\"linecolor\":\"white\",\"ticks\":\"\"}},\"title\":{\"x\":0.05},\"xaxis\":{\"automargin\":true,\"gridcolor\":\"white\",\"linecolor\":\"white\",\"ticks\":\"\",\"title\":{\"standoff\":15},\"zerolinecolor\":\"white\",\"zerolinewidth\":2},\"yaxis\":{\"automargin\":true,\"gridcolor\":\"white\",\"linecolor\":\"white\",\"ticks\":\"\",\"title\":{\"standoff\":15},\"zerolinecolor\":\"white\",\"zerolinewidth\":2}}},\"xaxis\":{\"anchor\":\"y\",\"domain\":[0.0,0.2888888888888889],\"title\":{\"text\":\"Year\"}},\"xaxis2\":{\"anchor\":\"y2\",\"domain\":[0.35555555555555557,0.6444444444444445],\"title\":{\"text\":\"Year\"}},\"xaxis3\":{\"anchor\":\"y3\",\"domain\":[0.7111111111111111,1.0],\"title\":{\"text\":\"Year\"}},\"yaxis\":{\"anchor\":\"x\",\"domain\":[0.0,1.0],\"title\":{\"text\":\"Production (Mt of naphtha)\"}},\"yaxis2\":{\"anchor\":\"x2\",\"domain\":[0.0,1.0],\"matches\":\"y\",\"showticklabels\":false},\"yaxis3\":{\"anchor\":\"x3\",\"domain\":[0.0,1.0],\"matches\":\"y\",\"showticklabels\":false}},                        {\"responsive\": true}                    ).then(function(){\n",
       "                            \n",
       "var gd = document.getElementById('e0526560-cd3d-45aa-8ec7-2468c1a2f22a');\n",
       "var x = new MutationObserver(function (mutations, observer) {{\n",
       "        var display = window.getComputedStyle(gd).display;\n",
       "        if (!display || display === 'none') {{\n",
       "            console.log([gd, 'removed!']);\n",
       "            Plotly.purge(gd);\n",
       "            observer.disconnect();\n",
       "        }}\n",
       "}});\n",
       "\n",
       "// Listen for the removal of the full notebook cells\n",
       "var notebookContainer = gd.closest('#notebook-container');\n",
       "if (notebookContainer) {{\n",
       "    x.observe(notebookContainer, {childList: true});\n",
       "}}\n",
       "\n",
       "// Listen for the clearing of the current output cell\n",
       "var outputEl = gd.closest('.output');\n",
       "if (outputEl) {{\n",
       "    x.observe(outputEl, {childList: true});\n",
       "}}\n",
       "\n",
       "                        })                };                });            </script>        </div>"
      ]
     },
     "metadata": {},
     "output_type": "display_data"
    }
   ],
   "source": [
    "naphtha_techs=[\"Oil_Refining_for_Naphtha\",\"BioNaphtha_making\"]\n",
    "naphtha_techs_colors={\"Oil_Refining_for_Naphtha\":\"black\",\"BioNaphtha_making\":\"green\"}\n",
    "naphtha_techs_name={\"Oil_Refining_for_Naphtha\":\"Oil refining\",\"BioNaphtha_making\":\"Bionaphtha\"}\n",
    "\n",
    "fig =make_subplots(rows=1, cols=3,subplot_titles=list(scen.keys()),shared_yaxes=True)\n",
    "for i in range(len(scen.keys())):\n",
    "    showlegend=[True,False,False]\n",
    "    tech_usage_flow=scen[list(scen.keys())[i]]['tech_usage_flow']\n",
    "    tech_usage=tech_usage_flow[(tech_usage_flow.Resource.isin([\"Naphtha\"]))]\n",
    "    naphtha_tech_usage=tech_usage[tech_usage.Technology.isin(naphtha_techs)]\n",
    "    for tech in naphtha_techs:\n",
    "        u=naphtha_tech_usage[naphtha_tech_usage.Technology==tech]\n",
    "        u=u[[\"Year\",\"Flow\"]].groupby(by=[\"Year\"]).sum().reset_index()\n",
    "        fig.add_trace(go.Scatter(x=u.Year,y=u.Flow*1e-6,name=naphtha_techs_name[tech],line=dict(width=0,color=naphtha_techs_colors[tech]),\n",
    "                                 fillcolor=naphtha_techs_colors[tech],hoverinfo=\"x+y\",mode='lines',stackgroup='one',showlegend=showlegend[i]),row=1, col=i+1)\n",
    "        fig.update_xaxes(title_text=\"Year\", row=1, col=i+1)\n",
    "        \n",
    "fig.update_layout(#title='Naphtha production per technology in EU-5+1',title_x=0.5,\n",
    "                   yaxis_title='Production (Mt of naphtha)')\n",
    "fig.update_layout(\n",
    "    font=dict(\n",
    "        family=\"Times New Roman\",size=24)\n",
    "    )\n",
    "fig.update_annotations(font_size=24)\n",
    "fig.update_layout(legend=dict(\n",
    "    orientation=\"h\",\n",
    "    yanchor=\"bottom\",\n",
    "    y=1.1,\n",
    "    xanchor=\"right\",\n",
    "    x=0.65,font = dict(size=20)\n",
    "))\n",
    "fig.show()\n"
   ]
  },
  {
   "cell_type": "code",
   "execution_count": 251,
   "id": "4bab6c59",
   "metadata": {},
   "outputs": [
    {
     "data": {
      "application/vnd.plotly.v1+json": {
       "config": {
        "plotlyServerURL": "https://plot.ly"
       },
       "data": [
        {
         "fillcolor": "darkgoldenrod",
         "hoverinfo": "x+y",
         "line": {
          "color": "darkgoldenrod",
          "width": 0
         },
         "mode": "lines",
         "name": "Semi-wet",
         "showlegend": true,
         "stackgroup": "one",
         "type": "scatter",
         "x": [
          2015,
          2016,
          2017,
          2018,
          2019,
          2020,
          2021,
          2022,
          2023,
          2024,
          2025,
          2026,
          2027,
          2028,
          2029,
          2030,
          2031,
          2032,
          2033,
          2034,
          2035,
          2036,
          2037,
          2038,
          2039,
          2040,
          2041,
          2042,
          2043,
          2044,
          2045,
          2046,
          2047,
          2048,
          2049,
          2050
         ],
         "xaxis": "x",
         "y": [
          18.268937500000003,
          16.86363461538462,
          15.458331730769233,
          14.053028846153849,
          12.647725961538468,
          11.242423076923084,
          9.68301754807693,
          8.167641346153852,
          6.696294471153851,
          5.268976923076927,
          3.885688701923082,
          2.5464298076923124,
          1.25120024038462,
          0.10643774038462003,
          0,
          0,
          -8.401053096241687e-32,
          0,
          0,
          0,
          0,
          0,
          0,
          0,
          0,
          0,
          0,
          0,
          0,
          0,
          0,
          0,
          0,
          0,
          0,
          0
         ],
         "yaxis": "y"
        },
        {
         "fillcolor": "cornflowerblue",
         "hoverinfo": "x+y",
         "line": {
          "color": "cornflowerblue",
          "width": 0
         },
         "mode": "lines",
         "name": "Dry without precalciner",
         "showlegend": true,
         "stackgroup": "one",
         "type": "scatter",
         "x": [
          2015,
          2016,
          2017,
          2018,
          2019,
          2020,
          2021,
          2022,
          2023,
          2024,
          2025,
          2026,
          2027,
          2028,
          2029,
          2030,
          2031,
          2032,
          2033,
          2034,
          2035,
          2036,
          2037,
          2038,
          2039,
          2040,
          2041,
          2042,
          2043,
          2044,
          2045,
          2046,
          2047,
          2048,
          2049,
          2050
         ],
         "xaxis": "x",
         "y": [
          18.268937500000003,
          18.283037109375,
          18.283037109374998,
          18.283037109374998,
          18.283037109374998,
          18.283037109374998,
          18.283037109374998,
          18.283037109375,
          18.283037109374998,
          18.283037109374998,
          18.283037109374998,
          18.283037109374998,
          18.283037109374998,
          18.283037109374998,
          17.244712349759624,
          16.099949849759625,
          15.512977193509622,
          15.113544921875,
          14.966801757812501,
          14.82005859375,
          14.197664916992188,
          13.57881455078125,
          12.963507495117186,
          12.35174375,
          11.520282592773437,
          24.056325015927115,
          24.30858538251365,
          24.30858538251365,
          24.30858538251365,
          24.30858538251365,
          24.30858538251365,
          24.1362557551098,
          23.919896800782876,
          23.70275070703288,
          23.574548483475184,
          23.508450226263648
         ],
         "yaxis": "y"
        },
        {
         "fillcolor": "mediumblue",
         "hoverinfo": "x+y",
         "line": {
          "color": "mediumblue",
          "width": 0
         },
         "mode": "lines",
         "name": "Dry with precalciner",
         "showlegend": true,
         "stackgroup": "one",
         "type": "scatter",
         "x": [
          2015,
          2016,
          2017,
          2018,
          2019,
          2020,
          2021,
          2022,
          2023,
          2024,
          2025,
          2026,
          2027,
          2028,
          2029,
          2030,
          2031,
          2032,
          2033,
          2034,
          2035,
          2036,
          2037,
          2038,
          2039,
          2040,
          2041,
          2042,
          2043,
          2044,
          2045,
          2046,
          2047,
          2048,
          2049,
          2050
         ],
         "xaxis": "x",
         "y": [
          36.53787500000001,
          37.929078275240386,
          39.334381159855766,
          40.73968404447115,
          42.144986929086535,
          43.550289813701916,
          43.96493284254807,
          44.33554654447115,
          44.66213091947115,
          44.94468596754807,
          45.18321168870192,
          45.377708082932685,
          45.52817515024037,
          45.52817515024037,
          45.52817515024037,
          45.52817515024037,
          45.52817515024037,
          45.340634765625,
          44.9004052734375,
          44.46017578125,
          44.49559680175781,
          44.52747451171875,
          44.55580891113281,
          44.5806,
          44.82508850097656,
          31.70207342157288,
          30.862840398736346,
          30.275867742486344,
          29.68889508623635,
          29.101922429986352,
          28.514949773736348,
          28.100306744890197,
          27.72969304296712,
          27.35986648046712,
          26.901096047774814,
          26.380221648736352
         ],
         "yaxis": "y"
        },
        {
         "fillcolor": "yellowgreen",
         "hoverinfo": "x+y",
         "line": {
          "color": "yellowgreen",
          "width": 0
         },
         "mode": "lines",
         "name": "Electrified - Dry w/o precal.",
         "showlegend": true,
         "stackgroup": "one",
         "type": "scatter",
         "x": [
          2015,
          2016,
          2017,
          2018,
          2019,
          2020,
          2021,
          2022,
          2023,
          2024,
          2025,
          2026,
          2027,
          2028,
          2029,
          2030,
          2031,
          2032,
          2033,
          2034,
          2035,
          2036,
          2037,
          2038,
          2039,
          2040,
          2041,
          2042,
          2043,
          2044,
          2045,
          2046,
          2047,
          2048,
          2049,
          2050
         ],
         "xaxis": "x",
         "y": [
          0,
          0,
          0,
          0,
          0,
          0,
          0,
          0,
          0,
          0,
          0,
          0,
          0,
          0,
          0,
          0,
          0,
          0,
          0,
          0,
          0,
          0,
          0,
          0,
          0,
          0,
          0,
          0,
          0,
          0,
          0,
          0,
          0,
          0,
          0,
          0
         ],
         "yaxis": "y"
        },
        {
         "fillcolor": "yellow",
         "hoverinfo": "x+y",
         "line": {
          "color": "yellow",
          "width": 0
         },
         "mode": "lines",
         "name": "Electrified - Dry w/ precal.",
         "showlegend": true,
         "stackgroup": "one",
         "type": "scatter",
         "x": [
          2015,
          2016,
          2017,
          2018,
          2019,
          2020,
          2021,
          2022,
          2023,
          2024,
          2025,
          2026,
          2027,
          2028,
          2029,
          2030,
          2031,
          2032,
          2033,
          2034,
          2035,
          2036,
          2037,
          2038,
          2039,
          2040,
          2041,
          2042,
          2043,
          2044,
          2045,
          2046,
          2047,
          2048,
          2049,
          2050
         ],
         "xaxis": "x",
         "y": [
          0,
          0,
          0,
          0,
          0,
          0,
          0,
          0,
          0,
          0,
          0,
          0,
          0,
          0,
          0,
          0,
          0,
          0,
          0,
          0,
          0,
          0,
          0,
          0,
          0,
          0,
          0,
          0,
          0,
          0,
          0,
          0,
          0,
          0,
          0,
          0
         ],
         "yaxis": "y"
        },
        {
         "fillcolor": "darkgoldenrod",
         "hoverinfo": "x+y",
         "line": {
          "color": "darkgoldenrod",
          "width": 0
         },
         "mode": "lines",
         "name": "Semi-wet",
         "showlegend": false,
         "stackgroup": "one",
         "type": "scatter",
         "x": [
          2015,
          2016,
          2017,
          2018,
          2019,
          2020,
          2021,
          2022,
          2023,
          2024,
          2025,
          2026,
          2027,
          2028,
          2029,
          2030,
          2031,
          2032,
          2033,
          2034,
          2035,
          2036,
          2037,
          2038,
          2039,
          2040,
          2041,
          2042,
          2043,
          2044,
          2045,
          2046,
          2047,
          2048,
          2049,
          2050
         ],
         "xaxis": "x2",
         "y": [
          18.268937500000003,
          16.86363461538462,
          15.458331730769233,
          14.053028846153849,
          12.647725961538468,
          11.242423076923084,
          9.68301754807693,
          8.167641346153852,
          6.696294471153851,
          5.268976923076927,
          3.885688701923082,
          2.5464298076923124,
          1.25120024038462,
          0.10643774038462003,
          0,
          0,
          0,
          0,
          0,
          0,
          0,
          0,
          0,
          0,
          0,
          0,
          0,
          0,
          0,
          0,
          0,
          0,
          0,
          0,
          0,
          0
         ],
         "yaxis": "y2"
        },
        {
         "fillcolor": "cornflowerblue",
         "hoverinfo": "x+y",
         "line": {
          "color": "cornflowerblue",
          "width": 0
         },
         "mode": "lines",
         "name": "Dry without precalciner",
         "showlegend": false,
         "stackgroup": "one",
         "type": "scatter",
         "x": [
          2015,
          2016,
          2017,
          2018,
          2019,
          2020,
          2021,
          2022,
          2023,
          2024,
          2025,
          2026,
          2027,
          2028,
          2029,
          2030,
          2031,
          2032,
          2033,
          2034,
          2035,
          2036,
          2037,
          2038,
          2039,
          2040,
          2041,
          2042,
          2043,
          2044,
          2045,
          2046,
          2047,
          2048,
          2049,
          2050
         ],
         "xaxis": "x2",
         "y": [
          18.268937500000003,
          18.283037109374998,
          18.283037109374998,
          18.283037109374998,
          18.283037109374998,
          18.283037109374998,
          18.283037109374998,
          18.283037109374998,
          18.283037109374998,
          18.283037109374998,
          18.283037109374998,
          18.283037109374998,
          18.283037109374998,
          18.283037109374998,
          17.244712349759627,
          16.099949849759625,
          15.512977193509622,
          15.230938852163467,
          14.966801757812501,
          14.82005859375,
          14.197664916992188,
          13.57881455078125,
          12.963507495117186,
          12.351743749999999,
          11.520282592773437,
          24.17371894621559,
          24.425979312802127,
          24.425979312802127,
          24.425979312802127,
          24.425979312802127,
          24.42597931280213,
          24.253649685398276,
          24.03729073107135,
          23.926302449821357,
          23.79810022626366,
          23.73200196905212
         ],
         "yaxis": "y2"
        },
        {
         "fillcolor": "mediumblue",
         "hoverinfo": "x+y",
         "line": {
          "color": "mediumblue",
          "width": 0
         },
         "mode": "lines",
         "name": "Dry with precalciner",
         "showlegend": false,
         "stackgroup": "one",
         "type": "scatter",
         "x": [
          2015,
          2016,
          2017,
          2018,
          2019,
          2020,
          2021,
          2022,
          2023,
          2024,
          2025,
          2026,
          2027,
          2028,
          2029,
          2030,
          2031,
          2032,
          2033,
          2034,
          2035,
          2036,
          2037,
          2038,
          2039,
          2040,
          2041,
          2042,
          2043,
          2044,
          2045,
          2046,
          2047,
          2048,
          2049,
          2050
         ],
         "xaxis": "x2",
         "y": [
          36.53787500000001,
          37.929078275240386,
          39.334381159855766,
          40.73968404447115,
          42.144986929086535,
          43.550289813701916,
          43.96493284254807,
          44.33554654447115,
          44.66213091947115,
          44.94468596754807,
          45.18321168870192,
          45.377708082932685,
          45.52817515024037,
          45.52817515024037,
          45.52817515024037,
          45.52817515024038,
          45.52817515024038,
          45.22324083533653,
          44.9004052734375,
          44.46017578125,
          44.49559680175781,
          44.52747451171875,
          44.55580891113281,
          44.5806,
          44.82508850097656,
          31.584679491284405,
          30.74544646844787,
          30.158473812197872,
          29.571501155947878,
          28.984528499697877,
          28.397555843447876,
          27.982912814601722,
          27.612299112678645,
          27.136314737678646,
          26.677544304986338,
          26.15666990594788
         ],
         "yaxis": "y2"
        },
        {
         "fillcolor": "yellowgreen",
         "hoverinfo": "x+y",
         "line": {
          "color": "yellowgreen",
          "width": 0
         },
         "mode": "lines",
         "name": "Electrified - Dry w/o precal.",
         "showlegend": false,
         "stackgroup": "one",
         "type": "scatter",
         "x": [
          2015,
          2016,
          2017,
          2018,
          2019,
          2020,
          2021,
          2022,
          2023,
          2024,
          2025,
          2026,
          2027,
          2028,
          2029,
          2030,
          2031,
          2032,
          2033,
          2034,
          2035,
          2036,
          2037,
          2038,
          2039,
          2040,
          2041,
          2042,
          2043,
          2044,
          2045,
          2046,
          2047,
          2048,
          2049,
          2050
         ],
         "xaxis": "x2",
         "y": [
          0,
          0,
          0,
          0,
          0,
          0,
          0,
          0,
          0,
          0,
          0,
          0,
          0,
          0,
          0,
          0,
          0,
          0,
          0,
          0,
          0,
          0,
          0,
          0,
          0,
          0,
          0,
          0,
          0,
          0,
          0,
          0,
          0,
          0,
          0,
          0
         ],
         "yaxis": "y2"
        },
        {
         "fillcolor": "yellow",
         "hoverinfo": "x+y",
         "line": {
          "color": "yellow",
          "width": 0
         },
         "mode": "lines",
         "name": "Electrified - Dry w/ precal.",
         "showlegend": false,
         "stackgroup": "one",
         "type": "scatter",
         "x": [
          2015,
          2016,
          2017,
          2018,
          2019,
          2020,
          2021,
          2022,
          2023,
          2024,
          2025,
          2026,
          2027,
          2028,
          2029,
          2030,
          2031,
          2032,
          2033,
          2034,
          2035,
          2036,
          2037,
          2038,
          2039,
          2040,
          2041,
          2042,
          2043,
          2044,
          2045,
          2046,
          2047,
          2048,
          2049,
          2050
         ],
         "xaxis": "x2",
         "y": [
          0,
          0,
          0,
          0,
          0,
          0,
          0,
          0,
          0,
          0,
          0,
          0,
          0,
          0,
          0,
          0,
          0,
          0,
          0,
          0,
          0,
          0,
          0,
          0,
          0,
          0,
          0,
          0,
          0,
          0,
          0,
          0,
          0,
          0,
          0,
          0
         ],
         "yaxis": "y2"
        },
        {
         "fillcolor": "darkgoldenrod",
         "hoverinfo": "x+y",
         "line": {
          "color": "darkgoldenrod",
          "width": 0
         },
         "mode": "lines",
         "name": "Semi-wet",
         "showlegend": false,
         "stackgroup": "one",
         "type": "scatter",
         "x": [
          2015,
          2016,
          2017,
          2018,
          2019,
          2020,
          2021,
          2022,
          2023,
          2024,
          2025,
          2026,
          2027,
          2028,
          2029,
          2030,
          2031,
          2032,
          2033,
          2034,
          2035,
          2036,
          2037,
          2038,
          2039,
          2040,
          2041,
          2042,
          2043,
          2044,
          2045,
          2046,
          2047,
          2048,
          2049,
          2050
         ],
         "xaxis": "x3",
         "y": [
          18.2689375,
          16.86363461538462,
          15.458331730769233,
          14.053028846153849,
          12.647725961538464,
          11.242423076923084,
          9.68301754807693,
          8.167641346153852,
          6.696294471153851,
          5.268976923076928,
          3.885688701923082,
          2.5464298076923124,
          1.25120024038462,
          0.10643774038462003,
          0,
          0,
          0,
          0,
          0,
          0,
          0,
          0,
          0,
          0,
          0,
          0,
          0,
          0,
          0,
          0,
          0,
          0,
          0,
          0,
          0,
          0
         ],
         "yaxis": "y3"
        },
        {
         "fillcolor": "cornflowerblue",
         "hoverinfo": "x+y",
         "line": {
          "color": "cornflowerblue",
          "width": 0
         },
         "mode": "lines",
         "name": "Dry without precalciner",
         "showlegend": false,
         "stackgroup": "one",
         "type": "scatter",
         "x": [
          2015,
          2016,
          2017,
          2018,
          2019,
          2020,
          2021,
          2022,
          2023,
          2024,
          2025,
          2026,
          2027,
          2028,
          2029,
          2030,
          2031,
          2032,
          2033,
          2034,
          2035,
          2036,
          2037,
          2038,
          2039,
          2040,
          2041,
          2042,
          2043,
          2044,
          2045,
          2046,
          2047,
          2048,
          2049,
          2050
         ],
         "xaxis": "x3",
         "y": [
          18.2689375,
          18.36915234375,
          18.447415865384617,
          18.44741586538461,
          18.44741586538461,
          18.447415865384617,
          18.44741586538461,
          18.44741586538461,
          18.44741586538461,
          18.44741586538461,
          18.447415865384617,
          18.447415865384617,
          18.447415865384617,
          18.447415865384617,
          17.40909110576924,
          16.26432860576924,
          15.677355949519237,
          15.208510216346156,
          14.994718749999999,
          14.82005859375,
          14.197664916992187,
          13.57881455078125,
          12.963507495117186,
          12.351743749999999,
          11.520282592773437,
          18.91523807466948,
          18.86339552659256,
          18.785132004957948,
          18.785132004957948,
          18.785132004957948,
          18.785132004957948,
          18.612802377554093,
          18.438650033804088,
          18.232528940054088,
          18.104326716496395,
          18.079775935246396
         ],
         "yaxis": "y3"
        },
        {
         "fillcolor": "mediumblue",
         "hoverinfo": "x+y",
         "line": {
          "color": "mediumblue",
          "width": 0
         },
         "mode": "lines",
         "name": "Dry with precalciner",
         "showlegend": false,
         "stackgroup": "one",
         "type": "scatter",
         "x": [
          2015,
          2016,
          2017,
          2018,
          2019,
          2020,
          2021,
          2022,
          2023,
          2024,
          2025,
          2026,
          2027,
          2028,
          2029,
          2030,
          2031,
          2032,
          2033,
          2034,
          2035,
          2036,
          2037,
          2038,
          2039,
          2040,
          2041,
          2042,
          2043,
          2044,
          2045,
          2046,
          2047,
          2048,
          2049,
          2050
         ],
         "xaxis": "x3",
         "y": [
          36.537875,
          37.842963040865385,
          39.170002403846155,
          40.575305288461536,
          41.98060817307692,
          43.385911057692304,
          43.80055408653846,
          44.17116778846153,
          44.497752163461534,
          44.780307211538464,
          45.018832932692305,
          45.21332932692307,
          45.36379639423077,
          45.36379639423077,
          45.36379639423077,
          45.36379639423077,
          45.36379639423077,
          45.245669471153846,
          44.87248828125001,
          44.46017578125001,
          44.49559680175782,
          44.52747451171875,
          44.55580891113281,
          44.5806,
          44.82508850097656,
          36.84316036283052,
          36.30803025465744,
          35.79932112004205,
          35.212348463792054,
          34.625375807542056,
          34.03840315129205,
          33.62376012244591,
          33.21093980994591,
          32.83008824744591,
          32.3713178147536,
          31.8088959397536
         ],
         "yaxis": "y3"
        },
        {
         "fillcolor": "yellowgreen",
         "hoverinfo": "x+y",
         "line": {
          "color": "yellowgreen",
          "width": 0
         },
         "mode": "lines",
         "name": "Electrified - Dry w/o precal.",
         "showlegend": false,
         "stackgroup": "one",
         "type": "scatter",
         "x": [
          2015,
          2016,
          2017,
          2018,
          2019,
          2020,
          2021,
          2022,
          2023,
          2024,
          2025,
          2026,
          2027,
          2028,
          2029,
          2030,
          2031,
          2032,
          2033,
          2034,
          2035,
          2036,
          2037,
          2038,
          2039,
          2040,
          2041,
          2042,
          2043,
          2044,
          2045,
          2046,
          2047,
          2048,
          2049,
          2050
         ],
         "xaxis": "x3",
         "y": [
          0,
          0,
          0,
          0,
          0,
          0,
          0,
          0,
          0,
          0,
          0,
          0,
          0,
          0,
          0,
          0,
          0,
          0,
          0,
          0,
          0,
          0,
          0,
          0,
          0,
          0,
          0,
          0,
          0,
          0,
          0,
          0,
          0,
          0,
          0,
          0
         ],
         "yaxis": "y3"
        },
        {
         "fillcolor": "yellow",
         "hoverinfo": "x+y",
         "line": {
          "color": "yellow",
          "width": 0
         },
         "mode": "lines",
         "name": "Electrified - Dry w/ precal.",
         "showlegend": false,
         "stackgroup": "one",
         "type": "scatter",
         "x": [
          2015,
          2016,
          2017,
          2018,
          2019,
          2020,
          2021,
          2022,
          2023,
          2024,
          2025,
          2026,
          2027,
          2028,
          2029,
          2030,
          2031,
          2032,
          2033,
          2034,
          2035,
          2036,
          2037,
          2038,
          2039,
          2040,
          2041,
          2042,
          2043,
          2044,
          2045,
          2046,
          2047,
          2048,
          2049,
          2050
         ],
         "xaxis": "x3",
         "y": [
          0,
          0,
          0,
          0,
          0,
          0,
          0,
          0,
          0,
          0,
          0,
          0,
          0,
          0,
          0,
          0,
          0,
          0,
          0,
          0,
          0,
          0,
          0,
          0,
          0,
          0,
          0,
          0,
          0,
          0,
          0,
          0,
          0,
          0,
          0,
          0
         ],
         "yaxis": "y3"
        }
       ],
       "layout": {
        "annotations": [
         {
          "font": {
           "size": 24
          },
          "showarrow": false,
          "text": "High electricity price",
          "x": 0.14444444444444446,
          "xanchor": "center",
          "xref": "paper",
          "y": 1,
          "yanchor": "bottom",
          "yref": "paper"
         },
         {
          "font": {
           "size": 24
          },
          "showarrow": false,
          "text": "Reference",
          "x": 0.5,
          "xanchor": "center",
          "xref": "paper",
          "y": 1,
          "yanchor": "bottom",
          "yref": "paper"
         },
         {
          "font": {
           "size": 24
          },
          "showarrow": false,
          "text": "Fossil phase-out",
          "x": 0.8555555555555556,
          "xanchor": "center",
          "xref": "paper",
          "y": 1,
          "yanchor": "bottom",
          "yref": "paper"
         }
        ],
        "font": {
         "family": "Times New Roman",
         "size": 24
        },
        "legend": {
         "font": {
          "size": 16
         },
         "orientation": "h",
         "x": 0.8,
         "xanchor": "right",
         "y": 1.1,
         "yanchor": "bottom"
        },
        "template": {
         "data": {
          "bar": [
           {
            "error_x": {
             "color": "#2a3f5f"
            },
            "error_y": {
             "color": "#2a3f5f"
            },
            "marker": {
             "line": {
              "color": "#E5ECF6",
              "width": 0.5
             },
             "pattern": {
              "fillmode": "overlay",
              "size": 10,
              "solidity": 0.2
             }
            },
            "type": "bar"
           }
          ],
          "barpolar": [
           {
            "marker": {
             "line": {
              "color": "#E5ECF6",
              "width": 0.5
             },
             "pattern": {
              "fillmode": "overlay",
              "size": 10,
              "solidity": 0.2
             }
            },
            "type": "barpolar"
           }
          ],
          "carpet": [
           {
            "aaxis": {
             "endlinecolor": "#2a3f5f",
             "gridcolor": "white",
             "linecolor": "white",
             "minorgridcolor": "white",
             "startlinecolor": "#2a3f5f"
            },
            "baxis": {
             "endlinecolor": "#2a3f5f",
             "gridcolor": "white",
             "linecolor": "white",
             "minorgridcolor": "white",
             "startlinecolor": "#2a3f5f"
            },
            "type": "carpet"
           }
          ],
          "choropleth": [
           {
            "colorbar": {
             "outlinewidth": 0,
             "ticks": ""
            },
            "type": "choropleth"
           }
          ],
          "contour": [
           {
            "colorbar": {
             "outlinewidth": 0,
             "ticks": ""
            },
            "colorscale": [
             [
              0,
              "#0d0887"
             ],
             [
              0.1111111111111111,
              "#46039f"
             ],
             [
              0.2222222222222222,
              "#7201a8"
             ],
             [
              0.3333333333333333,
              "#9c179e"
             ],
             [
              0.4444444444444444,
              "#bd3786"
             ],
             [
              0.5555555555555556,
              "#d8576b"
             ],
             [
              0.6666666666666666,
              "#ed7953"
             ],
             [
              0.7777777777777778,
              "#fb9f3a"
             ],
             [
              0.8888888888888888,
              "#fdca26"
             ],
             [
              1,
              "#f0f921"
             ]
            ],
            "type": "contour"
           }
          ],
          "contourcarpet": [
           {
            "colorbar": {
             "outlinewidth": 0,
             "ticks": ""
            },
            "type": "contourcarpet"
           }
          ],
          "heatmap": [
           {
            "colorbar": {
             "outlinewidth": 0,
             "ticks": ""
            },
            "colorscale": [
             [
              0,
              "#0d0887"
             ],
             [
              0.1111111111111111,
              "#46039f"
             ],
             [
              0.2222222222222222,
              "#7201a8"
             ],
             [
              0.3333333333333333,
              "#9c179e"
             ],
             [
              0.4444444444444444,
              "#bd3786"
             ],
             [
              0.5555555555555556,
              "#d8576b"
             ],
             [
              0.6666666666666666,
              "#ed7953"
             ],
             [
              0.7777777777777778,
              "#fb9f3a"
             ],
             [
              0.8888888888888888,
              "#fdca26"
             ],
             [
              1,
              "#f0f921"
             ]
            ],
            "type": "heatmap"
           }
          ],
          "heatmapgl": [
           {
            "colorbar": {
             "outlinewidth": 0,
             "ticks": ""
            },
            "colorscale": [
             [
              0,
              "#0d0887"
             ],
             [
              0.1111111111111111,
              "#46039f"
             ],
             [
              0.2222222222222222,
              "#7201a8"
             ],
             [
              0.3333333333333333,
              "#9c179e"
             ],
             [
              0.4444444444444444,
              "#bd3786"
             ],
             [
              0.5555555555555556,
              "#d8576b"
             ],
             [
              0.6666666666666666,
              "#ed7953"
             ],
             [
              0.7777777777777778,
              "#fb9f3a"
             ],
             [
              0.8888888888888888,
              "#fdca26"
             ],
             [
              1,
              "#f0f921"
             ]
            ],
            "type": "heatmapgl"
           }
          ],
          "histogram": [
           {
            "marker": {
             "pattern": {
              "fillmode": "overlay",
              "size": 10,
              "solidity": 0.2
             }
            },
            "type": "histogram"
           }
          ],
          "histogram2d": [
           {
            "colorbar": {
             "outlinewidth": 0,
             "ticks": ""
            },
            "colorscale": [
             [
              0,
              "#0d0887"
             ],
             [
              0.1111111111111111,
              "#46039f"
             ],
             [
              0.2222222222222222,
              "#7201a8"
             ],
             [
              0.3333333333333333,
              "#9c179e"
             ],
             [
              0.4444444444444444,
              "#bd3786"
             ],
             [
              0.5555555555555556,
              "#d8576b"
             ],
             [
              0.6666666666666666,
              "#ed7953"
             ],
             [
              0.7777777777777778,
              "#fb9f3a"
             ],
             [
              0.8888888888888888,
              "#fdca26"
             ],
             [
              1,
              "#f0f921"
             ]
            ],
            "type": "histogram2d"
           }
          ],
          "histogram2dcontour": [
           {
            "colorbar": {
             "outlinewidth": 0,
             "ticks": ""
            },
            "colorscale": [
             [
              0,
              "#0d0887"
             ],
             [
              0.1111111111111111,
              "#46039f"
             ],
             [
              0.2222222222222222,
              "#7201a8"
             ],
             [
              0.3333333333333333,
              "#9c179e"
             ],
             [
              0.4444444444444444,
              "#bd3786"
             ],
             [
              0.5555555555555556,
              "#d8576b"
             ],
             [
              0.6666666666666666,
              "#ed7953"
             ],
             [
              0.7777777777777778,
              "#fb9f3a"
             ],
             [
              0.8888888888888888,
              "#fdca26"
             ],
             [
              1,
              "#f0f921"
             ]
            ],
            "type": "histogram2dcontour"
           }
          ],
          "mesh3d": [
           {
            "colorbar": {
             "outlinewidth": 0,
             "ticks": ""
            },
            "type": "mesh3d"
           }
          ],
          "parcoords": [
           {
            "line": {
             "colorbar": {
              "outlinewidth": 0,
              "ticks": ""
             }
            },
            "type": "parcoords"
           }
          ],
          "pie": [
           {
            "automargin": true,
            "type": "pie"
           }
          ],
          "scatter": [
           {
            "marker": {
             "colorbar": {
              "outlinewidth": 0,
              "ticks": ""
             }
            },
            "type": "scatter"
           }
          ],
          "scatter3d": [
           {
            "line": {
             "colorbar": {
              "outlinewidth": 0,
              "ticks": ""
             }
            },
            "marker": {
             "colorbar": {
              "outlinewidth": 0,
              "ticks": ""
             }
            },
            "type": "scatter3d"
           }
          ],
          "scattercarpet": [
           {
            "marker": {
             "colorbar": {
              "outlinewidth": 0,
              "ticks": ""
             }
            },
            "type": "scattercarpet"
           }
          ],
          "scattergeo": [
           {
            "marker": {
             "colorbar": {
              "outlinewidth": 0,
              "ticks": ""
             }
            },
            "type": "scattergeo"
           }
          ],
          "scattergl": [
           {
            "marker": {
             "colorbar": {
              "outlinewidth": 0,
              "ticks": ""
             }
            },
            "type": "scattergl"
           }
          ],
          "scattermapbox": [
           {
            "marker": {
             "colorbar": {
              "outlinewidth": 0,
              "ticks": ""
             }
            },
            "type": "scattermapbox"
           }
          ],
          "scatterpolar": [
           {
            "marker": {
             "colorbar": {
              "outlinewidth": 0,
              "ticks": ""
             }
            },
            "type": "scatterpolar"
           }
          ],
          "scatterpolargl": [
           {
            "marker": {
             "colorbar": {
              "outlinewidth": 0,
              "ticks": ""
             }
            },
            "type": "scatterpolargl"
           }
          ],
          "scatterternary": [
           {
            "marker": {
             "colorbar": {
              "outlinewidth": 0,
              "ticks": ""
             }
            },
            "type": "scatterternary"
           }
          ],
          "surface": [
           {
            "colorbar": {
             "outlinewidth": 0,
             "ticks": ""
            },
            "colorscale": [
             [
              0,
              "#0d0887"
             ],
             [
              0.1111111111111111,
              "#46039f"
             ],
             [
              0.2222222222222222,
              "#7201a8"
             ],
             [
              0.3333333333333333,
              "#9c179e"
             ],
             [
              0.4444444444444444,
              "#bd3786"
             ],
             [
              0.5555555555555556,
              "#d8576b"
             ],
             [
              0.6666666666666666,
              "#ed7953"
             ],
             [
              0.7777777777777778,
              "#fb9f3a"
             ],
             [
              0.8888888888888888,
              "#fdca26"
             ],
             [
              1,
              "#f0f921"
             ]
            ],
            "type": "surface"
           }
          ],
          "table": [
           {
            "cells": {
             "fill": {
              "color": "#EBF0F8"
             },
             "line": {
              "color": "white"
             }
            },
            "header": {
             "fill": {
              "color": "#C8D4E3"
             },
             "line": {
              "color": "white"
             }
            },
            "type": "table"
           }
          ]
         },
         "layout": {
          "annotationdefaults": {
           "arrowcolor": "#2a3f5f",
           "arrowhead": 0,
           "arrowwidth": 1
          },
          "autotypenumbers": "strict",
          "coloraxis": {
           "colorbar": {
            "outlinewidth": 0,
            "ticks": ""
           }
          },
          "colorscale": {
           "diverging": [
            [
             0,
             "#8e0152"
            ],
            [
             0.1,
             "#c51b7d"
            ],
            [
             0.2,
             "#de77ae"
            ],
            [
             0.3,
             "#f1b6da"
            ],
            [
             0.4,
             "#fde0ef"
            ],
            [
             0.5,
             "#f7f7f7"
            ],
            [
             0.6,
             "#e6f5d0"
            ],
            [
             0.7,
             "#b8e186"
            ],
            [
             0.8,
             "#7fbc41"
            ],
            [
             0.9,
             "#4d9221"
            ],
            [
             1,
             "#276419"
            ]
           ],
           "sequential": [
            [
             0,
             "#0d0887"
            ],
            [
             0.1111111111111111,
             "#46039f"
            ],
            [
             0.2222222222222222,
             "#7201a8"
            ],
            [
             0.3333333333333333,
             "#9c179e"
            ],
            [
             0.4444444444444444,
             "#bd3786"
            ],
            [
             0.5555555555555556,
             "#d8576b"
            ],
            [
             0.6666666666666666,
             "#ed7953"
            ],
            [
             0.7777777777777778,
             "#fb9f3a"
            ],
            [
             0.8888888888888888,
             "#fdca26"
            ],
            [
             1,
             "#f0f921"
            ]
           ],
           "sequentialminus": [
            [
             0,
             "#0d0887"
            ],
            [
             0.1111111111111111,
             "#46039f"
            ],
            [
             0.2222222222222222,
             "#7201a8"
            ],
            [
             0.3333333333333333,
             "#9c179e"
            ],
            [
             0.4444444444444444,
             "#bd3786"
            ],
            [
             0.5555555555555556,
             "#d8576b"
            ],
            [
             0.6666666666666666,
             "#ed7953"
            ],
            [
             0.7777777777777778,
             "#fb9f3a"
            ],
            [
             0.8888888888888888,
             "#fdca26"
            ],
            [
             1,
             "#f0f921"
            ]
           ]
          },
          "colorway": [
           "#636efa",
           "#EF553B",
           "#00cc96",
           "#ab63fa",
           "#FFA15A",
           "#19d3f3",
           "#FF6692",
           "#B6E880",
           "#FF97FF",
           "#FECB52"
          ],
          "font": {
           "color": "#2a3f5f"
          },
          "geo": {
           "bgcolor": "white",
           "lakecolor": "white",
           "landcolor": "#E5ECF6",
           "showlakes": true,
           "showland": true,
           "subunitcolor": "white"
          },
          "hoverlabel": {
           "align": "left"
          },
          "hovermode": "closest",
          "mapbox": {
           "style": "light"
          },
          "paper_bgcolor": "white",
          "plot_bgcolor": "#E5ECF6",
          "polar": {
           "angularaxis": {
            "gridcolor": "white",
            "linecolor": "white",
            "ticks": ""
           },
           "bgcolor": "#E5ECF6",
           "radialaxis": {
            "gridcolor": "white",
            "linecolor": "white",
            "ticks": ""
           }
          },
          "scene": {
           "xaxis": {
            "backgroundcolor": "#E5ECF6",
            "gridcolor": "white",
            "gridwidth": 2,
            "linecolor": "white",
            "showbackground": true,
            "ticks": "",
            "zerolinecolor": "white"
           },
           "yaxis": {
            "backgroundcolor": "#E5ECF6",
            "gridcolor": "white",
            "gridwidth": 2,
            "linecolor": "white",
            "showbackground": true,
            "ticks": "",
            "zerolinecolor": "white"
           },
           "zaxis": {
            "backgroundcolor": "#E5ECF6",
            "gridcolor": "white",
            "gridwidth": 2,
            "linecolor": "white",
            "showbackground": true,
            "ticks": "",
            "zerolinecolor": "white"
           }
          },
          "shapedefaults": {
           "line": {
            "color": "#2a3f5f"
           }
          },
          "ternary": {
           "aaxis": {
            "gridcolor": "white",
            "linecolor": "white",
            "ticks": ""
           },
           "baxis": {
            "gridcolor": "white",
            "linecolor": "white",
            "ticks": ""
           },
           "bgcolor": "#E5ECF6",
           "caxis": {
            "gridcolor": "white",
            "linecolor": "white",
            "ticks": ""
           }
          },
          "title": {
           "x": 0.05
          },
          "xaxis": {
           "automargin": true,
           "gridcolor": "white",
           "linecolor": "white",
           "ticks": "",
           "title": {
            "standoff": 15
           },
           "zerolinecolor": "white",
           "zerolinewidth": 2
          },
          "yaxis": {
           "automargin": true,
           "gridcolor": "white",
           "linecolor": "white",
           "ticks": "",
           "title": {
            "standoff": 15
           },
           "zerolinecolor": "white",
           "zerolinewidth": 2
          }
         }
        },
        "xaxis": {
         "anchor": "y",
         "domain": [
          0,
          0.2888888888888889
         ],
         "title": {
          "text": "Year"
         }
        },
        "xaxis2": {
         "anchor": "y2",
         "domain": [
          0.35555555555555557,
          0.6444444444444445
         ],
         "title": {
          "text": "Year"
         }
        },
        "xaxis3": {
         "anchor": "y3",
         "domain": [
          0.7111111111111111,
          1
         ],
         "title": {
          "text": "Year"
         }
        },
        "yaxis": {
         "anchor": "x",
         "domain": [
          0,
          1
         ],
         "title": {
          "text": "Production (Mt of clinker)"
         }
        },
        "yaxis2": {
         "anchor": "x2",
         "domain": [
          0,
          1
         ],
         "matches": "y",
         "showticklabels": false
        },
        "yaxis3": {
         "anchor": "x3",
         "domain": [
          0,
          1
         ],
         "matches": "y",
         "showticklabels": false
        }
       }
      },
      "text/html": [
       "<div>                            <div id=\"7286408a-ab70-4d8c-b13b-d2d27fb5b46a\" class=\"plotly-graph-div\" style=\"height:525px; width:100%;\"></div>            <script type=\"text/javascript\">                require([\"plotly\"], function(Plotly) {                    window.PLOTLYENV=window.PLOTLYENV || {};                                    if (document.getElementById(\"7286408a-ab70-4d8c-b13b-d2d27fb5b46a\")) {                    Plotly.newPlot(                        \"7286408a-ab70-4d8c-b13b-d2d27fb5b46a\",                        [{\"fillcolor\":\"darkgoldenrod\",\"hoverinfo\":\"x+y\",\"line\":{\"color\":\"darkgoldenrod\",\"width\":0},\"mode\":\"lines\",\"name\":\"Semi-wet\",\"showlegend\":true,\"stackgroup\":\"one\",\"type\":\"scatter\",\"x\":[2015,2016,2017,2018,2019,2020,2021,2022,2023,2024,2025,2026,2027,2028,2029,2030,2031,2032,2033,2034,2035,2036,2037,2038,2039,2040,2041,2042,2043,2044,2045,2046,2047,2048,2049,2050],\"xaxis\":\"x\",\"y\":[18.268937500000003,16.86363461538462,15.458331730769233,14.053028846153849,12.647725961538468,11.242423076923084,9.68301754807693,8.167641346153852,6.696294471153851,5.268976923076927,3.885688701923082,2.5464298076923124,1.25120024038462,0.10643774038462003,0.0,0.0,-8.401053096241687e-32,0.0,0.0,0.0,0.0,0.0,0.0,0.0,0.0,0.0,0.0,0.0,0.0,0.0,0.0,0.0,0.0,0.0,0.0,0.0],\"yaxis\":\"y\"},{\"fillcolor\":\"cornflowerblue\",\"hoverinfo\":\"x+y\",\"line\":{\"color\":\"cornflowerblue\",\"width\":0},\"mode\":\"lines\",\"name\":\"Dry without precalciner\",\"showlegend\":true,\"stackgroup\":\"one\",\"type\":\"scatter\",\"x\":[2015,2016,2017,2018,2019,2020,2021,2022,2023,2024,2025,2026,2027,2028,2029,2030,2031,2032,2033,2034,2035,2036,2037,2038,2039,2040,2041,2042,2043,2044,2045,2046,2047,2048,2049,2050],\"xaxis\":\"x\",\"y\":[18.268937500000003,18.283037109375,18.283037109374998,18.283037109374998,18.283037109374998,18.283037109374998,18.283037109374998,18.283037109375,18.283037109374998,18.283037109374998,18.283037109374998,18.283037109374998,18.283037109374998,18.283037109374998,17.244712349759624,16.099949849759625,15.512977193509622,15.113544921875,14.966801757812501,14.82005859375,14.197664916992188,13.57881455078125,12.963507495117186,12.35174375,11.520282592773437,24.056325015927115,24.30858538251365,24.30858538251365,24.30858538251365,24.30858538251365,24.30858538251365,24.1362557551098,23.919896800782876,23.70275070703288,23.574548483475184,23.508450226263648],\"yaxis\":\"y\"},{\"fillcolor\":\"mediumblue\",\"hoverinfo\":\"x+y\",\"line\":{\"color\":\"mediumblue\",\"width\":0},\"mode\":\"lines\",\"name\":\"Dry with precalciner\",\"showlegend\":true,\"stackgroup\":\"one\",\"type\":\"scatter\",\"x\":[2015,2016,2017,2018,2019,2020,2021,2022,2023,2024,2025,2026,2027,2028,2029,2030,2031,2032,2033,2034,2035,2036,2037,2038,2039,2040,2041,2042,2043,2044,2045,2046,2047,2048,2049,2050],\"xaxis\":\"x\",\"y\":[36.53787500000001,37.929078275240386,39.334381159855766,40.73968404447115,42.144986929086535,43.550289813701916,43.96493284254807,44.33554654447115,44.66213091947115,44.94468596754807,45.18321168870192,45.377708082932685,45.52817515024037,45.52817515024037,45.52817515024037,45.52817515024037,45.52817515024037,45.340634765625,44.9004052734375,44.46017578125,44.49559680175781,44.52747451171875,44.55580891113281,44.5806,44.82508850097656,31.70207342157288,30.862840398736346,30.275867742486344,29.68889508623635,29.101922429986352,28.514949773736348,28.100306744890197,27.72969304296712,27.35986648046712,26.901096047774814,26.380221648736352],\"yaxis\":\"y\"},{\"fillcolor\":\"yellowgreen\",\"hoverinfo\":\"x+y\",\"line\":{\"color\":\"yellowgreen\",\"width\":0},\"mode\":\"lines\",\"name\":\"Electrified - Dry w/o precal.\",\"showlegend\":true,\"stackgroup\":\"one\",\"type\":\"scatter\",\"x\":[2015,2016,2017,2018,2019,2020,2021,2022,2023,2024,2025,2026,2027,2028,2029,2030,2031,2032,2033,2034,2035,2036,2037,2038,2039,2040,2041,2042,2043,2044,2045,2046,2047,2048,2049,2050],\"xaxis\":\"x\",\"y\":[0.0,0.0,0.0,0.0,0.0,0.0,0.0,0.0,0.0,0.0,0.0,0.0,0.0,0.0,0.0,0.0,0.0,0.0,0.0,0.0,0.0,0.0,0.0,0.0,0.0,0.0,0.0,0.0,0.0,0.0,0.0,0.0,0.0,0.0,0.0,0.0],\"yaxis\":\"y\"},{\"fillcolor\":\"yellow\",\"hoverinfo\":\"x+y\",\"line\":{\"color\":\"yellow\",\"width\":0},\"mode\":\"lines\",\"name\":\"Electrified - Dry w/ precal.\",\"showlegend\":true,\"stackgroup\":\"one\",\"type\":\"scatter\",\"x\":[2015,2016,2017,2018,2019,2020,2021,2022,2023,2024,2025,2026,2027,2028,2029,2030,2031,2032,2033,2034,2035,2036,2037,2038,2039,2040,2041,2042,2043,2044,2045,2046,2047,2048,2049,2050],\"xaxis\":\"x\",\"y\":[0.0,0.0,0.0,0.0,0.0,0.0,0.0,0.0,0.0,0.0,0.0,0.0,0.0,0.0,0.0,0.0,0.0,0.0,0.0,0.0,0.0,0.0,0.0,0.0,0.0,0.0,0.0,0.0,0.0,0.0,0.0,0.0,0.0,0.0,0.0,0.0],\"yaxis\":\"y\"},{\"fillcolor\":\"darkgoldenrod\",\"hoverinfo\":\"x+y\",\"line\":{\"color\":\"darkgoldenrod\",\"width\":0},\"mode\":\"lines\",\"name\":\"Semi-wet\",\"showlegend\":false,\"stackgroup\":\"one\",\"type\":\"scatter\",\"x\":[2015,2016,2017,2018,2019,2020,2021,2022,2023,2024,2025,2026,2027,2028,2029,2030,2031,2032,2033,2034,2035,2036,2037,2038,2039,2040,2041,2042,2043,2044,2045,2046,2047,2048,2049,2050],\"xaxis\":\"x2\",\"y\":[18.268937500000003,16.86363461538462,15.458331730769233,14.053028846153849,12.647725961538468,11.242423076923084,9.68301754807693,8.167641346153852,6.696294471153851,5.268976923076927,3.885688701923082,2.5464298076923124,1.25120024038462,0.10643774038462003,0.0,0.0,0.0,0.0,0.0,0.0,0.0,0.0,0.0,0.0,0.0,0.0,0.0,0.0,0.0,0.0,0.0,0.0,0.0,0.0,0.0,0.0],\"yaxis\":\"y2\"},{\"fillcolor\":\"cornflowerblue\",\"hoverinfo\":\"x+y\",\"line\":{\"color\":\"cornflowerblue\",\"width\":0},\"mode\":\"lines\",\"name\":\"Dry without precalciner\",\"showlegend\":false,\"stackgroup\":\"one\",\"type\":\"scatter\",\"x\":[2015,2016,2017,2018,2019,2020,2021,2022,2023,2024,2025,2026,2027,2028,2029,2030,2031,2032,2033,2034,2035,2036,2037,2038,2039,2040,2041,2042,2043,2044,2045,2046,2047,2048,2049,2050],\"xaxis\":\"x2\",\"y\":[18.268937500000003,18.283037109374998,18.283037109374998,18.283037109374998,18.283037109374998,18.283037109374998,18.283037109374998,18.283037109374998,18.283037109374998,18.283037109374998,18.283037109374998,18.283037109374998,18.283037109374998,18.283037109374998,17.244712349759627,16.099949849759625,15.512977193509622,15.230938852163467,14.966801757812501,14.82005859375,14.197664916992188,13.57881455078125,12.963507495117186,12.351743749999999,11.520282592773437,24.17371894621559,24.425979312802127,24.425979312802127,24.425979312802127,24.425979312802127,24.42597931280213,24.253649685398276,24.03729073107135,23.926302449821357,23.79810022626366,23.73200196905212],\"yaxis\":\"y2\"},{\"fillcolor\":\"mediumblue\",\"hoverinfo\":\"x+y\",\"line\":{\"color\":\"mediumblue\",\"width\":0},\"mode\":\"lines\",\"name\":\"Dry with precalciner\",\"showlegend\":false,\"stackgroup\":\"one\",\"type\":\"scatter\",\"x\":[2015,2016,2017,2018,2019,2020,2021,2022,2023,2024,2025,2026,2027,2028,2029,2030,2031,2032,2033,2034,2035,2036,2037,2038,2039,2040,2041,2042,2043,2044,2045,2046,2047,2048,2049,2050],\"xaxis\":\"x2\",\"y\":[36.53787500000001,37.929078275240386,39.334381159855766,40.73968404447115,42.144986929086535,43.550289813701916,43.96493284254807,44.33554654447115,44.66213091947115,44.94468596754807,45.18321168870192,45.377708082932685,45.52817515024037,45.52817515024037,45.52817515024037,45.52817515024038,45.52817515024038,45.22324083533653,44.9004052734375,44.46017578125,44.49559680175781,44.52747451171875,44.55580891113281,44.5806,44.82508850097656,31.584679491284405,30.74544646844787,30.158473812197872,29.571501155947878,28.984528499697877,28.397555843447876,27.982912814601722,27.612299112678645,27.136314737678646,26.677544304986338,26.15666990594788],\"yaxis\":\"y2\"},{\"fillcolor\":\"yellowgreen\",\"hoverinfo\":\"x+y\",\"line\":{\"color\":\"yellowgreen\",\"width\":0},\"mode\":\"lines\",\"name\":\"Electrified - Dry w/o precal.\",\"showlegend\":false,\"stackgroup\":\"one\",\"type\":\"scatter\",\"x\":[2015,2016,2017,2018,2019,2020,2021,2022,2023,2024,2025,2026,2027,2028,2029,2030,2031,2032,2033,2034,2035,2036,2037,2038,2039,2040,2041,2042,2043,2044,2045,2046,2047,2048,2049,2050],\"xaxis\":\"x2\",\"y\":[0.0,0.0,0.0,0.0,0.0,0.0,0.0,0.0,0.0,0.0,0.0,0.0,0.0,0.0,0.0,0.0,0.0,0.0,0.0,0.0,0.0,0.0,0.0,0.0,0.0,0.0,0.0,0.0,0.0,0.0,0.0,0.0,0.0,0.0,0.0,0.0],\"yaxis\":\"y2\"},{\"fillcolor\":\"yellow\",\"hoverinfo\":\"x+y\",\"line\":{\"color\":\"yellow\",\"width\":0},\"mode\":\"lines\",\"name\":\"Electrified - Dry w/ precal.\",\"showlegend\":false,\"stackgroup\":\"one\",\"type\":\"scatter\",\"x\":[2015,2016,2017,2018,2019,2020,2021,2022,2023,2024,2025,2026,2027,2028,2029,2030,2031,2032,2033,2034,2035,2036,2037,2038,2039,2040,2041,2042,2043,2044,2045,2046,2047,2048,2049,2050],\"xaxis\":\"x2\",\"y\":[0.0,0.0,0.0,0.0,0.0,0.0,0.0,0.0,0.0,0.0,0.0,0.0,0.0,0.0,0.0,0.0,0.0,0.0,0.0,0.0,0.0,0.0,0.0,0.0,0.0,0.0,0.0,0.0,0.0,0.0,0.0,0.0,0.0,0.0,0.0,0.0],\"yaxis\":\"y2\"},{\"fillcolor\":\"darkgoldenrod\",\"hoverinfo\":\"x+y\",\"line\":{\"color\":\"darkgoldenrod\",\"width\":0},\"mode\":\"lines\",\"name\":\"Semi-wet\",\"showlegend\":false,\"stackgroup\":\"one\",\"type\":\"scatter\",\"x\":[2015,2016,2017,2018,2019,2020,2021,2022,2023,2024,2025,2026,2027,2028,2029,2030,2031,2032,2033,2034,2035,2036,2037,2038,2039,2040,2041,2042,2043,2044,2045,2046,2047,2048,2049,2050],\"xaxis\":\"x3\",\"y\":[18.2689375,16.86363461538462,15.458331730769233,14.053028846153849,12.647725961538464,11.242423076923084,9.68301754807693,8.167641346153852,6.696294471153851,5.268976923076928,3.885688701923082,2.5464298076923124,1.25120024038462,0.10643774038462003,0.0,0.0,0.0,0.0,0.0,0.0,0.0,0.0,0.0,0.0,0.0,0.0,0.0,0.0,0.0,0.0,0.0,0.0,0.0,0.0,0.0,0.0],\"yaxis\":\"y3\"},{\"fillcolor\":\"cornflowerblue\",\"hoverinfo\":\"x+y\",\"line\":{\"color\":\"cornflowerblue\",\"width\":0},\"mode\":\"lines\",\"name\":\"Dry without precalciner\",\"showlegend\":false,\"stackgroup\":\"one\",\"type\":\"scatter\",\"x\":[2015,2016,2017,2018,2019,2020,2021,2022,2023,2024,2025,2026,2027,2028,2029,2030,2031,2032,2033,2034,2035,2036,2037,2038,2039,2040,2041,2042,2043,2044,2045,2046,2047,2048,2049,2050],\"xaxis\":\"x3\",\"y\":[18.2689375,18.36915234375,18.447415865384617,18.44741586538461,18.44741586538461,18.447415865384617,18.44741586538461,18.44741586538461,18.44741586538461,18.44741586538461,18.447415865384617,18.447415865384617,18.447415865384617,18.447415865384617,17.40909110576924,16.26432860576924,15.677355949519237,15.208510216346156,14.994718749999999,14.82005859375,14.197664916992187,13.57881455078125,12.963507495117186,12.351743749999999,11.520282592773437,18.91523807466948,18.86339552659256,18.785132004957948,18.785132004957948,18.785132004957948,18.785132004957948,18.612802377554093,18.438650033804088,18.232528940054088,18.104326716496395,18.079775935246396],\"yaxis\":\"y3\"},{\"fillcolor\":\"mediumblue\",\"hoverinfo\":\"x+y\",\"line\":{\"color\":\"mediumblue\",\"width\":0},\"mode\":\"lines\",\"name\":\"Dry with precalciner\",\"showlegend\":false,\"stackgroup\":\"one\",\"type\":\"scatter\",\"x\":[2015,2016,2017,2018,2019,2020,2021,2022,2023,2024,2025,2026,2027,2028,2029,2030,2031,2032,2033,2034,2035,2036,2037,2038,2039,2040,2041,2042,2043,2044,2045,2046,2047,2048,2049,2050],\"xaxis\":\"x3\",\"y\":[36.537875,37.842963040865385,39.170002403846155,40.575305288461536,41.98060817307692,43.385911057692304,43.80055408653846,44.17116778846153,44.497752163461534,44.780307211538464,45.018832932692305,45.21332932692307,45.36379639423077,45.36379639423077,45.36379639423077,45.36379639423077,45.36379639423077,45.245669471153846,44.87248828125001,44.46017578125001,44.49559680175782,44.52747451171875,44.55580891113281,44.5806,44.82508850097656,36.84316036283052,36.30803025465744,35.79932112004205,35.212348463792054,34.625375807542056,34.03840315129205,33.62376012244591,33.21093980994591,32.83008824744591,32.3713178147536,31.8088959397536],\"yaxis\":\"y3\"},{\"fillcolor\":\"yellowgreen\",\"hoverinfo\":\"x+y\",\"line\":{\"color\":\"yellowgreen\",\"width\":0},\"mode\":\"lines\",\"name\":\"Electrified - Dry w/o precal.\",\"showlegend\":false,\"stackgroup\":\"one\",\"type\":\"scatter\",\"x\":[2015,2016,2017,2018,2019,2020,2021,2022,2023,2024,2025,2026,2027,2028,2029,2030,2031,2032,2033,2034,2035,2036,2037,2038,2039,2040,2041,2042,2043,2044,2045,2046,2047,2048,2049,2050],\"xaxis\":\"x3\",\"y\":[0.0,0.0,0.0,0.0,0.0,0.0,0.0,0.0,0.0,0.0,0.0,0.0,0.0,0.0,0.0,0.0,0.0,0.0,0.0,0.0,0.0,0.0,0.0,0.0,0.0,0.0,0.0,0.0,0.0,0.0,0.0,0.0,0.0,0.0,0.0,0.0],\"yaxis\":\"y3\"},{\"fillcolor\":\"yellow\",\"hoverinfo\":\"x+y\",\"line\":{\"color\":\"yellow\",\"width\":0},\"mode\":\"lines\",\"name\":\"Electrified - Dry w/ precal.\",\"showlegend\":false,\"stackgroup\":\"one\",\"type\":\"scatter\",\"x\":[2015,2016,2017,2018,2019,2020,2021,2022,2023,2024,2025,2026,2027,2028,2029,2030,2031,2032,2033,2034,2035,2036,2037,2038,2039,2040,2041,2042,2043,2044,2045,2046,2047,2048,2049,2050],\"xaxis\":\"x3\",\"y\":[0.0,0.0,0.0,0.0,0.0,0.0,0.0,0.0,0.0,0.0,0.0,0.0,0.0,0.0,0.0,0.0,0.0,0.0,0.0,0.0,0.0,0.0,0.0,0.0,0.0,0.0,0.0,0.0,0.0,0.0,0.0,0.0,0.0,0.0,0.0,0.0],\"yaxis\":\"y3\"}],                        {\"annotations\":[{\"font\":{\"size\":24},\"showarrow\":false,\"text\":\"High electricity price\",\"x\":0.14444444444444446,\"xanchor\":\"center\",\"xref\":\"paper\",\"y\":1.0,\"yanchor\":\"bottom\",\"yref\":\"paper\"},{\"font\":{\"size\":24},\"showarrow\":false,\"text\":\"Reference\",\"x\":0.5,\"xanchor\":\"center\",\"xref\":\"paper\",\"y\":1.0,\"yanchor\":\"bottom\",\"yref\":\"paper\"},{\"font\":{\"size\":24},\"showarrow\":false,\"text\":\"Fossil phase-out\",\"x\":0.8555555555555556,\"xanchor\":\"center\",\"xref\":\"paper\",\"y\":1.0,\"yanchor\":\"bottom\",\"yref\":\"paper\"}],\"font\":{\"family\":\"Times New Roman\",\"size\":24},\"legend\":{\"font\":{\"size\":16},\"orientation\":\"h\",\"x\":0.8,\"xanchor\":\"right\",\"y\":1.1,\"yanchor\":\"bottom\"},\"template\":{\"data\":{\"bar\":[{\"error_x\":{\"color\":\"#2a3f5f\"},\"error_y\":{\"color\":\"#2a3f5f\"},\"marker\":{\"line\":{\"color\":\"#E5ECF6\",\"width\":0.5},\"pattern\":{\"fillmode\":\"overlay\",\"size\":10,\"solidity\":0.2}},\"type\":\"bar\"}],\"barpolar\":[{\"marker\":{\"line\":{\"color\":\"#E5ECF6\",\"width\":0.5},\"pattern\":{\"fillmode\":\"overlay\",\"size\":10,\"solidity\":0.2}},\"type\":\"barpolar\"}],\"carpet\":[{\"aaxis\":{\"endlinecolor\":\"#2a3f5f\",\"gridcolor\":\"white\",\"linecolor\":\"white\",\"minorgridcolor\":\"white\",\"startlinecolor\":\"#2a3f5f\"},\"baxis\":{\"endlinecolor\":\"#2a3f5f\",\"gridcolor\":\"white\",\"linecolor\":\"white\",\"minorgridcolor\":\"white\",\"startlinecolor\":\"#2a3f5f\"},\"type\":\"carpet\"}],\"choropleth\":[{\"colorbar\":{\"outlinewidth\":0,\"ticks\":\"\"},\"type\":\"choropleth\"}],\"contour\":[{\"colorbar\":{\"outlinewidth\":0,\"ticks\":\"\"},\"colorscale\":[[0.0,\"#0d0887\"],[0.1111111111111111,\"#46039f\"],[0.2222222222222222,\"#7201a8\"],[0.3333333333333333,\"#9c179e\"],[0.4444444444444444,\"#bd3786\"],[0.5555555555555556,\"#d8576b\"],[0.6666666666666666,\"#ed7953\"],[0.7777777777777778,\"#fb9f3a\"],[0.8888888888888888,\"#fdca26\"],[1.0,\"#f0f921\"]],\"type\":\"contour\"}],\"contourcarpet\":[{\"colorbar\":{\"outlinewidth\":0,\"ticks\":\"\"},\"type\":\"contourcarpet\"}],\"heatmap\":[{\"colorbar\":{\"outlinewidth\":0,\"ticks\":\"\"},\"colorscale\":[[0.0,\"#0d0887\"],[0.1111111111111111,\"#46039f\"],[0.2222222222222222,\"#7201a8\"],[0.3333333333333333,\"#9c179e\"],[0.4444444444444444,\"#bd3786\"],[0.5555555555555556,\"#d8576b\"],[0.6666666666666666,\"#ed7953\"],[0.7777777777777778,\"#fb9f3a\"],[0.8888888888888888,\"#fdca26\"],[1.0,\"#f0f921\"]],\"type\":\"heatmap\"}],\"heatmapgl\":[{\"colorbar\":{\"outlinewidth\":0,\"ticks\":\"\"},\"colorscale\":[[0.0,\"#0d0887\"],[0.1111111111111111,\"#46039f\"],[0.2222222222222222,\"#7201a8\"],[0.3333333333333333,\"#9c179e\"],[0.4444444444444444,\"#bd3786\"],[0.5555555555555556,\"#d8576b\"],[0.6666666666666666,\"#ed7953\"],[0.7777777777777778,\"#fb9f3a\"],[0.8888888888888888,\"#fdca26\"],[1.0,\"#f0f921\"]],\"type\":\"heatmapgl\"}],\"histogram\":[{\"marker\":{\"pattern\":{\"fillmode\":\"overlay\",\"size\":10,\"solidity\":0.2}},\"type\":\"histogram\"}],\"histogram2d\":[{\"colorbar\":{\"outlinewidth\":0,\"ticks\":\"\"},\"colorscale\":[[0.0,\"#0d0887\"],[0.1111111111111111,\"#46039f\"],[0.2222222222222222,\"#7201a8\"],[0.3333333333333333,\"#9c179e\"],[0.4444444444444444,\"#bd3786\"],[0.5555555555555556,\"#d8576b\"],[0.6666666666666666,\"#ed7953\"],[0.7777777777777778,\"#fb9f3a\"],[0.8888888888888888,\"#fdca26\"],[1.0,\"#f0f921\"]],\"type\":\"histogram2d\"}],\"histogram2dcontour\":[{\"colorbar\":{\"outlinewidth\":0,\"ticks\":\"\"},\"colorscale\":[[0.0,\"#0d0887\"],[0.1111111111111111,\"#46039f\"],[0.2222222222222222,\"#7201a8\"],[0.3333333333333333,\"#9c179e\"],[0.4444444444444444,\"#bd3786\"],[0.5555555555555556,\"#d8576b\"],[0.6666666666666666,\"#ed7953\"],[0.7777777777777778,\"#fb9f3a\"],[0.8888888888888888,\"#fdca26\"],[1.0,\"#f0f921\"]],\"type\":\"histogram2dcontour\"}],\"mesh3d\":[{\"colorbar\":{\"outlinewidth\":0,\"ticks\":\"\"},\"type\":\"mesh3d\"}],\"parcoords\":[{\"line\":{\"colorbar\":{\"outlinewidth\":0,\"ticks\":\"\"}},\"type\":\"parcoords\"}],\"pie\":[{\"automargin\":true,\"type\":\"pie\"}],\"scatter\":[{\"marker\":{\"colorbar\":{\"outlinewidth\":0,\"ticks\":\"\"}},\"type\":\"scatter\"}],\"scatter3d\":[{\"line\":{\"colorbar\":{\"outlinewidth\":0,\"ticks\":\"\"}},\"marker\":{\"colorbar\":{\"outlinewidth\":0,\"ticks\":\"\"}},\"type\":\"scatter3d\"}],\"scattercarpet\":[{\"marker\":{\"colorbar\":{\"outlinewidth\":0,\"ticks\":\"\"}},\"type\":\"scattercarpet\"}],\"scattergeo\":[{\"marker\":{\"colorbar\":{\"outlinewidth\":0,\"ticks\":\"\"}},\"type\":\"scattergeo\"}],\"scattergl\":[{\"marker\":{\"colorbar\":{\"outlinewidth\":0,\"ticks\":\"\"}},\"type\":\"scattergl\"}],\"scattermapbox\":[{\"marker\":{\"colorbar\":{\"outlinewidth\":0,\"ticks\":\"\"}},\"type\":\"scattermapbox\"}],\"scatterpolar\":[{\"marker\":{\"colorbar\":{\"outlinewidth\":0,\"ticks\":\"\"}},\"type\":\"scatterpolar\"}],\"scatterpolargl\":[{\"marker\":{\"colorbar\":{\"outlinewidth\":0,\"ticks\":\"\"}},\"type\":\"scatterpolargl\"}],\"scatterternary\":[{\"marker\":{\"colorbar\":{\"outlinewidth\":0,\"ticks\":\"\"}},\"type\":\"scatterternary\"}],\"surface\":[{\"colorbar\":{\"outlinewidth\":0,\"ticks\":\"\"},\"colorscale\":[[0.0,\"#0d0887\"],[0.1111111111111111,\"#46039f\"],[0.2222222222222222,\"#7201a8\"],[0.3333333333333333,\"#9c179e\"],[0.4444444444444444,\"#bd3786\"],[0.5555555555555556,\"#d8576b\"],[0.6666666666666666,\"#ed7953\"],[0.7777777777777778,\"#fb9f3a\"],[0.8888888888888888,\"#fdca26\"],[1.0,\"#f0f921\"]],\"type\":\"surface\"}],\"table\":[{\"cells\":{\"fill\":{\"color\":\"#EBF0F8\"},\"line\":{\"color\":\"white\"}},\"header\":{\"fill\":{\"color\":\"#C8D4E3\"},\"line\":{\"color\":\"white\"}},\"type\":\"table\"}]},\"layout\":{\"annotationdefaults\":{\"arrowcolor\":\"#2a3f5f\",\"arrowhead\":0,\"arrowwidth\":1},\"autotypenumbers\":\"strict\",\"coloraxis\":{\"colorbar\":{\"outlinewidth\":0,\"ticks\":\"\"}},\"colorscale\":{\"diverging\":[[0,\"#8e0152\"],[0.1,\"#c51b7d\"],[0.2,\"#de77ae\"],[0.3,\"#f1b6da\"],[0.4,\"#fde0ef\"],[0.5,\"#f7f7f7\"],[0.6,\"#e6f5d0\"],[0.7,\"#b8e186\"],[0.8,\"#7fbc41\"],[0.9,\"#4d9221\"],[1,\"#276419\"]],\"sequential\":[[0.0,\"#0d0887\"],[0.1111111111111111,\"#46039f\"],[0.2222222222222222,\"#7201a8\"],[0.3333333333333333,\"#9c179e\"],[0.4444444444444444,\"#bd3786\"],[0.5555555555555556,\"#d8576b\"],[0.6666666666666666,\"#ed7953\"],[0.7777777777777778,\"#fb9f3a\"],[0.8888888888888888,\"#fdca26\"],[1.0,\"#f0f921\"]],\"sequentialminus\":[[0.0,\"#0d0887\"],[0.1111111111111111,\"#46039f\"],[0.2222222222222222,\"#7201a8\"],[0.3333333333333333,\"#9c179e\"],[0.4444444444444444,\"#bd3786\"],[0.5555555555555556,\"#d8576b\"],[0.6666666666666666,\"#ed7953\"],[0.7777777777777778,\"#fb9f3a\"],[0.8888888888888888,\"#fdca26\"],[1.0,\"#f0f921\"]]},\"colorway\":[\"#636efa\",\"#EF553B\",\"#00cc96\",\"#ab63fa\",\"#FFA15A\",\"#19d3f3\",\"#FF6692\",\"#B6E880\",\"#FF97FF\",\"#FECB52\"],\"font\":{\"color\":\"#2a3f5f\"},\"geo\":{\"bgcolor\":\"white\",\"lakecolor\":\"white\",\"landcolor\":\"#E5ECF6\",\"showlakes\":true,\"showland\":true,\"subunitcolor\":\"white\"},\"hoverlabel\":{\"align\":\"left\"},\"hovermode\":\"closest\",\"mapbox\":{\"style\":\"light\"},\"paper_bgcolor\":\"white\",\"plot_bgcolor\":\"#E5ECF6\",\"polar\":{\"angularaxis\":{\"gridcolor\":\"white\",\"linecolor\":\"white\",\"ticks\":\"\"},\"bgcolor\":\"#E5ECF6\",\"radialaxis\":{\"gridcolor\":\"white\",\"linecolor\":\"white\",\"ticks\":\"\"}},\"scene\":{\"xaxis\":{\"backgroundcolor\":\"#E5ECF6\",\"gridcolor\":\"white\",\"gridwidth\":2,\"linecolor\":\"white\",\"showbackground\":true,\"ticks\":\"\",\"zerolinecolor\":\"white\"},\"yaxis\":{\"backgroundcolor\":\"#E5ECF6\",\"gridcolor\":\"white\",\"gridwidth\":2,\"linecolor\":\"white\",\"showbackground\":true,\"ticks\":\"\",\"zerolinecolor\":\"white\"},\"zaxis\":{\"backgroundcolor\":\"#E5ECF6\",\"gridcolor\":\"white\",\"gridwidth\":2,\"linecolor\":\"white\",\"showbackground\":true,\"ticks\":\"\",\"zerolinecolor\":\"white\"}},\"shapedefaults\":{\"line\":{\"color\":\"#2a3f5f\"}},\"ternary\":{\"aaxis\":{\"gridcolor\":\"white\",\"linecolor\":\"white\",\"ticks\":\"\"},\"baxis\":{\"gridcolor\":\"white\",\"linecolor\":\"white\",\"ticks\":\"\"},\"bgcolor\":\"#E5ECF6\",\"caxis\":{\"gridcolor\":\"white\",\"linecolor\":\"white\",\"ticks\":\"\"}},\"title\":{\"x\":0.05},\"xaxis\":{\"automargin\":true,\"gridcolor\":\"white\",\"linecolor\":\"white\",\"ticks\":\"\",\"title\":{\"standoff\":15},\"zerolinecolor\":\"white\",\"zerolinewidth\":2},\"yaxis\":{\"automargin\":true,\"gridcolor\":\"white\",\"linecolor\":\"white\",\"ticks\":\"\",\"title\":{\"standoff\":15},\"zerolinecolor\":\"white\",\"zerolinewidth\":2}}},\"xaxis\":{\"anchor\":\"y\",\"domain\":[0.0,0.2888888888888889],\"title\":{\"text\":\"Year\"}},\"xaxis2\":{\"anchor\":\"y2\",\"domain\":[0.35555555555555557,0.6444444444444445],\"title\":{\"text\":\"Year\"}},\"xaxis3\":{\"anchor\":\"y3\",\"domain\":[0.7111111111111111,1.0],\"title\":{\"text\":\"Year\"}},\"yaxis\":{\"anchor\":\"x\",\"domain\":[0.0,1.0],\"title\":{\"text\":\"Production (Mt of clinker)\"}},\"yaxis2\":{\"anchor\":\"x2\",\"domain\":[0.0,1.0],\"matches\":\"y\",\"showticklabels\":false},\"yaxis3\":{\"anchor\":\"x3\",\"domain\":[0.0,1.0],\"matches\":\"y\",\"showticklabels\":false}},                        {\"responsive\": true}                    ).then(function(){\n",
       "                            \n",
       "var gd = document.getElementById('7286408a-ab70-4d8c-b13b-d2d27fb5b46a');\n",
       "var x = new MutationObserver(function (mutations, observer) {{\n",
       "        var display = window.getComputedStyle(gd).display;\n",
       "        if (!display || display === 'none') {{\n",
       "            console.log([gd, 'removed!']);\n",
       "            Plotly.purge(gd);\n",
       "            observer.disconnect();\n",
       "        }}\n",
       "}});\n",
       "\n",
       "// Listen for the removal of the full notebook cells\n",
       "var notebookContainer = gd.closest('#notebook-container');\n",
       "if (notebookContainer) {{\n",
       "    x.observe(notebookContainer, {childList: true});\n",
       "}}\n",
       "\n",
       "// Listen for the clearing of the current output cell\n",
       "var outputEl = gd.closest('.output');\n",
       "if (outputEl) {{\n",
       "    x.observe(outputEl, {childList: true});\n",
       "}}\n",
       "\n",
       "                        })                };                });            </script>        </div>"
      ]
     },
     "metadata": {},
     "output_type": "display_data"
    }
   ],
   "source": [
    "\n",
    "clinker_techs=[\"Semi_wet_pathway_clinker\",\"Dry_without_precalciner_pathway_clinker\",\"Dry_with_precalciner_pathway_clinker\",\n",
    "              \"Electrified_dry_without_precalciner_pathway_clinker\",\n",
    "               \"Electrified_dry_with_precalciner_pathway_clinker\"\n",
    "              ]\n",
    "clinker_techs_colors={\"Semi_wet_pathway_clinker\":\"darkgoldenrod\",\n",
    "                      \"Dry_without_precalciner_pathway_clinker\":\"cornflowerblue\",\n",
    "                      \"Dry_with_precalciner_pathway_clinker\":\"mediumblue\",\n",
    "              \"Electrified_dry_without_precalciner_pathway_clinker\":\"yellowgreen\",\n",
    "               \"Electrified_dry_with_precalciner_pathway_clinker\":\"yellow\"\n",
    "                     }\n",
    "\n",
    "clinker_techs_name={\"Semi_wet_pathway_clinker\":\"Semi-wet\",\n",
    "                      \"Dry_without_precalciner_pathway_clinker\":\"Dry without precalciner\",\n",
    "                      \"Dry_with_precalciner_pathway_clinker\":\"Dry with precalciner\",\n",
    "              \"Electrified_dry_without_precalciner_pathway_clinker\":\"Electrified - Dry w/o precal.\",\n",
    "               \"Electrified_dry_with_precalciner_pathway_clinker\":\"Electrified - Dry w/ precal.\"\n",
    "                     }\n",
    "\n",
    "fig =make_subplots(rows=1, cols=3,subplot_titles=list(scen.keys()),shared_yaxes=True)\n",
    "for i in range(len(scen.keys())):\n",
    "    showlegend=[True,False,False]\n",
    "    tech_usage_flow=scen[list(scen.keys())[i]]['tech_usage_flow']\n",
    "    tech_usage=tech_usage_flow[(tech_usage_flow.Resource.isin([\"Clinker\"]))]\n",
    "    clinker_tech_usage=tech_usage[tech_usage.Technology.isin(clinker_techs)]\n",
    "    for tech in clinker_techs:\n",
    "        u=clinker_tech_usage[clinker_tech_usage.Technology==tech]\n",
    "        u=u[[\"Year\",\"Flow\"]].groupby(by=[\"Year\"]).sum().reset_index()\n",
    "\n",
    "        fig.add_trace(go.Scatter(x=u.Year,y=u.Flow*1e-6,name=clinker_techs_name[tech],line=dict(width=0,color=clinker_techs_colors[tech]),fillcolor=clinker_techs_colors[tech],\n",
    "                                 hoverinfo=\"x+y\",mode='lines',stackgroup='one',showlegend=showlegend[i]),row=1, col=i+1)\n",
    "        fig.update_xaxes(title_text=\"Year\", row=1, col=i+1)\n",
    "\n",
    "\n",
    "fig.update_layout(#title='Clinker production per technology in EU-5+1', title_x=0.5,\n",
    "                   xaxis_title='Year',\n",
    "                   yaxis_title='Production (Mt of clinker)')\n",
    "fig.update_layout(\n",
    "    font=dict(\n",
    "        family=\"Times New Roman\",size=24)\n",
    "    )\n",
    "fig.update_annotations(font_size=24)\n",
    "fig.update_layout(legend=dict(\n",
    "    orientation=\"h\",\n",
    "    yanchor=\"bottom\",\n",
    "    y=1.1,\n",
    "    xanchor=\"right\",\n",
    "    x=0.8,font = dict(size=16)\n",
    "))\n",
    "fig.show()"
   ]
  },
  {
   "cell_type": "code",
   "execution_count": 252,
   "id": "e0f9757c",
   "metadata": {},
   "outputs": [
    {
     "data": {
      "application/vnd.plotly.v1+json": {
       "config": {
        "plotlyServerURL": "https://plot.ly"
       },
       "data": [
        {
         "fillcolor": "green",
         "line": {
          "color": "green",
          "width": 0
         },
         "mode": "lines",
         "name": "Waste",
         "showlegend": true,
         "stackgroup": "one",
         "type": "scatter",
         "x": [
          2015,
          2016,
          2017,
          2018,
          2019,
          2020,
          2021,
          2022,
          2023,
          2024,
          2025,
          2026,
          2027,
          2028,
          2029,
          2030,
          2031,
          2032,
          2033,
          2034,
          2035,
          2036,
          2037,
          2038,
          2039,
          2040,
          2041,
          2042,
          2043,
          2044,
          2045,
          2046,
          2047,
          2048,
          2049,
          2050
         ],
         "xaxis": "x",
         "y": [
          37.510386080695,
          37.89043151719907,
          38.23727979247738,
          38.54567976977458,
          38.80884645532931,
          39.01829860693984,
          38.55468901287267,
          38.01071911991703,
          37.372853922613736,
          36.62304674701723,
          31.60508514975767,
          31.700981371317333,
          31.77516898431159,
          31.77516898431159,
          31.245441276277905,
          30.661411655725907,
          30.361952669513407,
          30.065705597448826,
          29.773786210438868,
          29.48186682342891,
          26.973207141550628,
          21.086908225680066,
          15.198388124373805,
          9.197058792445759,
          1.5434581124826756,
          26.211188048009596,
          27.61852895631673,
          27.32912276904095,
          27.039716581765173,
          26.75031039448939,
          26.46090420721361,
          25.790914695286176,
          25.739719330115264,
          25.407254355835576,
          25.203180235546178,
          23.82249418006323
         ],
         "yaxis": "y"
        },
        {
         "fillcolor": "brown",
         "line": {
          "color": "brown",
          "width": 0
         },
         "mode": "lines",
         "name": "Biomass",
         "showlegend": true,
         "stackgroup": "one",
         "type": "scatter",
         "x": [
          2015,
          2016,
          2017,
          2018,
          2019,
          2020,
          2021,
          2022,
          2023,
          2024,
          2025,
          2026,
          2027,
          2028,
          2029,
          2030,
          2031,
          2032,
          2033,
          2034,
          2035,
          2036,
          2037,
          2038,
          2039,
          2040,
          2041,
          2042,
          2043,
          2044,
          2045,
          2046,
          2047,
          2048,
          2049,
          2050
         ],
         "xaxis": "x",
         "y": [
          0,
          0,
          0,
          0,
          0,
          0,
          0,
          0,
          0,
          0,
          1.0791645518076936,
          0.7779363433938477,
          0.6949866807230795,
          0.06651166671346445,
          0,
          0,
          -8.39954762752684e-32,
          0,
          0,
          0,
          3.3039450421254695,
          11.660758385304616,
          20.020985290653897,
          28.55005988241982,
          39.54522013436823,
          2.5317848536327587,
          0,
          0,
          0,
          0,
          0,
          0.564918255951427,
          0.2030237053811993,
          0.26187410216137497,
          0.13093705108068718,
          1.7617430942899774
         ],
         "yaxis": "y"
        },
        {
         "fillcolor": "black",
         "line": {
          "color": "black",
          "width": 0
         },
         "mode": "lines",
         "name": "Coal",
         "showlegend": true,
         "stackgroup": "one",
         "type": "scatter",
         "x": [
          2015,
          2016,
          2017,
          2018,
          2019,
          2020,
          2021,
          2022,
          2023,
          2024,
          2025,
          2026,
          2027,
          2028,
          2029,
          2030,
          2031,
          2032,
          2033,
          2034,
          2035,
          2036,
          2037,
          2038,
          2039,
          2040,
          2041,
          2042,
          2043,
          2044,
          2045,
          2046,
          2047,
          2048,
          2049,
          2050
         ],
         "xaxis": "x",
         "y": [
          37.455160361458134,
          37.834646265396245,
          38.180983883561424,
          38.488929810331875,
          38.7517090413438,
          38.9608528211425,
          38.49792578931883,
          37.95475677131331,
          37.317830688958644,
          36.56912743803175,
          34.80003404767445,
          33.99099164216031,
          31.902347724917448,
          31.745035492134242,
          31.199439297955323,
          30.61626953141233,
          30.317251432101386,
          30.021440518107575,
          29.72995091761253,
          29.438461317117486,
          28.036166276016495,
          24.947568327641427,
          21.857891719267016,
          18.711923836477688,
          14.739158024889539,
          27.017565405647584,
          27.577866801504577,
          27.288886700614835,
          26.999906599725087,
          26.710926498835345,
          26.421946397945597,
          25.941481266214083,
          25.769581209857034,
          25.457246671930097,
          25.209773575604252,
          24.37539169109776
         ],
         "yaxis": "y"
        },
        {
         "fillcolor": "purple",
         "line": {
          "color": "purple",
          "width": 0
         },
         "mode": "lines",
         "name": "Gas",
         "showlegend": true,
         "stackgroup": "one",
         "type": "scatter",
         "x": [
          2015,
          2016,
          2017,
          2018,
          2019,
          2020,
          2021,
          2022,
          2023,
          2024,
          2025,
          2026,
          2027,
          2028,
          2029,
          2030,
          2031,
          2032,
          2033,
          2034,
          2035,
          2036,
          2037,
          2038,
          2039,
          2040,
          2041,
          2042,
          2043,
          2044,
          2045,
          2046,
          2047,
          2048,
          2049,
          2050
         ],
         "xaxis": "x",
         "y": [
          0,
          0,
          0,
          0,
          0,
          0,
          9.15868692100048e-16,
          0,
          -4.57934346050024e-16,
          -1.831737384200096e-15,
          0,
          0,
          0,
          0,
          0,
          0,
          0,
          0,
          0,
          0,
          0,
          0,
          0,
          0,
          -3.7174231028719756e-56,
          0,
          0,
          0,
          0,
          0,
          0,
          0,
          0,
          0,
          0,
          0
         ],
         "yaxis": "y"
        },
        {
         "fillcolor": "cyan",
         "line": {
          "color": "cyan",
          "width": 0
         },
         "mode": "lines",
         "name": "Hydrogen",
         "showlegend": true,
         "stackgroup": "one",
         "type": "scatter",
         "x": [
          2015,
          2016,
          2017,
          2018,
          2019,
          2020,
          2021,
          2022,
          2023,
          2024,
          2025,
          2026,
          2027,
          2028,
          2029,
          2030,
          2031,
          2032,
          2033,
          2034,
          2035,
          2036,
          2037,
          2038,
          2039,
          2040,
          2041,
          2042,
          2043,
          2044,
          2045,
          2046,
          2047,
          2048,
          2049,
          2050
         ],
         "xaxis": "x",
         "y": [
          0,
          0,
          0,
          0,
          0,
          0,
          0,
          0,
          0,
          0,
          0,
          0,
          0,
          0,
          0,
          0,
          0,
          0,
          0,
          0,
          0,
          0,
          0,
          0,
          2.17317857802775e-56,
          0,
          0,
          0,
          0,
          0,
          0,
          0,
          0,
          0,
          0,
          0
         ],
         "yaxis": "y"
        },
        {
         "fillcolor": "yellow",
         "line": {
          "color": "yellow",
          "width": 0
         },
         "mode": "lines",
         "name": "Electricity",
         "showlegend": true,
         "stackgroup": "one",
         "type": "scatter",
         "x": [
          2015,
          2016,
          2017,
          2018,
          2019,
          2020,
          2021,
          2022,
          2023,
          2024,
          2025,
          2026,
          2027,
          2028,
          2029,
          2030,
          2031,
          2032,
          2033,
          2034,
          2035,
          2036,
          2037,
          2038,
          2039,
          2040,
          2041,
          2042,
          2043,
          2044,
          2045,
          2046,
          2047,
          2048,
          2049,
          2050
         ],
         "xaxis": "x",
         "y": [
          0,
          0,
          0,
          0,
          0,
          0,
          0,
          0,
          0,
          0,
          0,
          0,
          0,
          0,
          0,
          0,
          0,
          0,
          0,
          1.0274071950127053,
          5.882341189329384,
          5.882341189329384,
          5.882341189329384,
          5.882341189329384,
          5.882341189329384,
          21.872120705144756,
          26.48687405270941,
          26.92159981690472,
          26.663937755412785,
          26.406275693920854,
          26.148613632428916,
          26.3819616725599,
          26.216208840725805,
          25.95854677923387,
          25.700884717741936,
          25.44322265625
         ],
         "yaxis": "y"
        },
        {
         "fillcolor": "green",
         "line": {
          "color": "green",
          "width": 0
         },
         "mode": "lines",
         "name": "Waste",
         "showlegend": false,
         "stackgroup": "one",
         "type": "scatter",
         "x": [
          2015,
          2016,
          2017,
          2018,
          2019,
          2020,
          2021,
          2022,
          2023,
          2024,
          2025,
          2026,
          2027,
          2028,
          2029,
          2030,
          2031,
          2032,
          2033,
          2034,
          2035,
          2036,
          2037,
          2038,
          2039,
          2040,
          2041,
          2042,
          2043,
          2044,
          2045,
          2046,
          2047,
          2048,
          2049,
          2050
         ],
         "xaxis": "x2",
         "y": [
          37.510386080695,
          37.89043151719907,
          38.23727979247738,
          38.54567976977458,
          38.80884645532931,
          39.01829860693984,
          38.55468901287267,
          38.01071911991703,
          37.372853922613736,
          36.62304674701722,
          31.60508514975767,
          31.700981371317333,
          31.77516898431159,
          31.77516898431159,
          31.245441276277905,
          30.661411655725907,
          30.361952669513407,
          30.067716146943795,
          29.773786210438868,
          29.481866823428906,
          26.973207141550635,
          21.60365191228651,
          15.717853152432014,
          9.719245161955664,
          2.3041855098694484,
          26.21319859750456,
          27.620539505811696,
          27.331133318535915,
          27.041727131260135,
          26.75232094398435,
          26.462914756708575,
          25.989757635632696,
          25.741918699493226,
          25.411083019229476,
          25.207008898940074,
          23.826405515504067
         ],
         "yaxis": "y2"
        },
        {
         "fillcolor": "brown",
         "line": {
          "color": "brown",
          "width": 0
         },
         "mode": "lines",
         "name": "Biomass",
         "showlegend": false,
         "stackgroup": "one",
         "type": "scatter",
         "x": [
          2015,
          2016,
          2017,
          2018,
          2019,
          2020,
          2021,
          2022,
          2023,
          2024,
          2025,
          2026,
          2027,
          2028,
          2029,
          2030,
          2031,
          2032,
          2033,
          2034,
          2035,
          2036,
          2037,
          2038,
          2039,
          2040,
          2041,
          2042,
          2043,
          2044,
          2045,
          2046,
          2047,
          2048,
          2049,
          2050
         ],
         "xaxis": "x2",
         "y": [
          0,
          0,
          0,
          0,
          0,
          0,
          0,
          0,
          0,
          0,
          1.0791645518076936,
          0.7779363433938477,
          0.6949866807230795,
          0.06651166671346444,
          0,
          0,
          0,
          0,
          0,
          0,
          3.3039450421254632,
          10.887735956797172,
          19.24389187292614,
          27.768895475471847,
          38.4072104103947,
          2.531784853632756,
          0,
          0,
          0,
          0,
          0,
          0.2704669511193682,
          0.2027412403829997,
          0.2618741021613743,
          0.13093705108068704,
          1.7616194210876823
         ],
         "yaxis": "y2"
        },
        {
         "fillcolor": "black",
         "line": {
          "color": "black",
          "width": 0
         },
         "mode": "lines",
         "name": "Coal",
         "showlegend": false,
         "stackgroup": "one",
         "type": "scatter",
         "x": [
          2015,
          2016,
          2017,
          2018,
          2019,
          2020,
          2021,
          2022,
          2023,
          2024,
          2025,
          2026,
          2027,
          2028,
          2029,
          2030,
          2031,
          2032,
          2033,
          2034,
          2035,
          2036,
          2037,
          2038,
          2039,
          2040,
          2041,
          2042,
          2043,
          2044,
          2045,
          2046,
          2047,
          2048,
          2049,
          2050
         ],
         "xaxis": "x2",
         "y": [
          37.455160361458134,
          37.834646265396245,
          38.18098388356143,
          38.488929810331875,
          38.7517090413438,
          38.9608528211425,
          38.49792578931883,
          37.95475677131331,
          37.317830688958644,
          36.56912743803175,
          34.80003404767445,
          33.99099164216031,
          31.902347724917448,
          31.745035492134242,
          31.199439297955323,
          30.61626953141233,
          30.317251432101386,
          30.023448107514586,
          29.72995091761253,
          29.438461317117486,
          28.036166276016495,
          25.205559775743005,
          22.11724183480879,
          18.972632619459624,
          15.118961722446532,
          27.0195729950546,
          27.57987439091159,
          27.290894290021846,
          27.0019141891321,
          26.712934088242356,
          26.42395398735261,
          26.04176015503953,
          25.771683070207857,
          25.4610696984668,
          25.21359660214096,
          24.379255992799813
         ],
         "yaxis": "y2"
        },
        {
         "fillcolor": "purple",
         "line": {
          "color": "purple",
          "width": 0
         },
         "mode": "lines",
         "name": "Gas",
         "showlegend": false,
         "stackgroup": "one",
         "type": "scatter",
         "x": [
          2015,
          2016,
          2017,
          2018,
          2019,
          2020,
          2021,
          2022,
          2023,
          2024,
          2025,
          2026,
          2027,
          2028,
          2029,
          2030,
          2031,
          2032,
          2033,
          2034,
          2035,
          2036,
          2037,
          2038,
          2039,
          2040,
          2041,
          2042,
          2043,
          2044,
          2045,
          2046,
          2047,
          2048,
          2049,
          2050
         ],
         "xaxis": "x2",
         "y": [
          0,
          0,
          0,
          0,
          0,
          0,
          0,
          -9.15868692100048e-16,
          9.15868692100048e-16,
          0,
          0,
          0,
          0,
          0,
          0,
          0,
          0,
          0,
          0,
          0,
          0,
          0,
          0,
          0,
          0,
          0,
          0,
          0,
          0,
          9.856553408739655e-58,
          0,
          0,
          0,
          0,
          0,
          0
         ],
         "yaxis": "y2"
        },
        {
         "fillcolor": "cyan",
         "line": {
          "color": "cyan",
          "width": 0
         },
         "mode": "lines",
         "name": "Hydrogen",
         "showlegend": false,
         "stackgroup": "one",
         "type": "scatter",
         "x": [
          2015,
          2016,
          2017,
          2018,
          2019,
          2020,
          2021,
          2022,
          2023,
          2024,
          2025,
          2026,
          2027,
          2028,
          2029,
          2030,
          2031,
          2032,
          2033,
          2034,
          2035,
          2036,
          2037,
          2038,
          2039,
          2040,
          2041,
          2042,
          2043,
          2044,
          2045,
          2046,
          2047,
          2048,
          2049,
          2050
         ],
         "xaxis": "x2",
         "y": [
          0,
          0,
          0,
          0,
          0,
          0,
          0,
          0,
          0,
          0,
          0,
          0,
          0,
          0,
          0,
          0,
          0,
          0,
          0,
          0,
          0,
          0,
          0,
          0,
          0,
          0,
          0,
          0,
          0,
          0,
          0,
          0,
          0,
          0,
          0,
          0
         ],
         "yaxis": "y2"
        },
        {
         "fillcolor": "yellow",
         "line": {
          "color": "yellow",
          "width": 0
         },
         "mode": "lines",
         "name": "Electricity",
         "showlegend": false,
         "stackgroup": "one",
         "type": "scatter",
         "x": [
          2015,
          2016,
          2017,
          2018,
          2019,
          2020,
          2021,
          2022,
          2023,
          2024,
          2025,
          2026,
          2027,
          2028,
          2029,
          2030,
          2031,
          2032,
          2033,
          2034,
          2035,
          2036,
          2037,
          2038,
          2039,
          2040,
          2041,
          2042,
          2043,
          2044,
          2045,
          2046,
          2047,
          2048,
          2049,
          2050
         ],
         "xaxis": "x2",
         "y": [
          0,
          0,
          0,
          0,
          0,
          0,
          0,
          0,
          0,
          0,
          0,
          0,
          0,
          0,
          0,
          0.08117402343749969,
          0.08379254032258035,
          0.08641105720766062,
          2.4669098686732744,
          5.810202217518944,
          5.976207995162342,
          5.976207995162343,
          5.976207995162342,
          5.976207995162343,
          5.976207995162343,
          21.965987510977712,
          26.580740858542367,
          26.90641061155168,
          26.648748550059747,
          26.39108648856781,
          26.73153296370968,
          26.473870902217744,
          26.216208840725805,
          25.95854677923387,
          25.700884717741936,
          25.44322265625
         ],
         "yaxis": "y2"
        },
        {
         "fillcolor": "green",
         "line": {
          "color": "green",
          "width": 0
         },
         "mode": "lines",
         "name": "Waste",
         "showlegend": false,
         "stackgroup": "one",
         "type": "scatter",
         "x": [
          2015,
          2016,
          2017,
          2018,
          2019,
          2020,
          2021,
          2022,
          2023,
          2024,
          2025,
          2026,
          2027,
          2028,
          2029,
          2030,
          2031,
          2032,
          2033,
          2034,
          2035,
          2036,
          2037,
          2038,
          2039,
          2040,
          2041,
          2042,
          2043,
          2044,
          2045,
          2046,
          2047,
          2048,
          2049,
          2050
         ],
         "xaxis": "x3",
         "y": [
          37.510386080695,
          37.8919063714829,
          38.24009502852975,
          38.54849500582696,
          38.81166169138168,
          39.021113842992214,
          38.55750424892505,
          38.013534355969405,
          37.375669158666106,
          36.6258619830696,
          31.60790038581004,
          31.703796607369707,
          31.77798422036397,
          31.77798422036397,
          31.24825651233028,
          30.664226891778284,
          30.364767905565778,
          30.067332022463894,
          29.774264331363906,
          29.48186682342891,
          26.957160217864676,
          21.55658118724103,
          15.67106525263906,
          9.66284162679621,
          2.273393742264972,
          13.66010426721737,
          11.505153389015895,
          7.97980244138615,
          4.447390352256897,
          2.129627344117393,
          0.5253117887464784,
          0.12460753223636925,
          0,
          0,
          0,
          0
         ],
         "yaxis": "y3"
        },
        {
         "fillcolor": "brown",
         "line": {
          "color": "brown",
          "width": 0
         },
         "mode": "lines",
         "name": "Biomass",
         "showlegend": false,
         "stackgroup": "one",
         "type": "scatter",
         "x": [
          2015,
          2016,
          2017,
          2018,
          2019,
          2020,
          2021,
          2022,
          2023,
          2024,
          2025,
          2026,
          2027,
          2028,
          2029,
          2030,
          2031,
          2032,
          2033,
          2034,
          2035,
          2036,
          2037,
          2038,
          2039,
          2040,
          2041,
          2042,
          2043,
          2044,
          2045,
          2046,
          2047,
          2048,
          2049,
          2050
         ],
         "xaxis": "x3",
         "y": [
          0,
          0,
          0,
          0,
          0,
          0,
          0,
          0,
          0,
          0,
          1.0791645518076936,
          0.7779363433938478,
          0.6949866807230795,
          0.06651166671346445,
          0,
          0,
          0,
          0,
          0,
          0,
          3.327950428624246,
          10.958151381560702,
          19.313884205411583,
          27.853272312297285,
          38.45327333789356,
          18.98489979493529,
          19.446839868320584,
          24.008878374076325,
          28.592043101173374,
          29.541100603710795,
          28.35559547163337,
          23.569007042981536,
          17.956365134304953,
          11.97091008953663,
          5.98545504476831,
          0
         ],
         "yaxis": "y3"
        },
        {
         "fillcolor": "black",
         "line": {
          "color": "black",
          "width": 0
         },
         "mode": "lines",
         "name": "Coal",
         "showlegend": false,
         "stackgroup": "one",
         "type": "scatter",
         "x": [
          2015,
          2016,
          2017,
          2018,
          2019,
          2020,
          2021,
          2022,
          2023,
          2024,
          2025,
          2026,
          2027,
          2028,
          2029,
          2030,
          2031,
          2032,
          2033,
          2034,
          2035,
          2036,
          2037,
          2038,
          2039,
          2040,
          2041,
          2042,
          2043,
          2044,
          2045,
          2046,
          2047,
          2048,
          2049,
          2050
         ],
         "xaxis": "x3",
         "y": [
          37.455160361458134,
          37.83611894828444,
          38.18379497480347,
          38.49174090157391,
          38.75452013258584,
          38.96366391238454,
          38.50073688056087,
          37.95756786255535,
          37.32064178020069,
          36.571938529273794,
          34.80284513891649,
          33.993802733402354,
          31.905158816159485,
          31.747846583376283,
          31.202250389197367,
          30.61908062265437,
          30.320062523343427,
          30.02306454857274,
          29.73042833461061,
          29.43846131711749,
          28.028154626940527,
          25.182059063818635,
          22.093882327311974,
          18.944472372724153,
          15.10358850566655,
          19.976085526111003,
          17.9784769734999,
          15.980868420888802,
          13.9832598682777,
          11.9856513156666,
          9.9880427630555,
          7.990434210444398,
          5.992825657833297,
          3.9952171052221965,
          1.9976085526110967,
          0
         ],
         "yaxis": "y3"
        },
        {
         "fillcolor": "purple",
         "line": {
          "color": "purple",
          "width": 0
         },
         "mode": "lines",
         "name": "Gas",
         "showlegend": false,
         "stackgroup": "one",
         "type": "scatter",
         "x": [
          2015,
          2016,
          2017,
          2018,
          2019,
          2020,
          2021,
          2022,
          2023,
          2024,
          2025,
          2026,
          2027,
          2028,
          2029,
          2030,
          2031,
          2032,
          2033,
          2034,
          2035,
          2036,
          2037,
          2038,
          2039,
          2040,
          2041,
          2042,
          2043,
          2044,
          2045,
          2046,
          2047,
          2048,
          2049,
          2050
         ],
         "xaxis": "x3",
         "y": [
          0,
          0,
          0,
          0,
          0,
          0,
          -1.5138603374361988e-15,
          -8.917406307799472e-16,
          -1.9731177618870365e-15,
          -2.2185007234414415e-15,
          0,
          0,
          0,
          0,
          0,
          0,
          0,
          0,
          0,
          0,
          0,
          0,
          0,
          0,
          0,
          2.9211892717937213,
          6.0244228597042335,
          6.393433699869004,
          6.751034245632152,
          9.5313031537371,
          13.734572827303781,
          20.33260884114811,
          27.48126904875108,
          34.87737214935296,
          42.02526877004996,
          49.04945415347835
         ],
         "yaxis": "y3"
        },
        {
         "fillcolor": "cyan",
         "line": {
          "color": "cyan",
          "width": 0
         },
         "mode": "lines",
         "name": "Hydrogen",
         "showlegend": false,
         "stackgroup": "one",
         "type": "scatter",
         "x": [
          2015,
          2016,
          2017,
          2018,
          2019,
          2020,
          2021,
          2022,
          2023,
          2024,
          2025,
          2026,
          2027,
          2028,
          2029,
          2030,
          2031,
          2032,
          2033,
          2034,
          2035,
          2036,
          2037,
          2038,
          2039,
          2040,
          2041,
          2042,
          2043,
          2044,
          2045,
          2046,
          2047,
          2048,
          2049,
          2050
         ],
         "xaxis": "x3",
         "y": [
          0,
          0,
          0,
          0,
          0,
          0,
          0,
          0,
          0,
          0,
          0,
          0,
          0,
          0,
          0,
          0,
          0,
          0,
          0,
          0,
          0,
          0,
          0,
          0,
          0,
          0,
          0,
          0,
          0,
          0,
          0,
          0,
          0,
          0,
          0.25056915754244913,
          0.6282385750760479
         ],
         "yaxis": "y3"
        },
        {
         "fillcolor": "yellow",
         "line": {
          "color": "yellow",
          "width": 0
         },
         "mode": "lines",
         "name": "Electricity",
         "showlegend": false,
         "stackgroup": "one",
         "type": "scatter",
         "x": [
          2015,
          2016,
          2017,
          2018,
          2019,
          2020,
          2021,
          2022,
          2023,
          2024,
          2025,
          2026,
          2027,
          2028,
          2029,
          2030,
          2031,
          2032,
          2033,
          2034,
          2035,
          2036,
          2037,
          2038,
          2039,
          2040,
          2041,
          2042,
          2043,
          2044,
          2045,
          2046,
          2047,
          2048,
          2049,
          2050
         ],
         "xaxis": "x3",
         "y": [
          0,
          0,
          0,
          0,
          0,
          0,
          0,
          0,
          0,
          0,
          0,
          0,
          0,
          0,
          0,
          0.08117402343749998,
          0.08379254032258063,
          0.08641105720766168,
          2.328982239345741,
          5.245866249527437,
          5.993349833077881,
          5.993349833077881,
          5.993349833077881,
          5.993349833077881,
          5.993349833077881,
          21.981806466401302,
          26.583125186012403,
          26.903636777991274,
          26.64597471649934,
          26.388312655007404,
          26.13065059351547,
          26.148032555262112,
          26.201310521106553,
          25.943648459614618,
          25.685986398122683,
          25.428324336630748
         ],
         "yaxis": "y3"
        }
       ],
       "layout": {
        "annotations": [
         {
          "font": {
           "size": 24
          },
          "showarrow": false,
          "text": "High electricity price",
          "x": 0.14444444444444446,
          "xanchor": "center",
          "xref": "paper",
          "y": 1,
          "yanchor": "bottom",
          "yref": "paper"
         },
         {
          "font": {
           "size": 24
          },
          "showarrow": false,
          "text": "Reference",
          "x": 0.5,
          "xanchor": "center",
          "xref": "paper",
          "y": 1,
          "yanchor": "bottom",
          "yref": "paper"
         },
         {
          "font": {
           "size": 24
          },
          "showarrow": false,
          "text": "Fossil phase-out",
          "x": 0.8555555555555556,
          "xanchor": "center",
          "xref": "paper",
          "y": 1,
          "yanchor": "bottom",
          "yref": "paper"
         }
        ],
        "font": {
         "family": "Times New Roman",
         "size": 24
        },
        "legend": {
         "font": {
          "size": 20
         },
         "orientation": "h",
         "x": 0.9,
         "xanchor": "right",
         "y": 1.1,
         "yanchor": "bottom"
        },
        "template": {
         "data": {
          "bar": [
           {
            "error_x": {
             "color": "#2a3f5f"
            },
            "error_y": {
             "color": "#2a3f5f"
            },
            "marker": {
             "line": {
              "color": "#E5ECF6",
              "width": 0.5
             },
             "pattern": {
              "fillmode": "overlay",
              "size": 10,
              "solidity": 0.2
             }
            },
            "type": "bar"
           }
          ],
          "barpolar": [
           {
            "marker": {
             "line": {
              "color": "#E5ECF6",
              "width": 0.5
             },
             "pattern": {
              "fillmode": "overlay",
              "size": 10,
              "solidity": 0.2
             }
            },
            "type": "barpolar"
           }
          ],
          "carpet": [
           {
            "aaxis": {
             "endlinecolor": "#2a3f5f",
             "gridcolor": "white",
             "linecolor": "white",
             "minorgridcolor": "white",
             "startlinecolor": "#2a3f5f"
            },
            "baxis": {
             "endlinecolor": "#2a3f5f",
             "gridcolor": "white",
             "linecolor": "white",
             "minorgridcolor": "white",
             "startlinecolor": "#2a3f5f"
            },
            "type": "carpet"
           }
          ],
          "choropleth": [
           {
            "colorbar": {
             "outlinewidth": 0,
             "ticks": ""
            },
            "type": "choropleth"
           }
          ],
          "contour": [
           {
            "colorbar": {
             "outlinewidth": 0,
             "ticks": ""
            },
            "colorscale": [
             [
              0,
              "#0d0887"
             ],
             [
              0.1111111111111111,
              "#46039f"
             ],
             [
              0.2222222222222222,
              "#7201a8"
             ],
             [
              0.3333333333333333,
              "#9c179e"
             ],
             [
              0.4444444444444444,
              "#bd3786"
             ],
             [
              0.5555555555555556,
              "#d8576b"
             ],
             [
              0.6666666666666666,
              "#ed7953"
             ],
             [
              0.7777777777777778,
              "#fb9f3a"
             ],
             [
              0.8888888888888888,
              "#fdca26"
             ],
             [
              1,
              "#f0f921"
             ]
            ],
            "type": "contour"
           }
          ],
          "contourcarpet": [
           {
            "colorbar": {
             "outlinewidth": 0,
             "ticks": ""
            },
            "type": "contourcarpet"
           }
          ],
          "heatmap": [
           {
            "colorbar": {
             "outlinewidth": 0,
             "ticks": ""
            },
            "colorscale": [
             [
              0,
              "#0d0887"
             ],
             [
              0.1111111111111111,
              "#46039f"
             ],
             [
              0.2222222222222222,
              "#7201a8"
             ],
             [
              0.3333333333333333,
              "#9c179e"
             ],
             [
              0.4444444444444444,
              "#bd3786"
             ],
             [
              0.5555555555555556,
              "#d8576b"
             ],
             [
              0.6666666666666666,
              "#ed7953"
             ],
             [
              0.7777777777777778,
              "#fb9f3a"
             ],
             [
              0.8888888888888888,
              "#fdca26"
             ],
             [
              1,
              "#f0f921"
             ]
            ],
            "type": "heatmap"
           }
          ],
          "heatmapgl": [
           {
            "colorbar": {
             "outlinewidth": 0,
             "ticks": ""
            },
            "colorscale": [
             [
              0,
              "#0d0887"
             ],
             [
              0.1111111111111111,
              "#46039f"
             ],
             [
              0.2222222222222222,
              "#7201a8"
             ],
             [
              0.3333333333333333,
              "#9c179e"
             ],
             [
              0.4444444444444444,
              "#bd3786"
             ],
             [
              0.5555555555555556,
              "#d8576b"
             ],
             [
              0.6666666666666666,
              "#ed7953"
             ],
             [
              0.7777777777777778,
              "#fb9f3a"
             ],
             [
              0.8888888888888888,
              "#fdca26"
             ],
             [
              1,
              "#f0f921"
             ]
            ],
            "type": "heatmapgl"
           }
          ],
          "histogram": [
           {
            "marker": {
             "pattern": {
              "fillmode": "overlay",
              "size": 10,
              "solidity": 0.2
             }
            },
            "type": "histogram"
           }
          ],
          "histogram2d": [
           {
            "colorbar": {
             "outlinewidth": 0,
             "ticks": ""
            },
            "colorscale": [
             [
              0,
              "#0d0887"
             ],
             [
              0.1111111111111111,
              "#46039f"
             ],
             [
              0.2222222222222222,
              "#7201a8"
             ],
             [
              0.3333333333333333,
              "#9c179e"
             ],
             [
              0.4444444444444444,
              "#bd3786"
             ],
             [
              0.5555555555555556,
              "#d8576b"
             ],
             [
              0.6666666666666666,
              "#ed7953"
             ],
             [
              0.7777777777777778,
              "#fb9f3a"
             ],
             [
              0.8888888888888888,
              "#fdca26"
             ],
             [
              1,
              "#f0f921"
             ]
            ],
            "type": "histogram2d"
           }
          ],
          "histogram2dcontour": [
           {
            "colorbar": {
             "outlinewidth": 0,
             "ticks": ""
            },
            "colorscale": [
             [
              0,
              "#0d0887"
             ],
             [
              0.1111111111111111,
              "#46039f"
             ],
             [
              0.2222222222222222,
              "#7201a8"
             ],
             [
              0.3333333333333333,
              "#9c179e"
             ],
             [
              0.4444444444444444,
              "#bd3786"
             ],
             [
              0.5555555555555556,
              "#d8576b"
             ],
             [
              0.6666666666666666,
              "#ed7953"
             ],
             [
              0.7777777777777778,
              "#fb9f3a"
             ],
             [
              0.8888888888888888,
              "#fdca26"
             ],
             [
              1,
              "#f0f921"
             ]
            ],
            "type": "histogram2dcontour"
           }
          ],
          "mesh3d": [
           {
            "colorbar": {
             "outlinewidth": 0,
             "ticks": ""
            },
            "type": "mesh3d"
           }
          ],
          "parcoords": [
           {
            "line": {
             "colorbar": {
              "outlinewidth": 0,
              "ticks": ""
             }
            },
            "type": "parcoords"
           }
          ],
          "pie": [
           {
            "automargin": true,
            "type": "pie"
           }
          ],
          "scatter": [
           {
            "marker": {
             "colorbar": {
              "outlinewidth": 0,
              "ticks": ""
             }
            },
            "type": "scatter"
           }
          ],
          "scatter3d": [
           {
            "line": {
             "colorbar": {
              "outlinewidth": 0,
              "ticks": ""
             }
            },
            "marker": {
             "colorbar": {
              "outlinewidth": 0,
              "ticks": ""
             }
            },
            "type": "scatter3d"
           }
          ],
          "scattercarpet": [
           {
            "marker": {
             "colorbar": {
              "outlinewidth": 0,
              "ticks": ""
             }
            },
            "type": "scattercarpet"
           }
          ],
          "scattergeo": [
           {
            "marker": {
             "colorbar": {
              "outlinewidth": 0,
              "ticks": ""
             }
            },
            "type": "scattergeo"
           }
          ],
          "scattergl": [
           {
            "marker": {
             "colorbar": {
              "outlinewidth": 0,
              "ticks": ""
             }
            },
            "type": "scattergl"
           }
          ],
          "scattermapbox": [
           {
            "marker": {
             "colorbar": {
              "outlinewidth": 0,
              "ticks": ""
             }
            },
            "type": "scattermapbox"
           }
          ],
          "scatterpolar": [
           {
            "marker": {
             "colorbar": {
              "outlinewidth": 0,
              "ticks": ""
             }
            },
            "type": "scatterpolar"
           }
          ],
          "scatterpolargl": [
           {
            "marker": {
             "colorbar": {
              "outlinewidth": 0,
              "ticks": ""
             }
            },
            "type": "scatterpolargl"
           }
          ],
          "scatterternary": [
           {
            "marker": {
             "colorbar": {
              "outlinewidth": 0,
              "ticks": ""
             }
            },
            "type": "scatterternary"
           }
          ],
          "surface": [
           {
            "colorbar": {
             "outlinewidth": 0,
             "ticks": ""
            },
            "colorscale": [
             [
              0,
              "#0d0887"
             ],
             [
              0.1111111111111111,
              "#46039f"
             ],
             [
              0.2222222222222222,
              "#7201a8"
             ],
             [
              0.3333333333333333,
              "#9c179e"
             ],
             [
              0.4444444444444444,
              "#bd3786"
             ],
             [
              0.5555555555555556,
              "#d8576b"
             ],
             [
              0.6666666666666666,
              "#ed7953"
             ],
             [
              0.7777777777777778,
              "#fb9f3a"
             ],
             [
              0.8888888888888888,
              "#fdca26"
             ],
             [
              1,
              "#f0f921"
             ]
            ],
            "type": "surface"
           }
          ],
          "table": [
           {
            "cells": {
             "fill": {
              "color": "#EBF0F8"
             },
             "line": {
              "color": "white"
             }
            },
            "header": {
             "fill": {
              "color": "#C8D4E3"
             },
             "line": {
              "color": "white"
             }
            },
            "type": "table"
           }
          ]
         },
         "layout": {
          "annotationdefaults": {
           "arrowcolor": "#2a3f5f",
           "arrowhead": 0,
           "arrowwidth": 1
          },
          "autotypenumbers": "strict",
          "coloraxis": {
           "colorbar": {
            "outlinewidth": 0,
            "ticks": ""
           }
          },
          "colorscale": {
           "diverging": [
            [
             0,
             "#8e0152"
            ],
            [
             0.1,
             "#c51b7d"
            ],
            [
             0.2,
             "#de77ae"
            ],
            [
             0.3,
             "#f1b6da"
            ],
            [
             0.4,
             "#fde0ef"
            ],
            [
             0.5,
             "#f7f7f7"
            ],
            [
             0.6,
             "#e6f5d0"
            ],
            [
             0.7,
             "#b8e186"
            ],
            [
             0.8,
             "#7fbc41"
            ],
            [
             0.9,
             "#4d9221"
            ],
            [
             1,
             "#276419"
            ]
           ],
           "sequential": [
            [
             0,
             "#0d0887"
            ],
            [
             0.1111111111111111,
             "#46039f"
            ],
            [
             0.2222222222222222,
             "#7201a8"
            ],
            [
             0.3333333333333333,
             "#9c179e"
            ],
            [
             0.4444444444444444,
             "#bd3786"
            ],
            [
             0.5555555555555556,
             "#d8576b"
            ],
            [
             0.6666666666666666,
             "#ed7953"
            ],
            [
             0.7777777777777778,
             "#fb9f3a"
            ],
            [
             0.8888888888888888,
             "#fdca26"
            ],
            [
             1,
             "#f0f921"
            ]
           ],
           "sequentialminus": [
            [
             0,
             "#0d0887"
            ],
            [
             0.1111111111111111,
             "#46039f"
            ],
            [
             0.2222222222222222,
             "#7201a8"
            ],
            [
             0.3333333333333333,
             "#9c179e"
            ],
            [
             0.4444444444444444,
             "#bd3786"
            ],
            [
             0.5555555555555556,
             "#d8576b"
            ],
            [
             0.6666666666666666,
             "#ed7953"
            ],
            [
             0.7777777777777778,
             "#fb9f3a"
            ],
            [
             0.8888888888888888,
             "#fdca26"
            ],
            [
             1,
             "#f0f921"
            ]
           ]
          },
          "colorway": [
           "#636efa",
           "#EF553B",
           "#00cc96",
           "#ab63fa",
           "#FFA15A",
           "#19d3f3",
           "#FF6692",
           "#B6E880",
           "#FF97FF",
           "#FECB52"
          ],
          "font": {
           "color": "#2a3f5f"
          },
          "geo": {
           "bgcolor": "white",
           "lakecolor": "white",
           "landcolor": "#E5ECF6",
           "showlakes": true,
           "showland": true,
           "subunitcolor": "white"
          },
          "hoverlabel": {
           "align": "left"
          },
          "hovermode": "closest",
          "mapbox": {
           "style": "light"
          },
          "paper_bgcolor": "white",
          "plot_bgcolor": "#E5ECF6",
          "polar": {
           "angularaxis": {
            "gridcolor": "white",
            "linecolor": "white",
            "ticks": ""
           },
           "bgcolor": "#E5ECF6",
           "radialaxis": {
            "gridcolor": "white",
            "linecolor": "white",
            "ticks": ""
           }
          },
          "scene": {
           "xaxis": {
            "backgroundcolor": "#E5ECF6",
            "gridcolor": "white",
            "gridwidth": 2,
            "linecolor": "white",
            "showbackground": true,
            "ticks": "",
            "zerolinecolor": "white"
           },
           "yaxis": {
            "backgroundcolor": "#E5ECF6",
            "gridcolor": "white",
            "gridwidth": 2,
            "linecolor": "white",
            "showbackground": true,
            "ticks": "",
            "zerolinecolor": "white"
           },
           "zaxis": {
            "backgroundcolor": "#E5ECF6",
            "gridcolor": "white",
            "gridwidth": 2,
            "linecolor": "white",
            "showbackground": true,
            "ticks": "",
            "zerolinecolor": "white"
           }
          },
          "shapedefaults": {
           "line": {
            "color": "#2a3f5f"
           }
          },
          "ternary": {
           "aaxis": {
            "gridcolor": "white",
            "linecolor": "white",
            "ticks": ""
           },
           "baxis": {
            "gridcolor": "white",
            "linecolor": "white",
            "ticks": ""
           },
           "bgcolor": "#E5ECF6",
           "caxis": {
            "gridcolor": "white",
            "linecolor": "white",
            "ticks": ""
           }
          },
          "title": {
           "x": 0.05
          },
          "xaxis": {
           "automargin": true,
           "gridcolor": "white",
           "linecolor": "white",
           "ticks": "",
           "title": {
            "standoff": 15
           },
           "zerolinecolor": "white",
           "zerolinewidth": 2
          },
          "yaxis": {
           "automargin": true,
           "gridcolor": "white",
           "linecolor": "white",
           "ticks": "",
           "title": {
            "standoff": 15
           },
           "zerolinecolor": "white",
           "zerolinewidth": 2
          }
         }
        },
        "xaxis": {
         "anchor": "y",
         "domain": [
          0,
          0.2888888888888889
         ],
         "title": {
          "text": "Year"
         }
        },
        "xaxis2": {
         "anchor": "y2",
         "domain": [
          0.35555555555555557,
          0.6444444444444445
         ],
         "title": {
          "text": "Year"
         }
        },
        "xaxis3": {
         "anchor": "y3",
         "domain": [
          0.7111111111111111,
          1
         ],
         "title": {
          "text": "Year"
         }
        },
        "yaxis": {
         "anchor": "x",
         "domain": [
          0,
          1
         ],
         "title": {
          "text": "Energy consumption for clinker (TWh)"
         }
        },
        "yaxis2": {
         "anchor": "x2",
         "domain": [
          0,
          1
         ],
         "matches": "y",
         "showticklabels": false
        },
        "yaxis3": {
         "anchor": "x3",
         "domain": [
          0,
          1
         ],
         "matches": "y",
         "showticklabels": false
        }
       }
      },
      "text/html": [
       "<div>                            <div id=\"20912d17-4b7b-4360-8ec2-cc12ce79c9c0\" class=\"plotly-graph-div\" style=\"height:525px; width:100%;\"></div>            <script type=\"text/javascript\">                require([\"plotly\"], function(Plotly) {                    window.PLOTLYENV=window.PLOTLYENV || {};                                    if (document.getElementById(\"20912d17-4b7b-4360-8ec2-cc12ce79c9c0\")) {                    Plotly.newPlot(                        \"20912d17-4b7b-4360-8ec2-cc12ce79c9c0\",                        [{\"fillcolor\":\"green\",\"line\":{\"color\":\"green\",\"width\":0},\"mode\":\"lines\",\"name\":\"Waste\",\"showlegend\":true,\"stackgroup\":\"one\",\"type\":\"scatter\",\"x\":[2015,2016,2017,2018,2019,2020,2021,2022,2023,2024,2025,2026,2027,2028,2029,2030,2031,2032,2033,2034,2035,2036,2037,2038,2039,2040,2041,2042,2043,2044,2045,2046,2047,2048,2049,2050],\"xaxis\":\"x\",\"y\":[37.510386080695,37.89043151719907,38.23727979247738,38.54567976977458,38.80884645532931,39.01829860693984,38.55468901287267,38.01071911991703,37.372853922613736,36.62304674701723,31.60508514975767,31.700981371317333,31.77516898431159,31.77516898431159,31.245441276277905,30.661411655725907,30.361952669513407,30.065705597448826,29.773786210438868,29.48186682342891,26.973207141550628,21.086908225680066,15.198388124373805,9.197058792445759,1.5434581124826756,26.211188048009596,27.61852895631673,27.32912276904095,27.039716581765173,26.75031039448939,26.46090420721361,25.790914695286176,25.739719330115264,25.407254355835576,25.203180235546178,23.82249418006323],\"yaxis\":\"y\"},{\"fillcolor\":\"brown\",\"line\":{\"color\":\"brown\",\"width\":0},\"mode\":\"lines\",\"name\":\"Biomass\",\"showlegend\":true,\"stackgroup\":\"one\",\"type\":\"scatter\",\"x\":[2015,2016,2017,2018,2019,2020,2021,2022,2023,2024,2025,2026,2027,2028,2029,2030,2031,2032,2033,2034,2035,2036,2037,2038,2039,2040,2041,2042,2043,2044,2045,2046,2047,2048,2049,2050],\"xaxis\":\"x\",\"y\":[0.0,0.0,0.0,0.0,0.0,0.0,0.0,0.0,0.0,0.0,1.0791645518076936,0.7779363433938477,0.6949866807230795,0.06651166671346445,0.0,0.0,-8.39954762752684e-32,0.0,0.0,0.0,3.3039450421254695,11.660758385304616,20.020985290653897,28.55005988241982,39.54522013436823,2.5317848536327587,0.0,0.0,0.0,0.0,0.0,0.564918255951427,0.2030237053811993,0.26187410216137497,0.13093705108068718,1.7617430942899774],\"yaxis\":\"y\"},{\"fillcolor\":\"black\",\"line\":{\"color\":\"black\",\"width\":0},\"mode\":\"lines\",\"name\":\"Coal\",\"showlegend\":true,\"stackgroup\":\"one\",\"type\":\"scatter\",\"x\":[2015,2016,2017,2018,2019,2020,2021,2022,2023,2024,2025,2026,2027,2028,2029,2030,2031,2032,2033,2034,2035,2036,2037,2038,2039,2040,2041,2042,2043,2044,2045,2046,2047,2048,2049,2050],\"xaxis\":\"x\",\"y\":[37.455160361458134,37.834646265396245,38.180983883561424,38.488929810331875,38.7517090413438,38.9608528211425,38.49792578931883,37.95475677131331,37.317830688958644,36.56912743803175,34.80003404767445,33.99099164216031,31.902347724917448,31.745035492134242,31.199439297955323,30.61626953141233,30.317251432101386,30.021440518107575,29.72995091761253,29.438461317117486,28.036166276016495,24.947568327641427,21.857891719267016,18.711923836477688,14.739158024889539,27.017565405647584,27.577866801504577,27.288886700614835,26.999906599725087,26.710926498835345,26.421946397945597,25.941481266214083,25.769581209857034,25.457246671930097,25.209773575604252,24.37539169109776],\"yaxis\":\"y\"},{\"fillcolor\":\"purple\",\"line\":{\"color\":\"purple\",\"width\":0},\"mode\":\"lines\",\"name\":\"Gas\",\"showlegend\":true,\"stackgroup\":\"one\",\"type\":\"scatter\",\"x\":[2015,2016,2017,2018,2019,2020,2021,2022,2023,2024,2025,2026,2027,2028,2029,2030,2031,2032,2033,2034,2035,2036,2037,2038,2039,2040,2041,2042,2043,2044,2045,2046,2047,2048,2049,2050],\"xaxis\":\"x\",\"y\":[0.0,0.0,0.0,0.0,0.0,0.0,9.15868692100048e-16,0.0,-4.57934346050024e-16,-1.831737384200096e-15,0.0,0.0,0.0,0.0,0.0,0.0,0.0,0.0,0.0,0.0,0.0,0.0,0.0,0.0,-3.7174231028719756e-56,0.0,0.0,0.0,0.0,0.0,0.0,0.0,0.0,0.0,0.0,0.0],\"yaxis\":\"y\"},{\"fillcolor\":\"cyan\",\"line\":{\"color\":\"cyan\",\"width\":0},\"mode\":\"lines\",\"name\":\"Hydrogen\",\"showlegend\":true,\"stackgroup\":\"one\",\"type\":\"scatter\",\"x\":[2015,2016,2017,2018,2019,2020,2021,2022,2023,2024,2025,2026,2027,2028,2029,2030,2031,2032,2033,2034,2035,2036,2037,2038,2039,2040,2041,2042,2043,2044,2045,2046,2047,2048,2049,2050],\"xaxis\":\"x\",\"y\":[0.0,0.0,0.0,0.0,0.0,0.0,0.0,0.0,0.0,0.0,0.0,0.0,0.0,0.0,0.0,0.0,0.0,0.0,0.0,0.0,0.0,0.0,0.0,0.0,2.17317857802775e-56,0.0,0.0,0.0,0.0,0.0,0.0,0.0,0.0,0.0,0.0,0.0],\"yaxis\":\"y\"},{\"fillcolor\":\"yellow\",\"line\":{\"color\":\"yellow\",\"width\":0},\"mode\":\"lines\",\"name\":\"Electricity\",\"showlegend\":true,\"stackgroup\":\"one\",\"type\":\"scatter\",\"x\":[2015,2016,2017,2018,2019,2020,2021,2022,2023,2024,2025,2026,2027,2028,2029,2030,2031,2032,2033,2034,2035,2036,2037,2038,2039,2040,2041,2042,2043,2044,2045,2046,2047,2048,2049,2050],\"xaxis\":\"x\",\"y\":[0.0,0.0,0.0,0.0,0.0,0.0,0.0,0.0,0.0,0.0,0.0,0.0,0.0,0.0,0.0,0.0,0.0,0.0,0.0,1.0274071950127053,5.882341189329384,5.882341189329384,5.882341189329384,5.882341189329384,5.882341189329384,21.872120705144756,26.48687405270941,26.92159981690472,26.663937755412785,26.406275693920854,26.148613632428916,26.3819616725599,26.216208840725805,25.95854677923387,25.700884717741936,25.44322265625],\"yaxis\":\"y\"},{\"fillcolor\":\"green\",\"line\":{\"color\":\"green\",\"width\":0},\"mode\":\"lines\",\"name\":\"Waste\",\"showlegend\":false,\"stackgroup\":\"one\",\"type\":\"scatter\",\"x\":[2015,2016,2017,2018,2019,2020,2021,2022,2023,2024,2025,2026,2027,2028,2029,2030,2031,2032,2033,2034,2035,2036,2037,2038,2039,2040,2041,2042,2043,2044,2045,2046,2047,2048,2049,2050],\"xaxis\":\"x2\",\"y\":[37.510386080695,37.89043151719907,38.23727979247738,38.54567976977458,38.80884645532931,39.01829860693984,38.55468901287267,38.01071911991703,37.372853922613736,36.62304674701722,31.60508514975767,31.700981371317333,31.77516898431159,31.77516898431159,31.245441276277905,30.661411655725907,30.361952669513407,30.067716146943795,29.773786210438868,29.481866823428906,26.973207141550635,21.60365191228651,15.717853152432014,9.719245161955664,2.3041855098694484,26.21319859750456,27.620539505811696,27.331133318535915,27.041727131260135,26.75232094398435,26.462914756708575,25.989757635632696,25.741918699493226,25.411083019229476,25.207008898940074,23.826405515504067],\"yaxis\":\"y2\"},{\"fillcolor\":\"brown\",\"line\":{\"color\":\"brown\",\"width\":0},\"mode\":\"lines\",\"name\":\"Biomass\",\"showlegend\":false,\"stackgroup\":\"one\",\"type\":\"scatter\",\"x\":[2015,2016,2017,2018,2019,2020,2021,2022,2023,2024,2025,2026,2027,2028,2029,2030,2031,2032,2033,2034,2035,2036,2037,2038,2039,2040,2041,2042,2043,2044,2045,2046,2047,2048,2049,2050],\"xaxis\":\"x2\",\"y\":[0.0,0.0,0.0,0.0,0.0,0.0,0.0,0.0,0.0,0.0,1.0791645518076936,0.7779363433938477,0.6949866807230795,0.06651166671346444,0.0,0.0,0.0,0.0,0.0,0.0,3.3039450421254632,10.887735956797172,19.24389187292614,27.768895475471847,38.4072104103947,2.531784853632756,0.0,0.0,0.0,0.0,0.0,0.2704669511193682,0.2027412403829997,0.2618741021613743,0.13093705108068704,1.7616194210876823],\"yaxis\":\"y2\"},{\"fillcolor\":\"black\",\"line\":{\"color\":\"black\",\"width\":0},\"mode\":\"lines\",\"name\":\"Coal\",\"showlegend\":false,\"stackgroup\":\"one\",\"type\":\"scatter\",\"x\":[2015,2016,2017,2018,2019,2020,2021,2022,2023,2024,2025,2026,2027,2028,2029,2030,2031,2032,2033,2034,2035,2036,2037,2038,2039,2040,2041,2042,2043,2044,2045,2046,2047,2048,2049,2050],\"xaxis\":\"x2\",\"y\":[37.455160361458134,37.834646265396245,38.18098388356143,38.488929810331875,38.7517090413438,38.9608528211425,38.49792578931883,37.95475677131331,37.317830688958644,36.56912743803175,34.80003404767445,33.99099164216031,31.902347724917448,31.745035492134242,31.199439297955323,30.61626953141233,30.317251432101386,30.023448107514586,29.72995091761253,29.438461317117486,28.036166276016495,25.205559775743005,22.11724183480879,18.972632619459624,15.118961722446532,27.0195729950546,27.57987439091159,27.290894290021846,27.0019141891321,26.712934088242356,26.42395398735261,26.04176015503953,25.771683070207857,25.4610696984668,25.21359660214096,24.379255992799813],\"yaxis\":\"y2\"},{\"fillcolor\":\"purple\",\"line\":{\"color\":\"purple\",\"width\":0},\"mode\":\"lines\",\"name\":\"Gas\",\"showlegend\":false,\"stackgroup\":\"one\",\"type\":\"scatter\",\"x\":[2015,2016,2017,2018,2019,2020,2021,2022,2023,2024,2025,2026,2027,2028,2029,2030,2031,2032,2033,2034,2035,2036,2037,2038,2039,2040,2041,2042,2043,2044,2045,2046,2047,2048,2049,2050],\"xaxis\":\"x2\",\"y\":[0.0,0.0,0.0,0.0,0.0,0.0,0.0,-9.15868692100048e-16,9.15868692100048e-16,0.0,0.0,0.0,0.0,0.0,0.0,0.0,0.0,0.0,0.0,0.0,0.0,0.0,0.0,0.0,0.0,0.0,0.0,0.0,0.0,9.856553408739655e-58,0.0,0.0,0.0,0.0,0.0,0.0],\"yaxis\":\"y2\"},{\"fillcolor\":\"cyan\",\"line\":{\"color\":\"cyan\",\"width\":0},\"mode\":\"lines\",\"name\":\"Hydrogen\",\"showlegend\":false,\"stackgroup\":\"one\",\"type\":\"scatter\",\"x\":[2015,2016,2017,2018,2019,2020,2021,2022,2023,2024,2025,2026,2027,2028,2029,2030,2031,2032,2033,2034,2035,2036,2037,2038,2039,2040,2041,2042,2043,2044,2045,2046,2047,2048,2049,2050],\"xaxis\":\"x2\",\"y\":[0.0,0.0,0.0,0.0,0.0,0.0,0.0,0.0,0.0,0.0,0.0,0.0,0.0,0.0,0.0,0.0,0.0,0.0,0.0,0.0,0.0,0.0,0.0,0.0,0.0,0.0,0.0,0.0,0.0,0.0,0.0,0.0,0.0,0.0,0.0,0.0],\"yaxis\":\"y2\"},{\"fillcolor\":\"yellow\",\"line\":{\"color\":\"yellow\",\"width\":0},\"mode\":\"lines\",\"name\":\"Electricity\",\"showlegend\":false,\"stackgroup\":\"one\",\"type\":\"scatter\",\"x\":[2015,2016,2017,2018,2019,2020,2021,2022,2023,2024,2025,2026,2027,2028,2029,2030,2031,2032,2033,2034,2035,2036,2037,2038,2039,2040,2041,2042,2043,2044,2045,2046,2047,2048,2049,2050],\"xaxis\":\"x2\",\"y\":[0.0,0.0,0.0,0.0,0.0,0.0,0.0,0.0,0.0,0.0,0.0,0.0,0.0,0.0,0.0,0.08117402343749969,0.08379254032258035,0.08641105720766062,2.4669098686732744,5.810202217518944,5.976207995162342,5.976207995162343,5.976207995162342,5.976207995162343,5.976207995162343,21.965987510977712,26.580740858542367,26.90641061155168,26.648748550059747,26.39108648856781,26.73153296370968,26.473870902217744,26.216208840725805,25.95854677923387,25.700884717741936,25.44322265625],\"yaxis\":\"y2\"},{\"fillcolor\":\"green\",\"line\":{\"color\":\"green\",\"width\":0},\"mode\":\"lines\",\"name\":\"Waste\",\"showlegend\":false,\"stackgroup\":\"one\",\"type\":\"scatter\",\"x\":[2015,2016,2017,2018,2019,2020,2021,2022,2023,2024,2025,2026,2027,2028,2029,2030,2031,2032,2033,2034,2035,2036,2037,2038,2039,2040,2041,2042,2043,2044,2045,2046,2047,2048,2049,2050],\"xaxis\":\"x3\",\"y\":[37.510386080695,37.8919063714829,38.24009502852975,38.54849500582696,38.81166169138168,39.021113842992214,38.55750424892505,38.013534355969405,37.375669158666106,36.6258619830696,31.60790038581004,31.703796607369707,31.77798422036397,31.77798422036397,31.24825651233028,30.664226891778284,30.364767905565778,30.067332022463894,29.774264331363906,29.48186682342891,26.957160217864676,21.55658118724103,15.67106525263906,9.66284162679621,2.273393742264972,13.66010426721737,11.505153389015895,7.97980244138615,4.447390352256897,2.129627344117393,0.5253117887464784,0.12460753223636925,0.0,0.0,0.0,0.0],\"yaxis\":\"y3\"},{\"fillcolor\":\"brown\",\"line\":{\"color\":\"brown\",\"width\":0},\"mode\":\"lines\",\"name\":\"Biomass\",\"showlegend\":false,\"stackgroup\":\"one\",\"type\":\"scatter\",\"x\":[2015,2016,2017,2018,2019,2020,2021,2022,2023,2024,2025,2026,2027,2028,2029,2030,2031,2032,2033,2034,2035,2036,2037,2038,2039,2040,2041,2042,2043,2044,2045,2046,2047,2048,2049,2050],\"xaxis\":\"x3\",\"y\":[0.0,0.0,0.0,0.0,0.0,0.0,0.0,0.0,0.0,0.0,1.0791645518076936,0.7779363433938478,0.6949866807230795,0.06651166671346445,0.0,0.0,0.0,0.0,0.0,0.0,3.327950428624246,10.958151381560702,19.313884205411583,27.853272312297285,38.45327333789356,18.98489979493529,19.446839868320584,24.008878374076325,28.592043101173374,29.541100603710795,28.35559547163337,23.569007042981536,17.956365134304953,11.97091008953663,5.98545504476831,0.0],\"yaxis\":\"y3\"},{\"fillcolor\":\"black\",\"line\":{\"color\":\"black\",\"width\":0},\"mode\":\"lines\",\"name\":\"Coal\",\"showlegend\":false,\"stackgroup\":\"one\",\"type\":\"scatter\",\"x\":[2015,2016,2017,2018,2019,2020,2021,2022,2023,2024,2025,2026,2027,2028,2029,2030,2031,2032,2033,2034,2035,2036,2037,2038,2039,2040,2041,2042,2043,2044,2045,2046,2047,2048,2049,2050],\"xaxis\":\"x3\",\"y\":[37.455160361458134,37.83611894828444,38.18379497480347,38.49174090157391,38.75452013258584,38.96366391238454,38.50073688056087,37.95756786255535,37.32064178020069,36.571938529273794,34.80284513891649,33.993802733402354,31.905158816159485,31.747846583376283,31.202250389197367,30.61908062265437,30.320062523343427,30.02306454857274,29.73042833461061,29.43846131711749,28.028154626940527,25.182059063818635,22.093882327311974,18.944472372724153,15.10358850566655,19.976085526111003,17.9784769734999,15.980868420888802,13.9832598682777,11.9856513156666,9.9880427630555,7.990434210444398,5.992825657833297,3.9952171052221965,1.9976085526110967,0.0],\"yaxis\":\"y3\"},{\"fillcolor\":\"purple\",\"line\":{\"color\":\"purple\",\"width\":0},\"mode\":\"lines\",\"name\":\"Gas\",\"showlegend\":false,\"stackgroup\":\"one\",\"type\":\"scatter\",\"x\":[2015,2016,2017,2018,2019,2020,2021,2022,2023,2024,2025,2026,2027,2028,2029,2030,2031,2032,2033,2034,2035,2036,2037,2038,2039,2040,2041,2042,2043,2044,2045,2046,2047,2048,2049,2050],\"xaxis\":\"x3\",\"y\":[0.0,0.0,0.0,0.0,0.0,0.0,-1.5138603374361988e-15,-8.917406307799472e-16,-1.9731177618870365e-15,-2.2185007234414415e-15,0.0,0.0,0.0,0.0,0.0,0.0,0.0,0.0,0.0,0.0,0.0,0.0,0.0,0.0,0.0,2.9211892717937213,6.0244228597042335,6.393433699869004,6.751034245632152,9.5313031537371,13.734572827303781,20.33260884114811,27.48126904875108,34.87737214935296,42.02526877004996,49.04945415347835],\"yaxis\":\"y3\"},{\"fillcolor\":\"cyan\",\"line\":{\"color\":\"cyan\",\"width\":0},\"mode\":\"lines\",\"name\":\"Hydrogen\",\"showlegend\":false,\"stackgroup\":\"one\",\"type\":\"scatter\",\"x\":[2015,2016,2017,2018,2019,2020,2021,2022,2023,2024,2025,2026,2027,2028,2029,2030,2031,2032,2033,2034,2035,2036,2037,2038,2039,2040,2041,2042,2043,2044,2045,2046,2047,2048,2049,2050],\"xaxis\":\"x3\",\"y\":[0.0,0.0,0.0,0.0,0.0,0.0,0.0,0.0,0.0,0.0,0.0,0.0,0.0,0.0,0.0,0.0,0.0,0.0,0.0,0.0,0.0,0.0,0.0,0.0,0.0,0.0,0.0,0.0,0.0,0.0,0.0,0.0,0.0,0.0,0.25056915754244913,0.6282385750760479],\"yaxis\":\"y3\"},{\"fillcolor\":\"yellow\",\"line\":{\"color\":\"yellow\",\"width\":0},\"mode\":\"lines\",\"name\":\"Electricity\",\"showlegend\":false,\"stackgroup\":\"one\",\"type\":\"scatter\",\"x\":[2015,2016,2017,2018,2019,2020,2021,2022,2023,2024,2025,2026,2027,2028,2029,2030,2031,2032,2033,2034,2035,2036,2037,2038,2039,2040,2041,2042,2043,2044,2045,2046,2047,2048,2049,2050],\"xaxis\":\"x3\",\"y\":[0.0,0.0,0.0,0.0,0.0,0.0,0.0,0.0,0.0,0.0,0.0,0.0,0.0,0.0,0.0,0.08117402343749998,0.08379254032258063,0.08641105720766168,2.328982239345741,5.245866249527437,5.993349833077881,5.993349833077881,5.993349833077881,5.993349833077881,5.993349833077881,21.981806466401302,26.583125186012403,26.903636777991274,26.64597471649934,26.388312655007404,26.13065059351547,26.148032555262112,26.201310521106553,25.943648459614618,25.685986398122683,25.428324336630748],\"yaxis\":\"y3\"}],                        {\"annotations\":[{\"font\":{\"size\":24},\"showarrow\":false,\"text\":\"High electricity price\",\"x\":0.14444444444444446,\"xanchor\":\"center\",\"xref\":\"paper\",\"y\":1.0,\"yanchor\":\"bottom\",\"yref\":\"paper\"},{\"font\":{\"size\":24},\"showarrow\":false,\"text\":\"Reference\",\"x\":0.5,\"xanchor\":\"center\",\"xref\":\"paper\",\"y\":1.0,\"yanchor\":\"bottom\",\"yref\":\"paper\"},{\"font\":{\"size\":24},\"showarrow\":false,\"text\":\"Fossil phase-out\",\"x\":0.8555555555555556,\"xanchor\":\"center\",\"xref\":\"paper\",\"y\":1.0,\"yanchor\":\"bottom\",\"yref\":\"paper\"}],\"font\":{\"family\":\"Times New Roman\",\"size\":24},\"legend\":{\"font\":{\"size\":20},\"orientation\":\"h\",\"x\":0.9,\"xanchor\":\"right\",\"y\":1.1,\"yanchor\":\"bottom\"},\"template\":{\"data\":{\"bar\":[{\"error_x\":{\"color\":\"#2a3f5f\"},\"error_y\":{\"color\":\"#2a3f5f\"},\"marker\":{\"line\":{\"color\":\"#E5ECF6\",\"width\":0.5},\"pattern\":{\"fillmode\":\"overlay\",\"size\":10,\"solidity\":0.2}},\"type\":\"bar\"}],\"barpolar\":[{\"marker\":{\"line\":{\"color\":\"#E5ECF6\",\"width\":0.5},\"pattern\":{\"fillmode\":\"overlay\",\"size\":10,\"solidity\":0.2}},\"type\":\"barpolar\"}],\"carpet\":[{\"aaxis\":{\"endlinecolor\":\"#2a3f5f\",\"gridcolor\":\"white\",\"linecolor\":\"white\",\"minorgridcolor\":\"white\",\"startlinecolor\":\"#2a3f5f\"},\"baxis\":{\"endlinecolor\":\"#2a3f5f\",\"gridcolor\":\"white\",\"linecolor\":\"white\",\"minorgridcolor\":\"white\",\"startlinecolor\":\"#2a3f5f\"},\"type\":\"carpet\"}],\"choropleth\":[{\"colorbar\":{\"outlinewidth\":0,\"ticks\":\"\"},\"type\":\"choropleth\"}],\"contour\":[{\"colorbar\":{\"outlinewidth\":0,\"ticks\":\"\"},\"colorscale\":[[0.0,\"#0d0887\"],[0.1111111111111111,\"#46039f\"],[0.2222222222222222,\"#7201a8\"],[0.3333333333333333,\"#9c179e\"],[0.4444444444444444,\"#bd3786\"],[0.5555555555555556,\"#d8576b\"],[0.6666666666666666,\"#ed7953\"],[0.7777777777777778,\"#fb9f3a\"],[0.8888888888888888,\"#fdca26\"],[1.0,\"#f0f921\"]],\"type\":\"contour\"}],\"contourcarpet\":[{\"colorbar\":{\"outlinewidth\":0,\"ticks\":\"\"},\"type\":\"contourcarpet\"}],\"heatmap\":[{\"colorbar\":{\"outlinewidth\":0,\"ticks\":\"\"},\"colorscale\":[[0.0,\"#0d0887\"],[0.1111111111111111,\"#46039f\"],[0.2222222222222222,\"#7201a8\"],[0.3333333333333333,\"#9c179e\"],[0.4444444444444444,\"#bd3786\"],[0.5555555555555556,\"#d8576b\"],[0.6666666666666666,\"#ed7953\"],[0.7777777777777778,\"#fb9f3a\"],[0.8888888888888888,\"#fdca26\"],[1.0,\"#f0f921\"]],\"type\":\"heatmap\"}],\"heatmapgl\":[{\"colorbar\":{\"outlinewidth\":0,\"ticks\":\"\"},\"colorscale\":[[0.0,\"#0d0887\"],[0.1111111111111111,\"#46039f\"],[0.2222222222222222,\"#7201a8\"],[0.3333333333333333,\"#9c179e\"],[0.4444444444444444,\"#bd3786\"],[0.5555555555555556,\"#d8576b\"],[0.6666666666666666,\"#ed7953\"],[0.7777777777777778,\"#fb9f3a\"],[0.8888888888888888,\"#fdca26\"],[1.0,\"#f0f921\"]],\"type\":\"heatmapgl\"}],\"histogram\":[{\"marker\":{\"pattern\":{\"fillmode\":\"overlay\",\"size\":10,\"solidity\":0.2}},\"type\":\"histogram\"}],\"histogram2d\":[{\"colorbar\":{\"outlinewidth\":0,\"ticks\":\"\"},\"colorscale\":[[0.0,\"#0d0887\"],[0.1111111111111111,\"#46039f\"],[0.2222222222222222,\"#7201a8\"],[0.3333333333333333,\"#9c179e\"],[0.4444444444444444,\"#bd3786\"],[0.5555555555555556,\"#d8576b\"],[0.6666666666666666,\"#ed7953\"],[0.7777777777777778,\"#fb9f3a\"],[0.8888888888888888,\"#fdca26\"],[1.0,\"#f0f921\"]],\"type\":\"histogram2d\"}],\"histogram2dcontour\":[{\"colorbar\":{\"outlinewidth\":0,\"ticks\":\"\"},\"colorscale\":[[0.0,\"#0d0887\"],[0.1111111111111111,\"#46039f\"],[0.2222222222222222,\"#7201a8\"],[0.3333333333333333,\"#9c179e\"],[0.4444444444444444,\"#bd3786\"],[0.5555555555555556,\"#d8576b\"],[0.6666666666666666,\"#ed7953\"],[0.7777777777777778,\"#fb9f3a\"],[0.8888888888888888,\"#fdca26\"],[1.0,\"#f0f921\"]],\"type\":\"histogram2dcontour\"}],\"mesh3d\":[{\"colorbar\":{\"outlinewidth\":0,\"ticks\":\"\"},\"type\":\"mesh3d\"}],\"parcoords\":[{\"line\":{\"colorbar\":{\"outlinewidth\":0,\"ticks\":\"\"}},\"type\":\"parcoords\"}],\"pie\":[{\"automargin\":true,\"type\":\"pie\"}],\"scatter\":[{\"marker\":{\"colorbar\":{\"outlinewidth\":0,\"ticks\":\"\"}},\"type\":\"scatter\"}],\"scatter3d\":[{\"line\":{\"colorbar\":{\"outlinewidth\":0,\"ticks\":\"\"}},\"marker\":{\"colorbar\":{\"outlinewidth\":0,\"ticks\":\"\"}},\"type\":\"scatter3d\"}],\"scattercarpet\":[{\"marker\":{\"colorbar\":{\"outlinewidth\":0,\"ticks\":\"\"}},\"type\":\"scattercarpet\"}],\"scattergeo\":[{\"marker\":{\"colorbar\":{\"outlinewidth\":0,\"ticks\":\"\"}},\"type\":\"scattergeo\"}],\"scattergl\":[{\"marker\":{\"colorbar\":{\"outlinewidth\":0,\"ticks\":\"\"}},\"type\":\"scattergl\"}],\"scattermapbox\":[{\"marker\":{\"colorbar\":{\"outlinewidth\":0,\"ticks\":\"\"}},\"type\":\"scattermapbox\"}],\"scatterpolar\":[{\"marker\":{\"colorbar\":{\"outlinewidth\":0,\"ticks\":\"\"}},\"type\":\"scatterpolar\"}],\"scatterpolargl\":[{\"marker\":{\"colorbar\":{\"outlinewidth\":0,\"ticks\":\"\"}},\"type\":\"scatterpolargl\"}],\"scatterternary\":[{\"marker\":{\"colorbar\":{\"outlinewidth\":0,\"ticks\":\"\"}},\"type\":\"scatterternary\"}],\"surface\":[{\"colorbar\":{\"outlinewidth\":0,\"ticks\":\"\"},\"colorscale\":[[0.0,\"#0d0887\"],[0.1111111111111111,\"#46039f\"],[0.2222222222222222,\"#7201a8\"],[0.3333333333333333,\"#9c179e\"],[0.4444444444444444,\"#bd3786\"],[0.5555555555555556,\"#d8576b\"],[0.6666666666666666,\"#ed7953\"],[0.7777777777777778,\"#fb9f3a\"],[0.8888888888888888,\"#fdca26\"],[1.0,\"#f0f921\"]],\"type\":\"surface\"}],\"table\":[{\"cells\":{\"fill\":{\"color\":\"#EBF0F8\"},\"line\":{\"color\":\"white\"}},\"header\":{\"fill\":{\"color\":\"#C8D4E3\"},\"line\":{\"color\":\"white\"}},\"type\":\"table\"}]},\"layout\":{\"annotationdefaults\":{\"arrowcolor\":\"#2a3f5f\",\"arrowhead\":0,\"arrowwidth\":1},\"autotypenumbers\":\"strict\",\"coloraxis\":{\"colorbar\":{\"outlinewidth\":0,\"ticks\":\"\"}},\"colorscale\":{\"diverging\":[[0,\"#8e0152\"],[0.1,\"#c51b7d\"],[0.2,\"#de77ae\"],[0.3,\"#f1b6da\"],[0.4,\"#fde0ef\"],[0.5,\"#f7f7f7\"],[0.6,\"#e6f5d0\"],[0.7,\"#b8e186\"],[0.8,\"#7fbc41\"],[0.9,\"#4d9221\"],[1,\"#276419\"]],\"sequential\":[[0.0,\"#0d0887\"],[0.1111111111111111,\"#46039f\"],[0.2222222222222222,\"#7201a8\"],[0.3333333333333333,\"#9c179e\"],[0.4444444444444444,\"#bd3786\"],[0.5555555555555556,\"#d8576b\"],[0.6666666666666666,\"#ed7953\"],[0.7777777777777778,\"#fb9f3a\"],[0.8888888888888888,\"#fdca26\"],[1.0,\"#f0f921\"]],\"sequentialminus\":[[0.0,\"#0d0887\"],[0.1111111111111111,\"#46039f\"],[0.2222222222222222,\"#7201a8\"],[0.3333333333333333,\"#9c179e\"],[0.4444444444444444,\"#bd3786\"],[0.5555555555555556,\"#d8576b\"],[0.6666666666666666,\"#ed7953\"],[0.7777777777777778,\"#fb9f3a\"],[0.8888888888888888,\"#fdca26\"],[1.0,\"#f0f921\"]]},\"colorway\":[\"#636efa\",\"#EF553B\",\"#00cc96\",\"#ab63fa\",\"#FFA15A\",\"#19d3f3\",\"#FF6692\",\"#B6E880\",\"#FF97FF\",\"#FECB52\"],\"font\":{\"color\":\"#2a3f5f\"},\"geo\":{\"bgcolor\":\"white\",\"lakecolor\":\"white\",\"landcolor\":\"#E5ECF6\",\"showlakes\":true,\"showland\":true,\"subunitcolor\":\"white\"},\"hoverlabel\":{\"align\":\"left\"},\"hovermode\":\"closest\",\"mapbox\":{\"style\":\"light\"},\"paper_bgcolor\":\"white\",\"plot_bgcolor\":\"#E5ECF6\",\"polar\":{\"angularaxis\":{\"gridcolor\":\"white\",\"linecolor\":\"white\",\"ticks\":\"\"},\"bgcolor\":\"#E5ECF6\",\"radialaxis\":{\"gridcolor\":\"white\",\"linecolor\":\"white\",\"ticks\":\"\"}},\"scene\":{\"xaxis\":{\"backgroundcolor\":\"#E5ECF6\",\"gridcolor\":\"white\",\"gridwidth\":2,\"linecolor\":\"white\",\"showbackground\":true,\"ticks\":\"\",\"zerolinecolor\":\"white\"},\"yaxis\":{\"backgroundcolor\":\"#E5ECF6\",\"gridcolor\":\"white\",\"gridwidth\":2,\"linecolor\":\"white\",\"showbackground\":true,\"ticks\":\"\",\"zerolinecolor\":\"white\"},\"zaxis\":{\"backgroundcolor\":\"#E5ECF6\",\"gridcolor\":\"white\",\"gridwidth\":2,\"linecolor\":\"white\",\"showbackground\":true,\"ticks\":\"\",\"zerolinecolor\":\"white\"}},\"shapedefaults\":{\"line\":{\"color\":\"#2a3f5f\"}},\"ternary\":{\"aaxis\":{\"gridcolor\":\"white\",\"linecolor\":\"white\",\"ticks\":\"\"},\"baxis\":{\"gridcolor\":\"white\",\"linecolor\":\"white\",\"ticks\":\"\"},\"bgcolor\":\"#E5ECF6\",\"caxis\":{\"gridcolor\":\"white\",\"linecolor\":\"white\",\"ticks\":\"\"}},\"title\":{\"x\":0.05},\"xaxis\":{\"automargin\":true,\"gridcolor\":\"white\",\"linecolor\":\"white\",\"ticks\":\"\",\"title\":{\"standoff\":15},\"zerolinecolor\":\"white\",\"zerolinewidth\":2},\"yaxis\":{\"automargin\":true,\"gridcolor\":\"white\",\"linecolor\":\"white\",\"ticks\":\"\",\"title\":{\"standoff\":15},\"zerolinecolor\":\"white\",\"zerolinewidth\":2}}},\"xaxis\":{\"anchor\":\"y\",\"domain\":[0.0,0.2888888888888889],\"title\":{\"text\":\"Year\"}},\"xaxis2\":{\"anchor\":\"y2\",\"domain\":[0.35555555555555557,0.6444444444444445],\"title\":{\"text\":\"Year\"}},\"xaxis3\":{\"anchor\":\"y3\",\"domain\":[0.7111111111111111,1.0],\"title\":{\"text\":\"Year\"}},\"yaxis\":{\"anchor\":\"x\",\"domain\":[0.0,1.0],\"title\":{\"text\":\"Energy consumption for clinker (TWh)\"}},\"yaxis2\":{\"anchor\":\"x2\",\"domain\":[0.0,1.0],\"matches\":\"y\",\"showticklabels\":false},\"yaxis3\":{\"anchor\":\"x3\",\"domain\":[0.0,1.0],\"matches\":\"y\",\"showticklabels\":false}},                        {\"responsive\": true}                    ).then(function(){\n",
       "                            \n",
       "var gd = document.getElementById('20912d17-4b7b-4360-8ec2-cc12ce79c9c0');\n",
       "var x = new MutationObserver(function (mutations, observer) {{\n",
       "        var display = window.getComputedStyle(gd).display;\n",
       "        if (!display || display === 'none') {{\n",
       "            console.log([gd, 'removed!']);\n",
       "            Plotly.purge(gd);\n",
       "            observer.disconnect();\n",
       "        }}\n",
       "}});\n",
       "\n",
       "// Listen for the removal of the full notebook cells\n",
       "var notebookContainer = gd.closest('#notebook-container');\n",
       "if (notebookContainer) {{\n",
       "    x.observe(notebookContainer, {childList: true});\n",
       "}}\n",
       "\n",
       "// Listen for the clearing of the current output cell\n",
       "var outputEl = gd.closest('.output');\n",
       "if (outputEl) {{\n",
       "    x.observe(outputEl, {childList: true});\n",
       "}}\n",
       "\n",
       "                        })                };                });            </script>        </div>"
      ]
     },
     "metadata": {},
     "output_type": "display_data"
    }
   ],
   "source": [
    "clinker_techs=[\"Semi_wet_pathway_clinker\",\"Dry_without_precalciner_pathway_clinker\",\"Dry_with_precalciner_pathway_clinker\",\n",
    "              \"Electrified_dry_without_precalciner_pathway_clinker\",\n",
    "               \"Electrified_dry_with_precalciner_pathway_clinker\"\n",
    "              ]\n",
    "\n",
    "fig =make_subplots(rows=1, cols=3,subplot_titles=list(scen.keys()),shared_yaxes=True)\n",
    "for i in range(len(scen.keys())):\n",
    "    showlegend=[True,False,False]\n",
    "    \n",
    "    resource_tech_inflow=scen[list(scen.keys())[i]]['resource_tech_inflow']\n",
    "    resource_inflow=resource_tech_inflow[\n",
    "        resource_tech_inflow.Technology.isin(clinker_techs)].drop([\"Technology\",\"Tech_type\"],axis=1).groupby([\"Sector\",\"Country\",\"Resource\",\"Year\"]).sum().reset_index()\n",
    "    energy_input=resource_inflow[(resource_inflow.Resource.isin(primary_resource_conversion.keys()))]\n",
    "    energy_input=energy_input.drop([\"Sector\",\"Country\"],axis=1).groupby(by=[\"Resource\",\"Year\"]).sum().reset_index()\n",
    "\n",
    "    for resource in [\"Waste\",\"Biomass\",\"Coal\",\"Gas\",\"Hydrogen\",\"Electricity\"]:\n",
    "        if resource not in [\"Olefins\",\"Ammonia\",\"Naphtha\",\"CO\",\"MeOH\",\"Oil\"]:\n",
    "            fig.add_trace(go.Scatter(x=energy_input[energy_input.Resource==resource].Year,y=energy_input[energy_input.Resource==resource].Flow,name=resource,\n",
    "                             line=dict(width=0,color=primary_resource_color[resource]),\n",
    "                                 fillcolor=primary_resource_color[resource],mode='lines',stackgroup='one',showlegend=showlegend[i])\n",
    "                         ,row=1, col=i+1)\n",
    "#             fig.add_trace(go.Scatter(x=energy_output[energy_output.Resource==resource].Year,y=energy_output[energy_output.Resource==resource].Flow,name=resource,\n",
    "#                              line=dict(width=0,color=primary_resource_color[resource]),\n",
    "#                                  fillcolor=primary_resource_color[resource],mode='lines',stackgroup='two',showlegend=False)\n",
    "#                           ,row=1, col=i+1)\n",
    "\n",
    "    fig.update_xaxes(title_text=\"Year\", row=1, col=i+1)\n",
    "    \n",
    "fig.update_layout(#title='Energy flows in EU-5+1', title_x=0.5,\n",
    "                   yaxis_title='Energy consumption for clinker (TWh)')\n",
    "# fig.update_yaxes(range=[-600,1500])\n",
    "fig.update_layout(\n",
    "    font=dict(\n",
    "        family=\"Times New Roman\",size=24)\n",
    "    )\n",
    "fig.update_annotations(font_size=24)\n",
    "fig.update_layout(legend=dict(\n",
    "    orientation=\"h\",\n",
    "    yanchor=\"bottom\",\n",
    "    y=1.1,\n",
    "    xanchor=\"right\",\n",
    "    x=0.9,font = dict(size=20)\n",
    "))\n",
    "\n",
    "\n",
    "fig.show()"
   ]
  },
  {
   "cell_type": "code",
   "execution_count": null,
   "id": "00a7f18b",
   "metadata": {},
   "outputs": [],
   "source": []
  }
 ],
 "metadata": {
  "kernelspec": {
   "display_name": "Python 3 (ipykernel)",
   "language": "python",
   "name": "python3"
  },
  "language_info": {
   "codemirror_mode": {
    "name": "ipython",
    "version": 3
   },
   "file_extension": ".py",
   "mimetype": "text/x-python",
   "name": "python",
   "nbconvert_exporter": "python",
   "pygments_lexer": "ipython3",
   "version": "3.10.2"
  }
 },
 "nbformat": 4,
 "nbformat_minor": 5
}
