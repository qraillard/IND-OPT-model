{
 "cells": [
  {
   "cell_type": "code",
   "execution_count": 59,
   "id": "8f5ddcc1",
   "metadata": {},
   "outputs": [],
   "source": [
    "import pandas as pd\n",
    "import numpy as np\n",
    "import pickle\n",
    "import matplotlib.pyplot as plt\n",
    "import seaborn as sns\n",
    "import plotly.express as px\n",
    "import plotly.graph_objects as go\n",
    "from plotly.subplots import make_subplots"
   ]
  },
  {
   "cell_type": "code",
   "execution_count": 78,
   "id": "ef2faca8",
   "metadata": {},
   "outputs": [
    {
     "name": "stdout",
     "output_type": "stream",
     "text": [
      "['Ammonia' 'Biomass' 'CEM_I' 'CEM_II' 'CEM_III_VI' 'CO' 'CO2'\n",
      " 'Calcined_clay' 'Clinker' 'Coal' 'Gas' 'Hydrogen' 'LC3' 'Limestone'\n",
      " 'MeOH' 'N2' 'Naphtha' 'Oil' 'Olefins' 'Oxygen' 'Steel_primary'\n",
      " 'Steel_secondary' 'Waste' 'iron_ore' 'scrap_steel']\n",
      "['Ammonia' 'Biomass' 'CEM_I' 'CEM_II' 'CEM_III_VI' 'CO' 'CO2'\n",
      " 'Calcined_clay' 'Clinker' 'Coal' 'Gas' 'Hydrogen' 'LC3' 'Limestone'\n",
      " 'MeOH' 'N2' 'Naphtha' 'Oil' 'Olefins' 'Oxygen' 'Steel_primary'\n",
      " 'Steel_secondary' 'Waste' 'iron_ore' 'scrap_steel']\n",
      "['Ammonia' 'Biomass' 'CEM_I' 'CEM_II' 'CEM_III_VI' 'CO' 'CO2'\n",
      " 'Calcined_clay' 'Clinker' 'Coal' 'Gas' 'Hydrogen' 'LC3' 'Limestone'\n",
      " 'MeOH' 'N2' 'Naphtha' 'Oil' 'Olefins' 'Oxygen' 'Steel_primary'\n",
      " 'Steel_secondary' 'Waste' 'iron_ore' 'scrap_steel']\n"
     ]
    }
   ],
   "source": [
    "scen={}\n",
    "scen_name={'':\"Reference\",'_zero_fossil_2050':\"Fossil phase-out\",'_high_elec_price':\"High electricity price\"}\n",
    "\n",
    "\n",
    "primary_resource_conversion={\"Hydrogen\":33.3,\"Gas\":13.1,\"Coal\":8.06,\"Oil\":10.89,\"Biomass\":7.89,\"Electricity\":1,\"MeOH\":5.54,\"Waste\":4.72,\"Olefins\":5.78,\"Ammonia\":5.17,\"Naphtha\":12.47}\n",
    "primary_resource_color={\"Hydrogen\":\"cyan\",\"Gas\":\"purple\",\"Coal\":\"black\",\"Oil\":\"grey\",\"Biomass\":\"brown\",\"Electricity\":\"yellow\",\"MeOH\":\"red\",\"Waste\":\"green\",\"Olefins\":\"darkcyan\",\"Ammonia\":\"darksalmon\",\"Naphtha\":\"wheat\"}\n",
    "sector_color={\"Steel\":\"grey\",\"Chemistry\":\"pink\",\"Cement\":\"green\"}\n",
    "captured_emissions_sector_color={\"Steel\":\"black\",\"Chemistry\":\"purple\",\"Cement\":\"brown\"}\n",
    "\n",
    "\n",
    "for scenario in ['_high_elec_price','','_zero_fossil_2050']:\n",
    "    res={}\n",
    "    keys=[]\n",
    "    for sector in [\"Steel\",\"Chemistry\",\"Cement\"]:\n",
    "        with open('Result files/'+sector+'_results'+scenario+'.pickle', 'rb') as f:\n",
    "            res[sector]=pickle.load(f)\n",
    "            for key in res[sector].keys():\n",
    "                if key not in keys:\n",
    "                    keys.append(key)\n",
    "        f.close()\n",
    "\n",
    "    V={}\n",
    "    for key in keys:\n",
    "        if key=='tech_tech_type_combinations_parameters':\n",
    "            t_tt_c={}\n",
    "            for sector in [\"Steel\",\"Chemistry\",\"Cement\"]:\n",
    "                for tech in res[sector][key].keys():\n",
    "                    if tech not in t_tt_c.keys():\n",
    "                        t_tt_c[tech]=res[sector][key][tech]\n",
    "                    else:\n",
    "                        t_tt_c[tech]+=res[sector][key][tech]\n",
    "                        t_tt_c[tech]=list(set(t_tt_c[tech]))\n",
    "            V[key]=t_tt_c\n",
    "        elif key[:2]==\"V_\":\n",
    "            V[key]=res[\"Steel\"][key].reset_index()\n",
    "            for sector in [\"Chemistry\",\"Cement\"]:\n",
    "                V[key]=pd.concat([V[key],res[sector][key].reset_index()],ignore_index=True)\n",
    "        else:\n",
    "            pass\n",
    "\n",
    "    \n",
    "    resource_inflow=V[\"V_resource_inflow\"].rename(columns={\"level_0\":\"Resource\",\"level_1\":\"Sector\",\"level_2\":\"Country\",\"level_3\":\"Year\",0:\"Flow\"}).sort_values(by=\"Year\").groupby(by=[\"Resource\",\"Sector\",\"Country\",\"Year\"]).sum().reset_index()\n",
    "    u=resource_inflow.loc[resource_inflow.Resource.isin([\"Electricity\",\"Electricity_50%_LF\",\"Electricity_25%_LF\"])].drop(\"Resource\",axis=1).groupby(by=[\"Sector\",\"Country\",\"Year\"]).sum().reset_index()\n",
    "    u[\"Resource\"]=\"Electricity\"\n",
    "    resource_inflow=resource_inflow.loc[~resource_inflow.Resource.isin([\"Electricity\",\"Electricity_50%_LF\",\"Electricity_25%_LF\"])]\n",
    "    resource_inflow=pd.concat([resource_inflow,u],ignore_index=True)\n",
    "\n",
    "    resource_outflow=V[\"V_resource_outflow\"].rename(columns={\"level_0\":\"Resource\",\"level_1\":\"Sector\",\"level_2\":\"Country\",\"level_3\":\"Year\",0:\"Flow\"}).sort_values(by=\"Year\").groupby(by=[\"Resource\",\"Sector\",\"Country\",\"Year\"]).sum().reset_index()\n",
    "    u=resource_outflow.loc[resource_outflow.Resource.isin([\"Electricity\",\"Electricity_50%_LF\",\"Electricity_25%_LF\"])].drop(\"Resource\",axis=1).groupby(by=[\"Sector\",\"Country\",\"Year\"]).sum().reset_index()\n",
    "    u[\"Resource\"]=\"Electricity\"\n",
    "    resource_outflow=resource_outflow.loc[~resource_outflow.Resource.isin([\"Electricity\",\"Electricity_50%_LF\",\"Electricity_25%_LF\"])]\n",
    "    resource_outflow=pd.concat([resource_outflow,u],ignore_index=True)\n",
    "\n",
    "    resource_flow=V[\"V_resource_flow\"].rename(columns={\"level_0\":\"Resource\",\"level_1\":\"Sector\",\"level_2\":\"Country\",\"level_3\":\"Year\",0:\"Flow\"}).sort_values(by=\"Year\").groupby(by=[\"Resource\",\"Sector\",\"Country\",\"Year\"]).sum().reset_index()\n",
    "    u=resource_flow.loc[resource_flow.Resource.isin([\"Electricity\",\"Electricity_50%_LF\",\"Electricity_25%_LF\"])].drop(\"Resource\",axis=1).groupby(by=[\"Sector\",\"Country\",\"Year\"]).sum().reset_index()\n",
    "    u[\"Resource\"]=\"Electricity\"\n",
    "    resource_flow=resource_flow.loc[~resource_flow.Resource.isin([\"Electricity\",\"Electricity_50%_LF\",\"Electricity_25%_LF\"])]\n",
    "    resource_flow=pd.concat([resource_flow,u],ignore_index=True)\n",
    "\n",
    "    resource_tech_inflow=V[\"V_resource_tech_type_inflow\"].rename(columns={\"level_0\":\"Technology\",\"level_1\":\"Tech_type\",\"level_3\":\"Resource\",\"level_2\":\"Sector\",\"level_4\":\"Country\",\"level_5\":\"Year\",0:\"Flow\"}).sort_values(by=\"Year\").groupby(by=[\"Technology\",\"Tech_type\",\"Resource\",\"Sector\",\"Country\",\"Year\"]).sum().reset_index()\n",
    "    u=resource_tech_inflow.loc[resource_tech_inflow.Resource.isin([\"Electricity\",\"Electricity_50%_LF\",\"Electricity_25%_LF\"])].drop(\"Resource\",axis=1).groupby(by=[\"Technology\",\"Tech_type\",\"Sector\",\"Country\",\"Year\"]).sum().reset_index()\n",
    "    u[\"Resource\"]=\"Electricity\"\n",
    "    resource_tech_inflow=resource_tech_inflow.loc[~resource_tech_inflow.Resource.isin([\"Electricity\",\"Electricity_50%_LF\",\"Electricity_25%_LF\"])]\n",
    "    resource_tech_inflow=pd.concat([resource_tech_inflow,u],ignore_index=True)\n",
    "\n",
    "    resource_tech_outflow=V[\"V_resource_tech_type_outflow\"].rename(columns={\"level_0\":\"Technology\",\"level_1\":\"Tech_type\",\"level_3\":\"Resource\",\"level_2\":\"Sector\",\"level_4\":\"Country\",\"level_5\":\"Year\",0:\"Flow\"}).sort_values(by=\"Year\").groupby(by=[\"Technology\",\"Tech_type\",\"Resource\",\"Sector\",\"Country\",\"Year\"]).sum().reset_index()\n",
    "    u=resource_tech_outflow.loc[resource_tech_outflow.Resource.isin([\"Electricity\",\"Electricity_50%_LF\",\"Electricity_25%_LF\"])].drop(\"Resource\",axis=1).groupby(by=[\"Technology\",\"Tech_type\",\"Sector\",\"Country\",\"Year\"]).sum().reset_index()\n",
    "    u[\"Resource\"]=\"Electricity\"\n",
    "    resource_tech_outflow=resource_tech_outflow.loc[~resource_tech_outflow.Resource.isin([\"Electricity\",\"Electricity_50%_LF\",\"Electricity_25%_LF\"])]\n",
    "    resource_tech_outflow=pd.concat([resource_tech_outflow,u],ignore_index=True)\n",
    "\n",
    "    tech_usage_flow=resource_tech_outflow.copy()\n",
    "\n",
    "    elec_consum_fc=V[\"V_resource_flow\"].rename(columns={\"level_0\":\"Resource\",\"level_1\":\"Sector\",\"level_2\":\"Country\",\"level_3\":\"Year\",0:\"Flow\"}).sort_values(by=\"Year\").groupby(by=[\"Resource\",\"Sector\",\"Country\",\"Year\"]).sum().reset_index()\n",
    "    elec_consum_fc=elec_consum_fc[elec_consum_fc.Resource.isin([\"Electricity\",\"Electricity_50%_LF\",\"Electricity_25%_LF\"])]\n",
    "\n",
    "\n",
    "    for resource in primary_resource_conversion.keys():\n",
    "        resource_inflow.loc[resource_inflow.Resource==resource,\"Flow\"]=primary_resource_conversion[resource]*resource_inflow.loc[resource_inflow.Resource==resource,\"Flow\"]*1e-6\n",
    "        resource_outflow.loc[resource_outflow.Resource==resource,\"Flow\"]=primary_resource_conversion[resource]*resource_outflow.loc[resource_outflow.Resource==resource,\"Flow\"]*-1e-6\n",
    "        resource_flow.loc[resource_flow.Resource==resource,\"Flow\"]=primary_resource_conversion[resource]*resource_flow.loc[resource_flow.Resource==resource,\"Flow\"]*1e-6\n",
    "        resource_tech_inflow.loc[resource_tech_inflow.Resource==resource,\"Flow\"]=primary_resource_conversion[resource]*resource_tech_inflow.loc[resource_tech_inflow.Resource==resource,\"Flow\"]*1e-6\n",
    "        resource_tech_outflow.loc[resource_tech_outflow.Resource==resource,\"Flow\"]=primary_resource_conversion[resource]*resource_tech_outflow.loc[resource_tech_outflow.Resource==resource,\"Flow\"]*-1e-6\n",
    "\n",
    "    emissions=V[\"V_emissions\"].rename(columns={\"level_0\":\"Sector\",\"level_1\":\"Country\",\"level_2\":\"Year\",0:\"Emissions\"}).sort_values(by=\"Year\")\n",
    "    captured_emissions=V[\"V_captured_emissions\"].rename(columns={\"level_0\":\"Technology\",\"level_1\":\"Sector\",\"level_2\":\"Country\",\"level_3\":\"Year\",0:\"Captured_emissions\"}).sort_values(by=\"Year\")\n",
    "\n",
    "\n",
    "    tech_usage_coef=V[\"V_technology_use_coef\"].rename(columns={\"level_0\":\"Technology\",\"level_1\":\"Tech_type\",\"level_2\":\"Sector\",\"level_3\":\"Country\",\"level_4\":\"Year\",0:\"Coef\"}).sort_values(by=\"Year\")\n",
    "    tech_usage_capacity_coef=V[\"V_technology_use_coef_capacity\"].rename(columns={\"level_0\":\"Technology\",\"level_1\":\"Sector\",\"level_2\":\"Country\",\"level_3\":\"Year\",0:\"Coef\"}).sort_values(by=\"Year\")\n",
    "\n",
    "    tech_capacity=V[\"V_resource_tech_type_capacity\"].rename(columns={\"level_0\":\"Technology\",\"level_1\":\"Tech_type\",\"level_3\":\"Resource\",\"level_2\":\"Sector\",\"level_4\":\"Country\",\"level_5\":\"Year\",0:\"Flow_capa\"}).sort_values(by=\"Year\")\n",
    "    added_capa_coef=V[\"V_added_capacity\"].rename(columns={\"level_0\":\"Technology\",\"level_1\":\"Sector\",\"level_2\":\"Country\",\"level_3\":\"Year\",0:\"Coef_capa\"}).sort_values(by=\"Year\")\n",
    "    remove_capa_coef=V[\"V_removed_capacity\"].rename(columns={\"level_0\":\"Technology\",\"level_1\":\"Sector\",\"level_2\":\"Country\",\"level_3\":\"Year\",0:\"Coef_capa\"}).sort_values(by=\"Year\")\n",
    "    \n",
    "    \n",
    "    df_dict={\"resource_inflow\":resource_inflow,\"resource_outflow\":resource_outflow,\"resource_flow\":resource_flow,\n",
    "             \"resource_tech_inflow\":resource_tech_inflow,\"resource_tech_outflow\":resource_tech_outflow,\"tech_usage_flow\":tech_usage_flow,\n",
    "            \"emissions\":emissions,\"captured_emissions\":captured_emissions,\"elec_consum_fc\":elec_consum_fc}\n",
    "    \n",
    "    scen[scen_name[scenario]]=df_dict\n",
    "    \n",
    "    del V\n",
    "    del res\n",
    "    del emissions\n",
    "    del captured_emissions\n",
    "    del resource_inflow\n",
    "    del resource_outflow\n",
    "    del resource_flow\n",
    "    del resource_tech_inflow\n",
    "    del resource_tech_outflow\n",
    "    del tech_usage_coef\n",
    "    del tech_usage_capacity_coef\n",
    "    del tech_capacity\n",
    "    del added_capa_coef\n",
    "    del remove_capa_coef\n",
    "    del elec_consum_fc\n",
    "    del df_dict\n"
   ]
  },
  {
   "cell_type": "code",
   "execution_count": 61,
   "id": "41aed7a4",
   "metadata": {},
   "outputs": [
    {
     "data": {
      "application/vnd.plotly.v1+json": {
       "config": {
        "plotlyServerURL": "https://plot.ly"
       },
       "data": [
        {
         "line": {
          "color": "grey",
          "width": 0
         },
         "mode": "lines",
         "name": "Emissions",
         "showlegend": true,
         "stackgroup": "one",
         "type": "scatter",
         "x": [
          2015,
          2016,
          2017,
          2018,
          2019,
          2020,
          2021,
          2022,
          2023,
          2024,
          2025,
          2026,
          2027,
          2028,
          2029,
          2030,
          2031,
          2032,
          2033,
          2034,
          2035,
          2036,
          2037,
          2038,
          2039,
          2040,
          2041,
          2042,
          2043,
          2044,
          2045,
          2046,
          2047,
          2048,
          2049,
          2050
         ],
         "xaxis": "x",
         "y": [
          323.72720714136796,
          322.5643656572431,
          321.3550177851071,
          320.0915274365167,
          318.7643400568034,
          317.36151245263164,
          314.7710361269331,
          312.067802785657,
          309.23117735974245,
          306.23574671855704,
          297.2136637887964,
          294.39555841058433,
          288.69693140527573,
          285.29289989864844,
          281.5433648294003,
          262.6473007238924,
          250.30410199028452,
          221.30945326581758,
          216.65825283803676,
          210.68233611115662,
          182.74104677239413,
          169.64243705896095,
          153.5348533076845,
          140.8767546447096,
          114.38590683069147,
          86.54991202612032,
          69.66233176032793,
          62.67925505813298,
          54.30653550979605,
          47.90313690693664,
          41.868474468823685,
          34.96265437246634,
          29.646796903090525,
          25.373369019861013,
          21.87595818904327,
          16.49410987009678
         ],
         "yaxis": "y"
        },
        {
         "line": {
          "color": "black",
          "width": 0
         },
         "mode": "lines",
         "name": "Captured emissions",
         "showlegend": true,
         "stackgroup": "one",
         "type": "scatter",
         "x": [
          2015,
          2016,
          2017,
          2018,
          2019,
          2020,
          2021,
          2022,
          2023,
          2024,
          2025,
          2026,
          2027,
          2028,
          2029,
          2030,
          2031,
          2032,
          2033,
          2034,
          2035,
          2036,
          2037,
          2038,
          2039,
          2040,
          2041,
          2042,
          2043,
          2044,
          2045,
          2046,
          2047,
          2048,
          2049,
          2050
         ],
         "xaxis": "x",
         "y": [
          0,
          0,
          0,
          0,
          0,
          0,
          0,
          0,
          0,
          0,
          0,
          0,
          0,
          0,
          0,
          10.954708487497069,
          20.674262451323937,
          46.24395163166035,
          46.24395163166035,
          47.58021104931788,
          54.211401137769506,
          54.24387402712896,
          54.27630655844469,
          54.3149130270043,
          53.877569795031526,
          77.3654643406309,
          84.66680250551497,
          85.3489867503675,
          84.60812042347573,
          84.73310244767517,
          83.40754628176347,
          83.47267240258822,
          82.58738923534138,
          81.01495237019626,
          78.00422649039969,
          70.19508404435824
         ],
         "yaxis": "y"
        },
        {
         "line": {
          "color": "grey",
          "width": 0
         },
         "mode": "lines",
         "name": "Emissions",
         "showlegend": false,
         "stackgroup": "one",
         "type": "scatter",
         "x": [
          2015,
          2016,
          2017,
          2018,
          2019,
          2020,
          2021,
          2022,
          2023,
          2024,
          2025,
          2026,
          2027,
          2028,
          2029,
          2030,
          2031,
          2032,
          2033,
          2034,
          2035,
          2036,
          2037,
          2038,
          2039,
          2040,
          2041,
          2042,
          2043,
          2044,
          2045,
          2046,
          2047,
          2048,
          2049,
          2050
         ],
         "xaxis": "x2",
         "y": [
          323.72720714136796,
          322.5643656572431,
          321.3550177851071,
          320.0915274365167,
          318.7643400568034,
          317.36151245263164,
          314.77103612693304,
          312.067802785657,
          309.23117735974245,
          306.23574671855704,
          297.2136637887964,
          294.39555841058433,
          288.4064151003024,
          284.08390321945166,
          277.54523934281815,
          231.58491390884993,
          223.86647707738268,
          219.0089142199521,
          211.9423666675432,
          201.4493563093173,
          178.07218886980155,
          162.0774842616506,
          139.12102444806598,
          123.00632159888697,
          100.5575230620068,
          73.51466287507753,
          55.60610323878439,
          47.0249393921071,
          41.036977465574815,
          37.66436388062415,
          31.422940203061714,
          23.972037730667424,
          18.68973533093752,
          14.182308838568666,
          10.651363798992785,
          5.050079689633256
         ],
         "yaxis": "y2"
        },
        {
         "line": {
          "color": "black",
          "width": 0
         },
         "mode": "lines",
         "name": "Captured emissions",
         "showlegend": false,
         "stackgroup": "one",
         "type": "scatter",
         "x": [
          2015,
          2016,
          2017,
          2018,
          2019,
          2020,
          2021,
          2022,
          2023,
          2024,
          2025,
          2026,
          2027,
          2028,
          2029,
          2030,
          2031,
          2032,
          2033,
          2034,
          2035,
          2036,
          2037,
          2038,
          2039,
          2040,
          2041,
          2042,
          2043,
          2044,
          2045,
          2046,
          2047,
          2048,
          2049,
          2050
         ],
         "xaxis": "x2",
         "y": [
          0,
          0,
          0,
          0,
          0,
          0,
          0,
          0,
          0,
          0,
          0,
          0,
          0,
          0,
          0,
          20.600324499293347,
          25.28862291345199,
          25.292015285656287,
          28.392037218084635,
          32.74186943292409,
          33.06883757825228,
          33.101310467611746,
          33.13374299892747,
          33.16613524738956,
          32.83973886470545,
          56.33630996109808,
          63.035728588491786,
          63.44370697503198,
          62.46385167134054,
          61.3429195037882,
          60.974561010161636,
          59.60929403064069,
          58.43514543592271,
          54.802452363936155,
          50.4718067682765,
          41.27676123820541
         ],
         "yaxis": "y2"
        },
        {
         "line": {
          "color": "grey",
          "width": 0
         },
         "mode": "lines",
         "name": "Emissions",
         "showlegend": false,
         "stackgroup": "one",
         "type": "scatter",
         "x": [
          2015,
          2016,
          2017,
          2018,
          2019,
          2020,
          2021,
          2022,
          2023,
          2024,
          2025,
          2026,
          2027,
          2028,
          2029,
          2030,
          2031,
          2032,
          2033,
          2034,
          2035,
          2036,
          2037,
          2038,
          2039,
          2040,
          2041,
          2042,
          2043,
          2044,
          2045,
          2046,
          2047,
          2048,
          2049,
          2050
         ],
         "xaxis": "x3",
         "y": [
          325.7876833384756,
          322.5649675708533,
          321.3561667317619,
          320.09267638317147,
          318.7654890034582,
          317.3626613992864,
          314.7721850735879,
          312.0689517323118,
          309.2323263063972,
          306.2368956652118,
          297.21481273545123,
          294.3967073572391,
          288.22940030529224,
          283.9036302340363,
          277.2095144756802,
          239.49732770842343,
          224.01538596316405,
          219.13284003375605,
          212.22455579031575,
          202.13856052424552,
          178.74874966086543,
          162.68361918673034,
          139.93696027726142,
          123.47326238398368,
          100.93964782423636,
          72.17155961804185,
          54.435029227969274,
          45.40450339637126,
          39.072357932712535,
          34.376581759222816,
          29.013453514154172,
          22.046593073640164,
          17.28319561506268,
          13.117558410101754,
          9.551829330825251,
          4.713449379739765
         ],
         "yaxis": "y3"
        },
        {
         "line": {
          "color": "black",
          "width": 0
         },
         "mode": "lines",
         "name": "Captured emissions",
         "showlegend": false,
         "stackgroup": "one",
         "type": "scatter",
         "x": [
          2015,
          2016,
          2017,
          2018,
          2019,
          2020,
          2021,
          2022,
          2023,
          2024,
          2025,
          2026,
          2027,
          2028,
          2029,
          2030,
          2031,
          2032,
          2033,
          2034,
          2035,
          2036,
          2037,
          2038,
          2039,
          2040,
          2041,
          2042,
          2043,
          2044,
          2045,
          2046,
          2047,
          2048,
          2049,
          2050
         ],
         "xaxis": "x3",
         "y": [
          0,
          0,
          0,
          0,
          0,
          0,
          0,
          0,
          0,
          0,
          0,
          0,
          0,
          0,
          0,
          11.776802352623447,
          23.997879845300467,
          24.00127221750477,
          26.909465622318365,
          30.69030835232553,
          31.768848091394226,
          31.80132098075369,
          31.833753512069414,
          31.866145760531516,
          31.543120238753275,
          54.2847706461517,
          60.362065056040855,
          60.49462589141425,
          59.44662659537319,
          59.04787761335759,
          57.10581256320917,
          54.7521318328354,
          51.89792387972326,
          47.45256477048122,
          42.35997428993289,
          35.91370588438946
         ],
         "yaxis": "y3"
        }
       ],
       "layout": {
        "annotations": [
         {
          "font": {
           "size": 24
          },
          "showarrow": false,
          "text": "High electricity price",
          "x": 0.14444444444444446,
          "xanchor": "center",
          "xref": "paper",
          "y": 1,
          "yanchor": "bottom",
          "yref": "paper"
         },
         {
          "font": {
           "size": 24
          },
          "showarrow": false,
          "text": "Reference",
          "x": 0.5,
          "xanchor": "center",
          "xref": "paper",
          "y": 1,
          "yanchor": "bottom",
          "yref": "paper"
         },
         {
          "font": {
           "size": 24
          },
          "showarrow": false,
          "text": "Fossil phase-out",
          "x": 0.8555555555555556,
          "xanchor": "center",
          "xref": "paper",
          "y": 1,
          "yanchor": "bottom",
          "yref": "paper"
         }
        ],
        "font": {
         "family": "Times New Roman",
         "size": 24
        },
        "legend": {
         "orientation": "h",
         "x": 0.75,
         "xanchor": "right",
         "y": 1.1,
         "yanchor": "bottom"
        },
        "template": {
         "data": {
          "bar": [
           {
            "error_x": {
             "color": "#2a3f5f"
            },
            "error_y": {
             "color": "#2a3f5f"
            },
            "marker": {
             "line": {
              "color": "#E5ECF6",
              "width": 0.5
             },
             "pattern": {
              "fillmode": "overlay",
              "size": 10,
              "solidity": 0.2
             }
            },
            "type": "bar"
           }
          ],
          "barpolar": [
           {
            "marker": {
             "line": {
              "color": "#E5ECF6",
              "width": 0.5
             },
             "pattern": {
              "fillmode": "overlay",
              "size": 10,
              "solidity": 0.2
             }
            },
            "type": "barpolar"
           }
          ],
          "carpet": [
           {
            "aaxis": {
             "endlinecolor": "#2a3f5f",
             "gridcolor": "white",
             "linecolor": "white",
             "minorgridcolor": "white",
             "startlinecolor": "#2a3f5f"
            },
            "baxis": {
             "endlinecolor": "#2a3f5f",
             "gridcolor": "white",
             "linecolor": "white",
             "minorgridcolor": "white",
             "startlinecolor": "#2a3f5f"
            },
            "type": "carpet"
           }
          ],
          "choropleth": [
           {
            "colorbar": {
             "outlinewidth": 0,
             "ticks": ""
            },
            "type": "choropleth"
           }
          ],
          "contour": [
           {
            "colorbar": {
             "outlinewidth": 0,
             "ticks": ""
            },
            "colorscale": [
             [
              0,
              "#0d0887"
             ],
             [
              0.1111111111111111,
              "#46039f"
             ],
             [
              0.2222222222222222,
              "#7201a8"
             ],
             [
              0.3333333333333333,
              "#9c179e"
             ],
             [
              0.4444444444444444,
              "#bd3786"
             ],
             [
              0.5555555555555556,
              "#d8576b"
             ],
             [
              0.6666666666666666,
              "#ed7953"
             ],
             [
              0.7777777777777778,
              "#fb9f3a"
             ],
             [
              0.8888888888888888,
              "#fdca26"
             ],
             [
              1,
              "#f0f921"
             ]
            ],
            "type": "contour"
           }
          ],
          "contourcarpet": [
           {
            "colorbar": {
             "outlinewidth": 0,
             "ticks": ""
            },
            "type": "contourcarpet"
           }
          ],
          "heatmap": [
           {
            "colorbar": {
             "outlinewidth": 0,
             "ticks": ""
            },
            "colorscale": [
             [
              0,
              "#0d0887"
             ],
             [
              0.1111111111111111,
              "#46039f"
             ],
             [
              0.2222222222222222,
              "#7201a8"
             ],
             [
              0.3333333333333333,
              "#9c179e"
             ],
             [
              0.4444444444444444,
              "#bd3786"
             ],
             [
              0.5555555555555556,
              "#d8576b"
             ],
             [
              0.6666666666666666,
              "#ed7953"
             ],
             [
              0.7777777777777778,
              "#fb9f3a"
             ],
             [
              0.8888888888888888,
              "#fdca26"
             ],
             [
              1,
              "#f0f921"
             ]
            ],
            "type": "heatmap"
           }
          ],
          "heatmapgl": [
           {
            "colorbar": {
             "outlinewidth": 0,
             "ticks": ""
            },
            "colorscale": [
             [
              0,
              "#0d0887"
             ],
             [
              0.1111111111111111,
              "#46039f"
             ],
             [
              0.2222222222222222,
              "#7201a8"
             ],
             [
              0.3333333333333333,
              "#9c179e"
             ],
             [
              0.4444444444444444,
              "#bd3786"
             ],
             [
              0.5555555555555556,
              "#d8576b"
             ],
             [
              0.6666666666666666,
              "#ed7953"
             ],
             [
              0.7777777777777778,
              "#fb9f3a"
             ],
             [
              0.8888888888888888,
              "#fdca26"
             ],
             [
              1,
              "#f0f921"
             ]
            ],
            "type": "heatmapgl"
           }
          ],
          "histogram": [
           {
            "marker": {
             "pattern": {
              "fillmode": "overlay",
              "size": 10,
              "solidity": 0.2
             }
            },
            "type": "histogram"
           }
          ],
          "histogram2d": [
           {
            "colorbar": {
             "outlinewidth": 0,
             "ticks": ""
            },
            "colorscale": [
             [
              0,
              "#0d0887"
             ],
             [
              0.1111111111111111,
              "#46039f"
             ],
             [
              0.2222222222222222,
              "#7201a8"
             ],
             [
              0.3333333333333333,
              "#9c179e"
             ],
             [
              0.4444444444444444,
              "#bd3786"
             ],
             [
              0.5555555555555556,
              "#d8576b"
             ],
             [
              0.6666666666666666,
              "#ed7953"
             ],
             [
              0.7777777777777778,
              "#fb9f3a"
             ],
             [
              0.8888888888888888,
              "#fdca26"
             ],
             [
              1,
              "#f0f921"
             ]
            ],
            "type": "histogram2d"
           }
          ],
          "histogram2dcontour": [
           {
            "colorbar": {
             "outlinewidth": 0,
             "ticks": ""
            },
            "colorscale": [
             [
              0,
              "#0d0887"
             ],
             [
              0.1111111111111111,
              "#46039f"
             ],
             [
              0.2222222222222222,
              "#7201a8"
             ],
             [
              0.3333333333333333,
              "#9c179e"
             ],
             [
              0.4444444444444444,
              "#bd3786"
             ],
             [
              0.5555555555555556,
              "#d8576b"
             ],
             [
              0.6666666666666666,
              "#ed7953"
             ],
             [
              0.7777777777777778,
              "#fb9f3a"
             ],
             [
              0.8888888888888888,
              "#fdca26"
             ],
             [
              1,
              "#f0f921"
             ]
            ],
            "type": "histogram2dcontour"
           }
          ],
          "mesh3d": [
           {
            "colorbar": {
             "outlinewidth": 0,
             "ticks": ""
            },
            "type": "mesh3d"
           }
          ],
          "parcoords": [
           {
            "line": {
             "colorbar": {
              "outlinewidth": 0,
              "ticks": ""
             }
            },
            "type": "parcoords"
           }
          ],
          "pie": [
           {
            "automargin": true,
            "type": "pie"
           }
          ],
          "scatter": [
           {
            "marker": {
             "colorbar": {
              "outlinewidth": 0,
              "ticks": ""
             }
            },
            "type": "scatter"
           }
          ],
          "scatter3d": [
           {
            "line": {
             "colorbar": {
              "outlinewidth": 0,
              "ticks": ""
             }
            },
            "marker": {
             "colorbar": {
              "outlinewidth": 0,
              "ticks": ""
             }
            },
            "type": "scatter3d"
           }
          ],
          "scattercarpet": [
           {
            "marker": {
             "colorbar": {
              "outlinewidth": 0,
              "ticks": ""
             }
            },
            "type": "scattercarpet"
           }
          ],
          "scattergeo": [
           {
            "marker": {
             "colorbar": {
              "outlinewidth": 0,
              "ticks": ""
             }
            },
            "type": "scattergeo"
           }
          ],
          "scattergl": [
           {
            "marker": {
             "colorbar": {
              "outlinewidth": 0,
              "ticks": ""
             }
            },
            "type": "scattergl"
           }
          ],
          "scattermapbox": [
           {
            "marker": {
             "colorbar": {
              "outlinewidth": 0,
              "ticks": ""
             }
            },
            "type": "scattermapbox"
           }
          ],
          "scatterpolar": [
           {
            "marker": {
             "colorbar": {
              "outlinewidth": 0,
              "ticks": ""
             }
            },
            "type": "scatterpolar"
           }
          ],
          "scatterpolargl": [
           {
            "marker": {
             "colorbar": {
              "outlinewidth": 0,
              "ticks": ""
             }
            },
            "type": "scatterpolargl"
           }
          ],
          "scatterternary": [
           {
            "marker": {
             "colorbar": {
              "outlinewidth": 0,
              "ticks": ""
             }
            },
            "type": "scatterternary"
           }
          ],
          "surface": [
           {
            "colorbar": {
             "outlinewidth": 0,
             "ticks": ""
            },
            "colorscale": [
             [
              0,
              "#0d0887"
             ],
             [
              0.1111111111111111,
              "#46039f"
             ],
             [
              0.2222222222222222,
              "#7201a8"
             ],
             [
              0.3333333333333333,
              "#9c179e"
             ],
             [
              0.4444444444444444,
              "#bd3786"
             ],
             [
              0.5555555555555556,
              "#d8576b"
             ],
             [
              0.6666666666666666,
              "#ed7953"
             ],
             [
              0.7777777777777778,
              "#fb9f3a"
             ],
             [
              0.8888888888888888,
              "#fdca26"
             ],
             [
              1,
              "#f0f921"
             ]
            ],
            "type": "surface"
           }
          ],
          "table": [
           {
            "cells": {
             "fill": {
              "color": "#EBF0F8"
             },
             "line": {
              "color": "white"
             }
            },
            "header": {
             "fill": {
              "color": "#C8D4E3"
             },
             "line": {
              "color": "white"
             }
            },
            "type": "table"
           }
          ]
         },
         "layout": {
          "annotationdefaults": {
           "arrowcolor": "#2a3f5f",
           "arrowhead": 0,
           "arrowwidth": 1
          },
          "autotypenumbers": "strict",
          "coloraxis": {
           "colorbar": {
            "outlinewidth": 0,
            "ticks": ""
           }
          },
          "colorscale": {
           "diverging": [
            [
             0,
             "#8e0152"
            ],
            [
             0.1,
             "#c51b7d"
            ],
            [
             0.2,
             "#de77ae"
            ],
            [
             0.3,
             "#f1b6da"
            ],
            [
             0.4,
             "#fde0ef"
            ],
            [
             0.5,
             "#f7f7f7"
            ],
            [
             0.6,
             "#e6f5d0"
            ],
            [
             0.7,
             "#b8e186"
            ],
            [
             0.8,
             "#7fbc41"
            ],
            [
             0.9,
             "#4d9221"
            ],
            [
             1,
             "#276419"
            ]
           ],
           "sequential": [
            [
             0,
             "#0d0887"
            ],
            [
             0.1111111111111111,
             "#46039f"
            ],
            [
             0.2222222222222222,
             "#7201a8"
            ],
            [
             0.3333333333333333,
             "#9c179e"
            ],
            [
             0.4444444444444444,
             "#bd3786"
            ],
            [
             0.5555555555555556,
             "#d8576b"
            ],
            [
             0.6666666666666666,
             "#ed7953"
            ],
            [
             0.7777777777777778,
             "#fb9f3a"
            ],
            [
             0.8888888888888888,
             "#fdca26"
            ],
            [
             1,
             "#f0f921"
            ]
           ],
           "sequentialminus": [
            [
             0,
             "#0d0887"
            ],
            [
             0.1111111111111111,
             "#46039f"
            ],
            [
             0.2222222222222222,
             "#7201a8"
            ],
            [
             0.3333333333333333,
             "#9c179e"
            ],
            [
             0.4444444444444444,
             "#bd3786"
            ],
            [
             0.5555555555555556,
             "#d8576b"
            ],
            [
             0.6666666666666666,
             "#ed7953"
            ],
            [
             0.7777777777777778,
             "#fb9f3a"
            ],
            [
             0.8888888888888888,
             "#fdca26"
            ],
            [
             1,
             "#f0f921"
            ]
           ]
          },
          "colorway": [
           "#636efa",
           "#EF553B",
           "#00cc96",
           "#ab63fa",
           "#FFA15A",
           "#19d3f3",
           "#FF6692",
           "#B6E880",
           "#FF97FF",
           "#FECB52"
          ],
          "font": {
           "color": "#2a3f5f"
          },
          "geo": {
           "bgcolor": "white",
           "lakecolor": "white",
           "landcolor": "#E5ECF6",
           "showlakes": true,
           "showland": true,
           "subunitcolor": "white"
          },
          "hoverlabel": {
           "align": "left"
          },
          "hovermode": "closest",
          "mapbox": {
           "style": "light"
          },
          "paper_bgcolor": "white",
          "plot_bgcolor": "#E5ECF6",
          "polar": {
           "angularaxis": {
            "gridcolor": "white",
            "linecolor": "white",
            "ticks": ""
           },
           "bgcolor": "#E5ECF6",
           "radialaxis": {
            "gridcolor": "white",
            "linecolor": "white",
            "ticks": ""
           }
          },
          "scene": {
           "xaxis": {
            "backgroundcolor": "#E5ECF6",
            "gridcolor": "white",
            "gridwidth": 2,
            "linecolor": "white",
            "showbackground": true,
            "ticks": "",
            "zerolinecolor": "white"
           },
           "yaxis": {
            "backgroundcolor": "#E5ECF6",
            "gridcolor": "white",
            "gridwidth": 2,
            "linecolor": "white",
            "showbackground": true,
            "ticks": "",
            "zerolinecolor": "white"
           },
           "zaxis": {
            "backgroundcolor": "#E5ECF6",
            "gridcolor": "white",
            "gridwidth": 2,
            "linecolor": "white",
            "showbackground": true,
            "ticks": "",
            "zerolinecolor": "white"
           }
          },
          "shapedefaults": {
           "line": {
            "color": "#2a3f5f"
           }
          },
          "ternary": {
           "aaxis": {
            "gridcolor": "white",
            "linecolor": "white",
            "ticks": ""
           },
           "baxis": {
            "gridcolor": "white",
            "linecolor": "white",
            "ticks": ""
           },
           "bgcolor": "#E5ECF6",
           "caxis": {
            "gridcolor": "white",
            "linecolor": "white",
            "ticks": ""
           }
          },
          "title": {
           "x": 0.05
          },
          "xaxis": {
           "automargin": true,
           "gridcolor": "white",
           "linecolor": "white",
           "ticks": "",
           "title": {
            "standoff": 15
           },
           "zerolinecolor": "white",
           "zerolinewidth": 2
          },
          "yaxis": {
           "automargin": true,
           "gridcolor": "white",
           "linecolor": "white",
           "ticks": "",
           "title": {
            "standoff": 15
           },
           "zerolinecolor": "white",
           "zerolinewidth": 2
          }
         }
        },
        "xaxis": {
         "anchor": "y",
         "domain": [
          0,
          0.2888888888888889
         ]
        },
        "xaxis2": {
         "anchor": "y2",
         "domain": [
          0.35555555555555557,
          0.6444444444444445
         ]
        },
        "xaxis3": {
         "anchor": "y3",
         "domain": [
          0.7111111111111111,
          1
         ]
        },
        "yaxis": {
         "anchor": "x",
         "domain": [
          0,
          1
         ],
         "range": [
          0,
          350
         ],
         "title": {
          "text": "Emissions (MtCO2)"
         }
        },
        "yaxis2": {
         "anchor": "x2",
         "domain": [
          0,
          1
         ],
         "matches": "y",
         "range": [
          0,
          350
         ],
         "showticklabels": false
        },
        "yaxis3": {
         "anchor": "x3",
         "domain": [
          0,
          1
         ],
         "matches": "y",
         "range": [
          0,
          350
         ],
         "showticklabels": false
        }
       }
      },
      "text/html": [
       "<div>                            <div id=\"166fb27b-ab17-4b0e-8c4f-eb3e3cb21b8c\" class=\"plotly-graph-div\" style=\"height:525px; width:100%;\"></div>            <script type=\"text/javascript\">                require([\"plotly\"], function(Plotly) {                    window.PLOTLYENV=window.PLOTLYENV || {};                                    if (document.getElementById(\"166fb27b-ab17-4b0e-8c4f-eb3e3cb21b8c\")) {                    Plotly.newPlot(                        \"166fb27b-ab17-4b0e-8c4f-eb3e3cb21b8c\",                        [{\"line\":{\"color\":\"grey\",\"width\":0},\"mode\":\"lines\",\"name\":\"Emissions\",\"showlegend\":true,\"stackgroup\":\"one\",\"type\":\"scatter\",\"x\":[2015,2016,2017,2018,2019,2020,2021,2022,2023,2024,2025,2026,2027,2028,2029,2030,2031,2032,2033,2034,2035,2036,2037,2038,2039,2040,2041,2042,2043,2044,2045,2046,2047,2048,2049,2050],\"xaxis\":\"x\",\"y\":[323.72720714136796,322.5643656572431,321.3550177851071,320.0915274365167,318.7643400568034,317.36151245263164,314.7710361269331,312.067802785657,309.23117735974245,306.23574671855704,297.2136637887964,294.39555841058433,288.69693140527573,285.29289989864844,281.5433648294003,262.6473007238924,250.30410199028452,221.30945326581758,216.65825283803676,210.68233611115662,182.74104677239413,169.64243705896095,153.5348533076845,140.8767546447096,114.38590683069147,86.54991202612032,69.66233176032793,62.67925505813298,54.30653550979605,47.90313690693664,41.868474468823685,34.96265437246634,29.646796903090525,25.373369019861013,21.87595818904327,16.49410987009678],\"yaxis\":\"y\"},{\"line\":{\"color\":\"black\",\"width\":0},\"mode\":\"lines\",\"name\":\"Captured emissions\",\"showlegend\":true,\"stackgroup\":\"one\",\"type\":\"scatter\",\"x\":[2015,2016,2017,2018,2019,2020,2021,2022,2023,2024,2025,2026,2027,2028,2029,2030,2031,2032,2033,2034,2035,2036,2037,2038,2039,2040,2041,2042,2043,2044,2045,2046,2047,2048,2049,2050],\"xaxis\":\"x\",\"y\":[0.0,0.0,0.0,0.0,0.0,0.0,0.0,0.0,0.0,0.0,0.0,0.0,0.0,0.0,0.0,10.954708487497069,20.674262451323937,46.24395163166035,46.24395163166035,47.58021104931788,54.211401137769506,54.24387402712896,54.27630655844469,54.3149130270043,53.877569795031526,77.3654643406309,84.66680250551497,85.3489867503675,84.60812042347573,84.73310244767517,83.40754628176347,83.47267240258822,82.58738923534138,81.01495237019626,78.00422649039969,70.19508404435824],\"yaxis\":\"y\"},{\"line\":{\"color\":\"grey\",\"width\":0},\"mode\":\"lines\",\"name\":\"Emissions\",\"showlegend\":false,\"stackgroup\":\"one\",\"type\":\"scatter\",\"x\":[2015,2016,2017,2018,2019,2020,2021,2022,2023,2024,2025,2026,2027,2028,2029,2030,2031,2032,2033,2034,2035,2036,2037,2038,2039,2040,2041,2042,2043,2044,2045,2046,2047,2048,2049,2050],\"xaxis\":\"x2\",\"y\":[323.72720714136796,322.5643656572431,321.3550177851071,320.0915274365167,318.7643400568034,317.36151245263164,314.77103612693304,312.067802785657,309.23117735974245,306.23574671855704,297.2136637887964,294.39555841058433,288.4064151003024,284.08390321945166,277.54523934281815,231.58491390884993,223.86647707738268,219.0089142199521,211.9423666675432,201.4493563093173,178.07218886980155,162.0774842616506,139.12102444806598,123.00632159888697,100.5575230620068,73.51466287507753,55.60610323878439,47.0249393921071,41.036977465574815,37.66436388062415,31.422940203061714,23.972037730667424,18.68973533093752,14.182308838568666,10.651363798992785,5.050079689633256],\"yaxis\":\"y2\"},{\"line\":{\"color\":\"black\",\"width\":0},\"mode\":\"lines\",\"name\":\"Captured emissions\",\"showlegend\":false,\"stackgroup\":\"one\",\"type\":\"scatter\",\"x\":[2015,2016,2017,2018,2019,2020,2021,2022,2023,2024,2025,2026,2027,2028,2029,2030,2031,2032,2033,2034,2035,2036,2037,2038,2039,2040,2041,2042,2043,2044,2045,2046,2047,2048,2049,2050],\"xaxis\":\"x2\",\"y\":[0.0,0.0,0.0,0.0,0.0,0.0,0.0,0.0,0.0,0.0,0.0,0.0,0.0,0.0,0.0,20.600324499293347,25.28862291345199,25.292015285656287,28.392037218084635,32.74186943292409,33.06883757825228,33.101310467611746,33.13374299892747,33.16613524738956,32.83973886470545,56.33630996109808,63.035728588491786,63.44370697503198,62.46385167134054,61.3429195037882,60.974561010161636,59.60929403064069,58.43514543592271,54.802452363936155,50.4718067682765,41.27676123820541],\"yaxis\":\"y2\"},{\"line\":{\"color\":\"grey\",\"width\":0},\"mode\":\"lines\",\"name\":\"Emissions\",\"showlegend\":false,\"stackgroup\":\"one\",\"type\":\"scatter\",\"x\":[2015,2016,2017,2018,2019,2020,2021,2022,2023,2024,2025,2026,2027,2028,2029,2030,2031,2032,2033,2034,2035,2036,2037,2038,2039,2040,2041,2042,2043,2044,2045,2046,2047,2048,2049,2050],\"xaxis\":\"x3\",\"y\":[325.7876833384756,322.5649675708533,321.3561667317619,320.09267638317147,318.7654890034582,317.3626613992864,314.7721850735879,312.0689517323118,309.2323263063972,306.2368956652118,297.21481273545123,294.3967073572391,288.22940030529224,283.9036302340363,277.2095144756802,239.49732770842343,224.01538596316405,219.13284003375605,212.22455579031575,202.13856052424552,178.74874966086543,162.68361918673034,139.93696027726142,123.47326238398368,100.93964782423636,72.17155961804185,54.435029227969274,45.40450339637126,39.072357932712535,34.376581759222816,29.013453514154172,22.046593073640164,17.28319561506268,13.117558410101754,9.551829330825251,4.713449379739765],\"yaxis\":\"y3\"},{\"line\":{\"color\":\"black\",\"width\":0},\"mode\":\"lines\",\"name\":\"Captured emissions\",\"showlegend\":false,\"stackgroup\":\"one\",\"type\":\"scatter\",\"x\":[2015,2016,2017,2018,2019,2020,2021,2022,2023,2024,2025,2026,2027,2028,2029,2030,2031,2032,2033,2034,2035,2036,2037,2038,2039,2040,2041,2042,2043,2044,2045,2046,2047,2048,2049,2050],\"xaxis\":\"x3\",\"y\":[0.0,0.0,0.0,0.0,0.0,0.0,0.0,0.0,0.0,0.0,0.0,0.0,0.0,0.0,0.0,11.776802352623447,23.997879845300467,24.00127221750477,26.909465622318365,30.69030835232553,31.768848091394226,31.80132098075369,31.833753512069414,31.866145760531516,31.543120238753275,54.2847706461517,60.362065056040855,60.49462589141425,59.44662659537319,59.04787761335759,57.10581256320917,54.7521318328354,51.89792387972326,47.45256477048122,42.35997428993289,35.91370588438946],\"yaxis\":\"y3\"}],                        {\"annotations\":[{\"font\":{\"size\":24},\"showarrow\":false,\"text\":\"High electricity price\",\"x\":0.14444444444444446,\"xanchor\":\"center\",\"xref\":\"paper\",\"y\":1.0,\"yanchor\":\"bottom\",\"yref\":\"paper\"},{\"font\":{\"size\":24},\"showarrow\":false,\"text\":\"Reference\",\"x\":0.5,\"xanchor\":\"center\",\"xref\":\"paper\",\"y\":1.0,\"yanchor\":\"bottom\",\"yref\":\"paper\"},{\"font\":{\"size\":24},\"showarrow\":false,\"text\":\"Fossil phase-out\",\"x\":0.8555555555555556,\"xanchor\":\"center\",\"xref\":\"paper\",\"y\":1.0,\"yanchor\":\"bottom\",\"yref\":\"paper\"}],\"font\":{\"family\":\"Times New Roman\",\"size\":24},\"legend\":{\"orientation\":\"h\",\"x\":0.75,\"xanchor\":\"right\",\"y\":1.1,\"yanchor\":\"bottom\"},\"template\":{\"data\":{\"bar\":[{\"error_x\":{\"color\":\"#2a3f5f\"},\"error_y\":{\"color\":\"#2a3f5f\"},\"marker\":{\"line\":{\"color\":\"#E5ECF6\",\"width\":0.5},\"pattern\":{\"fillmode\":\"overlay\",\"size\":10,\"solidity\":0.2}},\"type\":\"bar\"}],\"barpolar\":[{\"marker\":{\"line\":{\"color\":\"#E5ECF6\",\"width\":0.5},\"pattern\":{\"fillmode\":\"overlay\",\"size\":10,\"solidity\":0.2}},\"type\":\"barpolar\"}],\"carpet\":[{\"aaxis\":{\"endlinecolor\":\"#2a3f5f\",\"gridcolor\":\"white\",\"linecolor\":\"white\",\"minorgridcolor\":\"white\",\"startlinecolor\":\"#2a3f5f\"},\"baxis\":{\"endlinecolor\":\"#2a3f5f\",\"gridcolor\":\"white\",\"linecolor\":\"white\",\"minorgridcolor\":\"white\",\"startlinecolor\":\"#2a3f5f\"},\"type\":\"carpet\"}],\"choropleth\":[{\"colorbar\":{\"outlinewidth\":0,\"ticks\":\"\"},\"type\":\"choropleth\"}],\"contour\":[{\"colorbar\":{\"outlinewidth\":0,\"ticks\":\"\"},\"colorscale\":[[0.0,\"#0d0887\"],[0.1111111111111111,\"#46039f\"],[0.2222222222222222,\"#7201a8\"],[0.3333333333333333,\"#9c179e\"],[0.4444444444444444,\"#bd3786\"],[0.5555555555555556,\"#d8576b\"],[0.6666666666666666,\"#ed7953\"],[0.7777777777777778,\"#fb9f3a\"],[0.8888888888888888,\"#fdca26\"],[1.0,\"#f0f921\"]],\"type\":\"contour\"}],\"contourcarpet\":[{\"colorbar\":{\"outlinewidth\":0,\"ticks\":\"\"},\"type\":\"contourcarpet\"}],\"heatmap\":[{\"colorbar\":{\"outlinewidth\":0,\"ticks\":\"\"},\"colorscale\":[[0.0,\"#0d0887\"],[0.1111111111111111,\"#46039f\"],[0.2222222222222222,\"#7201a8\"],[0.3333333333333333,\"#9c179e\"],[0.4444444444444444,\"#bd3786\"],[0.5555555555555556,\"#d8576b\"],[0.6666666666666666,\"#ed7953\"],[0.7777777777777778,\"#fb9f3a\"],[0.8888888888888888,\"#fdca26\"],[1.0,\"#f0f921\"]],\"type\":\"heatmap\"}],\"heatmapgl\":[{\"colorbar\":{\"outlinewidth\":0,\"ticks\":\"\"},\"colorscale\":[[0.0,\"#0d0887\"],[0.1111111111111111,\"#46039f\"],[0.2222222222222222,\"#7201a8\"],[0.3333333333333333,\"#9c179e\"],[0.4444444444444444,\"#bd3786\"],[0.5555555555555556,\"#d8576b\"],[0.6666666666666666,\"#ed7953\"],[0.7777777777777778,\"#fb9f3a\"],[0.8888888888888888,\"#fdca26\"],[1.0,\"#f0f921\"]],\"type\":\"heatmapgl\"}],\"histogram\":[{\"marker\":{\"pattern\":{\"fillmode\":\"overlay\",\"size\":10,\"solidity\":0.2}},\"type\":\"histogram\"}],\"histogram2d\":[{\"colorbar\":{\"outlinewidth\":0,\"ticks\":\"\"},\"colorscale\":[[0.0,\"#0d0887\"],[0.1111111111111111,\"#46039f\"],[0.2222222222222222,\"#7201a8\"],[0.3333333333333333,\"#9c179e\"],[0.4444444444444444,\"#bd3786\"],[0.5555555555555556,\"#d8576b\"],[0.6666666666666666,\"#ed7953\"],[0.7777777777777778,\"#fb9f3a\"],[0.8888888888888888,\"#fdca26\"],[1.0,\"#f0f921\"]],\"type\":\"histogram2d\"}],\"histogram2dcontour\":[{\"colorbar\":{\"outlinewidth\":0,\"ticks\":\"\"},\"colorscale\":[[0.0,\"#0d0887\"],[0.1111111111111111,\"#46039f\"],[0.2222222222222222,\"#7201a8\"],[0.3333333333333333,\"#9c179e\"],[0.4444444444444444,\"#bd3786\"],[0.5555555555555556,\"#d8576b\"],[0.6666666666666666,\"#ed7953\"],[0.7777777777777778,\"#fb9f3a\"],[0.8888888888888888,\"#fdca26\"],[1.0,\"#f0f921\"]],\"type\":\"histogram2dcontour\"}],\"mesh3d\":[{\"colorbar\":{\"outlinewidth\":0,\"ticks\":\"\"},\"type\":\"mesh3d\"}],\"parcoords\":[{\"line\":{\"colorbar\":{\"outlinewidth\":0,\"ticks\":\"\"}},\"type\":\"parcoords\"}],\"pie\":[{\"automargin\":true,\"type\":\"pie\"}],\"scatter\":[{\"marker\":{\"colorbar\":{\"outlinewidth\":0,\"ticks\":\"\"}},\"type\":\"scatter\"}],\"scatter3d\":[{\"line\":{\"colorbar\":{\"outlinewidth\":0,\"ticks\":\"\"}},\"marker\":{\"colorbar\":{\"outlinewidth\":0,\"ticks\":\"\"}},\"type\":\"scatter3d\"}],\"scattercarpet\":[{\"marker\":{\"colorbar\":{\"outlinewidth\":0,\"ticks\":\"\"}},\"type\":\"scattercarpet\"}],\"scattergeo\":[{\"marker\":{\"colorbar\":{\"outlinewidth\":0,\"ticks\":\"\"}},\"type\":\"scattergeo\"}],\"scattergl\":[{\"marker\":{\"colorbar\":{\"outlinewidth\":0,\"ticks\":\"\"}},\"type\":\"scattergl\"}],\"scattermapbox\":[{\"marker\":{\"colorbar\":{\"outlinewidth\":0,\"ticks\":\"\"}},\"type\":\"scattermapbox\"}],\"scatterpolar\":[{\"marker\":{\"colorbar\":{\"outlinewidth\":0,\"ticks\":\"\"}},\"type\":\"scatterpolar\"}],\"scatterpolargl\":[{\"marker\":{\"colorbar\":{\"outlinewidth\":0,\"ticks\":\"\"}},\"type\":\"scatterpolargl\"}],\"scatterternary\":[{\"marker\":{\"colorbar\":{\"outlinewidth\":0,\"ticks\":\"\"}},\"type\":\"scatterternary\"}],\"surface\":[{\"colorbar\":{\"outlinewidth\":0,\"ticks\":\"\"},\"colorscale\":[[0.0,\"#0d0887\"],[0.1111111111111111,\"#46039f\"],[0.2222222222222222,\"#7201a8\"],[0.3333333333333333,\"#9c179e\"],[0.4444444444444444,\"#bd3786\"],[0.5555555555555556,\"#d8576b\"],[0.6666666666666666,\"#ed7953\"],[0.7777777777777778,\"#fb9f3a\"],[0.8888888888888888,\"#fdca26\"],[1.0,\"#f0f921\"]],\"type\":\"surface\"}],\"table\":[{\"cells\":{\"fill\":{\"color\":\"#EBF0F8\"},\"line\":{\"color\":\"white\"}},\"header\":{\"fill\":{\"color\":\"#C8D4E3\"},\"line\":{\"color\":\"white\"}},\"type\":\"table\"}]},\"layout\":{\"annotationdefaults\":{\"arrowcolor\":\"#2a3f5f\",\"arrowhead\":0,\"arrowwidth\":1},\"autotypenumbers\":\"strict\",\"coloraxis\":{\"colorbar\":{\"outlinewidth\":0,\"ticks\":\"\"}},\"colorscale\":{\"diverging\":[[0,\"#8e0152\"],[0.1,\"#c51b7d\"],[0.2,\"#de77ae\"],[0.3,\"#f1b6da\"],[0.4,\"#fde0ef\"],[0.5,\"#f7f7f7\"],[0.6,\"#e6f5d0\"],[0.7,\"#b8e186\"],[0.8,\"#7fbc41\"],[0.9,\"#4d9221\"],[1,\"#276419\"]],\"sequential\":[[0.0,\"#0d0887\"],[0.1111111111111111,\"#46039f\"],[0.2222222222222222,\"#7201a8\"],[0.3333333333333333,\"#9c179e\"],[0.4444444444444444,\"#bd3786\"],[0.5555555555555556,\"#d8576b\"],[0.6666666666666666,\"#ed7953\"],[0.7777777777777778,\"#fb9f3a\"],[0.8888888888888888,\"#fdca26\"],[1.0,\"#f0f921\"]],\"sequentialminus\":[[0.0,\"#0d0887\"],[0.1111111111111111,\"#46039f\"],[0.2222222222222222,\"#7201a8\"],[0.3333333333333333,\"#9c179e\"],[0.4444444444444444,\"#bd3786\"],[0.5555555555555556,\"#d8576b\"],[0.6666666666666666,\"#ed7953\"],[0.7777777777777778,\"#fb9f3a\"],[0.8888888888888888,\"#fdca26\"],[1.0,\"#f0f921\"]]},\"colorway\":[\"#636efa\",\"#EF553B\",\"#00cc96\",\"#ab63fa\",\"#FFA15A\",\"#19d3f3\",\"#FF6692\",\"#B6E880\",\"#FF97FF\",\"#FECB52\"],\"font\":{\"color\":\"#2a3f5f\"},\"geo\":{\"bgcolor\":\"white\",\"lakecolor\":\"white\",\"landcolor\":\"#E5ECF6\",\"showlakes\":true,\"showland\":true,\"subunitcolor\":\"white\"},\"hoverlabel\":{\"align\":\"left\"},\"hovermode\":\"closest\",\"mapbox\":{\"style\":\"light\"},\"paper_bgcolor\":\"white\",\"plot_bgcolor\":\"#E5ECF6\",\"polar\":{\"angularaxis\":{\"gridcolor\":\"white\",\"linecolor\":\"white\",\"ticks\":\"\"},\"bgcolor\":\"#E5ECF6\",\"radialaxis\":{\"gridcolor\":\"white\",\"linecolor\":\"white\",\"ticks\":\"\"}},\"scene\":{\"xaxis\":{\"backgroundcolor\":\"#E5ECF6\",\"gridcolor\":\"white\",\"gridwidth\":2,\"linecolor\":\"white\",\"showbackground\":true,\"ticks\":\"\",\"zerolinecolor\":\"white\"},\"yaxis\":{\"backgroundcolor\":\"#E5ECF6\",\"gridcolor\":\"white\",\"gridwidth\":2,\"linecolor\":\"white\",\"showbackground\":true,\"ticks\":\"\",\"zerolinecolor\":\"white\"},\"zaxis\":{\"backgroundcolor\":\"#E5ECF6\",\"gridcolor\":\"white\",\"gridwidth\":2,\"linecolor\":\"white\",\"showbackground\":true,\"ticks\":\"\",\"zerolinecolor\":\"white\"}},\"shapedefaults\":{\"line\":{\"color\":\"#2a3f5f\"}},\"ternary\":{\"aaxis\":{\"gridcolor\":\"white\",\"linecolor\":\"white\",\"ticks\":\"\"},\"baxis\":{\"gridcolor\":\"white\",\"linecolor\":\"white\",\"ticks\":\"\"},\"bgcolor\":\"#E5ECF6\",\"caxis\":{\"gridcolor\":\"white\",\"linecolor\":\"white\",\"ticks\":\"\"}},\"title\":{\"x\":0.05},\"xaxis\":{\"automargin\":true,\"gridcolor\":\"white\",\"linecolor\":\"white\",\"ticks\":\"\",\"title\":{\"standoff\":15},\"zerolinecolor\":\"white\",\"zerolinewidth\":2},\"yaxis\":{\"automargin\":true,\"gridcolor\":\"white\",\"linecolor\":\"white\",\"ticks\":\"\",\"title\":{\"standoff\":15},\"zerolinecolor\":\"white\",\"zerolinewidth\":2}}},\"xaxis\":{\"anchor\":\"y\",\"domain\":[0.0,0.2888888888888889]},\"xaxis2\":{\"anchor\":\"y2\",\"domain\":[0.35555555555555557,0.6444444444444445]},\"xaxis3\":{\"anchor\":\"y3\",\"domain\":[0.7111111111111111,1.0]},\"yaxis\":{\"anchor\":\"x\",\"domain\":[0.0,1.0],\"range\":[0,350],\"title\":{\"text\":\"Emissions (MtCO2)\"}},\"yaxis2\":{\"anchor\":\"x2\",\"domain\":[0.0,1.0],\"matches\":\"y\",\"range\":[0,350],\"showticklabels\":false},\"yaxis3\":{\"anchor\":\"x3\",\"domain\":[0.0,1.0],\"matches\":\"y\",\"range\":[0,350],\"showticklabels\":false}},                        {\"responsive\": true}                    ).then(function(){\n",
       "                            \n",
       "var gd = document.getElementById('166fb27b-ab17-4b0e-8c4f-eb3e3cb21b8c');\n",
       "var x = new MutationObserver(function (mutations, observer) {{\n",
       "        var display = window.getComputedStyle(gd).display;\n",
       "        if (!display || display === 'none') {{\n",
       "            console.log([gd, 'removed!']);\n",
       "            Plotly.purge(gd);\n",
       "            observer.disconnect();\n",
       "        }}\n",
       "}});\n",
       "\n",
       "// Listen for the removal of the full notebook cells\n",
       "var notebookContainer = gd.closest('#notebook-container');\n",
       "if (notebookContainer) {{\n",
       "    x.observe(notebookContainer, {childList: true});\n",
       "}}\n",
       "\n",
       "// Listen for the clearing of the current output cell\n",
       "var outputEl = gd.closest('.output');\n",
       "if (outputEl) {{\n",
       "    x.observe(outputEl, {childList: true});\n",
       "}}\n",
       "\n",
       "                        })                };                });            </script>        </div>"
      ]
     },
     "metadata": {},
     "output_type": "display_data"
    }
   ],
   "source": [
    "fig =make_subplots(rows=1, cols=3,subplot_titles=list(scen.keys()),shared_yaxes=True)\n",
    "for i in range(len(scen.keys())):\n",
    "    emissions_agg=scen[list(scen.keys())[i]]['emissions'].drop([\"Sector\",\"Country\"],axis=1).groupby(by=[\"Year\"]).sum().reset_index()\n",
    "    captured_emissions_agg=scen[list(scen.keys())[i]]['captured_emissions'].drop([\"Technology\",\"Sector\",\"Country\"],axis=1).groupby(by=\"Year\").sum().reset_index()\n",
    "    showlegend=[True,False,False]\n",
    "    fig.add_trace(go.Scatter(\n",
    "        name=\"Emissions\",\n",
    "        x=emissions_agg.Year, y=emissions_agg.Emissions*1e-6,\n",
    "        mode='lines',\n",
    "        line=dict(width=0, color='grey'),\n",
    "        stackgroup='one',showlegend=showlegend[i]\n",
    "    ),row=1, col=i+1)\n",
    "    fig.add_trace(go.Scatter(\n",
    "        name=\"Captured emissions\",\n",
    "        x=captured_emissions_agg.Year, y=captured_emissions_agg.Captured_emissions*1e-6,\n",
    "        mode='lines',\n",
    "        line=dict(width=0, color='black'),\n",
    "        stackgroup='one',showlegend=showlegend[i]\n",
    "    ),row=1, col=i+1)\n",
    "\n",
    "#     fig.update_xaxes(title_text=\"Year\", row=1, col=i+1)\n",
    "\n",
    "fig.update_layout(#title='CO2 emissions in EU-5+1',title_x=0.5,\n",
    "                   yaxis_title='Emissions (MtCO2)')\n",
    "fig.update_yaxes(range=[0,350])\n",
    "fig.update_layout(\n",
    "    font=dict(\n",
    "        family=\"Times New Roman\",size=24)\n",
    "    )\n",
    "fig.update_layout(legend=dict(\n",
    "    orientation=\"h\",\n",
    "    yanchor=\"bottom\",\n",
    "    y=1.1,\n",
    "    xanchor=\"right\",\n",
    "    x=0.75\n",
    "))\n",
    "fig.update_annotations(font_size=24)\n",
    "\n",
    "fig.show()"
   ]
  },
  {
   "cell_type": "code",
   "execution_count": 62,
   "id": "526da04d",
   "metadata": {},
   "outputs": [
    {
     "data": {
      "application/vnd.plotly.v1+json": {
       "config": {
        "plotlyServerURL": "https://plot.ly"
       },
       "data": [
        {
         "fillcolor": "cyan",
         "line": {
          "color": "cyan",
          "width": 0
         },
         "mode": "lines",
         "name": "Hydrogen",
         "showlegend": true,
         "stackgroup": "one",
         "type": "scatter",
         "x": [
          2015,
          2016,
          2017,
          2018,
          2019,
          2020,
          2021,
          2022,
          2023,
          2024,
          2025,
          2026,
          2027,
          2028,
          2029,
          2030,
          2031,
          2032,
          2033,
          2034,
          2035,
          2036,
          2037,
          2038,
          2039,
          2040,
          2041,
          2042,
          2043,
          2044,
          2045,
          2046,
          2047,
          2048,
          2049,
          2050
         ],
         "xaxis": "x",
         "y": [
          34.13396519999999,
          34.13396519999999,
          34.13396519999999,
          34.13396519999999,
          34.13396519999999,
          34.13396519999999,
          34.13396519999999,
          34.13396519999999,
          34.13396519999999,
          34.13396519999999,
          34.13396519999999,
          34.13396519999999,
          34.13396519999999,
          34.13396519999999,
          34.13396519999999,
          39.06202352929744,
          36.96527092696099,
          36.514573529297444,
          36.514573529297444,
          36.514573529297444,
          61.51495477853041,
          85.58000798902818,
          103.68992670284975,
          120.7680361181686,
          137.1335573010447,
          154.86511875082755,
          169.06933093507786,
          175.88051397924662,
          182.80737153193195,
          182.33239768365706,
          170.31556700246014,
          159.4700853782784,
          148.32782401518406,
          139.0993877795986,
          133.27184401658016,
          134.42600131385745
         ],
         "yaxis": "y"
        },
        {
         "fillcolor": "cyan",
         "line": {
          "color": "cyan",
          "width": 0
         },
         "mode": "lines",
         "name": "Hydrogen",
         "showlegend": false,
         "stackgroup": "two",
         "type": "scatter",
         "x": [
          2015,
          2016,
          2017,
          2018,
          2019,
          2020,
          2021,
          2022,
          2023,
          2024,
          2025,
          2026,
          2027,
          2028,
          2029,
          2030,
          2031,
          2032,
          2033,
          2034,
          2035,
          2036,
          2037,
          2038,
          2039,
          2040,
          2041,
          2042,
          2043,
          2044,
          2045,
          2046,
          2047,
          2048,
          2049,
          2050
         ],
         "xaxis": "x",
         "y": [
          -40.058118928236844,
          -40.058118928236844,
          -40.058118928236844,
          -40.058118928236844,
          -40.058118928236844,
          -40.058118928236844,
          -39.93428589597878,
          -39.81603867017233,
          -39.697791444365876,
          -39.579544218559434,
          -36.4918761872647,
          -36.45796031629696,
          -36.42404444532922,
          -36.390128574361476,
          -36.35621270339374,
          -41.16602380688473,
          -38.64111018841925,
          -38.635073419787965,
          -38.60115754882022,
          -38.56724167785248,
          -57.37509024835589,
          -68.48877088833284,
          -64.07364831568376,
          -61.347013306812144,
          -59.71750373836724,
          -59.66919532949296,
          -61.08258499927507,
          -63.830068644957365,
          -75.06365459428072,
          -89.78364713968693,
          -96.82716876311757,
          -104.35655426624292,
          -117.58166136318317,
          -115.94961064804063,
          -117.71845240546503,
          -126.5490981776246
         ],
         "yaxis": "y"
        },
        {
         "fillcolor": "purple",
         "line": {
          "color": "purple",
          "width": 0
         },
         "mode": "lines",
         "name": "Gas",
         "showlegend": true,
         "stackgroup": "one",
         "type": "scatter",
         "x": [
          2015,
          2016,
          2017,
          2018,
          2019,
          2020,
          2021,
          2022,
          2023,
          2024,
          2025,
          2026,
          2027,
          2028,
          2029,
          2030,
          2031,
          2032,
          2033,
          2034,
          2035,
          2036,
          2037,
          2038,
          2039,
          2040,
          2041,
          2042,
          2043,
          2044,
          2045,
          2046,
          2047,
          2048,
          2049,
          2050
         ],
         "xaxis": "x",
         "y": [
          49.3382553507141,
          49.3382553507141,
          49.3382553507141,
          49.3382553507141,
          49.3382553507141,
          49.3382553507141,
          49.28401283148828,
          49.23642849290764,
          49.18884415432699,
          49.14125981574635,
          50.25347674707404,
          50.35607179132014,
          56.06546683556624,
          56.16806187981233,
          56.270656924058414,
          61.669968111006234,
          63.09309928157591,
          61.775820153130105,
          58.913341614901974,
          56.050863076673835,
          63.37291304349113,
          79.23141025001453,
          84.70231241441826,
          88.1456826655091,
          91.96898384886929,
          95.6214784755821,
          94.38618846152605,
          97.90255927205749,
          100.62827051318293,
          103.40411368130634,
          105.64906213151436,
          107.40838552612797,
          108.10290645085836,
          108.43167267614773,
          107.30478586380706,
          107.08722869324151
         ],
         "yaxis": "y"
        },
        {
         "fillcolor": "purple",
         "line": {
          "color": "purple",
          "width": 0
         },
         "mode": "lines",
         "name": "Gas",
         "showlegend": false,
         "stackgroup": "two",
         "type": "scatter",
         "x": [
          2015,
          2016,
          2017,
          2018,
          2019,
          2020,
          2021,
          2022,
          2023,
          2024,
          2025,
          2026,
          2027,
          2028,
          2029,
          2030,
          2031,
          2032,
          2033,
          2034,
          2035,
          2036,
          2037,
          2038,
          2039,
          2040,
          2041,
          2042,
          2043,
          2044,
          2045,
          2046,
          2047,
          2048,
          2049,
          2050
         ],
         "xaxis": "x",
         "y": [
          -10.058771612903225,
          -10.058771612903225,
          -10.058771612903225,
          -10.058771612903225,
          -10.058771612903225,
          -10.058771612903225,
          -9.924654658064515,
          -9.790537703225805,
          -9.656420748387095,
          -9.522303793548389,
          -22.930036007013697,
          -24.89827136873413,
          -31.1272143598309,
          -33.00443716046192,
          -34.43225985155869,
          -34.33977297733426,
          -39.175875968431036,
          -40.04119865952781,
          -40.90652135062458,
          -41.77184404172135,
          -58.17660151427208,
          -71.7379893347258,
          -75.78845888912313,
          -78.20698988039423,
          -81.68806381346663,
          -84.65702518512568,
          -87.53316029572797,
          -90.7077094129554,
          -93.56700865761171,
          -96.47643982926601,
          -99.20808493660965,
          -101.9324250761695,
          -103.59196274584612,
          -105.22513320861961,
          -105.40265063376306,
          -105.69146898214234
         ],
         "yaxis": "y"
        },
        {
         "fillcolor": "black",
         "line": {
          "color": "black",
          "width": 0
         },
         "mode": "lines",
         "name": "Coal",
         "showlegend": true,
         "stackgroup": "one",
         "type": "scatter",
         "x": [
          2015,
          2016,
          2017,
          2018,
          2019,
          2020,
          2021,
          2022,
          2023,
          2024,
          2025,
          2026,
          2027,
          2028,
          2029,
          2030,
          2031,
          2032,
          2033,
          2034,
          2035,
          2036,
          2037,
          2038,
          2039,
          2040,
          2041,
          2042,
          2043,
          2044,
          2045,
          2046,
          2047,
          2048,
          2049,
          2050
         ],
         "xaxis": "x",
         "y": [
          400.0732957214581,
          400.45278162539626,
          400.7991192435614,
          401.10706517033185,
          401.3698444013438,
          401.5789881811425,
          401.5794104695188,
          401.4995907717133,
          401.3260140095586,
          401.0406600788317,
          386.75831600867446,
          386.4126229233603,
          372.90076272631745,
          371.2915020137342,
          368.7640224147553,
          344.4326983284878,
          343.6224244243769,
          340.30682011600396,
          335.4982547107089,
          330.6896893054139,
          313.452011580412,
          297.179996934003,
          269.6448904694849,
          261.9940085585873,
          159.4716026134549,
          168.9798744528796,
          168.6325109443148,
          167.60686518276174,
          165.7314899458591,
          163.3661894059385,
          160.65277785749913,
          157.7290865120693,
          154.82107269317376,
          150.6467624528456,
          142.0989268998978,
          115.34600461415258
         ],
         "yaxis": "y"
        },
        {
         "fillcolor": "black",
         "line": {
          "color": "black",
          "width": 0
         },
         "mode": "lines",
         "name": "Coal",
         "showlegend": false,
         "stackgroup": "two",
         "type": "scatter",
         "x": [
          2015,
          2016,
          2017,
          2018,
          2019,
          2020,
          2021,
          2022,
          2023,
          2024,
          2025,
          2026,
          2027,
          2028,
          2029,
          2030,
          2031,
          2032,
          2033,
          2034,
          2035,
          2036,
          2037,
          2038,
          2039,
          2040,
          2041,
          2042,
          2043,
          2044,
          2045,
          2046,
          2047,
          2048,
          2049,
          2050
         ],
         "xaxis": "x",
         "y": [
          0,
          0,
          0,
          0,
          0,
          0,
          0,
          0,
          0,
          0,
          0,
          0,
          0,
          0,
          0,
          0,
          0,
          0,
          0,
          0,
          0,
          0,
          0,
          0,
          0,
          0,
          0,
          0,
          0,
          0,
          0,
          0,
          0,
          0,
          0,
          0
         ],
         "yaxis": "y"
        },
        {
         "fillcolor": "grey",
         "line": {
          "color": "grey",
          "width": 0
         },
         "mode": "lines",
         "name": "Oil",
         "showlegend": true,
         "stackgroup": "one",
         "type": "scatter",
         "x": [
          2015,
          2016,
          2017,
          2018,
          2019,
          2020,
          2021,
          2022,
          2023,
          2024,
          2025,
          2026,
          2027,
          2028,
          2029,
          2030,
          2031,
          2032,
          2033,
          2034,
          2035,
          2036,
          2037,
          2038,
          2039,
          2040,
          2041,
          2042,
          2043,
          2044,
          2045,
          2046,
          2047,
          2048,
          2049,
          2050
         ],
         "xaxis": "x",
         "y": [
          692.7148503638709,
          692.7148503638709,
          692.7148503638709,
          692.7148503638709,
          692.7148503638709,
          692.7148503638709,
          683.4786523590193,
          674.2424543541676,
          665.0062563493162,
          655.7700583444646,
          646.5338603396129,
          637.2976623347613,
          628.0614643299097,
          618.825266325058,
          609.5890683202065,
          600.3528703153548,
          591.1166723105032,
          581.8804743056517,
          572.6442763007999,
          563.4080782959484,
          401.55042122700274,
          263.5219997011184,
          188.1268974026194,
          150.76185892017415,
          126.52126262391609,
          102.28066632765803,
          78.10408355964339,
          68.89620496850176,
          66.1960514680705,
          63.495897967639216,
          57.75206917350025,
          50.03797086082113,
          45.0693142060648,
          43.023193947115146,
          40.977073688165504,
          38.731286267931836
         ],
         "yaxis": "y"
        },
        {
         "fillcolor": "grey",
         "line": {
          "color": "grey",
          "width": 0
         },
         "mode": "lines",
         "name": "Oil",
         "showlegend": false,
         "stackgroup": "two",
         "type": "scatter",
         "x": [
          2015,
          2016,
          2017,
          2018,
          2019,
          2020,
          2021,
          2022,
          2023,
          2024,
          2025,
          2026,
          2027,
          2028,
          2029,
          2030,
          2031,
          2032,
          2033,
          2034,
          2035,
          2036,
          2037,
          2038,
          2039,
          2040,
          2041,
          2042,
          2043,
          2044,
          2045,
          2046,
          2047,
          2048,
          2049,
          2050
         ],
         "xaxis": "x",
         "y": [
          0,
          0,
          0,
          0,
          0,
          0,
          0,
          0,
          0,
          0,
          0,
          0,
          0,
          0,
          0,
          0,
          0,
          0,
          0,
          0,
          0,
          0,
          0,
          0,
          0,
          0,
          0,
          0,
          0,
          0,
          0,
          0,
          0,
          0,
          0,
          0
         ],
         "yaxis": "y"
        },
        {
         "fillcolor": "brown",
         "line": {
          "color": "brown",
          "width": 0
         },
         "mode": "lines",
         "name": "Biomass",
         "showlegend": true,
         "stackgroup": "one",
         "type": "scatter",
         "x": [
          2015,
          2016,
          2017,
          2018,
          2019,
          2020,
          2021,
          2022,
          2023,
          2024,
          2025,
          2026,
          2027,
          2028,
          2029,
          2030,
          2031,
          2032,
          2033,
          2034,
          2035,
          2036,
          2037,
          2038,
          2039,
          2040,
          2041,
          2042,
          2043,
          2044,
          2045,
          2046,
          2047,
          2048,
          2049,
          2050
         ],
         "xaxis": "x",
         "y": [
          0,
          0,
          0,
          0,
          0,
          0,
          0,
          0,
          0,
          0,
          3.1309282875066278,
          2.771430124453624,
          3.2333221071436844,
          4.463610438494867,
          6.78627722964225,
          7.33823204214225,
          7.448623004642251,
          8.051658539376222,
          9.254235088474159,
          10.4568116375721,
          164.50708042943236,
          317.6246471993484,
          368.23869415356364,
          358.86251201914183,
          460.5333266129398,
          407.97585708286385,
          392.06036011116515,
          389.19582484295546,
          354.0774599316624,
          342.2203055128641,
          330.1517839233508,
          321.4044381821346,
          313.8347407861799,
          296.52922617089024,
          285.079508182744,
          264.5304802228214
         ],
         "yaxis": "y"
        },
        {
         "fillcolor": "brown",
         "line": {
          "color": "brown",
          "width": 0
         },
         "mode": "lines",
         "name": "Biomass",
         "showlegend": false,
         "stackgroup": "two",
         "type": "scatter",
         "x": [
          2015,
          2016,
          2017,
          2018,
          2019,
          2020,
          2021,
          2022,
          2023,
          2024,
          2025,
          2026,
          2027,
          2028,
          2029,
          2030,
          2031,
          2032,
          2033,
          2034,
          2035,
          2036,
          2037,
          2038,
          2039,
          2040,
          2041,
          2042,
          2043,
          2044,
          2045,
          2046,
          2047,
          2048,
          2049,
          2050
         ],
         "xaxis": "x",
         "y": [
          0,
          0,
          0,
          0,
          0,
          0,
          0,
          0,
          0,
          0,
          0,
          0,
          0,
          0,
          0,
          0,
          0,
          0,
          0,
          0,
          0,
          0,
          0,
          0,
          0,
          0,
          0,
          0,
          0,
          0,
          0,
          0,
          0,
          0,
          0,
          0
         ],
         "yaxis": "y"
        },
        {
         "fillcolor": "yellow",
         "line": {
          "color": "yellow",
          "width": 0
         },
         "mode": "lines",
         "name": "Electricity",
         "showlegend": true,
         "stackgroup": "one",
         "type": "scatter",
         "x": [
          2015,
          2016,
          2017,
          2018,
          2019,
          2020,
          2021,
          2022,
          2023,
          2024,
          2025,
          2026,
          2027,
          2028,
          2029,
          2030,
          2031,
          2032,
          2033,
          2034,
          2035,
          2036,
          2037,
          2038,
          2039,
          2040,
          2041,
          2042,
          2043,
          2044,
          2045,
          2046,
          2047,
          2048,
          2049,
          2050
         ],
         "xaxis": "x",
         "y": [
          74.18682361290323,
          74.18682361290323,
          74.18682361290323,
          74.18682361290323,
          74.18682361290323,
          74.18682361290323,
          74.08544649806451,
          73.9840693832258,
          73.8826922683871,
          73.78131515354839,
          76.15395702803225,
          76.05005461976708,
          78.02015221150192,
          77.91624980323677,
          77.81234739497162,
          88.49214680703973,
          85.26241423507504,
          89.12423512291434,
          92.17789953016904,
          95.70526753493009,
          124.99865118157241,
          125.80280350253582,
          125.22981389856373,
          124.99115102178651,
          126.69534126443868,
          138.5499063183598,
          142.56909182145085,
          145.34488453535255,
          161.818760828652,
          180.27509973821563,
          177.48667862074805,
          178.20276054522265,
          187.35370744804356,
          177.3043489765482,
          175.27456060466127,
          187.79253982013267
         ],
         "yaxis": "y"
        },
        {
         "fillcolor": "yellow",
         "line": {
          "color": "yellow",
          "width": 0
         },
         "mode": "lines",
         "name": "Electricity",
         "showlegend": false,
         "stackgroup": "two",
         "type": "scatter",
         "x": [
          2015,
          2016,
          2017,
          2018,
          2019,
          2020,
          2021,
          2022,
          2023,
          2024,
          2025,
          2026,
          2027,
          2028,
          2029,
          2030,
          2031,
          2032,
          2033,
          2034,
          2035,
          2036,
          2037,
          2038,
          2039,
          2040,
          2041,
          2042,
          2043,
          2044,
          2045,
          2046,
          2047,
          2048,
          2049,
          2050
         ],
         "xaxis": "x",
         "y": [
          0,
          0,
          0,
          0,
          0,
          0,
          0,
          0,
          0,
          0,
          0,
          0,
          0,
          0,
          0,
          0,
          0,
          0,
          0,
          0,
          0,
          0,
          0,
          0,
          0,
          0,
          0,
          0,
          0,
          0,
          0,
          0,
          0,
          0,
          0,
          0
         ],
         "yaxis": "y"
        },
        {
         "fillcolor": "red",
         "line": {
          "color": "red",
          "width": 0
         },
         "mode": "lines",
         "name": "MeOH",
         "showlegend": true,
         "stackgroup": "one",
         "type": "scatter",
         "x": [
          2015,
          2016,
          2017,
          2018,
          2019,
          2020,
          2021,
          2022,
          2023,
          2024,
          2025,
          2026,
          2027,
          2028,
          2029,
          2030,
          2031,
          2032,
          2033,
          2034,
          2035,
          2036,
          2037,
          2038,
          2039,
          2040,
          2041,
          2042,
          2043,
          2044,
          2045,
          2046,
          2047,
          2048,
          2049,
          2050
         ],
         "xaxis": "x",
         "y": [
          0,
          0,
          0,
          0,
          0,
          0,
          0,
          0,
          0,
          0,
          0.06506185671565093,
          0.06321410428022255,
          0.061366351844793963,
          0.05951859940936558,
          0.057670846973937186,
          0.057670846973937165,
          0.057670846973937186,
          0.07329270928329851,
          0.10792614241488037,
          0.14255957554646229,
          41.795840843432174,
          67.0177118070529,
          93.58543667905298,
          112.35582175310526,
          123.32029639470684,
          134.38348204666838,
          145.4149224131632,
          146.1910434638673,
          152.00636450629722,
          151.39318953862096,
          152.35502521971586,
          153.56790400050158,
          152.85172006744352,
          152.98089956472398,
          150.60827426084592,
          148.2666885280719
         ],
         "yaxis": "y"
        },
        {
         "fillcolor": "red",
         "line": {
          "color": "red",
          "width": 0
         },
         "mode": "lines",
         "name": "MeOH",
         "showlegend": false,
         "stackgroup": "two",
         "type": "scatter",
         "x": [
          2015,
          2016,
          2017,
          2018,
          2019,
          2020,
          2021,
          2022,
          2023,
          2024,
          2025,
          2026,
          2027,
          2028,
          2029,
          2030,
          2031,
          2032,
          2033,
          2034,
          2035,
          2036,
          2037,
          2038,
          2039,
          2040,
          2041,
          2042,
          2043,
          2044,
          2045,
          2046,
          2047,
          2048,
          2049,
          2050
         ],
         "xaxis": "x",
         "y": [
          -7.8723399999999994,
          -7.8723399999999994,
          -7.8723399999999994,
          -7.8723399999999994,
          -7.8723399999999994,
          -7.8723399999999994,
          -7.8723399999999994,
          -7.8723399999999994,
          -7.8723399999999994,
          -7.8723399999999994,
          -7.8723399999999994,
          -7.8723399999999994,
          -7.8723399999999994,
          -7.8723399999999994,
          -7.8723399999999994,
          -7.8723399999999994,
          -7.8723399999999994,
          -7.8723399999999994,
          -7.8723399999999994,
          -7.8723399999999994,
          -33.93285729669597,
          -53.63645983942193,
          -73.2057294528072,
          -90.69502418133801,
          -107.00536503450428,
          -124.55242534157435,
          -136.08327739569162,
          -143.88071786363304,
          -151.22639619443686,
          -151.39872953862096,
          -153.8982981187379,
          -155.11117689952363,
          -154.39499296646554,
          -154.52417246374603,
          -152.15154715986796,
          -149.80996142709395
         ],
         "yaxis": "y"
        },
        {
         "fillcolor": "green",
         "line": {
          "color": "green",
          "width": 0
         },
         "mode": "lines",
         "name": "Waste",
         "showlegend": true,
         "stackgroup": "one",
         "type": "scatter",
         "x": [
          2015,
          2016,
          2017,
          2018,
          2019,
          2020,
          2021,
          2022,
          2023,
          2024,
          2025,
          2026,
          2027,
          2028,
          2029,
          2030,
          2031,
          2032,
          2033,
          2034,
          2035,
          2036,
          2037,
          2038,
          2039,
          2040,
          2041,
          2042,
          2043,
          2044,
          2045,
          2046,
          2047,
          2048,
          2049,
          2050
         ],
         "xaxis": "x",
         "y": [
          37.510386080695,
          37.89043151719906,
          38.23727979247738,
          38.54567976977458,
          38.80884645532931,
          39.01829860693984,
          38.55468901287267,
          38.010719119917034,
          37.37285392261373,
          36.62304674701722,
          31.60508514975767,
          31.700981371317333,
          31.775168984311595,
          31.775168984311595,
          31.24544127627791,
          30.661411655725907,
          30.361952669513403,
          30.06570559744883,
          29.773786210438864,
          29.481866823428906,
          26.973207141550628,
          21.086908225680066,
          15.198388124373805,
          9.197058792445759,
          1.5434581124826752,
          26.211188048009596,
          27.61852895631673,
          27.32912276904095,
          27.03971658176517,
          26.75031039448939,
          26.46090420721361,
          25.790914695286176,
          25.73971933011526,
          25.407254355835576,
          25.203180235546174,
          23.822494180063234
         ],
         "yaxis": "y"
        },
        {
         "fillcolor": "green",
         "line": {
          "color": "green",
          "width": 0
         },
         "mode": "lines",
         "name": "Waste",
         "showlegend": false,
         "stackgroup": "two",
         "type": "scatter",
         "x": [
          2015,
          2016,
          2017,
          2018,
          2019,
          2020,
          2021,
          2022,
          2023,
          2024,
          2025,
          2026,
          2027,
          2028,
          2029,
          2030,
          2031,
          2032,
          2033,
          2034,
          2035,
          2036,
          2037,
          2038,
          2039,
          2040,
          2041,
          2042,
          2043,
          2044,
          2045,
          2046,
          2047,
          2048,
          2049,
          2050
         ],
         "xaxis": "x",
         "y": [
          0,
          0,
          0,
          0,
          0,
          0,
          0,
          0,
          0,
          0,
          0,
          0,
          0,
          0,
          0,
          0,
          0,
          0,
          0,
          0,
          0,
          0,
          0,
          0,
          0,
          0,
          0,
          0,
          0,
          0,
          0,
          0,
          0,
          0,
          0,
          0
         ],
         "yaxis": "y"
        },
        {
         "fillcolor": "cyan",
         "line": {
          "color": "cyan",
          "width": 0
         },
         "mode": "lines",
         "name": "Hydrogen",
         "showlegend": false,
         "stackgroup": "one",
         "type": "scatter",
         "x": [
          2015,
          2016,
          2017,
          2018,
          2019,
          2020,
          2021,
          2022,
          2023,
          2024,
          2025,
          2026,
          2027,
          2028,
          2029,
          2030,
          2031,
          2032,
          2033,
          2034,
          2035,
          2036,
          2037,
          2038,
          2039,
          2040,
          2041,
          2042,
          2043,
          2044,
          2045,
          2046,
          2047,
          2048,
          2049,
          2050
         ],
         "xaxis": "x2",
         "y": [
          34.13396519999999,
          34.13396519999999,
          34.13396519999999,
          34.13396519999999,
          34.13396519999999,
          34.13396519999999,
          34.13396519999999,
          34.13396519999999,
          34.13396519999999,
          34.13396519999999,
          34.13396519999999,
          34.13396519999999,
          34.13396519999999,
          34.13396519999999,
          34.13396519999999,
          68.22590631091376,
          67.09653681091376,
          66.80782581091377,
          65.66996481091377,
          64.68774174655732,
          90.31528974295931,
          116.91393941712838,
          144.58757365783723,
          163.56012285765698,
          179.2123579726263,
          194.06673345965334,
          211.73905014451307,
          220.88963116631626,
          225.48465829998943,
          224.02564850968312,
          211.31139453927807,
          199.34161409225106,
          187.78269787299965,
          181.37070244184596,
          176.97107647721174,
          179.43919702872697
         ],
         "yaxis": "y2"
        },
        {
         "fillcolor": "cyan",
         "line": {
          "color": "cyan",
          "width": 0
         },
         "mode": "lines",
         "name": "Hydrogen",
         "showlegend": false,
         "stackgroup": "two",
         "type": "scatter",
         "x": [
          2015,
          2016,
          2017,
          2018,
          2019,
          2020,
          2021,
          2022,
          2023,
          2024,
          2025,
          2026,
          2027,
          2028,
          2029,
          2030,
          2031,
          2032,
          2033,
          2034,
          2035,
          2036,
          2037,
          2038,
          2039,
          2040,
          2041,
          2042,
          2043,
          2044,
          2045,
          2046,
          2047,
          2048,
          2049,
          2050
         ],
         "xaxis": "x2",
         "y": [
          -40.058118928236844,
          -40.058118928236844,
          -40.058118928236844,
          -40.058118928236844,
          -40.058118928236844,
          -40.058118928236844,
          -39.93428589597878,
          -39.81603867017233,
          -39.697791444365876,
          -39.579544218559434,
          -36.4918761872647,
          -36.45796031629696,
          -36.42404444532922,
          -36.390128574361476,
          -36.35621270339374,
          -69.92231458850105,
          -66.4074673626946,
          -67.39136420140429,
          -67.35744833043654,
          -66.74040989511235,
          -90.14170006553996,
          -110.21680880490455,
          -127.87565404050795,
          -142.450954085155,
          -152.77911423872152,
          -156.40742288324012,
          -165.2931455129665,
          -176.08680065629915,
          -176.79123773281208,
          -176.6170719094195,
          -173.2670770101603,
          -168.14449279737448,
          -164.8736915189537,
          -163.41981102863065,
          -163.97830000482705,
          -174.73453549717289
         ],
         "yaxis": "y2"
        },
        {
         "fillcolor": "purple",
         "line": {
          "color": "purple",
          "width": 0
         },
         "mode": "lines",
         "name": "Gas",
         "showlegend": false,
         "stackgroup": "one",
         "type": "scatter",
         "x": [
          2015,
          2016,
          2017,
          2018,
          2019,
          2020,
          2021,
          2022,
          2023,
          2024,
          2025,
          2026,
          2027,
          2028,
          2029,
          2030,
          2031,
          2032,
          2033,
          2034,
          2035,
          2036,
          2037,
          2038,
          2039,
          2040,
          2041,
          2042,
          2043,
          2044,
          2045,
          2046,
          2047,
          2048,
          2049,
          2050
         ],
         "xaxis": "x2",
         "y": [
          49.3382553507141,
          49.3382553507141,
          49.3382553507141,
          49.3382553507141,
          49.3382553507141,
          49.3382553507141,
          49.28401283148828,
          49.23642849290764,
          49.188844154327,
          49.14125981574636,
          50.25347674707404,
          50.35607179132013,
          56.968570035171496,
          60.57541507941758,
          70.31450952025332,
          99.06770080047775,
          98.72575946189713,
          96.83352414528653,
          93.97104560705841,
          96.66226162922129,
          104.86006991705366,
          122.61717671636342,
          130.3746810722478,
          135.44277704668306,
          139.09266161333613,
          141.95112494543093,
          139.9006275977583,
          142.85971588772338,
          145.37522998794955,
          148.04607518995786,
          150.42652418904524,
          152.68811534256082,
          154.37269470355628,
          155.31353560178388,
          155.83451865122873,
          153.60263900358981
         ],
         "yaxis": "y2"
        },
        {
         "fillcolor": "purple",
         "line": {
          "color": "purple",
          "width": 0
         },
         "mode": "lines",
         "name": "Gas",
         "showlegend": false,
         "stackgroup": "two",
         "type": "scatter",
         "x": [
          2015,
          2016,
          2017,
          2018,
          2019,
          2020,
          2021,
          2022,
          2023,
          2024,
          2025,
          2026,
          2027,
          2028,
          2029,
          2030,
          2031,
          2032,
          2033,
          2034,
          2035,
          2036,
          2037,
          2038,
          2039,
          2040,
          2041,
          2042,
          2043,
          2044,
          2045,
          2046,
          2047,
          2048,
          2049,
          2050
         ],
         "xaxis": "x2",
         "y": [
          -10.058771612903225,
          -10.058771612903225,
          -10.058771612903225,
          -10.058771612903225,
          -10.058771612903225,
          -10.058771612903225,
          -9.924654658064515,
          -9.790537703225805,
          -9.656420748387095,
          -9.522303793548389,
          -22.930036007013694,
          -24.89827136873412,
          -33.38599725943616,
          -38.767470060067176,
          -49.8317921477536,
          -55.01430224265547,
          -63.89358493375224,
          -67.44640762484902,
          -70.99923031594578,
          -80.8008191574336,
          -100.63843541423239,
          -115.1237558010747,
          -121.17195366832425,
          -125.77556814261798,
          -128.74191945421728,
          -131.78799953125832,
          -134.71668892853194,
          -137.76964396344326,
          -140.37902480861564,
          -143.1437367555702,
          -145.9265761390311,
          -148.32071390782963,
          -150.13783988410802,
          -151.90767532298486,
          -153.73306260991382,
          -152.20687929249064
         ],
         "yaxis": "y2"
        },
        {
         "fillcolor": "black",
         "line": {
          "color": "black",
          "width": 0
         },
         "mode": "lines",
         "name": "Coal",
         "showlegend": false,
         "stackgroup": "one",
         "type": "scatter",
         "x": [
          2015,
          2016,
          2017,
          2018,
          2019,
          2020,
          2021,
          2022,
          2023,
          2024,
          2025,
          2026,
          2027,
          2028,
          2029,
          2030,
          2031,
          2032,
          2033,
          2034,
          2035,
          2036,
          2037,
          2038,
          2039,
          2040,
          2041,
          2042,
          2043,
          2044,
          2045,
          2046,
          2047,
          2048,
          2049,
          2050
         ],
         "xaxis": "x2",
         "y": [
          400.0732957214581,
          400.45278162539626,
          400.7991192435614,
          401.10706517033185,
          401.3698444013438,
          401.5789881811425,
          401.5794104695188,
          401.4995907717133,
          401.3260140095586,
          401.0406600788317,
          386.75831600867446,
          386.4126229233603,
          371.08321679916725,
          362.42145608658404,
          340.4999800562864,
          241.26534212647448,
          240.79358822236358,
          236.94184909297675,
          235.91141609827469,
          221.6934706587239,
          202.62508325166328,
          189.83175563108017,
          167.74442010439338,
          159.95062934771087,
          93.28889212897764,
          102.43718316530894,
          100.37879371477602,
          99.33451914908277,
          96.86916843837288,
          94.00710936148313,
          89.33385786710625,
          86.06595596933606,
          83.39818380922732,
          73.79855495572157,
          62.2740415955927,
          37.726320448207915
         ],
         "yaxis": "y2"
        },
        {
         "fillcolor": "black",
         "line": {
          "color": "black",
          "width": 0
         },
         "mode": "lines",
         "name": "Coal",
         "showlegend": false,
         "stackgroup": "two",
         "type": "scatter",
         "x": [
          2015,
          2016,
          2017,
          2018,
          2019,
          2020,
          2021,
          2022,
          2023,
          2024,
          2025,
          2026,
          2027,
          2028,
          2029,
          2030,
          2031,
          2032,
          2033,
          2034,
          2035,
          2036,
          2037,
          2038,
          2039,
          2040,
          2041,
          2042,
          2043,
          2044,
          2045,
          2046,
          2047,
          2048,
          2049,
          2050
         ],
         "xaxis": "x2",
         "y": [
          0,
          0,
          0,
          0,
          0,
          0,
          0,
          0,
          0,
          0,
          0,
          0,
          0,
          0,
          0,
          0,
          0,
          0,
          0,
          0,
          0,
          0,
          0,
          0,
          0,
          0,
          0,
          0,
          0,
          0,
          0,
          0,
          0,
          0,
          0,
          0
         ],
         "yaxis": "y2"
        },
        {
         "fillcolor": "grey",
         "line": {
          "color": "grey",
          "width": 0
         },
         "mode": "lines",
         "name": "Oil",
         "showlegend": false,
         "stackgroup": "one",
         "type": "scatter",
         "x": [
          2015,
          2016,
          2017,
          2018,
          2019,
          2020,
          2021,
          2022,
          2023,
          2024,
          2025,
          2026,
          2027,
          2028,
          2029,
          2030,
          2031,
          2032,
          2033,
          2034,
          2035,
          2036,
          2037,
          2038,
          2039,
          2040,
          2041,
          2042,
          2043,
          2044,
          2045,
          2046,
          2047,
          2048,
          2049,
          2050
         ],
         "xaxis": "x2",
         "y": [
          692.7148503638709,
          692.7148503638709,
          692.7148503638709,
          692.7148503638709,
          692.7148503638709,
          692.7148503638709,
          683.4786523590193,
          674.2424543541676,
          665.0062563493162,
          655.7700583444646,
          646.5338603396129,
          637.2976623347613,
          628.0614643299097,
          618.825266325058,
          609.5890683202065,
          600.3528703153548,
          591.1166723105032,
          581.8804743056517,
          572.6442763007999,
          563.4080782959484,
          399.4148222604431,
          244.6026859670256,
          186.8078125100514,
          145.97921692347077,
          121.3250179056081,
          98.9520134824726,
          72.84382531309197,
          61.6830751259971,
          58.100067279287416,
          54.517059432577724,
          51.00517108529163,
          48.16891853037793,
          45.33266597546424,
          43.023193947115146,
          40.977073688165504,
          38.731286267931836
         ],
         "yaxis": "y2"
        },
        {
         "fillcolor": "grey",
         "line": {
          "color": "grey",
          "width": 0
         },
         "mode": "lines",
         "name": "Oil",
         "showlegend": false,
         "stackgroup": "two",
         "type": "scatter",
         "x": [
          2015,
          2016,
          2017,
          2018,
          2019,
          2020,
          2021,
          2022,
          2023,
          2024,
          2025,
          2026,
          2027,
          2028,
          2029,
          2030,
          2031,
          2032,
          2033,
          2034,
          2035,
          2036,
          2037,
          2038,
          2039,
          2040,
          2041,
          2042,
          2043,
          2044,
          2045,
          2046,
          2047,
          2048,
          2049,
          2050
         ],
         "xaxis": "x2",
         "y": [
          0,
          0,
          0,
          0,
          0,
          0,
          0,
          0,
          0,
          0,
          0,
          0,
          0,
          0,
          0,
          0,
          0,
          0,
          0,
          0,
          0,
          0,
          0,
          0,
          0,
          0,
          0,
          0,
          0,
          0,
          0,
          0,
          0,
          0,
          0,
          0
         ],
         "yaxis": "y2"
        },
        {
         "fillcolor": "brown",
         "line": {
          "color": "brown",
          "width": 0
         },
         "mode": "lines",
         "name": "Biomass",
         "showlegend": false,
         "stackgroup": "one",
         "type": "scatter",
         "x": [
          2015,
          2016,
          2017,
          2018,
          2019,
          2020,
          2021,
          2022,
          2023,
          2024,
          2025,
          2026,
          2027,
          2028,
          2029,
          2030,
          2031,
          2032,
          2033,
          2034,
          2035,
          2036,
          2037,
          2038,
          2039,
          2040,
          2041,
          2042,
          2043,
          2044,
          2045,
          2046,
          2047,
          2048,
          2049,
          2050
         ],
         "xaxis": "x2",
         "y": [
          0,
          0,
          0,
          0,
          0,
          0,
          0,
          0,
          0,
          0,
          3.130928287506629,
          2.771430124453622,
          3.2333221071436844,
          4.463610438494867,
          6.786277229642249,
          7.33823204214225,
          7.448623004642251,
          8.274742896052047,
          9.477319445149984,
          10.679895994247923,
          164.900844747754,
          336.2778327558557,
          322.16618329246387,
          317.2820198053094,
          382.0573240156887,
          337.10643158225207,
          329.65405442604225,
          320.51255316721955,
          288.8311892758886,
          276.7848449032994,
          264.8470293787584,
          253.59044849065532,
          244.38069501754205,
          222.26227054701258,
          204.33546952557123,
          174.26365904646252
         ],
         "yaxis": "y2"
        },
        {
         "fillcolor": "brown",
         "line": {
          "color": "brown",
          "width": 0
         },
         "mode": "lines",
         "name": "Biomass",
         "showlegend": false,
         "stackgroup": "two",
         "type": "scatter",
         "x": [
          2015,
          2016,
          2017,
          2018,
          2019,
          2020,
          2021,
          2022,
          2023,
          2024,
          2025,
          2026,
          2027,
          2028,
          2029,
          2030,
          2031,
          2032,
          2033,
          2034,
          2035,
          2036,
          2037,
          2038,
          2039,
          2040,
          2041,
          2042,
          2043,
          2044,
          2045,
          2046,
          2047,
          2048,
          2049,
          2050
         ],
         "xaxis": "x2",
         "y": [
          0,
          0,
          0,
          0,
          0,
          0,
          0,
          0,
          0,
          0,
          0,
          0,
          0,
          0,
          0,
          0,
          0,
          0,
          0,
          0,
          0,
          0,
          0,
          0,
          0,
          0,
          0,
          0,
          0,
          0,
          0,
          0,
          0,
          0,
          0,
          0
         ],
         "yaxis": "y2"
        },
        {
         "fillcolor": "yellow",
         "line": {
          "color": "yellow",
          "width": 0
         },
         "mode": "lines",
         "name": "Electricity",
         "showlegend": false,
         "stackgroup": "one",
         "type": "scatter",
         "x": [
          2015,
          2016,
          2017,
          2018,
          2019,
          2020,
          2021,
          2022,
          2023,
          2024,
          2025,
          2026,
          2027,
          2028,
          2029,
          2030,
          2031,
          2032,
          2033,
          2034,
          2035,
          2036,
          2037,
          2038,
          2039,
          2040,
          2041,
          2042,
          2043,
          2044,
          2045,
          2046,
          2047,
          2048,
          2049,
          2050
         ],
         "xaxis": "x2",
         "y": [
          74.18682361290323,
          74.18682361290323,
          74.18682361290323,
          74.18682361290323,
          74.18682361290323,
          74.18682361290323,
          74.08544649806451,
          73.9840693832258,
          73.8826922683871,
          73.78131515354839,
          76.15395702803224,
          76.05005461976708,
          78.3542172817704,
          79.54656487350525,
          83.00728038428963,
          108.38884312129535,
          103.06277358322426,
          106.70838130887071,
          110.25362693015624,
          116.72657905452185,
          152.17787703759416,
          171.56212663137177,
          199.64945317183376,
          223.6560840023952,
          241.7285825341727,
          257.4667056212861,
          273.75754960015195,
          288.6211286259822,
          288.566754942256,
          284.7349586241704,
          268.9623487671215,
          265.59267834289955,
          258.0280531135756,
          248.96681453246097,
          244.6251938691446,
          263.21514693069247
         ],
         "yaxis": "y2"
        },
        {
         "fillcolor": "yellow",
         "line": {
          "color": "yellow",
          "width": 0
         },
         "mode": "lines",
         "name": "Electricity",
         "showlegend": false,
         "stackgroup": "two",
         "type": "scatter",
         "x": [
          2015,
          2016,
          2017,
          2018,
          2019,
          2020,
          2021,
          2022,
          2023,
          2024,
          2025,
          2026,
          2027,
          2028,
          2029,
          2030,
          2031,
          2032,
          2033,
          2034,
          2035,
          2036,
          2037,
          2038,
          2039,
          2040,
          2041,
          2042,
          2043,
          2044,
          2045,
          2046,
          2047,
          2048,
          2049,
          2050
         ],
         "xaxis": "x2",
         "y": [
          0,
          0,
          0,
          0,
          0,
          0,
          0,
          0,
          0,
          0,
          0,
          0,
          0,
          0,
          0,
          0,
          0,
          0,
          0,
          0,
          0,
          0,
          0,
          0,
          0,
          0,
          0,
          0,
          0,
          0,
          0,
          0,
          0,
          0,
          0,
          0
         ],
         "yaxis": "y2"
        },
        {
         "fillcolor": "red",
         "line": {
          "color": "red",
          "width": 0
         },
         "mode": "lines",
         "name": "MeOH",
         "showlegend": false,
         "stackgroup": "one",
         "type": "scatter",
         "x": [
          2015,
          2016,
          2017,
          2018,
          2019,
          2020,
          2021,
          2022,
          2023,
          2024,
          2025,
          2026,
          2027,
          2028,
          2029,
          2030,
          2031,
          2032,
          2033,
          2034,
          2035,
          2036,
          2037,
          2038,
          2039,
          2040,
          2041,
          2042,
          2043,
          2044,
          2045,
          2046,
          2047,
          2048,
          2049,
          2050
         ],
         "xaxis": "x2",
         "y": [
          0,
          0,
          0,
          0,
          0,
          0,
          0,
          0,
          0,
          0,
          0.06506185671565097,
          0.06321410428022248,
          0.06136635184479399,
          0.05951859940936559,
          0.057670846973937165,
          0.05767084697393719,
          0.057670846973937186,
          0.08036676084050731,
          0.11500019397208913,
          0.14963362710367104,
          41.68724327107719,
          68.93861921040906,
          99.97835470806211,
          119.28280222122615,
          130.5525840103877,
          138.96550214355204,
          148.19085774437733,
          151.60701329999642,
          156.77248522952985,
          156.59613128081065,
          155.79853947484236,
          154.8094399069581,
          153.34790518467355,
          152.94735185771177,
          150.64491668111395,
          148.30958843523194
         ],
         "yaxis": "y2"
        },
        {
         "fillcolor": "red",
         "line": {
          "color": "red",
          "width": 0
         },
         "mode": "lines",
         "name": "MeOH",
         "showlegend": false,
         "stackgroup": "two",
         "type": "scatter",
         "x": [
          2015,
          2016,
          2017,
          2018,
          2019,
          2020,
          2021,
          2022,
          2023,
          2024,
          2025,
          2026,
          2027,
          2028,
          2029,
          2030,
          2031,
          2032,
          2033,
          2034,
          2035,
          2036,
          2037,
          2038,
          2039,
          2040,
          2041,
          2042,
          2043,
          2044,
          2045,
          2046,
          2047,
          2048,
          2049,
          2050
         ],
         "xaxis": "x2",
         "y": [
          -7.8723399999999994,
          -7.8723399999999994,
          -7.8723399999999994,
          -7.8723399999999994,
          -7.8723399999999994,
          -7.8723399999999994,
          -7.8723399999999994,
          -7.8723399999999994,
          -7.8723399999999994,
          -7.8723399999999994,
          -7.8723399999999994,
          -7.8723399999999994,
          -7.8723399999999994,
          -7.8723399999999994,
          -7.8723399999999994,
          -7.8723399999999994,
          -7.8723399999999994,
          -7.8723399999999994,
          -7.8723399999999994,
          -7.8723399999999994,
          -34.51304987798412,
          -57.608271253617616,
          -78.95647478474882,
          -97.33000871323247,
          -113.73925950465636,
          -128.21802880626043,
          -141.64529353359333,
          -151.61255329999645,
          -156.77802522952985,
          -156.60167128081065,
          -157.20961675654326,
          -156.22051718865902,
          -154.75898246637445,
          -154.3584291394127,
          -152.05599396281488,
          -149.72066571693284
         ],
         "yaxis": "y2"
        },
        {
         "fillcolor": "green",
         "line": {
          "color": "green",
          "width": 0
         },
         "mode": "lines",
         "name": "Waste",
         "showlegend": false,
         "stackgroup": "one",
         "type": "scatter",
         "x": [
          2015,
          2016,
          2017,
          2018,
          2019,
          2020,
          2021,
          2022,
          2023,
          2024,
          2025,
          2026,
          2027,
          2028,
          2029,
          2030,
          2031,
          2032,
          2033,
          2034,
          2035,
          2036,
          2037,
          2038,
          2039,
          2040,
          2041,
          2042,
          2043,
          2044,
          2045,
          2046,
          2047,
          2048,
          2049,
          2050
         ],
         "xaxis": "x2",
         "y": [
          37.510386080695,
          37.89043151719906,
          38.23727979247738,
          38.54567976977458,
          38.80884645532931,
          39.01829860693984,
          38.55468901287267,
          38.010719119917034,
          37.37285392261373,
          36.62304674701722,
          31.60508514975767,
          31.700981371317333,
          31.775168984311595,
          31.775168984311595,
          31.24544127627791,
          30.661411655725907,
          30.361952669513403,
          30.06771614694379,
          29.773786210438868,
          29.481866823428902,
          26.973207141550635,
          21.60365191228651,
          15.717853152432015,
          9.719245161955666,
          2.304185509869449,
          26.21319859750456,
          27.620539505811696,
          27.33113331853592,
          27.04172713126013,
          26.75232094398435,
          26.462914756708575,
          25.989757635632696,
          25.741918699493226,
          25.411083019229476,
          25.207008898940078,
          23.826405515504064
         ],
         "yaxis": "y2"
        },
        {
         "fillcolor": "green",
         "line": {
          "color": "green",
          "width": 0
         },
         "mode": "lines",
         "name": "Waste",
         "showlegend": false,
         "stackgroup": "two",
         "type": "scatter",
         "x": [
          2015,
          2016,
          2017,
          2018,
          2019,
          2020,
          2021,
          2022,
          2023,
          2024,
          2025,
          2026,
          2027,
          2028,
          2029,
          2030,
          2031,
          2032,
          2033,
          2034,
          2035,
          2036,
          2037,
          2038,
          2039,
          2040,
          2041,
          2042,
          2043,
          2044,
          2045,
          2046,
          2047,
          2048,
          2049,
          2050
         ],
         "xaxis": "x2",
         "y": [
          0,
          0,
          0,
          0,
          0,
          0,
          0,
          0,
          0,
          0,
          0,
          0,
          0,
          0,
          0,
          0,
          0,
          0,
          0,
          0,
          0,
          0,
          0,
          0,
          0,
          0,
          0,
          0,
          0,
          0,
          0,
          0,
          0,
          0,
          0,
          0
         ],
         "yaxis": "y2"
        },
        {
         "fillcolor": "cyan",
         "line": {
          "color": "cyan",
          "width": 0
         },
         "mode": "lines",
         "name": "Hydrogen",
         "showlegend": false,
         "stackgroup": "one",
         "type": "scatter",
         "x": [
          2015,
          2016,
          2017,
          2018,
          2019,
          2020,
          2021,
          2022,
          2023,
          2024,
          2025,
          2026,
          2027,
          2028,
          2029,
          2030,
          2031,
          2032,
          2033,
          2034,
          2035,
          2036,
          2037,
          2038,
          2039,
          2040,
          2041,
          2042,
          2043,
          2044,
          2045,
          2046,
          2047,
          2048,
          2049,
          2050
         ],
         "xaxis": "x3",
         "y": [
          34.13396519999999,
          34.13396519999999,
          34.13396519999999,
          34.13396519999999,
          34.13396519999999,
          34.13396519999999,
          34.13396519999999,
          34.13396519999999,
          34.13396519999999,
          34.13396519999999,
          34.13396519999999,
          34.13396519999999,
          34.13396519999999,
          34.13396519999999,
          34.13396519999999,
          68.57656578422475,
          68.59380201809252,
          68.30509101809253,
          67.16723001809252,
          66.02936901809252,
          90.5709353263757,
          117.10560231800878,
          144.6303923202752,
          163.23765041833997,
          179.37638151565713,
          195.5769517126029,
          212.14210354312453,
          221.2859010549534,
          225.4141935937815,
          224.48483774376018,
          212.93367490510758,
          202.99706565156407,
          193.381623169931,
          188.7896648679087,
          189.27143456504254,
          194.38985104365497
         ],
         "yaxis": "y3"
        },
        {
         "fillcolor": "cyan",
         "line": {
          "color": "cyan",
          "width": 0
         },
         "mode": "lines",
         "name": "Hydrogen",
         "showlegend": false,
         "stackgroup": "two",
         "type": "scatter",
         "x": [
          2015,
          2016,
          2017,
          2018,
          2019,
          2020,
          2021,
          2022,
          2023,
          2024,
          2025,
          2026,
          2027,
          2028,
          2029,
          2030,
          2031,
          2032,
          2033,
          2034,
          2035,
          2036,
          2037,
          2038,
          2039,
          2040,
          2041,
          2042,
          2043,
          2044,
          2045,
          2046,
          2047,
          2048,
          2049,
          2050
         ],
         "xaxis": "x3",
         "y": [
          -47.17823589699479,
          -40.058118928236844,
          -40.058118928236844,
          -40.058118928236844,
          -40.058118928236844,
          -40.058118928236844,
          -39.93428589597878,
          -39.81603867017233,
          -39.697791444365876,
          -39.579544218559434,
          -36.4918761872647,
          -36.45796031629696,
          -36.42404444532922,
          -36.390128574361476,
          -36.35621270339374,
          -69.65938094944848,
          -66.14453372364203,
          -67.12843056235171,
          -67.09451469138396,
          -67.16249682041622,
          -88.68195564716645,
          -110.29513265878441,
          -126.96264380000841,
          -143.52843361390845,
          -154.0912468015597,
          -157.9392472050323,
          -165.14490973094382,
          -176.03463392321532,
          -176.72077302660418,
          -176.66714124871316,
          -173.83404398500102,
          -171.79994435668752,
          -170.4726168158851,
          -170.83877345469338,
          -176.27865809265785,
          -189.68518951210092
         ],
         "yaxis": "y3"
        },
        {
         "fillcolor": "purple",
         "line": {
          "color": "purple",
          "width": 0
         },
         "mode": "lines",
         "name": "Gas",
         "showlegend": false,
         "stackgroup": "one",
         "type": "scatter",
         "x": [
          2015,
          2016,
          2017,
          2018,
          2019,
          2020,
          2021,
          2022,
          2023,
          2024,
          2025,
          2026,
          2027,
          2028,
          2029,
          2030,
          2031,
          2032,
          2033,
          2034,
          2035,
          2036,
          2037,
          2038,
          2039,
          2040,
          2041,
          2042,
          2043,
          2044,
          2045,
          2046,
          2047,
          2048,
          2049,
          2050
         ],
         "xaxis": "x3",
         "y": [
          57.82530648707774,
          49.3382553507141,
          49.3382553507141,
          49.3382553507141,
          49.3382553507141,
          49.3382553507141,
          49.28401283148828,
          49.23642849290764,
          49.18884415432699,
          49.14125981574635,
          50.253476747074046,
          50.35607179132015,
          57.663947209862485,
          61.27079225410857,
          71.4942164957597,
          100.64700165582977,
          98.41234730168951,
          96.52011198507891,
          93.6576334468508,
          97.68870305901366,
          103.64340229205365,
          123.1507199220718,
          129.05441585433002,
          134.55185026438704,
          137.32314469306314,
          143.0947731610174,
          144.1404903755364,
          147.46106498091754,
          150.32716060118793,
          155.81151835797885,
          162.31530058320322,
          171.17986238293355,
          179.96213801263863,
          189.1518865302397,
          197.72269656126008,
          203.12964771637238
         ],
         "yaxis": "y3"
        },
        {
         "fillcolor": "purple",
         "line": {
          "color": "purple",
          "width": 0
         },
         "mode": "lines",
         "name": "Gas",
         "showlegend": false,
         "stackgroup": "two",
         "type": "scatter",
         "x": [
          2015,
          2016,
          2017,
          2018,
          2019,
          2020,
          2021,
          2022,
          2023,
          2024,
          2025,
          2026,
          2027,
          2028,
          2029,
          2030,
          2031,
          2032,
          2033,
          2034,
          2035,
          2036,
          2037,
          2038,
          2039,
          2040,
          2041,
          2042,
          2043,
          2044,
          2045,
          2046,
          2047,
          2048,
          2049,
          2050
         ],
         "xaxis": "x3",
         "y": [
          -10.058771612903225,
          -10.058771612903225,
          -10.058771612903225,
          -10.058771612903225,
          -10.058771612903225,
          -10.058771612903225,
          -9.924654658064515,
          -9.790537703225805,
          -9.656420748387095,
          -9.522303793548389,
          -22.9300360070137,
          -24.89827136873413,
          -34.08137443412715,
          -39.46284723475817,
          -51.01149912325998,
          -55.01430224265547,
          -63.893584933752244,
          -67.44640762484902,
          -70.9992303159458,
          -81.44560115743359,
          -101.28321741423237,
          -116.46797505597665,
          -122.56557891337377,
          -128.2598089505912,
          -131.22645515541694,
          -137.5523281267936,
          -143.2260743901895,
          -146.6482507717203,
          -149.61594816814036,
          -155.16164502868435,
          -162.11581534188224,
          -171.08197891776223,
          -179.96585632361695,
          -189.01226485551697,
          -197.80714754361236,
          -203.12964771637238
         ],
         "yaxis": "y3"
        },
        {
         "fillcolor": "black",
         "line": {
          "color": "black",
          "width": 0
         },
         "mode": "lines",
         "name": "Coal",
         "showlegend": false,
         "stackgroup": "one",
         "type": "scatter",
         "x": [
          2015,
          2016,
          2017,
          2018,
          2019,
          2020,
          2021,
          2022,
          2023,
          2024,
          2025,
          2026,
          2027,
          2028,
          2029,
          2030,
          2031,
          2032,
          2033,
          2034,
          2035,
          2036,
          2037,
          2038,
          2039,
          2040,
          2041,
          2042,
          2043,
          2044,
          2045,
          2046,
          2047,
          2048,
          2049,
          2050
         ],
         "xaxis": "x3",
         "y": [
          400.0732957214581,
          400.4542543082844,
          400.80193033480344,
          401.1098762615739,
          401.3726554925858,
          401.5817992723845,
          401.58222156076084,
          401.5024018629553,
          401.32882510080066,
          401.04347117007376,
          386.76112709991645,
          386.41543401460234,
          369.68654225881676,
          361.02478154623356,
          338.128564581285,
          236.29402008522956,
          235.82226618111866,
          231.96733240154796,
          230.93776038278583,
          215.93872942101464,
          200.4701197332855,
          186.47214921465408,
          162.5003667816288,
          154.70177528570764,
          89.52066881092249,
          91.64084559509018,
          86.85575656346015,
          84.10299183460596,
          80.66643714610974,
          75.50251516008949,
          69.20169365464879,
          59.61401731596145,
          48.26855967496094,
          34.28485221391922,
          18.544657937030145,
          0
         ],
         "yaxis": "y3"
        },
        {
         "fillcolor": "black",
         "line": {
          "color": "black",
          "width": 0
         },
         "mode": "lines",
         "name": "Coal",
         "showlegend": false,
         "stackgroup": "two",
         "type": "scatter",
         "x": [
          2015,
          2016,
          2017,
          2018,
          2019,
          2020,
          2021,
          2022,
          2023,
          2024,
          2025,
          2026,
          2027,
          2028,
          2029,
          2030,
          2031,
          2032,
          2033,
          2034,
          2035,
          2036,
          2037,
          2038,
          2039,
          2040,
          2041,
          2042,
          2043,
          2044,
          2045,
          2046,
          2047,
          2048,
          2049,
          2050
         ],
         "xaxis": "x3",
         "y": [
          0,
          0,
          0,
          0,
          0,
          0,
          0,
          0,
          0,
          0,
          0,
          0,
          0,
          0,
          0,
          0,
          0,
          0,
          0,
          0,
          0,
          0,
          0,
          0,
          0,
          0,
          0,
          0,
          0,
          0,
          0,
          0,
          0,
          0,
          0,
          0
         ],
         "yaxis": "y3"
        },
        {
         "fillcolor": "grey",
         "line": {
          "color": "grey",
          "width": 0
         },
         "mode": "lines",
         "name": "Oil",
         "showlegend": false,
         "stackgroup": "one",
         "type": "scatter",
         "x": [
          2015,
          2016,
          2017,
          2018,
          2019,
          2020,
          2021,
          2022,
          2023,
          2024,
          2025,
          2026,
          2027,
          2028,
          2029,
          2030,
          2031,
          2032,
          2033,
          2034,
          2035,
          2036,
          2037,
          2038,
          2039,
          2040,
          2041,
          2042,
          2043,
          2044,
          2045,
          2046,
          2047,
          2048,
          2049,
          2050
         ],
         "xaxis": "x3",
         "y": [
          692.7148503638709,
          692.7148503638709,
          692.7148503638709,
          692.7148503638709,
          692.7148503638709,
          692.7148503638709,
          683.4786523590193,
          674.2424543541676,
          665.0062563493162,
          655.7700583444646,
          646.5338603396129,
          637.2976623347613,
          628.0614643299097,
          618.825266325058,
          609.5890683202065,
          600.3528703153548,
          591.1166723105032,
          581.8804743056517,
          572.6442763007999,
          563.4080782959484,
          399.4148222604431,
          244.60268596702565,
          190.14944638775552,
          149.32085080117488,
          124.6666517833122,
          102.29364736017668,
          76.23476815725185,
          65.08851486430206,
          61.554815984048176,
          58.02111710379428,
          52.30971145914582,
          47.68222065178463,
          39.205177243103165,
          28.66406277367739,
          14.332031386838684,
          0
         ],
         "yaxis": "y3"
        },
        {
         "fillcolor": "grey",
         "line": {
          "color": "grey",
          "width": 0
         },
         "mode": "lines",
         "name": "Oil",
         "showlegend": false,
         "stackgroup": "two",
         "type": "scatter",
         "x": [
          2015,
          2016,
          2017,
          2018,
          2019,
          2020,
          2021,
          2022,
          2023,
          2024,
          2025,
          2026,
          2027,
          2028,
          2029,
          2030,
          2031,
          2032,
          2033,
          2034,
          2035,
          2036,
          2037,
          2038,
          2039,
          2040,
          2041,
          2042,
          2043,
          2044,
          2045,
          2046,
          2047,
          2048,
          2049,
          2050
         ],
         "xaxis": "x3",
         "y": [
          0,
          0,
          0,
          0,
          0,
          0,
          0,
          0,
          0,
          0,
          0,
          0,
          0,
          0,
          0,
          0,
          0,
          0,
          0,
          0,
          0,
          0,
          0,
          0,
          0,
          0,
          0,
          0,
          0,
          0,
          0,
          0,
          0,
          0,
          0,
          0
         ],
         "yaxis": "y3"
        },
        {
         "fillcolor": "brown",
         "line": {
          "color": "brown",
          "width": 0
         },
         "mode": "lines",
         "name": "Biomass",
         "showlegend": false,
         "stackgroup": "one",
         "type": "scatter",
         "x": [
          2015,
          2016,
          2017,
          2018,
          2019,
          2020,
          2021,
          2022,
          2023,
          2024,
          2025,
          2026,
          2027,
          2028,
          2029,
          2030,
          2031,
          2032,
          2033,
          2034,
          2035,
          2036,
          2037,
          2038,
          2039,
          2040,
          2041,
          2042,
          2043,
          2044,
          2045,
          2046,
          2047,
          2048,
          2049,
          2050
         ],
         "xaxis": "x3",
         "y": [
          0,
          0,
          0,
          0,
          0,
          0,
          0,
          0,
          0,
          0,
          3.1309282875066278,
          2.771430124453624,
          3.2333221071436844,
          4.463610438494867,
          6.78627722964225,
          7.33823204214225,
          7.448623004642251,
          8.274742896052048,
          9.477319445149984,
          10.679895994247925,
          164.9248501342528,
          336.34824818061924,
          321.16736810376386,
          316.1826302809358,
          379.2540373216281,
          350.6727948712401,
          346.01768164204833,
          341.4382188889814,
          315.195406353187,
          302.6559025729903,
          288.8979198487078,
          267.14374065835585,
          244.38444540465187,
          213.18205592757568,
          186.67499679521347,
          157.4388694580254
         ],
         "yaxis": "y3"
        },
        {
         "fillcolor": "brown",
         "line": {
          "color": "brown",
          "width": 0
         },
         "mode": "lines",
         "name": "Biomass",
         "showlegend": false,
         "stackgroup": "two",
         "type": "scatter",
         "x": [
          2015,
          2016,
          2017,
          2018,
          2019,
          2020,
          2021,
          2022,
          2023,
          2024,
          2025,
          2026,
          2027,
          2028,
          2029,
          2030,
          2031,
          2032,
          2033,
          2034,
          2035,
          2036,
          2037,
          2038,
          2039,
          2040,
          2041,
          2042,
          2043,
          2044,
          2045,
          2046,
          2047,
          2048,
          2049,
          2050
         ],
         "xaxis": "x3",
         "y": [
          0,
          0,
          0,
          0,
          0,
          0,
          0,
          0,
          0,
          0,
          0,
          0,
          0,
          0,
          0,
          0,
          0,
          0,
          0,
          0,
          0,
          0,
          0,
          0,
          0,
          0,
          0,
          0,
          0,
          0,
          0,
          0,
          0,
          0,
          0,
          0
         ],
         "yaxis": "y3"
        },
        {
         "fillcolor": "yellow",
         "line": {
          "color": "yellow",
          "width": 0
         },
         "mode": "lines",
         "name": "Electricity",
         "showlegend": false,
         "stackgroup": "one",
         "type": "scatter",
         "x": [
          2015,
          2016,
          2017,
          2018,
          2019,
          2020,
          2021,
          2022,
          2023,
          2024,
          2025,
          2026,
          2027,
          2028,
          2029,
          2030,
          2031,
          2032,
          2033,
          2034,
          2035,
          2036,
          2037,
          2038,
          2039,
          2040,
          2041,
          2042,
          2043,
          2044,
          2045,
          2046,
          2047,
          2048,
          2049,
          2050
         ],
         "xaxis": "x3",
         "y": [
          74.18682361290323,
          74.18682361290323,
          74.18682361290323,
          74.18682361290323,
          74.18682361290323,
          74.18682361290323,
          74.08544649806451,
          73.9840693832258,
          73.8826922683871,
          73.78131515354839,
          76.15395702803225,
          76.05005461976708,
          78.61144284007624,
          79.80379043181108,
          83.44366339549036,
          108.47632371129352,
          103.85607677427976,
          107.50168449992623,
          110.97796630654798,
          117.53847408666411,
          152.61617503099578,
          173.23757695787617,
          202.8273911184992,
          227.9210443029007,
          246.74105483966952,
          262.7874265065594,
          276.6635979090819,
          291.6970537146273,
          291.3795837057536,
          288.4691717286537,
          274.05779011784796,
          272.5106061841032,
          265.8467320079005,
          261.0034283035052,
          269.6302455288005,
          298.91874303465795
         ],
         "yaxis": "y3"
        },
        {
         "fillcolor": "yellow",
         "line": {
          "color": "yellow",
          "width": 0
         },
         "mode": "lines",
         "name": "Electricity",
         "showlegend": false,
         "stackgroup": "two",
         "type": "scatter",
         "x": [
          2015,
          2016,
          2017,
          2018,
          2019,
          2020,
          2021,
          2022,
          2023,
          2024,
          2025,
          2026,
          2027,
          2028,
          2029,
          2030,
          2031,
          2032,
          2033,
          2034,
          2035,
          2036,
          2037,
          2038,
          2039,
          2040,
          2041,
          2042,
          2043,
          2044,
          2045,
          2046,
          2047,
          2048,
          2049,
          2050
         ],
         "xaxis": "x3",
         "y": [
          0,
          0,
          0,
          0,
          0,
          0,
          0,
          0,
          0,
          0,
          0,
          0,
          0,
          0,
          0,
          0,
          0,
          0,
          0,
          0,
          0,
          0,
          0,
          0,
          0,
          0,
          0,
          0,
          0,
          0,
          0,
          0,
          0,
          0,
          0,
          0
         ],
         "yaxis": "y3"
        },
        {
         "fillcolor": "red",
         "line": {
          "color": "red",
          "width": 0
         },
         "mode": "lines",
         "name": "MeOH",
         "showlegend": false,
         "stackgroup": "one",
         "type": "scatter",
         "x": [
          2015,
          2016,
          2017,
          2018,
          2019,
          2020,
          2021,
          2022,
          2023,
          2024,
          2025,
          2026,
          2027,
          2028,
          2029,
          2030,
          2031,
          2032,
          2033,
          2034,
          2035,
          2036,
          2037,
          2038,
          2039,
          2040,
          2041,
          2042,
          2043,
          2044,
          2045,
          2046,
          2047,
          2048,
          2049,
          2050
         ],
         "xaxis": "x3",
         "y": [
          0,
          0,
          0,
          0,
          0,
          0,
          0,
          0,
          0,
          0,
          0.06506185671565093,
          0.06321410428022255,
          0.061366351844793963,
          0.05951859940936558,
          0.05767084697393719,
          0.05767084697393719,
          0.05767084697393717,
          0.08036676084050734,
          0.11500019397208913,
          0.14963362710367106,
          41.68724327107719,
          68.93861921040906,
          98.28046454933217,
          117.61544948458825,
          128.87509694984314,
          137.29795047901644,
          146.49869977882278,
          149.9076210529955,
          155.04848668150996,
          154.8475264317718,
          155.1475440182817,
          155.05231326989272,
          156.40566208115678,
          160.11288643327168,
          163.94140165442477,
          167.63738533022544
         ],
         "yaxis": "y3"
        },
        {
         "fillcolor": "red",
         "line": {
          "color": "red",
          "width": 0
         },
         "mode": "lines",
         "name": "MeOH",
         "showlegend": false,
         "stackgroup": "two",
         "type": "scatter",
         "x": [
          2015,
          2016,
          2017,
          2018,
          2019,
          2020,
          2021,
          2022,
          2023,
          2024,
          2025,
          2026,
          2027,
          2028,
          2029,
          2030,
          2031,
          2032,
          2033,
          2034,
          2035,
          2036,
          2037,
          2038,
          2039,
          2040,
          2041,
          2042,
          2043,
          2044,
          2045,
          2046,
          2047,
          2048,
          2049,
          2050
         ],
         "xaxis": "x3",
         "y": [
          -7.8723399999999994,
          -7.8723399999999994,
          -7.8723399999999994,
          -7.8723399999999994,
          -7.8723399999999994,
          -7.8723399999999994,
          -7.8723399999999994,
          -7.8723399999999994,
          -7.8723399999999994,
          -7.8723399999999994,
          -7.8723399999999994,
          -7.8723399999999994,
          -7.8723399999999994,
          -7.8723399999999994,
          -7.8723399999999994,
          -7.8723399999999994,
          -7.8723399999999994,
          -7.8723399999999994,
          -7.8723399999999994,
          -7.8723399999999994,
          -34.51304987798413,
          -57.60827125361763,
          -78.92613629055447,
          -95.50174065795623,
          -111.90085712547346,
          -126.55047714172484,
          -139.95313556803882,
          -149.9131610529955,
          -155.05402668150995,
          -154.8530664317718,
          -156.5586212999826,
          -154.72845082631343,
          -150.91190631812677,
          -151.2511069181587,
          -152.85947822931112,
          -158.3991705321509
         ],
         "yaxis": "y3"
        },
        {
         "fillcolor": "green",
         "line": {
          "color": "green",
          "width": 0
         },
         "mode": "lines",
         "name": "Waste",
         "showlegend": false,
         "stackgroup": "one",
         "type": "scatter",
         "x": [
          2015,
          2016,
          2017,
          2018,
          2019,
          2020,
          2021,
          2022,
          2023,
          2024,
          2025,
          2026,
          2027,
          2028,
          2029,
          2030,
          2031,
          2032,
          2033,
          2034,
          2035,
          2036,
          2037,
          2038,
          2039,
          2040,
          2041,
          2042,
          2043,
          2044,
          2045,
          2046,
          2047,
          2048,
          2049,
          2050
         ],
         "xaxis": "x3",
         "y": [
          37.510386080695,
          37.8919063714829,
          38.24009502852975,
          38.54849500582696,
          38.81166169138167,
          39.021113842992214,
          38.55750424892505,
          38.013534355969405,
          37.375669158666106,
          36.6258619830696,
          31.60790038581004,
          31.703796607369707,
          31.77798422036397,
          31.77798422036397,
          31.24825651233028,
          30.664226891778277,
          30.364767905565778,
          30.067332022463894,
          29.774264331363906,
          29.481866823428906,
          26.957160217864676,
          21.556581187241026,
          15.671065252639062,
          9.66284162679621,
          2.2733937422649726,
          13.66010426721737,
          11.505153389015895,
          7.97980244138615,
          4.447390352256897,
          2.129627344117393,
          0.5253117887464784,
          0.12460753223636922,
          0,
          0,
          0,
          0
         ],
         "yaxis": "y3"
        },
        {
         "fillcolor": "green",
         "line": {
          "color": "green",
          "width": 0
         },
         "mode": "lines",
         "name": "Waste",
         "showlegend": false,
         "stackgroup": "two",
         "type": "scatter",
         "x": [
          2015,
          2016,
          2017,
          2018,
          2019,
          2020,
          2021,
          2022,
          2023,
          2024,
          2025,
          2026,
          2027,
          2028,
          2029,
          2030,
          2031,
          2032,
          2033,
          2034,
          2035,
          2036,
          2037,
          2038,
          2039,
          2040,
          2041,
          2042,
          2043,
          2044,
          2045,
          2046,
          2047,
          2048,
          2049,
          2050
         ],
         "xaxis": "x3",
         "y": [
          0,
          0,
          0,
          0,
          0,
          0,
          0,
          0,
          0,
          0,
          0,
          0,
          0,
          0,
          0,
          0,
          0,
          0,
          0,
          0,
          0,
          0,
          0,
          0,
          0,
          0,
          0,
          0,
          0,
          0,
          0,
          0,
          0,
          0,
          0,
          0
         ],
         "yaxis": "y3"
        }
       ],
       "layout": {
        "annotations": [
         {
          "font": {
           "size": 24
          },
          "showarrow": false,
          "text": "High electricity price",
          "x": 0.14444444444444446,
          "xanchor": "center",
          "xref": "paper",
          "y": 1,
          "yanchor": "bottom",
          "yref": "paper"
         },
         {
          "font": {
           "size": 24
          },
          "showarrow": false,
          "text": "Reference",
          "x": 0.5,
          "xanchor": "center",
          "xref": "paper",
          "y": 1,
          "yanchor": "bottom",
          "yref": "paper"
         },
         {
          "font": {
           "size": 24
          },
          "showarrow": false,
          "text": "Fossil phase-out",
          "x": 0.8555555555555556,
          "xanchor": "center",
          "xref": "paper",
          "y": 1,
          "yanchor": "bottom",
          "yref": "paper"
         }
        ],
        "font": {
         "family": "Times New Roman",
         "size": 24
        },
        "legend": {
         "font": {
          "size": 20
         },
         "orientation": "h",
         "x": 1,
         "xanchor": "right",
         "y": 1.1,
         "yanchor": "bottom"
        },
        "template": {
         "data": {
          "bar": [
           {
            "error_x": {
             "color": "#2a3f5f"
            },
            "error_y": {
             "color": "#2a3f5f"
            },
            "marker": {
             "line": {
              "color": "#E5ECF6",
              "width": 0.5
             },
             "pattern": {
              "fillmode": "overlay",
              "size": 10,
              "solidity": 0.2
             }
            },
            "type": "bar"
           }
          ],
          "barpolar": [
           {
            "marker": {
             "line": {
              "color": "#E5ECF6",
              "width": 0.5
             },
             "pattern": {
              "fillmode": "overlay",
              "size": 10,
              "solidity": 0.2
             }
            },
            "type": "barpolar"
           }
          ],
          "carpet": [
           {
            "aaxis": {
             "endlinecolor": "#2a3f5f",
             "gridcolor": "white",
             "linecolor": "white",
             "minorgridcolor": "white",
             "startlinecolor": "#2a3f5f"
            },
            "baxis": {
             "endlinecolor": "#2a3f5f",
             "gridcolor": "white",
             "linecolor": "white",
             "minorgridcolor": "white",
             "startlinecolor": "#2a3f5f"
            },
            "type": "carpet"
           }
          ],
          "choropleth": [
           {
            "colorbar": {
             "outlinewidth": 0,
             "ticks": ""
            },
            "type": "choropleth"
           }
          ],
          "contour": [
           {
            "colorbar": {
             "outlinewidth": 0,
             "ticks": ""
            },
            "colorscale": [
             [
              0,
              "#0d0887"
             ],
             [
              0.1111111111111111,
              "#46039f"
             ],
             [
              0.2222222222222222,
              "#7201a8"
             ],
             [
              0.3333333333333333,
              "#9c179e"
             ],
             [
              0.4444444444444444,
              "#bd3786"
             ],
             [
              0.5555555555555556,
              "#d8576b"
             ],
             [
              0.6666666666666666,
              "#ed7953"
             ],
             [
              0.7777777777777778,
              "#fb9f3a"
             ],
             [
              0.8888888888888888,
              "#fdca26"
             ],
             [
              1,
              "#f0f921"
             ]
            ],
            "type": "contour"
           }
          ],
          "contourcarpet": [
           {
            "colorbar": {
             "outlinewidth": 0,
             "ticks": ""
            },
            "type": "contourcarpet"
           }
          ],
          "heatmap": [
           {
            "colorbar": {
             "outlinewidth": 0,
             "ticks": ""
            },
            "colorscale": [
             [
              0,
              "#0d0887"
             ],
             [
              0.1111111111111111,
              "#46039f"
             ],
             [
              0.2222222222222222,
              "#7201a8"
             ],
             [
              0.3333333333333333,
              "#9c179e"
             ],
             [
              0.4444444444444444,
              "#bd3786"
             ],
             [
              0.5555555555555556,
              "#d8576b"
             ],
             [
              0.6666666666666666,
              "#ed7953"
             ],
             [
              0.7777777777777778,
              "#fb9f3a"
             ],
             [
              0.8888888888888888,
              "#fdca26"
             ],
             [
              1,
              "#f0f921"
             ]
            ],
            "type": "heatmap"
           }
          ],
          "heatmapgl": [
           {
            "colorbar": {
             "outlinewidth": 0,
             "ticks": ""
            },
            "colorscale": [
             [
              0,
              "#0d0887"
             ],
             [
              0.1111111111111111,
              "#46039f"
             ],
             [
              0.2222222222222222,
              "#7201a8"
             ],
             [
              0.3333333333333333,
              "#9c179e"
             ],
             [
              0.4444444444444444,
              "#bd3786"
             ],
             [
              0.5555555555555556,
              "#d8576b"
             ],
             [
              0.6666666666666666,
              "#ed7953"
             ],
             [
              0.7777777777777778,
              "#fb9f3a"
             ],
             [
              0.8888888888888888,
              "#fdca26"
             ],
             [
              1,
              "#f0f921"
             ]
            ],
            "type": "heatmapgl"
           }
          ],
          "histogram": [
           {
            "marker": {
             "pattern": {
              "fillmode": "overlay",
              "size": 10,
              "solidity": 0.2
             }
            },
            "type": "histogram"
           }
          ],
          "histogram2d": [
           {
            "colorbar": {
             "outlinewidth": 0,
             "ticks": ""
            },
            "colorscale": [
             [
              0,
              "#0d0887"
             ],
             [
              0.1111111111111111,
              "#46039f"
             ],
             [
              0.2222222222222222,
              "#7201a8"
             ],
             [
              0.3333333333333333,
              "#9c179e"
             ],
             [
              0.4444444444444444,
              "#bd3786"
             ],
             [
              0.5555555555555556,
              "#d8576b"
             ],
             [
              0.6666666666666666,
              "#ed7953"
             ],
             [
              0.7777777777777778,
              "#fb9f3a"
             ],
             [
              0.8888888888888888,
              "#fdca26"
             ],
             [
              1,
              "#f0f921"
             ]
            ],
            "type": "histogram2d"
           }
          ],
          "histogram2dcontour": [
           {
            "colorbar": {
             "outlinewidth": 0,
             "ticks": ""
            },
            "colorscale": [
             [
              0,
              "#0d0887"
             ],
             [
              0.1111111111111111,
              "#46039f"
             ],
             [
              0.2222222222222222,
              "#7201a8"
             ],
             [
              0.3333333333333333,
              "#9c179e"
             ],
             [
              0.4444444444444444,
              "#bd3786"
             ],
             [
              0.5555555555555556,
              "#d8576b"
             ],
             [
              0.6666666666666666,
              "#ed7953"
             ],
             [
              0.7777777777777778,
              "#fb9f3a"
             ],
             [
              0.8888888888888888,
              "#fdca26"
             ],
             [
              1,
              "#f0f921"
             ]
            ],
            "type": "histogram2dcontour"
           }
          ],
          "mesh3d": [
           {
            "colorbar": {
             "outlinewidth": 0,
             "ticks": ""
            },
            "type": "mesh3d"
           }
          ],
          "parcoords": [
           {
            "line": {
             "colorbar": {
              "outlinewidth": 0,
              "ticks": ""
             }
            },
            "type": "parcoords"
           }
          ],
          "pie": [
           {
            "automargin": true,
            "type": "pie"
           }
          ],
          "scatter": [
           {
            "marker": {
             "colorbar": {
              "outlinewidth": 0,
              "ticks": ""
             }
            },
            "type": "scatter"
           }
          ],
          "scatter3d": [
           {
            "line": {
             "colorbar": {
              "outlinewidth": 0,
              "ticks": ""
             }
            },
            "marker": {
             "colorbar": {
              "outlinewidth": 0,
              "ticks": ""
             }
            },
            "type": "scatter3d"
           }
          ],
          "scattercarpet": [
           {
            "marker": {
             "colorbar": {
              "outlinewidth": 0,
              "ticks": ""
             }
            },
            "type": "scattercarpet"
           }
          ],
          "scattergeo": [
           {
            "marker": {
             "colorbar": {
              "outlinewidth": 0,
              "ticks": ""
             }
            },
            "type": "scattergeo"
           }
          ],
          "scattergl": [
           {
            "marker": {
             "colorbar": {
              "outlinewidth": 0,
              "ticks": ""
             }
            },
            "type": "scattergl"
           }
          ],
          "scattermapbox": [
           {
            "marker": {
             "colorbar": {
              "outlinewidth": 0,
              "ticks": ""
             }
            },
            "type": "scattermapbox"
           }
          ],
          "scatterpolar": [
           {
            "marker": {
             "colorbar": {
              "outlinewidth": 0,
              "ticks": ""
             }
            },
            "type": "scatterpolar"
           }
          ],
          "scatterpolargl": [
           {
            "marker": {
             "colorbar": {
              "outlinewidth": 0,
              "ticks": ""
             }
            },
            "type": "scatterpolargl"
           }
          ],
          "scatterternary": [
           {
            "marker": {
             "colorbar": {
              "outlinewidth": 0,
              "ticks": ""
             }
            },
            "type": "scatterternary"
           }
          ],
          "surface": [
           {
            "colorbar": {
             "outlinewidth": 0,
             "ticks": ""
            },
            "colorscale": [
             [
              0,
              "#0d0887"
             ],
             [
              0.1111111111111111,
              "#46039f"
             ],
             [
              0.2222222222222222,
              "#7201a8"
             ],
             [
              0.3333333333333333,
              "#9c179e"
             ],
             [
              0.4444444444444444,
              "#bd3786"
             ],
             [
              0.5555555555555556,
              "#d8576b"
             ],
             [
              0.6666666666666666,
              "#ed7953"
             ],
             [
              0.7777777777777778,
              "#fb9f3a"
             ],
             [
              0.8888888888888888,
              "#fdca26"
             ],
             [
              1,
              "#f0f921"
             ]
            ],
            "type": "surface"
           }
          ],
          "table": [
           {
            "cells": {
             "fill": {
              "color": "#EBF0F8"
             },
             "line": {
              "color": "white"
             }
            },
            "header": {
             "fill": {
              "color": "#C8D4E3"
             },
             "line": {
              "color": "white"
             }
            },
            "type": "table"
           }
          ]
         },
         "layout": {
          "annotationdefaults": {
           "arrowcolor": "#2a3f5f",
           "arrowhead": 0,
           "arrowwidth": 1
          },
          "autotypenumbers": "strict",
          "coloraxis": {
           "colorbar": {
            "outlinewidth": 0,
            "ticks": ""
           }
          },
          "colorscale": {
           "diverging": [
            [
             0,
             "#8e0152"
            ],
            [
             0.1,
             "#c51b7d"
            ],
            [
             0.2,
             "#de77ae"
            ],
            [
             0.3,
             "#f1b6da"
            ],
            [
             0.4,
             "#fde0ef"
            ],
            [
             0.5,
             "#f7f7f7"
            ],
            [
             0.6,
             "#e6f5d0"
            ],
            [
             0.7,
             "#b8e186"
            ],
            [
             0.8,
             "#7fbc41"
            ],
            [
             0.9,
             "#4d9221"
            ],
            [
             1,
             "#276419"
            ]
           ],
           "sequential": [
            [
             0,
             "#0d0887"
            ],
            [
             0.1111111111111111,
             "#46039f"
            ],
            [
             0.2222222222222222,
             "#7201a8"
            ],
            [
             0.3333333333333333,
             "#9c179e"
            ],
            [
             0.4444444444444444,
             "#bd3786"
            ],
            [
             0.5555555555555556,
             "#d8576b"
            ],
            [
             0.6666666666666666,
             "#ed7953"
            ],
            [
             0.7777777777777778,
             "#fb9f3a"
            ],
            [
             0.8888888888888888,
             "#fdca26"
            ],
            [
             1,
             "#f0f921"
            ]
           ],
           "sequentialminus": [
            [
             0,
             "#0d0887"
            ],
            [
             0.1111111111111111,
             "#46039f"
            ],
            [
             0.2222222222222222,
             "#7201a8"
            ],
            [
             0.3333333333333333,
             "#9c179e"
            ],
            [
             0.4444444444444444,
             "#bd3786"
            ],
            [
             0.5555555555555556,
             "#d8576b"
            ],
            [
             0.6666666666666666,
             "#ed7953"
            ],
            [
             0.7777777777777778,
             "#fb9f3a"
            ],
            [
             0.8888888888888888,
             "#fdca26"
            ],
            [
             1,
             "#f0f921"
            ]
           ]
          },
          "colorway": [
           "#636efa",
           "#EF553B",
           "#00cc96",
           "#ab63fa",
           "#FFA15A",
           "#19d3f3",
           "#FF6692",
           "#B6E880",
           "#FF97FF",
           "#FECB52"
          ],
          "font": {
           "color": "#2a3f5f"
          },
          "geo": {
           "bgcolor": "white",
           "lakecolor": "white",
           "landcolor": "#E5ECF6",
           "showlakes": true,
           "showland": true,
           "subunitcolor": "white"
          },
          "hoverlabel": {
           "align": "left"
          },
          "hovermode": "closest",
          "mapbox": {
           "style": "light"
          },
          "paper_bgcolor": "white",
          "plot_bgcolor": "#E5ECF6",
          "polar": {
           "angularaxis": {
            "gridcolor": "white",
            "linecolor": "white",
            "ticks": ""
           },
           "bgcolor": "#E5ECF6",
           "radialaxis": {
            "gridcolor": "white",
            "linecolor": "white",
            "ticks": ""
           }
          },
          "scene": {
           "xaxis": {
            "backgroundcolor": "#E5ECF6",
            "gridcolor": "white",
            "gridwidth": 2,
            "linecolor": "white",
            "showbackground": true,
            "ticks": "",
            "zerolinecolor": "white"
           },
           "yaxis": {
            "backgroundcolor": "#E5ECF6",
            "gridcolor": "white",
            "gridwidth": 2,
            "linecolor": "white",
            "showbackground": true,
            "ticks": "",
            "zerolinecolor": "white"
           },
           "zaxis": {
            "backgroundcolor": "#E5ECF6",
            "gridcolor": "white",
            "gridwidth": 2,
            "linecolor": "white",
            "showbackground": true,
            "ticks": "",
            "zerolinecolor": "white"
           }
          },
          "shapedefaults": {
           "line": {
            "color": "#2a3f5f"
           }
          },
          "ternary": {
           "aaxis": {
            "gridcolor": "white",
            "linecolor": "white",
            "ticks": ""
           },
           "baxis": {
            "gridcolor": "white",
            "linecolor": "white",
            "ticks": ""
           },
           "bgcolor": "#E5ECF6",
           "caxis": {
            "gridcolor": "white",
            "linecolor": "white",
            "ticks": ""
           }
          },
          "title": {
           "x": 0.05
          },
          "xaxis": {
           "automargin": true,
           "gridcolor": "white",
           "linecolor": "white",
           "ticks": "",
           "title": {
            "standoff": 15
           },
           "zerolinecolor": "white",
           "zerolinewidth": 2
          },
          "yaxis": {
           "automargin": true,
           "gridcolor": "white",
           "linecolor": "white",
           "ticks": "",
           "title": {
            "standoff": 15
           },
           "zerolinecolor": "white",
           "zerolinewidth": 2
          }
         }
        },
        "xaxis": {
         "anchor": "y",
         "domain": [
          0,
          0.2888888888888889
         ]
        },
        "xaxis2": {
         "anchor": "y2",
         "domain": [
          0.35555555555555557,
          0.6444444444444445
         ]
        },
        "xaxis3": {
         "anchor": "y3",
         "domain": [
          0.7111111111111111,
          1
         ]
        },
        "yaxis": {
         "anchor": "x",
         "domain": [
          0,
          1
         ],
         "title": {
          "text": "Energy flows (TWh)"
         }
        },
        "yaxis2": {
         "anchor": "x2",
         "domain": [
          0,
          1
         ],
         "matches": "y",
         "showticklabels": false
        },
        "yaxis3": {
         "anchor": "x3",
         "domain": [
          0,
          1
         ],
         "matches": "y",
         "showticklabels": false
        }
       }
      },
      "text/html": [
       "<div>                            <div id=\"e3e3f0eb-3d00-4b33-a7d1-dc14bf3212ce\" class=\"plotly-graph-div\" style=\"height:525px; width:100%;\"></div>            <script type=\"text/javascript\">                require([\"plotly\"], function(Plotly) {                    window.PLOTLYENV=window.PLOTLYENV || {};                                    if (document.getElementById(\"e3e3f0eb-3d00-4b33-a7d1-dc14bf3212ce\")) {                    Plotly.newPlot(                        \"e3e3f0eb-3d00-4b33-a7d1-dc14bf3212ce\",                        [{\"fillcolor\":\"cyan\",\"line\":{\"color\":\"cyan\",\"width\":0},\"mode\":\"lines\",\"name\":\"Hydrogen\",\"showlegend\":true,\"stackgroup\":\"one\",\"type\":\"scatter\",\"x\":[2015,2016,2017,2018,2019,2020,2021,2022,2023,2024,2025,2026,2027,2028,2029,2030,2031,2032,2033,2034,2035,2036,2037,2038,2039,2040,2041,2042,2043,2044,2045,2046,2047,2048,2049,2050],\"xaxis\":\"x\",\"y\":[34.13396519999999,34.13396519999999,34.13396519999999,34.13396519999999,34.13396519999999,34.13396519999999,34.13396519999999,34.13396519999999,34.13396519999999,34.13396519999999,34.13396519999999,34.13396519999999,34.13396519999999,34.13396519999999,34.13396519999999,39.06202352929744,36.96527092696099,36.514573529297444,36.514573529297444,36.514573529297444,61.51495477853041,85.58000798902818,103.68992670284975,120.7680361181686,137.1335573010447,154.86511875082755,169.06933093507786,175.88051397924662,182.80737153193195,182.33239768365706,170.31556700246014,159.4700853782784,148.32782401518406,139.0993877795986,133.27184401658016,134.42600131385745],\"yaxis\":\"y\"},{\"fillcolor\":\"cyan\",\"line\":{\"color\":\"cyan\",\"width\":0},\"mode\":\"lines\",\"name\":\"Hydrogen\",\"showlegend\":false,\"stackgroup\":\"two\",\"type\":\"scatter\",\"x\":[2015,2016,2017,2018,2019,2020,2021,2022,2023,2024,2025,2026,2027,2028,2029,2030,2031,2032,2033,2034,2035,2036,2037,2038,2039,2040,2041,2042,2043,2044,2045,2046,2047,2048,2049,2050],\"xaxis\":\"x\",\"y\":[-40.058118928236844,-40.058118928236844,-40.058118928236844,-40.058118928236844,-40.058118928236844,-40.058118928236844,-39.93428589597878,-39.81603867017233,-39.697791444365876,-39.579544218559434,-36.4918761872647,-36.45796031629696,-36.42404444532922,-36.390128574361476,-36.35621270339374,-41.16602380688473,-38.64111018841925,-38.635073419787965,-38.60115754882022,-38.56724167785248,-57.37509024835589,-68.48877088833284,-64.07364831568376,-61.347013306812144,-59.71750373836724,-59.66919532949296,-61.08258499927507,-63.830068644957365,-75.06365459428072,-89.78364713968693,-96.82716876311757,-104.35655426624292,-117.58166136318317,-115.94961064804063,-117.71845240546503,-126.5490981776246],\"yaxis\":\"y\"},{\"fillcolor\":\"purple\",\"line\":{\"color\":\"purple\",\"width\":0},\"mode\":\"lines\",\"name\":\"Gas\",\"showlegend\":true,\"stackgroup\":\"one\",\"type\":\"scatter\",\"x\":[2015,2016,2017,2018,2019,2020,2021,2022,2023,2024,2025,2026,2027,2028,2029,2030,2031,2032,2033,2034,2035,2036,2037,2038,2039,2040,2041,2042,2043,2044,2045,2046,2047,2048,2049,2050],\"xaxis\":\"x\",\"y\":[49.3382553507141,49.3382553507141,49.3382553507141,49.3382553507141,49.3382553507141,49.3382553507141,49.28401283148828,49.23642849290764,49.18884415432699,49.14125981574635,50.25347674707404,50.35607179132014,56.06546683556624,56.16806187981233,56.270656924058414,61.669968111006234,63.09309928157591,61.775820153130105,58.913341614901974,56.050863076673835,63.37291304349113,79.23141025001453,84.70231241441826,88.1456826655091,91.96898384886929,95.6214784755821,94.38618846152605,97.90255927205749,100.62827051318293,103.40411368130634,105.64906213151436,107.40838552612797,108.10290645085836,108.43167267614773,107.30478586380706,107.08722869324151],\"yaxis\":\"y\"},{\"fillcolor\":\"purple\",\"line\":{\"color\":\"purple\",\"width\":0},\"mode\":\"lines\",\"name\":\"Gas\",\"showlegend\":false,\"stackgroup\":\"two\",\"type\":\"scatter\",\"x\":[2015,2016,2017,2018,2019,2020,2021,2022,2023,2024,2025,2026,2027,2028,2029,2030,2031,2032,2033,2034,2035,2036,2037,2038,2039,2040,2041,2042,2043,2044,2045,2046,2047,2048,2049,2050],\"xaxis\":\"x\",\"y\":[-10.058771612903225,-10.058771612903225,-10.058771612903225,-10.058771612903225,-10.058771612903225,-10.058771612903225,-9.924654658064515,-9.790537703225805,-9.656420748387095,-9.522303793548389,-22.930036007013697,-24.89827136873413,-31.1272143598309,-33.00443716046192,-34.43225985155869,-34.33977297733426,-39.175875968431036,-40.04119865952781,-40.90652135062458,-41.77184404172135,-58.17660151427208,-71.7379893347258,-75.78845888912313,-78.20698988039423,-81.68806381346663,-84.65702518512568,-87.53316029572797,-90.7077094129554,-93.56700865761171,-96.47643982926601,-99.20808493660965,-101.9324250761695,-103.59196274584612,-105.22513320861961,-105.40265063376306,-105.69146898214234],\"yaxis\":\"y\"},{\"fillcolor\":\"black\",\"line\":{\"color\":\"black\",\"width\":0},\"mode\":\"lines\",\"name\":\"Coal\",\"showlegend\":true,\"stackgroup\":\"one\",\"type\":\"scatter\",\"x\":[2015,2016,2017,2018,2019,2020,2021,2022,2023,2024,2025,2026,2027,2028,2029,2030,2031,2032,2033,2034,2035,2036,2037,2038,2039,2040,2041,2042,2043,2044,2045,2046,2047,2048,2049,2050],\"xaxis\":\"x\",\"y\":[400.0732957214581,400.45278162539626,400.7991192435614,401.10706517033185,401.3698444013438,401.5789881811425,401.5794104695188,401.4995907717133,401.3260140095586,401.0406600788317,386.75831600867446,386.4126229233603,372.90076272631745,371.2915020137342,368.7640224147553,344.4326983284878,343.6224244243769,340.30682011600396,335.4982547107089,330.6896893054139,313.452011580412,297.179996934003,269.6448904694849,261.9940085585873,159.4716026134549,168.9798744528796,168.6325109443148,167.60686518276174,165.7314899458591,163.3661894059385,160.65277785749913,157.7290865120693,154.82107269317376,150.6467624528456,142.0989268998978,115.34600461415258],\"yaxis\":\"y\"},{\"fillcolor\":\"black\",\"line\":{\"color\":\"black\",\"width\":0},\"mode\":\"lines\",\"name\":\"Coal\",\"showlegend\":false,\"stackgroup\":\"two\",\"type\":\"scatter\",\"x\":[2015,2016,2017,2018,2019,2020,2021,2022,2023,2024,2025,2026,2027,2028,2029,2030,2031,2032,2033,2034,2035,2036,2037,2038,2039,2040,2041,2042,2043,2044,2045,2046,2047,2048,2049,2050],\"xaxis\":\"x\",\"y\":[0.0,0.0,0.0,0.0,0.0,0.0,0.0,0.0,0.0,0.0,0.0,0.0,0.0,0.0,0.0,0.0,0.0,0.0,0.0,0.0,0.0,0.0,0.0,0.0,0.0,0.0,0.0,0.0,0.0,0.0,0.0,0.0,0.0,0.0,0.0,0.0],\"yaxis\":\"y\"},{\"fillcolor\":\"grey\",\"line\":{\"color\":\"grey\",\"width\":0},\"mode\":\"lines\",\"name\":\"Oil\",\"showlegend\":true,\"stackgroup\":\"one\",\"type\":\"scatter\",\"x\":[2015,2016,2017,2018,2019,2020,2021,2022,2023,2024,2025,2026,2027,2028,2029,2030,2031,2032,2033,2034,2035,2036,2037,2038,2039,2040,2041,2042,2043,2044,2045,2046,2047,2048,2049,2050],\"xaxis\":\"x\",\"y\":[692.7148503638709,692.7148503638709,692.7148503638709,692.7148503638709,692.7148503638709,692.7148503638709,683.4786523590193,674.2424543541676,665.0062563493162,655.7700583444646,646.5338603396129,637.2976623347613,628.0614643299097,618.825266325058,609.5890683202065,600.3528703153548,591.1166723105032,581.8804743056517,572.6442763007999,563.4080782959484,401.55042122700274,263.5219997011184,188.1268974026194,150.76185892017415,126.52126262391609,102.28066632765803,78.10408355964339,68.89620496850176,66.1960514680705,63.495897967639216,57.75206917350025,50.03797086082113,45.0693142060648,43.023193947115146,40.977073688165504,38.731286267931836],\"yaxis\":\"y\"},{\"fillcolor\":\"grey\",\"line\":{\"color\":\"grey\",\"width\":0},\"mode\":\"lines\",\"name\":\"Oil\",\"showlegend\":false,\"stackgroup\":\"two\",\"type\":\"scatter\",\"x\":[2015,2016,2017,2018,2019,2020,2021,2022,2023,2024,2025,2026,2027,2028,2029,2030,2031,2032,2033,2034,2035,2036,2037,2038,2039,2040,2041,2042,2043,2044,2045,2046,2047,2048,2049,2050],\"xaxis\":\"x\",\"y\":[0.0,0.0,0.0,0.0,0.0,0.0,0.0,0.0,0.0,0.0,0.0,0.0,0.0,0.0,0.0,0.0,0.0,0.0,0.0,0.0,0.0,0.0,0.0,0.0,0.0,0.0,0.0,0.0,0.0,0.0,0.0,0.0,0.0,0.0,0.0,0.0],\"yaxis\":\"y\"},{\"fillcolor\":\"brown\",\"line\":{\"color\":\"brown\",\"width\":0},\"mode\":\"lines\",\"name\":\"Biomass\",\"showlegend\":true,\"stackgroup\":\"one\",\"type\":\"scatter\",\"x\":[2015,2016,2017,2018,2019,2020,2021,2022,2023,2024,2025,2026,2027,2028,2029,2030,2031,2032,2033,2034,2035,2036,2037,2038,2039,2040,2041,2042,2043,2044,2045,2046,2047,2048,2049,2050],\"xaxis\":\"x\",\"y\":[0.0,0.0,0.0,0.0,0.0,0.0,0.0,0.0,0.0,0.0,3.1309282875066278,2.771430124453624,3.2333221071436844,4.463610438494867,6.78627722964225,7.33823204214225,7.448623004642251,8.051658539376222,9.254235088474159,10.4568116375721,164.50708042943236,317.6246471993484,368.23869415356364,358.86251201914183,460.5333266129398,407.97585708286385,392.06036011116515,389.19582484295546,354.0774599316624,342.2203055128641,330.1517839233508,321.4044381821346,313.8347407861799,296.52922617089024,285.079508182744,264.5304802228214],\"yaxis\":\"y\"},{\"fillcolor\":\"brown\",\"line\":{\"color\":\"brown\",\"width\":0},\"mode\":\"lines\",\"name\":\"Biomass\",\"showlegend\":false,\"stackgroup\":\"two\",\"type\":\"scatter\",\"x\":[2015,2016,2017,2018,2019,2020,2021,2022,2023,2024,2025,2026,2027,2028,2029,2030,2031,2032,2033,2034,2035,2036,2037,2038,2039,2040,2041,2042,2043,2044,2045,2046,2047,2048,2049,2050],\"xaxis\":\"x\",\"y\":[0.0,0.0,0.0,0.0,0.0,0.0,0.0,0.0,0.0,0.0,0.0,0.0,0.0,0.0,0.0,0.0,0.0,0.0,0.0,0.0,0.0,0.0,0.0,0.0,0.0,0.0,0.0,0.0,0.0,0.0,0.0,0.0,0.0,0.0,0.0,0.0],\"yaxis\":\"y\"},{\"fillcolor\":\"yellow\",\"line\":{\"color\":\"yellow\",\"width\":0},\"mode\":\"lines\",\"name\":\"Electricity\",\"showlegend\":true,\"stackgroup\":\"one\",\"type\":\"scatter\",\"x\":[2015,2016,2017,2018,2019,2020,2021,2022,2023,2024,2025,2026,2027,2028,2029,2030,2031,2032,2033,2034,2035,2036,2037,2038,2039,2040,2041,2042,2043,2044,2045,2046,2047,2048,2049,2050],\"xaxis\":\"x\",\"y\":[74.18682361290323,74.18682361290323,74.18682361290323,74.18682361290323,74.18682361290323,74.18682361290323,74.08544649806451,73.9840693832258,73.8826922683871,73.78131515354839,76.15395702803225,76.05005461976708,78.02015221150192,77.91624980323677,77.81234739497162,88.49214680703973,85.26241423507504,89.12423512291434,92.17789953016904,95.70526753493009,124.99865118157241,125.80280350253582,125.22981389856373,124.99115102178651,126.69534126443868,138.5499063183598,142.56909182145085,145.34488453535255,161.818760828652,180.27509973821563,177.48667862074805,178.20276054522265,187.35370744804356,177.3043489765482,175.27456060466127,187.79253982013267],\"yaxis\":\"y\"},{\"fillcolor\":\"yellow\",\"line\":{\"color\":\"yellow\",\"width\":0},\"mode\":\"lines\",\"name\":\"Electricity\",\"showlegend\":false,\"stackgroup\":\"two\",\"type\":\"scatter\",\"x\":[2015,2016,2017,2018,2019,2020,2021,2022,2023,2024,2025,2026,2027,2028,2029,2030,2031,2032,2033,2034,2035,2036,2037,2038,2039,2040,2041,2042,2043,2044,2045,2046,2047,2048,2049,2050],\"xaxis\":\"x\",\"y\":[0.0,0.0,0.0,0.0,0.0,0.0,0.0,0.0,0.0,0.0,0.0,0.0,0.0,0.0,0.0,0.0,0.0,0.0,0.0,0.0,0.0,0.0,0.0,0.0,0.0,0.0,0.0,0.0,0.0,0.0,0.0,0.0,0.0,0.0,0.0,0.0],\"yaxis\":\"y\"},{\"fillcolor\":\"red\",\"line\":{\"color\":\"red\",\"width\":0},\"mode\":\"lines\",\"name\":\"MeOH\",\"showlegend\":true,\"stackgroup\":\"one\",\"type\":\"scatter\",\"x\":[2015,2016,2017,2018,2019,2020,2021,2022,2023,2024,2025,2026,2027,2028,2029,2030,2031,2032,2033,2034,2035,2036,2037,2038,2039,2040,2041,2042,2043,2044,2045,2046,2047,2048,2049,2050],\"xaxis\":\"x\",\"y\":[0.0,0.0,0.0,0.0,0.0,0.0,0.0,0.0,0.0,0.0,0.06506185671565093,0.06321410428022255,0.061366351844793963,0.05951859940936558,0.057670846973937186,0.057670846973937165,0.057670846973937186,0.07329270928329851,0.10792614241488037,0.14255957554646229,41.795840843432174,67.0177118070529,93.58543667905298,112.35582175310526,123.32029639470684,134.38348204666838,145.4149224131632,146.1910434638673,152.00636450629722,151.39318953862096,152.35502521971586,153.56790400050158,152.85172006744352,152.98089956472398,150.60827426084592,148.2666885280719],\"yaxis\":\"y\"},{\"fillcolor\":\"red\",\"line\":{\"color\":\"red\",\"width\":0},\"mode\":\"lines\",\"name\":\"MeOH\",\"showlegend\":false,\"stackgroup\":\"two\",\"type\":\"scatter\",\"x\":[2015,2016,2017,2018,2019,2020,2021,2022,2023,2024,2025,2026,2027,2028,2029,2030,2031,2032,2033,2034,2035,2036,2037,2038,2039,2040,2041,2042,2043,2044,2045,2046,2047,2048,2049,2050],\"xaxis\":\"x\",\"y\":[-7.8723399999999994,-7.8723399999999994,-7.8723399999999994,-7.8723399999999994,-7.8723399999999994,-7.8723399999999994,-7.8723399999999994,-7.8723399999999994,-7.8723399999999994,-7.8723399999999994,-7.8723399999999994,-7.8723399999999994,-7.8723399999999994,-7.8723399999999994,-7.8723399999999994,-7.8723399999999994,-7.8723399999999994,-7.8723399999999994,-7.8723399999999994,-7.8723399999999994,-33.93285729669597,-53.63645983942193,-73.2057294528072,-90.69502418133801,-107.00536503450428,-124.55242534157435,-136.08327739569162,-143.88071786363304,-151.22639619443686,-151.39872953862096,-153.8982981187379,-155.11117689952363,-154.39499296646554,-154.52417246374603,-152.15154715986796,-149.80996142709395],\"yaxis\":\"y\"},{\"fillcolor\":\"green\",\"line\":{\"color\":\"green\",\"width\":0},\"mode\":\"lines\",\"name\":\"Waste\",\"showlegend\":true,\"stackgroup\":\"one\",\"type\":\"scatter\",\"x\":[2015,2016,2017,2018,2019,2020,2021,2022,2023,2024,2025,2026,2027,2028,2029,2030,2031,2032,2033,2034,2035,2036,2037,2038,2039,2040,2041,2042,2043,2044,2045,2046,2047,2048,2049,2050],\"xaxis\":\"x\",\"y\":[37.510386080695,37.89043151719906,38.23727979247738,38.54567976977458,38.80884645532931,39.01829860693984,38.55468901287267,38.010719119917034,37.37285392261373,36.62304674701722,31.60508514975767,31.700981371317333,31.775168984311595,31.775168984311595,31.24544127627791,30.661411655725907,30.361952669513403,30.06570559744883,29.773786210438864,29.481866823428906,26.973207141550628,21.086908225680066,15.198388124373805,9.197058792445759,1.5434581124826752,26.211188048009596,27.61852895631673,27.32912276904095,27.03971658176517,26.75031039448939,26.46090420721361,25.790914695286176,25.73971933011526,25.407254355835576,25.203180235546174,23.822494180063234],\"yaxis\":\"y\"},{\"fillcolor\":\"green\",\"line\":{\"color\":\"green\",\"width\":0},\"mode\":\"lines\",\"name\":\"Waste\",\"showlegend\":false,\"stackgroup\":\"two\",\"type\":\"scatter\",\"x\":[2015,2016,2017,2018,2019,2020,2021,2022,2023,2024,2025,2026,2027,2028,2029,2030,2031,2032,2033,2034,2035,2036,2037,2038,2039,2040,2041,2042,2043,2044,2045,2046,2047,2048,2049,2050],\"xaxis\":\"x\",\"y\":[0.0,0.0,0.0,0.0,0.0,0.0,0.0,0.0,0.0,0.0,0.0,0.0,0.0,0.0,0.0,0.0,0.0,0.0,0.0,0.0,0.0,0.0,0.0,0.0,0.0,0.0,0.0,0.0,0.0,0.0,0.0,0.0,0.0,0.0,0.0,0.0],\"yaxis\":\"y\"},{\"fillcolor\":\"cyan\",\"line\":{\"color\":\"cyan\",\"width\":0},\"mode\":\"lines\",\"name\":\"Hydrogen\",\"showlegend\":false,\"stackgroup\":\"one\",\"type\":\"scatter\",\"x\":[2015,2016,2017,2018,2019,2020,2021,2022,2023,2024,2025,2026,2027,2028,2029,2030,2031,2032,2033,2034,2035,2036,2037,2038,2039,2040,2041,2042,2043,2044,2045,2046,2047,2048,2049,2050],\"xaxis\":\"x2\",\"y\":[34.13396519999999,34.13396519999999,34.13396519999999,34.13396519999999,34.13396519999999,34.13396519999999,34.13396519999999,34.13396519999999,34.13396519999999,34.13396519999999,34.13396519999999,34.13396519999999,34.13396519999999,34.13396519999999,34.13396519999999,68.22590631091376,67.09653681091376,66.80782581091377,65.66996481091377,64.68774174655732,90.31528974295931,116.91393941712838,144.58757365783723,163.56012285765698,179.2123579726263,194.06673345965334,211.73905014451307,220.88963116631626,225.48465829998943,224.02564850968312,211.31139453927807,199.34161409225106,187.78269787299965,181.37070244184596,176.97107647721174,179.43919702872697],\"yaxis\":\"y2\"},{\"fillcolor\":\"cyan\",\"line\":{\"color\":\"cyan\",\"width\":0},\"mode\":\"lines\",\"name\":\"Hydrogen\",\"showlegend\":false,\"stackgroup\":\"two\",\"type\":\"scatter\",\"x\":[2015,2016,2017,2018,2019,2020,2021,2022,2023,2024,2025,2026,2027,2028,2029,2030,2031,2032,2033,2034,2035,2036,2037,2038,2039,2040,2041,2042,2043,2044,2045,2046,2047,2048,2049,2050],\"xaxis\":\"x2\",\"y\":[-40.058118928236844,-40.058118928236844,-40.058118928236844,-40.058118928236844,-40.058118928236844,-40.058118928236844,-39.93428589597878,-39.81603867017233,-39.697791444365876,-39.579544218559434,-36.4918761872647,-36.45796031629696,-36.42404444532922,-36.390128574361476,-36.35621270339374,-69.92231458850105,-66.4074673626946,-67.39136420140429,-67.35744833043654,-66.74040989511235,-90.14170006553996,-110.21680880490455,-127.87565404050795,-142.450954085155,-152.77911423872152,-156.40742288324012,-165.2931455129665,-176.08680065629915,-176.79123773281208,-176.6170719094195,-173.2670770101603,-168.14449279737448,-164.8736915189537,-163.41981102863065,-163.97830000482705,-174.73453549717289],\"yaxis\":\"y2\"},{\"fillcolor\":\"purple\",\"line\":{\"color\":\"purple\",\"width\":0},\"mode\":\"lines\",\"name\":\"Gas\",\"showlegend\":false,\"stackgroup\":\"one\",\"type\":\"scatter\",\"x\":[2015,2016,2017,2018,2019,2020,2021,2022,2023,2024,2025,2026,2027,2028,2029,2030,2031,2032,2033,2034,2035,2036,2037,2038,2039,2040,2041,2042,2043,2044,2045,2046,2047,2048,2049,2050],\"xaxis\":\"x2\",\"y\":[49.3382553507141,49.3382553507141,49.3382553507141,49.3382553507141,49.3382553507141,49.3382553507141,49.28401283148828,49.23642849290764,49.188844154327,49.14125981574636,50.25347674707404,50.35607179132013,56.968570035171496,60.57541507941758,70.31450952025332,99.06770080047775,98.72575946189713,96.83352414528653,93.97104560705841,96.66226162922129,104.86006991705366,122.61717671636342,130.3746810722478,135.44277704668306,139.09266161333613,141.95112494543093,139.9006275977583,142.85971588772338,145.37522998794955,148.04607518995786,150.42652418904524,152.68811534256082,154.37269470355628,155.31353560178388,155.83451865122873,153.60263900358981],\"yaxis\":\"y2\"},{\"fillcolor\":\"purple\",\"line\":{\"color\":\"purple\",\"width\":0},\"mode\":\"lines\",\"name\":\"Gas\",\"showlegend\":false,\"stackgroup\":\"two\",\"type\":\"scatter\",\"x\":[2015,2016,2017,2018,2019,2020,2021,2022,2023,2024,2025,2026,2027,2028,2029,2030,2031,2032,2033,2034,2035,2036,2037,2038,2039,2040,2041,2042,2043,2044,2045,2046,2047,2048,2049,2050],\"xaxis\":\"x2\",\"y\":[-10.058771612903225,-10.058771612903225,-10.058771612903225,-10.058771612903225,-10.058771612903225,-10.058771612903225,-9.924654658064515,-9.790537703225805,-9.656420748387095,-9.522303793548389,-22.930036007013694,-24.89827136873412,-33.38599725943616,-38.767470060067176,-49.8317921477536,-55.01430224265547,-63.89358493375224,-67.44640762484902,-70.99923031594578,-80.8008191574336,-100.63843541423239,-115.1237558010747,-121.17195366832425,-125.77556814261798,-128.74191945421728,-131.78799953125832,-134.71668892853194,-137.76964396344326,-140.37902480861564,-143.1437367555702,-145.9265761390311,-148.32071390782963,-150.13783988410802,-151.90767532298486,-153.73306260991382,-152.20687929249064],\"yaxis\":\"y2\"},{\"fillcolor\":\"black\",\"line\":{\"color\":\"black\",\"width\":0},\"mode\":\"lines\",\"name\":\"Coal\",\"showlegend\":false,\"stackgroup\":\"one\",\"type\":\"scatter\",\"x\":[2015,2016,2017,2018,2019,2020,2021,2022,2023,2024,2025,2026,2027,2028,2029,2030,2031,2032,2033,2034,2035,2036,2037,2038,2039,2040,2041,2042,2043,2044,2045,2046,2047,2048,2049,2050],\"xaxis\":\"x2\",\"y\":[400.0732957214581,400.45278162539626,400.7991192435614,401.10706517033185,401.3698444013438,401.5789881811425,401.5794104695188,401.4995907717133,401.3260140095586,401.0406600788317,386.75831600867446,386.4126229233603,371.08321679916725,362.42145608658404,340.4999800562864,241.26534212647448,240.79358822236358,236.94184909297675,235.91141609827469,221.6934706587239,202.62508325166328,189.83175563108017,167.74442010439338,159.95062934771087,93.28889212897764,102.43718316530894,100.37879371477602,99.33451914908277,96.86916843837288,94.00710936148313,89.33385786710625,86.06595596933606,83.39818380922732,73.79855495572157,62.2740415955927,37.726320448207915],\"yaxis\":\"y2\"},{\"fillcolor\":\"black\",\"line\":{\"color\":\"black\",\"width\":0},\"mode\":\"lines\",\"name\":\"Coal\",\"showlegend\":false,\"stackgroup\":\"two\",\"type\":\"scatter\",\"x\":[2015,2016,2017,2018,2019,2020,2021,2022,2023,2024,2025,2026,2027,2028,2029,2030,2031,2032,2033,2034,2035,2036,2037,2038,2039,2040,2041,2042,2043,2044,2045,2046,2047,2048,2049,2050],\"xaxis\":\"x2\",\"y\":[0.0,0.0,0.0,0.0,0.0,0.0,0.0,0.0,0.0,0.0,0.0,0.0,0.0,0.0,0.0,0.0,0.0,0.0,0.0,0.0,0.0,0.0,0.0,0.0,0.0,0.0,0.0,0.0,0.0,0.0,0.0,0.0,0.0,0.0,0.0,0.0],\"yaxis\":\"y2\"},{\"fillcolor\":\"grey\",\"line\":{\"color\":\"grey\",\"width\":0},\"mode\":\"lines\",\"name\":\"Oil\",\"showlegend\":false,\"stackgroup\":\"one\",\"type\":\"scatter\",\"x\":[2015,2016,2017,2018,2019,2020,2021,2022,2023,2024,2025,2026,2027,2028,2029,2030,2031,2032,2033,2034,2035,2036,2037,2038,2039,2040,2041,2042,2043,2044,2045,2046,2047,2048,2049,2050],\"xaxis\":\"x2\",\"y\":[692.7148503638709,692.7148503638709,692.7148503638709,692.7148503638709,692.7148503638709,692.7148503638709,683.4786523590193,674.2424543541676,665.0062563493162,655.7700583444646,646.5338603396129,637.2976623347613,628.0614643299097,618.825266325058,609.5890683202065,600.3528703153548,591.1166723105032,581.8804743056517,572.6442763007999,563.4080782959484,399.4148222604431,244.6026859670256,186.8078125100514,145.97921692347077,121.3250179056081,98.9520134824726,72.84382531309197,61.6830751259971,58.100067279287416,54.517059432577724,51.00517108529163,48.16891853037793,45.33266597546424,43.023193947115146,40.977073688165504,38.731286267931836],\"yaxis\":\"y2\"},{\"fillcolor\":\"grey\",\"line\":{\"color\":\"grey\",\"width\":0},\"mode\":\"lines\",\"name\":\"Oil\",\"showlegend\":false,\"stackgroup\":\"two\",\"type\":\"scatter\",\"x\":[2015,2016,2017,2018,2019,2020,2021,2022,2023,2024,2025,2026,2027,2028,2029,2030,2031,2032,2033,2034,2035,2036,2037,2038,2039,2040,2041,2042,2043,2044,2045,2046,2047,2048,2049,2050],\"xaxis\":\"x2\",\"y\":[0.0,0.0,0.0,0.0,0.0,0.0,0.0,0.0,0.0,0.0,0.0,0.0,0.0,0.0,0.0,0.0,0.0,0.0,0.0,0.0,0.0,0.0,0.0,0.0,0.0,0.0,0.0,0.0,0.0,0.0,0.0,0.0,0.0,0.0,0.0,0.0],\"yaxis\":\"y2\"},{\"fillcolor\":\"brown\",\"line\":{\"color\":\"brown\",\"width\":0},\"mode\":\"lines\",\"name\":\"Biomass\",\"showlegend\":false,\"stackgroup\":\"one\",\"type\":\"scatter\",\"x\":[2015,2016,2017,2018,2019,2020,2021,2022,2023,2024,2025,2026,2027,2028,2029,2030,2031,2032,2033,2034,2035,2036,2037,2038,2039,2040,2041,2042,2043,2044,2045,2046,2047,2048,2049,2050],\"xaxis\":\"x2\",\"y\":[0.0,0.0,0.0,0.0,0.0,0.0,0.0,0.0,0.0,0.0,3.130928287506629,2.771430124453622,3.2333221071436844,4.463610438494867,6.786277229642249,7.33823204214225,7.448623004642251,8.274742896052047,9.477319445149984,10.679895994247923,164.900844747754,336.2778327558557,322.16618329246387,317.2820198053094,382.0573240156887,337.10643158225207,329.65405442604225,320.51255316721955,288.8311892758886,276.7848449032994,264.8470293787584,253.59044849065532,244.38069501754205,222.26227054701258,204.33546952557123,174.26365904646252],\"yaxis\":\"y2\"},{\"fillcolor\":\"brown\",\"line\":{\"color\":\"brown\",\"width\":0},\"mode\":\"lines\",\"name\":\"Biomass\",\"showlegend\":false,\"stackgroup\":\"two\",\"type\":\"scatter\",\"x\":[2015,2016,2017,2018,2019,2020,2021,2022,2023,2024,2025,2026,2027,2028,2029,2030,2031,2032,2033,2034,2035,2036,2037,2038,2039,2040,2041,2042,2043,2044,2045,2046,2047,2048,2049,2050],\"xaxis\":\"x2\",\"y\":[0.0,0.0,0.0,0.0,0.0,0.0,0.0,0.0,0.0,0.0,0.0,0.0,0.0,0.0,0.0,0.0,0.0,0.0,0.0,0.0,0.0,0.0,0.0,0.0,0.0,0.0,0.0,0.0,0.0,0.0,0.0,0.0,0.0,0.0,0.0,0.0],\"yaxis\":\"y2\"},{\"fillcolor\":\"yellow\",\"line\":{\"color\":\"yellow\",\"width\":0},\"mode\":\"lines\",\"name\":\"Electricity\",\"showlegend\":false,\"stackgroup\":\"one\",\"type\":\"scatter\",\"x\":[2015,2016,2017,2018,2019,2020,2021,2022,2023,2024,2025,2026,2027,2028,2029,2030,2031,2032,2033,2034,2035,2036,2037,2038,2039,2040,2041,2042,2043,2044,2045,2046,2047,2048,2049,2050],\"xaxis\":\"x2\",\"y\":[74.18682361290323,74.18682361290323,74.18682361290323,74.18682361290323,74.18682361290323,74.18682361290323,74.08544649806451,73.9840693832258,73.8826922683871,73.78131515354839,76.15395702803224,76.05005461976708,78.3542172817704,79.54656487350525,83.00728038428963,108.38884312129535,103.06277358322426,106.70838130887071,110.25362693015624,116.72657905452185,152.17787703759416,171.56212663137177,199.64945317183376,223.6560840023952,241.7285825341727,257.4667056212861,273.75754960015195,288.6211286259822,288.566754942256,284.7349586241704,268.9623487671215,265.59267834289955,258.0280531135756,248.96681453246097,244.6251938691446,263.21514693069247],\"yaxis\":\"y2\"},{\"fillcolor\":\"yellow\",\"line\":{\"color\":\"yellow\",\"width\":0},\"mode\":\"lines\",\"name\":\"Electricity\",\"showlegend\":false,\"stackgroup\":\"two\",\"type\":\"scatter\",\"x\":[2015,2016,2017,2018,2019,2020,2021,2022,2023,2024,2025,2026,2027,2028,2029,2030,2031,2032,2033,2034,2035,2036,2037,2038,2039,2040,2041,2042,2043,2044,2045,2046,2047,2048,2049,2050],\"xaxis\":\"x2\",\"y\":[0.0,0.0,0.0,0.0,0.0,0.0,0.0,0.0,0.0,0.0,0.0,0.0,0.0,0.0,0.0,0.0,0.0,0.0,0.0,0.0,0.0,0.0,0.0,0.0,0.0,0.0,0.0,0.0,0.0,0.0,0.0,0.0,0.0,0.0,0.0,0.0],\"yaxis\":\"y2\"},{\"fillcolor\":\"red\",\"line\":{\"color\":\"red\",\"width\":0},\"mode\":\"lines\",\"name\":\"MeOH\",\"showlegend\":false,\"stackgroup\":\"one\",\"type\":\"scatter\",\"x\":[2015,2016,2017,2018,2019,2020,2021,2022,2023,2024,2025,2026,2027,2028,2029,2030,2031,2032,2033,2034,2035,2036,2037,2038,2039,2040,2041,2042,2043,2044,2045,2046,2047,2048,2049,2050],\"xaxis\":\"x2\",\"y\":[0.0,0.0,0.0,0.0,0.0,0.0,0.0,0.0,0.0,0.0,0.06506185671565097,0.06321410428022248,0.06136635184479399,0.05951859940936559,0.057670846973937165,0.05767084697393719,0.057670846973937186,0.08036676084050731,0.11500019397208913,0.14963362710367104,41.68724327107719,68.93861921040906,99.97835470806211,119.28280222122615,130.5525840103877,138.96550214355204,148.19085774437733,151.60701329999642,156.77248522952985,156.59613128081065,155.79853947484236,154.8094399069581,153.34790518467355,152.94735185771177,150.64491668111395,148.30958843523194],\"yaxis\":\"y2\"},{\"fillcolor\":\"red\",\"line\":{\"color\":\"red\",\"width\":0},\"mode\":\"lines\",\"name\":\"MeOH\",\"showlegend\":false,\"stackgroup\":\"two\",\"type\":\"scatter\",\"x\":[2015,2016,2017,2018,2019,2020,2021,2022,2023,2024,2025,2026,2027,2028,2029,2030,2031,2032,2033,2034,2035,2036,2037,2038,2039,2040,2041,2042,2043,2044,2045,2046,2047,2048,2049,2050],\"xaxis\":\"x2\",\"y\":[-7.8723399999999994,-7.8723399999999994,-7.8723399999999994,-7.8723399999999994,-7.8723399999999994,-7.8723399999999994,-7.8723399999999994,-7.8723399999999994,-7.8723399999999994,-7.8723399999999994,-7.8723399999999994,-7.8723399999999994,-7.8723399999999994,-7.8723399999999994,-7.8723399999999994,-7.8723399999999994,-7.8723399999999994,-7.8723399999999994,-7.8723399999999994,-7.8723399999999994,-34.51304987798412,-57.608271253617616,-78.95647478474882,-97.33000871323247,-113.73925950465636,-128.21802880626043,-141.64529353359333,-151.61255329999645,-156.77802522952985,-156.60167128081065,-157.20961675654326,-156.22051718865902,-154.75898246637445,-154.3584291394127,-152.05599396281488,-149.72066571693284],\"yaxis\":\"y2\"},{\"fillcolor\":\"green\",\"line\":{\"color\":\"green\",\"width\":0},\"mode\":\"lines\",\"name\":\"Waste\",\"showlegend\":false,\"stackgroup\":\"one\",\"type\":\"scatter\",\"x\":[2015,2016,2017,2018,2019,2020,2021,2022,2023,2024,2025,2026,2027,2028,2029,2030,2031,2032,2033,2034,2035,2036,2037,2038,2039,2040,2041,2042,2043,2044,2045,2046,2047,2048,2049,2050],\"xaxis\":\"x2\",\"y\":[37.510386080695,37.89043151719906,38.23727979247738,38.54567976977458,38.80884645532931,39.01829860693984,38.55468901287267,38.010719119917034,37.37285392261373,36.62304674701722,31.60508514975767,31.700981371317333,31.775168984311595,31.775168984311595,31.24544127627791,30.661411655725907,30.361952669513403,30.06771614694379,29.773786210438868,29.481866823428902,26.973207141550635,21.60365191228651,15.717853152432015,9.719245161955666,2.304185509869449,26.21319859750456,27.620539505811696,27.33113331853592,27.04172713126013,26.75232094398435,26.462914756708575,25.989757635632696,25.741918699493226,25.411083019229476,25.207008898940078,23.826405515504064],\"yaxis\":\"y2\"},{\"fillcolor\":\"green\",\"line\":{\"color\":\"green\",\"width\":0},\"mode\":\"lines\",\"name\":\"Waste\",\"showlegend\":false,\"stackgroup\":\"two\",\"type\":\"scatter\",\"x\":[2015,2016,2017,2018,2019,2020,2021,2022,2023,2024,2025,2026,2027,2028,2029,2030,2031,2032,2033,2034,2035,2036,2037,2038,2039,2040,2041,2042,2043,2044,2045,2046,2047,2048,2049,2050],\"xaxis\":\"x2\",\"y\":[0.0,0.0,0.0,0.0,0.0,0.0,0.0,0.0,0.0,0.0,0.0,0.0,0.0,0.0,0.0,0.0,0.0,0.0,0.0,0.0,0.0,0.0,0.0,0.0,0.0,0.0,0.0,0.0,0.0,0.0,0.0,0.0,0.0,0.0,0.0,0.0],\"yaxis\":\"y2\"},{\"fillcolor\":\"cyan\",\"line\":{\"color\":\"cyan\",\"width\":0},\"mode\":\"lines\",\"name\":\"Hydrogen\",\"showlegend\":false,\"stackgroup\":\"one\",\"type\":\"scatter\",\"x\":[2015,2016,2017,2018,2019,2020,2021,2022,2023,2024,2025,2026,2027,2028,2029,2030,2031,2032,2033,2034,2035,2036,2037,2038,2039,2040,2041,2042,2043,2044,2045,2046,2047,2048,2049,2050],\"xaxis\":\"x3\",\"y\":[34.13396519999999,34.13396519999999,34.13396519999999,34.13396519999999,34.13396519999999,34.13396519999999,34.13396519999999,34.13396519999999,34.13396519999999,34.13396519999999,34.13396519999999,34.13396519999999,34.13396519999999,34.13396519999999,34.13396519999999,68.57656578422475,68.59380201809252,68.30509101809253,67.16723001809252,66.02936901809252,90.5709353263757,117.10560231800878,144.6303923202752,163.23765041833997,179.37638151565713,195.5769517126029,212.14210354312453,221.2859010549534,225.4141935937815,224.48483774376018,212.93367490510758,202.99706565156407,193.381623169931,188.7896648679087,189.27143456504254,194.38985104365497],\"yaxis\":\"y3\"},{\"fillcolor\":\"cyan\",\"line\":{\"color\":\"cyan\",\"width\":0},\"mode\":\"lines\",\"name\":\"Hydrogen\",\"showlegend\":false,\"stackgroup\":\"two\",\"type\":\"scatter\",\"x\":[2015,2016,2017,2018,2019,2020,2021,2022,2023,2024,2025,2026,2027,2028,2029,2030,2031,2032,2033,2034,2035,2036,2037,2038,2039,2040,2041,2042,2043,2044,2045,2046,2047,2048,2049,2050],\"xaxis\":\"x3\",\"y\":[-47.17823589699479,-40.058118928236844,-40.058118928236844,-40.058118928236844,-40.058118928236844,-40.058118928236844,-39.93428589597878,-39.81603867017233,-39.697791444365876,-39.579544218559434,-36.4918761872647,-36.45796031629696,-36.42404444532922,-36.390128574361476,-36.35621270339374,-69.65938094944848,-66.14453372364203,-67.12843056235171,-67.09451469138396,-67.16249682041622,-88.68195564716645,-110.29513265878441,-126.96264380000841,-143.52843361390845,-154.0912468015597,-157.9392472050323,-165.14490973094382,-176.03463392321532,-176.72077302660418,-176.66714124871316,-173.83404398500102,-171.79994435668752,-170.4726168158851,-170.83877345469338,-176.27865809265785,-189.68518951210092],\"yaxis\":\"y3\"},{\"fillcolor\":\"purple\",\"line\":{\"color\":\"purple\",\"width\":0},\"mode\":\"lines\",\"name\":\"Gas\",\"showlegend\":false,\"stackgroup\":\"one\",\"type\":\"scatter\",\"x\":[2015,2016,2017,2018,2019,2020,2021,2022,2023,2024,2025,2026,2027,2028,2029,2030,2031,2032,2033,2034,2035,2036,2037,2038,2039,2040,2041,2042,2043,2044,2045,2046,2047,2048,2049,2050],\"xaxis\":\"x3\",\"y\":[57.82530648707774,49.3382553507141,49.3382553507141,49.3382553507141,49.3382553507141,49.3382553507141,49.28401283148828,49.23642849290764,49.18884415432699,49.14125981574635,50.253476747074046,50.35607179132015,57.663947209862485,61.27079225410857,71.4942164957597,100.64700165582977,98.41234730168951,96.52011198507891,93.6576334468508,97.68870305901366,103.64340229205365,123.1507199220718,129.05441585433002,134.55185026438704,137.32314469306314,143.0947731610174,144.1404903755364,147.46106498091754,150.32716060118793,155.81151835797885,162.31530058320322,171.17986238293355,179.96213801263863,189.1518865302397,197.72269656126008,203.12964771637238],\"yaxis\":\"y3\"},{\"fillcolor\":\"purple\",\"line\":{\"color\":\"purple\",\"width\":0},\"mode\":\"lines\",\"name\":\"Gas\",\"showlegend\":false,\"stackgroup\":\"two\",\"type\":\"scatter\",\"x\":[2015,2016,2017,2018,2019,2020,2021,2022,2023,2024,2025,2026,2027,2028,2029,2030,2031,2032,2033,2034,2035,2036,2037,2038,2039,2040,2041,2042,2043,2044,2045,2046,2047,2048,2049,2050],\"xaxis\":\"x3\",\"y\":[-10.058771612903225,-10.058771612903225,-10.058771612903225,-10.058771612903225,-10.058771612903225,-10.058771612903225,-9.924654658064515,-9.790537703225805,-9.656420748387095,-9.522303793548389,-22.9300360070137,-24.89827136873413,-34.08137443412715,-39.46284723475817,-51.01149912325998,-55.01430224265547,-63.893584933752244,-67.44640762484902,-70.9992303159458,-81.44560115743359,-101.28321741423237,-116.46797505597665,-122.56557891337377,-128.2598089505912,-131.22645515541694,-137.5523281267936,-143.2260743901895,-146.6482507717203,-149.61594816814036,-155.16164502868435,-162.11581534188224,-171.08197891776223,-179.96585632361695,-189.01226485551697,-197.80714754361236,-203.12964771637238],\"yaxis\":\"y3\"},{\"fillcolor\":\"black\",\"line\":{\"color\":\"black\",\"width\":0},\"mode\":\"lines\",\"name\":\"Coal\",\"showlegend\":false,\"stackgroup\":\"one\",\"type\":\"scatter\",\"x\":[2015,2016,2017,2018,2019,2020,2021,2022,2023,2024,2025,2026,2027,2028,2029,2030,2031,2032,2033,2034,2035,2036,2037,2038,2039,2040,2041,2042,2043,2044,2045,2046,2047,2048,2049,2050],\"xaxis\":\"x3\",\"y\":[400.0732957214581,400.4542543082844,400.80193033480344,401.1098762615739,401.3726554925858,401.5817992723845,401.58222156076084,401.5024018629553,401.32882510080066,401.04347117007376,386.76112709991645,386.41543401460234,369.68654225881676,361.02478154623356,338.128564581285,236.29402008522956,235.82226618111866,231.96733240154796,230.93776038278583,215.93872942101464,200.4701197332855,186.47214921465408,162.5003667816288,154.70177528570764,89.52066881092249,91.64084559509018,86.85575656346015,84.10299183460596,80.66643714610974,75.50251516008949,69.20169365464879,59.61401731596145,48.26855967496094,34.28485221391922,18.544657937030145,0.0],\"yaxis\":\"y3\"},{\"fillcolor\":\"black\",\"line\":{\"color\":\"black\",\"width\":0},\"mode\":\"lines\",\"name\":\"Coal\",\"showlegend\":false,\"stackgroup\":\"two\",\"type\":\"scatter\",\"x\":[2015,2016,2017,2018,2019,2020,2021,2022,2023,2024,2025,2026,2027,2028,2029,2030,2031,2032,2033,2034,2035,2036,2037,2038,2039,2040,2041,2042,2043,2044,2045,2046,2047,2048,2049,2050],\"xaxis\":\"x3\",\"y\":[0.0,0.0,0.0,0.0,0.0,0.0,0.0,0.0,0.0,0.0,0.0,0.0,0.0,0.0,0.0,0.0,0.0,0.0,0.0,0.0,0.0,0.0,0.0,0.0,0.0,0.0,0.0,0.0,0.0,0.0,0.0,0.0,0.0,0.0,0.0,0.0],\"yaxis\":\"y3\"},{\"fillcolor\":\"grey\",\"line\":{\"color\":\"grey\",\"width\":0},\"mode\":\"lines\",\"name\":\"Oil\",\"showlegend\":false,\"stackgroup\":\"one\",\"type\":\"scatter\",\"x\":[2015,2016,2017,2018,2019,2020,2021,2022,2023,2024,2025,2026,2027,2028,2029,2030,2031,2032,2033,2034,2035,2036,2037,2038,2039,2040,2041,2042,2043,2044,2045,2046,2047,2048,2049,2050],\"xaxis\":\"x3\",\"y\":[692.7148503638709,692.7148503638709,692.7148503638709,692.7148503638709,692.7148503638709,692.7148503638709,683.4786523590193,674.2424543541676,665.0062563493162,655.7700583444646,646.5338603396129,637.2976623347613,628.0614643299097,618.825266325058,609.5890683202065,600.3528703153548,591.1166723105032,581.8804743056517,572.6442763007999,563.4080782959484,399.4148222604431,244.60268596702565,190.14944638775552,149.32085080117488,124.6666517833122,102.29364736017668,76.23476815725185,65.08851486430206,61.554815984048176,58.02111710379428,52.30971145914582,47.68222065178463,39.205177243103165,28.66406277367739,14.332031386838684,0.0],\"yaxis\":\"y3\"},{\"fillcolor\":\"grey\",\"line\":{\"color\":\"grey\",\"width\":0},\"mode\":\"lines\",\"name\":\"Oil\",\"showlegend\":false,\"stackgroup\":\"two\",\"type\":\"scatter\",\"x\":[2015,2016,2017,2018,2019,2020,2021,2022,2023,2024,2025,2026,2027,2028,2029,2030,2031,2032,2033,2034,2035,2036,2037,2038,2039,2040,2041,2042,2043,2044,2045,2046,2047,2048,2049,2050],\"xaxis\":\"x3\",\"y\":[0.0,0.0,0.0,0.0,0.0,0.0,0.0,0.0,0.0,0.0,0.0,0.0,0.0,0.0,0.0,0.0,0.0,0.0,0.0,0.0,0.0,0.0,0.0,0.0,0.0,0.0,0.0,0.0,0.0,0.0,0.0,0.0,0.0,0.0,0.0,0.0],\"yaxis\":\"y3\"},{\"fillcolor\":\"brown\",\"line\":{\"color\":\"brown\",\"width\":0},\"mode\":\"lines\",\"name\":\"Biomass\",\"showlegend\":false,\"stackgroup\":\"one\",\"type\":\"scatter\",\"x\":[2015,2016,2017,2018,2019,2020,2021,2022,2023,2024,2025,2026,2027,2028,2029,2030,2031,2032,2033,2034,2035,2036,2037,2038,2039,2040,2041,2042,2043,2044,2045,2046,2047,2048,2049,2050],\"xaxis\":\"x3\",\"y\":[0.0,0.0,0.0,0.0,0.0,0.0,0.0,0.0,0.0,0.0,3.1309282875066278,2.771430124453624,3.2333221071436844,4.463610438494867,6.78627722964225,7.33823204214225,7.448623004642251,8.274742896052048,9.477319445149984,10.679895994247925,164.9248501342528,336.34824818061924,321.16736810376386,316.1826302809358,379.2540373216281,350.6727948712401,346.01768164204833,341.4382188889814,315.195406353187,302.6559025729903,288.8979198487078,267.14374065835585,244.38444540465187,213.18205592757568,186.67499679521347,157.4388694580254],\"yaxis\":\"y3\"},{\"fillcolor\":\"brown\",\"line\":{\"color\":\"brown\",\"width\":0},\"mode\":\"lines\",\"name\":\"Biomass\",\"showlegend\":false,\"stackgroup\":\"two\",\"type\":\"scatter\",\"x\":[2015,2016,2017,2018,2019,2020,2021,2022,2023,2024,2025,2026,2027,2028,2029,2030,2031,2032,2033,2034,2035,2036,2037,2038,2039,2040,2041,2042,2043,2044,2045,2046,2047,2048,2049,2050],\"xaxis\":\"x3\",\"y\":[0.0,0.0,0.0,0.0,0.0,0.0,0.0,0.0,0.0,0.0,0.0,0.0,0.0,0.0,0.0,0.0,0.0,0.0,0.0,0.0,0.0,0.0,0.0,0.0,0.0,0.0,0.0,0.0,0.0,0.0,0.0,0.0,0.0,0.0,0.0,0.0],\"yaxis\":\"y3\"},{\"fillcolor\":\"yellow\",\"line\":{\"color\":\"yellow\",\"width\":0},\"mode\":\"lines\",\"name\":\"Electricity\",\"showlegend\":false,\"stackgroup\":\"one\",\"type\":\"scatter\",\"x\":[2015,2016,2017,2018,2019,2020,2021,2022,2023,2024,2025,2026,2027,2028,2029,2030,2031,2032,2033,2034,2035,2036,2037,2038,2039,2040,2041,2042,2043,2044,2045,2046,2047,2048,2049,2050],\"xaxis\":\"x3\",\"y\":[74.18682361290323,74.18682361290323,74.18682361290323,74.18682361290323,74.18682361290323,74.18682361290323,74.08544649806451,73.9840693832258,73.8826922683871,73.78131515354839,76.15395702803225,76.05005461976708,78.61144284007624,79.80379043181108,83.44366339549036,108.47632371129352,103.85607677427976,107.50168449992623,110.97796630654798,117.53847408666411,152.61617503099578,173.23757695787617,202.8273911184992,227.9210443029007,246.74105483966952,262.7874265065594,276.6635979090819,291.6970537146273,291.3795837057536,288.4691717286537,274.05779011784796,272.5106061841032,265.8467320079005,261.0034283035052,269.6302455288005,298.91874303465795],\"yaxis\":\"y3\"},{\"fillcolor\":\"yellow\",\"line\":{\"color\":\"yellow\",\"width\":0},\"mode\":\"lines\",\"name\":\"Electricity\",\"showlegend\":false,\"stackgroup\":\"two\",\"type\":\"scatter\",\"x\":[2015,2016,2017,2018,2019,2020,2021,2022,2023,2024,2025,2026,2027,2028,2029,2030,2031,2032,2033,2034,2035,2036,2037,2038,2039,2040,2041,2042,2043,2044,2045,2046,2047,2048,2049,2050],\"xaxis\":\"x3\",\"y\":[0.0,0.0,0.0,0.0,0.0,0.0,0.0,0.0,0.0,0.0,0.0,0.0,0.0,0.0,0.0,0.0,0.0,0.0,0.0,0.0,0.0,0.0,0.0,0.0,0.0,0.0,0.0,0.0,0.0,0.0,0.0,0.0,0.0,0.0,0.0,0.0],\"yaxis\":\"y3\"},{\"fillcolor\":\"red\",\"line\":{\"color\":\"red\",\"width\":0},\"mode\":\"lines\",\"name\":\"MeOH\",\"showlegend\":false,\"stackgroup\":\"one\",\"type\":\"scatter\",\"x\":[2015,2016,2017,2018,2019,2020,2021,2022,2023,2024,2025,2026,2027,2028,2029,2030,2031,2032,2033,2034,2035,2036,2037,2038,2039,2040,2041,2042,2043,2044,2045,2046,2047,2048,2049,2050],\"xaxis\":\"x3\",\"y\":[0.0,0.0,0.0,0.0,0.0,0.0,0.0,0.0,0.0,0.0,0.06506185671565093,0.06321410428022255,0.061366351844793963,0.05951859940936558,0.05767084697393719,0.05767084697393719,0.05767084697393717,0.08036676084050734,0.11500019397208913,0.14963362710367106,41.68724327107719,68.93861921040906,98.28046454933217,117.61544948458825,128.87509694984314,137.29795047901644,146.49869977882278,149.9076210529955,155.04848668150996,154.8475264317718,155.1475440182817,155.05231326989272,156.40566208115678,160.11288643327168,163.94140165442477,167.63738533022544],\"yaxis\":\"y3\"},{\"fillcolor\":\"red\",\"line\":{\"color\":\"red\",\"width\":0},\"mode\":\"lines\",\"name\":\"MeOH\",\"showlegend\":false,\"stackgroup\":\"two\",\"type\":\"scatter\",\"x\":[2015,2016,2017,2018,2019,2020,2021,2022,2023,2024,2025,2026,2027,2028,2029,2030,2031,2032,2033,2034,2035,2036,2037,2038,2039,2040,2041,2042,2043,2044,2045,2046,2047,2048,2049,2050],\"xaxis\":\"x3\",\"y\":[-7.8723399999999994,-7.8723399999999994,-7.8723399999999994,-7.8723399999999994,-7.8723399999999994,-7.8723399999999994,-7.8723399999999994,-7.8723399999999994,-7.8723399999999994,-7.8723399999999994,-7.8723399999999994,-7.8723399999999994,-7.8723399999999994,-7.8723399999999994,-7.8723399999999994,-7.8723399999999994,-7.8723399999999994,-7.8723399999999994,-7.8723399999999994,-7.8723399999999994,-34.51304987798413,-57.60827125361763,-78.92613629055447,-95.50174065795623,-111.90085712547346,-126.55047714172484,-139.95313556803882,-149.9131610529955,-155.05402668150995,-154.8530664317718,-156.5586212999826,-154.72845082631343,-150.91190631812677,-151.2511069181587,-152.85947822931112,-158.3991705321509],\"yaxis\":\"y3\"},{\"fillcolor\":\"green\",\"line\":{\"color\":\"green\",\"width\":0},\"mode\":\"lines\",\"name\":\"Waste\",\"showlegend\":false,\"stackgroup\":\"one\",\"type\":\"scatter\",\"x\":[2015,2016,2017,2018,2019,2020,2021,2022,2023,2024,2025,2026,2027,2028,2029,2030,2031,2032,2033,2034,2035,2036,2037,2038,2039,2040,2041,2042,2043,2044,2045,2046,2047,2048,2049,2050],\"xaxis\":\"x3\",\"y\":[37.510386080695,37.8919063714829,38.24009502852975,38.54849500582696,38.81166169138167,39.021113842992214,38.55750424892505,38.013534355969405,37.375669158666106,36.6258619830696,31.60790038581004,31.703796607369707,31.77798422036397,31.77798422036397,31.24825651233028,30.664226891778277,30.364767905565778,30.067332022463894,29.774264331363906,29.481866823428906,26.957160217864676,21.556581187241026,15.671065252639062,9.66284162679621,2.2733937422649726,13.66010426721737,11.505153389015895,7.97980244138615,4.447390352256897,2.129627344117393,0.5253117887464784,0.12460753223636922,0.0,0.0,0.0,0.0],\"yaxis\":\"y3\"},{\"fillcolor\":\"green\",\"line\":{\"color\":\"green\",\"width\":0},\"mode\":\"lines\",\"name\":\"Waste\",\"showlegend\":false,\"stackgroup\":\"two\",\"type\":\"scatter\",\"x\":[2015,2016,2017,2018,2019,2020,2021,2022,2023,2024,2025,2026,2027,2028,2029,2030,2031,2032,2033,2034,2035,2036,2037,2038,2039,2040,2041,2042,2043,2044,2045,2046,2047,2048,2049,2050],\"xaxis\":\"x3\",\"y\":[0.0,0.0,0.0,0.0,0.0,0.0,0.0,0.0,0.0,0.0,0.0,0.0,0.0,0.0,0.0,0.0,0.0,0.0,0.0,0.0,0.0,0.0,0.0,0.0,0.0,0.0,0.0,0.0,0.0,0.0,0.0,0.0,0.0,0.0,0.0,0.0],\"yaxis\":\"y3\"}],                        {\"annotations\":[{\"font\":{\"size\":24},\"showarrow\":false,\"text\":\"High electricity price\",\"x\":0.14444444444444446,\"xanchor\":\"center\",\"xref\":\"paper\",\"y\":1.0,\"yanchor\":\"bottom\",\"yref\":\"paper\"},{\"font\":{\"size\":24},\"showarrow\":false,\"text\":\"Reference\",\"x\":0.5,\"xanchor\":\"center\",\"xref\":\"paper\",\"y\":1.0,\"yanchor\":\"bottom\",\"yref\":\"paper\"},{\"font\":{\"size\":24},\"showarrow\":false,\"text\":\"Fossil phase-out\",\"x\":0.8555555555555556,\"xanchor\":\"center\",\"xref\":\"paper\",\"y\":1.0,\"yanchor\":\"bottom\",\"yref\":\"paper\"}],\"font\":{\"family\":\"Times New Roman\",\"size\":24},\"legend\":{\"font\":{\"size\":20},\"orientation\":\"h\",\"x\":1,\"xanchor\":\"right\",\"y\":1.1,\"yanchor\":\"bottom\"},\"template\":{\"data\":{\"bar\":[{\"error_x\":{\"color\":\"#2a3f5f\"},\"error_y\":{\"color\":\"#2a3f5f\"},\"marker\":{\"line\":{\"color\":\"#E5ECF6\",\"width\":0.5},\"pattern\":{\"fillmode\":\"overlay\",\"size\":10,\"solidity\":0.2}},\"type\":\"bar\"}],\"barpolar\":[{\"marker\":{\"line\":{\"color\":\"#E5ECF6\",\"width\":0.5},\"pattern\":{\"fillmode\":\"overlay\",\"size\":10,\"solidity\":0.2}},\"type\":\"barpolar\"}],\"carpet\":[{\"aaxis\":{\"endlinecolor\":\"#2a3f5f\",\"gridcolor\":\"white\",\"linecolor\":\"white\",\"minorgridcolor\":\"white\",\"startlinecolor\":\"#2a3f5f\"},\"baxis\":{\"endlinecolor\":\"#2a3f5f\",\"gridcolor\":\"white\",\"linecolor\":\"white\",\"minorgridcolor\":\"white\",\"startlinecolor\":\"#2a3f5f\"},\"type\":\"carpet\"}],\"choropleth\":[{\"colorbar\":{\"outlinewidth\":0,\"ticks\":\"\"},\"type\":\"choropleth\"}],\"contour\":[{\"colorbar\":{\"outlinewidth\":0,\"ticks\":\"\"},\"colorscale\":[[0.0,\"#0d0887\"],[0.1111111111111111,\"#46039f\"],[0.2222222222222222,\"#7201a8\"],[0.3333333333333333,\"#9c179e\"],[0.4444444444444444,\"#bd3786\"],[0.5555555555555556,\"#d8576b\"],[0.6666666666666666,\"#ed7953\"],[0.7777777777777778,\"#fb9f3a\"],[0.8888888888888888,\"#fdca26\"],[1.0,\"#f0f921\"]],\"type\":\"contour\"}],\"contourcarpet\":[{\"colorbar\":{\"outlinewidth\":0,\"ticks\":\"\"},\"type\":\"contourcarpet\"}],\"heatmap\":[{\"colorbar\":{\"outlinewidth\":0,\"ticks\":\"\"},\"colorscale\":[[0.0,\"#0d0887\"],[0.1111111111111111,\"#46039f\"],[0.2222222222222222,\"#7201a8\"],[0.3333333333333333,\"#9c179e\"],[0.4444444444444444,\"#bd3786\"],[0.5555555555555556,\"#d8576b\"],[0.6666666666666666,\"#ed7953\"],[0.7777777777777778,\"#fb9f3a\"],[0.8888888888888888,\"#fdca26\"],[1.0,\"#f0f921\"]],\"type\":\"heatmap\"}],\"heatmapgl\":[{\"colorbar\":{\"outlinewidth\":0,\"ticks\":\"\"},\"colorscale\":[[0.0,\"#0d0887\"],[0.1111111111111111,\"#46039f\"],[0.2222222222222222,\"#7201a8\"],[0.3333333333333333,\"#9c179e\"],[0.4444444444444444,\"#bd3786\"],[0.5555555555555556,\"#d8576b\"],[0.6666666666666666,\"#ed7953\"],[0.7777777777777778,\"#fb9f3a\"],[0.8888888888888888,\"#fdca26\"],[1.0,\"#f0f921\"]],\"type\":\"heatmapgl\"}],\"histogram\":[{\"marker\":{\"pattern\":{\"fillmode\":\"overlay\",\"size\":10,\"solidity\":0.2}},\"type\":\"histogram\"}],\"histogram2d\":[{\"colorbar\":{\"outlinewidth\":0,\"ticks\":\"\"},\"colorscale\":[[0.0,\"#0d0887\"],[0.1111111111111111,\"#46039f\"],[0.2222222222222222,\"#7201a8\"],[0.3333333333333333,\"#9c179e\"],[0.4444444444444444,\"#bd3786\"],[0.5555555555555556,\"#d8576b\"],[0.6666666666666666,\"#ed7953\"],[0.7777777777777778,\"#fb9f3a\"],[0.8888888888888888,\"#fdca26\"],[1.0,\"#f0f921\"]],\"type\":\"histogram2d\"}],\"histogram2dcontour\":[{\"colorbar\":{\"outlinewidth\":0,\"ticks\":\"\"},\"colorscale\":[[0.0,\"#0d0887\"],[0.1111111111111111,\"#46039f\"],[0.2222222222222222,\"#7201a8\"],[0.3333333333333333,\"#9c179e\"],[0.4444444444444444,\"#bd3786\"],[0.5555555555555556,\"#d8576b\"],[0.6666666666666666,\"#ed7953\"],[0.7777777777777778,\"#fb9f3a\"],[0.8888888888888888,\"#fdca26\"],[1.0,\"#f0f921\"]],\"type\":\"histogram2dcontour\"}],\"mesh3d\":[{\"colorbar\":{\"outlinewidth\":0,\"ticks\":\"\"},\"type\":\"mesh3d\"}],\"parcoords\":[{\"line\":{\"colorbar\":{\"outlinewidth\":0,\"ticks\":\"\"}},\"type\":\"parcoords\"}],\"pie\":[{\"automargin\":true,\"type\":\"pie\"}],\"scatter\":[{\"marker\":{\"colorbar\":{\"outlinewidth\":0,\"ticks\":\"\"}},\"type\":\"scatter\"}],\"scatter3d\":[{\"line\":{\"colorbar\":{\"outlinewidth\":0,\"ticks\":\"\"}},\"marker\":{\"colorbar\":{\"outlinewidth\":0,\"ticks\":\"\"}},\"type\":\"scatter3d\"}],\"scattercarpet\":[{\"marker\":{\"colorbar\":{\"outlinewidth\":0,\"ticks\":\"\"}},\"type\":\"scattercarpet\"}],\"scattergeo\":[{\"marker\":{\"colorbar\":{\"outlinewidth\":0,\"ticks\":\"\"}},\"type\":\"scattergeo\"}],\"scattergl\":[{\"marker\":{\"colorbar\":{\"outlinewidth\":0,\"ticks\":\"\"}},\"type\":\"scattergl\"}],\"scattermapbox\":[{\"marker\":{\"colorbar\":{\"outlinewidth\":0,\"ticks\":\"\"}},\"type\":\"scattermapbox\"}],\"scatterpolar\":[{\"marker\":{\"colorbar\":{\"outlinewidth\":0,\"ticks\":\"\"}},\"type\":\"scatterpolar\"}],\"scatterpolargl\":[{\"marker\":{\"colorbar\":{\"outlinewidth\":0,\"ticks\":\"\"}},\"type\":\"scatterpolargl\"}],\"scatterternary\":[{\"marker\":{\"colorbar\":{\"outlinewidth\":0,\"ticks\":\"\"}},\"type\":\"scatterternary\"}],\"surface\":[{\"colorbar\":{\"outlinewidth\":0,\"ticks\":\"\"},\"colorscale\":[[0.0,\"#0d0887\"],[0.1111111111111111,\"#46039f\"],[0.2222222222222222,\"#7201a8\"],[0.3333333333333333,\"#9c179e\"],[0.4444444444444444,\"#bd3786\"],[0.5555555555555556,\"#d8576b\"],[0.6666666666666666,\"#ed7953\"],[0.7777777777777778,\"#fb9f3a\"],[0.8888888888888888,\"#fdca26\"],[1.0,\"#f0f921\"]],\"type\":\"surface\"}],\"table\":[{\"cells\":{\"fill\":{\"color\":\"#EBF0F8\"},\"line\":{\"color\":\"white\"}},\"header\":{\"fill\":{\"color\":\"#C8D4E3\"},\"line\":{\"color\":\"white\"}},\"type\":\"table\"}]},\"layout\":{\"annotationdefaults\":{\"arrowcolor\":\"#2a3f5f\",\"arrowhead\":0,\"arrowwidth\":1},\"autotypenumbers\":\"strict\",\"coloraxis\":{\"colorbar\":{\"outlinewidth\":0,\"ticks\":\"\"}},\"colorscale\":{\"diverging\":[[0,\"#8e0152\"],[0.1,\"#c51b7d\"],[0.2,\"#de77ae\"],[0.3,\"#f1b6da\"],[0.4,\"#fde0ef\"],[0.5,\"#f7f7f7\"],[0.6,\"#e6f5d0\"],[0.7,\"#b8e186\"],[0.8,\"#7fbc41\"],[0.9,\"#4d9221\"],[1,\"#276419\"]],\"sequential\":[[0.0,\"#0d0887\"],[0.1111111111111111,\"#46039f\"],[0.2222222222222222,\"#7201a8\"],[0.3333333333333333,\"#9c179e\"],[0.4444444444444444,\"#bd3786\"],[0.5555555555555556,\"#d8576b\"],[0.6666666666666666,\"#ed7953\"],[0.7777777777777778,\"#fb9f3a\"],[0.8888888888888888,\"#fdca26\"],[1.0,\"#f0f921\"]],\"sequentialminus\":[[0.0,\"#0d0887\"],[0.1111111111111111,\"#46039f\"],[0.2222222222222222,\"#7201a8\"],[0.3333333333333333,\"#9c179e\"],[0.4444444444444444,\"#bd3786\"],[0.5555555555555556,\"#d8576b\"],[0.6666666666666666,\"#ed7953\"],[0.7777777777777778,\"#fb9f3a\"],[0.8888888888888888,\"#fdca26\"],[1.0,\"#f0f921\"]]},\"colorway\":[\"#636efa\",\"#EF553B\",\"#00cc96\",\"#ab63fa\",\"#FFA15A\",\"#19d3f3\",\"#FF6692\",\"#B6E880\",\"#FF97FF\",\"#FECB52\"],\"font\":{\"color\":\"#2a3f5f\"},\"geo\":{\"bgcolor\":\"white\",\"lakecolor\":\"white\",\"landcolor\":\"#E5ECF6\",\"showlakes\":true,\"showland\":true,\"subunitcolor\":\"white\"},\"hoverlabel\":{\"align\":\"left\"},\"hovermode\":\"closest\",\"mapbox\":{\"style\":\"light\"},\"paper_bgcolor\":\"white\",\"plot_bgcolor\":\"#E5ECF6\",\"polar\":{\"angularaxis\":{\"gridcolor\":\"white\",\"linecolor\":\"white\",\"ticks\":\"\"},\"bgcolor\":\"#E5ECF6\",\"radialaxis\":{\"gridcolor\":\"white\",\"linecolor\":\"white\",\"ticks\":\"\"}},\"scene\":{\"xaxis\":{\"backgroundcolor\":\"#E5ECF6\",\"gridcolor\":\"white\",\"gridwidth\":2,\"linecolor\":\"white\",\"showbackground\":true,\"ticks\":\"\",\"zerolinecolor\":\"white\"},\"yaxis\":{\"backgroundcolor\":\"#E5ECF6\",\"gridcolor\":\"white\",\"gridwidth\":2,\"linecolor\":\"white\",\"showbackground\":true,\"ticks\":\"\",\"zerolinecolor\":\"white\"},\"zaxis\":{\"backgroundcolor\":\"#E5ECF6\",\"gridcolor\":\"white\",\"gridwidth\":2,\"linecolor\":\"white\",\"showbackground\":true,\"ticks\":\"\",\"zerolinecolor\":\"white\"}},\"shapedefaults\":{\"line\":{\"color\":\"#2a3f5f\"}},\"ternary\":{\"aaxis\":{\"gridcolor\":\"white\",\"linecolor\":\"white\",\"ticks\":\"\"},\"baxis\":{\"gridcolor\":\"white\",\"linecolor\":\"white\",\"ticks\":\"\"},\"bgcolor\":\"#E5ECF6\",\"caxis\":{\"gridcolor\":\"white\",\"linecolor\":\"white\",\"ticks\":\"\"}},\"title\":{\"x\":0.05},\"xaxis\":{\"automargin\":true,\"gridcolor\":\"white\",\"linecolor\":\"white\",\"ticks\":\"\",\"title\":{\"standoff\":15},\"zerolinecolor\":\"white\",\"zerolinewidth\":2},\"yaxis\":{\"automargin\":true,\"gridcolor\":\"white\",\"linecolor\":\"white\",\"ticks\":\"\",\"title\":{\"standoff\":15},\"zerolinecolor\":\"white\",\"zerolinewidth\":2}}},\"xaxis\":{\"anchor\":\"y\",\"domain\":[0.0,0.2888888888888889]},\"xaxis2\":{\"anchor\":\"y2\",\"domain\":[0.35555555555555557,0.6444444444444445]},\"xaxis3\":{\"anchor\":\"y3\",\"domain\":[0.7111111111111111,1.0]},\"yaxis\":{\"anchor\":\"x\",\"domain\":[0.0,1.0],\"title\":{\"text\":\"Energy flows (TWh)\"}},\"yaxis2\":{\"anchor\":\"x2\",\"domain\":[0.0,1.0],\"matches\":\"y\",\"showticklabels\":false},\"yaxis3\":{\"anchor\":\"x3\",\"domain\":[0.0,1.0],\"matches\":\"y\",\"showticklabels\":false}},                        {\"responsive\": true}                    ).then(function(){\n",
       "                            \n",
       "var gd = document.getElementById('e3e3f0eb-3d00-4b33-a7d1-dc14bf3212ce');\n",
       "var x = new MutationObserver(function (mutations, observer) {{\n",
       "        var display = window.getComputedStyle(gd).display;\n",
       "        if (!display || display === 'none') {{\n",
       "            console.log([gd, 'removed!']);\n",
       "            Plotly.purge(gd);\n",
       "            observer.disconnect();\n",
       "        }}\n",
       "}});\n",
       "\n",
       "// Listen for the removal of the full notebook cells\n",
       "var notebookContainer = gd.closest('#notebook-container');\n",
       "if (notebookContainer) {{\n",
       "    x.observe(notebookContainer, {childList: true});\n",
       "}}\n",
       "\n",
       "// Listen for the clearing of the current output cell\n",
       "var outputEl = gd.closest('.output');\n",
       "if (outputEl) {{\n",
       "    x.observe(outputEl, {childList: true});\n",
       "}}\n",
       "\n",
       "                        })                };                });            </script>        </div>"
      ]
     },
     "metadata": {},
     "output_type": "display_data"
    }
   ],
   "source": [
    "fig =make_subplots(rows=1, cols=3,subplot_titles=list(scen.keys()),shared_yaxes=True)\n",
    "for i in range(len(scen.keys())):\n",
    "    showlegend=[True,False,False]\n",
    "    \n",
    "    resource_inflow=scen[list(scen.keys())[i]]['resource_inflow']\n",
    "    resource_outflow=scen[list(scen.keys())[i]]['resource_outflow']\n",
    "    \n",
    "    energy_input=resource_inflow[(resource_inflow.Resource.isin(primary_resource_conversion.keys()))]\n",
    "    energy_output=resource_outflow[(resource_outflow.Resource.isin(primary_resource_conversion.keys()))]\n",
    "    energy_input=energy_input.drop([\"Sector\",\"Country\"],axis=1).groupby(by=[\"Resource\",\"Year\"]).sum().reset_index()\n",
    "    energy_output=energy_output.drop([\"Sector\",\"Country\"],axis=1).groupby(by=[\"Resource\",\"Year\"]).sum().reset_index()\n",
    "    df_merged=pd.concat([energy_input,energy_output],ignore_index=True)\n",
    "\n",
    "\n",
    "    for resource in primary_resource_conversion.keys():\n",
    "        if resource not in [\"Olefins\",\"Ammonia\",\"Naphtha\",\"CO\"]:\n",
    "            fig.add_trace(go.Scatter(x=energy_input[energy_input.Resource==resource].Year,y=energy_input[energy_input.Resource==resource].Flow,name=resource,\n",
    "                             line=dict(width=0,color=primary_resource_color[resource]),\n",
    "                                 fillcolor=primary_resource_color[resource],mode='lines',stackgroup='one',showlegend=showlegend[i])\n",
    "                         ,row=1, col=i+1)\n",
    "            fig.add_trace(go.Scatter(x=energy_output[energy_output.Resource==resource].Year,y=energy_output[energy_output.Resource==resource].Flow,name=resource,\n",
    "                             line=dict(width=0,color=primary_resource_color[resource]),\n",
    "                                 fillcolor=primary_resource_color[resource],mode='lines',stackgroup='two',showlegend=False)\n",
    "                          ,row=1, col=i+1)\n",
    "\n",
    "#     fig.update_xaxes(title_text=\"Year\", row=1, col=i+1)\n",
    "    \n",
    "fig.update_layout(#title='Energy flows in EU-5+1', title_x=0.5,\n",
    "                   yaxis_title='Energy flows (TWh)')\n",
    "# fig.update_yaxes(range=[-600,1500])\n",
    "fig.update_layout(\n",
    "    font=dict(\n",
    "        family=\"Times New Roman\",size=24)\n",
    "    )\n",
    "fig.update_annotations(font_size=24)\n",
    "fig.update_layout(legend=dict(\n",
    "    orientation=\"h\",\n",
    "    yanchor=\"bottom\",\n",
    "    y=1.1,\n",
    "    xanchor=\"right\",\n",
    "    x=1,font = dict(size=20)\n",
    "))\n",
    "\n",
    "\n",
    "fig.show()"
   ]
  },
  {
   "cell_type": "code",
   "execution_count": 63,
   "id": "a59d1fc5",
   "metadata": {},
   "outputs": [
    {
     "data": {
      "application/vnd.plotly.v1+json": {
       "config": {
        "plotlyServerURL": "https://plot.ly"
       },
       "data": [
        {
         "fillcolor": "cyan",
         "hoverinfo": "x+y",
         "line": {
          "color": "cyan",
          "width": 0
         },
         "mode": "lines",
         "name": "Hydrogen",
         "showlegend": true,
         "stackgroup": "one",
         "type": "scatter",
         "x": [
          2035,
          2036,
          2037,
          2038,
          2039,
          2040,
          2041,
          2042,
          2043,
          2044,
          2045,
          2046,
          2047,
          2048,
          2049,
          2050
         ],
         "xaxis": "x",
         "y": [
          4.1398645301745205,
          17.091237100695338,
          39.616278387166005,
          59.42102281135645,
          77.41605356267746,
          95.19592342133461,
          107.98674593580282,
          112.05044533428925,
          107.74371693765124,
          92.54875054397013,
          73.48839823934257,
          55.11353111203549,
          30.746162652000876,
          23.149777131557993,
          15.553391611115126,
          7.876903136232847
         ],
         "yaxis": "y"
        },
        {
         "fillcolor": "purple",
         "hoverinfo": "x+y",
         "line": {
          "color": "purple",
          "width": 0
         },
         "mode": "lines",
         "name": "Gas",
         "showlegend": true,
         "stackgroup": "one",
         "type": "scatter",
         "x": [
          2015,
          2016,
          2017,
          2018,
          2019,
          2020,
          2021,
          2022,
          2023,
          2024,
          2025,
          2026,
          2027,
          2028,
          2029,
          2030,
          2031,
          2032,
          2033,
          2034,
          2035,
          2036,
          2037,
          2038,
          2039,
          2040,
          2041,
          2042,
          2043,
          2044,
          2045,
          2046,
          2047,
          2048,
          2049,
          2050
         ],
         "xaxis": "x",
         "y": [
          39.27948373781087,
          39.27948373781087,
          39.27948373781087,
          39.27948373781087,
          39.27948373781087,
          39.27948373781087,
          39.35935817342377,
          39.44589078968184,
          39.5324234059399,
          39.61895602219797,
          27.32344074006034,
          25.457800422586015,
          24.938252475735343,
          23.163624719350405,
          21.83839707249972,
          27.330195133671978,
          23.917223313144877,
          21.734621493602297,
          18.006820264277394,
          14.279019034952482,
          5.1963115292190505,
          7.493420915288731,
          8.913853525295131,
          9.938692785114856,
          10.280920035402659,
          10.964453290456422,
          6.8530281657980785,
          7.194849859102097,
          7.0612618555712166,
          6.927673852040331,
          6.440977194904714,
          5.47596044995848,
          4.5109437050122425,
          3.206539467528115,
          1.9021352300439909,
          1.3957597110991753
         ],
         "yaxis": "y"
        },
        {
         "fillcolor": "black",
         "hoverinfo": "x+y",
         "line": {
          "color": "black",
          "width": 0
         },
         "mode": "lines",
         "name": "Coal",
         "showlegend": true,
         "stackgroup": "one",
         "type": "scatter",
         "x": [
          2015,
          2016,
          2017,
          2018,
          2019,
          2020,
          2021,
          2022,
          2023,
          2024,
          2025,
          2026,
          2027,
          2028,
          2029,
          2030,
          2031,
          2032,
          2033,
          2034,
          2035,
          2036,
          2037,
          2038,
          2039,
          2040,
          2041,
          2042,
          2043,
          2044,
          2045,
          2046,
          2047,
          2048,
          2049,
          2050
         ],
         "xaxis": "x",
         "y": [
          400.0732957214581,
          400.45278162539626,
          400.7991192435614,
          401.10706517033185,
          401.3698444013438,
          401.5789881811425,
          401.5794104695188,
          401.4995907717133,
          401.3260140095586,
          401.0406600788317,
          386.75831600867446,
          386.4126229233603,
          372.90076272631745,
          371.2915020137342,
          368.7640224147553,
          344.4326983284878,
          343.6224244243769,
          340.30682011600396,
          335.4982547107089,
          330.6896893054139,
          313.452011580412,
          297.179996934003,
          269.6448904694849,
          261.9940085585873,
          159.4716026134549,
          168.9798744528796,
          168.6325109443148,
          167.60686518276174,
          165.7314899458591,
          163.3661894059385,
          160.65277785749913,
          157.7290865120693,
          154.82107269317376,
          150.6467624528456,
          142.0989268998978,
          115.34600461415258
         ],
         "yaxis": "y"
        },
        {
         "fillcolor": "grey",
         "hoverinfo": "x+y",
         "line": {
          "color": "grey",
          "width": 0
         },
         "mode": "lines",
         "name": "Oil",
         "showlegend": true,
         "stackgroup": "one",
         "type": "scatter",
         "x": [
          2015,
          2016,
          2017,
          2018,
          2019,
          2020,
          2021,
          2022,
          2023,
          2024,
          2025,
          2026,
          2027,
          2028,
          2029,
          2030,
          2031,
          2032,
          2033,
          2034,
          2035,
          2036,
          2037,
          2038,
          2039,
          2040,
          2041,
          2042,
          2043,
          2044,
          2045,
          2046,
          2047,
          2048,
          2049,
          2050
         ],
         "xaxis": "x",
         "y": [
          692.7148503638709,
          692.7148503638709,
          692.7148503638709,
          692.7148503638709,
          692.7148503638709,
          692.7148503638709,
          683.4786523590193,
          674.2424543541676,
          665.0062563493162,
          655.7700583444646,
          646.5338603396129,
          637.2976623347613,
          628.0614643299097,
          618.825266325058,
          609.5890683202065,
          600.3528703153548,
          591.1166723105032,
          581.8804743056517,
          572.6442763007999,
          563.4080782959484,
          401.55042122700274,
          263.5219997011184,
          188.1268974026194,
          150.76185892017415,
          126.52126262391609,
          102.28066632765803,
          78.10408355964339,
          68.89620496850176,
          66.1960514680705,
          63.495897967639216,
          57.75206917350025,
          50.03797086082113,
          45.0693142060648,
          43.023193947115146,
          40.977073688165504,
          38.731286267931836
         ],
         "yaxis": "y"
        },
        {
         "fillcolor": "red",
         "hoverinfo": "x+y",
         "line": {
          "color": "red",
          "width": 0
         },
         "mode": "lines",
         "name": "MeOH",
         "showlegend": true,
         "stackgroup": "one",
         "type": "scatter",
         "x": [
          2035,
          2036,
          2037,
          2038,
          2039,
          2040,
          2041,
          2042,
          2043
         ],
         "xaxis": "x",
         "y": [
          7.862983546736202,
          13.381251967630966,
          20.379707226245774,
          21.660797571767233,
          16.31493136020256,
          9.831056705094031,
          9.331645017471548,
          2.3103256002342354,
          0.7799683118603898
         ],
         "yaxis": "y"
        },
        {
         "fillcolor": "cyan",
         "hoverinfo": "x+y",
         "line": {
          "color": "cyan",
          "width": 0
         },
         "mode": "lines",
         "name": "Hydrogen",
         "showlegend": false,
         "stackgroup": "one",
         "type": "scatter",
         "x": [
          2031,
          2035,
          2036,
          2037,
          2038,
          2039,
          2040,
          2041,
          2042,
          2043,
          2044,
          2045,
          2046,
          2047,
          2048,
          2049,
          2050
         ],
         "xaxis": "x2",
         "y": [
          0.6890694482191507,
          0.17358967741935302,
          6.697130612223818,
          16.711919617329283,
          21.10916877250197,
          26.433243733904774,
          37.65931057641321,
          46.445904631546554,
          44.802830510017124,
          48.69342056717737,
          47.408576600263586,
          38.04431752911774,
          31.197121294876556,
          22.909006354045932,
          17.950891413215313,
          12.992776472384696,
          4.704661531554072
         ],
         "yaxis": "y2"
        },
        {
         "fillcolor": "purple",
         "hoverinfo": "x+y",
         "line": {
          "color": "purple",
          "width": 0
         },
         "mode": "lines",
         "name": "Gas",
         "showlegend": false,
         "stackgroup": "one",
         "type": "scatter",
         "x": [
          2015,
          2016,
          2017,
          2018,
          2019,
          2020,
          2021,
          2022,
          2023,
          2024,
          2025,
          2026,
          2027,
          2028,
          2029,
          2030,
          2031,
          2032,
          2033,
          2034,
          2035,
          2036,
          2037,
          2038,
          2039,
          2040,
          2041,
          2042,
          2043,
          2044,
          2045,
          2046,
          2047,
          2048,
          2049,
          2050
         ],
         "xaxis": "x2",
         "y": [
          39.27948373781087,
          39.27948373781087,
          39.27948373781087,
          39.27948373781087,
          39.27948373781087,
          39.27948373781087,
          39.35935817342377,
          39.44589078968184,
          39.5324234059399,
          39.61895602219797,
          27.323440740060345,
          25.457800422586015,
          23.582572775735336,
          21.807945019350402,
          20.48271737249972,
          44.05339855782229,
          34.83217452814489,
          29.387116520437527,
          22.97181529111262,
          15.861442471787697,
          4.221634502821269,
          7.493420915288732,
          9.202727403923538,
          9.667208904065074,
          10.35074215911884,
          10.163125414172605,
          5.183938669226365,
          5.090071924280128,
          4.996205179333892,
          4.902338434387657,
          4.499948050014136,
          4.367401434731189,
          4.234854819448245,
          3.4058602787990204,
          2.1014560413148966,
          1.3957597110991753
         ],
         "yaxis": "y2"
        },
        {
         "fillcolor": "black",
         "hoverinfo": "x+y",
         "line": {
          "color": "black",
          "width": 0
         },
         "mode": "lines",
         "name": "Coal",
         "showlegend": false,
         "stackgroup": "one",
         "type": "scatter",
         "x": [
          2015,
          2016,
          2017,
          2018,
          2019,
          2020,
          2021,
          2022,
          2023,
          2024,
          2025,
          2026,
          2027,
          2028,
          2029,
          2030,
          2031,
          2032,
          2033,
          2034,
          2035,
          2036,
          2037,
          2038,
          2039,
          2040,
          2041,
          2042,
          2043,
          2044,
          2045,
          2046,
          2047,
          2048,
          2049,
          2050
         ],
         "xaxis": "x2",
         "y": [
          400.0732957214581,
          400.45278162539626,
          400.7991192435614,
          401.10706517033185,
          401.3698444013438,
          401.5789881811425,
          401.5794104695188,
          401.4995907717133,
          401.3260140095586,
          401.0406600788317,
          386.75831600867446,
          386.4126229233603,
          371.08321679916725,
          362.42145608658404,
          340.4999800562864,
          241.26534212647448,
          240.79358822236358,
          236.94184909297675,
          235.91141609827469,
          221.6934706587239,
          202.62508325166328,
          189.83175563108017,
          167.74442010439338,
          159.95062934771087,
          93.28889212897764,
          102.43718316530894,
          100.37879371477602,
          99.33451914908277,
          96.86916843837288,
          94.00710936148313,
          89.33385786710625,
          86.06595596933606,
          83.39818380922732,
          73.79855495572157,
          62.2740415955927,
          37.726320448207915
         ],
         "yaxis": "y2"
        },
        {
         "fillcolor": "grey",
         "hoverinfo": "x+y",
         "line": {
          "color": "grey",
          "width": 0
         },
         "mode": "lines",
         "name": "Oil",
         "showlegend": false,
         "stackgroup": "one",
         "type": "scatter",
         "x": [
          2015,
          2016,
          2017,
          2018,
          2019,
          2020,
          2021,
          2022,
          2023,
          2024,
          2025,
          2026,
          2027,
          2028,
          2029,
          2030,
          2031,
          2032,
          2033,
          2034,
          2035,
          2036,
          2037,
          2038,
          2039,
          2040,
          2041,
          2042,
          2043,
          2044,
          2045,
          2046,
          2047,
          2048,
          2049,
          2050
         ],
         "xaxis": "x2",
         "y": [
          692.7148503638709,
          692.7148503638709,
          692.7148503638709,
          692.7148503638709,
          692.7148503638709,
          692.7148503638709,
          683.4786523590193,
          674.2424543541676,
          665.0062563493162,
          655.7700583444646,
          646.5338603396129,
          637.2976623347613,
          628.0614643299097,
          618.825266325058,
          609.5890683202065,
          600.3528703153548,
          591.1166723105032,
          581.8804743056517,
          572.6442763007999,
          563.4080782959484,
          399.4148222604431,
          244.6026859670256,
          186.8078125100514,
          145.97921692347077,
          121.3250179056081,
          98.9520134824726,
          72.84382531309197,
          61.6830751259971,
          58.100067279287416,
          54.517059432577724,
          51.00517108529163,
          48.16891853037793,
          45.33266597546424,
          43.023193947115146,
          40.977073688165504,
          38.731286267931836
         ],
         "yaxis": "y2"
        },
        {
         "fillcolor": "red",
         "hoverinfo": "x+y",
         "line": {
          "color": "red",
          "width": 0
         },
         "mode": "lines",
         "name": "MeOH",
         "showlegend": false,
         "stackgroup": "one",
         "type": "scatter",
         "x": [
          2035,
          2036,
          2037,
          2038,
          2039,
          2040,
          2041
         ],
         "xaxis": "x2",
         "y": [
          7.174193393093067,
          11.33034795679145,
          21.021879923313293,
          21.95279350799368,
          16.81332450573133,
          10.747473337291602,
          6.545564210783982
         ],
         "yaxis": "y2"
        },
        {
         "fillcolor": "cyan",
         "hoverinfo": "x+y",
         "line": {
          "color": "cyan",
          "width": 0
         },
         "mode": "lines",
         "name": "Hydrogen",
         "showlegend": false,
         "stackgroup": "one",
         "type": "scatter",
         "x": [
          2031,
          2032,
          2033,
          2035,
          2036,
          2037,
          2038,
          2039,
          2040,
          2041,
          2042,
          2043,
          2044,
          2045,
          2046,
          2047,
          2048,
          2049,
          2050
         ],
         "xaxis": "x3",
         "y": [
          2.4492682944504875,
          1.1766604557408138,
          0.07271532670855435,
          1.8889796792092606,
          6.810469659224369,
          17.667748520266795,
          19.709216804431524,
          25.285134714097453,
          37.63770450757058,
          46.997193812180704,
          45.25126713173809,
          48.69342056717735,
          47.817696495047,
          39.099630920106556,
          31.19712129487655,
          22.909006354045932,
          17.950891413215313,
          12.992776472384689,
          4.7046615315540645
         ],
         "yaxis": "y3"
        },
        {
         "fillcolor": "purple",
         "hoverinfo": "x+y",
         "line": {
          "color": "purple",
          "width": 0
         },
         "mode": "lines",
         "name": "Gas",
         "showlegend": false,
         "stackgroup": "one",
         "type": "scatter",
         "x": [
          2015,
          2016,
          2017,
          2018,
          2019,
          2020,
          2021,
          2022,
          2023,
          2024,
          2025,
          2026,
          2027,
          2028,
          2029,
          2030,
          2031,
          2032,
          2033,
          2034,
          2035,
          2036,
          2037,
          2038,
          2039,
          2040,
          2041,
          2042,
          2043,
          2044,
          2045,
          2046,
          2048
         ],
         "xaxis": "x3",
         "y": [
          47.7665348741745,
          39.27948373781087,
          39.27948373781087,
          39.27948373781087,
          39.27948373781087,
          39.27948373781087,
          39.35935817342377,
          39.44589078968184,
          39.5324234059399,
          39.61895602219797,
          27.32344074006034,
          25.457800422586015,
          23.58257277573534,
          21.807945019350402,
          20.48271737249972,
          45.63269941317431,
          34.51876236793726,
          29.0737043602299,
          22.658403130904997,
          16.243101901580086,
          2.360184877821282,
          6.682744866095153,
          6.4888369409562525,
          6.2920413137958455,
          6.096689537646192,
          5.54244503422381,
          0.9144159853468847,
          0.8128142091972308,
          0.7112124330475772,
          0.6498733292945179,
          0.19948524132098405,
          0.09788346517132929,
          0.13962167472273507
         ],
         "yaxis": "y3"
        },
        {
         "fillcolor": "black",
         "hoverinfo": "x+y",
         "line": {
          "color": "black",
          "width": 0
         },
         "mode": "lines",
         "name": "Coal",
         "showlegend": false,
         "stackgroup": "one",
         "type": "scatter",
         "x": [
          2015,
          2016,
          2017,
          2018,
          2019,
          2020,
          2021,
          2022,
          2023,
          2024,
          2025,
          2026,
          2027,
          2028,
          2029,
          2030,
          2031,
          2032,
          2033,
          2034,
          2035,
          2036,
          2037,
          2038,
          2039,
          2040,
          2041,
          2042,
          2043,
          2044,
          2045,
          2046,
          2047,
          2048,
          2049
         ],
         "xaxis": "x3",
         "y": [
          400.0732957214581,
          400.4542543082844,
          400.80193033480344,
          401.1098762615739,
          401.3726554925858,
          401.5817992723845,
          401.58222156076084,
          401.5024018629553,
          401.32882510080066,
          401.04347117007376,
          386.76112709991645,
          386.41543401460234,
          369.68654225881676,
          361.02478154623356,
          338.128564581285,
          236.29402008522956,
          235.82226618111866,
          231.96733240154796,
          230.93776038278583,
          215.93872942101464,
          200.4701197332855,
          186.47214921465408,
          162.5003667816288,
          154.70177528570764,
          89.52066881092249,
          91.64084559509018,
          86.85575656346015,
          84.10299183460596,
          80.66643714610974,
          75.50251516008949,
          69.20169365464879,
          59.61401731596145,
          48.26855967496094,
          34.28485221391922,
          18.544657937030145
         ],
         "yaxis": "y3"
        },
        {
         "fillcolor": "grey",
         "hoverinfo": "x+y",
         "line": {
          "color": "grey",
          "width": 0
         },
         "mode": "lines",
         "name": "Oil",
         "showlegend": false,
         "stackgroup": "one",
         "type": "scatter",
         "x": [
          2015,
          2016,
          2017,
          2018,
          2019,
          2020,
          2021,
          2022,
          2023,
          2024,
          2025,
          2026,
          2027,
          2028,
          2029,
          2030,
          2031,
          2032,
          2033,
          2034,
          2035,
          2036,
          2037,
          2038,
          2039,
          2040,
          2041,
          2042,
          2043,
          2044,
          2045,
          2046,
          2047,
          2048,
          2049
         ],
         "xaxis": "x3",
         "y": [
          692.7148503638709,
          692.7148503638709,
          692.7148503638709,
          692.7148503638709,
          692.7148503638709,
          692.7148503638709,
          683.4786523590193,
          674.2424543541676,
          665.0062563493162,
          655.7700583444646,
          646.5338603396129,
          637.2976623347613,
          628.0614643299097,
          618.825266325058,
          609.5890683202065,
          600.3528703153548,
          591.1166723105032,
          581.8804743056517,
          572.6442763007999,
          563.4080782959484,
          399.4148222604431,
          244.60268596702565,
          190.14944638775552,
          149.32085080117488,
          124.6666517833122,
          102.29364736017668,
          76.23476815725185,
          65.08851486430206,
          61.554815984048176,
          58.02111710379428,
          52.30971145914582,
          47.68222065178463,
          39.205177243103165,
          28.66406277367739,
          14.332031386838684
         ],
         "yaxis": "y3"
        },
        {
         "fillcolor": "red",
         "hoverinfo": "x+y",
         "line": {
          "color": "red",
          "width": 0
         },
         "mode": "lines",
         "name": "MeOH",
         "showlegend": false,
         "stackgroup": "one",
         "type": "scatter",
         "x": [
          2035,
          2036,
          2037,
          2038,
          2039,
          2040,
          2041,
          2046,
          2047,
          2048,
          2049,
          2050
         ],
         "xaxis": "x3",
         "y": [
          7.174193393093062,
          11.330347956791428,
          19.354328258777702,
          22.113708826632013,
          16.974239824369672,
          10.747473337291597,
          6.545564210783971,
          0.3238624435792654,
          5.4937557630300144,
          8.861779515112987,
          11.081923425113633,
          9.238214798074557
         ],
         "yaxis": "y3"
        }
       ],
       "layout": {
        "annotations": [
         {
          "font": {
           "size": 24
          },
          "showarrow": false,
          "text": "High electricity price",
          "x": 0.14444444444444446,
          "xanchor": "center",
          "xref": "paper",
          "y": 1,
          "yanchor": "bottom",
          "yref": "paper"
         },
         {
          "font": {
           "size": 24
          },
          "showarrow": false,
          "text": "Reference",
          "x": 0.5,
          "xanchor": "center",
          "xref": "paper",
          "y": 1,
          "yanchor": "bottom",
          "yref": "paper"
         },
         {
          "font": {
           "size": 24
          },
          "showarrow": false,
          "text": "Fossil phase-out",
          "x": 0.8555555555555556,
          "xanchor": "center",
          "xref": "paper",
          "y": 1,
          "yanchor": "bottom",
          "yref": "paper"
         }
        ],
        "font": {
         "family": "Times New Roman",
         "size": 24
        },
        "legend": {
         "font": {
          "size": 20
         },
         "orientation": "h",
         "x": 0.75,
         "xanchor": "right",
         "y": 1.1,
         "yanchor": "bottom"
        },
        "template": {
         "data": {
          "bar": [
           {
            "error_x": {
             "color": "#2a3f5f"
            },
            "error_y": {
             "color": "#2a3f5f"
            },
            "marker": {
             "line": {
              "color": "#E5ECF6",
              "width": 0.5
             },
             "pattern": {
              "fillmode": "overlay",
              "size": 10,
              "solidity": 0.2
             }
            },
            "type": "bar"
           }
          ],
          "barpolar": [
           {
            "marker": {
             "line": {
              "color": "#E5ECF6",
              "width": 0.5
             },
             "pattern": {
              "fillmode": "overlay",
              "size": 10,
              "solidity": 0.2
             }
            },
            "type": "barpolar"
           }
          ],
          "carpet": [
           {
            "aaxis": {
             "endlinecolor": "#2a3f5f",
             "gridcolor": "white",
             "linecolor": "white",
             "minorgridcolor": "white",
             "startlinecolor": "#2a3f5f"
            },
            "baxis": {
             "endlinecolor": "#2a3f5f",
             "gridcolor": "white",
             "linecolor": "white",
             "minorgridcolor": "white",
             "startlinecolor": "#2a3f5f"
            },
            "type": "carpet"
           }
          ],
          "choropleth": [
           {
            "colorbar": {
             "outlinewidth": 0,
             "ticks": ""
            },
            "type": "choropleth"
           }
          ],
          "contour": [
           {
            "colorbar": {
             "outlinewidth": 0,
             "ticks": ""
            },
            "colorscale": [
             [
              0,
              "#0d0887"
             ],
             [
              0.1111111111111111,
              "#46039f"
             ],
             [
              0.2222222222222222,
              "#7201a8"
             ],
             [
              0.3333333333333333,
              "#9c179e"
             ],
             [
              0.4444444444444444,
              "#bd3786"
             ],
             [
              0.5555555555555556,
              "#d8576b"
             ],
             [
              0.6666666666666666,
              "#ed7953"
             ],
             [
              0.7777777777777778,
              "#fb9f3a"
             ],
             [
              0.8888888888888888,
              "#fdca26"
             ],
             [
              1,
              "#f0f921"
             ]
            ],
            "type": "contour"
           }
          ],
          "contourcarpet": [
           {
            "colorbar": {
             "outlinewidth": 0,
             "ticks": ""
            },
            "type": "contourcarpet"
           }
          ],
          "heatmap": [
           {
            "colorbar": {
             "outlinewidth": 0,
             "ticks": ""
            },
            "colorscale": [
             [
              0,
              "#0d0887"
             ],
             [
              0.1111111111111111,
              "#46039f"
             ],
             [
              0.2222222222222222,
              "#7201a8"
             ],
             [
              0.3333333333333333,
              "#9c179e"
             ],
             [
              0.4444444444444444,
              "#bd3786"
             ],
             [
              0.5555555555555556,
              "#d8576b"
             ],
             [
              0.6666666666666666,
              "#ed7953"
             ],
             [
              0.7777777777777778,
              "#fb9f3a"
             ],
             [
              0.8888888888888888,
              "#fdca26"
             ],
             [
              1,
              "#f0f921"
             ]
            ],
            "type": "heatmap"
           }
          ],
          "heatmapgl": [
           {
            "colorbar": {
             "outlinewidth": 0,
             "ticks": ""
            },
            "colorscale": [
             [
              0,
              "#0d0887"
             ],
             [
              0.1111111111111111,
              "#46039f"
             ],
             [
              0.2222222222222222,
              "#7201a8"
             ],
             [
              0.3333333333333333,
              "#9c179e"
             ],
             [
              0.4444444444444444,
              "#bd3786"
             ],
             [
              0.5555555555555556,
              "#d8576b"
             ],
             [
              0.6666666666666666,
              "#ed7953"
             ],
             [
              0.7777777777777778,
              "#fb9f3a"
             ],
             [
              0.8888888888888888,
              "#fdca26"
             ],
             [
              1,
              "#f0f921"
             ]
            ],
            "type": "heatmapgl"
           }
          ],
          "histogram": [
           {
            "marker": {
             "pattern": {
              "fillmode": "overlay",
              "size": 10,
              "solidity": 0.2
             }
            },
            "type": "histogram"
           }
          ],
          "histogram2d": [
           {
            "colorbar": {
             "outlinewidth": 0,
             "ticks": ""
            },
            "colorscale": [
             [
              0,
              "#0d0887"
             ],
             [
              0.1111111111111111,
              "#46039f"
             ],
             [
              0.2222222222222222,
              "#7201a8"
             ],
             [
              0.3333333333333333,
              "#9c179e"
             ],
             [
              0.4444444444444444,
              "#bd3786"
             ],
             [
              0.5555555555555556,
              "#d8576b"
             ],
             [
              0.6666666666666666,
              "#ed7953"
             ],
             [
              0.7777777777777778,
              "#fb9f3a"
             ],
             [
              0.8888888888888888,
              "#fdca26"
             ],
             [
              1,
              "#f0f921"
             ]
            ],
            "type": "histogram2d"
           }
          ],
          "histogram2dcontour": [
           {
            "colorbar": {
             "outlinewidth": 0,
             "ticks": ""
            },
            "colorscale": [
             [
              0,
              "#0d0887"
             ],
             [
              0.1111111111111111,
              "#46039f"
             ],
             [
              0.2222222222222222,
              "#7201a8"
             ],
             [
              0.3333333333333333,
              "#9c179e"
             ],
             [
              0.4444444444444444,
              "#bd3786"
             ],
             [
              0.5555555555555556,
              "#d8576b"
             ],
             [
              0.6666666666666666,
              "#ed7953"
             ],
             [
              0.7777777777777778,
              "#fb9f3a"
             ],
             [
              0.8888888888888888,
              "#fdca26"
             ],
             [
              1,
              "#f0f921"
             ]
            ],
            "type": "histogram2dcontour"
           }
          ],
          "mesh3d": [
           {
            "colorbar": {
             "outlinewidth": 0,
             "ticks": ""
            },
            "type": "mesh3d"
           }
          ],
          "parcoords": [
           {
            "line": {
             "colorbar": {
              "outlinewidth": 0,
              "ticks": ""
             }
            },
            "type": "parcoords"
           }
          ],
          "pie": [
           {
            "automargin": true,
            "type": "pie"
           }
          ],
          "scatter": [
           {
            "marker": {
             "colorbar": {
              "outlinewidth": 0,
              "ticks": ""
             }
            },
            "type": "scatter"
           }
          ],
          "scatter3d": [
           {
            "line": {
             "colorbar": {
              "outlinewidth": 0,
              "ticks": ""
             }
            },
            "marker": {
             "colorbar": {
              "outlinewidth": 0,
              "ticks": ""
             }
            },
            "type": "scatter3d"
           }
          ],
          "scattercarpet": [
           {
            "marker": {
             "colorbar": {
              "outlinewidth": 0,
              "ticks": ""
             }
            },
            "type": "scattercarpet"
           }
          ],
          "scattergeo": [
           {
            "marker": {
             "colorbar": {
              "outlinewidth": 0,
              "ticks": ""
             }
            },
            "type": "scattergeo"
           }
          ],
          "scattergl": [
           {
            "marker": {
             "colorbar": {
              "outlinewidth": 0,
              "ticks": ""
             }
            },
            "type": "scattergl"
           }
          ],
          "scattermapbox": [
           {
            "marker": {
             "colorbar": {
              "outlinewidth": 0,
              "ticks": ""
             }
            },
            "type": "scattermapbox"
           }
          ],
          "scatterpolar": [
           {
            "marker": {
             "colorbar": {
              "outlinewidth": 0,
              "ticks": ""
             }
            },
            "type": "scatterpolar"
           }
          ],
          "scatterpolargl": [
           {
            "marker": {
             "colorbar": {
              "outlinewidth": 0,
              "ticks": ""
             }
            },
            "type": "scatterpolargl"
           }
          ],
          "scatterternary": [
           {
            "marker": {
             "colorbar": {
              "outlinewidth": 0,
              "ticks": ""
             }
            },
            "type": "scatterternary"
           }
          ],
          "surface": [
           {
            "colorbar": {
             "outlinewidth": 0,
             "ticks": ""
            },
            "colorscale": [
             [
              0,
              "#0d0887"
             ],
             [
              0.1111111111111111,
              "#46039f"
             ],
             [
              0.2222222222222222,
              "#7201a8"
             ],
             [
              0.3333333333333333,
              "#9c179e"
             ],
             [
              0.4444444444444444,
              "#bd3786"
             ],
             [
              0.5555555555555556,
              "#d8576b"
             ],
             [
              0.6666666666666666,
              "#ed7953"
             ],
             [
              0.7777777777777778,
              "#fb9f3a"
             ],
             [
              0.8888888888888888,
              "#fdca26"
             ],
             [
              1,
              "#f0f921"
             ]
            ],
            "type": "surface"
           }
          ],
          "table": [
           {
            "cells": {
             "fill": {
              "color": "#EBF0F8"
             },
             "line": {
              "color": "white"
             }
            },
            "header": {
             "fill": {
              "color": "#C8D4E3"
             },
             "line": {
              "color": "white"
             }
            },
            "type": "table"
           }
          ]
         },
         "layout": {
          "annotationdefaults": {
           "arrowcolor": "#2a3f5f",
           "arrowhead": 0,
           "arrowwidth": 1
          },
          "autotypenumbers": "strict",
          "coloraxis": {
           "colorbar": {
            "outlinewidth": 0,
            "ticks": ""
           }
          },
          "colorscale": {
           "diverging": [
            [
             0,
             "#8e0152"
            ],
            [
             0.1,
             "#c51b7d"
            ],
            [
             0.2,
             "#de77ae"
            ],
            [
             0.3,
             "#f1b6da"
            ],
            [
             0.4,
             "#fde0ef"
            ],
            [
             0.5,
             "#f7f7f7"
            ],
            [
             0.6,
             "#e6f5d0"
            ],
            [
             0.7,
             "#b8e186"
            ],
            [
             0.8,
             "#7fbc41"
            ],
            [
             0.9,
             "#4d9221"
            ],
            [
             1,
             "#276419"
            ]
           ],
           "sequential": [
            [
             0,
             "#0d0887"
            ],
            [
             0.1111111111111111,
             "#46039f"
            ],
            [
             0.2222222222222222,
             "#7201a8"
            ],
            [
             0.3333333333333333,
             "#9c179e"
            ],
            [
             0.4444444444444444,
             "#bd3786"
            ],
            [
             0.5555555555555556,
             "#d8576b"
            ],
            [
             0.6666666666666666,
             "#ed7953"
            ],
            [
             0.7777777777777778,
             "#fb9f3a"
            ],
            [
             0.8888888888888888,
             "#fdca26"
            ],
            [
             1,
             "#f0f921"
            ]
           ],
           "sequentialminus": [
            [
             0,
             "#0d0887"
            ],
            [
             0.1111111111111111,
             "#46039f"
            ],
            [
             0.2222222222222222,
             "#7201a8"
            ],
            [
             0.3333333333333333,
             "#9c179e"
            ],
            [
             0.4444444444444444,
             "#bd3786"
            ],
            [
             0.5555555555555556,
             "#d8576b"
            ],
            [
             0.6666666666666666,
             "#ed7953"
            ],
            [
             0.7777777777777778,
             "#fb9f3a"
            ],
            [
             0.8888888888888888,
             "#fdca26"
            ],
            [
             1,
             "#f0f921"
            ]
           ]
          },
          "colorway": [
           "#636efa",
           "#EF553B",
           "#00cc96",
           "#ab63fa",
           "#FFA15A",
           "#19d3f3",
           "#FF6692",
           "#B6E880",
           "#FF97FF",
           "#FECB52"
          ],
          "font": {
           "color": "#2a3f5f"
          },
          "geo": {
           "bgcolor": "white",
           "lakecolor": "white",
           "landcolor": "#E5ECF6",
           "showlakes": true,
           "showland": true,
           "subunitcolor": "white"
          },
          "hoverlabel": {
           "align": "left"
          },
          "hovermode": "closest",
          "mapbox": {
           "style": "light"
          },
          "paper_bgcolor": "white",
          "plot_bgcolor": "#E5ECF6",
          "polar": {
           "angularaxis": {
            "gridcolor": "white",
            "linecolor": "white",
            "ticks": ""
           },
           "bgcolor": "#E5ECF6",
           "radialaxis": {
            "gridcolor": "white",
            "linecolor": "white",
            "ticks": ""
           }
          },
          "scene": {
           "xaxis": {
            "backgroundcolor": "#E5ECF6",
            "gridcolor": "white",
            "gridwidth": 2,
            "linecolor": "white",
            "showbackground": true,
            "ticks": "",
            "zerolinecolor": "white"
           },
           "yaxis": {
            "backgroundcolor": "#E5ECF6",
            "gridcolor": "white",
            "gridwidth": 2,
            "linecolor": "white",
            "showbackground": true,
            "ticks": "",
            "zerolinecolor": "white"
           },
           "zaxis": {
            "backgroundcolor": "#E5ECF6",
            "gridcolor": "white",
            "gridwidth": 2,
            "linecolor": "white",
            "showbackground": true,
            "ticks": "",
            "zerolinecolor": "white"
           }
          },
          "shapedefaults": {
           "line": {
            "color": "#2a3f5f"
           }
          },
          "ternary": {
           "aaxis": {
            "gridcolor": "white",
            "linecolor": "white",
            "ticks": ""
           },
           "baxis": {
            "gridcolor": "white",
            "linecolor": "white",
            "ticks": ""
           },
           "bgcolor": "#E5ECF6",
           "caxis": {
            "gridcolor": "white",
            "linecolor": "white",
            "ticks": ""
           }
          },
          "title": {
           "x": 0.05
          },
          "xaxis": {
           "automargin": true,
           "gridcolor": "white",
           "linecolor": "white",
           "ticks": "",
           "title": {
            "standoff": 15
           },
           "zerolinecolor": "white",
           "zerolinewidth": 2
          },
          "yaxis": {
           "automargin": true,
           "gridcolor": "white",
           "linecolor": "white",
           "ticks": "",
           "title": {
            "standoff": 15
           },
           "zerolinecolor": "white",
           "zerolinewidth": 2
          }
         }
        },
        "xaxis": {
         "anchor": "y",
         "domain": [
          0,
          0.2888888888888889
         ]
        },
        "xaxis2": {
         "anchor": "y2",
         "domain": [
          0.35555555555555557,
          0.6444444444444445
         ]
        },
        "xaxis3": {
         "anchor": "y3",
         "domain": [
          0.7111111111111111,
          1
         ]
        },
        "yaxis": {
         "anchor": "x",
         "domain": [
          0,
          1
         ],
         "title": {
          "text": "Energy imports (TWh)"
         }
        },
        "yaxis2": {
         "anchor": "x2",
         "domain": [
          0,
          1
         ],
         "matches": "y",
         "showticklabels": false
        },
        "yaxis3": {
         "anchor": "x3",
         "domain": [
          0,
          1
         ],
         "matches": "y",
         "showticklabels": false
        }
       }
      },
      "text/html": [
       "<div>                            <div id=\"1da87a43-ecd0-4193-b485-dddcc119db85\" class=\"plotly-graph-div\" style=\"height:525px; width:100%;\"></div>            <script type=\"text/javascript\">                require([\"plotly\"], function(Plotly) {                    window.PLOTLYENV=window.PLOTLYENV || {};                                    if (document.getElementById(\"1da87a43-ecd0-4193-b485-dddcc119db85\")) {                    Plotly.newPlot(                        \"1da87a43-ecd0-4193-b485-dddcc119db85\",                        [{\"fillcolor\":\"cyan\",\"hoverinfo\":\"x+y\",\"line\":{\"color\":\"cyan\",\"width\":0},\"mode\":\"lines\",\"name\":\"Hydrogen\",\"showlegend\":true,\"stackgroup\":\"one\",\"type\":\"scatter\",\"x\":[2035,2036,2037,2038,2039,2040,2041,2042,2043,2044,2045,2046,2047,2048,2049,2050],\"xaxis\":\"x\",\"y\":[4.1398645301745205,17.091237100695338,39.616278387166005,59.42102281135645,77.41605356267746,95.19592342133461,107.98674593580282,112.05044533428925,107.74371693765124,92.54875054397013,73.48839823934257,55.11353111203549,30.746162652000876,23.149777131557993,15.553391611115126,7.876903136232847],\"yaxis\":\"y\"},{\"fillcolor\":\"purple\",\"hoverinfo\":\"x+y\",\"line\":{\"color\":\"purple\",\"width\":0},\"mode\":\"lines\",\"name\":\"Gas\",\"showlegend\":true,\"stackgroup\":\"one\",\"type\":\"scatter\",\"x\":[2015,2016,2017,2018,2019,2020,2021,2022,2023,2024,2025,2026,2027,2028,2029,2030,2031,2032,2033,2034,2035,2036,2037,2038,2039,2040,2041,2042,2043,2044,2045,2046,2047,2048,2049,2050],\"xaxis\":\"x\",\"y\":[39.27948373781087,39.27948373781087,39.27948373781087,39.27948373781087,39.27948373781087,39.27948373781087,39.35935817342377,39.44589078968184,39.5324234059399,39.61895602219797,27.32344074006034,25.457800422586015,24.938252475735343,23.163624719350405,21.83839707249972,27.330195133671978,23.917223313144877,21.734621493602297,18.006820264277394,14.279019034952482,5.1963115292190505,7.493420915288731,8.913853525295131,9.938692785114856,10.280920035402659,10.964453290456422,6.8530281657980785,7.194849859102097,7.0612618555712166,6.927673852040331,6.440977194904714,5.47596044995848,4.5109437050122425,3.206539467528115,1.9021352300439909,1.3957597110991753],\"yaxis\":\"y\"},{\"fillcolor\":\"black\",\"hoverinfo\":\"x+y\",\"line\":{\"color\":\"black\",\"width\":0},\"mode\":\"lines\",\"name\":\"Coal\",\"showlegend\":true,\"stackgroup\":\"one\",\"type\":\"scatter\",\"x\":[2015,2016,2017,2018,2019,2020,2021,2022,2023,2024,2025,2026,2027,2028,2029,2030,2031,2032,2033,2034,2035,2036,2037,2038,2039,2040,2041,2042,2043,2044,2045,2046,2047,2048,2049,2050],\"xaxis\":\"x\",\"y\":[400.0732957214581,400.45278162539626,400.7991192435614,401.10706517033185,401.3698444013438,401.5789881811425,401.5794104695188,401.4995907717133,401.3260140095586,401.0406600788317,386.75831600867446,386.4126229233603,372.90076272631745,371.2915020137342,368.7640224147553,344.4326983284878,343.6224244243769,340.30682011600396,335.4982547107089,330.6896893054139,313.452011580412,297.179996934003,269.6448904694849,261.9940085585873,159.4716026134549,168.9798744528796,168.6325109443148,167.60686518276174,165.7314899458591,163.3661894059385,160.65277785749913,157.7290865120693,154.82107269317376,150.6467624528456,142.0989268998978,115.34600461415258],\"yaxis\":\"y\"},{\"fillcolor\":\"grey\",\"hoverinfo\":\"x+y\",\"line\":{\"color\":\"grey\",\"width\":0},\"mode\":\"lines\",\"name\":\"Oil\",\"showlegend\":true,\"stackgroup\":\"one\",\"type\":\"scatter\",\"x\":[2015,2016,2017,2018,2019,2020,2021,2022,2023,2024,2025,2026,2027,2028,2029,2030,2031,2032,2033,2034,2035,2036,2037,2038,2039,2040,2041,2042,2043,2044,2045,2046,2047,2048,2049,2050],\"xaxis\":\"x\",\"y\":[692.7148503638709,692.7148503638709,692.7148503638709,692.7148503638709,692.7148503638709,692.7148503638709,683.4786523590193,674.2424543541676,665.0062563493162,655.7700583444646,646.5338603396129,637.2976623347613,628.0614643299097,618.825266325058,609.5890683202065,600.3528703153548,591.1166723105032,581.8804743056517,572.6442763007999,563.4080782959484,401.55042122700274,263.5219997011184,188.1268974026194,150.76185892017415,126.52126262391609,102.28066632765803,78.10408355964339,68.89620496850176,66.1960514680705,63.495897967639216,57.75206917350025,50.03797086082113,45.0693142060648,43.023193947115146,40.977073688165504,38.731286267931836],\"yaxis\":\"y\"},{\"fillcolor\":\"red\",\"hoverinfo\":\"x+y\",\"line\":{\"color\":\"red\",\"width\":0},\"mode\":\"lines\",\"name\":\"MeOH\",\"showlegend\":true,\"stackgroup\":\"one\",\"type\":\"scatter\",\"x\":[2035,2036,2037,2038,2039,2040,2041,2042,2043],\"xaxis\":\"x\",\"y\":[7.862983546736202,13.381251967630966,20.379707226245774,21.660797571767233,16.31493136020256,9.831056705094031,9.331645017471548,2.3103256002342354,0.7799683118603898],\"yaxis\":\"y\"},{\"fillcolor\":\"cyan\",\"hoverinfo\":\"x+y\",\"line\":{\"color\":\"cyan\",\"width\":0},\"mode\":\"lines\",\"name\":\"Hydrogen\",\"showlegend\":false,\"stackgroup\":\"one\",\"type\":\"scatter\",\"x\":[2031,2035,2036,2037,2038,2039,2040,2041,2042,2043,2044,2045,2046,2047,2048,2049,2050],\"xaxis\":\"x2\",\"y\":[0.6890694482191507,0.17358967741935302,6.697130612223818,16.711919617329283,21.10916877250197,26.433243733904774,37.65931057641321,46.445904631546554,44.802830510017124,48.69342056717737,47.408576600263586,38.04431752911774,31.197121294876556,22.909006354045932,17.950891413215313,12.992776472384696,4.704661531554072],\"yaxis\":\"y2\"},{\"fillcolor\":\"purple\",\"hoverinfo\":\"x+y\",\"line\":{\"color\":\"purple\",\"width\":0},\"mode\":\"lines\",\"name\":\"Gas\",\"showlegend\":false,\"stackgroup\":\"one\",\"type\":\"scatter\",\"x\":[2015,2016,2017,2018,2019,2020,2021,2022,2023,2024,2025,2026,2027,2028,2029,2030,2031,2032,2033,2034,2035,2036,2037,2038,2039,2040,2041,2042,2043,2044,2045,2046,2047,2048,2049,2050],\"xaxis\":\"x2\",\"y\":[39.27948373781087,39.27948373781087,39.27948373781087,39.27948373781087,39.27948373781087,39.27948373781087,39.35935817342377,39.44589078968184,39.5324234059399,39.61895602219797,27.323440740060345,25.457800422586015,23.582572775735336,21.807945019350402,20.48271737249972,44.05339855782229,34.83217452814489,29.387116520437527,22.97181529111262,15.861442471787697,4.221634502821269,7.493420915288732,9.202727403923538,9.667208904065074,10.35074215911884,10.163125414172605,5.183938669226365,5.090071924280128,4.996205179333892,4.902338434387657,4.499948050014136,4.367401434731189,4.234854819448245,3.4058602787990204,2.1014560413148966,1.3957597110991753],\"yaxis\":\"y2\"},{\"fillcolor\":\"black\",\"hoverinfo\":\"x+y\",\"line\":{\"color\":\"black\",\"width\":0},\"mode\":\"lines\",\"name\":\"Coal\",\"showlegend\":false,\"stackgroup\":\"one\",\"type\":\"scatter\",\"x\":[2015,2016,2017,2018,2019,2020,2021,2022,2023,2024,2025,2026,2027,2028,2029,2030,2031,2032,2033,2034,2035,2036,2037,2038,2039,2040,2041,2042,2043,2044,2045,2046,2047,2048,2049,2050],\"xaxis\":\"x2\",\"y\":[400.0732957214581,400.45278162539626,400.7991192435614,401.10706517033185,401.3698444013438,401.5789881811425,401.5794104695188,401.4995907717133,401.3260140095586,401.0406600788317,386.75831600867446,386.4126229233603,371.08321679916725,362.42145608658404,340.4999800562864,241.26534212647448,240.79358822236358,236.94184909297675,235.91141609827469,221.6934706587239,202.62508325166328,189.83175563108017,167.74442010439338,159.95062934771087,93.28889212897764,102.43718316530894,100.37879371477602,99.33451914908277,96.86916843837288,94.00710936148313,89.33385786710625,86.06595596933606,83.39818380922732,73.79855495572157,62.2740415955927,37.726320448207915],\"yaxis\":\"y2\"},{\"fillcolor\":\"grey\",\"hoverinfo\":\"x+y\",\"line\":{\"color\":\"grey\",\"width\":0},\"mode\":\"lines\",\"name\":\"Oil\",\"showlegend\":false,\"stackgroup\":\"one\",\"type\":\"scatter\",\"x\":[2015,2016,2017,2018,2019,2020,2021,2022,2023,2024,2025,2026,2027,2028,2029,2030,2031,2032,2033,2034,2035,2036,2037,2038,2039,2040,2041,2042,2043,2044,2045,2046,2047,2048,2049,2050],\"xaxis\":\"x2\",\"y\":[692.7148503638709,692.7148503638709,692.7148503638709,692.7148503638709,692.7148503638709,692.7148503638709,683.4786523590193,674.2424543541676,665.0062563493162,655.7700583444646,646.5338603396129,637.2976623347613,628.0614643299097,618.825266325058,609.5890683202065,600.3528703153548,591.1166723105032,581.8804743056517,572.6442763007999,563.4080782959484,399.4148222604431,244.6026859670256,186.8078125100514,145.97921692347077,121.3250179056081,98.9520134824726,72.84382531309197,61.6830751259971,58.100067279287416,54.517059432577724,51.00517108529163,48.16891853037793,45.33266597546424,43.023193947115146,40.977073688165504,38.731286267931836],\"yaxis\":\"y2\"},{\"fillcolor\":\"red\",\"hoverinfo\":\"x+y\",\"line\":{\"color\":\"red\",\"width\":0},\"mode\":\"lines\",\"name\":\"MeOH\",\"showlegend\":false,\"stackgroup\":\"one\",\"type\":\"scatter\",\"x\":[2035,2036,2037,2038,2039,2040,2041],\"xaxis\":\"x2\",\"y\":[7.174193393093067,11.33034795679145,21.021879923313293,21.95279350799368,16.81332450573133,10.747473337291602,6.545564210783982],\"yaxis\":\"y2\"},{\"fillcolor\":\"cyan\",\"hoverinfo\":\"x+y\",\"line\":{\"color\":\"cyan\",\"width\":0},\"mode\":\"lines\",\"name\":\"Hydrogen\",\"showlegend\":false,\"stackgroup\":\"one\",\"type\":\"scatter\",\"x\":[2031,2032,2033,2035,2036,2037,2038,2039,2040,2041,2042,2043,2044,2045,2046,2047,2048,2049,2050],\"xaxis\":\"x3\",\"y\":[2.4492682944504875,1.1766604557408138,0.07271532670855435,1.8889796792092606,6.810469659224369,17.667748520266795,19.709216804431524,25.285134714097453,37.63770450757058,46.997193812180704,45.25126713173809,48.69342056717735,47.817696495047,39.099630920106556,31.19712129487655,22.909006354045932,17.950891413215313,12.992776472384689,4.7046615315540645],\"yaxis\":\"y3\"},{\"fillcolor\":\"purple\",\"hoverinfo\":\"x+y\",\"line\":{\"color\":\"purple\",\"width\":0},\"mode\":\"lines\",\"name\":\"Gas\",\"showlegend\":false,\"stackgroup\":\"one\",\"type\":\"scatter\",\"x\":[2015,2016,2017,2018,2019,2020,2021,2022,2023,2024,2025,2026,2027,2028,2029,2030,2031,2032,2033,2034,2035,2036,2037,2038,2039,2040,2041,2042,2043,2044,2045,2046,2048],\"xaxis\":\"x3\",\"y\":[47.7665348741745,39.27948373781087,39.27948373781087,39.27948373781087,39.27948373781087,39.27948373781087,39.35935817342377,39.44589078968184,39.5324234059399,39.61895602219797,27.32344074006034,25.457800422586015,23.58257277573534,21.807945019350402,20.48271737249972,45.63269941317431,34.51876236793726,29.0737043602299,22.658403130904997,16.243101901580086,2.360184877821282,6.682744866095153,6.4888369409562525,6.2920413137958455,6.096689537646192,5.54244503422381,0.9144159853468847,0.8128142091972308,0.7112124330475772,0.6498733292945179,0.19948524132098405,0.09788346517132929,0.13962167472273507],\"yaxis\":\"y3\"},{\"fillcolor\":\"black\",\"hoverinfo\":\"x+y\",\"line\":{\"color\":\"black\",\"width\":0},\"mode\":\"lines\",\"name\":\"Coal\",\"showlegend\":false,\"stackgroup\":\"one\",\"type\":\"scatter\",\"x\":[2015,2016,2017,2018,2019,2020,2021,2022,2023,2024,2025,2026,2027,2028,2029,2030,2031,2032,2033,2034,2035,2036,2037,2038,2039,2040,2041,2042,2043,2044,2045,2046,2047,2048,2049],\"xaxis\":\"x3\",\"y\":[400.0732957214581,400.4542543082844,400.80193033480344,401.1098762615739,401.3726554925858,401.5817992723845,401.58222156076084,401.5024018629553,401.32882510080066,401.04347117007376,386.76112709991645,386.41543401460234,369.68654225881676,361.02478154623356,338.128564581285,236.29402008522956,235.82226618111866,231.96733240154796,230.93776038278583,215.93872942101464,200.4701197332855,186.47214921465408,162.5003667816288,154.70177528570764,89.52066881092249,91.64084559509018,86.85575656346015,84.10299183460596,80.66643714610974,75.50251516008949,69.20169365464879,59.61401731596145,48.26855967496094,34.28485221391922,18.544657937030145],\"yaxis\":\"y3\"},{\"fillcolor\":\"grey\",\"hoverinfo\":\"x+y\",\"line\":{\"color\":\"grey\",\"width\":0},\"mode\":\"lines\",\"name\":\"Oil\",\"showlegend\":false,\"stackgroup\":\"one\",\"type\":\"scatter\",\"x\":[2015,2016,2017,2018,2019,2020,2021,2022,2023,2024,2025,2026,2027,2028,2029,2030,2031,2032,2033,2034,2035,2036,2037,2038,2039,2040,2041,2042,2043,2044,2045,2046,2047,2048,2049],\"xaxis\":\"x3\",\"y\":[692.7148503638709,692.7148503638709,692.7148503638709,692.7148503638709,692.7148503638709,692.7148503638709,683.4786523590193,674.2424543541676,665.0062563493162,655.7700583444646,646.5338603396129,637.2976623347613,628.0614643299097,618.825266325058,609.5890683202065,600.3528703153548,591.1166723105032,581.8804743056517,572.6442763007999,563.4080782959484,399.4148222604431,244.60268596702565,190.14944638775552,149.32085080117488,124.6666517833122,102.29364736017668,76.23476815725185,65.08851486430206,61.554815984048176,58.02111710379428,52.30971145914582,47.68222065178463,39.205177243103165,28.66406277367739,14.332031386838684],\"yaxis\":\"y3\"},{\"fillcolor\":\"red\",\"hoverinfo\":\"x+y\",\"line\":{\"color\":\"red\",\"width\":0},\"mode\":\"lines\",\"name\":\"MeOH\",\"showlegend\":false,\"stackgroup\":\"one\",\"type\":\"scatter\",\"x\":[2035,2036,2037,2038,2039,2040,2041,2046,2047,2048,2049,2050],\"xaxis\":\"x3\",\"y\":[7.174193393093062,11.330347956791428,19.354328258777702,22.113708826632013,16.974239824369672,10.747473337291597,6.545564210783971,0.3238624435792654,5.4937557630300144,8.861779515112987,11.081923425113633,9.238214798074557],\"yaxis\":\"y3\"}],                        {\"annotations\":[{\"font\":{\"size\":24},\"showarrow\":false,\"text\":\"High electricity price\",\"x\":0.14444444444444446,\"xanchor\":\"center\",\"xref\":\"paper\",\"y\":1.0,\"yanchor\":\"bottom\",\"yref\":\"paper\"},{\"font\":{\"size\":24},\"showarrow\":false,\"text\":\"Reference\",\"x\":0.5,\"xanchor\":\"center\",\"xref\":\"paper\",\"y\":1.0,\"yanchor\":\"bottom\",\"yref\":\"paper\"},{\"font\":{\"size\":24},\"showarrow\":false,\"text\":\"Fossil phase-out\",\"x\":0.8555555555555556,\"xanchor\":\"center\",\"xref\":\"paper\",\"y\":1.0,\"yanchor\":\"bottom\",\"yref\":\"paper\"}],\"font\":{\"family\":\"Times New Roman\",\"size\":24},\"legend\":{\"font\":{\"size\":20},\"orientation\":\"h\",\"x\":0.75,\"xanchor\":\"right\",\"y\":1.1,\"yanchor\":\"bottom\"},\"template\":{\"data\":{\"bar\":[{\"error_x\":{\"color\":\"#2a3f5f\"},\"error_y\":{\"color\":\"#2a3f5f\"},\"marker\":{\"line\":{\"color\":\"#E5ECF6\",\"width\":0.5},\"pattern\":{\"fillmode\":\"overlay\",\"size\":10,\"solidity\":0.2}},\"type\":\"bar\"}],\"barpolar\":[{\"marker\":{\"line\":{\"color\":\"#E5ECF6\",\"width\":0.5},\"pattern\":{\"fillmode\":\"overlay\",\"size\":10,\"solidity\":0.2}},\"type\":\"barpolar\"}],\"carpet\":[{\"aaxis\":{\"endlinecolor\":\"#2a3f5f\",\"gridcolor\":\"white\",\"linecolor\":\"white\",\"minorgridcolor\":\"white\",\"startlinecolor\":\"#2a3f5f\"},\"baxis\":{\"endlinecolor\":\"#2a3f5f\",\"gridcolor\":\"white\",\"linecolor\":\"white\",\"minorgridcolor\":\"white\",\"startlinecolor\":\"#2a3f5f\"},\"type\":\"carpet\"}],\"choropleth\":[{\"colorbar\":{\"outlinewidth\":0,\"ticks\":\"\"},\"type\":\"choropleth\"}],\"contour\":[{\"colorbar\":{\"outlinewidth\":0,\"ticks\":\"\"},\"colorscale\":[[0.0,\"#0d0887\"],[0.1111111111111111,\"#46039f\"],[0.2222222222222222,\"#7201a8\"],[0.3333333333333333,\"#9c179e\"],[0.4444444444444444,\"#bd3786\"],[0.5555555555555556,\"#d8576b\"],[0.6666666666666666,\"#ed7953\"],[0.7777777777777778,\"#fb9f3a\"],[0.8888888888888888,\"#fdca26\"],[1.0,\"#f0f921\"]],\"type\":\"contour\"}],\"contourcarpet\":[{\"colorbar\":{\"outlinewidth\":0,\"ticks\":\"\"},\"type\":\"contourcarpet\"}],\"heatmap\":[{\"colorbar\":{\"outlinewidth\":0,\"ticks\":\"\"},\"colorscale\":[[0.0,\"#0d0887\"],[0.1111111111111111,\"#46039f\"],[0.2222222222222222,\"#7201a8\"],[0.3333333333333333,\"#9c179e\"],[0.4444444444444444,\"#bd3786\"],[0.5555555555555556,\"#d8576b\"],[0.6666666666666666,\"#ed7953\"],[0.7777777777777778,\"#fb9f3a\"],[0.8888888888888888,\"#fdca26\"],[1.0,\"#f0f921\"]],\"type\":\"heatmap\"}],\"heatmapgl\":[{\"colorbar\":{\"outlinewidth\":0,\"ticks\":\"\"},\"colorscale\":[[0.0,\"#0d0887\"],[0.1111111111111111,\"#46039f\"],[0.2222222222222222,\"#7201a8\"],[0.3333333333333333,\"#9c179e\"],[0.4444444444444444,\"#bd3786\"],[0.5555555555555556,\"#d8576b\"],[0.6666666666666666,\"#ed7953\"],[0.7777777777777778,\"#fb9f3a\"],[0.8888888888888888,\"#fdca26\"],[1.0,\"#f0f921\"]],\"type\":\"heatmapgl\"}],\"histogram\":[{\"marker\":{\"pattern\":{\"fillmode\":\"overlay\",\"size\":10,\"solidity\":0.2}},\"type\":\"histogram\"}],\"histogram2d\":[{\"colorbar\":{\"outlinewidth\":0,\"ticks\":\"\"},\"colorscale\":[[0.0,\"#0d0887\"],[0.1111111111111111,\"#46039f\"],[0.2222222222222222,\"#7201a8\"],[0.3333333333333333,\"#9c179e\"],[0.4444444444444444,\"#bd3786\"],[0.5555555555555556,\"#d8576b\"],[0.6666666666666666,\"#ed7953\"],[0.7777777777777778,\"#fb9f3a\"],[0.8888888888888888,\"#fdca26\"],[1.0,\"#f0f921\"]],\"type\":\"histogram2d\"}],\"histogram2dcontour\":[{\"colorbar\":{\"outlinewidth\":0,\"ticks\":\"\"},\"colorscale\":[[0.0,\"#0d0887\"],[0.1111111111111111,\"#46039f\"],[0.2222222222222222,\"#7201a8\"],[0.3333333333333333,\"#9c179e\"],[0.4444444444444444,\"#bd3786\"],[0.5555555555555556,\"#d8576b\"],[0.6666666666666666,\"#ed7953\"],[0.7777777777777778,\"#fb9f3a\"],[0.8888888888888888,\"#fdca26\"],[1.0,\"#f0f921\"]],\"type\":\"histogram2dcontour\"}],\"mesh3d\":[{\"colorbar\":{\"outlinewidth\":0,\"ticks\":\"\"},\"type\":\"mesh3d\"}],\"parcoords\":[{\"line\":{\"colorbar\":{\"outlinewidth\":0,\"ticks\":\"\"}},\"type\":\"parcoords\"}],\"pie\":[{\"automargin\":true,\"type\":\"pie\"}],\"scatter\":[{\"marker\":{\"colorbar\":{\"outlinewidth\":0,\"ticks\":\"\"}},\"type\":\"scatter\"}],\"scatter3d\":[{\"line\":{\"colorbar\":{\"outlinewidth\":0,\"ticks\":\"\"}},\"marker\":{\"colorbar\":{\"outlinewidth\":0,\"ticks\":\"\"}},\"type\":\"scatter3d\"}],\"scattercarpet\":[{\"marker\":{\"colorbar\":{\"outlinewidth\":0,\"ticks\":\"\"}},\"type\":\"scattercarpet\"}],\"scattergeo\":[{\"marker\":{\"colorbar\":{\"outlinewidth\":0,\"ticks\":\"\"}},\"type\":\"scattergeo\"}],\"scattergl\":[{\"marker\":{\"colorbar\":{\"outlinewidth\":0,\"ticks\":\"\"}},\"type\":\"scattergl\"}],\"scattermapbox\":[{\"marker\":{\"colorbar\":{\"outlinewidth\":0,\"ticks\":\"\"}},\"type\":\"scattermapbox\"}],\"scatterpolar\":[{\"marker\":{\"colorbar\":{\"outlinewidth\":0,\"ticks\":\"\"}},\"type\":\"scatterpolar\"}],\"scatterpolargl\":[{\"marker\":{\"colorbar\":{\"outlinewidth\":0,\"ticks\":\"\"}},\"type\":\"scatterpolargl\"}],\"scatterternary\":[{\"marker\":{\"colorbar\":{\"outlinewidth\":0,\"ticks\":\"\"}},\"type\":\"scatterternary\"}],\"surface\":[{\"colorbar\":{\"outlinewidth\":0,\"ticks\":\"\"},\"colorscale\":[[0.0,\"#0d0887\"],[0.1111111111111111,\"#46039f\"],[0.2222222222222222,\"#7201a8\"],[0.3333333333333333,\"#9c179e\"],[0.4444444444444444,\"#bd3786\"],[0.5555555555555556,\"#d8576b\"],[0.6666666666666666,\"#ed7953\"],[0.7777777777777778,\"#fb9f3a\"],[0.8888888888888888,\"#fdca26\"],[1.0,\"#f0f921\"]],\"type\":\"surface\"}],\"table\":[{\"cells\":{\"fill\":{\"color\":\"#EBF0F8\"},\"line\":{\"color\":\"white\"}},\"header\":{\"fill\":{\"color\":\"#C8D4E3\"},\"line\":{\"color\":\"white\"}},\"type\":\"table\"}]},\"layout\":{\"annotationdefaults\":{\"arrowcolor\":\"#2a3f5f\",\"arrowhead\":0,\"arrowwidth\":1},\"autotypenumbers\":\"strict\",\"coloraxis\":{\"colorbar\":{\"outlinewidth\":0,\"ticks\":\"\"}},\"colorscale\":{\"diverging\":[[0,\"#8e0152\"],[0.1,\"#c51b7d\"],[0.2,\"#de77ae\"],[0.3,\"#f1b6da\"],[0.4,\"#fde0ef\"],[0.5,\"#f7f7f7\"],[0.6,\"#e6f5d0\"],[0.7,\"#b8e186\"],[0.8,\"#7fbc41\"],[0.9,\"#4d9221\"],[1,\"#276419\"]],\"sequential\":[[0.0,\"#0d0887\"],[0.1111111111111111,\"#46039f\"],[0.2222222222222222,\"#7201a8\"],[0.3333333333333333,\"#9c179e\"],[0.4444444444444444,\"#bd3786\"],[0.5555555555555556,\"#d8576b\"],[0.6666666666666666,\"#ed7953\"],[0.7777777777777778,\"#fb9f3a\"],[0.8888888888888888,\"#fdca26\"],[1.0,\"#f0f921\"]],\"sequentialminus\":[[0.0,\"#0d0887\"],[0.1111111111111111,\"#46039f\"],[0.2222222222222222,\"#7201a8\"],[0.3333333333333333,\"#9c179e\"],[0.4444444444444444,\"#bd3786\"],[0.5555555555555556,\"#d8576b\"],[0.6666666666666666,\"#ed7953\"],[0.7777777777777778,\"#fb9f3a\"],[0.8888888888888888,\"#fdca26\"],[1.0,\"#f0f921\"]]},\"colorway\":[\"#636efa\",\"#EF553B\",\"#00cc96\",\"#ab63fa\",\"#FFA15A\",\"#19d3f3\",\"#FF6692\",\"#B6E880\",\"#FF97FF\",\"#FECB52\"],\"font\":{\"color\":\"#2a3f5f\"},\"geo\":{\"bgcolor\":\"white\",\"lakecolor\":\"white\",\"landcolor\":\"#E5ECF6\",\"showlakes\":true,\"showland\":true,\"subunitcolor\":\"white\"},\"hoverlabel\":{\"align\":\"left\"},\"hovermode\":\"closest\",\"mapbox\":{\"style\":\"light\"},\"paper_bgcolor\":\"white\",\"plot_bgcolor\":\"#E5ECF6\",\"polar\":{\"angularaxis\":{\"gridcolor\":\"white\",\"linecolor\":\"white\",\"ticks\":\"\"},\"bgcolor\":\"#E5ECF6\",\"radialaxis\":{\"gridcolor\":\"white\",\"linecolor\":\"white\",\"ticks\":\"\"}},\"scene\":{\"xaxis\":{\"backgroundcolor\":\"#E5ECF6\",\"gridcolor\":\"white\",\"gridwidth\":2,\"linecolor\":\"white\",\"showbackground\":true,\"ticks\":\"\",\"zerolinecolor\":\"white\"},\"yaxis\":{\"backgroundcolor\":\"#E5ECF6\",\"gridcolor\":\"white\",\"gridwidth\":2,\"linecolor\":\"white\",\"showbackground\":true,\"ticks\":\"\",\"zerolinecolor\":\"white\"},\"zaxis\":{\"backgroundcolor\":\"#E5ECF6\",\"gridcolor\":\"white\",\"gridwidth\":2,\"linecolor\":\"white\",\"showbackground\":true,\"ticks\":\"\",\"zerolinecolor\":\"white\"}},\"shapedefaults\":{\"line\":{\"color\":\"#2a3f5f\"}},\"ternary\":{\"aaxis\":{\"gridcolor\":\"white\",\"linecolor\":\"white\",\"ticks\":\"\"},\"baxis\":{\"gridcolor\":\"white\",\"linecolor\":\"white\",\"ticks\":\"\"},\"bgcolor\":\"#E5ECF6\",\"caxis\":{\"gridcolor\":\"white\",\"linecolor\":\"white\",\"ticks\":\"\"}},\"title\":{\"x\":0.05},\"xaxis\":{\"automargin\":true,\"gridcolor\":\"white\",\"linecolor\":\"white\",\"ticks\":\"\",\"title\":{\"standoff\":15},\"zerolinecolor\":\"white\",\"zerolinewidth\":2},\"yaxis\":{\"automargin\":true,\"gridcolor\":\"white\",\"linecolor\":\"white\",\"ticks\":\"\",\"title\":{\"standoff\":15},\"zerolinecolor\":\"white\",\"zerolinewidth\":2}}},\"xaxis\":{\"anchor\":\"y\",\"domain\":[0.0,0.2888888888888889]},\"xaxis2\":{\"anchor\":\"y2\",\"domain\":[0.35555555555555557,0.6444444444444445]},\"xaxis3\":{\"anchor\":\"y3\",\"domain\":[0.7111111111111111,1.0]},\"yaxis\":{\"anchor\":\"x\",\"domain\":[0.0,1.0],\"title\":{\"text\":\"Energy imports (TWh)\"}},\"yaxis2\":{\"anchor\":\"x2\",\"domain\":[0.0,1.0],\"matches\":\"y\",\"showticklabels\":false},\"yaxis3\":{\"anchor\":\"x3\",\"domain\":[0.0,1.0],\"matches\":\"y\",\"showticklabels\":false}},                        {\"responsive\": true}                    ).then(function(){\n",
       "                            \n",
       "var gd = document.getElementById('1da87a43-ecd0-4193-b485-dddcc119db85');\n",
       "var x = new MutationObserver(function (mutations, observer) {{\n",
       "        var display = window.getComputedStyle(gd).display;\n",
       "        if (!display || display === 'none') {{\n",
       "            console.log([gd, 'removed!']);\n",
       "            Plotly.purge(gd);\n",
       "            observer.disconnect();\n",
       "        }}\n",
       "}});\n",
       "\n",
       "// Listen for the removal of the full notebook cells\n",
       "var notebookContainer = gd.closest('#notebook-container');\n",
       "if (notebookContainer) {{\n",
       "    x.observe(notebookContainer, {childList: true});\n",
       "}}\n",
       "\n",
       "// Listen for the clearing of the current output cell\n",
       "var outputEl = gd.closest('.output');\n",
       "if (outputEl) {{\n",
       "    x.observe(outputEl, {childList: true});\n",
       "}}\n",
       "\n",
       "                        })                };                });            </script>        </div>"
      ]
     },
     "metadata": {},
     "output_type": "display_data"
    }
   ],
   "source": [
    "fig =make_subplots(rows=1, cols=3,subplot_titles=list(scen.keys()),shared_yaxes=True)\n",
    "for i in range(len(scen.keys())):\n",
    "    showlegend=[True,False,False]\n",
    "    resource_flow=scen[list(scen.keys())[i]]['resource_flow']\n",
    "    r_flow=resource_flow.drop([\"Sector\",\"Country\"],axis=1).groupby(by=[\"Resource\",\"Year\"]).sum().reset_index()\n",
    "    for resource in primary_resource_conversion.keys():\n",
    "        if resource not in [\"Olefins\",\"Ammonia\",\"Naphtha\",\"CO\",\"Electricity\",\"Biomass\",\"Waste\"]:\n",
    "            fig.add_trace(go.Scatter(x=r_flow[(r_flow.Resource==resource) & (r_flow.Flow>0)].Year,y=r_flow[(r_flow.Resource==resource) & (r_flow.Flow>0)].Flow,name=resource,\n",
    "                                 line=dict(width=0,color=primary_resource_color[resource]),\n",
    "                                 fillcolor=primary_resource_color[resource],hoverinfo=\"x+y\",mode='lines',stackgroup='one',showlegend=showlegend[i]),row=1, col=i+1)\n",
    "    \n",
    "#     fig.update_xaxes(title_text=\"Year\", row=1, col=i+1)\n",
    "    \n",
    "fig.update_layout(#title='Energy imports in EU-5+1', title_x=0.5,\n",
    "                   yaxis_title='Energy imports (TWh)')\n",
    "fig.update_layout(\n",
    "    font=dict(\n",
    "        family=\"Times New Roman\",size=24)\n",
    "    )\n",
    "fig.update_annotations(font_size=24)\n",
    "fig.update_layout(legend=dict(\n",
    "    orientation=\"h\",\n",
    "    yanchor=\"bottom\",\n",
    "    y=1.1,\n",
    "    xanchor=\"right\",\n",
    "    x=0.75,font = dict(size=20)\n",
    "))"
   ]
  },
  {
   "cell_type": "code",
   "execution_count": 64,
   "id": "7a60a101",
   "metadata": {},
   "outputs": [
    {
     "data": {
      "application/vnd.plotly.v1+json": {
       "config": {
        "plotlyServerURL": "https://plot.ly"
       },
       "data": [
        {
         "fillcolor": "green",
         "hoverinfo": "x+y",
         "line": {
          "color": "green",
          "width": 0
         },
         "mode": "lines",
         "name": "Electrolyser",
         "showlegend": true,
         "stackgroup": "one",
         "type": "scatter",
         "x": [
          2015,
          2016,
          2017,
          2018,
          2019,
          2020,
          2021,
          2022,
          2023,
          2024,
          2025,
          2026,
          2027,
          2028,
          2029,
          2030,
          2031,
          2032,
          2033,
          2034,
          2035,
          2036,
          2037,
          2038,
          2039,
          2040,
          2041,
          2042,
          2043,
          2044,
          2045,
          2046,
          2047,
          2048,
          2049,
          2050
         ],
         "xaxis": "x",
         "y": [
          0,
          0,
          0,
          0,
          0,
          0,
          0,
          0,
          0,
          0,
          0,
          0,
          0,
          0,
          0,
          0.102,
          0.029727735956185348,
          0.05450826725706274,
          0.10450826725706269,
          0.1545082672570627,
          0.5814089851752937,
          0.5764384866845934,
          0.5120986451003354,
          0.46488295814116976,
          0.43938295814116984,
          0.4843180119046106,
          0.5343180119046107,
          0.6103746908841071,
          0.960374690884107,
          1.3835229109499791,
          1.382570460288811,
          1.4054591955153135,
          1.6459173208215985,
          1.4682079041776306,
          1.4437552754321281,
          1.62573254397042
         ],
         "yaxis": "y"
        },
        {
         "fillcolor": "black",
         "hoverinfo": "x+y",
         "line": {
          "color": "black",
          "width": 0
         },
         "mode": "lines",
         "name": "SMR",
         "showlegend": true,
         "stackgroup": "one",
         "type": "scatter",
         "x": [
          2015,
          2016,
          2017,
          2018,
          2019,
          2020,
          2021,
          2022,
          2023,
          2024,
          2025,
          2026,
          2027,
          2028,
          2029,
          2030,
          2031,
          2032,
          2033,
          2034,
          2035,
          2036,
          2037,
          2038,
          2039,
          2040,
          2041,
          2042,
          2043,
          2044,
          2045,
          2046,
          2047,
          2048,
          2049,
          2050
         ],
         "xaxis": "x",
         "y": [
          0.7718755466195316,
          0.7718755466195316,
          0.7718755466195316,
          0.7718755466195316,
          0.7718755466195316,
          0.7718755466195316,
          0.7739044498453381,
          0.7761010950066284,
          0.7782977401679188,
          0.780494385329209,
          0.676742066733178,
          0.6819476554705687,
          0.6871532442079592,
          0.6923588329453497,
          0.6975644216827401,
          0.7457508064625726,
          0.7479474516238628,
          0.7247049192518408,
          0.670503291494386,
          0.6163016637369311,
          0.7258759924306311,
          1.190581069520988,
          1.1953764148798283,
          1.189865852018117,
          1.1858521761782908,
          1.1590100596049004,
          1.1709582469472641,
          1.1841240366764696,
          1.1844684017171077,
          1.2083449705392713,
          1.309177193106288,
          1.425656229125066,
          1.4941812913393813,
          1.536461915065057,
          1.5472939615900576,
          1.5745256943486123
         ],
         "yaxis": "y"
        },
        {
         "fillcolor": "firebrick",
         "hoverinfo": "x+y",
         "line": {
          "color": "firebrick",
          "width": 0
         },
         "mode": "lines",
         "name": "Gasification",
         "showlegend": true,
         "stackgroup": "one",
         "type": "scatter",
         "x": [
          2015,
          2016,
          2017,
          2018,
          2019,
          2020,
          2021,
          2022,
          2023,
          2024,
          2025,
          2026,
          2027,
          2028,
          2029,
          2030,
          2031,
          2032,
          2033,
          2034,
          2035,
          2036,
          2037,
          2038,
          2039,
          2040,
          2041,
          2042,
          2043,
          2044,
          2045,
          2046,
          2047,
          2048,
          2049,
          2050
         ],
         "xaxis": "x",
         "y": [
          0,
          0,
          0,
          0,
          0,
          0,
          0,
          0,
          0,
          0,
          0.016777167796712462,
          0.016300697338891838,
          0.015824226881071164,
          0.01534775642325054,
          0.01487128596542991,
          0.014871285965429908,
          0.01487128596542991,
          0.018899615596518444,
          0.027830361633543157,
          0.036761107670567894,
          0.12244683456014384,
          0.033999219196617865,
          0,
          0,
          0,
          -5.048709793414475e-35,
          -5.872774021198672e-60,
          -1.7936620347794864e-49,
          -3.404434290109383e-58,
          -2.2838565637994834e-59,
          -2.936387010599336e-60,
          3.3931583233592325e-59,
          5.882328425788474e-60,
          -5.872774021198672e-60,
          8.917444283815772e-61,
          1.8923382957195721e-59
         ],
         "yaxis": "y"
        },
        {
         "fillcolor": "turquoise",
         "hoverinfo": "x+y",
         "line": {
          "color": "turquoise",
          "width": 0
         },
         "mode": "lines",
         "name": "Pyrolysis",
         "showlegend": true,
         "stackgroup": "one",
         "type": "scatter",
         "x": [
          2015,
          2016,
          2017,
          2018,
          2019,
          2020,
          2021,
          2022,
          2023,
          2024,
          2025,
          2026,
          2027,
          2028,
          2029,
          2030,
          2031,
          2032,
          2033,
          2034,
          2035,
          2036,
          2037,
          2038,
          2039,
          2040,
          2041,
          2042,
          2043,
          2044,
          2045,
          2046,
          2047,
          2048,
          2049,
          2050
         ],
         "xaxis": "x",
         "y": [
          0,
          0,
          0,
          0,
          0,
          0,
          0,
          0,
          0,
          0,
          0,
          0,
          0,
          0,
          0,
          0,
          0,
          0,
          0,
          0,
          0,
          0,
          0,
          0,
          0,
          -2.628653314917282e-17,
          -1.3972120797089697e-17,
          2.2581618980171836e-18,
          -6.890721518206441e-58,
          8.143579976062158e-58,
          -7.27595761418343e-18,
          2.968590706586836e-18,
          2.9685907065868266e-18,
          1.4825135321095918e-18,
          -2.7605073753267845e-60,
          -5.3058352252067836e-18
         ],
         "yaxis": "y"
        },
        {
         "fillcolor": "beige",
         "hoverinfo": "x+y",
         "line": {
          "color": "beige",
          "width": 0
         },
         "mode": "lines",
         "name": "Naphta cracking",
         "showlegend": true,
         "stackgroup": "one",
         "type": "scatter",
         "x": [
          2015,
          2016,
          2017,
          2018,
          2019,
          2020,
          2021,
          2022,
          2023,
          2024,
          2025,
          2026,
          2027,
          2028,
          2029,
          2030,
          2031,
          2032,
          2033,
          2034,
          2035,
          2036,
          2037,
          2038,
          2039,
          2040,
          2041,
          2042,
          2043,
          2044,
          2045,
          2046,
          2047,
          2048,
          2049,
          2050
         ],
         "xaxis": "x",
         "y": [
          0.43107096774193543,
          0.43107096774193543,
          0.43107096774193543,
          0.43107096774193543,
          0.43107096774193543,
          0.43107096774193543,
          0.4253233548387097,
          0.41957574193548386,
          0.413828129032258,
          0.40808051612903223,
          0.4023329032258064,
          0.39658529032258066,
          0.3908376774193548,
          0.38509006451612904,
          0.37934245161290325,
          0.3735948387096774,
          0.3678472258064516,
          0.3620996129032258,
          0.356352,
          0.35060438709677416,
          0.2932438709677419,
          0.25570107109428236,
          0.21665852307340264,
          0.18750384169693413,
          0.16808329626213855,
          0.1485396561028904,
          0.12903560298821756,
          0.12232015066637117,
          0.10932070902883691,
          0.10433773832116829,
          0.09739069591457447,
          0.09013059743582148,
          0.08527608109371528,
          0.07936737861634097,
          0.07657847981142069,
          0.07375087400270974
         ],
         "yaxis": "y"
        },
        {
         "fillcolor": "green",
         "hoverinfo": "x+y",
         "line": {
          "color": "green",
          "width": 0
         },
         "mode": "lines",
         "name": "Electrolyser",
         "showlegend": false,
         "stackgroup": "one",
         "type": "scatter",
         "x": [
          2015,
          2016,
          2017,
          2018,
          2019,
          2020,
          2021,
          2022,
          2023,
          2024,
          2025,
          2026,
          2027,
          2028,
          2029,
          2030,
          2031,
          2032,
          2033,
          2034,
          2035,
          2036,
          2037,
          2038,
          2039,
          2040,
          2041,
          2042,
          2043,
          2044,
          2045,
          2046,
          2047,
          2048,
          2049,
          2050
         ],
         "xaxis": "x2",
         "y": [
          0,
          0,
          0,
          0,
          0,
          0,
          0,
          0,
          0,
          0,
          -1.0231815394945442e-17,
          0,
          0,
          0,
          0,
          0.102,
          0,
          0.06420374651199935,
          0.11420374651199938,
          0.1654114316676117,
          0.7524102674261489,
          1.0534621422254014,
          1.4703639057314066,
          1.8890944889000234,
          2.2231878536926035,
          2.359221063958865,
          2.615716297515048,
          2.9217285485222484,
          2.9227470431459035,
          2.877294779811456,
          2.6120768037817648,
          2.4921041019969117,
          2.3639928741205343,
          2.1787823652061764,
          2.055068120187827,
          2.319230661394767
         ],
         "yaxis": "y2"
        },
        {
         "fillcolor": "black",
         "hoverinfo": "x+y",
         "line": {
          "color": "black",
          "width": 0
         },
         "mode": "lines",
         "name": "SMR",
         "showlegend": false,
         "stackgroup": "one",
         "type": "scatter",
         "x": [
          2015,
          2016,
          2017,
          2018,
          2019,
          2020,
          2021,
          2022,
          2023,
          2024,
          2025,
          2026,
          2027,
          2028,
          2029,
          2030,
          2031,
          2032,
          2033,
          2034,
          2035,
          2036,
          2037,
          2038,
          2039,
          2040,
          2041,
          2042,
          2043,
          2044,
          2045,
          2046,
          2047,
          2048,
          2049,
          2050
         ],
         "xaxis": "x2",
         "y": [
          0.7718755466195316,
          0.7718755466195316,
          0.7718755466195316,
          0.7718755466195316,
          0.7718755466195316,
          0.7718755466195316,
          0.7739044498453381,
          0.7761010950066284,
          0.7782977401679188,
          0.780494385329209,
          0.676742066733178,
          0.6819476554705687,
          0.6871532442079592,
          0.6923588329453497,
          0.6975644216827401,
          1.6093030821867866,
          1.611499727348077,
          1.5767375662736687,
          1.5225359385162138,
          1.4496154374843344,
          1.5736710771523736,
          1.884468279089748,
          1.9126565525151378,
          1.9004395651356412,
          1.8889391646613132,
          1.8781028722758542,
          1.8804813216616312,
          1.9086128506719007,
          1.9371078607478618,
          1.9792682529861332,
          1.9782377033723944,
          1.4764914151344288,
          1.2266713454012168,
          1.2804510420021116,
          1.354285303010824,
          1.3639032067673007
         ],
         "yaxis": "y2"
        },
        {
         "fillcolor": "firebrick",
         "hoverinfo": "x+y",
         "line": {
          "color": "firebrick",
          "width": 0
         },
         "mode": "lines",
         "name": "Gasification",
         "showlegend": false,
         "stackgroup": "one",
         "type": "scatter",
         "x": [
          2015,
          2016,
          2017,
          2018,
          2019,
          2020,
          2021,
          2022,
          2023,
          2024,
          2025,
          2026,
          2027,
          2028,
          2029,
          2030,
          2031,
          2032,
          2033,
          2034,
          2035,
          2036,
          2037,
          2038,
          2039,
          2040,
          2041,
          2042,
          2043,
          2044,
          2045,
          2046,
          2047,
          2048,
          2049,
          2050
         ],
         "xaxis": "x2",
         "y": [
          0,
          0,
          0,
          0,
          0,
          0,
          0,
          0,
          0,
          0,
          0.016777167796712473,
          0.016300697338891824,
          0.015824226881071168,
          0.015347756423250543,
          0.014871285965429906,
          0.014871285965429913,
          0.014871285965429911,
          0.020723765043967845,
          0.029654511080992565,
          0.03858525711801729,
          0.08763274437986028,
          0.026507602301929403,
          0,
          0,
          0,
          0,
          0,
          0,
          0,
          0,
          0,
          0,
          0,
          0,
          0,
          0
         ],
         "yaxis": "y2"
        },
        {
         "fillcolor": "turquoise",
         "hoverinfo": "x+y",
         "line": {
          "color": "turquoise",
          "width": 0
         },
         "mode": "lines",
         "name": "Pyrolysis",
         "showlegend": false,
         "stackgroup": "one",
         "type": "scatter",
         "x": [
          2015,
          2016,
          2017,
          2018,
          2019,
          2020,
          2021,
          2022,
          2023,
          2024,
          2025,
          2026,
          2027,
          2028,
          2029,
          2030,
          2031,
          2032,
          2033,
          2034,
          2035,
          2036,
          2037,
          2038,
          2039,
          2040,
          2041,
          2042,
          2043,
          2044,
          2045,
          2046,
          2047,
          2048,
          2049,
          2050
         ],
         "xaxis": "x2",
         "y": [
          0,
          0,
          0,
          0,
          0,
          0,
          0,
          0,
          0,
          0,
          0,
          0,
          0,
          0,
          0,
          0,
          0,
          0,
          0,
          0,
          0,
          0.09210662487730968,
          0.24840285405875195,
          0.30940662487730985,
          0.316769890051688,
          0.31676989005168793,
          0.34198655160777786,
          0.34198655160777797,
          0.34581401891337266,
          0.34940564050323314,
          0.40126965612545945,
          0.7796781127850789,
          0.9702749205574591,
          0.9702749205574593,
          0.9702749205574592,
          0.9628558316620038
         ],
         "yaxis": "y2"
        },
        {
         "fillcolor": "beige",
         "hoverinfo": "x+y",
         "line": {
          "color": "beige",
          "width": 0
         },
         "mode": "lines",
         "name": "Naphta cracking",
         "showlegend": false,
         "stackgroup": "one",
         "type": "scatter",
         "x": [
          2015,
          2016,
          2017,
          2018,
          2019,
          2020,
          2021,
          2022,
          2023,
          2024,
          2025,
          2026,
          2027,
          2028,
          2029,
          2030,
          2031,
          2032,
          2033,
          2034,
          2035,
          2036,
          2037,
          2038,
          2039,
          2040,
          2041,
          2042,
          2043,
          2044,
          2045,
          2046,
          2047,
          2048,
          2049,
          2050
         ],
         "xaxis": "x2",
         "y": [
          0.43107096774193543,
          0.43107096774193543,
          0.43107096774193543,
          0.43107096774193543,
          0.43107096774193543,
          0.43107096774193543,
          0.4253233548387097,
          0.41957574193548386,
          0.413828129032258,
          0.40808051612903223,
          0.4023329032258064,
          0.39658529032258066,
          0.3908376774193548,
          0.38509006451612904,
          0.37934245161290325,
          0.3735948387096774,
          0.3678472258064516,
          0.3620996129032258,
          0.356352,
          0.35060438709677416,
          0.2932438709677419,
          0.2532694297309736,
          0.2086864186408887,
          0.17886575007065955,
          0.1590644801445915,
          0.1428257798169003,
          0.12557395272805083,
          0.11556396079864797,
          0.10337725535538693,
          0.09784729995501987,
          0.09309420000959173,
          0.08857337563147503,
          0.08465496716261081,
          0.07939785257234876,
          0.07652142518935653,
          0.07369501634675137
         ],
         "yaxis": "y2"
        },
        {
         "fillcolor": "green",
         "hoverinfo": "x+y",
         "line": {
          "color": "green",
          "width": 0
         },
         "mode": "lines",
         "name": "Electrolyser",
         "showlegend": false,
         "stackgroup": "one",
         "type": "scatter",
         "x": [
          2015,
          2016,
          2017,
          2018,
          2019,
          2020,
          2021,
          2022,
          2023,
          2024,
          2025,
          2026,
          2027,
          2028,
          2029,
          2030,
          2031,
          2032,
          2033,
          2034,
          2035,
          2036,
          2037,
          2038,
          2039,
          2040,
          2041,
          2042,
          2043,
          2044,
          2045,
          2046,
          2047,
          2048,
          2049,
          2050
         ],
         "xaxis": "x3",
         "y": [
          0,
          0,
          0,
          0,
          0,
          0,
          0,
          0,
          0,
          0,
          2.418694938397838e-18,
          0,
          0,
          0,
          0,
          0.102,
          -2.6651885966021218e-17,
          0.06420374651199935,
          0.11420374651199931,
          0.1684714316676116,
          0.7554702674261492,
          1.0601684394074447,
          1.47707020291345,
          1.8975568064053743,
          2.231650171197955,
          2.36823488929328,
          2.5742471829001596,
          2.8833194339073596,
          2.883614358940886,
          2.8486735573707334,
          2.593763272643978,
          2.5289620043382337,
          2.406617960098968,
          2.21852588040197,
          2.215247534930256,
          2.59221638089417
         ],
         "yaxis": "y3"
        },
        {
         "fillcolor": "black",
         "hoverinfo": "x+y",
         "line": {
          "color": "black",
          "width": 0
         },
         "mode": "lines",
         "name": "SMR",
         "showlegend": false,
         "stackgroup": "one",
         "type": "scatter",
         "x": [
          2015,
          2016,
          2017,
          2018,
          2019,
          2020,
          2021,
          2022,
          2023,
          2024,
          2025,
          2026,
          2027,
          2028,
          2029,
          2030,
          2031,
          2032,
          2033,
          2034,
          2035,
          2036,
          2037,
          2038,
          2039,
          2040,
          2041,
          2042,
          2043,
          2044,
          2045,
          2046,
          2047,
          2048,
          2049,
          2050
         ],
         "xaxis": "x3",
         "y": [
          0.985692873008659,
          0.7718755466195316,
          0.7718755466195316,
          0.7718755466195316,
          0.7718755466195316,
          0.7718755466195316,
          0.7739044498453381,
          0.7761010950066284,
          0.7782977401679188,
          0.780494385329209,
          0.676742066733178,
          0.6819476554705687,
          0.6871532442079592,
          0.6923588329453497,
          0.6975644216827401,
          1.6014071771101326,
          1.6036038222714228,
          1.5688416611970148,
          1.51464003343956,
          1.459230720526493,
          1.526774908432448,
          1.8722206744690941,
          1.8952704747760614,
          1.8883132592878118,
          1.8706333281013425,
          1.8658552676552003,
          1.8682337170409773,
          1.8961811811733702,
          1.9248195875775682,
          1.9600574744781087,
          1.9544039862117237,
          1.599193939823271,
          1.5054794806511151,
          1.6219190036063427,
          1.7295512486174576,
          1.7038775057970432
         ],
         "yaxis": "y3"
        },
        {
         "fillcolor": "firebrick",
         "hoverinfo": "x+y",
         "line": {
          "color": "firebrick",
          "width": 0
         },
         "mode": "lines",
         "name": "Gasification",
         "showlegend": false,
         "stackgroup": "one",
         "type": "scatter",
         "x": [
          2015,
          2016,
          2017,
          2018,
          2019,
          2020,
          2021,
          2022,
          2023,
          2024,
          2025,
          2026,
          2027,
          2028,
          2029,
          2030,
          2031,
          2032,
          2033,
          2034,
          2035,
          2036,
          2037,
          2038,
          2039,
          2040,
          2041,
          2042,
          2043,
          2044,
          2045,
          2046,
          2047,
          2048,
          2049,
          2050
         ],
         "xaxis": "x3",
         "y": [
          0,
          0,
          0,
          0,
          0,
          0,
          0,
          0,
          0,
          0,
          0.016777167796712462,
          0.016300697338891838,
          0.015824226881071164,
          0.01534775642325054,
          0.014871285965429913,
          0.014871285965429915,
          0.01487128596542991,
          0.020723765043967855,
          0.029654511080992558,
          0.038585257118017295,
          0.08763274437986032,
          0.026507602301929563,
          0,
          0,
          0,
          -2.596844319745664e-32,
          -7.177834914798377e-60,
          4.441672419931745e-34,
          -4.33661324593652e-61,
          7.748799055748247e-61,
          -2.235139052896271e-61,
          1.6925008463871173e-60,
          7.544883291123294e-61,
          6.117472938748616e-61,
          8.156630584998155e-62,
          3.4723642110834806e-61
         ],
         "yaxis": "y3"
        },
        {
         "fillcolor": "turquoise",
         "hoverinfo": "x+y",
         "line": {
          "color": "turquoise",
          "width": 0
         },
         "mode": "lines",
         "name": "Pyrolysis",
         "showlegend": false,
         "stackgroup": "one",
         "type": "scatter",
         "x": [
          2015,
          2016,
          2017,
          2018,
          2019,
          2020,
          2021,
          2022,
          2023,
          2024,
          2025,
          2026,
          2027,
          2028,
          2029,
          2030,
          2031,
          2032,
          2033,
          2034,
          2035,
          2036,
          2037,
          2038,
          2039,
          2040,
          2041,
          2042,
          2043,
          2044,
          2045,
          2046,
          2047,
          2048,
          2049,
          2050
         ],
         "xaxis": "x3",
         "y": [
          0,
          0,
          0,
          0,
          0,
          0,
          0,
          0,
          0,
          0,
          0,
          0,
          0,
          0,
          0,
          0,
          0,
          0,
          0,
          0,
          0,
          0.10000000000000003,
          0.22954760462065374,
          0.34334813158311034,
          0.36392492741287974,
          0.36392492741287985,
          0.38914158896896983,
          0.3891415889689697,
          0.3929690562745646,
          0.3965606778644251,
          0.4596311345567152,
          0.7301938740914762,
          0.8207906818638564,
          0.8207906818638565,
          0.8207906818638563,
          0.813371592968401
         ],
         "yaxis": "y3"
        },
        {
         "fillcolor": "beige",
         "hoverinfo": "x+y",
         "line": {
          "color": "beige",
          "width": 0
         },
         "mode": "lines",
         "name": "Naphta cracking",
         "showlegend": false,
         "stackgroup": "one",
         "type": "scatter",
         "x": [
          2015,
          2016,
          2017,
          2018,
          2019,
          2020,
          2021,
          2022,
          2023,
          2024,
          2025,
          2026,
          2027,
          2028,
          2029,
          2030,
          2031,
          2032,
          2033,
          2034,
          2035,
          2036,
          2037,
          2038,
          2039,
          2040,
          2041,
          2042,
          2043,
          2044,
          2045,
          2046,
          2047,
          2048,
          2049,
          2050
         ],
         "xaxis": "x3",
         "y": [
          0.43107096774193543,
          0.43107096774193543,
          0.43107096774193543,
          0.43107096774193543,
          0.43107096774193543,
          0.43107096774193543,
          0.4253233548387097,
          0.41957574193548386,
          0.413828129032258,
          0.40808051612903223,
          0.4023329032258064,
          0.39658529032258066,
          0.3908376774193548,
          0.38509006451612904,
          0.37934245161290325,
          0.3735948387096774,
          0.3678472258064516,
          0.3620996129032258,
          0.356352,
          0.35060438709677416,
          0.2932438709677419,
          0.2532694297309736,
          0.2108037236960938,
          0.180944974312547,
          0.16115634210342922,
          0.1449052521260972,
          0.12768410961673568,
          0.11768313898979958,
          0.10552711812602647,
          0.10002784730514733,
          0.09390600515729479,
          0.08827050739440324,
          0.08084187943062525,
          0.07046227891225497,
          0.0599404262915786,
          0.04959284350515972
         ],
         "yaxis": "y3"
        }
       ],
       "layout": {
        "annotations": [
         {
          "font": {
           "size": 24
          },
          "showarrow": false,
          "text": "High electricity price",
          "x": 0.14444444444444446,
          "xanchor": "center",
          "xref": "paper",
          "y": 1,
          "yanchor": "bottom",
          "yref": "paper"
         },
         {
          "font": {
           "size": 24
          },
          "showarrow": false,
          "text": "Reference",
          "x": 0.5,
          "xanchor": "center",
          "xref": "paper",
          "y": 1,
          "yanchor": "bottom",
          "yref": "paper"
         },
         {
          "font": {
           "size": 24
          },
          "showarrow": false,
          "text": "Fossil phase-out",
          "x": 0.8555555555555556,
          "xanchor": "center",
          "xref": "paper",
          "y": 1,
          "yanchor": "bottom",
          "yref": "paper"
         }
        ],
        "font": {
         "family": "Times New Roman",
         "size": 24
        },
        "legend": {
         "font": {
          "size": 20
         },
         "orientation": "h",
         "x": 0.9,
         "xanchor": "right",
         "y": 1.1,
         "yanchor": "bottom"
        },
        "template": {
         "data": {
          "bar": [
           {
            "error_x": {
             "color": "#2a3f5f"
            },
            "error_y": {
             "color": "#2a3f5f"
            },
            "marker": {
             "line": {
              "color": "#E5ECF6",
              "width": 0.5
             },
             "pattern": {
              "fillmode": "overlay",
              "size": 10,
              "solidity": 0.2
             }
            },
            "type": "bar"
           }
          ],
          "barpolar": [
           {
            "marker": {
             "line": {
              "color": "#E5ECF6",
              "width": 0.5
             },
             "pattern": {
              "fillmode": "overlay",
              "size": 10,
              "solidity": 0.2
             }
            },
            "type": "barpolar"
           }
          ],
          "carpet": [
           {
            "aaxis": {
             "endlinecolor": "#2a3f5f",
             "gridcolor": "white",
             "linecolor": "white",
             "minorgridcolor": "white",
             "startlinecolor": "#2a3f5f"
            },
            "baxis": {
             "endlinecolor": "#2a3f5f",
             "gridcolor": "white",
             "linecolor": "white",
             "minorgridcolor": "white",
             "startlinecolor": "#2a3f5f"
            },
            "type": "carpet"
           }
          ],
          "choropleth": [
           {
            "colorbar": {
             "outlinewidth": 0,
             "ticks": ""
            },
            "type": "choropleth"
           }
          ],
          "contour": [
           {
            "colorbar": {
             "outlinewidth": 0,
             "ticks": ""
            },
            "colorscale": [
             [
              0,
              "#0d0887"
             ],
             [
              0.1111111111111111,
              "#46039f"
             ],
             [
              0.2222222222222222,
              "#7201a8"
             ],
             [
              0.3333333333333333,
              "#9c179e"
             ],
             [
              0.4444444444444444,
              "#bd3786"
             ],
             [
              0.5555555555555556,
              "#d8576b"
             ],
             [
              0.6666666666666666,
              "#ed7953"
             ],
             [
              0.7777777777777778,
              "#fb9f3a"
             ],
             [
              0.8888888888888888,
              "#fdca26"
             ],
             [
              1,
              "#f0f921"
             ]
            ],
            "type": "contour"
           }
          ],
          "contourcarpet": [
           {
            "colorbar": {
             "outlinewidth": 0,
             "ticks": ""
            },
            "type": "contourcarpet"
           }
          ],
          "heatmap": [
           {
            "colorbar": {
             "outlinewidth": 0,
             "ticks": ""
            },
            "colorscale": [
             [
              0,
              "#0d0887"
             ],
             [
              0.1111111111111111,
              "#46039f"
             ],
             [
              0.2222222222222222,
              "#7201a8"
             ],
             [
              0.3333333333333333,
              "#9c179e"
             ],
             [
              0.4444444444444444,
              "#bd3786"
             ],
             [
              0.5555555555555556,
              "#d8576b"
             ],
             [
              0.6666666666666666,
              "#ed7953"
             ],
             [
              0.7777777777777778,
              "#fb9f3a"
             ],
             [
              0.8888888888888888,
              "#fdca26"
             ],
             [
              1,
              "#f0f921"
             ]
            ],
            "type": "heatmap"
           }
          ],
          "heatmapgl": [
           {
            "colorbar": {
             "outlinewidth": 0,
             "ticks": ""
            },
            "colorscale": [
             [
              0,
              "#0d0887"
             ],
             [
              0.1111111111111111,
              "#46039f"
             ],
             [
              0.2222222222222222,
              "#7201a8"
             ],
             [
              0.3333333333333333,
              "#9c179e"
             ],
             [
              0.4444444444444444,
              "#bd3786"
             ],
             [
              0.5555555555555556,
              "#d8576b"
             ],
             [
              0.6666666666666666,
              "#ed7953"
             ],
             [
              0.7777777777777778,
              "#fb9f3a"
             ],
             [
              0.8888888888888888,
              "#fdca26"
             ],
             [
              1,
              "#f0f921"
             ]
            ],
            "type": "heatmapgl"
           }
          ],
          "histogram": [
           {
            "marker": {
             "pattern": {
              "fillmode": "overlay",
              "size": 10,
              "solidity": 0.2
             }
            },
            "type": "histogram"
           }
          ],
          "histogram2d": [
           {
            "colorbar": {
             "outlinewidth": 0,
             "ticks": ""
            },
            "colorscale": [
             [
              0,
              "#0d0887"
             ],
             [
              0.1111111111111111,
              "#46039f"
             ],
             [
              0.2222222222222222,
              "#7201a8"
             ],
             [
              0.3333333333333333,
              "#9c179e"
             ],
             [
              0.4444444444444444,
              "#bd3786"
             ],
             [
              0.5555555555555556,
              "#d8576b"
             ],
             [
              0.6666666666666666,
              "#ed7953"
             ],
             [
              0.7777777777777778,
              "#fb9f3a"
             ],
             [
              0.8888888888888888,
              "#fdca26"
             ],
             [
              1,
              "#f0f921"
             ]
            ],
            "type": "histogram2d"
           }
          ],
          "histogram2dcontour": [
           {
            "colorbar": {
             "outlinewidth": 0,
             "ticks": ""
            },
            "colorscale": [
             [
              0,
              "#0d0887"
             ],
             [
              0.1111111111111111,
              "#46039f"
             ],
             [
              0.2222222222222222,
              "#7201a8"
             ],
             [
              0.3333333333333333,
              "#9c179e"
             ],
             [
              0.4444444444444444,
              "#bd3786"
             ],
             [
              0.5555555555555556,
              "#d8576b"
             ],
             [
              0.6666666666666666,
              "#ed7953"
             ],
             [
              0.7777777777777778,
              "#fb9f3a"
             ],
             [
              0.8888888888888888,
              "#fdca26"
             ],
             [
              1,
              "#f0f921"
             ]
            ],
            "type": "histogram2dcontour"
           }
          ],
          "mesh3d": [
           {
            "colorbar": {
             "outlinewidth": 0,
             "ticks": ""
            },
            "type": "mesh3d"
           }
          ],
          "parcoords": [
           {
            "line": {
             "colorbar": {
              "outlinewidth": 0,
              "ticks": ""
             }
            },
            "type": "parcoords"
           }
          ],
          "pie": [
           {
            "automargin": true,
            "type": "pie"
           }
          ],
          "scatter": [
           {
            "marker": {
             "colorbar": {
              "outlinewidth": 0,
              "ticks": ""
             }
            },
            "type": "scatter"
           }
          ],
          "scatter3d": [
           {
            "line": {
             "colorbar": {
              "outlinewidth": 0,
              "ticks": ""
             }
            },
            "marker": {
             "colorbar": {
              "outlinewidth": 0,
              "ticks": ""
             }
            },
            "type": "scatter3d"
           }
          ],
          "scattercarpet": [
           {
            "marker": {
             "colorbar": {
              "outlinewidth": 0,
              "ticks": ""
             }
            },
            "type": "scattercarpet"
           }
          ],
          "scattergeo": [
           {
            "marker": {
             "colorbar": {
              "outlinewidth": 0,
              "ticks": ""
             }
            },
            "type": "scattergeo"
           }
          ],
          "scattergl": [
           {
            "marker": {
             "colorbar": {
              "outlinewidth": 0,
              "ticks": ""
             }
            },
            "type": "scattergl"
           }
          ],
          "scattermapbox": [
           {
            "marker": {
             "colorbar": {
              "outlinewidth": 0,
              "ticks": ""
             }
            },
            "type": "scattermapbox"
           }
          ],
          "scatterpolar": [
           {
            "marker": {
             "colorbar": {
              "outlinewidth": 0,
              "ticks": ""
             }
            },
            "type": "scatterpolar"
           }
          ],
          "scatterpolargl": [
           {
            "marker": {
             "colorbar": {
              "outlinewidth": 0,
              "ticks": ""
             }
            },
            "type": "scatterpolargl"
           }
          ],
          "scatterternary": [
           {
            "marker": {
             "colorbar": {
              "outlinewidth": 0,
              "ticks": ""
             }
            },
            "type": "scatterternary"
           }
          ],
          "surface": [
           {
            "colorbar": {
             "outlinewidth": 0,
             "ticks": ""
            },
            "colorscale": [
             [
              0,
              "#0d0887"
             ],
             [
              0.1111111111111111,
              "#46039f"
             ],
             [
              0.2222222222222222,
              "#7201a8"
             ],
             [
              0.3333333333333333,
              "#9c179e"
             ],
             [
              0.4444444444444444,
              "#bd3786"
             ],
             [
              0.5555555555555556,
              "#d8576b"
             ],
             [
              0.6666666666666666,
              "#ed7953"
             ],
             [
              0.7777777777777778,
              "#fb9f3a"
             ],
             [
              0.8888888888888888,
              "#fdca26"
             ],
             [
              1,
              "#f0f921"
             ]
            ],
            "type": "surface"
           }
          ],
          "table": [
           {
            "cells": {
             "fill": {
              "color": "#EBF0F8"
             },
             "line": {
              "color": "white"
             }
            },
            "header": {
             "fill": {
              "color": "#C8D4E3"
             },
             "line": {
              "color": "white"
             }
            },
            "type": "table"
           }
          ]
         },
         "layout": {
          "annotationdefaults": {
           "arrowcolor": "#2a3f5f",
           "arrowhead": 0,
           "arrowwidth": 1
          },
          "autotypenumbers": "strict",
          "coloraxis": {
           "colorbar": {
            "outlinewidth": 0,
            "ticks": ""
           }
          },
          "colorscale": {
           "diverging": [
            [
             0,
             "#8e0152"
            ],
            [
             0.1,
             "#c51b7d"
            ],
            [
             0.2,
             "#de77ae"
            ],
            [
             0.3,
             "#f1b6da"
            ],
            [
             0.4,
             "#fde0ef"
            ],
            [
             0.5,
             "#f7f7f7"
            ],
            [
             0.6,
             "#e6f5d0"
            ],
            [
             0.7,
             "#b8e186"
            ],
            [
             0.8,
             "#7fbc41"
            ],
            [
             0.9,
             "#4d9221"
            ],
            [
             1,
             "#276419"
            ]
           ],
           "sequential": [
            [
             0,
             "#0d0887"
            ],
            [
             0.1111111111111111,
             "#46039f"
            ],
            [
             0.2222222222222222,
             "#7201a8"
            ],
            [
             0.3333333333333333,
             "#9c179e"
            ],
            [
             0.4444444444444444,
             "#bd3786"
            ],
            [
             0.5555555555555556,
             "#d8576b"
            ],
            [
             0.6666666666666666,
             "#ed7953"
            ],
            [
             0.7777777777777778,
             "#fb9f3a"
            ],
            [
             0.8888888888888888,
             "#fdca26"
            ],
            [
             1,
             "#f0f921"
            ]
           ],
           "sequentialminus": [
            [
             0,
             "#0d0887"
            ],
            [
             0.1111111111111111,
             "#46039f"
            ],
            [
             0.2222222222222222,
             "#7201a8"
            ],
            [
             0.3333333333333333,
             "#9c179e"
            ],
            [
             0.4444444444444444,
             "#bd3786"
            ],
            [
             0.5555555555555556,
             "#d8576b"
            ],
            [
             0.6666666666666666,
             "#ed7953"
            ],
            [
             0.7777777777777778,
             "#fb9f3a"
            ],
            [
             0.8888888888888888,
             "#fdca26"
            ],
            [
             1,
             "#f0f921"
            ]
           ]
          },
          "colorway": [
           "#636efa",
           "#EF553B",
           "#00cc96",
           "#ab63fa",
           "#FFA15A",
           "#19d3f3",
           "#FF6692",
           "#B6E880",
           "#FF97FF",
           "#FECB52"
          ],
          "font": {
           "color": "#2a3f5f"
          },
          "geo": {
           "bgcolor": "white",
           "lakecolor": "white",
           "landcolor": "#E5ECF6",
           "showlakes": true,
           "showland": true,
           "subunitcolor": "white"
          },
          "hoverlabel": {
           "align": "left"
          },
          "hovermode": "closest",
          "mapbox": {
           "style": "light"
          },
          "paper_bgcolor": "white",
          "plot_bgcolor": "#E5ECF6",
          "polar": {
           "angularaxis": {
            "gridcolor": "white",
            "linecolor": "white",
            "ticks": ""
           },
           "bgcolor": "#E5ECF6",
           "radialaxis": {
            "gridcolor": "white",
            "linecolor": "white",
            "ticks": ""
           }
          },
          "scene": {
           "xaxis": {
            "backgroundcolor": "#E5ECF6",
            "gridcolor": "white",
            "gridwidth": 2,
            "linecolor": "white",
            "showbackground": true,
            "ticks": "",
            "zerolinecolor": "white"
           },
           "yaxis": {
            "backgroundcolor": "#E5ECF6",
            "gridcolor": "white",
            "gridwidth": 2,
            "linecolor": "white",
            "showbackground": true,
            "ticks": "",
            "zerolinecolor": "white"
           },
           "zaxis": {
            "backgroundcolor": "#E5ECF6",
            "gridcolor": "white",
            "gridwidth": 2,
            "linecolor": "white",
            "showbackground": true,
            "ticks": "",
            "zerolinecolor": "white"
           }
          },
          "shapedefaults": {
           "line": {
            "color": "#2a3f5f"
           }
          },
          "ternary": {
           "aaxis": {
            "gridcolor": "white",
            "linecolor": "white",
            "ticks": ""
           },
           "baxis": {
            "gridcolor": "white",
            "linecolor": "white",
            "ticks": ""
           },
           "bgcolor": "#E5ECF6",
           "caxis": {
            "gridcolor": "white",
            "linecolor": "white",
            "ticks": ""
           }
          },
          "title": {
           "x": 0.05
          },
          "xaxis": {
           "automargin": true,
           "gridcolor": "white",
           "linecolor": "white",
           "ticks": "",
           "title": {
            "standoff": 15
           },
           "zerolinecolor": "white",
           "zerolinewidth": 2
          },
          "yaxis": {
           "automargin": true,
           "gridcolor": "white",
           "linecolor": "white",
           "ticks": "",
           "title": {
            "standoff": 15
           },
           "zerolinecolor": "white",
           "zerolinewidth": 2
          }
         }
        },
        "xaxis": {
         "anchor": "y",
         "domain": [
          0,
          0.2888888888888889
         ]
        },
        "xaxis2": {
         "anchor": "y2",
         "domain": [
          0.35555555555555557,
          0.6444444444444445
         ]
        },
        "xaxis3": {
         "anchor": "y3",
         "domain": [
          0.7111111111111111,
          1
         ]
        },
        "yaxis": {
         "anchor": "x",
         "domain": [
          0,
          1
         ],
         "range": [
          0,
          5.5
         ],
         "title": {
          "text": "Production (Mt of H2)"
         }
        },
        "yaxis2": {
         "anchor": "x2",
         "domain": [
          0,
          1
         ],
         "matches": "y",
         "range": [
          0,
          5.5
         ],
         "showticklabels": false
        },
        "yaxis3": {
         "anchor": "x3",
         "domain": [
          0,
          1
         ],
         "matches": "y",
         "range": [
          0,
          5.5
         ],
         "showticklabels": false
        }
       }
      },
      "text/html": [
       "<div>                            <div id=\"b6b0fc8b-5656-44e9-8536-2c593bf7c478\" class=\"plotly-graph-div\" style=\"height:525px; width:100%;\"></div>            <script type=\"text/javascript\">                require([\"plotly\"], function(Plotly) {                    window.PLOTLYENV=window.PLOTLYENV || {};                                    if (document.getElementById(\"b6b0fc8b-5656-44e9-8536-2c593bf7c478\")) {                    Plotly.newPlot(                        \"b6b0fc8b-5656-44e9-8536-2c593bf7c478\",                        [{\"fillcolor\":\"green\",\"hoverinfo\":\"x+y\",\"line\":{\"color\":\"green\",\"width\":0},\"mode\":\"lines\",\"name\":\"Electrolyser\",\"showlegend\":true,\"stackgroup\":\"one\",\"type\":\"scatter\",\"x\":[2015,2016,2017,2018,2019,2020,2021,2022,2023,2024,2025,2026,2027,2028,2029,2030,2031,2032,2033,2034,2035,2036,2037,2038,2039,2040,2041,2042,2043,2044,2045,2046,2047,2048,2049,2050],\"xaxis\":\"x\",\"y\":[0.0,0.0,0.0,0.0,0.0,0.0,0.0,0.0,0.0,0.0,0.0,0.0,0.0,0.0,0.0,0.102,0.029727735956185348,0.05450826725706274,0.10450826725706269,0.1545082672570627,0.5814089851752937,0.5764384866845934,0.5120986451003354,0.46488295814116976,0.43938295814116984,0.4843180119046106,0.5343180119046107,0.6103746908841071,0.960374690884107,1.3835229109499791,1.382570460288811,1.4054591955153135,1.6459173208215985,1.4682079041776306,1.4437552754321281,1.62573254397042],\"yaxis\":\"y\"},{\"fillcolor\":\"black\",\"hoverinfo\":\"x+y\",\"line\":{\"color\":\"black\",\"width\":0},\"mode\":\"lines\",\"name\":\"SMR\",\"showlegend\":true,\"stackgroup\":\"one\",\"type\":\"scatter\",\"x\":[2015,2016,2017,2018,2019,2020,2021,2022,2023,2024,2025,2026,2027,2028,2029,2030,2031,2032,2033,2034,2035,2036,2037,2038,2039,2040,2041,2042,2043,2044,2045,2046,2047,2048,2049,2050],\"xaxis\":\"x\",\"y\":[0.7718755466195316,0.7718755466195316,0.7718755466195316,0.7718755466195316,0.7718755466195316,0.7718755466195316,0.7739044498453381,0.7761010950066284,0.7782977401679188,0.780494385329209,0.676742066733178,0.6819476554705687,0.6871532442079592,0.6923588329453497,0.6975644216827401,0.7457508064625726,0.7479474516238628,0.7247049192518408,0.670503291494386,0.6163016637369311,0.7258759924306311,1.190581069520988,1.1953764148798283,1.189865852018117,1.1858521761782908,1.1590100596049004,1.1709582469472641,1.1841240366764696,1.1844684017171077,1.2083449705392713,1.309177193106288,1.425656229125066,1.4941812913393813,1.536461915065057,1.5472939615900576,1.5745256943486123],\"yaxis\":\"y\"},{\"fillcolor\":\"firebrick\",\"hoverinfo\":\"x+y\",\"line\":{\"color\":\"firebrick\",\"width\":0},\"mode\":\"lines\",\"name\":\"Gasification\",\"showlegend\":true,\"stackgroup\":\"one\",\"type\":\"scatter\",\"x\":[2015,2016,2017,2018,2019,2020,2021,2022,2023,2024,2025,2026,2027,2028,2029,2030,2031,2032,2033,2034,2035,2036,2037,2038,2039,2040,2041,2042,2043,2044,2045,2046,2047,2048,2049,2050],\"xaxis\":\"x\",\"y\":[0.0,0.0,0.0,0.0,0.0,0.0,0.0,0.0,0.0,0.0,0.016777167796712462,0.016300697338891838,0.015824226881071164,0.01534775642325054,0.01487128596542991,0.014871285965429908,0.01487128596542991,0.018899615596518444,0.027830361633543157,0.036761107670567894,0.12244683456014384,0.033999219196617865,0.0,0.0,0.0,-5.048709793414475e-35,-5.872774021198672e-60,-1.7936620347794864e-49,-3.404434290109383e-58,-2.2838565637994834e-59,-2.936387010599336e-60,3.3931583233592325e-59,5.882328425788474e-60,-5.872774021198672e-60,8.917444283815772e-61,1.8923382957195721e-59],\"yaxis\":\"y\"},{\"fillcolor\":\"turquoise\",\"hoverinfo\":\"x+y\",\"line\":{\"color\":\"turquoise\",\"width\":0},\"mode\":\"lines\",\"name\":\"Pyrolysis\",\"showlegend\":true,\"stackgroup\":\"one\",\"type\":\"scatter\",\"x\":[2015,2016,2017,2018,2019,2020,2021,2022,2023,2024,2025,2026,2027,2028,2029,2030,2031,2032,2033,2034,2035,2036,2037,2038,2039,2040,2041,2042,2043,2044,2045,2046,2047,2048,2049,2050],\"xaxis\":\"x\",\"y\":[0.0,0.0,0.0,0.0,0.0,0.0,0.0,0.0,0.0,0.0,0.0,0.0,0.0,0.0,0.0,0.0,0.0,0.0,0.0,0.0,0.0,0.0,0.0,0.0,0.0,-2.628653314917282e-17,-1.3972120797089697e-17,2.2581618980171836e-18,-6.890721518206441e-58,8.143579976062158e-58,-7.27595761418343e-18,2.968590706586836e-18,2.9685907065868266e-18,1.4825135321095918e-18,-2.7605073753267845e-60,-5.3058352252067836e-18],\"yaxis\":\"y\"},{\"fillcolor\":\"beige\",\"hoverinfo\":\"x+y\",\"line\":{\"color\":\"beige\",\"width\":0},\"mode\":\"lines\",\"name\":\"Naphta cracking\",\"showlegend\":true,\"stackgroup\":\"one\",\"type\":\"scatter\",\"x\":[2015,2016,2017,2018,2019,2020,2021,2022,2023,2024,2025,2026,2027,2028,2029,2030,2031,2032,2033,2034,2035,2036,2037,2038,2039,2040,2041,2042,2043,2044,2045,2046,2047,2048,2049,2050],\"xaxis\":\"x\",\"y\":[0.43107096774193543,0.43107096774193543,0.43107096774193543,0.43107096774193543,0.43107096774193543,0.43107096774193543,0.4253233548387097,0.41957574193548386,0.413828129032258,0.40808051612903223,0.4023329032258064,0.39658529032258066,0.3908376774193548,0.38509006451612904,0.37934245161290325,0.3735948387096774,0.3678472258064516,0.3620996129032258,0.356352,0.35060438709677416,0.2932438709677419,0.25570107109428236,0.21665852307340264,0.18750384169693413,0.16808329626213855,0.1485396561028904,0.12903560298821756,0.12232015066637117,0.10932070902883691,0.10433773832116829,0.09739069591457447,0.09013059743582148,0.08527608109371528,0.07936737861634097,0.07657847981142069,0.07375087400270974],\"yaxis\":\"y\"},{\"fillcolor\":\"green\",\"hoverinfo\":\"x+y\",\"line\":{\"color\":\"green\",\"width\":0},\"mode\":\"lines\",\"name\":\"Electrolyser\",\"showlegend\":false,\"stackgroup\":\"one\",\"type\":\"scatter\",\"x\":[2015,2016,2017,2018,2019,2020,2021,2022,2023,2024,2025,2026,2027,2028,2029,2030,2031,2032,2033,2034,2035,2036,2037,2038,2039,2040,2041,2042,2043,2044,2045,2046,2047,2048,2049,2050],\"xaxis\":\"x2\",\"y\":[0.0,0.0,0.0,0.0,0.0,0.0,0.0,0.0,0.0,0.0,-1.0231815394945442e-17,0.0,0.0,0.0,0.0,0.102,0.0,0.06420374651199935,0.11420374651199938,0.1654114316676117,0.7524102674261489,1.0534621422254014,1.4703639057314066,1.8890944889000234,2.2231878536926035,2.359221063958865,2.615716297515048,2.9217285485222484,2.9227470431459035,2.877294779811456,2.6120768037817648,2.4921041019969117,2.3639928741205343,2.1787823652061764,2.055068120187827,2.319230661394767],\"yaxis\":\"y2\"},{\"fillcolor\":\"black\",\"hoverinfo\":\"x+y\",\"line\":{\"color\":\"black\",\"width\":0},\"mode\":\"lines\",\"name\":\"SMR\",\"showlegend\":false,\"stackgroup\":\"one\",\"type\":\"scatter\",\"x\":[2015,2016,2017,2018,2019,2020,2021,2022,2023,2024,2025,2026,2027,2028,2029,2030,2031,2032,2033,2034,2035,2036,2037,2038,2039,2040,2041,2042,2043,2044,2045,2046,2047,2048,2049,2050],\"xaxis\":\"x2\",\"y\":[0.7718755466195316,0.7718755466195316,0.7718755466195316,0.7718755466195316,0.7718755466195316,0.7718755466195316,0.7739044498453381,0.7761010950066284,0.7782977401679188,0.780494385329209,0.676742066733178,0.6819476554705687,0.6871532442079592,0.6923588329453497,0.6975644216827401,1.6093030821867866,1.611499727348077,1.5767375662736687,1.5225359385162138,1.4496154374843344,1.5736710771523736,1.884468279089748,1.9126565525151378,1.9004395651356412,1.8889391646613132,1.8781028722758542,1.8804813216616312,1.9086128506719007,1.9371078607478618,1.9792682529861332,1.9782377033723944,1.4764914151344288,1.2266713454012168,1.2804510420021116,1.354285303010824,1.3639032067673007],\"yaxis\":\"y2\"},{\"fillcolor\":\"firebrick\",\"hoverinfo\":\"x+y\",\"line\":{\"color\":\"firebrick\",\"width\":0},\"mode\":\"lines\",\"name\":\"Gasification\",\"showlegend\":false,\"stackgroup\":\"one\",\"type\":\"scatter\",\"x\":[2015,2016,2017,2018,2019,2020,2021,2022,2023,2024,2025,2026,2027,2028,2029,2030,2031,2032,2033,2034,2035,2036,2037,2038,2039,2040,2041,2042,2043,2044,2045,2046,2047,2048,2049,2050],\"xaxis\":\"x2\",\"y\":[0.0,0.0,0.0,0.0,0.0,0.0,0.0,0.0,0.0,0.0,0.016777167796712473,0.016300697338891824,0.015824226881071168,0.015347756423250543,0.014871285965429906,0.014871285965429913,0.014871285965429911,0.020723765043967845,0.029654511080992565,0.03858525711801729,0.08763274437986028,0.026507602301929403,0.0,0.0,0.0,0.0,0.0,0.0,0.0,0.0,0.0,0.0,0.0,0.0,0.0,0.0],\"yaxis\":\"y2\"},{\"fillcolor\":\"turquoise\",\"hoverinfo\":\"x+y\",\"line\":{\"color\":\"turquoise\",\"width\":0},\"mode\":\"lines\",\"name\":\"Pyrolysis\",\"showlegend\":false,\"stackgroup\":\"one\",\"type\":\"scatter\",\"x\":[2015,2016,2017,2018,2019,2020,2021,2022,2023,2024,2025,2026,2027,2028,2029,2030,2031,2032,2033,2034,2035,2036,2037,2038,2039,2040,2041,2042,2043,2044,2045,2046,2047,2048,2049,2050],\"xaxis\":\"x2\",\"y\":[0.0,0.0,0.0,0.0,0.0,0.0,0.0,0.0,0.0,0.0,0.0,0.0,0.0,0.0,0.0,0.0,0.0,0.0,0.0,0.0,0.0,0.09210662487730968,0.24840285405875195,0.30940662487730985,0.316769890051688,0.31676989005168793,0.34198655160777786,0.34198655160777797,0.34581401891337266,0.34940564050323314,0.40126965612545945,0.7796781127850789,0.9702749205574591,0.9702749205574593,0.9702749205574592,0.9628558316620038],\"yaxis\":\"y2\"},{\"fillcolor\":\"beige\",\"hoverinfo\":\"x+y\",\"line\":{\"color\":\"beige\",\"width\":0},\"mode\":\"lines\",\"name\":\"Naphta cracking\",\"showlegend\":false,\"stackgroup\":\"one\",\"type\":\"scatter\",\"x\":[2015,2016,2017,2018,2019,2020,2021,2022,2023,2024,2025,2026,2027,2028,2029,2030,2031,2032,2033,2034,2035,2036,2037,2038,2039,2040,2041,2042,2043,2044,2045,2046,2047,2048,2049,2050],\"xaxis\":\"x2\",\"y\":[0.43107096774193543,0.43107096774193543,0.43107096774193543,0.43107096774193543,0.43107096774193543,0.43107096774193543,0.4253233548387097,0.41957574193548386,0.413828129032258,0.40808051612903223,0.4023329032258064,0.39658529032258066,0.3908376774193548,0.38509006451612904,0.37934245161290325,0.3735948387096774,0.3678472258064516,0.3620996129032258,0.356352,0.35060438709677416,0.2932438709677419,0.2532694297309736,0.2086864186408887,0.17886575007065955,0.1590644801445915,0.1428257798169003,0.12557395272805083,0.11556396079864797,0.10337725535538693,0.09784729995501987,0.09309420000959173,0.08857337563147503,0.08465496716261081,0.07939785257234876,0.07652142518935653,0.07369501634675137],\"yaxis\":\"y2\"},{\"fillcolor\":\"green\",\"hoverinfo\":\"x+y\",\"line\":{\"color\":\"green\",\"width\":0},\"mode\":\"lines\",\"name\":\"Electrolyser\",\"showlegend\":false,\"stackgroup\":\"one\",\"type\":\"scatter\",\"x\":[2015,2016,2017,2018,2019,2020,2021,2022,2023,2024,2025,2026,2027,2028,2029,2030,2031,2032,2033,2034,2035,2036,2037,2038,2039,2040,2041,2042,2043,2044,2045,2046,2047,2048,2049,2050],\"xaxis\":\"x3\",\"y\":[0.0,0.0,0.0,0.0,0.0,0.0,0.0,0.0,0.0,0.0,2.418694938397838e-18,0.0,0.0,0.0,0.0,0.102,-2.6651885966021218e-17,0.06420374651199935,0.11420374651199931,0.1684714316676116,0.7554702674261492,1.0601684394074447,1.47707020291345,1.8975568064053743,2.231650171197955,2.36823488929328,2.5742471829001596,2.8833194339073596,2.883614358940886,2.8486735573707334,2.593763272643978,2.5289620043382337,2.406617960098968,2.21852588040197,2.215247534930256,2.59221638089417],\"yaxis\":\"y3\"},{\"fillcolor\":\"black\",\"hoverinfo\":\"x+y\",\"line\":{\"color\":\"black\",\"width\":0},\"mode\":\"lines\",\"name\":\"SMR\",\"showlegend\":false,\"stackgroup\":\"one\",\"type\":\"scatter\",\"x\":[2015,2016,2017,2018,2019,2020,2021,2022,2023,2024,2025,2026,2027,2028,2029,2030,2031,2032,2033,2034,2035,2036,2037,2038,2039,2040,2041,2042,2043,2044,2045,2046,2047,2048,2049,2050],\"xaxis\":\"x3\",\"y\":[0.985692873008659,0.7718755466195316,0.7718755466195316,0.7718755466195316,0.7718755466195316,0.7718755466195316,0.7739044498453381,0.7761010950066284,0.7782977401679188,0.780494385329209,0.676742066733178,0.6819476554705687,0.6871532442079592,0.6923588329453497,0.6975644216827401,1.6014071771101326,1.6036038222714228,1.5688416611970148,1.51464003343956,1.459230720526493,1.526774908432448,1.8722206744690941,1.8952704747760614,1.8883132592878118,1.8706333281013425,1.8658552676552003,1.8682337170409773,1.8961811811733702,1.9248195875775682,1.9600574744781087,1.9544039862117237,1.599193939823271,1.5054794806511151,1.6219190036063427,1.7295512486174576,1.7038775057970432],\"yaxis\":\"y3\"},{\"fillcolor\":\"firebrick\",\"hoverinfo\":\"x+y\",\"line\":{\"color\":\"firebrick\",\"width\":0},\"mode\":\"lines\",\"name\":\"Gasification\",\"showlegend\":false,\"stackgroup\":\"one\",\"type\":\"scatter\",\"x\":[2015,2016,2017,2018,2019,2020,2021,2022,2023,2024,2025,2026,2027,2028,2029,2030,2031,2032,2033,2034,2035,2036,2037,2038,2039,2040,2041,2042,2043,2044,2045,2046,2047,2048,2049,2050],\"xaxis\":\"x3\",\"y\":[0.0,0.0,0.0,0.0,0.0,0.0,0.0,0.0,0.0,0.0,0.016777167796712462,0.016300697338891838,0.015824226881071164,0.01534775642325054,0.014871285965429913,0.014871285965429915,0.01487128596542991,0.020723765043967855,0.029654511080992558,0.038585257118017295,0.08763274437986032,0.026507602301929563,0.0,0.0,0.0,-2.596844319745664e-32,-7.177834914798377e-60,4.441672419931745e-34,-4.33661324593652e-61,7.748799055748247e-61,-2.235139052896271e-61,1.6925008463871173e-60,7.544883291123294e-61,6.117472938748616e-61,8.156630584998155e-62,3.4723642110834806e-61],\"yaxis\":\"y3\"},{\"fillcolor\":\"turquoise\",\"hoverinfo\":\"x+y\",\"line\":{\"color\":\"turquoise\",\"width\":0},\"mode\":\"lines\",\"name\":\"Pyrolysis\",\"showlegend\":false,\"stackgroup\":\"one\",\"type\":\"scatter\",\"x\":[2015,2016,2017,2018,2019,2020,2021,2022,2023,2024,2025,2026,2027,2028,2029,2030,2031,2032,2033,2034,2035,2036,2037,2038,2039,2040,2041,2042,2043,2044,2045,2046,2047,2048,2049,2050],\"xaxis\":\"x3\",\"y\":[0.0,0.0,0.0,0.0,0.0,0.0,0.0,0.0,0.0,0.0,0.0,0.0,0.0,0.0,0.0,0.0,0.0,0.0,0.0,0.0,0.0,0.10000000000000003,0.22954760462065374,0.34334813158311034,0.36392492741287974,0.36392492741287985,0.38914158896896983,0.3891415889689697,0.3929690562745646,0.3965606778644251,0.4596311345567152,0.7301938740914762,0.8207906818638564,0.8207906818638565,0.8207906818638563,0.813371592968401],\"yaxis\":\"y3\"},{\"fillcolor\":\"beige\",\"hoverinfo\":\"x+y\",\"line\":{\"color\":\"beige\",\"width\":0},\"mode\":\"lines\",\"name\":\"Naphta cracking\",\"showlegend\":false,\"stackgroup\":\"one\",\"type\":\"scatter\",\"x\":[2015,2016,2017,2018,2019,2020,2021,2022,2023,2024,2025,2026,2027,2028,2029,2030,2031,2032,2033,2034,2035,2036,2037,2038,2039,2040,2041,2042,2043,2044,2045,2046,2047,2048,2049,2050],\"xaxis\":\"x3\",\"y\":[0.43107096774193543,0.43107096774193543,0.43107096774193543,0.43107096774193543,0.43107096774193543,0.43107096774193543,0.4253233548387097,0.41957574193548386,0.413828129032258,0.40808051612903223,0.4023329032258064,0.39658529032258066,0.3908376774193548,0.38509006451612904,0.37934245161290325,0.3735948387096774,0.3678472258064516,0.3620996129032258,0.356352,0.35060438709677416,0.2932438709677419,0.2532694297309736,0.2108037236960938,0.180944974312547,0.16115634210342922,0.1449052521260972,0.12768410961673568,0.11768313898979958,0.10552711812602647,0.10002784730514733,0.09390600515729479,0.08827050739440324,0.08084187943062525,0.07046227891225497,0.0599404262915786,0.04959284350515972],\"yaxis\":\"y3\"}],                        {\"annotations\":[{\"font\":{\"size\":24},\"showarrow\":false,\"text\":\"High electricity price\",\"x\":0.14444444444444446,\"xanchor\":\"center\",\"xref\":\"paper\",\"y\":1.0,\"yanchor\":\"bottom\",\"yref\":\"paper\"},{\"font\":{\"size\":24},\"showarrow\":false,\"text\":\"Reference\",\"x\":0.5,\"xanchor\":\"center\",\"xref\":\"paper\",\"y\":1.0,\"yanchor\":\"bottom\",\"yref\":\"paper\"},{\"font\":{\"size\":24},\"showarrow\":false,\"text\":\"Fossil phase-out\",\"x\":0.8555555555555556,\"xanchor\":\"center\",\"xref\":\"paper\",\"y\":1.0,\"yanchor\":\"bottom\",\"yref\":\"paper\"}],\"font\":{\"family\":\"Times New Roman\",\"size\":24},\"legend\":{\"font\":{\"size\":20},\"orientation\":\"h\",\"x\":0.9,\"xanchor\":\"right\",\"y\":1.1,\"yanchor\":\"bottom\"},\"template\":{\"data\":{\"bar\":[{\"error_x\":{\"color\":\"#2a3f5f\"},\"error_y\":{\"color\":\"#2a3f5f\"},\"marker\":{\"line\":{\"color\":\"#E5ECF6\",\"width\":0.5},\"pattern\":{\"fillmode\":\"overlay\",\"size\":10,\"solidity\":0.2}},\"type\":\"bar\"}],\"barpolar\":[{\"marker\":{\"line\":{\"color\":\"#E5ECF6\",\"width\":0.5},\"pattern\":{\"fillmode\":\"overlay\",\"size\":10,\"solidity\":0.2}},\"type\":\"barpolar\"}],\"carpet\":[{\"aaxis\":{\"endlinecolor\":\"#2a3f5f\",\"gridcolor\":\"white\",\"linecolor\":\"white\",\"minorgridcolor\":\"white\",\"startlinecolor\":\"#2a3f5f\"},\"baxis\":{\"endlinecolor\":\"#2a3f5f\",\"gridcolor\":\"white\",\"linecolor\":\"white\",\"minorgridcolor\":\"white\",\"startlinecolor\":\"#2a3f5f\"},\"type\":\"carpet\"}],\"choropleth\":[{\"colorbar\":{\"outlinewidth\":0,\"ticks\":\"\"},\"type\":\"choropleth\"}],\"contour\":[{\"colorbar\":{\"outlinewidth\":0,\"ticks\":\"\"},\"colorscale\":[[0.0,\"#0d0887\"],[0.1111111111111111,\"#46039f\"],[0.2222222222222222,\"#7201a8\"],[0.3333333333333333,\"#9c179e\"],[0.4444444444444444,\"#bd3786\"],[0.5555555555555556,\"#d8576b\"],[0.6666666666666666,\"#ed7953\"],[0.7777777777777778,\"#fb9f3a\"],[0.8888888888888888,\"#fdca26\"],[1.0,\"#f0f921\"]],\"type\":\"contour\"}],\"contourcarpet\":[{\"colorbar\":{\"outlinewidth\":0,\"ticks\":\"\"},\"type\":\"contourcarpet\"}],\"heatmap\":[{\"colorbar\":{\"outlinewidth\":0,\"ticks\":\"\"},\"colorscale\":[[0.0,\"#0d0887\"],[0.1111111111111111,\"#46039f\"],[0.2222222222222222,\"#7201a8\"],[0.3333333333333333,\"#9c179e\"],[0.4444444444444444,\"#bd3786\"],[0.5555555555555556,\"#d8576b\"],[0.6666666666666666,\"#ed7953\"],[0.7777777777777778,\"#fb9f3a\"],[0.8888888888888888,\"#fdca26\"],[1.0,\"#f0f921\"]],\"type\":\"heatmap\"}],\"heatmapgl\":[{\"colorbar\":{\"outlinewidth\":0,\"ticks\":\"\"},\"colorscale\":[[0.0,\"#0d0887\"],[0.1111111111111111,\"#46039f\"],[0.2222222222222222,\"#7201a8\"],[0.3333333333333333,\"#9c179e\"],[0.4444444444444444,\"#bd3786\"],[0.5555555555555556,\"#d8576b\"],[0.6666666666666666,\"#ed7953\"],[0.7777777777777778,\"#fb9f3a\"],[0.8888888888888888,\"#fdca26\"],[1.0,\"#f0f921\"]],\"type\":\"heatmapgl\"}],\"histogram\":[{\"marker\":{\"pattern\":{\"fillmode\":\"overlay\",\"size\":10,\"solidity\":0.2}},\"type\":\"histogram\"}],\"histogram2d\":[{\"colorbar\":{\"outlinewidth\":0,\"ticks\":\"\"},\"colorscale\":[[0.0,\"#0d0887\"],[0.1111111111111111,\"#46039f\"],[0.2222222222222222,\"#7201a8\"],[0.3333333333333333,\"#9c179e\"],[0.4444444444444444,\"#bd3786\"],[0.5555555555555556,\"#d8576b\"],[0.6666666666666666,\"#ed7953\"],[0.7777777777777778,\"#fb9f3a\"],[0.8888888888888888,\"#fdca26\"],[1.0,\"#f0f921\"]],\"type\":\"histogram2d\"}],\"histogram2dcontour\":[{\"colorbar\":{\"outlinewidth\":0,\"ticks\":\"\"},\"colorscale\":[[0.0,\"#0d0887\"],[0.1111111111111111,\"#46039f\"],[0.2222222222222222,\"#7201a8\"],[0.3333333333333333,\"#9c179e\"],[0.4444444444444444,\"#bd3786\"],[0.5555555555555556,\"#d8576b\"],[0.6666666666666666,\"#ed7953\"],[0.7777777777777778,\"#fb9f3a\"],[0.8888888888888888,\"#fdca26\"],[1.0,\"#f0f921\"]],\"type\":\"histogram2dcontour\"}],\"mesh3d\":[{\"colorbar\":{\"outlinewidth\":0,\"ticks\":\"\"},\"type\":\"mesh3d\"}],\"parcoords\":[{\"line\":{\"colorbar\":{\"outlinewidth\":0,\"ticks\":\"\"}},\"type\":\"parcoords\"}],\"pie\":[{\"automargin\":true,\"type\":\"pie\"}],\"scatter\":[{\"marker\":{\"colorbar\":{\"outlinewidth\":0,\"ticks\":\"\"}},\"type\":\"scatter\"}],\"scatter3d\":[{\"line\":{\"colorbar\":{\"outlinewidth\":0,\"ticks\":\"\"}},\"marker\":{\"colorbar\":{\"outlinewidth\":0,\"ticks\":\"\"}},\"type\":\"scatter3d\"}],\"scattercarpet\":[{\"marker\":{\"colorbar\":{\"outlinewidth\":0,\"ticks\":\"\"}},\"type\":\"scattercarpet\"}],\"scattergeo\":[{\"marker\":{\"colorbar\":{\"outlinewidth\":0,\"ticks\":\"\"}},\"type\":\"scattergeo\"}],\"scattergl\":[{\"marker\":{\"colorbar\":{\"outlinewidth\":0,\"ticks\":\"\"}},\"type\":\"scattergl\"}],\"scattermapbox\":[{\"marker\":{\"colorbar\":{\"outlinewidth\":0,\"ticks\":\"\"}},\"type\":\"scattermapbox\"}],\"scatterpolar\":[{\"marker\":{\"colorbar\":{\"outlinewidth\":0,\"ticks\":\"\"}},\"type\":\"scatterpolar\"}],\"scatterpolargl\":[{\"marker\":{\"colorbar\":{\"outlinewidth\":0,\"ticks\":\"\"}},\"type\":\"scatterpolargl\"}],\"scatterternary\":[{\"marker\":{\"colorbar\":{\"outlinewidth\":0,\"ticks\":\"\"}},\"type\":\"scatterternary\"}],\"surface\":[{\"colorbar\":{\"outlinewidth\":0,\"ticks\":\"\"},\"colorscale\":[[0.0,\"#0d0887\"],[0.1111111111111111,\"#46039f\"],[0.2222222222222222,\"#7201a8\"],[0.3333333333333333,\"#9c179e\"],[0.4444444444444444,\"#bd3786\"],[0.5555555555555556,\"#d8576b\"],[0.6666666666666666,\"#ed7953\"],[0.7777777777777778,\"#fb9f3a\"],[0.8888888888888888,\"#fdca26\"],[1.0,\"#f0f921\"]],\"type\":\"surface\"}],\"table\":[{\"cells\":{\"fill\":{\"color\":\"#EBF0F8\"},\"line\":{\"color\":\"white\"}},\"header\":{\"fill\":{\"color\":\"#C8D4E3\"},\"line\":{\"color\":\"white\"}},\"type\":\"table\"}]},\"layout\":{\"annotationdefaults\":{\"arrowcolor\":\"#2a3f5f\",\"arrowhead\":0,\"arrowwidth\":1},\"autotypenumbers\":\"strict\",\"coloraxis\":{\"colorbar\":{\"outlinewidth\":0,\"ticks\":\"\"}},\"colorscale\":{\"diverging\":[[0,\"#8e0152\"],[0.1,\"#c51b7d\"],[0.2,\"#de77ae\"],[0.3,\"#f1b6da\"],[0.4,\"#fde0ef\"],[0.5,\"#f7f7f7\"],[0.6,\"#e6f5d0\"],[0.7,\"#b8e186\"],[0.8,\"#7fbc41\"],[0.9,\"#4d9221\"],[1,\"#276419\"]],\"sequential\":[[0.0,\"#0d0887\"],[0.1111111111111111,\"#46039f\"],[0.2222222222222222,\"#7201a8\"],[0.3333333333333333,\"#9c179e\"],[0.4444444444444444,\"#bd3786\"],[0.5555555555555556,\"#d8576b\"],[0.6666666666666666,\"#ed7953\"],[0.7777777777777778,\"#fb9f3a\"],[0.8888888888888888,\"#fdca26\"],[1.0,\"#f0f921\"]],\"sequentialminus\":[[0.0,\"#0d0887\"],[0.1111111111111111,\"#46039f\"],[0.2222222222222222,\"#7201a8\"],[0.3333333333333333,\"#9c179e\"],[0.4444444444444444,\"#bd3786\"],[0.5555555555555556,\"#d8576b\"],[0.6666666666666666,\"#ed7953\"],[0.7777777777777778,\"#fb9f3a\"],[0.8888888888888888,\"#fdca26\"],[1.0,\"#f0f921\"]]},\"colorway\":[\"#636efa\",\"#EF553B\",\"#00cc96\",\"#ab63fa\",\"#FFA15A\",\"#19d3f3\",\"#FF6692\",\"#B6E880\",\"#FF97FF\",\"#FECB52\"],\"font\":{\"color\":\"#2a3f5f\"},\"geo\":{\"bgcolor\":\"white\",\"lakecolor\":\"white\",\"landcolor\":\"#E5ECF6\",\"showlakes\":true,\"showland\":true,\"subunitcolor\":\"white\"},\"hoverlabel\":{\"align\":\"left\"},\"hovermode\":\"closest\",\"mapbox\":{\"style\":\"light\"},\"paper_bgcolor\":\"white\",\"plot_bgcolor\":\"#E5ECF6\",\"polar\":{\"angularaxis\":{\"gridcolor\":\"white\",\"linecolor\":\"white\",\"ticks\":\"\"},\"bgcolor\":\"#E5ECF6\",\"radialaxis\":{\"gridcolor\":\"white\",\"linecolor\":\"white\",\"ticks\":\"\"}},\"scene\":{\"xaxis\":{\"backgroundcolor\":\"#E5ECF6\",\"gridcolor\":\"white\",\"gridwidth\":2,\"linecolor\":\"white\",\"showbackground\":true,\"ticks\":\"\",\"zerolinecolor\":\"white\"},\"yaxis\":{\"backgroundcolor\":\"#E5ECF6\",\"gridcolor\":\"white\",\"gridwidth\":2,\"linecolor\":\"white\",\"showbackground\":true,\"ticks\":\"\",\"zerolinecolor\":\"white\"},\"zaxis\":{\"backgroundcolor\":\"#E5ECF6\",\"gridcolor\":\"white\",\"gridwidth\":2,\"linecolor\":\"white\",\"showbackground\":true,\"ticks\":\"\",\"zerolinecolor\":\"white\"}},\"shapedefaults\":{\"line\":{\"color\":\"#2a3f5f\"}},\"ternary\":{\"aaxis\":{\"gridcolor\":\"white\",\"linecolor\":\"white\",\"ticks\":\"\"},\"baxis\":{\"gridcolor\":\"white\",\"linecolor\":\"white\",\"ticks\":\"\"},\"bgcolor\":\"#E5ECF6\",\"caxis\":{\"gridcolor\":\"white\",\"linecolor\":\"white\",\"ticks\":\"\"}},\"title\":{\"x\":0.05},\"xaxis\":{\"automargin\":true,\"gridcolor\":\"white\",\"linecolor\":\"white\",\"ticks\":\"\",\"title\":{\"standoff\":15},\"zerolinecolor\":\"white\",\"zerolinewidth\":2},\"yaxis\":{\"automargin\":true,\"gridcolor\":\"white\",\"linecolor\":\"white\",\"ticks\":\"\",\"title\":{\"standoff\":15},\"zerolinecolor\":\"white\",\"zerolinewidth\":2}}},\"xaxis\":{\"anchor\":\"y\",\"domain\":[0.0,0.2888888888888889]},\"xaxis2\":{\"anchor\":\"y2\",\"domain\":[0.35555555555555557,0.6444444444444445]},\"xaxis3\":{\"anchor\":\"y3\",\"domain\":[0.7111111111111111,1.0]},\"yaxis\":{\"anchor\":\"x\",\"domain\":[0.0,1.0],\"range\":[0,5.5],\"title\":{\"text\":\"Production (Mt of H2)\"}},\"yaxis2\":{\"anchor\":\"x2\",\"domain\":[0.0,1.0],\"matches\":\"y\",\"range\":[0,5.5],\"showticklabels\":false},\"yaxis3\":{\"anchor\":\"x3\",\"domain\":[0.0,1.0],\"matches\":\"y\",\"range\":[0,5.5],\"showticklabels\":false}},                        {\"responsive\": true}                    ).then(function(){\n",
       "                            \n",
       "var gd = document.getElementById('b6b0fc8b-5656-44e9-8536-2c593bf7c478');\n",
       "var x = new MutationObserver(function (mutations, observer) {{\n",
       "        var display = window.getComputedStyle(gd).display;\n",
       "        if (!display || display === 'none') {{\n",
       "            console.log([gd, 'removed!']);\n",
       "            Plotly.purge(gd);\n",
       "            observer.disconnect();\n",
       "        }}\n",
       "}});\n",
       "\n",
       "// Listen for the removal of the full notebook cells\n",
       "var notebookContainer = gd.closest('#notebook-container');\n",
       "if (notebookContainer) {{\n",
       "    x.observe(notebookContainer, {childList: true});\n",
       "}}\n",
       "\n",
       "// Listen for the clearing of the current output cell\n",
       "var outputEl = gd.closest('.output');\n",
       "if (outputEl) {{\n",
       "    x.observe(outputEl, {childList: true});\n",
       "}}\n",
       "\n",
       "                        })                };                });            </script>        </div>"
      ]
     },
     "metadata": {},
     "output_type": "display_data"
    }
   ],
   "source": [
    "\n",
    "hydrogen_techs=[\"Electrolyser\",\"SMR\",\"SMR_noWGR\",\"SMR_eboiler_noWGR\",\n",
    "                       \"eSMR\",\"eSMR_noWGR\",\"eSMR_eboiler_noWGR\",\n",
    "                \"Gasification\",\"Gasification_noWGR\",\"Pyrolysis\",\"Naphta_cracking\",\"Naphta_cracking_electrified\"]\n",
    "hydrogen_techs_colors={\"Electrolyser\":\"green\",\"SMR\":\"black\",\"SMR_noWGR\":\"black\",\"SMR_eboiler_noWGR\":\"grey\",\n",
    "                       \"eSMR\":\"yellow\",\"eSMR_noWGR\":\"orange\",\"eSMR_eboiler_noWGR\":\"orange\",\n",
    "                \"Gasification\":\"firebrick\",\"Gasification_noWGR\":\"firebrick\",\"Pyrolysis\":\"turquoise\",\n",
    "                       \"Naphta_cracking\":\"beige\",\"Naphta_cracking_electrified\":\"beige\"}\n",
    "\n",
    "tech_name={\"Electrolyser\":\"Electrolyser\",\"SMR\":\"SMR\",\"SMR_noWGR\":\"SMR\",\"SMR_eboiler_noWGR\":\"SMR\",\n",
    "                       \"eSMR\":\"SMR\",\"eSMR_noWGR\":\"SMR\",\"eSMR_eboiler_noWGR\":\"SMR\",\n",
    "                \"Gasification\":\"Gasification\",\"Gasification_noWGR\":\"Gasification\",\"Pyrolysis\":\"Pyrolysis\",\n",
    "           \"Naphta_cracking\":\"Naphta cracking\",\"Naphta_cracking_electrified\":\"Naphta cracking\"}\n",
    "tech_name_list={\"Electrolyser\":[\"Electrolyser\"],\"SMR\":[\"SMR\",\"SMR_noWGR\",\"SMR_eboiler_noWGR\",\n",
    "                       \"eSMR\",\"eSMR_noWGR\",\"eSMR_eboiler_noWGR\"],\n",
    "                \"Gasification\":[\"Gasification\",\"Gasification_noWGR\"],\"Pyrolysis\":[\"Pyrolysis\"],\n",
    "           \"Naphta cracking\":[\"Naphta_cracking\",\"Naphta_cracking_electrified\"]}\n",
    "hydrogen_techs_name_colors={\"Electrolyser\":\"green\",\"SMR\":\"black\",\n",
    "                \"Gasification\":\"firebrick\",\"Pyrolysis\":\"turquoise\",\n",
    "                       \"Naphta cracking\":\"beige\"}\n",
    "\n",
    "fig =make_subplots(rows=1, cols=3,subplot_titles=list(scen.keys()),shared_yaxes=True)\n",
    "for i in range(len(scen.keys())):\n",
    "    showlegend=[True,False,False]\n",
    "    tech_usage_flow=scen[list(scen.keys())[i]]['tech_usage_flow']\n",
    "    tech_usage=tech_usage_flow[(tech_usage_flow.Resource.isin([\"Hydrogen\"]))]\n",
    "\n",
    "    hydrogen_tech_usage=tech_usage[tech_usage.Technology.isin(hydrogen_techs)]\n",
    "    for tech in tech_name_list.keys():\n",
    "        u=hydrogen_tech_usage[hydrogen_tech_usage.Technology.isin(tech_name_list[tech])]\n",
    "        u=u[[\"Year\",\"Flow\"]].groupby(by=[\"Year\"]).sum().reset_index()\n",
    "        fig.add_trace(go.Scatter(x=u.Year,y=u.Flow*1e-6,name=tech,line=dict(width=0,color=hydrogen_techs_name_colors[tech]),\n",
    "                                 fillcolor=hydrogen_techs_name_colors[tech],hoverinfo=\"x+y\",mode='lines',stackgroup='one',showlegend=showlegend[i]),row=1, col=i+1)\n",
    "\n",
    "#     fig.update_xaxes(title_text=\"Year\", row=1, col=i+1)\n",
    "\n",
    "fig.update_layout(#title='Hydrogen production per technology in EU-5+1',  title_x=0.5,\n",
    "                   yaxis_title='Production (Mt of H2)')\n",
    "fig.update_layout(\n",
    "    font=dict(\n",
    "        family=\"Times New Roman\",size=24)\n",
    "    )\n",
    "fig.update_annotations(font_size=24)\n",
    "fig.update_layout(legend=dict(\n",
    "    orientation=\"h\",\n",
    "    yanchor=\"bottom\",\n",
    "    y=1.1,\n",
    "    xanchor=\"right\",\n",
    "    x=0.9,font = dict(size=20)\n",
    "))\n",
    "fig.update_yaxes(range=[0,5.5])\n",
    "fig.show()\n"
   ]
  },
  {
   "cell_type": "code",
   "execution_count": 65,
   "id": "33ba8cdf",
   "metadata": {
    "scrolled": false
   },
   "outputs": [
    {
     "data": {
      "application/vnd.plotly.v1+json": {
       "config": {
        "plotlyServerURL": "https://plot.ly"
       },
       "data": [
        {
         "fillcolor": "Black",
         "hoverinfo": "x+y",
         "line": {
          "color": "Black",
          "width": 0
         },
         "mode": "lines",
         "name": "BF-BOF",
         "showlegend": true,
         "stackgroup": "one",
         "type": "scatter",
         "x": [
          2015,
          2016,
          2017,
          2018,
          2019,
          2020,
          2021,
          2022,
          2023,
          2024,
          2025,
          2026,
          2027,
          2028,
          2029,
          2030,
          2031,
          2032,
          2033,
          2034,
          2035,
          2036,
          2037,
          2038,
          2039,
          2040,
          2041,
          2042,
          2043,
          2044,
          2045,
          2046,
          2047,
          2048,
          2049,
          2050
         ],
         "xaxis": "x",
         "y": [
          63.099999999999994,
          63.099999999999994,
          63.099999999999994,
          63.099999999999994,
          63.099999999999994,
          63.099999999999994,
          63.099999999999994,
          63.099999999999994,
          63.099999999999994,
          63.099999999999994,
          60.8,
          60.8,
          58.8,
          58.8,
          58.8,
          54.60644301401552,
          54.53144301401551,
          54.01182451178596,
          53.226824511785956,
          52.44182451178596,
          48.24433542613024,
          45.05933542613023,
          37.39433542613023,
          36.66933542613023,
          3.3360950264938083,
          3.221095026493808,
          3.1060950264938083,
          2.991095026493808,
          2.8760950264938083,
          2.817648877205108,
          2.7026488772051076,
          2.587648877205108,
          2.4160950264938084,
          2.301095026493808,
          2.186095026493808,
          0
         ],
         "yaxis": "y"
        },
        {
         "fillcolor": "brown",
         "hoverinfo": "x+y",
         "line": {
          "color": "brown",
          "width": 0
         },
         "mode": "lines",
         "name": "BF-BOF w/ Biomass",
         "showlegend": true,
         "stackgroup": "one",
         "type": "scatter",
         "x": [
          2015,
          2016,
          2017,
          2018,
          2019,
          2020,
          2021,
          2022,
          2023,
          2024,
          2025,
          2026,
          2027,
          2028,
          2029,
          2030,
          2031,
          2032,
          2033,
          2034,
          2035,
          2036,
          2037,
          2038,
          2039,
          2040,
          2041,
          2042,
          2043,
          2044,
          2045,
          2046,
          2047,
          2048,
          2049,
          2050
         ],
         "xaxis": "x",
         "y": [
          0,
          0,
          0,
          0,
          0,
          0,
          0,
          0,
          0,
          0,
          0,
          0,
          0,
          0,
          0,
          0,
          0,
          0,
          0,
          0,
          3.3289049735061917,
          5.728904973506191,
          12.608904973506188,
          12.54890497350619,
          44.205347987521705,
          43.5353479875217,
          43.525347987521705,
          43.525347987521705,
          43.20212648051395,
          42.59212648051394,
          41.98212648051394,
          41.37212648051394,
          40.76212648051394,
          39.698923866134855,
          37.60574014438445,
          32.11667777528239
         ],
         "yaxis": "y"
        },
        {
         "fillcolor": "turquoise",
         "hoverinfo": "x+y",
         "line": {
          "color": "turquoise",
          "width": 0
         },
         "mode": "lines",
         "name": "DRI-EAF-H2",
         "showlegend": true,
         "stackgroup": "one",
         "type": "scatter",
         "x": [
          2015,
          2016,
          2017,
          2018,
          2019,
          2020,
          2021,
          2022,
          2023,
          2024,
          2025,
          2026,
          2027,
          2028,
          2029,
          2030,
          2031,
          2032,
          2033,
          2034,
          2035,
          2036,
          2037,
          2038,
          2039,
          2040,
          2041,
          2042,
          2043,
          2044,
          2045,
          2046,
          2047,
          2048,
          2049,
          2050
         ],
         "xaxis": "x",
         "y": [
          0,
          0,
          0,
          0,
          0,
          0,
          0,
          0,
          0,
          0,
          0,
          0,
          0,
          0,
          0,
          2.9017596003635693,
          1.6671410981340136,
          1.4017596003635704,
          1.4017596003635704,
          1.4017596003635704,
          1.7025330996068881,
          4.7057649042116845,
          4.7057649042116845,
          5.177071816185584,
          6.068869201806498,
          6.068869201806498,
          7.696192882792655,
          7.026192882792655,
          6.679414389800413,
          6.575536858102955,
          6.515536858102957,
          6.455536858102955,
          6.452090708814255,
          6.845293323193341,
          8.26847704494375,
          15.15863444053962
         ],
         "yaxis": "y"
        },
        {
         "fillcolor": "purple",
         "hoverinfo": "x+y",
         "line": {
          "color": "purple",
          "width": 0
         },
         "mode": "lines",
         "name": "DRI-EAF-CH4",
         "showlegend": true,
         "stackgroup": "one",
         "type": "scatter",
         "x": [
          2015,
          2016,
          2017,
          2018,
          2019,
          2020,
          2021,
          2022,
          2023,
          2024,
          2025,
          2026,
          2027,
          2028,
          2029,
          2030,
          2031,
          2032,
          2033,
          2034,
          2035,
          2036,
          2037,
          2038,
          2039,
          2040,
          2041,
          2042,
          2043,
          2044,
          2045,
          2046,
          2047,
          2048,
          2049,
          2050
         ],
         "xaxis": "x",
         "y": [
          0,
          0,
          0,
          0,
          0,
          0,
          0,
          0,
          0,
          0,
          2.3,
          2.3,
          4.3,
          4.3,
          4.300000000000003,
          5.591797385620914,
          6.116415887850469,
          6.116415887850467,
          6.116415887850467,
          6.116415887850467,
          5.899226500756683,
          2.895994696151885,
          2.895994696151885,
          2.424687784177986,
          2.4246877841779866,
          2.4246877841779866,
          0.13736410319182868,
          0.1373641031918284,
          0.13736410319182862,
          0.12468778417798632,
          0.12468778417798632,
          0.1246877841779864,
          0.12468778417798647,
          0.12468778417798669,
          0.1246877841779864,
          0.12468778417798643
         ],
         "yaxis": "y"
        },
        {
         "fillcolor": "orange",
         "hoverinfo": "x+y",
         "line": {
          "color": "orange",
          "width": 0
         },
         "mode": "lines",
         "name": "Electrowinning",
         "showlegend": true,
         "stackgroup": "one",
         "type": "scatter",
         "x": [
          2015,
          2016,
          2017,
          2018,
          2019,
          2020,
          2021,
          2022,
          2023,
          2024,
          2025,
          2026,
          2027,
          2028,
          2029,
          2030,
          2031,
          2032,
          2033,
          2034,
          2035,
          2036,
          2037,
          2038,
          2039,
          2040,
          2041,
          2042,
          2043,
          2044,
          2045,
          2046,
          2047,
          2048,
          2049,
          2050
         ],
         "xaxis": "x",
         "y": [
          0,
          0,
          0,
          0,
          0,
          0,
          0,
          0,
          0,
          0,
          0,
          0,
          0,
          0,
          0,
          0,
          0,
          0,
          0,
          0,
          0,
          0,
          0,
          0,
          0,
          0,
          0,
          0,
          0,
          0,
          0,
          0,
          0,
          0,
          0,
          0
         ],
         "yaxis": "y"
        },
        {
         "fillcolor": "yellow",
         "hoverinfo": "x+y",
         "line": {
          "color": "yellow",
          "width": 0
         },
         "mode": "lines",
         "name": "EAF",
         "showlegend": true,
         "stackgroup": "one",
         "type": "scatter",
         "x": [
          2015,
          2016,
          2017,
          2018,
          2019,
          2020,
          2021,
          2022,
          2023,
          2024,
          2025,
          2026,
          2027,
          2028,
          2029,
          2030,
          2031,
          2032,
          2033,
          2034,
          2035,
          2036,
          2037,
          2038,
          2039,
          2040,
          2041,
          2042,
          2043,
          2044,
          2045,
          2046,
          2047,
          2048,
          2049,
          2050
         ],
         "xaxis": "x",
         "y": [
          49.4,
          49.4,
          49.4,
          49.4,
          49.4,
          49.4,
          49.4,
          49.4,
          49.4,
          49.4,
          49.4,
          49.4,
          49.4,
          49.4,
          49.4,
          49.4,
          50.184999999999995,
          50.97,
          51.754999999999995,
          52.54,
          53.324999999999996,
          54.11,
          54.894999999999996,
          55.68,
          56.464999999999996,
          57.25,
          58.035,
          58.82,
          59.605,
          60.39,
          61.175,
          61.959999999999994,
          62.745,
          63.529999999999994,
          64.315,
          65.1
         ],
         "yaxis": "y"
        },
        {
         "fillcolor": "Black",
         "hoverinfo": "x+y",
         "line": {
          "color": "Black",
          "width": 0
         },
         "mode": "lines",
         "name": "BF-BOF",
         "showlegend": false,
         "stackgroup": "one",
         "type": "scatter",
         "x": [
          2015,
          2016,
          2017,
          2018,
          2019,
          2020,
          2021,
          2022,
          2023,
          2024,
          2025,
          2026,
          2027,
          2028,
          2029,
          2030,
          2031,
          2032,
          2033,
          2034,
          2035,
          2036,
          2037,
          2038,
          2039,
          2040,
          2041,
          2042,
          2043,
          2044,
          2045,
          2046,
          2047,
          2048,
          2049,
          2050
         ],
         "xaxis": "x2",
         "y": [
          63.099999999999994,
          63.099999999999994,
          63.099999999999994,
          63.099999999999994,
          63.099999999999994,
          63.099999999999994,
          63.099999999999994,
          63.099999999999994,
          63.099999999999994,
          63.099999999999994,
          60.800000000000004,
          60.8,
          58.47785431989539,
          57.22785431989539,
          53.790421418208275,
          36.320842836416546,
          36.30584283641656,
          35.69084283641655,
          35.57584283641655,
          33.12310443970337,
          28.6047472562703,
          27.100681418613345,
          22.811100796653527,
          22.086100796653525,
          0.6899999999999996,
          0.5749999999999996,
          0.45999999999999963,
          0.34499999999999964,
          0.22999999999999962,
          0.11499999999999963,
          0,
          0,
          0,
          0,
          0,
          0
         ],
         "yaxis": "y2"
        },
        {
         "fillcolor": "brown",
         "hoverinfo": "x+y",
         "line": {
          "color": "brown",
          "width": 0
         },
         "mode": "lines",
         "name": "BF-BOF w/ Biomass",
         "showlegend": false,
         "stackgroup": "one",
         "type": "scatter",
         "x": [
          2015,
          2016,
          2017,
          2018,
          2019,
          2020,
          2021,
          2022,
          2023,
          2024,
          2025,
          2026,
          2027,
          2028,
          2029,
          2030,
          2031,
          2032,
          2033,
          2034,
          2035,
          2036,
          2037,
          2038,
          2039,
          2040,
          2041,
          2042,
          2043,
          2044,
          2045,
          2046,
          2047,
          2048,
          2049,
          2050
         ],
         "xaxis": "x2",
         "y": [
          0,
          0,
          0,
          0,
          0,
          0,
          0,
          0,
          0,
          0,
          0,
          0,
          0,
          0,
          0,
          0,
          0,
          0,
          0,
          0,
          3.3289049735061917,
          3.3289049735061917,
          5.368647013269214,
          5.308647013269215,
          25.919747809922743,
          25.24974780992274,
          24.639747809922742,
          24.639747809922742,
          24.110374667838325,
          23.440374667838327,
          22.128095036652603,
          21.114747809922743,
          20.274393490027354,
          16.989393490027354,
          12.998779543419117,
          4.600354319895392
         ],
         "yaxis": "y2"
        },
        {
         "fillcolor": "turquoise",
         "hoverinfo": "x+y",
         "line": {
          "color": "turquoise",
          "width": 0
         },
         "mode": "lines",
         "name": "DRI-EAF-H2",
         "showlegend": false,
         "stackgroup": "one",
         "type": "scatter",
         "x": [
          2015,
          2016,
          2017,
          2018,
          2019,
          2020,
          2021,
          2022,
          2023,
          2024,
          2025,
          2026,
          2027,
          2028,
          2029,
          2030,
          2031,
          2032,
          2033,
          2034,
          2035,
          2036,
          2037,
          2038,
          2039,
          2040,
          2041,
          2042,
          2043,
          2044,
          2045,
          2046,
          2047,
          2048,
          2049,
          2050
         ],
         "xaxis": "x2",
         "y": [
          0,
          0,
          0,
          0,
          0,
          0,
          0,
          0,
          0,
          0,
          0,
          0,
          0,
          0,
          0,
          20.074157163583454,
          19.409157163583448,
          19.239157163583453,
          18.56915716358345,
          17.990800533802823,
          18.3952527437297,
          21.357468327149924,
          25.929099821085927,
          26.96250338505478,
          27.125252190077255,
          27.12525219007725,
          29.365252190077253,
          28.695252190077255,
          28.55462533216167,
          28.55462533216167,
          29.196904963347396,
          29.425252190077252,
          29.480606509972645,
          31.980606509972645,
          35.186220456580884,
          41.799645680104604
         ],
         "yaxis": "y2"
        },
        {
         "fillcolor": "purple",
         "hoverinfo": "x+y",
         "line": {
          "color": "purple",
          "width": 0
         },
         "mode": "lines",
         "name": "DRI-EAF-CH4",
         "showlegend": false,
         "stackgroup": "one",
         "type": "scatter",
         "x": [
          2015,
          2016,
          2017,
          2018,
          2019,
          2020,
          2021,
          2022,
          2023,
          2024,
          2025,
          2026,
          2027,
          2028,
          2029,
          2030,
          2031,
          2032,
          2033,
          2034,
          2035,
          2036,
          2037,
          2038,
          2039,
          2040,
          2041,
          2042,
          2043,
          2044,
          2045,
          2046,
          2047,
          2048,
          2049,
          2050
         ],
         "xaxis": "x2",
         "y": [
          0,
          0,
          0,
          0,
          0,
          0,
          0,
          0,
          0,
          0,
          2.2999999999999923,
          2.3,
          4.622145680104605,
          5.872145680104605,
          9.30957858179172,
          6.704999999999992,
          6.6,
          6.6,
          6.6,
          8.84609502649381,
          8.846095026493806,
          6.60294528073054,
          3.4961523689913263,
          2.4627488050224726,
          2.299999999999998,
          2.3,
          -9.313225746154785e-16,
          -9.458744898438453e-16,
          -5.529727786779403e-16,
          -1.1059455573558806e-15,
          1.2369127944111824e-16,
          0,
          0,
          0,
          0,
          0
         ],
         "yaxis": "y2"
        },
        {
         "fillcolor": "orange",
         "hoverinfo": "x+y",
         "line": {
          "color": "orange",
          "width": 0
         },
         "mode": "lines",
         "name": "Electrowinning",
         "showlegend": false,
         "stackgroup": "one",
         "type": "scatter",
         "x": [
          2015,
          2016,
          2017,
          2018,
          2019,
          2020,
          2021,
          2022,
          2023,
          2024,
          2025,
          2026,
          2027,
          2028,
          2029,
          2030,
          2031,
          2032,
          2033,
          2034,
          2035,
          2036,
          2037,
          2038,
          2039,
          2040,
          2041,
          2042,
          2043,
          2044,
          2045,
          2046,
          2047,
          2048,
          2049,
          2050
         ],
         "xaxis": "x2",
         "y": [
          0,
          0,
          0,
          0,
          0,
          0,
          0,
          0,
          0,
          0,
          0,
          0,
          0,
          0,
          0,
          0,
          0,
          0,
          0,
          0,
          0,
          0,
          0,
          -5.43996830966985e-16,
          -5.43996830966985e-16,
          0,
          0,
          0,
          0,
          0,
          0,
          0,
          0,
          0,
          0,
          1
         ],
         "yaxis": "y2"
        },
        {
         "fillcolor": "yellow",
         "hoverinfo": "x+y",
         "line": {
          "color": "yellow",
          "width": 0
         },
         "mode": "lines",
         "name": "EAF",
         "showlegend": false,
         "stackgroup": "one",
         "type": "scatter",
         "x": [
          2015,
          2016,
          2017,
          2018,
          2019,
          2020,
          2021,
          2022,
          2023,
          2024,
          2025,
          2026,
          2027,
          2028,
          2029,
          2030,
          2031,
          2032,
          2033,
          2034,
          2035,
          2036,
          2037,
          2038,
          2039,
          2040,
          2041,
          2042,
          2043,
          2044,
          2045,
          2046,
          2047,
          2048,
          2049,
          2050
         ],
         "xaxis": "x2",
         "y": [
          49.4,
          49.4,
          49.4,
          49.4,
          49.4,
          49.4,
          49.4,
          49.4,
          49.4,
          49.4,
          49.4,
          49.4,
          49.4,
          49.4,
          49.4,
          49.4,
          50.184999999999995,
          50.97,
          51.754999999999995,
          52.54,
          53.324999999999996,
          54.11,
          54.894999999999996,
          55.68,
          56.464999999999996,
          57.25,
          58.035,
          58.82,
          59.605,
          60.39,
          61.175,
          61.959999999999994,
          62.745,
          63.529999999999994,
          64.315,
          65.1
         ],
         "yaxis": "y2"
        },
        {
         "fillcolor": "Black",
         "hoverinfo": "x+y",
         "line": {
          "color": "Black",
          "width": 0
         },
         "mode": "lines",
         "name": "BF-BOF",
         "showlegend": false,
         "stackgroup": "one",
         "type": "scatter",
         "x": [
          2015,
          2016,
          2017,
          2018,
          2019,
          2020,
          2021,
          2022,
          2023,
          2024,
          2025,
          2026,
          2027,
          2028,
          2029,
          2030,
          2031,
          2032,
          2033,
          2034,
          2035,
          2036,
          2037,
          2038,
          2039,
          2040,
          2041,
          2042,
          2043,
          2044,
          2045,
          2046,
          2047,
          2048,
          2049,
          2050
         ],
         "xaxis": "x3",
         "y": [
          63.099999999999994,
          63.099999999999994,
          63.099999999999994,
          63.099999999999994,
          63.099999999999994,
          63.099999999999994,
          63.099999999999994,
          63.099999999999994,
          63.099999999999994,
          63.099999999999994,
          60.8,
          60.8,
          58.22980652982227,
          56.97980652982227,
          53.36960848551712,
          35.43921697103425,
          35.42421697103425,
          34.809216971034246,
          34.69421697103425,
          32.10312194454043,
          28.224216971034245,
          26.509382995270254,
          22.060773354614312,
          21.335773354614314,
          0.45999999999999963,
          0.3449999999999994,
          0.22999999999999934,
          0.11500000000000005,
          0,
          0,
          0,
          0,
          0,
          0,
          0,
          0
         ],
         "yaxis": "y3"
        },
        {
         "fillcolor": "brown",
         "hoverinfo": "x+y",
         "line": {
          "color": "brown",
          "width": 0
         },
         "mode": "lines",
         "name": "BF-BOF w/ Biomass",
         "showlegend": false,
         "stackgroup": "one",
         "type": "scatter",
         "x": [
          2015,
          2016,
          2017,
          2018,
          2019,
          2020,
          2021,
          2022,
          2023,
          2024,
          2025,
          2026,
          2027,
          2028,
          2029,
          2030,
          2031,
          2032,
          2033,
          2034,
          2035,
          2036,
          2037,
          2038,
          2039,
          2040,
          2041,
          2042,
          2043,
          2044,
          2045,
          2046,
          2047,
          2048,
          2049,
          2050
         ],
         "xaxis": "x3",
         "y": [
          0,
          0,
          0,
          0,
          0,
          0,
          0,
          0,
          0,
          0,
          0,
          0,
          0,
          0,
          0,
          0,
          0,
          0,
          0,
          0,
          3.3289049735061917,
          3.3289049735061917,
          5.00734858992613,
          4.94734858992613,
          25.03812194454044,
          24.36812194454044,
          23.69812194454044,
          23.69812194454044,
          23.429987408115025,
          22.31952841315574,
          20.813420367883523,
          18.1385088848959,
          14.8535088848959,
          10.640270578056374,
          5.817204353214835,
          0
         ],
         "yaxis": "y3"
        },
        {
         "fillcolor": "turquoise",
         "hoverinfo": "x+y",
         "line": {
          "color": "turquoise",
          "width": 0
         },
         "mode": "lines",
         "name": "DRI-EAF-H2",
         "showlegend": false,
         "stackgroup": "one",
         "type": "scatter",
         "x": [
          2015,
          2016,
          2017,
          2018,
          2019,
          2020,
          2021,
          2022,
          2023,
          2024,
          2025,
          2026,
          2027,
          2028,
          2029,
          2030,
          2031,
          2032,
          2033,
          2034,
          2035,
          2036,
          2037,
          2038,
          2039,
          2040,
          2041,
          2042,
          2043,
          2044,
          2045,
          2046,
          2047,
          2048,
          2049,
          2050
         ],
         "xaxis": "x3",
         "y": [
          0,
          0,
          0,
          0,
          0,
          0,
          0,
          0,
          0,
          0,
          0,
          0,
          0,
          0,
          0,
          20.280633918756852,
          20.29078302896575,
          20.12078302896575,
          19.45078302896575,
          18.780783028965747,
          18.54578302896575,
          21.470324065759357,
          25.97106340279752,
          27.782073175670725,
          28.23687805545955,
          28.236878055459552,
          30.536878055459553,
          29.866878055459555,
          29.465012591884975,
          29.790471586844255,
          30.511579632116472,
          32.4014911151041,
          34.9014911151041,
          38.064729421943625,
          41.83779564678516,
          46.065784313725494
         ],
         "yaxis": "y3"
        },
        {
         "fillcolor": "purple",
         "hoverinfo": "x+y",
         "line": {
          "color": "purple",
          "width": 0
         },
         "mode": "lines",
         "name": "DRI-EAF-CH4",
         "showlegend": false,
         "stackgroup": "one",
         "type": "scatter",
         "x": [
          2015,
          2016,
          2017,
          2018,
          2019,
          2020,
          2021,
          2022,
          2023,
          2024,
          2025,
          2026,
          2027,
          2028,
          2029,
          2030,
          2031,
          2032,
          2033,
          2034,
          2035,
          2036,
          2037,
          2038,
          2039,
          2040,
          2041,
          2042,
          2043,
          2044,
          2045,
          2046,
          2047,
          2048,
          2049,
          2050
         ],
         "xaxis": "x3",
         "y": [
          0,
          0,
          0,
          0,
          0,
          0,
          0,
          0,
          0,
          0,
          2.3,
          2.3,
          4.870193470177728,
          6.120193470177728,
          9.730391514482879,
          7.380149110208893,
          6.6,
          6.6,
          6.6,
          9.076095026493809,
          9.076095026493809,
          7.081387965464192,
          4.565814652662033,
          2.75480487978883,
          2.3,
          2.2999999999999994,
          0,
          4.729372449219226e-16,
          -3.05590219795704e-16,
          -7.566995918750762e-16,
          8.36735125631094e-17,
          0,
          9.313225746154785e-16,
          0,
          2.9331204132176934e-16,
          0
         ],
         "yaxis": "y3"
        },
        {
         "fillcolor": "orange",
         "hoverinfo": "x+y",
         "line": {
          "color": "orange",
          "width": 0
         },
         "mode": "lines",
         "name": "Electrowinning",
         "showlegend": false,
         "stackgroup": "one",
         "type": "scatter",
         "x": [
          2015,
          2016,
          2017,
          2018,
          2019,
          2020,
          2021,
          2022,
          2023,
          2024,
          2025,
          2026,
          2027,
          2028,
          2029,
          2030,
          2031,
          2032,
          2033,
          2034,
          2035,
          2036,
          2037,
          2038,
          2039,
          2040,
          2041,
          2042,
          2043,
          2044,
          2045,
          2046,
          2047,
          2048,
          2049,
          2050
         ],
         "xaxis": "x3",
         "y": [
          0,
          0,
          0,
          0,
          0,
          0,
          0,
          0,
          0,
          0,
          0,
          0,
          0,
          0,
          0,
          0,
          0,
          0,
          0,
          0,
          0,
          0,
          0,
          1.170700765750536e-15,
          9.014803805953606e-16,
          0,
          -1.5535022408507965e-16,
          0,
          0,
          0,
          0,
          0,
          0,
          0.2649999999999995,
          0.5300000000000005,
          1.3342156862745065
         ],
         "yaxis": "y3"
        },
        {
         "fillcolor": "yellow",
         "hoverinfo": "x+y",
         "line": {
          "color": "yellow",
          "width": 0
         },
         "mode": "lines",
         "name": "EAF",
         "showlegend": false,
         "stackgroup": "one",
         "type": "scatter",
         "x": [
          2015,
          2016,
          2017,
          2018,
          2019,
          2020,
          2021,
          2022,
          2023,
          2024,
          2025,
          2026,
          2027,
          2028,
          2029,
          2030,
          2031,
          2032,
          2033,
          2034,
          2035,
          2036,
          2037,
          2038,
          2039,
          2040,
          2041,
          2042,
          2043,
          2044,
          2045,
          2046,
          2047,
          2048,
          2049,
          2050
         ],
         "xaxis": "x3",
         "y": [
          49.4,
          49.4,
          49.4,
          49.4,
          49.4,
          49.4,
          49.4,
          49.4,
          49.4,
          49.4,
          49.4,
          49.4,
          49.4,
          49.4,
          49.4,
          49.4,
          50.184999999999995,
          50.97,
          51.754999999999995,
          52.54,
          53.324999999999996,
          54.11,
          54.894999999999996,
          55.68,
          56.464999999999996,
          57.25,
          58.035,
          58.82,
          59.605,
          60.39,
          61.175,
          61.959999999999994,
          62.745,
          63.529999999999994,
          64.315,
          65.1
         ],
         "yaxis": "y3"
        }
       ],
       "layout": {
        "annotations": [
         {
          "font": {
           "size": 24
          },
          "showarrow": false,
          "text": "High electricity price",
          "x": 0.14444444444444446,
          "xanchor": "center",
          "xref": "paper",
          "y": 1,
          "yanchor": "bottom",
          "yref": "paper"
         },
         {
          "font": {
           "size": 24
          },
          "showarrow": false,
          "text": "Reference",
          "x": 0.5,
          "xanchor": "center",
          "xref": "paper",
          "y": 1,
          "yanchor": "bottom",
          "yref": "paper"
         },
         {
          "font": {
           "size": 24
          },
          "showarrow": false,
          "text": "Fossil phase-out",
          "x": 0.8555555555555556,
          "xanchor": "center",
          "xref": "paper",
          "y": 1,
          "yanchor": "bottom",
          "yref": "paper"
         }
        ],
        "font": {
         "family": "Times New Roman",
         "size": 24
        },
        "legend": {
         "font": {
          "size": 18
         },
         "orientation": "h",
         "x": 1.01,
         "xanchor": "right",
         "y": 1.1,
         "yanchor": "bottom"
        },
        "template": {
         "data": {
          "bar": [
           {
            "error_x": {
             "color": "#2a3f5f"
            },
            "error_y": {
             "color": "#2a3f5f"
            },
            "marker": {
             "line": {
              "color": "#E5ECF6",
              "width": 0.5
             },
             "pattern": {
              "fillmode": "overlay",
              "size": 10,
              "solidity": 0.2
             }
            },
            "type": "bar"
           }
          ],
          "barpolar": [
           {
            "marker": {
             "line": {
              "color": "#E5ECF6",
              "width": 0.5
             },
             "pattern": {
              "fillmode": "overlay",
              "size": 10,
              "solidity": 0.2
             }
            },
            "type": "barpolar"
           }
          ],
          "carpet": [
           {
            "aaxis": {
             "endlinecolor": "#2a3f5f",
             "gridcolor": "white",
             "linecolor": "white",
             "minorgridcolor": "white",
             "startlinecolor": "#2a3f5f"
            },
            "baxis": {
             "endlinecolor": "#2a3f5f",
             "gridcolor": "white",
             "linecolor": "white",
             "minorgridcolor": "white",
             "startlinecolor": "#2a3f5f"
            },
            "type": "carpet"
           }
          ],
          "choropleth": [
           {
            "colorbar": {
             "outlinewidth": 0,
             "ticks": ""
            },
            "type": "choropleth"
           }
          ],
          "contour": [
           {
            "colorbar": {
             "outlinewidth": 0,
             "ticks": ""
            },
            "colorscale": [
             [
              0,
              "#0d0887"
             ],
             [
              0.1111111111111111,
              "#46039f"
             ],
             [
              0.2222222222222222,
              "#7201a8"
             ],
             [
              0.3333333333333333,
              "#9c179e"
             ],
             [
              0.4444444444444444,
              "#bd3786"
             ],
             [
              0.5555555555555556,
              "#d8576b"
             ],
             [
              0.6666666666666666,
              "#ed7953"
             ],
             [
              0.7777777777777778,
              "#fb9f3a"
             ],
             [
              0.8888888888888888,
              "#fdca26"
             ],
             [
              1,
              "#f0f921"
             ]
            ],
            "type": "contour"
           }
          ],
          "contourcarpet": [
           {
            "colorbar": {
             "outlinewidth": 0,
             "ticks": ""
            },
            "type": "contourcarpet"
           }
          ],
          "heatmap": [
           {
            "colorbar": {
             "outlinewidth": 0,
             "ticks": ""
            },
            "colorscale": [
             [
              0,
              "#0d0887"
             ],
             [
              0.1111111111111111,
              "#46039f"
             ],
             [
              0.2222222222222222,
              "#7201a8"
             ],
             [
              0.3333333333333333,
              "#9c179e"
             ],
             [
              0.4444444444444444,
              "#bd3786"
             ],
             [
              0.5555555555555556,
              "#d8576b"
             ],
             [
              0.6666666666666666,
              "#ed7953"
             ],
             [
              0.7777777777777778,
              "#fb9f3a"
             ],
             [
              0.8888888888888888,
              "#fdca26"
             ],
             [
              1,
              "#f0f921"
             ]
            ],
            "type": "heatmap"
           }
          ],
          "heatmapgl": [
           {
            "colorbar": {
             "outlinewidth": 0,
             "ticks": ""
            },
            "colorscale": [
             [
              0,
              "#0d0887"
             ],
             [
              0.1111111111111111,
              "#46039f"
             ],
             [
              0.2222222222222222,
              "#7201a8"
             ],
             [
              0.3333333333333333,
              "#9c179e"
             ],
             [
              0.4444444444444444,
              "#bd3786"
             ],
             [
              0.5555555555555556,
              "#d8576b"
             ],
             [
              0.6666666666666666,
              "#ed7953"
             ],
             [
              0.7777777777777778,
              "#fb9f3a"
             ],
             [
              0.8888888888888888,
              "#fdca26"
             ],
             [
              1,
              "#f0f921"
             ]
            ],
            "type": "heatmapgl"
           }
          ],
          "histogram": [
           {
            "marker": {
             "pattern": {
              "fillmode": "overlay",
              "size": 10,
              "solidity": 0.2
             }
            },
            "type": "histogram"
           }
          ],
          "histogram2d": [
           {
            "colorbar": {
             "outlinewidth": 0,
             "ticks": ""
            },
            "colorscale": [
             [
              0,
              "#0d0887"
             ],
             [
              0.1111111111111111,
              "#46039f"
             ],
             [
              0.2222222222222222,
              "#7201a8"
             ],
             [
              0.3333333333333333,
              "#9c179e"
             ],
             [
              0.4444444444444444,
              "#bd3786"
             ],
             [
              0.5555555555555556,
              "#d8576b"
             ],
             [
              0.6666666666666666,
              "#ed7953"
             ],
             [
              0.7777777777777778,
              "#fb9f3a"
             ],
             [
              0.8888888888888888,
              "#fdca26"
             ],
             [
              1,
              "#f0f921"
             ]
            ],
            "type": "histogram2d"
           }
          ],
          "histogram2dcontour": [
           {
            "colorbar": {
             "outlinewidth": 0,
             "ticks": ""
            },
            "colorscale": [
             [
              0,
              "#0d0887"
             ],
             [
              0.1111111111111111,
              "#46039f"
             ],
             [
              0.2222222222222222,
              "#7201a8"
             ],
             [
              0.3333333333333333,
              "#9c179e"
             ],
             [
              0.4444444444444444,
              "#bd3786"
             ],
             [
              0.5555555555555556,
              "#d8576b"
             ],
             [
              0.6666666666666666,
              "#ed7953"
             ],
             [
              0.7777777777777778,
              "#fb9f3a"
             ],
             [
              0.8888888888888888,
              "#fdca26"
             ],
             [
              1,
              "#f0f921"
             ]
            ],
            "type": "histogram2dcontour"
           }
          ],
          "mesh3d": [
           {
            "colorbar": {
             "outlinewidth": 0,
             "ticks": ""
            },
            "type": "mesh3d"
           }
          ],
          "parcoords": [
           {
            "line": {
             "colorbar": {
              "outlinewidth": 0,
              "ticks": ""
             }
            },
            "type": "parcoords"
           }
          ],
          "pie": [
           {
            "automargin": true,
            "type": "pie"
           }
          ],
          "scatter": [
           {
            "marker": {
             "colorbar": {
              "outlinewidth": 0,
              "ticks": ""
             }
            },
            "type": "scatter"
           }
          ],
          "scatter3d": [
           {
            "line": {
             "colorbar": {
              "outlinewidth": 0,
              "ticks": ""
             }
            },
            "marker": {
             "colorbar": {
              "outlinewidth": 0,
              "ticks": ""
             }
            },
            "type": "scatter3d"
           }
          ],
          "scattercarpet": [
           {
            "marker": {
             "colorbar": {
              "outlinewidth": 0,
              "ticks": ""
             }
            },
            "type": "scattercarpet"
           }
          ],
          "scattergeo": [
           {
            "marker": {
             "colorbar": {
              "outlinewidth": 0,
              "ticks": ""
             }
            },
            "type": "scattergeo"
           }
          ],
          "scattergl": [
           {
            "marker": {
             "colorbar": {
              "outlinewidth": 0,
              "ticks": ""
             }
            },
            "type": "scattergl"
           }
          ],
          "scattermapbox": [
           {
            "marker": {
             "colorbar": {
              "outlinewidth": 0,
              "ticks": ""
             }
            },
            "type": "scattermapbox"
           }
          ],
          "scatterpolar": [
           {
            "marker": {
             "colorbar": {
              "outlinewidth": 0,
              "ticks": ""
             }
            },
            "type": "scatterpolar"
           }
          ],
          "scatterpolargl": [
           {
            "marker": {
             "colorbar": {
              "outlinewidth": 0,
              "ticks": ""
             }
            },
            "type": "scatterpolargl"
           }
          ],
          "scatterternary": [
           {
            "marker": {
             "colorbar": {
              "outlinewidth": 0,
              "ticks": ""
             }
            },
            "type": "scatterternary"
           }
          ],
          "surface": [
           {
            "colorbar": {
             "outlinewidth": 0,
             "ticks": ""
            },
            "colorscale": [
             [
              0,
              "#0d0887"
             ],
             [
              0.1111111111111111,
              "#46039f"
             ],
             [
              0.2222222222222222,
              "#7201a8"
             ],
             [
              0.3333333333333333,
              "#9c179e"
             ],
             [
              0.4444444444444444,
              "#bd3786"
             ],
             [
              0.5555555555555556,
              "#d8576b"
             ],
             [
              0.6666666666666666,
              "#ed7953"
             ],
             [
              0.7777777777777778,
              "#fb9f3a"
             ],
             [
              0.8888888888888888,
              "#fdca26"
             ],
             [
              1,
              "#f0f921"
             ]
            ],
            "type": "surface"
           }
          ],
          "table": [
           {
            "cells": {
             "fill": {
              "color": "#EBF0F8"
             },
             "line": {
              "color": "white"
             }
            },
            "header": {
             "fill": {
              "color": "#C8D4E3"
             },
             "line": {
              "color": "white"
             }
            },
            "type": "table"
           }
          ]
         },
         "layout": {
          "annotationdefaults": {
           "arrowcolor": "#2a3f5f",
           "arrowhead": 0,
           "arrowwidth": 1
          },
          "autotypenumbers": "strict",
          "coloraxis": {
           "colorbar": {
            "outlinewidth": 0,
            "ticks": ""
           }
          },
          "colorscale": {
           "diverging": [
            [
             0,
             "#8e0152"
            ],
            [
             0.1,
             "#c51b7d"
            ],
            [
             0.2,
             "#de77ae"
            ],
            [
             0.3,
             "#f1b6da"
            ],
            [
             0.4,
             "#fde0ef"
            ],
            [
             0.5,
             "#f7f7f7"
            ],
            [
             0.6,
             "#e6f5d0"
            ],
            [
             0.7,
             "#b8e186"
            ],
            [
             0.8,
             "#7fbc41"
            ],
            [
             0.9,
             "#4d9221"
            ],
            [
             1,
             "#276419"
            ]
           ],
           "sequential": [
            [
             0,
             "#0d0887"
            ],
            [
             0.1111111111111111,
             "#46039f"
            ],
            [
             0.2222222222222222,
             "#7201a8"
            ],
            [
             0.3333333333333333,
             "#9c179e"
            ],
            [
             0.4444444444444444,
             "#bd3786"
            ],
            [
             0.5555555555555556,
             "#d8576b"
            ],
            [
             0.6666666666666666,
             "#ed7953"
            ],
            [
             0.7777777777777778,
             "#fb9f3a"
            ],
            [
             0.8888888888888888,
             "#fdca26"
            ],
            [
             1,
             "#f0f921"
            ]
           ],
           "sequentialminus": [
            [
             0,
             "#0d0887"
            ],
            [
             0.1111111111111111,
             "#46039f"
            ],
            [
             0.2222222222222222,
             "#7201a8"
            ],
            [
             0.3333333333333333,
             "#9c179e"
            ],
            [
             0.4444444444444444,
             "#bd3786"
            ],
            [
             0.5555555555555556,
             "#d8576b"
            ],
            [
             0.6666666666666666,
             "#ed7953"
            ],
            [
             0.7777777777777778,
             "#fb9f3a"
            ],
            [
             0.8888888888888888,
             "#fdca26"
            ],
            [
             1,
             "#f0f921"
            ]
           ]
          },
          "colorway": [
           "#636efa",
           "#EF553B",
           "#00cc96",
           "#ab63fa",
           "#FFA15A",
           "#19d3f3",
           "#FF6692",
           "#B6E880",
           "#FF97FF",
           "#FECB52"
          ],
          "font": {
           "color": "#2a3f5f"
          },
          "geo": {
           "bgcolor": "white",
           "lakecolor": "white",
           "landcolor": "#E5ECF6",
           "showlakes": true,
           "showland": true,
           "subunitcolor": "white"
          },
          "hoverlabel": {
           "align": "left"
          },
          "hovermode": "closest",
          "mapbox": {
           "style": "light"
          },
          "paper_bgcolor": "white",
          "plot_bgcolor": "#E5ECF6",
          "polar": {
           "angularaxis": {
            "gridcolor": "white",
            "linecolor": "white",
            "ticks": ""
           },
           "bgcolor": "#E5ECF6",
           "radialaxis": {
            "gridcolor": "white",
            "linecolor": "white",
            "ticks": ""
           }
          },
          "scene": {
           "xaxis": {
            "backgroundcolor": "#E5ECF6",
            "gridcolor": "white",
            "gridwidth": 2,
            "linecolor": "white",
            "showbackground": true,
            "ticks": "",
            "zerolinecolor": "white"
           },
           "yaxis": {
            "backgroundcolor": "#E5ECF6",
            "gridcolor": "white",
            "gridwidth": 2,
            "linecolor": "white",
            "showbackground": true,
            "ticks": "",
            "zerolinecolor": "white"
           },
           "zaxis": {
            "backgroundcolor": "#E5ECF6",
            "gridcolor": "white",
            "gridwidth": 2,
            "linecolor": "white",
            "showbackground": true,
            "ticks": "",
            "zerolinecolor": "white"
           }
          },
          "shapedefaults": {
           "line": {
            "color": "#2a3f5f"
           }
          },
          "ternary": {
           "aaxis": {
            "gridcolor": "white",
            "linecolor": "white",
            "ticks": ""
           },
           "baxis": {
            "gridcolor": "white",
            "linecolor": "white",
            "ticks": ""
           },
           "bgcolor": "#E5ECF6",
           "caxis": {
            "gridcolor": "white",
            "linecolor": "white",
            "ticks": ""
           }
          },
          "title": {
           "x": 0.05
          },
          "xaxis": {
           "automargin": true,
           "gridcolor": "white",
           "linecolor": "white",
           "ticks": "",
           "title": {
            "standoff": 15
           },
           "zerolinecolor": "white",
           "zerolinewidth": 2
          },
          "yaxis": {
           "automargin": true,
           "gridcolor": "white",
           "linecolor": "white",
           "ticks": "",
           "title": {
            "standoff": 15
           },
           "zerolinecolor": "white",
           "zerolinewidth": 2
          }
         }
        },
        "xaxis": {
         "anchor": "y",
         "domain": [
          0,
          0.2888888888888889
         ]
        },
        "xaxis2": {
         "anchor": "y2",
         "domain": [
          0.35555555555555557,
          0.6444444444444445
         ]
        },
        "xaxis3": {
         "anchor": "y3",
         "domain": [
          0.7111111111111111,
          1
         ]
        },
        "yaxis": {
         "anchor": "x",
         "domain": [
          0,
          1
         ],
         "title": {
          "text": "Production (Mt of steel)"
         }
        },
        "yaxis2": {
         "anchor": "x2",
         "domain": [
          0,
          1
         ],
         "matches": "y",
         "showticklabels": false
        },
        "yaxis3": {
         "anchor": "x3",
         "domain": [
          0,
          1
         ],
         "matches": "y",
         "showticklabels": false
        }
       }
      },
      "text/html": [
       "<div>                            <div id=\"e1a3ad45-bd22-4c47-95b2-f2709cac2159\" class=\"plotly-graph-div\" style=\"height:525px; width:100%;\"></div>            <script type=\"text/javascript\">                require([\"plotly\"], function(Plotly) {                    window.PLOTLYENV=window.PLOTLYENV || {};                                    if (document.getElementById(\"e1a3ad45-bd22-4c47-95b2-f2709cac2159\")) {                    Plotly.newPlot(                        \"e1a3ad45-bd22-4c47-95b2-f2709cac2159\",                        [{\"fillcolor\":\"Black\",\"hoverinfo\":\"x+y\",\"line\":{\"color\":\"Black\",\"width\":0},\"mode\":\"lines\",\"name\":\"BF-BOF\",\"showlegend\":true,\"stackgroup\":\"one\",\"type\":\"scatter\",\"x\":[2015,2016,2017,2018,2019,2020,2021,2022,2023,2024,2025,2026,2027,2028,2029,2030,2031,2032,2033,2034,2035,2036,2037,2038,2039,2040,2041,2042,2043,2044,2045,2046,2047,2048,2049,2050],\"xaxis\":\"x\",\"y\":[63.099999999999994,63.099999999999994,63.099999999999994,63.099999999999994,63.099999999999994,63.099999999999994,63.099999999999994,63.099999999999994,63.099999999999994,63.099999999999994,60.8,60.8,58.8,58.8,58.8,54.60644301401552,54.53144301401551,54.01182451178596,53.226824511785956,52.44182451178596,48.24433542613024,45.05933542613023,37.39433542613023,36.66933542613023,3.3360950264938083,3.221095026493808,3.1060950264938083,2.991095026493808,2.8760950264938083,2.817648877205108,2.7026488772051076,2.587648877205108,2.4160950264938084,2.301095026493808,2.186095026493808,0.0],\"yaxis\":\"y\"},{\"fillcolor\":\"brown\",\"hoverinfo\":\"x+y\",\"line\":{\"color\":\"brown\",\"width\":0},\"mode\":\"lines\",\"name\":\"BF-BOF w/ Biomass\",\"showlegend\":true,\"stackgroup\":\"one\",\"type\":\"scatter\",\"x\":[2015,2016,2017,2018,2019,2020,2021,2022,2023,2024,2025,2026,2027,2028,2029,2030,2031,2032,2033,2034,2035,2036,2037,2038,2039,2040,2041,2042,2043,2044,2045,2046,2047,2048,2049,2050],\"xaxis\":\"x\",\"y\":[0.0,0.0,0.0,0.0,0.0,0.0,0.0,0.0,0.0,0.0,0.0,0.0,0.0,0.0,0.0,0.0,0.0,0.0,0.0,0.0,3.3289049735061917,5.728904973506191,12.608904973506188,12.54890497350619,44.205347987521705,43.5353479875217,43.525347987521705,43.525347987521705,43.20212648051395,42.59212648051394,41.98212648051394,41.37212648051394,40.76212648051394,39.698923866134855,37.60574014438445,32.11667777528239],\"yaxis\":\"y\"},{\"fillcolor\":\"turquoise\",\"hoverinfo\":\"x+y\",\"line\":{\"color\":\"turquoise\",\"width\":0},\"mode\":\"lines\",\"name\":\"DRI-EAF-H2\",\"showlegend\":true,\"stackgroup\":\"one\",\"type\":\"scatter\",\"x\":[2015,2016,2017,2018,2019,2020,2021,2022,2023,2024,2025,2026,2027,2028,2029,2030,2031,2032,2033,2034,2035,2036,2037,2038,2039,2040,2041,2042,2043,2044,2045,2046,2047,2048,2049,2050],\"xaxis\":\"x\",\"y\":[0.0,0.0,0.0,0.0,0.0,0.0,0.0,0.0,0.0,0.0,0.0,0.0,0.0,0.0,0.0,2.9017596003635693,1.6671410981340136,1.4017596003635704,1.4017596003635704,1.4017596003635704,1.7025330996068881,4.7057649042116845,4.7057649042116845,5.177071816185584,6.068869201806498,6.068869201806498,7.696192882792655,7.026192882792655,6.679414389800413,6.575536858102955,6.515536858102957,6.455536858102955,6.452090708814255,6.845293323193341,8.26847704494375,15.15863444053962],\"yaxis\":\"y\"},{\"fillcolor\":\"purple\",\"hoverinfo\":\"x+y\",\"line\":{\"color\":\"purple\",\"width\":0},\"mode\":\"lines\",\"name\":\"DRI-EAF-CH4\",\"showlegend\":true,\"stackgroup\":\"one\",\"type\":\"scatter\",\"x\":[2015,2016,2017,2018,2019,2020,2021,2022,2023,2024,2025,2026,2027,2028,2029,2030,2031,2032,2033,2034,2035,2036,2037,2038,2039,2040,2041,2042,2043,2044,2045,2046,2047,2048,2049,2050],\"xaxis\":\"x\",\"y\":[0.0,0.0,0.0,0.0,0.0,0.0,0.0,0.0,0.0,0.0,2.3,2.3,4.3,4.3,4.300000000000003,5.591797385620914,6.116415887850469,6.116415887850467,6.116415887850467,6.116415887850467,5.899226500756683,2.895994696151885,2.895994696151885,2.424687784177986,2.4246877841779866,2.4246877841779866,0.13736410319182868,0.1373641031918284,0.13736410319182862,0.12468778417798632,0.12468778417798632,0.1246877841779864,0.12468778417798647,0.12468778417798669,0.1246877841779864,0.12468778417798643],\"yaxis\":\"y\"},{\"fillcolor\":\"orange\",\"hoverinfo\":\"x+y\",\"line\":{\"color\":\"orange\",\"width\":0},\"mode\":\"lines\",\"name\":\"Electrowinning\",\"showlegend\":true,\"stackgroup\":\"one\",\"type\":\"scatter\",\"x\":[2015,2016,2017,2018,2019,2020,2021,2022,2023,2024,2025,2026,2027,2028,2029,2030,2031,2032,2033,2034,2035,2036,2037,2038,2039,2040,2041,2042,2043,2044,2045,2046,2047,2048,2049,2050],\"xaxis\":\"x\",\"y\":[0.0,0.0,0.0,0.0,0.0,0.0,0.0,0.0,0.0,0.0,0.0,0.0,0.0,0.0,0.0,0.0,0.0,0.0,0.0,0.0,0.0,0.0,0.0,0.0,0.0,0.0,0.0,0.0,0.0,0.0,0.0,0.0,0.0,0.0,0.0,0.0],\"yaxis\":\"y\"},{\"fillcolor\":\"yellow\",\"hoverinfo\":\"x+y\",\"line\":{\"color\":\"yellow\",\"width\":0},\"mode\":\"lines\",\"name\":\"EAF\",\"showlegend\":true,\"stackgroup\":\"one\",\"type\":\"scatter\",\"x\":[2015,2016,2017,2018,2019,2020,2021,2022,2023,2024,2025,2026,2027,2028,2029,2030,2031,2032,2033,2034,2035,2036,2037,2038,2039,2040,2041,2042,2043,2044,2045,2046,2047,2048,2049,2050],\"xaxis\":\"x\",\"y\":[49.4,49.4,49.4,49.4,49.4,49.4,49.4,49.4,49.4,49.4,49.4,49.4,49.4,49.4,49.4,49.4,50.184999999999995,50.97,51.754999999999995,52.54,53.324999999999996,54.11,54.894999999999996,55.68,56.464999999999996,57.25,58.035,58.82,59.605,60.39,61.175,61.959999999999994,62.745,63.529999999999994,64.315,65.1],\"yaxis\":\"y\"},{\"fillcolor\":\"Black\",\"hoverinfo\":\"x+y\",\"line\":{\"color\":\"Black\",\"width\":0},\"mode\":\"lines\",\"name\":\"BF-BOF\",\"showlegend\":false,\"stackgroup\":\"one\",\"type\":\"scatter\",\"x\":[2015,2016,2017,2018,2019,2020,2021,2022,2023,2024,2025,2026,2027,2028,2029,2030,2031,2032,2033,2034,2035,2036,2037,2038,2039,2040,2041,2042,2043,2044,2045,2046,2047,2048,2049,2050],\"xaxis\":\"x2\",\"y\":[63.099999999999994,63.099999999999994,63.099999999999994,63.099999999999994,63.099999999999994,63.099999999999994,63.099999999999994,63.099999999999994,63.099999999999994,63.099999999999994,60.800000000000004,60.8,58.47785431989539,57.22785431989539,53.790421418208275,36.320842836416546,36.30584283641656,35.69084283641655,35.57584283641655,33.12310443970337,28.6047472562703,27.100681418613345,22.811100796653527,22.086100796653525,0.6899999999999996,0.5749999999999996,0.45999999999999963,0.34499999999999964,0.22999999999999962,0.11499999999999963,0.0,0.0,0.0,0.0,0.0,0.0],\"yaxis\":\"y2\"},{\"fillcolor\":\"brown\",\"hoverinfo\":\"x+y\",\"line\":{\"color\":\"brown\",\"width\":0},\"mode\":\"lines\",\"name\":\"BF-BOF w/ Biomass\",\"showlegend\":false,\"stackgroup\":\"one\",\"type\":\"scatter\",\"x\":[2015,2016,2017,2018,2019,2020,2021,2022,2023,2024,2025,2026,2027,2028,2029,2030,2031,2032,2033,2034,2035,2036,2037,2038,2039,2040,2041,2042,2043,2044,2045,2046,2047,2048,2049,2050],\"xaxis\":\"x2\",\"y\":[0.0,0.0,0.0,0.0,0.0,0.0,0.0,0.0,0.0,0.0,0.0,0.0,0.0,0.0,0.0,0.0,0.0,0.0,0.0,0.0,3.3289049735061917,3.3289049735061917,5.368647013269214,5.308647013269215,25.919747809922743,25.24974780992274,24.639747809922742,24.639747809922742,24.110374667838325,23.440374667838327,22.128095036652603,21.114747809922743,20.274393490027354,16.989393490027354,12.998779543419117,4.600354319895392],\"yaxis\":\"y2\"},{\"fillcolor\":\"turquoise\",\"hoverinfo\":\"x+y\",\"line\":{\"color\":\"turquoise\",\"width\":0},\"mode\":\"lines\",\"name\":\"DRI-EAF-H2\",\"showlegend\":false,\"stackgroup\":\"one\",\"type\":\"scatter\",\"x\":[2015,2016,2017,2018,2019,2020,2021,2022,2023,2024,2025,2026,2027,2028,2029,2030,2031,2032,2033,2034,2035,2036,2037,2038,2039,2040,2041,2042,2043,2044,2045,2046,2047,2048,2049,2050],\"xaxis\":\"x2\",\"y\":[0.0,0.0,0.0,0.0,0.0,0.0,0.0,0.0,0.0,0.0,0.0,0.0,0.0,0.0,0.0,20.074157163583454,19.409157163583448,19.239157163583453,18.56915716358345,17.990800533802823,18.3952527437297,21.357468327149924,25.929099821085927,26.96250338505478,27.125252190077255,27.12525219007725,29.365252190077253,28.695252190077255,28.55462533216167,28.55462533216167,29.196904963347396,29.425252190077252,29.480606509972645,31.980606509972645,35.186220456580884,41.799645680104604],\"yaxis\":\"y2\"},{\"fillcolor\":\"purple\",\"hoverinfo\":\"x+y\",\"line\":{\"color\":\"purple\",\"width\":0},\"mode\":\"lines\",\"name\":\"DRI-EAF-CH4\",\"showlegend\":false,\"stackgroup\":\"one\",\"type\":\"scatter\",\"x\":[2015,2016,2017,2018,2019,2020,2021,2022,2023,2024,2025,2026,2027,2028,2029,2030,2031,2032,2033,2034,2035,2036,2037,2038,2039,2040,2041,2042,2043,2044,2045,2046,2047,2048,2049,2050],\"xaxis\":\"x2\",\"y\":[0.0,0.0,0.0,0.0,0.0,0.0,0.0,0.0,0.0,0.0,2.2999999999999923,2.3,4.622145680104605,5.872145680104605,9.30957858179172,6.704999999999992,6.6,6.6,6.6,8.84609502649381,8.846095026493806,6.60294528073054,3.4961523689913263,2.4627488050224726,2.299999999999998,2.3,-9.313225746154785e-16,-9.458744898438453e-16,-5.529727786779403e-16,-1.1059455573558806e-15,1.2369127944111824e-16,0.0,0.0,0.0,0.0,0.0],\"yaxis\":\"y2\"},{\"fillcolor\":\"orange\",\"hoverinfo\":\"x+y\",\"line\":{\"color\":\"orange\",\"width\":0},\"mode\":\"lines\",\"name\":\"Electrowinning\",\"showlegend\":false,\"stackgroup\":\"one\",\"type\":\"scatter\",\"x\":[2015,2016,2017,2018,2019,2020,2021,2022,2023,2024,2025,2026,2027,2028,2029,2030,2031,2032,2033,2034,2035,2036,2037,2038,2039,2040,2041,2042,2043,2044,2045,2046,2047,2048,2049,2050],\"xaxis\":\"x2\",\"y\":[0.0,0.0,0.0,0.0,0.0,0.0,0.0,0.0,0.0,0.0,0.0,0.0,0.0,0.0,0.0,0.0,0.0,0.0,0.0,0.0,0.0,0.0,0.0,-5.43996830966985e-16,-5.43996830966985e-16,0.0,0.0,0.0,0.0,0.0,0.0,0.0,0.0,0.0,0.0,1.0],\"yaxis\":\"y2\"},{\"fillcolor\":\"yellow\",\"hoverinfo\":\"x+y\",\"line\":{\"color\":\"yellow\",\"width\":0},\"mode\":\"lines\",\"name\":\"EAF\",\"showlegend\":false,\"stackgroup\":\"one\",\"type\":\"scatter\",\"x\":[2015,2016,2017,2018,2019,2020,2021,2022,2023,2024,2025,2026,2027,2028,2029,2030,2031,2032,2033,2034,2035,2036,2037,2038,2039,2040,2041,2042,2043,2044,2045,2046,2047,2048,2049,2050],\"xaxis\":\"x2\",\"y\":[49.4,49.4,49.4,49.4,49.4,49.4,49.4,49.4,49.4,49.4,49.4,49.4,49.4,49.4,49.4,49.4,50.184999999999995,50.97,51.754999999999995,52.54,53.324999999999996,54.11,54.894999999999996,55.68,56.464999999999996,57.25,58.035,58.82,59.605,60.39,61.175,61.959999999999994,62.745,63.529999999999994,64.315,65.1],\"yaxis\":\"y2\"},{\"fillcolor\":\"Black\",\"hoverinfo\":\"x+y\",\"line\":{\"color\":\"Black\",\"width\":0},\"mode\":\"lines\",\"name\":\"BF-BOF\",\"showlegend\":false,\"stackgroup\":\"one\",\"type\":\"scatter\",\"x\":[2015,2016,2017,2018,2019,2020,2021,2022,2023,2024,2025,2026,2027,2028,2029,2030,2031,2032,2033,2034,2035,2036,2037,2038,2039,2040,2041,2042,2043,2044,2045,2046,2047,2048,2049,2050],\"xaxis\":\"x3\",\"y\":[63.099999999999994,63.099999999999994,63.099999999999994,63.099999999999994,63.099999999999994,63.099999999999994,63.099999999999994,63.099999999999994,63.099999999999994,63.099999999999994,60.8,60.8,58.22980652982227,56.97980652982227,53.36960848551712,35.43921697103425,35.42421697103425,34.809216971034246,34.69421697103425,32.10312194454043,28.224216971034245,26.509382995270254,22.060773354614312,21.335773354614314,0.45999999999999963,0.3449999999999994,0.22999999999999934,0.11500000000000005,0.0,0.0,0.0,0.0,0.0,0.0,0.0,0.0],\"yaxis\":\"y3\"},{\"fillcolor\":\"brown\",\"hoverinfo\":\"x+y\",\"line\":{\"color\":\"brown\",\"width\":0},\"mode\":\"lines\",\"name\":\"BF-BOF w/ Biomass\",\"showlegend\":false,\"stackgroup\":\"one\",\"type\":\"scatter\",\"x\":[2015,2016,2017,2018,2019,2020,2021,2022,2023,2024,2025,2026,2027,2028,2029,2030,2031,2032,2033,2034,2035,2036,2037,2038,2039,2040,2041,2042,2043,2044,2045,2046,2047,2048,2049,2050],\"xaxis\":\"x3\",\"y\":[0.0,0.0,0.0,0.0,0.0,0.0,0.0,0.0,0.0,0.0,0.0,0.0,0.0,0.0,0.0,0.0,0.0,0.0,0.0,0.0,3.3289049735061917,3.3289049735061917,5.00734858992613,4.94734858992613,25.03812194454044,24.36812194454044,23.69812194454044,23.69812194454044,23.429987408115025,22.31952841315574,20.813420367883523,18.1385088848959,14.8535088848959,10.640270578056374,5.817204353214835,0.0],\"yaxis\":\"y3\"},{\"fillcolor\":\"turquoise\",\"hoverinfo\":\"x+y\",\"line\":{\"color\":\"turquoise\",\"width\":0},\"mode\":\"lines\",\"name\":\"DRI-EAF-H2\",\"showlegend\":false,\"stackgroup\":\"one\",\"type\":\"scatter\",\"x\":[2015,2016,2017,2018,2019,2020,2021,2022,2023,2024,2025,2026,2027,2028,2029,2030,2031,2032,2033,2034,2035,2036,2037,2038,2039,2040,2041,2042,2043,2044,2045,2046,2047,2048,2049,2050],\"xaxis\":\"x3\",\"y\":[0.0,0.0,0.0,0.0,0.0,0.0,0.0,0.0,0.0,0.0,0.0,0.0,0.0,0.0,0.0,20.280633918756852,20.29078302896575,20.12078302896575,19.45078302896575,18.780783028965747,18.54578302896575,21.470324065759357,25.97106340279752,27.782073175670725,28.23687805545955,28.236878055459552,30.536878055459553,29.866878055459555,29.465012591884975,29.790471586844255,30.511579632116472,32.4014911151041,34.9014911151041,38.064729421943625,41.83779564678516,46.065784313725494],\"yaxis\":\"y3\"},{\"fillcolor\":\"purple\",\"hoverinfo\":\"x+y\",\"line\":{\"color\":\"purple\",\"width\":0},\"mode\":\"lines\",\"name\":\"DRI-EAF-CH4\",\"showlegend\":false,\"stackgroup\":\"one\",\"type\":\"scatter\",\"x\":[2015,2016,2017,2018,2019,2020,2021,2022,2023,2024,2025,2026,2027,2028,2029,2030,2031,2032,2033,2034,2035,2036,2037,2038,2039,2040,2041,2042,2043,2044,2045,2046,2047,2048,2049,2050],\"xaxis\":\"x3\",\"y\":[0.0,0.0,0.0,0.0,0.0,0.0,0.0,0.0,0.0,0.0,2.3,2.3,4.870193470177728,6.120193470177728,9.730391514482879,7.380149110208893,6.6,6.6,6.6,9.076095026493809,9.076095026493809,7.081387965464192,4.565814652662033,2.75480487978883,2.3,2.2999999999999994,0.0,4.729372449219226e-16,-3.05590219795704e-16,-7.566995918750762e-16,8.36735125631094e-17,0.0,9.313225746154785e-16,0.0,2.9331204132176934e-16,0.0],\"yaxis\":\"y3\"},{\"fillcolor\":\"orange\",\"hoverinfo\":\"x+y\",\"line\":{\"color\":\"orange\",\"width\":0},\"mode\":\"lines\",\"name\":\"Electrowinning\",\"showlegend\":false,\"stackgroup\":\"one\",\"type\":\"scatter\",\"x\":[2015,2016,2017,2018,2019,2020,2021,2022,2023,2024,2025,2026,2027,2028,2029,2030,2031,2032,2033,2034,2035,2036,2037,2038,2039,2040,2041,2042,2043,2044,2045,2046,2047,2048,2049,2050],\"xaxis\":\"x3\",\"y\":[0.0,0.0,0.0,0.0,0.0,0.0,0.0,0.0,0.0,0.0,0.0,0.0,0.0,0.0,0.0,0.0,0.0,0.0,0.0,0.0,0.0,0.0,0.0,1.170700765750536e-15,9.014803805953606e-16,0.0,-1.5535022408507965e-16,0.0,0.0,0.0,0.0,0.0,0.0,0.2649999999999995,0.5300000000000005,1.3342156862745065],\"yaxis\":\"y3\"},{\"fillcolor\":\"yellow\",\"hoverinfo\":\"x+y\",\"line\":{\"color\":\"yellow\",\"width\":0},\"mode\":\"lines\",\"name\":\"EAF\",\"showlegend\":false,\"stackgroup\":\"one\",\"type\":\"scatter\",\"x\":[2015,2016,2017,2018,2019,2020,2021,2022,2023,2024,2025,2026,2027,2028,2029,2030,2031,2032,2033,2034,2035,2036,2037,2038,2039,2040,2041,2042,2043,2044,2045,2046,2047,2048,2049,2050],\"xaxis\":\"x3\",\"y\":[49.4,49.4,49.4,49.4,49.4,49.4,49.4,49.4,49.4,49.4,49.4,49.4,49.4,49.4,49.4,49.4,50.184999999999995,50.97,51.754999999999995,52.54,53.324999999999996,54.11,54.894999999999996,55.68,56.464999999999996,57.25,58.035,58.82,59.605,60.39,61.175,61.959999999999994,62.745,63.529999999999994,64.315,65.1],\"yaxis\":\"y3\"}],                        {\"annotations\":[{\"font\":{\"size\":24},\"showarrow\":false,\"text\":\"High electricity price\",\"x\":0.14444444444444446,\"xanchor\":\"center\",\"xref\":\"paper\",\"y\":1.0,\"yanchor\":\"bottom\",\"yref\":\"paper\"},{\"font\":{\"size\":24},\"showarrow\":false,\"text\":\"Reference\",\"x\":0.5,\"xanchor\":\"center\",\"xref\":\"paper\",\"y\":1.0,\"yanchor\":\"bottom\",\"yref\":\"paper\"},{\"font\":{\"size\":24},\"showarrow\":false,\"text\":\"Fossil phase-out\",\"x\":0.8555555555555556,\"xanchor\":\"center\",\"xref\":\"paper\",\"y\":1.0,\"yanchor\":\"bottom\",\"yref\":\"paper\"}],\"font\":{\"family\":\"Times New Roman\",\"size\":24},\"legend\":{\"font\":{\"size\":18},\"orientation\":\"h\",\"x\":1.01,\"xanchor\":\"right\",\"y\":1.1,\"yanchor\":\"bottom\"},\"template\":{\"data\":{\"bar\":[{\"error_x\":{\"color\":\"#2a3f5f\"},\"error_y\":{\"color\":\"#2a3f5f\"},\"marker\":{\"line\":{\"color\":\"#E5ECF6\",\"width\":0.5},\"pattern\":{\"fillmode\":\"overlay\",\"size\":10,\"solidity\":0.2}},\"type\":\"bar\"}],\"barpolar\":[{\"marker\":{\"line\":{\"color\":\"#E5ECF6\",\"width\":0.5},\"pattern\":{\"fillmode\":\"overlay\",\"size\":10,\"solidity\":0.2}},\"type\":\"barpolar\"}],\"carpet\":[{\"aaxis\":{\"endlinecolor\":\"#2a3f5f\",\"gridcolor\":\"white\",\"linecolor\":\"white\",\"minorgridcolor\":\"white\",\"startlinecolor\":\"#2a3f5f\"},\"baxis\":{\"endlinecolor\":\"#2a3f5f\",\"gridcolor\":\"white\",\"linecolor\":\"white\",\"minorgridcolor\":\"white\",\"startlinecolor\":\"#2a3f5f\"},\"type\":\"carpet\"}],\"choropleth\":[{\"colorbar\":{\"outlinewidth\":0,\"ticks\":\"\"},\"type\":\"choropleth\"}],\"contour\":[{\"colorbar\":{\"outlinewidth\":0,\"ticks\":\"\"},\"colorscale\":[[0.0,\"#0d0887\"],[0.1111111111111111,\"#46039f\"],[0.2222222222222222,\"#7201a8\"],[0.3333333333333333,\"#9c179e\"],[0.4444444444444444,\"#bd3786\"],[0.5555555555555556,\"#d8576b\"],[0.6666666666666666,\"#ed7953\"],[0.7777777777777778,\"#fb9f3a\"],[0.8888888888888888,\"#fdca26\"],[1.0,\"#f0f921\"]],\"type\":\"contour\"}],\"contourcarpet\":[{\"colorbar\":{\"outlinewidth\":0,\"ticks\":\"\"},\"type\":\"contourcarpet\"}],\"heatmap\":[{\"colorbar\":{\"outlinewidth\":0,\"ticks\":\"\"},\"colorscale\":[[0.0,\"#0d0887\"],[0.1111111111111111,\"#46039f\"],[0.2222222222222222,\"#7201a8\"],[0.3333333333333333,\"#9c179e\"],[0.4444444444444444,\"#bd3786\"],[0.5555555555555556,\"#d8576b\"],[0.6666666666666666,\"#ed7953\"],[0.7777777777777778,\"#fb9f3a\"],[0.8888888888888888,\"#fdca26\"],[1.0,\"#f0f921\"]],\"type\":\"heatmap\"}],\"heatmapgl\":[{\"colorbar\":{\"outlinewidth\":0,\"ticks\":\"\"},\"colorscale\":[[0.0,\"#0d0887\"],[0.1111111111111111,\"#46039f\"],[0.2222222222222222,\"#7201a8\"],[0.3333333333333333,\"#9c179e\"],[0.4444444444444444,\"#bd3786\"],[0.5555555555555556,\"#d8576b\"],[0.6666666666666666,\"#ed7953\"],[0.7777777777777778,\"#fb9f3a\"],[0.8888888888888888,\"#fdca26\"],[1.0,\"#f0f921\"]],\"type\":\"heatmapgl\"}],\"histogram\":[{\"marker\":{\"pattern\":{\"fillmode\":\"overlay\",\"size\":10,\"solidity\":0.2}},\"type\":\"histogram\"}],\"histogram2d\":[{\"colorbar\":{\"outlinewidth\":0,\"ticks\":\"\"},\"colorscale\":[[0.0,\"#0d0887\"],[0.1111111111111111,\"#46039f\"],[0.2222222222222222,\"#7201a8\"],[0.3333333333333333,\"#9c179e\"],[0.4444444444444444,\"#bd3786\"],[0.5555555555555556,\"#d8576b\"],[0.6666666666666666,\"#ed7953\"],[0.7777777777777778,\"#fb9f3a\"],[0.8888888888888888,\"#fdca26\"],[1.0,\"#f0f921\"]],\"type\":\"histogram2d\"}],\"histogram2dcontour\":[{\"colorbar\":{\"outlinewidth\":0,\"ticks\":\"\"},\"colorscale\":[[0.0,\"#0d0887\"],[0.1111111111111111,\"#46039f\"],[0.2222222222222222,\"#7201a8\"],[0.3333333333333333,\"#9c179e\"],[0.4444444444444444,\"#bd3786\"],[0.5555555555555556,\"#d8576b\"],[0.6666666666666666,\"#ed7953\"],[0.7777777777777778,\"#fb9f3a\"],[0.8888888888888888,\"#fdca26\"],[1.0,\"#f0f921\"]],\"type\":\"histogram2dcontour\"}],\"mesh3d\":[{\"colorbar\":{\"outlinewidth\":0,\"ticks\":\"\"},\"type\":\"mesh3d\"}],\"parcoords\":[{\"line\":{\"colorbar\":{\"outlinewidth\":0,\"ticks\":\"\"}},\"type\":\"parcoords\"}],\"pie\":[{\"automargin\":true,\"type\":\"pie\"}],\"scatter\":[{\"marker\":{\"colorbar\":{\"outlinewidth\":0,\"ticks\":\"\"}},\"type\":\"scatter\"}],\"scatter3d\":[{\"line\":{\"colorbar\":{\"outlinewidth\":0,\"ticks\":\"\"}},\"marker\":{\"colorbar\":{\"outlinewidth\":0,\"ticks\":\"\"}},\"type\":\"scatter3d\"}],\"scattercarpet\":[{\"marker\":{\"colorbar\":{\"outlinewidth\":0,\"ticks\":\"\"}},\"type\":\"scattercarpet\"}],\"scattergeo\":[{\"marker\":{\"colorbar\":{\"outlinewidth\":0,\"ticks\":\"\"}},\"type\":\"scattergeo\"}],\"scattergl\":[{\"marker\":{\"colorbar\":{\"outlinewidth\":0,\"ticks\":\"\"}},\"type\":\"scattergl\"}],\"scattermapbox\":[{\"marker\":{\"colorbar\":{\"outlinewidth\":0,\"ticks\":\"\"}},\"type\":\"scattermapbox\"}],\"scatterpolar\":[{\"marker\":{\"colorbar\":{\"outlinewidth\":0,\"ticks\":\"\"}},\"type\":\"scatterpolar\"}],\"scatterpolargl\":[{\"marker\":{\"colorbar\":{\"outlinewidth\":0,\"ticks\":\"\"}},\"type\":\"scatterpolargl\"}],\"scatterternary\":[{\"marker\":{\"colorbar\":{\"outlinewidth\":0,\"ticks\":\"\"}},\"type\":\"scatterternary\"}],\"surface\":[{\"colorbar\":{\"outlinewidth\":0,\"ticks\":\"\"},\"colorscale\":[[0.0,\"#0d0887\"],[0.1111111111111111,\"#46039f\"],[0.2222222222222222,\"#7201a8\"],[0.3333333333333333,\"#9c179e\"],[0.4444444444444444,\"#bd3786\"],[0.5555555555555556,\"#d8576b\"],[0.6666666666666666,\"#ed7953\"],[0.7777777777777778,\"#fb9f3a\"],[0.8888888888888888,\"#fdca26\"],[1.0,\"#f0f921\"]],\"type\":\"surface\"}],\"table\":[{\"cells\":{\"fill\":{\"color\":\"#EBF0F8\"},\"line\":{\"color\":\"white\"}},\"header\":{\"fill\":{\"color\":\"#C8D4E3\"},\"line\":{\"color\":\"white\"}},\"type\":\"table\"}]},\"layout\":{\"annotationdefaults\":{\"arrowcolor\":\"#2a3f5f\",\"arrowhead\":0,\"arrowwidth\":1},\"autotypenumbers\":\"strict\",\"coloraxis\":{\"colorbar\":{\"outlinewidth\":0,\"ticks\":\"\"}},\"colorscale\":{\"diverging\":[[0,\"#8e0152\"],[0.1,\"#c51b7d\"],[0.2,\"#de77ae\"],[0.3,\"#f1b6da\"],[0.4,\"#fde0ef\"],[0.5,\"#f7f7f7\"],[0.6,\"#e6f5d0\"],[0.7,\"#b8e186\"],[0.8,\"#7fbc41\"],[0.9,\"#4d9221\"],[1,\"#276419\"]],\"sequential\":[[0.0,\"#0d0887\"],[0.1111111111111111,\"#46039f\"],[0.2222222222222222,\"#7201a8\"],[0.3333333333333333,\"#9c179e\"],[0.4444444444444444,\"#bd3786\"],[0.5555555555555556,\"#d8576b\"],[0.6666666666666666,\"#ed7953\"],[0.7777777777777778,\"#fb9f3a\"],[0.8888888888888888,\"#fdca26\"],[1.0,\"#f0f921\"]],\"sequentialminus\":[[0.0,\"#0d0887\"],[0.1111111111111111,\"#46039f\"],[0.2222222222222222,\"#7201a8\"],[0.3333333333333333,\"#9c179e\"],[0.4444444444444444,\"#bd3786\"],[0.5555555555555556,\"#d8576b\"],[0.6666666666666666,\"#ed7953\"],[0.7777777777777778,\"#fb9f3a\"],[0.8888888888888888,\"#fdca26\"],[1.0,\"#f0f921\"]]},\"colorway\":[\"#636efa\",\"#EF553B\",\"#00cc96\",\"#ab63fa\",\"#FFA15A\",\"#19d3f3\",\"#FF6692\",\"#B6E880\",\"#FF97FF\",\"#FECB52\"],\"font\":{\"color\":\"#2a3f5f\"},\"geo\":{\"bgcolor\":\"white\",\"lakecolor\":\"white\",\"landcolor\":\"#E5ECF6\",\"showlakes\":true,\"showland\":true,\"subunitcolor\":\"white\"},\"hoverlabel\":{\"align\":\"left\"},\"hovermode\":\"closest\",\"mapbox\":{\"style\":\"light\"},\"paper_bgcolor\":\"white\",\"plot_bgcolor\":\"#E5ECF6\",\"polar\":{\"angularaxis\":{\"gridcolor\":\"white\",\"linecolor\":\"white\",\"ticks\":\"\"},\"bgcolor\":\"#E5ECF6\",\"radialaxis\":{\"gridcolor\":\"white\",\"linecolor\":\"white\",\"ticks\":\"\"}},\"scene\":{\"xaxis\":{\"backgroundcolor\":\"#E5ECF6\",\"gridcolor\":\"white\",\"gridwidth\":2,\"linecolor\":\"white\",\"showbackground\":true,\"ticks\":\"\",\"zerolinecolor\":\"white\"},\"yaxis\":{\"backgroundcolor\":\"#E5ECF6\",\"gridcolor\":\"white\",\"gridwidth\":2,\"linecolor\":\"white\",\"showbackground\":true,\"ticks\":\"\",\"zerolinecolor\":\"white\"},\"zaxis\":{\"backgroundcolor\":\"#E5ECF6\",\"gridcolor\":\"white\",\"gridwidth\":2,\"linecolor\":\"white\",\"showbackground\":true,\"ticks\":\"\",\"zerolinecolor\":\"white\"}},\"shapedefaults\":{\"line\":{\"color\":\"#2a3f5f\"}},\"ternary\":{\"aaxis\":{\"gridcolor\":\"white\",\"linecolor\":\"white\",\"ticks\":\"\"},\"baxis\":{\"gridcolor\":\"white\",\"linecolor\":\"white\",\"ticks\":\"\"},\"bgcolor\":\"#E5ECF6\",\"caxis\":{\"gridcolor\":\"white\",\"linecolor\":\"white\",\"ticks\":\"\"}},\"title\":{\"x\":0.05},\"xaxis\":{\"automargin\":true,\"gridcolor\":\"white\",\"linecolor\":\"white\",\"ticks\":\"\",\"title\":{\"standoff\":15},\"zerolinecolor\":\"white\",\"zerolinewidth\":2},\"yaxis\":{\"automargin\":true,\"gridcolor\":\"white\",\"linecolor\":\"white\",\"ticks\":\"\",\"title\":{\"standoff\":15},\"zerolinecolor\":\"white\",\"zerolinewidth\":2}}},\"xaxis\":{\"anchor\":\"y\",\"domain\":[0.0,0.2888888888888889]},\"xaxis2\":{\"anchor\":\"y2\",\"domain\":[0.35555555555555557,0.6444444444444445]},\"xaxis3\":{\"anchor\":\"y3\",\"domain\":[0.7111111111111111,1.0]},\"yaxis\":{\"anchor\":\"x\",\"domain\":[0.0,1.0],\"title\":{\"text\":\"Production (Mt of steel)\"}},\"yaxis2\":{\"anchor\":\"x2\",\"domain\":[0.0,1.0],\"matches\":\"y\",\"showticklabels\":false},\"yaxis3\":{\"anchor\":\"x3\",\"domain\":[0.0,1.0],\"matches\":\"y\",\"showticklabels\":false}},                        {\"responsive\": true}                    ).then(function(){\n",
       "                            \n",
       "var gd = document.getElementById('e1a3ad45-bd22-4c47-95b2-f2709cac2159');\n",
       "var x = new MutationObserver(function (mutations, observer) {{\n",
       "        var display = window.getComputedStyle(gd).display;\n",
       "        if (!display || display === 'none') {{\n",
       "            console.log([gd, 'removed!']);\n",
       "            Plotly.purge(gd);\n",
       "            observer.disconnect();\n",
       "        }}\n",
       "}});\n",
       "\n",
       "// Listen for the removal of the full notebook cells\n",
       "var notebookContainer = gd.closest('#notebook-container');\n",
       "if (notebookContainer) {{\n",
       "    x.observe(notebookContainer, {childList: true});\n",
       "}}\n",
       "\n",
       "// Listen for the clearing of the current output cell\n",
       "var outputEl = gd.closest('.output');\n",
       "if (outputEl) {{\n",
       "    x.observe(outputEl, {childList: true});\n",
       "}}\n",
       "\n",
       "                        })                };                });            </script>        </div>"
      ]
     },
     "metadata": {},
     "output_type": "display_data"
    }
   ],
   "source": [
    "tech_list=['BF-BOF',\"DRI-EAF\",\"Electrowinning\",\"EAF\"]\n",
    "steel_techs={\"BF-BOF\":[['BF-BOF'],['Coal','H2']],\n",
    "             \"BF-BOF w/ Biomass\":[['BF-BOF'],['Bio-min','Bio-medium','Bio-max']],             \n",
    "             \"DRI-EAF-H2\":[[\"DRI-EAF\"],[\"H2\"]],\"DRI-EAF-CH4\":[[\"DRI-EAF\"],[\"CH4\"]],\n",
    "             \"Electrowinning\":[[\"Electrowinning\"],[0]],\"EAF\":[[\"EAF\"],[0]]}\n",
    "steel_techs_colors={\"BF-BOF\":\"Black\",\"BF-BOF w/ Biomass\":\"brown\",\n",
    "                    \"DRI-EAF-H2\":\"turquoise\",\"DRI-EAF-CH4\":'purple',\n",
    "                    \"Electrowinning\":\"orange\",\"EAF\":\"yellow\"}\n",
    "\n",
    "\n",
    "fig =make_subplots(rows=1, cols=3,subplot_titles=list(scen.keys()),shared_yaxes=True)\n",
    "for i in range(len(scen.keys())):\n",
    "    showlegend=[True,False,False]\n",
    "    tech_usage_flow=scen[list(scen.keys())[i]]['tech_usage_flow']\n",
    "    tech_usage=tech_usage_flow[tech_usage_flow.Resource.isin([\"Steel_primary\",\"Steel_secondary\"])]\n",
    "    steel_tech_usage=tech_usage[tech_usage.Technology.isin(tech_list)]\n",
    "    for tech in steel_techs.keys():\n",
    "            t_list=steel_techs[tech][0]\n",
    "            tt_list=steel_techs[tech][1]\n",
    "            u=steel_tech_usage[(steel_tech_usage.Technology.isin(t_list))&(steel_tech_usage.Tech_type.isin(tt_list))]\n",
    "            u=u[[\"Year\",\"Flow\"]].groupby(by='Year').sum().reset_index()\n",
    "\n",
    "            fig.add_trace(go.Scatter(x=u.Year,y=u.Flow*1e-6,name=tech,line=dict(width=0,color=steel_techs_colors[tech]), \n",
    "                                 fillcolor=steel_techs_colors[tech],\n",
    "                                 hoverinfo=\"x+y\",mode='lines',stackgroup='one',showlegend=showlegend[i]),row=1, col=i+1)\n",
    "\n",
    "#     fig.update_xaxes(title_text=\"Year\", row=1, col=i+1)\n",
    "    \n",
    "fig.update_layout(#title='Steel production per technology in EU-5+1',title_x=0.5,\n",
    "                   yaxis_title='Production (Mt of steel)')\n",
    "fig.update_layout(\n",
    "    font=dict(\n",
    "        family=\"Times New Roman\",size=24)\n",
    "    )\n",
    "fig.update_annotations(font_size=24)\n",
    "fig.update_layout(legend=dict(\n",
    "    orientation=\"h\",\n",
    "    yanchor=\"bottom\",\n",
    "    y=1.1,\n",
    "    xanchor=\"right\",\n",
    "    x=1.01,font = dict(size=18)\n",
    "))\n",
    "fig.show()"
   ]
  },
  {
   "cell_type": "code",
   "execution_count": 66,
   "id": "a49b871d",
   "metadata": {},
   "outputs": [
    {
     "data": {
      "application/vnd.plotly.v1+json": {
       "config": {
        "plotlyServerURL": "https://plot.ly"
       },
       "data": [
        {
         "fillcolor": "blue",
         "line": {
          "color": "blue",
          "width": 0
         },
         "mode": "lines",
         "name": "France",
         "showlegend": true,
         "stackgroup": "one",
         "type": "scatter",
         "x": [
          2015,
          2016,
          2017,
          2018,
          2019,
          2020,
          2021,
          2022,
          2023,
          2024,
          2025,
          2026,
          2027,
          2028,
          2029,
          2030,
          2031,
          2032,
          2033,
          2034,
          2035,
          2036,
          2037,
          2038,
          2039,
          2040,
          2041,
          2042,
          2043,
          2044,
          2045,
          2046,
          2047,
          2048,
          2049,
          2050
         ],
         "xaxis": "x",
         "y": [
          9.785648516129033,
          9.785648516129033,
          9.785648516129033,
          9.785648516129033,
          9.785648516129033,
          9.785648516129033,
          9.764285522580645,
          9.742922529032258,
          9.721559535483872,
          9.700196541935483,
          9.678833548387097,
          9.65747055483871,
          11.710107561290322,
          11.688744567741935,
          11.667381574193548,
          17.436881513135578,
          13.59475832634911,
          13.703015869249322,
          13.750212875700933,
          14.3111134796589,
          21.456484837721643,
          21.283612586887287,
          22.00753648606208,
          28.0216950052441,
          25.07719201169571,
          26.620630820948545,
          26.14641724701824,
          27.728087185131223,
          41.20894712324421,
          44.95399445143738,
          43.938741053897566,
          40.8992979037438,
          35.36175239591953,
          28.773930775542727,
          24.31298614510293,
          22.575110948441726
         ],
         "yaxis": "y"
        },
        {
         "fillcolor": "black",
         "line": {
          "color": "black",
          "width": 0
         },
         "mode": "lines",
         "name": "Germany",
         "showlegend": true,
         "stackgroup": "one",
         "type": "scatter",
         "x": [
          2015,
          2016,
          2017,
          2018,
          2019,
          2020,
          2021,
          2022,
          2023,
          2024,
          2025,
          2026,
          2027,
          2028,
          2029,
          2030,
          2031,
          2032,
          2033,
          2034,
          2035,
          2036,
          2037,
          2038,
          2039,
          2040,
          2041,
          2042,
          2043,
          2044,
          2045,
          2046,
          2047,
          2048,
          2049,
          2050
         ],
         "xaxis": "x",
         "y": [
          24.72975580645161,
          24.72975580645161,
          24.72975580645161,
          24.72975580645161,
          24.72975580645161,
          24.72975580645161,
          24.685087729032254,
          24.640419651612902,
          24.595751574193546,
          24.551083496774194,
          24.593566783948564,
          24.54637341310276,
          24.499180042256956,
          24.451986671411152,
          24.404793300565352,
          26.04537427538407,
          26.121686120007727,
          29.39645924656288,
          32.28317956623693,
          35.12989988591098,
          48.7956274392266,
          49.32097174477419,
          46.66095864093986,
          42.05892955788507,
          43.86869930826082,
          49.48374333591604,
          54.50699570765728,
          56.608074948893595,
          57.39406192441846,
          56.92986129502379,
          56.74828709206028,
          59.196901774009795,
          78.4226050208371,
          82.48468483574395,
          87.49012845457239,
          93.81436171123558
         ],
         "yaxis": "y"
        },
        {
         "fillcolor": "green",
         "line": {
          "color": "green",
          "width": 0
         },
         "mode": "lines",
         "name": "Italy",
         "showlegend": true,
         "stackgroup": "one",
         "type": "scatter",
         "x": [
          2015,
          2016,
          2017,
          2018,
          2019,
          2020,
          2021,
          2022,
          2023,
          2024,
          2025,
          2026,
          2027,
          2028,
          2029,
          2030,
          2031,
          2032,
          2033,
          2034,
          2035,
          2036,
          2037,
          2038,
          2039,
          2040,
          2041,
          2042,
          2043,
          2044,
          2045,
          2046,
          2047,
          2048,
          2049,
          2050
         ],
         "xaxis": "x",
         "y": [
          18.08476690322581,
          18.08476690322581,
          18.08476690322581,
          18.08476690322581,
          18.08476690322581,
          18.08476690322581,
          18.08049430451613,
          18.07622170580645,
          18.071949107096774,
          18.067676508387095,
          18.06340390967742,
          18.05913131096774,
          18.054858712258063,
          18.050586113548388,
          18.046313514838708,
          18.134197778874128,
          18.124018930164453,
          18.47288321870968,
          18.46270437,
          18.452525521290323,
          19.051536172245857,
          19.05594061992028,
          19.06986459657469,
          19.08966181771173,
          19.07738367340379,
          20.60030157512223,
          21.28699733944574,
          21.253106761824775,
          21.21437217327971,
          21.177469329047128,
          21.134036716361653,
          21.153797633071306,
          21.116521444776165,
          21.079233016464492,
          21.041944588152816,
          24.179165963762713
         ],
         "yaxis": "y"
        },
        {
         "fillcolor": "yellow",
         "line": {
          "color": "yellow",
          "width": 0
         },
         "mode": "lines",
         "name": "Belgium",
         "showlegend": true,
         "stackgroup": "one",
         "type": "scatter",
         "x": [
          2015,
          2016,
          2017,
          2018,
          2019,
          2020,
          2021,
          2022,
          2023,
          2024,
          2025,
          2026,
          2027,
          2028,
          2029,
          2030,
          2031,
          2032,
          2033,
          2034,
          2035,
          2036,
          2037,
          2038,
          2039,
          2040,
          2041,
          2042,
          2043,
          2044,
          2045,
          2046,
          2047,
          2048,
          2049,
          2050
         ],
         "xaxis": "x",
         "y": [
          4.774385161290322,
          4.774385161290322,
          4.774385161290322,
          4.774385161290322,
          4.774385161290322,
          4.774385161290322,
          4.756420825806451,
          4.73845649032258,
          4.720492154838709,
          4.702527819354838,
          4.686331108599818,
          4.668366773115947,
          4.650402437632076,
          4.632438102148205,
          4.614473766664334,
          7.177129431180463,
          7.200776970696592,
          7.224424510212721,
          7.24807204972885,
          7.271719589244979,
          8.700357882248436,
          9.212077495397526,
          10.104391599518058,
          10.138399139034187,
          12.642406678550316,
          12.937756384414707,
          11.509732348370125,
          10.97333269659266,
          13.185437294061456,
          24.18514529979138,
          28.080035374693345,
          29.2742310483163,
          24.75288101902323,
          18.842395827906206,
          16.279813929087386,
          15.212285977541251
         ],
         "yaxis": "y"
        },
        {
         "fillcolor": "orange",
         "line": {
          "color": "orange",
          "width": 0
         },
         "mode": "lines",
         "name": "Spain",
         "showlegend": true,
         "stackgroup": "one",
         "type": "scatter",
         "x": [
          2015,
          2016,
          2017,
          2018,
          2019,
          2020,
          2021,
          2022,
          2023,
          2024,
          2025,
          2026,
          2027,
          2028,
          2029,
          2030,
          2031,
          2032,
          2033,
          2034,
          2035,
          2036,
          2037,
          2038,
          2039,
          2040,
          2041,
          2042,
          2043,
          2044,
          2045,
          2046,
          2047,
          2048,
          2049,
          2050
         ],
         "xaxis": "x",
         "y": [
          12.14410322580645,
          12.14410322580645,
          12.14410322580645,
          12.14410322580645,
          12.14410322580645,
          12.14410322580645,
          12.130994116129033,
          12.117885006451612,
          12.104775896774193,
          12.091666787096774,
          14.463657677419354,
          14.450548567741935,
          14.437439458064516,
          14.424330348387096,
          14.411221238709675,
          14.416912129032259,
          14.60638426935484,
          14.58905640967742,
          14.57172855,
          14.55440069032258,
          20.578658566961796,
          20.387873579432863,
          20.718397305439016,
          18.887465830691433,
          18.92685390651752,
          20.49806775788447,
          20.59709589237358,
          20.32947116576067,
          20.25856269124713,
          24.35886093150795,
          18.85419989516507,
          18.828066497622103,
          18.75615139818142,
          17.08697787073795,
          16.432779916487345,
          17.0383232405312
         ],
         "yaxis": "y"
        },
        {
         "fillcolor": "red",
         "line": {
          "color": "red",
          "width": 0
         },
         "mode": "lines",
         "name": "Great Britain",
         "showlegend": true,
         "stackgroup": "one",
         "type": "scatter",
         "x": [
          2015,
          2016,
          2017,
          2018,
          2019,
          2020,
          2021,
          2022,
          2023,
          2024,
          2025,
          2026,
          2027,
          2028,
          2029,
          2030,
          2031,
          2032,
          2033,
          2034,
          2035,
          2036,
          2037,
          2038,
          2039,
          2040,
          2041,
          2042,
          2043,
          2044,
          2045,
          2046,
          2047,
          2048,
          2049,
          2050
         ],
         "xaxis": "x",
         "y": [
          4.668164,
          4.668164,
          4.668164,
          4.668164,
          4.668164,
          4.668164,
          4.668164,
          4.668164,
          4.668164,
          4.668164,
          4.668164,
          4.668164,
          4.668164,
          4.668164,
          4.668164,
          5.2816516794332315,
          5.614789618502323,
          5.738395868502323,
          5.862002118502323,
          5.985608368502324,
          6.415986283168043,
          6.54232747612364,
          6.668665270030074,
          6.794999671220031,
          7.1028056860104805,
          8.409406444073813,
          8.52185328658587,
          8.452811777149629,
          8.557379622401026,
          8.669768431407993,
          8.731378488570128,
          8.850465688459346,
          8.943796169306122,
          9.037126650152896,
          9.716907571258401,
          14.973291978620244
         ],
         "yaxis": "y"
        },
        {
         "fillcolor": "blue",
         "line": {
          "color": "blue",
          "width": 0
         },
         "mode": "lines",
         "name": "France",
         "showlegend": false,
         "stackgroup": "one",
         "type": "scatter",
         "x": [
          2015,
          2016,
          2017,
          2018,
          2019,
          2020,
          2021,
          2022,
          2023,
          2024,
          2025,
          2026,
          2027,
          2028,
          2029,
          2030,
          2031,
          2032,
          2033,
          2034,
          2035,
          2036,
          2037,
          2038,
          2039,
          2040,
          2041,
          2042,
          2043,
          2044,
          2045,
          2046,
          2047,
          2048,
          2049,
          2050
         ],
         "xaxis": "x2",
         "y": [
          9.785648516129033,
          9.785648516129033,
          9.785648516129033,
          9.785648516129033,
          9.785648516129033,
          9.785648516129033,
          9.764285522580645,
          9.742922529032258,
          9.721559535483872,
          9.700196541935483,
          9.678833548387097,
          9.65747055483871,
          11.710107561290322,
          11.688744567741935,
          11.667381574193548,
          17.52919277315474,
          12.077448396541838,
          13.985004019928935,
          14.512793019372895,
          16.9659428309401,
          26.17365488120881,
          28.86286480284259,
          40.15740409975223,
          46.875676475641164,
          52.47079196265509,
          55.593240500482224,
          60.331452649473874,
          64.89306109063008,
          64.580210318821,
          62.79256462357499,
          56.277025141830556,
          49.350512498374115,
          42.52471941647987,
          35.79964589614782,
          30.651164366659792,
          32.03178046028707
         ],
         "yaxis": "y2"
        },
        {
         "fillcolor": "black",
         "line": {
          "color": "black",
          "width": 0
         },
         "mode": "lines",
         "name": "Germany",
         "showlegend": false,
         "stackgroup": "one",
         "type": "scatter",
         "x": [
          2015,
          2016,
          2017,
          2018,
          2019,
          2020,
          2021,
          2022,
          2023,
          2024,
          2025,
          2026,
          2027,
          2028,
          2029,
          2030,
          2031,
          2032,
          2033,
          2034,
          2035,
          2036,
          2037,
          2038,
          2039,
          2040,
          2041,
          2042,
          2043,
          2044,
          2045,
          2046,
          2047,
          2048,
          2049,
          2050
         ],
         "xaxis": "x2",
         "y": [
          24.72975580645161,
          24.72975580645161,
          24.72975580645161,
          24.72975580645161,
          24.72975580645161,
          24.72975580645161,
          24.685087729032254,
          24.640419651612902,
          24.595751574193546,
          24.551083496774194,
          24.593566783948557,
          24.54637341310276,
          24.83324511252543,
          26.082301741679625,
          27.33135837083382,
          33.97796866975312,
          34.220297648403935,
          36.081547028027195,
          38.513294155999276,
          41.98003425245798,
          55.61151897835799,
          61.415484528378954,
          63.06899565073833,
          68.99608682191841,
          74.8431779930985,
          82.95704469603835,
          90.9909113989782,
          93.04526353273972,
          93.82140216464177,
          92.88977277491786,
          95.81173269874431,
          99.76524541190089,
          107.26023152574021,
          114.10394198710955,
          120.84565244847892,
          134.27736290984828
         ],
         "yaxis": "y2"
        },
        {
         "fillcolor": "green",
         "line": {
          "color": "green",
          "width": 0
         },
         "mode": "lines",
         "name": "Italy",
         "showlegend": false,
         "stackgroup": "one",
         "type": "scatter",
         "x": [
          2015,
          2016,
          2017,
          2018,
          2019,
          2020,
          2021,
          2022,
          2023,
          2024,
          2025,
          2026,
          2027,
          2028,
          2029,
          2030,
          2031,
          2032,
          2033,
          2034,
          2035,
          2036,
          2037,
          2038,
          2039,
          2040,
          2041,
          2042,
          2043,
          2044,
          2045,
          2046,
          2047,
          2048,
          2049,
          2050
         ],
         "xaxis": "x2",
         "y": [
          18.08476690322581,
          18.08476690322581,
          18.08476690322581,
          18.08476690322581,
          18.08476690322581,
          18.08476690322581,
          18.08049430451613,
          18.07622170580645,
          18.071949107096774,
          18.067676508387095,
          18.06340390967742,
          18.05913131096774,
          18.054858712258063,
          18.050586113548388,
          19.13529726722158,
          22.8312841726325,
          22.821105323922822,
          22.810926475213147,
          22.80074762650347,
          23.345394396688214,
          24.117224814994998,
          24.121629262669416,
          24.153031537028426,
          24.140691598684974,
          24.138039682189714,
          25.444123624517754,
          26.130819388841264,
          26.097370107116994,
          26.02852353918421,
          25.959082723738902,
          25.53684783135104,
          29.50450342704473,
          31.43752123042773,
          31.36650406087694,
          31.620906622508073,
          31.87123444652803
         ],
         "yaxis": "y2"
        },
        {
         "fillcolor": "yellow",
         "line": {
          "color": "yellow",
          "width": 0
         },
         "mode": "lines",
         "name": "Belgium",
         "showlegend": false,
         "stackgroup": "one",
         "type": "scatter",
         "x": [
          2015,
          2016,
          2017,
          2018,
          2019,
          2020,
          2021,
          2022,
          2023,
          2024,
          2025,
          2026,
          2027,
          2028,
          2029,
          2030,
          2031,
          2032,
          2033,
          2034,
          2035,
          2036,
          2037,
          2038,
          2039,
          2040,
          2041,
          2042,
          2043,
          2044,
          2045,
          2046,
          2047,
          2048,
          2049,
          2050
         ],
         "xaxis": "x2",
         "y": [
          4.774385161290322,
          4.774385161290322,
          4.774385161290322,
          4.774385161290322,
          4.774385161290322,
          4.774385161290322,
          4.756420825806451,
          4.73845649032258,
          4.720492154838709,
          4.702527819354838,
          4.686331108599818,
          4.668366773115947,
          4.650402437632076,
          4.632438102148205,
          4.655953766664335,
          7.393564513211713,
          7.355218990857882,
          7.316873468504052,
          7.439149192335707,
          7.4055278242814495,
          13.370579063158218,
          20.160821495397528,
          25.993040319071287,
          31.467145917412815,
          36.28189745692894,
          36.79522169241977,
          39.6397634057146,
          48.18146799212327,
          47.88275437316866,
          47.61698260367642,
          41.83916477966141,
          36.09288072725353,
          29.834360334501884,
          23.835953984314006,
          18.996572821116253,
          17.232081997348033
         ],
         "yaxis": "y2"
        },
        {
         "fillcolor": "orange",
         "line": {
          "color": "orange",
          "width": 0
         },
         "mode": "lines",
         "name": "Spain",
         "showlegend": false,
         "stackgroup": "one",
         "type": "scatter",
         "x": [
          2015,
          2016,
          2017,
          2018,
          2019,
          2020,
          2021,
          2022,
          2023,
          2024,
          2025,
          2026,
          2027,
          2028,
          2029,
          2030,
          2031,
          2032,
          2033,
          2034,
          2035,
          2036,
          2037,
          2038,
          2039,
          2040,
          2041,
          2042,
          2043,
          2044,
          2045,
          2046,
          2047,
          2048,
          2049,
          2050
         ],
         "xaxis": "x2",
         "y": [
          12.14410322580645,
          12.14410322580645,
          12.14410322580645,
          12.14410322580645,
          12.14410322580645,
          12.14410322580645,
          12.130994116129033,
          12.117885006451612,
          12.104775896774193,
          12.091666787096774,
          14.463657677419354,
          14.450548567741935,
          14.437439458064516,
          14.424330348387096,
          14.411221238709675,
          16.903146933719757,
          16.886342777419355,
          16.869538621118952,
          17.217823731038603,
          17.211757494332907,
          22.945767189129928,
          26.838478906427362,
          35.339270467637355,
          41.11243768994176,
          42.697433213330015,
          44.07326917314089,
          43.94838702945341,
          43.728028173838716,
          43.50766931822401,
          42.58735029979719,
          35.65499038966561,
          32.94443303271576,
          27.365568607248953,
          24.198610441308546,
          23.36245328415027,
          23.299977420470036
         ],
         "yaxis": "y2"
        },
        {
         "fillcolor": "red",
         "line": {
          "color": "red",
          "width": 0
         },
         "mode": "lines",
         "name": "Great Britain",
         "showlegend": false,
         "stackgroup": "one",
         "type": "scatter",
         "x": [
          2015,
          2016,
          2017,
          2018,
          2019,
          2020,
          2021,
          2022,
          2023,
          2024,
          2025,
          2026,
          2027,
          2028,
          2029,
          2030,
          2031,
          2032,
          2033,
          2034,
          2035,
          2036,
          2037,
          2038,
          2039,
          2040,
          2041,
          2042,
          2043,
          2044,
          2045,
          2046,
          2047,
          2048,
          2049,
          2050
         ],
         "xaxis": "x2",
         "y": [
          4.668164,
          4.668164,
          4.668164,
          4.668164,
          4.668164,
          4.668164,
          4.668164,
          4.668164,
          4.668164,
          4.668164,
          4.668163999999999,
          4.668164,
          4.668164,
          4.668164,
          5.806068166666667,
          9.753686058823531,
          9.702360446078432,
          9.644491696078433,
          9.769819204906296,
          9.817922255821182,
          9.959132110744152,
          10.162847635655845,
          10.937711097606181,
          11.064045498796139,
          11.297242225970441,
          12.603805934687125,
          12.716215727690598,
          12.675937729533368,
          12.746195228216367,
          12.889205598465054,
          13.84258792586858,
          17.935103245610517,
          19.60565199917693,
          19.662158162704113,
          19.1484443262313,
          24.50270969621103
         ],
         "yaxis": "y2"
        },
        {
         "fillcolor": "blue",
         "line": {
          "color": "blue",
          "width": 0
         },
         "mode": "lines",
         "name": "France",
         "showlegend": false,
         "stackgroup": "one",
         "type": "scatter",
         "x": [
          2015,
          2016,
          2017,
          2018,
          2019,
          2020,
          2021,
          2022,
          2023,
          2024,
          2025,
          2026,
          2027,
          2028,
          2029,
          2030,
          2031,
          2032,
          2033,
          2034,
          2035,
          2036,
          2037,
          2038,
          2039,
          2040,
          2041,
          2042,
          2043,
          2044,
          2045,
          2046,
          2047,
          2048,
          2049,
          2050
         ],
         "xaxis": "x3",
         "y": [
          9.785648516129033,
          9.785648516129033,
          9.785648516129033,
          9.785648516129033,
          9.785648516129033,
          9.785648516129033,
          9.764285522580645,
          9.742922529032258,
          9.721559535483872,
          9.700196541935483,
          9.678833548387097,
          9.65747055483871,
          11.710107561290322,
          11.688744567741935,
          11.667381574193548,
          17.36955837231183,
          12.045018396541838,
          13.952574019928937,
          14.48248658741044,
          17.174208856861103,
          26.381983365013294,
          28.58788312698468,
          39.8871103928577,
          46.88934787458888,
          52.488448922436866,
          55.64190690472217,
          60.38127168565578,
          64.95768212447406,
          64.65373179649376,
          62.23057602651569,
          56.1705794761638,
          49.459235022543005,
          42.634448014111676,
          39.06648311630593,
          39.01480363851427,
          46.31607448113101
         ],
         "yaxis": "y3"
        },
        {
         "fillcolor": "black",
         "line": {
          "color": "black",
          "width": 0
         },
         "mode": "lines",
         "name": "Germany",
         "showlegend": false,
         "stackgroup": "one",
         "type": "scatter",
         "x": [
          2015,
          2016,
          2017,
          2018,
          2019,
          2020,
          2021,
          2022,
          2023,
          2024,
          2025,
          2026,
          2027,
          2028,
          2029,
          2030,
          2031,
          2032,
          2033,
          2034,
          2035,
          2036,
          2037,
          2038,
          2039,
          2040,
          2041,
          2042,
          2043,
          2044,
          2045,
          2046,
          2047,
          2048,
          2049,
          2050
         ],
         "xaxis": "x3",
         "y": [
          24.72975580645161,
          24.72975580645161,
          24.72975580645161,
          24.72975580645161,
          24.72975580645161,
          24.72975580645161,
          24.685087729032254,
          24.640419651612902,
          24.595751574193546,
          24.551083496774194,
          24.593566783948564,
          24.54637341310276,
          25.09047067083126,
          26.339527299985455,
          27.58858392913966,
          33.921806480294606,
          34.68811578048184,
          36.549365160105104,
          38.98111228807718,
          42.06447559364308,
          55.567105862745876,
          61.37107141276684,
          63.539033651737874,
          69.46612482291796,
          75.49688407020798,
          83.61075077314783,
          91.64461747608767,
          93.696390529334,
          94.24903180186467,
          95.09214682777677,
          98.01058665213134,
          103.98056438068552,
          115.6392741819434,
          123.07285559610449,
          130.3683970102656,
          141.515800385211
         ],
         "yaxis": "y3"
        },
        {
         "fillcolor": "green",
         "line": {
          "color": "green",
          "width": 0
         },
         "mode": "lines",
         "name": "Italy",
         "showlegend": false,
         "stackgroup": "one",
         "type": "scatter",
         "x": [
          2015,
          2016,
          2017,
          2018,
          2019,
          2020,
          2021,
          2022,
          2023,
          2024,
          2025,
          2026,
          2027,
          2028,
          2029,
          2030,
          2031,
          2032,
          2033,
          2034,
          2035,
          2036,
          2037,
          2038,
          2039,
          2040,
          2041,
          2042,
          2043,
          2044,
          2045,
          2046,
          2047,
          2048,
          2049,
          2050
         ],
         "xaxis": "x3",
         "y": [
          18.08476690322581,
          18.08476690322581,
          18.08476690322581,
          18.08476690322581,
          18.08476690322581,
          18.08476690322581,
          18.08049430451613,
          18.07622170580645,
          18.071949107096774,
          18.067676508387095,
          18.06340390967742,
          18.05913131096774,
          18.054858712258063,
          18.050586113548388,
          19.13529726722158,
          22.831284172632504,
          22.821105323922826,
          22.810926475213147,
          22.80074762650347,
          23.347082173684566,
          24.118960814191244,
          24.12336526186566,
          24.15395201234195,
          24.14685777966752,
          23.91851154020926,
          25.445859623714,
          26.130538475391077,
          26.097089193666815,
          26.028242625734027,
          25.958801810288723,
          25.482661620089374,
          29.47090157658293,
          31.437521230427734,
          31.366504060876945,
          31.62090662250807,
          31.87123444652803
         ],
         "yaxis": "y3"
        },
        {
         "fillcolor": "yellow",
         "line": {
          "color": "yellow",
          "width": 0
         },
         "mode": "lines",
         "name": "Belgium",
         "showlegend": false,
         "stackgroup": "one",
         "type": "scatter",
         "x": [
          2015,
          2016,
          2017,
          2018,
          2019,
          2020,
          2021,
          2022,
          2023,
          2024,
          2025,
          2026,
          2027,
          2028,
          2029,
          2030,
          2031,
          2032,
          2033,
          2034,
          2035,
          2036,
          2037,
          2038,
          2039,
          2040,
          2041,
          2042,
          2043,
          2044,
          2045,
          2046,
          2047,
          2048,
          2049,
          2050
         ],
         "xaxis": "x3",
         "y": [
          4.774385161290322,
          4.774385161290322,
          4.774385161290322,
          4.774385161290322,
          4.774385161290322,
          4.774385161290322,
          4.756420825806451,
          4.73845649032258,
          4.720492154838709,
          4.702527819354838,
          4.686331108599818,
          4.668366773115947,
          4.650402437632076,
          4.632438102148205,
          4.822546999167722,
          7.7084469782184915,
          7.690283404070411,
          7.65193788171658,
          7.774113385835104,
          7.897773070142224,
          13.79937736138037,
          22.153735727167888,
          29.316796049922324,
          35.046665604970535,
          40.64696983549693,
          41.217053792530415,
          41.649875285756245,
          50.34923373473323,
          50.024871351938735,
          49.54124958252829,
          44.70951117376624,
          38.79919033444771,
          29.226503182348726,
          23.69778570854633,
          25.61723429932697,
          31.549845306226064
         ],
         "yaxis": "y3"
        },
        {
         "fillcolor": "orange",
         "line": {
          "color": "orange",
          "width": 0
         },
         "mode": "lines",
         "name": "Spain",
         "showlegend": false,
         "stackgroup": "one",
         "type": "scatter",
         "x": [
          2015,
          2016,
          2017,
          2018,
          2019,
          2020,
          2021,
          2022,
          2023,
          2024,
          2025,
          2026,
          2027,
          2028,
          2029,
          2030,
          2031,
          2032,
          2033,
          2034,
          2035,
          2036,
          2037,
          2038,
          2039,
          2040,
          2041,
          2042,
          2043,
          2044,
          2045,
          2046,
          2047,
          2048,
          2049,
          2050
         ],
         "xaxis": "x3",
         "y": [
          12.14410322580645,
          12.14410322580645,
          12.14410322580645,
          12.14410322580645,
          12.14410322580645,
          12.14410322580645,
          12.130994116129033,
          12.117885006451612,
          12.104775896774193,
          12.091666787096774,
          14.463657677419354,
          14.450548567741935,
          14.437439458064516,
          14.424330348387096,
          14.411221238709675,
          16.90314693371976,
          16.88634277741935,
          16.869538621118952,
          17.21952113440508,
          17.21350482132781,
          22.947564439753258,
          26.840276157050692,
          34.969261836865726,
          41.28447664479217,
          42.86947216818046,
          44.24530812799133,
          44.11833790873398,
          43.897979053119286,
          43.67762019750459,
          42.75730117907773,
          35.78679486614714,
          32.79849588940185,
          27.22338764113477,
          24.058190230192697,
          23.223793828032726,
          23.16307871935081
         ],
         "yaxis": "y3"
        },
        {
         "fillcolor": "red",
         "line": {
          "color": "red",
          "width": 0
         },
         "mode": "lines",
         "name": "Great Britain",
         "showlegend": false,
         "stackgroup": "one",
         "type": "scatter",
         "x": [
          2015,
          2016,
          2017,
          2018,
          2019,
          2020,
          2021,
          2022,
          2023,
          2024,
          2025,
          2026,
          2027,
          2028,
          2029,
          2030,
          2031,
          2032,
          2033,
          2034,
          2035,
          2036,
          2037,
          2038,
          2039,
          2040,
          2041,
          2042,
          2043,
          2044,
          2045,
          2046,
          2047,
          2048,
          2049,
          2050
         ],
         "xaxis": "x3",
         "y": [
          4.668164,
          4.668164,
          4.668164,
          4.668164,
          4.668164,
          4.668164,
          4.668164,
          4.668164,
          4.668164,
          4.668164,
          4.668164,
          4.668164,
          4.668164,
          4.668164,
          5.81863238705817,
          9.742080774116342,
          9.725211091843502,
          9.667342341843502,
          9.71998528431671,
          9.841429571005317,
          9.801183187911692,
          10.161245272040373,
          10.961237174773721,
          11.087571575963677,
          11.32076830313798,
          12.626547284453647,
          12.738957077457119,
          12.698679079299891,
          12.746085932217818,
          12.889096302466507,
          13.897656329550102,
          18.00221898044223,
          19.68559775793421,
          19.741609591478777,
          19.78511013015287,
          24.50270969621103
         ],
         "yaxis": "y3"
        }
       ],
       "layout": {
        "annotations": [
         {
          "font": {
           "size": 24
          },
          "showarrow": false,
          "text": "High electricity price",
          "x": 0.14444444444444446,
          "xanchor": "center",
          "xref": "paper",
          "y": 1,
          "yanchor": "bottom",
          "yref": "paper"
         },
         {
          "font": {
           "size": 24
          },
          "showarrow": false,
          "text": "Reference",
          "x": 0.5,
          "xanchor": "center",
          "xref": "paper",
          "y": 1,
          "yanchor": "bottom",
          "yref": "paper"
         },
         {
          "font": {
           "size": 24
          },
          "showarrow": false,
          "text": "Fossil phase-out",
          "x": 0.8555555555555556,
          "xanchor": "center",
          "xref": "paper",
          "y": 1,
          "yanchor": "bottom",
          "yref": "paper"
         }
        ],
        "font": {
         "family": "Times New Roman",
         "size": 24
        },
        "legend": {
         "font": {
          "size": 20
         },
         "orientation": "h",
         "x": 0.9,
         "xanchor": "right",
         "y": 1.1,
         "yanchor": "bottom"
        },
        "template": {
         "data": {
          "bar": [
           {
            "error_x": {
             "color": "#2a3f5f"
            },
            "error_y": {
             "color": "#2a3f5f"
            },
            "marker": {
             "line": {
              "color": "#E5ECF6",
              "width": 0.5
             },
             "pattern": {
              "fillmode": "overlay",
              "size": 10,
              "solidity": 0.2
             }
            },
            "type": "bar"
           }
          ],
          "barpolar": [
           {
            "marker": {
             "line": {
              "color": "#E5ECF6",
              "width": 0.5
             },
             "pattern": {
              "fillmode": "overlay",
              "size": 10,
              "solidity": 0.2
             }
            },
            "type": "barpolar"
           }
          ],
          "carpet": [
           {
            "aaxis": {
             "endlinecolor": "#2a3f5f",
             "gridcolor": "white",
             "linecolor": "white",
             "minorgridcolor": "white",
             "startlinecolor": "#2a3f5f"
            },
            "baxis": {
             "endlinecolor": "#2a3f5f",
             "gridcolor": "white",
             "linecolor": "white",
             "minorgridcolor": "white",
             "startlinecolor": "#2a3f5f"
            },
            "type": "carpet"
           }
          ],
          "choropleth": [
           {
            "colorbar": {
             "outlinewidth": 0,
             "ticks": ""
            },
            "type": "choropleth"
           }
          ],
          "contour": [
           {
            "colorbar": {
             "outlinewidth": 0,
             "ticks": ""
            },
            "colorscale": [
             [
              0,
              "#0d0887"
             ],
             [
              0.1111111111111111,
              "#46039f"
             ],
             [
              0.2222222222222222,
              "#7201a8"
             ],
             [
              0.3333333333333333,
              "#9c179e"
             ],
             [
              0.4444444444444444,
              "#bd3786"
             ],
             [
              0.5555555555555556,
              "#d8576b"
             ],
             [
              0.6666666666666666,
              "#ed7953"
             ],
             [
              0.7777777777777778,
              "#fb9f3a"
             ],
             [
              0.8888888888888888,
              "#fdca26"
             ],
             [
              1,
              "#f0f921"
             ]
            ],
            "type": "contour"
           }
          ],
          "contourcarpet": [
           {
            "colorbar": {
             "outlinewidth": 0,
             "ticks": ""
            },
            "type": "contourcarpet"
           }
          ],
          "heatmap": [
           {
            "colorbar": {
             "outlinewidth": 0,
             "ticks": ""
            },
            "colorscale": [
             [
              0,
              "#0d0887"
             ],
             [
              0.1111111111111111,
              "#46039f"
             ],
             [
              0.2222222222222222,
              "#7201a8"
             ],
             [
              0.3333333333333333,
              "#9c179e"
             ],
             [
              0.4444444444444444,
              "#bd3786"
             ],
             [
              0.5555555555555556,
              "#d8576b"
             ],
             [
              0.6666666666666666,
              "#ed7953"
             ],
             [
              0.7777777777777778,
              "#fb9f3a"
             ],
             [
              0.8888888888888888,
              "#fdca26"
             ],
             [
              1,
              "#f0f921"
             ]
            ],
            "type": "heatmap"
           }
          ],
          "heatmapgl": [
           {
            "colorbar": {
             "outlinewidth": 0,
             "ticks": ""
            },
            "colorscale": [
             [
              0,
              "#0d0887"
             ],
             [
              0.1111111111111111,
              "#46039f"
             ],
             [
              0.2222222222222222,
              "#7201a8"
             ],
             [
              0.3333333333333333,
              "#9c179e"
             ],
             [
              0.4444444444444444,
              "#bd3786"
             ],
             [
              0.5555555555555556,
              "#d8576b"
             ],
             [
              0.6666666666666666,
              "#ed7953"
             ],
             [
              0.7777777777777778,
              "#fb9f3a"
             ],
             [
              0.8888888888888888,
              "#fdca26"
             ],
             [
              1,
              "#f0f921"
             ]
            ],
            "type": "heatmapgl"
           }
          ],
          "histogram": [
           {
            "marker": {
             "pattern": {
              "fillmode": "overlay",
              "size": 10,
              "solidity": 0.2
             }
            },
            "type": "histogram"
           }
          ],
          "histogram2d": [
           {
            "colorbar": {
             "outlinewidth": 0,
             "ticks": ""
            },
            "colorscale": [
             [
              0,
              "#0d0887"
             ],
             [
              0.1111111111111111,
              "#46039f"
             ],
             [
              0.2222222222222222,
              "#7201a8"
             ],
             [
              0.3333333333333333,
              "#9c179e"
             ],
             [
              0.4444444444444444,
              "#bd3786"
             ],
             [
              0.5555555555555556,
              "#d8576b"
             ],
             [
              0.6666666666666666,
              "#ed7953"
             ],
             [
              0.7777777777777778,
              "#fb9f3a"
             ],
             [
              0.8888888888888888,
              "#fdca26"
             ],
             [
              1,
              "#f0f921"
             ]
            ],
            "type": "histogram2d"
           }
          ],
          "histogram2dcontour": [
           {
            "colorbar": {
             "outlinewidth": 0,
             "ticks": ""
            },
            "colorscale": [
             [
              0,
              "#0d0887"
             ],
             [
              0.1111111111111111,
              "#46039f"
             ],
             [
              0.2222222222222222,
              "#7201a8"
             ],
             [
              0.3333333333333333,
              "#9c179e"
             ],
             [
              0.4444444444444444,
              "#bd3786"
             ],
             [
              0.5555555555555556,
              "#d8576b"
             ],
             [
              0.6666666666666666,
              "#ed7953"
             ],
             [
              0.7777777777777778,
              "#fb9f3a"
             ],
             [
              0.8888888888888888,
              "#fdca26"
             ],
             [
              1,
              "#f0f921"
             ]
            ],
            "type": "histogram2dcontour"
           }
          ],
          "mesh3d": [
           {
            "colorbar": {
             "outlinewidth": 0,
             "ticks": ""
            },
            "type": "mesh3d"
           }
          ],
          "parcoords": [
           {
            "line": {
             "colorbar": {
              "outlinewidth": 0,
              "ticks": ""
             }
            },
            "type": "parcoords"
           }
          ],
          "pie": [
           {
            "automargin": true,
            "type": "pie"
           }
          ],
          "scatter": [
           {
            "marker": {
             "colorbar": {
              "outlinewidth": 0,
              "ticks": ""
             }
            },
            "type": "scatter"
           }
          ],
          "scatter3d": [
           {
            "line": {
             "colorbar": {
              "outlinewidth": 0,
              "ticks": ""
             }
            },
            "marker": {
             "colorbar": {
              "outlinewidth": 0,
              "ticks": ""
             }
            },
            "type": "scatter3d"
           }
          ],
          "scattercarpet": [
           {
            "marker": {
             "colorbar": {
              "outlinewidth": 0,
              "ticks": ""
             }
            },
            "type": "scattercarpet"
           }
          ],
          "scattergeo": [
           {
            "marker": {
             "colorbar": {
              "outlinewidth": 0,
              "ticks": ""
             }
            },
            "type": "scattergeo"
           }
          ],
          "scattergl": [
           {
            "marker": {
             "colorbar": {
              "outlinewidth": 0,
              "ticks": ""
             }
            },
            "type": "scattergl"
           }
          ],
          "scattermapbox": [
           {
            "marker": {
             "colorbar": {
              "outlinewidth": 0,
              "ticks": ""
             }
            },
            "type": "scattermapbox"
           }
          ],
          "scatterpolar": [
           {
            "marker": {
             "colorbar": {
              "outlinewidth": 0,
              "ticks": ""
             }
            },
            "type": "scatterpolar"
           }
          ],
          "scatterpolargl": [
           {
            "marker": {
             "colorbar": {
              "outlinewidth": 0,
              "ticks": ""
             }
            },
            "type": "scatterpolargl"
           }
          ],
          "scatterternary": [
           {
            "marker": {
             "colorbar": {
              "outlinewidth": 0,
              "ticks": ""
             }
            },
            "type": "scatterternary"
           }
          ],
          "surface": [
           {
            "colorbar": {
             "outlinewidth": 0,
             "ticks": ""
            },
            "colorscale": [
             [
              0,
              "#0d0887"
             ],
             [
              0.1111111111111111,
              "#46039f"
             ],
             [
              0.2222222222222222,
              "#7201a8"
             ],
             [
              0.3333333333333333,
              "#9c179e"
             ],
             [
              0.4444444444444444,
              "#bd3786"
             ],
             [
              0.5555555555555556,
              "#d8576b"
             ],
             [
              0.6666666666666666,
              "#ed7953"
             ],
             [
              0.7777777777777778,
              "#fb9f3a"
             ],
             [
              0.8888888888888888,
              "#fdca26"
             ],
             [
              1,
              "#f0f921"
             ]
            ],
            "type": "surface"
           }
          ],
          "table": [
           {
            "cells": {
             "fill": {
              "color": "#EBF0F8"
             },
             "line": {
              "color": "white"
             }
            },
            "header": {
             "fill": {
              "color": "#C8D4E3"
             },
             "line": {
              "color": "white"
             }
            },
            "type": "table"
           }
          ]
         },
         "layout": {
          "annotationdefaults": {
           "arrowcolor": "#2a3f5f",
           "arrowhead": 0,
           "arrowwidth": 1
          },
          "autotypenumbers": "strict",
          "coloraxis": {
           "colorbar": {
            "outlinewidth": 0,
            "ticks": ""
           }
          },
          "colorscale": {
           "diverging": [
            [
             0,
             "#8e0152"
            ],
            [
             0.1,
             "#c51b7d"
            ],
            [
             0.2,
             "#de77ae"
            ],
            [
             0.3,
             "#f1b6da"
            ],
            [
             0.4,
             "#fde0ef"
            ],
            [
             0.5,
             "#f7f7f7"
            ],
            [
             0.6,
             "#e6f5d0"
            ],
            [
             0.7,
             "#b8e186"
            ],
            [
             0.8,
             "#7fbc41"
            ],
            [
             0.9,
             "#4d9221"
            ],
            [
             1,
             "#276419"
            ]
           ],
           "sequential": [
            [
             0,
             "#0d0887"
            ],
            [
             0.1111111111111111,
             "#46039f"
            ],
            [
             0.2222222222222222,
             "#7201a8"
            ],
            [
             0.3333333333333333,
             "#9c179e"
            ],
            [
             0.4444444444444444,
             "#bd3786"
            ],
            [
             0.5555555555555556,
             "#d8576b"
            ],
            [
             0.6666666666666666,
             "#ed7953"
            ],
            [
             0.7777777777777778,
             "#fb9f3a"
            ],
            [
             0.8888888888888888,
             "#fdca26"
            ],
            [
             1,
             "#f0f921"
            ]
           ],
           "sequentialminus": [
            [
             0,
             "#0d0887"
            ],
            [
             0.1111111111111111,
             "#46039f"
            ],
            [
             0.2222222222222222,
             "#7201a8"
            ],
            [
             0.3333333333333333,
             "#9c179e"
            ],
            [
             0.4444444444444444,
             "#bd3786"
            ],
            [
             0.5555555555555556,
             "#d8576b"
            ],
            [
             0.6666666666666666,
             "#ed7953"
            ],
            [
             0.7777777777777778,
             "#fb9f3a"
            ],
            [
             0.8888888888888888,
             "#fdca26"
            ],
            [
             1,
             "#f0f921"
            ]
           ]
          },
          "colorway": [
           "#636efa",
           "#EF553B",
           "#00cc96",
           "#ab63fa",
           "#FFA15A",
           "#19d3f3",
           "#FF6692",
           "#B6E880",
           "#FF97FF",
           "#FECB52"
          ],
          "font": {
           "color": "#2a3f5f"
          },
          "geo": {
           "bgcolor": "white",
           "lakecolor": "white",
           "landcolor": "#E5ECF6",
           "showlakes": true,
           "showland": true,
           "subunitcolor": "white"
          },
          "hoverlabel": {
           "align": "left"
          },
          "hovermode": "closest",
          "mapbox": {
           "style": "light"
          },
          "paper_bgcolor": "white",
          "plot_bgcolor": "#E5ECF6",
          "polar": {
           "angularaxis": {
            "gridcolor": "white",
            "linecolor": "white",
            "ticks": ""
           },
           "bgcolor": "#E5ECF6",
           "radialaxis": {
            "gridcolor": "white",
            "linecolor": "white",
            "ticks": ""
           }
          },
          "scene": {
           "xaxis": {
            "backgroundcolor": "#E5ECF6",
            "gridcolor": "white",
            "gridwidth": 2,
            "linecolor": "white",
            "showbackground": true,
            "ticks": "",
            "zerolinecolor": "white"
           },
           "yaxis": {
            "backgroundcolor": "#E5ECF6",
            "gridcolor": "white",
            "gridwidth": 2,
            "linecolor": "white",
            "showbackground": true,
            "ticks": "",
            "zerolinecolor": "white"
           },
           "zaxis": {
            "backgroundcolor": "#E5ECF6",
            "gridcolor": "white",
            "gridwidth": 2,
            "linecolor": "white",
            "showbackground": true,
            "ticks": "",
            "zerolinecolor": "white"
           }
          },
          "shapedefaults": {
           "line": {
            "color": "#2a3f5f"
           }
          },
          "ternary": {
           "aaxis": {
            "gridcolor": "white",
            "linecolor": "white",
            "ticks": ""
           },
           "baxis": {
            "gridcolor": "white",
            "linecolor": "white",
            "ticks": ""
           },
           "bgcolor": "#E5ECF6",
           "caxis": {
            "gridcolor": "white",
            "linecolor": "white",
            "ticks": ""
           }
          },
          "title": {
           "x": 0.05
          },
          "xaxis": {
           "automargin": true,
           "gridcolor": "white",
           "linecolor": "white",
           "ticks": "",
           "title": {
            "standoff": 15
           },
           "zerolinecolor": "white",
           "zerolinewidth": 2
          },
          "yaxis": {
           "automargin": true,
           "gridcolor": "white",
           "linecolor": "white",
           "ticks": "",
           "title": {
            "standoff": 15
           },
           "zerolinecolor": "white",
           "zerolinewidth": 2
          }
         }
        },
        "xaxis": {
         "anchor": "y",
         "domain": [
          0,
          0.2888888888888889
         ]
        },
        "xaxis2": {
         "anchor": "y2",
         "domain": [
          0.35555555555555557,
          0.6444444444444445
         ]
        },
        "xaxis3": {
         "anchor": "y3",
         "domain": [
          0.7111111111111111,
          1
         ]
        },
        "yaxis": {
         "anchor": "x",
         "domain": [
          0,
          1
         ],
         "title": {
          "text": "Electricity consumption (TWh)"
         }
        },
        "yaxis2": {
         "anchor": "x2",
         "domain": [
          0,
          1
         ],
         "matches": "y",
         "showticklabels": false
        },
        "yaxis3": {
         "anchor": "x3",
         "domain": [
          0,
          1
         ],
         "matches": "y",
         "showticklabels": false
        }
       }
      },
      "text/html": [
       "<div>                            <div id=\"c02b25cf-815d-4060-97da-0de43c8a31dd\" class=\"plotly-graph-div\" style=\"height:525px; width:100%;\"></div>            <script type=\"text/javascript\">                require([\"plotly\"], function(Plotly) {                    window.PLOTLYENV=window.PLOTLYENV || {};                                    if (document.getElementById(\"c02b25cf-815d-4060-97da-0de43c8a31dd\")) {                    Plotly.newPlot(                        \"c02b25cf-815d-4060-97da-0de43c8a31dd\",                        [{\"fillcolor\":\"blue\",\"line\":{\"color\":\"blue\",\"width\":0},\"mode\":\"lines\",\"name\":\"France\",\"showlegend\":true,\"stackgroup\":\"one\",\"type\":\"scatter\",\"x\":[2015,2016,2017,2018,2019,2020,2021,2022,2023,2024,2025,2026,2027,2028,2029,2030,2031,2032,2033,2034,2035,2036,2037,2038,2039,2040,2041,2042,2043,2044,2045,2046,2047,2048,2049,2050],\"xaxis\":\"x\",\"y\":[9.785648516129033,9.785648516129033,9.785648516129033,9.785648516129033,9.785648516129033,9.785648516129033,9.764285522580645,9.742922529032258,9.721559535483872,9.700196541935483,9.678833548387097,9.65747055483871,11.710107561290322,11.688744567741935,11.667381574193548,17.436881513135578,13.59475832634911,13.703015869249322,13.750212875700933,14.3111134796589,21.456484837721643,21.283612586887287,22.00753648606208,28.0216950052441,25.07719201169571,26.620630820948545,26.14641724701824,27.728087185131223,41.20894712324421,44.95399445143738,43.938741053897566,40.8992979037438,35.36175239591953,28.773930775542727,24.31298614510293,22.575110948441726],\"yaxis\":\"y\"},{\"fillcolor\":\"black\",\"line\":{\"color\":\"black\",\"width\":0},\"mode\":\"lines\",\"name\":\"Germany\",\"showlegend\":true,\"stackgroup\":\"one\",\"type\":\"scatter\",\"x\":[2015,2016,2017,2018,2019,2020,2021,2022,2023,2024,2025,2026,2027,2028,2029,2030,2031,2032,2033,2034,2035,2036,2037,2038,2039,2040,2041,2042,2043,2044,2045,2046,2047,2048,2049,2050],\"xaxis\":\"x\",\"y\":[24.72975580645161,24.72975580645161,24.72975580645161,24.72975580645161,24.72975580645161,24.72975580645161,24.685087729032254,24.640419651612902,24.595751574193546,24.551083496774194,24.593566783948564,24.54637341310276,24.499180042256956,24.451986671411152,24.404793300565352,26.04537427538407,26.121686120007727,29.39645924656288,32.28317956623693,35.12989988591098,48.7956274392266,49.32097174477419,46.66095864093986,42.05892955788507,43.86869930826082,49.48374333591604,54.50699570765728,56.608074948893595,57.39406192441846,56.92986129502379,56.74828709206028,59.196901774009795,78.4226050208371,82.48468483574395,87.49012845457239,93.81436171123558],\"yaxis\":\"y\"},{\"fillcolor\":\"green\",\"line\":{\"color\":\"green\",\"width\":0},\"mode\":\"lines\",\"name\":\"Italy\",\"showlegend\":true,\"stackgroup\":\"one\",\"type\":\"scatter\",\"x\":[2015,2016,2017,2018,2019,2020,2021,2022,2023,2024,2025,2026,2027,2028,2029,2030,2031,2032,2033,2034,2035,2036,2037,2038,2039,2040,2041,2042,2043,2044,2045,2046,2047,2048,2049,2050],\"xaxis\":\"x\",\"y\":[18.08476690322581,18.08476690322581,18.08476690322581,18.08476690322581,18.08476690322581,18.08476690322581,18.08049430451613,18.07622170580645,18.071949107096774,18.067676508387095,18.06340390967742,18.05913131096774,18.054858712258063,18.050586113548388,18.046313514838708,18.134197778874128,18.124018930164453,18.47288321870968,18.46270437,18.452525521290323,19.051536172245857,19.05594061992028,19.06986459657469,19.08966181771173,19.07738367340379,20.60030157512223,21.28699733944574,21.253106761824775,21.21437217327971,21.177469329047128,21.134036716361653,21.153797633071306,21.116521444776165,21.079233016464492,21.041944588152816,24.179165963762713],\"yaxis\":\"y\"},{\"fillcolor\":\"yellow\",\"line\":{\"color\":\"yellow\",\"width\":0},\"mode\":\"lines\",\"name\":\"Belgium\",\"showlegend\":true,\"stackgroup\":\"one\",\"type\":\"scatter\",\"x\":[2015,2016,2017,2018,2019,2020,2021,2022,2023,2024,2025,2026,2027,2028,2029,2030,2031,2032,2033,2034,2035,2036,2037,2038,2039,2040,2041,2042,2043,2044,2045,2046,2047,2048,2049,2050],\"xaxis\":\"x\",\"y\":[4.774385161290322,4.774385161290322,4.774385161290322,4.774385161290322,4.774385161290322,4.774385161290322,4.756420825806451,4.73845649032258,4.720492154838709,4.702527819354838,4.686331108599818,4.668366773115947,4.650402437632076,4.632438102148205,4.614473766664334,7.177129431180463,7.200776970696592,7.224424510212721,7.24807204972885,7.271719589244979,8.700357882248436,9.212077495397526,10.104391599518058,10.138399139034187,12.642406678550316,12.937756384414707,11.509732348370125,10.97333269659266,13.185437294061456,24.18514529979138,28.080035374693345,29.2742310483163,24.75288101902323,18.842395827906206,16.279813929087386,15.212285977541251],\"yaxis\":\"y\"},{\"fillcolor\":\"orange\",\"line\":{\"color\":\"orange\",\"width\":0},\"mode\":\"lines\",\"name\":\"Spain\",\"showlegend\":true,\"stackgroup\":\"one\",\"type\":\"scatter\",\"x\":[2015,2016,2017,2018,2019,2020,2021,2022,2023,2024,2025,2026,2027,2028,2029,2030,2031,2032,2033,2034,2035,2036,2037,2038,2039,2040,2041,2042,2043,2044,2045,2046,2047,2048,2049,2050],\"xaxis\":\"x\",\"y\":[12.14410322580645,12.14410322580645,12.14410322580645,12.14410322580645,12.14410322580645,12.14410322580645,12.130994116129033,12.117885006451612,12.104775896774193,12.091666787096774,14.463657677419354,14.450548567741935,14.437439458064516,14.424330348387096,14.411221238709675,14.416912129032259,14.60638426935484,14.58905640967742,14.57172855,14.55440069032258,20.578658566961796,20.387873579432863,20.718397305439016,18.887465830691433,18.92685390651752,20.49806775788447,20.59709589237358,20.32947116576067,20.25856269124713,24.35886093150795,18.85419989516507,18.828066497622103,18.75615139818142,17.08697787073795,16.432779916487345,17.0383232405312],\"yaxis\":\"y\"},{\"fillcolor\":\"red\",\"line\":{\"color\":\"red\",\"width\":0},\"mode\":\"lines\",\"name\":\"Great Britain\",\"showlegend\":true,\"stackgroup\":\"one\",\"type\":\"scatter\",\"x\":[2015,2016,2017,2018,2019,2020,2021,2022,2023,2024,2025,2026,2027,2028,2029,2030,2031,2032,2033,2034,2035,2036,2037,2038,2039,2040,2041,2042,2043,2044,2045,2046,2047,2048,2049,2050],\"xaxis\":\"x\",\"y\":[4.668164,4.668164,4.668164,4.668164,4.668164,4.668164,4.668164,4.668164,4.668164,4.668164,4.668164,4.668164,4.668164,4.668164,4.668164,5.2816516794332315,5.614789618502323,5.738395868502323,5.862002118502323,5.985608368502324,6.415986283168043,6.54232747612364,6.668665270030074,6.794999671220031,7.1028056860104805,8.409406444073813,8.52185328658587,8.452811777149629,8.557379622401026,8.669768431407993,8.731378488570128,8.850465688459346,8.943796169306122,9.037126650152896,9.716907571258401,14.973291978620244],\"yaxis\":\"y\"},{\"fillcolor\":\"blue\",\"line\":{\"color\":\"blue\",\"width\":0},\"mode\":\"lines\",\"name\":\"France\",\"showlegend\":false,\"stackgroup\":\"one\",\"type\":\"scatter\",\"x\":[2015,2016,2017,2018,2019,2020,2021,2022,2023,2024,2025,2026,2027,2028,2029,2030,2031,2032,2033,2034,2035,2036,2037,2038,2039,2040,2041,2042,2043,2044,2045,2046,2047,2048,2049,2050],\"xaxis\":\"x2\",\"y\":[9.785648516129033,9.785648516129033,9.785648516129033,9.785648516129033,9.785648516129033,9.785648516129033,9.764285522580645,9.742922529032258,9.721559535483872,9.700196541935483,9.678833548387097,9.65747055483871,11.710107561290322,11.688744567741935,11.667381574193548,17.52919277315474,12.077448396541838,13.985004019928935,14.512793019372895,16.9659428309401,26.17365488120881,28.86286480284259,40.15740409975223,46.875676475641164,52.47079196265509,55.593240500482224,60.331452649473874,64.89306109063008,64.580210318821,62.79256462357499,56.277025141830556,49.350512498374115,42.52471941647987,35.79964589614782,30.651164366659792,32.03178046028707],\"yaxis\":\"y2\"},{\"fillcolor\":\"black\",\"line\":{\"color\":\"black\",\"width\":0},\"mode\":\"lines\",\"name\":\"Germany\",\"showlegend\":false,\"stackgroup\":\"one\",\"type\":\"scatter\",\"x\":[2015,2016,2017,2018,2019,2020,2021,2022,2023,2024,2025,2026,2027,2028,2029,2030,2031,2032,2033,2034,2035,2036,2037,2038,2039,2040,2041,2042,2043,2044,2045,2046,2047,2048,2049,2050],\"xaxis\":\"x2\",\"y\":[24.72975580645161,24.72975580645161,24.72975580645161,24.72975580645161,24.72975580645161,24.72975580645161,24.685087729032254,24.640419651612902,24.595751574193546,24.551083496774194,24.593566783948557,24.54637341310276,24.83324511252543,26.082301741679625,27.33135837083382,33.97796866975312,34.220297648403935,36.081547028027195,38.513294155999276,41.98003425245798,55.61151897835799,61.415484528378954,63.06899565073833,68.99608682191841,74.8431779930985,82.95704469603835,90.9909113989782,93.04526353273972,93.82140216464177,92.88977277491786,95.81173269874431,99.76524541190089,107.26023152574021,114.10394198710955,120.84565244847892,134.27736290984828],\"yaxis\":\"y2\"},{\"fillcolor\":\"green\",\"line\":{\"color\":\"green\",\"width\":0},\"mode\":\"lines\",\"name\":\"Italy\",\"showlegend\":false,\"stackgroup\":\"one\",\"type\":\"scatter\",\"x\":[2015,2016,2017,2018,2019,2020,2021,2022,2023,2024,2025,2026,2027,2028,2029,2030,2031,2032,2033,2034,2035,2036,2037,2038,2039,2040,2041,2042,2043,2044,2045,2046,2047,2048,2049,2050],\"xaxis\":\"x2\",\"y\":[18.08476690322581,18.08476690322581,18.08476690322581,18.08476690322581,18.08476690322581,18.08476690322581,18.08049430451613,18.07622170580645,18.071949107096774,18.067676508387095,18.06340390967742,18.05913131096774,18.054858712258063,18.050586113548388,19.13529726722158,22.8312841726325,22.821105323922822,22.810926475213147,22.80074762650347,23.345394396688214,24.117224814994998,24.121629262669416,24.153031537028426,24.140691598684974,24.138039682189714,25.444123624517754,26.130819388841264,26.097370107116994,26.02852353918421,25.959082723738902,25.53684783135104,29.50450342704473,31.43752123042773,31.36650406087694,31.620906622508073,31.87123444652803],\"yaxis\":\"y2\"},{\"fillcolor\":\"yellow\",\"line\":{\"color\":\"yellow\",\"width\":0},\"mode\":\"lines\",\"name\":\"Belgium\",\"showlegend\":false,\"stackgroup\":\"one\",\"type\":\"scatter\",\"x\":[2015,2016,2017,2018,2019,2020,2021,2022,2023,2024,2025,2026,2027,2028,2029,2030,2031,2032,2033,2034,2035,2036,2037,2038,2039,2040,2041,2042,2043,2044,2045,2046,2047,2048,2049,2050],\"xaxis\":\"x2\",\"y\":[4.774385161290322,4.774385161290322,4.774385161290322,4.774385161290322,4.774385161290322,4.774385161290322,4.756420825806451,4.73845649032258,4.720492154838709,4.702527819354838,4.686331108599818,4.668366773115947,4.650402437632076,4.632438102148205,4.655953766664335,7.393564513211713,7.355218990857882,7.316873468504052,7.439149192335707,7.4055278242814495,13.370579063158218,20.160821495397528,25.993040319071287,31.467145917412815,36.28189745692894,36.79522169241977,39.6397634057146,48.18146799212327,47.88275437316866,47.61698260367642,41.83916477966141,36.09288072725353,29.834360334501884,23.835953984314006,18.996572821116253,17.232081997348033],\"yaxis\":\"y2\"},{\"fillcolor\":\"orange\",\"line\":{\"color\":\"orange\",\"width\":0},\"mode\":\"lines\",\"name\":\"Spain\",\"showlegend\":false,\"stackgroup\":\"one\",\"type\":\"scatter\",\"x\":[2015,2016,2017,2018,2019,2020,2021,2022,2023,2024,2025,2026,2027,2028,2029,2030,2031,2032,2033,2034,2035,2036,2037,2038,2039,2040,2041,2042,2043,2044,2045,2046,2047,2048,2049,2050],\"xaxis\":\"x2\",\"y\":[12.14410322580645,12.14410322580645,12.14410322580645,12.14410322580645,12.14410322580645,12.14410322580645,12.130994116129033,12.117885006451612,12.104775896774193,12.091666787096774,14.463657677419354,14.450548567741935,14.437439458064516,14.424330348387096,14.411221238709675,16.903146933719757,16.886342777419355,16.869538621118952,17.217823731038603,17.211757494332907,22.945767189129928,26.838478906427362,35.339270467637355,41.11243768994176,42.697433213330015,44.07326917314089,43.94838702945341,43.728028173838716,43.50766931822401,42.58735029979719,35.65499038966561,32.94443303271576,27.365568607248953,24.198610441308546,23.36245328415027,23.299977420470036],\"yaxis\":\"y2\"},{\"fillcolor\":\"red\",\"line\":{\"color\":\"red\",\"width\":0},\"mode\":\"lines\",\"name\":\"Great Britain\",\"showlegend\":false,\"stackgroup\":\"one\",\"type\":\"scatter\",\"x\":[2015,2016,2017,2018,2019,2020,2021,2022,2023,2024,2025,2026,2027,2028,2029,2030,2031,2032,2033,2034,2035,2036,2037,2038,2039,2040,2041,2042,2043,2044,2045,2046,2047,2048,2049,2050],\"xaxis\":\"x2\",\"y\":[4.668164,4.668164,4.668164,4.668164,4.668164,4.668164,4.668164,4.668164,4.668164,4.668164,4.668163999999999,4.668164,4.668164,4.668164,5.806068166666667,9.753686058823531,9.702360446078432,9.644491696078433,9.769819204906296,9.817922255821182,9.959132110744152,10.162847635655845,10.937711097606181,11.064045498796139,11.297242225970441,12.603805934687125,12.716215727690598,12.675937729533368,12.746195228216367,12.889205598465054,13.84258792586858,17.935103245610517,19.60565199917693,19.662158162704113,19.1484443262313,24.50270969621103],\"yaxis\":\"y2\"},{\"fillcolor\":\"blue\",\"line\":{\"color\":\"blue\",\"width\":0},\"mode\":\"lines\",\"name\":\"France\",\"showlegend\":false,\"stackgroup\":\"one\",\"type\":\"scatter\",\"x\":[2015,2016,2017,2018,2019,2020,2021,2022,2023,2024,2025,2026,2027,2028,2029,2030,2031,2032,2033,2034,2035,2036,2037,2038,2039,2040,2041,2042,2043,2044,2045,2046,2047,2048,2049,2050],\"xaxis\":\"x3\",\"y\":[9.785648516129033,9.785648516129033,9.785648516129033,9.785648516129033,9.785648516129033,9.785648516129033,9.764285522580645,9.742922529032258,9.721559535483872,9.700196541935483,9.678833548387097,9.65747055483871,11.710107561290322,11.688744567741935,11.667381574193548,17.36955837231183,12.045018396541838,13.952574019928937,14.48248658741044,17.174208856861103,26.381983365013294,28.58788312698468,39.8871103928577,46.88934787458888,52.488448922436866,55.64190690472217,60.38127168565578,64.95768212447406,64.65373179649376,62.23057602651569,56.1705794761638,49.459235022543005,42.634448014111676,39.06648311630593,39.01480363851427,46.31607448113101],\"yaxis\":\"y3\"},{\"fillcolor\":\"black\",\"line\":{\"color\":\"black\",\"width\":0},\"mode\":\"lines\",\"name\":\"Germany\",\"showlegend\":false,\"stackgroup\":\"one\",\"type\":\"scatter\",\"x\":[2015,2016,2017,2018,2019,2020,2021,2022,2023,2024,2025,2026,2027,2028,2029,2030,2031,2032,2033,2034,2035,2036,2037,2038,2039,2040,2041,2042,2043,2044,2045,2046,2047,2048,2049,2050],\"xaxis\":\"x3\",\"y\":[24.72975580645161,24.72975580645161,24.72975580645161,24.72975580645161,24.72975580645161,24.72975580645161,24.685087729032254,24.640419651612902,24.595751574193546,24.551083496774194,24.593566783948564,24.54637341310276,25.09047067083126,26.339527299985455,27.58858392913966,33.921806480294606,34.68811578048184,36.549365160105104,38.98111228807718,42.06447559364308,55.567105862745876,61.37107141276684,63.539033651737874,69.46612482291796,75.49688407020798,83.61075077314783,91.64461747608767,93.696390529334,94.24903180186467,95.09214682777677,98.01058665213134,103.98056438068552,115.6392741819434,123.07285559610449,130.3683970102656,141.515800385211],\"yaxis\":\"y3\"},{\"fillcolor\":\"green\",\"line\":{\"color\":\"green\",\"width\":0},\"mode\":\"lines\",\"name\":\"Italy\",\"showlegend\":false,\"stackgroup\":\"one\",\"type\":\"scatter\",\"x\":[2015,2016,2017,2018,2019,2020,2021,2022,2023,2024,2025,2026,2027,2028,2029,2030,2031,2032,2033,2034,2035,2036,2037,2038,2039,2040,2041,2042,2043,2044,2045,2046,2047,2048,2049,2050],\"xaxis\":\"x3\",\"y\":[18.08476690322581,18.08476690322581,18.08476690322581,18.08476690322581,18.08476690322581,18.08476690322581,18.08049430451613,18.07622170580645,18.071949107096774,18.067676508387095,18.06340390967742,18.05913131096774,18.054858712258063,18.050586113548388,19.13529726722158,22.831284172632504,22.821105323922826,22.810926475213147,22.80074762650347,23.347082173684566,24.118960814191244,24.12336526186566,24.15395201234195,24.14685777966752,23.91851154020926,25.445859623714,26.130538475391077,26.097089193666815,26.028242625734027,25.958801810288723,25.482661620089374,29.47090157658293,31.437521230427734,31.366504060876945,31.62090662250807,31.87123444652803],\"yaxis\":\"y3\"},{\"fillcolor\":\"yellow\",\"line\":{\"color\":\"yellow\",\"width\":0},\"mode\":\"lines\",\"name\":\"Belgium\",\"showlegend\":false,\"stackgroup\":\"one\",\"type\":\"scatter\",\"x\":[2015,2016,2017,2018,2019,2020,2021,2022,2023,2024,2025,2026,2027,2028,2029,2030,2031,2032,2033,2034,2035,2036,2037,2038,2039,2040,2041,2042,2043,2044,2045,2046,2047,2048,2049,2050],\"xaxis\":\"x3\",\"y\":[4.774385161290322,4.774385161290322,4.774385161290322,4.774385161290322,4.774385161290322,4.774385161290322,4.756420825806451,4.73845649032258,4.720492154838709,4.702527819354838,4.686331108599818,4.668366773115947,4.650402437632076,4.632438102148205,4.822546999167722,7.7084469782184915,7.690283404070411,7.65193788171658,7.774113385835104,7.897773070142224,13.79937736138037,22.153735727167888,29.316796049922324,35.046665604970535,40.64696983549693,41.217053792530415,41.649875285756245,50.34923373473323,50.024871351938735,49.54124958252829,44.70951117376624,38.79919033444771,29.226503182348726,23.69778570854633,25.61723429932697,31.549845306226064],\"yaxis\":\"y3\"},{\"fillcolor\":\"orange\",\"line\":{\"color\":\"orange\",\"width\":0},\"mode\":\"lines\",\"name\":\"Spain\",\"showlegend\":false,\"stackgroup\":\"one\",\"type\":\"scatter\",\"x\":[2015,2016,2017,2018,2019,2020,2021,2022,2023,2024,2025,2026,2027,2028,2029,2030,2031,2032,2033,2034,2035,2036,2037,2038,2039,2040,2041,2042,2043,2044,2045,2046,2047,2048,2049,2050],\"xaxis\":\"x3\",\"y\":[12.14410322580645,12.14410322580645,12.14410322580645,12.14410322580645,12.14410322580645,12.14410322580645,12.130994116129033,12.117885006451612,12.104775896774193,12.091666787096774,14.463657677419354,14.450548567741935,14.437439458064516,14.424330348387096,14.411221238709675,16.90314693371976,16.88634277741935,16.869538621118952,17.21952113440508,17.21350482132781,22.947564439753258,26.840276157050692,34.969261836865726,41.28447664479217,42.86947216818046,44.24530812799133,44.11833790873398,43.897979053119286,43.67762019750459,42.75730117907773,35.78679486614714,32.79849588940185,27.22338764113477,24.058190230192697,23.223793828032726,23.16307871935081],\"yaxis\":\"y3\"},{\"fillcolor\":\"red\",\"line\":{\"color\":\"red\",\"width\":0},\"mode\":\"lines\",\"name\":\"Great Britain\",\"showlegend\":false,\"stackgroup\":\"one\",\"type\":\"scatter\",\"x\":[2015,2016,2017,2018,2019,2020,2021,2022,2023,2024,2025,2026,2027,2028,2029,2030,2031,2032,2033,2034,2035,2036,2037,2038,2039,2040,2041,2042,2043,2044,2045,2046,2047,2048,2049,2050],\"xaxis\":\"x3\",\"y\":[4.668164,4.668164,4.668164,4.668164,4.668164,4.668164,4.668164,4.668164,4.668164,4.668164,4.668164,4.668164,4.668164,4.668164,5.81863238705817,9.742080774116342,9.725211091843502,9.667342341843502,9.71998528431671,9.841429571005317,9.801183187911692,10.161245272040373,10.961237174773721,11.087571575963677,11.32076830313798,12.626547284453647,12.738957077457119,12.698679079299891,12.746085932217818,12.889096302466507,13.897656329550102,18.00221898044223,19.68559775793421,19.741609591478777,19.78511013015287,24.50270969621103],\"yaxis\":\"y3\"}],                        {\"annotations\":[{\"font\":{\"size\":24},\"showarrow\":false,\"text\":\"High electricity price\",\"x\":0.14444444444444446,\"xanchor\":\"center\",\"xref\":\"paper\",\"y\":1.0,\"yanchor\":\"bottom\",\"yref\":\"paper\"},{\"font\":{\"size\":24},\"showarrow\":false,\"text\":\"Reference\",\"x\":0.5,\"xanchor\":\"center\",\"xref\":\"paper\",\"y\":1.0,\"yanchor\":\"bottom\",\"yref\":\"paper\"},{\"font\":{\"size\":24},\"showarrow\":false,\"text\":\"Fossil phase-out\",\"x\":0.8555555555555556,\"xanchor\":\"center\",\"xref\":\"paper\",\"y\":1.0,\"yanchor\":\"bottom\",\"yref\":\"paper\"}],\"font\":{\"family\":\"Times New Roman\",\"size\":24},\"legend\":{\"font\":{\"size\":20},\"orientation\":\"h\",\"x\":0.9,\"xanchor\":\"right\",\"y\":1.1,\"yanchor\":\"bottom\"},\"template\":{\"data\":{\"bar\":[{\"error_x\":{\"color\":\"#2a3f5f\"},\"error_y\":{\"color\":\"#2a3f5f\"},\"marker\":{\"line\":{\"color\":\"#E5ECF6\",\"width\":0.5},\"pattern\":{\"fillmode\":\"overlay\",\"size\":10,\"solidity\":0.2}},\"type\":\"bar\"}],\"barpolar\":[{\"marker\":{\"line\":{\"color\":\"#E5ECF6\",\"width\":0.5},\"pattern\":{\"fillmode\":\"overlay\",\"size\":10,\"solidity\":0.2}},\"type\":\"barpolar\"}],\"carpet\":[{\"aaxis\":{\"endlinecolor\":\"#2a3f5f\",\"gridcolor\":\"white\",\"linecolor\":\"white\",\"minorgridcolor\":\"white\",\"startlinecolor\":\"#2a3f5f\"},\"baxis\":{\"endlinecolor\":\"#2a3f5f\",\"gridcolor\":\"white\",\"linecolor\":\"white\",\"minorgridcolor\":\"white\",\"startlinecolor\":\"#2a3f5f\"},\"type\":\"carpet\"}],\"choropleth\":[{\"colorbar\":{\"outlinewidth\":0,\"ticks\":\"\"},\"type\":\"choropleth\"}],\"contour\":[{\"colorbar\":{\"outlinewidth\":0,\"ticks\":\"\"},\"colorscale\":[[0.0,\"#0d0887\"],[0.1111111111111111,\"#46039f\"],[0.2222222222222222,\"#7201a8\"],[0.3333333333333333,\"#9c179e\"],[0.4444444444444444,\"#bd3786\"],[0.5555555555555556,\"#d8576b\"],[0.6666666666666666,\"#ed7953\"],[0.7777777777777778,\"#fb9f3a\"],[0.8888888888888888,\"#fdca26\"],[1.0,\"#f0f921\"]],\"type\":\"contour\"}],\"contourcarpet\":[{\"colorbar\":{\"outlinewidth\":0,\"ticks\":\"\"},\"type\":\"contourcarpet\"}],\"heatmap\":[{\"colorbar\":{\"outlinewidth\":0,\"ticks\":\"\"},\"colorscale\":[[0.0,\"#0d0887\"],[0.1111111111111111,\"#46039f\"],[0.2222222222222222,\"#7201a8\"],[0.3333333333333333,\"#9c179e\"],[0.4444444444444444,\"#bd3786\"],[0.5555555555555556,\"#d8576b\"],[0.6666666666666666,\"#ed7953\"],[0.7777777777777778,\"#fb9f3a\"],[0.8888888888888888,\"#fdca26\"],[1.0,\"#f0f921\"]],\"type\":\"heatmap\"}],\"heatmapgl\":[{\"colorbar\":{\"outlinewidth\":0,\"ticks\":\"\"},\"colorscale\":[[0.0,\"#0d0887\"],[0.1111111111111111,\"#46039f\"],[0.2222222222222222,\"#7201a8\"],[0.3333333333333333,\"#9c179e\"],[0.4444444444444444,\"#bd3786\"],[0.5555555555555556,\"#d8576b\"],[0.6666666666666666,\"#ed7953\"],[0.7777777777777778,\"#fb9f3a\"],[0.8888888888888888,\"#fdca26\"],[1.0,\"#f0f921\"]],\"type\":\"heatmapgl\"}],\"histogram\":[{\"marker\":{\"pattern\":{\"fillmode\":\"overlay\",\"size\":10,\"solidity\":0.2}},\"type\":\"histogram\"}],\"histogram2d\":[{\"colorbar\":{\"outlinewidth\":0,\"ticks\":\"\"},\"colorscale\":[[0.0,\"#0d0887\"],[0.1111111111111111,\"#46039f\"],[0.2222222222222222,\"#7201a8\"],[0.3333333333333333,\"#9c179e\"],[0.4444444444444444,\"#bd3786\"],[0.5555555555555556,\"#d8576b\"],[0.6666666666666666,\"#ed7953\"],[0.7777777777777778,\"#fb9f3a\"],[0.8888888888888888,\"#fdca26\"],[1.0,\"#f0f921\"]],\"type\":\"histogram2d\"}],\"histogram2dcontour\":[{\"colorbar\":{\"outlinewidth\":0,\"ticks\":\"\"},\"colorscale\":[[0.0,\"#0d0887\"],[0.1111111111111111,\"#46039f\"],[0.2222222222222222,\"#7201a8\"],[0.3333333333333333,\"#9c179e\"],[0.4444444444444444,\"#bd3786\"],[0.5555555555555556,\"#d8576b\"],[0.6666666666666666,\"#ed7953\"],[0.7777777777777778,\"#fb9f3a\"],[0.8888888888888888,\"#fdca26\"],[1.0,\"#f0f921\"]],\"type\":\"histogram2dcontour\"}],\"mesh3d\":[{\"colorbar\":{\"outlinewidth\":0,\"ticks\":\"\"},\"type\":\"mesh3d\"}],\"parcoords\":[{\"line\":{\"colorbar\":{\"outlinewidth\":0,\"ticks\":\"\"}},\"type\":\"parcoords\"}],\"pie\":[{\"automargin\":true,\"type\":\"pie\"}],\"scatter\":[{\"marker\":{\"colorbar\":{\"outlinewidth\":0,\"ticks\":\"\"}},\"type\":\"scatter\"}],\"scatter3d\":[{\"line\":{\"colorbar\":{\"outlinewidth\":0,\"ticks\":\"\"}},\"marker\":{\"colorbar\":{\"outlinewidth\":0,\"ticks\":\"\"}},\"type\":\"scatter3d\"}],\"scattercarpet\":[{\"marker\":{\"colorbar\":{\"outlinewidth\":0,\"ticks\":\"\"}},\"type\":\"scattercarpet\"}],\"scattergeo\":[{\"marker\":{\"colorbar\":{\"outlinewidth\":0,\"ticks\":\"\"}},\"type\":\"scattergeo\"}],\"scattergl\":[{\"marker\":{\"colorbar\":{\"outlinewidth\":0,\"ticks\":\"\"}},\"type\":\"scattergl\"}],\"scattermapbox\":[{\"marker\":{\"colorbar\":{\"outlinewidth\":0,\"ticks\":\"\"}},\"type\":\"scattermapbox\"}],\"scatterpolar\":[{\"marker\":{\"colorbar\":{\"outlinewidth\":0,\"ticks\":\"\"}},\"type\":\"scatterpolar\"}],\"scatterpolargl\":[{\"marker\":{\"colorbar\":{\"outlinewidth\":0,\"ticks\":\"\"}},\"type\":\"scatterpolargl\"}],\"scatterternary\":[{\"marker\":{\"colorbar\":{\"outlinewidth\":0,\"ticks\":\"\"}},\"type\":\"scatterternary\"}],\"surface\":[{\"colorbar\":{\"outlinewidth\":0,\"ticks\":\"\"},\"colorscale\":[[0.0,\"#0d0887\"],[0.1111111111111111,\"#46039f\"],[0.2222222222222222,\"#7201a8\"],[0.3333333333333333,\"#9c179e\"],[0.4444444444444444,\"#bd3786\"],[0.5555555555555556,\"#d8576b\"],[0.6666666666666666,\"#ed7953\"],[0.7777777777777778,\"#fb9f3a\"],[0.8888888888888888,\"#fdca26\"],[1.0,\"#f0f921\"]],\"type\":\"surface\"}],\"table\":[{\"cells\":{\"fill\":{\"color\":\"#EBF0F8\"},\"line\":{\"color\":\"white\"}},\"header\":{\"fill\":{\"color\":\"#C8D4E3\"},\"line\":{\"color\":\"white\"}},\"type\":\"table\"}]},\"layout\":{\"annotationdefaults\":{\"arrowcolor\":\"#2a3f5f\",\"arrowhead\":0,\"arrowwidth\":1},\"autotypenumbers\":\"strict\",\"coloraxis\":{\"colorbar\":{\"outlinewidth\":0,\"ticks\":\"\"}},\"colorscale\":{\"diverging\":[[0,\"#8e0152\"],[0.1,\"#c51b7d\"],[0.2,\"#de77ae\"],[0.3,\"#f1b6da\"],[0.4,\"#fde0ef\"],[0.5,\"#f7f7f7\"],[0.6,\"#e6f5d0\"],[0.7,\"#b8e186\"],[0.8,\"#7fbc41\"],[0.9,\"#4d9221\"],[1,\"#276419\"]],\"sequential\":[[0.0,\"#0d0887\"],[0.1111111111111111,\"#46039f\"],[0.2222222222222222,\"#7201a8\"],[0.3333333333333333,\"#9c179e\"],[0.4444444444444444,\"#bd3786\"],[0.5555555555555556,\"#d8576b\"],[0.6666666666666666,\"#ed7953\"],[0.7777777777777778,\"#fb9f3a\"],[0.8888888888888888,\"#fdca26\"],[1.0,\"#f0f921\"]],\"sequentialminus\":[[0.0,\"#0d0887\"],[0.1111111111111111,\"#46039f\"],[0.2222222222222222,\"#7201a8\"],[0.3333333333333333,\"#9c179e\"],[0.4444444444444444,\"#bd3786\"],[0.5555555555555556,\"#d8576b\"],[0.6666666666666666,\"#ed7953\"],[0.7777777777777778,\"#fb9f3a\"],[0.8888888888888888,\"#fdca26\"],[1.0,\"#f0f921\"]]},\"colorway\":[\"#636efa\",\"#EF553B\",\"#00cc96\",\"#ab63fa\",\"#FFA15A\",\"#19d3f3\",\"#FF6692\",\"#B6E880\",\"#FF97FF\",\"#FECB52\"],\"font\":{\"color\":\"#2a3f5f\"},\"geo\":{\"bgcolor\":\"white\",\"lakecolor\":\"white\",\"landcolor\":\"#E5ECF6\",\"showlakes\":true,\"showland\":true,\"subunitcolor\":\"white\"},\"hoverlabel\":{\"align\":\"left\"},\"hovermode\":\"closest\",\"mapbox\":{\"style\":\"light\"},\"paper_bgcolor\":\"white\",\"plot_bgcolor\":\"#E5ECF6\",\"polar\":{\"angularaxis\":{\"gridcolor\":\"white\",\"linecolor\":\"white\",\"ticks\":\"\"},\"bgcolor\":\"#E5ECF6\",\"radialaxis\":{\"gridcolor\":\"white\",\"linecolor\":\"white\",\"ticks\":\"\"}},\"scene\":{\"xaxis\":{\"backgroundcolor\":\"#E5ECF6\",\"gridcolor\":\"white\",\"gridwidth\":2,\"linecolor\":\"white\",\"showbackground\":true,\"ticks\":\"\",\"zerolinecolor\":\"white\"},\"yaxis\":{\"backgroundcolor\":\"#E5ECF6\",\"gridcolor\":\"white\",\"gridwidth\":2,\"linecolor\":\"white\",\"showbackground\":true,\"ticks\":\"\",\"zerolinecolor\":\"white\"},\"zaxis\":{\"backgroundcolor\":\"#E5ECF6\",\"gridcolor\":\"white\",\"gridwidth\":2,\"linecolor\":\"white\",\"showbackground\":true,\"ticks\":\"\",\"zerolinecolor\":\"white\"}},\"shapedefaults\":{\"line\":{\"color\":\"#2a3f5f\"}},\"ternary\":{\"aaxis\":{\"gridcolor\":\"white\",\"linecolor\":\"white\",\"ticks\":\"\"},\"baxis\":{\"gridcolor\":\"white\",\"linecolor\":\"white\",\"ticks\":\"\"},\"bgcolor\":\"#E5ECF6\",\"caxis\":{\"gridcolor\":\"white\",\"linecolor\":\"white\",\"ticks\":\"\"}},\"title\":{\"x\":0.05},\"xaxis\":{\"automargin\":true,\"gridcolor\":\"white\",\"linecolor\":\"white\",\"ticks\":\"\",\"title\":{\"standoff\":15},\"zerolinecolor\":\"white\",\"zerolinewidth\":2},\"yaxis\":{\"automargin\":true,\"gridcolor\":\"white\",\"linecolor\":\"white\",\"ticks\":\"\",\"title\":{\"standoff\":15},\"zerolinecolor\":\"white\",\"zerolinewidth\":2}}},\"xaxis\":{\"anchor\":\"y\",\"domain\":[0.0,0.2888888888888889]},\"xaxis2\":{\"anchor\":\"y2\",\"domain\":[0.35555555555555557,0.6444444444444445]},\"xaxis3\":{\"anchor\":\"y3\",\"domain\":[0.7111111111111111,1.0]},\"yaxis\":{\"anchor\":\"x\",\"domain\":[0.0,1.0],\"title\":{\"text\":\"Electricity consumption (TWh)\"}},\"yaxis2\":{\"anchor\":\"x2\",\"domain\":[0.0,1.0],\"matches\":\"y\",\"showticklabels\":false},\"yaxis3\":{\"anchor\":\"x3\",\"domain\":[0.0,1.0],\"matches\":\"y\",\"showticklabels\":false}},                        {\"responsive\": true}                    ).then(function(){\n",
       "                            \n",
       "var gd = document.getElementById('c02b25cf-815d-4060-97da-0de43c8a31dd');\n",
       "var x = new MutationObserver(function (mutations, observer) {{\n",
       "        var display = window.getComputedStyle(gd).display;\n",
       "        if (!display || display === 'none') {{\n",
       "            console.log([gd, 'removed!']);\n",
       "            Plotly.purge(gd);\n",
       "            observer.disconnect();\n",
       "        }}\n",
       "}});\n",
       "\n",
       "// Listen for the removal of the full notebook cells\n",
       "var notebookContainer = gd.closest('#notebook-container');\n",
       "if (notebookContainer) {{\n",
       "    x.observe(notebookContainer, {childList: true});\n",
       "}}\n",
       "\n",
       "// Listen for the clearing of the current output cell\n",
       "var outputEl = gd.closest('.output');\n",
       "if (outputEl) {{\n",
       "    x.observe(outputEl, {childList: true});\n",
       "}}\n",
       "\n",
       "                        })                };                });            </script>        </div>"
      ]
     },
     "metadata": {},
     "output_type": "display_data"
    }
   ],
   "source": [
    "fig =make_subplots(rows=1, cols=3,subplot_titles=list(scen.keys()),shared_yaxes=True)\n",
    "for i in range(len(scen.keys())):\n",
    "    showlegend=[True,False,False]\n",
    "    resource_inflow=scen[list(scen.keys())[i]]['resource_tech_inflow']\n",
    "    energy_input=resource_inflow[(resource_inflow.Resource.isin(primary_resource_conversion.keys()))]\n",
    "    energy_input=energy_input.drop([\"Sector\"],axis=1).groupby(by=[\"Resource\",\"Country\",\"Year\"]).sum().reset_index()\n",
    "    country_colors={\"France\":\"blue\",\"Germany\":\"black\",\"Italy\":\"green\",\"Belgium\":\"yellow\",\"Spain\":\"orange\",\"Great Britain\":\"red\"}\n",
    "\n",
    "    for country in [\"France\",\"Germany\",\"Italy\",\"Belgium\",\"Spain\",\"Great Britain\"]:\n",
    "        resource=\"Electricity\"\n",
    "        fig.add_trace(go.Scatter(x=energy_input[(energy_input.Resource==resource) & (energy_input.Country==country)].Year,\n",
    "                                 y=energy_input[(energy_input.Resource==resource) & (energy_input.Country==country)].Flow,\n",
    "                                 name=country,\n",
    "                                 line=dict(width=0,color=country_colors[country]),\n",
    "                                     fillcolor=country_colors[country],mode='lines',stackgroup='one',showlegend=showlegend[i]),row=1, col=i+1)\n",
    "#         fig.update_xaxes(title_text=\"Year\", row=1, col=i+1)\n",
    "        \n",
    "fig.update_layout(#title='Electricity consumption per country',title_x=0.5,\n",
    "                   yaxis_title='Electricity consumption (TWh)')\n",
    "fig.update_layout(\n",
    "    font=dict(\n",
    "        family=\"Times New Roman\",size=24)\n",
    "    )\n",
    "fig.update_annotations(font_size=24)\n",
    "fig.update_layout(legend=dict(\n",
    "    orientation=\"h\",\n",
    "    yanchor=\"bottom\",\n",
    "    y=1.1,\n",
    "    xanchor=\"right\",\n",
    "    x=0.9,font = dict(size=20)\n",
    "))\n",
    "# fig.update_yaxes(range=[0,450])\n",
    "fig.show()"
   ]
  },
  {
   "cell_type": "code",
   "execution_count": 67,
   "id": "5e567f1b",
   "metadata": {},
   "outputs": [
    {
     "data": {
      "application/vnd.plotly.v1+json": {
       "config": {
        "plotlyServerURL": "https://plot.ly"
       },
       "data": [
        {
         "fillcolor": "yellow",
         "line": {
          "color": "yellow",
          "width": 0
         },
         "mode": "lines",
         "name": "Other electricity consumptions",
         "showlegend": true,
         "stackgroup": "one",
         "type": "scatter",
         "x": [
          2015,
          2016,
          2017,
          2018,
          2019,
          2020,
          2021,
          2022,
          2023,
          2024,
          2025,
          2026,
          2027,
          2028,
          2029,
          2030,
          2031,
          2032,
          2033,
          2034,
          2035,
          2036,
          2037,
          2038,
          2039,
          2040,
          2041,
          2042,
          2043,
          2044,
          2045,
          2046,
          2047,
          2048,
          2049,
          2050
         ],
         "xaxis": "x",
         "y": [
          74.18682361290323,
          74.18682361290323,
          74.18682361290323,
          74.18682361290323,
          74.18682361290323,
          74.18682361290323,
          74.08544649806451,
          73.9840693832258,
          73.88269226838709,
          73.78131515354839,
          76.15395702803225,
          76.0500546197671,
          78.02015221150194,
          77.91624980323677,
          77.81234739497162,
          83.08614680703973,
          83.69873532377969,
          86.27890357209567,
          86.7643712862532,
          87.76354259791707,
          95.3467929376324,
          96.63501607629536,
          99.52246191452694,
          101.83997970635629,
          104.98982313226485,
          114.81832373503389,
          116.60123644288677,
          115.9248244347386,
          115.91285060439168,
          114.69611375918662,
          112.50586698717393,
          112.70836203420903,
          111.3123272260857,
          110.06042696521276,
          109.72807110004265,
          114.6345753414638
         ],
         "yaxis": "y"
        },
        {
         "fillcolor": "turquoise",
         "line": {
          "color": "turquoise",
          "width": 0
         },
         "mode": "lines",
         "name": "Electrolysers",
         "showlegend": true,
         "stackgroup": "one",
         "type": "scatter",
         "x": [
          2015,
          2016,
          2017,
          2018,
          2019,
          2020,
          2021,
          2022,
          2023,
          2024,
          2025,
          2026,
          2027,
          2028,
          2029,
          2030,
          2031,
          2032,
          2033,
          2034,
          2035,
          2036,
          2037,
          2038,
          2039,
          2040,
          2041,
          2042,
          2043,
          2044,
          2045,
          2046,
          2047,
          2048,
          2049,
          2050
         ],
         "xaxis": "x",
         "y": [
          0,
          0,
          0,
          0,
          0,
          0,
          0,
          0,
          0,
          0,
          0,
          0,
          0,
          0,
          0,
          5.406,
          1.5636789112953493,
          2.845331550818675,
          5.413528243915848,
          7.941724937013023,
          29.651858243939976,
          29.16778742624043,
          25.70735198403684,
          23.151171315430254,
          21.70551813217379,
          23.731582583325924,
          25.967855378564074,
          29.42006010061396,
          45.90591022426031,
          65.57898597902901,
          64.98081163357412,
          65.49439851101361,
          76.04138022195785,
          67.24392201133547,
          65.54648950461862,
          73.1579644786689
         ],
         "yaxis": "y"
        },
        {
         "fillcolor": "yellow",
         "line": {
          "color": "yellow",
          "width": 0
         },
         "mode": "lines",
         "name": "Other electricity consumptions",
         "showlegend": false,
         "stackgroup": "one",
         "type": "scatter",
         "x": [
          2015,
          2016,
          2017,
          2018,
          2019,
          2020,
          2021,
          2022,
          2023,
          2024,
          2025,
          2026,
          2027,
          2028,
          2029,
          2030,
          2031,
          2032,
          2033,
          2034,
          2035,
          2036,
          2037,
          2038,
          2039,
          2040,
          2041,
          2042,
          2043,
          2044,
          2045,
          2046,
          2047,
          2048,
          2049,
          2050
         ],
         "xaxis": "x2",
         "y": [
          74.18682361290323,
          74.18682361290323,
          74.18682361290323,
          74.18682361290323,
          74.18682361290323,
          74.18682361290323,
          74.08544649806451,
          73.9840693832258,
          73.88269226838709,
          73.78131515354839,
          76.15395702803225,
          76.0500546197671,
          78.3542172817704,
          79.54656487350525,
          83.00728038428963,
          102.98284312129536,
          103.06277358322426,
          103.35694574094434,
          104.33787286083468,
          108.22443146680659,
          113.8049533988605,
          118.25694223476638,
          125.8371851041172,
          129.5791784551741,
          131.9031025617581,
          141.8648734873017,
          146.6337375409206,
          147.7938125872098,
          148.85944627988184,
          148.3511860611074,
          146.19473898937855,
          149.46062718984348,
          148.81158232920689,
          149.17858220601812,
          151.32510121261726,
          158.84976716792798
         ],
         "yaxis": "y2"
        },
        {
         "fillcolor": "turquoise",
         "line": {
          "color": "turquoise",
          "width": 0
         },
         "mode": "lines",
         "name": "Electrolysers",
         "showlegend": false,
         "stackgroup": "one",
         "type": "scatter",
         "x": [
          2015,
          2016,
          2017,
          2018,
          2019,
          2020,
          2021,
          2022,
          2023,
          2024,
          2025,
          2026,
          2027,
          2028,
          2029,
          2030,
          2031,
          2032,
          2033,
          2034,
          2035,
          2036,
          2037,
          2038,
          2039,
          2040,
          2041,
          2042,
          2043,
          2044,
          2045,
          2046,
          2047,
          2048,
          2049,
          2050
         ],
         "xaxis": "x2",
         "y": [
          0,
          0,
          0,
          0,
          0,
          0,
          0,
          0,
          0,
          0,
          -5.422862159321085e-16,
          0,
          0,
          0,
          0,
          5.406,
          0,
          3.3514355679263668,
          5.915754069321568,
          8.50214758771524,
          38.372923638733596,
          53.305184396605306,
          73.81226806771662,
          94.07690554722116,
          109.82547997241463,
          115.60183213398439,
          127.12381205923134,
          140.82731603877235,
          139.70730866237417,
          136.383772563063,
          122.76760977774295,
          116.13205115305607,
          109.21647078436868,
          99.78823232644288,
          93.30009265652735,
          104.36537976276452
         ],
         "yaxis": "y2"
        },
        {
         "fillcolor": "yellow",
         "line": {
          "color": "yellow",
          "width": 0
         },
         "mode": "lines",
         "name": "Other electricity consumptions",
         "showlegend": false,
         "stackgroup": "one",
         "type": "scatter",
         "x": [
          2015,
          2016,
          2017,
          2018,
          2019,
          2020,
          2021,
          2022,
          2023,
          2024,
          2025,
          2026,
          2027,
          2028,
          2029,
          2030,
          2031,
          2032,
          2033,
          2034,
          2035,
          2036,
          2037,
          2038,
          2039,
          2040,
          2041,
          2042,
          2043,
          2044,
          2045,
          2046,
          2047,
          2048,
          2049,
          2050
         ],
         "xaxis": "x3",
         "y": [
          74.18682361290323,
          74.18682361290323,
          74.18682361290323,
          74.18682361290323,
          74.18682361290323,
          74.18682361290323,
          74.08544649806451,
          73.9840693832258,
          73.88269226838709,
          73.78131515354839,
          76.15395702803225,
          76.0500546197671,
          78.61144284007624,
          79.80379043181108,
          83.44366339549036,
          103.07032371129353,
          103.85607677427977,
          104.15024893199985,
          105.06221223722642,
          108.87904249894886,
          114.08719139226213,
          119.59305392385943,
          128.6784669322441,
          133.42271534391313,
          136.4975363824905,
          146.7439169311887,
          151.55518482013412,
          152.72105700029255,
          153.5428173483793,
          153.44204510928094,
          152.15091630358103,
          154.66097678194154,
          154.6609822513282,
          159.39494298109494,
          169.05800744296693,
          182.2690058944203
         ],
         "yaxis": "y3"
        },
        {
         "fillcolor": "turquoise",
         "line": {
          "color": "turquoise",
          "width": 0
         },
         "mode": "lines",
         "name": "Electrolysers",
         "showlegend": false,
         "stackgroup": "one",
         "type": "scatter",
         "x": [
          2015,
          2016,
          2017,
          2018,
          2019,
          2020,
          2021,
          2022,
          2023,
          2024,
          2025,
          2026,
          2027,
          2028,
          2029,
          2030,
          2031,
          2032,
          2033,
          2034,
          2035,
          2036,
          2037,
          2038,
          2039,
          2040,
          2041,
          2042,
          2043,
          2044,
          2045,
          2046,
          2047,
          2048,
          2049,
          2050
         ],
         "xaxis": "x3",
         "y": [
          0,
          0,
          0,
          0,
          0,
          0,
          0,
          0,
          0,
          0,
          1.281908317350854e-16,
          0,
          0,
          0,
          0,
          5.406,
          -1.4018892018127161e-15,
          3.3514355679263663,
          5.915754069321564,
          8.659431587715238,
          38.528983638733614,
          53.6445230340167,
          74.1489241862552,
          94.49832895898763,
          110.24351845717898,
          116.04350957537072,
          125.10841308894774,
          138.97599671433474,
          137.83676635737433,
          135.02712661937275,
          121.90687381426697,
          117.84962940216168,
          111.18574975657233,
          101.60848532241023,
          100.5722380858336,
          116.64973714023766
         ],
         "yaxis": "y3"
        }
       ],
       "layout": {
        "annotations": [
         {
          "font": {
           "size": 24
          },
          "showarrow": false,
          "text": "High electricity price",
          "x": 0.14444444444444446,
          "xanchor": "center",
          "xref": "paper",
          "y": 1,
          "yanchor": "bottom",
          "yref": "paper"
         },
         {
          "font": {
           "size": 24
          },
          "showarrow": false,
          "text": "Reference",
          "x": 0.5,
          "xanchor": "center",
          "xref": "paper",
          "y": 1,
          "yanchor": "bottom",
          "yref": "paper"
         },
         {
          "font": {
           "size": 24
          },
          "showarrow": false,
          "text": "Fossil phase-out",
          "x": 0.8555555555555556,
          "xanchor": "center",
          "xref": "paper",
          "y": 1,
          "yanchor": "bottom",
          "yref": "paper"
         }
        ],
        "font": {
         "family": "Times New Roman",
         "size": 24
        },
        "legend": {
         "font": {
          "size": 22
         },
         "orientation": "h",
         "x": 0.8,
         "xanchor": "right",
         "y": 1.1,
         "yanchor": "bottom"
        },
        "template": {
         "data": {
          "bar": [
           {
            "error_x": {
             "color": "#2a3f5f"
            },
            "error_y": {
             "color": "#2a3f5f"
            },
            "marker": {
             "line": {
              "color": "#E5ECF6",
              "width": 0.5
             },
             "pattern": {
              "fillmode": "overlay",
              "size": 10,
              "solidity": 0.2
             }
            },
            "type": "bar"
           }
          ],
          "barpolar": [
           {
            "marker": {
             "line": {
              "color": "#E5ECF6",
              "width": 0.5
             },
             "pattern": {
              "fillmode": "overlay",
              "size": 10,
              "solidity": 0.2
             }
            },
            "type": "barpolar"
           }
          ],
          "carpet": [
           {
            "aaxis": {
             "endlinecolor": "#2a3f5f",
             "gridcolor": "white",
             "linecolor": "white",
             "minorgridcolor": "white",
             "startlinecolor": "#2a3f5f"
            },
            "baxis": {
             "endlinecolor": "#2a3f5f",
             "gridcolor": "white",
             "linecolor": "white",
             "minorgridcolor": "white",
             "startlinecolor": "#2a3f5f"
            },
            "type": "carpet"
           }
          ],
          "choropleth": [
           {
            "colorbar": {
             "outlinewidth": 0,
             "ticks": ""
            },
            "type": "choropleth"
           }
          ],
          "contour": [
           {
            "colorbar": {
             "outlinewidth": 0,
             "ticks": ""
            },
            "colorscale": [
             [
              0,
              "#0d0887"
             ],
             [
              0.1111111111111111,
              "#46039f"
             ],
             [
              0.2222222222222222,
              "#7201a8"
             ],
             [
              0.3333333333333333,
              "#9c179e"
             ],
             [
              0.4444444444444444,
              "#bd3786"
             ],
             [
              0.5555555555555556,
              "#d8576b"
             ],
             [
              0.6666666666666666,
              "#ed7953"
             ],
             [
              0.7777777777777778,
              "#fb9f3a"
             ],
             [
              0.8888888888888888,
              "#fdca26"
             ],
             [
              1,
              "#f0f921"
             ]
            ],
            "type": "contour"
           }
          ],
          "contourcarpet": [
           {
            "colorbar": {
             "outlinewidth": 0,
             "ticks": ""
            },
            "type": "contourcarpet"
           }
          ],
          "heatmap": [
           {
            "colorbar": {
             "outlinewidth": 0,
             "ticks": ""
            },
            "colorscale": [
             [
              0,
              "#0d0887"
             ],
             [
              0.1111111111111111,
              "#46039f"
             ],
             [
              0.2222222222222222,
              "#7201a8"
             ],
             [
              0.3333333333333333,
              "#9c179e"
             ],
             [
              0.4444444444444444,
              "#bd3786"
             ],
             [
              0.5555555555555556,
              "#d8576b"
             ],
             [
              0.6666666666666666,
              "#ed7953"
             ],
             [
              0.7777777777777778,
              "#fb9f3a"
             ],
             [
              0.8888888888888888,
              "#fdca26"
             ],
             [
              1,
              "#f0f921"
             ]
            ],
            "type": "heatmap"
           }
          ],
          "heatmapgl": [
           {
            "colorbar": {
             "outlinewidth": 0,
             "ticks": ""
            },
            "colorscale": [
             [
              0,
              "#0d0887"
             ],
             [
              0.1111111111111111,
              "#46039f"
             ],
             [
              0.2222222222222222,
              "#7201a8"
             ],
             [
              0.3333333333333333,
              "#9c179e"
             ],
             [
              0.4444444444444444,
              "#bd3786"
             ],
             [
              0.5555555555555556,
              "#d8576b"
             ],
             [
              0.6666666666666666,
              "#ed7953"
             ],
             [
              0.7777777777777778,
              "#fb9f3a"
             ],
             [
              0.8888888888888888,
              "#fdca26"
             ],
             [
              1,
              "#f0f921"
             ]
            ],
            "type": "heatmapgl"
           }
          ],
          "histogram": [
           {
            "marker": {
             "pattern": {
              "fillmode": "overlay",
              "size": 10,
              "solidity": 0.2
             }
            },
            "type": "histogram"
           }
          ],
          "histogram2d": [
           {
            "colorbar": {
             "outlinewidth": 0,
             "ticks": ""
            },
            "colorscale": [
             [
              0,
              "#0d0887"
             ],
             [
              0.1111111111111111,
              "#46039f"
             ],
             [
              0.2222222222222222,
              "#7201a8"
             ],
             [
              0.3333333333333333,
              "#9c179e"
             ],
             [
              0.4444444444444444,
              "#bd3786"
             ],
             [
              0.5555555555555556,
              "#d8576b"
             ],
             [
              0.6666666666666666,
              "#ed7953"
             ],
             [
              0.7777777777777778,
              "#fb9f3a"
             ],
             [
              0.8888888888888888,
              "#fdca26"
             ],
             [
              1,
              "#f0f921"
             ]
            ],
            "type": "histogram2d"
           }
          ],
          "histogram2dcontour": [
           {
            "colorbar": {
             "outlinewidth": 0,
             "ticks": ""
            },
            "colorscale": [
             [
              0,
              "#0d0887"
             ],
             [
              0.1111111111111111,
              "#46039f"
             ],
             [
              0.2222222222222222,
              "#7201a8"
             ],
             [
              0.3333333333333333,
              "#9c179e"
             ],
             [
              0.4444444444444444,
              "#bd3786"
             ],
             [
              0.5555555555555556,
              "#d8576b"
             ],
             [
              0.6666666666666666,
              "#ed7953"
             ],
             [
              0.7777777777777778,
              "#fb9f3a"
             ],
             [
              0.8888888888888888,
              "#fdca26"
             ],
             [
              1,
              "#f0f921"
             ]
            ],
            "type": "histogram2dcontour"
           }
          ],
          "mesh3d": [
           {
            "colorbar": {
             "outlinewidth": 0,
             "ticks": ""
            },
            "type": "mesh3d"
           }
          ],
          "parcoords": [
           {
            "line": {
             "colorbar": {
              "outlinewidth": 0,
              "ticks": ""
             }
            },
            "type": "parcoords"
           }
          ],
          "pie": [
           {
            "automargin": true,
            "type": "pie"
           }
          ],
          "scatter": [
           {
            "marker": {
             "colorbar": {
              "outlinewidth": 0,
              "ticks": ""
             }
            },
            "type": "scatter"
           }
          ],
          "scatter3d": [
           {
            "line": {
             "colorbar": {
              "outlinewidth": 0,
              "ticks": ""
             }
            },
            "marker": {
             "colorbar": {
              "outlinewidth": 0,
              "ticks": ""
             }
            },
            "type": "scatter3d"
           }
          ],
          "scattercarpet": [
           {
            "marker": {
             "colorbar": {
              "outlinewidth": 0,
              "ticks": ""
             }
            },
            "type": "scattercarpet"
           }
          ],
          "scattergeo": [
           {
            "marker": {
             "colorbar": {
              "outlinewidth": 0,
              "ticks": ""
             }
            },
            "type": "scattergeo"
           }
          ],
          "scattergl": [
           {
            "marker": {
             "colorbar": {
              "outlinewidth": 0,
              "ticks": ""
             }
            },
            "type": "scattergl"
           }
          ],
          "scattermapbox": [
           {
            "marker": {
             "colorbar": {
              "outlinewidth": 0,
              "ticks": ""
             }
            },
            "type": "scattermapbox"
           }
          ],
          "scatterpolar": [
           {
            "marker": {
             "colorbar": {
              "outlinewidth": 0,
              "ticks": ""
             }
            },
            "type": "scatterpolar"
           }
          ],
          "scatterpolargl": [
           {
            "marker": {
             "colorbar": {
              "outlinewidth": 0,
              "ticks": ""
             }
            },
            "type": "scatterpolargl"
           }
          ],
          "scatterternary": [
           {
            "marker": {
             "colorbar": {
              "outlinewidth": 0,
              "ticks": ""
             }
            },
            "type": "scatterternary"
           }
          ],
          "surface": [
           {
            "colorbar": {
             "outlinewidth": 0,
             "ticks": ""
            },
            "colorscale": [
             [
              0,
              "#0d0887"
             ],
             [
              0.1111111111111111,
              "#46039f"
             ],
             [
              0.2222222222222222,
              "#7201a8"
             ],
             [
              0.3333333333333333,
              "#9c179e"
             ],
             [
              0.4444444444444444,
              "#bd3786"
             ],
             [
              0.5555555555555556,
              "#d8576b"
             ],
             [
              0.6666666666666666,
              "#ed7953"
             ],
             [
              0.7777777777777778,
              "#fb9f3a"
             ],
             [
              0.8888888888888888,
              "#fdca26"
             ],
             [
              1,
              "#f0f921"
             ]
            ],
            "type": "surface"
           }
          ],
          "table": [
           {
            "cells": {
             "fill": {
              "color": "#EBF0F8"
             },
             "line": {
              "color": "white"
             }
            },
            "header": {
             "fill": {
              "color": "#C8D4E3"
             },
             "line": {
              "color": "white"
             }
            },
            "type": "table"
           }
          ]
         },
         "layout": {
          "annotationdefaults": {
           "arrowcolor": "#2a3f5f",
           "arrowhead": 0,
           "arrowwidth": 1
          },
          "autotypenumbers": "strict",
          "coloraxis": {
           "colorbar": {
            "outlinewidth": 0,
            "ticks": ""
           }
          },
          "colorscale": {
           "diverging": [
            [
             0,
             "#8e0152"
            ],
            [
             0.1,
             "#c51b7d"
            ],
            [
             0.2,
             "#de77ae"
            ],
            [
             0.3,
             "#f1b6da"
            ],
            [
             0.4,
             "#fde0ef"
            ],
            [
             0.5,
             "#f7f7f7"
            ],
            [
             0.6,
             "#e6f5d0"
            ],
            [
             0.7,
             "#b8e186"
            ],
            [
             0.8,
             "#7fbc41"
            ],
            [
             0.9,
             "#4d9221"
            ],
            [
             1,
             "#276419"
            ]
           ],
           "sequential": [
            [
             0,
             "#0d0887"
            ],
            [
             0.1111111111111111,
             "#46039f"
            ],
            [
             0.2222222222222222,
             "#7201a8"
            ],
            [
             0.3333333333333333,
             "#9c179e"
            ],
            [
             0.4444444444444444,
             "#bd3786"
            ],
            [
             0.5555555555555556,
             "#d8576b"
            ],
            [
             0.6666666666666666,
             "#ed7953"
            ],
            [
             0.7777777777777778,
             "#fb9f3a"
            ],
            [
             0.8888888888888888,
             "#fdca26"
            ],
            [
             1,
             "#f0f921"
            ]
           ],
           "sequentialminus": [
            [
             0,
             "#0d0887"
            ],
            [
             0.1111111111111111,
             "#46039f"
            ],
            [
             0.2222222222222222,
             "#7201a8"
            ],
            [
             0.3333333333333333,
             "#9c179e"
            ],
            [
             0.4444444444444444,
             "#bd3786"
            ],
            [
             0.5555555555555556,
             "#d8576b"
            ],
            [
             0.6666666666666666,
             "#ed7953"
            ],
            [
             0.7777777777777778,
             "#fb9f3a"
            ],
            [
             0.8888888888888888,
             "#fdca26"
            ],
            [
             1,
             "#f0f921"
            ]
           ]
          },
          "colorway": [
           "#636efa",
           "#EF553B",
           "#00cc96",
           "#ab63fa",
           "#FFA15A",
           "#19d3f3",
           "#FF6692",
           "#B6E880",
           "#FF97FF",
           "#FECB52"
          ],
          "font": {
           "color": "#2a3f5f"
          },
          "geo": {
           "bgcolor": "white",
           "lakecolor": "white",
           "landcolor": "#E5ECF6",
           "showlakes": true,
           "showland": true,
           "subunitcolor": "white"
          },
          "hoverlabel": {
           "align": "left"
          },
          "hovermode": "closest",
          "mapbox": {
           "style": "light"
          },
          "paper_bgcolor": "white",
          "plot_bgcolor": "#E5ECF6",
          "polar": {
           "angularaxis": {
            "gridcolor": "white",
            "linecolor": "white",
            "ticks": ""
           },
           "bgcolor": "#E5ECF6",
           "radialaxis": {
            "gridcolor": "white",
            "linecolor": "white",
            "ticks": ""
           }
          },
          "scene": {
           "xaxis": {
            "backgroundcolor": "#E5ECF6",
            "gridcolor": "white",
            "gridwidth": 2,
            "linecolor": "white",
            "showbackground": true,
            "ticks": "",
            "zerolinecolor": "white"
           },
           "yaxis": {
            "backgroundcolor": "#E5ECF6",
            "gridcolor": "white",
            "gridwidth": 2,
            "linecolor": "white",
            "showbackground": true,
            "ticks": "",
            "zerolinecolor": "white"
           },
           "zaxis": {
            "backgroundcolor": "#E5ECF6",
            "gridcolor": "white",
            "gridwidth": 2,
            "linecolor": "white",
            "showbackground": true,
            "ticks": "",
            "zerolinecolor": "white"
           }
          },
          "shapedefaults": {
           "line": {
            "color": "#2a3f5f"
           }
          },
          "ternary": {
           "aaxis": {
            "gridcolor": "white",
            "linecolor": "white",
            "ticks": ""
           },
           "baxis": {
            "gridcolor": "white",
            "linecolor": "white",
            "ticks": ""
           },
           "bgcolor": "#E5ECF6",
           "caxis": {
            "gridcolor": "white",
            "linecolor": "white",
            "ticks": ""
           }
          },
          "title": {
           "x": 0.05
          },
          "xaxis": {
           "automargin": true,
           "gridcolor": "white",
           "linecolor": "white",
           "ticks": "",
           "title": {
            "standoff": 15
           },
           "zerolinecolor": "white",
           "zerolinewidth": 2
          },
          "yaxis": {
           "automargin": true,
           "gridcolor": "white",
           "linecolor": "white",
           "ticks": "",
           "title": {
            "standoff": 15
           },
           "zerolinecolor": "white",
           "zerolinewidth": 2
          }
         }
        },
        "xaxis": {
         "anchor": "y",
         "domain": [
          0,
          0.2888888888888889
         ]
        },
        "xaxis2": {
         "anchor": "y2",
         "domain": [
          0.35555555555555557,
          0.6444444444444445
         ]
        },
        "xaxis3": {
         "anchor": "y3",
         "domain": [
          0.7111111111111111,
          1
         ]
        },
        "yaxis": {
         "anchor": "x",
         "domain": [
          0,
          1
         ],
         "title": {
          "text": "Electricity consumption (TWh)"
         }
        },
        "yaxis2": {
         "anchor": "x2",
         "domain": [
          0,
          1
         ],
         "matches": "y",
         "showticklabels": false
        },
        "yaxis3": {
         "anchor": "x3",
         "domain": [
          0,
          1
         ],
         "matches": "y",
         "showticklabels": false
        }
       }
      },
      "text/html": [
       "<div>                            <div id=\"470e5aaf-4694-4330-89dd-5f5dd37078f5\" class=\"plotly-graph-div\" style=\"height:525px; width:100%;\"></div>            <script type=\"text/javascript\">                require([\"plotly\"], function(Plotly) {                    window.PLOTLYENV=window.PLOTLYENV || {};                                    if (document.getElementById(\"470e5aaf-4694-4330-89dd-5f5dd37078f5\")) {                    Plotly.newPlot(                        \"470e5aaf-4694-4330-89dd-5f5dd37078f5\",                        [{\"fillcolor\":\"yellow\",\"line\":{\"color\":\"yellow\",\"width\":0},\"mode\":\"lines\",\"name\":\"Other electricity consumptions\",\"showlegend\":true,\"stackgroup\":\"one\",\"type\":\"scatter\",\"x\":[2015,2016,2017,2018,2019,2020,2021,2022,2023,2024,2025,2026,2027,2028,2029,2030,2031,2032,2033,2034,2035,2036,2037,2038,2039,2040,2041,2042,2043,2044,2045,2046,2047,2048,2049,2050],\"xaxis\":\"x\",\"y\":[74.18682361290323,74.18682361290323,74.18682361290323,74.18682361290323,74.18682361290323,74.18682361290323,74.08544649806451,73.9840693832258,73.88269226838709,73.78131515354839,76.15395702803225,76.0500546197671,78.02015221150194,77.91624980323677,77.81234739497162,83.08614680703973,83.69873532377969,86.27890357209567,86.7643712862532,87.76354259791707,95.3467929376324,96.63501607629536,99.52246191452694,101.83997970635629,104.98982313226485,114.81832373503389,116.60123644288677,115.9248244347386,115.91285060439168,114.69611375918662,112.50586698717393,112.70836203420903,111.3123272260857,110.06042696521276,109.72807110004265,114.6345753414638],\"yaxis\":\"y\"},{\"fillcolor\":\"turquoise\",\"line\":{\"color\":\"turquoise\",\"width\":0},\"mode\":\"lines\",\"name\":\"Electrolysers\",\"showlegend\":true,\"stackgroup\":\"one\",\"type\":\"scatter\",\"x\":[2015,2016,2017,2018,2019,2020,2021,2022,2023,2024,2025,2026,2027,2028,2029,2030,2031,2032,2033,2034,2035,2036,2037,2038,2039,2040,2041,2042,2043,2044,2045,2046,2047,2048,2049,2050],\"xaxis\":\"x\",\"y\":[0.0,0.0,0.0,0.0,0.0,0.0,0.0,0.0,0.0,0.0,0.0,0.0,0.0,0.0,0.0,5.406,1.5636789112953493,2.845331550818675,5.413528243915848,7.941724937013023,29.651858243939976,29.16778742624043,25.70735198403684,23.151171315430254,21.70551813217379,23.731582583325924,25.967855378564074,29.42006010061396,45.90591022426031,65.57898597902901,64.98081163357412,65.49439851101361,76.04138022195785,67.24392201133547,65.54648950461862,73.1579644786689],\"yaxis\":\"y\"},{\"fillcolor\":\"yellow\",\"line\":{\"color\":\"yellow\",\"width\":0},\"mode\":\"lines\",\"name\":\"Other electricity consumptions\",\"showlegend\":false,\"stackgroup\":\"one\",\"type\":\"scatter\",\"x\":[2015,2016,2017,2018,2019,2020,2021,2022,2023,2024,2025,2026,2027,2028,2029,2030,2031,2032,2033,2034,2035,2036,2037,2038,2039,2040,2041,2042,2043,2044,2045,2046,2047,2048,2049,2050],\"xaxis\":\"x2\",\"y\":[74.18682361290323,74.18682361290323,74.18682361290323,74.18682361290323,74.18682361290323,74.18682361290323,74.08544649806451,73.9840693832258,73.88269226838709,73.78131515354839,76.15395702803225,76.0500546197671,78.3542172817704,79.54656487350525,83.00728038428963,102.98284312129536,103.06277358322426,103.35694574094434,104.33787286083468,108.22443146680659,113.8049533988605,118.25694223476638,125.8371851041172,129.5791784551741,131.9031025617581,141.8648734873017,146.6337375409206,147.7938125872098,148.85944627988184,148.3511860611074,146.19473898937855,149.46062718984348,148.81158232920689,149.17858220601812,151.32510121261726,158.84976716792798],\"yaxis\":\"y2\"},{\"fillcolor\":\"turquoise\",\"line\":{\"color\":\"turquoise\",\"width\":0},\"mode\":\"lines\",\"name\":\"Electrolysers\",\"showlegend\":false,\"stackgroup\":\"one\",\"type\":\"scatter\",\"x\":[2015,2016,2017,2018,2019,2020,2021,2022,2023,2024,2025,2026,2027,2028,2029,2030,2031,2032,2033,2034,2035,2036,2037,2038,2039,2040,2041,2042,2043,2044,2045,2046,2047,2048,2049,2050],\"xaxis\":\"x2\",\"y\":[0.0,0.0,0.0,0.0,0.0,0.0,0.0,0.0,0.0,0.0,-5.422862159321085e-16,0.0,0.0,0.0,0.0,5.406,0.0,3.3514355679263668,5.915754069321568,8.50214758771524,38.372923638733596,53.305184396605306,73.81226806771662,94.07690554722116,109.82547997241463,115.60183213398439,127.12381205923134,140.82731603877235,139.70730866237417,136.383772563063,122.76760977774295,116.13205115305607,109.21647078436868,99.78823232644288,93.30009265652735,104.36537976276452],\"yaxis\":\"y2\"},{\"fillcolor\":\"yellow\",\"line\":{\"color\":\"yellow\",\"width\":0},\"mode\":\"lines\",\"name\":\"Other electricity consumptions\",\"showlegend\":false,\"stackgroup\":\"one\",\"type\":\"scatter\",\"x\":[2015,2016,2017,2018,2019,2020,2021,2022,2023,2024,2025,2026,2027,2028,2029,2030,2031,2032,2033,2034,2035,2036,2037,2038,2039,2040,2041,2042,2043,2044,2045,2046,2047,2048,2049,2050],\"xaxis\":\"x3\",\"y\":[74.18682361290323,74.18682361290323,74.18682361290323,74.18682361290323,74.18682361290323,74.18682361290323,74.08544649806451,73.9840693832258,73.88269226838709,73.78131515354839,76.15395702803225,76.0500546197671,78.61144284007624,79.80379043181108,83.44366339549036,103.07032371129353,103.85607677427977,104.15024893199985,105.06221223722642,108.87904249894886,114.08719139226213,119.59305392385943,128.6784669322441,133.42271534391313,136.4975363824905,146.7439169311887,151.55518482013412,152.72105700029255,153.5428173483793,153.44204510928094,152.15091630358103,154.66097678194154,154.6609822513282,159.39494298109494,169.05800744296693,182.2690058944203],\"yaxis\":\"y3\"},{\"fillcolor\":\"turquoise\",\"line\":{\"color\":\"turquoise\",\"width\":0},\"mode\":\"lines\",\"name\":\"Electrolysers\",\"showlegend\":false,\"stackgroup\":\"one\",\"type\":\"scatter\",\"x\":[2015,2016,2017,2018,2019,2020,2021,2022,2023,2024,2025,2026,2027,2028,2029,2030,2031,2032,2033,2034,2035,2036,2037,2038,2039,2040,2041,2042,2043,2044,2045,2046,2047,2048,2049,2050],\"xaxis\":\"x3\",\"y\":[0.0,0.0,0.0,0.0,0.0,0.0,0.0,0.0,0.0,0.0,1.281908317350854e-16,0.0,0.0,0.0,0.0,5.406,-1.4018892018127161e-15,3.3514355679263663,5.915754069321564,8.659431587715238,38.528983638733614,53.6445230340167,74.1489241862552,94.49832895898763,110.24351845717898,116.04350957537072,125.10841308894774,138.97599671433474,137.83676635737433,135.02712661937275,121.90687381426697,117.84962940216168,111.18574975657233,101.60848532241023,100.5722380858336,116.64973714023766],\"yaxis\":\"y3\"}],                        {\"annotations\":[{\"font\":{\"size\":24},\"showarrow\":false,\"text\":\"High electricity price\",\"x\":0.14444444444444446,\"xanchor\":\"center\",\"xref\":\"paper\",\"y\":1.0,\"yanchor\":\"bottom\",\"yref\":\"paper\"},{\"font\":{\"size\":24},\"showarrow\":false,\"text\":\"Reference\",\"x\":0.5,\"xanchor\":\"center\",\"xref\":\"paper\",\"y\":1.0,\"yanchor\":\"bottom\",\"yref\":\"paper\"},{\"font\":{\"size\":24},\"showarrow\":false,\"text\":\"Fossil phase-out\",\"x\":0.8555555555555556,\"xanchor\":\"center\",\"xref\":\"paper\",\"y\":1.0,\"yanchor\":\"bottom\",\"yref\":\"paper\"}],\"font\":{\"family\":\"Times New Roman\",\"size\":24},\"legend\":{\"font\":{\"size\":22},\"orientation\":\"h\",\"x\":0.8,\"xanchor\":\"right\",\"y\":1.1,\"yanchor\":\"bottom\"},\"template\":{\"data\":{\"bar\":[{\"error_x\":{\"color\":\"#2a3f5f\"},\"error_y\":{\"color\":\"#2a3f5f\"},\"marker\":{\"line\":{\"color\":\"#E5ECF6\",\"width\":0.5},\"pattern\":{\"fillmode\":\"overlay\",\"size\":10,\"solidity\":0.2}},\"type\":\"bar\"}],\"barpolar\":[{\"marker\":{\"line\":{\"color\":\"#E5ECF6\",\"width\":0.5},\"pattern\":{\"fillmode\":\"overlay\",\"size\":10,\"solidity\":0.2}},\"type\":\"barpolar\"}],\"carpet\":[{\"aaxis\":{\"endlinecolor\":\"#2a3f5f\",\"gridcolor\":\"white\",\"linecolor\":\"white\",\"minorgridcolor\":\"white\",\"startlinecolor\":\"#2a3f5f\"},\"baxis\":{\"endlinecolor\":\"#2a3f5f\",\"gridcolor\":\"white\",\"linecolor\":\"white\",\"minorgridcolor\":\"white\",\"startlinecolor\":\"#2a3f5f\"},\"type\":\"carpet\"}],\"choropleth\":[{\"colorbar\":{\"outlinewidth\":0,\"ticks\":\"\"},\"type\":\"choropleth\"}],\"contour\":[{\"colorbar\":{\"outlinewidth\":0,\"ticks\":\"\"},\"colorscale\":[[0.0,\"#0d0887\"],[0.1111111111111111,\"#46039f\"],[0.2222222222222222,\"#7201a8\"],[0.3333333333333333,\"#9c179e\"],[0.4444444444444444,\"#bd3786\"],[0.5555555555555556,\"#d8576b\"],[0.6666666666666666,\"#ed7953\"],[0.7777777777777778,\"#fb9f3a\"],[0.8888888888888888,\"#fdca26\"],[1.0,\"#f0f921\"]],\"type\":\"contour\"}],\"contourcarpet\":[{\"colorbar\":{\"outlinewidth\":0,\"ticks\":\"\"},\"type\":\"contourcarpet\"}],\"heatmap\":[{\"colorbar\":{\"outlinewidth\":0,\"ticks\":\"\"},\"colorscale\":[[0.0,\"#0d0887\"],[0.1111111111111111,\"#46039f\"],[0.2222222222222222,\"#7201a8\"],[0.3333333333333333,\"#9c179e\"],[0.4444444444444444,\"#bd3786\"],[0.5555555555555556,\"#d8576b\"],[0.6666666666666666,\"#ed7953\"],[0.7777777777777778,\"#fb9f3a\"],[0.8888888888888888,\"#fdca26\"],[1.0,\"#f0f921\"]],\"type\":\"heatmap\"}],\"heatmapgl\":[{\"colorbar\":{\"outlinewidth\":0,\"ticks\":\"\"},\"colorscale\":[[0.0,\"#0d0887\"],[0.1111111111111111,\"#46039f\"],[0.2222222222222222,\"#7201a8\"],[0.3333333333333333,\"#9c179e\"],[0.4444444444444444,\"#bd3786\"],[0.5555555555555556,\"#d8576b\"],[0.6666666666666666,\"#ed7953\"],[0.7777777777777778,\"#fb9f3a\"],[0.8888888888888888,\"#fdca26\"],[1.0,\"#f0f921\"]],\"type\":\"heatmapgl\"}],\"histogram\":[{\"marker\":{\"pattern\":{\"fillmode\":\"overlay\",\"size\":10,\"solidity\":0.2}},\"type\":\"histogram\"}],\"histogram2d\":[{\"colorbar\":{\"outlinewidth\":0,\"ticks\":\"\"},\"colorscale\":[[0.0,\"#0d0887\"],[0.1111111111111111,\"#46039f\"],[0.2222222222222222,\"#7201a8\"],[0.3333333333333333,\"#9c179e\"],[0.4444444444444444,\"#bd3786\"],[0.5555555555555556,\"#d8576b\"],[0.6666666666666666,\"#ed7953\"],[0.7777777777777778,\"#fb9f3a\"],[0.8888888888888888,\"#fdca26\"],[1.0,\"#f0f921\"]],\"type\":\"histogram2d\"}],\"histogram2dcontour\":[{\"colorbar\":{\"outlinewidth\":0,\"ticks\":\"\"},\"colorscale\":[[0.0,\"#0d0887\"],[0.1111111111111111,\"#46039f\"],[0.2222222222222222,\"#7201a8\"],[0.3333333333333333,\"#9c179e\"],[0.4444444444444444,\"#bd3786\"],[0.5555555555555556,\"#d8576b\"],[0.6666666666666666,\"#ed7953\"],[0.7777777777777778,\"#fb9f3a\"],[0.8888888888888888,\"#fdca26\"],[1.0,\"#f0f921\"]],\"type\":\"histogram2dcontour\"}],\"mesh3d\":[{\"colorbar\":{\"outlinewidth\":0,\"ticks\":\"\"},\"type\":\"mesh3d\"}],\"parcoords\":[{\"line\":{\"colorbar\":{\"outlinewidth\":0,\"ticks\":\"\"}},\"type\":\"parcoords\"}],\"pie\":[{\"automargin\":true,\"type\":\"pie\"}],\"scatter\":[{\"marker\":{\"colorbar\":{\"outlinewidth\":0,\"ticks\":\"\"}},\"type\":\"scatter\"}],\"scatter3d\":[{\"line\":{\"colorbar\":{\"outlinewidth\":0,\"ticks\":\"\"}},\"marker\":{\"colorbar\":{\"outlinewidth\":0,\"ticks\":\"\"}},\"type\":\"scatter3d\"}],\"scattercarpet\":[{\"marker\":{\"colorbar\":{\"outlinewidth\":0,\"ticks\":\"\"}},\"type\":\"scattercarpet\"}],\"scattergeo\":[{\"marker\":{\"colorbar\":{\"outlinewidth\":0,\"ticks\":\"\"}},\"type\":\"scattergeo\"}],\"scattergl\":[{\"marker\":{\"colorbar\":{\"outlinewidth\":0,\"ticks\":\"\"}},\"type\":\"scattergl\"}],\"scattermapbox\":[{\"marker\":{\"colorbar\":{\"outlinewidth\":0,\"ticks\":\"\"}},\"type\":\"scattermapbox\"}],\"scatterpolar\":[{\"marker\":{\"colorbar\":{\"outlinewidth\":0,\"ticks\":\"\"}},\"type\":\"scatterpolar\"}],\"scatterpolargl\":[{\"marker\":{\"colorbar\":{\"outlinewidth\":0,\"ticks\":\"\"}},\"type\":\"scatterpolargl\"}],\"scatterternary\":[{\"marker\":{\"colorbar\":{\"outlinewidth\":0,\"ticks\":\"\"}},\"type\":\"scatterternary\"}],\"surface\":[{\"colorbar\":{\"outlinewidth\":0,\"ticks\":\"\"},\"colorscale\":[[0.0,\"#0d0887\"],[0.1111111111111111,\"#46039f\"],[0.2222222222222222,\"#7201a8\"],[0.3333333333333333,\"#9c179e\"],[0.4444444444444444,\"#bd3786\"],[0.5555555555555556,\"#d8576b\"],[0.6666666666666666,\"#ed7953\"],[0.7777777777777778,\"#fb9f3a\"],[0.8888888888888888,\"#fdca26\"],[1.0,\"#f0f921\"]],\"type\":\"surface\"}],\"table\":[{\"cells\":{\"fill\":{\"color\":\"#EBF0F8\"},\"line\":{\"color\":\"white\"}},\"header\":{\"fill\":{\"color\":\"#C8D4E3\"},\"line\":{\"color\":\"white\"}},\"type\":\"table\"}]},\"layout\":{\"annotationdefaults\":{\"arrowcolor\":\"#2a3f5f\",\"arrowhead\":0,\"arrowwidth\":1},\"autotypenumbers\":\"strict\",\"coloraxis\":{\"colorbar\":{\"outlinewidth\":0,\"ticks\":\"\"}},\"colorscale\":{\"diverging\":[[0,\"#8e0152\"],[0.1,\"#c51b7d\"],[0.2,\"#de77ae\"],[0.3,\"#f1b6da\"],[0.4,\"#fde0ef\"],[0.5,\"#f7f7f7\"],[0.6,\"#e6f5d0\"],[0.7,\"#b8e186\"],[0.8,\"#7fbc41\"],[0.9,\"#4d9221\"],[1,\"#276419\"]],\"sequential\":[[0.0,\"#0d0887\"],[0.1111111111111111,\"#46039f\"],[0.2222222222222222,\"#7201a8\"],[0.3333333333333333,\"#9c179e\"],[0.4444444444444444,\"#bd3786\"],[0.5555555555555556,\"#d8576b\"],[0.6666666666666666,\"#ed7953\"],[0.7777777777777778,\"#fb9f3a\"],[0.8888888888888888,\"#fdca26\"],[1.0,\"#f0f921\"]],\"sequentialminus\":[[0.0,\"#0d0887\"],[0.1111111111111111,\"#46039f\"],[0.2222222222222222,\"#7201a8\"],[0.3333333333333333,\"#9c179e\"],[0.4444444444444444,\"#bd3786\"],[0.5555555555555556,\"#d8576b\"],[0.6666666666666666,\"#ed7953\"],[0.7777777777777778,\"#fb9f3a\"],[0.8888888888888888,\"#fdca26\"],[1.0,\"#f0f921\"]]},\"colorway\":[\"#636efa\",\"#EF553B\",\"#00cc96\",\"#ab63fa\",\"#FFA15A\",\"#19d3f3\",\"#FF6692\",\"#B6E880\",\"#FF97FF\",\"#FECB52\"],\"font\":{\"color\":\"#2a3f5f\"},\"geo\":{\"bgcolor\":\"white\",\"lakecolor\":\"white\",\"landcolor\":\"#E5ECF6\",\"showlakes\":true,\"showland\":true,\"subunitcolor\":\"white\"},\"hoverlabel\":{\"align\":\"left\"},\"hovermode\":\"closest\",\"mapbox\":{\"style\":\"light\"},\"paper_bgcolor\":\"white\",\"plot_bgcolor\":\"#E5ECF6\",\"polar\":{\"angularaxis\":{\"gridcolor\":\"white\",\"linecolor\":\"white\",\"ticks\":\"\"},\"bgcolor\":\"#E5ECF6\",\"radialaxis\":{\"gridcolor\":\"white\",\"linecolor\":\"white\",\"ticks\":\"\"}},\"scene\":{\"xaxis\":{\"backgroundcolor\":\"#E5ECF6\",\"gridcolor\":\"white\",\"gridwidth\":2,\"linecolor\":\"white\",\"showbackground\":true,\"ticks\":\"\",\"zerolinecolor\":\"white\"},\"yaxis\":{\"backgroundcolor\":\"#E5ECF6\",\"gridcolor\":\"white\",\"gridwidth\":2,\"linecolor\":\"white\",\"showbackground\":true,\"ticks\":\"\",\"zerolinecolor\":\"white\"},\"zaxis\":{\"backgroundcolor\":\"#E5ECF6\",\"gridcolor\":\"white\",\"gridwidth\":2,\"linecolor\":\"white\",\"showbackground\":true,\"ticks\":\"\",\"zerolinecolor\":\"white\"}},\"shapedefaults\":{\"line\":{\"color\":\"#2a3f5f\"}},\"ternary\":{\"aaxis\":{\"gridcolor\":\"white\",\"linecolor\":\"white\",\"ticks\":\"\"},\"baxis\":{\"gridcolor\":\"white\",\"linecolor\":\"white\",\"ticks\":\"\"},\"bgcolor\":\"#E5ECF6\",\"caxis\":{\"gridcolor\":\"white\",\"linecolor\":\"white\",\"ticks\":\"\"}},\"title\":{\"x\":0.05},\"xaxis\":{\"automargin\":true,\"gridcolor\":\"white\",\"linecolor\":\"white\",\"ticks\":\"\",\"title\":{\"standoff\":15},\"zerolinecolor\":\"white\",\"zerolinewidth\":2},\"yaxis\":{\"automargin\":true,\"gridcolor\":\"white\",\"linecolor\":\"white\",\"ticks\":\"\",\"title\":{\"standoff\":15},\"zerolinecolor\":\"white\",\"zerolinewidth\":2}}},\"xaxis\":{\"anchor\":\"y\",\"domain\":[0.0,0.2888888888888889]},\"xaxis2\":{\"anchor\":\"y2\",\"domain\":[0.35555555555555557,0.6444444444444445]},\"xaxis3\":{\"anchor\":\"y3\",\"domain\":[0.7111111111111111,1.0]},\"yaxis\":{\"anchor\":\"x\",\"domain\":[0.0,1.0],\"title\":{\"text\":\"Electricity consumption (TWh)\"}},\"yaxis2\":{\"anchor\":\"x2\",\"domain\":[0.0,1.0],\"matches\":\"y\",\"showticklabels\":false},\"yaxis3\":{\"anchor\":\"x3\",\"domain\":[0.0,1.0],\"matches\":\"y\",\"showticklabels\":false}},                        {\"responsive\": true}                    ).then(function(){\n",
       "                            \n",
       "var gd = document.getElementById('470e5aaf-4694-4330-89dd-5f5dd37078f5');\n",
       "var x = new MutationObserver(function (mutations, observer) {{\n",
       "        var display = window.getComputedStyle(gd).display;\n",
       "        if (!display || display === 'none') {{\n",
       "            console.log([gd, 'removed!']);\n",
       "            Plotly.purge(gd);\n",
       "            observer.disconnect();\n",
       "        }}\n",
       "}});\n",
       "\n",
       "// Listen for the removal of the full notebook cells\n",
       "var notebookContainer = gd.closest('#notebook-container');\n",
       "if (notebookContainer) {{\n",
       "    x.observe(notebookContainer, {childList: true});\n",
       "}}\n",
       "\n",
       "// Listen for the clearing of the current output cell\n",
       "var outputEl = gd.closest('.output');\n",
       "if (outputEl) {{\n",
       "    x.observe(outputEl, {childList: true});\n",
       "}}\n",
       "\n",
       "                        })                };                });            </script>        </div>"
      ]
     },
     "metadata": {},
     "output_type": "display_data"
    }
   ],
   "source": [
    "fig =make_subplots(rows=1, cols=3,subplot_titles=list(scen.keys()),shared_yaxes=True)\n",
    "for i in range(len(scen.keys())):\n",
    "    showlegend=[True,False,False]\n",
    "    resource_inflow=scen[list(scen.keys())[i]]['resource_tech_inflow']\n",
    "    energy_input=resource_inflow[(resource_inflow.Resource.isin(primary_resource_conversion.keys()))]\n",
    "    energy_input=energy_input[energy_input.Technology!=\"Electrolyser\"]\n",
    "    energy_input=energy_input.drop([\"Sector\",\"Country\"],axis=1).groupby(by=[\"Resource\",\"Year\"]).sum().reset_index()\n",
    "    \n",
    "    \n",
    "    resource=\"Electricity\"\n",
    "    fig.add_trace(go.Scatter(x=energy_input[(energy_input.Resource==resource)].Year,\n",
    "                             y=energy_input[(energy_input.Resource==resource)].Flow,\n",
    "                             name='Other electricity consumptions',\n",
    "                             line=dict(width=0,color=\"yellow\"),\n",
    "                                 fillcolor=\"yellow\",mode='lines',stackgroup='one',showlegend=showlegend[i]),row=1, col=i+1)\n",
    "    \n",
    "    \n",
    "    energy_input=resource_inflow[(resource_inflow.Resource.isin(primary_resource_conversion.keys()))]\n",
    "    energy_input=energy_input[energy_input.Technology==\"Electrolyser\"]\n",
    "    energy_input=energy_input.drop([\"Sector\",\"Country\"],axis=1).groupby(by=[\"Resource\",\"Year\"]).sum().reset_index()\n",
    "    \n",
    "    \n",
    "    resource=\"Electricity\"\n",
    "    fig.add_trace(go.Scatter(x=energy_input[(energy_input.Resource==resource)].Year,\n",
    "                             y=energy_input[(energy_input.Resource==resource)].Flow,\n",
    "                             name='Electrolysers',\n",
    "                             line=dict(width=0,color=\"turquoise\"),\n",
    "                                 fillcolor=\"turquoise\",mode='lines',stackgroup='one',showlegend=showlegend[i]),row=1, col=i+1)\n",
    "#     fig.update_xaxes(title_text=\"Year\", row=1, col=i+1)\n",
    "        \n",
    "fig.update_layout(#title='Electricity consumption per country',title_x=0.5,\n",
    "                   yaxis_title='Electricity consumption (TWh)')\n",
    "fig.update_layout(\n",
    "    font=dict(\n",
    "        family=\"Times New Roman\",size=24)\n",
    "    )\n",
    "fig.update_annotations(font_size=24)\n",
    "fig.update_layout(legend=dict(\n",
    "    orientation=\"h\",\n",
    "    yanchor=\"bottom\",\n",
    "    y=1.1,\n",
    "    xanchor=\"right\",\n",
    "    x=0.8,font = dict(size=22)\n",
    "))\n",
    "# fig.update_yaxes(range=[0,475])\n",
    "fig.show()"
   ]
  },
  {
   "cell_type": "code",
   "execution_count": 68,
   "id": "820e29f9",
   "metadata": {
    "scrolled": false
   },
   "outputs": [
    {
     "data": {
      "application/vnd.plotly.v1+json": {
       "config": {
        "plotlyServerURL": "https://plot.ly"
       },
       "data": [
        {
         "line": {
          "color": "black",
          "width": 3
         },
         "mode": "lines",
         "name": "High electricity price",
         "type": "scatter",
         "x": [
          2015,
          2016,
          2017,
          2018,
          2019,
          2020,
          2021,
          2022,
          2023,
          2024,
          2025,
          2026,
          2027,
          2028,
          2029,
          2030,
          2031,
          2032,
          2033,
          2034,
          2035,
          2036,
          2037,
          2038,
          2039,
          2040,
          2041,
          2042,
          2043,
          2044,
          2045,
          2046,
          2047,
          2048,
          2049,
          2050
         ],
         "y": [
          74.18682361290323,
          74.18682361290323,
          74.18682361290323,
          74.18682361290323,
          74.18682361290323,
          74.18682361290323,
          74.08544649806451,
          73.9840693832258,
          73.88269226838709,
          73.78131515354839,
          76.15395702803225,
          76.0500546197671,
          78.02015221150194,
          77.91624980323677,
          77.81234739497162,
          88.49214680703973,
          85.26241423507504,
          89.12423512291434,
          92.17789953016904,
          95.70526753493009,
          124.99865118157237,
          125.80280350253578,
          125.22981389856378,
          124.99115102178655,
          126.69534126443864,
          138.5499063183598,
          142.56909182145085,
          145.34488453535255,
          161.818760828652,
          180.27509973821563,
          177.48667862074805,
          178.20276054522265,
          187.35370744804356,
          177.30434897654823,
          175.27456060466127,
          187.7925398201327
         ]
        },
        {
         "line": {
          "color": "red",
          "width": 3
         },
         "mode": "lines",
         "name": "Reference",
         "type": "scatter",
         "x": [
          2015,
          2016,
          2017,
          2018,
          2019,
          2020,
          2021,
          2022,
          2023,
          2024,
          2025,
          2026,
          2027,
          2028,
          2029,
          2030,
          2031,
          2032,
          2033,
          2034,
          2035,
          2036,
          2037,
          2038,
          2039,
          2040,
          2041,
          2042,
          2043,
          2044,
          2045,
          2046,
          2047,
          2048,
          2049,
          2050
         ],
         "y": [
          74.18682361290323,
          74.18682361290323,
          74.18682361290323,
          74.18682361290323,
          74.18682361290323,
          74.18682361290323,
          74.08544649806451,
          73.9840693832258,
          73.88269226838709,
          73.78131515354839,
          76.15395702803224,
          76.0500546197671,
          78.3542172817704,
          79.54656487350525,
          83.00728038428963,
          108.38884312129535,
          103.06277358322426,
          106.70838130887071,
          110.25362693015624,
          116.72657905452184,
          152.1778770375941,
          171.56212663137168,
          199.6494531718338,
          223.65608400239526,
          241.72858253417272,
          257.4667056212861,
          273.75754960015195,
          288.6211286259822,
          288.566754942256,
          284.7349586241704,
          268.9623487671215,
          265.59267834289955,
          258.0280531135756,
          248.96681453246097,
          244.6251938691446,
          263.21514693069247
         ]
        },
        {
         "line": {
          "color": "green",
          "width": 3
         },
         "mode": "lines",
         "name": "Fossil phase-out",
         "type": "scatter",
         "x": [
          2015,
          2016,
          2017,
          2018,
          2019,
          2020,
          2021,
          2022,
          2023,
          2024,
          2025,
          2026,
          2027,
          2028,
          2029,
          2030,
          2031,
          2032,
          2033,
          2034,
          2035,
          2036,
          2037,
          2038,
          2039,
          2040,
          2041,
          2042,
          2043,
          2044,
          2045,
          2046,
          2047,
          2048,
          2049,
          2050
         ],
         "y": [
          74.18682361290323,
          74.18682361290323,
          74.18682361290323,
          74.18682361290323,
          74.18682361290323,
          74.18682361290323,
          74.08544649806451,
          73.9840693832258,
          73.88269226838709,
          73.78131515354839,
          76.15395702803225,
          76.0500546197671,
          78.61144284007624,
          79.80379043181108,
          83.44366339549036,
          108.47632371129352,
          103.85607677427977,
          107.50168449992623,
          110.97796630654798,
          117.5384740866641,
          152.61617503099572,
          173.23757695787614,
          202.8273911184993,
          227.92104430290075,
          246.7410548396695,
          262.7874265065594,
          276.6635979090819,
          291.69705371462726,
          291.3795837057536,
          288.4691717286537,
          274.057790117848,
          272.51060618410327,
          265.8467320079005,
          261.0034283035052,
          269.6302455288005,
          298.91874303465795
         ]
        }
       ],
       "layout": {
        "font": {
         "family": "Times New Roman",
         "size": 24
        },
        "template": {
         "data": {
          "bar": [
           {
            "error_x": {
             "color": "#2a3f5f"
            },
            "error_y": {
             "color": "#2a3f5f"
            },
            "marker": {
             "line": {
              "color": "#E5ECF6",
              "width": 0.5
             },
             "pattern": {
              "fillmode": "overlay",
              "size": 10,
              "solidity": 0.2
             }
            },
            "type": "bar"
           }
          ],
          "barpolar": [
           {
            "marker": {
             "line": {
              "color": "#E5ECF6",
              "width": 0.5
             },
             "pattern": {
              "fillmode": "overlay",
              "size": 10,
              "solidity": 0.2
             }
            },
            "type": "barpolar"
           }
          ],
          "carpet": [
           {
            "aaxis": {
             "endlinecolor": "#2a3f5f",
             "gridcolor": "white",
             "linecolor": "white",
             "minorgridcolor": "white",
             "startlinecolor": "#2a3f5f"
            },
            "baxis": {
             "endlinecolor": "#2a3f5f",
             "gridcolor": "white",
             "linecolor": "white",
             "minorgridcolor": "white",
             "startlinecolor": "#2a3f5f"
            },
            "type": "carpet"
           }
          ],
          "choropleth": [
           {
            "colorbar": {
             "outlinewidth": 0,
             "ticks": ""
            },
            "type": "choropleth"
           }
          ],
          "contour": [
           {
            "colorbar": {
             "outlinewidth": 0,
             "ticks": ""
            },
            "colorscale": [
             [
              0,
              "#0d0887"
             ],
             [
              0.1111111111111111,
              "#46039f"
             ],
             [
              0.2222222222222222,
              "#7201a8"
             ],
             [
              0.3333333333333333,
              "#9c179e"
             ],
             [
              0.4444444444444444,
              "#bd3786"
             ],
             [
              0.5555555555555556,
              "#d8576b"
             ],
             [
              0.6666666666666666,
              "#ed7953"
             ],
             [
              0.7777777777777778,
              "#fb9f3a"
             ],
             [
              0.8888888888888888,
              "#fdca26"
             ],
             [
              1,
              "#f0f921"
             ]
            ],
            "type": "contour"
           }
          ],
          "contourcarpet": [
           {
            "colorbar": {
             "outlinewidth": 0,
             "ticks": ""
            },
            "type": "contourcarpet"
           }
          ],
          "heatmap": [
           {
            "colorbar": {
             "outlinewidth": 0,
             "ticks": ""
            },
            "colorscale": [
             [
              0,
              "#0d0887"
             ],
             [
              0.1111111111111111,
              "#46039f"
             ],
             [
              0.2222222222222222,
              "#7201a8"
             ],
             [
              0.3333333333333333,
              "#9c179e"
             ],
             [
              0.4444444444444444,
              "#bd3786"
             ],
             [
              0.5555555555555556,
              "#d8576b"
             ],
             [
              0.6666666666666666,
              "#ed7953"
             ],
             [
              0.7777777777777778,
              "#fb9f3a"
             ],
             [
              0.8888888888888888,
              "#fdca26"
             ],
             [
              1,
              "#f0f921"
             ]
            ],
            "type": "heatmap"
           }
          ],
          "heatmapgl": [
           {
            "colorbar": {
             "outlinewidth": 0,
             "ticks": ""
            },
            "colorscale": [
             [
              0,
              "#0d0887"
             ],
             [
              0.1111111111111111,
              "#46039f"
             ],
             [
              0.2222222222222222,
              "#7201a8"
             ],
             [
              0.3333333333333333,
              "#9c179e"
             ],
             [
              0.4444444444444444,
              "#bd3786"
             ],
             [
              0.5555555555555556,
              "#d8576b"
             ],
             [
              0.6666666666666666,
              "#ed7953"
             ],
             [
              0.7777777777777778,
              "#fb9f3a"
             ],
             [
              0.8888888888888888,
              "#fdca26"
             ],
             [
              1,
              "#f0f921"
             ]
            ],
            "type": "heatmapgl"
           }
          ],
          "histogram": [
           {
            "marker": {
             "pattern": {
              "fillmode": "overlay",
              "size": 10,
              "solidity": 0.2
             }
            },
            "type": "histogram"
           }
          ],
          "histogram2d": [
           {
            "colorbar": {
             "outlinewidth": 0,
             "ticks": ""
            },
            "colorscale": [
             [
              0,
              "#0d0887"
             ],
             [
              0.1111111111111111,
              "#46039f"
             ],
             [
              0.2222222222222222,
              "#7201a8"
             ],
             [
              0.3333333333333333,
              "#9c179e"
             ],
             [
              0.4444444444444444,
              "#bd3786"
             ],
             [
              0.5555555555555556,
              "#d8576b"
             ],
             [
              0.6666666666666666,
              "#ed7953"
             ],
             [
              0.7777777777777778,
              "#fb9f3a"
             ],
             [
              0.8888888888888888,
              "#fdca26"
             ],
             [
              1,
              "#f0f921"
             ]
            ],
            "type": "histogram2d"
           }
          ],
          "histogram2dcontour": [
           {
            "colorbar": {
             "outlinewidth": 0,
             "ticks": ""
            },
            "colorscale": [
             [
              0,
              "#0d0887"
             ],
             [
              0.1111111111111111,
              "#46039f"
             ],
             [
              0.2222222222222222,
              "#7201a8"
             ],
             [
              0.3333333333333333,
              "#9c179e"
             ],
             [
              0.4444444444444444,
              "#bd3786"
             ],
             [
              0.5555555555555556,
              "#d8576b"
             ],
             [
              0.6666666666666666,
              "#ed7953"
             ],
             [
              0.7777777777777778,
              "#fb9f3a"
             ],
             [
              0.8888888888888888,
              "#fdca26"
             ],
             [
              1,
              "#f0f921"
             ]
            ],
            "type": "histogram2dcontour"
           }
          ],
          "mesh3d": [
           {
            "colorbar": {
             "outlinewidth": 0,
             "ticks": ""
            },
            "type": "mesh3d"
           }
          ],
          "parcoords": [
           {
            "line": {
             "colorbar": {
              "outlinewidth": 0,
              "ticks": ""
             }
            },
            "type": "parcoords"
           }
          ],
          "pie": [
           {
            "automargin": true,
            "type": "pie"
           }
          ],
          "scatter": [
           {
            "marker": {
             "colorbar": {
              "outlinewidth": 0,
              "ticks": ""
             }
            },
            "type": "scatter"
           }
          ],
          "scatter3d": [
           {
            "line": {
             "colorbar": {
              "outlinewidth": 0,
              "ticks": ""
             }
            },
            "marker": {
             "colorbar": {
              "outlinewidth": 0,
              "ticks": ""
             }
            },
            "type": "scatter3d"
           }
          ],
          "scattercarpet": [
           {
            "marker": {
             "colorbar": {
              "outlinewidth": 0,
              "ticks": ""
             }
            },
            "type": "scattercarpet"
           }
          ],
          "scattergeo": [
           {
            "marker": {
             "colorbar": {
              "outlinewidth": 0,
              "ticks": ""
             }
            },
            "type": "scattergeo"
           }
          ],
          "scattergl": [
           {
            "marker": {
             "colorbar": {
              "outlinewidth": 0,
              "ticks": ""
             }
            },
            "type": "scattergl"
           }
          ],
          "scattermapbox": [
           {
            "marker": {
             "colorbar": {
              "outlinewidth": 0,
              "ticks": ""
             }
            },
            "type": "scattermapbox"
           }
          ],
          "scatterpolar": [
           {
            "marker": {
             "colorbar": {
              "outlinewidth": 0,
              "ticks": ""
             }
            },
            "type": "scatterpolar"
           }
          ],
          "scatterpolargl": [
           {
            "marker": {
             "colorbar": {
              "outlinewidth": 0,
              "ticks": ""
             }
            },
            "type": "scatterpolargl"
           }
          ],
          "scatterternary": [
           {
            "marker": {
             "colorbar": {
              "outlinewidth": 0,
              "ticks": ""
             }
            },
            "type": "scatterternary"
           }
          ],
          "surface": [
           {
            "colorbar": {
             "outlinewidth": 0,
             "ticks": ""
            },
            "colorscale": [
             [
              0,
              "#0d0887"
             ],
             [
              0.1111111111111111,
              "#46039f"
             ],
             [
              0.2222222222222222,
              "#7201a8"
             ],
             [
              0.3333333333333333,
              "#9c179e"
             ],
             [
              0.4444444444444444,
              "#bd3786"
             ],
             [
              0.5555555555555556,
              "#d8576b"
             ],
             [
              0.6666666666666666,
              "#ed7953"
             ],
             [
              0.7777777777777778,
              "#fb9f3a"
             ],
             [
              0.8888888888888888,
              "#fdca26"
             ],
             [
              1,
              "#f0f921"
             ]
            ],
            "type": "surface"
           }
          ],
          "table": [
           {
            "cells": {
             "fill": {
              "color": "#EBF0F8"
             },
             "line": {
              "color": "white"
             }
            },
            "header": {
             "fill": {
              "color": "#C8D4E3"
             },
             "line": {
              "color": "white"
             }
            },
            "type": "table"
           }
          ]
         },
         "layout": {
          "annotationdefaults": {
           "arrowcolor": "#2a3f5f",
           "arrowhead": 0,
           "arrowwidth": 1
          },
          "autotypenumbers": "strict",
          "coloraxis": {
           "colorbar": {
            "outlinewidth": 0,
            "ticks": ""
           }
          },
          "colorscale": {
           "diverging": [
            [
             0,
             "#8e0152"
            ],
            [
             0.1,
             "#c51b7d"
            ],
            [
             0.2,
             "#de77ae"
            ],
            [
             0.3,
             "#f1b6da"
            ],
            [
             0.4,
             "#fde0ef"
            ],
            [
             0.5,
             "#f7f7f7"
            ],
            [
             0.6,
             "#e6f5d0"
            ],
            [
             0.7,
             "#b8e186"
            ],
            [
             0.8,
             "#7fbc41"
            ],
            [
             0.9,
             "#4d9221"
            ],
            [
             1,
             "#276419"
            ]
           ],
           "sequential": [
            [
             0,
             "#0d0887"
            ],
            [
             0.1111111111111111,
             "#46039f"
            ],
            [
             0.2222222222222222,
             "#7201a8"
            ],
            [
             0.3333333333333333,
             "#9c179e"
            ],
            [
             0.4444444444444444,
             "#bd3786"
            ],
            [
             0.5555555555555556,
             "#d8576b"
            ],
            [
             0.6666666666666666,
             "#ed7953"
            ],
            [
             0.7777777777777778,
             "#fb9f3a"
            ],
            [
             0.8888888888888888,
             "#fdca26"
            ],
            [
             1,
             "#f0f921"
            ]
           ],
           "sequentialminus": [
            [
             0,
             "#0d0887"
            ],
            [
             0.1111111111111111,
             "#46039f"
            ],
            [
             0.2222222222222222,
             "#7201a8"
            ],
            [
             0.3333333333333333,
             "#9c179e"
            ],
            [
             0.4444444444444444,
             "#bd3786"
            ],
            [
             0.5555555555555556,
             "#d8576b"
            ],
            [
             0.6666666666666666,
             "#ed7953"
            ],
            [
             0.7777777777777778,
             "#fb9f3a"
            ],
            [
             0.8888888888888888,
             "#fdca26"
            ],
            [
             1,
             "#f0f921"
            ]
           ]
          },
          "colorway": [
           "#636efa",
           "#EF553B",
           "#00cc96",
           "#ab63fa",
           "#FFA15A",
           "#19d3f3",
           "#FF6692",
           "#B6E880",
           "#FF97FF",
           "#FECB52"
          ],
          "font": {
           "color": "#2a3f5f"
          },
          "geo": {
           "bgcolor": "white",
           "lakecolor": "white",
           "landcolor": "#E5ECF6",
           "showlakes": true,
           "showland": true,
           "subunitcolor": "white"
          },
          "hoverlabel": {
           "align": "left"
          },
          "hovermode": "closest",
          "mapbox": {
           "style": "light"
          },
          "paper_bgcolor": "white",
          "plot_bgcolor": "#E5ECF6",
          "polar": {
           "angularaxis": {
            "gridcolor": "white",
            "linecolor": "white",
            "ticks": ""
           },
           "bgcolor": "#E5ECF6",
           "radialaxis": {
            "gridcolor": "white",
            "linecolor": "white",
            "ticks": ""
           }
          },
          "scene": {
           "xaxis": {
            "backgroundcolor": "#E5ECF6",
            "gridcolor": "white",
            "gridwidth": 2,
            "linecolor": "white",
            "showbackground": true,
            "ticks": "",
            "zerolinecolor": "white"
           },
           "yaxis": {
            "backgroundcolor": "#E5ECF6",
            "gridcolor": "white",
            "gridwidth": 2,
            "linecolor": "white",
            "showbackground": true,
            "ticks": "",
            "zerolinecolor": "white"
           },
           "zaxis": {
            "backgroundcolor": "#E5ECF6",
            "gridcolor": "white",
            "gridwidth": 2,
            "linecolor": "white",
            "showbackground": true,
            "ticks": "",
            "zerolinecolor": "white"
           }
          },
          "shapedefaults": {
           "line": {
            "color": "#2a3f5f"
           }
          },
          "ternary": {
           "aaxis": {
            "gridcolor": "white",
            "linecolor": "white",
            "ticks": ""
           },
           "baxis": {
            "gridcolor": "white",
            "linecolor": "white",
            "ticks": ""
           },
           "bgcolor": "#E5ECF6",
           "caxis": {
            "gridcolor": "white",
            "linecolor": "white",
            "ticks": ""
           }
          },
          "title": {
           "x": 0.05
          },
          "xaxis": {
           "automargin": true,
           "gridcolor": "white",
           "linecolor": "white",
           "ticks": "",
           "title": {
            "standoff": 15
           },
           "zerolinecolor": "white",
           "zerolinewidth": 2
          },
          "yaxis": {
           "automargin": true,
           "gridcolor": "white",
           "linecolor": "white",
           "ticks": "",
           "title": {
            "standoff": 15
           },
           "zerolinecolor": "white",
           "zerolinewidth": 2
          }
         }
        },
        "xaxis": {
         "title": {
          "text": "Year"
         }
        },
        "yaxis": {
         "range": [
          0,
          475
         ],
         "title": {
          "text": "Electricity consumption (TWh)"
         }
        }
       }
      },
      "text/html": [
       "<div>                            <div id=\"ead890c8-b7ef-42c6-96b1-f0f5aadb89f4\" class=\"plotly-graph-div\" style=\"height:525px; width:100%;\"></div>            <script type=\"text/javascript\">                require([\"plotly\"], function(Plotly) {                    window.PLOTLYENV=window.PLOTLYENV || {};                                    if (document.getElementById(\"ead890c8-b7ef-42c6-96b1-f0f5aadb89f4\")) {                    Plotly.newPlot(                        \"ead890c8-b7ef-42c6-96b1-f0f5aadb89f4\",                        [{\"line\":{\"color\":\"black\",\"width\":3},\"mode\":\"lines\",\"name\":\"High electricity price\",\"type\":\"scatter\",\"x\":[2015,2016,2017,2018,2019,2020,2021,2022,2023,2024,2025,2026,2027,2028,2029,2030,2031,2032,2033,2034,2035,2036,2037,2038,2039,2040,2041,2042,2043,2044,2045,2046,2047,2048,2049,2050],\"y\":[74.18682361290323,74.18682361290323,74.18682361290323,74.18682361290323,74.18682361290323,74.18682361290323,74.08544649806451,73.9840693832258,73.88269226838709,73.78131515354839,76.15395702803225,76.0500546197671,78.02015221150194,77.91624980323677,77.81234739497162,88.49214680703973,85.26241423507504,89.12423512291434,92.17789953016904,95.70526753493009,124.99865118157237,125.80280350253578,125.22981389856378,124.99115102178655,126.69534126443864,138.5499063183598,142.56909182145085,145.34488453535255,161.818760828652,180.27509973821563,177.48667862074805,178.20276054522265,187.35370744804356,177.30434897654823,175.27456060466127,187.7925398201327]},{\"line\":{\"color\":\"red\",\"width\":3},\"mode\":\"lines\",\"name\":\"Reference\",\"type\":\"scatter\",\"x\":[2015,2016,2017,2018,2019,2020,2021,2022,2023,2024,2025,2026,2027,2028,2029,2030,2031,2032,2033,2034,2035,2036,2037,2038,2039,2040,2041,2042,2043,2044,2045,2046,2047,2048,2049,2050],\"y\":[74.18682361290323,74.18682361290323,74.18682361290323,74.18682361290323,74.18682361290323,74.18682361290323,74.08544649806451,73.9840693832258,73.88269226838709,73.78131515354839,76.15395702803224,76.0500546197671,78.3542172817704,79.54656487350525,83.00728038428963,108.38884312129535,103.06277358322426,106.70838130887071,110.25362693015624,116.72657905452184,152.1778770375941,171.56212663137168,199.6494531718338,223.65608400239526,241.72858253417272,257.4667056212861,273.75754960015195,288.6211286259822,288.566754942256,284.7349586241704,268.9623487671215,265.59267834289955,258.0280531135756,248.96681453246097,244.6251938691446,263.21514693069247]},{\"line\":{\"color\":\"green\",\"width\":3},\"mode\":\"lines\",\"name\":\"Fossil phase-out\",\"type\":\"scatter\",\"x\":[2015,2016,2017,2018,2019,2020,2021,2022,2023,2024,2025,2026,2027,2028,2029,2030,2031,2032,2033,2034,2035,2036,2037,2038,2039,2040,2041,2042,2043,2044,2045,2046,2047,2048,2049,2050],\"y\":[74.18682361290323,74.18682361290323,74.18682361290323,74.18682361290323,74.18682361290323,74.18682361290323,74.08544649806451,73.9840693832258,73.88269226838709,73.78131515354839,76.15395702803225,76.0500546197671,78.61144284007624,79.80379043181108,83.44366339549036,108.47632371129352,103.85607677427977,107.50168449992623,110.97796630654798,117.5384740866641,152.61617503099572,173.23757695787614,202.8273911184993,227.92104430290075,246.7410548396695,262.7874265065594,276.6635979090819,291.69705371462726,291.3795837057536,288.4691717286537,274.057790117848,272.51060618410327,265.8467320079005,261.0034283035052,269.6302455288005,298.91874303465795]}],                        {\"font\":{\"family\":\"Times New Roman\",\"size\":24},\"template\":{\"data\":{\"bar\":[{\"error_x\":{\"color\":\"#2a3f5f\"},\"error_y\":{\"color\":\"#2a3f5f\"},\"marker\":{\"line\":{\"color\":\"#E5ECF6\",\"width\":0.5},\"pattern\":{\"fillmode\":\"overlay\",\"size\":10,\"solidity\":0.2}},\"type\":\"bar\"}],\"barpolar\":[{\"marker\":{\"line\":{\"color\":\"#E5ECF6\",\"width\":0.5},\"pattern\":{\"fillmode\":\"overlay\",\"size\":10,\"solidity\":0.2}},\"type\":\"barpolar\"}],\"carpet\":[{\"aaxis\":{\"endlinecolor\":\"#2a3f5f\",\"gridcolor\":\"white\",\"linecolor\":\"white\",\"minorgridcolor\":\"white\",\"startlinecolor\":\"#2a3f5f\"},\"baxis\":{\"endlinecolor\":\"#2a3f5f\",\"gridcolor\":\"white\",\"linecolor\":\"white\",\"minorgridcolor\":\"white\",\"startlinecolor\":\"#2a3f5f\"},\"type\":\"carpet\"}],\"choropleth\":[{\"colorbar\":{\"outlinewidth\":0,\"ticks\":\"\"},\"type\":\"choropleth\"}],\"contour\":[{\"colorbar\":{\"outlinewidth\":0,\"ticks\":\"\"},\"colorscale\":[[0.0,\"#0d0887\"],[0.1111111111111111,\"#46039f\"],[0.2222222222222222,\"#7201a8\"],[0.3333333333333333,\"#9c179e\"],[0.4444444444444444,\"#bd3786\"],[0.5555555555555556,\"#d8576b\"],[0.6666666666666666,\"#ed7953\"],[0.7777777777777778,\"#fb9f3a\"],[0.8888888888888888,\"#fdca26\"],[1.0,\"#f0f921\"]],\"type\":\"contour\"}],\"contourcarpet\":[{\"colorbar\":{\"outlinewidth\":0,\"ticks\":\"\"},\"type\":\"contourcarpet\"}],\"heatmap\":[{\"colorbar\":{\"outlinewidth\":0,\"ticks\":\"\"},\"colorscale\":[[0.0,\"#0d0887\"],[0.1111111111111111,\"#46039f\"],[0.2222222222222222,\"#7201a8\"],[0.3333333333333333,\"#9c179e\"],[0.4444444444444444,\"#bd3786\"],[0.5555555555555556,\"#d8576b\"],[0.6666666666666666,\"#ed7953\"],[0.7777777777777778,\"#fb9f3a\"],[0.8888888888888888,\"#fdca26\"],[1.0,\"#f0f921\"]],\"type\":\"heatmap\"}],\"heatmapgl\":[{\"colorbar\":{\"outlinewidth\":0,\"ticks\":\"\"},\"colorscale\":[[0.0,\"#0d0887\"],[0.1111111111111111,\"#46039f\"],[0.2222222222222222,\"#7201a8\"],[0.3333333333333333,\"#9c179e\"],[0.4444444444444444,\"#bd3786\"],[0.5555555555555556,\"#d8576b\"],[0.6666666666666666,\"#ed7953\"],[0.7777777777777778,\"#fb9f3a\"],[0.8888888888888888,\"#fdca26\"],[1.0,\"#f0f921\"]],\"type\":\"heatmapgl\"}],\"histogram\":[{\"marker\":{\"pattern\":{\"fillmode\":\"overlay\",\"size\":10,\"solidity\":0.2}},\"type\":\"histogram\"}],\"histogram2d\":[{\"colorbar\":{\"outlinewidth\":0,\"ticks\":\"\"},\"colorscale\":[[0.0,\"#0d0887\"],[0.1111111111111111,\"#46039f\"],[0.2222222222222222,\"#7201a8\"],[0.3333333333333333,\"#9c179e\"],[0.4444444444444444,\"#bd3786\"],[0.5555555555555556,\"#d8576b\"],[0.6666666666666666,\"#ed7953\"],[0.7777777777777778,\"#fb9f3a\"],[0.8888888888888888,\"#fdca26\"],[1.0,\"#f0f921\"]],\"type\":\"histogram2d\"}],\"histogram2dcontour\":[{\"colorbar\":{\"outlinewidth\":0,\"ticks\":\"\"},\"colorscale\":[[0.0,\"#0d0887\"],[0.1111111111111111,\"#46039f\"],[0.2222222222222222,\"#7201a8\"],[0.3333333333333333,\"#9c179e\"],[0.4444444444444444,\"#bd3786\"],[0.5555555555555556,\"#d8576b\"],[0.6666666666666666,\"#ed7953\"],[0.7777777777777778,\"#fb9f3a\"],[0.8888888888888888,\"#fdca26\"],[1.0,\"#f0f921\"]],\"type\":\"histogram2dcontour\"}],\"mesh3d\":[{\"colorbar\":{\"outlinewidth\":0,\"ticks\":\"\"},\"type\":\"mesh3d\"}],\"parcoords\":[{\"line\":{\"colorbar\":{\"outlinewidth\":0,\"ticks\":\"\"}},\"type\":\"parcoords\"}],\"pie\":[{\"automargin\":true,\"type\":\"pie\"}],\"scatter\":[{\"marker\":{\"colorbar\":{\"outlinewidth\":0,\"ticks\":\"\"}},\"type\":\"scatter\"}],\"scatter3d\":[{\"line\":{\"colorbar\":{\"outlinewidth\":0,\"ticks\":\"\"}},\"marker\":{\"colorbar\":{\"outlinewidth\":0,\"ticks\":\"\"}},\"type\":\"scatter3d\"}],\"scattercarpet\":[{\"marker\":{\"colorbar\":{\"outlinewidth\":0,\"ticks\":\"\"}},\"type\":\"scattercarpet\"}],\"scattergeo\":[{\"marker\":{\"colorbar\":{\"outlinewidth\":0,\"ticks\":\"\"}},\"type\":\"scattergeo\"}],\"scattergl\":[{\"marker\":{\"colorbar\":{\"outlinewidth\":0,\"ticks\":\"\"}},\"type\":\"scattergl\"}],\"scattermapbox\":[{\"marker\":{\"colorbar\":{\"outlinewidth\":0,\"ticks\":\"\"}},\"type\":\"scattermapbox\"}],\"scatterpolar\":[{\"marker\":{\"colorbar\":{\"outlinewidth\":0,\"ticks\":\"\"}},\"type\":\"scatterpolar\"}],\"scatterpolargl\":[{\"marker\":{\"colorbar\":{\"outlinewidth\":0,\"ticks\":\"\"}},\"type\":\"scatterpolargl\"}],\"scatterternary\":[{\"marker\":{\"colorbar\":{\"outlinewidth\":0,\"ticks\":\"\"}},\"type\":\"scatterternary\"}],\"surface\":[{\"colorbar\":{\"outlinewidth\":0,\"ticks\":\"\"},\"colorscale\":[[0.0,\"#0d0887\"],[0.1111111111111111,\"#46039f\"],[0.2222222222222222,\"#7201a8\"],[0.3333333333333333,\"#9c179e\"],[0.4444444444444444,\"#bd3786\"],[0.5555555555555556,\"#d8576b\"],[0.6666666666666666,\"#ed7953\"],[0.7777777777777778,\"#fb9f3a\"],[0.8888888888888888,\"#fdca26\"],[1.0,\"#f0f921\"]],\"type\":\"surface\"}],\"table\":[{\"cells\":{\"fill\":{\"color\":\"#EBF0F8\"},\"line\":{\"color\":\"white\"}},\"header\":{\"fill\":{\"color\":\"#C8D4E3\"},\"line\":{\"color\":\"white\"}},\"type\":\"table\"}]},\"layout\":{\"annotationdefaults\":{\"arrowcolor\":\"#2a3f5f\",\"arrowhead\":0,\"arrowwidth\":1},\"autotypenumbers\":\"strict\",\"coloraxis\":{\"colorbar\":{\"outlinewidth\":0,\"ticks\":\"\"}},\"colorscale\":{\"diverging\":[[0,\"#8e0152\"],[0.1,\"#c51b7d\"],[0.2,\"#de77ae\"],[0.3,\"#f1b6da\"],[0.4,\"#fde0ef\"],[0.5,\"#f7f7f7\"],[0.6,\"#e6f5d0\"],[0.7,\"#b8e186\"],[0.8,\"#7fbc41\"],[0.9,\"#4d9221\"],[1,\"#276419\"]],\"sequential\":[[0.0,\"#0d0887\"],[0.1111111111111111,\"#46039f\"],[0.2222222222222222,\"#7201a8\"],[0.3333333333333333,\"#9c179e\"],[0.4444444444444444,\"#bd3786\"],[0.5555555555555556,\"#d8576b\"],[0.6666666666666666,\"#ed7953\"],[0.7777777777777778,\"#fb9f3a\"],[0.8888888888888888,\"#fdca26\"],[1.0,\"#f0f921\"]],\"sequentialminus\":[[0.0,\"#0d0887\"],[0.1111111111111111,\"#46039f\"],[0.2222222222222222,\"#7201a8\"],[0.3333333333333333,\"#9c179e\"],[0.4444444444444444,\"#bd3786\"],[0.5555555555555556,\"#d8576b\"],[0.6666666666666666,\"#ed7953\"],[0.7777777777777778,\"#fb9f3a\"],[0.8888888888888888,\"#fdca26\"],[1.0,\"#f0f921\"]]},\"colorway\":[\"#636efa\",\"#EF553B\",\"#00cc96\",\"#ab63fa\",\"#FFA15A\",\"#19d3f3\",\"#FF6692\",\"#B6E880\",\"#FF97FF\",\"#FECB52\"],\"font\":{\"color\":\"#2a3f5f\"},\"geo\":{\"bgcolor\":\"white\",\"lakecolor\":\"white\",\"landcolor\":\"#E5ECF6\",\"showlakes\":true,\"showland\":true,\"subunitcolor\":\"white\"},\"hoverlabel\":{\"align\":\"left\"},\"hovermode\":\"closest\",\"mapbox\":{\"style\":\"light\"},\"paper_bgcolor\":\"white\",\"plot_bgcolor\":\"#E5ECF6\",\"polar\":{\"angularaxis\":{\"gridcolor\":\"white\",\"linecolor\":\"white\",\"ticks\":\"\"},\"bgcolor\":\"#E5ECF6\",\"radialaxis\":{\"gridcolor\":\"white\",\"linecolor\":\"white\",\"ticks\":\"\"}},\"scene\":{\"xaxis\":{\"backgroundcolor\":\"#E5ECF6\",\"gridcolor\":\"white\",\"gridwidth\":2,\"linecolor\":\"white\",\"showbackground\":true,\"ticks\":\"\",\"zerolinecolor\":\"white\"},\"yaxis\":{\"backgroundcolor\":\"#E5ECF6\",\"gridcolor\":\"white\",\"gridwidth\":2,\"linecolor\":\"white\",\"showbackground\":true,\"ticks\":\"\",\"zerolinecolor\":\"white\"},\"zaxis\":{\"backgroundcolor\":\"#E5ECF6\",\"gridcolor\":\"white\",\"gridwidth\":2,\"linecolor\":\"white\",\"showbackground\":true,\"ticks\":\"\",\"zerolinecolor\":\"white\"}},\"shapedefaults\":{\"line\":{\"color\":\"#2a3f5f\"}},\"ternary\":{\"aaxis\":{\"gridcolor\":\"white\",\"linecolor\":\"white\",\"ticks\":\"\"},\"baxis\":{\"gridcolor\":\"white\",\"linecolor\":\"white\",\"ticks\":\"\"},\"bgcolor\":\"#E5ECF6\",\"caxis\":{\"gridcolor\":\"white\",\"linecolor\":\"white\",\"ticks\":\"\"}},\"title\":{\"x\":0.05},\"xaxis\":{\"automargin\":true,\"gridcolor\":\"white\",\"linecolor\":\"white\",\"ticks\":\"\",\"title\":{\"standoff\":15},\"zerolinecolor\":\"white\",\"zerolinewidth\":2},\"yaxis\":{\"automargin\":true,\"gridcolor\":\"white\",\"linecolor\":\"white\",\"ticks\":\"\",\"title\":{\"standoff\":15},\"zerolinecolor\":\"white\",\"zerolinewidth\":2}}},\"xaxis\":{\"title\":{\"text\":\"Year\"}},\"yaxis\":{\"range\":[0,475],\"title\":{\"text\":\"Electricity consumption (TWh)\"}}},                        {\"responsive\": true}                    ).then(function(){\n",
       "                            \n",
       "var gd = document.getElementById('ead890c8-b7ef-42c6-96b1-f0f5aadb89f4');\n",
       "var x = new MutationObserver(function (mutations, observer) {{\n",
       "        var display = window.getComputedStyle(gd).display;\n",
       "        if (!display || display === 'none') {{\n",
       "            console.log([gd, 'removed!']);\n",
       "            Plotly.purge(gd);\n",
       "            observer.disconnect();\n",
       "        }}\n",
       "}});\n",
       "\n",
       "// Listen for the removal of the full notebook cells\n",
       "var notebookContainer = gd.closest('#notebook-container');\n",
       "if (notebookContainer) {{\n",
       "    x.observe(notebookContainer, {childList: true});\n",
       "}}\n",
       "\n",
       "// Listen for the clearing of the current output cell\n",
       "var outputEl = gd.closest('.output');\n",
       "if (outputEl) {{\n",
       "    x.observe(outputEl, {childList: true});\n",
       "}}\n",
       "\n",
       "                        })                };                });            </script>        </div>"
      ]
     },
     "metadata": {},
     "output_type": "display_data"
    }
   ],
   "source": [
    "fig =go.Figure()\n",
    "color={\"Reference\":\"red\",\"Fossil phase-out\":\"green\",\"High electricity price\":\"black\"}\n",
    "for i in range(len(scen.keys())):\n",
    "    resource_inflow=scen[list(scen.keys())[i]]['resource_tech_inflow']\n",
    "    energy_input=resource_inflow[(resource_inflow.Resource.isin(primary_resource_conversion.keys()))]\n",
    "#     energy_input=energy_input[energy_input.Technology!=\"Electrolyser\"]\n",
    "    energy_input=energy_input.drop([\"Sector\",\"Country\"],axis=1).groupby(by=[\"Resource\",\"Year\"]).sum().reset_index()\n",
    "    \n",
    "    \n",
    "    resource=\"Electricity\"\n",
    "    name=list(scen.keys())[i]\n",
    "    fig.add_trace(go.Scatter(x=energy_input[(energy_input.Resource==resource)].Year,\n",
    "                             y=energy_input[(energy_input.Resource==resource)].Flow,\n",
    "                             name=name,line=dict(width=3,color=color[name]),\n",
    "                                     mode='lines'))\n",
    "\n",
    "        \n",
    "fig.update_layout(#title='Electricity consumption per country',title_x=0.5,\n",
    "                    xaxis_title=\"Year\",\n",
    "                   yaxis_title='Electricity consumption (TWh)')\n",
    "fig.update_layout(\n",
    "    font=dict(\n",
    "        family=\"Times New Roman\",size=24)\n",
    "    )\n",
    "fig.update_annotations(font_size=24)\n",
    "\n",
    "\n",
    "\n",
    "# fig.update_layout(legend=dict(\n",
    "#     orientation=\"h\",\n",
    "#     yanchor=\"bottom\",\n",
    "#     y=1.1,\n",
    "#     xanchor=\"right\",\n",
    "#     x=0.9,font = dict(size=20)\n",
    "# ))\n",
    "fig.update_yaxes(range=[0,475])\n",
    "fig.show()"
   ]
  },
  {
   "cell_type": "code",
   "execution_count": 70,
   "id": "6bab51dc",
   "metadata": {},
   "outputs": [
    {
     "data": {
      "application/vnd.plotly.v1+json": {
       "config": {
        "plotlyServerURL": "https://plot.ly"
       },
       "data": [
        {
         "fillcolor": "black",
         "hoverinfo": "x+y",
         "line": {
          "color": "black",
          "width": 0
         },
         "mode": "lines",
         "name": "Naphta cracking",
         "showlegend": true,
         "stackgroup": "one",
         "type": "scatter",
         "x": [
          2015,
          2016,
          2017,
          2018,
          2019,
          2020,
          2021,
          2022,
          2023,
          2024,
          2025,
          2026,
          2027,
          2028,
          2029,
          2030,
          2031,
          2032,
          2033,
          2034,
          2035,
          2036,
          2037,
          2038,
          2039,
          2040,
          2041,
          2042,
          2043,
          2044,
          2045,
          2046,
          2047,
          2048,
          2049,
          2050
         ],
         "xaxis": "x",
         "y": [
          20.88,
          20.88,
          20.88,
          20.88,
          20.88,
          20.88,
          20.601599999999998,
          20.3232,
          20.0448,
          19.7664,
          19.488,
          19.2096,
          18.9312,
          18.6528,
          18.374399999999998,
          18.096,
          17.8176,
          17.539199999999997,
          17.2608,
          16.9824,
          14.203999999999999,
          12.3855206311293,
          10.494397211367938,
          9.082217332195246,
          8.141534662697335,
          7.194889592483754,
          6.250162019741789,
          5.924882297902354,
          5.2952218435842875,
          5.053859199931589,
          4.717361833362201,
          4.365700813297603,
          4.130560177976834,
          3.8443574017290154,
          3.70927011586569,
          3.572307959506254
         ],
         "yaxis": "y"
        },
        {
         "fillcolor": "yellow",
         "hoverinfo": "x+y",
         "line": {
          "color": "yellow",
          "width": 0
         },
         "mode": "lines",
         "name": "Methanol to Olefins (MTO)",
         "showlegend": true,
         "stackgroup": "one",
         "type": "scatter",
         "x": [
          2015,
          2016,
          2017,
          2018,
          2019,
          2020,
          2021,
          2022,
          2023,
          2024,
          2025,
          2026,
          2027,
          2028,
          2029,
          2030,
          2031,
          2032,
          2033,
          2034,
          2035,
          2036,
          2037,
          2038,
          2039,
          2040,
          2041,
          2042,
          2043,
          2044,
          2045,
          2046,
          2047,
          2048,
          2049,
          2050
         ],
         "xaxis": "x",
         "y": [
          0,
          0,
          0,
          0,
          0,
          0,
          0,
          0,
          0,
          0,
          0,
          0,
          0,
          0,
          0,
          0,
          0,
          0,
          0,
          0,
          2.5,
          4.040079368870699,
          5.652802788632061,
          6.786582667804753,
          7.4488653373026645,
          8.117110407516245,
          8.78343798025821,
          8.830317702097647,
          9.181578156415712,
          9.14454080006841,
          9.202638166637799,
          9.275899186702397,
          9.232639822023165,
          9.240442598270985,
          9.097129884134311,
          8.955692040493744
         ],
         "yaxis": "y"
        },
        {
         "fillcolor": "purple",
         "hoverinfo": "x+y",
         "line": {
          "color": "purple",
          "width": 0
         },
         "mode": "lines",
         "name": "Oxidative Coupling of Methane (OCM)",
         "showlegend": true,
         "stackgroup": "one",
         "type": "scatter",
         "x": [
          2015,
          2016,
          2017,
          2018,
          2019,
          2020,
          2021,
          2022,
          2023,
          2024,
          2025,
          2026,
          2027,
          2028,
          2029,
          2030,
          2031,
          2032,
          2033,
          2034,
          2035,
          2036,
          2037,
          2038,
          2039,
          2040,
          2041,
          2042,
          2043,
          2044,
          2045,
          2046,
          2047,
          2048,
          2049,
          2050
         ],
         "xaxis": "x",
         "y": [
          0,
          0,
          0,
          0,
          0,
          0,
          0,
          0,
          0,
          0,
          0,
          0,
          0,
          0,
          0,
          0,
          0,
          0,
          0,
          0,
          0,
          0,
          0,
          0,
          0,
          0,
          0,
          0,
          0,
          0,
          0,
          0,
          0,
          0,
          0,
          0
         ],
         "yaxis": "y"
        },
        {
         "fillcolor": "black",
         "hoverinfo": "x+y",
         "line": {
          "color": "black",
          "width": 0
         },
         "mode": "lines",
         "name": "Naphta cracking",
         "showlegend": false,
         "stackgroup": "one",
         "type": "scatter",
         "x": [
          2015,
          2016,
          2017,
          2018,
          2019,
          2020,
          2021,
          2022,
          2023,
          2024,
          2025,
          2026,
          2027,
          2028,
          2029,
          2030,
          2031,
          2032,
          2033,
          2034,
          2035,
          2036,
          2037,
          2038,
          2039,
          2040,
          2041,
          2042,
          2043,
          2044,
          2045,
          2046,
          2047,
          2048,
          2049,
          2050
         ],
         "xaxis": "x2",
         "y": [
          20.88,
          20.88,
          20.88,
          20.88,
          20.88,
          20.88,
          20.601599999999998,
          20.3232,
          20.0448,
          19.7664,
          19.488,
          19.2096,
          18.9312,
          18.6528,
          18.374399999999998,
          18.096,
          17.8176,
          17.539199999999997,
          17.2608,
          16.9824,
          14.203999999999999,
          12.267738002594035,
          10.108248402918045,
          8.663809769047571,
          7.7046857570036495,
          6.918123709881108,
          6.082488335264964,
          5.597629351184511,
          5.007335806276554,
          4.739478591571275,
          4.5092503129646,
          4.290272882149572,
          4.100474971938961,
          3.845833483973143,
          3.7065065326094575,
          3.569602354295769
         ],
         "yaxis": "y2"
        },
        {
         "fillcolor": "yellow",
         "hoverinfo": "x+y",
         "line": {
          "color": "yellow",
          "width": 0
         },
         "mode": "lines",
         "name": "Methanol to Olefins (MTO)",
         "showlegend": false,
         "stackgroup": "one",
         "type": "scatter",
         "x": [
          2015,
          2016,
          2017,
          2018,
          2019,
          2020,
          2021,
          2022,
          2023,
          2024,
          2025,
          2026,
          2027,
          2028,
          2029,
          2030,
          2031,
          2032,
          2033,
          2034,
          2035,
          2036,
          2037,
          2038,
          2039,
          2040,
          2041,
          2042,
          2043,
          2044,
          2045,
          2046,
          2047,
          2048,
          2049,
          2050
         ],
         "xaxis": "x2",
         "y": [
          0,
          0,
          0,
          0,
          0,
          0,
          0,
          0,
          0,
          0,
          0,
          0,
          0,
          0,
          0,
          0,
          0,
          0,
          0,
          0,
          2.5,
          4.157861997405966,
          6.038951597081953,
          7.204990230952428,
          7.885714242996349,
          8.393876290118891,
          8.951111664735036,
          9.157456309120576,
          9.469464193723445,
          9.45881195841332,
          9.410635347340488,
          9.350891171387712,
          9.262610688366125,
          9.238416229869229,
          9.099343181232916,
          8.958283306009319
         ],
         "yaxis": "y2"
        },
        {
         "fillcolor": "purple",
         "hoverinfo": "x+y",
         "line": {
          "color": "purple",
          "width": 0
         },
         "mode": "lines",
         "name": "Oxidative Coupling of Methane (OCM)",
         "showlegend": false,
         "stackgroup": "one",
         "type": "scatter",
         "x": [
          2015,
          2016,
          2017,
          2018,
          2019,
          2020,
          2021,
          2022,
          2023,
          2024,
          2025,
          2026,
          2027,
          2028,
          2029,
          2030,
          2031,
          2032,
          2033,
          2034,
          2035,
          2036,
          2037,
          2038,
          2039,
          2040,
          2041,
          2042,
          2043,
          2044,
          2045,
          2046,
          2047,
          2048,
          2049,
          2050
         ],
         "xaxis": "x2",
         "y": [
          0,
          0,
          0,
          0,
          0,
          0,
          0,
          0,
          0,
          0,
          0,
          0,
          0,
          0,
          0,
          0,
          0,
          0,
          0,
          0,
          0,
          0,
          0,
          0,
          0,
          0,
          0,
          0.00011433969491174612,
          0,
          0.00010945001540623218,
          0.00011433969491174612,
          0.0004359464627151052,
          0.00011433969491174612,
          0.0005502861576268513,
          0.0005502861576268513,
          0.00011433969491174612
         ],
         "yaxis": "y2"
        },
        {
         "fillcolor": "black",
         "hoverinfo": "x+y",
         "line": {
          "color": "black",
          "width": 0
         },
         "mode": "lines",
         "name": "Naphta cracking",
         "showlegend": false,
         "stackgroup": "one",
         "type": "scatter",
         "x": [
          2015,
          2016,
          2017,
          2018,
          2019,
          2020,
          2021,
          2022,
          2023,
          2024,
          2025,
          2026,
          2027,
          2028,
          2029,
          2030,
          2031,
          2032,
          2033,
          2034,
          2035,
          2036,
          2037,
          2038,
          2039,
          2040,
          2041,
          2042,
          2043,
          2044,
          2045,
          2046,
          2047,
          2048,
          2049,
          2050
         ],
         "xaxis": "x3",
         "y": [
          20.88,
          20.88,
          20.88,
          20.88,
          20.88,
          20.88,
          20.601599999999998,
          20.3232,
          20.0448,
          19.7664,
          19.488,
          19.2096,
          18.9312,
          18.6528,
          18.374399999999998,
          18.096,
          17.8176,
          17.539199999999997,
          17.2608,
          16.9824,
          14.203999999999999,
          12.267738002594035,
          10.210805366529543,
          8.764522193263995,
          7.806010320634852,
          7.018848149857834,
          6.184699059560634,
          5.700277044818418,
          5.111469784229407,
          4.845098853843073,
          4.5485721248064666,
          4.275602701916408,
          3.91577853492091,
          3.41301663481235,
          2.9033643984983386,
          2.4021533572811733
         ],
         "yaxis": "y3"
        },
        {
         "fillcolor": "yellow",
         "hoverinfo": "x+y",
         "line": {
          "color": "yellow",
          "width": 0
         },
         "mode": "lines",
         "name": "Methanol to Olefins (MTO)",
         "showlegend": false,
         "stackgroup": "one",
         "type": "scatter",
         "x": [
          2015,
          2016,
          2017,
          2018,
          2019,
          2020,
          2021,
          2022,
          2023,
          2024,
          2025,
          2026,
          2027,
          2028,
          2029,
          2030,
          2031,
          2032,
          2033,
          2034,
          2035,
          2036,
          2037,
          2038,
          2039,
          2040,
          2041,
          2042,
          2043,
          2044,
          2045,
          2046,
          2047,
          2048,
          2049,
          2050
         ],
         "xaxis": "x3",
         "y": [
          0,
          0,
          0,
          0,
          0,
          0,
          0,
          0,
          0,
          0,
          0,
          0,
          0,
          0,
          0,
          0,
          0,
          0,
          0,
          0,
          2.5,
          4.157861997405966,
          5.936394633470456,
          7.104277806736005,
          7.784389679365146,
          8.293151850142166,
          8.848900940439366,
          9.05480861548667,
          9.365330215770593,
          9.35319169614152,
          9.371313535498622,
          9.365561351620876,
          9.447307125384178,
          9.67123307903002,
          9.902485315344036,
          10.125732303023915
         ],
         "yaxis": "y3"
        },
        {
         "fillcolor": "purple",
         "hoverinfo": "x+y",
         "line": {
          "color": "purple",
          "width": 0
         },
         "mode": "lines",
         "name": "Oxidative Coupling of Methane (OCM)",
         "showlegend": false,
         "stackgroup": "one",
         "type": "scatter",
         "x": [
          2015,
          2016,
          2017,
          2018,
          2019,
          2020,
          2021,
          2022,
          2023,
          2024,
          2025,
          2026,
          2027,
          2028,
          2029,
          2030,
          2031,
          2032,
          2033,
          2034,
          2035,
          2036,
          2037,
          2038,
          2039,
          2040,
          2041,
          2042,
          2043,
          2044,
          2045,
          2046,
          2047,
          2048,
          2049,
          2050
         ],
         "xaxis": "x3",
         "y": [
          0,
          0,
          0,
          0,
          0,
          0,
          0,
          0,
          0,
          0,
          0,
          0,
          0,
          0,
          0,
          0,
          0,
          0,
          0,
          0,
          0,
          0,
          0,
          0,
          0,
          0,
          0,
          0.00011433969491172383,
          0,
          0.00010945001540620378,
          0.00011433969491172383,
          0.0004359464627151046,
          0.00011433969491172383,
          0.0005502861576268285,
          0.0005502861576268285,
          0.00011433969491172383
         ],
         "yaxis": "y3"
        }
       ],
       "layout": {
        "annotations": [
         {
          "font": {
           "size": 24
          },
          "showarrow": false,
          "text": "High electricity price",
          "x": 0.14444444444444446,
          "xanchor": "center",
          "xref": "paper",
          "y": 1,
          "yanchor": "bottom",
          "yref": "paper"
         },
         {
          "font": {
           "size": 24
          },
          "showarrow": false,
          "text": "Reference",
          "x": 0.5,
          "xanchor": "center",
          "xref": "paper",
          "y": 1,
          "yanchor": "bottom",
          "yref": "paper"
         },
         {
          "font": {
           "size": 24
          },
          "showarrow": false,
          "text": "Fossil phase-out",
          "x": 0.8555555555555556,
          "xanchor": "center",
          "xref": "paper",
          "y": 1,
          "yanchor": "bottom",
          "yref": "paper"
         },
         {
          "font": {
           "color": "black",
           "size": 28
          },
          "showarrow": false,
          "text": "(b)",
          "textangle": 0,
          "x": -0.05,
          "xanchor": "left",
          "xref": "paper",
          "y": 1.15,
          "yref": "paper"
         }
        ],
        "font": {
         "family": "Times New Roman",
         "size": 24
        },
        "legend": {
         "font": {
          "size": 20
         },
         "orientation": "h",
         "x": 1,
         "xanchor": "right",
         "y": 1.1,
         "yanchor": "bottom"
        },
        "template": {
         "data": {
          "bar": [
           {
            "error_x": {
             "color": "#2a3f5f"
            },
            "error_y": {
             "color": "#2a3f5f"
            },
            "marker": {
             "line": {
              "color": "#E5ECF6",
              "width": 0.5
             },
             "pattern": {
              "fillmode": "overlay",
              "size": 10,
              "solidity": 0.2
             }
            },
            "type": "bar"
           }
          ],
          "barpolar": [
           {
            "marker": {
             "line": {
              "color": "#E5ECF6",
              "width": 0.5
             },
             "pattern": {
              "fillmode": "overlay",
              "size": 10,
              "solidity": 0.2
             }
            },
            "type": "barpolar"
           }
          ],
          "carpet": [
           {
            "aaxis": {
             "endlinecolor": "#2a3f5f",
             "gridcolor": "white",
             "linecolor": "white",
             "minorgridcolor": "white",
             "startlinecolor": "#2a3f5f"
            },
            "baxis": {
             "endlinecolor": "#2a3f5f",
             "gridcolor": "white",
             "linecolor": "white",
             "minorgridcolor": "white",
             "startlinecolor": "#2a3f5f"
            },
            "type": "carpet"
           }
          ],
          "choropleth": [
           {
            "colorbar": {
             "outlinewidth": 0,
             "ticks": ""
            },
            "type": "choropleth"
           }
          ],
          "contour": [
           {
            "colorbar": {
             "outlinewidth": 0,
             "ticks": ""
            },
            "colorscale": [
             [
              0,
              "#0d0887"
             ],
             [
              0.1111111111111111,
              "#46039f"
             ],
             [
              0.2222222222222222,
              "#7201a8"
             ],
             [
              0.3333333333333333,
              "#9c179e"
             ],
             [
              0.4444444444444444,
              "#bd3786"
             ],
             [
              0.5555555555555556,
              "#d8576b"
             ],
             [
              0.6666666666666666,
              "#ed7953"
             ],
             [
              0.7777777777777778,
              "#fb9f3a"
             ],
             [
              0.8888888888888888,
              "#fdca26"
             ],
             [
              1,
              "#f0f921"
             ]
            ],
            "type": "contour"
           }
          ],
          "contourcarpet": [
           {
            "colorbar": {
             "outlinewidth": 0,
             "ticks": ""
            },
            "type": "contourcarpet"
           }
          ],
          "heatmap": [
           {
            "colorbar": {
             "outlinewidth": 0,
             "ticks": ""
            },
            "colorscale": [
             [
              0,
              "#0d0887"
             ],
             [
              0.1111111111111111,
              "#46039f"
             ],
             [
              0.2222222222222222,
              "#7201a8"
             ],
             [
              0.3333333333333333,
              "#9c179e"
             ],
             [
              0.4444444444444444,
              "#bd3786"
             ],
             [
              0.5555555555555556,
              "#d8576b"
             ],
             [
              0.6666666666666666,
              "#ed7953"
             ],
             [
              0.7777777777777778,
              "#fb9f3a"
             ],
             [
              0.8888888888888888,
              "#fdca26"
             ],
             [
              1,
              "#f0f921"
             ]
            ],
            "type": "heatmap"
           }
          ],
          "heatmapgl": [
           {
            "colorbar": {
             "outlinewidth": 0,
             "ticks": ""
            },
            "colorscale": [
             [
              0,
              "#0d0887"
             ],
             [
              0.1111111111111111,
              "#46039f"
             ],
             [
              0.2222222222222222,
              "#7201a8"
             ],
             [
              0.3333333333333333,
              "#9c179e"
             ],
             [
              0.4444444444444444,
              "#bd3786"
             ],
             [
              0.5555555555555556,
              "#d8576b"
             ],
             [
              0.6666666666666666,
              "#ed7953"
             ],
             [
              0.7777777777777778,
              "#fb9f3a"
             ],
             [
              0.8888888888888888,
              "#fdca26"
             ],
             [
              1,
              "#f0f921"
             ]
            ],
            "type": "heatmapgl"
           }
          ],
          "histogram": [
           {
            "marker": {
             "pattern": {
              "fillmode": "overlay",
              "size": 10,
              "solidity": 0.2
             }
            },
            "type": "histogram"
           }
          ],
          "histogram2d": [
           {
            "colorbar": {
             "outlinewidth": 0,
             "ticks": ""
            },
            "colorscale": [
             [
              0,
              "#0d0887"
             ],
             [
              0.1111111111111111,
              "#46039f"
             ],
             [
              0.2222222222222222,
              "#7201a8"
             ],
             [
              0.3333333333333333,
              "#9c179e"
             ],
             [
              0.4444444444444444,
              "#bd3786"
             ],
             [
              0.5555555555555556,
              "#d8576b"
             ],
             [
              0.6666666666666666,
              "#ed7953"
             ],
             [
              0.7777777777777778,
              "#fb9f3a"
             ],
             [
              0.8888888888888888,
              "#fdca26"
             ],
             [
              1,
              "#f0f921"
             ]
            ],
            "type": "histogram2d"
           }
          ],
          "histogram2dcontour": [
           {
            "colorbar": {
             "outlinewidth": 0,
             "ticks": ""
            },
            "colorscale": [
             [
              0,
              "#0d0887"
             ],
             [
              0.1111111111111111,
              "#46039f"
             ],
             [
              0.2222222222222222,
              "#7201a8"
             ],
             [
              0.3333333333333333,
              "#9c179e"
             ],
             [
              0.4444444444444444,
              "#bd3786"
             ],
             [
              0.5555555555555556,
              "#d8576b"
             ],
             [
              0.6666666666666666,
              "#ed7953"
             ],
             [
              0.7777777777777778,
              "#fb9f3a"
             ],
             [
              0.8888888888888888,
              "#fdca26"
             ],
             [
              1,
              "#f0f921"
             ]
            ],
            "type": "histogram2dcontour"
           }
          ],
          "mesh3d": [
           {
            "colorbar": {
             "outlinewidth": 0,
             "ticks": ""
            },
            "type": "mesh3d"
           }
          ],
          "parcoords": [
           {
            "line": {
             "colorbar": {
              "outlinewidth": 0,
              "ticks": ""
             }
            },
            "type": "parcoords"
           }
          ],
          "pie": [
           {
            "automargin": true,
            "type": "pie"
           }
          ],
          "scatter": [
           {
            "marker": {
             "colorbar": {
              "outlinewidth": 0,
              "ticks": ""
             }
            },
            "type": "scatter"
           }
          ],
          "scatter3d": [
           {
            "line": {
             "colorbar": {
              "outlinewidth": 0,
              "ticks": ""
             }
            },
            "marker": {
             "colorbar": {
              "outlinewidth": 0,
              "ticks": ""
             }
            },
            "type": "scatter3d"
           }
          ],
          "scattercarpet": [
           {
            "marker": {
             "colorbar": {
              "outlinewidth": 0,
              "ticks": ""
             }
            },
            "type": "scattercarpet"
           }
          ],
          "scattergeo": [
           {
            "marker": {
             "colorbar": {
              "outlinewidth": 0,
              "ticks": ""
             }
            },
            "type": "scattergeo"
           }
          ],
          "scattergl": [
           {
            "marker": {
             "colorbar": {
              "outlinewidth": 0,
              "ticks": ""
             }
            },
            "type": "scattergl"
           }
          ],
          "scattermapbox": [
           {
            "marker": {
             "colorbar": {
              "outlinewidth": 0,
              "ticks": ""
             }
            },
            "type": "scattermapbox"
           }
          ],
          "scatterpolar": [
           {
            "marker": {
             "colorbar": {
              "outlinewidth": 0,
              "ticks": ""
             }
            },
            "type": "scatterpolar"
           }
          ],
          "scatterpolargl": [
           {
            "marker": {
             "colorbar": {
              "outlinewidth": 0,
              "ticks": ""
             }
            },
            "type": "scatterpolargl"
           }
          ],
          "scatterternary": [
           {
            "marker": {
             "colorbar": {
              "outlinewidth": 0,
              "ticks": ""
             }
            },
            "type": "scatterternary"
           }
          ],
          "surface": [
           {
            "colorbar": {
             "outlinewidth": 0,
             "ticks": ""
            },
            "colorscale": [
             [
              0,
              "#0d0887"
             ],
             [
              0.1111111111111111,
              "#46039f"
             ],
             [
              0.2222222222222222,
              "#7201a8"
             ],
             [
              0.3333333333333333,
              "#9c179e"
             ],
             [
              0.4444444444444444,
              "#bd3786"
             ],
             [
              0.5555555555555556,
              "#d8576b"
             ],
             [
              0.6666666666666666,
              "#ed7953"
             ],
             [
              0.7777777777777778,
              "#fb9f3a"
             ],
             [
              0.8888888888888888,
              "#fdca26"
             ],
             [
              1,
              "#f0f921"
             ]
            ],
            "type": "surface"
           }
          ],
          "table": [
           {
            "cells": {
             "fill": {
              "color": "#EBF0F8"
             },
             "line": {
              "color": "white"
             }
            },
            "header": {
             "fill": {
              "color": "#C8D4E3"
             },
             "line": {
              "color": "white"
             }
            },
            "type": "table"
           }
          ]
         },
         "layout": {
          "annotationdefaults": {
           "arrowcolor": "#2a3f5f",
           "arrowhead": 0,
           "arrowwidth": 1
          },
          "autotypenumbers": "strict",
          "coloraxis": {
           "colorbar": {
            "outlinewidth": 0,
            "ticks": ""
           }
          },
          "colorscale": {
           "diverging": [
            [
             0,
             "#8e0152"
            ],
            [
             0.1,
             "#c51b7d"
            ],
            [
             0.2,
             "#de77ae"
            ],
            [
             0.3,
             "#f1b6da"
            ],
            [
             0.4,
             "#fde0ef"
            ],
            [
             0.5,
             "#f7f7f7"
            ],
            [
             0.6,
             "#e6f5d0"
            ],
            [
             0.7,
             "#b8e186"
            ],
            [
             0.8,
             "#7fbc41"
            ],
            [
             0.9,
             "#4d9221"
            ],
            [
             1,
             "#276419"
            ]
           ],
           "sequential": [
            [
             0,
             "#0d0887"
            ],
            [
             0.1111111111111111,
             "#46039f"
            ],
            [
             0.2222222222222222,
             "#7201a8"
            ],
            [
             0.3333333333333333,
             "#9c179e"
            ],
            [
             0.4444444444444444,
             "#bd3786"
            ],
            [
             0.5555555555555556,
             "#d8576b"
            ],
            [
             0.6666666666666666,
             "#ed7953"
            ],
            [
             0.7777777777777778,
             "#fb9f3a"
            ],
            [
             0.8888888888888888,
             "#fdca26"
            ],
            [
             1,
             "#f0f921"
            ]
           ],
           "sequentialminus": [
            [
             0,
             "#0d0887"
            ],
            [
             0.1111111111111111,
             "#46039f"
            ],
            [
             0.2222222222222222,
             "#7201a8"
            ],
            [
             0.3333333333333333,
             "#9c179e"
            ],
            [
             0.4444444444444444,
             "#bd3786"
            ],
            [
             0.5555555555555556,
             "#d8576b"
            ],
            [
             0.6666666666666666,
             "#ed7953"
            ],
            [
             0.7777777777777778,
             "#fb9f3a"
            ],
            [
             0.8888888888888888,
             "#fdca26"
            ],
            [
             1,
             "#f0f921"
            ]
           ]
          },
          "colorway": [
           "#636efa",
           "#EF553B",
           "#00cc96",
           "#ab63fa",
           "#FFA15A",
           "#19d3f3",
           "#FF6692",
           "#B6E880",
           "#FF97FF",
           "#FECB52"
          ],
          "font": {
           "color": "#2a3f5f"
          },
          "geo": {
           "bgcolor": "white",
           "lakecolor": "white",
           "landcolor": "#E5ECF6",
           "showlakes": true,
           "showland": true,
           "subunitcolor": "white"
          },
          "hoverlabel": {
           "align": "left"
          },
          "hovermode": "closest",
          "mapbox": {
           "style": "light"
          },
          "paper_bgcolor": "white",
          "plot_bgcolor": "#E5ECF6",
          "polar": {
           "angularaxis": {
            "gridcolor": "white",
            "linecolor": "white",
            "ticks": ""
           },
           "bgcolor": "#E5ECF6",
           "radialaxis": {
            "gridcolor": "white",
            "linecolor": "white",
            "ticks": ""
           }
          },
          "scene": {
           "xaxis": {
            "backgroundcolor": "#E5ECF6",
            "gridcolor": "white",
            "gridwidth": 2,
            "linecolor": "white",
            "showbackground": true,
            "ticks": "",
            "zerolinecolor": "white"
           },
           "yaxis": {
            "backgroundcolor": "#E5ECF6",
            "gridcolor": "white",
            "gridwidth": 2,
            "linecolor": "white",
            "showbackground": true,
            "ticks": "",
            "zerolinecolor": "white"
           },
           "zaxis": {
            "backgroundcolor": "#E5ECF6",
            "gridcolor": "white",
            "gridwidth": 2,
            "linecolor": "white",
            "showbackground": true,
            "ticks": "",
            "zerolinecolor": "white"
           }
          },
          "shapedefaults": {
           "line": {
            "color": "#2a3f5f"
           }
          },
          "ternary": {
           "aaxis": {
            "gridcolor": "white",
            "linecolor": "white",
            "ticks": ""
           },
           "baxis": {
            "gridcolor": "white",
            "linecolor": "white",
            "ticks": ""
           },
           "bgcolor": "#E5ECF6",
           "caxis": {
            "gridcolor": "white",
            "linecolor": "white",
            "ticks": ""
           }
          },
          "title": {
           "x": 0.05
          },
          "xaxis": {
           "automargin": true,
           "gridcolor": "white",
           "linecolor": "white",
           "ticks": "",
           "title": {
            "standoff": 15
           },
           "zerolinecolor": "white",
           "zerolinewidth": 2
          },
          "yaxis": {
           "automargin": true,
           "gridcolor": "white",
           "linecolor": "white",
           "ticks": "",
           "title": {
            "standoff": 15
           },
           "zerolinecolor": "white",
           "zerolinewidth": 2
          }
         }
        },
        "xaxis": {
         "anchor": "y",
         "domain": [
          0,
          0.2888888888888889
         ]
        },
        "xaxis2": {
         "anchor": "y2",
         "domain": [
          0.35555555555555557,
          0.6444444444444445
         ]
        },
        "xaxis3": {
         "anchor": "y3",
         "domain": [
          0.7111111111111111,
          1
         ]
        },
        "yaxis": {
         "anchor": "x",
         "domain": [
          0,
          1
         ],
         "title": {
          "text": "Production (Mt of olefins)"
         }
        },
        "yaxis2": {
         "anchor": "x2",
         "domain": [
          0,
          1
         ],
         "matches": "y",
         "showticklabels": false
        },
        "yaxis3": {
         "anchor": "x3",
         "domain": [
          0,
          1
         ],
         "matches": "y",
         "showticklabels": false
        }
       }
      },
      "text/html": [
       "<div>                            <div id=\"6b71cb02-70e5-4981-82c8-2e200044d079\" class=\"plotly-graph-div\" style=\"height:525px; width:100%;\"></div>            <script type=\"text/javascript\">                require([\"plotly\"], function(Plotly) {                    window.PLOTLYENV=window.PLOTLYENV || {};                                    if (document.getElementById(\"6b71cb02-70e5-4981-82c8-2e200044d079\")) {                    Plotly.newPlot(                        \"6b71cb02-70e5-4981-82c8-2e200044d079\",                        [{\"fillcolor\":\"black\",\"hoverinfo\":\"x+y\",\"line\":{\"color\":\"black\",\"width\":0},\"mode\":\"lines\",\"name\":\"Naphta cracking\",\"showlegend\":true,\"stackgroup\":\"one\",\"type\":\"scatter\",\"x\":[2015,2016,2017,2018,2019,2020,2021,2022,2023,2024,2025,2026,2027,2028,2029,2030,2031,2032,2033,2034,2035,2036,2037,2038,2039,2040,2041,2042,2043,2044,2045,2046,2047,2048,2049,2050],\"xaxis\":\"x\",\"y\":[20.88,20.88,20.88,20.88,20.88,20.88,20.601599999999998,20.3232,20.0448,19.7664,19.488,19.2096,18.9312,18.6528,18.374399999999998,18.096,17.8176,17.539199999999997,17.2608,16.9824,14.203999999999999,12.3855206311293,10.494397211367938,9.082217332195246,8.141534662697335,7.194889592483754,6.250162019741789,5.924882297902354,5.2952218435842875,5.053859199931589,4.717361833362201,4.365700813297603,4.130560177976834,3.8443574017290154,3.70927011586569,3.572307959506254],\"yaxis\":\"y\"},{\"fillcolor\":\"yellow\",\"hoverinfo\":\"x+y\",\"line\":{\"color\":\"yellow\",\"width\":0},\"mode\":\"lines\",\"name\":\"Methanol to Olefins (MTO)\",\"showlegend\":true,\"stackgroup\":\"one\",\"type\":\"scatter\",\"x\":[2015,2016,2017,2018,2019,2020,2021,2022,2023,2024,2025,2026,2027,2028,2029,2030,2031,2032,2033,2034,2035,2036,2037,2038,2039,2040,2041,2042,2043,2044,2045,2046,2047,2048,2049,2050],\"xaxis\":\"x\",\"y\":[0.0,0.0,0.0,0.0,0.0,0.0,0.0,0.0,0.0,0.0,0.0,0.0,0.0,0.0,0.0,0.0,0.0,0.0,0.0,0.0,2.5,4.040079368870699,5.652802788632061,6.786582667804753,7.4488653373026645,8.117110407516245,8.78343798025821,8.830317702097647,9.181578156415712,9.14454080006841,9.202638166637799,9.275899186702397,9.232639822023165,9.240442598270985,9.097129884134311,8.955692040493744],\"yaxis\":\"y\"},{\"fillcolor\":\"purple\",\"hoverinfo\":\"x+y\",\"line\":{\"color\":\"purple\",\"width\":0},\"mode\":\"lines\",\"name\":\"Oxidative Coupling of Methane (OCM)\",\"showlegend\":true,\"stackgroup\":\"one\",\"type\":\"scatter\",\"x\":[2015,2016,2017,2018,2019,2020,2021,2022,2023,2024,2025,2026,2027,2028,2029,2030,2031,2032,2033,2034,2035,2036,2037,2038,2039,2040,2041,2042,2043,2044,2045,2046,2047,2048,2049,2050],\"xaxis\":\"x\",\"y\":[0.0,0.0,0.0,0.0,0.0,0.0,0.0,0.0,0.0,0.0,0.0,0.0,0.0,0.0,0.0,0.0,0.0,0.0,0.0,0.0,0.0,0.0,0.0,0.0,0.0,0.0,0.0,0.0,0.0,0.0,0.0,0.0,0.0,0.0,0.0,0.0],\"yaxis\":\"y\"},{\"fillcolor\":\"black\",\"hoverinfo\":\"x+y\",\"line\":{\"color\":\"black\",\"width\":0},\"mode\":\"lines\",\"name\":\"Naphta cracking\",\"showlegend\":false,\"stackgroup\":\"one\",\"type\":\"scatter\",\"x\":[2015,2016,2017,2018,2019,2020,2021,2022,2023,2024,2025,2026,2027,2028,2029,2030,2031,2032,2033,2034,2035,2036,2037,2038,2039,2040,2041,2042,2043,2044,2045,2046,2047,2048,2049,2050],\"xaxis\":\"x2\",\"y\":[20.88,20.88,20.88,20.88,20.88,20.88,20.601599999999998,20.3232,20.0448,19.7664,19.488,19.2096,18.9312,18.6528,18.374399999999998,18.096,17.8176,17.539199999999997,17.2608,16.9824,14.203999999999999,12.267738002594035,10.108248402918045,8.663809769047571,7.7046857570036495,6.918123709881108,6.082488335264964,5.597629351184511,5.007335806276554,4.739478591571275,4.5092503129646,4.290272882149572,4.100474971938961,3.845833483973143,3.7065065326094575,3.569602354295769],\"yaxis\":\"y2\"},{\"fillcolor\":\"yellow\",\"hoverinfo\":\"x+y\",\"line\":{\"color\":\"yellow\",\"width\":0},\"mode\":\"lines\",\"name\":\"Methanol to Olefins (MTO)\",\"showlegend\":false,\"stackgroup\":\"one\",\"type\":\"scatter\",\"x\":[2015,2016,2017,2018,2019,2020,2021,2022,2023,2024,2025,2026,2027,2028,2029,2030,2031,2032,2033,2034,2035,2036,2037,2038,2039,2040,2041,2042,2043,2044,2045,2046,2047,2048,2049,2050],\"xaxis\":\"x2\",\"y\":[0.0,0.0,0.0,0.0,0.0,0.0,0.0,0.0,0.0,0.0,0.0,0.0,0.0,0.0,0.0,0.0,0.0,0.0,0.0,0.0,2.5,4.157861997405966,6.038951597081953,7.204990230952428,7.885714242996349,8.393876290118891,8.951111664735036,9.157456309120576,9.469464193723445,9.45881195841332,9.410635347340488,9.350891171387712,9.262610688366125,9.238416229869229,9.099343181232916,8.958283306009319],\"yaxis\":\"y2\"},{\"fillcolor\":\"purple\",\"hoverinfo\":\"x+y\",\"line\":{\"color\":\"purple\",\"width\":0},\"mode\":\"lines\",\"name\":\"Oxidative Coupling of Methane (OCM)\",\"showlegend\":false,\"stackgroup\":\"one\",\"type\":\"scatter\",\"x\":[2015,2016,2017,2018,2019,2020,2021,2022,2023,2024,2025,2026,2027,2028,2029,2030,2031,2032,2033,2034,2035,2036,2037,2038,2039,2040,2041,2042,2043,2044,2045,2046,2047,2048,2049,2050],\"xaxis\":\"x2\",\"y\":[0.0,0.0,0.0,0.0,0.0,0.0,0.0,0.0,0.0,0.0,0.0,0.0,0.0,0.0,0.0,0.0,0.0,0.0,0.0,0.0,0.0,0.0,0.0,0.0,0.0,0.0,0.0,0.00011433969491174612,0.0,0.00010945001540623218,0.00011433969491174612,0.0004359464627151052,0.00011433969491174612,0.0005502861576268513,0.0005502861576268513,0.00011433969491174612],\"yaxis\":\"y2\"},{\"fillcolor\":\"black\",\"hoverinfo\":\"x+y\",\"line\":{\"color\":\"black\",\"width\":0},\"mode\":\"lines\",\"name\":\"Naphta cracking\",\"showlegend\":false,\"stackgroup\":\"one\",\"type\":\"scatter\",\"x\":[2015,2016,2017,2018,2019,2020,2021,2022,2023,2024,2025,2026,2027,2028,2029,2030,2031,2032,2033,2034,2035,2036,2037,2038,2039,2040,2041,2042,2043,2044,2045,2046,2047,2048,2049,2050],\"xaxis\":\"x3\",\"y\":[20.88,20.88,20.88,20.88,20.88,20.88,20.601599999999998,20.3232,20.0448,19.7664,19.488,19.2096,18.9312,18.6528,18.374399999999998,18.096,17.8176,17.539199999999997,17.2608,16.9824,14.203999999999999,12.267738002594035,10.210805366529543,8.764522193263995,7.806010320634852,7.018848149857834,6.184699059560634,5.700277044818418,5.111469784229407,4.845098853843073,4.5485721248064666,4.275602701916408,3.91577853492091,3.41301663481235,2.9033643984983386,2.4021533572811733],\"yaxis\":\"y3\"},{\"fillcolor\":\"yellow\",\"hoverinfo\":\"x+y\",\"line\":{\"color\":\"yellow\",\"width\":0},\"mode\":\"lines\",\"name\":\"Methanol to Olefins (MTO)\",\"showlegend\":false,\"stackgroup\":\"one\",\"type\":\"scatter\",\"x\":[2015,2016,2017,2018,2019,2020,2021,2022,2023,2024,2025,2026,2027,2028,2029,2030,2031,2032,2033,2034,2035,2036,2037,2038,2039,2040,2041,2042,2043,2044,2045,2046,2047,2048,2049,2050],\"xaxis\":\"x3\",\"y\":[0.0,0.0,0.0,0.0,0.0,0.0,0.0,0.0,0.0,0.0,0.0,0.0,0.0,0.0,0.0,0.0,0.0,0.0,0.0,0.0,2.5,4.157861997405966,5.936394633470456,7.104277806736005,7.784389679365146,8.293151850142166,8.848900940439366,9.05480861548667,9.365330215770593,9.35319169614152,9.371313535498622,9.365561351620876,9.447307125384178,9.67123307903002,9.902485315344036,10.125732303023915],\"yaxis\":\"y3\"},{\"fillcolor\":\"purple\",\"hoverinfo\":\"x+y\",\"line\":{\"color\":\"purple\",\"width\":0},\"mode\":\"lines\",\"name\":\"Oxidative Coupling of Methane (OCM)\",\"showlegend\":false,\"stackgroup\":\"one\",\"type\":\"scatter\",\"x\":[2015,2016,2017,2018,2019,2020,2021,2022,2023,2024,2025,2026,2027,2028,2029,2030,2031,2032,2033,2034,2035,2036,2037,2038,2039,2040,2041,2042,2043,2044,2045,2046,2047,2048,2049,2050],\"xaxis\":\"x3\",\"y\":[0.0,0.0,0.0,0.0,0.0,0.0,0.0,0.0,0.0,0.0,0.0,0.0,0.0,0.0,0.0,0.0,0.0,0.0,0.0,0.0,0.0,0.0,0.0,0.0,0.0,0.0,0.0,0.00011433969491172383,0.0,0.00010945001540620378,0.00011433969491172383,0.0004359464627151046,0.00011433969491172383,0.0005502861576268285,0.0005502861576268285,0.00011433969491172383],\"yaxis\":\"y3\"}],                        {\"annotations\":[{\"font\":{\"size\":24},\"showarrow\":false,\"text\":\"High electricity price\",\"x\":0.14444444444444446,\"xanchor\":\"center\",\"xref\":\"paper\",\"y\":1.0,\"yanchor\":\"bottom\",\"yref\":\"paper\"},{\"font\":{\"size\":24},\"showarrow\":false,\"text\":\"Reference\",\"x\":0.5,\"xanchor\":\"center\",\"xref\":\"paper\",\"y\":1.0,\"yanchor\":\"bottom\",\"yref\":\"paper\"},{\"font\":{\"size\":24},\"showarrow\":false,\"text\":\"Fossil phase-out\",\"x\":0.8555555555555556,\"xanchor\":\"center\",\"xref\":\"paper\",\"y\":1.0,\"yanchor\":\"bottom\",\"yref\":\"paper\"},{\"font\":{\"color\":\"black\",\"size\":28},\"showarrow\":false,\"text\":\"(b)\",\"textangle\":0,\"x\":-0.05,\"xanchor\":\"left\",\"xref\":\"paper\",\"y\":1.15,\"yref\":\"paper\"}],\"font\":{\"family\":\"Times New Roman\",\"size\":24},\"legend\":{\"font\":{\"size\":20},\"orientation\":\"h\",\"x\":1,\"xanchor\":\"right\",\"y\":1.1,\"yanchor\":\"bottom\"},\"template\":{\"data\":{\"bar\":[{\"error_x\":{\"color\":\"#2a3f5f\"},\"error_y\":{\"color\":\"#2a3f5f\"},\"marker\":{\"line\":{\"color\":\"#E5ECF6\",\"width\":0.5},\"pattern\":{\"fillmode\":\"overlay\",\"size\":10,\"solidity\":0.2}},\"type\":\"bar\"}],\"barpolar\":[{\"marker\":{\"line\":{\"color\":\"#E5ECF6\",\"width\":0.5},\"pattern\":{\"fillmode\":\"overlay\",\"size\":10,\"solidity\":0.2}},\"type\":\"barpolar\"}],\"carpet\":[{\"aaxis\":{\"endlinecolor\":\"#2a3f5f\",\"gridcolor\":\"white\",\"linecolor\":\"white\",\"minorgridcolor\":\"white\",\"startlinecolor\":\"#2a3f5f\"},\"baxis\":{\"endlinecolor\":\"#2a3f5f\",\"gridcolor\":\"white\",\"linecolor\":\"white\",\"minorgridcolor\":\"white\",\"startlinecolor\":\"#2a3f5f\"},\"type\":\"carpet\"}],\"choropleth\":[{\"colorbar\":{\"outlinewidth\":0,\"ticks\":\"\"},\"type\":\"choropleth\"}],\"contour\":[{\"colorbar\":{\"outlinewidth\":0,\"ticks\":\"\"},\"colorscale\":[[0.0,\"#0d0887\"],[0.1111111111111111,\"#46039f\"],[0.2222222222222222,\"#7201a8\"],[0.3333333333333333,\"#9c179e\"],[0.4444444444444444,\"#bd3786\"],[0.5555555555555556,\"#d8576b\"],[0.6666666666666666,\"#ed7953\"],[0.7777777777777778,\"#fb9f3a\"],[0.8888888888888888,\"#fdca26\"],[1.0,\"#f0f921\"]],\"type\":\"contour\"}],\"contourcarpet\":[{\"colorbar\":{\"outlinewidth\":0,\"ticks\":\"\"},\"type\":\"contourcarpet\"}],\"heatmap\":[{\"colorbar\":{\"outlinewidth\":0,\"ticks\":\"\"},\"colorscale\":[[0.0,\"#0d0887\"],[0.1111111111111111,\"#46039f\"],[0.2222222222222222,\"#7201a8\"],[0.3333333333333333,\"#9c179e\"],[0.4444444444444444,\"#bd3786\"],[0.5555555555555556,\"#d8576b\"],[0.6666666666666666,\"#ed7953\"],[0.7777777777777778,\"#fb9f3a\"],[0.8888888888888888,\"#fdca26\"],[1.0,\"#f0f921\"]],\"type\":\"heatmap\"}],\"heatmapgl\":[{\"colorbar\":{\"outlinewidth\":0,\"ticks\":\"\"},\"colorscale\":[[0.0,\"#0d0887\"],[0.1111111111111111,\"#46039f\"],[0.2222222222222222,\"#7201a8\"],[0.3333333333333333,\"#9c179e\"],[0.4444444444444444,\"#bd3786\"],[0.5555555555555556,\"#d8576b\"],[0.6666666666666666,\"#ed7953\"],[0.7777777777777778,\"#fb9f3a\"],[0.8888888888888888,\"#fdca26\"],[1.0,\"#f0f921\"]],\"type\":\"heatmapgl\"}],\"histogram\":[{\"marker\":{\"pattern\":{\"fillmode\":\"overlay\",\"size\":10,\"solidity\":0.2}},\"type\":\"histogram\"}],\"histogram2d\":[{\"colorbar\":{\"outlinewidth\":0,\"ticks\":\"\"},\"colorscale\":[[0.0,\"#0d0887\"],[0.1111111111111111,\"#46039f\"],[0.2222222222222222,\"#7201a8\"],[0.3333333333333333,\"#9c179e\"],[0.4444444444444444,\"#bd3786\"],[0.5555555555555556,\"#d8576b\"],[0.6666666666666666,\"#ed7953\"],[0.7777777777777778,\"#fb9f3a\"],[0.8888888888888888,\"#fdca26\"],[1.0,\"#f0f921\"]],\"type\":\"histogram2d\"}],\"histogram2dcontour\":[{\"colorbar\":{\"outlinewidth\":0,\"ticks\":\"\"},\"colorscale\":[[0.0,\"#0d0887\"],[0.1111111111111111,\"#46039f\"],[0.2222222222222222,\"#7201a8\"],[0.3333333333333333,\"#9c179e\"],[0.4444444444444444,\"#bd3786\"],[0.5555555555555556,\"#d8576b\"],[0.6666666666666666,\"#ed7953\"],[0.7777777777777778,\"#fb9f3a\"],[0.8888888888888888,\"#fdca26\"],[1.0,\"#f0f921\"]],\"type\":\"histogram2dcontour\"}],\"mesh3d\":[{\"colorbar\":{\"outlinewidth\":0,\"ticks\":\"\"},\"type\":\"mesh3d\"}],\"parcoords\":[{\"line\":{\"colorbar\":{\"outlinewidth\":0,\"ticks\":\"\"}},\"type\":\"parcoords\"}],\"pie\":[{\"automargin\":true,\"type\":\"pie\"}],\"scatter\":[{\"marker\":{\"colorbar\":{\"outlinewidth\":0,\"ticks\":\"\"}},\"type\":\"scatter\"}],\"scatter3d\":[{\"line\":{\"colorbar\":{\"outlinewidth\":0,\"ticks\":\"\"}},\"marker\":{\"colorbar\":{\"outlinewidth\":0,\"ticks\":\"\"}},\"type\":\"scatter3d\"}],\"scattercarpet\":[{\"marker\":{\"colorbar\":{\"outlinewidth\":0,\"ticks\":\"\"}},\"type\":\"scattercarpet\"}],\"scattergeo\":[{\"marker\":{\"colorbar\":{\"outlinewidth\":0,\"ticks\":\"\"}},\"type\":\"scattergeo\"}],\"scattergl\":[{\"marker\":{\"colorbar\":{\"outlinewidth\":0,\"ticks\":\"\"}},\"type\":\"scattergl\"}],\"scattermapbox\":[{\"marker\":{\"colorbar\":{\"outlinewidth\":0,\"ticks\":\"\"}},\"type\":\"scattermapbox\"}],\"scatterpolar\":[{\"marker\":{\"colorbar\":{\"outlinewidth\":0,\"ticks\":\"\"}},\"type\":\"scatterpolar\"}],\"scatterpolargl\":[{\"marker\":{\"colorbar\":{\"outlinewidth\":0,\"ticks\":\"\"}},\"type\":\"scatterpolargl\"}],\"scatterternary\":[{\"marker\":{\"colorbar\":{\"outlinewidth\":0,\"ticks\":\"\"}},\"type\":\"scatterternary\"}],\"surface\":[{\"colorbar\":{\"outlinewidth\":0,\"ticks\":\"\"},\"colorscale\":[[0.0,\"#0d0887\"],[0.1111111111111111,\"#46039f\"],[0.2222222222222222,\"#7201a8\"],[0.3333333333333333,\"#9c179e\"],[0.4444444444444444,\"#bd3786\"],[0.5555555555555556,\"#d8576b\"],[0.6666666666666666,\"#ed7953\"],[0.7777777777777778,\"#fb9f3a\"],[0.8888888888888888,\"#fdca26\"],[1.0,\"#f0f921\"]],\"type\":\"surface\"}],\"table\":[{\"cells\":{\"fill\":{\"color\":\"#EBF0F8\"},\"line\":{\"color\":\"white\"}},\"header\":{\"fill\":{\"color\":\"#C8D4E3\"},\"line\":{\"color\":\"white\"}},\"type\":\"table\"}]},\"layout\":{\"annotationdefaults\":{\"arrowcolor\":\"#2a3f5f\",\"arrowhead\":0,\"arrowwidth\":1},\"autotypenumbers\":\"strict\",\"coloraxis\":{\"colorbar\":{\"outlinewidth\":0,\"ticks\":\"\"}},\"colorscale\":{\"diverging\":[[0,\"#8e0152\"],[0.1,\"#c51b7d\"],[0.2,\"#de77ae\"],[0.3,\"#f1b6da\"],[0.4,\"#fde0ef\"],[0.5,\"#f7f7f7\"],[0.6,\"#e6f5d0\"],[0.7,\"#b8e186\"],[0.8,\"#7fbc41\"],[0.9,\"#4d9221\"],[1,\"#276419\"]],\"sequential\":[[0.0,\"#0d0887\"],[0.1111111111111111,\"#46039f\"],[0.2222222222222222,\"#7201a8\"],[0.3333333333333333,\"#9c179e\"],[0.4444444444444444,\"#bd3786\"],[0.5555555555555556,\"#d8576b\"],[0.6666666666666666,\"#ed7953\"],[0.7777777777777778,\"#fb9f3a\"],[0.8888888888888888,\"#fdca26\"],[1.0,\"#f0f921\"]],\"sequentialminus\":[[0.0,\"#0d0887\"],[0.1111111111111111,\"#46039f\"],[0.2222222222222222,\"#7201a8\"],[0.3333333333333333,\"#9c179e\"],[0.4444444444444444,\"#bd3786\"],[0.5555555555555556,\"#d8576b\"],[0.6666666666666666,\"#ed7953\"],[0.7777777777777778,\"#fb9f3a\"],[0.8888888888888888,\"#fdca26\"],[1.0,\"#f0f921\"]]},\"colorway\":[\"#636efa\",\"#EF553B\",\"#00cc96\",\"#ab63fa\",\"#FFA15A\",\"#19d3f3\",\"#FF6692\",\"#B6E880\",\"#FF97FF\",\"#FECB52\"],\"font\":{\"color\":\"#2a3f5f\"},\"geo\":{\"bgcolor\":\"white\",\"lakecolor\":\"white\",\"landcolor\":\"#E5ECF6\",\"showlakes\":true,\"showland\":true,\"subunitcolor\":\"white\"},\"hoverlabel\":{\"align\":\"left\"},\"hovermode\":\"closest\",\"mapbox\":{\"style\":\"light\"},\"paper_bgcolor\":\"white\",\"plot_bgcolor\":\"#E5ECF6\",\"polar\":{\"angularaxis\":{\"gridcolor\":\"white\",\"linecolor\":\"white\",\"ticks\":\"\"},\"bgcolor\":\"#E5ECF6\",\"radialaxis\":{\"gridcolor\":\"white\",\"linecolor\":\"white\",\"ticks\":\"\"}},\"scene\":{\"xaxis\":{\"backgroundcolor\":\"#E5ECF6\",\"gridcolor\":\"white\",\"gridwidth\":2,\"linecolor\":\"white\",\"showbackground\":true,\"ticks\":\"\",\"zerolinecolor\":\"white\"},\"yaxis\":{\"backgroundcolor\":\"#E5ECF6\",\"gridcolor\":\"white\",\"gridwidth\":2,\"linecolor\":\"white\",\"showbackground\":true,\"ticks\":\"\",\"zerolinecolor\":\"white\"},\"zaxis\":{\"backgroundcolor\":\"#E5ECF6\",\"gridcolor\":\"white\",\"gridwidth\":2,\"linecolor\":\"white\",\"showbackground\":true,\"ticks\":\"\",\"zerolinecolor\":\"white\"}},\"shapedefaults\":{\"line\":{\"color\":\"#2a3f5f\"}},\"ternary\":{\"aaxis\":{\"gridcolor\":\"white\",\"linecolor\":\"white\",\"ticks\":\"\"},\"baxis\":{\"gridcolor\":\"white\",\"linecolor\":\"white\",\"ticks\":\"\"},\"bgcolor\":\"#E5ECF6\",\"caxis\":{\"gridcolor\":\"white\",\"linecolor\":\"white\",\"ticks\":\"\"}},\"title\":{\"x\":0.05},\"xaxis\":{\"automargin\":true,\"gridcolor\":\"white\",\"linecolor\":\"white\",\"ticks\":\"\",\"title\":{\"standoff\":15},\"zerolinecolor\":\"white\",\"zerolinewidth\":2},\"yaxis\":{\"automargin\":true,\"gridcolor\":\"white\",\"linecolor\":\"white\",\"ticks\":\"\",\"title\":{\"standoff\":15},\"zerolinecolor\":\"white\",\"zerolinewidth\":2}}},\"xaxis\":{\"anchor\":\"y\",\"domain\":[0.0,0.2888888888888889]},\"xaxis2\":{\"anchor\":\"y2\",\"domain\":[0.35555555555555557,0.6444444444444445]},\"xaxis3\":{\"anchor\":\"y3\",\"domain\":[0.7111111111111111,1.0]},\"yaxis\":{\"anchor\":\"x\",\"domain\":[0.0,1.0],\"title\":{\"text\":\"Production (Mt of olefins)\"}},\"yaxis2\":{\"anchor\":\"x2\",\"domain\":[0.0,1.0],\"matches\":\"y\",\"showticklabels\":false},\"yaxis3\":{\"anchor\":\"x3\",\"domain\":[0.0,1.0],\"matches\":\"y\",\"showticklabels\":false}},                        {\"responsive\": true}                    ).then(function(){\n",
       "                            \n",
       "var gd = document.getElementById('6b71cb02-70e5-4981-82c8-2e200044d079');\n",
       "var x = new MutationObserver(function (mutations, observer) {{\n",
       "        var display = window.getComputedStyle(gd).display;\n",
       "        if (!display || display === 'none') {{\n",
       "            console.log([gd, 'removed!']);\n",
       "            Plotly.purge(gd);\n",
       "            observer.disconnect();\n",
       "        }}\n",
       "}});\n",
       "\n",
       "// Listen for the removal of the full notebook cells\n",
       "var notebookContainer = gd.closest('#notebook-container');\n",
       "if (notebookContainer) {{\n",
       "    x.observe(notebookContainer, {childList: true});\n",
       "}}\n",
       "\n",
       "// Listen for the clearing of the current output cell\n",
       "var outputEl = gd.closest('.output');\n",
       "if (outputEl) {{\n",
       "    x.observe(outputEl, {childList: true});\n",
       "}}\n",
       "\n",
       "                        })                };                });            </script>        </div>"
      ]
     },
     "metadata": {},
     "output_type": "display_data"
    }
   ],
   "source": [
    "olefins_techs=[\"Naphta_cracking\",\"Naphta_cracking_electrified\",\"MethanolToOlefins\", \"OxidativeCouplingOfMethane\"]\n",
    "olefins_techs_colors={\"Naphta_cracking\":\"black\",\"Naphta_cracking_electrified\":\"grey\",\"MethanolToOlefins\":\"yellow\", \"OxidativeCouplingOfMethane\":\"purple\"}\n",
    "olefins_tech_name={\"Naphta cracking\":[\"Naphta_cracking\",\"Naphta_cracking_electrified\"],\n",
    "                        \"Methanol to Olefins (MTO)\":[\"MethanolToOlefins\"],\n",
    "                        \"Oxidative Coupling of Methane (OCM)\":[\"OxidativeCouplingOfMethane\"]}\n",
    "olefins_techs_name_colors={\"Naphta cracking\":\"black\",\"Methanol to Olefins (MTO)\":\"yellow\", \"Oxidative Coupling of Methane (OCM)\":\"purple\"}\n",
    "\n",
    "\n",
    "\n",
    "fig =make_subplots(rows=1, cols=3,subplot_titles=list(scen.keys()),shared_yaxes=True)\n",
    "for i in range(len(scen.keys())):\n",
    "    showlegend=[True,False,False]\n",
    "    tech_usage_flow=scen[list(scen.keys())[i]]['tech_usage_flow']\n",
    "    tech_usage=tech_usage_flow[(tech_usage_flow.Resource.isin([\"Olefins\"]))]\n",
    "    olefins_tech_usage=tech_usage[tech_usage.Technology.isin(olefins_techs)]\n",
    "    for tech in olefins_tech_name.keys():\n",
    "        u=olefins_tech_usage[olefins_tech_usage.Technology.isin(olefins_tech_name[tech])]\n",
    "        u=u[[\"Year\",\"Flow\"]].groupby(by=[\"Year\"]).sum().reset_index()\n",
    "        fig.add_trace(go.Scatter(x=u.Year,y=u.Flow*1e-6,name=tech,line=dict(width=0,color=olefins_techs_name_colors[tech]),\n",
    "                                 fillcolor=olefins_techs_name_colors[tech],hoverinfo=\"x+y\",mode='lines',stackgroup='one',showlegend=showlegend[i]),row=1, col=i+1)\n",
    "#         fig.update_xaxes(title_text=\"Year\", row=1, col=i+1)\n",
    "\n",
    "fig.update_layout(#title='Olefins production per technology in EU-5+1',title_x=0.5,\n",
    "                   yaxis_title='Production (Mt of olefins)')\n",
    "fig.update_layout(\n",
    "    font=dict(\n",
    "        family=\"Times New Roman\",size=24)\n",
    "    )\n",
    "fig.update_annotations(font_size=24)\n",
    "fig.update_layout(legend=dict(\n",
    "    orientation=\"h\",\n",
    "    yanchor=\"bottom\",\n",
    "    y=1.1,\n",
    "    xanchor=\"right\",\n",
    "    x=1,font = dict(size=20)\n",
    "))\n",
    "fig.add_annotation(dict(font=dict(color=\"black\",size=28),\n",
    "                                        x=-0.05,\n",
    "                                        y=1.15,\n",
    "                                        showarrow=False,\n",
    "                                        text=\"(b)\",\n",
    "                                        textangle=0,\n",
    "                                        xanchor='left',\n",
    "                                        xref=\"paper\",\n",
    "                                        yref=\"paper\"))\n",
    "\n",
    "fig.show()"
   ]
  },
  {
   "cell_type": "code",
   "execution_count": 71,
   "id": "d1a7916d",
   "metadata": {},
   "outputs": [
    {
     "data": {
      "application/vnd.plotly.v1+json": {
       "config": {
        "plotlyServerURL": "https://plot.ly"
       },
       "data": [
        {
         "fillcolor": "black",
         "hoverinfo": "x+y",
         "line": {
          "color": "black",
          "width": 0
         },
         "mode": "lines",
         "name": "Oil refining",
         "showlegend": true,
         "stackgroup": "one",
         "type": "scatter",
         "x": [
          2015,
          2016,
          2017,
          2018,
          2019,
          2020,
          2021,
          2022,
          2023,
          2024,
          2025,
          2026,
          2027,
          2028,
          2029,
          2030,
          2031,
          2032,
          2033,
          2034,
          2035,
          2036,
          2037,
          2038,
          2039,
          2040,
          2041,
          2042,
          2043,
          2044,
          2045,
          2046,
          2047,
          2048,
          2049,
          2050
         ],
         "xaxis": "x",
         "y": [
          48.22606451612903,
          48.22606451612903,
          48.22606451612903,
          48.22606451612903,
          48.22606451612903,
          48.22606451612903,
          47.58305032258064,
          46.94003612903225,
          46.29702193548387,
          45.65400774193548,
          45.01099354838709,
          44.3679793548387,
          43.724965161290314,
          43.08195096774193,
          42.43893677419354,
          41.795922580645154,
          41.15290838709677,
          40.509894193548384,
          39.866879999999995,
          39.223865806451606,
          27.95550941401072,
          18.34611882844702,
          13.097192714422423,
          10.495878832447026,
          8.808274531371756,
          7.120670230296487,
          5.437522482363325,
          4.796479856007297,
          4.608498066896164,
          4.420516277785032,
          4.020637080954994,
          3.4835898345799388,
          3.137677290240944,
          2.99522859354557,
          2.8527798968501967,
          2.6964305866530656
         ],
         "yaxis": "y"
        },
        {
         "fillcolor": "green",
         "hoverinfo": "x+y",
         "line": {
          "color": "green",
          "width": 0
         },
         "mode": "lines",
         "name": "Bionaphtha",
         "showlegend": true,
         "stackgroup": "one",
         "type": "scatter",
         "x": [
          2015,
          2016,
          2017,
          2018,
          2019,
          2020,
          2021,
          2022,
          2023,
          2024,
          2025,
          2026,
          2027,
          2028,
          2029,
          2030,
          2031,
          2032,
          2033,
          2034,
          2035,
          2036,
          2037,
          2038,
          2039,
          2040,
          2041,
          2042,
          2043,
          2044,
          2045,
          2046,
          2047,
          2048,
          2049,
          2050
         ],
         "xaxis": "x",
         "y": [
          0,
          0,
          0,
          0,
          0,
          0,
          0,
          0,
          0,
          0,
          0,
          0,
          0,
          0,
          0,
          0,
          0,
          0,
          0,
          0,
          4.851148650505405,
          10.260438500225817,
          11.141479554414493,
          10.481113457397479,
          9.996044237954992,
          9.497203796214375,
          8.998335601943516,
          8.88808699979298,
          7.621756255704964,
          7.252268196895668,
          6.874947024488025,
          6.59977075355259,
          6.402584282118453,
          5.883996889157575,
          5.714437532052495,
          5.554448442400088
         ],
         "yaxis": "y"
        },
        {
         "fillcolor": "black",
         "hoverinfo": "x+y",
         "line": {
          "color": "black",
          "width": 0
         },
         "mode": "lines",
         "name": "Oil refining",
         "showlegend": false,
         "stackgroup": "one",
         "type": "scatter",
         "x": [
          2015,
          2016,
          2017,
          2018,
          2019,
          2020,
          2021,
          2022,
          2023,
          2024,
          2025,
          2026,
          2027,
          2028,
          2029,
          2030,
          2031,
          2032,
          2033,
          2034,
          2035,
          2036,
          2037,
          2038,
          2039,
          2040,
          2041,
          2042,
          2043,
          2044,
          2045,
          2046,
          2047,
          2048,
          2049,
          2050
         ],
         "xaxis": "x2",
         "y": [
          48.22606451612903,
          48.22606451612903,
          48.22606451612903,
          48.22606451612903,
          48.22606451612903,
          48.22606451612903,
          47.58305032258064,
          46.94003612903225,
          46.29702193548387,
          45.65400774193548,
          45.01099354838709,
          44.3679793548387,
          43.724965161290314,
          43.08195096774193,
          42.43893677419354,
          41.795922580645154,
          41.15290838709677,
          40.509894193548384,
          39.866879999999995,
          39.223865806451606,
          27.806831305712933,
          17.02897650897462,
          13.005359439738303,
          10.162916428985614,
          8.446517550277612,
          6.8889329912588275,
          5.071308948127075,
          4.29430949692647,
          4.044864335636148,
          3.795419174345824,
          3.550925276285609,
          3.353468417052037,
          3.1560115578184655,
          2.99522859354557,
          2.852779896850196,
          2.6964305866530656
         ],
         "yaxis": "y2"
        },
        {
         "fillcolor": "green",
         "hoverinfo": "x+y",
         "line": {
          "color": "green",
          "width": 0
         },
         "mode": "lines",
         "name": "Bionaphtha",
         "showlegend": false,
         "stackgroup": "one",
         "type": "scatter",
         "x": [
          2015,
          2016,
          2017,
          2018,
          2019,
          2020,
          2021,
          2022,
          2023,
          2024,
          2025,
          2026,
          2027,
          2028,
          2029,
          2030,
          2031,
          2032,
          2033,
          2034,
          2035,
          2036,
          2037,
          2038,
          2039,
          2040,
          2041,
          2042,
          2043,
          2044,
          2045,
          2046,
          2047,
          2048,
          2049,
          2050
         ],
         "xaxis": "x2",
         "y": [
          0,
          0,
          0,
          0,
          0,
          0,
          0,
          0,
          0,
          0,
          0,
          0,
          0,
          0,
          0,
          0,
          0,
          0,
          0,
          0,
          4.999826758803191,
          11.305540942178052,
          10.34143364571112,
          9.847689360169417,
          9.34882116589856,
          9.089701125756893,
          8.977277013323613,
          8.63440861742227,
          7.520466107247764,
          7.151247508122023,
          6.863988349787465,
          6.555677981719233,
          6.314762893498618,
          5.887406162985946,
          5.708054546209066,
          5.548199367139742
         ],
         "yaxis": "y2"
        },
        {
         "fillcolor": "black",
         "hoverinfo": "x+y",
         "line": {
          "color": "black",
          "width": 0
         },
         "mode": "lines",
         "name": "Oil refining",
         "showlegend": false,
         "stackgroup": "one",
         "type": "scatter",
         "x": [
          2015,
          2016,
          2017,
          2018,
          2019,
          2020,
          2021,
          2022,
          2023,
          2024,
          2025,
          2026,
          2027,
          2028,
          2029,
          2030,
          2031,
          2032,
          2033,
          2034,
          2035,
          2036,
          2037,
          2038,
          2039,
          2040,
          2041,
          2042,
          2043,
          2044,
          2045,
          2046,
          2047,
          2048,
          2049,
          2050
         ],
         "xaxis": "x3",
         "y": [
          48.22606451612903,
          48.22606451612903,
          48.22606451612903,
          48.22606451612903,
          48.22606451612903,
          48.22606451612903,
          47.58305032258064,
          46.94003612903225,
          46.29702193548387,
          45.65400774193548,
          45.01099354838709,
          44.3679793548387,
          43.724965161290314,
          43.08195096774193,
          42.43893677419354,
          41.795922580645154,
          41.15290838709677,
          40.509894193548384,
          39.866879999999995,
          39.223865806451606,
          27.806831305712933,
          17.02897650897462,
          13.238000404329705,
          10.395557393577018,
          8.679158514869016,
          7.12157395585023,
          5.307382750048688,
          4.531392557061555,
          4.285380233101444,
          4.039367909141332,
          3.64174597718489,
          3.3195850330296297,
          2.729422367802581,
          1.9955612903225783,
          0.9977806451612885,
          0
         ],
         "yaxis": "y3"
        },
        {
         "fillcolor": "green",
         "hoverinfo": "x+y",
         "line": {
          "color": "green",
          "width": 0
         },
         "mode": "lines",
         "name": "Bionaphtha",
         "showlegend": false,
         "stackgroup": "one",
         "type": "scatter",
         "x": [
          2015,
          2016,
          2017,
          2018,
          2019,
          2020,
          2021,
          2022,
          2023,
          2024,
          2025,
          2026,
          2027,
          2028,
          2029,
          2030,
          2031,
          2032,
          2033,
          2034,
          2035,
          2036,
          2037,
          2038,
          2039,
          2040,
          2041,
          2042,
          2043,
          2044,
          2045,
          2046,
          2047,
          2048,
          2049,
          2050
         ],
         "xaxis": "x3",
         "y": [
          0,
          0,
          0,
          0,
          0,
          0,
          0,
          0,
          0,
          0,
          0,
          0,
          0,
          0,
          0,
          0,
          0,
          0,
          0,
          0,
          4.999826758803191,
          11.305540942178052,
          10.345666184170787,
          9.847661607639175,
          9.350207257952126,
          9.089701125756893,
          8.977277013323615,
          8.634408617422274,
          7.520466107247766,
          7.151247508122024,
          6.863988349787465,
          6.555677981719233,
          6.314762893498618,
          5.887406162985946,
          5.708054546209066,
          5.548199367139742
         ],
         "yaxis": "y3"
        }
       ],
       "layout": {
        "annotations": [
         {
          "font": {
           "size": 24
          },
          "showarrow": false,
          "text": "High electricity price",
          "x": 0.14444444444444446,
          "xanchor": "center",
          "xref": "paper",
          "y": 1,
          "yanchor": "bottom",
          "yref": "paper"
         },
         {
          "font": {
           "size": 24
          },
          "showarrow": false,
          "text": "Reference",
          "x": 0.5,
          "xanchor": "center",
          "xref": "paper",
          "y": 1,
          "yanchor": "bottom",
          "yref": "paper"
         },
         {
          "font": {
           "size": 24
          },
          "showarrow": false,
          "text": "Fossil phase-out",
          "x": 0.8555555555555556,
          "xanchor": "center",
          "xref": "paper",
          "y": 1,
          "yanchor": "bottom",
          "yref": "paper"
         },
         {
          "font": {
           "color": "black",
           "size": 28
          },
          "showarrow": false,
          "text": "(a)",
          "textangle": 0,
          "x": -0.05,
          "xanchor": "left",
          "xref": "paper",
          "y": 1.15,
          "yref": "paper"
         }
        ],
        "font": {
         "family": "Times New Roman",
         "size": 24
        },
        "legend": {
         "font": {
          "size": 20
         },
         "orientation": "h",
         "x": 0.65,
         "xanchor": "right",
         "y": 1.1,
         "yanchor": "bottom"
        },
        "template": {
         "data": {
          "bar": [
           {
            "error_x": {
             "color": "#2a3f5f"
            },
            "error_y": {
             "color": "#2a3f5f"
            },
            "marker": {
             "line": {
              "color": "#E5ECF6",
              "width": 0.5
             },
             "pattern": {
              "fillmode": "overlay",
              "size": 10,
              "solidity": 0.2
             }
            },
            "type": "bar"
           }
          ],
          "barpolar": [
           {
            "marker": {
             "line": {
              "color": "#E5ECF6",
              "width": 0.5
             },
             "pattern": {
              "fillmode": "overlay",
              "size": 10,
              "solidity": 0.2
             }
            },
            "type": "barpolar"
           }
          ],
          "carpet": [
           {
            "aaxis": {
             "endlinecolor": "#2a3f5f",
             "gridcolor": "white",
             "linecolor": "white",
             "minorgridcolor": "white",
             "startlinecolor": "#2a3f5f"
            },
            "baxis": {
             "endlinecolor": "#2a3f5f",
             "gridcolor": "white",
             "linecolor": "white",
             "minorgridcolor": "white",
             "startlinecolor": "#2a3f5f"
            },
            "type": "carpet"
           }
          ],
          "choropleth": [
           {
            "colorbar": {
             "outlinewidth": 0,
             "ticks": ""
            },
            "type": "choropleth"
           }
          ],
          "contour": [
           {
            "colorbar": {
             "outlinewidth": 0,
             "ticks": ""
            },
            "colorscale": [
             [
              0,
              "#0d0887"
             ],
             [
              0.1111111111111111,
              "#46039f"
             ],
             [
              0.2222222222222222,
              "#7201a8"
             ],
             [
              0.3333333333333333,
              "#9c179e"
             ],
             [
              0.4444444444444444,
              "#bd3786"
             ],
             [
              0.5555555555555556,
              "#d8576b"
             ],
             [
              0.6666666666666666,
              "#ed7953"
             ],
             [
              0.7777777777777778,
              "#fb9f3a"
             ],
             [
              0.8888888888888888,
              "#fdca26"
             ],
             [
              1,
              "#f0f921"
             ]
            ],
            "type": "contour"
           }
          ],
          "contourcarpet": [
           {
            "colorbar": {
             "outlinewidth": 0,
             "ticks": ""
            },
            "type": "contourcarpet"
           }
          ],
          "heatmap": [
           {
            "colorbar": {
             "outlinewidth": 0,
             "ticks": ""
            },
            "colorscale": [
             [
              0,
              "#0d0887"
             ],
             [
              0.1111111111111111,
              "#46039f"
             ],
             [
              0.2222222222222222,
              "#7201a8"
             ],
             [
              0.3333333333333333,
              "#9c179e"
             ],
             [
              0.4444444444444444,
              "#bd3786"
             ],
             [
              0.5555555555555556,
              "#d8576b"
             ],
             [
              0.6666666666666666,
              "#ed7953"
             ],
             [
              0.7777777777777778,
              "#fb9f3a"
             ],
             [
              0.8888888888888888,
              "#fdca26"
             ],
             [
              1,
              "#f0f921"
             ]
            ],
            "type": "heatmap"
           }
          ],
          "heatmapgl": [
           {
            "colorbar": {
             "outlinewidth": 0,
             "ticks": ""
            },
            "colorscale": [
             [
              0,
              "#0d0887"
             ],
             [
              0.1111111111111111,
              "#46039f"
             ],
             [
              0.2222222222222222,
              "#7201a8"
             ],
             [
              0.3333333333333333,
              "#9c179e"
             ],
             [
              0.4444444444444444,
              "#bd3786"
             ],
             [
              0.5555555555555556,
              "#d8576b"
             ],
             [
              0.6666666666666666,
              "#ed7953"
             ],
             [
              0.7777777777777778,
              "#fb9f3a"
             ],
             [
              0.8888888888888888,
              "#fdca26"
             ],
             [
              1,
              "#f0f921"
             ]
            ],
            "type": "heatmapgl"
           }
          ],
          "histogram": [
           {
            "marker": {
             "pattern": {
              "fillmode": "overlay",
              "size": 10,
              "solidity": 0.2
             }
            },
            "type": "histogram"
           }
          ],
          "histogram2d": [
           {
            "colorbar": {
             "outlinewidth": 0,
             "ticks": ""
            },
            "colorscale": [
             [
              0,
              "#0d0887"
             ],
             [
              0.1111111111111111,
              "#46039f"
             ],
             [
              0.2222222222222222,
              "#7201a8"
             ],
             [
              0.3333333333333333,
              "#9c179e"
             ],
             [
              0.4444444444444444,
              "#bd3786"
             ],
             [
              0.5555555555555556,
              "#d8576b"
             ],
             [
              0.6666666666666666,
              "#ed7953"
             ],
             [
              0.7777777777777778,
              "#fb9f3a"
             ],
             [
              0.8888888888888888,
              "#fdca26"
             ],
             [
              1,
              "#f0f921"
             ]
            ],
            "type": "histogram2d"
           }
          ],
          "histogram2dcontour": [
           {
            "colorbar": {
             "outlinewidth": 0,
             "ticks": ""
            },
            "colorscale": [
             [
              0,
              "#0d0887"
             ],
             [
              0.1111111111111111,
              "#46039f"
             ],
             [
              0.2222222222222222,
              "#7201a8"
             ],
             [
              0.3333333333333333,
              "#9c179e"
             ],
             [
              0.4444444444444444,
              "#bd3786"
             ],
             [
              0.5555555555555556,
              "#d8576b"
             ],
             [
              0.6666666666666666,
              "#ed7953"
             ],
             [
              0.7777777777777778,
              "#fb9f3a"
             ],
             [
              0.8888888888888888,
              "#fdca26"
             ],
             [
              1,
              "#f0f921"
             ]
            ],
            "type": "histogram2dcontour"
           }
          ],
          "mesh3d": [
           {
            "colorbar": {
             "outlinewidth": 0,
             "ticks": ""
            },
            "type": "mesh3d"
           }
          ],
          "parcoords": [
           {
            "line": {
             "colorbar": {
              "outlinewidth": 0,
              "ticks": ""
             }
            },
            "type": "parcoords"
           }
          ],
          "pie": [
           {
            "automargin": true,
            "type": "pie"
           }
          ],
          "scatter": [
           {
            "marker": {
             "colorbar": {
              "outlinewidth": 0,
              "ticks": ""
             }
            },
            "type": "scatter"
           }
          ],
          "scatter3d": [
           {
            "line": {
             "colorbar": {
              "outlinewidth": 0,
              "ticks": ""
             }
            },
            "marker": {
             "colorbar": {
              "outlinewidth": 0,
              "ticks": ""
             }
            },
            "type": "scatter3d"
           }
          ],
          "scattercarpet": [
           {
            "marker": {
             "colorbar": {
              "outlinewidth": 0,
              "ticks": ""
             }
            },
            "type": "scattercarpet"
           }
          ],
          "scattergeo": [
           {
            "marker": {
             "colorbar": {
              "outlinewidth": 0,
              "ticks": ""
             }
            },
            "type": "scattergeo"
           }
          ],
          "scattergl": [
           {
            "marker": {
             "colorbar": {
              "outlinewidth": 0,
              "ticks": ""
             }
            },
            "type": "scattergl"
           }
          ],
          "scattermapbox": [
           {
            "marker": {
             "colorbar": {
              "outlinewidth": 0,
              "ticks": ""
             }
            },
            "type": "scattermapbox"
           }
          ],
          "scatterpolar": [
           {
            "marker": {
             "colorbar": {
              "outlinewidth": 0,
              "ticks": ""
             }
            },
            "type": "scatterpolar"
           }
          ],
          "scatterpolargl": [
           {
            "marker": {
             "colorbar": {
              "outlinewidth": 0,
              "ticks": ""
             }
            },
            "type": "scatterpolargl"
           }
          ],
          "scatterternary": [
           {
            "marker": {
             "colorbar": {
              "outlinewidth": 0,
              "ticks": ""
             }
            },
            "type": "scatterternary"
           }
          ],
          "surface": [
           {
            "colorbar": {
             "outlinewidth": 0,
             "ticks": ""
            },
            "colorscale": [
             [
              0,
              "#0d0887"
             ],
             [
              0.1111111111111111,
              "#46039f"
             ],
             [
              0.2222222222222222,
              "#7201a8"
             ],
             [
              0.3333333333333333,
              "#9c179e"
             ],
             [
              0.4444444444444444,
              "#bd3786"
             ],
             [
              0.5555555555555556,
              "#d8576b"
             ],
             [
              0.6666666666666666,
              "#ed7953"
             ],
             [
              0.7777777777777778,
              "#fb9f3a"
             ],
             [
              0.8888888888888888,
              "#fdca26"
             ],
             [
              1,
              "#f0f921"
             ]
            ],
            "type": "surface"
           }
          ],
          "table": [
           {
            "cells": {
             "fill": {
              "color": "#EBF0F8"
             },
             "line": {
              "color": "white"
             }
            },
            "header": {
             "fill": {
              "color": "#C8D4E3"
             },
             "line": {
              "color": "white"
             }
            },
            "type": "table"
           }
          ]
         },
         "layout": {
          "annotationdefaults": {
           "arrowcolor": "#2a3f5f",
           "arrowhead": 0,
           "arrowwidth": 1
          },
          "autotypenumbers": "strict",
          "coloraxis": {
           "colorbar": {
            "outlinewidth": 0,
            "ticks": ""
           }
          },
          "colorscale": {
           "diverging": [
            [
             0,
             "#8e0152"
            ],
            [
             0.1,
             "#c51b7d"
            ],
            [
             0.2,
             "#de77ae"
            ],
            [
             0.3,
             "#f1b6da"
            ],
            [
             0.4,
             "#fde0ef"
            ],
            [
             0.5,
             "#f7f7f7"
            ],
            [
             0.6,
             "#e6f5d0"
            ],
            [
             0.7,
             "#b8e186"
            ],
            [
             0.8,
             "#7fbc41"
            ],
            [
             0.9,
             "#4d9221"
            ],
            [
             1,
             "#276419"
            ]
           ],
           "sequential": [
            [
             0,
             "#0d0887"
            ],
            [
             0.1111111111111111,
             "#46039f"
            ],
            [
             0.2222222222222222,
             "#7201a8"
            ],
            [
             0.3333333333333333,
             "#9c179e"
            ],
            [
             0.4444444444444444,
             "#bd3786"
            ],
            [
             0.5555555555555556,
             "#d8576b"
            ],
            [
             0.6666666666666666,
             "#ed7953"
            ],
            [
             0.7777777777777778,
             "#fb9f3a"
            ],
            [
             0.8888888888888888,
             "#fdca26"
            ],
            [
             1,
             "#f0f921"
            ]
           ],
           "sequentialminus": [
            [
             0,
             "#0d0887"
            ],
            [
             0.1111111111111111,
             "#46039f"
            ],
            [
             0.2222222222222222,
             "#7201a8"
            ],
            [
             0.3333333333333333,
             "#9c179e"
            ],
            [
             0.4444444444444444,
             "#bd3786"
            ],
            [
             0.5555555555555556,
             "#d8576b"
            ],
            [
             0.6666666666666666,
             "#ed7953"
            ],
            [
             0.7777777777777778,
             "#fb9f3a"
            ],
            [
             0.8888888888888888,
             "#fdca26"
            ],
            [
             1,
             "#f0f921"
            ]
           ]
          },
          "colorway": [
           "#636efa",
           "#EF553B",
           "#00cc96",
           "#ab63fa",
           "#FFA15A",
           "#19d3f3",
           "#FF6692",
           "#B6E880",
           "#FF97FF",
           "#FECB52"
          ],
          "font": {
           "color": "#2a3f5f"
          },
          "geo": {
           "bgcolor": "white",
           "lakecolor": "white",
           "landcolor": "#E5ECF6",
           "showlakes": true,
           "showland": true,
           "subunitcolor": "white"
          },
          "hoverlabel": {
           "align": "left"
          },
          "hovermode": "closest",
          "mapbox": {
           "style": "light"
          },
          "paper_bgcolor": "white",
          "plot_bgcolor": "#E5ECF6",
          "polar": {
           "angularaxis": {
            "gridcolor": "white",
            "linecolor": "white",
            "ticks": ""
           },
           "bgcolor": "#E5ECF6",
           "radialaxis": {
            "gridcolor": "white",
            "linecolor": "white",
            "ticks": ""
           }
          },
          "scene": {
           "xaxis": {
            "backgroundcolor": "#E5ECF6",
            "gridcolor": "white",
            "gridwidth": 2,
            "linecolor": "white",
            "showbackground": true,
            "ticks": "",
            "zerolinecolor": "white"
           },
           "yaxis": {
            "backgroundcolor": "#E5ECF6",
            "gridcolor": "white",
            "gridwidth": 2,
            "linecolor": "white",
            "showbackground": true,
            "ticks": "",
            "zerolinecolor": "white"
           },
           "zaxis": {
            "backgroundcolor": "#E5ECF6",
            "gridcolor": "white",
            "gridwidth": 2,
            "linecolor": "white",
            "showbackground": true,
            "ticks": "",
            "zerolinecolor": "white"
           }
          },
          "shapedefaults": {
           "line": {
            "color": "#2a3f5f"
           }
          },
          "ternary": {
           "aaxis": {
            "gridcolor": "white",
            "linecolor": "white",
            "ticks": ""
           },
           "baxis": {
            "gridcolor": "white",
            "linecolor": "white",
            "ticks": ""
           },
           "bgcolor": "#E5ECF6",
           "caxis": {
            "gridcolor": "white",
            "linecolor": "white",
            "ticks": ""
           }
          },
          "title": {
           "x": 0.05
          },
          "xaxis": {
           "automargin": true,
           "gridcolor": "white",
           "linecolor": "white",
           "ticks": "",
           "title": {
            "standoff": 15
           },
           "zerolinecolor": "white",
           "zerolinewidth": 2
          },
          "yaxis": {
           "automargin": true,
           "gridcolor": "white",
           "linecolor": "white",
           "ticks": "",
           "title": {
            "standoff": 15
           },
           "zerolinecolor": "white",
           "zerolinewidth": 2
          }
         }
        },
        "xaxis": {
         "anchor": "y",
         "domain": [
          0,
          0.2888888888888889
         ]
        },
        "xaxis2": {
         "anchor": "y2",
         "domain": [
          0.35555555555555557,
          0.6444444444444445
         ]
        },
        "xaxis3": {
         "anchor": "y3",
         "domain": [
          0.7111111111111111,
          1
         ]
        },
        "yaxis": {
         "anchor": "x",
         "domain": [
          0,
          1
         ],
         "title": {
          "text": "Production (Mt of naphtha)"
         }
        },
        "yaxis2": {
         "anchor": "x2",
         "domain": [
          0,
          1
         ],
         "matches": "y",
         "showticklabels": false
        },
        "yaxis3": {
         "anchor": "x3",
         "domain": [
          0,
          1
         ],
         "matches": "y",
         "showticklabels": false
        }
       }
      },
      "text/html": [
       "<div>                            <div id=\"814ae078-4dbf-4f45-8458-947ed45f08fb\" class=\"plotly-graph-div\" style=\"height:525px; width:100%;\"></div>            <script type=\"text/javascript\">                require([\"plotly\"], function(Plotly) {                    window.PLOTLYENV=window.PLOTLYENV || {};                                    if (document.getElementById(\"814ae078-4dbf-4f45-8458-947ed45f08fb\")) {                    Plotly.newPlot(                        \"814ae078-4dbf-4f45-8458-947ed45f08fb\",                        [{\"fillcolor\":\"black\",\"hoverinfo\":\"x+y\",\"line\":{\"color\":\"black\",\"width\":0},\"mode\":\"lines\",\"name\":\"Oil refining\",\"showlegend\":true,\"stackgroup\":\"one\",\"type\":\"scatter\",\"x\":[2015,2016,2017,2018,2019,2020,2021,2022,2023,2024,2025,2026,2027,2028,2029,2030,2031,2032,2033,2034,2035,2036,2037,2038,2039,2040,2041,2042,2043,2044,2045,2046,2047,2048,2049,2050],\"xaxis\":\"x\",\"y\":[48.22606451612903,48.22606451612903,48.22606451612903,48.22606451612903,48.22606451612903,48.22606451612903,47.58305032258064,46.94003612903225,46.29702193548387,45.65400774193548,45.01099354838709,44.3679793548387,43.724965161290314,43.08195096774193,42.43893677419354,41.795922580645154,41.15290838709677,40.509894193548384,39.866879999999995,39.223865806451606,27.95550941401072,18.34611882844702,13.097192714422423,10.495878832447026,8.808274531371756,7.120670230296487,5.437522482363325,4.796479856007297,4.608498066896164,4.420516277785032,4.020637080954994,3.4835898345799388,3.137677290240944,2.99522859354557,2.8527798968501967,2.6964305866530656],\"yaxis\":\"y\"},{\"fillcolor\":\"green\",\"hoverinfo\":\"x+y\",\"line\":{\"color\":\"green\",\"width\":0},\"mode\":\"lines\",\"name\":\"Bionaphtha\",\"showlegend\":true,\"stackgroup\":\"one\",\"type\":\"scatter\",\"x\":[2015,2016,2017,2018,2019,2020,2021,2022,2023,2024,2025,2026,2027,2028,2029,2030,2031,2032,2033,2034,2035,2036,2037,2038,2039,2040,2041,2042,2043,2044,2045,2046,2047,2048,2049,2050],\"xaxis\":\"x\",\"y\":[0.0,0.0,0.0,0.0,0.0,0.0,0.0,0.0,0.0,0.0,0.0,0.0,0.0,0.0,0.0,0.0,0.0,0.0,0.0,0.0,4.851148650505405,10.260438500225817,11.141479554414493,10.481113457397479,9.996044237954992,9.497203796214375,8.998335601943516,8.88808699979298,7.621756255704964,7.252268196895668,6.874947024488025,6.59977075355259,6.402584282118453,5.883996889157575,5.714437532052495,5.554448442400088],\"yaxis\":\"y\"},{\"fillcolor\":\"black\",\"hoverinfo\":\"x+y\",\"line\":{\"color\":\"black\",\"width\":0},\"mode\":\"lines\",\"name\":\"Oil refining\",\"showlegend\":false,\"stackgroup\":\"one\",\"type\":\"scatter\",\"x\":[2015,2016,2017,2018,2019,2020,2021,2022,2023,2024,2025,2026,2027,2028,2029,2030,2031,2032,2033,2034,2035,2036,2037,2038,2039,2040,2041,2042,2043,2044,2045,2046,2047,2048,2049,2050],\"xaxis\":\"x2\",\"y\":[48.22606451612903,48.22606451612903,48.22606451612903,48.22606451612903,48.22606451612903,48.22606451612903,47.58305032258064,46.94003612903225,46.29702193548387,45.65400774193548,45.01099354838709,44.3679793548387,43.724965161290314,43.08195096774193,42.43893677419354,41.795922580645154,41.15290838709677,40.509894193548384,39.866879999999995,39.223865806451606,27.806831305712933,17.02897650897462,13.005359439738303,10.162916428985614,8.446517550277612,6.8889329912588275,5.071308948127075,4.29430949692647,4.044864335636148,3.795419174345824,3.550925276285609,3.353468417052037,3.1560115578184655,2.99522859354557,2.852779896850196,2.6964305866530656],\"yaxis\":\"y2\"},{\"fillcolor\":\"green\",\"hoverinfo\":\"x+y\",\"line\":{\"color\":\"green\",\"width\":0},\"mode\":\"lines\",\"name\":\"Bionaphtha\",\"showlegend\":false,\"stackgroup\":\"one\",\"type\":\"scatter\",\"x\":[2015,2016,2017,2018,2019,2020,2021,2022,2023,2024,2025,2026,2027,2028,2029,2030,2031,2032,2033,2034,2035,2036,2037,2038,2039,2040,2041,2042,2043,2044,2045,2046,2047,2048,2049,2050],\"xaxis\":\"x2\",\"y\":[0.0,0.0,0.0,0.0,0.0,0.0,0.0,0.0,0.0,0.0,0.0,0.0,0.0,0.0,0.0,0.0,0.0,0.0,0.0,0.0,4.999826758803191,11.305540942178052,10.34143364571112,9.847689360169417,9.34882116589856,9.089701125756893,8.977277013323613,8.63440861742227,7.520466107247764,7.151247508122023,6.863988349787465,6.555677981719233,6.314762893498618,5.887406162985946,5.708054546209066,5.548199367139742],\"yaxis\":\"y2\"},{\"fillcolor\":\"black\",\"hoverinfo\":\"x+y\",\"line\":{\"color\":\"black\",\"width\":0},\"mode\":\"lines\",\"name\":\"Oil refining\",\"showlegend\":false,\"stackgroup\":\"one\",\"type\":\"scatter\",\"x\":[2015,2016,2017,2018,2019,2020,2021,2022,2023,2024,2025,2026,2027,2028,2029,2030,2031,2032,2033,2034,2035,2036,2037,2038,2039,2040,2041,2042,2043,2044,2045,2046,2047,2048,2049,2050],\"xaxis\":\"x3\",\"y\":[48.22606451612903,48.22606451612903,48.22606451612903,48.22606451612903,48.22606451612903,48.22606451612903,47.58305032258064,46.94003612903225,46.29702193548387,45.65400774193548,45.01099354838709,44.3679793548387,43.724965161290314,43.08195096774193,42.43893677419354,41.795922580645154,41.15290838709677,40.509894193548384,39.866879999999995,39.223865806451606,27.806831305712933,17.02897650897462,13.238000404329705,10.395557393577018,8.679158514869016,7.12157395585023,5.307382750048688,4.531392557061555,4.285380233101444,4.039367909141332,3.64174597718489,3.3195850330296297,2.729422367802581,1.9955612903225783,0.9977806451612885,0.0],\"yaxis\":\"y3\"},{\"fillcolor\":\"green\",\"hoverinfo\":\"x+y\",\"line\":{\"color\":\"green\",\"width\":0},\"mode\":\"lines\",\"name\":\"Bionaphtha\",\"showlegend\":false,\"stackgroup\":\"one\",\"type\":\"scatter\",\"x\":[2015,2016,2017,2018,2019,2020,2021,2022,2023,2024,2025,2026,2027,2028,2029,2030,2031,2032,2033,2034,2035,2036,2037,2038,2039,2040,2041,2042,2043,2044,2045,2046,2047,2048,2049,2050],\"xaxis\":\"x3\",\"y\":[0.0,0.0,0.0,0.0,0.0,0.0,0.0,0.0,0.0,0.0,0.0,0.0,0.0,0.0,0.0,0.0,0.0,0.0,0.0,0.0,4.999826758803191,11.305540942178052,10.345666184170787,9.847661607639175,9.350207257952126,9.089701125756893,8.977277013323615,8.634408617422274,7.520466107247766,7.151247508122024,6.863988349787465,6.555677981719233,6.314762893498618,5.887406162985946,5.708054546209066,5.548199367139742],\"yaxis\":\"y3\"}],                        {\"annotations\":[{\"font\":{\"size\":24},\"showarrow\":false,\"text\":\"High electricity price\",\"x\":0.14444444444444446,\"xanchor\":\"center\",\"xref\":\"paper\",\"y\":1.0,\"yanchor\":\"bottom\",\"yref\":\"paper\"},{\"font\":{\"size\":24},\"showarrow\":false,\"text\":\"Reference\",\"x\":0.5,\"xanchor\":\"center\",\"xref\":\"paper\",\"y\":1.0,\"yanchor\":\"bottom\",\"yref\":\"paper\"},{\"font\":{\"size\":24},\"showarrow\":false,\"text\":\"Fossil phase-out\",\"x\":0.8555555555555556,\"xanchor\":\"center\",\"xref\":\"paper\",\"y\":1.0,\"yanchor\":\"bottom\",\"yref\":\"paper\"},{\"font\":{\"color\":\"black\",\"size\":28},\"showarrow\":false,\"text\":\"(a)\",\"textangle\":0,\"x\":-0.05,\"xanchor\":\"left\",\"xref\":\"paper\",\"y\":1.15,\"yref\":\"paper\"}],\"font\":{\"family\":\"Times New Roman\",\"size\":24},\"legend\":{\"font\":{\"size\":20},\"orientation\":\"h\",\"x\":0.65,\"xanchor\":\"right\",\"y\":1.1,\"yanchor\":\"bottom\"},\"template\":{\"data\":{\"bar\":[{\"error_x\":{\"color\":\"#2a3f5f\"},\"error_y\":{\"color\":\"#2a3f5f\"},\"marker\":{\"line\":{\"color\":\"#E5ECF6\",\"width\":0.5},\"pattern\":{\"fillmode\":\"overlay\",\"size\":10,\"solidity\":0.2}},\"type\":\"bar\"}],\"barpolar\":[{\"marker\":{\"line\":{\"color\":\"#E5ECF6\",\"width\":0.5},\"pattern\":{\"fillmode\":\"overlay\",\"size\":10,\"solidity\":0.2}},\"type\":\"barpolar\"}],\"carpet\":[{\"aaxis\":{\"endlinecolor\":\"#2a3f5f\",\"gridcolor\":\"white\",\"linecolor\":\"white\",\"minorgridcolor\":\"white\",\"startlinecolor\":\"#2a3f5f\"},\"baxis\":{\"endlinecolor\":\"#2a3f5f\",\"gridcolor\":\"white\",\"linecolor\":\"white\",\"minorgridcolor\":\"white\",\"startlinecolor\":\"#2a3f5f\"},\"type\":\"carpet\"}],\"choropleth\":[{\"colorbar\":{\"outlinewidth\":0,\"ticks\":\"\"},\"type\":\"choropleth\"}],\"contour\":[{\"colorbar\":{\"outlinewidth\":0,\"ticks\":\"\"},\"colorscale\":[[0.0,\"#0d0887\"],[0.1111111111111111,\"#46039f\"],[0.2222222222222222,\"#7201a8\"],[0.3333333333333333,\"#9c179e\"],[0.4444444444444444,\"#bd3786\"],[0.5555555555555556,\"#d8576b\"],[0.6666666666666666,\"#ed7953\"],[0.7777777777777778,\"#fb9f3a\"],[0.8888888888888888,\"#fdca26\"],[1.0,\"#f0f921\"]],\"type\":\"contour\"}],\"contourcarpet\":[{\"colorbar\":{\"outlinewidth\":0,\"ticks\":\"\"},\"type\":\"contourcarpet\"}],\"heatmap\":[{\"colorbar\":{\"outlinewidth\":0,\"ticks\":\"\"},\"colorscale\":[[0.0,\"#0d0887\"],[0.1111111111111111,\"#46039f\"],[0.2222222222222222,\"#7201a8\"],[0.3333333333333333,\"#9c179e\"],[0.4444444444444444,\"#bd3786\"],[0.5555555555555556,\"#d8576b\"],[0.6666666666666666,\"#ed7953\"],[0.7777777777777778,\"#fb9f3a\"],[0.8888888888888888,\"#fdca26\"],[1.0,\"#f0f921\"]],\"type\":\"heatmap\"}],\"heatmapgl\":[{\"colorbar\":{\"outlinewidth\":0,\"ticks\":\"\"},\"colorscale\":[[0.0,\"#0d0887\"],[0.1111111111111111,\"#46039f\"],[0.2222222222222222,\"#7201a8\"],[0.3333333333333333,\"#9c179e\"],[0.4444444444444444,\"#bd3786\"],[0.5555555555555556,\"#d8576b\"],[0.6666666666666666,\"#ed7953\"],[0.7777777777777778,\"#fb9f3a\"],[0.8888888888888888,\"#fdca26\"],[1.0,\"#f0f921\"]],\"type\":\"heatmapgl\"}],\"histogram\":[{\"marker\":{\"pattern\":{\"fillmode\":\"overlay\",\"size\":10,\"solidity\":0.2}},\"type\":\"histogram\"}],\"histogram2d\":[{\"colorbar\":{\"outlinewidth\":0,\"ticks\":\"\"},\"colorscale\":[[0.0,\"#0d0887\"],[0.1111111111111111,\"#46039f\"],[0.2222222222222222,\"#7201a8\"],[0.3333333333333333,\"#9c179e\"],[0.4444444444444444,\"#bd3786\"],[0.5555555555555556,\"#d8576b\"],[0.6666666666666666,\"#ed7953\"],[0.7777777777777778,\"#fb9f3a\"],[0.8888888888888888,\"#fdca26\"],[1.0,\"#f0f921\"]],\"type\":\"histogram2d\"}],\"histogram2dcontour\":[{\"colorbar\":{\"outlinewidth\":0,\"ticks\":\"\"},\"colorscale\":[[0.0,\"#0d0887\"],[0.1111111111111111,\"#46039f\"],[0.2222222222222222,\"#7201a8\"],[0.3333333333333333,\"#9c179e\"],[0.4444444444444444,\"#bd3786\"],[0.5555555555555556,\"#d8576b\"],[0.6666666666666666,\"#ed7953\"],[0.7777777777777778,\"#fb9f3a\"],[0.8888888888888888,\"#fdca26\"],[1.0,\"#f0f921\"]],\"type\":\"histogram2dcontour\"}],\"mesh3d\":[{\"colorbar\":{\"outlinewidth\":0,\"ticks\":\"\"},\"type\":\"mesh3d\"}],\"parcoords\":[{\"line\":{\"colorbar\":{\"outlinewidth\":0,\"ticks\":\"\"}},\"type\":\"parcoords\"}],\"pie\":[{\"automargin\":true,\"type\":\"pie\"}],\"scatter\":[{\"marker\":{\"colorbar\":{\"outlinewidth\":0,\"ticks\":\"\"}},\"type\":\"scatter\"}],\"scatter3d\":[{\"line\":{\"colorbar\":{\"outlinewidth\":0,\"ticks\":\"\"}},\"marker\":{\"colorbar\":{\"outlinewidth\":0,\"ticks\":\"\"}},\"type\":\"scatter3d\"}],\"scattercarpet\":[{\"marker\":{\"colorbar\":{\"outlinewidth\":0,\"ticks\":\"\"}},\"type\":\"scattercarpet\"}],\"scattergeo\":[{\"marker\":{\"colorbar\":{\"outlinewidth\":0,\"ticks\":\"\"}},\"type\":\"scattergeo\"}],\"scattergl\":[{\"marker\":{\"colorbar\":{\"outlinewidth\":0,\"ticks\":\"\"}},\"type\":\"scattergl\"}],\"scattermapbox\":[{\"marker\":{\"colorbar\":{\"outlinewidth\":0,\"ticks\":\"\"}},\"type\":\"scattermapbox\"}],\"scatterpolar\":[{\"marker\":{\"colorbar\":{\"outlinewidth\":0,\"ticks\":\"\"}},\"type\":\"scatterpolar\"}],\"scatterpolargl\":[{\"marker\":{\"colorbar\":{\"outlinewidth\":0,\"ticks\":\"\"}},\"type\":\"scatterpolargl\"}],\"scatterternary\":[{\"marker\":{\"colorbar\":{\"outlinewidth\":0,\"ticks\":\"\"}},\"type\":\"scatterternary\"}],\"surface\":[{\"colorbar\":{\"outlinewidth\":0,\"ticks\":\"\"},\"colorscale\":[[0.0,\"#0d0887\"],[0.1111111111111111,\"#46039f\"],[0.2222222222222222,\"#7201a8\"],[0.3333333333333333,\"#9c179e\"],[0.4444444444444444,\"#bd3786\"],[0.5555555555555556,\"#d8576b\"],[0.6666666666666666,\"#ed7953\"],[0.7777777777777778,\"#fb9f3a\"],[0.8888888888888888,\"#fdca26\"],[1.0,\"#f0f921\"]],\"type\":\"surface\"}],\"table\":[{\"cells\":{\"fill\":{\"color\":\"#EBF0F8\"},\"line\":{\"color\":\"white\"}},\"header\":{\"fill\":{\"color\":\"#C8D4E3\"},\"line\":{\"color\":\"white\"}},\"type\":\"table\"}]},\"layout\":{\"annotationdefaults\":{\"arrowcolor\":\"#2a3f5f\",\"arrowhead\":0,\"arrowwidth\":1},\"autotypenumbers\":\"strict\",\"coloraxis\":{\"colorbar\":{\"outlinewidth\":0,\"ticks\":\"\"}},\"colorscale\":{\"diverging\":[[0,\"#8e0152\"],[0.1,\"#c51b7d\"],[0.2,\"#de77ae\"],[0.3,\"#f1b6da\"],[0.4,\"#fde0ef\"],[0.5,\"#f7f7f7\"],[0.6,\"#e6f5d0\"],[0.7,\"#b8e186\"],[0.8,\"#7fbc41\"],[0.9,\"#4d9221\"],[1,\"#276419\"]],\"sequential\":[[0.0,\"#0d0887\"],[0.1111111111111111,\"#46039f\"],[0.2222222222222222,\"#7201a8\"],[0.3333333333333333,\"#9c179e\"],[0.4444444444444444,\"#bd3786\"],[0.5555555555555556,\"#d8576b\"],[0.6666666666666666,\"#ed7953\"],[0.7777777777777778,\"#fb9f3a\"],[0.8888888888888888,\"#fdca26\"],[1.0,\"#f0f921\"]],\"sequentialminus\":[[0.0,\"#0d0887\"],[0.1111111111111111,\"#46039f\"],[0.2222222222222222,\"#7201a8\"],[0.3333333333333333,\"#9c179e\"],[0.4444444444444444,\"#bd3786\"],[0.5555555555555556,\"#d8576b\"],[0.6666666666666666,\"#ed7953\"],[0.7777777777777778,\"#fb9f3a\"],[0.8888888888888888,\"#fdca26\"],[1.0,\"#f0f921\"]]},\"colorway\":[\"#636efa\",\"#EF553B\",\"#00cc96\",\"#ab63fa\",\"#FFA15A\",\"#19d3f3\",\"#FF6692\",\"#B6E880\",\"#FF97FF\",\"#FECB52\"],\"font\":{\"color\":\"#2a3f5f\"},\"geo\":{\"bgcolor\":\"white\",\"lakecolor\":\"white\",\"landcolor\":\"#E5ECF6\",\"showlakes\":true,\"showland\":true,\"subunitcolor\":\"white\"},\"hoverlabel\":{\"align\":\"left\"},\"hovermode\":\"closest\",\"mapbox\":{\"style\":\"light\"},\"paper_bgcolor\":\"white\",\"plot_bgcolor\":\"#E5ECF6\",\"polar\":{\"angularaxis\":{\"gridcolor\":\"white\",\"linecolor\":\"white\",\"ticks\":\"\"},\"bgcolor\":\"#E5ECF6\",\"radialaxis\":{\"gridcolor\":\"white\",\"linecolor\":\"white\",\"ticks\":\"\"}},\"scene\":{\"xaxis\":{\"backgroundcolor\":\"#E5ECF6\",\"gridcolor\":\"white\",\"gridwidth\":2,\"linecolor\":\"white\",\"showbackground\":true,\"ticks\":\"\",\"zerolinecolor\":\"white\"},\"yaxis\":{\"backgroundcolor\":\"#E5ECF6\",\"gridcolor\":\"white\",\"gridwidth\":2,\"linecolor\":\"white\",\"showbackground\":true,\"ticks\":\"\",\"zerolinecolor\":\"white\"},\"zaxis\":{\"backgroundcolor\":\"#E5ECF6\",\"gridcolor\":\"white\",\"gridwidth\":2,\"linecolor\":\"white\",\"showbackground\":true,\"ticks\":\"\",\"zerolinecolor\":\"white\"}},\"shapedefaults\":{\"line\":{\"color\":\"#2a3f5f\"}},\"ternary\":{\"aaxis\":{\"gridcolor\":\"white\",\"linecolor\":\"white\",\"ticks\":\"\"},\"baxis\":{\"gridcolor\":\"white\",\"linecolor\":\"white\",\"ticks\":\"\"},\"bgcolor\":\"#E5ECF6\",\"caxis\":{\"gridcolor\":\"white\",\"linecolor\":\"white\",\"ticks\":\"\"}},\"title\":{\"x\":0.05},\"xaxis\":{\"automargin\":true,\"gridcolor\":\"white\",\"linecolor\":\"white\",\"ticks\":\"\",\"title\":{\"standoff\":15},\"zerolinecolor\":\"white\",\"zerolinewidth\":2},\"yaxis\":{\"automargin\":true,\"gridcolor\":\"white\",\"linecolor\":\"white\",\"ticks\":\"\",\"title\":{\"standoff\":15},\"zerolinecolor\":\"white\",\"zerolinewidth\":2}}},\"xaxis\":{\"anchor\":\"y\",\"domain\":[0.0,0.2888888888888889]},\"xaxis2\":{\"anchor\":\"y2\",\"domain\":[0.35555555555555557,0.6444444444444445]},\"xaxis3\":{\"anchor\":\"y3\",\"domain\":[0.7111111111111111,1.0]},\"yaxis\":{\"anchor\":\"x\",\"domain\":[0.0,1.0],\"title\":{\"text\":\"Production (Mt of naphtha)\"}},\"yaxis2\":{\"anchor\":\"x2\",\"domain\":[0.0,1.0],\"matches\":\"y\",\"showticklabels\":false},\"yaxis3\":{\"anchor\":\"x3\",\"domain\":[0.0,1.0],\"matches\":\"y\",\"showticklabels\":false}},                        {\"responsive\": true}                    ).then(function(){\n",
       "                            \n",
       "var gd = document.getElementById('814ae078-4dbf-4f45-8458-947ed45f08fb');\n",
       "var x = new MutationObserver(function (mutations, observer) {{\n",
       "        var display = window.getComputedStyle(gd).display;\n",
       "        if (!display || display === 'none') {{\n",
       "            console.log([gd, 'removed!']);\n",
       "            Plotly.purge(gd);\n",
       "            observer.disconnect();\n",
       "        }}\n",
       "}});\n",
       "\n",
       "// Listen for the removal of the full notebook cells\n",
       "var notebookContainer = gd.closest('#notebook-container');\n",
       "if (notebookContainer) {{\n",
       "    x.observe(notebookContainer, {childList: true});\n",
       "}}\n",
       "\n",
       "// Listen for the clearing of the current output cell\n",
       "var outputEl = gd.closest('.output');\n",
       "if (outputEl) {{\n",
       "    x.observe(outputEl, {childList: true});\n",
       "}}\n",
       "\n",
       "                        })                };                });            </script>        </div>"
      ]
     },
     "metadata": {},
     "output_type": "display_data"
    }
   ],
   "source": [
    "naphtha_techs=[\"Oil_Refining_for_Naphtha\",\"BioNaphtha_making\"]\n",
    "naphtha_techs_colors={\"Oil_Refining_for_Naphtha\":\"black\",\"BioNaphtha_making\":\"green\"}\n",
    "naphtha_techs_name={\"Oil_Refining_for_Naphtha\":\"Oil refining\",\"BioNaphtha_making\":\"Bionaphtha\"}\n",
    "\n",
    "\n",
    "\n",
    "fig =make_subplots(rows=1, cols=3,subplot_titles=list(scen.keys()),shared_yaxes=True)\n",
    "for i in range(len(scen.keys())):\n",
    "    showlegend=[True,False,False]\n",
    "    tech_usage_flow=scen[list(scen.keys())[i]]['tech_usage_flow']\n",
    "    tech_usage=tech_usage_flow[(tech_usage_flow.Resource.isin([\"Naphtha\"]))]\n",
    "    naphtha_tech_usage=tech_usage[tech_usage.Technology.isin(naphtha_techs)]\n",
    "    for tech in naphtha_techs:\n",
    "        u=naphtha_tech_usage[naphtha_tech_usage.Technology==tech]\n",
    "        u=u[[\"Year\",\"Flow\"]].groupby(by=[\"Year\"]).sum().reset_index()\n",
    "        fig.add_trace(go.Scatter(x=u.Year,y=u.Flow*1e-6,name=naphtha_techs_name[tech],line=dict(width=0,color=naphtha_techs_colors[tech]),\n",
    "                                 fillcolor=naphtha_techs_colors[tech],hoverinfo=\"x+y\",mode='lines',stackgroup='one',showlegend=showlegend[i]),row=1, col=i+1)\n",
    "#         fig.update_xaxes(title_text=\"Year\", row=1, col=i+1)\n",
    "        \n",
    "fig.update_layout(#title='Naphtha production per technology in EU-5+1',title_x=0.5,\n",
    "                   yaxis_title='Production (Mt of naphtha)')\n",
    "fig.update_layout(\n",
    "    font=dict(\n",
    "        family=\"Times New Roman\",size=24)\n",
    "    )\n",
    "fig.update_annotations(font_size=24)\n",
    "fig.update_layout(legend=dict(\n",
    "    orientation=\"h\",\n",
    "    yanchor=\"bottom\",\n",
    "    y=1.1,\n",
    "    xanchor=\"right\",\n",
    "    x=0.65,font = dict(size=20)\n",
    "))\n",
    "fig.add_annotation(dict(font=dict(color=\"black\",size=28),\n",
    "                                        x=-0.05,\n",
    "                                        y=1.15,\n",
    "                                        showarrow=False,\n",
    "                                        text=\"(a)\",\n",
    "                                        textangle=0,\n",
    "                                        xanchor='left',\n",
    "                                        xref=\"paper\",\n",
    "                                        yref=\"paper\"))\n",
    "fig.show()\n"
   ]
  },
  {
   "cell_type": "code",
   "execution_count": 76,
   "id": "1d726a6d",
   "metadata": {},
   "outputs": [
    {
     "data": {
      "application/vnd.plotly.v1+json": {
       "config": {
        "plotlyServerURL": "https://plot.ly"
       },
       "data": [
        {
         "fillcolor": "blue",
         "line": {
          "color": "blue",
          "width": 0
         },
         "mode": "lines",
         "name": "France",
         "showlegend": true,
         "stackgroup": "one",
         "type": "scatter",
         "x": [
          2015,
          2016,
          2017,
          2018,
          2019,
          2020,
          2021,
          2022,
          2023,
          2024,
          2025,
          2026,
          2027,
          2028,
          2029,
          2030,
          2031,
          2032,
          2033,
          2034,
          2035,
          2036,
          2037,
          2038,
          2039,
          2040,
          2041,
          2042,
          2043,
          2044,
          2045,
          2046,
          2047,
          2048,
          2049,
          2050
         ],
         "xaxis": "x",
         "y": [
          1.1170831639416703,
          1.1170831639416703,
          1.1170831639416703,
          1.1170831639416703,
          1.1170831639416703,
          1.1170831639416703,
          1.114644466048019,
          1.1122057681543673,
          1.1097670702607159,
          1.1073283723670646,
          1.104889674473413,
          1.1024509765797612,
          1.3367702695536898,
          1.3343315716600384,
          1.3318928737663869,
          1.9905115882574862,
          1.9961811123408815,
          2.0201273823343975,
          2.0220220177740793,
          2.082558616399418,
          3.476938908415713,
          3.4491452724757172,
          3.46836809201622,
          4.770707192379456,
          5.40036438489677,
          5.556008084583167,
          5.481326169750941,
          6.466676619307218,
          7.432528210416004,
          8.378309868885545,
          8.235016102043101,
          8.732681994320009,
          8.743804488728202,
          7.756870189279186,
          5.71614203768301,
          4.2493120397259005
         ],
         "yaxis": "y"
        },
        {
         "fillcolor": "black",
         "line": {
          "color": "black",
          "width": 0
         },
         "mode": "lines",
         "name": "Germany",
         "showlegend": true,
         "stackgroup": "one",
         "type": "scatter",
         "x": [
          2015,
          2016,
          2017,
          2018,
          2019,
          2020,
          2021,
          2022,
          2023,
          2024,
          2025,
          2026,
          2027,
          2028,
          2029,
          2030,
          2031,
          2032,
          2033,
          2034,
          2035,
          2036,
          2037,
          2038,
          2039,
          2040,
          2041,
          2042,
          2043,
          2044,
          2045,
          2046,
          2047,
          2048,
          2049,
          2050
         ],
         "xaxis": "x",
         "y": [
          2.82303148475475,
          2.82303148475475,
          2.82303148475475,
          2.82303148475475,
          2.82303148475475,
          2.82303148475475,
          2.8179323891589334,
          2.812833293563117,
          2.8077341979673,
          2.8026351023714833,
          2.8074847926881916,
          2.8020974215870726,
          2.7967100504859532,
          2.7913226793848342,
          2.7859353082837157,
          2.9732162414821994,
          3.0731660543535115,
          3.8743326368743043,
          5.086879486071288,
          6.281161495085623,
          7.654619942859247,
          7.698242967030705,
          7.756977596496789,
          7.854196881973771,
          8.036269921890131,
          9.40678213766325,
          10.781727387265606,
          11.414163806951324,
          11.462792457125396,
          11.36870562728582,
          11.306882088134735,
          12.343253627170068,
          13.171530253520215,
          14.484070415039264,
          16.306868088421503,
          18.25738147388534
         ],
         "yaxis": "y"
        },
        {
         "fillcolor": "green",
         "line": {
          "color": "green",
          "width": 0
         },
         "mode": "lines",
         "name": "Italy",
         "showlegend": true,
         "stackgroup": "one",
         "type": "scatter",
         "x": [
          2015,
          2016,
          2017,
          2018,
          2019,
          2020,
          2021,
          2022,
          2023,
          2024,
          2025,
          2026,
          2027,
          2028,
          2029,
          2030,
          2031,
          2032,
          2033,
          2034,
          2035,
          2036,
          2037,
          2038,
          2039,
          2040,
          2041,
          2042,
          2043,
          2044,
          2045,
          2046,
          2047,
          2048,
          2049,
          2050
         ],
         "xaxis": "x",
         "y": [
          2.0644711076741786,
          2.0644711076741786,
          2.0644711076741786,
          2.0644711076741786,
          2.0644711076741786,
          2.0644711076741786,
          2.0639833680954487,
          2.0634956285167183,
          2.0630078889379875,
          2.0625201493592575,
          2.062032409780527,
          2.061544670201797,
          2.061056930623067,
          2.0605691910443364,
          2.060081451465606,
          2.07011390169796,
          2.0689519326671753,
          2.108776623140374,
          2.107614654109589,
          2.1064526850788035,
          2.174832896375099,
          2.1753356872055094,
          2.1769251822573814,
          2.1791851390081898,
          2.177783524361163,
          2.351632599899799,
          2.430022527333989,
          2.426153739934335,
          2.421731983251109,
          2.4175193297999007,
          2.4125612689910567,
          2.4148170814008347,
          2.4105618087644025,
          2.406305138865809,
          2.4020484689672164,
          3.530726708192091
         ],
         "yaxis": "y"
        },
        {
         "fillcolor": "yellow",
         "line": {
          "color": "yellow",
          "width": 0
         },
         "mode": "lines",
         "name": "Belgium",
         "showlegend": true,
         "stackgroup": "one",
         "type": "scatter",
         "x": [
          2015,
          2016,
          2017,
          2018,
          2019,
          2020,
          2021,
          2022,
          2023,
          2024,
          2025,
          2026,
          2027,
          2028,
          2029,
          2030,
          2031,
          2032,
          2033,
          2034,
          2035,
          2036,
          2037,
          2038,
          2039,
          2040,
          2041,
          2042,
          2043,
          2044,
          2045,
          2046,
          2047,
          2048,
          2049,
          2050
         ],
         "xaxis": "x",
         "y": [
          0.5450211371335985,
          0.5450211371335985,
          0.5450211371335985,
          0.5450211371335985,
          0.5450211371335985,
          0.5450211371335985,
          0.5429704139048461,
          0.5409196906760936,
          0.5388689674473413,
          0.5368182442185888,
          0.5349693046346824,
          0.5329185814059301,
          0.5308678581771776,
          0.5288171349484252,
          0.5267664117196729,
          0.8193070126918337,
          0.8220065035041773,
          0.8247059943165207,
          0.8274054851288641,
          0.8301049759412077,
          0.993191539069456,
          1.05160702002255,
          1.1534693606755768,
          1.1573514998897474,
          2.2890875203824566,
          2.3159539251614962,
          2.1460881676221604,
          2.078006015592769,
          3.1421732070846407,
          4.835920804301688,
          5.815979397186486,
          6.124113531291325,
          6.071914175159866,
          6.018510867016645,
          4.537744699762588,
          3.7373774105075053
         ],
         "yaxis": "y"
        },
        {
         "fillcolor": "orange",
         "line": {
          "color": "orange",
          "width": 0
         },
         "mode": "lines",
         "name": "Spain",
         "showlegend": true,
         "stackgroup": "one",
         "type": "scatter",
         "x": [
          2015,
          2016,
          2017,
          2018,
          2019,
          2020,
          2021,
          2022,
          2023,
          2024,
          2025,
          2026,
          2027,
          2028,
          2029,
          2030,
          2031,
          2032,
          2033,
          2034,
          2035,
          2036,
          2037,
          2038,
          2039,
          2040,
          2041,
          2042,
          2043,
          2044,
          2045,
          2046,
          2047,
          2048,
          2049,
          2050
         ],
         "xaxis": "x",
         "y": [
          1.3863131536308735,
          1.3863131536308735,
          1.3863131536308735,
          1.3863131536308735,
          1.3863131536308735,
          1.3863131536308735,
          1.3848166799234056,
          1.3833202062159375,
          1.3818237325084695,
          1.3803272588010016,
          1.6511024745912506,
          1.6496060008837825,
          1.6481095271763146,
          1.6466130534688466,
          1.6451165797613787,
          1.645766224775372,
          1.6673954645382234,
          1.6654173983650022,
          1.6634393321917809,
          1.6614612660185595,
          2.91908373866226,
          2.9215455258581535,
          2.9260956996152583,
          3.1857813526001197,
          3.1820072026874677,
          3.353099008886783,
          3.3561330848489037,
          3.317311811370155,
          3.3009467310534344,
          3.5789827924550797,
          2.4186381446559095,
          2.4133882229000374,
          2.4029120794663434,
          2.16061192409153,
          1.8758881183204734,
          2.102205849375708
         ],
         "yaxis": "y"
        },
        {
         "fillcolor": "red",
         "line": {
          "color": "red",
          "width": 0
         },
         "mode": "lines",
         "name": "Great Britain",
         "showlegend": true,
         "stackgroup": "one",
         "type": "scatter",
         "x": [
          2015,
          2016,
          2017,
          2018,
          2019,
          2020,
          2021,
          2022,
          2023,
          2024,
          2025,
          2026,
          2027,
          2028,
          2029,
          2030,
          2031,
          2032,
          2033,
          2034,
          2035,
          2036,
          2037,
          2038,
          2039,
          2040,
          2041,
          2042,
          2043,
          2044,
          2045,
          2046,
          2047,
          2048,
          2049,
          2050
         ],
         "xaxis": "x",
         "y": [
          0.5328954337899543,
          0.5328954337899543,
          0.5328954337899543,
          0.5328954337899543,
          0.5328954337899543,
          0.5328954337899543,
          0.5328954337899543,
          0.5328954337899543,
          0.5328954337899543,
          0.5328954337899543,
          0.5328954337899543,
          0.5328954337899543,
          0.5328954337899543,
          0.5328954337899543,
          0.5328954337899543,
          0.6029282739079032,
          0.6409577190071143,
          0.65506802151853,
          0.6691783240299456,
          0.6832886265413611,
          0.7324185254758048,
          0.7468410360871736,
          0.7612631586792302,
          0.7756848939748877,
          0.8108225668961733,
          0.9599779045746362,
          0.9728143021216744,
          0.9649328512727887,
          0.976869819908793,
          0.9896995926264833,
          0.9967327041746722,
          1.0103271333857702,
          1.0209812978659958,
          1.031635462346221,
          1.2519511802832324,
          3.3132286251786858
         ],
         "yaxis": "y"
        },
        {
         "fillcolor": "blue",
         "line": {
          "color": "blue",
          "width": 0
         },
         "mode": "lines",
         "name": "France",
         "showlegend": false,
         "stackgroup": "one",
         "type": "scatter",
         "x": [
          2015,
          2016,
          2017,
          2018,
          2019,
          2020,
          2021,
          2022,
          2023,
          2024,
          2025,
          2026,
          2027,
          2028,
          2029,
          2030,
          2031,
          2032,
          2033,
          2034,
          2035,
          2036,
          2037,
          2038,
          2039,
          2040,
          2041,
          2042,
          2043,
          2044,
          2045,
          2046,
          2047,
          2048,
          2049,
          2050
         ],
         "xaxis": "x2",
         "y": [
          1.1170831639416703,
          1.1170831639416703,
          1.1170831639416703,
          1.1170831639416703,
          1.1170831639416703,
          1.1170831639416703,
          1.114644466048019,
          1.1122057681543673,
          1.1097670702607159,
          1.1073283723670646,
          1.104889674473413,
          1.1024509765797612,
          1.3367702695536898,
          1.3343315716600384,
          1.3318928737663869,
          2.001049403328167,
          1.3787041548563745,
          2.052317810494171,
          2.109074545590513,
          2.4068798951981187,
          4.303629723255537,
          5.608510622393053,
          6.99268478673701,
          8.20243064057868,
          9.37025953869072,
          9.900887054960528,
          10.967556012327508,
          12.004932308982681,
          11.931068969454596,
          11.519908217483568,
          10.202871379585666,
          8.98582784069302,
          7.78704914198302,
          7.128783078776092,
          6.623700143291517,
          5.246467866714007
         ],
         "yaxis": "y2"
        },
        {
         "fillcolor": "black",
         "line": {
          "color": "black",
          "width": 0
         },
         "mode": "lines",
         "name": "Germany",
         "showlegend": false,
         "stackgroup": "one",
         "type": "scatter",
         "x": [
          2015,
          2016,
          2017,
          2018,
          2019,
          2020,
          2021,
          2022,
          2023,
          2024,
          2025,
          2026,
          2027,
          2028,
          2029,
          2030,
          2031,
          2032,
          2033,
          2034,
          2035,
          2036,
          2037,
          2038,
          2039,
          2040,
          2041,
          2042,
          2043,
          2044,
          2045,
          2046,
          2047,
          2048,
          2049,
          2050
         ],
         "xaxis": "x2",
         "y": [
          2.82303148475475,
          2.82303148475475,
          2.82303148475475,
          2.82303148475475,
          2.82303148475475,
          2.82303148475475,
          2.8179323891589334,
          2.812833293563117,
          2.8077341979673,
          2.8026351023714833,
          2.807484792688191,
          2.8020974215870726,
          2.834845332480072,
          2.9774317056711896,
          3.120018078862308,
          3.87876354677547,
          3.90642667219223,
          4.810793805000719,
          5.970074927393148,
          7.233807301895924,
          8.54558231992944,
          9.768527816825724,
          9.935485365358797,
          11.158787668323468,
          12.363825131105482,
          13.81849450390574,
          15.254899036523348,
          15.573660220632389,
          15.621164630666868,
          15.473718353301127,
          16.02810213010393,
          17.188440266672416,
          19.265652871627378,
          20.36516009716894,
          21.44640248252786,
          23.79842112359454
         ],
         "yaxis": "y2"
        },
        {
         "fillcolor": "green",
         "line": {
          "color": "green",
          "width": 0
         },
         "mode": "lines",
         "name": "Italy",
         "showlegend": false,
         "stackgroup": "one",
         "type": "scatter",
         "x": [
          2015,
          2016,
          2017,
          2018,
          2019,
          2020,
          2021,
          2022,
          2023,
          2024,
          2025,
          2026,
          2027,
          2028,
          2029,
          2030,
          2031,
          2032,
          2033,
          2034,
          2035,
          2036,
          2037,
          2038,
          2039,
          2040,
          2041,
          2042,
          2043,
          2044,
          2045,
          2046,
          2047,
          2048,
          2049,
          2050
         ],
         "xaxis": "x2",
         "y": [
          2.0644711076741786,
          2.0644711076741786,
          2.0644711076741786,
          2.0644711076741786,
          2.0644711076741786,
          2.0644711076741786,
          2.0639833680954487,
          2.0634956285167183,
          2.0630078889379875,
          2.0625201493592575,
          2.062032409780527,
          2.061544670201797,
          2.061056930623067,
          2.0605691910443364,
          2.184394665207943,
          2.606310978611016,
          2.6051490095802308,
          2.603987040549446,
          2.602825071518661,
          2.6649993603525357,
          2.753107855593037,
          2.7536106464234473,
          2.757195380939317,
          2.755786712178649,
          2.7554839819851256,
          2.9045803224335343,
          2.982970249867724,
          2.979151838711986,
          2.9712926414593843,
          2.9633656077327517,
          2.915165277551488,
          3.666555351505702,
          4.033469274377354,
          4.021511978625082,
          4.999916334786302,
          5.094738419919872
         ],
         "yaxis": "y2"
        },
        {
         "fillcolor": "yellow",
         "line": {
          "color": "yellow",
          "width": 0
         },
         "mode": "lines",
         "name": "Belgium",
         "showlegend": false,
         "stackgroup": "one",
         "type": "scatter",
         "x": [
          2015,
          2016,
          2017,
          2018,
          2019,
          2020,
          2021,
          2022,
          2023,
          2024,
          2025,
          2026,
          2027,
          2028,
          2029,
          2030,
          2031,
          2032,
          2033,
          2034,
          2035,
          2036,
          2037,
          2038,
          2039,
          2040,
          2041,
          2042,
          2043,
          2044,
          2045,
          2046,
          2047,
          2048,
          2049,
          2050
         ],
         "xaxis": "x2",
         "y": [
          0.5450211371335985,
          0.5450211371335985,
          0.5450211371335985,
          0.5450211371335985,
          0.5450211371335985,
          0.5450211371335985,
          0.5429704139048461,
          0.5409196906760936,
          0.5388689674473413,
          0.5368182442185888,
          0.5349693046346824,
          0.5329185814059301,
          0.5308678581771776,
          0.5288171349484252,
          0.5315015715370246,
          0.8440142138369535,
          0.839636871102498,
          0.8352595283680425,
          0.8492179443305602,
          0.8453798886166038,
          2.108513591684728,
          3.5274161524426413,
          4.756562593501288,
          5.9356961092936995,
          7.030428476818372,
          7.065637179499975,
          7.680399058966335,
          9.635895794809105,
          9.573032209792679,
          9.51123069086355,
          8.280740343105169,
          7.171420651349347,
          5.96248223813234,
          5.186276011503425,
          5.179396928370969,
          4.407971767953868
         ],
         "yaxis": "y2"
        },
        {
         "fillcolor": "orange",
         "line": {
          "color": "orange",
          "width": 0
         },
         "mode": "lines",
         "name": "Spain",
         "showlegend": false,
         "stackgroup": "one",
         "type": "scatter",
         "x": [
          2015,
          2016,
          2017,
          2018,
          2019,
          2020,
          2021,
          2022,
          2023,
          2024,
          2025,
          2026,
          2027,
          2028,
          2029,
          2030,
          2031,
          2032,
          2033,
          2034,
          2035,
          2036,
          2037,
          2038,
          2039,
          2040,
          2041,
          2042,
          2043,
          2044,
          2045,
          2046,
          2047,
          2048,
          2049,
          2050
         ],
         "xaxis": "x2",
         "y": [
          1.3863131536308735,
          1.3863131536308735,
          1.3863131536308735,
          1.3863131536308735,
          1.3863131536308735,
          1.3863131536308735,
          1.3848166799234056,
          1.3833202062159375,
          1.3818237325084695,
          1.3803272588010016,
          1.6511024745912506,
          1.6496060008837825,
          1.6481095271763146,
          1.6466130534688466,
          1.6451165797613787,
          1.9295829833013423,
          1.9276647006186478,
          1.9257464179359536,
          1.9655049921276944,
          1.9648124993530713,
          3.2015715969326433,
          4.430667828426195,
          5.753341377584173,
          6.967173252276458,
          7.321582763584214,
          7.458824282118009,
          7.424750948654278,
          7.379778447162327,
          7.334805945670373,
          7.289833444178424,
          6.085066655357006,
          5.4968445905390215,
          4.321727492032906,
          3.259048783579872,
          3.350924827295672,
          3.3377666405732183
         ],
         "yaxis": "y2"
        },
        {
         "fillcolor": "red",
         "line": {
          "color": "red",
          "width": 0
         },
         "mode": "lines",
         "name": "Great Britain",
         "showlegend": false,
         "stackgroup": "one",
         "type": "scatter",
         "x": [
          2015,
          2016,
          2017,
          2018,
          2019,
          2020,
          2021,
          2022,
          2023,
          2024,
          2025,
          2026,
          2027,
          2028,
          2029,
          2030,
          2031,
          2032,
          2033,
          2034,
          2035,
          2036,
          2037,
          2038,
          2039,
          2040,
          2041,
          2042,
          2043,
          2044,
          2045,
          2046,
          2047,
          2048,
          2049,
          2050
         ],
         "xaxis": "x2",
         "y": [
          0.5328954337899543,
          0.5328954337899543,
          0.5328954337899543,
          0.5328954337899543,
          0.5328954337899543,
          0.5328954337899543,
          0.5328954337899543,
          0.5328954337899543,
          0.5328954337899543,
          0.5328954337899543,
          0.5328954337899543,
          0.5328954337899543,
          0.5328954337899543,
          0.5328954337899543,
          0.6627931697108066,
          1.1134344816008594,
          1.1075753933879486,
          1.1009693716984512,
          1.1152761649436411,
          1.1207673808015048,
          1.1368872272538997,
          1.1601424241616263,
          1.2485971572609775,
          1.2630188925566348,
          1.290162403088612,
          1.439309277546883,
          1.452137211855244,
          1.4503764427556847,
          1.4583688911558956,
          1.474666461880957,
          1.6550535319251949,
          2.420059982603271,
          2.7268267471586976,
          2.729045719248931,
          3.4784862298574746,
          5.619411163421511
         ],
         "yaxis": "y2"
        },
        {
         "fillcolor": "blue",
         "line": {
          "color": "blue",
          "width": 0
         },
         "mode": "lines",
         "name": "France",
         "showlegend": false,
         "stackgroup": "one",
         "type": "scatter",
         "x": [
          2015,
          2016,
          2017,
          2018,
          2019,
          2020,
          2021,
          2022,
          2023,
          2024,
          2025,
          2026,
          2027,
          2028,
          2029,
          2030,
          2031,
          2032,
          2033,
          2034,
          2035,
          2036,
          2037,
          2038,
          2039,
          2040,
          2041,
          2042,
          2043,
          2044,
          2045,
          2046,
          2047,
          2048,
          2049,
          2050
         ],
         "xaxis": "x3",
         "y": [
          1.1170831639416703,
          1.1170831639416703,
          1.1170831639416703,
          1.1170831639416703,
          1.1170831639416703,
          1.1170831639416703,
          1.114644466048019,
          1.1122057681543673,
          1.1097670702607159,
          1.1073283723670646,
          1.104889674473413,
          1.1024509765797612,
          1.3367702695536898,
          1.3343315716600384,
          1.3318928737663869,
          1.9828262982091125,
          1.375002100061854,
          2.0486157556996503,
          2.1056149072386345,
          2.430654555691384,
          4.3274115136441775,
          5.644817288832549,
          7.028991453176497,
          8.260635403454033,
          9.316086045171946,
          9.85379334328152,
          10.921023669329365,
          11.960519481437107,
          11.888101964001628,
          11.331847587662551,
          10.067858993498332,
          8.767988089221681,
          7.651788074672491,
          7.843695320113771,
          7.853958820607456,
          9.441142064936903
         ],
         "yaxis": "y3"
        },
        {
         "fillcolor": "black",
         "line": {
          "color": "black",
          "width": 0
         },
         "mode": "lines",
         "name": "Germany",
         "showlegend": false,
         "stackgroup": "one",
         "type": "scatter",
         "x": [
          2015,
          2016,
          2017,
          2018,
          2019,
          2020,
          2021,
          2022,
          2023,
          2024,
          2025,
          2026,
          2027,
          2028,
          2029,
          2030,
          2031,
          2032,
          2033,
          2034,
          2035,
          2036,
          2037,
          2038,
          2039,
          2040,
          2041,
          2042,
          2043,
          2044,
          2045,
          2046,
          2047,
          2048,
          2049,
          2050
         ],
         "xaxis": "x3",
         "y": [
          2.82303148475475,
          2.82303148475475,
          2.82303148475475,
          2.82303148475475,
          2.82303148475475,
          2.82303148475475,
          2.8179323891589334,
          2.812833293563117,
          2.8077341979673,
          2.8026351023714833,
          2.8074847926881916,
          2.8020974215870726,
          2.8642089806885,
          3.006795353879618,
          3.1493817270707365,
          3.872352337933174,
          3.959830568548155,
          4.864197701356643,
          6.023478823749072,
          7.243446724405636,
          8.540512329562763,
          9.763457826459039,
          9.989142671408974,
          11.21244497437364,
          12.438449112510675,
          13.893118485310932,
          15.32952301792854,
          15.647989786453653,
          15.66998079929962,
          16.173081467914493,
          17.266155155711786,
          18.45398894700776,
          20.63813661691922,
          21.801379219810496,
          22.942242827267986,
          25.171161453079847
         ],
         "yaxis": "y3"
        },
        {
         "fillcolor": "green",
         "line": {
          "color": "green",
          "width": 0
         },
         "mode": "lines",
         "name": "Italy",
         "showlegend": false,
         "stackgroup": "one",
         "type": "scatter",
         "x": [
          2015,
          2016,
          2017,
          2018,
          2019,
          2020,
          2021,
          2022,
          2023,
          2024,
          2025,
          2026,
          2027,
          2028,
          2029,
          2030,
          2031,
          2032,
          2033,
          2034,
          2035,
          2036,
          2037,
          2038,
          2039,
          2040,
          2041,
          2042,
          2043,
          2044,
          2045,
          2046,
          2047,
          2048,
          2049,
          2050
         ],
         "xaxis": "x3",
         "y": [
          2.0644711076741786,
          2.0644711076741786,
          2.0644711076741786,
          2.0644711076741786,
          2.0644711076741786,
          2.0644711076741786,
          2.0639833680954487,
          2.0634956285167183,
          2.0630078889379875,
          2.0625201493592575,
          2.062032409780527,
          2.061544670201797,
          2.061056930623067,
          2.0605691910443364,
          2.1843946652079436,
          2.606310978611016,
          2.6051490095802308,
          2.603987040549446,
          2.602825071518661,
          2.6651920289594253,
          2.7533060290172675,
          2.7538088198476762,
          2.7573004580299005,
          2.7564906141172973,
          2.7304236918047122,
          2.9047784958577636,
          2.9829381821222696,
          2.9791197709665305,
          2.9712605737139306,
          2.963333539987297,
          2.9089796369965044,
          3.662719523827414,
          4.033469274377355,
          4.021511978625082,
          4.999916334786301,
          5.094738419919871
         ],
         "yaxis": "y3"
        },
        {
         "fillcolor": "yellow",
         "line": {
          "color": "yellow",
          "width": 0
         },
         "mode": "lines",
         "name": "Belgium",
         "showlegend": false,
         "stackgroup": "one",
         "type": "scatter",
         "x": [
          2015,
          2016,
          2017,
          2018,
          2019,
          2020,
          2021,
          2022,
          2023,
          2024,
          2025,
          2026,
          2027,
          2028,
          2029,
          2030,
          2031,
          2032,
          2033,
          2034,
          2035,
          2036,
          2037,
          2038,
          2039,
          2040,
          2041,
          2042,
          2043,
          2044,
          2045,
          2046,
          2047,
          2048,
          2049,
          2050
         ],
         "xaxis": "x3",
         "y": [
          0.5450211371335985,
          0.5450211371335985,
          0.5450211371335985,
          0.5450211371335985,
          0.5450211371335985,
          0.5450211371335985,
          0.5429704139048461,
          0.5409196906760936,
          0.5388689674473413,
          0.5368182442185888,
          0.5349693046346824,
          0.5329185814059301,
          0.5308678581771776,
          0.5288171349484252,
          0.5505190638319318,
          0.8799597007098734,
          0.8778862333413712,
          0.8735088906069156,
          0.8874558659629115,
          0.9195270628016236,
          2.175278237600499,
          3.8613523331560557,
          5.2415799398818805,
          6.449068874495125,
          7.632634826857021,
          7.673481569916071,
          7.732014957437075,
          9.72380947304147,
          9.655393753081599,
          9.550617442570141,
          8.471979378622041,
          7.246974919934911,
          5.992937564180618,
          5.465966104348252,
          5.9718875128933515,
          7.152311232486473
         ],
         "yaxis": "y3"
        },
        {
         "fillcolor": "orange",
         "line": {
          "color": "orange",
          "width": 0
         },
         "mode": "lines",
         "name": "Spain",
         "showlegend": false,
         "stackgroup": "one",
         "type": "scatter",
         "x": [
          2015,
          2016,
          2017,
          2018,
          2019,
          2020,
          2021,
          2022,
          2023,
          2024,
          2025,
          2026,
          2027,
          2028,
          2029,
          2030,
          2031,
          2032,
          2033,
          2034,
          2035,
          2036,
          2037,
          2038,
          2039,
          2040,
          2041,
          2042,
          2043,
          2044,
          2045,
          2046,
          2047,
          2048,
          2049,
          2050
         ],
         "xaxis": "x3",
         "y": [
          1.3863131536308735,
          1.3863131536308735,
          1.3863131536308735,
          1.3863131536308735,
          1.3863131536308735,
          1.3863131536308735,
          1.3848166799234056,
          1.3833202062159375,
          1.3818237325084695,
          1.3803272588010016,
          1.6511024745912506,
          1.6496060008837825,
          1.6481095271763146,
          1.6466130534688466,
          1.6451165797613787,
          1.9295829833013425,
          1.9276647006186476,
          1.9257464179359536,
          1.9656987596352833,
          1.9650119659050012,
          3.2017767625289117,
          4.430872994022459,
          5.711102949413892,
          6.986812402373533,
          7.341221913681294,
          7.478463432215094,
          7.4441517339602825,
          7.399179232468331,
          7.354206730976379,
          7.309234229484428,
          6.100112828471344,
          5.456768665810948,
          4.282281354085433,
          3.2200046444904626,
          3.266655816674116,
          3.25430162766779
         ],
         "yaxis": "y3"
        },
        {
         "fillcolor": "red",
         "line": {
          "color": "red",
          "width": 0
         },
         "mode": "lines",
         "name": "Great Britain",
         "showlegend": false,
         "stackgroup": "one",
         "type": "scatter",
         "x": [
          2015,
          2016,
          2017,
          2018,
          2019,
          2020,
          2021,
          2022,
          2023,
          2024,
          2025,
          2026,
          2027,
          2028,
          2029,
          2030,
          2031,
          2032,
          2033,
          2034,
          2035,
          2036,
          2037,
          2038,
          2039,
          2040,
          2041,
          2042,
          2043,
          2044,
          2045,
          2046,
          2047,
          2048,
          2049,
          2050
         ],
         "xaxis": "x3",
         "y": [
          0.5328954337899543,
          0.5328954337899543,
          0.5328954337899543,
          0.5328954337899543,
          0.5328954337899543,
          0.5328954337899543,
          0.5328954337899543,
          0.5328954337899543,
          0.5328954337899543,
          0.5328954337899543,
          0.5328954337899543,
          0.5328954337899543,
          0.5328954337899543,
          0.5328954337899543,
          0.6642274414449965,
          1.112109677410541,
          1.110183914594007,
          1.1035778929045095,
          1.1095873612233687,
          1.1234508642700134,
          1.1188565283004244,
          1.159959505940681,
          1.251282782508415,
          1.2657045178040733,
          1.292848028336049,
          1.4419053220407785,
          1.4547332563491389,
          1.4529724872495802,
          1.458356414443733,
          1.4746539851687943,
          1.6679704470666294,
          2.434295733494429,
          2.742470682289918,
          2.7445767936535264,
          3.706100248569984,
          5.6194111634215105
         ],
         "yaxis": "y3"
        }
       ],
       "layout": {
        "annotations": [
         {
          "font": {
           "size": 24
          },
          "showarrow": false,
          "text": "High electricity price",
          "x": 0.14444444444444446,
          "xanchor": "center",
          "xref": "paper",
          "y": 1,
          "yanchor": "bottom",
          "yref": "paper"
         },
         {
          "font": {
           "size": 24
          },
          "showarrow": false,
          "text": "Reference",
          "x": 0.5,
          "xanchor": "center",
          "xref": "paper",
          "y": 1,
          "yanchor": "bottom",
          "yref": "paper"
         },
         {
          "font": {
           "size": 24
          },
          "showarrow": false,
          "text": "Fossil phase-out",
          "x": 0.8555555555555556,
          "xanchor": "center",
          "xref": "paper",
          "y": 1,
          "yanchor": "bottom",
          "yref": "paper"
         }
        ],
        "font": {
         "family": "Times New Roman",
         "size": 24
        },
        "legend": {
         "font": {
          "size": 16
         },
         "orientation": "h",
         "x": 0.8,
         "xanchor": "right",
         "y": 1.1,
         "yanchor": "bottom"
        },
        "template": {
         "data": {
          "bar": [
           {
            "error_x": {
             "color": "#2a3f5f"
            },
            "error_y": {
             "color": "#2a3f5f"
            },
            "marker": {
             "line": {
              "color": "#E5ECF6",
              "width": 0.5
             },
             "pattern": {
              "fillmode": "overlay",
              "size": 10,
              "solidity": 0.2
             }
            },
            "type": "bar"
           }
          ],
          "barpolar": [
           {
            "marker": {
             "line": {
              "color": "#E5ECF6",
              "width": 0.5
             },
             "pattern": {
              "fillmode": "overlay",
              "size": 10,
              "solidity": 0.2
             }
            },
            "type": "barpolar"
           }
          ],
          "carpet": [
           {
            "aaxis": {
             "endlinecolor": "#2a3f5f",
             "gridcolor": "white",
             "linecolor": "white",
             "minorgridcolor": "white",
             "startlinecolor": "#2a3f5f"
            },
            "baxis": {
             "endlinecolor": "#2a3f5f",
             "gridcolor": "white",
             "linecolor": "white",
             "minorgridcolor": "white",
             "startlinecolor": "#2a3f5f"
            },
            "type": "carpet"
           }
          ],
          "choropleth": [
           {
            "colorbar": {
             "outlinewidth": 0,
             "ticks": ""
            },
            "type": "choropleth"
           }
          ],
          "contour": [
           {
            "colorbar": {
             "outlinewidth": 0,
             "ticks": ""
            },
            "colorscale": [
             [
              0,
              "#0d0887"
             ],
             [
              0.1111111111111111,
              "#46039f"
             ],
             [
              0.2222222222222222,
              "#7201a8"
             ],
             [
              0.3333333333333333,
              "#9c179e"
             ],
             [
              0.4444444444444444,
              "#bd3786"
             ],
             [
              0.5555555555555556,
              "#d8576b"
             ],
             [
              0.6666666666666666,
              "#ed7953"
             ],
             [
              0.7777777777777778,
              "#fb9f3a"
             ],
             [
              0.8888888888888888,
              "#fdca26"
             ],
             [
              1,
              "#f0f921"
             ]
            ],
            "type": "contour"
           }
          ],
          "contourcarpet": [
           {
            "colorbar": {
             "outlinewidth": 0,
             "ticks": ""
            },
            "type": "contourcarpet"
           }
          ],
          "heatmap": [
           {
            "colorbar": {
             "outlinewidth": 0,
             "ticks": ""
            },
            "colorscale": [
             [
              0,
              "#0d0887"
             ],
             [
              0.1111111111111111,
              "#46039f"
             ],
             [
              0.2222222222222222,
              "#7201a8"
             ],
             [
              0.3333333333333333,
              "#9c179e"
             ],
             [
              0.4444444444444444,
              "#bd3786"
             ],
             [
              0.5555555555555556,
              "#d8576b"
             ],
             [
              0.6666666666666666,
              "#ed7953"
             ],
             [
              0.7777777777777778,
              "#fb9f3a"
             ],
             [
              0.8888888888888888,
              "#fdca26"
             ],
             [
              1,
              "#f0f921"
             ]
            ],
            "type": "heatmap"
           }
          ],
          "heatmapgl": [
           {
            "colorbar": {
             "outlinewidth": 0,
             "ticks": ""
            },
            "colorscale": [
             [
              0,
              "#0d0887"
             ],
             [
              0.1111111111111111,
              "#46039f"
             ],
             [
              0.2222222222222222,
              "#7201a8"
             ],
             [
              0.3333333333333333,
              "#9c179e"
             ],
             [
              0.4444444444444444,
              "#bd3786"
             ],
             [
              0.5555555555555556,
              "#d8576b"
             ],
             [
              0.6666666666666666,
              "#ed7953"
             ],
             [
              0.7777777777777778,
              "#fb9f3a"
             ],
             [
              0.8888888888888888,
              "#fdca26"
             ],
             [
              1,
              "#f0f921"
             ]
            ],
            "type": "heatmapgl"
           }
          ],
          "histogram": [
           {
            "marker": {
             "pattern": {
              "fillmode": "overlay",
              "size": 10,
              "solidity": 0.2
             }
            },
            "type": "histogram"
           }
          ],
          "histogram2d": [
           {
            "colorbar": {
             "outlinewidth": 0,
             "ticks": ""
            },
            "colorscale": [
             [
              0,
              "#0d0887"
             ],
             [
              0.1111111111111111,
              "#46039f"
             ],
             [
              0.2222222222222222,
              "#7201a8"
             ],
             [
              0.3333333333333333,
              "#9c179e"
             ],
             [
              0.4444444444444444,
              "#bd3786"
             ],
             [
              0.5555555555555556,
              "#d8576b"
             ],
             [
              0.6666666666666666,
              "#ed7953"
             ],
             [
              0.7777777777777778,
              "#fb9f3a"
             ],
             [
              0.8888888888888888,
              "#fdca26"
             ],
             [
              1,
              "#f0f921"
             ]
            ],
            "type": "histogram2d"
           }
          ],
          "histogram2dcontour": [
           {
            "colorbar": {
             "outlinewidth": 0,
             "ticks": ""
            },
            "colorscale": [
             [
              0,
              "#0d0887"
             ],
             [
              0.1111111111111111,
              "#46039f"
             ],
             [
              0.2222222222222222,
              "#7201a8"
             ],
             [
              0.3333333333333333,
              "#9c179e"
             ],
             [
              0.4444444444444444,
              "#bd3786"
             ],
             [
              0.5555555555555556,
              "#d8576b"
             ],
             [
              0.6666666666666666,
              "#ed7953"
             ],
             [
              0.7777777777777778,
              "#fb9f3a"
             ],
             [
              0.8888888888888888,
              "#fdca26"
             ],
             [
              1,
              "#f0f921"
             ]
            ],
            "type": "histogram2dcontour"
           }
          ],
          "mesh3d": [
           {
            "colorbar": {
             "outlinewidth": 0,
             "ticks": ""
            },
            "type": "mesh3d"
           }
          ],
          "parcoords": [
           {
            "line": {
             "colorbar": {
              "outlinewidth": 0,
              "ticks": ""
             }
            },
            "type": "parcoords"
           }
          ],
          "pie": [
           {
            "automargin": true,
            "type": "pie"
           }
          ],
          "scatter": [
           {
            "marker": {
             "colorbar": {
              "outlinewidth": 0,
              "ticks": ""
             }
            },
            "type": "scatter"
           }
          ],
          "scatter3d": [
           {
            "line": {
             "colorbar": {
              "outlinewidth": 0,
              "ticks": ""
             }
            },
            "marker": {
             "colorbar": {
              "outlinewidth": 0,
              "ticks": ""
             }
            },
            "type": "scatter3d"
           }
          ],
          "scattercarpet": [
           {
            "marker": {
             "colorbar": {
              "outlinewidth": 0,
              "ticks": ""
             }
            },
            "type": "scattercarpet"
           }
          ],
          "scattergeo": [
           {
            "marker": {
             "colorbar": {
              "outlinewidth": 0,
              "ticks": ""
             }
            },
            "type": "scattergeo"
           }
          ],
          "scattergl": [
           {
            "marker": {
             "colorbar": {
              "outlinewidth": 0,
              "ticks": ""
             }
            },
            "type": "scattergl"
           }
          ],
          "scattermapbox": [
           {
            "marker": {
             "colorbar": {
              "outlinewidth": 0,
              "ticks": ""
             }
            },
            "type": "scattermapbox"
           }
          ],
          "scatterpolar": [
           {
            "marker": {
             "colorbar": {
              "outlinewidth": 0,
              "ticks": ""
             }
            },
            "type": "scatterpolar"
           }
          ],
          "scatterpolargl": [
           {
            "marker": {
             "colorbar": {
              "outlinewidth": 0,
              "ticks": ""
             }
            },
            "type": "scatterpolargl"
           }
          ],
          "scatterternary": [
           {
            "marker": {
             "colorbar": {
              "outlinewidth": 0,
              "ticks": ""
             }
            },
            "type": "scatterternary"
           }
          ],
          "surface": [
           {
            "colorbar": {
             "outlinewidth": 0,
             "ticks": ""
            },
            "colorscale": [
             [
              0,
              "#0d0887"
             ],
             [
              0.1111111111111111,
              "#46039f"
             ],
             [
              0.2222222222222222,
              "#7201a8"
             ],
             [
              0.3333333333333333,
              "#9c179e"
             ],
             [
              0.4444444444444444,
              "#bd3786"
             ],
             [
              0.5555555555555556,
              "#d8576b"
             ],
             [
              0.6666666666666666,
              "#ed7953"
             ],
             [
              0.7777777777777778,
              "#fb9f3a"
             ],
             [
              0.8888888888888888,
              "#fdca26"
             ],
             [
              1,
              "#f0f921"
             ]
            ],
            "type": "surface"
           }
          ],
          "table": [
           {
            "cells": {
             "fill": {
              "color": "#EBF0F8"
             },
             "line": {
              "color": "white"
             }
            },
            "header": {
             "fill": {
              "color": "#C8D4E3"
             },
             "line": {
              "color": "white"
             }
            },
            "type": "table"
           }
          ]
         },
         "layout": {
          "annotationdefaults": {
           "arrowcolor": "#2a3f5f",
           "arrowhead": 0,
           "arrowwidth": 1
          },
          "autotypenumbers": "strict",
          "coloraxis": {
           "colorbar": {
            "outlinewidth": 0,
            "ticks": ""
           }
          },
          "colorscale": {
           "diverging": [
            [
             0,
             "#8e0152"
            ],
            [
             0.1,
             "#c51b7d"
            ],
            [
             0.2,
             "#de77ae"
            ],
            [
             0.3,
             "#f1b6da"
            ],
            [
             0.4,
             "#fde0ef"
            ],
            [
             0.5,
             "#f7f7f7"
            ],
            [
             0.6,
             "#e6f5d0"
            ],
            [
             0.7,
             "#b8e186"
            ],
            [
             0.8,
             "#7fbc41"
            ],
            [
             0.9,
             "#4d9221"
            ],
            [
             1,
             "#276419"
            ]
           ],
           "sequential": [
            [
             0,
             "#0d0887"
            ],
            [
             0.1111111111111111,
             "#46039f"
            ],
            [
             0.2222222222222222,
             "#7201a8"
            ],
            [
             0.3333333333333333,
             "#9c179e"
            ],
            [
             0.4444444444444444,
             "#bd3786"
            ],
            [
             0.5555555555555556,
             "#d8576b"
            ],
            [
             0.6666666666666666,
             "#ed7953"
            ],
            [
             0.7777777777777778,
             "#fb9f3a"
            ],
            [
             0.8888888888888888,
             "#fdca26"
            ],
            [
             1,
             "#f0f921"
            ]
           ],
           "sequentialminus": [
            [
             0,
             "#0d0887"
            ],
            [
             0.1111111111111111,
             "#46039f"
            ],
            [
             0.2222222222222222,
             "#7201a8"
            ],
            [
             0.3333333333333333,
             "#9c179e"
            ],
            [
             0.4444444444444444,
             "#bd3786"
            ],
            [
             0.5555555555555556,
             "#d8576b"
            ],
            [
             0.6666666666666666,
             "#ed7953"
            ],
            [
             0.7777777777777778,
             "#fb9f3a"
            ],
            [
             0.8888888888888888,
             "#fdca26"
            ],
            [
             1,
             "#f0f921"
            ]
           ]
          },
          "colorway": [
           "#636efa",
           "#EF553B",
           "#00cc96",
           "#ab63fa",
           "#FFA15A",
           "#19d3f3",
           "#FF6692",
           "#B6E880",
           "#FF97FF",
           "#FECB52"
          ],
          "font": {
           "color": "#2a3f5f"
          },
          "geo": {
           "bgcolor": "white",
           "lakecolor": "white",
           "landcolor": "#E5ECF6",
           "showlakes": true,
           "showland": true,
           "subunitcolor": "white"
          },
          "hoverlabel": {
           "align": "left"
          },
          "hovermode": "closest",
          "mapbox": {
           "style": "light"
          },
          "paper_bgcolor": "white",
          "plot_bgcolor": "#E5ECF6",
          "polar": {
           "angularaxis": {
            "gridcolor": "white",
            "linecolor": "white",
            "ticks": ""
           },
           "bgcolor": "#E5ECF6",
           "radialaxis": {
            "gridcolor": "white",
            "linecolor": "white",
            "ticks": ""
           }
          },
          "scene": {
           "xaxis": {
            "backgroundcolor": "#E5ECF6",
            "gridcolor": "white",
            "gridwidth": 2,
            "linecolor": "white",
            "showbackground": true,
            "ticks": "",
            "zerolinecolor": "white"
           },
           "yaxis": {
            "backgroundcolor": "#E5ECF6",
            "gridcolor": "white",
            "gridwidth": 2,
            "linecolor": "white",
            "showbackground": true,
            "ticks": "",
            "zerolinecolor": "white"
           },
           "zaxis": {
            "backgroundcolor": "#E5ECF6",
            "gridcolor": "white",
            "gridwidth": 2,
            "linecolor": "white",
            "showbackground": true,
            "ticks": "",
            "zerolinecolor": "white"
           }
          },
          "shapedefaults": {
           "line": {
            "color": "#2a3f5f"
           }
          },
          "ternary": {
           "aaxis": {
            "gridcolor": "white",
            "linecolor": "white",
            "ticks": ""
           },
           "baxis": {
            "gridcolor": "white",
            "linecolor": "white",
            "ticks": ""
           },
           "bgcolor": "#E5ECF6",
           "caxis": {
            "gridcolor": "white",
            "linecolor": "white",
            "ticks": ""
           }
          },
          "title": {
           "x": 0.05
          },
          "xaxis": {
           "automargin": true,
           "gridcolor": "white",
           "linecolor": "white",
           "ticks": "",
           "title": {
            "standoff": 15
           },
           "zerolinecolor": "white",
           "zerolinewidth": 2
          },
          "yaxis": {
           "automargin": true,
           "gridcolor": "white",
           "linecolor": "white",
           "ticks": "",
           "title": {
            "standoff": 15
           },
           "zerolinecolor": "white",
           "zerolinewidth": 2
          }
         }
        },
        "xaxis": {
         "anchor": "y",
         "domain": [
          0,
          0.2888888888888889
         ]
        },
        "xaxis2": {
         "anchor": "y2",
         "domain": [
          0.35555555555555557,
          0.6444444444444445
         ]
        },
        "xaxis3": {
         "anchor": "y3",
         "domain": [
          0.7111111111111111,
          1
         ]
        },
        "yaxis": {
         "anchor": "x",
         "domain": [
          0,
          1
         ],
         "title": {
          "text": "Power requirement (GW)"
         }
        },
        "yaxis2": {
         "anchor": "x2",
         "domain": [
          0,
          1
         ],
         "matches": "y",
         "showticklabels": false
        },
        "yaxis3": {
         "anchor": "x3",
         "domain": [
          0,
          1
         ],
         "matches": "y",
         "showticklabels": false
        }
       }
      },
      "text/html": [
       "<div>                            <div id=\"cc187d98-a9a6-410c-b5de-de6cc137aec0\" class=\"plotly-graph-div\" style=\"height:525px; width:100%;\"></div>            <script type=\"text/javascript\">                require([\"plotly\"], function(Plotly) {                    window.PLOTLYENV=window.PLOTLYENV || {};                                    if (document.getElementById(\"cc187d98-a9a6-410c-b5de-de6cc137aec0\")) {                    Plotly.newPlot(                        \"cc187d98-a9a6-410c-b5de-de6cc137aec0\",                        [{\"fillcolor\":\"blue\",\"line\":{\"color\":\"blue\",\"width\":0},\"mode\":\"lines\",\"name\":\"France\",\"showlegend\":true,\"stackgroup\":\"one\",\"type\":\"scatter\",\"x\":[2015,2016,2017,2018,2019,2020,2021,2022,2023,2024,2025,2026,2027,2028,2029,2030,2031,2032,2033,2034,2035,2036,2037,2038,2039,2040,2041,2042,2043,2044,2045,2046,2047,2048,2049,2050],\"xaxis\":\"x\",\"y\":[1.1170831639416703,1.1170831639416703,1.1170831639416703,1.1170831639416703,1.1170831639416703,1.1170831639416703,1.114644466048019,1.1122057681543673,1.1097670702607159,1.1073283723670646,1.104889674473413,1.1024509765797612,1.3367702695536898,1.3343315716600384,1.3318928737663869,1.9905115882574862,1.9961811123408815,2.0201273823343975,2.0220220177740793,2.082558616399418,3.476938908415713,3.4491452724757172,3.46836809201622,4.770707192379456,5.40036438489677,5.556008084583167,5.481326169750941,6.466676619307218,7.432528210416004,8.378309868885545,8.235016102043101,8.732681994320009,8.743804488728202,7.756870189279186,5.71614203768301,4.2493120397259005],\"yaxis\":\"y\"},{\"fillcolor\":\"black\",\"line\":{\"color\":\"black\",\"width\":0},\"mode\":\"lines\",\"name\":\"Germany\",\"showlegend\":true,\"stackgroup\":\"one\",\"type\":\"scatter\",\"x\":[2015,2016,2017,2018,2019,2020,2021,2022,2023,2024,2025,2026,2027,2028,2029,2030,2031,2032,2033,2034,2035,2036,2037,2038,2039,2040,2041,2042,2043,2044,2045,2046,2047,2048,2049,2050],\"xaxis\":\"x\",\"y\":[2.82303148475475,2.82303148475475,2.82303148475475,2.82303148475475,2.82303148475475,2.82303148475475,2.8179323891589334,2.812833293563117,2.8077341979673,2.8026351023714833,2.8074847926881916,2.8020974215870726,2.7967100504859532,2.7913226793848342,2.7859353082837157,2.9732162414821994,3.0731660543535115,3.8743326368743043,5.086879486071288,6.281161495085623,7.654619942859247,7.698242967030705,7.756977596496789,7.854196881973771,8.036269921890131,9.40678213766325,10.781727387265606,11.414163806951324,11.462792457125396,11.36870562728582,11.306882088134735,12.343253627170068,13.171530253520215,14.484070415039264,16.306868088421503,18.25738147388534],\"yaxis\":\"y\"},{\"fillcolor\":\"green\",\"line\":{\"color\":\"green\",\"width\":0},\"mode\":\"lines\",\"name\":\"Italy\",\"showlegend\":true,\"stackgroup\":\"one\",\"type\":\"scatter\",\"x\":[2015,2016,2017,2018,2019,2020,2021,2022,2023,2024,2025,2026,2027,2028,2029,2030,2031,2032,2033,2034,2035,2036,2037,2038,2039,2040,2041,2042,2043,2044,2045,2046,2047,2048,2049,2050],\"xaxis\":\"x\",\"y\":[2.0644711076741786,2.0644711076741786,2.0644711076741786,2.0644711076741786,2.0644711076741786,2.0644711076741786,2.0639833680954487,2.0634956285167183,2.0630078889379875,2.0625201493592575,2.062032409780527,2.061544670201797,2.061056930623067,2.0605691910443364,2.060081451465606,2.07011390169796,2.0689519326671753,2.108776623140374,2.107614654109589,2.1064526850788035,2.174832896375099,2.1753356872055094,2.1769251822573814,2.1791851390081898,2.177783524361163,2.351632599899799,2.430022527333989,2.426153739934335,2.421731983251109,2.4175193297999007,2.4125612689910567,2.4148170814008347,2.4105618087644025,2.406305138865809,2.4020484689672164,3.530726708192091],\"yaxis\":\"y\"},{\"fillcolor\":\"yellow\",\"line\":{\"color\":\"yellow\",\"width\":0},\"mode\":\"lines\",\"name\":\"Belgium\",\"showlegend\":true,\"stackgroup\":\"one\",\"type\":\"scatter\",\"x\":[2015,2016,2017,2018,2019,2020,2021,2022,2023,2024,2025,2026,2027,2028,2029,2030,2031,2032,2033,2034,2035,2036,2037,2038,2039,2040,2041,2042,2043,2044,2045,2046,2047,2048,2049,2050],\"xaxis\":\"x\",\"y\":[0.5450211371335985,0.5450211371335985,0.5450211371335985,0.5450211371335985,0.5450211371335985,0.5450211371335985,0.5429704139048461,0.5409196906760936,0.5388689674473413,0.5368182442185888,0.5349693046346824,0.5329185814059301,0.5308678581771776,0.5288171349484252,0.5267664117196729,0.8193070126918337,0.8220065035041773,0.8247059943165207,0.8274054851288641,0.8301049759412077,0.993191539069456,1.05160702002255,1.1534693606755768,1.1573514998897474,2.2890875203824566,2.3159539251614962,2.1460881676221604,2.078006015592769,3.1421732070846407,4.835920804301688,5.815979397186486,6.124113531291325,6.071914175159866,6.018510867016645,4.537744699762588,3.7373774105075053],\"yaxis\":\"y\"},{\"fillcolor\":\"orange\",\"line\":{\"color\":\"orange\",\"width\":0},\"mode\":\"lines\",\"name\":\"Spain\",\"showlegend\":true,\"stackgroup\":\"one\",\"type\":\"scatter\",\"x\":[2015,2016,2017,2018,2019,2020,2021,2022,2023,2024,2025,2026,2027,2028,2029,2030,2031,2032,2033,2034,2035,2036,2037,2038,2039,2040,2041,2042,2043,2044,2045,2046,2047,2048,2049,2050],\"xaxis\":\"x\",\"y\":[1.3863131536308735,1.3863131536308735,1.3863131536308735,1.3863131536308735,1.3863131536308735,1.3863131536308735,1.3848166799234056,1.3833202062159375,1.3818237325084695,1.3803272588010016,1.6511024745912506,1.6496060008837825,1.6481095271763146,1.6466130534688466,1.6451165797613787,1.645766224775372,1.6673954645382234,1.6654173983650022,1.6634393321917809,1.6614612660185595,2.91908373866226,2.9215455258581535,2.9260956996152583,3.1857813526001197,3.1820072026874677,3.353099008886783,3.3561330848489037,3.317311811370155,3.3009467310534344,3.5789827924550797,2.4186381446559095,2.4133882229000374,2.4029120794663434,2.16061192409153,1.8758881183204734,2.102205849375708],\"yaxis\":\"y\"},{\"fillcolor\":\"red\",\"line\":{\"color\":\"red\",\"width\":0},\"mode\":\"lines\",\"name\":\"Great Britain\",\"showlegend\":true,\"stackgroup\":\"one\",\"type\":\"scatter\",\"x\":[2015,2016,2017,2018,2019,2020,2021,2022,2023,2024,2025,2026,2027,2028,2029,2030,2031,2032,2033,2034,2035,2036,2037,2038,2039,2040,2041,2042,2043,2044,2045,2046,2047,2048,2049,2050],\"xaxis\":\"x\",\"y\":[0.5328954337899543,0.5328954337899543,0.5328954337899543,0.5328954337899543,0.5328954337899543,0.5328954337899543,0.5328954337899543,0.5328954337899543,0.5328954337899543,0.5328954337899543,0.5328954337899543,0.5328954337899543,0.5328954337899543,0.5328954337899543,0.5328954337899543,0.6029282739079032,0.6409577190071143,0.65506802151853,0.6691783240299456,0.6832886265413611,0.7324185254758048,0.7468410360871736,0.7612631586792302,0.7756848939748877,0.8108225668961733,0.9599779045746362,0.9728143021216744,0.9649328512727887,0.976869819908793,0.9896995926264833,0.9967327041746722,1.0103271333857702,1.0209812978659958,1.031635462346221,1.2519511802832324,3.3132286251786858],\"yaxis\":\"y\"},{\"fillcolor\":\"blue\",\"line\":{\"color\":\"blue\",\"width\":0},\"mode\":\"lines\",\"name\":\"France\",\"showlegend\":false,\"stackgroup\":\"one\",\"type\":\"scatter\",\"x\":[2015,2016,2017,2018,2019,2020,2021,2022,2023,2024,2025,2026,2027,2028,2029,2030,2031,2032,2033,2034,2035,2036,2037,2038,2039,2040,2041,2042,2043,2044,2045,2046,2047,2048,2049,2050],\"xaxis\":\"x2\",\"y\":[1.1170831639416703,1.1170831639416703,1.1170831639416703,1.1170831639416703,1.1170831639416703,1.1170831639416703,1.114644466048019,1.1122057681543673,1.1097670702607159,1.1073283723670646,1.104889674473413,1.1024509765797612,1.3367702695536898,1.3343315716600384,1.3318928737663869,2.001049403328167,1.3787041548563745,2.052317810494171,2.109074545590513,2.4068798951981187,4.303629723255537,5.608510622393053,6.99268478673701,8.20243064057868,9.37025953869072,9.900887054960528,10.967556012327508,12.004932308982681,11.931068969454596,11.519908217483568,10.202871379585666,8.98582784069302,7.78704914198302,7.128783078776092,6.623700143291517,5.246467866714007],\"yaxis\":\"y2\"},{\"fillcolor\":\"black\",\"line\":{\"color\":\"black\",\"width\":0},\"mode\":\"lines\",\"name\":\"Germany\",\"showlegend\":false,\"stackgroup\":\"one\",\"type\":\"scatter\",\"x\":[2015,2016,2017,2018,2019,2020,2021,2022,2023,2024,2025,2026,2027,2028,2029,2030,2031,2032,2033,2034,2035,2036,2037,2038,2039,2040,2041,2042,2043,2044,2045,2046,2047,2048,2049,2050],\"xaxis\":\"x2\",\"y\":[2.82303148475475,2.82303148475475,2.82303148475475,2.82303148475475,2.82303148475475,2.82303148475475,2.8179323891589334,2.812833293563117,2.8077341979673,2.8026351023714833,2.807484792688191,2.8020974215870726,2.834845332480072,2.9774317056711896,3.120018078862308,3.87876354677547,3.90642667219223,4.810793805000719,5.970074927393148,7.233807301895924,8.54558231992944,9.768527816825724,9.935485365358797,11.158787668323468,12.363825131105482,13.81849450390574,15.254899036523348,15.573660220632389,15.621164630666868,15.473718353301127,16.02810213010393,17.188440266672416,19.265652871627378,20.36516009716894,21.44640248252786,23.79842112359454],\"yaxis\":\"y2\"},{\"fillcolor\":\"green\",\"line\":{\"color\":\"green\",\"width\":0},\"mode\":\"lines\",\"name\":\"Italy\",\"showlegend\":false,\"stackgroup\":\"one\",\"type\":\"scatter\",\"x\":[2015,2016,2017,2018,2019,2020,2021,2022,2023,2024,2025,2026,2027,2028,2029,2030,2031,2032,2033,2034,2035,2036,2037,2038,2039,2040,2041,2042,2043,2044,2045,2046,2047,2048,2049,2050],\"xaxis\":\"x2\",\"y\":[2.0644711076741786,2.0644711076741786,2.0644711076741786,2.0644711076741786,2.0644711076741786,2.0644711076741786,2.0639833680954487,2.0634956285167183,2.0630078889379875,2.0625201493592575,2.062032409780527,2.061544670201797,2.061056930623067,2.0605691910443364,2.184394665207943,2.606310978611016,2.6051490095802308,2.603987040549446,2.602825071518661,2.6649993603525357,2.753107855593037,2.7536106464234473,2.757195380939317,2.755786712178649,2.7554839819851256,2.9045803224335343,2.982970249867724,2.979151838711986,2.9712926414593843,2.9633656077327517,2.915165277551488,3.666555351505702,4.033469274377354,4.021511978625082,4.999916334786302,5.094738419919872],\"yaxis\":\"y2\"},{\"fillcolor\":\"yellow\",\"line\":{\"color\":\"yellow\",\"width\":0},\"mode\":\"lines\",\"name\":\"Belgium\",\"showlegend\":false,\"stackgroup\":\"one\",\"type\":\"scatter\",\"x\":[2015,2016,2017,2018,2019,2020,2021,2022,2023,2024,2025,2026,2027,2028,2029,2030,2031,2032,2033,2034,2035,2036,2037,2038,2039,2040,2041,2042,2043,2044,2045,2046,2047,2048,2049,2050],\"xaxis\":\"x2\",\"y\":[0.5450211371335985,0.5450211371335985,0.5450211371335985,0.5450211371335985,0.5450211371335985,0.5450211371335985,0.5429704139048461,0.5409196906760936,0.5388689674473413,0.5368182442185888,0.5349693046346824,0.5329185814059301,0.5308678581771776,0.5288171349484252,0.5315015715370246,0.8440142138369535,0.839636871102498,0.8352595283680425,0.8492179443305602,0.8453798886166038,2.108513591684728,3.5274161524426413,4.756562593501288,5.9356961092936995,7.030428476818372,7.065637179499975,7.680399058966335,9.635895794809105,9.573032209792679,9.51123069086355,8.280740343105169,7.171420651349347,5.96248223813234,5.186276011503425,5.179396928370969,4.407971767953868],\"yaxis\":\"y2\"},{\"fillcolor\":\"orange\",\"line\":{\"color\":\"orange\",\"width\":0},\"mode\":\"lines\",\"name\":\"Spain\",\"showlegend\":false,\"stackgroup\":\"one\",\"type\":\"scatter\",\"x\":[2015,2016,2017,2018,2019,2020,2021,2022,2023,2024,2025,2026,2027,2028,2029,2030,2031,2032,2033,2034,2035,2036,2037,2038,2039,2040,2041,2042,2043,2044,2045,2046,2047,2048,2049,2050],\"xaxis\":\"x2\",\"y\":[1.3863131536308735,1.3863131536308735,1.3863131536308735,1.3863131536308735,1.3863131536308735,1.3863131536308735,1.3848166799234056,1.3833202062159375,1.3818237325084695,1.3803272588010016,1.6511024745912506,1.6496060008837825,1.6481095271763146,1.6466130534688466,1.6451165797613787,1.9295829833013423,1.9276647006186478,1.9257464179359536,1.9655049921276944,1.9648124993530713,3.2015715969326433,4.430667828426195,5.753341377584173,6.967173252276458,7.321582763584214,7.458824282118009,7.424750948654278,7.379778447162327,7.334805945670373,7.289833444178424,6.085066655357006,5.4968445905390215,4.321727492032906,3.259048783579872,3.350924827295672,3.3377666405732183],\"yaxis\":\"y2\"},{\"fillcolor\":\"red\",\"line\":{\"color\":\"red\",\"width\":0},\"mode\":\"lines\",\"name\":\"Great Britain\",\"showlegend\":false,\"stackgroup\":\"one\",\"type\":\"scatter\",\"x\":[2015,2016,2017,2018,2019,2020,2021,2022,2023,2024,2025,2026,2027,2028,2029,2030,2031,2032,2033,2034,2035,2036,2037,2038,2039,2040,2041,2042,2043,2044,2045,2046,2047,2048,2049,2050],\"xaxis\":\"x2\",\"y\":[0.5328954337899543,0.5328954337899543,0.5328954337899543,0.5328954337899543,0.5328954337899543,0.5328954337899543,0.5328954337899543,0.5328954337899543,0.5328954337899543,0.5328954337899543,0.5328954337899543,0.5328954337899543,0.5328954337899543,0.5328954337899543,0.6627931697108066,1.1134344816008594,1.1075753933879486,1.1009693716984512,1.1152761649436411,1.1207673808015048,1.1368872272538997,1.1601424241616263,1.2485971572609775,1.2630188925566348,1.290162403088612,1.439309277546883,1.452137211855244,1.4503764427556847,1.4583688911558956,1.474666461880957,1.6550535319251949,2.420059982603271,2.7268267471586976,2.729045719248931,3.4784862298574746,5.619411163421511],\"yaxis\":\"y2\"},{\"fillcolor\":\"blue\",\"line\":{\"color\":\"blue\",\"width\":0},\"mode\":\"lines\",\"name\":\"France\",\"showlegend\":false,\"stackgroup\":\"one\",\"type\":\"scatter\",\"x\":[2015,2016,2017,2018,2019,2020,2021,2022,2023,2024,2025,2026,2027,2028,2029,2030,2031,2032,2033,2034,2035,2036,2037,2038,2039,2040,2041,2042,2043,2044,2045,2046,2047,2048,2049,2050],\"xaxis\":\"x3\",\"y\":[1.1170831639416703,1.1170831639416703,1.1170831639416703,1.1170831639416703,1.1170831639416703,1.1170831639416703,1.114644466048019,1.1122057681543673,1.1097670702607159,1.1073283723670646,1.104889674473413,1.1024509765797612,1.3367702695536898,1.3343315716600384,1.3318928737663869,1.9828262982091125,1.375002100061854,2.0486157556996503,2.1056149072386345,2.430654555691384,4.3274115136441775,5.644817288832549,7.028991453176497,8.260635403454033,9.316086045171946,9.85379334328152,10.921023669329365,11.960519481437107,11.888101964001628,11.331847587662551,10.067858993498332,8.767988089221681,7.651788074672491,7.843695320113771,7.853958820607456,9.441142064936903],\"yaxis\":\"y3\"},{\"fillcolor\":\"black\",\"line\":{\"color\":\"black\",\"width\":0},\"mode\":\"lines\",\"name\":\"Germany\",\"showlegend\":false,\"stackgroup\":\"one\",\"type\":\"scatter\",\"x\":[2015,2016,2017,2018,2019,2020,2021,2022,2023,2024,2025,2026,2027,2028,2029,2030,2031,2032,2033,2034,2035,2036,2037,2038,2039,2040,2041,2042,2043,2044,2045,2046,2047,2048,2049,2050],\"xaxis\":\"x3\",\"y\":[2.82303148475475,2.82303148475475,2.82303148475475,2.82303148475475,2.82303148475475,2.82303148475475,2.8179323891589334,2.812833293563117,2.8077341979673,2.8026351023714833,2.8074847926881916,2.8020974215870726,2.8642089806885,3.006795353879618,3.1493817270707365,3.872352337933174,3.959830568548155,4.864197701356643,6.023478823749072,7.243446724405636,8.540512329562763,9.763457826459039,9.989142671408974,11.21244497437364,12.438449112510675,13.893118485310932,15.32952301792854,15.647989786453653,15.66998079929962,16.173081467914493,17.266155155711786,18.45398894700776,20.63813661691922,21.801379219810496,22.942242827267986,25.171161453079847],\"yaxis\":\"y3\"},{\"fillcolor\":\"green\",\"line\":{\"color\":\"green\",\"width\":0},\"mode\":\"lines\",\"name\":\"Italy\",\"showlegend\":false,\"stackgroup\":\"one\",\"type\":\"scatter\",\"x\":[2015,2016,2017,2018,2019,2020,2021,2022,2023,2024,2025,2026,2027,2028,2029,2030,2031,2032,2033,2034,2035,2036,2037,2038,2039,2040,2041,2042,2043,2044,2045,2046,2047,2048,2049,2050],\"xaxis\":\"x3\",\"y\":[2.0644711076741786,2.0644711076741786,2.0644711076741786,2.0644711076741786,2.0644711076741786,2.0644711076741786,2.0639833680954487,2.0634956285167183,2.0630078889379875,2.0625201493592575,2.062032409780527,2.061544670201797,2.061056930623067,2.0605691910443364,2.1843946652079436,2.606310978611016,2.6051490095802308,2.603987040549446,2.602825071518661,2.6651920289594253,2.7533060290172675,2.7538088198476762,2.7573004580299005,2.7564906141172973,2.7304236918047122,2.9047784958577636,2.9829381821222696,2.9791197709665305,2.9712605737139306,2.963333539987297,2.9089796369965044,3.662719523827414,4.033469274377355,4.021511978625082,4.999916334786301,5.094738419919871],\"yaxis\":\"y3\"},{\"fillcolor\":\"yellow\",\"line\":{\"color\":\"yellow\",\"width\":0},\"mode\":\"lines\",\"name\":\"Belgium\",\"showlegend\":false,\"stackgroup\":\"one\",\"type\":\"scatter\",\"x\":[2015,2016,2017,2018,2019,2020,2021,2022,2023,2024,2025,2026,2027,2028,2029,2030,2031,2032,2033,2034,2035,2036,2037,2038,2039,2040,2041,2042,2043,2044,2045,2046,2047,2048,2049,2050],\"xaxis\":\"x3\",\"y\":[0.5450211371335985,0.5450211371335985,0.5450211371335985,0.5450211371335985,0.5450211371335985,0.5450211371335985,0.5429704139048461,0.5409196906760936,0.5388689674473413,0.5368182442185888,0.5349693046346824,0.5329185814059301,0.5308678581771776,0.5288171349484252,0.5505190638319318,0.8799597007098734,0.8778862333413712,0.8735088906069156,0.8874558659629115,0.9195270628016236,2.175278237600499,3.8613523331560557,5.2415799398818805,6.449068874495125,7.632634826857021,7.673481569916071,7.732014957437075,9.72380947304147,9.655393753081599,9.550617442570141,8.471979378622041,7.246974919934911,5.992937564180618,5.465966104348252,5.9718875128933515,7.152311232486473],\"yaxis\":\"y3\"},{\"fillcolor\":\"orange\",\"line\":{\"color\":\"orange\",\"width\":0},\"mode\":\"lines\",\"name\":\"Spain\",\"showlegend\":false,\"stackgroup\":\"one\",\"type\":\"scatter\",\"x\":[2015,2016,2017,2018,2019,2020,2021,2022,2023,2024,2025,2026,2027,2028,2029,2030,2031,2032,2033,2034,2035,2036,2037,2038,2039,2040,2041,2042,2043,2044,2045,2046,2047,2048,2049,2050],\"xaxis\":\"x3\",\"y\":[1.3863131536308735,1.3863131536308735,1.3863131536308735,1.3863131536308735,1.3863131536308735,1.3863131536308735,1.3848166799234056,1.3833202062159375,1.3818237325084695,1.3803272588010016,1.6511024745912506,1.6496060008837825,1.6481095271763146,1.6466130534688466,1.6451165797613787,1.9295829833013425,1.9276647006186476,1.9257464179359536,1.9656987596352833,1.9650119659050012,3.2017767625289117,4.430872994022459,5.711102949413892,6.986812402373533,7.341221913681294,7.478463432215094,7.4441517339602825,7.399179232468331,7.354206730976379,7.309234229484428,6.100112828471344,5.456768665810948,4.282281354085433,3.2200046444904626,3.266655816674116,3.25430162766779],\"yaxis\":\"y3\"},{\"fillcolor\":\"red\",\"line\":{\"color\":\"red\",\"width\":0},\"mode\":\"lines\",\"name\":\"Great Britain\",\"showlegend\":false,\"stackgroup\":\"one\",\"type\":\"scatter\",\"x\":[2015,2016,2017,2018,2019,2020,2021,2022,2023,2024,2025,2026,2027,2028,2029,2030,2031,2032,2033,2034,2035,2036,2037,2038,2039,2040,2041,2042,2043,2044,2045,2046,2047,2048,2049,2050],\"xaxis\":\"x3\",\"y\":[0.5328954337899543,0.5328954337899543,0.5328954337899543,0.5328954337899543,0.5328954337899543,0.5328954337899543,0.5328954337899543,0.5328954337899543,0.5328954337899543,0.5328954337899543,0.5328954337899543,0.5328954337899543,0.5328954337899543,0.5328954337899543,0.6642274414449965,1.112109677410541,1.110183914594007,1.1035778929045095,1.1095873612233687,1.1234508642700134,1.1188565283004244,1.159959505940681,1.251282782508415,1.2657045178040733,1.292848028336049,1.4419053220407785,1.4547332563491389,1.4529724872495802,1.458356414443733,1.4746539851687943,1.6679704470666294,2.434295733494429,2.742470682289918,2.7445767936535264,3.706100248569984,5.6194111634215105],\"yaxis\":\"y3\"}],                        {\"annotations\":[{\"font\":{\"size\":24},\"showarrow\":false,\"text\":\"High electricity price\",\"x\":0.14444444444444446,\"xanchor\":\"center\",\"xref\":\"paper\",\"y\":1.0,\"yanchor\":\"bottom\",\"yref\":\"paper\"},{\"font\":{\"size\":24},\"showarrow\":false,\"text\":\"Reference\",\"x\":0.5,\"xanchor\":\"center\",\"xref\":\"paper\",\"y\":1.0,\"yanchor\":\"bottom\",\"yref\":\"paper\"},{\"font\":{\"size\":24},\"showarrow\":false,\"text\":\"Fossil phase-out\",\"x\":0.8555555555555556,\"xanchor\":\"center\",\"xref\":\"paper\",\"y\":1.0,\"yanchor\":\"bottom\",\"yref\":\"paper\"}],\"font\":{\"family\":\"Times New Roman\",\"size\":24},\"legend\":{\"font\":{\"size\":16},\"orientation\":\"h\",\"x\":0.8,\"xanchor\":\"right\",\"y\":1.1,\"yanchor\":\"bottom\"},\"template\":{\"data\":{\"bar\":[{\"error_x\":{\"color\":\"#2a3f5f\"},\"error_y\":{\"color\":\"#2a3f5f\"},\"marker\":{\"line\":{\"color\":\"#E5ECF6\",\"width\":0.5},\"pattern\":{\"fillmode\":\"overlay\",\"size\":10,\"solidity\":0.2}},\"type\":\"bar\"}],\"barpolar\":[{\"marker\":{\"line\":{\"color\":\"#E5ECF6\",\"width\":0.5},\"pattern\":{\"fillmode\":\"overlay\",\"size\":10,\"solidity\":0.2}},\"type\":\"barpolar\"}],\"carpet\":[{\"aaxis\":{\"endlinecolor\":\"#2a3f5f\",\"gridcolor\":\"white\",\"linecolor\":\"white\",\"minorgridcolor\":\"white\",\"startlinecolor\":\"#2a3f5f\"},\"baxis\":{\"endlinecolor\":\"#2a3f5f\",\"gridcolor\":\"white\",\"linecolor\":\"white\",\"minorgridcolor\":\"white\",\"startlinecolor\":\"#2a3f5f\"},\"type\":\"carpet\"}],\"choropleth\":[{\"colorbar\":{\"outlinewidth\":0,\"ticks\":\"\"},\"type\":\"choropleth\"}],\"contour\":[{\"colorbar\":{\"outlinewidth\":0,\"ticks\":\"\"},\"colorscale\":[[0.0,\"#0d0887\"],[0.1111111111111111,\"#46039f\"],[0.2222222222222222,\"#7201a8\"],[0.3333333333333333,\"#9c179e\"],[0.4444444444444444,\"#bd3786\"],[0.5555555555555556,\"#d8576b\"],[0.6666666666666666,\"#ed7953\"],[0.7777777777777778,\"#fb9f3a\"],[0.8888888888888888,\"#fdca26\"],[1.0,\"#f0f921\"]],\"type\":\"contour\"}],\"contourcarpet\":[{\"colorbar\":{\"outlinewidth\":0,\"ticks\":\"\"},\"type\":\"contourcarpet\"}],\"heatmap\":[{\"colorbar\":{\"outlinewidth\":0,\"ticks\":\"\"},\"colorscale\":[[0.0,\"#0d0887\"],[0.1111111111111111,\"#46039f\"],[0.2222222222222222,\"#7201a8\"],[0.3333333333333333,\"#9c179e\"],[0.4444444444444444,\"#bd3786\"],[0.5555555555555556,\"#d8576b\"],[0.6666666666666666,\"#ed7953\"],[0.7777777777777778,\"#fb9f3a\"],[0.8888888888888888,\"#fdca26\"],[1.0,\"#f0f921\"]],\"type\":\"heatmap\"}],\"heatmapgl\":[{\"colorbar\":{\"outlinewidth\":0,\"ticks\":\"\"},\"colorscale\":[[0.0,\"#0d0887\"],[0.1111111111111111,\"#46039f\"],[0.2222222222222222,\"#7201a8\"],[0.3333333333333333,\"#9c179e\"],[0.4444444444444444,\"#bd3786\"],[0.5555555555555556,\"#d8576b\"],[0.6666666666666666,\"#ed7953\"],[0.7777777777777778,\"#fb9f3a\"],[0.8888888888888888,\"#fdca26\"],[1.0,\"#f0f921\"]],\"type\":\"heatmapgl\"}],\"histogram\":[{\"marker\":{\"pattern\":{\"fillmode\":\"overlay\",\"size\":10,\"solidity\":0.2}},\"type\":\"histogram\"}],\"histogram2d\":[{\"colorbar\":{\"outlinewidth\":0,\"ticks\":\"\"},\"colorscale\":[[0.0,\"#0d0887\"],[0.1111111111111111,\"#46039f\"],[0.2222222222222222,\"#7201a8\"],[0.3333333333333333,\"#9c179e\"],[0.4444444444444444,\"#bd3786\"],[0.5555555555555556,\"#d8576b\"],[0.6666666666666666,\"#ed7953\"],[0.7777777777777778,\"#fb9f3a\"],[0.8888888888888888,\"#fdca26\"],[1.0,\"#f0f921\"]],\"type\":\"histogram2d\"}],\"histogram2dcontour\":[{\"colorbar\":{\"outlinewidth\":0,\"ticks\":\"\"},\"colorscale\":[[0.0,\"#0d0887\"],[0.1111111111111111,\"#46039f\"],[0.2222222222222222,\"#7201a8\"],[0.3333333333333333,\"#9c179e\"],[0.4444444444444444,\"#bd3786\"],[0.5555555555555556,\"#d8576b\"],[0.6666666666666666,\"#ed7953\"],[0.7777777777777778,\"#fb9f3a\"],[0.8888888888888888,\"#fdca26\"],[1.0,\"#f0f921\"]],\"type\":\"histogram2dcontour\"}],\"mesh3d\":[{\"colorbar\":{\"outlinewidth\":0,\"ticks\":\"\"},\"type\":\"mesh3d\"}],\"parcoords\":[{\"line\":{\"colorbar\":{\"outlinewidth\":0,\"ticks\":\"\"}},\"type\":\"parcoords\"}],\"pie\":[{\"automargin\":true,\"type\":\"pie\"}],\"scatter\":[{\"marker\":{\"colorbar\":{\"outlinewidth\":0,\"ticks\":\"\"}},\"type\":\"scatter\"}],\"scatter3d\":[{\"line\":{\"colorbar\":{\"outlinewidth\":0,\"ticks\":\"\"}},\"marker\":{\"colorbar\":{\"outlinewidth\":0,\"ticks\":\"\"}},\"type\":\"scatter3d\"}],\"scattercarpet\":[{\"marker\":{\"colorbar\":{\"outlinewidth\":0,\"ticks\":\"\"}},\"type\":\"scattercarpet\"}],\"scattergeo\":[{\"marker\":{\"colorbar\":{\"outlinewidth\":0,\"ticks\":\"\"}},\"type\":\"scattergeo\"}],\"scattergl\":[{\"marker\":{\"colorbar\":{\"outlinewidth\":0,\"ticks\":\"\"}},\"type\":\"scattergl\"}],\"scattermapbox\":[{\"marker\":{\"colorbar\":{\"outlinewidth\":0,\"ticks\":\"\"}},\"type\":\"scattermapbox\"}],\"scatterpolar\":[{\"marker\":{\"colorbar\":{\"outlinewidth\":0,\"ticks\":\"\"}},\"type\":\"scatterpolar\"}],\"scatterpolargl\":[{\"marker\":{\"colorbar\":{\"outlinewidth\":0,\"ticks\":\"\"}},\"type\":\"scatterpolargl\"}],\"scatterternary\":[{\"marker\":{\"colorbar\":{\"outlinewidth\":0,\"ticks\":\"\"}},\"type\":\"scatterternary\"}],\"surface\":[{\"colorbar\":{\"outlinewidth\":0,\"ticks\":\"\"},\"colorscale\":[[0.0,\"#0d0887\"],[0.1111111111111111,\"#46039f\"],[0.2222222222222222,\"#7201a8\"],[0.3333333333333333,\"#9c179e\"],[0.4444444444444444,\"#bd3786\"],[0.5555555555555556,\"#d8576b\"],[0.6666666666666666,\"#ed7953\"],[0.7777777777777778,\"#fb9f3a\"],[0.8888888888888888,\"#fdca26\"],[1.0,\"#f0f921\"]],\"type\":\"surface\"}],\"table\":[{\"cells\":{\"fill\":{\"color\":\"#EBF0F8\"},\"line\":{\"color\":\"white\"}},\"header\":{\"fill\":{\"color\":\"#C8D4E3\"},\"line\":{\"color\":\"white\"}},\"type\":\"table\"}]},\"layout\":{\"annotationdefaults\":{\"arrowcolor\":\"#2a3f5f\",\"arrowhead\":0,\"arrowwidth\":1},\"autotypenumbers\":\"strict\",\"coloraxis\":{\"colorbar\":{\"outlinewidth\":0,\"ticks\":\"\"}},\"colorscale\":{\"diverging\":[[0,\"#8e0152\"],[0.1,\"#c51b7d\"],[0.2,\"#de77ae\"],[0.3,\"#f1b6da\"],[0.4,\"#fde0ef\"],[0.5,\"#f7f7f7\"],[0.6,\"#e6f5d0\"],[0.7,\"#b8e186\"],[0.8,\"#7fbc41\"],[0.9,\"#4d9221\"],[1,\"#276419\"]],\"sequential\":[[0.0,\"#0d0887\"],[0.1111111111111111,\"#46039f\"],[0.2222222222222222,\"#7201a8\"],[0.3333333333333333,\"#9c179e\"],[0.4444444444444444,\"#bd3786\"],[0.5555555555555556,\"#d8576b\"],[0.6666666666666666,\"#ed7953\"],[0.7777777777777778,\"#fb9f3a\"],[0.8888888888888888,\"#fdca26\"],[1.0,\"#f0f921\"]],\"sequentialminus\":[[0.0,\"#0d0887\"],[0.1111111111111111,\"#46039f\"],[0.2222222222222222,\"#7201a8\"],[0.3333333333333333,\"#9c179e\"],[0.4444444444444444,\"#bd3786\"],[0.5555555555555556,\"#d8576b\"],[0.6666666666666666,\"#ed7953\"],[0.7777777777777778,\"#fb9f3a\"],[0.8888888888888888,\"#fdca26\"],[1.0,\"#f0f921\"]]},\"colorway\":[\"#636efa\",\"#EF553B\",\"#00cc96\",\"#ab63fa\",\"#FFA15A\",\"#19d3f3\",\"#FF6692\",\"#B6E880\",\"#FF97FF\",\"#FECB52\"],\"font\":{\"color\":\"#2a3f5f\"},\"geo\":{\"bgcolor\":\"white\",\"lakecolor\":\"white\",\"landcolor\":\"#E5ECF6\",\"showlakes\":true,\"showland\":true,\"subunitcolor\":\"white\"},\"hoverlabel\":{\"align\":\"left\"},\"hovermode\":\"closest\",\"mapbox\":{\"style\":\"light\"},\"paper_bgcolor\":\"white\",\"plot_bgcolor\":\"#E5ECF6\",\"polar\":{\"angularaxis\":{\"gridcolor\":\"white\",\"linecolor\":\"white\",\"ticks\":\"\"},\"bgcolor\":\"#E5ECF6\",\"radialaxis\":{\"gridcolor\":\"white\",\"linecolor\":\"white\",\"ticks\":\"\"}},\"scene\":{\"xaxis\":{\"backgroundcolor\":\"#E5ECF6\",\"gridcolor\":\"white\",\"gridwidth\":2,\"linecolor\":\"white\",\"showbackground\":true,\"ticks\":\"\",\"zerolinecolor\":\"white\"},\"yaxis\":{\"backgroundcolor\":\"#E5ECF6\",\"gridcolor\":\"white\",\"gridwidth\":2,\"linecolor\":\"white\",\"showbackground\":true,\"ticks\":\"\",\"zerolinecolor\":\"white\"},\"zaxis\":{\"backgroundcolor\":\"#E5ECF6\",\"gridcolor\":\"white\",\"gridwidth\":2,\"linecolor\":\"white\",\"showbackground\":true,\"ticks\":\"\",\"zerolinecolor\":\"white\"}},\"shapedefaults\":{\"line\":{\"color\":\"#2a3f5f\"}},\"ternary\":{\"aaxis\":{\"gridcolor\":\"white\",\"linecolor\":\"white\",\"ticks\":\"\"},\"baxis\":{\"gridcolor\":\"white\",\"linecolor\":\"white\",\"ticks\":\"\"},\"bgcolor\":\"#E5ECF6\",\"caxis\":{\"gridcolor\":\"white\",\"linecolor\":\"white\",\"ticks\":\"\"}},\"title\":{\"x\":0.05},\"xaxis\":{\"automargin\":true,\"gridcolor\":\"white\",\"linecolor\":\"white\",\"ticks\":\"\",\"title\":{\"standoff\":15},\"zerolinecolor\":\"white\",\"zerolinewidth\":2},\"yaxis\":{\"automargin\":true,\"gridcolor\":\"white\",\"linecolor\":\"white\",\"ticks\":\"\",\"title\":{\"standoff\":15},\"zerolinecolor\":\"white\",\"zerolinewidth\":2}}},\"xaxis\":{\"anchor\":\"y\",\"domain\":[0.0,0.2888888888888889]},\"xaxis2\":{\"anchor\":\"y2\",\"domain\":[0.35555555555555557,0.6444444444444445]},\"xaxis3\":{\"anchor\":\"y3\",\"domain\":[0.7111111111111111,1.0]},\"yaxis\":{\"anchor\":\"x\",\"domain\":[0.0,1.0],\"title\":{\"text\":\"Power requirement (GW)\"}},\"yaxis2\":{\"anchor\":\"x2\",\"domain\":[0.0,1.0],\"matches\":\"y\",\"showticklabels\":false},\"yaxis3\":{\"anchor\":\"x3\",\"domain\":[0.0,1.0],\"matches\":\"y\",\"showticklabels\":false}},                        {\"responsive\": true}                    ).then(function(){\n",
       "                            \n",
       "var gd = document.getElementById('cc187d98-a9a6-410c-b5de-de6cc137aec0');\n",
       "var x = new MutationObserver(function (mutations, observer) {{\n",
       "        var display = window.getComputedStyle(gd).display;\n",
       "        if (!display || display === 'none') {{\n",
       "            console.log([gd, 'removed!']);\n",
       "            Plotly.purge(gd);\n",
       "            observer.disconnect();\n",
       "        }}\n",
       "}});\n",
       "\n",
       "// Listen for the removal of the full notebook cells\n",
       "var notebookContainer = gd.closest('#notebook-container');\n",
       "if (notebookContainer) {{\n",
       "    x.observe(notebookContainer, {childList: true});\n",
       "}}\n",
       "\n",
       "// Listen for the clearing of the current output cell\n",
       "var outputEl = gd.closest('.output');\n",
       "if (outputEl) {{\n",
       "    x.observe(outputEl, {childList: true});\n",
       "}}\n",
       "\n",
       "                        })                };                });            </script>        </div>"
      ]
     },
     "metadata": {},
     "output_type": "display_data"
    }
   ],
   "source": [
    "country_colors={\"France\":\"blue\",\"Germany\":\"black\",\"Italy\":\"green\",\"Belgium\":\"yellow\",\"Spain\":\"orange\",\"Great Britain\":\"red\"}\n",
    "elec_power_conv={\"Electricity\":1,\"Electricity_50%_LF\":2,\"Electricity_25%_LF\":4}\n",
    "\n",
    "\n",
    "fig =make_subplots(rows=1, cols=3,subplot_titles=list(scen.keys()),shared_yaxes=True)\n",
    "for i in range(len(scen.keys())):\n",
    "    \n",
    "    showlegend=[True,False,False]\n",
    "    consum=scen[list(scen.keys())[i]]['elec_consum_fc']\n",
    "    consum=consum.drop(\"Sector\",axis=1).groupby(by=[\"Resource\",\"Country\",\"Year\"]).sum().reset_index()\n",
    "    for resource in [\"Electricity\",\"Electricity_50%_LF\",\"Electricity_25%_LF\"]:\n",
    "        consum.loc[consum.Resource==resource,\"Flow\"]=elec_power_conv[resource]*consum.loc[consum.Resource==resource,\"Flow\"]*1e-6/8.76\n",
    "    consum=consum.drop(\"Resource\",axis=1).groupby(by=[\"Country\",\"Year\"]).sum().reset_index() \n",
    "    for country in country_colors.keys():\n",
    "        fig.add_trace(go.Scatter(x=consum[(consum.Country==country)].Year,\n",
    "                                 y=consum[(consum.Country==country)].Flow,\n",
    "                                 name=country,\n",
    "                                 line=dict(width=0,color=country_colors[country]),\n",
    "                                     fillcolor=country_colors[country],mode='lines',stackgroup='one',showlegend=showlegend[i]),row=1, col=i+1)\n",
    "fig.update_layout(#title='ammonia production per technology in EU-5+1', title_x=0.5,\n",
    "#                    xaxis_title='Year',\n",
    "                   yaxis_title='Power requirement (GW)')\n",
    "fig.update_layout(\n",
    "    font=dict(\n",
    "        family=\"Times New Roman\",size=24)\n",
    "    )\n",
    "fig.update_annotations(font_size=24)\n",
    "fig.update_layout(legend=dict(\n",
    "    orientation=\"h\",\n",
    "    yanchor=\"bottom\",\n",
    "    y=1.1,\n",
    "    xanchor=\"right\",\n",
    "    x=0.8,font = dict(size=16)\n",
    "))\n",
    "fig.show()"
   ]
  }
 ],
 "metadata": {
  "kernelspec": {
   "display_name": "Python 3 (ipykernel)",
   "language": "python",
   "name": "python3"
  },
  "language_info": {
   "codemirror_mode": {
    "name": "ipython",
    "version": 3
   },
   "file_extension": ".py",
   "mimetype": "text/x-python",
   "name": "python",
   "nbconvert_exporter": "python",
   "pygments_lexer": "ipython3",
   "version": "3.10.2"
  }
 },
 "nbformat": 4,
 "nbformat_minor": 5
}
